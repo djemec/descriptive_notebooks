{
 "cells": [
  {
   "cell_type": "markdown",
   "id": "d2ea846f-d5a9-4f61-b3b1-fed90e2edde3",
   "metadata": {},
   "source": [
    "# RNN GRU Explainer\n",
    "\n",
    "The goal is to walk through RNNs (recurrent neural networks), there are 2 flavors: GRUs and LSTMs. We'll focus on Gated Recurrent Unit (GRUs). RNN's have a unique structure where they process data sequentially which enables them to take in both the current and a prior state, making them great for sequential data like time series or streamed data.  The core unit of the RNN takes in both the data you want to use to make a inference along with any previous context. While this is great there are a few dangers of the RNN: primarily that improper setup and training can lead to vanishing/exploding gradients and their sequential nature can consume a lot of resources. As you go through this notebook you can hopefully see why this would be the case. \n",
    "\n",
    "To help display how the RNN works, we'll use the first sentence from the [linear algebra wiki page](https://en.wikipedia.org/wiki/Linear_algebra) and [lu decomposition wiki page](https://en.wikipedia.org/wiki/LU_decomposition) as the topic is fitting and it shows us some non-standard patterns.  We'll take on a simpilar task to many other notebooks in this repository where we have a few sentences of text and want to predict some other text, in this case the next token. "
   ]
  },
  {
   "cell_type": "markdown",
   "id": "c08f8d05-f237-4a81-8f88-be839e4a9e51",
   "metadata": {},
   "source": [
    "## Text Prep/Tokenization"
   ]
  },
  {
   "cell_type": "markdown",
   "id": "8fb1237d-fd4f-43bc-ba02-88e82368b385",
   "metadata": {},
   "source": [
    "We'll start with common preprocessing step of tokenizing the data.  This converts the string text into an array of numbers that can be used during the training loop.  I've built a very subtle byte-pair encdoing that has each unique character that appears and the top 5 merges. This keeps our vocab size small and managable for this example. Typically the vocab size is in the 100K+ range. A great library for this is `tiktoken`. Tokenization simply finds the longest pattern of characters that's in common with what was trained and replaces it with an integer that represents it.  This way we turn the text into a numeric array to simplify computing. import torch\n",
    "from collections import Counter"
   ]
  },
  {
   "cell_type": "code",
   "execution_count": 1,
   "id": "baeedf57-4218-4b0e-be46-217723a9034a",
   "metadata": {},
   "outputs": [],
   "source": [
    "import torch\n",
    "from collections import Counter"
   ]
  },
  {
   "cell_type": "code",
   "execution_count": 2,
   "id": "ef2240c1-dd4e-4f8a-9fb1-acff3ff200c1",
   "metadata": {},
   "outputs": [],
   "source": [
    "class SimpleBPETokenizer:\n",
    "    def __init__(self, num_merges=5, eot_token='<|endoftext|>'):\n",
    "        self.num_merges = num_merges\n",
    "        self.eot_token = eot_token\n",
    "        self.eot_id = None\n",
    "        self.merges = []\n",
    "        self.pair_ranks = {}\n",
    "        self.vocab = {}\n",
    "        self.id_to_token = {}\n",
    "\n",
    "    def _add_token(self, tok):\n",
    "        if tok in self.vocab:\n",
    "            return self.vocab[tok]\n",
    "        i = len(self.vocab)\n",
    "        self.vocab[tok] = i\n",
    "        self.id_to_token[i] = tok\n",
    "        return i\n",
    "\n",
    "    def _get_bigrams(self, seq):\n",
    "        for i in range(len(seq) - 1):\n",
    "            yield (seq[i], seq[i + 1])\n",
    "\n",
    "    def _merge_once(self, seq, pair):\n",
    "        a, b = pair\n",
    "        out = []\n",
    "        i = 0\n",
    "        while i < len(seq):\n",
    "            if i < len(seq) - 1 and seq[i] == a and seq[i + 1] == b:\n",
    "                out.append(a + b)\n",
    "                i += 2\n",
    "            else:\n",
    "                out.append(seq[i])\n",
    "                i += 1\n",
    "        return out\n",
    "\n",
    "    def train(self, corpus):\n",
    "        # corpus: list[str]\n",
    "        text = ''.join(corpus).lower()\n",
    "        seq = list(text)\n",
    "        merges = []\n",
    "        for _ in range(self.num_merges):\n",
    "            counts = Counter(self._get_bigrams(seq))\n",
    "            if not counts: break\n",
    "            best_pair, _ = counts.most_common(1)[0]\n",
    "            merges.append(best_pair)\n",
    "            seq = self._merge_once(seq, best_pair)\n",
    "        self.merges = merges\n",
    "        self.pair_ranks = {p: i for i, p in enumerate(self.merges)}\n",
    "\n",
    "        self.vocab = {}\n",
    "        self.id_to_token = {}\n",
    "        for ch in sorted(set(text)):\n",
    "            self._add_token(ch)\n",
    "        for a, b in self.merges:\n",
    "            self._add_token(a + b)\n",
    "        self.eot_id = self._add_token(self.eot_token)\n",
    "\n",
    "    def encode(self, text, force_last_eot=True):\n",
    "        # treat literal eot marker as special; remove it from content\n",
    "        if self.eot_token in text:\n",
    "            text = text.replace(self.eot_token, '')\n",
    "        seq = list(text)\n",
    "\n",
    "        # make sure all seen base chars exist\n",
    "        for ch in set(seq):\n",
    "            if ch not in self.vocab:\n",
    "                self._add_token(ch)\n",
    "\n",
    "        # greedy BPE using learned pair ranks\n",
    "        if self.merges:\n",
    "            while True:\n",
    "                best_pair, best_rank = None, None\n",
    "                for p in self._get_bigrams(seq):\n",
    "                    r = self.pair_ranks.get(p)\n",
    "                    if r is not None and (best_rank is None or r < best_rank):\n",
    "                        best_pair, best_rank = p, r\n",
    "                if best_pair is None:\n",
    "                    break\n",
    "                seq = self._merge_once(seq, best_pair)\n",
    "\n",
    "        # ensure all tokens in seq exist in vocab (e.g., if new chars appeared)\n",
    "        for tok in seq:\n",
    "            if tok not in self.vocab:\n",
    "                self._add_token(tok)\n",
    "\n",
    "        ids = [self.vocab[tok] for tok in seq]\n",
    "\n",
    "        # FORCE: append EOT id if not already last\n",
    "        if force_last_eot:\n",
    "            if not ids or ids[-1] != self.eot_id:\n",
    "                ids.append(self.eot_id)\n",
    "\n",
    "        return ids\n",
    "\n",
    "    def decode(self, ids):\n",
    "        # drop trailing EOT if present\n",
    "        if ids and self.eot_id is not None and ids[-1] == self.eot_id:\n",
    "            ids = ids[:-1]\n",
    "        toks = [self.id_to_token[i] for i in ids]\n",
    "        return ''.join(toks)\n"
   ]
  },
  {
   "cell_type": "code",
   "execution_count": 3,
   "id": "b35d09cf-0ce1-47a0-a93f-8213bea8f711",
   "metadata": {},
   "outputs": [],
   "source": [
    "raw_example_1 = r'''Linear algebra is central to almost all areas of mathematics. For instance, linear algebra is fundamental in modern presentations of geometry, including for defining basic objects such as lines, planes and rotations. Also, functional analysis, a branch of mathematical analysis, may be viewed as the application of linear algebra to function spaces.'''\n",
    "raw_example_2 = r'''In numerical analysis and linear algebra, lower–upper (LU) decomposition or factorization factors a matrix as the product of a lower triangular matrix and an upper triangular matrix (see matrix multiplication and matrix decomposition).'''\n"
   ]
  },
  {
   "cell_type": "code",
   "execution_count": 4,
   "id": "7064c634-a608-4a62-93fe-c89219aa5dae",
   "metadata": {},
   "outputs": [
    {
     "data": {
      "text/plain": [
       "[(' ', 'a'), ('a', 't'), ('i', 'n'), (' ', 'm'), ('i', 'o')]"
      ]
     },
     "execution_count": 4,
     "metadata": {},
     "output_type": "execute_result"
    }
   ],
   "source": [
    "tok = SimpleBPETokenizer(num_merges=5)\n",
    "tok.train([raw_example_1,raw_example_2])\n",
    "tok.merges"
   ]
  },
  {
   "cell_type": "code",
   "execution_count": 5,
   "id": "133f8d70-16cd-4327-91a2-4e887612bcdf",
   "metadata": {},
   "outputs": [
    {
     "data": {
      "text/plain": [
       "{' ': 0,\n",
       " '(': 1,\n",
       " ')': 2,\n",
       " ',': 3,\n",
       " '.': 4,\n",
       " 'a': 5,\n",
       " 'b': 6,\n",
       " 'c': 7,\n",
       " 'd': 8,\n",
       " 'e': 9,\n",
       " 'f': 10,\n",
       " 'g': 11,\n",
       " 'h': 12,\n",
       " 'i': 13,\n",
       " 'j': 14,\n",
       " 'l': 15,\n",
       " 'm': 16,\n",
       " 'n': 17,\n",
       " 'o': 18,\n",
       " 'p': 19,\n",
       " 'r': 20,\n",
       " 's': 21,\n",
       " 't': 22,\n",
       " 'u': 23,\n",
       " 'v': 24,\n",
       " 'w': 25,\n",
       " 'x': 26,\n",
       " 'y': 27,\n",
       " 'z': 28,\n",
       " '–': 29,\n",
       " ' a': 30,\n",
       " 'at': 31,\n",
       " 'in': 32,\n",
       " ' m': 33,\n",
       " 'io': 34,\n",
       " '<|endoftext|>': 35}"
      ]
     },
     "execution_count": 5,
     "metadata": {},
     "output_type": "execute_result"
    }
   ],
   "source": [
    "tok.vocab"
   ]
  },
  {
   "cell_type": "code",
   "execution_count": 6,
   "id": "9804d527-b590-4bb5-8158-8cdcbc179719",
   "metadata": {},
   "outputs": [
    {
     "data": {
      "text/plain": [
       "36"
      ]
     },
     "execution_count": 6,
     "metadata": {},
     "output_type": "execute_result"
    }
   ],
   "source": [
    "vocab_size = len(tok.vocab)\n",
    "vocab_size"
   ]
  },
  {
   "cell_type": "code",
   "execution_count": 7,
   "id": "29443925-8749-4b7c-a500-4a3bdbf808d8",
   "metadata": {},
   "outputs": [
    {
     "data": {
      "text/plain": [
       "tensor([35, 15, 32,  9,  5, 20, 30, 15, 11,  9,  6, 20,  5,  0, 13, 21,  0,  7,\n",
       "         9, 17, 22, 20,  5, 15,  0, 22, 18, 30, 15, 16, 18, 21, 22, 30, 15, 15,\n",
       "        30, 20,  9,  5, 21,  0, 18, 10, 33, 31, 12,  9, 16, 31, 13,  7, 21,  4,\n",
       "         0, 10, 18, 20,  0, 32, 21, 22,  5, 17,  7,  9,  3,  0, 15, 32,  9,  5,\n",
       "        20, 30, 15, 11,  9,  6, 20,  5,  0, 13, 21,  0, 10, 23, 17,  8,  5, 16,\n",
       "         9, 17, 22,  5, 15,  0, 32, 33, 18,  8,  9, 20, 17,  0, 19, 20,  9, 21,\n",
       "         9, 17, 22, 31, 34, 17, 21,  0, 18, 10,  0, 11,  9, 18, 16,  9, 22, 20,\n",
       "        27,  3,  0, 32,  7, 15, 23,  8, 32, 11,  0, 10, 18, 20,  0,  8,  9, 10,\n",
       "        32, 32, 11,  0,  6,  5, 21, 13,  7,  0, 18,  6, 14,  9,  7, 22, 21,  0,\n",
       "        21, 23,  7, 12, 30, 21,  0, 15, 32,  9, 21,  3,  0, 19, 15,  5, 17,  9,\n",
       "        21, 30, 17,  8,  0, 20, 18, 22, 31, 34, 17, 21,  4, 30, 15, 21, 18,  3,\n",
       "         0, 10, 23, 17,  7, 22, 34, 17,  5, 15, 30, 17,  5, 15, 27, 21, 13, 21,\n",
       "         3, 30,  0,  6, 20,  5, 17,  7, 12,  0, 18, 10, 33, 31, 12,  9, 16, 31,\n",
       "        13,  7,  5, 15, 30, 17,  5, 15, 27, 21, 13, 21,  3, 33,  5, 27,  0,  6,\n",
       "         9,  0, 24, 13,  9, 25,  9,  8, 30, 21,  0, 22, 12,  9, 30, 19, 19, 15,\n",
       "        13,  7, 31, 34, 17,  0, 18, 10,  0, 15, 32,  9,  5, 20, 30, 15, 11,  9,\n",
       "         6, 20,  5,  0, 22, 18,  0, 10, 23, 17,  7, 22, 34, 17,  0, 21, 19,  5,\n",
       "         7,  9, 21,  4, 35, 35, 32,  0, 17, 23, 16,  9, 20, 13,  7,  5, 15, 30,\n",
       "        17,  5, 15, 27, 21, 13, 21, 30, 17,  8,  0, 15, 32,  9,  5, 20, 30, 15,\n",
       "        11,  9,  6, 20,  5,  3,  0, 15, 18, 25,  9, 20, 29, 23, 19, 19,  9, 20,\n",
       "         0,  1, 15, 23,  2,  0,  8,  9,  7, 18, 16, 19, 18, 21, 13, 22, 34, 17,\n",
       "         0, 18, 20,  0, 10,  5,  7, 22, 18, 20, 13, 28, 31, 34, 17,  0, 10,  5,\n",
       "         7, 22, 18, 20, 21, 30, 33, 31, 20, 13, 26, 30, 21,  0, 22, 12,  9,  0,\n",
       "        19, 20, 18,  8, 23,  7, 22,  0, 18, 10, 30,  0, 15, 18, 25,  9, 20,  0,\n",
       "        22, 20, 13,  5, 17, 11, 23, 15,  5, 20, 33, 31, 20, 13, 26, 30, 17,  8,\n",
       "        30, 17,  0, 23, 19, 19,  9, 20,  0, 22, 20, 13,  5, 17, 11, 23, 15,  5,\n",
       "        20, 33, 31, 20, 13, 26,  0,  1, 21,  9,  9, 33, 31, 20, 13, 26, 33, 23,\n",
       "        15, 22, 13, 19, 15, 13,  7, 31, 34, 17, 30, 17,  8, 33, 31, 20, 13, 26,\n",
       "         0,  8,  9,  7, 18, 16, 19, 18, 21, 13, 22, 34, 17,  2,  4, 35])"
      ]
     },
     "execution_count": 7,
     "metadata": {},
     "output_type": "execute_result"
    }
   ],
   "source": [
    "eot = tok.eot_id\n",
    "tokens = []\n",
    "for example in [raw_example_1, raw_example_2]:\n",
    "    tokens.extend([eot])\n",
    "    tokens.extend(tok.encode(example.lower()))\n",
    "all_tokens = torch.tensor(tokens, dtype=torch.long)\n",
    "all_tokens"
   ]
  },
  {
   "cell_type": "markdown",
   "id": "775f0cb1-fdac-400c-a80d-1a5da154434c",
   "metadata": {},
   "source": [
    "# Modeling"
   ]
  },
  {
   "cell_type": "markdown",
   "id": "30bd76b6-dfd5-4f08-a289-630af13649f0",
   "metadata": {},
   "source": [
    "A machine learning model forward pass now uses the tokenization information, runs several layers of linear algebra on it, and then \"predicts\" the next token. When it is noisy (like you will see in this example), this process results in gibberish.  The training process changes the noise to pattern during the \"backward pass\" as you'll see.    We'll show 3 steps that are focused on training:\n",
    "1. **Data Loading** `x, y = train_loader.next_batch()` - this step pulls from the raw data enough tokens to complete a forward and backward pass.  If the model is inference only, this step is replaced with taking in the inference input and preparing it similarly as the forward pass.\n",
    "2. **Forward Pass** `logits, loss = model(x, y)` - using the data and the model architecture to predict the next token. When training we also compare against the expected to get loss, but in infrerence, we use the logits to complete the inference task.\n",
    "3. **Back Propogation, aka Backward Pass & Training** `loss.backward(); optimizer.step()` - using differentials to understand what parameters most impact the forward pass' impact on its prediction, comparing that against what is actually right based on the data loading step, and then making very minor adjustments to the impactful parameters with the hope it improves future predictions.\n",
    "\n",
    "The we'll show a final **Forward Pass** with the updated weights we did in #3. "
   ]
  },
  {
   "cell_type": "markdown",
   "id": "6da8d4c4-ae00-465d-ae6f-ea6e1be858f0",
   "metadata": {},
   "source": [
    "## Data Loading"
   ]
  },
  {
   "cell_type": "markdown",
   "id": "209d7e34-19d0-4c9b-bc7c-b89c09052167",
   "metadata": {},
   "source": [
    "To start, we need to get enough data to run the forward and backward passes.  Since our total dataset is likely too big to hold all at once in real practice, we would read just enough file information into memory so that we can run the passes, leaving memory and compute to be used on the passes instead of static data holding. \n",
    "To start, we have to identify the batch size and the model context length to determine how much data we need.  Consequently, these dimensions also form 2 of the 3 dimensions in the initial matrix.\n",
    "- **Batch Size (B)** - This is the number of examples you'll train on in a single pass. \n",
    "- **Context Length (T)** - This is the max number of tokens that a model can use in a single pass to generat the next token. If an example is below this length, it can be padded.\n",
    "  \n",
    "*Ideally both B and T are multiples of 2 to work nicely with chip architecture. This is a common theme across the board*"
   ]
  },
  {
   "cell_type": "code",
   "execution_count": 8,
   "id": "1349878b-f4cd-4691-93fc-f8f2d76cb28a",
   "metadata": {},
   "outputs": [],
   "source": [
    "B = 2 # Batch\n",
    "T = 8 # context length"
   ]
  },
  {
   "cell_type": "markdown",
   "id": "96920d53-8372-4f67-a6c2-289dd385690c",
   "metadata": {},
   "source": [
    "To start, we need to pull from our long raw_token list enough tokens for the forward pass. To be able to satisfy training `B` Batches `T` Context length, we need to pull out `B*T` tokens to slide the context window across the examples enough to satisfy the batch size.  Since the training will attempt to predict the last token given the previous tokens in context, we also need 1 more token at the end so that the last training example in the last batch can have the next token to validate against. "
   ]
  },
  {
   "cell_type": "code",
   "execution_count": 9,
   "id": "0eda05fa-9c31-4618-ae8c-ed1317467795",
   "metadata": {},
   "outputs": [
    {
     "data": {
      "text/plain": [
       "tensor([35, 15, 32,  9,  5, 20, 30, 15, 11,  9,  6, 20,  5,  0, 13, 21,  0])"
      ]
     },
     "execution_count": 9,
     "metadata": {},
     "output_type": "execute_result"
    }
   ],
   "source": [
    "current_position = 0\n",
    "tok_for_training = all_tokens[current_position:current_position + B*T +1 ]\n",
    "tok_for_training"
   ]
  },
  {
   "cell_type": "markdown",
   "id": "665501c6-08d2-4e76-b672-a22d40d529f1",
   "metadata": {},
   "source": [
    "Now that we have our initial tokens to train on, we now need to convert it to a matrix that's ready for training. In this step we'll need to create our batches and setup two different arrays: 1/ the input, `x`, tokens that will result in 2/ the output `y` tokens. To create each example in the batch, every `T` tokens will be placed into it's own row. \n",
    "\n",
    "Recall that training takes in a string of tokens the length of the context and then predicts the next token. Recall that when we extracted `tok_for_training` we added 1 extra token so that we can evaluate the prediction for the last example. Because of this, the input, `x`, will be all of the tokens up to the second to last element `[:-1]`.  \n",
    "\n",
    "It might be natural to think the output `y` would then just be the last token.But this is actually wasting valuable training loops.  Yes, there is the example that fills the context `T`, but we also have enough tokens in `tok_for_training` where any context length of `n` where `n<T` can also be used for inference since we have the `n+1` token available.  You can think of the following example:\n",
    "\n",
    "sentence: `Hi I am learning`. This sentence contains the following \"next tokens\" that can be learned:\n",
    "1. x: Hi I am  | y: learning\n",
    "2. x: Hi I     | y: am\n",
    "3. x: Hi       | y: I\n",
    "\n",
    "Because we have this triangle to create, our `y` can be much larger.  We can start with the second token and, go all the way to the last element we added for the last example `[1:'`.   \n",
    "\n",
    "\n",
    "We will now put this together and do the following:\n",
    "1. Extract the input `x` and then split it into an example for each batch `B`\n",
    "2. Extract the output `y` and then split it into an example for each batch `B`\n",
    "\n",
    "*Note: View can take `-1` which allows the matrix to infer the dimension so we do not need to pass in `T`, but given how many matrices we'll work with we want to make sure we're controlling the dimensions or erroring out if they do not match our expectations.*"
   ]
  },
  {
   "cell_type": "code",
   "execution_count": 10,
   "id": "f36ec177-74d7-4cb9-b84d-75a10a6c6694",
   "metadata": {},
   "outputs": [
    {
     "data": {
      "text/plain": [
       "tensor([[35, 15, 32,  9,  5, 20, 30, 15],\n",
       "        [11,  9,  6, 20,  5,  0, 13, 21]])"
      ]
     },
     "execution_count": 10,
     "metadata": {},
     "output_type": "execute_result"
    }
   ],
   "source": [
    "x=tok_for_training[:-1].view(B, T)\n",
    "x"
   ]
  },
  {
   "cell_type": "code",
   "execution_count": 11,
   "id": "f8d87eb2-5bc8-44cb-80d4-806c3a3bf93d",
   "metadata": {},
   "outputs": [
    {
     "data": {
      "text/plain": [
       "tensor([[15, 32,  9,  5, 20, 30, 15, 11],\n",
       "        [ 9,  6, 20,  5,  0, 13, 21,  0]])"
      ]
     },
     "execution_count": 11,
     "metadata": {},
     "output_type": "execute_result"
    }
   ],
   "source": [
    "y=tok_for_training[1:].view(B, T)\n",
    "y"
   ]
  },
  {
   "cell_type": "markdown",
   "id": "2fd96f05-28c7-482a-bd47-d8226e65d235",
   "metadata": {},
   "source": [
    "## Forward pass"
   ]
  },
  {
   "cell_type": "markdown",
   "id": "9e57349b-3625-46e2-9da3-7a1fbccb43b2",
   "metadata": {},
   "source": [
    "<img src=\"explainer_screenshots/gru/full_network_gru.png\" width=\"200\">\n",
    "\n",
    "During training, the forward pass takes a string of tokens in and predicts the likelihood that each output token is the next \"n\" tokens.  This step as we'll look at it is focused on training where we'll pass in the input `x`, carry that input through the layers, and generate a matrix of the probability of each token being the next one, something we call `logits`. During the forward pass, since this is an RNN, we will actually pass each example through recursively based on the token length of available. For example, if we have 3 tokens in the example and we are deriving the 4th, we would hit our GRU block 3 times through:\n",
    "1. First with the embedding for the token `[0]` and no previous token\n",
    "2. Then with the embedding for the token `[1]` and the output of the GRU unit's processing of token `[0]` as the previous $H_{T-1}$\n",
    "3. Finally with the embedding for the token `[2]` and the output of the GRU unit's processing of token `[1]` as the previous $H_{T-1}$\n",
    "\n",
    "At the end of the forward pass at the end we then compare the probability to the actual next token in `y` and calculate `loss` based on the difference. \n",
    "\n",
    "*Note that we will do some layer initialization to simplify following along.  In reality layers are often initialized to normal distribution with some adjustments made for parameter sizes to keep the weights properly noisy.  We will not cover initialization in this series*\n",
    "\n",
    "We first rederive the batch size and context size based on the input to improve flexibility."
   ]
  },
  {
   "cell_type": "code",
   "execution_count": 12,
   "id": "83e785e1-7328-4b6f-83f9-a98247f06bde",
   "metadata": {},
   "outputs": [],
   "source": [
    "import torch.nn as nn"
   ]
  },
  {
   "cell_type": "code",
   "execution_count": 13,
   "id": "fa762304-604b-458a-b0d5-2d787de76448",
   "metadata": {},
   "outputs": [
    {
     "data": {
      "text/plain": [
       "(2, 8)"
      ]
     },
     "execution_count": 13,
     "metadata": {},
     "output_type": "execute_result"
    }
   ],
   "source": [
    "B_batch, T_context = x.size()\n",
    "B_batch, T_context"
   ]
  },
  {
   "cell_type": "code",
   "execution_count": 14,
   "id": "2a6d9984-9890-4b37-b538-5a09fdb7efed",
   "metadata": {},
   "outputs": [
    {
     "data": {
      "text/plain": [
       "(4, 36)"
      ]
     },
     "execution_count": 14,
     "metadata": {},
     "output_type": "execute_result"
    }
   ],
   "source": [
    "n_embd = 4 # level of embedding of input tokens\n",
    "n_embd, vocab_size"
   ]
  },
  {
   "cell_type": "markdown",
   "id": "3fbc6e54-7bdf-4518-87de-856d062c94ff",
   "metadata": {},
   "source": [
    "### Input Layer"
   ]
  },
  {
   "cell_type": "markdown",
   "id": "3bf3ccab-d62d-41f8-9539-4a257e9ca2a8",
   "metadata": {},
   "source": [
    "<img src=\"explainer_screenshots/gru/input_layer.png\" width=\"200\">\n",
    "\n",
    "We'll first create an initial **embedding layer** for our input tokens.  Since the RNN iteratively processes input data, position embedding info is not needed, though, it can always be added to give the model more depth. The embedding weights are `vocab_size X n_embd` and simply store weights that correspond with each token.  The more embedding layers added the more complex data the model can learn. After the embedding layer we'll then perform dropout. The **dropout layer** simply applies 0's  randomly up to the defined level percentage and normalizes the remaining probabilities in the row. Since RNNs recycle the same parameters across timesteps, features can co-adapt and overfit quickly. Variational dropout breaks these temporal co-adaptations and adds needed noise where there’s little implicit regularization. Other model architectures like transformers have strong built-in stabilizers (LayerNorm, residuals, attention) and massive pretraining, so they generally need far less dropout. \n",
    "\n"
   ]
  },
  {
   "cell_type": "markdown",
   "id": "1978456a-c933-45be-84bd-ac109731319d",
   "metadata": {},
   "source": [
    "**Embedding** \n",
    "\n",
    "To start we'll initilize our embeddings with a weight of 1.000 so that all inputs are equally weighted. We'll also set our embedding dimension to 4 to allows for some levels of complexity. Since our initiation weights are equal, we expect that the output of embedding will for now be equal"
   ]
  },
  {
   "cell_type": "code",
   "execution_count": 15,
   "id": "be607d75-1447-4339-9145-0f18f7e294b2",
   "metadata": {},
   "outputs": [
    {
     "data": {
      "text/plain": [
       "Parameter containing:\n",
       "tensor([[1., 1., 1., 1.],\n",
       "        [1., 1., 1., 1.],\n",
       "        [1., 1., 1., 1.],\n",
       "        [1., 1., 1., 1.],\n",
       "        [1., 1., 1., 1.],\n",
       "        [1., 1., 1., 1.],\n",
       "        [1., 1., 1., 1.],\n",
       "        [1., 1., 1., 1.],\n",
       "        [1., 1., 1., 1.],\n",
       "        [1., 1., 1., 1.],\n",
       "        [1., 1., 1., 1.],\n",
       "        [1., 1., 1., 1.],\n",
       "        [1., 1., 1., 1.],\n",
       "        [1., 1., 1., 1.],\n",
       "        [1., 1., 1., 1.],\n",
       "        [1., 1., 1., 1.],\n",
       "        [1., 1., 1., 1.],\n",
       "        [1., 1., 1., 1.],\n",
       "        [1., 1., 1., 1.],\n",
       "        [1., 1., 1., 1.],\n",
       "        [1., 1., 1., 1.],\n",
       "        [1., 1., 1., 1.],\n",
       "        [1., 1., 1., 1.],\n",
       "        [1., 1., 1., 1.],\n",
       "        [1., 1., 1., 1.],\n",
       "        [1., 1., 1., 1.],\n",
       "        [1., 1., 1., 1.],\n",
       "        [1., 1., 1., 1.],\n",
       "        [1., 1., 1., 1.],\n",
       "        [1., 1., 1., 1.],\n",
       "        [1., 1., 1., 1.],\n",
       "        [1., 1., 1., 1.],\n",
       "        [1., 1., 1., 1.],\n",
       "        [1., 1., 1., 1.],\n",
       "        [1., 1., 1., 1.],\n",
       "        [1., 1., 1., 1.]], requires_grad=True)"
      ]
     },
     "execution_count": 15,
     "metadata": {},
     "output_type": "execute_result"
    }
   ],
   "source": [
    "wte = nn.Embedding(vocab_size, n_embd)\n",
    "torch.nn.init.ones_(wte.weight)\n",
    "wte.weight"
   ]
  },
  {
   "cell_type": "code",
   "execution_count": 16,
   "id": "10b37914-4be6-4ed6-ad7b-daa43db954ad",
   "metadata": {},
   "outputs": [
    {
     "data": {
      "text/plain": [
       "(torch.Size([2, 8, 4]),\n",
       " tensor([[[1., 1., 1., 1.],\n",
       "          [1., 1., 1., 1.],\n",
       "          [1., 1., 1., 1.],\n",
       "          [1., 1., 1., 1.],\n",
       "          [1., 1., 1., 1.],\n",
       "          [1., 1., 1., 1.],\n",
       "          [1., 1., 1., 1.],\n",
       "          [1., 1., 1., 1.]],\n",
       " \n",
       "         [[1., 1., 1., 1.],\n",
       "          [1., 1., 1., 1.],\n",
       "          [1., 1., 1., 1.],\n",
       "          [1., 1., 1., 1.],\n",
       "          [1., 1., 1., 1.],\n",
       "          [1., 1., 1., 1.],\n",
       "          [1., 1., 1., 1.],\n",
       "          [1., 1., 1., 1.]]], grad_fn=<EmbeddingBackward0>))"
      ]
     },
     "execution_count": 16,
     "metadata": {},
     "output_type": "execute_result"
    }
   ],
   "source": [
    "x = wte(x)\n",
    "x.shape, x"
   ]
  },
  {
   "cell_type": "markdown",
   "id": "7bf83182-f32a-4da0-93c8-8bb4f41cce49",
   "metadata": {},
   "source": [
    "### Dropout\n",
    "\n",
    "Now, before our Recurrent unit, we'll perform dropout. Dropout will randomly zero out any value effectively removing that specific node from impacting prediction. Since this is Bernoulli based dropout, in addition to zeroing out weights the surviving entries are scaled by $1/(1-p)$. During training this helps with generalizaiton and fights fixation. You can quickly see the dropout's impact on the embeddings. "
   ]
  },
  {
   "cell_type": "code",
   "execution_count": 17,
   "id": "cfa012d0-91b1-474d-b961-ebfb4ef1889f",
   "metadata": {},
   "outputs": [
    {
     "data": {
      "text/plain": [
       "Dropout(p=0.1, inplace=False)"
      ]
     },
     "execution_count": 17,
     "metadata": {},
     "output_type": "execute_result"
    }
   ],
   "source": [
    "dropout = nn.Dropout(0.1)\n",
    "dropout"
   ]
  },
  {
   "cell_type": "code",
   "execution_count": 18,
   "id": "29b56d86-9cfe-4b21-ba08-1b1dba07fc46",
   "metadata": {},
   "outputs": [
    {
     "data": {
      "text/plain": [
       "tensor([[[1.1111, 1.1111, 1.1111, 1.1111],\n",
       "         [1.1111, 1.1111, 1.1111, 1.1111],\n",
       "         [0.0000, 1.1111, 1.1111, 1.1111],\n",
       "         [1.1111, 1.1111, 1.1111, 1.1111],\n",
       "         [1.1111, 1.1111, 1.1111, 1.1111],\n",
       "         [1.1111, 1.1111, 1.1111, 1.1111],\n",
       "         [1.1111, 0.0000, 1.1111, 1.1111],\n",
       "         [1.1111, 1.1111, 1.1111, 1.1111]],\n",
       "\n",
       "        [[1.1111, 0.0000, 1.1111, 0.0000],\n",
       "         [1.1111, 1.1111, 1.1111, 1.1111],\n",
       "         [1.1111, 1.1111, 1.1111, 1.1111],\n",
       "         [1.1111, 1.1111, 0.0000, 1.1111],\n",
       "         [1.1111, 1.1111, 1.1111, 1.1111],\n",
       "         [1.1111, 1.1111, 1.1111, 1.1111],\n",
       "         [1.1111, 1.1111, 1.1111, 1.1111],\n",
       "         [1.1111, 1.1111, 1.1111, 1.1111]]], grad_fn=<MulBackward0>)"
      ]
     },
     "execution_count": 18,
     "metadata": {},
     "output_type": "execute_result"
    }
   ],
   "source": [
    "x = dropout(x)\n",
    "x"
   ]
  },
  {
   "cell_type": "markdown",
   "id": "c9443d17-96e5-4854-9b99-deb9ee747db1",
   "metadata": {},
   "source": [
    "### Recurrent Unit - GRU"
   ]
  },
  {
   "cell_type": "markdown",
   "id": "8b9c2ecb-580d-402c-b932-f00d799ab5b1",
   "metadata": {},
   "source": [
    "<img src=\"explainer_screenshots/gru/gru_details.png\" width=\"600\">\n",
    "\n",
    "At a high level, you'll see that our GRU acts as our recurrent unit.  This unit does not take in the whole context `X` but rather iteratively takes in a specific time point $X_t$, calculates it's weights $H_t$. If there are more time points, for us meaning more tokens in the string, the unit then takes in that weight, represented as $H_{prev}$, and the next time point, represented again as $X_t$ and reruns the unit, until all time points are exhaused. \n",
    "\n",
    "To manage the impact of the incoming state and the long term memory, GRUs use two gates: the reset gate and the update gate. Both of these gates push their values to lie between $[0,1]$ through the use of a sigmoid activation. \n",
    "\n",
    "Mentally the **Update Gate**  $Z$ controls how much of the new state is a copy of the old vs being new. We achieve this through by applying the linearization $AX+WH+b$ to both the previous weights $H_{prev}$ and the incoming weights $X_t$. This results in a gate that acts as a learnable proportion that controls what proportion of the previous chain is through $Z \\odot H_{prev}$ and the remaining proportion is applied to the candidate hidden state $(1 - Z) \\odot \\tilde{H}_t$ as calculated through the *Reset Gate*. \n",
    "\n",
    "The **Reset Gate** $R$ is our control on how much of the previous state to remember in the candidate hidden state.  We similarly calculate this by applying the linearization $AX+WH+b$ to both the previous weights $H_{prev}$ and the incoming weights $X_t$.  \n",
    "\n",
    "The **Candidate Hidden State** $\\tilde{H}_t$ is our representation of the impact of the timepoint's specific context $X_t$  given the pevious context $H_{prev}$.  The amount of previous context is decited by the *reset gate* $R$ that's learned. We again use linearization to these two inputs $AX+WR\\odot H+b$ and then wrap it in a $tanh$ to pull the values to $[-1,1]$ to limit the candidate hidden state’s magnitude and keeps activations zero-centered, improving stability and optimization while the gates handle long-range impact assignment.\n",
    "\n",
    "You'll notice that we use the $\\odot$ representing the Hadamard product, or the element wise multiple, instead of the dot product.  In RNNs we use this because the gates are meant to be per-feature “valves.” The update uses elementwise products preserve the shape and provide an element wise identity path for gradients. A dot product would either collapse to a scalar (vector·vector) or mix features via a full matrix multiply, which changes the operation from gating to another affine transform, adds parameters, couples coordinates, and weakens the stable skip-like behavior that helps GRUs retain memory and avoid vanishing gradients.\n",
    "\n",
    "All together this results in the following:\n",
    "\n",
    "$$\n",
    "\\begin{align}\n",
    "Z &= \\sigma\\!\\left(X_t W_{xz} + H_{prev} W_{hz} + b_z\\right)\\ \\ \\ \\ \\text{Update Gate},\\\\\n",
    "R &= \\sigma\\!\\left(X_t W_{xr} + H_{prev} W_{hr} + b_r\\right)\\ \\ \\ \\ \\text{Reset Gate},\\\\\n",
    "\\tilde{H}_t &= \\tanh\\!\\left(X_t W_{xh} + R_t \\odot \\left(H_{prev}W_{hh}\\right) + b_h \\right),\\\\\n",
    "H_t &= Z \\odot H_{prev} + \\left(1-Z_t\\right)\\odot \\tilde{H}_t .\n",
    "\\end{align}\n",
    "$$"
   ]
  },
  {
   "cell_type": "markdown",
   "id": "e0138029-919b-4752-ab26-ed276e0d870b",
   "metadata": {},
   "source": [
    "Mathematically this gives us a nice simple set of formulas, but we need to actually write this as a program. If we look closely we have 3 sets of weigths acting:\n",
    "* the input $X_t$: $\\{W_{xz}, W_{xr}, W_{xh}\\}$. *Notice the subscript is \"x\\<gate or state>\"*\n",
    "* the previous $H_{prev}$: $\\{W_{hz}, W_{hr}, W_{hh}\\}$.\n",
    "\n",
    "To simplify this weight we'll start by creating a linear later that has 3x the hidden layers, separate it, and then complete the rest of the calculations. This allows us to gain efficiencies in learning and improve our code readability.  The algorithmic representation then looks as follows:\n",
    "\n",
    "```\n",
    "xz, xr, xh = x2g(x_t).split(hidden_size, dim=-1)\n",
    "hz, hr, hh = h2g(h_prev).split(hidden_size, dim=-1)\n",
    "z = sigma(xz + hz)\n",
    "r = sigma(xr + hr)\n",
    "r_hh = r * hh\n",
    "h_can = tanh(xh + r_hh})\n",
    "h_t &= (1 - z)*h_can + z*h_prev.\n",
    "```\n",
    "**Starting Example** While GRUs are iterative, we'll first walk through 1 pass of the GRU. After that we'll show the loop for the rest of the context window/examples. This will help us understand what is happening inside a pass and then how the impact of the weights adds up over the context lenght. To keep things simple we'll set the `hidden_size` to 4. Let's start by initiating our weights.  To visualize the impact of each set of weigths, I'll initialize the current context and the previous context weights to two different values."
   ]
  },
  {
   "cell_type": "code",
   "execution_count": 19,
   "id": "d21e8264-8bef-4002-af8e-fb022891468e",
   "metadata": {},
   "outputs": [],
   "source": [
    "hidden_size = 4"
   ]
  },
  {
   "cell_type": "code",
   "execution_count": 20,
   "id": "eb643927-6944-4785-ac3a-935d1f08b17e",
   "metadata": {},
   "outputs": [
    {
     "data": {
      "text/plain": [
       "(torch.Size([12, 4]),\n",
       " Parameter containing:\n",
       " tensor([[0.5000, 0.5000, 0.5000, 0.5000],\n",
       "         [0.5000, 0.5000, 0.5000, 0.5000],\n",
       "         [0.5000, 0.5000, 0.5000, 0.5000],\n",
       "         [0.5000, 0.5000, 0.5000, 0.5000],\n",
       "         [0.5000, 0.5000, 0.5000, 0.5000],\n",
       "         [0.5000, 0.5000, 0.5000, 0.5000],\n",
       "         [0.5000, 0.5000, 0.5000, 0.5000],\n",
       "         [0.5000, 0.5000, 0.5000, 0.5000],\n",
       "         [0.5000, 0.5000, 0.5000, 0.5000],\n",
       "         [0.5000, 0.5000, 0.5000, 0.5000],\n",
       "         [0.5000, 0.5000, 0.5000, 0.5000],\n",
       "         [0.5000, 0.5000, 0.5000, 0.5000]], requires_grad=True),\n",
       " torch.Size([12]),\n",
       " Parameter containing:\n",
       " tensor([0., 0., 0., 0., 0., 0., 0., 0., 0., 0., 0., 0.], requires_grad=True))"
      ]
     },
     "execution_count": 20,
     "metadata": {},
     "output_type": "execute_result"
    }
   ],
   "source": [
    "x2g = nn.Linear(n_embd, 3 * hidden_size, bias=True)\n",
    "torch.nn.init.constant_(x2g.weight, 0.500)\n",
    "torch.nn.init.zeros_(x2g.bias)\n",
    "x2g.weight.size(), x2g.weight, x2g.bias.size(), x2g.bias"
   ]
  },
  {
   "cell_type": "code",
   "execution_count": 21,
   "id": "5cd4aed3-b539-488f-a4ea-0f081ebc100b",
   "metadata": {},
   "outputs": [
    {
     "data": {
      "text/plain": [
       "(torch.Size([12, 4]),\n",
       " Parameter containing:\n",
       " tensor([[0.2500, 0.2500, 0.2500, 0.2500],\n",
       "         [0.2500, 0.2500, 0.2500, 0.2500],\n",
       "         [0.2500, 0.2500, 0.2500, 0.2500],\n",
       "         [0.2500, 0.2500, 0.2500, 0.2500],\n",
       "         [0.2500, 0.2500, 0.2500, 0.2500],\n",
       "         [0.2500, 0.2500, 0.2500, 0.2500],\n",
       "         [0.2500, 0.2500, 0.2500, 0.2500],\n",
       "         [0.2500, 0.2500, 0.2500, 0.2500],\n",
       "         [0.2500, 0.2500, 0.2500, 0.2500],\n",
       "         [0.2500, 0.2500, 0.2500, 0.2500],\n",
       "         [0.2500, 0.2500, 0.2500, 0.2500],\n",
       "         [0.2500, 0.2500, 0.2500, 0.2500]], requires_grad=True),\n",
       " torch.Size([12]),\n",
       " Parameter containing:\n",
       " tensor([0., 0., 0., 0., 0., 0., 0., 0., 0., 0., 0., 0.], requires_grad=True))"
      ]
     },
     "execution_count": 21,
     "metadata": {},
     "output_type": "execute_result"
    }
   ],
   "source": [
    "h2g = nn.Linear(hidden_size, 3 * hidden_size, bias=True)\n",
    "torch.nn.init.constant_(h2g.weight, 0.250)\n",
    "torch.nn.init.zeros_(h2g.bias)\n",
    "h2g.weight.size(), h2g.weight, h2g.bias.size(), h2g.bias"
   ]
  },
  {
   "cell_type": "markdown",
   "id": "6abb3605-3815-4c0b-ba74-2705e5d4ad20",
   "metadata": {},
   "source": [
    "#### GRU - Frist Pass"
   ]
  },
  {
   "cell_type": "markdown",
   "id": "04ea925e-09b9-423c-994c-28bb2061765d",
   "metadata": {},
   "source": [
    "##### GRU - Previous $H_{prev}$\n",
    "Let's start first by setting up our previous state weights.  Since we are at 'time 0' in training, there are no previous states yet.  because of this we'll actually setup our state to just 0's, meaning no tokens or weights.  We'll then pass this into the linear layer and split it up into our 3 different linear units. Notice that because our previous state is currently 0, the weights returned are all 0. In future recursions, these weights will no longer be 0. "
   ]
  },
  {
   "cell_type": "code",
   "execution_count": 22,
   "id": "9d9dcfb5-2798-4085-9613-5d94143424e8",
   "metadata": {},
   "outputs": [
    {
     "data": {
      "text/plain": [
       "tensor([[0., 0., 0., 0.],\n",
       "        [0., 0., 0., 0.]])"
      ]
     },
     "execution_count": 22,
     "metadata": {},
     "output_type": "execute_result"
    }
   ],
   "source": [
    "h_prev = torch.zeros(B_batch, hidden_size) \n",
    "h_prev"
   ]
  },
  {
   "cell_type": "code",
   "execution_count": 23,
   "id": "a5d33f2a-3471-434b-8441-8d41befd55c3",
   "metadata": {},
   "outputs": [
    {
     "data": {
      "text/plain": [
       "('hz',\n",
       " tensor([[0., 0., 0., 0.],\n",
       "         [0., 0., 0., 0.]], grad_fn=<SplitBackward0>),\n",
       " torch.Size([2, 4]),\n",
       " 'hr',\n",
       " tensor([[0., 0., 0., 0.],\n",
       "         [0., 0., 0., 0.]], grad_fn=<SplitBackward0>),\n",
       " torch.Size([2, 4]),\n",
       " 'hh',\n",
       " tensor([[0., 0., 0., 0.],\n",
       "         [0., 0., 0., 0.]], grad_fn=<SplitBackward0>),\n",
       " torch.Size([2, 4]))"
      ]
     },
     "execution_count": 23,
     "metadata": {},
     "output_type": "execute_result"
    }
   ],
   "source": [
    "h_prev_w = h2g(h_prev)\n",
    "hz, hr, hh = h_prev_w.split(hidden_size, dim=-1)\n",
    "\n",
    "'hz', hz, hz.size(), 'hr',hr, hr.size(),'hh',hh, hh.size()"
   ]
  },
  {
   "cell_type": "markdown",
   "id": "2f09c99f-ab91-4dcb-8f0b-295c3f2a30a2",
   "metadata": {},
   "source": [
    "##### GRU - Incoming $X_t$\n",
    "Next we need to linearize our incoming state. Currently X has all 8 examples for our context windows across the 2 batches. With GRU's we can only feed in 1 example at a time and, since we want sequential weights, 1 token at a time.  Luckily our examples are incremental (example 1 is token 1, example 2 is tokens 1 and 2) so we can iteratively calculate our GRU weights per example and use that collectively as the weight for each example.  But to start we'll need to extract just the example for the first time period `x_t` for each batch and calculate our weights.\n",
    "\n",
    "Since our weights are 1/2 for each value of the cell, you can see that when we multiply that by the example each weight remains consistent. If dropout is observed, the values in each batch can be different, but they'll be the same across the example. "
   ]
  },
  {
   "cell_type": "code",
   "execution_count": 24,
   "id": "a2f7b252-dae3-4243-8b6c-ec16a292c1fb",
   "metadata": {},
   "outputs": [
    {
     "data": {
      "text/plain": [
       "tensor([[1.1111, 1.1111, 1.1111, 1.1111],\n",
       "        [1.1111, 0.0000, 1.1111, 0.0000]], grad_fn=<SliceBackward0>)"
      ]
     },
     "execution_count": 24,
     "metadata": {},
     "output_type": "execute_result"
    }
   ],
   "source": [
    "x_t = x[:, 0, :]\n",
    "x_t"
   ]
  },
  {
   "cell_type": "code",
   "execution_count": 25,
   "id": "58799445-c5d7-49a8-9314-58feefba9e54",
   "metadata": {},
   "outputs": [
    {
     "data": {
      "text/plain": [
       "('xz',\n",
       " tensor([[2.2222, 2.2222, 2.2222, 2.2222],\n",
       "         [1.1111, 1.1111, 1.1111, 1.1111]], grad_fn=<SplitBackward0>),\n",
       " torch.Size([2, 4]),\n",
       " 'xr',\n",
       " tensor([[2.2222, 2.2222, 2.2222, 2.2222],\n",
       "         [1.1111, 1.1111, 1.1111, 1.1111]], grad_fn=<SplitBackward0>),\n",
       " torch.Size([2, 4]),\n",
       " 'xh',\n",
       " tensor([[2.2222, 2.2222, 2.2222, 2.2222],\n",
       "         [1.1111, 1.1111, 1.1111, 1.1111]], grad_fn=<SplitBackward0>),\n",
       " torch.Size([2, 4]))"
      ]
     },
     "execution_count": 25,
     "metadata": {},
     "output_type": "execute_result"
    }
   ],
   "source": [
    "x_t_w = x2g(x_t)\n",
    "xz, xr, xh = x_t_w.split(hidden_size, dim=-1)\n",
    "\n",
    "'xz', xz, xz.size(), 'xr',xr, xr.size(),'xh',xh, xh.size()"
   ]
  },
  {
   "cell_type": "markdown",
   "id": "90888bbb-46bb-4739-a692-d01affb809f9",
   "metadata": {},
   "source": [
    "##### GRU - Update Gate $Z$\n",
    "Recall that the update gate controls how much of the new state is a copy of the old vs being new. We derive the update gate using the following: \n",
    "$Z = \\sigma\\!\\left(X_t W_{xz} + H_{prev} W_{hz} + b_z\\right)$\n",
    "\n",
    "This update gate path will become the learnable weights that will control what proportion of the previous chain maintained through the recursions. As a reminder the sigmoid function pulls the values to $[0,1]$ [source](https://docs.pytorch.org/docs/stable/generated/torch.sigmoid.html) using:\n",
    "\n",
    "$\\sigma(x) = \\frac{1}{1 + e^{(-x)}}$"
   ]
  },
  {
   "cell_type": "code",
   "execution_count": 26,
   "id": "7128c628-08d2-4c5c-88df-4422253833b9",
   "metadata": {},
   "outputs": [
    {
     "data": {
      "text/plain": [
       "(torch.Size([2, 4]),\n",
       " tensor([[0.9022, 0.9022, 0.9022, 0.9022],\n",
       "         [0.7523, 0.7523, 0.7523, 0.7523]], grad_fn=<SigmoidBackward0>))"
      ]
     },
     "execution_count": 26,
     "metadata": {},
     "output_type": "execute_result"
    }
   ],
   "source": [
    "z = torch.sigmoid(xz + hz)\n",
    "z.size(), z"
   ]
  },
  {
   "cell_type": "markdown",
   "id": "585195e5-dd56-45d3-8c75-7fe5a14cc75c",
   "metadata": {},
   "source": [
    "##### GRU - Reset Gate $R$\n",
    "Recall that the reset gate controls how much of the previous state to remember in the candidate hidden state. We derive the update gate using the following: \n",
    "\n",
    "\n",
    "$R = \\sigma\\!\\left(X_t W_{xr} + H_{prev} W_{hr} + b_r\\right)$\n",
    "\n",
    "\n",
    "This reset gate path will become the learnable weights that will control what proportion of the previous chain is forgotten when using the current context to predict the next token in the candidate hidden state.  We use the same sigmoid function to squeeze the values to $[0,1]$\n",
    "\n",
    "You can see that since the network is untrained, the values are the same as the update gate. With training, these values will diverge. "
   ]
  },
  {
   "cell_type": "code",
   "execution_count": 27,
   "id": "083c93ca-a3b4-4524-8c99-d263044a71ba",
   "metadata": {},
   "outputs": [
    {
     "data": {
      "text/plain": [
       "(torch.Size([2, 4]),\n",
       " tensor([[0.9022, 0.9022, 0.9022, 0.9022],\n",
       "         [0.7523, 0.7523, 0.7523, 0.7523]], grad_fn=<SigmoidBackward0>))"
      ]
     },
     "execution_count": 27,
     "metadata": {},
     "output_type": "execute_result"
    }
   ],
   "source": [
    "r = torch.sigmoid(xr + hr)\n",
    "r.size(), r"
   ]
  },
  {
   "cell_type": "markdown",
   "id": "3b0f304c-5f4f-432b-9e17-65e3f6562a33",
   "metadata": {},
   "source": [
    "##### GRU - Candidate Hidden State $\\tilde{H}_t$\n",
    "\n",
    "Recall that the Candidate Hidden Stateis our representation of the impact of the timepoint's specific context $X_t$  given the pevious context $H_{prev}$. The amount the previous context impacts is learned through the reset gate $R$.  We calcualte it as follows:\n",
    "\n",
    "$\\tilde{H}_t = \\tanh\\!\\left(X_t W_{xh} + R_t \\odot \\left(H_{prev}W_{hh}\\right) + b_h \\right),\\\\$\n",
    "\n",
    "This calculation sums the weight of the timpoint specific context with the weight of the reset gate then use a $tanh$ layer to pull values to $[-1,1]$ with the goal of avoiding vanishing/exploding gradients. \n",
    "\n",
    "We'll start by first calculating the weight of the resest gate `r_hh` and then do the sum. You'll notice since our $H_{prev}$ was 0, our reset gate will be zeroed out leaving just the incoming weights.  In subsequent recursions this will no longer be the case. "
   ]
  },
  {
   "cell_type": "code",
   "execution_count": 28,
   "id": "2ff419c1-6458-46ce-9fea-44ebfa836d6f",
   "metadata": {},
   "outputs": [
    {
     "data": {
      "text/plain": [
       "(torch.Size([2, 4]),\n",
       " tensor([[0., 0., 0., 0.],\n",
       "         [0., 0., 0., 0.]], grad_fn=<MulBackward0>))"
      ]
     },
     "execution_count": 28,
     "metadata": {},
     "output_type": "execute_result"
    }
   ],
   "source": [
    "r_hh = r*hh\n",
    "r_hh.size(), r_hh"
   ]
  },
  {
   "cell_type": "code",
   "execution_count": 29,
   "id": "d85edd8d-b052-4e65-bef7-2aefb8dd6ce4",
   "metadata": {},
   "outputs": [
    {
     "data": {
      "text/plain": [
       "(torch.Size([2, 4]),\n",
       " tensor([[0.9768, 0.9768, 0.9768, 0.9768],\n",
       "         [0.8045, 0.8045, 0.8045, 0.8045]], grad_fn=<TanhBackward0>))"
      ]
     },
     "execution_count": 29,
     "metadata": {},
     "output_type": "execute_result"
    }
   ],
   "source": [
    "h_cand = torch.tanh(xh + r_hh)\n",
    "h_cand.size(), h_cand"
   ]
  },
  {
   "cell_type": "markdown",
   "id": "46a69d2a-70d6-4df9-8391-12f98692fe2b",
   "metadata": {},
   "source": [
    "##### GRU - Recursion output\n",
    "We now have to combine our candidate hidden state and our previous.  We've calcualted the update gate $Z$ that will be be the proportion of how much the previous and the candidate contribute.  Since we want to maintain the per-feature impacts we use the Hadamard product here between the reset gate (or 1-z) and the weights.  For this pass we'll actually calculate each portion separately then combine them to be our new $H_t$. \n",
    "\n",
    "We'll first start by calculating the weights of the candidate `(1-z)*h_cand` and then of the previous `z*h_prev`.  Since this is the first recursion, we will see that the values of the previous are zeroed out and all impact is coming from our current context, as expected. "
   ]
  },
  {
   "cell_type": "code",
   "execution_count": 30,
   "id": "ca79bc59-e198-4223-9d5b-6b95bb900b00",
   "metadata": {},
   "outputs": [
    {
     "data": {
      "text/plain": [
       "tensor([[0.0978, 0.0978, 0.0978, 0.0978],\n",
       "        [0.2477, 0.2477, 0.2477, 0.2477]], grad_fn=<RsubBackward1>)"
      ]
     },
     "execution_count": 30,
     "metadata": {},
     "output_type": "execute_result"
    }
   ],
   "source": [
    "(1 - z)"
   ]
  },
  {
   "cell_type": "code",
   "execution_count": 31,
   "id": "377016e0-fe1d-4ac6-ac26-f4c27708d7f3",
   "metadata": {},
   "outputs": [
    {
     "data": {
      "text/plain": [
       "(torch.Size([2, 4]),\n",
       " tensor([[0.0955, 0.0955, 0.0955, 0.0955],\n",
       "         [0.1992, 0.1992, 0.1992, 0.1992]], grad_fn=<MulBackward0>))"
      ]
     },
     "execution_count": 31,
     "metadata": {},
     "output_type": "execute_result"
    }
   ],
   "source": [
    "h_cand_imp = (1 - z)*h_cand\n",
    "h_cand_imp.size(), h_cand_imp"
   ]
  },
  {
   "cell_type": "code",
   "execution_count": 32,
   "id": "7998ac75-c036-4c28-b4e6-d113cf238fb7",
   "metadata": {},
   "outputs": [
    {
     "data": {
      "text/plain": [
       "(torch.Size([2, 4]),\n",
       " tensor([[0., 0., 0., 0.],\n",
       "         [0., 0., 0., 0.]], grad_fn=<MulBackward0>))"
      ]
     },
     "execution_count": 32,
     "metadata": {},
     "output_type": "execute_result"
    }
   ],
   "source": [
    "h_prev_imp = z*h_prev\n",
    "h_prev_imp.size(), h_prev_imp"
   ]
  },
  {
   "cell_type": "code",
   "execution_count": 33,
   "id": "2247d741-2729-40ab-b81a-72542145bc1f",
   "metadata": {},
   "outputs": [
    {
     "data": {
      "text/plain": [
       "(torch.Size([2, 4]),\n",
       " tensor([[0.0955, 0.0955, 0.0955, 0.0955],\n",
       "         [0.1992, 0.1992, 0.1992, 0.1992]], grad_fn=<AddBackward0>))"
      ]
     },
     "execution_count": 33,
     "metadata": {},
     "output_type": "execute_result"
    }
   ],
   "source": [
    "h_t = h_cand_imp + h_prev_imp\n",
    "h_t.size(), h_t"
   ]
  },
  {
   "cell_type": "markdown",
   "id": "5088318f-4aa6-47cc-a3c5-3e633b517129",
   "metadata": {},
   "source": [
    "#### GRU -  Managing examples in a batch\n",
    "Now that we have the weights from our gated rerecurrent unit for our first time period `t=0`, since we have more context we actually have to recurs through the rest of the context.  Before we do the next cycle through though, recall that for training we want to take advantage though of the fact that each of our batches has an example for each value up to our context length.  We want to train across inputs of various lenghts and so, we'll store our current weights that signify an input of just a single token into our context.  As you'll see in our recursion, we'll store the weight at the end of each pass and build up an array of tensors for each example in the batch. to take to our output layer. \n",
    "\n",
    "To start we'll create an empty tensor of `(BxTxhidden_size)`. We'll then update the `[:,t,:]` entry with `h_t` linking back to each recursion. "
   ]
  },
  {
   "cell_type": "code",
   "execution_count": 34,
   "id": "938d60c5-c2b0-44d5-809b-7d7e790c97d6",
   "metadata": {},
   "outputs": [
    {
     "data": {
      "text/plain": [
       "(torch.Size([2, 8, 4]),\n",
       " tensor([[[0., 0., 0., 0.],\n",
       "          [0., 0., 0., 0.],\n",
       "          [0., 0., 0., 0.],\n",
       "          [0., 0., 0., 0.],\n",
       "          [0., 0., 0., 0.],\n",
       "          [0., 0., 0., 0.],\n",
       "          [0., 0., 0., 0.],\n",
       "          [0., 0., 0., 0.]],\n",
       " \n",
       "         [[0., 0., 0., 0.],\n",
       "          [0., 0., 0., 0.],\n",
       "          [0., 0., 0., 0.],\n",
       "          [0., 0., 0., 0.],\n",
       "          [0., 0., 0., 0.],\n",
       "          [0., 0., 0., 0.],\n",
       "          [0., 0., 0., 0.],\n",
       "          [0., 0., 0., 0.]]]))"
      ]
     },
     "execution_count": 34,
     "metadata": {},
     "output_type": "execute_result"
    }
   ],
   "source": [
    "hs = x.new_empty(B_batch, T_context, hidden_size)\n",
    "hs.size(), hs"
   ]
  },
  {
   "cell_type": "markdown",
   "id": "0bf5b508-7022-4e18-ac93-6039eabf65f9",
   "metadata": {},
   "source": [
    "now we'll enter in our first entry at `t=0`"
   ]
  },
  {
   "cell_type": "code",
   "execution_count": 35,
   "id": "5712a754-aaaf-411f-8465-8c9c69569ed1",
   "metadata": {},
   "outputs": [
    {
     "data": {
      "text/plain": [
       "tensor([[[0.0955, 0.0955, 0.0955, 0.0955],\n",
       "         [0.0000, 0.0000, 0.0000, 0.0000],\n",
       "         [0.0000, 0.0000, 0.0000, 0.0000],\n",
       "         [0.0000, 0.0000, 0.0000, 0.0000],\n",
       "         [0.0000, 0.0000, 0.0000, 0.0000],\n",
       "         [0.0000, 0.0000, 0.0000, 0.0000],\n",
       "         [0.0000, 0.0000, 0.0000, 0.0000],\n",
       "         [0.0000, 0.0000, 0.0000, 0.0000]],\n",
       "\n",
       "        [[0.1992, 0.1992, 0.1992, 0.1992],\n",
       "         [0.0000, 0.0000, 0.0000, 0.0000],\n",
       "         [0.0000, 0.0000, 0.0000, 0.0000],\n",
       "         [0.0000, 0.0000, 0.0000, 0.0000],\n",
       "         [0.0000, 0.0000, 0.0000, 0.0000],\n",
       "         [0.0000, 0.0000, 0.0000, 0.0000],\n",
       "         [0.0000, 0.0000, 0.0000, 0.0000],\n",
       "         [0.0000, 0.0000, 0.0000, 0.0000]]], grad_fn=<CopySlices>)"
      ]
     },
     "execution_count": 35,
     "metadata": {},
     "output_type": "execute_result"
    }
   ],
   "source": [
    "hs[:, 0, :] = h_t   \n",
    "hs"
   ]
  },
  {
   "cell_type": "markdown",
   "id": "69f8ceb5-3070-4fdf-851d-51cabee04d71",
   "metadata": {},
   "source": [
    "#### GRU - Second pass "
   ]
  },
  {
   "cell_type": "markdown",
   "id": "bc5fb533-c74a-4491-8c5c-d79cb32b2a41",
   "metadata": {},
   "source": [
    "Now that we've done the first pass through, let's see how the second pass changes things. The main difference is that in the second pass we'll use the previous passes output `h_t` to become the new previous `h_prev`.  This will quickly begin to show the impact now on the update gate and reset gate as the `h_prev` is no longer 0 but our X weights are still consistent. We'll start by updating `h_prev` and extracting the next set of inputs for `t=1`.\n",
    "\n",
    "One thing to notice is that despite having an input `h_prev`, the values remain consistent across examples since our initiation weights are uniform.  "
   ]
  },
  {
   "cell_type": "code",
   "execution_count": 36,
   "id": "88aef728-f946-476f-b037-147b2cdf49d6",
   "metadata": {},
   "outputs": [
    {
     "data": {
      "text/plain": [
       "(tensor([[0.0955, 0.0955, 0.0955, 0.0955],\n",
       "         [0.1992, 0.1992, 0.1992, 0.1992]], grad_fn=<AddBackward0>),\n",
       " tensor([[1.1111, 1.1111, 1.1111, 1.1111],\n",
       "         [1.1111, 1.1111, 1.1111, 1.1111]], grad_fn=<SliceBackward0>))"
      ]
     },
     "execution_count": 36,
     "metadata": {},
     "output_type": "execute_result"
    }
   ],
   "source": [
    "h_prev = h_t\n",
    "x_t = x[:, 1, :]\n",
    "\n",
    "h_prev, x_t"
   ]
  },
  {
   "cell_type": "markdown",
   "id": "bafec9b1-1abf-4546-9495-5c1143247972",
   "metadata": {},
   "source": [
    "**GRU second pass - generating Weights**"
   ]
  },
  {
   "cell_type": "code",
   "execution_count": 37,
   "id": "f62f9687-f337-4f4a-a994-46ab785195fa",
   "metadata": {},
   "outputs": [
    {
     "data": {
      "text/plain": [
       "('hz',\n",
       " tensor([[0.0955, 0.0955, 0.0955, 0.0955],\n",
       "         [0.1992, 0.1992, 0.1992, 0.1992]], grad_fn=<SplitBackward0>),\n",
       " torch.Size([2, 4]),\n",
       " 'hr',\n",
       " tensor([[0.0955, 0.0955, 0.0955, 0.0955],\n",
       "         [0.1992, 0.1992, 0.1992, 0.1992]], grad_fn=<SplitBackward0>),\n",
       " torch.Size([2, 4]),\n",
       " 'hh',\n",
       " tensor([[0.0955, 0.0955, 0.0955, 0.0955],\n",
       "         [0.1992, 0.1992, 0.1992, 0.1992]], grad_fn=<SplitBackward0>),\n",
       " torch.Size([2, 4]))"
      ]
     },
     "execution_count": 37,
     "metadata": {},
     "output_type": "execute_result"
    }
   ],
   "source": [
    "h_prev_w = h2g(h_prev)\n",
    "hz, hr, hh = h_prev_w.split(hidden_size, dim=-1)\n",
    "\n",
    "'hz', hz, hz.size(), 'hr',hr, hr.size(),'hh',hh, hh.size()"
   ]
  },
  {
   "cell_type": "code",
   "execution_count": 38,
   "id": "c8278092-677f-4c5d-b237-66dd779bae1a",
   "metadata": {},
   "outputs": [
    {
     "data": {
      "text/plain": [
       "('xz',\n",
       " tensor([[2.2222, 2.2222, 2.2222, 2.2222],\n",
       "         [2.2222, 2.2222, 2.2222, 2.2222]], grad_fn=<SplitBackward0>),\n",
       " torch.Size([2, 4]),\n",
       " 'xr',\n",
       " tensor([[2.2222, 2.2222, 2.2222, 2.2222],\n",
       "         [2.2222, 2.2222, 2.2222, 2.2222]], grad_fn=<SplitBackward0>),\n",
       " torch.Size([2, 4]),\n",
       " 'xh',\n",
       " tensor([[2.2222, 2.2222, 2.2222, 2.2222],\n",
       "         [2.2222, 2.2222, 2.2222, 2.2222]], grad_fn=<SplitBackward0>),\n",
       " torch.Size([2, 4]))"
      ]
     },
     "execution_count": 38,
     "metadata": {},
     "output_type": "execute_result"
    }
   ],
   "source": [
    "x_t_w = x2g(x_t)\n",
    "xz, xr, xh = x_t_w.split(hidden_size, dim=-1)\n",
    "\n",
    "'xz', xz, xz.size(), 'xr',xr, xr.size(),'xh',xh, xh.size()"
   ]
  },
  {
   "cell_type": "markdown",
   "id": "d4a58ff5-f288-42f4-ac6f-8858e5ec179f",
   "metadata": {},
   "source": [
    "**GRU second pass - Update Gate**"
   ]
  },
  {
   "cell_type": "code",
   "execution_count": 39,
   "id": "5ea9b554-7452-4723-b236-388db18a7ee3",
   "metadata": {},
   "outputs": [
    {
     "data": {
      "text/plain": [
       "(torch.Size([2, 4]),\n",
       " tensor([[0.9103, 0.9103, 0.9103, 0.9103],\n",
       "         [0.9184, 0.9184, 0.9184, 0.9184]], grad_fn=<SigmoidBackward0>))"
      ]
     },
     "execution_count": 39,
     "metadata": {},
     "output_type": "execute_result"
    }
   ],
   "source": [
    "z = torch.sigmoid(xz + hz)\n",
    "z.size(), z"
   ]
  },
  {
   "cell_type": "markdown",
   "id": "239fb0c8-c2dc-47d0-a926-71ff5de58786",
   "metadata": {},
   "source": [
    "**GRU second pass - Reset Gate**"
   ]
  },
  {
   "cell_type": "code",
   "execution_count": 40,
   "id": "84ce203f-737b-40c9-8ef3-836cdcbae817",
   "metadata": {},
   "outputs": [
    {
     "data": {
      "text/plain": [
       "(torch.Size([2, 4]),\n",
       " tensor([[0.9103, 0.9103, 0.9103, 0.9103],\n",
       "         [0.9184, 0.9184, 0.9184, 0.9184]], grad_fn=<SigmoidBackward0>))"
      ]
     },
     "execution_count": 40,
     "metadata": {},
     "output_type": "execute_result"
    }
   ],
   "source": [
    "r = torch.sigmoid(xr + hr)\n",
    "r.size(), r"
   ]
  },
  {
   "cell_type": "markdown",
   "id": "a8afc231-6a71-4632-a81b-3a5a2cfc10ab",
   "metadata": {},
   "source": [
    "**GRU second pass - Candidate hidden State**"
   ]
  },
  {
   "cell_type": "code",
   "execution_count": 41,
   "id": "f6929163-af6a-4d59-9c9c-0fdfc76b4538",
   "metadata": {},
   "outputs": [
    {
     "data": {
      "text/plain": [
       "(torch.Size([2, 4]),\n",
       " tensor([[0.0869, 0.0869, 0.0869, 0.0869],\n",
       "         [0.1830, 0.1830, 0.1830, 0.1830]], grad_fn=<MulBackward0>))"
      ]
     },
     "execution_count": 41,
     "metadata": {},
     "output_type": "execute_result"
    }
   ],
   "source": [
    "r_hh = r*hh\n",
    "r_hh.size(), r_hh"
   ]
  },
  {
   "cell_type": "code",
   "execution_count": 42,
   "id": "d2d368ee-5e6b-4b15-bbc4-3b6c17050729",
   "metadata": {},
   "outputs": [
    {
     "data": {
      "text/plain": [
       "(torch.Size([2, 4]),\n",
       " tensor([[0.9805, 0.9805, 0.9805, 0.9805],\n",
       "         [0.9838, 0.9838, 0.9838, 0.9838]], grad_fn=<TanhBackward0>))"
      ]
     },
     "execution_count": 42,
     "metadata": {},
     "output_type": "execute_result"
    }
   ],
   "source": [
    "h_cand = torch.tanh(xh + r_hh)\n",
    "h_cand.size(), h_cand"
   ]
  },
  {
   "cell_type": "markdown",
   "id": "e0fe9149-7cec-4f17-997a-cadf6f41c0a9",
   "metadata": {},
   "source": [
    "**GRU second pass - Recursion Output**"
   ]
  },
  {
   "cell_type": "code",
   "execution_count": 43,
   "id": "4db01714-f5ef-4375-afd3-e8de57efa6cf",
   "metadata": {},
   "outputs": [
    {
     "data": {
      "text/plain": [
       "(torch.Size([2, 4]),\n",
       " tensor([[0.0879, 0.0879, 0.0879, 0.0879],\n",
       "         [0.0802, 0.0802, 0.0802, 0.0802]], grad_fn=<MulBackward0>))"
      ]
     },
     "execution_count": 43,
     "metadata": {},
     "output_type": "execute_result"
    }
   ],
   "source": [
    "h_cand_imp = (1 - z)*h_cand\n",
    "h_cand_imp.size(), h_cand_imp"
   ]
  },
  {
   "cell_type": "code",
   "execution_count": 44,
   "id": "1f75c78b-19f5-492f-8961-4b80aafd890b",
   "metadata": {},
   "outputs": [
    {
     "data": {
      "text/plain": [
       "(torch.Size([2, 4]),\n",
       " tensor([[0.0869, 0.0869, 0.0869, 0.0869],\n",
       "         [0.1830, 0.1830, 0.1830, 0.1830]], grad_fn=<MulBackward0>))"
      ]
     },
     "execution_count": 44,
     "metadata": {},
     "output_type": "execute_result"
    }
   ],
   "source": [
    "h_prev_imp = z*h_prev\n",
    "h_prev_imp.size(), h_prev_imp"
   ]
  },
  {
   "cell_type": "code",
   "execution_count": 45,
   "id": "7c42d959-55c7-4824-a175-220d44a080f0",
   "metadata": {},
   "outputs": [
    {
     "data": {
      "text/plain": [
       "(torch.Size([2, 4]),\n",
       " tensor([[0.1749, 0.1749, 0.1749, 0.1749],\n",
       "         [0.2632, 0.2632, 0.2632, 0.2632]], grad_fn=<AddBackward0>))"
      ]
     },
     "execution_count": 45,
     "metadata": {},
     "output_type": "execute_result"
    }
   ],
   "source": [
    "h_t = h_cand_imp + h_prev_imp\n",
    "h_t.size(), h_t"
   ]
  },
  {
   "cell_type": "markdown",
   "id": "8acb7435-32af-4f5b-86ff-331dd30dd44a",
   "metadata": {},
   "source": [
    "**GRU second pass - Stashing Example Output**"
   ]
  },
  {
   "cell_type": "code",
   "execution_count": 46,
   "id": "9e1ca4af-982f-4f07-8bd7-18acbbc168cb",
   "metadata": {},
   "outputs": [
    {
     "data": {
      "text/plain": [
       "tensor([[[0.0955, 0.0955, 0.0955, 0.0955],\n",
       "         [0.1749, 0.1749, 0.1749, 0.1749],\n",
       "         [0.0000, 0.0000, 0.0000, 0.0000],\n",
       "         [0.0000, 0.0000, 0.0000, 0.0000],\n",
       "         [0.0000, 0.0000, 0.0000, 0.0000],\n",
       "         [0.0000, 0.0000, 0.0000, 0.0000],\n",
       "         [0.0000, 0.0000, 0.0000, 0.0000],\n",
       "         [0.0000, 0.0000, 0.0000, 0.0000]],\n",
       "\n",
       "        [[0.1992, 0.1992, 0.1992, 0.1992],\n",
       "         [0.2632, 0.2632, 0.2632, 0.2632],\n",
       "         [0.0000, 0.0000, 0.0000, 0.0000],\n",
       "         [0.0000, 0.0000, 0.0000, 0.0000],\n",
       "         [0.0000, 0.0000, 0.0000, 0.0000],\n",
       "         [0.0000, 0.0000, 0.0000, 0.0000],\n",
       "         [0.0000, 0.0000, 0.0000, 0.0000],\n",
       "         [0.0000, 0.0000, 0.0000, 0.0000]]], grad_fn=<CopySlices>)"
      ]
     },
     "execution_count": 46,
     "metadata": {},
     "output_type": "execute_result"
    }
   ],
   "source": [
    "hs[:, 1, :] = h_t   \n",
    "hs"
   ]
  },
  {
   "cell_type": "markdown",
   "id": "f771609b-dfb8-4a0c-a9ff-ff3aec2e619e",
   "metadata": {},
   "source": [
    "#### GRU - Recursion \n",
    "Now that we've seen how 2 passes through the GRU look like, let's write a loop to do the remaining passes.  The loop in this case will start at `t=2` and run the rest of the context leght.  We'll capture the predicted weights into `hs` so that we'll have each example's weights and the link back for the backward pass during back propogation. "
   ]
  },
  {
   "cell_type": "code",
   "execution_count": 47,
   "id": "4c0be513-11d4-4856-94cd-665d63b3d8c6",
   "metadata": {},
   "outputs": [
    {
     "data": {
      "text/plain": [
       "tensor([[[0.0955, 0.0955, 0.0955, 0.0955],\n",
       "         [0.1749, 0.1749, 0.1749, 0.1749],\n",
       "         [0.2808, 0.2808, 0.2808, 0.2808],\n",
       "         [0.3341, 0.3341, 0.3341, 0.3341],\n",
       "         [0.3812, 0.3812, 0.3812, 0.3812],\n",
       "         [0.4230, 0.4230, 0.4230, 0.4230],\n",
       "         [0.4829, 0.4829, 0.4829, 0.4829],\n",
       "         [0.5147, 0.5147, 0.5147, 0.5147]],\n",
       "\n",
       "        [[0.1992, 0.1992, 0.1992, 0.1992],\n",
       "         [0.2632, 0.2632, 0.2632, 0.2632],\n",
       "         [0.3188, 0.3188, 0.3188, 0.3188],\n",
       "         [0.3962, 0.3962, 0.3962, 0.3962],\n",
       "         [0.4365, 0.4365, 0.4365, 0.4365],\n",
       "         [0.4727, 0.4727, 0.4727, 0.4727],\n",
       "         [0.5054, 0.5054, 0.5054, 0.5054],\n",
       "         [0.5352, 0.5352, 0.5352, 0.5352]]], grad_fn=<CopySlices>)"
      ]
     },
     "execution_count": 47,
     "metadata": {},
     "output_type": "execute_result"
    }
   ],
   "source": [
    "for t in range(2,T_context):\n",
    "    \n",
    "    # set input and previous\n",
    "    h_prev = h_t\n",
    "    x_t = x[:, t, :]\n",
    "\n",
    "    # calculate weights\n",
    "    hz, hr, hh = h2g(h_prev).split(hidden_size, dim=-1)\n",
    "    xz, xr, xh = x2g(x_t).split(hidden_size, dim=-1)\n",
    "\n",
    "    # update gate\n",
    "    z = torch.sigmoid(xz + hz)\n",
    "\n",
    "    # reset gate\n",
    "    r = torch.sigmoid(xr + hr)\n",
    "\n",
    "    # candidate hidden state\n",
    "    h_cand = torch.tanh(xh + (r * hh))\n",
    "\n",
    "    # recursion output\n",
    "    h_cand_imp = (1 - z) * h_cand\n",
    "    h_prev_imp = z * h_prev\n",
    "    h_t = h_cand_imp + h_prev_imp\n",
    "\n",
    "    # save h_t\n",
    "    hs[:, t, :] = h_t   \n",
    "\n",
    "hs"
   ]
  },
  {
   "cell_type": "markdown",
   "id": "d583b860-2977-49cb-8945-9c60eeb3d479",
   "metadata": {},
   "source": [
    "Combine out recurring inputs into the 2 different batches"
   ]
  },
  {
   "cell_type": "markdown",
   "id": "1b4c77db-2d10-454f-b512-92ac5b024e61",
   "metadata": {},
   "source": [
    "### Final Dropout \n",
    "\n",
    "After completing our recurrent unit, we'll peform another round of dropout. Dropout after the GRU regularizes the layer output / readout without corrupting the recurrent dynamics; injecting fresh noise inside the recurrence each step tends to destabilize long-range memory.  Often times this step has “locked” dropout, meaning a single mask broadcast across time, which gives the same effect as per-step dropout with a fixed mask but avoids i.i.d. noise at every timestep.  We however will be doing just default dropout that is not locked to simplify our code. \n",
    "\n",
    "As a reminder, we perform Bernoulli based dropout which both removes entries adds p to the surviving entries. "
   ]
  },
  {
   "cell_type": "code",
   "execution_count": 48,
   "id": "14428ec8-69e9-4605-a6fa-eb1012337be4",
   "metadata": {},
   "outputs": [
    {
     "data": {
      "text/plain": [
       "(torch.Size([2, 8, 4]),\n",
       " tensor([[[0.0000, 0.1061, 0.1061, 0.1061],\n",
       "          [0.1943, 0.1943, 0.1943, 0.1943],\n",
       "          [0.3120, 0.3120, 0.3120, 0.3120],\n",
       "          [0.3712, 0.3712, 0.3712, 0.0000],\n",
       "          [0.4235, 0.0000, 0.4235, 0.4235],\n",
       "          [0.4700, 0.4700, 0.4700, 0.4700],\n",
       "          [0.0000, 0.5366, 0.5366, 0.5366],\n",
       "          [0.5719, 0.5719, 0.5719, 0.5719]],\n",
       " \n",
       "         [[0.2214, 0.2214, 0.2214, 0.2214],\n",
       "          [0.2925, 0.2925, 0.2925, 0.2925],\n",
       "          [0.3542, 0.3542, 0.3542, 0.3542],\n",
       "          [0.4402, 0.4402, 0.4402, 0.4402],\n",
       "          [0.4850, 0.4850, 0.4850, 0.4850],\n",
       "          [0.5252, 0.5252, 0.5252, 0.5252],\n",
       "          [0.5616, 0.5616, 0.5616, 0.5616],\n",
       "          [0.5947, 0.5947, 0.5947, 0.5947]]], grad_fn=<MulBackward0>))"
      ]
     },
     "execution_count": 48,
     "metadata": {},
     "output_type": "execute_result"
    }
   ],
   "source": [
    "x = dropout(hs)\n",
    "x.size(), x"
   ]
  },
  {
   "cell_type": "markdown",
   "id": "bc1de516-4387-4cd9-b3b4-93c9938ff46e",
   "metadata": {},
   "source": [
    "### Output Layers AKA Model Head."
   ]
  },
  {
   "cell_type": "markdown",
   "id": "22593c65-be72-436f-9e1c-8620c22c04ab",
   "metadata": {},
   "source": [
    "The GRU unit is our recurrent unit for this example. In practice, this unit can be scaled by increasing the hidden_size dimension or increasing the complexity and flavors of the recurring unit. Once those layers are complete and we've done dropout normalization, during the forward pass we then start the output process that results in `logits` which is a representation of the probability of each token being the next token given the input.  \n",
    "\n",
    "This layer is also known as the model **head**. This layer is called this because it is a small, task-specific module attached to a model’s shared backbone that maps hidden features to the final outputs.  In our example case, this is a linear layer mapping the backbone to vocab logits. The benefit of this structure is that you can use the shared hidden features and train different heads for different tasks without starting from scratch. An example would be a classifier head, or policy head in RL.\n",
    "\n",
    "<img src=\"explainer_screenshots/gru/output_layer.png\" width=\"200\">\n",
    "\n",
    "We'll use a similar head that we've used in other examples that focuses on predicing the next token. For our head we want to map to a predicted token which we'll look at as `logits`. In the process to generate `logits` we take the dropout output `x` of the GRU, then project, using a linear layer, to the vocabulary resulting in a `B, T, vocab_size` matrix known as `logits`.  \n",
    "\n",
    "In training, the `logits` are then compared with `y` to see how close the  model is to predicting the correct next token. For inference, the `logits` are then used to drive sampling which is how the next token is then derived. \n",
    "\n",
    "Contrary to our transformer example, we won't be doing weight tying and instead use an initial linear layer.  We'll start initially by setting all of the values equal to 1 meaning they all have equal probablity.  This will highlight just how impactful back-propogation and training is.  "
   ]
  },
  {
   "cell_type": "code",
   "execution_count": 49,
   "id": "27e76d90-e130-4e4f-a221-18ee7461876e",
   "metadata": {},
   "outputs": [
    {
     "data": {
      "text/plain": [
       "(torch.Size([36, 4]),\n",
       " Parameter containing:\n",
       " tensor([[1., 1., 1., 1.],\n",
       "         [1., 1., 1., 1.],\n",
       "         [1., 1., 1., 1.],\n",
       "         [1., 1., 1., 1.],\n",
       "         [1., 1., 1., 1.],\n",
       "         [1., 1., 1., 1.],\n",
       "         [1., 1., 1., 1.],\n",
       "         [1., 1., 1., 1.],\n",
       "         [1., 1., 1., 1.],\n",
       "         [1., 1., 1., 1.],\n",
       "         [1., 1., 1., 1.],\n",
       "         [1., 1., 1., 1.],\n",
       "         [1., 1., 1., 1.],\n",
       "         [1., 1., 1., 1.],\n",
       "         [1., 1., 1., 1.],\n",
       "         [1., 1., 1., 1.],\n",
       "         [1., 1., 1., 1.],\n",
       "         [1., 1., 1., 1.],\n",
       "         [1., 1., 1., 1.],\n",
       "         [1., 1., 1., 1.],\n",
       "         [1., 1., 1., 1.],\n",
       "         [1., 1., 1., 1.],\n",
       "         [1., 1., 1., 1.],\n",
       "         [1., 1., 1., 1.],\n",
       "         [1., 1., 1., 1.],\n",
       "         [1., 1., 1., 1.],\n",
       "         [1., 1., 1., 1.],\n",
       "         [1., 1., 1., 1.],\n",
       "         [1., 1., 1., 1.],\n",
       "         [1., 1., 1., 1.],\n",
       "         [1., 1., 1., 1.],\n",
       "         [1., 1., 1., 1.],\n",
       "         [1., 1., 1., 1.],\n",
       "         [1., 1., 1., 1.],\n",
       "         [1., 1., 1., 1.],\n",
       "         [1., 1., 1., 1.]], requires_grad=True))"
      ]
     },
     "execution_count": 49,
     "metadata": {},
     "output_type": "execute_result"
    }
   ],
   "source": [
    "lm_head = nn.Linear(hidden_size, vocab_size, bias=False)\n",
    "torch.nn.init.ones_(lm_head.weight)\n",
    "lm_head.weight.size(), lm_head.weight"
   ]
  },
  {
   "cell_type": "markdown",
   "id": "ee8202a0-64d2-4b94-8ab2-5a69e0602c40",
   "metadata": {},
   "source": [
    "#### Output layer - LM Head aka logits\n",
    "We now project `x` onto the vocabulary resulting in a `B X T X vocab_size` final array `logits`.  This output correlates with the \n",
    "probabilty of each output token given the input context.  The best way to read  this is:\n",
    "\n",
    "(dimension 0) we have 2 batches B, \n",
    "(dimension 1) each batch has an example for each value between 1 and context length T \n",
    "(dimension 2) for each example we see the probability of each token in our vocabulary\n",
    "\n",
    "Since our output head had consistent weights across all the dimensions, we fully expect that our logits will have equal values across all positions.  In practice this means that our model will have the same probability of a token output as the 'next token' regardless of the preceeding text, meaning it's shit. Luckily backpropogation has a way of updating this so that with enough data and time the probabilities change. \n",
    "\n",
    "Note that if we wanted to run inference, after calculating the logits we'd run a softmax to sample a token out of the probability distribution. "
   ]
  },
  {
   "cell_type": "code",
   "execution_count": 50,
   "id": "19b23a27-073d-499e-a5d3-5d1cc5d42f6b",
   "metadata": {},
   "outputs": [
    {
     "data": {
      "text/plain": [
       "(torch.Size([2, 8, 36]),\n",
       " tensor([[[0.3183, 0.3183, 0.3183, 0.3183, 0.3183, 0.3183, 0.3183, 0.3183,\n",
       "           0.3183, 0.3183, 0.3183, 0.3183, 0.3183, 0.3183, 0.3183, 0.3183,\n",
       "           0.3183, 0.3183, 0.3183, 0.3183, 0.3183, 0.3183, 0.3183, 0.3183,\n",
       "           0.3183, 0.3183, 0.3183, 0.3183, 0.3183, 0.3183, 0.3183, 0.3183,\n",
       "           0.3183, 0.3183, 0.3183, 0.3183],\n",
       "          [0.7771, 0.7771, 0.7771, 0.7771, 0.7771, 0.7771, 0.7771, 0.7771,\n",
       "           0.7771, 0.7771, 0.7771, 0.7771, 0.7771, 0.7771, 0.7771, 0.7771,\n",
       "           0.7771, 0.7771, 0.7771, 0.7771, 0.7771, 0.7771, 0.7771, 0.7771,\n",
       "           0.7771, 0.7771, 0.7771, 0.7771, 0.7771, 0.7771, 0.7771, 0.7771,\n",
       "           0.7771, 0.7771, 0.7771, 0.7771],\n",
       "          [1.2478, 1.2478, 1.2478, 1.2478, 1.2478, 1.2478, 1.2478, 1.2478,\n",
       "           1.2478, 1.2478, 1.2478, 1.2478, 1.2478, 1.2478, 1.2478, 1.2478,\n",
       "           1.2478, 1.2478, 1.2478, 1.2478, 1.2478, 1.2478, 1.2478, 1.2478,\n",
       "           1.2478, 1.2478, 1.2478, 1.2478, 1.2478, 1.2478, 1.2478, 1.2478,\n",
       "           1.2478, 1.2478, 1.2478, 1.2478],\n",
       "          [1.1137, 1.1137, 1.1137, 1.1137, 1.1137, 1.1137, 1.1137, 1.1137,\n",
       "           1.1137, 1.1137, 1.1137, 1.1137, 1.1137, 1.1137, 1.1137, 1.1137,\n",
       "           1.1137, 1.1137, 1.1137, 1.1137, 1.1137, 1.1137, 1.1137, 1.1137,\n",
       "           1.1137, 1.1137, 1.1137, 1.1137, 1.1137, 1.1137, 1.1137, 1.1137,\n",
       "           1.1137, 1.1137, 1.1137, 1.1137],\n",
       "          [1.2705, 1.2705, 1.2705, 1.2705, 1.2705, 1.2705, 1.2705, 1.2705,\n",
       "           1.2705, 1.2705, 1.2705, 1.2705, 1.2705, 1.2705, 1.2705, 1.2705,\n",
       "           1.2705, 1.2705, 1.2705, 1.2705, 1.2705, 1.2705, 1.2705, 1.2705,\n",
       "           1.2705, 1.2705, 1.2705, 1.2705, 1.2705, 1.2705, 1.2705, 1.2705,\n",
       "           1.2705, 1.2705, 1.2705, 1.2705],\n",
       "          [1.8801, 1.8801, 1.8801, 1.8801, 1.8801, 1.8801, 1.8801, 1.8801,\n",
       "           1.8801, 1.8801, 1.8801, 1.8801, 1.8801, 1.8801, 1.8801, 1.8801,\n",
       "           1.8801, 1.8801, 1.8801, 1.8801, 1.8801, 1.8801, 1.8801, 1.8801,\n",
       "           1.8801, 1.8801, 1.8801, 1.8801, 1.8801, 1.8801, 1.8801, 1.8801,\n",
       "           1.8801, 1.8801, 1.8801, 1.8801],\n",
       "          [1.6097, 1.6097, 1.6097, 1.6097, 1.6097, 1.6097, 1.6097, 1.6097,\n",
       "           1.6097, 1.6097, 1.6097, 1.6097, 1.6097, 1.6097, 1.6097, 1.6097,\n",
       "           1.6097, 1.6097, 1.6097, 1.6097, 1.6097, 1.6097, 1.6097, 1.6097,\n",
       "           1.6097, 1.6097, 1.6097, 1.6097, 1.6097, 1.6097, 1.6097, 1.6097,\n",
       "           1.6097, 1.6097, 1.6097, 1.6097],\n",
       "          [2.2876, 2.2876, 2.2876, 2.2876, 2.2876, 2.2876, 2.2876, 2.2876,\n",
       "           2.2876, 2.2876, 2.2876, 2.2876, 2.2876, 2.2876, 2.2876, 2.2876,\n",
       "           2.2876, 2.2876, 2.2876, 2.2876, 2.2876, 2.2876, 2.2876, 2.2876,\n",
       "           2.2876, 2.2876, 2.2876, 2.2876, 2.2876, 2.2876, 2.2876, 2.2876,\n",
       "           2.2876, 2.2876, 2.2876, 2.2876]],\n",
       " \n",
       "         [[0.8855, 0.8855, 0.8855, 0.8855, 0.8855, 0.8855, 0.8855, 0.8855,\n",
       "           0.8855, 0.8855, 0.8855, 0.8855, 0.8855, 0.8855, 0.8855, 0.8855,\n",
       "           0.8855, 0.8855, 0.8855, 0.8855, 0.8855, 0.8855, 0.8855, 0.8855,\n",
       "           0.8855, 0.8855, 0.8855, 0.8855, 0.8855, 0.8855, 0.8855, 0.8855,\n",
       "           0.8855, 0.8855, 0.8855, 0.8855],\n",
       "          [1.1699, 1.1699, 1.1699, 1.1699, 1.1699, 1.1699, 1.1699, 1.1699,\n",
       "           1.1699, 1.1699, 1.1699, 1.1699, 1.1699, 1.1699, 1.1699, 1.1699,\n",
       "           1.1699, 1.1699, 1.1699, 1.1699, 1.1699, 1.1699, 1.1699, 1.1699,\n",
       "           1.1699, 1.1699, 1.1699, 1.1699, 1.1699, 1.1699, 1.1699, 1.1699,\n",
       "           1.1699, 1.1699, 1.1699, 1.1699],\n",
       "          [1.4167, 1.4167, 1.4167, 1.4167, 1.4167, 1.4167, 1.4167, 1.4167,\n",
       "           1.4167, 1.4167, 1.4167, 1.4167, 1.4167, 1.4167, 1.4167, 1.4167,\n",
       "           1.4167, 1.4167, 1.4167, 1.4167, 1.4167, 1.4167, 1.4167, 1.4167,\n",
       "           1.4167, 1.4167, 1.4167, 1.4167, 1.4167, 1.4167, 1.4167, 1.4167,\n",
       "           1.4167, 1.4167, 1.4167, 1.4167],\n",
       "          [1.7609, 1.7609, 1.7609, 1.7609, 1.7609, 1.7609, 1.7609, 1.7609,\n",
       "           1.7609, 1.7609, 1.7609, 1.7609, 1.7609, 1.7609, 1.7609, 1.7609,\n",
       "           1.7609, 1.7609, 1.7609, 1.7609, 1.7609, 1.7609, 1.7609, 1.7609,\n",
       "           1.7609, 1.7609, 1.7609, 1.7609, 1.7609, 1.7609, 1.7609, 1.7609,\n",
       "           1.7609, 1.7609, 1.7609, 1.7609],\n",
       "          [1.9399, 1.9399, 1.9399, 1.9399, 1.9399, 1.9399, 1.9399, 1.9399,\n",
       "           1.9399, 1.9399, 1.9399, 1.9399, 1.9399, 1.9399, 1.9399, 1.9399,\n",
       "           1.9399, 1.9399, 1.9399, 1.9399, 1.9399, 1.9399, 1.9399, 1.9399,\n",
       "           1.9399, 1.9399, 1.9399, 1.9399, 1.9399, 1.9399, 1.9399, 1.9399,\n",
       "           1.9399, 1.9399, 1.9399, 1.9399],\n",
       "          [2.1008, 2.1008, 2.1008, 2.1008, 2.1008, 2.1008, 2.1008, 2.1008,\n",
       "           2.1008, 2.1008, 2.1008, 2.1008, 2.1008, 2.1008, 2.1008, 2.1008,\n",
       "           2.1008, 2.1008, 2.1008, 2.1008, 2.1008, 2.1008, 2.1008, 2.1008,\n",
       "           2.1008, 2.1008, 2.1008, 2.1008, 2.1008, 2.1008, 2.1008, 2.1008,\n",
       "           2.1008, 2.1008, 2.1008, 2.1008],\n",
       "          [2.2464, 2.2464, 2.2464, 2.2464, 2.2464, 2.2464, 2.2464, 2.2464,\n",
       "           2.2464, 2.2464, 2.2464, 2.2464, 2.2464, 2.2464, 2.2464, 2.2464,\n",
       "           2.2464, 2.2464, 2.2464, 2.2464, 2.2464, 2.2464, 2.2464, 2.2464,\n",
       "           2.2464, 2.2464, 2.2464, 2.2464, 2.2464, 2.2464, 2.2464, 2.2464,\n",
       "           2.2464, 2.2464, 2.2464, 2.2464],\n",
       "          [2.3788, 2.3788, 2.3788, 2.3788, 2.3788, 2.3788, 2.3788, 2.3788,\n",
       "           2.3788, 2.3788, 2.3788, 2.3788, 2.3788, 2.3788, 2.3788, 2.3788,\n",
       "           2.3788, 2.3788, 2.3788, 2.3788, 2.3788, 2.3788, 2.3788, 2.3788,\n",
       "           2.3788, 2.3788, 2.3788, 2.3788, 2.3788, 2.3788, 2.3788, 2.3788,\n",
       "           2.3788, 2.3788, 2.3788, 2.3788]]], grad_fn=<UnsafeViewBackward0>))"
      ]
     },
     "execution_count": 50,
     "metadata": {},
     "output_type": "execute_result"
    }
   ],
   "source": [
    "logits = lm_head(x)\n",
    "\n",
    "logits.shape, logits"
   ]
  },
  {
   "cell_type": "markdown",
   "id": "7a1e4018-31cc-426d-b96e-36d99c133316",
   "metadata": {},
   "source": [
    "## Loss calculation"
   ]
  },
  {
   "cell_type": "markdown",
   "id": "5a1c01b9-d09b-4708-bd9e-3aceeeb9cb18",
   "metadata": {},
   "source": [
    "Now we have to see how good our ~shit~ prediction is.  Since we haven't done training, and we saw that regardless of example we had the same exact logit values, we can expect it's bad. That said, we need to know how bad. For this example we'll use cross entropy, also known as the negative log likelihood of the softmax.  Our loss calculates\n",
    "\n",
    "$$\n",
    "\\ell_i=-\\log\\big(\\mathrm{softmax}(z_i)\\_{y_i}\\big)\n",
    "= -z_{i,y_i}+\\log\\!\\sum_{c=1}^C e^{z_{i,c}},\n",
    "$$\n",
    "\n",
    "\n",
    "To calculate loss we'll pass in the calculated `logits` and our next tokens stored in `y`. The cross entropy function does not respect batches so we'll flatten the `B` dimension for both `logits` and `y`"
   ]
  },
  {
   "cell_type": "code",
   "execution_count": 51,
   "id": "8423d81b-3ceb-44a0-b8dd-7b7ffe5cb977",
   "metadata": {},
   "outputs": [],
   "source": [
    "import torch.nn.functional as F"
   ]
  },
  {
   "cell_type": "code",
   "execution_count": 52,
   "id": "3dce85cc-5c7e-47bf-8f0e-e23b7f6aa337",
   "metadata": {},
   "outputs": [
    {
     "data": {
      "text/plain": [
       "(torch.Size([16]),\n",
       " tensor([15, 32,  9,  5, 20, 30, 15, 11,  9,  6, 20,  5,  0, 13, 21,  0]))"
      ]
     },
     "execution_count": 52,
     "metadata": {},
     "output_type": "execute_result"
    }
   ],
   "source": [
    "y_flat = y.view(-1)\n",
    "y_flat.shape, y_flat"
   ]
  },
  {
   "cell_type": "code",
   "execution_count": 53,
   "id": "03a2daf1-b8cb-4660-9b46-c60d6c95ce58",
   "metadata": {},
   "outputs": [
    {
     "data": {
      "text/plain": [
       "(torch.Size([16, 36]),\n",
       " tensor([[0.3183, 0.3183, 0.3183, 0.3183, 0.3183, 0.3183, 0.3183, 0.3183, 0.3183,\n",
       "          0.3183, 0.3183, 0.3183, 0.3183, 0.3183, 0.3183, 0.3183, 0.3183, 0.3183,\n",
       "          0.3183, 0.3183, 0.3183, 0.3183, 0.3183, 0.3183, 0.3183, 0.3183, 0.3183,\n",
       "          0.3183, 0.3183, 0.3183, 0.3183, 0.3183, 0.3183, 0.3183, 0.3183, 0.3183],\n",
       "         [0.7771, 0.7771, 0.7771, 0.7771, 0.7771, 0.7771, 0.7771, 0.7771, 0.7771,\n",
       "          0.7771, 0.7771, 0.7771, 0.7771, 0.7771, 0.7771, 0.7771, 0.7771, 0.7771,\n",
       "          0.7771, 0.7771, 0.7771, 0.7771, 0.7771, 0.7771, 0.7771, 0.7771, 0.7771,\n",
       "          0.7771, 0.7771, 0.7771, 0.7771, 0.7771, 0.7771, 0.7771, 0.7771, 0.7771],\n",
       "         [1.2478, 1.2478, 1.2478, 1.2478, 1.2478, 1.2478, 1.2478, 1.2478, 1.2478,\n",
       "          1.2478, 1.2478, 1.2478, 1.2478, 1.2478, 1.2478, 1.2478, 1.2478, 1.2478,\n",
       "          1.2478, 1.2478, 1.2478, 1.2478, 1.2478, 1.2478, 1.2478, 1.2478, 1.2478,\n",
       "          1.2478, 1.2478, 1.2478, 1.2478, 1.2478, 1.2478, 1.2478, 1.2478, 1.2478],\n",
       "         [1.1137, 1.1137, 1.1137, 1.1137, 1.1137, 1.1137, 1.1137, 1.1137, 1.1137,\n",
       "          1.1137, 1.1137, 1.1137, 1.1137, 1.1137, 1.1137, 1.1137, 1.1137, 1.1137,\n",
       "          1.1137, 1.1137, 1.1137, 1.1137, 1.1137, 1.1137, 1.1137, 1.1137, 1.1137,\n",
       "          1.1137, 1.1137, 1.1137, 1.1137, 1.1137, 1.1137, 1.1137, 1.1137, 1.1137],\n",
       "         [1.2705, 1.2705, 1.2705, 1.2705, 1.2705, 1.2705, 1.2705, 1.2705, 1.2705,\n",
       "          1.2705, 1.2705, 1.2705, 1.2705, 1.2705, 1.2705, 1.2705, 1.2705, 1.2705,\n",
       "          1.2705, 1.2705, 1.2705, 1.2705, 1.2705, 1.2705, 1.2705, 1.2705, 1.2705,\n",
       "          1.2705, 1.2705, 1.2705, 1.2705, 1.2705, 1.2705, 1.2705, 1.2705, 1.2705],\n",
       "         [1.8801, 1.8801, 1.8801, 1.8801, 1.8801, 1.8801, 1.8801, 1.8801, 1.8801,\n",
       "          1.8801, 1.8801, 1.8801, 1.8801, 1.8801, 1.8801, 1.8801, 1.8801, 1.8801,\n",
       "          1.8801, 1.8801, 1.8801, 1.8801, 1.8801, 1.8801, 1.8801, 1.8801, 1.8801,\n",
       "          1.8801, 1.8801, 1.8801, 1.8801, 1.8801, 1.8801, 1.8801, 1.8801, 1.8801],\n",
       "         [1.6097, 1.6097, 1.6097, 1.6097, 1.6097, 1.6097, 1.6097, 1.6097, 1.6097,\n",
       "          1.6097, 1.6097, 1.6097, 1.6097, 1.6097, 1.6097, 1.6097, 1.6097, 1.6097,\n",
       "          1.6097, 1.6097, 1.6097, 1.6097, 1.6097, 1.6097, 1.6097, 1.6097, 1.6097,\n",
       "          1.6097, 1.6097, 1.6097, 1.6097, 1.6097, 1.6097, 1.6097, 1.6097, 1.6097],\n",
       "         [2.2876, 2.2876, 2.2876, 2.2876, 2.2876, 2.2876, 2.2876, 2.2876, 2.2876,\n",
       "          2.2876, 2.2876, 2.2876, 2.2876, 2.2876, 2.2876, 2.2876, 2.2876, 2.2876,\n",
       "          2.2876, 2.2876, 2.2876, 2.2876, 2.2876, 2.2876, 2.2876, 2.2876, 2.2876,\n",
       "          2.2876, 2.2876, 2.2876, 2.2876, 2.2876, 2.2876, 2.2876, 2.2876, 2.2876],\n",
       "         [0.8855, 0.8855, 0.8855, 0.8855, 0.8855, 0.8855, 0.8855, 0.8855, 0.8855,\n",
       "          0.8855, 0.8855, 0.8855, 0.8855, 0.8855, 0.8855, 0.8855, 0.8855, 0.8855,\n",
       "          0.8855, 0.8855, 0.8855, 0.8855, 0.8855, 0.8855, 0.8855, 0.8855, 0.8855,\n",
       "          0.8855, 0.8855, 0.8855, 0.8855, 0.8855, 0.8855, 0.8855, 0.8855, 0.8855],\n",
       "         [1.1699, 1.1699, 1.1699, 1.1699, 1.1699, 1.1699, 1.1699, 1.1699, 1.1699,\n",
       "          1.1699, 1.1699, 1.1699, 1.1699, 1.1699, 1.1699, 1.1699, 1.1699, 1.1699,\n",
       "          1.1699, 1.1699, 1.1699, 1.1699, 1.1699, 1.1699, 1.1699, 1.1699, 1.1699,\n",
       "          1.1699, 1.1699, 1.1699, 1.1699, 1.1699, 1.1699, 1.1699, 1.1699, 1.1699],\n",
       "         [1.4167, 1.4167, 1.4167, 1.4167, 1.4167, 1.4167, 1.4167, 1.4167, 1.4167,\n",
       "          1.4167, 1.4167, 1.4167, 1.4167, 1.4167, 1.4167, 1.4167, 1.4167, 1.4167,\n",
       "          1.4167, 1.4167, 1.4167, 1.4167, 1.4167, 1.4167, 1.4167, 1.4167, 1.4167,\n",
       "          1.4167, 1.4167, 1.4167, 1.4167, 1.4167, 1.4167, 1.4167, 1.4167, 1.4167],\n",
       "         [1.7609, 1.7609, 1.7609, 1.7609, 1.7609, 1.7609, 1.7609, 1.7609, 1.7609,\n",
       "          1.7609, 1.7609, 1.7609, 1.7609, 1.7609, 1.7609, 1.7609, 1.7609, 1.7609,\n",
       "          1.7609, 1.7609, 1.7609, 1.7609, 1.7609, 1.7609, 1.7609, 1.7609, 1.7609,\n",
       "          1.7609, 1.7609, 1.7609, 1.7609, 1.7609, 1.7609, 1.7609, 1.7609, 1.7609],\n",
       "         [1.9399, 1.9399, 1.9399, 1.9399, 1.9399, 1.9399, 1.9399, 1.9399, 1.9399,\n",
       "          1.9399, 1.9399, 1.9399, 1.9399, 1.9399, 1.9399, 1.9399, 1.9399, 1.9399,\n",
       "          1.9399, 1.9399, 1.9399, 1.9399, 1.9399, 1.9399, 1.9399, 1.9399, 1.9399,\n",
       "          1.9399, 1.9399, 1.9399, 1.9399, 1.9399, 1.9399, 1.9399, 1.9399, 1.9399],\n",
       "         [2.1008, 2.1008, 2.1008, 2.1008, 2.1008, 2.1008, 2.1008, 2.1008, 2.1008,\n",
       "          2.1008, 2.1008, 2.1008, 2.1008, 2.1008, 2.1008, 2.1008, 2.1008, 2.1008,\n",
       "          2.1008, 2.1008, 2.1008, 2.1008, 2.1008, 2.1008, 2.1008, 2.1008, 2.1008,\n",
       "          2.1008, 2.1008, 2.1008, 2.1008, 2.1008, 2.1008, 2.1008, 2.1008, 2.1008],\n",
       "         [2.2464, 2.2464, 2.2464, 2.2464, 2.2464, 2.2464, 2.2464, 2.2464, 2.2464,\n",
       "          2.2464, 2.2464, 2.2464, 2.2464, 2.2464, 2.2464, 2.2464, 2.2464, 2.2464,\n",
       "          2.2464, 2.2464, 2.2464, 2.2464, 2.2464, 2.2464, 2.2464, 2.2464, 2.2464,\n",
       "          2.2464, 2.2464, 2.2464, 2.2464, 2.2464, 2.2464, 2.2464, 2.2464, 2.2464],\n",
       "         [2.3788, 2.3788, 2.3788, 2.3788, 2.3788, 2.3788, 2.3788, 2.3788, 2.3788,\n",
       "          2.3788, 2.3788, 2.3788, 2.3788, 2.3788, 2.3788, 2.3788, 2.3788, 2.3788,\n",
       "          2.3788, 2.3788, 2.3788, 2.3788, 2.3788, 2.3788, 2.3788, 2.3788, 2.3788,\n",
       "          2.3788, 2.3788, 2.3788, 2.3788, 2.3788, 2.3788, 2.3788, 2.3788, 2.3788]],\n",
       "        grad_fn=<ViewBackward0>))"
      ]
     },
     "execution_count": 53,
     "metadata": {},
     "output_type": "execute_result"
    }
   ],
   "source": [
    "logits_flat = logits.view(-1, logits.size(-1))\n",
    "logits_flat.shape, logits_flat"
   ]
  },
  {
   "cell_type": "code",
   "execution_count": 54,
   "id": "4b287d1b-c82f-4f51-bb49-7a542ddd3287",
   "metadata": {},
   "outputs": [
    {
     "data": {
      "text/plain": [
       "(torch.Size([]), tensor(3.5835, grad_fn=<NllLossBackward0>))"
      ]
     },
     "execution_count": 54,
     "metadata": {},
     "output_type": "execute_result"
    }
   ],
   "source": [
    "loss = F.cross_entropy(logits_flat, y_flat)\n",
    "loss.shape, loss"
   ]
  },
  {
   "cell_type": "markdown",
   "id": "57f6a03a-4fae-47bf-8b2f-f4e0ca2fdee8",
   "metadata": {},
   "source": [
    "## Back Propogation"
   ]
  },
  {
   "cell_type": "markdown",
   "id": "d587d633-a3ed-49e3-a90a-9c505b079665",
   "metadata": {},
   "source": [
    "We now know just how ~well~ terribly the current model, with its weights and biases, does predicting the next token given the input context. We now need to know how to change the different weigths and biases to improve the formula.  We could do this by guessing through making minor changes and seeing what improves, or we can think through this more critically.\n",
    "\n",
    "If you review the chain of layers above, you can see that it's a series of formulas.  We can think of this as $f(g(x))$, except with many many more layers and complexities.  Since this is a formula, we can dig into our math toolbox and find a better way to determine what parts need to update.  Recall that in our calculus we learned that differentiation tells us the rate of change in a graph.  So if we treat the loss function $\\mathcal{L}$ as $\\mathcal{L}(f(g(x)))$ taking the partial differential \n",
    "\n",
    "$\\delta=\\partial \\mathcal{L}/\\partial h$\n",
    "\n",
    "at each layer will give us the impact of each weight/bias on our final out (alebit the inverse since our loss function is the negative log likelihood). \n",
    "\n",
    "Lucky for us, each layer of our model already has a placeholder for the partial differential called the **Gradient**. We'll use this field to store it.  We'll start by first zeroing out the gradients. We do this because of the nature of handling partial differentials for multiple dependencies. Recall that in mulitple places we had a formula structure of \n",
    "\n",
    "$a+b=c ; a+c= d$\n",
    "\n",
    "In this case $a$ has 2 dependencies and determining the partial derivative of $\\partial d / \\partial a$ requires understanding both the path from $d$ and $c$.  To determine the true impact of a we would sum both partial derivatives together.  Because of this property, the tool we use, the built in `.backwards()` automatically sums gradients, `+=`, so if we do not set the gradient to `0` we then end up with eroneous gradients. \n",
    "\n",
    "Finally, we start `.backwards` from the `loss`, not `logits` as our goal is to minimize loss, we need to ensure we are looking at the calcualations that impact loss which requires the whole forward pass to be able to generated the prediction `logits_flat`.  If we think of it as $\\mathcal{L}(f(x))$ where $f(x)$ is the forward pass to generate logits, then a simple chain rule is applied:\n",
    "\n",
    "${\\partial}/{\\partial x} =  \\mathcal{L}'(f(x)) f'(x)$\n",
    "\n",
    "Lets start by zeroing the gradients and leaning on pytorch to calculate the gradients for us. We'll also validate the gradients were `none`."
   ]
  },
  {
   "cell_type": "code",
   "execution_count": 55,
   "id": "0455dc7a-fab4-4844-bf37-2ac311226907",
   "metadata": {},
   "outputs": [
    {
     "data": {
      "text/plain": [
       "(None, None)"
      ]
     },
     "execution_count": 55,
     "metadata": {},
     "output_type": "execute_result"
    }
   ],
   "source": [
    "lm_head.zero_grad()\n",
    "h2g.zero_grad()\n",
    "x2g.zero_grad()\n",
    "wte.zero_grad()\n",
    "\n",
    "\n",
    "# validate gradients\n",
    "lm_head.weight.grad, wte.weight.grad"
   ]
  },
  {
   "cell_type": "markdown",
   "id": "52f54a83-a344-4692-9c3d-ab4978df8cb9",
   "metadata": {},
   "source": [
    "**Auto-Diff** - Now let's see the magic of the gradients populate.  This magic is called auto-differentiation, or auto-diff for short. This allows us to not have to write write many layers of nasty code to do the differentiation for us, but, if you're a sadist, you can surely find people who have written out that code (it's not too bad since you just do one layer at a time). "
   ]
  },
  {
   "cell_type": "code",
   "execution_count": 56,
   "id": "c0b7acd2-55bc-4fe6-9c41-1ddc0ee05eec",
   "metadata": {},
   "outputs": [],
   "source": [
    "loss.backward()"
   ]
  },
  {
   "cell_type": "code",
   "execution_count": 57,
   "id": "119fa3fb-0e8c-4db3-9df8-4a1b361279d1",
   "metadata": {},
   "outputs": [
    {
     "data": {
      "text/plain": [
       "(tensor([[-0.0574, -0.0570, -0.0563, -0.0569],\n",
       "         [ 0.0101,  0.0105,  0.0112,  0.0106],\n",
       "         [ 0.0101,  0.0105,  0.0112,  0.0106],\n",
       "         [ 0.0101,  0.0105,  0.0112,  0.0106],\n",
       "         [ 0.0101,  0.0105,  0.0112,  0.0106],\n",
       "         [-0.0406, -0.0402, -0.0395, -0.0169],\n",
       "         [-0.0082, -0.0078, -0.0071, -0.0077],\n",
       "         [ 0.0101,  0.0105,  0.0112,  0.0106],\n",
       "         [ 0.0101,  0.0105,  0.0112,  0.0106],\n",
       "         [-0.0232, -0.0229, -0.0221, -0.0228],\n",
       "         [ 0.0101,  0.0105,  0.0112,  0.0106],\n",
       "         [-0.0256, -0.0253, -0.0245, -0.0252],\n",
       "         [ 0.0101,  0.0105,  0.0112,  0.0106],\n",
       "         [-0.0227, -0.0223, -0.0216, -0.0223],\n",
       "         [ 0.0101,  0.0105,  0.0112,  0.0106],\n",
       "         [ 0.0101, -0.0297, -0.0290, -0.0296],\n",
       "         [ 0.0101,  0.0105,  0.0112,  0.0106],\n",
       "         [ 0.0101,  0.0105,  0.0112,  0.0106],\n",
       "         [ 0.0101,  0.0105,  0.0112,  0.0106],\n",
       "         [ 0.0101,  0.0105,  0.0112,  0.0106],\n",
       "         [-0.0385, -0.0117, -0.0374, -0.0380],\n",
       "         [-0.0250, -0.0246, -0.0239, -0.0245],\n",
       "         [ 0.0101,  0.0105,  0.0112,  0.0106],\n",
       "         [ 0.0101,  0.0105,  0.0112,  0.0106],\n",
       "         [ 0.0101,  0.0105,  0.0112,  0.0106],\n",
       "         [ 0.0101,  0.0105,  0.0112,  0.0106],\n",
       "         [ 0.0101,  0.0105,  0.0112,  0.0106],\n",
       "         [ 0.0101,  0.0105,  0.0112,  0.0106],\n",
       "         [ 0.0101,  0.0105,  0.0112,  0.0106],\n",
       "         [ 0.0101,  0.0105,  0.0112,  0.0106],\n",
       "         [-0.0193, -0.0189, -0.0182, -0.0188],\n",
       "         [ 0.0101,  0.0105,  0.0112,  0.0106],\n",
       "         [-0.0020, -0.0017, -0.0009, -0.0016],\n",
       "         [ 0.0101,  0.0105,  0.0112,  0.0106],\n",
       "         [ 0.0101,  0.0105,  0.0112,  0.0106],\n",
       "         [ 0.0101,  0.0105,  0.0112,  0.0106]]),\n",
       " tensor([[-2.7817e-09, -2.7817e-09, -2.7817e-09, -2.7817e-09],\n",
       "         [ 0.0000e+00,  0.0000e+00,  0.0000e+00,  0.0000e+00],\n",
       "         [ 0.0000e+00,  0.0000e+00,  0.0000e+00,  0.0000e+00],\n",
       "         [ 0.0000e+00,  0.0000e+00,  0.0000e+00,  0.0000e+00],\n",
       "         [ 0.0000e+00,  0.0000e+00,  0.0000e+00,  0.0000e+00],\n",
       "         [-7.8155e-09, -7.8155e-09, -7.8155e-09, -7.8155e-09],\n",
       "         [-7.3990e-09, -7.3990e-09, -7.3990e-09, -7.3990e-09],\n",
       "         [ 0.0000e+00,  0.0000e+00,  0.0000e+00,  0.0000e+00],\n",
       "         [ 0.0000e+00,  0.0000e+00,  0.0000e+00,  0.0000e+00],\n",
       "         [-1.3882e-08, -1.3882e-08, -1.3882e-08, -1.3882e-08],\n",
       "         [ 0.0000e+00,  0.0000e+00,  0.0000e+00,  0.0000e+00],\n",
       "         [-1.0851e-08,  0.0000e+00, -1.0851e-08,  0.0000e+00],\n",
       "         [ 0.0000e+00,  0.0000e+00,  0.0000e+00,  0.0000e+00],\n",
       "         [-2.0346e-09, -2.0346e-09, -2.0346e-09, -2.0346e-09],\n",
       "         [ 0.0000e+00,  0.0000e+00,  0.0000e+00,  0.0000e+00],\n",
       "         [-9.7623e-09, -9.7623e-09, -9.7623e-09, -9.7623e-09],\n",
       "         [ 0.0000e+00,  0.0000e+00,  0.0000e+00,  0.0000e+00],\n",
       "         [ 0.0000e+00,  0.0000e+00,  0.0000e+00,  0.0000e+00],\n",
       "         [ 0.0000e+00,  0.0000e+00,  0.0000e+00,  0.0000e+00],\n",
       "         [ 0.0000e+00,  0.0000e+00,  0.0000e+00,  0.0000e+00],\n",
       "         [-1.1587e-08, -1.1587e-08, -2.4905e-09, -1.1587e-08],\n",
       "         [-1.3571e-09, -1.3571e-09, -1.3571e-09, -1.3571e-09],\n",
       "         [ 0.0000e+00,  0.0000e+00,  0.0000e+00,  0.0000e+00],\n",
       "         [ 0.0000e+00,  0.0000e+00,  0.0000e+00,  0.0000e+00],\n",
       "         [ 0.0000e+00,  0.0000e+00,  0.0000e+00,  0.0000e+00],\n",
       "         [ 0.0000e+00,  0.0000e+00,  0.0000e+00,  0.0000e+00],\n",
       "         [ 0.0000e+00,  0.0000e+00,  0.0000e+00,  0.0000e+00],\n",
       "         [ 0.0000e+00,  0.0000e+00,  0.0000e+00,  0.0000e+00],\n",
       "         [ 0.0000e+00,  0.0000e+00,  0.0000e+00,  0.0000e+00],\n",
       "         [ 0.0000e+00,  0.0000e+00,  0.0000e+00,  0.0000e+00],\n",
       "         [-1.7484e-09,  0.0000e+00, -1.7484e-09, -1.7484e-09],\n",
       "         [ 0.0000e+00,  0.0000e+00,  0.0000e+00,  0.0000e+00],\n",
       "         [ 0.0000e+00, -9.2208e-09, -9.2208e-09, -9.2208e-09],\n",
       "         [ 0.0000e+00,  0.0000e+00,  0.0000e+00,  0.0000e+00],\n",
       "         [ 0.0000e+00,  0.0000e+00,  0.0000e+00,  0.0000e+00],\n",
       "         [-1.0510e-08, -1.0510e-08, -1.0510e-08, -1.0510e-08]]))"
      ]
     },
     "execution_count": 57,
     "metadata": {},
     "output_type": "execute_result"
    }
   ],
   "source": [
    "lm_head.weight.grad, wte.weight.grad"
   ]
  },
  {
   "cell_type": "markdown",
   "id": "c8e2a22f-5ca1-475f-8a34-708d6a914c24",
   "metadata": {},
   "source": [
    "## Learning"
   ]
  },
  {
   "cell_type": "markdown",
   "id": "c8564d2f-34d0-4526-80b7-69337e2a7549",
   "metadata": {},
   "source": [
    "The process of learning now requires us to update our weights based on this gradient. To really feel the \"back propogation\" we'll start with the last layer and work backwards, though, since we have all of the gradients calculated already, the order does not matter. Recall that our loss function is the negative log likelihood ratio so our gradient signs are flipped.  If a parameter is important, the gradient will be more negaitve, and vice versa. The gradients are a ratio of importance of each parameter and we need to know how much of that gradient to apply to our weights. This \"how much\" is referred to as the *learning rate*. In modern training learning rate schedulers and optimzers are used to vary the rate and application by layer and by training round.  We'll keep it simple and use an astronomically high learning rate of `5.000` which applies the gradient directly to the weights via a `-=`. Gradient for the weights and the biases is different as the partial differential with respect to each is different. We need to remember in the layers with bias to apply it to both.\n",
    "\n",
    "*Note that since our vocab is very small, our context is small, and our batch is small, relatively our model is very deep so we will see a lot of exceptionally small gradients*"
   ]
  },
  {
   "cell_type": "code",
   "execution_count": 58,
   "id": "a2b11f32-0c10-480d-9690-402132913444",
   "metadata": {},
   "outputs": [],
   "source": [
    "## Huge learning rate to emphasize\n",
    "learning_rate = 5.000"
   ]
  },
  {
   "cell_type": "code",
   "execution_count": null,
   "id": "7b232ad7-3cf8-46c1-a8cd-78d37d53caec",
   "metadata": {},
   "outputs": [],
   "source": []
  },
  {
   "cell_type": "markdown",
   "id": "b5f5dd95-3b51-4cb6-8814-65ef9f8b6929",
   "metadata": {},
   "source": [
    "### Output Layer\n",
    "Let's start with our output layer.  Recall that we initilized the weights to `1.000` so we can quickly see the impact of the gradient update on the weights. Most notable that we'll see is that the entries corresponding with tokens that are present are up weighted and others are downweighted.  Additionally you'll notice that the gradient uses all of the `n_embd` dimensions with different updates on each dimension. Finally, since this is the output layer, we did not include any bias "
   ]
  },
  {
   "cell_type": "code",
   "execution_count": 59,
   "id": "f5c59984-6d36-4e78-b7fc-cf4623294915",
   "metadata": {},
   "outputs": [
    {
     "data": {
      "text/plain": [
       "Parameter containing:\n",
       "tensor([[1.2869, 1.2850, 1.2813, 1.2845],\n",
       "        [0.9495, 0.9476, 0.9439, 0.9471],\n",
       "        [0.9495, 0.9476, 0.9439, 0.9471],\n",
       "        [0.9495, 0.9476, 0.9439, 0.9471],\n",
       "        [0.9495, 0.9476, 0.9439, 0.9471],\n",
       "        [1.2031, 1.2012, 1.1975, 1.0847],\n",
       "        [1.0409, 1.0390, 1.0353, 1.0385],\n",
       "        [0.9495, 0.9476, 0.9439, 0.9471],\n",
       "        [0.9495, 0.9476, 0.9439, 0.9471],\n",
       "        [1.1162, 1.1143, 1.1106, 1.1138],\n",
       "        [0.9495, 0.9476, 0.9439, 0.9471],\n",
       "        [1.1282, 1.1263, 1.1226, 1.1259],\n",
       "        [0.9495, 0.9476, 0.9439, 0.9471],\n",
       "        [1.1136, 1.1117, 1.1080, 1.1113],\n",
       "        [0.9495, 0.9476, 0.9439, 0.9471],\n",
       "        [0.9495, 1.1484, 1.1448, 1.1480],\n",
       "        [0.9495, 0.9476, 0.9439, 0.9471],\n",
       "        [0.9495, 0.9476, 0.9439, 0.9471],\n",
       "        [0.9495, 0.9476, 0.9439, 0.9471],\n",
       "        [0.9495, 0.9476, 0.9439, 0.9471],\n",
       "        [1.1925, 1.0583, 1.1869, 1.1902],\n",
       "        [1.1250, 1.1231, 1.1194, 1.1226],\n",
       "        [0.9495, 0.9476, 0.9439, 0.9471],\n",
       "        [0.9495, 0.9476, 0.9439, 0.9471],\n",
       "        [0.9495, 0.9476, 0.9439, 0.9471],\n",
       "        [0.9495, 0.9476, 0.9439, 0.9471],\n",
       "        [0.9495, 0.9476, 0.9439, 0.9471],\n",
       "        [0.9495, 0.9476, 0.9439, 0.9471],\n",
       "        [0.9495, 0.9476, 0.9439, 0.9471],\n",
       "        [0.9495, 0.9476, 0.9439, 0.9471],\n",
       "        [1.0964, 1.0945, 1.0908, 1.0940],\n",
       "        [0.9495, 0.9476, 0.9439, 0.9471],\n",
       "        [1.0102, 1.0083, 1.0046, 1.0079],\n",
       "        [0.9495, 0.9476, 0.9439, 0.9471],\n",
       "        [0.9495, 0.9476, 0.9439, 0.9471],\n",
       "        [0.9495, 0.9476, 0.9439, 0.9471]], requires_grad=True)"
      ]
     },
     "execution_count": 59,
     "metadata": {},
     "output_type": "execute_result"
    }
   ],
   "source": [
    "with torch.no_grad():\n",
    "    lm_head.weight -= learning_rate * lm_head.weight.grad\n",
    "lm_head.weight"
   ]
  },
  {
   "cell_type": "markdown",
   "id": "85732c86-fc96-4015-bc28-bb06fa808403",
   "metadata": {},
   "source": [
    "### Recurrent Unit - GRU\n",
    "Next we'll update our two linear layers inside of the GRU.  Recall that we initiated h2g to weights `0.2500`, x2g weights to `0.5000` and the biases to.  Since our gradients are so small (1e-9 or so), they wont' show up on on the weights when we print them, but we can see it in the biases given they were 0. "
   ]
  },
  {
   "cell_type": "code",
   "execution_count": 60,
   "id": "44461eb7-82b4-4383-afab-ef1c18203289",
   "metadata": {},
   "outputs": [
    {
     "data": {
      "text/plain": [
       "(Parameter containing:\n",
       " tensor([[0.2500, 0.2500, 0.2500, 0.2500],\n",
       "         [0.2500, 0.2500, 0.2500, 0.2500],\n",
       "         [0.2500, 0.2500, 0.2500, 0.2500],\n",
       "         [0.2500, 0.2500, 0.2500, 0.2500],\n",
       "         [0.2500, 0.2500, 0.2500, 0.2500],\n",
       "         [0.2500, 0.2500, 0.2500, 0.2500],\n",
       "         [0.2500, 0.2500, 0.2500, 0.2500],\n",
       "         [0.2500, 0.2500, 0.2500, 0.2500],\n",
       "         [0.2500, 0.2500, 0.2500, 0.2500],\n",
       "         [0.2500, 0.2500, 0.2500, 0.2500],\n",
       "         [0.2500, 0.2500, 0.2500, 0.2500],\n",
       "         [0.2500, 0.2500, 0.2500, 0.2500]], requires_grad=True),\n",
       " Parameter containing:\n",
       " tensor([ 2.4209e-07,  2.4862e-07,  2.6308e-07,  2.3942e-07, -2.8840e-10,\n",
       "         -3.0250e-10, -3.2014e-10, -2.8994e-10, -3.7551e-08, -3.7992e-08,\n",
       "         -3.8958e-08, -3.7252e-08], requires_grad=True))"
      ]
     },
     "execution_count": 60,
     "metadata": {},
     "output_type": "execute_result"
    }
   ],
   "source": [
    "with torch.no_grad():\n",
    "    h2g.weight -= learning_rate * h2g.weight.grad\n",
    "    h2g.bias -= learning_rate * h2g.bias.grad\n",
    "h2g.weight, h2g.bias"
   ]
  },
  {
   "cell_type": "code",
   "execution_count": 61,
   "id": "24badddf-11c7-4c52-a31b-d7ef1912c812",
   "metadata": {},
   "outputs": [
    {
     "data": {
      "text/plain": [
       "(Parameter containing:\n",
       " tensor([[0.5000, 0.5000, 0.5000, 0.5000],\n",
       "         [0.5000, 0.5000, 0.5000, 0.5000],\n",
       "         [0.5000, 0.5000, 0.5000, 0.5000],\n",
       "         [0.5000, 0.5000, 0.5000, 0.5000],\n",
       "         [0.5000, 0.5000, 0.5000, 0.5000],\n",
       "         [0.5000, 0.5000, 0.5000, 0.5000],\n",
       "         [0.5000, 0.5000, 0.5000, 0.5000],\n",
       "         [0.5000, 0.5000, 0.5000, 0.5000],\n",
       "         [0.5000, 0.5000, 0.5000, 0.5000],\n",
       "         [0.5000, 0.5000, 0.5000, 0.5000],\n",
       "         [0.5000, 0.5000, 0.5000, 0.5000],\n",
       "         [0.5000, 0.5000, 0.5000, 0.5000]], requires_grad=True),\n",
       " Parameter containing:\n",
       " tensor([ 2.4209e-07,  2.4862e-07,  2.6308e-07,  2.3942e-07, -2.8840e-10,\n",
       "         -3.0250e-10, -3.2014e-10, -2.8994e-10, -4.7436e-08, -4.7923e-08,\n",
       "         -4.9014e-08, -4.7079e-08], requires_grad=True))"
      ]
     },
     "execution_count": 61,
     "metadata": {},
     "output_type": "execute_result"
    }
   ],
   "source": [
    "with torch.no_grad():\n",
    "    x2g.weight -= learning_rate * x2g.weight.grad\n",
    "    x2g.bias -= learning_rate * x2g.bias.grad\n",
    "x2g.weight, x2g.bias"
   ]
  },
  {
   "cell_type": "markdown",
   "id": "36aab00b-4505-4d2c-b42e-1a60d8e22c65",
   "metadata": {},
   "source": [
    "### Input Layer\n",
    "Finally we'll update our input layer recall that we initialized it to `1.000`. You can see that that gradients are once again extremely small.  Also note that the gradients in this case only flow back to the entries for the tokens that were present in our example. This differs from our LM_head since when we calculate back through the recursions we can see that our embeddings select only these rows out of the wte weights meaning our differentiation can only impact them.  "
   ]
  },
  {
   "cell_type": "code",
   "execution_count": 62,
   "id": "b0ced26e-687d-4b68-a373-cffa963a6d84",
   "metadata": {},
   "outputs": [
    {
     "data": {
      "text/plain": [
       "tensor([[-2.7817e-09, -2.7817e-09, -2.7817e-09, -2.7817e-09],\n",
       "        [ 0.0000e+00,  0.0000e+00,  0.0000e+00,  0.0000e+00],\n",
       "        [ 0.0000e+00,  0.0000e+00,  0.0000e+00,  0.0000e+00],\n",
       "        [ 0.0000e+00,  0.0000e+00,  0.0000e+00,  0.0000e+00],\n",
       "        [ 0.0000e+00,  0.0000e+00,  0.0000e+00,  0.0000e+00],\n",
       "        [-7.8155e-09, -7.8155e-09, -7.8155e-09, -7.8155e-09],\n",
       "        [-7.3990e-09, -7.3990e-09, -7.3990e-09, -7.3990e-09],\n",
       "        [ 0.0000e+00,  0.0000e+00,  0.0000e+00,  0.0000e+00],\n",
       "        [ 0.0000e+00,  0.0000e+00,  0.0000e+00,  0.0000e+00],\n",
       "        [-1.3882e-08, -1.3882e-08, -1.3882e-08, -1.3882e-08],\n",
       "        [ 0.0000e+00,  0.0000e+00,  0.0000e+00,  0.0000e+00],\n",
       "        [-1.0851e-08,  0.0000e+00, -1.0851e-08,  0.0000e+00],\n",
       "        [ 0.0000e+00,  0.0000e+00,  0.0000e+00,  0.0000e+00],\n",
       "        [-2.0346e-09, -2.0346e-09, -2.0346e-09, -2.0346e-09],\n",
       "        [ 0.0000e+00,  0.0000e+00,  0.0000e+00,  0.0000e+00],\n",
       "        [-9.7623e-09, -9.7623e-09, -9.7623e-09, -9.7623e-09],\n",
       "        [ 0.0000e+00,  0.0000e+00,  0.0000e+00,  0.0000e+00],\n",
       "        [ 0.0000e+00,  0.0000e+00,  0.0000e+00,  0.0000e+00],\n",
       "        [ 0.0000e+00,  0.0000e+00,  0.0000e+00,  0.0000e+00],\n",
       "        [ 0.0000e+00,  0.0000e+00,  0.0000e+00,  0.0000e+00],\n",
       "        [-1.1587e-08, -1.1587e-08, -2.4905e-09, -1.1587e-08],\n",
       "        [-1.3571e-09, -1.3571e-09, -1.3571e-09, -1.3571e-09],\n",
       "        [ 0.0000e+00,  0.0000e+00,  0.0000e+00,  0.0000e+00],\n",
       "        [ 0.0000e+00,  0.0000e+00,  0.0000e+00,  0.0000e+00],\n",
       "        [ 0.0000e+00,  0.0000e+00,  0.0000e+00,  0.0000e+00],\n",
       "        [ 0.0000e+00,  0.0000e+00,  0.0000e+00,  0.0000e+00],\n",
       "        [ 0.0000e+00,  0.0000e+00,  0.0000e+00,  0.0000e+00],\n",
       "        [ 0.0000e+00,  0.0000e+00,  0.0000e+00,  0.0000e+00],\n",
       "        [ 0.0000e+00,  0.0000e+00,  0.0000e+00,  0.0000e+00],\n",
       "        [ 0.0000e+00,  0.0000e+00,  0.0000e+00,  0.0000e+00],\n",
       "        [-1.7484e-09,  0.0000e+00, -1.7484e-09, -1.7484e-09],\n",
       "        [ 0.0000e+00,  0.0000e+00,  0.0000e+00,  0.0000e+00],\n",
       "        [ 0.0000e+00, -9.2208e-09, -9.2208e-09, -9.2208e-09],\n",
       "        [ 0.0000e+00,  0.0000e+00,  0.0000e+00,  0.0000e+00],\n",
       "        [ 0.0000e+00,  0.0000e+00,  0.0000e+00,  0.0000e+00],\n",
       "        [-1.0510e-08, -1.0510e-08, -1.0510e-08, -1.0510e-08]])"
      ]
     },
     "execution_count": 62,
     "metadata": {},
     "output_type": "execute_result"
    }
   ],
   "source": [
    "wte.weight.grad"
   ]
  },
  {
   "cell_type": "code",
   "execution_count": 63,
   "id": "97f58304-61da-46de-862d-b7e807e61d24",
   "metadata": {},
   "outputs": [
    {
     "data": {
      "text/plain": [
       "Parameter containing:\n",
       "tensor([[1.0000, 1.0000, 1.0000, 1.0000],\n",
       "        [1.0000, 1.0000, 1.0000, 1.0000],\n",
       "        [1.0000, 1.0000, 1.0000, 1.0000],\n",
       "        [1.0000, 1.0000, 1.0000, 1.0000],\n",
       "        [1.0000, 1.0000, 1.0000, 1.0000],\n",
       "        [1.0000, 1.0000, 1.0000, 1.0000],\n",
       "        [1.0000, 1.0000, 1.0000, 1.0000],\n",
       "        [1.0000, 1.0000, 1.0000, 1.0000],\n",
       "        [1.0000, 1.0000, 1.0000, 1.0000],\n",
       "        [1.0000, 1.0000, 1.0000, 1.0000],\n",
       "        [1.0000, 1.0000, 1.0000, 1.0000],\n",
       "        [1.0000, 1.0000, 1.0000, 1.0000],\n",
       "        [1.0000, 1.0000, 1.0000, 1.0000],\n",
       "        [1.0000, 1.0000, 1.0000, 1.0000],\n",
       "        [1.0000, 1.0000, 1.0000, 1.0000],\n",
       "        [1.0000, 1.0000, 1.0000, 1.0000],\n",
       "        [1.0000, 1.0000, 1.0000, 1.0000],\n",
       "        [1.0000, 1.0000, 1.0000, 1.0000],\n",
       "        [1.0000, 1.0000, 1.0000, 1.0000],\n",
       "        [1.0000, 1.0000, 1.0000, 1.0000],\n",
       "        [1.0000, 1.0000, 1.0000, 1.0000],\n",
       "        [1.0000, 1.0000, 1.0000, 1.0000],\n",
       "        [1.0000, 1.0000, 1.0000, 1.0000],\n",
       "        [1.0000, 1.0000, 1.0000, 1.0000],\n",
       "        [1.0000, 1.0000, 1.0000, 1.0000],\n",
       "        [1.0000, 1.0000, 1.0000, 1.0000],\n",
       "        [1.0000, 1.0000, 1.0000, 1.0000],\n",
       "        [1.0000, 1.0000, 1.0000, 1.0000],\n",
       "        [1.0000, 1.0000, 1.0000, 1.0000],\n",
       "        [1.0000, 1.0000, 1.0000, 1.0000],\n",
       "        [1.0000, 1.0000, 1.0000, 1.0000],\n",
       "        [1.0000, 1.0000, 1.0000, 1.0000],\n",
       "        [1.0000, 1.0000, 1.0000, 1.0000],\n",
       "        [1.0000, 1.0000, 1.0000, 1.0000],\n",
       "        [1.0000, 1.0000, 1.0000, 1.0000],\n",
       "        [1.0000, 1.0000, 1.0000, 1.0000]], requires_grad=True)"
      ]
     },
     "execution_count": 63,
     "metadata": {},
     "output_type": "execute_result"
    }
   ],
   "source": [
    "with torch.no_grad():\n",
    "    wte.weight -= learning_rate * wte.weight.grad\n",
    "wte.weight"
   ]
  },
  {
   "cell_type": "markdown",
   "id": "5d0ff10f-f64f-4801-b9ea-c40e15816684",
   "metadata": {},
   "source": [
    "## Forward Pass with Updated Weights"
   ]
  },
  {
   "cell_type": "markdown",
   "id": "5439278f-49d8-47e1-9355-440621636775",
   "metadata": {},
   "source": [
    "Now that we have the updated weights for each layer, let's do another forward pass and compare the loss. Since each layer was previously explained we will instead focus on just showing the outputs of the different layers and the final loss. If you want, you can check the previous outputs in the cached cell outputs above and compare them to see how the weight changes impacted the values at each layer. \n",
    "\n",
    "One key sign that our weights were updated is that you'll see quickly that the values at each layer are no longer as predictable and repetative.  "
   ]
  },
  {
   "cell_type": "markdown",
   "id": "1450600e-11b1-413c-95d6-51418cc6d445",
   "metadata": {},
   "source": [
    "### Data Re-loading\n",
    "Repulling to a new `x_2`. We'll keep `y` to emphasize the same examples are being used. "
   ]
  },
  {
   "cell_type": "code",
   "execution_count": 64,
   "id": "00925f19-c83a-4549-b4ca-94f92ad301f4",
   "metadata": {},
   "outputs": [
    {
     "data": {
      "text/plain": [
       "(tensor([[35, 15, 32,  9,  5, 20, 30, 15],\n",
       "         [11,  9,  6, 20,  5,  0, 13, 21]]),\n",
       " tensor([[15, 32,  9,  5, 20, 30, 15, 11],\n",
       "         [ 9,  6, 20,  5,  0, 13, 21,  0]]))"
      ]
     },
     "execution_count": 64,
     "metadata": {},
     "output_type": "execute_result"
    }
   ],
   "source": [
    "x_2 = tok_for_training[:-1].view(B, T)\n",
    "x_2, y"
   ]
  },
  {
   "cell_type": "markdown",
   "id": "027c68d0-cf29-431d-85d2-0d0276e55c70",
   "metadata": {},
   "source": [
    "### Input Layer\n",
    "Note that in `wte` since the gradient impact was so small, you hardly see a difference when we have the tensor printed out. If, however, we select a specific item and print out all of it's digits, we can see that it ever so slightly deviates from `1.0000`, showing the impact of the training we did. "
   ]
  },
  {
   "cell_type": "code",
   "execution_count": 65,
   "id": "ff392189-88e9-46a8-9ce1-b1aacad80e83",
   "metadata": {},
   "outputs": [
    {
     "data": {
      "text/plain": [
       "(torch.Size([2, 8, 4]),\n",
       " tensor([[[1.0000, 1.0000, 1.0000, 1.0000],\n",
       "          [1.0000, 1.0000, 1.0000, 1.0000],\n",
       "          [1.0000, 1.0000, 1.0000, 1.0000],\n",
       "          [1.0000, 1.0000, 1.0000, 1.0000],\n",
       "          [1.0000, 1.0000, 1.0000, 1.0000],\n",
       "          [1.0000, 1.0000, 1.0000, 1.0000],\n",
       "          [1.0000, 1.0000, 1.0000, 1.0000],\n",
       "          [1.0000, 1.0000, 1.0000, 1.0000]],\n",
       " \n",
       "         [[1.0000, 1.0000, 1.0000, 1.0000],\n",
       "          [1.0000, 1.0000, 1.0000, 1.0000],\n",
       "          [1.0000, 1.0000, 1.0000, 1.0000],\n",
       "          [1.0000, 1.0000, 1.0000, 1.0000],\n",
       "          [1.0000, 1.0000, 1.0000, 1.0000],\n",
       "          [1.0000, 1.0000, 1.0000, 1.0000],\n",
       "          [1.0000, 1.0000, 1.0000, 1.0000],\n",
       "          [1.0000, 1.0000, 1.0000, 1.0000]]], grad_fn=<EmbeddingBackward0>))"
      ]
     },
     "execution_count": 65,
     "metadata": {},
     "output_type": "execute_result"
    }
   ],
   "source": [
    "x = wte(x_2)\n",
    "x.shape, x "
   ]
  },
  {
   "cell_type": "code",
   "execution_count": 66,
   "id": "3bcdc53d-54fa-4918-9fc8-c7e82b77b3a0",
   "metadata": {},
   "outputs": [
    {
     "data": {
      "text/plain": [
       "1.0"
      ]
     },
     "execution_count": 66,
     "metadata": {},
     "output_type": "execute_result"
    }
   ],
   "source": [
    "x[0,0,0].item()"
   ]
  },
  {
   "cell_type": "markdown",
   "id": "522598e4-600b-49ac-aca8-5ce33a9f8c8e",
   "metadata": {},
   "source": [
    "### Dropout \n",
    "Once again we'll perform dropout. Similar to the explanation above, the impacts of training are beyond the visible decimals "
   ]
  },
  {
   "cell_type": "code",
   "execution_count": 67,
   "id": "9f0c0ab4-a8da-4b22-ba93-92070f03527a",
   "metadata": {},
   "outputs": [
    {
     "data": {
      "text/plain": [
       "tensor([[[1.1111, 1.1111, 1.1111, 1.1111],\n",
       "         [1.1111, 0.0000, 1.1111, 1.1111],\n",
       "         [1.1111, 1.1111, 0.0000, 1.1111],\n",
       "         [0.0000, 1.1111, 0.0000, 1.1111],\n",
       "         [1.1111, 1.1111, 1.1111, 1.1111],\n",
       "         [1.1111, 1.1111, 1.1111, 1.1111],\n",
       "         [1.1111, 1.1111, 1.1111, 1.1111],\n",
       "         [1.1111, 1.1111, 1.1111, 1.1111]],\n",
       "\n",
       "        [[1.1111, 1.1111, 1.1111, 1.1111],\n",
       "         [1.1111, 1.1111, 1.1111, 0.0000],\n",
       "         [1.1111, 1.1111, 1.1111, 1.1111],\n",
       "         [1.1111, 1.1111, 1.1111, 1.1111],\n",
       "         [1.1111, 1.1111, 1.1111, 1.1111],\n",
       "         [1.1111, 1.1111, 1.1111, 1.1111],\n",
       "         [1.1111, 1.1111, 1.1111, 1.1111],\n",
       "         [1.1111, 1.1111, 1.1111, 1.1111]]], grad_fn=<MulBackward0>)"
      ]
     },
     "execution_count": 67,
     "metadata": {},
     "output_type": "execute_result"
    }
   ],
   "source": [
    "x = dropout(x)\n",
    "x"
   ]
  },
  {
   "cell_type": "markdown",
   "id": "b9a5ddc4-503d-4a8c-8635-2a6b26d4750e",
   "metadata": {},
   "source": [
    "### Recurrent Unit - GRU"
   ]
  },
  {
   "cell_type": "markdown",
   "id": "d4e6d785-4282-431d-829b-e3ade8326816",
   "metadata": {},
   "source": [
    "This time through we'll run the rucurrent layer for all time periods and not break out a specific time period.  We do still have to reset `h_t` to `0` since our training batch reset. Since the weight and bias updates were so small, we do expect that the ouput H will still show a lot of uniformity.  "
   ]
  },
  {
   "cell_type": "code",
   "execution_count": 68,
   "id": "3a88d1ae-b4e8-46e0-9538-f94589005472",
   "metadata": {},
   "outputs": [],
   "source": [
    "h_t = torch.zeros(B_batch, hidden_size) \n",
    "hs = x.new_empty(B_batch, T_context, hidden_size)"
   ]
  },
  {
   "cell_type": "code",
   "execution_count": 69,
   "id": "f8ce97ab-1e58-4c12-b558-f9c216b341e1",
   "metadata": {},
   "outputs": [
    {
     "data": {
      "text/plain": [
       "tensor([[[0.0955, 0.0955, 0.0955, 0.0955],\n",
       "         [0.2194, 0.2194, 0.2194, 0.2194],\n",
       "         [0.3159, 0.3159, 0.3159, 0.3159],\n",
       "         [0.4247, 0.4247, 0.4247, 0.4247],\n",
       "         [0.4621, 0.4621, 0.4621, 0.4621],\n",
       "         [0.4958, 0.4958, 0.4958, 0.4958],\n",
       "         [0.5265, 0.5265, 0.5265, 0.5265],\n",
       "         [0.5544, 0.5544, 0.5544, 0.5544]],\n",
       "\n",
       "        [[0.0955, 0.0955, 0.0955, 0.0955],\n",
       "         [0.2194, 0.2194, 0.2194, 0.2194],\n",
       "         [0.2807, 0.2807, 0.2807, 0.2807],\n",
       "         [0.3340, 0.3340, 0.3340, 0.3340],\n",
       "         [0.3811, 0.3811, 0.3811, 0.3811],\n",
       "         [0.4229, 0.4229, 0.4229, 0.4229],\n",
       "         [0.4605, 0.4605, 0.4605, 0.4605],\n",
       "         [0.4944, 0.4944, 0.4944, 0.4944]]], grad_fn=<CopySlices>)"
      ]
     },
     "execution_count": 69,
     "metadata": {},
     "output_type": "execute_result"
    }
   ],
   "source": [
    "for t in range(T_context):\n",
    "    \n",
    "    # set input and previous\n",
    "    h_prev = h_t\n",
    "    x_t = x[:, t, :]\n",
    "\n",
    "    # calculate weights\n",
    "    hz, hr, hh = h2g(h_prev).split(hidden_size, dim=-1)\n",
    "    xz, xr, xh = x2g(x_t).split(hidden_size, dim=-1)\n",
    "\n",
    "    # update gate\n",
    "    z = torch.sigmoid(xz + hz)\n",
    "\n",
    "    # reset gate\n",
    "    r = torch.sigmoid(xr + hr)\n",
    "\n",
    "    # candidate hidden state\n",
    "    h_cand = torch.tanh(xh + (r * hh))\n",
    "\n",
    "    # recursion output\n",
    "    h_cand_imp = (1 - z) * h_cand\n",
    "    h_prev_imp = z * h_prev\n",
    "    h_t = h_cand_imp + h_prev_imp\n",
    "\n",
    "    # save h_t\n",
    "    hs[:, t, :] = h_t   \n",
    "\n",
    "hs"
   ]
  },
  {
   "cell_type": "markdown",
   "id": "8612c53d-c55b-4940-852d-79498d489245",
   "metadata": {},
   "source": [
    "### Final Dropout\n",
    "As with before, we'll run dropout again before running the model head.  We should similarly see the zeroing out of some values and the probability udpates to others"
   ]
  },
  {
   "cell_type": "code",
   "execution_count": 70,
   "id": "8f4b0ebe-0dab-458c-bba1-0d0617a9b294",
   "metadata": {},
   "outputs": [
    {
     "data": {
      "text/plain": [
       "tensor([[[1.2346, 1.2346, 1.2346, 1.2346],\n",
       "         [1.2346, 0.0000, 1.2346, 1.2346],\n",
       "         [1.2346, 1.2346, 0.0000, 1.2346],\n",
       "         [0.0000, 1.2346, 0.0000, 1.2346],\n",
       "         [1.2346, 1.2346, 0.0000, 1.2346],\n",
       "         [1.2346, 1.2346, 1.2346, 0.0000],\n",
       "         [1.2346, 1.2346, 1.2346, 1.2346],\n",
       "         [0.0000, 1.2346, 1.2346, 1.2346]],\n",
       "\n",
       "        [[1.2346, 1.2346, 1.2346, 1.2346],\n",
       "         [1.2346, 1.2346, 1.2346, 0.0000],\n",
       "         [1.2346, 1.2346, 1.2346, 1.2346],\n",
       "         [1.2346, 1.2346, 1.2346, 1.2346],\n",
       "         [1.2346, 1.2346, 1.2346, 0.0000],\n",
       "         [1.2346, 0.0000, 1.2346, 1.2346],\n",
       "         [1.2346, 1.2346, 1.2346, 1.2346],\n",
       "         [1.2346, 1.2346, 1.2346, 1.2346]]], grad_fn=<MulBackward0>)"
      ]
     },
     "execution_count": 70,
     "metadata": {},
     "output_type": "execute_result"
    }
   ],
   "source": [
    "x = dropout(x)\n",
    "x"
   ]
  },
  {
   "cell_type": "markdown",
   "id": "b2f1e47d-27d3-4039-8ea1-208d5fc30f29",
   "metadata": {},
   "source": [
    "### Output Layers AKA Model Head.\n",
    "This is the layer where we expect to see the most updates.  Recall that the weights on the model head had the most notable changes both shifting more positive the values for the token that were present in our training data and shifting more negative the value for the token entries that were not present.  As such, if you look at the entries for each example you should see that the values are no longer equal for each token."
   ]
  },
  {
   "cell_type": "code",
   "execution_count": 71,
   "id": "5c2c2354-3b5c-4490-ac42-fd8474355857",
   "metadata": {},
   "outputs": [
    {
     "data": {
      "text/plain": [
       "(torch.Size([2, 8, 36]),\n",
       " tensor([[[6.3429, 4.6767, 4.6767, 4.6767, 4.6767, 5.7858, 5.1281, 4.6767,\n",
       "           4.6767, 5.4998, 4.6767, 5.5593, 4.6767, 5.4872, 4.6767, 5.4206,\n",
       "           4.6767, 4.6767, 4.6767, 4.6767, 5.7135, 5.5434, 4.6767, 4.6767,\n",
       "           4.6767, 4.6767, 4.6767, 4.6767, 4.6767, 4.6767, 5.4021, 4.6767,\n",
       "           4.9766, 4.6767, 4.6767, 4.6767],\n",
       "          [4.7565, 3.5069, 3.5069, 3.5069, 3.5069, 4.3028, 3.8454, 3.5069,\n",
       "           3.5069, 4.1241, 3.5069, 4.1688, 3.5069, 4.1147, 3.5069, 4.0028,\n",
       "           3.5069, 3.5069, 3.5069, 3.5069, 4.4070, 4.1569, 3.5069, 3.5069,\n",
       "           3.5069, 3.5069, 3.5069, 3.5069, 3.5069, 3.5069, 4.0509, 3.5069,\n",
       "           3.7317, 3.5069, 3.5069, 3.5069],\n",
       "          [4.7610, 3.5114, 3.5114, 3.5114, 3.5114, 4.3074, 3.8499, 3.5114,\n",
       "           3.5114, 4.1287, 3.5114, 4.1733, 3.5114, 4.1193, 3.5114, 4.0073,\n",
       "           3.5114, 3.5114, 3.5114, 3.5114, 4.2481, 4.1614, 3.5114, 3.5114,\n",
       "           3.5114, 3.5114, 3.5114, 3.5114, 3.5114, 3.5114, 4.0554, 3.5114,\n",
       "           3.7363, 3.5114, 3.5114, 3.5114],\n",
       "          [3.1723, 2.3392, 2.3392, 2.3392, 2.3392, 2.8221, 2.5649, 2.3392,\n",
       "           2.3392, 2.7507, 2.3392, 2.7805, 2.3392, 2.7444, 2.3392, 2.8351,\n",
       "           2.3392, 2.3392, 2.3392, 2.3392, 2.7759, 2.7725, 2.3392, 2.3392,\n",
       "           2.3392, 2.3392, 2.3392, 2.3392, 2.3392, 2.3392, 2.7019, 2.3392,\n",
       "           2.4891, 2.3392, 2.3392, 2.3392],\n",
       "          [4.7610, 3.5114, 3.5114, 3.5114, 3.5114, 4.3074, 3.8499, 3.5114,\n",
       "           3.5114, 4.1287, 3.5114, 4.1733, 3.5114, 4.1193, 3.5114, 4.0073,\n",
       "           3.5114, 3.5114, 3.5114, 3.5114, 4.2481, 4.1614, 3.5114, 3.5114,\n",
       "           3.5114, 3.5114, 3.5114, 3.5114, 3.5114, 3.5114, 4.0554, 3.5114,\n",
       "           3.7363, 3.5114, 3.5114, 3.5114],\n",
       "          [4.7571, 3.5074, 3.5074, 3.5074, 3.5074, 4.4466, 3.8459, 3.5074,\n",
       "           3.5074, 4.1247, 3.5074, 4.1694, 3.5074, 4.1153, 3.5074, 4.0033,\n",
       "           3.5074, 3.5074, 3.5074, 3.5074, 4.2441, 4.1574, 3.5074, 3.5074,\n",
       "           3.5074, 3.5074, 3.5074, 3.5074, 3.5074, 3.5074, 4.0514, 3.5074,\n",
       "           3.7323, 3.5074, 3.5074, 3.5074],\n",
       "          [6.3429, 4.6767, 4.6767, 4.6767, 4.6767, 5.7858, 5.1281, 4.6767,\n",
       "           4.6767, 5.4998, 4.6767, 5.5593, 4.6767, 5.4872, 4.6767, 5.4206,\n",
       "           4.6767, 4.6767, 4.6767, 4.6767, 5.7135, 5.5434, 4.6767, 4.6767,\n",
       "           4.6767, 4.6767, 4.6767, 4.6767, 4.6767, 4.6767, 5.4021, 4.6767,\n",
       "           4.9766, 4.6767, 4.6767, 4.6767],\n",
       "          [4.7541, 3.5045, 3.5045, 3.5045, 3.5045, 4.3005, 3.8430, 3.5045,\n",
       "           3.5045, 4.1218, 3.5045, 4.1665, 3.5045, 4.1124, 3.5045, 4.2484,\n",
       "           3.5045, 3.5045, 3.5045, 3.5045, 4.2412, 4.1545, 3.5045, 3.5045,\n",
       "           3.5045, 3.5045, 3.5045, 3.5045, 3.5045, 3.5045, 4.0485, 3.5045,\n",
       "           3.7294, 3.5045, 3.5045, 3.5045]],\n",
       " \n",
       "         [[6.3429, 4.6767, 4.6767, 4.6767, 4.6767, 5.7858, 5.1281, 4.6767,\n",
       "           4.6767, 5.4998, 4.6767, 5.5593, 4.6767, 5.4872, 4.6767, 5.4206,\n",
       "           4.6767, 4.6767, 4.6767, 4.6767, 5.7135, 5.5434, 4.6767, 4.6767,\n",
       "           4.6767, 4.6767, 4.6767, 4.6767, 4.6767, 4.6767, 5.4021, 4.6767,\n",
       "           4.9766, 4.6767, 4.6767, 4.6767],\n",
       "          [4.7571, 3.5074, 3.5074, 3.5074, 3.5074, 4.4466, 3.8459, 3.5074,\n",
       "           3.5074, 4.1247, 3.5074, 4.1694, 3.5074, 4.1153, 3.5074, 4.0033,\n",
       "           3.5074, 3.5074, 3.5074, 3.5074, 4.2441, 4.1574, 3.5074, 3.5074,\n",
       "           3.5074, 3.5074, 3.5074, 3.5074, 3.5074, 3.5074, 4.0514, 3.5074,\n",
       "           3.7323, 3.5074, 3.5074, 3.5074],\n",
       "          [6.3429, 4.6767, 4.6767, 4.6767, 4.6767, 5.7858, 5.1281, 4.6767,\n",
       "           4.6767, 5.4998, 4.6767, 5.5593, 4.6767, 5.4872, 4.6767, 5.4206,\n",
       "           4.6767, 4.6767, 4.6767, 4.6767, 5.7135, 5.5434, 4.6767, 4.6767,\n",
       "           4.6767, 4.6767, 4.6767, 4.6767, 4.6767, 4.6767, 5.4021, 4.6767,\n",
       "           4.9766, 4.6767, 4.6767, 4.6767],\n",
       "          [6.3429, 4.6767, 4.6767, 4.6767, 4.6767, 5.7858, 5.1281, 4.6767,\n",
       "           4.6767, 5.4998, 4.6767, 5.5593, 4.6767, 5.4872, 4.6767, 5.4206,\n",
       "           4.6767, 4.6767, 4.6767, 4.6767, 5.7135, 5.5434, 4.6767, 4.6767,\n",
       "           4.6767, 4.6767, 4.6767, 4.6767, 4.6767, 4.6767, 5.4021, 4.6767,\n",
       "           4.9766, 4.6767, 4.6767, 4.6767],\n",
       "          [4.7571, 3.5074, 3.5074, 3.5074, 3.5074, 4.4466, 3.8459, 3.5074,\n",
       "           3.5074, 4.1247, 3.5074, 4.1694, 3.5074, 4.1153, 3.5074, 4.0033,\n",
       "           3.5074, 3.5074, 3.5074, 3.5074, 4.2441, 4.1574, 3.5074, 3.5074,\n",
       "           3.5074, 3.5074, 3.5074, 3.5074, 3.5074, 3.5074, 4.0514, 3.5074,\n",
       "           3.7323, 3.5074, 3.5074, 3.5074],\n",
       "          [4.7565, 3.5069, 3.5069, 3.5069, 3.5069, 4.3028, 3.8454, 3.5069,\n",
       "           3.5069, 4.1241, 3.5069, 4.1688, 3.5069, 4.1147, 3.5069, 4.0028,\n",
       "           3.5069, 3.5069, 3.5069, 3.5069, 4.4070, 4.1569, 3.5069, 3.5069,\n",
       "           3.5069, 3.5069, 3.5069, 3.5069, 3.5069, 3.5069, 4.0509, 3.5069,\n",
       "           3.7317, 3.5069, 3.5069, 3.5069],\n",
       "          [6.3429, 4.6767, 4.6767, 4.6767, 4.6767, 5.7858, 5.1281, 4.6767,\n",
       "           4.6767, 5.4998, 4.6767, 5.5593, 4.6767, 5.4872, 4.6767, 5.4206,\n",
       "           4.6767, 4.6767, 4.6767, 4.6767, 5.7135, 5.5434, 4.6767, 4.6767,\n",
       "           4.6767, 4.6767, 4.6767, 4.6767, 4.6767, 4.6767, 5.4021, 4.6767,\n",
       "           4.9766, 4.6767, 4.6767, 4.6767],\n",
       "          [6.3429, 4.6767, 4.6767, 4.6767, 4.6767, 5.7858, 5.1281, 4.6767,\n",
       "           4.6767, 5.4998, 4.6767, 5.5593, 4.6767, 5.4872, 4.6767, 5.4206,\n",
       "           4.6767, 4.6767, 4.6767, 4.6767, 5.7135, 5.5434, 4.6767, 4.6767,\n",
       "           4.6767, 4.6767, 4.6767, 4.6767, 4.6767, 4.6767, 5.4021, 4.6767,\n",
       "           4.9766, 4.6767, 4.6767, 4.6767]]], grad_fn=<UnsafeViewBackward0>))"
      ]
     },
     "execution_count": 71,
     "metadata": {},
     "output_type": "execute_result"
    }
   ],
   "source": [
    "logits = lm_head(x)\n",
    "logits.shape, logits"
   ]
  },
  {
   "cell_type": "markdown",
   "id": "a4ed1cae-6af9-4211-82b1-8930196c48c3",
   "metadata": {},
   "source": [
    "### Updated Loss calculation"
   ]
  },
  {
   "cell_type": "markdown",
   "id": "2c101fbc-97fc-4dc2-b99e-1cff59d22f5d",
   "metadata": {},
   "source": [
    "Now we'll calculate the updated loss.  Our first pass's loss was 3.5835. Since we're passing through the same example and used a fairly high learning rate we should see a significant improvement with just 1 learning pass. "
   ]
  },
  {
   "cell_type": "code",
   "execution_count": 72,
   "id": "0a12e542-dda9-4cb4-9611-bcb157515806",
   "metadata": {},
   "outputs": [
    {
     "data": {
      "text/plain": [
       "tensor(3.5835, grad_fn=<NllLossBackward0>)"
      ]
     },
     "execution_count": 72,
     "metadata": {},
     "output_type": "execute_result"
    }
   ],
   "source": [
    "loss"
   ]
  },
  {
   "cell_type": "code",
   "execution_count": 73,
   "id": "c2c2eb99-d188-4de7-a4ee-27917e3cec75",
   "metadata": {},
   "outputs": [
    {
     "name": "stdout",
     "output_type": "stream",
     "text": [
      "torch.Size([]) tensor(3.1099, grad_fn=<NllLossBackward0>)\n"
     ]
    }
   ],
   "source": [
    "y_flat = y.view(-1)\n",
    "logits_flat = logits.view(-1, logits.size(-1))\n",
    "updated_loss = F.cross_entropy(logits_flat, y_flat)\n",
    "print(updated_loss.shape, updated_loss)"
   ]
  },
  {
   "cell_type": "code",
   "execution_count": 74,
   "id": "53363221-ba7b-49f8-8f6a-88c6db647277",
   "metadata": {},
   "outputs": [
    {
     "data": {
      "text/plain": [
       "'1 round of training resulted in an loss improvment of 0.4736'"
      ]
     },
     "execution_count": 74,
     "metadata": {},
     "output_type": "execute_result"
    }
   ],
   "source": [
    "f'1 round of training resulted in an loss improvment of {loss.item() - updated_loss.item():.4f}'"
   ]
  },
  {
   "cell_type": "markdown",
   "id": "9f56dfda-a142-40b3-b66f-60cb6cae0a8e",
   "metadata": {},
   "source": [
    "# SUCCESS!\n",
    "Our training improved the loss by about **~13%** (amount may vary since we didn't set a seed). There are flaws with this, mainly passing the same example through a second time and a high learning rate, but this helps show the fundamentals of what learning does inside a GRU style RNN model. "
   ]
  },
  {
   "cell_type": "code",
   "execution_count": null,
   "id": "1b08f0e0-e068-4ab6-a041-00fa9c081dea",
   "metadata": {},
   "outputs": [],
   "source": []
  }
 ],
 "metadata": {
  "kernelspec": {
   "display_name": "Python 3 (ipykernel)",
   "language": "python",
   "name": "python3"
  },
  "language_info": {
   "codemirror_mode": {
    "name": "ipython",
    "version": 3
   },
   "file_extension": ".py",
   "mimetype": "text/x-python",
   "name": "python",
   "nbconvert_exporter": "python",
   "pygments_lexer": "ipython3",
   "version": "3.13.7"
  }
 },
 "nbformat": 4,
 "nbformat_minor": 5
}
