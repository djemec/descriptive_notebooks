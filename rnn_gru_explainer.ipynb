{
 "cells": [
  {
   "cell_type": "markdown",
   "id": "d2ea846f-d5a9-4f61-b3b1-fed90e2edde3",
   "metadata": {},
   "source": [
    "# RNN GRU Explainer\n",
    "\n",
    "The goal is to walk through RNNs (recurrent neural networks), there are 2 flavors: GRUs and LSTMs. We'll focus on Gated Recurrent Unit (GRUs). RNN's have a unique structure where they process data sequentially which enables them to take in both the current and a prior state, making them great for sequential data like time series or streamed data.  The core unit of the RNN takes in both the data you want to use to make an inference along with any previous context. While this is great there are a few dangers of the RNN: primarily that improper setup and training can lead to vanishing/exploding gradients and their sequential nature can consume a lot of resources. As you go through this notebook you can hopefully see why this would be the case. \n",
    "\n",
    "To help display how the RNN works, we'll use the first sentence from the [linear algebra wiki page](https://en.wikipedia.org/wiki/Linear_algebra) and [lu decomposition wiki page](https://en.wikipedia.org/wiki/LU_decomposition) as the topic is fitting and it shows us some non-standard patterns.  We'll take on a more simple task to many other notebooks in this repository where we have a few sentences of text and want to predict some other text, in this case the next token. "
   ]
  },
  {
   "cell_type": "markdown",
   "id": "c08f8d05-f237-4a81-8f88-be839e4a9e51",
   "metadata": {},
   "source": [
    "## Text Prep/Tokenization"
   ]
  },
  {
   "cell_type": "markdown",
   "id": "8fb1237d-fd4f-43bc-ba02-88e82368b385",
   "metadata": {},
   "source": [
    "We'll start with a common preprocessing step of tokenizing the data.  This converts the string text into an array of numbers that can be used during the training loop.  I've built a very subtle byte-pair encoding that has each unique character that appears and the top 5 merges. This keeps our vocab size small and manageable for this example. Typically the vocab size is in the 100K+ range. A great library for this is `tiktoken`. Tokenization simply finds the longest pattern of characters that's in common with what was trained and replaces it with an integer that represents it.  This way we turn the text into a numeric array to simplify computing. import torch\n",
    "from collections import Counter"
   ]
  },
  {
   "cell_type": "code",
   "execution_count": 1,
   "id": "baeedf57-4218-4b0e-be46-217723a9034a",
   "metadata": {},
   "outputs": [],
   "source": [
    "import torch\n",
    "from collections import Counter"
   ]
  },
  {
   "cell_type": "code",
   "execution_count": 2,
   "id": "ef2240c1-dd4e-4f8a-9fb1-acff3ff200c1",
   "metadata": {},
   "outputs": [],
   "source": [
    "class SimpleBPETokenizer:\n",
    "    def __init__(self, num_merges=5, eot_token='<|endoftext|>'):\n",
    "        self.num_merges = num_merges\n",
    "        self.eot_token = eot_token\n",
    "        self.eot_id = None\n",
    "        self.merges = []\n",
    "        self.pair_ranks = {}\n",
    "        self.vocab = {}\n",
    "        self.id_to_token = {}\n",
    "\n",
    "    def _add_token(self, tok):\n",
    "        if tok in self.vocab:\n",
    "            return self.vocab[tok]\n",
    "        i = len(self.vocab)\n",
    "        self.vocab[tok] = i\n",
    "        self.id_to_token[i] = tok\n",
    "        return i\n",
    "\n",
    "    def _get_bigrams(self, seq):\n",
    "        for i in range(len(seq) - 1):\n",
    "            yield (seq[i], seq[i + 1])\n",
    "\n",
    "    def _merge_once(self, seq, pair):\n",
    "        a, b = pair\n",
    "        out = []\n",
    "        i = 0\n",
    "        while i < len(seq):\n",
    "            if i < len(seq) - 1 and seq[i] == a and seq[i + 1] == b:\n",
    "                out.append(a + b)\n",
    "                i += 2\n",
    "            else:\n",
    "                out.append(seq[i])\n",
    "                i += 1\n",
    "        return out\n",
    "\n",
    "    def train(self, corpus):\n",
    "        # corpus: list[str]\n",
    "        text = ''.join(corpus).lower()\n",
    "        seq = list(text)\n",
    "        merges = []\n",
    "        for _ in range(self.num_merges):\n",
    "            counts = Counter(self._get_bigrams(seq))\n",
    "            if not counts: break\n",
    "            best_pair, _ = counts.most_common(1)[0]\n",
    "            merges.append(best_pair)\n",
    "            seq = self._merge_once(seq, best_pair)\n",
    "        self.merges = merges\n",
    "        self.pair_ranks = {p: i for i, p in enumerate(self.merges)}\n",
    "\n",
    "        self.vocab = {}\n",
    "        self.id_to_token = {}\n",
    "        for ch in sorted(set(text)):\n",
    "            self._add_token(ch)\n",
    "        for a, b in self.merges:\n",
    "            self._add_token(a + b)\n",
    "        self.eot_id = self._add_token(self.eot_token)\n",
    "\n",
    "    def encode(self, text, force_last_eot=True):\n",
    "        # treat literal eot marker as special; remove it from content\n",
    "        if self.eot_token in text:\n",
    "            text = text.replace(self.eot_token, '')\n",
    "        seq = list(text)\n",
    "\n",
    "        # make sure all seen base chars exist\n",
    "        for ch in set(seq):\n",
    "            if ch not in self.vocab:\n",
    "                self._add_token(ch)\n",
    "\n",
    "        # greedy BPE using learned pair ranks\n",
    "        if self.merges:\n",
    "            while True:\n",
    "                best_pair, best_rank = None, None\n",
    "                for p in self._get_bigrams(seq):\n",
    "                    r = self.pair_ranks.get(p)\n",
    "                    if r is not None and (best_rank is None or r < best_rank):\n",
    "                        best_pair, best_rank = p, r\n",
    "                if best_pair is None:\n",
    "                    break\n",
    "                seq = self._merge_once(seq, best_pair)\n",
    "\n",
    "        # ensure all tokens in seq exist in vocab (e.g., if new chars appeared)\n",
    "        for tok in seq:\n",
    "            if tok not in self.vocab:\n",
    "                self._add_token(tok)\n",
    "\n",
    "        ids = [self.vocab[tok] for tok in seq]\n",
    "\n",
    "        # FORCE: append EOT id if not already last\n",
    "        if force_last_eot:\n",
    "            if not ids or ids[-1] != self.eot_id:\n",
    "                ids.append(self.eot_id)\n",
    "\n",
    "        return ids\n",
    "\n",
    "    def decode(self, ids):\n",
    "        # drop trailing EOT if present\n",
    "        if ids and self.eot_id is not None and ids[-1] == self.eot_id:\n",
    "            ids = ids[:-1]\n",
    "        toks = [self.id_to_token[i] for i in ids]\n",
    "        return ''.join(toks)\n"
   ]
  },
  {
   "cell_type": "code",
   "execution_count": 3,
   "id": "b35d09cf-0ce1-47a0-a93f-8213bea8f711",
   "metadata": {},
   "outputs": [],
   "source": [
    "raw_example_1 = r'''Linear algebra is central to almost all areas of mathematics. For instance, linear algebra is fundamental in modern presentations of geometry, including for defining basic objects such as lines, planes and rotations. Also, functional analysis, a branch of mathematical analysis, may be viewed as the application of linear algebra to function spaces.'''\n",
    "raw_example_2 = r'''In numerical analysis and linear algebra, lower–upper (LU) decomposition or factorization factors a matrix as the product of a lower triangular matrix and an upper triangular matrix (see matrix multiplication and matrix decomposition).'''\n"
   ]
  },
  {
   "cell_type": "code",
   "execution_count": 4,
   "id": "7064c634-a608-4a62-93fe-c89219aa5dae",
   "metadata": {},
   "outputs": [
    {
     "data": {
      "text/plain": [
       "[(' ', 'a'), ('a', 't'), ('i', 'n'), (' ', 'm'), ('i', 'o')]"
      ]
     },
     "execution_count": 4,
     "metadata": {},
     "output_type": "execute_result"
    }
   ],
   "source": [
    "tok = SimpleBPETokenizer(num_merges=5)\n",
    "tok.train([raw_example_1,raw_example_2])\n",
    "tok.merges"
   ]
  },
  {
   "cell_type": "code",
   "execution_count": 5,
   "id": "133f8d70-16cd-4327-91a2-4e887612bcdf",
   "metadata": {},
   "outputs": [
    {
     "data": {
      "text/plain": [
       "{' ': 0,\n",
       " '(': 1,\n",
       " ')': 2,\n",
       " ',': 3,\n",
       " '.': 4,\n",
       " 'a': 5,\n",
       " 'b': 6,\n",
       " 'c': 7,\n",
       " 'd': 8,\n",
       " 'e': 9,\n",
       " 'f': 10,\n",
       " 'g': 11,\n",
       " 'h': 12,\n",
       " 'i': 13,\n",
       " 'j': 14,\n",
       " 'l': 15,\n",
       " 'm': 16,\n",
       " 'n': 17,\n",
       " 'o': 18,\n",
       " 'p': 19,\n",
       " 'r': 20,\n",
       " 's': 21,\n",
       " 't': 22,\n",
       " 'u': 23,\n",
       " 'v': 24,\n",
       " 'w': 25,\n",
       " 'x': 26,\n",
       " 'y': 27,\n",
       " 'z': 28,\n",
       " '–': 29,\n",
       " ' a': 30,\n",
       " 'at': 31,\n",
       " 'in': 32,\n",
       " ' m': 33,\n",
       " 'io': 34,\n",
       " '<|endoftext|>': 35}"
      ]
     },
     "execution_count": 5,
     "metadata": {},
     "output_type": "execute_result"
    }
   ],
   "source": [
    "tok.vocab"
   ]
  },
  {
   "cell_type": "code",
   "execution_count": 6,
   "id": "9804d527-b590-4bb5-8158-8cdcbc179719",
   "metadata": {},
   "outputs": [
    {
     "data": {
      "text/plain": [
       "36"
      ]
     },
     "execution_count": 6,
     "metadata": {},
     "output_type": "execute_result"
    }
   ],
   "source": [
    "vocab_size = len(tok.vocab)\n",
    "vocab_size"
   ]
  },
  {
   "cell_type": "code",
   "execution_count": 7,
   "id": "29443925-8749-4b7c-a500-4a3bdbf808d8",
   "metadata": {},
   "outputs": [
    {
     "data": {
      "text/plain": [
       "tensor([35, 15, 32,  9,  5, 20, 30, 15, 11,  9,  6, 20,  5,  0, 13, 21,  0,  7,\n",
       "         9, 17, 22, 20,  5, 15,  0, 22, 18, 30, 15, 16, 18, 21, 22, 30, 15, 15,\n",
       "        30, 20,  9,  5, 21,  0, 18, 10, 33, 31, 12,  9, 16, 31, 13,  7, 21,  4,\n",
       "         0, 10, 18, 20,  0, 32, 21, 22,  5, 17,  7,  9,  3,  0, 15, 32,  9,  5,\n",
       "        20, 30, 15, 11,  9,  6, 20,  5,  0, 13, 21,  0, 10, 23, 17,  8,  5, 16,\n",
       "         9, 17, 22,  5, 15,  0, 32, 33, 18,  8,  9, 20, 17,  0, 19, 20,  9, 21,\n",
       "         9, 17, 22, 31, 34, 17, 21,  0, 18, 10,  0, 11,  9, 18, 16,  9, 22, 20,\n",
       "        27,  3,  0, 32,  7, 15, 23,  8, 32, 11,  0, 10, 18, 20,  0,  8,  9, 10,\n",
       "        32, 32, 11,  0,  6,  5, 21, 13,  7,  0, 18,  6, 14,  9,  7, 22, 21,  0,\n",
       "        21, 23,  7, 12, 30, 21,  0, 15, 32,  9, 21,  3,  0, 19, 15,  5, 17,  9,\n",
       "        21, 30, 17,  8,  0, 20, 18, 22, 31, 34, 17, 21,  4, 30, 15, 21, 18,  3,\n",
       "         0, 10, 23, 17,  7, 22, 34, 17,  5, 15, 30, 17,  5, 15, 27, 21, 13, 21,\n",
       "         3, 30,  0,  6, 20,  5, 17,  7, 12,  0, 18, 10, 33, 31, 12,  9, 16, 31,\n",
       "        13,  7,  5, 15, 30, 17,  5, 15, 27, 21, 13, 21,  3, 33,  5, 27,  0,  6,\n",
       "         9,  0, 24, 13,  9, 25,  9,  8, 30, 21,  0, 22, 12,  9, 30, 19, 19, 15,\n",
       "        13,  7, 31, 34, 17,  0, 18, 10,  0, 15, 32,  9,  5, 20, 30, 15, 11,  9,\n",
       "         6, 20,  5,  0, 22, 18,  0, 10, 23, 17,  7, 22, 34, 17,  0, 21, 19,  5,\n",
       "         7,  9, 21,  4, 35, 35, 32,  0, 17, 23, 16,  9, 20, 13,  7,  5, 15, 30,\n",
       "        17,  5, 15, 27, 21, 13, 21, 30, 17,  8,  0, 15, 32,  9,  5, 20, 30, 15,\n",
       "        11,  9,  6, 20,  5,  3,  0, 15, 18, 25,  9, 20, 29, 23, 19, 19,  9, 20,\n",
       "         0,  1, 15, 23,  2,  0,  8,  9,  7, 18, 16, 19, 18, 21, 13, 22, 34, 17,\n",
       "         0, 18, 20,  0, 10,  5,  7, 22, 18, 20, 13, 28, 31, 34, 17,  0, 10,  5,\n",
       "         7, 22, 18, 20, 21, 30, 33, 31, 20, 13, 26, 30, 21,  0, 22, 12,  9,  0,\n",
       "        19, 20, 18,  8, 23,  7, 22,  0, 18, 10, 30,  0, 15, 18, 25,  9, 20,  0,\n",
       "        22, 20, 13,  5, 17, 11, 23, 15,  5, 20, 33, 31, 20, 13, 26, 30, 17,  8,\n",
       "        30, 17,  0, 23, 19, 19,  9, 20,  0, 22, 20, 13,  5, 17, 11, 23, 15,  5,\n",
       "        20, 33, 31, 20, 13, 26,  0,  1, 21,  9,  9, 33, 31, 20, 13, 26, 33, 23,\n",
       "        15, 22, 13, 19, 15, 13,  7, 31, 34, 17, 30, 17,  8, 33, 31, 20, 13, 26,\n",
       "         0,  8,  9,  7, 18, 16, 19, 18, 21, 13, 22, 34, 17,  2,  4, 35])"
      ]
     },
     "execution_count": 7,
     "metadata": {},
     "output_type": "execute_result"
    }
   ],
   "source": [
    "eot = tok.eot_id\n",
    "tokens = []\n",
    "for example in [raw_example_1, raw_example_2]:\n",
    "    tokens.extend([eot])\n",
    "    tokens.extend(tok.encode(example.lower()))\n",
    "all_tokens = torch.tensor(tokens, dtype=torch.long)\n",
    "all_tokens"
   ]
  },
  {
   "cell_type": "markdown",
   "id": "775f0cb1-fdac-400c-a80d-1a5da154434c",
   "metadata": {},
   "source": [
    "# Modeling"
   ]
  },
  {
   "cell_type": "markdown",
   "id": "30bd76b6-dfd5-4f08-a289-630af13649f0",
   "metadata": {},
   "source": [
    "A machine learning model forward pass now uses the tokenization information, runs several layers of linear algebra on it, and then \"predicts\" the next token. When it is noisy (like you will see in this example), this process results in gibberish.  The training process changes the noise to pattern during the \"backward pass\" as you'll see.    We'll show 3 steps that are focused on training:\n",
    "1. **Data Loading** `x, y = train_loader.next_batch()` - this step pulls from the raw data enough tokens to complete a forward and backward pass.  If the model is inference only, this step is replaced with taking in the inference input and preparing it similarly as the forward pass.\n",
    "2. **Forward Pass** `logits, loss = model(x, y)` - using the data and the model architecture to predict the next token. When training we also compare against the expected to get loss, but in infrerence, we use the logits to complete the inference task.\n",
    "3. **Back Propagation, aka Backward Pass & Training** `loss.backward(); optimizer.step()` - using differentials to understand what parameters most impact the forward pass' impact on its prediction, comparing that against what is actually right based on the data loading step, and then making very minor adjustments to the impactful parameters with the hope it improves future predictions.\n",
    "\n",
    "The we'll show a final **Forward Pass** with the updated weights we did in #3. "
   ]
  },
  {
   "cell_type": "markdown",
   "id": "6da8d4c4-ae00-465d-ae6f-ea6e1be858f0",
   "metadata": {},
   "source": [
    "## Data Loading"
   ]
  },
  {
   "cell_type": "markdown",
   "id": "209d7e34-19d0-4c9b-bc7c-b89c09052167",
   "metadata": {},
   "source": [
    "To start, we need to get enough data to run the forward and backward passes.  Since our total dataset is likely too big to hold all at once in real practice, we would read just enough file information into memory so that we can run the passes, leaving memory and compute to be used on the passes instead of static data holding. \n",
    "To start, we have to identify the batch size and the model context length to determine how much data we need.  Consequently, these dimensions also form 2 of the 3 dimensions in the initial matrix.\n",
    "- **Batch Size (B)** - This is the number of examples you'll train on in a single pass. \n",
    "- **Context Length (T)** - This is the max number of tokens that a model can use in a single pass to generate the next token. If an example is below this length, it can be padded.\n",
    "  \n",
    "*Ideally both B and T are multiples of 2 to work nicely with chip architecture. This is a common theme across the board*"
   ]
  },
  {
   "cell_type": "code",
   "execution_count": 8,
   "id": "1349878b-f4cd-4691-93fc-f8f2d76cb28a",
   "metadata": {},
   "outputs": [],
   "source": [
    "B = 2 # Batch\n",
    "T = 8 # context length"
   ]
  },
  {
   "cell_type": "markdown",
   "id": "96920d53-8372-4f67-a6c2-289dd385690c",
   "metadata": {},
   "source": [
    "To start, we need to pull from our long raw_token list enough tokens for the forward pass. To be able to satisfy training `B` Batches `T` Context length, we need to pull out `B*T` tokens to slide the context window across the examples enough to satisfy the batch size.  Since the training will attempt to predict the last token given the previous tokens in context, we also need 1 more token at the end so that the last training example in the last batch can have the next token to validate against. "
   ]
  },
  {
   "cell_type": "code",
   "execution_count": 9,
   "id": "0eda05fa-9c31-4618-ae8c-ed1317467795",
   "metadata": {},
   "outputs": [
    {
     "data": {
      "text/plain": [
       "tensor([35, 15, 32,  9,  5, 20, 30, 15, 11,  9,  6, 20,  5,  0, 13, 21,  0])"
      ]
     },
     "execution_count": 9,
     "metadata": {},
     "output_type": "execute_result"
    }
   ],
   "source": [
    "current_position = 0\n",
    "tok_for_training = all_tokens[current_position:current_position + B*T +1 ]\n",
    "tok_for_training"
   ]
  },
  {
   "cell_type": "markdown",
   "id": "665501c6-08d2-4e76-b672-a22d40d529f1",
   "metadata": {},
   "source": [
    "Now that we have our initial tokens to train on, we now need to convert it to a matrix that's ready for training. In this step we'll need to create our batches and setup two different arrays: 1/ the input, `x`, tokens that will result in 2/ the output `y` tokens. To create each example in the batch, every `T` tokens will be placed into its own row. \n",
    "\n",
    "Recall that training takes in a string of tokens the length of the context and then predicts the next token. Recall that when we extracted `tok_for_training` we added 1 extra token so that we can evaluate the prediction for the last example. Because of this, the input, `x`, will be all of the tokens up to the second to last element `[:-1]`.  \n",
    "\n",
    "It might be natural to think the output `y` would then just be the last token.But this is actually wasting valuable training loops.  Yes, there is the example that fills the context `T`, but we also have enough tokens in `tok_for_training` where any context length of `n` where `n<T` can also be used for inference since we have the `n+1` token available.  You can think of the following example:\n",
    "\n",
    "sentence: `Hi I am learning`. This sentence contains the following \"next tokens\" that can be learned:\n",
    "1. x: Hi I am  | y: learning\n",
    "2. x: Hi I     | y: am\n",
    "3. x: Hi       | y: I\n",
    "\n",
    "Because we have this triangle to create, our `y` can be much larger.  We can start with the second token and, go all the way to the last element we added for the last example `[1:'`.   \n",
    "\n",
    "\n",
    "We will now put this together and do the following:\n",
    "1. Extract the input `x` and then split it into an example for each batch `B`\n",
    "2. Extract the output `y` and then split it into an example for each batch `B`\n",
    "\n",
    "*Note: View can take `-1` which allows the matrix to infer the dimension so we do not need to pass in `T`, but given how many matrices we'll work with we want to make sure we're controlling the dimensions or erroring out if they do not match our expectations.*"
   ]
  },
  {
   "cell_type": "code",
   "execution_count": 10,
   "id": "f36ec177-74d7-4cb9-b84d-75a10a6c6694",
   "metadata": {},
   "outputs": [
    {
     "data": {
      "text/plain": [
       "tensor([[35, 15, 32,  9,  5, 20, 30, 15],\n",
       "        [11,  9,  6, 20,  5,  0, 13, 21]])"
      ]
     },
     "execution_count": 10,
     "metadata": {},
     "output_type": "execute_result"
    }
   ],
   "source": [
    "x=tok_for_training[:-1].view(B, T)\n",
    "x"
   ]
  },
  {
   "cell_type": "code",
   "execution_count": 11,
   "id": "f8d87eb2-5bc8-44cb-80d4-806c3a3bf93d",
   "metadata": {},
   "outputs": [
    {
     "data": {
      "text/plain": [
       "tensor([[15, 32,  9,  5, 20, 30, 15, 11],\n",
       "        [ 9,  6, 20,  5,  0, 13, 21,  0]])"
      ]
     },
     "execution_count": 11,
     "metadata": {},
     "output_type": "execute_result"
    }
   ],
   "source": [
    "y=tok_for_training[1:].view(B, T)\n",
    "y"
   ]
  },
  {
   "cell_type": "markdown",
   "id": "2fd96f05-28c7-482a-bd47-d8226e65d235",
   "metadata": {},
   "source": [
    "## Forward pass"
   ]
  },
  {
   "cell_type": "markdown",
   "id": "9e57349b-3625-46e2-9da3-7a1fbccb43b2",
   "metadata": {},
   "source": [
    "<img src=\"explainer_screenshots/gru/full_network_gru.png\" width=\"200\">\n",
    "\n",
    "During training, the forward pass takes a string of tokens in and predicts the likelihood that each output token is the next \"n\" tokens.  This step as we'll look at it is focused on training where we'll pass in the input `x`, carry that input through the layers, and generate a matrix of the probability of each token being the next one, something we call `logits`. During the forward pass, since this is an RNN, we will actually pass each example through recursively based on the token length of available. For example, if we have 3 tokens in the example and we are deriving the 4th, we would hit our GRU block 3 times through:\n",
    "1. First with the embedding for the token `[0]` and no previous token\n",
    "2. Then with the embedding for the token `[1]` and the output of the GRU unit's processing of token `[0]` as the previous $H_{T-1}$\n",
    "3. Finally with the embedding for the token `[2]` and the output of the GRU unit's processing of token `[1]` as the previous $H_{T-1}$\n",
    "\n",
    "At the end of the forward pass at the end we then compare the probability to the actual next token in `y` and calculate `loss` based on the difference. \n",
    "\n",
    "*Note that we will do some layer initialization to simplify following along.  In reality layers are often initialized to normal distribution with some adjustments made for parameter sizes to keep the weights properly noisy.  We will not cover initialization in this series*\n",
    "\n",
    "We first rederive the batch size and context size based on the input to improve flexibility."
   ]
  },
  {
   "cell_type": "code",
   "execution_count": 12,
   "id": "83e785e1-7328-4b6f-83f9-a98247f06bde",
   "metadata": {},
   "outputs": [],
   "source": [
    "import torch.nn as nn"
   ]
  },
  {
   "cell_type": "code",
   "execution_count": 13,
   "id": "fa762304-604b-458a-b0d5-2d787de76448",
   "metadata": {},
   "outputs": [
    {
     "data": {
      "text/plain": [
       "(2, 8)"
      ]
     },
     "execution_count": 13,
     "metadata": {},
     "output_type": "execute_result"
    }
   ],
   "source": [
    "B_batch, T_context = x.size()\n",
    "B_batch, T_context"
   ]
  },
  {
   "cell_type": "code",
   "execution_count": 14,
   "id": "2a6d9984-9890-4b37-b538-5a09fdb7efed",
   "metadata": {},
   "outputs": [
    {
     "data": {
      "text/plain": [
       "(4, 36)"
      ]
     },
     "execution_count": 14,
     "metadata": {},
     "output_type": "execute_result"
    }
   ],
   "source": [
    "n_embd = 4 # level of embedding of input tokens\n",
    "n_embd, vocab_size"
   ]
  },
  {
   "cell_type": "markdown",
   "id": "3fbc6e54-7bdf-4518-87de-856d062c94ff",
   "metadata": {},
   "source": [
    "### Input Layer"
   ]
  },
  {
   "cell_type": "markdown",
   "id": "3bf3ccab-d62d-41f8-9539-4a257e9ca2a8",
   "metadata": {},
   "source": [
    "<img src=\"explainer_screenshots/gru/input_layer.png\" width=\"200\">\n",
    "\n",
    "We'll first create an initial **embedding layer** for our input tokens.  Since the RNN iteratively processes input data, position embedding info is not needed, though, it can always be added to give the model more depth. The embedding weights are `vocab_size X n_embd` and simply store weights that correspond with each token.  The more embedding layers added the more complex data the model can learn. After the embedding layer we'll then perform dropout. The **dropout layer** simply applies 0's  randomly up to the defined level percentage and normalizes the remaining probabilities in the row. Since RNNs recycle the same parameters across timesteps, features can co-adapt and overfit quickly. Variational dropout breaks these temporal co-adaptations and adds needed noise where there’s little implicit regularization. Other model architectures like transformers have strong built-in stabilizers (LayerNorm, residuals, attention) and massive pretraining, so they generally need far less dropout. \n",
    "\n"
   ]
  },
  {
   "cell_type": "markdown",
   "id": "1978456a-c933-45be-84bd-ac109731319d",
   "metadata": {},
   "source": [
    "**Embedding** \n",
    "\n",
    "To start we'll initialize our embeddings with a weight of 1.000 so that all inputs are equally weighted. We'll also set our embedding dimension to 4 to allow for some levels of complexity. Since our initiation weights are equal, we expect that the output of embedding will for now be equal"
   ]
  },
  {
   "cell_type": "code",
   "execution_count": 15,
   "id": "be607d75-1447-4339-9145-0f18f7e294b2",
   "metadata": {},
   "outputs": [
    {
     "data": {
      "text/plain": [
       "Parameter containing:\n",
       "tensor([[1., 1., 1., 1.],\n",
       "        [1., 1., 1., 1.],\n",
       "        [1., 1., 1., 1.],\n",
       "        [1., 1., 1., 1.],\n",
       "        [1., 1., 1., 1.],\n",
       "        [1., 1., 1., 1.],\n",
       "        [1., 1., 1., 1.],\n",
       "        [1., 1., 1., 1.],\n",
       "        [1., 1., 1., 1.],\n",
       "        [1., 1., 1., 1.],\n",
       "        [1., 1., 1., 1.],\n",
       "        [1., 1., 1., 1.],\n",
       "        [1., 1., 1., 1.],\n",
       "        [1., 1., 1., 1.],\n",
       "        [1., 1., 1., 1.],\n",
       "        [1., 1., 1., 1.],\n",
       "        [1., 1., 1., 1.],\n",
       "        [1., 1., 1., 1.],\n",
       "        [1., 1., 1., 1.],\n",
       "        [1., 1., 1., 1.],\n",
       "        [1., 1., 1., 1.],\n",
       "        [1., 1., 1., 1.],\n",
       "        [1., 1., 1., 1.],\n",
       "        [1., 1., 1., 1.],\n",
       "        [1., 1., 1., 1.],\n",
       "        [1., 1., 1., 1.],\n",
       "        [1., 1., 1., 1.],\n",
       "        [1., 1., 1., 1.],\n",
       "        [1., 1., 1., 1.],\n",
       "        [1., 1., 1., 1.],\n",
       "        [1., 1., 1., 1.],\n",
       "        [1., 1., 1., 1.],\n",
       "        [1., 1., 1., 1.],\n",
       "        [1., 1., 1., 1.],\n",
       "        [1., 1., 1., 1.],\n",
       "        [1., 1., 1., 1.]], requires_grad=True)"
      ]
     },
     "execution_count": 15,
     "metadata": {},
     "output_type": "execute_result"
    }
   ],
   "source": [
    "wte = nn.Embedding(vocab_size, n_embd)\n",
    "torch.nn.init.ones_(wte.weight)\n",
    "wte.weight"
   ]
  },
  {
   "cell_type": "code",
   "execution_count": 16,
   "id": "10b37914-4be6-4ed6-ad7b-daa43db954ad",
   "metadata": {},
   "outputs": [
    {
     "data": {
      "text/plain": [
       "(torch.Size([2, 8, 4]),\n",
       " tensor([[[1., 1., 1., 1.],\n",
       "          [1., 1., 1., 1.],\n",
       "          [1., 1., 1., 1.],\n",
       "          [1., 1., 1., 1.],\n",
       "          [1., 1., 1., 1.],\n",
       "          [1., 1., 1., 1.],\n",
       "          [1., 1., 1., 1.],\n",
       "          [1., 1., 1., 1.]],\n",
       " \n",
       "         [[1., 1., 1., 1.],\n",
       "          [1., 1., 1., 1.],\n",
       "          [1., 1., 1., 1.],\n",
       "          [1., 1., 1., 1.],\n",
       "          [1., 1., 1., 1.],\n",
       "          [1., 1., 1., 1.],\n",
       "          [1., 1., 1., 1.],\n",
       "          [1., 1., 1., 1.]]], grad_fn=<EmbeddingBackward0>))"
      ]
     },
     "execution_count": 16,
     "metadata": {},
     "output_type": "execute_result"
    }
   ],
   "source": [
    "x = wte(x)\n",
    "x.shape, x"
   ]
  },
  {
   "cell_type": "markdown",
   "id": "7bf83182-f32a-4da0-93c8-8bb4f41cce49",
   "metadata": {},
   "source": [
    "### Dropout\n",
    "\n",
    "Now, before our Recurrent unit, we'll perform dropout. Dropout will randomly zero out any value effectively removing that specific node from impacting prediction. Since this is Bernoulli based dropout, in addition to zeroing out weights the surviving entries are scaled by $1/(1-p)$. During training this helps with generalization and fights fixation. You can quickly see the dropout's impact on the embeddings. "
   ]
  },
  {
   "cell_type": "code",
   "execution_count": 17,
   "id": "cfa012d0-91b1-474d-b961-ebfb4ef1889f",
   "metadata": {},
   "outputs": [
    {
     "data": {
      "text/plain": [
       "Dropout(p=0.1, inplace=False)"
      ]
     },
     "execution_count": 17,
     "metadata": {},
     "output_type": "execute_result"
    }
   ],
   "source": [
    "dropout = nn.Dropout(0.1)\n",
    "dropout"
   ]
  },
  {
   "cell_type": "code",
   "execution_count": 18,
   "id": "29b56d86-9cfe-4b21-ba08-1b1dba07fc46",
   "metadata": {},
   "outputs": [
    {
     "data": {
      "text/plain": [
       "tensor([[[1.1111, 1.1111, 1.1111, 1.1111],\n",
       "         [1.1111, 0.0000, 1.1111, 1.1111],\n",
       "         [1.1111, 1.1111, 1.1111, 1.1111],\n",
       "         [0.0000, 0.0000, 1.1111, 1.1111],\n",
       "         [1.1111, 1.1111, 0.0000, 1.1111],\n",
       "         [1.1111, 0.0000, 1.1111, 1.1111],\n",
       "         [1.1111, 1.1111, 1.1111, 0.0000],\n",
       "         [1.1111, 1.1111, 1.1111, 1.1111]],\n",
       "\n",
       "        [[1.1111, 1.1111, 1.1111, 0.0000],\n",
       "         [1.1111, 1.1111, 0.0000, 1.1111],\n",
       "         [1.1111, 1.1111, 1.1111, 1.1111],\n",
       "         [1.1111, 1.1111, 1.1111, 1.1111],\n",
       "         [1.1111, 1.1111, 1.1111, 1.1111],\n",
       "         [1.1111, 1.1111, 1.1111, 1.1111],\n",
       "         [1.1111, 1.1111, 0.0000, 1.1111],\n",
       "         [1.1111, 1.1111, 1.1111, 1.1111]]], grad_fn=<MulBackward0>)"
      ]
     },
     "execution_count": 18,
     "metadata": {},
     "output_type": "execute_result"
    }
   ],
   "source": [
    "x = dropout(x)\n",
    "x"
   ]
  },
  {
   "cell_type": "markdown",
   "id": "c9443d17-96e5-4854-9b99-deb9ee747db1",
   "metadata": {},
   "source": [
    "### Recurrent Unit - GRU"
   ]
  },
  {
   "cell_type": "markdown",
   "id": "8b9c2ecb-580d-402c-b932-f00d799ab5b1",
   "metadata": {},
   "source": [
    "<img src=\"explainer_screenshots/gru/gru_details.png\" width=\"600\">\n",
    "\n",
    "At a high level, you'll see that our GRU acts as our recurrent unit.  This unit does not take in the whole context `X` but rather iteratively takes in a specific time point $X_t$, calculates its weights $H_t$. If there are more time points, for us meaning more tokens in the string, the unit then takes in that weight, represented as $H_{prev}$, and the next time point, represented again as $X_t$ and reruns the unit, until all time points are exhausted. \n",
    "\n",
    "To manage the impact of the incoming state and the long term memory, GRUs use two gates: the reset gate and the update gate. Both of these gates push their values to lie between $[0,1]$ through the use of a sigmoid activation. \n",
    "\n",
    "Mentally the **Update Gate**  $Z$ controls how much of the new state is a copy of the old vs being new. We achieve this by applying the linearization $AX+WH+b$ to both the previous weights $H_{prev}$ and the incoming weights $X_t$. This results in a gate that acts as a learnable proportion that controls what proportion of the previous chain is through $Z \\odot H_{prev}$ and the remaining proportion is applied to the candidate hidden state $(1 - Z) \\odot \\tilde{H}_t$ as calculated through the *Reset Gate*. \n",
    "\n",
    "The **Reset Gate** $R$ is our control on how much of the previous state to remember in the candidate hidden state.  We similarly calculate this by applying the linearization $AX+WH+b$ to both the previous weights $H_{prev}$ and the incoming weights $X_t$.  \n",
    "\n",
    "The **Candidate Hidden State** $\\tilde{H}_t$ is our representation of the impact of the timepoint's specific context $X_t$  given the previous context $H_{prev}$.  The amount of previous context is decided by the *reset gate* $R$ that's learned. We again use linearization to these two inputs $AX+WR\\odot H+b$ and then wrap it in a $tanh$ to pull the values to $[-1,1]$ to limit the candidate hidden state’s magnitude and keeps activations zero-centered, improving stability and optimization while the gates handle long-range impact assignment.\n",
    "\n",
    "You'll notice that we use the $\\odot$ representing the Hadamard product, or the element wise multiple, instead of the dot product.  In RNNs we use this because the gates are meant to be per-feature “valves.” The update uses elementwise products to preserve the shape and provide an element wise identity path for gradients. A dot product would either collapse to a scalar (vector·vector) or mix features via a full matrix multiply, which changes the operation from gating to another affine transform, adds parameters, couples coordinates, and weakens the stable skip-like behavior that helps GRUs retain memory and avoid vanishing gradients.\n",
    "\n",
    "All together this results in the following:\n",
    "\n",
    "$$\n",
    "\\begin{align}\n",
    "Z &= \\sigma\\!\\left(X_t W_{xz} + H_{prev} W_{hz} + b_z\\right)\\ \\ \\ \\ \\text{Update Gate},\\\\\n",
    "R &= \\sigma\\!\\left(X_t W_{xr} + H_{prev} W_{hr} + b_r\\right)\\ \\ \\ \\ \\text{Reset Gate},\\\\\n",
    "\\tilde{H}_t &= \\tanh\\!\\left(X_t W_{xh} + R \\odot \\left(H_{prev}W_{hh}\\right) + b_h \\right),\\\\\n",
    "H_t &= Z \\odot H_{prev} + \\left(1-Z_t\\right)\\odot \\tilde{H}_t .\n",
    "\\end{align}\n",
    "$$"
   ]
  },
  {
   "cell_type": "markdown",
   "id": "e0138029-919b-4752-ab26-ed276e0d870b",
   "metadata": {},
   "source": [
    "Mathematically this gives us a nice simple set of formulas, but we need to actually write this as a program. If we look closely we have 3 sets of weights acting:\n",
    "* the input $X_t$: $\\{W_{xz}, W_{xr}, W_{xh}\\}$. *Notice the subscript is \"x\\<gate or state>\"*\n",
    "* the previous $H_{prev}$: $\\{W_{hz}, W_{hr}, W_{hh}\\}$.\n",
    "\n",
    "To simplify this weight we'll start by creating a linear later that has 3x the hidden layers, separate it, and then complete the rest of the calculations. This allows us to gain efficiencies in learning and improve our code readability.  The algorithmic representation then looks as follows:\n",
    "\n",
    "```\n",
    "xz, xr, xh = x2g(x_t).split(hidden_size, dim=-1)\n",
    "hz, hr, hh = h2g(h_prev).split(hidden_size, dim=-1)\n",
    "z = sigma(xz + hz)\n",
    "r = sigma(xr + hr)\n",
    "r_hh = r * hh\n",
    "h_can = tanh(xh + r_hh})\n",
    "h_t &= (1 - z)*h_can + z*h_prev.\n",
    "```\n",
    "**Starting Example** While GRUs are iterative, we'll first walk through 1 pass of the GRU. After that we'll show the loop for the rest of the context window/examples. This will help us understand what is happening inside a pass and then how the impact of the weights adds up over the context length. To keep things simple we'll set the `hidden_size` to 4. Let's start by initiating our weights.  To visualize the impact of each set of weights, I'll initialize the current context and the previous context weights to two different values."
   ]
  },
  {
   "cell_type": "code",
   "execution_count": 19,
   "id": "d21e8264-8bef-4002-af8e-fb022891468e",
   "metadata": {},
   "outputs": [],
   "source": [
    "hidden_size = 4"
   ]
  },
  {
   "cell_type": "code",
   "execution_count": 20,
   "id": "eb643927-6944-4785-ac3a-935d1f08b17e",
   "metadata": {},
   "outputs": [
    {
     "data": {
      "text/plain": [
       "(torch.Size([12, 4]),\n",
       " Parameter containing:\n",
       " tensor([[0.5000, 0.5000, 0.5000, 0.5000],\n",
       "         [0.5000, 0.5000, 0.5000, 0.5000],\n",
       "         [0.5000, 0.5000, 0.5000, 0.5000],\n",
       "         [0.5000, 0.5000, 0.5000, 0.5000],\n",
       "         [0.5000, 0.5000, 0.5000, 0.5000],\n",
       "         [0.5000, 0.5000, 0.5000, 0.5000],\n",
       "         [0.5000, 0.5000, 0.5000, 0.5000],\n",
       "         [0.5000, 0.5000, 0.5000, 0.5000],\n",
       "         [0.5000, 0.5000, 0.5000, 0.5000],\n",
       "         [0.5000, 0.5000, 0.5000, 0.5000],\n",
       "         [0.5000, 0.5000, 0.5000, 0.5000],\n",
       "         [0.5000, 0.5000, 0.5000, 0.5000]], requires_grad=True),\n",
       " torch.Size([12]),\n",
       " Parameter containing:\n",
       " tensor([0., 0., 0., 0., 0., 0., 0., 0., 0., 0., 0., 0.], requires_grad=True))"
      ]
     },
     "execution_count": 20,
     "metadata": {},
     "output_type": "execute_result"
    }
   ],
   "source": [
    "x2g = nn.Linear(n_embd, 3 * hidden_size, bias=True)\n",
    "torch.nn.init.constant_(x2g.weight, 0.500)\n",
    "torch.nn.init.zeros_(x2g.bias)\n",
    "x2g.weight.size(), x2g.weight, x2g.bias.size(), x2g.bias"
   ]
  },
  {
   "cell_type": "code",
   "execution_count": 21,
   "id": "5cd4aed3-b539-488f-a4ea-0f081ebc100b",
   "metadata": {},
   "outputs": [
    {
     "data": {
      "text/plain": [
       "(torch.Size([12, 4]),\n",
       " Parameter containing:\n",
       " tensor([[0.2500, 0.2500, 0.2500, 0.2500],\n",
       "         [0.2500, 0.2500, 0.2500, 0.2500],\n",
       "         [0.2500, 0.2500, 0.2500, 0.2500],\n",
       "         [0.2500, 0.2500, 0.2500, 0.2500],\n",
       "         [0.2500, 0.2500, 0.2500, 0.2500],\n",
       "         [0.2500, 0.2500, 0.2500, 0.2500],\n",
       "         [0.2500, 0.2500, 0.2500, 0.2500],\n",
       "         [0.2500, 0.2500, 0.2500, 0.2500],\n",
       "         [0.2500, 0.2500, 0.2500, 0.2500],\n",
       "         [0.2500, 0.2500, 0.2500, 0.2500],\n",
       "         [0.2500, 0.2500, 0.2500, 0.2500],\n",
       "         [0.2500, 0.2500, 0.2500, 0.2500]], requires_grad=True),\n",
       " torch.Size([12]),\n",
       " Parameter containing:\n",
       " tensor([0., 0., 0., 0., 0., 0., 0., 0., 0., 0., 0., 0.], requires_grad=True))"
      ]
     },
     "execution_count": 21,
     "metadata": {},
     "output_type": "execute_result"
    }
   ],
   "source": [
    "h2g = nn.Linear(hidden_size, 3 * hidden_size, bias=True)\n",
    "torch.nn.init.constant_(h2g.weight, 0.250)\n",
    "torch.nn.init.zeros_(h2g.bias)\n",
    "h2g.weight.size(), h2g.weight, h2g.bias.size(), h2g.bias"
   ]
  },
  {
   "cell_type": "markdown",
   "id": "6abb3605-3815-4c0b-ba74-2705e5d4ad20",
   "metadata": {},
   "source": [
    "#### GRU - Frist Pass"
   ]
  },
  {
   "cell_type": "markdown",
   "id": "04ea925e-09b9-423c-994c-28bb2061765d",
   "metadata": {},
   "source": [
    "##### GRU - Previous $H_{prev}$\n",
    "Let's start first by setting up our previous state weights.  Since we are at 'time 0' in training, there are no previous states yet. Because of this we'll actually set our state to just 0's, meaning no tokens or weights.  We'll then pass this into the linear layer and split it up into our 3 different linear units. Notice that because our previous state is currently 0, the weights returned are all 0. In future recursions, these weights will no longer be 0. "
   ]
  },
  {
   "cell_type": "code",
   "execution_count": 22,
   "id": "9d9dcfb5-2798-4085-9613-5d94143424e8",
   "metadata": {},
   "outputs": [
    {
     "data": {
      "text/plain": [
       "tensor([[0., 0., 0., 0.],\n",
       "        [0., 0., 0., 0.]])"
      ]
     },
     "execution_count": 22,
     "metadata": {},
     "output_type": "execute_result"
    }
   ],
   "source": [
    "h_prev = torch.zeros(B_batch, hidden_size) \n",
    "h_prev"
   ]
  },
  {
   "cell_type": "code",
   "execution_count": 23,
   "id": "a5d33f2a-3471-434b-8441-8d41befd55c3",
   "metadata": {},
   "outputs": [
    {
     "data": {
      "text/plain": [
       "('hz',\n",
       " tensor([[0., 0., 0., 0.],\n",
       "         [0., 0., 0., 0.]], grad_fn=<SplitBackward0>),\n",
       " torch.Size([2, 4]),\n",
       " 'hr',\n",
       " tensor([[0., 0., 0., 0.],\n",
       "         [0., 0., 0., 0.]], grad_fn=<SplitBackward0>),\n",
       " torch.Size([2, 4]),\n",
       " 'hh',\n",
       " tensor([[0., 0., 0., 0.],\n",
       "         [0., 0., 0., 0.]], grad_fn=<SplitBackward0>),\n",
       " torch.Size([2, 4]))"
      ]
     },
     "execution_count": 23,
     "metadata": {},
     "output_type": "execute_result"
    }
   ],
   "source": [
    "h_prev_w = h2g(h_prev)\n",
    "hz, hr, hh = h_prev_w.split(hidden_size, dim=-1)\n",
    "\n",
    "'hz', hz, hz.size(), 'hr',hr, hr.size(),'hh',hh, hh.size()"
   ]
  },
  {
   "cell_type": "markdown",
   "id": "2f09c99f-ab91-4dcb-8f0b-295c3f2a30a2",
   "metadata": {},
   "source": [
    "##### GRU - Incoming $X_t$\n",
    "Next we need to linearize our incoming state. Currently X has all 8 examples for our context windows across the 2 batches. With GRU's we can only feed in 1 example at a time and, since we want sequential weights, 1 token at a time.  Luckily our examples are incremental (example 1 is token 1, example 2 is tokens 1 and 2) so we can iteratively calculate our GRU weights per example and use that collectively as the weight for each example.  But to start we'll need to extract just the example for the first time period `x_t` for each batch and calculate our weights.\n",
    "\n",
    "Since our weights are 1/2 for each value of the cell, you can see that when we multiply that by the example each weight remains consistent. If dropout is observed, the values in each batch can be different, but they'll be the same across the example. "
   ]
  },
  {
   "cell_type": "code",
   "execution_count": 24,
   "id": "a2f7b252-dae3-4243-8b6c-ec16a292c1fb",
   "metadata": {},
   "outputs": [
    {
     "data": {
      "text/plain": [
       "tensor([[1.1111, 1.1111, 1.1111, 1.1111],\n",
       "        [1.1111, 1.1111, 1.1111, 0.0000]], grad_fn=<SliceBackward0>)"
      ]
     },
     "execution_count": 24,
     "metadata": {},
     "output_type": "execute_result"
    }
   ],
   "source": [
    "x_t = x[:, 0, :]\n",
    "x_t"
   ]
  },
  {
   "cell_type": "code",
   "execution_count": 25,
   "id": "58799445-c5d7-49a8-9314-58feefba9e54",
   "metadata": {},
   "outputs": [
    {
     "data": {
      "text/plain": [
       "('xz',\n",
       " tensor([[2.2222, 2.2222, 2.2222, 2.2222],\n",
       "         [1.6667, 1.6667, 1.6667, 1.6667]], grad_fn=<SplitBackward0>),\n",
       " torch.Size([2, 4]),\n",
       " 'xr',\n",
       " tensor([[2.2222, 2.2222, 2.2222, 2.2222],\n",
       "         [1.6667, 1.6667, 1.6667, 1.6667]], grad_fn=<SplitBackward0>),\n",
       " torch.Size([2, 4]),\n",
       " 'xh',\n",
       " tensor([[2.2222, 2.2222, 2.2222, 2.2222],\n",
       "         [1.6667, 1.6667, 1.6667, 1.6667]], grad_fn=<SplitBackward0>),\n",
       " torch.Size([2, 4]))"
      ]
     },
     "execution_count": 25,
     "metadata": {},
     "output_type": "execute_result"
    }
   ],
   "source": [
    "x_t_w = x2g(x_t)\n",
    "xz, xr, xh = x_t_w.split(hidden_size, dim=-1)\n",
    "\n",
    "'xz', xz, xz.size(), 'xr',xr, xr.size(),'xh',xh, xh.size()"
   ]
  },
  {
   "cell_type": "markdown",
   "id": "90888bbb-46bb-4739-a692-d01affb809f9",
   "metadata": {},
   "source": [
    "##### GRU - Update Gate $Z$\n",
    "Recall that the update gate controls how much of the new state is a copy of the old vs being new. We derive the update gate using the following: \n",
    "$Z = \\sigma\\!\\left(X_t W_{xz} + H_{prev} W_{hz} + b_z\\right)$\n",
    "\n",
    "This update gate path will become the learnable weights that will control what proportion of the previous chain maintained through the recursions. As a reminder the sigmoid function pulls the values to $[0,1]$ [source](https://docs.pytorch.org/docs/stable/generated/torch.sigmoid.html) using:\n",
    "\n",
    "$\\sigma(x) = \\frac{1}{1 + e^{(-x)}}$"
   ]
  },
  {
   "cell_type": "code",
   "execution_count": 26,
   "id": "7128c628-08d2-4c5c-88df-4422253833b9",
   "metadata": {},
   "outputs": [
    {
     "data": {
      "text/plain": [
       "(torch.Size([2, 4]),\n",
       " tensor([[0.9022, 0.9022, 0.9022, 0.9022],\n",
       "         [0.8411, 0.8411, 0.8411, 0.8411]], grad_fn=<SigmoidBackward0>))"
      ]
     },
     "execution_count": 26,
     "metadata": {},
     "output_type": "execute_result"
    }
   ],
   "source": [
    "z = torch.sigmoid(xz + hz)\n",
    "z.size(), z"
   ]
  },
  {
   "cell_type": "markdown",
   "id": "585195e5-dd56-45d3-8c75-7fe5a14cc75c",
   "metadata": {},
   "source": [
    "##### GRU - Reset Gate $R$\n",
    "Recall that the reset gate controls how much of the previous state to remember in the candidate hidden state. We derive the update gate using the following: \n",
    "\n",
    "\n",
    "$R = \\sigma\\!\\left(X_t W_{xr} + H_{prev} W_{hr} + b_r\\right)$\n",
    "\n",
    "\n",
    "This reset gate path will become the learnable weights that will control what proportion of the previous chain is forgotten when using the current context to predict the next token in the candidate hidden state.  We use the same sigmoid function to squeeze the values to $[0,1]$\n",
    "\n",
    "You can see that since the network is untrained, the values are the same as the update gate. With training, these values will diverge. "
   ]
  },
  {
   "cell_type": "code",
   "execution_count": 27,
   "id": "083c93ca-a3b4-4524-8c99-d263044a71ba",
   "metadata": {},
   "outputs": [
    {
     "data": {
      "text/plain": [
       "(torch.Size([2, 4]),\n",
       " tensor([[0.9022, 0.9022, 0.9022, 0.9022],\n",
       "         [0.8411, 0.8411, 0.8411, 0.8411]], grad_fn=<SigmoidBackward0>))"
      ]
     },
     "execution_count": 27,
     "metadata": {},
     "output_type": "execute_result"
    }
   ],
   "source": [
    "r = torch.sigmoid(xr + hr)\n",
    "r.size(), r"
   ]
  },
  {
   "cell_type": "markdown",
   "id": "3b0f304c-5f4f-432b-9e17-65e3f6562a33",
   "metadata": {},
   "source": [
    "##### GRU - Candidate Hidden State $\\tilde{H}_t$\n",
    "\n",
    "Recall that the Candidate Hidden State is our representation of the impact of the timepoint's specific context $X_t$  given the previous context $H_{prev}$. The amount the previous context impacts is learned through the reset gate $R$.  We calculate it as follows:\n",
    "\n",
    "$\\tilde{H}_t = \\tanh\\!\\left(X_t W_{xh} + R_t \\odot \\left(H_{prev}W_{hh}\\right) + b_h \\right),\\\\$\n",
    "\n",
    "This calculation sums the weight of the timepoint specific context with the weight of the reset gate then use a $tanh$ layer to pull values to $[-1,1]$ with the goal of avoiding vanishing/exploding gradients. \n",
    "\n",
    "We'll start by first calculating the weight of the reset gate `r_hh` and then do the sum. You'll notice since our $H_{prev}$ was 0, our reset gate will be zeroed out leaving just the incoming weights.  In subsequent recursions this will no longer be the case. "
   ]
  },
  {
   "cell_type": "code",
   "execution_count": 28,
   "id": "2ff419c1-6458-46ce-9fea-44ebfa836d6f",
   "metadata": {},
   "outputs": [
    {
     "data": {
      "text/plain": [
       "(torch.Size([2, 4]),\n",
       " tensor([[0., 0., 0., 0.],\n",
       "         [0., 0., 0., 0.]], grad_fn=<MulBackward0>))"
      ]
     },
     "execution_count": 28,
     "metadata": {},
     "output_type": "execute_result"
    }
   ],
   "source": [
    "r_hh = r*hh\n",
    "r_hh.size(), r_hh"
   ]
  },
  {
   "cell_type": "code",
   "execution_count": 29,
   "id": "d85edd8d-b052-4e65-bef7-2aefb8dd6ce4",
   "metadata": {},
   "outputs": [
    {
     "data": {
      "text/plain": [
       "(torch.Size([2, 4]),\n",
       " tensor([[0.9768, 0.9768, 0.9768, 0.9768],\n",
       "         [0.9311, 0.9311, 0.9311, 0.9311]], grad_fn=<TanhBackward0>))"
      ]
     },
     "execution_count": 29,
     "metadata": {},
     "output_type": "execute_result"
    }
   ],
   "source": [
    "h_cand = torch.tanh(xh + r_hh)\n",
    "h_cand.size(), h_cand"
   ]
  },
  {
   "cell_type": "markdown",
   "id": "46a69d2a-70d6-4df9-8391-12f98692fe2b",
   "metadata": {},
   "source": [
    "##### GRU - Recursion output\n",
    "We now have to combine our candidate hidden state and our previous.  We've calculated the update gate $Z$ that will be the proportion of how much the previous and the candidate contribute.  Since we want to maintain the per-feature impacts we use the Hadamard product here between the reset gate (or 1-z) and the weights.  For this pass we'll actually calculate each portion separately then combine them to be our new $H_t$. \n",
    "\n",
    "We'll first start by calculating the weights of the candidate `(1-z)*h_cand` and then of the previous `z*h_prev`.  Since this is the first recursion, we will see that the values of the previous are zeroed out and all impact is coming from our current context, as expected. "
   ]
  },
  {
   "cell_type": "code",
   "execution_count": 30,
   "id": "ca79bc59-e198-4223-9d5b-6b95bb900b00",
   "metadata": {},
   "outputs": [
    {
     "data": {
      "text/plain": [
       "tensor([[0.0978, 0.0978, 0.0978, 0.0978],\n",
       "        [0.1589, 0.1589, 0.1589, 0.1589]], grad_fn=<RsubBackward1>)"
      ]
     },
     "execution_count": 30,
     "metadata": {},
     "output_type": "execute_result"
    }
   ],
   "source": [
    "(1 - z)"
   ]
  },
  {
   "cell_type": "code",
   "execution_count": 31,
   "id": "377016e0-fe1d-4ac6-ac26-f4c27708d7f3",
   "metadata": {},
   "outputs": [
    {
     "data": {
      "text/plain": [
       "(torch.Size([2, 4]),\n",
       " tensor([[0.0955, 0.0955, 0.0955, 0.0955],\n",
       "         [0.1479, 0.1479, 0.1479, 0.1479]], grad_fn=<MulBackward0>))"
      ]
     },
     "execution_count": 31,
     "metadata": {},
     "output_type": "execute_result"
    }
   ],
   "source": [
    "h_cand_imp = (1 - z)*h_cand\n",
    "h_cand_imp.size(), h_cand_imp"
   ]
  },
  {
   "cell_type": "code",
   "execution_count": 32,
   "id": "7998ac75-c036-4c28-b4e6-d113cf238fb7",
   "metadata": {},
   "outputs": [
    {
     "data": {
      "text/plain": [
       "(torch.Size([2, 4]),\n",
       " tensor([[0., 0., 0., 0.],\n",
       "         [0., 0., 0., 0.]], grad_fn=<MulBackward0>))"
      ]
     },
     "execution_count": 32,
     "metadata": {},
     "output_type": "execute_result"
    }
   ],
   "source": [
    "h_prev_imp = z*h_prev\n",
    "h_prev_imp.size(), h_prev_imp"
   ]
  },
  {
   "cell_type": "code",
   "execution_count": 33,
   "id": "2247d741-2729-40ab-b81a-72542145bc1f",
   "metadata": {},
   "outputs": [
    {
     "data": {
      "text/plain": [
       "(torch.Size([2, 4]),\n",
       " tensor([[0.0955, 0.0955, 0.0955, 0.0955],\n",
       "         [0.1479, 0.1479, 0.1479, 0.1479]], grad_fn=<AddBackward0>))"
      ]
     },
     "execution_count": 33,
     "metadata": {},
     "output_type": "execute_result"
    }
   ],
   "source": [
    "h_t = h_cand_imp + h_prev_imp\n",
    "h_t.size(), h_t"
   ]
  },
  {
   "cell_type": "markdown",
   "id": "5088318f-4aa6-47cc-a3c5-3e633b517129",
   "metadata": {},
   "source": [
    "#### GRU -  Managing examples in a batch\n",
    "Now that we have the weights from our gated rerecurrent unit for our first time period `t=0`, since we have more context we actually have to recur through the rest of the context.  Before we do the next cycle recall that for training we want to take advantage of the fact that each of our batches has an example for each value up to our context length.  We want to train across inputs of various lengths and so, we'll store our current weights that signify an input of just a single token into our context.  As you'll see in our recursion, we'll store the weight at the end of each pass and build up an array of tensors for each example in the batch. to take to our output layer. \n",
    "\n",
    "To start we'll create an empty tensor of `(B x T x hidden_size)`. We'll then update the `[:,t,:]` entry with `h_t` linking back to each recursion. "
   ]
  },
  {
   "cell_type": "code",
   "execution_count": 34,
   "id": "938d60c5-c2b0-44d5-809b-7d7e790c97d6",
   "metadata": {},
   "outputs": [
    {
     "data": {
      "text/plain": [
       "(torch.Size([2, 8, 4]),\n",
       " tensor([[[0., 0., 0., 0.],\n",
       "          [0., 0., 0., 0.],\n",
       "          [0., 0., 0., 0.],\n",
       "          [0., 0., 0., 0.],\n",
       "          [0., 0., 0., 0.],\n",
       "          [0., 0., 0., 0.],\n",
       "          [0., 0., 0., 0.],\n",
       "          [0., 0., 0., 0.]],\n",
       " \n",
       "         [[0., 0., 0., 0.],\n",
       "          [0., 0., 0., 0.],\n",
       "          [0., 0., 0., 0.],\n",
       "          [0., 0., 0., 0.],\n",
       "          [0., 0., 0., 0.],\n",
       "          [0., 0., 0., 0.],\n",
       "          [0., 0., 0., 0.],\n",
       "          [0., 0., 0., 0.]]]))"
      ]
     },
     "execution_count": 34,
     "metadata": {},
     "output_type": "execute_result"
    }
   ],
   "source": [
    "hs = x.new_empty(B_batch, T_context, hidden_size)\n",
    "hs.size(), hs"
   ]
  },
  {
   "cell_type": "markdown",
   "id": "0bf5b508-7022-4e18-ac93-6039eabf65f9",
   "metadata": {},
   "source": [
    "now we'll enter in our first entry at `t=0`"
   ]
  },
  {
   "cell_type": "code",
   "execution_count": 35,
   "id": "5712a754-aaaf-411f-8465-8c9c69569ed1",
   "metadata": {},
   "outputs": [
    {
     "data": {
      "text/plain": [
       "tensor([[[0.0955, 0.0955, 0.0955, 0.0955],\n",
       "         [0.0000, 0.0000, 0.0000, 0.0000],\n",
       "         [0.0000, 0.0000, 0.0000, 0.0000],\n",
       "         [0.0000, 0.0000, 0.0000, 0.0000],\n",
       "         [0.0000, 0.0000, 0.0000, 0.0000],\n",
       "         [0.0000, 0.0000, 0.0000, 0.0000],\n",
       "         [0.0000, 0.0000, 0.0000, 0.0000],\n",
       "         [0.0000, 0.0000, 0.0000, 0.0000]],\n",
       "\n",
       "        [[0.1479, 0.1479, 0.1479, 0.1479],\n",
       "         [0.0000, 0.0000, 0.0000, 0.0000],\n",
       "         [0.0000, 0.0000, 0.0000, 0.0000],\n",
       "         [0.0000, 0.0000, 0.0000, 0.0000],\n",
       "         [0.0000, 0.0000, 0.0000, 0.0000],\n",
       "         [0.0000, 0.0000, 0.0000, 0.0000],\n",
       "         [0.0000, 0.0000, 0.0000, 0.0000],\n",
       "         [0.0000, 0.0000, 0.0000, 0.0000]]], grad_fn=<CopySlices>)"
      ]
     },
     "execution_count": 35,
     "metadata": {},
     "output_type": "execute_result"
    }
   ],
   "source": [
    "hs[:, 0, :] = h_t   \n",
    "hs"
   ]
  },
  {
   "cell_type": "markdown",
   "id": "69f8ceb5-3070-4fdf-851d-51cabee04d71",
   "metadata": {},
   "source": [
    "#### GRU - Second pass "
   ]
  },
  {
   "cell_type": "markdown",
   "id": "bc5fb533-c74a-4491-8c5c-d79cb32b2a41",
   "metadata": {},
   "source": [
    "Now that we've done the first pass through, let's see how the second pass changes things. The main difference is that in the second pass we'll use the previous pass' output `h_t` to become the new previous `h_prev`.  This will quickly begin to show the impact now on the update gate and reset gate as the `h_prev` is no longer 0 but our X weights are still consistent. We'll start by updating `h_prev` and extracting the next set of inputs for `t=1`.\n",
    "\n",
    "One thing to notice is that despite having an input `h_prev`, the values remain consistent across examples since our initiation weights are uniform.  "
   ]
  },
  {
   "cell_type": "code",
   "execution_count": 36,
   "id": "88aef728-f946-476f-b037-147b2cdf49d6",
   "metadata": {},
   "outputs": [
    {
     "data": {
      "text/plain": [
       "(tensor([[0.0955, 0.0955, 0.0955, 0.0955],\n",
       "         [0.1479, 0.1479, 0.1479, 0.1479]], grad_fn=<AddBackward0>),\n",
       " tensor([[1.1111, 0.0000, 1.1111, 1.1111],\n",
       "         [1.1111, 1.1111, 0.0000, 1.1111]], grad_fn=<SliceBackward0>))"
      ]
     },
     "execution_count": 36,
     "metadata": {},
     "output_type": "execute_result"
    }
   ],
   "source": [
    "h_prev = h_t\n",
    "x_t = x[:, 1, :]\n",
    "\n",
    "h_prev, x_t"
   ]
  },
  {
   "cell_type": "markdown",
   "id": "bafec9b1-1abf-4546-9495-5c1143247972",
   "metadata": {},
   "source": [
    "**GRU second pass - generating Weights**"
   ]
  },
  {
   "cell_type": "code",
   "execution_count": 37,
   "id": "f62f9687-f337-4f4a-a994-46ab785195fa",
   "metadata": {},
   "outputs": [
    {
     "data": {
      "text/plain": [
       "('hz',\n",
       " tensor([[0.0955, 0.0955, 0.0955, 0.0955],\n",
       "         [0.1479, 0.1479, 0.1479, 0.1479]], grad_fn=<SplitBackward0>),\n",
       " torch.Size([2, 4]),\n",
       " 'hr',\n",
       " tensor([[0.0955, 0.0955, 0.0955, 0.0955],\n",
       "         [0.1479, 0.1479, 0.1479, 0.1479]], grad_fn=<SplitBackward0>),\n",
       " torch.Size([2, 4]),\n",
       " 'hh',\n",
       " tensor([[0.0955, 0.0955, 0.0955, 0.0955],\n",
       "         [0.1479, 0.1479, 0.1479, 0.1479]], grad_fn=<SplitBackward0>),\n",
       " torch.Size([2, 4]))"
      ]
     },
     "execution_count": 37,
     "metadata": {},
     "output_type": "execute_result"
    }
   ],
   "source": [
    "h_prev_w = h2g(h_prev)\n",
    "hz, hr, hh = h_prev_w.split(hidden_size, dim=-1)\n",
    "\n",
    "'hz', hz, hz.size(), 'hr',hr, hr.size(),'hh',hh, hh.size()"
   ]
  },
  {
   "cell_type": "code",
   "execution_count": 38,
   "id": "c8278092-677f-4c5d-b237-66dd779bae1a",
   "metadata": {},
   "outputs": [
    {
     "data": {
      "text/plain": [
       "('xz',\n",
       " tensor([[1.6667, 1.6667, 1.6667, 1.6667],\n",
       "         [1.6667, 1.6667, 1.6667, 1.6667]], grad_fn=<SplitBackward0>),\n",
       " torch.Size([2, 4]),\n",
       " 'xr',\n",
       " tensor([[1.6667, 1.6667, 1.6667, 1.6667],\n",
       "         [1.6667, 1.6667, 1.6667, 1.6667]], grad_fn=<SplitBackward0>),\n",
       " torch.Size([2, 4]),\n",
       " 'xh',\n",
       " tensor([[1.6667, 1.6667, 1.6667, 1.6667],\n",
       "         [1.6667, 1.6667, 1.6667, 1.6667]], grad_fn=<SplitBackward0>),\n",
       " torch.Size([2, 4]))"
      ]
     },
     "execution_count": 38,
     "metadata": {},
     "output_type": "execute_result"
    }
   ],
   "source": [
    "x_t_w = x2g(x_t)\n",
    "xz, xr, xh = x_t_w.split(hidden_size, dim=-1)\n",
    "\n",
    "'xz', xz, xz.size(), 'xr',xr, xr.size(),'xh',xh, xh.size()"
   ]
  },
  {
   "cell_type": "markdown",
   "id": "d4a58ff5-f288-42f4-ac6f-8858e5ec179f",
   "metadata": {},
   "source": [
    "**GRU second pass - Update Gate**"
   ]
  },
  {
   "cell_type": "code",
   "execution_count": 39,
   "id": "5ea9b554-7452-4723-b236-388db18a7ee3",
   "metadata": {},
   "outputs": [
    {
     "data": {
      "text/plain": [
       "(torch.Size([2, 4]),\n",
       " tensor([[0.8535, 0.8535, 0.8535, 0.8535],\n",
       "         [0.8599, 0.8599, 0.8599, 0.8599]], grad_fn=<SigmoidBackward0>))"
      ]
     },
     "execution_count": 39,
     "metadata": {},
     "output_type": "execute_result"
    }
   ],
   "source": [
    "z = torch.sigmoid(xz + hz)\n",
    "z.size(), z"
   ]
  },
  {
   "cell_type": "markdown",
   "id": "239fb0c8-c2dc-47d0-a926-71ff5de58786",
   "metadata": {},
   "source": [
    "**GRU second pass - Reset Gate**"
   ]
  },
  {
   "cell_type": "code",
   "execution_count": 40,
   "id": "84ce203f-737b-40c9-8ef3-836cdcbae817",
   "metadata": {},
   "outputs": [
    {
     "data": {
      "text/plain": [
       "(torch.Size([2, 4]),\n",
       " tensor([[0.8535, 0.8535, 0.8535, 0.8535],\n",
       "         [0.8599, 0.8599, 0.8599, 0.8599]], grad_fn=<SigmoidBackward0>))"
      ]
     },
     "execution_count": 40,
     "metadata": {},
     "output_type": "execute_result"
    }
   ],
   "source": [
    "r = torch.sigmoid(xr + hr)\n",
    "r.size(), r"
   ]
  },
  {
   "cell_type": "markdown",
   "id": "a8afc231-6a71-4632-a81b-3a5a2cfc10ab",
   "metadata": {},
   "source": [
    "**GRU second pass - Candidate hidden State**"
   ]
  },
  {
   "cell_type": "code",
   "execution_count": 41,
   "id": "f6929163-af6a-4d59-9c9c-0fdfc76b4538",
   "metadata": {},
   "outputs": [
    {
     "data": {
      "text/plain": [
       "(torch.Size([2, 4]),\n",
       " tensor([[0.0815, 0.0815, 0.0815, 0.0815],\n",
       "         [0.1272, 0.1272, 0.1272, 0.1272]], grad_fn=<MulBackward0>))"
      ]
     },
     "execution_count": 41,
     "metadata": {},
     "output_type": "execute_result"
    }
   ],
   "source": [
    "r_hh = r*hh\n",
    "r_hh.size(), r_hh"
   ]
  },
  {
   "cell_type": "code",
   "execution_count": 42,
   "id": "d2d368ee-5e6b-4b15-bbc4-3b6c17050729",
   "metadata": {},
   "outputs": [
    {
     "data": {
      "text/plain": [
       "(torch.Size([2, 4]),\n",
       " tensor([[0.9412, 0.9412, 0.9412, 0.9412],\n",
       "         [0.9462, 0.9462, 0.9462, 0.9462]], grad_fn=<TanhBackward0>))"
      ]
     },
     "execution_count": 42,
     "metadata": {},
     "output_type": "execute_result"
    }
   ],
   "source": [
    "h_cand = torch.tanh(xh + r_hh)\n",
    "h_cand.size(), h_cand"
   ]
  },
  {
   "cell_type": "markdown",
   "id": "e0fe9149-7cec-4f17-997a-cadf6f41c0a9",
   "metadata": {},
   "source": [
    "**GRU second pass - Recursion Output**"
   ]
  },
  {
   "cell_type": "code",
   "execution_count": 43,
   "id": "4db01714-f5ef-4375-afd3-e8de57efa6cf",
   "metadata": {},
   "outputs": [
    {
     "data": {
      "text/plain": [
       "(torch.Size([2, 4]),\n",
       " tensor([[0.1379, 0.1379, 0.1379, 0.1379],\n",
       "         [0.1325, 0.1325, 0.1325, 0.1325]], grad_fn=<MulBackward0>))"
      ]
     },
     "execution_count": 43,
     "metadata": {},
     "output_type": "execute_result"
    }
   ],
   "source": [
    "h_cand_imp = (1 - z)*h_cand\n",
    "h_cand_imp.size(), h_cand_imp"
   ]
  },
  {
   "cell_type": "code",
   "execution_count": 44,
   "id": "1f75c78b-19f5-492f-8961-4b80aafd890b",
   "metadata": {},
   "outputs": [
    {
     "data": {
      "text/plain": [
       "(torch.Size([2, 4]),\n",
       " tensor([[0.0815, 0.0815, 0.0815, 0.0815],\n",
       "         [0.1272, 0.1272, 0.1272, 0.1272]], grad_fn=<MulBackward0>))"
      ]
     },
     "execution_count": 44,
     "metadata": {},
     "output_type": "execute_result"
    }
   ],
   "source": [
    "h_prev_imp = z*h_prev\n",
    "h_prev_imp.size(), h_prev_imp"
   ]
  },
  {
   "cell_type": "code",
   "execution_count": 45,
   "id": "7c42d959-55c7-4824-a175-220d44a080f0",
   "metadata": {},
   "outputs": [
    {
     "data": {
      "text/plain": [
       "(torch.Size([2, 4]),\n",
       " tensor([[0.2194, 0.2194, 0.2194, 0.2194],\n",
       "         [0.2597, 0.2597, 0.2597, 0.2597]], grad_fn=<AddBackward0>))"
      ]
     },
     "execution_count": 45,
     "metadata": {},
     "output_type": "execute_result"
    }
   ],
   "source": [
    "h_t = h_cand_imp + h_prev_imp\n",
    "h_t.size(), h_t"
   ]
  },
  {
   "cell_type": "markdown",
   "id": "8acb7435-32af-4f5b-86ff-331dd30dd44a",
   "metadata": {},
   "source": [
    "**GRU second pass - Stashing Example Output**"
   ]
  },
  {
   "cell_type": "code",
   "execution_count": 46,
   "id": "9e1ca4af-982f-4f07-8bd7-18acbbc168cb",
   "metadata": {},
   "outputs": [
    {
     "data": {
      "text/plain": [
       "tensor([[[0.0955, 0.0955, 0.0955, 0.0955],\n",
       "         [0.2194, 0.2194, 0.2194, 0.2194],\n",
       "         [0.0000, 0.0000, 0.0000, 0.0000],\n",
       "         [0.0000, 0.0000, 0.0000, 0.0000],\n",
       "         [0.0000, 0.0000, 0.0000, 0.0000],\n",
       "         [0.0000, 0.0000, 0.0000, 0.0000],\n",
       "         [0.0000, 0.0000, 0.0000, 0.0000],\n",
       "         [0.0000, 0.0000, 0.0000, 0.0000]],\n",
       "\n",
       "        [[0.1479, 0.1479, 0.1479, 0.1479],\n",
       "         [0.2597, 0.2597, 0.2597, 0.2597],\n",
       "         [0.0000, 0.0000, 0.0000, 0.0000],\n",
       "         [0.0000, 0.0000, 0.0000, 0.0000],\n",
       "         [0.0000, 0.0000, 0.0000, 0.0000],\n",
       "         [0.0000, 0.0000, 0.0000, 0.0000],\n",
       "         [0.0000, 0.0000, 0.0000, 0.0000],\n",
       "         [0.0000, 0.0000, 0.0000, 0.0000]]], grad_fn=<CopySlices>)"
      ]
     },
     "execution_count": 46,
     "metadata": {},
     "output_type": "execute_result"
    }
   ],
   "source": [
    "hs[:, 1, :] = h_t   \n",
    "hs"
   ]
  },
  {
   "cell_type": "markdown",
   "id": "f771609b-dfb8-4a0c-a9ff-ff3aec2e619e",
   "metadata": {},
   "source": [
    "#### GRU - Recursion \n",
    "Now that we've seen how 2 passes through the GRU look like, let's write a loop to do the remaining passes.  The loop in this case will start at `t=2` and run the rest of the context length.  We'll capture the predicted weights into `hs` so that we'll have each example's weights and the link back for the backward pass during back propagation. "
   ]
  },
  {
   "cell_type": "code",
   "execution_count": 47,
   "id": "4c0be513-11d4-4856-94cd-665d63b3d8c6",
   "metadata": {},
   "outputs": [
    {
     "data": {
      "text/plain": [
       "tensor([[[0.0955, 0.0955, 0.0955, 0.0955],\n",
       "         [0.2194, 0.2194, 0.2194, 0.2194],\n",
       "         [0.2807, 0.2807, 0.2807, 0.2807],\n",
       "         [0.3981, 0.3981, 0.3981, 0.3981],\n",
       "         [0.4620, 0.4620, 0.4620, 0.4620],\n",
       "         [0.5159, 0.5159, 0.5159, 0.5159],\n",
       "         [0.5622, 0.5622, 0.5622, 0.5622],\n",
       "         [0.5872, 0.5872, 0.5872, 0.5872]],\n",
       "\n",
       "        [[0.1479, 0.1479, 0.1479, 0.1479],\n",
       "         [0.2597, 0.2597, 0.2597, 0.2597],\n",
       "         [0.3157, 0.3157, 0.3157, 0.3157],\n",
       "         [0.3649, 0.3649, 0.3649, 0.3649],\n",
       "         [0.4085, 0.4085, 0.4085, 0.4085],\n",
       "         [0.4475, 0.4475, 0.4475, 0.4475],\n",
       "         [0.5036, 0.5036, 0.5036, 0.5036],\n",
       "         [0.5336, 0.5336, 0.5336, 0.5336]]], grad_fn=<CopySlices>)"
      ]
     },
     "execution_count": 47,
     "metadata": {},
     "output_type": "execute_result"
    }
   ],
   "source": [
    "for t in range(2,T_context):\n",
    "    \n",
    "    # set input and previous\n",
    "    h_prev = h_t\n",
    "    x_t = x[:, t, :]\n",
    "\n",
    "    # calculate weights\n",
    "    hz, hr, hh = h2g(h_prev).split(hidden_size, dim=-1)\n",
    "    xz, xr, xh = x2g(x_t).split(hidden_size, dim=-1)\n",
    "\n",
    "    # update gate\n",
    "    z = torch.sigmoid(xz + hz)\n",
    "\n",
    "    # reset gate\n",
    "    r = torch.sigmoid(xr + hr)\n",
    "\n",
    "    # candidate hidden state\n",
    "    h_cand = torch.tanh(xh + (r * hh))\n",
    "\n",
    "    # recursion output\n",
    "    h_cand_imp = (1 - z) * h_cand\n",
    "    h_prev_imp = z * h_prev\n",
    "    h_t = h_cand_imp + h_prev_imp\n",
    "\n",
    "    # save h_t\n",
    "    hs[:, t, :] = h_t   \n",
    "\n",
    "hs"
   ]
  },
  {
   "cell_type": "markdown",
   "id": "d583b860-2977-49cb-8945-9c60eeb3d479",
   "metadata": {},
   "source": [
    "Combine out recurring inputs into the 2 different batches"
   ]
  },
  {
   "cell_type": "markdown",
   "id": "1b4c77db-2d10-454f-b512-92ac5b024e61",
   "metadata": {},
   "source": [
    "### Final Dropout \n",
    "\n",
    "After completing our recurrent unit, we'll perform another round of dropout. Dropout after the GRU regularizes the layer output / readout without corrupting the recurrent dynamics; injecting fresh noise inside the recurrence each step tends to destabilize long-range memory.  Often this step has “locked” dropout, meaning a single mask broadcast across time, which gives the same effect as per-step dropout with a fixed mask but avoids i.i.d. noise at every timestep.  We, however, will be doing default dropout that is not locked to simplify our code. \n",
    "\n",
    "As a reminder, we perform Bernoulli based dropout which both removes entries and adds p to the surviving entries. "
   ]
  },
  {
   "cell_type": "code",
   "execution_count": 48,
   "id": "14428ec8-69e9-4605-a6fa-eb1012337be4",
   "metadata": {},
   "outputs": [
    {
     "data": {
      "text/plain": [
       "(torch.Size([2, 8, 4]),\n",
       " tensor([[[0.1061, 0.1061, 0.1061, 0.0000],\n",
       "          [0.2438, 0.2438, 0.2438, 0.2438],\n",
       "          [0.3118, 0.3118, 0.3118, 0.3118],\n",
       "          [0.4424, 0.4424, 0.4424, 0.0000],\n",
       "          [0.5133, 0.0000, 0.5133, 0.5133],\n",
       "          [0.5733, 0.5733, 0.5733, 0.5733],\n",
       "          [0.6246, 0.6246, 0.6246, 0.6246],\n",
       "          [0.0000, 0.6524, 0.6524, 0.6524]],\n",
       " \n",
       "         [[0.1644, 0.1644, 0.0000, 0.1644],\n",
       "          [0.2886, 0.2886, 0.2886, 0.2886],\n",
       "          [0.0000, 0.3508, 0.3508, 0.3508],\n",
       "          [0.4054, 0.4054, 0.4054, 0.4054],\n",
       "          [0.4539, 0.0000, 0.0000, 0.4539],\n",
       "          [0.4972, 0.4972, 0.4972, 0.4972],\n",
       "          [0.5596, 0.5596, 0.5596, 0.5596],\n",
       "          [0.5929, 0.5929, 0.0000, 0.5929]]], grad_fn=<MulBackward0>))"
      ]
     },
     "execution_count": 48,
     "metadata": {},
     "output_type": "execute_result"
    }
   ],
   "source": [
    "x = dropout(hs)\n",
    "x.size(), x"
   ]
  },
  {
   "cell_type": "markdown",
   "id": "bc1de516-4387-4cd9-b3b4-93c9938ff46e",
   "metadata": {},
   "source": [
    "### Output Layers AKA Model Head."
   ]
  },
  {
   "cell_type": "markdown",
   "id": "22593c65-be72-436f-9e1c-8620c22c04ab",
   "metadata": {},
   "source": [
    "The GRU unit is our recurrent unit for this example. In practice, this unit can be scaled by increasing the hidden_size dimension or increasing the complexity and flavors of the recurring unit. Once those layers are complete and we've done dropout normalization, during the forward pass we then start the output process that results in `logits` which is a representation of the probability of each token being the next token given the input.  \n",
    "\n",
    "This layer is also known as the model **head**. This layer is called this because it is a small, task-specific module attached to a model’s shared backbone that maps hidden features to the final outputs.  In our example case, this is a linear layer mapping the backbone to vocab logits. The benefit of this structure is that you can use the shared hidden features and train different heads for different tasks without starting from scratch. An example would be a classifier head, or policy head in RL.\n",
    "\n",
    "<img src=\"explainer_screenshots/gru/output_layer.png\" width=\"200\">\n",
    "\n",
    "We'll use a similar head that we've used in other examples that focuses on predicting the next token. For our head we want to map to a predicted token which we'll look at as `logits`. In the process to generate `logits` we take the dropout output `x` of the GRU, then project, using a linear layer, to the vocabulary resulting in a `B, T, vocab_size` matrix known as `logits`.  \n",
    "\n",
    "In training, the `logits` are then compared with `y` to see how close the  model is to predicting the correct next token. For inference, the `logits` are then used to drive sampling which is how the next token is then derived. \n",
    "\n",
    "Contrary to our transformer example, we won't be doing weight tying and instead use an initial linear layer.  We'll start initially by setting all of the values equal to 1 meaning they all have equal probability.  This will highlight just how impactful back-propagation and training is.  "
   ]
  },
  {
   "cell_type": "code",
   "execution_count": 49,
   "id": "27e76d90-e130-4e4f-a221-18ee7461876e",
   "metadata": {},
   "outputs": [
    {
     "data": {
      "text/plain": [
       "(torch.Size([36, 4]),\n",
       " Parameter containing:\n",
       " tensor([[1., 1., 1., 1.],\n",
       "         [1., 1., 1., 1.],\n",
       "         [1., 1., 1., 1.],\n",
       "         [1., 1., 1., 1.],\n",
       "         [1., 1., 1., 1.],\n",
       "         [1., 1., 1., 1.],\n",
       "         [1., 1., 1., 1.],\n",
       "         [1., 1., 1., 1.],\n",
       "         [1., 1., 1., 1.],\n",
       "         [1., 1., 1., 1.],\n",
       "         [1., 1., 1., 1.],\n",
       "         [1., 1., 1., 1.],\n",
       "         [1., 1., 1., 1.],\n",
       "         [1., 1., 1., 1.],\n",
       "         [1., 1., 1., 1.],\n",
       "         [1., 1., 1., 1.],\n",
       "         [1., 1., 1., 1.],\n",
       "         [1., 1., 1., 1.],\n",
       "         [1., 1., 1., 1.],\n",
       "         [1., 1., 1., 1.],\n",
       "         [1., 1., 1., 1.],\n",
       "         [1., 1., 1., 1.],\n",
       "         [1., 1., 1., 1.],\n",
       "         [1., 1., 1., 1.],\n",
       "         [1., 1., 1., 1.],\n",
       "         [1., 1., 1., 1.],\n",
       "         [1., 1., 1., 1.],\n",
       "         [1., 1., 1., 1.],\n",
       "         [1., 1., 1., 1.],\n",
       "         [1., 1., 1., 1.],\n",
       "         [1., 1., 1., 1.],\n",
       "         [1., 1., 1., 1.],\n",
       "         [1., 1., 1., 1.],\n",
       "         [1., 1., 1., 1.],\n",
       "         [1., 1., 1., 1.],\n",
       "         [1., 1., 1., 1.]], requires_grad=True))"
      ]
     },
     "execution_count": 49,
     "metadata": {},
     "output_type": "execute_result"
    }
   ],
   "source": [
    "lm_head = nn.Linear(hidden_size, vocab_size, bias=False)\n",
    "torch.nn.init.ones_(lm_head.weight)\n",
    "lm_head.weight.size(), lm_head.weight"
   ]
  },
  {
   "cell_type": "markdown",
   "id": "ee8202a0-64d2-4b94-8ab2-5a69e0602c40",
   "metadata": {},
   "source": [
    "#### Output layer - LM Head aka logits\n",
    "We now project `x` onto the vocabulary resulting in a `B X T X vocab_size` final array `logits`.  This output correlates with the probability of each output token given the input context.  The best way to read  this is:\n",
    "\n",
    "(dimension 0) we have 2 batches B, \n",
    "(dimension 1) each batch has an example for each value between 1 and context length T \n",
    "(dimension 2) for each example we see the probability of each token in our vocabulary\n",
    "\n",
    "Since our output head had consistent weights across all the dimensions, we fully expect that our logits will have equal values across all positions.  In practice this means that our model will have the same probability of a token output as the 'next token' regardless of the preceding text, meaning it's shit. Luckily back-propagation has a way of updating this so that with enough data and time the probabilities change. \n",
    "\n",
    "Note that if we wanted to run inference, after calculating the logits we'd run a softmax to sample a token out of the probability distribution. "
   ]
  },
  {
   "cell_type": "code",
   "execution_count": 50,
   "id": "19b23a27-073d-499e-a5d3-5d1cc5d42f6b",
   "metadata": {},
   "outputs": [
    {
     "data": {
      "text/plain": [
       "(torch.Size([2, 8, 36]),\n",
       " tensor([[[0.3183, 0.3183, 0.3183, 0.3183, 0.3183, 0.3183, 0.3183, 0.3183,\n",
       "           0.3183, 0.3183, 0.3183, 0.3183, 0.3183, 0.3183, 0.3183, 0.3183,\n",
       "           0.3183, 0.3183, 0.3183, 0.3183, 0.3183, 0.3183, 0.3183, 0.3183,\n",
       "           0.3183, 0.3183, 0.3183, 0.3183, 0.3183, 0.3183, 0.3183, 0.3183,\n",
       "           0.3183, 0.3183, 0.3183, 0.3183],\n",
       "          [0.9751, 0.9751, 0.9751, 0.9751, 0.9751, 0.9751, 0.9751, 0.9751,\n",
       "           0.9751, 0.9751, 0.9751, 0.9751, 0.9751, 0.9751, 0.9751, 0.9751,\n",
       "           0.9751, 0.9751, 0.9751, 0.9751, 0.9751, 0.9751, 0.9751, 0.9751,\n",
       "           0.9751, 0.9751, 0.9751, 0.9751, 0.9751, 0.9751, 0.9751, 0.9751,\n",
       "           0.9751, 0.9751, 0.9751, 0.9751],\n",
       "          [1.2473, 1.2473, 1.2473, 1.2473, 1.2473, 1.2473, 1.2473, 1.2473,\n",
       "           1.2473, 1.2473, 1.2473, 1.2473, 1.2473, 1.2473, 1.2473, 1.2473,\n",
       "           1.2473, 1.2473, 1.2473, 1.2473, 1.2473, 1.2473, 1.2473, 1.2473,\n",
       "           1.2473, 1.2473, 1.2473, 1.2473, 1.2473, 1.2473, 1.2473, 1.2473,\n",
       "           1.2473, 1.2473, 1.2473, 1.2473],\n",
       "          [1.3271, 1.3271, 1.3271, 1.3271, 1.3271, 1.3271, 1.3271, 1.3271,\n",
       "           1.3271, 1.3271, 1.3271, 1.3271, 1.3271, 1.3271, 1.3271, 1.3271,\n",
       "           1.3271, 1.3271, 1.3271, 1.3271, 1.3271, 1.3271, 1.3271, 1.3271,\n",
       "           1.3271, 1.3271, 1.3271, 1.3271, 1.3271, 1.3271, 1.3271, 1.3271,\n",
       "           1.3271, 1.3271, 1.3271, 1.3271],\n",
       "          [1.5400, 1.5400, 1.5400, 1.5400, 1.5400, 1.5400, 1.5400, 1.5400,\n",
       "           1.5400, 1.5400, 1.5400, 1.5400, 1.5400, 1.5400, 1.5400, 1.5400,\n",
       "           1.5400, 1.5400, 1.5400, 1.5400, 1.5400, 1.5400, 1.5400, 1.5400,\n",
       "           1.5400, 1.5400, 1.5400, 1.5400, 1.5400, 1.5400, 1.5400, 1.5400,\n",
       "           1.5400, 1.5400, 1.5400, 1.5400],\n",
       "          [2.2931, 2.2931, 2.2931, 2.2931, 2.2931, 2.2931, 2.2931, 2.2931,\n",
       "           2.2931, 2.2931, 2.2931, 2.2931, 2.2931, 2.2931, 2.2931, 2.2931,\n",
       "           2.2931, 2.2931, 2.2931, 2.2931, 2.2931, 2.2931, 2.2931, 2.2931,\n",
       "           2.2931, 2.2931, 2.2931, 2.2931, 2.2931, 2.2931, 2.2931, 2.2931,\n",
       "           2.2931, 2.2931, 2.2931, 2.2931],\n",
       "          [2.4985, 2.4985, 2.4985, 2.4985, 2.4985, 2.4985, 2.4985, 2.4985,\n",
       "           2.4985, 2.4985, 2.4985, 2.4985, 2.4985, 2.4985, 2.4985, 2.4985,\n",
       "           2.4985, 2.4985, 2.4985, 2.4985, 2.4985, 2.4985, 2.4985, 2.4985,\n",
       "           2.4985, 2.4985, 2.4985, 2.4985, 2.4985, 2.4985, 2.4985, 2.4985,\n",
       "           2.4985, 2.4985, 2.4985, 2.4985],\n",
       "          [1.9572, 1.9572, 1.9572, 1.9572, 1.9572, 1.9572, 1.9572, 1.9572,\n",
       "           1.9572, 1.9572, 1.9572, 1.9572, 1.9572, 1.9572, 1.9572, 1.9572,\n",
       "           1.9572, 1.9572, 1.9572, 1.9572, 1.9572, 1.9572, 1.9572, 1.9572,\n",
       "           1.9572, 1.9572, 1.9572, 1.9572, 1.9572, 1.9572, 1.9572, 1.9572,\n",
       "           1.9572, 1.9572, 1.9572, 1.9572]],\n",
       " \n",
       "         [[0.4931, 0.4931, 0.4931, 0.4931, 0.4931, 0.4931, 0.4931, 0.4931,\n",
       "           0.4931, 0.4931, 0.4931, 0.4931, 0.4931, 0.4931, 0.4931, 0.4931,\n",
       "           0.4931, 0.4931, 0.4931, 0.4931, 0.4931, 0.4931, 0.4931, 0.4931,\n",
       "           0.4931, 0.4931, 0.4931, 0.4931, 0.4931, 0.4931, 0.4931, 0.4931,\n",
       "           0.4931, 0.4931, 0.4931, 0.4931],\n",
       "          [1.1544, 1.1544, 1.1544, 1.1544, 1.1544, 1.1544, 1.1544, 1.1544,\n",
       "           1.1544, 1.1544, 1.1544, 1.1544, 1.1544, 1.1544, 1.1544, 1.1544,\n",
       "           1.1544, 1.1544, 1.1544, 1.1544, 1.1544, 1.1544, 1.1544, 1.1544,\n",
       "           1.1544, 1.1544, 1.1544, 1.1544, 1.1544, 1.1544, 1.1544, 1.1544,\n",
       "           1.1544, 1.1544, 1.1544, 1.1544],\n",
       "          [1.0524, 1.0524, 1.0524, 1.0524, 1.0524, 1.0524, 1.0524, 1.0524,\n",
       "           1.0524, 1.0524, 1.0524, 1.0524, 1.0524, 1.0524, 1.0524, 1.0524,\n",
       "           1.0524, 1.0524, 1.0524, 1.0524, 1.0524, 1.0524, 1.0524, 1.0524,\n",
       "           1.0524, 1.0524, 1.0524, 1.0524, 1.0524, 1.0524, 1.0524, 1.0524,\n",
       "           1.0524, 1.0524, 1.0524, 1.0524],\n",
       "          [1.6217, 1.6217, 1.6217, 1.6217, 1.6217, 1.6217, 1.6217, 1.6217,\n",
       "           1.6217, 1.6217, 1.6217, 1.6217, 1.6217, 1.6217, 1.6217, 1.6217,\n",
       "           1.6217, 1.6217, 1.6217, 1.6217, 1.6217, 1.6217, 1.6217, 1.6217,\n",
       "           1.6217, 1.6217, 1.6217, 1.6217, 1.6217, 1.6217, 1.6217, 1.6217,\n",
       "           1.6217, 1.6217, 1.6217, 1.6217],\n",
       "          [0.9078, 0.9078, 0.9078, 0.9078, 0.9078, 0.9078, 0.9078, 0.9078,\n",
       "           0.9078, 0.9078, 0.9078, 0.9078, 0.9078, 0.9078, 0.9078, 0.9078,\n",
       "           0.9078, 0.9078, 0.9078, 0.9078, 0.9078, 0.9078, 0.9078, 0.9078,\n",
       "           0.9078, 0.9078, 0.9078, 0.9078, 0.9078, 0.9078, 0.9078, 0.9078,\n",
       "           0.9078, 0.9078, 0.9078, 0.9078],\n",
       "          [1.9889, 1.9889, 1.9889, 1.9889, 1.9889, 1.9889, 1.9889, 1.9889,\n",
       "           1.9889, 1.9889, 1.9889, 1.9889, 1.9889, 1.9889, 1.9889, 1.9889,\n",
       "           1.9889, 1.9889, 1.9889, 1.9889, 1.9889, 1.9889, 1.9889, 1.9889,\n",
       "           1.9889, 1.9889, 1.9889, 1.9889, 1.9889, 1.9889, 1.9889, 1.9889,\n",
       "           1.9889, 1.9889, 1.9889, 1.9889],\n",
       "          [2.2383, 2.2383, 2.2383, 2.2383, 2.2383, 2.2383, 2.2383, 2.2383,\n",
       "           2.2383, 2.2383, 2.2383, 2.2383, 2.2383, 2.2383, 2.2383, 2.2383,\n",
       "           2.2383, 2.2383, 2.2383, 2.2383, 2.2383, 2.2383, 2.2383, 2.2383,\n",
       "           2.2383, 2.2383, 2.2383, 2.2383, 2.2383, 2.2383, 2.2383, 2.2383,\n",
       "           2.2383, 2.2383, 2.2383, 2.2383],\n",
       "          [1.7786, 1.7786, 1.7786, 1.7786, 1.7786, 1.7786, 1.7786, 1.7786,\n",
       "           1.7786, 1.7786, 1.7786, 1.7786, 1.7786, 1.7786, 1.7786, 1.7786,\n",
       "           1.7786, 1.7786, 1.7786, 1.7786, 1.7786, 1.7786, 1.7786, 1.7786,\n",
       "           1.7786, 1.7786, 1.7786, 1.7786, 1.7786, 1.7786, 1.7786, 1.7786,\n",
       "           1.7786, 1.7786, 1.7786, 1.7786]]], grad_fn=<UnsafeViewBackward0>))"
      ]
     },
     "execution_count": 50,
     "metadata": {},
     "output_type": "execute_result"
    }
   ],
   "source": [
    "logits = lm_head(x)\n",
    "\n",
    "logits.shape, logits"
   ]
  },
  {
   "cell_type": "markdown",
   "id": "7a1e4018-31cc-426d-b96e-36d99c133316",
   "metadata": {},
   "source": [
    "## Loss calculation"
   ]
  },
  {
   "cell_type": "markdown",
   "id": "5a1c01b9-d09b-4708-bd9e-3aceeeb9cb18",
   "metadata": {},
   "source": [
    "Now we have to see how good our ~shit~ prediction is.  Since we haven't done training, and we saw that regardless of example we had the same exact logit values, we can expect it's bad. That said, we need to know how bad. For this example we'll use cross entropy, also known as the negative log likelihood of the softmax.  Our loss calculates\n",
    "\n",
    "$$\n",
    "\\ell_i=-\\log\\big(\\mathrm{softmax}(z_i)\\_{y_i}\\big)\n",
    "= -z_{i,y_i}+\\log\\!\\sum_{c=1}^C e^{z_{i,c}},\n",
    "$$\n",
    "\n",
    "\n",
    "To calculate loss we'll pass in the calculated `logits` and our next tokens stored in `y`. The cross entropy function does not respect batches so we'll flatten the `B` dimension for both `logits` and `y`"
   ]
  },
  {
   "cell_type": "code",
   "execution_count": 51,
   "id": "8423d81b-3ceb-44a0-b8dd-7b7ffe5cb977",
   "metadata": {},
   "outputs": [],
   "source": [
    "import torch.nn.functional as F"
   ]
  },
  {
   "cell_type": "code",
   "execution_count": 52,
   "id": "3dce85cc-5c7e-47bf-8f0e-e23b7f6aa337",
   "metadata": {},
   "outputs": [
    {
     "data": {
      "text/plain": [
       "(torch.Size([16]),\n",
       " tensor([15, 32,  9,  5, 20, 30, 15, 11,  9,  6, 20,  5,  0, 13, 21,  0]))"
      ]
     },
     "execution_count": 52,
     "metadata": {},
     "output_type": "execute_result"
    }
   ],
   "source": [
    "y_flat = y.view(-1)\n",
    "y_flat.shape, y_flat"
   ]
  },
  {
   "cell_type": "code",
   "execution_count": 53,
   "id": "03a2daf1-b8cb-4660-9b46-c60d6c95ce58",
   "metadata": {},
   "outputs": [
    {
     "data": {
      "text/plain": [
       "(torch.Size([16, 36]),\n",
       " tensor([[0.3183, 0.3183, 0.3183, 0.3183, 0.3183, 0.3183, 0.3183, 0.3183, 0.3183,\n",
       "          0.3183, 0.3183, 0.3183, 0.3183, 0.3183, 0.3183, 0.3183, 0.3183, 0.3183,\n",
       "          0.3183, 0.3183, 0.3183, 0.3183, 0.3183, 0.3183, 0.3183, 0.3183, 0.3183,\n",
       "          0.3183, 0.3183, 0.3183, 0.3183, 0.3183, 0.3183, 0.3183, 0.3183, 0.3183],\n",
       "         [0.9751, 0.9751, 0.9751, 0.9751, 0.9751, 0.9751, 0.9751, 0.9751, 0.9751,\n",
       "          0.9751, 0.9751, 0.9751, 0.9751, 0.9751, 0.9751, 0.9751, 0.9751, 0.9751,\n",
       "          0.9751, 0.9751, 0.9751, 0.9751, 0.9751, 0.9751, 0.9751, 0.9751, 0.9751,\n",
       "          0.9751, 0.9751, 0.9751, 0.9751, 0.9751, 0.9751, 0.9751, 0.9751, 0.9751],\n",
       "         [1.2473, 1.2473, 1.2473, 1.2473, 1.2473, 1.2473, 1.2473, 1.2473, 1.2473,\n",
       "          1.2473, 1.2473, 1.2473, 1.2473, 1.2473, 1.2473, 1.2473, 1.2473, 1.2473,\n",
       "          1.2473, 1.2473, 1.2473, 1.2473, 1.2473, 1.2473, 1.2473, 1.2473, 1.2473,\n",
       "          1.2473, 1.2473, 1.2473, 1.2473, 1.2473, 1.2473, 1.2473, 1.2473, 1.2473],\n",
       "         [1.3271, 1.3271, 1.3271, 1.3271, 1.3271, 1.3271, 1.3271, 1.3271, 1.3271,\n",
       "          1.3271, 1.3271, 1.3271, 1.3271, 1.3271, 1.3271, 1.3271, 1.3271, 1.3271,\n",
       "          1.3271, 1.3271, 1.3271, 1.3271, 1.3271, 1.3271, 1.3271, 1.3271, 1.3271,\n",
       "          1.3271, 1.3271, 1.3271, 1.3271, 1.3271, 1.3271, 1.3271, 1.3271, 1.3271],\n",
       "         [1.5400, 1.5400, 1.5400, 1.5400, 1.5400, 1.5400, 1.5400, 1.5400, 1.5400,\n",
       "          1.5400, 1.5400, 1.5400, 1.5400, 1.5400, 1.5400, 1.5400, 1.5400, 1.5400,\n",
       "          1.5400, 1.5400, 1.5400, 1.5400, 1.5400, 1.5400, 1.5400, 1.5400, 1.5400,\n",
       "          1.5400, 1.5400, 1.5400, 1.5400, 1.5400, 1.5400, 1.5400, 1.5400, 1.5400],\n",
       "         [2.2931, 2.2931, 2.2931, 2.2931, 2.2931, 2.2931, 2.2931, 2.2931, 2.2931,\n",
       "          2.2931, 2.2931, 2.2931, 2.2931, 2.2931, 2.2931, 2.2931, 2.2931, 2.2931,\n",
       "          2.2931, 2.2931, 2.2931, 2.2931, 2.2931, 2.2931, 2.2931, 2.2931, 2.2931,\n",
       "          2.2931, 2.2931, 2.2931, 2.2931, 2.2931, 2.2931, 2.2931, 2.2931, 2.2931],\n",
       "         [2.4985, 2.4985, 2.4985, 2.4985, 2.4985, 2.4985, 2.4985, 2.4985, 2.4985,\n",
       "          2.4985, 2.4985, 2.4985, 2.4985, 2.4985, 2.4985, 2.4985, 2.4985, 2.4985,\n",
       "          2.4985, 2.4985, 2.4985, 2.4985, 2.4985, 2.4985, 2.4985, 2.4985, 2.4985,\n",
       "          2.4985, 2.4985, 2.4985, 2.4985, 2.4985, 2.4985, 2.4985, 2.4985, 2.4985],\n",
       "         [1.9572, 1.9572, 1.9572, 1.9572, 1.9572, 1.9572, 1.9572, 1.9572, 1.9572,\n",
       "          1.9572, 1.9572, 1.9572, 1.9572, 1.9572, 1.9572, 1.9572, 1.9572, 1.9572,\n",
       "          1.9572, 1.9572, 1.9572, 1.9572, 1.9572, 1.9572, 1.9572, 1.9572, 1.9572,\n",
       "          1.9572, 1.9572, 1.9572, 1.9572, 1.9572, 1.9572, 1.9572, 1.9572, 1.9572],\n",
       "         [0.4931, 0.4931, 0.4931, 0.4931, 0.4931, 0.4931, 0.4931, 0.4931, 0.4931,\n",
       "          0.4931, 0.4931, 0.4931, 0.4931, 0.4931, 0.4931, 0.4931, 0.4931, 0.4931,\n",
       "          0.4931, 0.4931, 0.4931, 0.4931, 0.4931, 0.4931, 0.4931, 0.4931, 0.4931,\n",
       "          0.4931, 0.4931, 0.4931, 0.4931, 0.4931, 0.4931, 0.4931, 0.4931, 0.4931],\n",
       "         [1.1544, 1.1544, 1.1544, 1.1544, 1.1544, 1.1544, 1.1544, 1.1544, 1.1544,\n",
       "          1.1544, 1.1544, 1.1544, 1.1544, 1.1544, 1.1544, 1.1544, 1.1544, 1.1544,\n",
       "          1.1544, 1.1544, 1.1544, 1.1544, 1.1544, 1.1544, 1.1544, 1.1544, 1.1544,\n",
       "          1.1544, 1.1544, 1.1544, 1.1544, 1.1544, 1.1544, 1.1544, 1.1544, 1.1544],\n",
       "         [1.0524, 1.0524, 1.0524, 1.0524, 1.0524, 1.0524, 1.0524, 1.0524, 1.0524,\n",
       "          1.0524, 1.0524, 1.0524, 1.0524, 1.0524, 1.0524, 1.0524, 1.0524, 1.0524,\n",
       "          1.0524, 1.0524, 1.0524, 1.0524, 1.0524, 1.0524, 1.0524, 1.0524, 1.0524,\n",
       "          1.0524, 1.0524, 1.0524, 1.0524, 1.0524, 1.0524, 1.0524, 1.0524, 1.0524],\n",
       "         [1.6217, 1.6217, 1.6217, 1.6217, 1.6217, 1.6217, 1.6217, 1.6217, 1.6217,\n",
       "          1.6217, 1.6217, 1.6217, 1.6217, 1.6217, 1.6217, 1.6217, 1.6217, 1.6217,\n",
       "          1.6217, 1.6217, 1.6217, 1.6217, 1.6217, 1.6217, 1.6217, 1.6217, 1.6217,\n",
       "          1.6217, 1.6217, 1.6217, 1.6217, 1.6217, 1.6217, 1.6217, 1.6217, 1.6217],\n",
       "         [0.9078, 0.9078, 0.9078, 0.9078, 0.9078, 0.9078, 0.9078, 0.9078, 0.9078,\n",
       "          0.9078, 0.9078, 0.9078, 0.9078, 0.9078, 0.9078, 0.9078, 0.9078, 0.9078,\n",
       "          0.9078, 0.9078, 0.9078, 0.9078, 0.9078, 0.9078, 0.9078, 0.9078, 0.9078,\n",
       "          0.9078, 0.9078, 0.9078, 0.9078, 0.9078, 0.9078, 0.9078, 0.9078, 0.9078],\n",
       "         [1.9889, 1.9889, 1.9889, 1.9889, 1.9889, 1.9889, 1.9889, 1.9889, 1.9889,\n",
       "          1.9889, 1.9889, 1.9889, 1.9889, 1.9889, 1.9889, 1.9889, 1.9889, 1.9889,\n",
       "          1.9889, 1.9889, 1.9889, 1.9889, 1.9889, 1.9889, 1.9889, 1.9889, 1.9889,\n",
       "          1.9889, 1.9889, 1.9889, 1.9889, 1.9889, 1.9889, 1.9889, 1.9889, 1.9889],\n",
       "         [2.2383, 2.2383, 2.2383, 2.2383, 2.2383, 2.2383, 2.2383, 2.2383, 2.2383,\n",
       "          2.2383, 2.2383, 2.2383, 2.2383, 2.2383, 2.2383, 2.2383, 2.2383, 2.2383,\n",
       "          2.2383, 2.2383, 2.2383, 2.2383, 2.2383, 2.2383, 2.2383, 2.2383, 2.2383,\n",
       "          2.2383, 2.2383, 2.2383, 2.2383, 2.2383, 2.2383, 2.2383, 2.2383, 2.2383],\n",
       "         [1.7786, 1.7786, 1.7786, 1.7786, 1.7786, 1.7786, 1.7786, 1.7786, 1.7786,\n",
       "          1.7786, 1.7786, 1.7786, 1.7786, 1.7786, 1.7786, 1.7786, 1.7786, 1.7786,\n",
       "          1.7786, 1.7786, 1.7786, 1.7786, 1.7786, 1.7786, 1.7786, 1.7786, 1.7786,\n",
       "          1.7786, 1.7786, 1.7786, 1.7786, 1.7786, 1.7786, 1.7786, 1.7786, 1.7786]],\n",
       "        grad_fn=<ViewBackward0>))"
      ]
     },
     "execution_count": 53,
     "metadata": {},
     "output_type": "execute_result"
    }
   ],
   "source": [
    "logits_flat = logits.view(-1, logits.size(-1))\n",
    "logits_flat.shape, logits_flat"
   ]
  },
  {
   "cell_type": "code",
   "execution_count": 54,
   "id": "4b287d1b-c82f-4f51-bb49-7a542ddd3287",
   "metadata": {},
   "outputs": [
    {
     "data": {
      "text/plain": [
       "(torch.Size([]), tensor(3.5835, grad_fn=<NllLossBackward0>))"
      ]
     },
     "execution_count": 54,
     "metadata": {},
     "output_type": "execute_result"
    }
   ],
   "source": [
    "loss = F.cross_entropy(logits_flat, y_flat)\n",
    "loss.shape, loss"
   ]
  },
  {
   "cell_type": "markdown",
   "id": "57f6a03a-4fae-47bf-8b2f-f4e0ca2fdee8",
   "metadata": {},
   "source": [
    "## Back Propagation"
   ]
  },
  {
   "cell_type": "markdown",
   "id": "d587d633-a3ed-49e3-a90a-9c505b079665",
   "metadata": {},
   "source": [
    "We now know just how ~well~ terribly the current model, with its weights and biases, predicts the next token given the input context. We now need to know how to change the different weights and biases to improve the formula.  We could do this by guessing through making minor changes and seeing what improves, or we can think through this more critically.\n",
    "\n",
    "If you review the chain of layers above, you can see that it's a series of formulas.  We can think of this as $f(g(x))$, except with many many more layers and complexities.  Since this is a formula, we can dig into our math toolbox and find a better way to determine what parts need to update.  Recall that in our calculus we learned that differentiation tells us the rate of change in a graph.  So if we treat the loss function $\\mathcal{L}$ as $\\mathcal{L}(f(g(x)))$ taking the partial differential \n",
    "\n",
    "$\\delta=\\partial \\mathcal{L}/\\partial h$\n",
    "\n",
    "at each layer will give us the impact of each weight/bias on our final out (albeit the inverse since our loss function is the negative log likelihood). \n",
    "\n",
    "Lucky for us, each layer of our model already has a placeholder for the partial differential called the **Gradient**. We'll use this field to store it.  We'll start by first zeroing out the gradients. We do this because of the nature of handling partial differentials for multiple dependencies. Recall that in multiple places we had a formula structure of \n",
    "\n",
    "$a+b=c ; a+c= d$\n",
    "\n",
    "In this case $a$ has 2 dependencies and determining the partial derivative of $\\partial d / \\partial a$ requires understanding both the path from $d$ and $c$.  To determine the true impact of a we would sum both partial derivatives together.  Because of this property, the tool we use, the built in `.backwards()` automatically sums gradients, `+=`, so if we do not set the gradient to `0` we then end up with erroneous gradients. \n",
    "\n",
    "Finally, we start `.backwards` from the `loss`, not `logits` as our goal is to minimize loss, we need to ensure we are looking at the calculations that impact loss which requires the whole forward pass to be able to generate the prediction `logits_flat`.  If we think of it as $\\mathcal{L}(f(x))$ where $f(x)$ is the forward pass to generate logits, then a simple chain rule is applied:\n",
    "\n",
    "${\\partial}/{\\partial x} =  \\mathcal{L}'(f(x)) f'(x)$\n",
    "\n",
    "Lets start by zeroing the gradients and leaning on pytorch to calculate the gradients for us. We'll also validate the gradients were `none`."
   ]
  },
  {
   "cell_type": "code",
   "execution_count": 55,
   "id": "0455dc7a-fab4-4844-bf37-2ac311226907",
   "metadata": {},
   "outputs": [
    {
     "data": {
      "text/plain": [
       "(None, None)"
      ]
     },
     "execution_count": 55,
     "metadata": {},
     "output_type": "execute_result"
    }
   ],
   "source": [
    "lm_head.zero_grad()\n",
    "h2g.zero_grad()\n",
    "x2g.zero_grad()\n",
    "wte.zero_grad()\n",
    "\n",
    "\n",
    "# validate gradients\n",
    "lm_head.weight.grad, wte.weight.grad"
   ]
  },
  {
   "cell_type": "markdown",
   "id": "52f54a83-a344-4692-9c3d-ab4978df8cb9",
   "metadata": {},
   "source": [
    "**Auto-Diff** - Now let's see the magic of the gradients populate.  This magic is called auto-differentiation, or auto-diff for short. This allows us to not have to write many layers of nasty code to do the differentiation for us, but, if you're a sadist, you can surely find people who have written out that code (it's not too bad since you just do one layer at a time). "
   ]
  },
  {
   "cell_type": "code",
   "execution_count": 56,
   "id": "c0b7acd2-55bc-4fe6-9c41-1ddc0ee05eec",
   "metadata": {},
   "outputs": [],
   "source": [
    "loss.backward()"
   ]
  },
  {
   "cell_type": "code",
   "execution_count": 57,
   "id": "119fa3fb-0e8c-4db3-9df8-4a1b361279d1",
   "metadata": {},
   "outputs": [
    {
     "data": {
      "text/plain": [
       "(tensor([[-0.0554, -0.0270,  0.0097, -0.0546],\n",
       "         [ 0.0100,  0.0101,  0.0097,  0.0108],\n",
       "         [ 0.0100,  0.0101,  0.0097,  0.0108],\n",
       "         [ 0.0100,  0.0101,  0.0097,  0.0108],\n",
       "         [ 0.0100,  0.0101,  0.0097,  0.0108],\n",
       "         [-0.0430, -0.0429, -0.0433, -0.0145],\n",
       "         [-0.0080, -0.0079, -0.0084, -0.0072],\n",
       "         [ 0.0100,  0.0101,  0.0097,  0.0108],\n",
       "         [ 0.0100,  0.0101,  0.0097,  0.0108],\n",
       "         [-0.0197, -0.0197, -0.0098, -0.0189],\n",
       "         [ 0.0100,  0.0101,  0.0097,  0.0108],\n",
       "         [ 0.0100, -0.0307, -0.0311, -0.0300],\n",
       "         [ 0.0100,  0.0101,  0.0097,  0.0108],\n",
       "         [-0.0210, -0.0210, -0.0214, -0.0203],\n",
       "         [ 0.0100,  0.0101,  0.0097,  0.0108],\n",
       "         [-0.0356, -0.0356, -0.0360, -0.0282],\n",
       "         [ 0.0100,  0.0101,  0.0097,  0.0108],\n",
       "         [ 0.0100,  0.0101,  0.0097,  0.0108],\n",
       "         [ 0.0100,  0.0101,  0.0097,  0.0108],\n",
       "         [ 0.0100,  0.0101,  0.0097,  0.0108],\n",
       "         [-0.0221, -0.0118, -0.0443, -0.0432],\n",
       "         [-0.0249, -0.0249, -0.0253, -0.0242],\n",
       "         [ 0.0100,  0.0101,  0.0097,  0.0108],\n",
       "         [ 0.0100,  0.0101,  0.0097,  0.0108],\n",
       "         [ 0.0100,  0.0101,  0.0097,  0.0108],\n",
       "         [ 0.0100,  0.0101,  0.0097,  0.0108],\n",
       "         [ 0.0100,  0.0101,  0.0097,  0.0108],\n",
       "         [ 0.0100,  0.0101,  0.0097,  0.0108],\n",
       "         [ 0.0100,  0.0101,  0.0097,  0.0108],\n",
       "         [ 0.0100,  0.0101,  0.0097,  0.0108],\n",
       "         [-0.0258, -0.0257, -0.0262, -0.0250],\n",
       "         [ 0.0100,  0.0101,  0.0097,  0.0108],\n",
       "         [-0.0052, -0.0051, -0.0056, -0.0044],\n",
       "         [ 0.0100,  0.0101,  0.0097,  0.0108],\n",
       "         [ 0.0100,  0.0101,  0.0097,  0.0108],\n",
       "         [ 0.0100,  0.0101,  0.0097,  0.0108]]),\n",
       " tensor([[-2.5071e-09, -2.5071e-09, -2.5071e-09, -2.5071e-09],\n",
       "         [ 0.0000e+00,  0.0000e+00,  0.0000e+00,  0.0000e+00],\n",
       "         [ 0.0000e+00,  0.0000e+00,  0.0000e+00,  0.0000e+00],\n",
       "         [ 0.0000e+00,  0.0000e+00,  0.0000e+00,  0.0000e+00],\n",
       "         [ 0.0000e+00,  0.0000e+00,  0.0000e+00,  0.0000e+00],\n",
       "         [-7.1513e-09, -7.1513e-09, -3.4910e-09, -7.1513e-09],\n",
       "         [-6.1496e-09, -6.1496e-09, -6.1496e-09, -6.1496e-09],\n",
       "         [ 0.0000e+00,  0.0000e+00,  0.0000e+00,  0.0000e+00],\n",
       "         [ 0.0000e+00,  0.0000e+00,  0.0000e+00,  0.0000e+00],\n",
       "         [-1.1442e-08, -1.1442e-08, -4.1143e-09, -1.5556e-08],\n",
       "         [ 0.0000e+00,  0.0000e+00,  0.0000e+00,  0.0000e+00],\n",
       "         [-1.3795e-08, -1.3795e-08, -1.3795e-08,  0.0000e+00],\n",
       "         [ 0.0000e+00,  0.0000e+00,  0.0000e+00,  0.0000e+00],\n",
       "         [-2.4806e-09, -2.4806e-09,  0.0000e+00, -2.4806e-09],\n",
       "         [ 0.0000e+00,  0.0000e+00,  0.0000e+00,  0.0000e+00],\n",
       "         [-1.1742e-08, -3.8935e-10, -1.1742e-08, -1.1742e-08],\n",
       "         [ 0.0000e+00,  0.0000e+00,  0.0000e+00,  0.0000e+00],\n",
       "         [ 0.0000e+00,  0.0000e+00,  0.0000e+00,  0.0000e+00],\n",
       "         [ 0.0000e+00,  0.0000e+00,  0.0000e+00,  0.0000e+00],\n",
       "         [ 0.0000e+00,  0.0000e+00,  0.0000e+00,  0.0000e+00],\n",
       "         [-8.1178e-09, -5.2974e-09, -8.1178e-09, -8.1178e-09],\n",
       "         [-1.0232e-09, -1.0232e-09, -1.0232e-09, -1.0232e-09],\n",
       "         [ 0.0000e+00,  0.0000e+00,  0.0000e+00,  0.0000e+00],\n",
       "         [ 0.0000e+00,  0.0000e+00,  0.0000e+00,  0.0000e+00],\n",
       "         [ 0.0000e+00,  0.0000e+00,  0.0000e+00,  0.0000e+00],\n",
       "         [ 0.0000e+00,  0.0000e+00,  0.0000e+00,  0.0000e+00],\n",
       "         [ 0.0000e+00,  0.0000e+00,  0.0000e+00,  0.0000e+00],\n",
       "         [ 0.0000e+00,  0.0000e+00,  0.0000e+00,  0.0000e+00],\n",
       "         [ 0.0000e+00,  0.0000e+00,  0.0000e+00,  0.0000e+00],\n",
       "         [ 0.0000e+00,  0.0000e+00,  0.0000e+00,  0.0000e+00],\n",
       "         [-1.3877e-09, -1.3877e-09, -1.3877e-09,  0.0000e+00],\n",
       "         [ 0.0000e+00,  0.0000e+00,  0.0000e+00,  0.0000e+00],\n",
       "         [-5.5154e-09, -5.5154e-09, -5.5154e-09, -5.5154e-09],\n",
       "         [ 0.0000e+00,  0.0000e+00,  0.0000e+00,  0.0000e+00],\n",
       "         [ 0.0000e+00,  0.0000e+00,  0.0000e+00,  0.0000e+00],\n",
       "         [-9.3662e-09, -9.3662e-09, -9.3662e-09, -9.3662e-09]]))"
      ]
     },
     "execution_count": 57,
     "metadata": {},
     "output_type": "execute_result"
    }
   ],
   "source": [
    "lm_head.weight.grad, wte.weight.grad"
   ]
  },
  {
   "cell_type": "markdown",
   "id": "c8e2a22f-5ca1-475f-8a34-708d6a914c24",
   "metadata": {},
   "source": [
    "## Learning"
   ]
  },
  {
   "cell_type": "markdown",
   "id": "c8564d2f-34d0-4526-80b7-69337e2a7549",
   "metadata": {},
   "source": [
    "The process of learning now requires us to update our weights based on this gradient. To really feel the \"back propagation\" we'll start with the last layer and work backwards, though, since we have all of the gradients calculated already, the order does not matter. Recall that our loss function is the negative log likelihood ratio so our gradient signs are flipped.  If a parameter is important, the gradient will be more negative, and vice versa. The gradients are a ratio of importance of each parameter and we need to know how much of that gradient to apply to our weights. This \"how much\" is referred to as the *learning rate*. In modern training learning rate schedulers and optimizers are used to vary the rate and application by layer and by training round with learning rates that are small (e.g. 1e-3) and decaying. \n",
    "\n",
    "We however are trying to learn and if you look at the gradient above in most layers it's tiny (~1e-10).  If we used a typical learning rate scheduler, with our context, batch size, and just 1 pass, the second pass would just have the same values and we wouldn't learn anything new.  Because of this we'll do something super unorthodox.  Our LM_head will use a learning rate of `5.000` but for the rest of the layers we'll use a learning rate of `1e6`. This INSANE learning rate would absolutely be too noisy for real training as taking that \"large\" of steps would mean the model could never find a good fit.  But since we're doing 1 step we don't care. Also, we're rerunning on the same example we used in the first loop so even less of a care. But as a warning, DO NOT DO THIS IN REAL TRAINING. If you did your model would most likely not converge. "
   ]
  },
  {
   "cell_type": "code",
   "execution_count": 58,
   "id": "a2b11f32-0c10-480d-9690-402132913444",
   "metadata": {},
   "outputs": [],
   "source": [
    "## Huge learning rate to emphasize\n",
    "head_learning_rate = 5.000\n",
    "learning_rate = 1e6"
   ]
  },
  {
   "cell_type": "markdown",
   "id": "b5f5dd95-3b51-4cb6-8814-65ef9f8b6929",
   "metadata": {},
   "source": [
    "### Output Layer\n",
    "Let's start with our output layer.  Recall that we initialized the weights to `1.000` so we can quickly see the impact of the gradient update on the weights. Most notable that we'll see is that the entries corresponding with the token that are present in `y`, our target, are up weighted and others are downweighted. This should already intuitively give you a sense as to \n",
    "1. The model will be improved\n",
    "2. This is WAY too high of a learning rate if we wanted to generalize.\n",
    "\n",
    "Additionally you'll notice that the gradient is differs across the `n_embd` dimensions. This shows that even though we have done only a single pass, because we have multiple examples our model is already learning deeper structures. Finally, since this is the output layer, we did not include any bias "
   ]
  },
  {
   "cell_type": "code",
   "execution_count": 59,
   "id": "f5c59984-6d36-4e78-b7fc-cf4623294915",
   "metadata": {},
   "outputs": [
    {
     "data": {
      "text/plain": [
       "Parameter containing:\n",
       "tensor([[1.2770, 1.1348, 0.9517, 1.2730],\n",
       "        [0.9498, 0.9495, 0.9517, 0.9459],\n",
       "        [0.9498, 0.9495, 0.9517, 0.9459],\n",
       "        [0.9498, 0.9495, 0.9517, 0.9459],\n",
       "        [0.9498, 0.9495, 0.9517, 0.9459],\n",
       "        [1.2148, 1.2145, 1.2166, 1.0726],\n",
       "        [1.0400, 1.0397, 1.0418, 1.0361],\n",
       "        [0.9498, 0.9495, 0.9517, 0.9459],\n",
       "        [0.9498, 0.9495, 0.9517, 0.9459],\n",
       "        [1.0987, 1.0983, 1.0491, 1.0947],\n",
       "        [0.9498, 0.9495, 0.9517, 0.9459],\n",
       "        [0.9498, 1.1534, 1.1555, 1.1498],\n",
       "        [0.9498, 0.9495, 0.9517, 0.9459],\n",
       "        [1.1052, 1.1049, 1.1070, 1.1013],\n",
       "        [0.9498, 0.9495, 0.9517, 0.9459],\n",
       "        [1.1782, 1.1779, 1.1800, 1.1411],\n",
       "        [0.9498, 0.9495, 0.9517, 0.9459],\n",
       "        [0.9498, 0.9495, 0.9517, 0.9459],\n",
       "        [0.9498, 0.9495, 0.9517, 0.9459],\n",
       "        [0.9498, 0.9495, 0.9517, 0.9459],\n",
       "        [1.1103, 1.0592, 1.2217, 1.2159],\n",
       "        [1.1247, 1.1244, 1.1265, 1.1208],\n",
       "        [0.9498, 0.9495, 0.9517, 0.9459],\n",
       "        [0.9498, 0.9495, 0.9517, 0.9459],\n",
       "        [0.9498, 0.9495, 0.9517, 0.9459],\n",
       "        [0.9498, 0.9495, 0.9517, 0.9459],\n",
       "        [0.9498, 0.9495, 0.9517, 0.9459],\n",
       "        [0.9498, 0.9495, 0.9517, 0.9459],\n",
       "        [0.9498, 0.9495, 0.9517, 0.9459],\n",
       "        [0.9498, 0.9495, 0.9517, 0.9459],\n",
       "        [1.1290, 1.1287, 1.1308, 1.1250],\n",
       "        [0.9498, 0.9495, 0.9517, 0.9459],\n",
       "        [1.0260, 1.0257, 1.0278, 1.0221],\n",
       "        [0.9498, 0.9495, 0.9517, 0.9459],\n",
       "        [0.9498, 0.9495, 0.9517, 0.9459],\n",
       "        [0.9498, 0.9495, 0.9517, 0.9459]], requires_grad=True)"
      ]
     },
     "execution_count": 59,
     "metadata": {},
     "output_type": "execute_result"
    }
   ],
   "source": [
    "with torch.no_grad():\n",
    "    lm_head.weight -= head_learning_rate * lm_head.weight.grad\n",
    "lm_head.weight"
   ]
  },
  {
   "cell_type": "markdown",
   "id": "85732c86-fc96-4015-bc28-bb06fa808403",
   "metadata": {},
   "source": [
    "### Recurrent Unit - GRU\n",
    "Next we'll update our two linear layers inside of the GRU.  Recall that we initiated h2g to weights `0.2500`, x2g weights to `0.5000` and the biases to.  Our gradients on this layer are extremely small (~1e-9). We can see that the gradients are both positive and negative suggesting the model is starting to learn patterns in the position of text that impact the next token prediction.  Also we can see that `x2g` has consistent gradients across all embedding positions, but `h2g` does not, showing that `x2g` is starting to learn more complex embedding relationships. Together, this is starting to show how the different embedding layers can impact the recursion. \n",
    "\n",
    "With these layers you can see the beauty of our insanely high learning rate.  Even though our gradient impact was tiny, we can see the weight shift away from the initialization suggesting some level of adaptation. "
   ]
  },
  {
   "cell_type": "code",
   "execution_count": 60,
   "id": "44461eb7-82b4-4383-afab-ef1c18203289",
   "metadata": {},
   "outputs": [
    {
     "data": {
      "text/plain": [
       "(Parameter containing:\n",
       " tensor([[0.2590, 0.2590, 0.2590, 0.2590],\n",
       "         [0.2585, 0.2585, 0.2585, 0.2585],\n",
       "         [0.2571, 0.2571, 0.2571, 0.2571],\n",
       "         [0.2595, 0.2595, 0.2595, 0.2595],\n",
       "         [0.2500, 0.2500, 0.2500, 0.2500],\n",
       "         [0.2500, 0.2500, 0.2500, 0.2500],\n",
       "         [0.2500, 0.2500, 0.2500, 0.2500],\n",
       "         [0.2500, 0.2500, 0.2500, 0.2500],\n",
       "         [0.2489, 0.2489, 0.2489, 0.2489],\n",
       "         [0.2489, 0.2489, 0.2489, 0.2489],\n",
       "         [0.2489, 0.2489, 0.2489, 0.2489],\n",
       "         [0.2489, 0.2489, 0.2489, 0.2489]], requires_grad=True),\n",
       " Parameter containing:\n",
       " tensor([ 0.0484,  0.0446,  0.0384,  0.0484, -0.0002, -0.0002, -0.0002, -0.0001,\n",
       "         -0.0059, -0.0056, -0.0052, -0.0057], requires_grad=True))"
      ]
     },
     "execution_count": 60,
     "metadata": {},
     "output_type": "execute_result"
    }
   ],
   "source": [
    "with torch.no_grad():\n",
    "    h2g.weight -= learning_rate * h2g.weight.grad\n",
    "    h2g.bias -= learning_rate * h2g.bias.grad\n",
    "h2g.weight, h2g.bias"
   ]
  },
  {
   "cell_type": "code",
   "execution_count": 61,
   "id": "24badddf-11c7-4c52-a31b-d7ef1912c812",
   "metadata": {},
   "outputs": [
    {
     "data": {
      "text/plain": [
       "(Parameter containing:\n",
       " tensor([[0.5492, 0.5410, 0.5428, 0.5439],\n",
       "         [0.5452, 0.5368, 0.5397, 0.5403],\n",
       "         [0.5373, 0.5280, 0.5348, 0.5370],\n",
       "         [0.5504, 0.5427, 0.5412, 0.5422],\n",
       "         [0.4999, 0.4999, 0.4999, 0.4998],\n",
       "         [0.4999, 0.4999, 0.4999, 0.4998],\n",
       "         [0.4999, 0.5000, 0.4998, 0.4998],\n",
       "         [0.4999, 0.4999, 0.4999, 0.4998],\n",
       "         [0.4946, 0.4958, 0.4938, 0.4939],\n",
       "         [0.4949, 0.4962, 0.4941, 0.4942],\n",
       "         [0.4958, 0.4972, 0.4942, 0.4940],\n",
       "         [0.4943, 0.4954, 0.4944, 0.4944]], requires_grad=True),\n",
       " Parameter containing:\n",
       " tensor([ 0.0484,  0.0446,  0.0384,  0.0484, -0.0002, -0.0002, -0.0002, -0.0001,\n",
       "         -0.0070, -0.0066, -0.0062, -0.0067], requires_grad=True))"
      ]
     },
     "execution_count": 61,
     "metadata": {},
     "output_type": "execute_result"
    }
   ],
   "source": [
    "with torch.no_grad():\n",
    "    x2g.weight -= learning_rate * x2g.weight.grad\n",
    "    x2g.bias -= learning_rate * x2g.bias.grad\n",
    "x2g.weight, x2g.bias"
   ]
  },
  {
   "cell_type": "markdown",
   "id": "36aab00b-4505-4d2c-b42e-1a60d8e22c65",
   "metadata": {},
   "source": [
    "### Input Layer\n",
    "Finally we'll update our input layer. Recall that we initialized it to `1.000`. Given our high learning rate, a keen eye can observe an interesting phenomenon, gradient updates only impacted the tokens that were used in our example. This differs from our other layers because our embedding layer projects the example into the embedding space only uses vectors for tokens present so those are the only ones that the gradient can trace back to, versus on other layers because of dot products and other operations there's impact across the whole tensor. \n",
    "\n",
    "Also notice that the gradient is different for the embedding channel, once again suggesting that our model is starting to learn deeper patterns in the data. "
   ]
  },
  {
   "cell_type": "code",
   "execution_count": 62,
   "id": "97f58304-61da-46de-862d-b7e807e61d24",
   "metadata": {},
   "outputs": [
    {
     "data": {
      "text/plain": [
       "Parameter containing:\n",
       "tensor([[1.0025, 1.0025, 1.0025, 1.0025],\n",
       "        [1.0000, 1.0000, 1.0000, 1.0000],\n",
       "        [1.0000, 1.0000, 1.0000, 1.0000],\n",
       "        [1.0000, 1.0000, 1.0000, 1.0000],\n",
       "        [1.0000, 1.0000, 1.0000, 1.0000],\n",
       "        [1.0072, 1.0072, 1.0035, 1.0072],\n",
       "        [1.0061, 1.0061, 1.0061, 1.0061],\n",
       "        [1.0000, 1.0000, 1.0000, 1.0000],\n",
       "        [1.0000, 1.0000, 1.0000, 1.0000],\n",
       "        [1.0114, 1.0114, 1.0041, 1.0156],\n",
       "        [1.0000, 1.0000, 1.0000, 1.0000],\n",
       "        [1.0138, 1.0138, 1.0138, 1.0000],\n",
       "        [1.0000, 1.0000, 1.0000, 1.0000],\n",
       "        [1.0025, 1.0025, 1.0000, 1.0025],\n",
       "        [1.0000, 1.0000, 1.0000, 1.0000],\n",
       "        [1.0117, 1.0004, 1.0117, 1.0117],\n",
       "        [1.0000, 1.0000, 1.0000, 1.0000],\n",
       "        [1.0000, 1.0000, 1.0000, 1.0000],\n",
       "        [1.0000, 1.0000, 1.0000, 1.0000],\n",
       "        [1.0000, 1.0000, 1.0000, 1.0000],\n",
       "        [1.0081, 1.0053, 1.0081, 1.0081],\n",
       "        [1.0010, 1.0010, 1.0010, 1.0010],\n",
       "        [1.0000, 1.0000, 1.0000, 1.0000],\n",
       "        [1.0000, 1.0000, 1.0000, 1.0000],\n",
       "        [1.0000, 1.0000, 1.0000, 1.0000],\n",
       "        [1.0000, 1.0000, 1.0000, 1.0000],\n",
       "        [1.0000, 1.0000, 1.0000, 1.0000],\n",
       "        [1.0000, 1.0000, 1.0000, 1.0000],\n",
       "        [1.0000, 1.0000, 1.0000, 1.0000],\n",
       "        [1.0000, 1.0000, 1.0000, 1.0000],\n",
       "        [1.0014, 1.0014, 1.0014, 1.0000],\n",
       "        [1.0000, 1.0000, 1.0000, 1.0000],\n",
       "        [1.0055, 1.0055, 1.0055, 1.0055],\n",
       "        [1.0000, 1.0000, 1.0000, 1.0000],\n",
       "        [1.0000, 1.0000, 1.0000, 1.0000],\n",
       "        [1.0094, 1.0094, 1.0094, 1.0094]], requires_grad=True)"
      ]
     },
     "execution_count": 62,
     "metadata": {},
     "output_type": "execute_result"
    }
   ],
   "source": [
    "with torch.no_grad():\n",
    "    wte.weight -= learning_rate * wte.weight.grad\n",
    "wte.weight"
   ]
  },
  {
   "cell_type": "markdown",
   "id": "5d0ff10f-f64f-4801-b9ea-c40e15816684",
   "metadata": {},
   "source": [
    "## Forward Pass with Updated Weights"
   ]
  },
  {
   "cell_type": "markdown",
   "id": "5439278f-49d8-47e1-9355-440621636775",
   "metadata": {},
   "source": [
    "Now that we have the updated weights for each layer, let's do another forward pass and compare the loss. Since each layer was previously explained we will instead focus on just showing the outputs of the different layers and the final loss. If you want, you can check the previous outputs in the cached cell outputs above and compare them to see how the weight changes impacted the values at each layer. \n",
    "\n",
    "You'll notice that because our high learning rate we're able to see how each layer now shifts the embedding values as the input passes through them. "
   ]
  },
  {
   "cell_type": "markdown",
   "id": "1450600e-11b1-413c-95d6-51418cc6d445",
   "metadata": {},
   "source": [
    "### Data Re-loading\n",
    "Repulling to a new `x_2`. We'll keep `y` to emphasize the same examples are being used. "
   ]
  },
  {
   "cell_type": "code",
   "execution_count": 63,
   "id": "00925f19-c83a-4549-b4ca-94f92ad301f4",
   "metadata": {},
   "outputs": [
    {
     "data": {
      "text/plain": [
       "(tensor([[35, 15, 32,  9,  5, 20, 30, 15],\n",
       "         [11,  9,  6, 20,  5,  0, 13, 21]]),\n",
       " tensor([[15, 32,  9,  5, 20, 30, 15, 11],\n",
       "         [ 9,  6, 20,  5,  0, 13, 21,  0]]))"
      ]
     },
     "execution_count": 63,
     "metadata": {},
     "output_type": "execute_result"
    }
   ],
   "source": [
    "x_2 = tok_for_training[:-1].view(B, T)\n",
    "x_2, y"
   ]
  },
  {
   "cell_type": "markdown",
   "id": "027c68d0-cf29-431d-85d2-0d0276e55c70",
   "metadata": {},
   "source": [
    "### Input Layer\n",
    "Note that in `wte` since the gradient impact was only on the embeddings that mapped to our tokens. Lucky for us, we're passing the same example through so we'll pull those same weights.\n",
    "\n",
    "With RNNs, because of the recursion layers, we would need long training and long context to see changes in our input layer initiation. Alternatively, a common step to help improve the input embedding is to do weight-tying between the input and output layers. This ensures that the input and output layers embed in the same space and helps with learning stabilization, but weight tying goes in and out of flavor often.  Because of this we'll cover weight-tying in the GPT notebook I write. "
   ]
  },
  {
   "cell_type": "code",
   "execution_count": 64,
   "id": "ff392189-88e9-46a8-9ce1-b1aacad80e83",
   "metadata": {},
   "outputs": [
    {
     "data": {
      "text/plain": [
       "(torch.Size([2, 8, 4]),\n",
       " tensor([[[1.0094, 1.0094, 1.0094, 1.0094],\n",
       "          [1.0117, 1.0004, 1.0117, 1.0117],\n",
       "          [1.0055, 1.0055, 1.0055, 1.0055],\n",
       "          [1.0114, 1.0114, 1.0041, 1.0156],\n",
       "          [1.0072, 1.0072, 1.0035, 1.0072],\n",
       "          [1.0081, 1.0053, 1.0081, 1.0081],\n",
       "          [1.0014, 1.0014, 1.0014, 1.0000],\n",
       "          [1.0117, 1.0004, 1.0117, 1.0117]],\n",
       " \n",
       "         [[1.0138, 1.0138, 1.0138, 1.0000],\n",
       "          [1.0114, 1.0114, 1.0041, 1.0156],\n",
       "          [1.0061, 1.0061, 1.0061, 1.0061],\n",
       "          [1.0081, 1.0053, 1.0081, 1.0081],\n",
       "          [1.0072, 1.0072, 1.0035, 1.0072],\n",
       "          [1.0025, 1.0025, 1.0025, 1.0025],\n",
       "          [1.0025, 1.0025, 1.0000, 1.0025],\n",
       "          [1.0010, 1.0010, 1.0010, 1.0010]]], grad_fn=<EmbeddingBackward0>))"
      ]
     },
     "execution_count": 64,
     "metadata": {},
     "output_type": "execute_result"
    }
   ],
   "source": [
    "x = wte(x_2)\n",
    "x.shape, x "
   ]
  },
  {
   "cell_type": "markdown",
   "id": "522598e4-600b-49ac-aca8-5ce33a9f8c8e",
   "metadata": {},
   "source": [
    "### Dropout \n",
    "Once again we'll perform dropout. Dropout is a stateless layer, meaning it does not have any learnable parameters, so we have a consistent, though still random, outcome. "
   ]
  },
  {
   "cell_type": "code",
   "execution_count": 65,
   "id": "9f0c0ab4-a8da-4b22-ba93-92070f03527a",
   "metadata": {},
   "outputs": [
    {
     "data": {
      "text/plain": [
       "tensor([[[1.1215, 1.1215, 1.1215, 0.0000],\n",
       "         [1.1242, 1.1115, 1.1242, 0.0000],\n",
       "         [1.1172, 1.1172, 1.1172, 1.1172],\n",
       "         [1.1238, 1.1238, 1.1157, 1.1284],\n",
       "         [1.1191, 1.1191, 1.1150, 1.1191],\n",
       "         [1.1201, 0.0000, 1.1201, 0.0000],\n",
       "         [0.0000, 1.1127, 1.1127, 1.1111],\n",
       "         [1.1242, 1.1115, 1.1242, 1.1242]],\n",
       "\n",
       "        [[0.0000, 1.1264, 1.1264, 1.1111],\n",
       "         [1.1238, 1.1238, 1.1157, 1.1284],\n",
       "         [1.1179, 1.1179, 1.1179, 1.1179],\n",
       "         [1.1201, 1.1170, 1.1201, 1.1201],\n",
       "         [1.1191, 1.1191, 1.1150, 1.1191],\n",
       "         [1.1139, 1.1139, 1.1139, 1.1139],\n",
       "         [1.1139, 1.1139, 1.1111, 1.1139],\n",
       "         [1.1122, 1.1122, 1.1122, 1.1122]]], grad_fn=<MulBackward0>)"
      ]
     },
     "execution_count": 65,
     "metadata": {},
     "output_type": "execute_result"
    }
   ],
   "source": [
    "x = dropout(x)\n",
    "x"
   ]
  },
  {
   "cell_type": "markdown",
   "id": "b9a5ddc4-503d-4a8c-8635-2a6b26d4750e",
   "metadata": {},
   "source": [
    "### Recurrent Unit - GRU"
   ]
  },
  {
   "cell_type": "markdown",
   "id": "d4e6d785-4282-431d-829b-e3ade8326816",
   "metadata": {},
   "source": [
    "This time through we'll run the recurrent layer for all time periods and not break out a specific time period.  We still have to reset our hidden layer to `0` since our training batch reset. Given the high learning rate we will now see how different weights and biases impact our convolution. "
   ]
  },
  {
   "cell_type": "code",
   "execution_count": 66,
   "id": "3a88d1ae-b4e8-46e0-9538-f94589005472",
   "metadata": {},
   "outputs": [],
   "source": [
    "h_t = torch.zeros(B_batch, hidden_size) \n",
    "hs = x.new_empty(B_batch, T_context, hidden_size)"
   ]
  },
  {
   "cell_type": "code",
   "execution_count": 67,
   "id": "f8ce97ab-1e58-4c12-b558-f9c216b341e1",
   "metadata": {},
   "outputs": [
    {
     "data": {
      "text/plain": [
       "tensor([[[0.1179, 0.1201, 0.1240, 0.1178],\n",
       "         [0.2119, 0.2155, 0.2222, 0.2117],\n",
       "         [0.2582, 0.2627, 0.2708, 0.2580],\n",
       "         [0.2993, 0.3045, 0.3139, 0.2991],\n",
       "         [0.3370, 0.3429, 0.3532, 0.3368],\n",
       "         [0.4226, 0.4287, 0.4395, 0.4224],\n",
       "         [0.4698, 0.4763, 0.4876, 0.4697],\n",
       "         [0.4937, 0.5005, 0.5123, 0.4937]],\n",
       "\n",
       "        [[0.1186, 0.1207, 0.1241, 0.1188],\n",
       "         [0.1746, 0.1779, 0.1833, 0.1748],\n",
       "         [0.2248, 0.2290, 0.2361, 0.2250],\n",
       "         [0.2695, 0.2746, 0.2830, 0.2698],\n",
       "         [0.3100, 0.3157, 0.3253, 0.3102],\n",
       "         [0.3470, 0.3533, 0.3639, 0.3472],\n",
       "         [0.3809, 0.3876, 0.3990, 0.3811],\n",
       "         [0.4119, 0.4191, 0.4311, 0.4121]]], grad_fn=<CopySlices>)"
      ]
     },
     "execution_count": 67,
     "metadata": {},
     "output_type": "execute_result"
    }
   ],
   "source": [
    "for t in range(T_context):\n",
    "    \n",
    "    # set input and previous\n",
    "    h_prev = h_t\n",
    "    x_t = x[:, t, :]\n",
    "\n",
    "    # calculate weights\n",
    "    hz, hr, hh = h2g(h_prev).split(hidden_size, dim=-1)\n",
    "    xz, xr, xh = x2g(x_t).split(hidden_size, dim=-1)\n",
    "\n",
    "    # update gate\n",
    "    z = torch.sigmoid(xz + hz)\n",
    "\n",
    "    # reset gate\n",
    "    r = torch.sigmoid(xr + hr)\n",
    "\n",
    "    # candidate hidden state\n",
    "    h_cand = torch.tanh(xh + (r * hh))\n",
    "\n",
    "    # recursion output\n",
    "    h_cand_imp = (1 - z) * h_cand\n",
    "    h_prev_imp = z * h_prev\n",
    "    h_t = h_cand_imp + h_prev_imp\n",
    "\n",
    "    # save h_t\n",
    "    hs[:, t, :] = h_t   \n",
    "\n",
    "hs"
   ]
  },
  {
   "cell_type": "markdown",
   "id": "8612c53d-c55b-4940-852d-79498d489245",
   "metadata": {},
   "source": [
    "### Final Dropout\n",
    "As with before, we'll run dropout again before running the model head.  This stateless layer will again perform similar to the last time we ran it, just with random dropout. "
   ]
  },
  {
   "cell_type": "code",
   "execution_count": 68,
   "id": "8f4b0ebe-0dab-458c-bba1-0d0617a9b294",
   "metadata": {},
   "outputs": [
    {
     "data": {
      "text/plain": [
       "tensor([[[1.2461, 1.2461, 1.2461, 0.0000],\n",
       "         [1.2491, 1.2350, 1.2491, 0.0000],\n",
       "         [1.2414, 0.0000, 1.2414, 1.2414],\n",
       "         [1.2487, 1.2487, 1.2396, 1.2538],\n",
       "         [1.2434, 1.2434, 1.2389, 0.0000],\n",
       "         [1.2446, 0.0000, 1.2446, 0.0000],\n",
       "         [0.0000, 1.2363, 1.2363, 1.2346],\n",
       "         [1.2491, 1.2350, 1.2491, 1.2491]],\n",
       "\n",
       "        [[0.0000, 1.2516, 1.2516, 0.0000],\n",
       "         [1.2487, 1.2487, 1.2396, 1.2538],\n",
       "         [1.2422, 1.2422, 1.2422, 1.2422],\n",
       "         [1.2446, 1.2411, 1.2446, 1.2446],\n",
       "         [1.2434, 1.2434, 1.2389, 1.2434],\n",
       "         [1.2377, 1.2377, 0.0000, 1.2377],\n",
       "         [1.2376, 1.2376, 1.2346, 1.2376],\n",
       "         [1.2358, 1.2358, 1.2358, 1.2358]]], grad_fn=<MulBackward0>)"
      ]
     },
     "execution_count": 68,
     "metadata": {},
     "output_type": "execute_result"
    }
   ],
   "source": [
    "x = dropout(x)\n",
    "x"
   ]
  },
  {
   "cell_type": "markdown",
   "id": "b2f1e47d-27d3-4039-8ea1-208d5fc30f29",
   "metadata": {},
   "source": [
    "### Output Layers AKA Model Head.\n",
    "Now we do our final projection against the LM head. We have seen our Y and, if we select some examples, we can see that the logit for the  examples are upweighted (e.g. position 15 on example 1, position 32 on example 2). We can also see that this training is not perfect since, if we look at those positions in other examples (e.g. position 32 in example 1) it's also upweighted.  This shows that while our model is learning, it still has a long way to go before being trained. "
   ]
  },
  {
   "cell_type": "code",
   "execution_count": 69,
   "id": "5c2c2354-3b5c-4490-ac42-fd8474355857",
   "metadata": {},
   "outputs": [
    {
     "data": {
      "text/plain": [
       "(torch.Size([2, 8, 36]),\n",
       " tensor([[[4.1913, 3.5528, 3.5528, 3.5528, 3.5528, 4.5432, 3.8899, 3.5528,\n",
       "           3.5528, 4.0451, 3.5528, 4.0609, 3.5528, 4.1337, 3.5528, 4.4065,\n",
       "           3.5528, 3.5528, 3.5528, 3.5528, 4.2258, 4.2065, 3.5528, 3.5528,\n",
       "           3.5528, 3.5528, 3.5528, 3.5528, 3.5528, 3.5528, 4.2225, 3.5528,\n",
       "           3.8376, 3.5528, 3.5528, 3.5528],\n",
       "          [4.1852, 3.5478, 3.5478, 3.5478, 3.5478, 4.5369, 3.8845, 3.5478,\n",
       "           3.5478, 4.0392, 3.5478, 4.0543, 3.5478, 4.1279, 3.5478, 4.4003,\n",
       "           3.5478, 3.5478, 3.5478, 3.5478, 4.2209, 4.2006, 3.5478, 3.5478,\n",
       "           3.5478, 3.5478, 3.5478, 3.5478, 3.5478, 3.5478, 4.2166, 3.5478,\n",
       "           3.8322, 3.5478, 3.5478, 3.5478],\n",
       "          [4.3468, 3.5347, 3.5347, 3.5347, 3.5347, 4.3498, 3.8706, 3.5347,\n",
       "           3.5347, 4.0251, 3.5347, 4.0409, 3.5347, 4.1134, 3.5347, 4.3440,\n",
       "           3.5347, 3.5347, 3.5347, 3.5347, 4.4043, 4.1859, 3.5347, 3.5347,\n",
       "           3.5347, 3.5347, 3.5347, 3.5347, 3.5347, 3.5347, 4.2019, 3.5347,\n",
       "           3.8184, 3.5347, 3.5347, 3.5347],\n",
       "          [5.7873, 4.7374, 4.7374, 4.7374, 4.7374, 5.8864, 5.1875, 4.7374,\n",
       "           4.7374, 5.4164, 4.7374, 5.5003, 4.7374, 5.5129, 4.7374, 5.8355,\n",
       "           4.7374, 4.7374, 4.7374, 4.7374, 5.7479, 5.6102, 4.7374, 4.7374,\n",
       "           4.7374, 4.7374, 4.7374, 4.7374, 4.7374, 4.7374, 5.6315, 4.7374,\n",
       "           5.1176, 4.7374, 4.7374, 4.7374],\n",
       "          [4.1778, 3.5407, 3.5407, 3.5407, 3.5407, 4.5278, 3.8767, 3.5407,\n",
       "           3.5407, 4.0315, 3.5407, 4.0468, 3.5407, 4.1196, 3.5407, 4.3915,\n",
       "           3.5407, 3.5407, 3.5407, 3.5407, 4.2110, 4.1922, 3.5407, 3.5407,\n",
       "           3.5407, 3.5407, 3.5407, 3.5407, 3.5407, 3.5407, 4.2081, 3.5407,\n",
       "           3.8245, 3.5407, 3.5407, 3.5407],\n",
       "          [2.7737, 2.3666, 2.3666, 2.3666, 2.3666, 3.0261, 2.5911, 2.3666,\n",
       "           2.3666, 2.6731, 2.3666, 2.6203, 2.3666, 2.7534, 2.3666, 2.9350,\n",
       "           2.3666, 2.3666, 2.3666, 2.3666, 2.9023, 2.8019, 2.3666, 2.3666,\n",
       "           2.3666, 2.3666, 2.3666, 2.3666, 2.3666, 2.3666, 2.8125, 2.3666,\n",
       "           2.5562, 2.3666, 2.3666, 2.3666],\n",
       "          [4.1511, 3.5182, 3.5182, 3.5182, 3.5182, 4.3297, 3.8525, 3.5182,\n",
       "           3.5182, 4.0064, 3.5182, 4.2740, 3.5182, 4.0942, 3.5182, 4.3238,\n",
       "           3.5182, 3.5182, 3.5182, 3.5182, 4.3210, 4.1665, 3.5182, 3.5182,\n",
       "           3.5182, 3.5182, 3.5182, 3.5182, 3.5182, 3.5182, 4.1823, 3.5182,\n",
       "           3.8006, 3.5182, 3.5182, 3.5182],\n",
       "          [5.7753, 4.7293, 4.7293, 4.7293, 4.7293, 5.8767, 5.1787, 4.7293,\n",
       "           4.7293, 5.4066, 4.7293, 5.4904, 4.7293, 5.5035, 4.7293, 5.8256,\n",
       "           4.7293, 4.7293, 4.7293, 4.7293, 5.7397, 5.6006, 4.7293, 4.7293,\n",
       "           4.7293, 4.7293, 4.7293, 4.7293, 4.7293, 4.7293, 5.6219, 4.7293,\n",
       "           5.1089, 4.7293, 4.7293, 4.7293]],\n",
       " \n",
       "         [[2.6114, 2.3795, 2.3795, 2.3795, 2.3795, 3.0427, 2.6053, 2.3795,\n",
       "           2.3795, 2.6877, 2.3795, 2.8899, 2.3795, 2.7685, 2.3795, 2.9512,\n",
       "           2.3795, 2.3795, 2.3795, 2.3795, 2.8547, 2.8173, 2.3795, 2.3795,\n",
       "           2.3795, 2.3795, 2.3795, 2.3795, 2.3795, 2.3795, 2.8280, 2.3795,\n",
       "           2.5702, 2.3795, 2.3795, 2.3795],\n",
       "          [5.7873, 4.7374, 4.7374, 4.7374, 4.7374, 5.8864, 5.1875, 4.7374,\n",
       "           4.7374, 5.4164, 4.7374, 5.5003, 4.7374, 5.5129, 4.7374, 5.8355,\n",
       "           4.7374, 4.7374, 4.7374, 4.7374, 5.7479, 5.6102, 4.7374, 4.7374,\n",
       "           4.7374, 4.7374, 4.7374, 4.7374, 4.7374, 4.7374, 5.6315, 4.7374,\n",
       "           5.1176, 4.7374, 4.7374, 4.7374],\n",
       "          [5.7592, 4.7164, 4.7164, 4.7164, 4.7164, 5.8611, 5.1645, 4.7164,\n",
       "           4.7164, 5.3920, 4.7164, 5.4762, 4.7164, 5.4885, 4.7164, 5.8098,\n",
       "           4.7164, 4.7164, 4.7164, 4.7164, 5.7227, 5.5853, 4.7164, 4.7164,\n",
       "           4.7164, 4.7164, 4.7164, 4.7164, 4.7164, 4.7164, 5.6065, 4.7164,\n",
       "           5.0949, 4.7164, 4.7164, 4.7164],\n",
       "          [5.7665, 4.7223, 4.7223, 4.7223, 4.7223, 5.8683, 5.1710, 4.7223,\n",
       "           4.7223, 5.3987, 4.7223, 5.4828, 4.7223, 5.4954, 4.7223, 5.8171,\n",
       "           4.7223, 4.7223, 4.7223, 4.7223, 5.7302, 5.5923, 4.7223, 4.7223,\n",
       "           4.7223, 4.7223, 4.7223, 4.7223, 4.7223, 4.7223, 5.6136, 4.7223,\n",
       "           5.1013, 4.7223, 4.7223, 4.7223],\n",
       "          [5.7606, 4.7168, 4.7168, 4.7168, 4.7168, 5.8614, 5.1650, 4.7168,\n",
       "           4.7168, 5.3926, 4.7168, 5.4764, 4.7168, 5.4889, 4.7168, 5.8103,\n",
       "           4.7168, 4.7168, 4.7168, 4.7168, 5.7229, 5.5857, 4.7168, 4.7168,\n",
       "           4.7168, 4.7168, 4.7168, 4.7168, 4.7168, 4.7168, 5.6070, 4.7168,\n",
       "           5.0954, 4.7168, 4.7168, 4.7168],\n",
       "          [4.5605, 3.5215, 3.5215, 3.5215, 3.5215, 4.3341, 3.8564, 3.5215,\n",
       "           3.5215, 4.0740, 3.5215, 4.0262, 3.5215, 4.0985, 3.5215, 4.3284,\n",
       "           3.5215, 3.5215, 3.5215, 3.5215, 4.1900, 4.1708, 3.5215, 3.5215,\n",
       "           3.5215, 3.5215, 3.5215, 3.5215, 3.5215, 3.5215, 4.1867, 3.5215,\n",
       "           3.8044, 3.5215, 3.5215, 3.5215],\n",
       "          [5.7353, 4.6963, 4.6963, 4.6963, 4.6963, 5.8360, 5.1425, 4.6963,\n",
       "           4.6963, 5.3691, 4.6963, 5.4526, 4.6963, 5.4651, 4.6963, 5.7850,\n",
       "           4.6963, 4.6963, 4.6963, 4.6963, 5.6981, 5.5615, 4.6963, 4.6963,\n",
       "           4.6963, 4.6963, 4.6963, 4.6963, 4.6963, 4.6963, 5.5826, 4.6963,\n",
       "           5.0732, 4.6963, 4.6963, 4.6963],\n",
       "          [5.7299, 4.6924, 4.6924, 4.6924, 4.6924, 5.8312, 5.1382, 4.6924,\n",
       "           4.6924, 5.3645, 4.6924, 5.4482, 4.6924, 5.4605, 4.6924, 5.7802,\n",
       "           4.6924, 4.6924, 4.6924, 4.6924, 5.6936, 5.5568, 4.6924, 4.6924,\n",
       "           4.6924, 4.6924, 4.6924, 4.6924, 4.6924, 4.6924, 5.5780, 4.6924,\n",
       "           5.0690, 4.6924, 4.6924, 4.6924]]], grad_fn=<UnsafeViewBackward0>))"
      ]
     },
     "execution_count": 69,
     "metadata": {},
     "output_type": "execute_result"
    }
   ],
   "source": [
    "logits = lm_head(x)\n",
    "logits.shape, logits"
   ]
  },
  {
   "cell_type": "markdown",
   "id": "a4ed1cae-6af9-4211-82b1-8930196c48c3",
   "metadata": {},
   "source": [
    "### Updated Loss calculation"
   ]
  },
  {
   "cell_type": "markdown",
   "id": "2c101fbc-97fc-4dc2-b99e-1cff59d22f5d",
   "metadata": {},
   "source": [
    "Now we'll calculate the updated loss.  Our first pass's loss was 3.5835, on par with random. Since we're passing through the same example and used a fairly high learning rate we should see a significant improvement with just 1 learning pass. "
   ]
  },
  {
   "cell_type": "code",
   "execution_count": 70,
   "id": "0a12e542-dda9-4cb4-9611-bcb157515806",
   "metadata": {},
   "outputs": [
    {
     "data": {
      "text/plain": [
       "tensor(3.5835, grad_fn=<NllLossBackward0>)"
      ]
     },
     "execution_count": 70,
     "metadata": {},
     "output_type": "execute_result"
    }
   ],
   "source": [
    "loss"
   ]
  },
  {
   "cell_type": "code",
   "execution_count": 71,
   "id": "c2c2eb99-d188-4de7-a4ee-27917e3cec75",
   "metadata": {},
   "outputs": [
    {
     "name": "stdout",
     "output_type": "stream",
     "text": [
      "torch.Size([]) tensor(3.1202, grad_fn=<NllLossBackward0>)\n"
     ]
    }
   ],
   "source": [
    "y_flat = y.view(-1)\n",
    "logits_flat = logits.view(-1, logits.size(-1))\n",
    "updated_loss = F.cross_entropy(logits_flat, y_flat)\n",
    "print(updated_loss.shape, updated_loss)"
   ]
  },
  {
   "cell_type": "code",
   "execution_count": 72,
   "id": "53363221-ba7b-49f8-8f6a-88c6db647277",
   "metadata": {},
   "outputs": [
    {
     "data": {
      "text/plain": [
       "'1 round of training resulted in an loss improvment of 0.4633'"
      ]
     },
     "execution_count": 72,
     "metadata": {},
     "output_type": "execute_result"
    }
   ],
   "source": [
    "f'1 round of training resulted in an loss improvment of {loss.item() - updated_loss.item():.4f}'"
   ]
  },
  {
   "cell_type": "markdown",
   "id": "9f56dfda-a142-40b3-b66f-60cb6cae0a8e",
   "metadata": {},
   "source": [
    "## Training Succeeded!\n",
    "Our training improved the loss by about **~13%** (amount may vary since we didn't set a seed). There are flaws with this, mainly passing the same example through a second time and a high learning rate, but this helps show the fundamentals of what learning does inside a GRU style RNN model. "
   ]
  },
  {
   "cell_type": "markdown",
   "id": "6cdfaea0-6b79-4d29-9475-3e2a24c4e778",
   "metadata": {},
   "source": [
    "## Logit to Token"
   ]
  },
  {
   "cell_type": "markdown",
   "id": "ddbf1bbc-2b4e-4e90-9b71-44d37f80af76",
   "metadata": {},
   "source": [
    "For our last piece of code on this notebook, we'll actually now convert our logits into actual \"next tokens\", the goal of this head.  To predict the next tokens we convert:\n",
    "1. Convert our logits into probabilities\n",
    "2. Sample from the logits based on the probabilities\n",
    "3. Convert the token ids into tokens.\n",
    "\n",
    "As you can see the sampling is non-deterministics. This allows the next token to flow in a more realistic  conversational manner since, if we sample many tokens, over time we won't always pick the highest probability id. Some people read this as creativity, or consciousness, others point to this being one of a few key reasons for hallucinations (which are also caused by the fact that models don't fully memorize every piece of training data), but in reality it's just statistics. "
   ]
  },
  {
   "cell_type": "markdown",
   "id": "7f09578b-dec3-4ead-84e6-fe430e55afee",
   "metadata": {},
   "source": [
    "### Logit and Input shaping\n",
    "Similar to other steps, we first have to get our tensors into the right dimensions. We'll start by compressing out our batch dimension so we just have a a tensor that shows our `[B*T,logits]`, or otherwise, an entry for each example ignoring our batch.  We'll also reinitialize our input tokens and do the same transformation so that we have a tensor ready to append to. "
   ]
  },
  {
   "cell_type": "code",
   "execution_count": 73,
   "id": "96265b4d-ced9-4733-b0d4-2f70bd1fbce8",
   "metadata": {},
   "outputs": [
    {
     "data": {
      "text/plain": [
       "(torch.Size([16, 36]),\n",
       " tensor([[4.1913, 3.5528, 3.5528, 3.5528, 3.5528, 4.5432, 3.8899, 3.5528, 3.5528,\n",
       "          4.0451, 3.5528, 4.0609, 3.5528, 4.1337, 3.5528, 4.4065, 3.5528, 3.5528,\n",
       "          3.5528, 3.5528, 4.2258, 4.2065, 3.5528, 3.5528, 3.5528, 3.5528, 3.5528,\n",
       "          3.5528, 3.5528, 3.5528, 4.2225, 3.5528, 3.8376, 3.5528, 3.5528, 3.5528],\n",
       "         [4.1852, 3.5478, 3.5478, 3.5478, 3.5478, 4.5369, 3.8845, 3.5478, 3.5478,\n",
       "          4.0392, 3.5478, 4.0543, 3.5478, 4.1279, 3.5478, 4.4003, 3.5478, 3.5478,\n",
       "          3.5478, 3.5478, 4.2209, 4.2006, 3.5478, 3.5478, 3.5478, 3.5478, 3.5478,\n",
       "          3.5478, 3.5478, 3.5478, 4.2166, 3.5478, 3.8322, 3.5478, 3.5478, 3.5478],\n",
       "         [4.3468, 3.5347, 3.5347, 3.5347, 3.5347, 4.3498, 3.8706, 3.5347, 3.5347,\n",
       "          4.0251, 3.5347, 4.0409, 3.5347, 4.1134, 3.5347, 4.3440, 3.5347, 3.5347,\n",
       "          3.5347, 3.5347, 4.4043, 4.1859, 3.5347, 3.5347, 3.5347, 3.5347, 3.5347,\n",
       "          3.5347, 3.5347, 3.5347, 4.2019, 3.5347, 3.8184, 3.5347, 3.5347, 3.5347],\n",
       "         [5.7873, 4.7374, 4.7374, 4.7374, 4.7374, 5.8864, 5.1875, 4.7374, 4.7374,\n",
       "          5.4164, 4.7374, 5.5003, 4.7374, 5.5129, 4.7374, 5.8355, 4.7374, 4.7374,\n",
       "          4.7374, 4.7374, 5.7479, 5.6102, 4.7374, 4.7374, 4.7374, 4.7374, 4.7374,\n",
       "          4.7374, 4.7374, 4.7374, 5.6315, 4.7374, 5.1176, 4.7374, 4.7374, 4.7374],\n",
       "         [4.1778, 3.5407, 3.5407, 3.5407, 3.5407, 4.5278, 3.8767, 3.5407, 3.5407,\n",
       "          4.0315, 3.5407, 4.0468, 3.5407, 4.1196, 3.5407, 4.3915, 3.5407, 3.5407,\n",
       "          3.5407, 3.5407, 4.2110, 4.1922, 3.5407, 3.5407, 3.5407, 3.5407, 3.5407,\n",
       "          3.5407, 3.5407, 3.5407, 4.2081, 3.5407, 3.8245, 3.5407, 3.5407, 3.5407],\n",
       "         [2.7737, 2.3666, 2.3666, 2.3666, 2.3666, 3.0261, 2.5911, 2.3666, 2.3666,\n",
       "          2.6731, 2.3666, 2.6203, 2.3666, 2.7534, 2.3666, 2.9350, 2.3666, 2.3666,\n",
       "          2.3666, 2.3666, 2.9023, 2.8019, 2.3666, 2.3666, 2.3666, 2.3666, 2.3666,\n",
       "          2.3666, 2.3666, 2.3666, 2.8125, 2.3666, 2.5562, 2.3666, 2.3666, 2.3666],\n",
       "         [4.1511, 3.5182, 3.5182, 3.5182, 3.5182, 4.3297, 3.8525, 3.5182, 3.5182,\n",
       "          4.0064, 3.5182, 4.2740, 3.5182, 4.0942, 3.5182, 4.3238, 3.5182, 3.5182,\n",
       "          3.5182, 3.5182, 4.3210, 4.1665, 3.5182, 3.5182, 3.5182, 3.5182, 3.5182,\n",
       "          3.5182, 3.5182, 3.5182, 4.1823, 3.5182, 3.8006, 3.5182, 3.5182, 3.5182],\n",
       "         [5.7753, 4.7293, 4.7293, 4.7293, 4.7293, 5.8767, 5.1787, 4.7293, 4.7293,\n",
       "          5.4066, 4.7293, 5.4904, 4.7293, 5.5035, 4.7293, 5.8256, 4.7293, 4.7293,\n",
       "          4.7293, 4.7293, 5.7397, 5.6006, 4.7293, 4.7293, 4.7293, 4.7293, 4.7293,\n",
       "          4.7293, 4.7293, 4.7293, 5.6219, 4.7293, 5.1089, 4.7293, 4.7293, 4.7293],\n",
       "         [2.6114, 2.3795, 2.3795, 2.3795, 2.3795, 3.0427, 2.6053, 2.3795, 2.3795,\n",
       "          2.6877, 2.3795, 2.8899, 2.3795, 2.7685, 2.3795, 2.9512, 2.3795, 2.3795,\n",
       "          2.3795, 2.3795, 2.8547, 2.8173, 2.3795, 2.3795, 2.3795, 2.3795, 2.3795,\n",
       "          2.3795, 2.3795, 2.3795, 2.8280, 2.3795, 2.5702, 2.3795, 2.3795, 2.3795],\n",
       "         [5.7873, 4.7374, 4.7374, 4.7374, 4.7374, 5.8864, 5.1875, 4.7374, 4.7374,\n",
       "          5.4164, 4.7374, 5.5003, 4.7374, 5.5129, 4.7374, 5.8355, 4.7374, 4.7374,\n",
       "          4.7374, 4.7374, 5.7479, 5.6102, 4.7374, 4.7374, 4.7374, 4.7374, 4.7374,\n",
       "          4.7374, 4.7374, 4.7374, 5.6315, 4.7374, 5.1176, 4.7374, 4.7374, 4.7374],\n",
       "         [5.7592, 4.7164, 4.7164, 4.7164, 4.7164, 5.8611, 5.1645, 4.7164, 4.7164,\n",
       "          5.3920, 4.7164, 5.4762, 4.7164, 5.4885, 4.7164, 5.8098, 4.7164, 4.7164,\n",
       "          4.7164, 4.7164, 5.7227, 5.5853, 4.7164, 4.7164, 4.7164, 4.7164, 4.7164,\n",
       "          4.7164, 4.7164, 4.7164, 5.6065, 4.7164, 5.0949, 4.7164, 4.7164, 4.7164],\n",
       "         [5.7665, 4.7223, 4.7223, 4.7223, 4.7223, 5.8683, 5.1710, 4.7223, 4.7223,\n",
       "          5.3987, 4.7223, 5.4828, 4.7223, 5.4954, 4.7223, 5.8171, 4.7223, 4.7223,\n",
       "          4.7223, 4.7223, 5.7302, 5.5923, 4.7223, 4.7223, 4.7223, 4.7223, 4.7223,\n",
       "          4.7223, 4.7223, 4.7223, 5.6136, 4.7223, 5.1013, 4.7223, 4.7223, 4.7223],\n",
       "         [5.7606, 4.7168, 4.7168, 4.7168, 4.7168, 5.8614, 5.1650, 4.7168, 4.7168,\n",
       "          5.3926, 4.7168, 5.4764, 4.7168, 5.4889, 4.7168, 5.8103, 4.7168, 4.7168,\n",
       "          4.7168, 4.7168, 5.7229, 5.5857, 4.7168, 4.7168, 4.7168, 4.7168, 4.7168,\n",
       "          4.7168, 4.7168, 4.7168, 5.6070, 4.7168, 5.0954, 4.7168, 4.7168, 4.7168],\n",
       "         [4.5605, 3.5215, 3.5215, 3.5215, 3.5215, 4.3341, 3.8564, 3.5215, 3.5215,\n",
       "          4.0740, 3.5215, 4.0262, 3.5215, 4.0985, 3.5215, 4.3284, 3.5215, 3.5215,\n",
       "          3.5215, 3.5215, 4.1900, 4.1708, 3.5215, 3.5215, 3.5215, 3.5215, 3.5215,\n",
       "          3.5215, 3.5215, 3.5215, 4.1867, 3.5215, 3.8044, 3.5215, 3.5215, 3.5215],\n",
       "         [5.7353, 4.6963, 4.6963, 4.6963, 4.6963, 5.8360, 5.1425, 4.6963, 4.6963,\n",
       "          5.3691, 4.6963, 5.4526, 4.6963, 5.4651, 4.6963, 5.7850, 4.6963, 4.6963,\n",
       "          4.6963, 4.6963, 5.6981, 5.5615, 4.6963, 4.6963, 4.6963, 4.6963, 4.6963,\n",
       "          4.6963, 4.6963, 4.6963, 5.5826, 4.6963, 5.0732, 4.6963, 4.6963, 4.6963],\n",
       "         [5.7299, 4.6924, 4.6924, 4.6924, 4.6924, 5.8312, 5.1382, 4.6924, 4.6924,\n",
       "          5.3645, 4.6924, 5.4482, 4.6924, 5.4605, 4.6924, 5.7802, 4.6924, 4.6924,\n",
       "          4.6924, 4.6924, 5.6936, 5.5568, 4.6924, 4.6924, 4.6924, 4.6924, 4.6924,\n",
       "          4.6924, 4.6924, 4.6924, 5.5780, 4.6924, 5.0690, 4.6924, 4.6924, 4.6924]],\n",
       "        grad_fn=<ViewBackward0>))"
      ]
     },
     "execution_count": 73,
     "metadata": {},
     "output_type": "execute_result"
    }
   ],
   "source": [
    "pred_logits = logits.flatten(0, 1) \n",
    "pred_logits.size(), pred_logits"
   ]
  },
  {
   "cell_type": "markdown",
   "id": "4ee6fbbb-1d61-47a4-97b2-fad4e839a881",
   "metadata": {},
   "source": [
    "**Input Shaping**\n",
    "\n",
    "For our input, in this scenario recall that even though our initial x had 2 dimensions `[B,T]`, each `T` was actually representative of T examples, 1 for each token entry.  Because of this, we actually have to expand our examples similar to how our attention block does it. We do have to be careful to preserve the order as they align with our logit order. Our result will look like 2 triangles stacked."
   ]
  },
  {
   "cell_type": "code",
   "execution_count": 74,
   "id": "e81a5a4a-6cd6-4983-a856-447bce973cee",
   "metadata": {},
   "outputs": [
    {
     "data": {
      "text/plain": [
       "[[35],\n",
       " [35, 15],\n",
       " [35, 15, 32],\n",
       " [35, 15, 32, 9],\n",
       " [35, 15, 32, 9, 5],\n",
       " [35, 15, 32, 9, 5, 20],\n",
       " [35, 15, 32, 9, 5, 20, 30],\n",
       " [35, 15, 32, 9, 5, 20, 30, 15],\n",
       " [11],\n",
       " [11, 9],\n",
       " [11, 9, 6],\n",
       " [11, 9, 6, 20],\n",
       " [11, 9, 6, 20, 5],\n",
       " [11, 9, 6, 20, 5, 0],\n",
       " [11, 9, 6, 20, 5, 0, 13],\n",
       " [11, 9, 6, 20, 5, 0, 13, 21]]"
      ]
     },
     "execution_count": 74,
     "metadata": {},
     "output_type": "execute_result"
    }
   ],
   "source": [
    "xgen = tok_for_training[:-1].view(B_batch, T_context)\n",
    "xgen = [xgen[b:b+1, :i+1][0].tolist() for b in range(B_batch) for i in range(T_context)]\n",
    "xgen"
   ]
  },
  {
   "cell_type": "markdown",
   "id": "ff3fee26-2771-411e-a7ad-256fb9b803dd",
   "metadata": {},
   "source": [
    "### Logit into probabilities. \n",
    "If you inspect the logits, you'll notice that they don't sum up to `1.000`. Our goal is to understand the probability of each token in our vocab as being the next one.  Because of this we need to convert our weight to probabilities.  The most common approach is to use Softmax, which rescales a tensor so that the elements of the n-dimensional output Tensor lie in the range `(0,1)` and sum to 1. This is done applying the following formula based on the dimension specified:\n",
    "\n",
    "$$\n",
    "\\mathrm{Softmax}(x)_i = \\frac{\\exp(x_i)}{\\sum_{j} \\exp(x_j)}\n",
    "$$\n",
    "\n",
    "*Note that when the input Tensor is a sparse tensor then the unspecified values are treated as $-\\infty$. This is handy in steps like attention masking.*"
   ]
  },
  {
   "cell_type": "code",
   "execution_count": 75,
   "id": "2704a56c-5138-4b45-901f-cb3635709431",
   "metadata": {},
   "outputs": [
    {
     "data": {
      "text/plain": [
       "tensor([[0.0415, 0.0219, 0.0219, 0.0219, 0.0219, 0.0591, 0.0307, 0.0219, 0.0219,\n",
       "         0.0359, 0.0219, 0.0365, 0.0219, 0.0392, 0.0219, 0.0515, 0.0219, 0.0219,\n",
       "         0.0219, 0.0219, 0.0430, 0.0422, 0.0219, 0.0219, 0.0219, 0.0219, 0.0219,\n",
       "         0.0219, 0.0219, 0.0219, 0.0429, 0.0219, 0.0292, 0.0219, 0.0219, 0.0219],\n",
       "        [0.0415, 0.0219, 0.0219, 0.0219, 0.0219, 0.0590, 0.0307, 0.0219, 0.0219,\n",
       "         0.0359, 0.0219, 0.0364, 0.0219, 0.0392, 0.0219, 0.0515, 0.0219, 0.0219,\n",
       "         0.0219, 0.0219, 0.0430, 0.0422, 0.0219, 0.0219, 0.0219, 0.0219, 0.0219,\n",
       "         0.0219, 0.0219, 0.0219, 0.0428, 0.0219, 0.0292, 0.0219, 0.0219, 0.0219],\n",
       "        [0.0492, 0.0218, 0.0218, 0.0218, 0.0218, 0.0493, 0.0305, 0.0218, 0.0218,\n",
       "         0.0356, 0.0218, 0.0362, 0.0218, 0.0389, 0.0218, 0.0490, 0.0218, 0.0218,\n",
       "         0.0218, 0.0218, 0.0521, 0.0419, 0.0218, 0.0218, 0.0218, 0.0218, 0.0218,\n",
       "         0.0218, 0.0218, 0.0218, 0.0425, 0.0218, 0.0290, 0.0218, 0.0218, 0.0218],\n",
       "        [0.0561, 0.0196, 0.0196, 0.0196, 0.0196, 0.0620, 0.0308, 0.0196, 0.0196,\n",
       "         0.0387, 0.0196, 0.0421, 0.0196, 0.0427, 0.0196, 0.0589, 0.0196, 0.0196,\n",
       "         0.0196, 0.0196, 0.0540, 0.0470, 0.0196, 0.0196, 0.0196, 0.0196, 0.0196,\n",
       "         0.0196, 0.0196, 0.0196, 0.0480, 0.0196, 0.0287, 0.0196, 0.0196, 0.0196],\n",
       "        [0.0415, 0.0220, 0.0220, 0.0220, 0.0220, 0.0589, 0.0307, 0.0220, 0.0220,\n",
       "         0.0359, 0.0220, 0.0364, 0.0220, 0.0392, 0.0220, 0.0514, 0.0220, 0.0220,\n",
       "         0.0220, 0.0220, 0.0429, 0.0421, 0.0220, 0.0220, 0.0220, 0.0220, 0.0220,\n",
       "         0.0220, 0.0220, 0.0220, 0.0428, 0.0220, 0.0292, 0.0220, 0.0220, 0.0220],\n",
       "        [0.0361, 0.0240, 0.0240, 0.0240, 0.0240, 0.0465, 0.0301, 0.0240, 0.0240,\n",
       "         0.0327, 0.0240, 0.0310, 0.0240, 0.0354, 0.0240, 0.0424, 0.0240, 0.0240,\n",
       "         0.0240, 0.0240, 0.0411, 0.0372, 0.0240, 0.0240, 0.0240, 0.0240, 0.0240,\n",
       "         0.0240, 0.0240, 0.0240, 0.0375, 0.0240, 0.0291, 0.0240, 0.0240, 0.0240],\n",
       "        [0.0412, 0.0219, 0.0219, 0.0219, 0.0219, 0.0492, 0.0306, 0.0219, 0.0219,\n",
       "         0.0356, 0.0219, 0.0466, 0.0219, 0.0389, 0.0219, 0.0490, 0.0219, 0.0219,\n",
       "         0.0219, 0.0219, 0.0488, 0.0418, 0.0219, 0.0219, 0.0219, 0.0219, 0.0219,\n",
       "         0.0219, 0.0219, 0.0219, 0.0425, 0.0219, 0.0290, 0.0219, 0.0219, 0.0219],\n",
       "        [0.0559, 0.0197, 0.0197, 0.0197, 0.0197, 0.0619, 0.0308, 0.0197, 0.0197,\n",
       "         0.0387, 0.0197, 0.0421, 0.0197, 0.0426, 0.0197, 0.0588, 0.0197, 0.0197,\n",
       "         0.0197, 0.0197, 0.0540, 0.0470, 0.0197, 0.0197, 0.0197, 0.0197, 0.0197,\n",
       "         0.0197, 0.0197, 0.0197, 0.0480, 0.0197, 0.0287, 0.0197, 0.0197, 0.0197],\n",
       "        [0.0303, 0.0240, 0.0240, 0.0240, 0.0240, 0.0466, 0.0301, 0.0240, 0.0240,\n",
       "         0.0327, 0.0240, 0.0400, 0.0240, 0.0354, 0.0240, 0.0425, 0.0240, 0.0240,\n",
       "         0.0240, 0.0240, 0.0386, 0.0372, 0.0240, 0.0240, 0.0240, 0.0240, 0.0240,\n",
       "         0.0240, 0.0240, 0.0240, 0.0376, 0.0240, 0.0290, 0.0240, 0.0240, 0.0240],\n",
       "        [0.0561, 0.0196, 0.0196, 0.0196, 0.0196, 0.0620, 0.0308, 0.0196, 0.0196,\n",
       "         0.0387, 0.0196, 0.0421, 0.0196, 0.0427, 0.0196, 0.0589, 0.0196, 0.0196,\n",
       "         0.0196, 0.0196, 0.0540, 0.0470, 0.0196, 0.0196, 0.0196, 0.0196, 0.0196,\n",
       "         0.0196, 0.0196, 0.0196, 0.0480, 0.0196, 0.0287, 0.0196, 0.0196, 0.0196],\n",
       "        [0.0558, 0.0197, 0.0197, 0.0197, 0.0197, 0.0618, 0.0308, 0.0197, 0.0197,\n",
       "         0.0387, 0.0197, 0.0421, 0.0197, 0.0426, 0.0197, 0.0587, 0.0197, 0.0197,\n",
       "         0.0197, 0.0197, 0.0538, 0.0469, 0.0197, 0.0197, 0.0197, 0.0197, 0.0197,\n",
       "         0.0197, 0.0197, 0.0197, 0.0479, 0.0197, 0.0287, 0.0197, 0.0197, 0.0197],\n",
       "        [0.0559, 0.0197, 0.0197, 0.0197, 0.0197, 0.0619, 0.0308, 0.0197, 0.0197,\n",
       "         0.0387, 0.0197, 0.0421, 0.0197, 0.0426, 0.0197, 0.0588, 0.0197, 0.0197,\n",
       "         0.0197, 0.0197, 0.0539, 0.0469, 0.0197, 0.0197, 0.0197, 0.0197, 0.0197,\n",
       "         0.0197, 0.0197, 0.0197, 0.0480, 0.0197, 0.0287, 0.0197, 0.0197, 0.0197],\n",
       "        [0.0559, 0.0197, 0.0197, 0.0197, 0.0197, 0.0618, 0.0308, 0.0197, 0.0197,\n",
       "         0.0387, 0.0197, 0.0421, 0.0197, 0.0426, 0.0197, 0.0587, 0.0197, 0.0197,\n",
       "         0.0197, 0.0197, 0.0538, 0.0469, 0.0197, 0.0197, 0.0197, 0.0197, 0.0197,\n",
       "         0.0197, 0.0197, 0.0197, 0.0479, 0.0197, 0.0287, 0.0197, 0.0197, 0.0197],\n",
       "        [0.0614, 0.0217, 0.0217, 0.0217, 0.0217, 0.0490, 0.0304, 0.0217, 0.0217,\n",
       "         0.0377, 0.0217, 0.0360, 0.0217, 0.0387, 0.0217, 0.0487, 0.0217, 0.0217,\n",
       "         0.0217, 0.0217, 0.0424, 0.0416, 0.0217, 0.0217, 0.0217, 0.0217, 0.0217,\n",
       "         0.0217, 0.0217, 0.0217, 0.0423, 0.0217, 0.0288, 0.0217, 0.0217, 0.0217],\n",
       "        [0.0557, 0.0197, 0.0197, 0.0197, 0.0197, 0.0616, 0.0308, 0.0197, 0.0197,\n",
       "         0.0386, 0.0197, 0.0420, 0.0197, 0.0425, 0.0197, 0.0586, 0.0197, 0.0197,\n",
       "         0.0197, 0.0197, 0.0537, 0.0468, 0.0197, 0.0197, 0.0197, 0.0197, 0.0197,\n",
       "         0.0197, 0.0197, 0.0197, 0.0478, 0.0197, 0.0287, 0.0197, 0.0197, 0.0197],\n",
       "        [0.0557, 0.0197, 0.0197, 0.0197, 0.0197, 0.0616, 0.0308, 0.0197, 0.0197,\n",
       "         0.0386, 0.0197, 0.0420, 0.0197, 0.0425, 0.0197, 0.0585, 0.0197, 0.0197,\n",
       "         0.0197, 0.0197, 0.0537, 0.0468, 0.0197, 0.0197, 0.0197, 0.0197, 0.0197,\n",
       "         0.0197, 0.0197, 0.0197, 0.0478, 0.0197, 0.0287, 0.0197, 0.0197, 0.0197]],\n",
       "       grad_fn=<SoftmaxBackward0>)"
      ]
     },
     "execution_count": 75,
     "metadata": {},
     "output_type": "execute_result"
    }
   ],
   "source": [
    "probs = F.softmax(pred_logits, dim=-1)\n",
    "probs"
   ]
  },
  {
   "cell_type": "markdown",
   "id": "8c72dc45-e098-4b47-a822-daccfdb1bf91",
   "metadata": {},
   "source": [
    "### Token Sampling \n",
    "Now that we have probabilities, we can now perform our sampling. Because next-token sampling is a categorical draw from the model’s softmax, `torch.multinomial` is the go-to choice for sampling from discrete distributions.  Multinomial takes non-negative weights (e.g., $\\mathrm{softmax}(\\ell/T)$ or $\\exp(\\ell/T))$ and returns indices without having to write complex loops. You can also tune its behavior with different temperatures and using top-k/top-p slicing. We'll keep things simple and just draw a single token. \n",
    "\n",
    "In cases where you'd want to generate a lot of text (e.g. chatbot use cases), instead of doing multi-sampling, you'd run the forward pass, sample, then using that sample, run another forward pass, iteratively. \n",
    "\n",
    "Once we sample the tokens we'll then append them to our input X `xgen` to generate `T_context+1` long examples. "
   ]
  },
  {
   "cell_type": "code",
   "execution_count": 76,
   "id": "40df52b3-8cc9-4679-9643-34b15f38701c",
   "metadata": {},
   "outputs": [
    {
     "data": {
      "text/plain": [
       "[[26],\n",
       " [32],\n",
       " [18],\n",
       " [11],\n",
       " [30],\n",
       " [17],\n",
       " [16],\n",
       " [12],\n",
       " [23],\n",
       " [35],\n",
       " [21],\n",
       " [4],\n",
       " [28],\n",
       " [35],\n",
       " [25],\n",
       " [24]]"
      ]
     },
     "execution_count": 76,
     "metadata": {},
     "output_type": "execute_result"
    }
   ],
   "source": [
    "xcol = torch.multinomial(probs, 1).tolist()\n",
    "xcol"
   ]
  },
  {
   "cell_type": "code",
   "execution_count": 77,
   "id": "ec4ba887-12c0-4f87-9bcd-5dd36a517660",
   "metadata": {},
   "outputs": [
    {
     "data": {
      "text/plain": [
       "[[35, 26],\n",
       " [35, 15, 32],\n",
       " [35, 15, 32, 18],\n",
       " [35, 15, 32, 9, 11],\n",
       " [35, 15, 32, 9, 5, 30],\n",
       " [35, 15, 32, 9, 5, 20, 17],\n",
       " [35, 15, 32, 9, 5, 20, 30, 16],\n",
       " [35, 15, 32, 9, 5, 20, 30, 15, 12],\n",
       " [11, 23],\n",
       " [11, 9, 35],\n",
       " [11, 9, 6, 21],\n",
       " [11, 9, 6, 20, 4],\n",
       " [11, 9, 6, 20, 5, 28],\n",
       " [11, 9, 6, 20, 5, 0, 35],\n",
       " [11, 9, 6, 20, 5, 0, 13, 25],\n",
       " [11, 9, 6, 20, 5, 0, 13, 21, 24]]"
      ]
     },
     "execution_count": 77,
     "metadata": {},
     "output_type": "execute_result"
    }
   ],
   "source": [
    "xgen = [xg + xc for xg, xc in zip(xgen, xcol)] \n",
    "xgen"
   ]
  },
  {
   "cell_type": "markdown",
   "id": "9f703a5c-dbea-42f1-aed8-d311bb46ed48",
   "metadata": {},
   "source": [
    "### Converting into tokens. \n",
    "Now that we have our tokens generated and appended we just have to convert them back into the original text using our tokenizer. We'll also print out our original text to see how close it gets. "
   ]
  },
  {
   "cell_type": "code",
   "execution_count": 78,
   "id": "3efc01bd-1d74-4e28-bd0a-b0aec725b2e8",
   "metadata": {},
   "outputs": [],
   "source": [
    "real_toks = torch.stack((tok_for_training[:9], tok_for_training[8:]), dim=0)\n",
    "real_toks = [real_toks[b:b+1, :i+2][0].tolist() for b in range(2) for i in range(8)]"
   ]
  },
  {
   "cell_type": "code",
   "execution_count": 79,
   "id": "6ed61d0a-e10d-40e5-9d84-8877c8551549",
   "metadata": {},
   "outputs": [
    {
     "name": "stdout",
     "output_type": "stream",
     "text": [
      "     Real: <|endoftext|>l\n",
      "Generated: <|endoftext|>x\n",
      "----MATCHING for index 1!----\n",
      "     Real: <|endoftext|>lin\n",
      "Generated: <|endoftext|>lin\n",
      "     Real: <|endoftext|>line\n",
      "Generated: <|endoftext|>lino\n",
      "     Real: <|endoftext|>linea\n",
      "Generated: <|endoftext|>lineg\n",
      "     Real: <|endoftext|>linear\n",
      "Generated: <|endoftext|>linea a\n",
      "     Real: <|endoftext|>linear a\n",
      "Generated: <|endoftext|>linearn\n",
      "     Real: <|endoftext|>linear al\n",
      "Generated: <|endoftext|>linear am\n",
      "     Real: <|endoftext|>linear alg\n",
      "Generated: <|endoftext|>linear alh\n",
      "     Real: ge\n",
      "Generated: gu\n",
      "     Real: geb\n",
      "Generated: ge\n",
      "     Real: gebr\n",
      "Generated: gebs\n",
      "     Real: gebra\n",
      "Generated: gebr.\n",
      "     Real: gebra \n",
      "Generated: gebraz\n",
      "     Real: gebra i\n",
      "Generated: gebra \n",
      "     Real: gebra is\n",
      "Generated: gebra iw\n",
      "     Real: gebra is \n",
      "Generated: gebra isv\n"
     ]
    }
   ],
   "source": [
    "for i in range(len(xgen)):\n",
    "    if real_toks[i] == xgen[i]:\n",
    "        print(f'----MATCHING for index {i}!----')\n",
    "    print(f'     Real: {tok.decode(real_toks[i])}')\n",
    "    print(f'Generated: {tok.decode(xgen[i])}')"
   ]
  },
  {
   "cell_type": "markdown",
   "id": "2241e84a-4688-404d-b85a-4b51c9c29931",
   "metadata": {},
   "source": [
    "## Conclusion \n",
    "So you might look at this now and say \"wait, the predicted text is mostly different than our correct text, yet our loss decreased, what's going on?\".  To this I'd point to our loss function, it compares all logits, so as long as the probability for the right logit increases and the wrong logits decrease, the loss will decrease, yet, unless it's 0, it's not perfect. One other interesting thing here is that you can also see that 1 token != 1 character. In our tokenizer we use merges to represent common patterns as a single token so, when that token is predicted as next, the example gets all the characters for that merge.  "
   ]
  },
  {
   "cell_type": "code",
   "execution_count": null,
   "id": "218b8d69-5b69-4492-b2ca-e269e137f36c",
   "metadata": {},
   "outputs": [],
   "source": []
  }
 ],
 "metadata": {
  "kernelspec": {
   "display_name": "Python 3 (ipykernel)",
   "language": "python",
   "name": "python3"
  },
  "language_info": {
   "codemirror_mode": {
    "name": "ipython",
    "version": 3
   },
   "file_extension": ".py",
   "mimetype": "text/x-python",
   "name": "python",
   "nbconvert_exporter": "python",
   "pygments_lexer": "ipython3",
   "version": "3.13.7"
  }
 },
 "nbformat": 4,
 "nbformat_minor": 5
}
