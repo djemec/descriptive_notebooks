{
 "cells": [
  {
   "cell_type": "markdown",
   "id": "d2ea846f-d5a9-4f61-b3b1-fed90e2edde3",
   "metadata": {},
   "source": [
    "# RNN LSTM Explainer\n",
    "\n",
    "The goal is to walk through RNNs (recurrent neural networks), there are 2 flavors: GRUs and LSTMs. We'll focus on Long Short-Term Memory (LSTM). LSTM's have a unique structure where they process data sequentially which enables them to take in both the current and a prior state, making them great for sequential data like time series or streamed data.  The core unit of the LSTM takes in both the data you want to use to make an inference along with any previous context. LSTMs' memory cell uses three “gates”: an input gate, a forget gate, and an output gate. These gates allow the model to decide which information to keep, which to forget, and when to use it. GRU's only have the 2 gates for input and forget. While this is great there are a few dangers of RNNs: primarily that improper setup and training can lead to vanishing/exploding gradients and their sequential nature can consume a lot of resources.  The LSTM structure was built to fight the vanishing gradient problem. When coupled with grdient clipping it can help fight the vanishing/exploding gradient problem.\n",
    "\n",
    "To help display how the LSTMs works, we'll use the first sentence from the [linear algebra wiki page](https://en.wikipedia.org/wiki/Linear_algebra) and [lu decomposition wiki page](https://en.wikipedia.org/wiki/LU_decomposition) as the topic is fitting and it shows us some non-standard patterns.  We'll take on a more simple task to many other notebooks in this repository where we have a few sentences of text and want to predict some other text, in this case the next token. "
   ]
  },
  {
   "cell_type": "markdown",
   "id": "c08f8d05-f237-4a81-8f88-be839e4a9e51",
   "metadata": {},
   "source": [
    "## Text Prep/Tokenization"
   ]
  },
  {
   "cell_type": "markdown",
   "id": "8fb1237d-fd4f-43bc-ba02-88e82368b385",
   "metadata": {},
   "source": [
    "We'll start with a common preprocessing step of tokenizing the data.  This converts the string text into an array of numbers that can be used during the training loop.  I've built a very subtle byte-pair encoding that has each unique character that appears and the top 5 merges. This keeps our vocab size small and manageable for this example. Typically the vocab size is in the 100K+ range. A great library for this is `tiktoken`. Tokenization simply finds the longest pattern of characters that's in common with what was trained and replaces it with an integer that represents it.  This way we turn the text into a numeric array to simplify computing. import torch\n",
    "from collections import Counter"
   ]
  },
  {
   "cell_type": "code",
   "execution_count": 1,
   "id": "baeedf57-4218-4b0e-be46-217723a9034a",
   "metadata": {},
   "outputs": [],
   "source": [
    "import torch\n",
    "from collections import Counter"
   ]
  },
  {
   "cell_type": "code",
   "execution_count": 2,
   "id": "ef2240c1-dd4e-4f8a-9fb1-acff3ff200c1",
   "metadata": {},
   "outputs": [],
   "source": [
    "class SimpleBPETokenizer:\n",
    "    def __init__(self, num_merges=5, eot_token='<|endoftext|>'):\n",
    "        self.num_merges = num_merges\n",
    "        self.eot_token = eot_token\n",
    "        self.eot_id = None\n",
    "        self.merges = []\n",
    "        self.pair_ranks = {}\n",
    "        self.vocab = {}\n",
    "        self.id_to_token = {}\n",
    "\n",
    "    def _add_token(self, tok):\n",
    "        if tok in self.vocab:\n",
    "            return self.vocab[tok]\n",
    "        i = len(self.vocab)\n",
    "        self.vocab[tok] = i\n",
    "        self.id_to_token[i] = tok\n",
    "        return i\n",
    "\n",
    "    def _get_bigrams(self, seq):\n",
    "        for i in range(len(seq) - 1):\n",
    "            yield (seq[i], seq[i + 1])\n",
    "\n",
    "    def _merge_once(self, seq, pair):\n",
    "        a, b = pair\n",
    "        out = []\n",
    "        i = 0\n",
    "        while i < len(seq):\n",
    "            if i < len(seq) - 1 and seq[i] == a and seq[i + 1] == b:\n",
    "                out.append(a + b)\n",
    "                i += 2\n",
    "            else:\n",
    "                out.append(seq[i])\n",
    "                i += 1\n",
    "        return out\n",
    "\n",
    "    def train(self, corpus):\n",
    "        # corpus: list[str]\n",
    "        text = ''.join(corpus).lower()\n",
    "        seq = list(text)\n",
    "        merges = []\n",
    "        for _ in range(self.num_merges):\n",
    "            counts = Counter(self._get_bigrams(seq))\n",
    "            if not counts: break\n",
    "            best_pair, _ = counts.most_common(1)[0]\n",
    "            merges.append(best_pair)\n",
    "            seq = self._merge_once(seq, best_pair)\n",
    "        self.merges = merges\n",
    "        self.pair_ranks = {p: i for i, p in enumerate(self.merges)}\n",
    "\n",
    "        self.vocab = {}\n",
    "        self.id_to_token = {}\n",
    "        for ch in sorted(set(text)):\n",
    "            self._add_token(ch)\n",
    "        for a, b in self.merges:\n",
    "            self._add_token(a + b)\n",
    "        self.eot_id = self._add_token(self.eot_token)\n",
    "\n",
    "    def encode(self, text, force_last_eot=True):\n",
    "        # treat literal eot marker as special; remove it from content\n",
    "        if self.eot_token in text:\n",
    "            text = text.replace(self.eot_token, '')\n",
    "        seq = list(text)\n",
    "\n",
    "        # make sure all seen base chars exist\n",
    "        for ch in set(seq):\n",
    "            if ch not in self.vocab:\n",
    "                self._add_token(ch)\n",
    "\n",
    "        # greedy BPE using learned pair ranks\n",
    "        if self.merges:\n",
    "            while True:\n",
    "                best_pair, best_rank = None, None\n",
    "                for p in self._get_bigrams(seq):\n",
    "                    r = self.pair_ranks.get(p)\n",
    "                    if r is not None and (best_rank is None or r < best_rank):\n",
    "                        best_pair, best_rank = p, r\n",
    "                if best_pair is None:\n",
    "                    break\n",
    "                seq = self._merge_once(seq, best_pair)\n",
    "\n",
    "        # ensure all tokens in seq exist in vocab (e.g., if new chars appeared)\n",
    "        for tok in seq:\n",
    "            if tok not in self.vocab:\n",
    "                self._add_token(tok)\n",
    "\n",
    "        ids = [self.vocab[tok] for tok in seq]\n",
    "\n",
    "        # FORCE: append EOT id if not already last\n",
    "        if force_last_eot:\n",
    "            if not ids or ids[-1] != self.eot_id:\n",
    "                ids.append(self.eot_id)\n",
    "\n",
    "        return ids\n",
    "\n",
    "    def decode(self, ids):\n",
    "        # drop trailing EOT if present\n",
    "        if ids and self.eot_id is not None and ids[-1] == self.eot_id:\n",
    "            ids = ids[:-1]\n",
    "        toks = [self.id_to_token[i] for i in ids]\n",
    "        return ''.join(toks)\n"
   ]
  },
  {
   "cell_type": "code",
   "execution_count": 3,
   "id": "b35d09cf-0ce1-47a0-a93f-8213bea8f711",
   "metadata": {},
   "outputs": [],
   "source": [
    "raw_example_1 = r'''Linear algebra is central to almost all areas of mathematics. For instance, linear algebra is fundamental in modern presentations of geometry, including for defining basic objects such as lines, planes and rotations. Also, functional analysis, a branch of mathematical analysis, may be viewed as the application of linear algebra to function spaces.'''\n",
    "raw_example_2 = r'''In numerical analysis and linear algebra, lower–upper (LU) decomposition or factorization factors a matrix as the product of a lower triangular matrix and an upper triangular matrix (see matrix multiplication and matrix decomposition).'''\n"
   ]
  },
  {
   "cell_type": "code",
   "execution_count": 4,
   "id": "7064c634-a608-4a62-93fe-c89219aa5dae",
   "metadata": {},
   "outputs": [
    {
     "data": {
      "text/plain": [
       "[(' ', 'a'), ('a', 't'), ('i', 'n'), (' ', 'm'), ('i', 'o')]"
      ]
     },
     "execution_count": 4,
     "metadata": {},
     "output_type": "execute_result"
    }
   ],
   "source": [
    "tok = SimpleBPETokenizer(num_merges=5)\n",
    "tok.train([raw_example_1,raw_example_2])\n",
    "tok.merges"
   ]
  },
  {
   "cell_type": "code",
   "execution_count": 5,
   "id": "133f8d70-16cd-4327-91a2-4e887612bcdf",
   "metadata": {},
   "outputs": [
    {
     "data": {
      "text/plain": [
       "{' ': 0,\n",
       " '(': 1,\n",
       " ')': 2,\n",
       " ',': 3,\n",
       " '.': 4,\n",
       " 'a': 5,\n",
       " 'b': 6,\n",
       " 'c': 7,\n",
       " 'd': 8,\n",
       " 'e': 9,\n",
       " 'f': 10,\n",
       " 'g': 11,\n",
       " 'h': 12,\n",
       " 'i': 13,\n",
       " 'j': 14,\n",
       " 'l': 15,\n",
       " 'm': 16,\n",
       " 'n': 17,\n",
       " 'o': 18,\n",
       " 'p': 19,\n",
       " 'r': 20,\n",
       " 's': 21,\n",
       " 't': 22,\n",
       " 'u': 23,\n",
       " 'v': 24,\n",
       " 'w': 25,\n",
       " 'x': 26,\n",
       " 'y': 27,\n",
       " 'z': 28,\n",
       " '–': 29,\n",
       " ' a': 30,\n",
       " 'at': 31,\n",
       " 'in': 32,\n",
       " ' m': 33,\n",
       " 'io': 34,\n",
       " '<|endoftext|>': 35}"
      ]
     },
     "execution_count": 5,
     "metadata": {},
     "output_type": "execute_result"
    }
   ],
   "source": [
    "tok.vocab"
   ]
  },
  {
   "cell_type": "code",
   "execution_count": 6,
   "id": "9804d527-b590-4bb5-8158-8cdcbc179719",
   "metadata": {},
   "outputs": [
    {
     "data": {
      "text/plain": [
       "36"
      ]
     },
     "execution_count": 6,
     "metadata": {},
     "output_type": "execute_result"
    }
   ],
   "source": [
    "vocab_size = len(tok.vocab)\n",
    "vocab_size"
   ]
  },
  {
   "cell_type": "code",
   "execution_count": 7,
   "id": "29443925-8749-4b7c-a500-4a3bdbf808d8",
   "metadata": {},
   "outputs": [
    {
     "data": {
      "text/plain": [
       "tensor([35, 15, 32,  9,  5, 20, 30, 15, 11,  9,  6, 20,  5,  0, 13, 21,  0,  7,\n",
       "         9, 17, 22, 20,  5, 15,  0, 22, 18, 30, 15, 16, 18, 21, 22, 30, 15, 15,\n",
       "        30, 20,  9,  5, 21,  0, 18, 10, 33, 31, 12,  9, 16, 31, 13,  7, 21,  4,\n",
       "         0, 10, 18, 20,  0, 32, 21, 22,  5, 17,  7,  9,  3,  0, 15, 32,  9,  5,\n",
       "        20, 30, 15, 11,  9,  6, 20,  5,  0, 13, 21,  0, 10, 23, 17,  8,  5, 16,\n",
       "         9, 17, 22,  5, 15,  0, 32, 33, 18,  8,  9, 20, 17,  0, 19, 20,  9, 21,\n",
       "         9, 17, 22, 31, 34, 17, 21,  0, 18, 10,  0, 11,  9, 18, 16,  9, 22, 20,\n",
       "        27,  3,  0, 32,  7, 15, 23,  8, 32, 11,  0, 10, 18, 20,  0,  8,  9, 10,\n",
       "        32, 32, 11,  0,  6,  5, 21, 13,  7,  0, 18,  6, 14,  9,  7, 22, 21,  0,\n",
       "        21, 23,  7, 12, 30, 21,  0, 15, 32,  9, 21,  3,  0, 19, 15,  5, 17,  9,\n",
       "        21, 30, 17,  8,  0, 20, 18, 22, 31, 34, 17, 21,  4, 30, 15, 21, 18,  3,\n",
       "         0, 10, 23, 17,  7, 22, 34, 17,  5, 15, 30, 17,  5, 15, 27, 21, 13, 21,\n",
       "         3, 30,  0,  6, 20,  5, 17,  7, 12,  0, 18, 10, 33, 31, 12,  9, 16, 31,\n",
       "        13,  7,  5, 15, 30, 17,  5, 15, 27, 21, 13, 21,  3, 33,  5, 27,  0,  6,\n",
       "         9,  0, 24, 13,  9, 25,  9,  8, 30, 21,  0, 22, 12,  9, 30, 19, 19, 15,\n",
       "        13,  7, 31, 34, 17,  0, 18, 10,  0, 15, 32,  9,  5, 20, 30, 15, 11,  9,\n",
       "         6, 20,  5,  0, 22, 18,  0, 10, 23, 17,  7, 22, 34, 17,  0, 21, 19,  5,\n",
       "         7,  9, 21,  4, 35, 35, 32,  0, 17, 23, 16,  9, 20, 13,  7,  5, 15, 30,\n",
       "        17,  5, 15, 27, 21, 13, 21, 30, 17,  8,  0, 15, 32,  9,  5, 20, 30, 15,\n",
       "        11,  9,  6, 20,  5,  3,  0, 15, 18, 25,  9, 20, 29, 23, 19, 19,  9, 20,\n",
       "         0,  1, 15, 23,  2,  0,  8,  9,  7, 18, 16, 19, 18, 21, 13, 22, 34, 17,\n",
       "         0, 18, 20,  0, 10,  5,  7, 22, 18, 20, 13, 28, 31, 34, 17,  0, 10,  5,\n",
       "         7, 22, 18, 20, 21, 30, 33, 31, 20, 13, 26, 30, 21,  0, 22, 12,  9,  0,\n",
       "        19, 20, 18,  8, 23,  7, 22,  0, 18, 10, 30,  0, 15, 18, 25,  9, 20,  0,\n",
       "        22, 20, 13,  5, 17, 11, 23, 15,  5, 20, 33, 31, 20, 13, 26, 30, 17,  8,\n",
       "        30, 17,  0, 23, 19, 19,  9, 20,  0, 22, 20, 13,  5, 17, 11, 23, 15,  5,\n",
       "        20, 33, 31, 20, 13, 26,  0,  1, 21,  9,  9, 33, 31, 20, 13, 26, 33, 23,\n",
       "        15, 22, 13, 19, 15, 13,  7, 31, 34, 17, 30, 17,  8, 33, 31, 20, 13, 26,\n",
       "         0,  8,  9,  7, 18, 16, 19, 18, 21, 13, 22, 34, 17,  2,  4, 35])"
      ]
     },
     "execution_count": 7,
     "metadata": {},
     "output_type": "execute_result"
    }
   ],
   "source": [
    "eot = tok.eot_id\n",
    "tokens = []\n",
    "for example in [raw_example_1, raw_example_2]:\n",
    "    tokens.extend([eot])\n",
    "    tokens.extend(tok.encode(example.lower()))\n",
    "all_tokens = torch.tensor(tokens, dtype=torch.long)\n",
    "all_tokens"
   ]
  },
  {
   "cell_type": "markdown",
   "id": "775f0cb1-fdac-400c-a80d-1a5da154434c",
   "metadata": {},
   "source": [
    "# Modeling"
   ]
  },
  {
   "cell_type": "markdown",
   "id": "30bd76b6-dfd5-4f08-a289-630af13649f0",
   "metadata": {},
   "source": [
    "A machine learning model forward pass now uses the tokenization information, runs several layers of linear algebra on it, and then \"predicts\" the next token. When it is noisy (like you will see in this example), this process results in gibberish.  The training process changes the noise to pattern during the \"backward pass\" as you'll see.    We'll show 3 steps that are focused on training:\n",
    "1. **Data Loading** `x, y = train_loader.next_batch()` - this step pulls from the raw data enough tokens to complete a forward and backward pass.  If the model is inference only, this step is replaced with taking in the inference input and preparing it similarly as the forward pass.\n",
    "2. **Forward Pass** `logits, loss = model(x, y)` - using the data and the model architecture to predict the next token. When training we also compare against the expected to get loss, but in infrerence, we use the logits to complete the inference task.\n",
    "3. **Back Propagation, aka Backward Pass & Training** `loss.backward(); optimizer.step()` - using differentials to understand what parameters most impact the forward pass' impact on its prediction, comparing that against what is actually right based on the data loading step, and then making very minor adjustments to the impactful parameters with the hope it improves future predictions.\n",
    "\n",
    "The we'll show a final **Forward Pass** with the updated weights we did in #3. "
   ]
  },
  {
   "cell_type": "markdown",
   "id": "6da8d4c4-ae00-465d-ae6f-ea6e1be858f0",
   "metadata": {
    "jp-MarkdownHeadingCollapsed": true
   },
   "source": [
    "## Data Loading"
   ]
  },
  {
   "cell_type": "markdown",
   "id": "209d7e34-19d0-4c9b-bc7c-b89c09052167",
   "metadata": {},
   "source": [
    "To start, we need to get enough data to run the forward and backward passes.  Since our total dataset is likely too big to hold all at once in real practice, we would read just enough file information into memory so that we can run the passes, leaving memory and compute to be used on the passes instead of static data holding. \n",
    "To start, we have to identify the batch size and the model context length to determine how much data we need.  Consequently, these dimensions also form 2 of the 3 dimensions in the initial matrix.\n",
    "- **Batch Size (B)** - This is the number of examples you'll train on in a single pass. \n",
    "- **Context Length (T)** - This is the max number of tokens that a model can use in a single pass to generate the next token. If an example is below this length, it can be padded.\n",
    "  \n",
    "*Ideally both B and T are multiples of 2 to work nicely with chip architecture. This is a common theme across the board*"
   ]
  },
  {
   "cell_type": "code",
   "execution_count": 8,
   "id": "1349878b-f4cd-4691-93fc-f8f2d76cb28a",
   "metadata": {},
   "outputs": [],
   "source": [
    "B = 2 # Batch\n",
    "T = 8 # context length"
   ]
  },
  {
   "cell_type": "markdown",
   "id": "96920d53-8372-4f67-a6c2-289dd385690c",
   "metadata": {},
   "source": [
    "To start, we need to pull from our long raw_token list enough tokens for the forward pass. To be able to satisfy training `B` Batches `T` Context length, we need to pull out `B*T` tokens to slide the context window across the examples enough to satisfy the batch size.  Since the training will attempt to predict the last token given the previous tokens in context, we also need 1 more token at the end so that the last training example in the last batch can have the next token to validate against. "
   ]
  },
  {
   "cell_type": "code",
   "execution_count": 9,
   "id": "0eda05fa-9c31-4618-ae8c-ed1317467795",
   "metadata": {},
   "outputs": [
    {
     "data": {
      "text/plain": [
       "tensor([35, 15, 32,  9,  5, 20, 30, 15, 11,  9,  6, 20,  5,  0, 13, 21,  0])"
      ]
     },
     "execution_count": 9,
     "metadata": {},
     "output_type": "execute_result"
    }
   ],
   "source": [
    "current_position = 0\n",
    "tok_for_training = all_tokens[current_position:current_position + B*T +1 ]\n",
    "tok_for_training"
   ]
  },
  {
   "cell_type": "markdown",
   "id": "665501c6-08d2-4e76-b672-a22d40d529f1",
   "metadata": {},
   "source": [
    "Now that we have our initial tokens to train on, we now need to convert it to a matrix that's ready for training. In this step we'll need to create our batches and setup two different arrays: 1/ the input, `x`, tokens that will result in 2/ the output `y` tokens. To create each example in the batch, every `T` tokens will be placed into its own row. \n",
    "\n",
    "Recall that training takes in a string of tokens the length of the context and then predicts the next token. Recall that when we extracted `tok_for_training` we added 1 extra token so that we can evaluate the prediction for the last example. Because of this, the input, `x`, will be all of the tokens up to the second to last element `[:-1]`.  \n",
    "\n",
    "It might be natural to think the output `y` would then just be the last token.But this is actually wasting valuable training loops.  Yes, there is the example that fills the context `T`, but we also have enough tokens in `tok_for_training` where any context length of `n` where `n<T` can also be used for inference since we have the `n+1` token available.  You can think of the following example:\n",
    "\n",
    "sentence: `Hi I am learning`. This sentence contains the following \"next tokens\" that can be learned:\n",
    "1. x: Hi I am  | y: learning\n",
    "2. x: Hi I     | y: am\n",
    "3. x: Hi       | y: I\n",
    "\n",
    "Because we have this triangle to create, our `y` can be much larger.  We can start with the second token and, go all the way to the last element we added for the last example `[1:'`.   \n",
    "\n",
    "\n",
    "We will now put this together and do the following:\n",
    "1. Extract the input `x` and then split it into an example for each batch `B`\n",
    "2. Extract the output `y` and then split it into an example for each batch `B`\n",
    "\n",
    "*Note: View can take `-1` which allows the matrix to infer the dimension so we do not need to pass in `T`, but given how many matrices we'll work with we want to make sure we're controlling the dimensions or erroring out if they do not match our expectations.*"
   ]
  },
  {
   "cell_type": "code",
   "execution_count": 10,
   "id": "f36ec177-74d7-4cb9-b84d-75a10a6c6694",
   "metadata": {},
   "outputs": [
    {
     "data": {
      "text/plain": [
       "tensor([[35, 15, 32,  9,  5, 20, 30, 15],\n",
       "        [11,  9,  6, 20,  5,  0, 13, 21]])"
      ]
     },
     "execution_count": 10,
     "metadata": {},
     "output_type": "execute_result"
    }
   ],
   "source": [
    "x=tok_for_training[:-1].view(B, T)\n",
    "x"
   ]
  },
  {
   "cell_type": "code",
   "execution_count": 11,
   "id": "f8d87eb2-5bc8-44cb-80d4-806c3a3bf93d",
   "metadata": {},
   "outputs": [
    {
     "data": {
      "text/plain": [
       "tensor([[15, 32,  9,  5, 20, 30, 15, 11],\n",
       "        [ 9,  6, 20,  5,  0, 13, 21,  0]])"
      ]
     },
     "execution_count": 11,
     "metadata": {},
     "output_type": "execute_result"
    }
   ],
   "source": [
    "y=tok_for_training[1:].view(B, T)\n",
    "y"
   ]
  },
  {
   "cell_type": "markdown",
   "id": "2fd96f05-28c7-482a-bd47-d8226e65d235",
   "metadata": {},
   "source": [
    "## Forward pass"
   ]
  },
  {
   "cell_type": "markdown",
   "id": "9e57349b-3625-46e2-9da3-7a1fbccb43b2",
   "metadata": {},
   "source": [
    "<img src=\"explainer_screenshots/lstm/full_network.png\" width=\"200\">\n",
    "\n",
    "During training, the forward pass takes a string of tokens in and predicts the likelihood that each output token is the next \"n\" tokens.  This step as we'll look at it is focused on training where we'll pass in the input `x`, carry that input through the layers, and generate a matrix of the probability of each token being the next one, something we call `logits`. During the forward pass, since this is an RNN, we will actually pass each example through recursively based on the token length of available. For example, if we have 3 tokens in the example and we are deriving the 4th, we would hit our LSTM block 3 times through:\n",
    "1. First with the embedding for the token `[0]` and no previous token\n",
    "2. Then with the embedding for the token `[1]` and the output of the LSTM unit's processing of token `[0]` as the previous $H_{T-1}$\n",
    "3. Finally with the embedding for the token `[2]` and the output of the LSTM unit's processing of token `[1]` as the previous $H_{T-1}$\n",
    "\n",
    "At the end of the forward pass at the end we then compare the probability to the actual next token in `y` and calculate `loss` based on the difference. \n",
    "\n",
    "*Note that we will do some layer initialization to simplify following along.  In reality layers are often initialized to normal distribution with some adjustments made for parameter sizes to keep the weights properly noisy.  We will not cover initialization in this series*\n",
    "\n",
    "We first rederive the batch size and context size based on the input to improve flexibility."
   ]
  },
  {
   "cell_type": "code",
   "execution_count": 12,
   "id": "83e785e1-7328-4b6f-83f9-a98247f06bde",
   "metadata": {},
   "outputs": [],
   "source": [
    "import torch.nn as nn"
   ]
  },
  {
   "cell_type": "code",
   "execution_count": 13,
   "id": "fa762304-604b-458a-b0d5-2d787de76448",
   "metadata": {},
   "outputs": [
    {
     "data": {
      "text/plain": [
       "(2, 8)"
      ]
     },
     "execution_count": 13,
     "metadata": {},
     "output_type": "execute_result"
    }
   ],
   "source": [
    "B_batch, T_context = x.size()\n",
    "B_batch, T_context"
   ]
  },
  {
   "cell_type": "code",
   "execution_count": 14,
   "id": "2a6d9984-9890-4b37-b538-5a09fdb7efed",
   "metadata": {},
   "outputs": [
    {
     "data": {
      "text/plain": [
       "(4, 36)"
      ]
     },
     "execution_count": 14,
     "metadata": {},
     "output_type": "execute_result"
    }
   ],
   "source": [
    "n_embd = 4 # level of embedding of input tokens\n",
    "n_embd, vocab_size"
   ]
  },
  {
   "cell_type": "markdown",
   "id": "3fbc6e54-7bdf-4518-87de-856d062c94ff",
   "metadata": {},
   "source": [
    "### Input Layer"
   ]
  },
  {
   "cell_type": "markdown",
   "id": "3bf3ccab-d62d-41f8-9539-4a257e9ca2a8",
   "metadata": {},
   "source": [
    "<img src=\"explainer_screenshots/lstm/input_layer.png\" width=\"200\">\n",
    "\n",
    "We'll first create an initial **embedding layer** for our input tokens.  Since the RNN iteratively processes input data, position embedding info is not needed, though, it can always be added to give the model more depth. The embedding weights are `vocab_size X n_embd` and simply store weights that correspond with each token.  The more embedding layers added the more complex data the model can learn. After the embedding layer we'll then perform dropout. The **dropout layer** simply applies 0's  randomly up to the defined level percentage and normalizes the remaining probabilities in the row. Since RNNs recycle the same parameters across timesteps, features can co-adapt and overfit quickly. Variational dropout breaks these temporal co-adaptations and adds needed noise where there’s little implicit regularization. Other model architectures like transformers have strong built-in stabilizers (LayerNorm, residuals, attention) and massive pretraining, so they generally need far less dropout. \n",
    "\n"
   ]
  },
  {
   "cell_type": "markdown",
   "id": "1978456a-c933-45be-84bd-ac109731319d",
   "metadata": {},
   "source": [
    "**Embedding** \n",
    "\n",
    "To start we'll initialize our embeddings with a weight of 1.000 so that all inputs are equally weighted. We'll also set our embedding dimension to 4 to allow for some levels of complexity. Since our initiation weights are equal, we expect that the output of embedding will for now be equal"
   ]
  },
  {
   "cell_type": "code",
   "execution_count": 15,
   "id": "be607d75-1447-4339-9145-0f18f7e294b2",
   "metadata": {},
   "outputs": [
    {
     "data": {
      "text/plain": [
       "Parameter containing:\n",
       "tensor([[1., 1., 1., 1.],\n",
       "        [1., 1., 1., 1.],\n",
       "        [1., 1., 1., 1.],\n",
       "        [1., 1., 1., 1.],\n",
       "        [1., 1., 1., 1.],\n",
       "        [1., 1., 1., 1.],\n",
       "        [1., 1., 1., 1.],\n",
       "        [1., 1., 1., 1.],\n",
       "        [1., 1., 1., 1.],\n",
       "        [1., 1., 1., 1.],\n",
       "        [1., 1., 1., 1.],\n",
       "        [1., 1., 1., 1.],\n",
       "        [1., 1., 1., 1.],\n",
       "        [1., 1., 1., 1.],\n",
       "        [1., 1., 1., 1.],\n",
       "        [1., 1., 1., 1.],\n",
       "        [1., 1., 1., 1.],\n",
       "        [1., 1., 1., 1.],\n",
       "        [1., 1., 1., 1.],\n",
       "        [1., 1., 1., 1.],\n",
       "        [1., 1., 1., 1.],\n",
       "        [1., 1., 1., 1.],\n",
       "        [1., 1., 1., 1.],\n",
       "        [1., 1., 1., 1.],\n",
       "        [1., 1., 1., 1.],\n",
       "        [1., 1., 1., 1.],\n",
       "        [1., 1., 1., 1.],\n",
       "        [1., 1., 1., 1.],\n",
       "        [1., 1., 1., 1.],\n",
       "        [1., 1., 1., 1.],\n",
       "        [1., 1., 1., 1.],\n",
       "        [1., 1., 1., 1.],\n",
       "        [1., 1., 1., 1.],\n",
       "        [1., 1., 1., 1.],\n",
       "        [1., 1., 1., 1.],\n",
       "        [1., 1., 1., 1.]], requires_grad=True)"
      ]
     },
     "execution_count": 15,
     "metadata": {},
     "output_type": "execute_result"
    }
   ],
   "source": [
    "wte = nn.Embedding(vocab_size, n_embd)\n",
    "torch.nn.init.ones_(wte.weight)\n",
    "wte.weight"
   ]
  },
  {
   "cell_type": "code",
   "execution_count": 16,
   "id": "10b37914-4be6-4ed6-ad7b-daa43db954ad",
   "metadata": {},
   "outputs": [
    {
     "data": {
      "text/plain": [
       "(torch.Size([2, 8, 4]),\n",
       " tensor([[[1., 1., 1., 1.],\n",
       "          [1., 1., 1., 1.],\n",
       "          [1., 1., 1., 1.],\n",
       "          [1., 1., 1., 1.],\n",
       "          [1., 1., 1., 1.],\n",
       "          [1., 1., 1., 1.],\n",
       "          [1., 1., 1., 1.],\n",
       "          [1., 1., 1., 1.]],\n",
       " \n",
       "         [[1., 1., 1., 1.],\n",
       "          [1., 1., 1., 1.],\n",
       "          [1., 1., 1., 1.],\n",
       "          [1., 1., 1., 1.],\n",
       "          [1., 1., 1., 1.],\n",
       "          [1., 1., 1., 1.],\n",
       "          [1., 1., 1., 1.],\n",
       "          [1., 1., 1., 1.]]], grad_fn=<EmbeddingBackward0>))"
      ]
     },
     "execution_count": 16,
     "metadata": {},
     "output_type": "execute_result"
    }
   ],
   "source": [
    "x = wte(x)\n",
    "x.shape, x"
   ]
  },
  {
   "cell_type": "markdown",
   "id": "7bf83182-f32a-4da0-93c8-8bb4f41cce49",
   "metadata": {},
   "source": [
    "### Dropout\n",
    "\n",
    "Now, before our Recurrent unit, we'll perform dropout. Dropout will randomly zero out any value effectively removing that specific node from impacting prediction. Since this is Bernoulli based dropout, in addition to zeroing out weights the surviving entries are scaled by $1/(1-p)$. During training this helps with generalization and fights fixation. You can quickly see the dropout's impact on the embeddings. "
   ]
  },
  {
   "cell_type": "code",
   "execution_count": 17,
   "id": "cfa012d0-91b1-474d-b961-ebfb4ef1889f",
   "metadata": {},
   "outputs": [
    {
     "data": {
      "text/plain": [
       "Dropout(p=0.1, inplace=False)"
      ]
     },
     "execution_count": 17,
     "metadata": {},
     "output_type": "execute_result"
    }
   ],
   "source": [
    "dropout = nn.Dropout(0.1)\n",
    "dropout"
   ]
  },
  {
   "cell_type": "code",
   "execution_count": 18,
   "id": "29b56d86-9cfe-4b21-ba08-1b1dba07fc46",
   "metadata": {},
   "outputs": [
    {
     "data": {
      "text/plain": [
       "tensor([[[1.1111, 1.1111, 1.1111, 1.1111],\n",
       "         [1.1111, 1.1111, 1.1111, 1.1111],\n",
       "         [1.1111, 1.1111, 1.1111, 1.1111],\n",
       "         [1.1111, 1.1111, 1.1111, 1.1111],\n",
       "         [1.1111, 1.1111, 1.1111, 1.1111],\n",
       "         [1.1111, 0.0000, 1.1111, 1.1111],\n",
       "         [1.1111, 1.1111, 1.1111, 1.1111],\n",
       "         [0.0000, 1.1111, 1.1111, 1.1111]],\n",
       "\n",
       "        [[1.1111, 1.1111, 1.1111, 1.1111],\n",
       "         [1.1111, 0.0000, 1.1111, 1.1111],\n",
       "         [1.1111, 1.1111, 1.1111, 1.1111],\n",
       "         [1.1111, 1.1111, 1.1111, 0.0000],\n",
       "         [1.1111, 1.1111, 1.1111, 1.1111],\n",
       "         [1.1111, 0.0000, 1.1111, 1.1111],\n",
       "         [1.1111, 1.1111, 1.1111, 1.1111],\n",
       "         [1.1111, 1.1111, 1.1111, 1.1111]]], grad_fn=<MulBackward0>)"
      ]
     },
     "execution_count": 18,
     "metadata": {},
     "output_type": "execute_result"
    }
   ],
   "source": [
    "x = dropout(x)\n",
    "x"
   ]
  },
  {
   "cell_type": "markdown",
   "id": "c9443d17-96e5-4854-9b99-deb9ee747db1",
   "metadata": {},
   "source": [
    "### Recurrent Unit - LSTM"
   ]
  },
  {
   "cell_type": "markdown",
   "id": "8b9c2ecb-580d-402c-b932-f00d799ab5b1",
   "metadata": {},
   "source": [
    "<img src=\"explainer_screenshots/lstm/lstm_details.png\" width=\"600\">\n",
    "\n",
    "The recurrent unit we'll explore in this notebook is the Long-term Short-term memory unit, or LSTM.  Like other recurrent units, this acts iteratively on specific time points of X labeled $X_t$.  If there are more time points, for us meaning more tokens in the string, the unit then takes in that weight, represented as $H_{prev}$, and the next time point, represented again as $X_t$ and reruns the unit, until all time points are exhausted. \n",
    "\n",
    "Our recurrent unit in this case creates 2 outputs: the *memory cell* $C_t$ and the *hidden state* $H_t$.  During recursion, both are input in parallel with our input context $X_t$ and maintained with the memory cell acting as our long term memory but once recursion is complete only the hidden state moves forward.  \n",
    "\n",
    "To manage the impact of the input context $X_t$, memory cell $C_t$ and hidden state $H_t$, LSTMs use 3 gates: input gate $I_t$, forget gate $F_t$, and output gate $O_t$. These gates created by simply applying a linearization and summation to the input context and incoming hidden state,  are wrapped in sigmoid function pushing their values to between $\\left(0,1\\right)$ act as learnable proportions that control how much of each of the input, memory, and hidden state are maintained in a recursion.  By having these 3 gates combined with the use of the Hadamard product to force gradients down to an element-wise level, during training RNNs can learn the impacts of a token and pattern whether its in the context window or if it's been previously seen. You can think of the gates as being a learnable Switch that says \"when making a prediction of Y, how much of X should I use and how much of the history should I use\".  With LSTMs, as the name implies, we have 2 types of history, the long term \n",
    "\n",
    "Mentally, the **Input Gate** $I_t$ determines how much a given input, we'll call the input state $\\tilde{C}$, should be added to the memory cell $C_t$, and, by extension, the hidden state $H_t$.  The input state for us will be a combination of the input context $X_t$ and incoming hidden state $H_t$  as the point of RNNs is to use both the incoming context and the longer term context to make a prediction for the output.  We do this by doing a linearization and summation to the input context and incoming hidden state and then normalizing using $tanh$ to squeeze the values to $\\left(-1,1\\right)$. \n",
    "\n",
    "The remaining part of the memory cell  uses the **Forget Gate** $F_t$.  The forget gate controls how much of the current longer term memory is retained or forgotten during the memory cell update.  The forget gate is multiplied, using the Hadamard product, by the incoming memory cell $C_t$. This product is then summed with the Hadamard product of the input gate and input state to result in our updated memory cell $C_{t+1}$\n",
    "\n",
    "The **Output Gate** $O_t$ then determines how much of the memory cell to use to  influence the current time steps updated hidden step $H_{t+1}$.  To get the hidden step update, we take the Hadamard product of the output gate with a $tanh$ normalization of the memory state which pulls the values to $\\left(-1,1\\right)$.\n",
    "\n",
    "All together this results in the following:\n",
    "\n",
    "$$\n",
    "\\begin{align}\n",
    "I_t &= \\sigma\\!\\left(X_t W_{xi} + H_{t} W_{hi} + b_i\\right)\\ \\ \\ \\ \\text{Input Gate},\\\\\n",
    "F_t &= \\sigma\\!\\left(X_t W_{xf} + H_{t} W_{hf} + b_f\\right)\\ \\ \\ \\ \\text{Forget Gate},\\\\\n",
    "O_t &= \\sigma\\!\\left(X_t W_{xo} + H_{t} W_{ho} + b_z\\right)\\ \\ \\ \\ \\text{Output Gate},\\\\\n",
    "\\\\\n",
    "\\tilde{C} &= tanh\\!\\left(X_t W_{xc} + H_{t} W_{hc} + b_c\\right),\\\\\n",
    "C_{t+1} &= F_t\\odot C_t + I_t\\odot \\tilde{C},\\\\\n",
    "H_{t+1} &= O_t\\odot tanh\\left(C_{t+1}\\right).\\\\\n",
    "\\end{align}\n",
    "$$"
   ]
  },
  {
   "cell_type": "markdown",
   "id": "e0138029-919b-4752-ab26-ed276e0d870b",
   "metadata": {},
   "source": [
    "Mathematically this gives us a nice simple set of formulas, but we need to actually write this as a program. If we look closely we have 4 sets of weights acting, 3 for the gates, and 1 for the input state:\n",
    "* the input $X_t$: $\\{W_{xi}, W_{xf}, W_{xo}, W_{xc}\\}$. *Notice the subscript is \"x\\<gate or state>\"*\n",
    "* the previous $H_{prev}$: $\\{W_{hi}, W_{hf}, W_{ho}, W_{hc}\\}$.\n",
    "\n",
    "To simplify this weight we'll start by creating a linear later that has 4x the hidden layers, separate it, and then complete the rest of the calculations. This allows us to gain efficiencies in learning and improve our code readability.  The algorithmic representation then looks as follows:\n",
    "\n",
    "```\n",
    "xi, xf, xo, xc = x2g(x_t).split(hidden_size, dim=-1)\n",
    "hi, hf, ho, hc = h2g(h_prev).split(hidden_size, dim=-1)\n",
    "\n",
    "#input, forget, and output gate \n",
    "input_gate =  torch.sigmoid(xi + hi)\n",
    "forget_gate =  torch.sigmoid(xf + hf)\n",
    "output_gate =  torch.sigmoid(xo + ho)\n",
    "\n",
    "input_state = torch.tanh(xc + hc)\n",
    "\n",
    "c_next = (forget_gate*c_t) + (input_gate*input_state)\n",
    "h_next = output_gate * torch.tanh(c_next)\n",
    "```\n",
    "**Starting Example** While LSTMs are iterative, we'll first walk through 2 pass of the LSTM. After that we'll show the loop for the rest of the context window/examples. This will help us understand what is happening inside a pass and then how the impact of the weights adds up over the context length. To keep things simple we'll set the `hidden_size` to 3. Let's start by initiating our weights.  To visualize the impact of each set of weights, I'll initialize the current context and the previous context weights to two different values."
   ]
  },
  {
   "cell_type": "code",
   "execution_count": 19,
   "id": "d21e8264-8bef-4002-af8e-fb022891468e",
   "metadata": {},
   "outputs": [],
   "source": [
    "hidden_size = 3"
   ]
  },
  {
   "cell_type": "code",
   "execution_count": 20,
   "id": "eb643927-6944-4785-ac3a-935d1f08b17e",
   "metadata": {},
   "outputs": [
    {
     "data": {
      "text/plain": [
       "(torch.Size([12, 4]),\n",
       " Parameter containing:\n",
       " tensor([[0.5000, 0.5000, 0.5000, 0.5000],\n",
       "         [0.5000, 0.5000, 0.5000, 0.5000],\n",
       "         [0.5000, 0.5000, 0.5000, 0.5000],\n",
       "         [0.5000, 0.5000, 0.5000, 0.5000],\n",
       "         [0.5000, 0.5000, 0.5000, 0.5000],\n",
       "         [0.5000, 0.5000, 0.5000, 0.5000],\n",
       "         [0.5000, 0.5000, 0.5000, 0.5000],\n",
       "         [0.5000, 0.5000, 0.5000, 0.5000],\n",
       "         [0.5000, 0.5000, 0.5000, 0.5000],\n",
       "         [0.5000, 0.5000, 0.5000, 0.5000],\n",
       "         [0.5000, 0.5000, 0.5000, 0.5000],\n",
       "         [0.5000, 0.5000, 0.5000, 0.5000]], requires_grad=True),\n",
       " torch.Size([12]),\n",
       " Parameter containing:\n",
       " tensor([0., 0., 0., 0., 0., 0., 0., 0., 0., 0., 0., 0.], requires_grad=True))"
      ]
     },
     "execution_count": 20,
     "metadata": {},
     "output_type": "execute_result"
    }
   ],
   "source": [
    "x2g = nn.Linear(n_embd, 4 * hidden_size, bias=True)\n",
    "torch.nn.init.constant_(x2g.weight, 0.500)\n",
    "torch.nn.init.zeros_(x2g.bias)\n",
    "x2g.weight.size(), x2g.weight, x2g.bias.size(), x2g.bias"
   ]
  },
  {
   "cell_type": "code",
   "execution_count": 21,
   "id": "5cd4aed3-b539-488f-a4ea-0f081ebc100b",
   "metadata": {},
   "outputs": [
    {
     "data": {
      "text/plain": [
       "(torch.Size([12, 3]),\n",
       " Parameter containing:\n",
       " tensor([[0.2500, 0.2500, 0.2500],\n",
       "         [0.2500, 0.2500, 0.2500],\n",
       "         [0.2500, 0.2500, 0.2500],\n",
       "         [0.2500, 0.2500, 0.2500],\n",
       "         [0.2500, 0.2500, 0.2500],\n",
       "         [0.2500, 0.2500, 0.2500],\n",
       "         [0.2500, 0.2500, 0.2500],\n",
       "         [0.2500, 0.2500, 0.2500],\n",
       "         [0.2500, 0.2500, 0.2500],\n",
       "         [0.2500, 0.2500, 0.2500],\n",
       "         [0.2500, 0.2500, 0.2500],\n",
       "         [0.2500, 0.2500, 0.2500]], requires_grad=True),\n",
       " torch.Size([12]),\n",
       " Parameter containing:\n",
       " tensor([0., 0., 0., 0., 0., 0., 0., 0., 0., 0., 0., 0.], requires_grad=True))"
      ]
     },
     "execution_count": 21,
     "metadata": {},
     "output_type": "execute_result"
    }
   ],
   "source": [
    "h2g = nn.Linear(hidden_size, 4 * hidden_size, bias=True)\n",
    "torch.nn.init.constant_(h2g.weight, 0.250)\n",
    "torch.nn.init.zeros_(h2g.bias)\n",
    "h2g.weight.size(), h2g.weight, h2g.bias.size(), h2g.bias"
   ]
  },
  {
   "cell_type": "markdown",
   "id": "6abb3605-3815-4c0b-ba74-2705e5d4ad20",
   "metadata": {},
   "source": [
    "#### LSTM - Frist Pass"
   ]
  },
  {
   "cell_type": "markdown",
   "id": "a14ec0de-3e2d-417a-a013-63a8feb52ccd",
   "metadata": {},
   "source": [
    "##### LSTM - Initialize the hidden state and memory cell $\n",
    "Let's start first by setting up our starting hidden state and memory cell weights.  Since we are at 'time 0' in training, there are no previous states or memory yet. Because of this we'll actually set them to 0's so that there is no impact from a previous state and all of the inference prediction comes from `x_t`. "
   ]
  },
  {
   "cell_type": "code",
   "execution_count": 22,
   "id": "2a467e8f-19c3-4e2b-bb38-fa160c4cc9cd",
   "metadata": {},
   "outputs": [],
   "source": [
    "h_next = torch.zeros(B_batch, hidden_size) \n",
    "c_next = torch.zeros(B_batch, hidden_size) "
   ]
  },
  {
   "cell_type": "markdown",
   "id": "04ea925e-09b9-423c-994c-28bb2061765d",
   "metadata": {},
   "source": [
    "##### LSTM - Weight calculation and incoming linearization\n",
    "\n",
    "Now we'll calculate the impact of the weights by our input `x_t` and hidden layer `h_t` \n",
    "We'll then pass these variables into the linear layer to perform $Ax+b$ and split the result it up into our 4 different linear units. Notice that because our hidden state is currently 0, the weights returned are all 0. In future recursions, these weights will no longer be 0.  \n",
    "\n",
    "Currently our incoming `x` has all 8 examples for our context windows across the 2 batches. With LSTM's we can only feed in 1 example at a time and, since we want sequential weights, 1 token at a time, though we can do multiple batches at a time.  Luckily our examples are incremental (example 1 is token 1, example 2 is tokens 1 and 2) so we can iteratively calculate our LSTM weights per example and use that collectively as the weight for each example.  But to start we'll need to extract just the example for the first time  period `t=0` into `x_t` for each batch and calculate our weights. Since our weights are 1/2 for each value of the cell, you can see that when we multiply that by the example each weight remains consistent. If dropout is observed, the values in each batch can be different, but they'll be the same across the example. \n",
    "\n",
    "Finally, we'll set our memory cell `c_t` to equal the `c_next` we initialized. As a reminder, we've set it to 0"
   ]
  },
  {
   "cell_type": "code",
   "execution_count": 23,
   "id": "63fc6b3c-49e8-4802-aa72-1f601f72d8ee",
   "metadata": {},
   "outputs": [
    {
     "data": {
      "text/plain": [
       "(torch.Size([2, 4]),\n",
       " tensor([[1.1111, 1.1111, 1.1111, 1.1111],\n",
       "         [1.1111, 1.1111, 1.1111, 1.1111]], grad_fn=<SliceBackward0>))"
      ]
     },
     "execution_count": 23,
     "metadata": {},
     "output_type": "execute_result"
    }
   ],
   "source": [
    "t = 0\n",
    "x_t = x[:, t, :]\n",
    "x_t.size(), x_t"
   ]
  },
  {
   "cell_type": "code",
   "execution_count": 24,
   "id": "c1fa665f-42a4-47db-bd43-b6a8a760ab6e",
   "metadata": {},
   "outputs": [
    {
     "data": {
      "text/plain": [
       "(torch.Size([2, 3]),\n",
       " tensor([[0., 0., 0.],\n",
       "         [0., 0., 0.]]))"
      ]
     },
     "execution_count": 24,
     "metadata": {},
     "output_type": "execute_result"
    }
   ],
   "source": [
    "h_t = h_next\n",
    "h_t.size(), h_t"
   ]
  },
  {
   "cell_type": "code",
   "execution_count": 25,
   "id": "2f205cb6-1154-4068-b016-cdbcb8413912",
   "metadata": {},
   "outputs": [
    {
     "data": {
      "text/plain": [
       "(torch.Size([2, 3]),\n",
       " tensor([[0., 0., 0.],\n",
       "         [0., 0., 0.]]))"
      ]
     },
     "execution_count": 25,
     "metadata": {},
     "output_type": "execute_result"
    }
   ],
   "source": [
    "c_t = c_next\n",
    "c_t.size(), h_t"
   ]
  },
  {
   "cell_type": "markdown",
   "id": "f2131795-baf8-4c4e-9b3b-e4bc473f2bed",
   "metadata": {},
   "source": [
    "**Linear weight calculation** Now we'll do our calcuation of all 4 weights for both the input and hidden state. Note that the memory cell does not receive a weight as it's impacted more by the input and forget gates"
   ]
  },
  {
   "cell_type": "code",
   "execution_count": 26,
   "id": "4d073b52-32ca-4c4c-88c5-4b6117e2a9d1",
   "metadata": {},
   "outputs": [
    {
     "data": {
      "text/plain": [
       "('xi',\n",
       " tensor([[2.2222, 2.2222, 2.2222],\n",
       "         [2.2222, 2.2222, 2.2222]], grad_fn=<SplitBackward0>),\n",
       " torch.Size([2, 3]),\n",
       " 'xf',\n",
       " tensor([[2.2222, 2.2222, 2.2222],\n",
       "         [2.2222, 2.2222, 2.2222]], grad_fn=<SplitBackward0>),\n",
       " torch.Size([2, 3]),\n",
       " 'xo',\n",
       " tensor([[2.2222, 2.2222, 2.2222],\n",
       "         [2.2222, 2.2222, 2.2222]], grad_fn=<SplitBackward0>),\n",
       " torch.Size([2, 3]),\n",
       " 'xc',\n",
       " tensor([[2.2222, 2.2222, 2.2222],\n",
       "         [2.2222, 2.2222, 2.2222]], grad_fn=<SplitBackward0>),\n",
       " torch.Size([2, 3]))"
      ]
     },
     "execution_count": 26,
     "metadata": {},
     "output_type": "execute_result"
    }
   ],
   "source": [
    "xi, xf, xo, xc = x2g(x_t).split(hidden_size, dim=-1)\n",
    "'xi',xi,xi.size(),'xf',xf,xf.size(),'xo',xo,xo.size(),'xc',xc,xc.size()\n"
   ]
  },
  {
   "cell_type": "code",
   "execution_count": 27,
   "id": "a5d33f2a-3471-434b-8441-8d41befd55c3",
   "metadata": {},
   "outputs": [
    {
     "data": {
      "text/plain": [
       "('hi',\n",
       " tensor([[0., 0., 0.],\n",
       "         [0., 0., 0.]], grad_fn=<SplitBackward0>),\n",
       " torch.Size([2, 3]),\n",
       " 'hf',\n",
       " tensor([[0., 0., 0.],\n",
       "         [0., 0., 0.]], grad_fn=<SplitBackward0>),\n",
       " torch.Size([2, 3]),\n",
       " 'ho',\n",
       " tensor([[0., 0., 0.],\n",
       "         [0., 0., 0.]], grad_fn=<SplitBackward0>),\n",
       " torch.Size([2, 3]),\n",
       " 'hc',\n",
       " tensor([[0., 0., 0.],\n",
       "         [0., 0., 0.]], grad_fn=<SplitBackward0>),\n",
       " torch.Size([2, 3]))"
      ]
     },
     "execution_count": 27,
     "metadata": {},
     "output_type": "execute_result"
    }
   ],
   "source": [
    "hi, hf, ho, hc = h2g(h_t).split(hidden_size, dim=-1)\n",
    "'hi',hi,hi.size(),'hf',hf,hf.size(),'ho',ho,ho.size(),'hc',hc,hc.size()\n"
   ]
  },
  {
   "cell_type": "markdown",
   "id": "90888bbb-46bb-4739-a692-d01affb809f9",
   "metadata": {},
   "source": [
    "##### LSTM - Input $I_{t}$, Forget $F_{t}$, and Output $O_{t}$ Gates\n",
    "Recall that the gates in an LSTM controls how much the input state and memory cell persist for the next memory cell and update state. We derive the gates using:\n",
    "$$\n",
    "\\begin{align}\n",
    "I_t = \\sigma\\!\\left(X_t W_{xi} + H_{t} W_{hi} + b_i\\right) \\\\\n",
    "F_t = \\sigma\\!\\left(X_t W_{xf} + H_{t} W_{hf} + b_f\\right) \\\\\n",
    "O_t = \\sigma\\!\\left(X_t W_{xo} + H_{t} W_{ho} + b_z\\right) \\\\\n",
    "\\end{align}\n",
    "$$\n",
    "\n",
    "These gate path will become the learnable weights that act as proportions since we use the sigmoid function to pull the values to between $\\left(0,1\\right)$ [source](https://docs.pytorch.org/docs/stable/generated/torch.sigmoid.html). This is achieved with the following function\n",
    "\n",
    "$\\sigma(x) = \\frac{1}{1 + e^{(-x)}}$\n",
    "\n",
    "You'll notice that all our gates have identical values currently.  This is because we used the consistent initiation on the weights. If there's variance in row values at this point it's due to dropout. "
   ]
  },
  {
   "cell_type": "code",
   "execution_count": 28,
   "id": "ff52ffa4-3b1c-4b4e-9b4a-68edb185d3da",
   "metadata": {},
   "outputs": [
    {
     "data": {
      "text/plain": [
       "(torch.Size([2, 3]),\n",
       " tensor([[0.9022, 0.9022, 0.9022],\n",
       "         [0.9022, 0.9022, 0.9022]], grad_fn=<SigmoidBackward0>))"
      ]
     },
     "execution_count": 28,
     "metadata": {},
     "output_type": "execute_result"
    }
   ],
   "source": [
    "input_gate =  torch.sigmoid(xi + hi)\n",
    "input_gate.size(), input_gate"
   ]
  },
  {
   "cell_type": "code",
   "execution_count": 29,
   "id": "23590259-9364-4c7b-b008-5e2fbf37bda4",
   "metadata": {},
   "outputs": [
    {
     "data": {
      "text/plain": [
       "(torch.Size([2, 3]),\n",
       " tensor([[0.9022, 0.9022, 0.9022],\n",
       "         [0.9022, 0.9022, 0.9022]], grad_fn=<SigmoidBackward0>))"
      ]
     },
     "execution_count": 29,
     "metadata": {},
     "output_type": "execute_result"
    }
   ],
   "source": [
    "forget_gate =  torch.sigmoid(xf + hf)\n",
    "forget_gate.size(), forget_gate"
   ]
  },
  {
   "cell_type": "code",
   "execution_count": 30,
   "id": "243aea3e-56b3-41d2-8475-df718b920fc0",
   "metadata": {},
   "outputs": [
    {
     "data": {
      "text/plain": [
       "(torch.Size([2, 3]),\n",
       " tensor([[0.9022, 0.9022, 0.9022],\n",
       "         [0.9022, 0.9022, 0.9022]], grad_fn=<SigmoidBackward0>))"
      ]
     },
     "execution_count": 30,
     "metadata": {},
     "output_type": "execute_result"
    }
   ],
   "source": [
    "output_gate =  torch.sigmoid(xo + ho)\n",
    "output_gate.size(), output_gate"
   ]
  },
  {
   "cell_type": "markdown",
   "id": "585195e5-dd56-45d3-8c75-7fe5a14cc75c",
   "metadata": {},
   "source": [
    "##### LSTM - Input State $\\tilde{C}$\n",
    "\n",
    "Next we calculate the input state.  This input state represents the impact of the timepoint's specific context with the impact of the incoming hidden state context. It's calculated as follows:\n",
    "\n",
    "$\\tilde{C} = tanh\\!\\left(X_t W_{xc} + H_{t} W_{hc} + b_c\\right)$\n",
    "\n",
    "Note that while this looks similar to our gates, we are using a tanh normalization instead of the sigmoid.  Tanh pulls the values to between $\\left(-1,1\\right)$ [source](https://docs.pytorch.org/docs/stable/generated/torch.tanh.html). This is achieved with the following function:\n",
    "\n",
    "$\\tanh(x) = \\frac{e^x-e^{-x}}{e^x+e^{-x}}$\n",
    "\n",
    "You can see that since the network is currently untrained since the values are the same across the board.  In fact, if we looked at the values currently without the tanh normalization, it would be identical to the gate raw values. With training these values will diverge. "
   ]
  },
  {
   "cell_type": "code",
   "execution_count": 31,
   "id": "083c93ca-a3b4-4524-8c99-d263044a71ba",
   "metadata": {},
   "outputs": [
    {
     "data": {
      "text/plain": [
       "(torch.Size([2, 3]),\n",
       " tensor([[0.9768, 0.9768, 0.9768],\n",
       "         [0.9768, 0.9768, 0.9768]], grad_fn=<TanhBackward0>))"
      ]
     },
     "execution_count": 31,
     "metadata": {},
     "output_type": "execute_result"
    }
   ],
   "source": [
    "input_state = torch.tanh(xc + hc)\n",
    "input_state.size(), input_state"
   ]
  },
  {
   "cell_type": "markdown",
   "id": "3b0f304c-5f4f-432b-9e17-65e3f6562a33",
   "metadata": {},
   "source": [
    "##### LSTM - Memory Cell $C_t$\n",
    "Now we have all the values that are needed to calculate our updated memory cell. Recall that our memory cell acts as the long term memory and is updated by taking the product from forget gate the input memory cell and adding it with the input state. The calculation is as follows:\n",
    "\n",
    "$C_{next} = F_t\\odot C_t + I_t\\odot \\tilde{C}$\n",
    "\n",
    "Recall that currently our memory cell is `0` since we are on the first iteration.  This means that despite having preset non-zero weights on our forget gate, we still won't have any value to remember, meaning that our memory cell becomes equal to our input state. "
   ]
  },
  {
   "cell_type": "code",
   "execution_count": 32,
   "id": "b08ebe32-a407-420c-a95c-2cfef7cf50e4",
   "metadata": {},
   "outputs": [
    {
     "data": {
      "text/plain": [
       "(torch.Size([2, 3]),\n",
       " tensor([[0.8813, 0.8813, 0.8813],\n",
       "         [0.8813, 0.8813, 0.8813]], grad_fn=<MulBackward0>))"
      ]
     },
     "execution_count": 32,
     "metadata": {},
     "output_type": "execute_result"
    }
   ],
   "source": [
    "i_in = input_gate*input_state\n",
    "i_in.size(), i_in"
   ]
  },
  {
   "cell_type": "code",
   "execution_count": 33,
   "id": "2ff419c1-6458-46ce-9fea-44ebfa836d6f",
   "metadata": {},
   "outputs": [
    {
     "data": {
      "text/plain": [
       "(torch.Size([2, 3]),\n",
       " tensor([[0., 0., 0.],\n",
       "         [0., 0., 0.]], grad_fn=<MulBackward0>))"
      ]
     },
     "execution_count": 33,
     "metadata": {},
     "output_type": "execute_result"
    }
   ],
   "source": [
    "f_c = forget_gate*c_t\n",
    "f_c.size(), f_c"
   ]
  },
  {
   "cell_type": "code",
   "execution_count": 34,
   "id": "d85edd8d-b052-4e65-bef7-2aefb8dd6ce4",
   "metadata": {},
   "outputs": [
    {
     "data": {
      "text/plain": [
       "(torch.Size([2, 3]),\n",
       " tensor([[0.8813, 0.8813, 0.8813],\n",
       "         [0.8813, 0.8813, 0.8813]], grad_fn=<AddBackward0>))"
      ]
     },
     "execution_count": 34,
     "metadata": {},
     "output_type": "execute_result"
    }
   ],
   "source": [
    "c_next = f_c + i_in\t\n",
    "c_next.size(), c_next"
   ]
  },
  {
   "cell_type": "markdown",
   "id": "46a69d2a-70d6-4df9-8391-12f98692fe2b",
   "metadata": {},
   "source": [
    "##### LSTM - Hidden State $H_t$ / Recursion output\n",
    "We now have the updated memory cell that's a combination of the incoming memory cell with the incoming state, itself a combination of the incoming input context and hidden state. We've also already calculated the output gate which controlls how much of the memory cell impacts the next hidden state and recursion output. To generate the hidden state we do the following: \n",
    "\n",
    "$H_{next} = O_t\\odot tanh\\left(C_{next}\\right)$\n",
    "\n",
    "\n",
    "We'll first calcualte the tanh of the hidden state. Recall that tanh will squeeze the memory cell values to between $\\left(-1,1\\right)$ with the following function:\n",
    "\n",
    "$\\tanh(x) = \\frac{e^x-e^{-x}}{e^x+e^{-x}}$\n",
    "\n",
    "We'll then take the product of the output gate with that result to generate our recursion output. In this case, since this is not the final recursion this output becomes the next recursion's incoming hidden state. You'll notice again very consistent behavior since our weights are initialized consistently across all gates. "
   ]
  },
  {
   "cell_type": "code",
   "execution_count": 35,
   "id": "377016e0-fe1d-4ac6-ac26-f4c27708d7f3",
   "metadata": {},
   "outputs": [
    {
     "data": {
      "text/plain": [
       "(torch.Size([2, 3]),\n",
       " tensor([[0.7071, 0.7071, 0.7071],\n",
       "         [0.7071, 0.7071, 0.7071]], grad_fn=<TanhBackward0>))"
      ]
     },
     "execution_count": 35,
     "metadata": {},
     "output_type": "execute_result"
    }
   ],
   "source": [
    "tan_c_n = torch.tanh(c_next)\n",
    "tan_c_n.size(), tan_c_n"
   ]
  },
  {
   "cell_type": "code",
   "execution_count": 36,
   "id": "7998ac75-c036-4c28-b4e6-d113cf238fb7",
   "metadata": {},
   "outputs": [
    {
     "data": {
      "text/plain": [
       "(torch.Size([2, 3]),\n",
       " tensor([[0.6379, 0.6379, 0.6379],\n",
       "         [0.6379, 0.6379, 0.6379]], grad_fn=<MulBackward0>))"
      ]
     },
     "execution_count": 36,
     "metadata": {},
     "output_type": "execute_result"
    }
   ],
   "source": [
    "h_next = output_gate*tan_c_n\n",
    "h_next.size(), h_next"
   ]
  },
  {
   "cell_type": "markdown",
   "id": "5088318f-4aa6-47cc-a3c5-3e633b517129",
   "metadata": {},
   "source": [
    "#### LSTM -  Managing examples in a batch\n",
    "Now that we have the weights from our recurrent unit for our first time period `t=0`, since we have more context, we actually have to recur through the rest of the context.  Before we do the next cycle recall that for training we want to take advantage of the fact that each of our batches has an example for each value up to our context length.  We want to train across inputs of various lengths and so, we'll store our current weights that signify an input of just a single token into our context.  As you'll see in our recursion, we'll store the weight at the end of each pass and build up an array of tensors for each example in the batch. to take to our output layer. \n",
    "\n",
    "To start we'll create an empty tensor of `(B x T x hidden_size)`. We'll then update the `[:,t,:]` entry with `h_next` linking back to each recursion. "
   ]
  },
  {
   "cell_type": "code",
   "execution_count": 37,
   "id": "938d60c5-c2b0-44d5-809b-7d7e790c97d6",
   "metadata": {},
   "outputs": [
    {
     "data": {
      "text/plain": [
       "(torch.Size([2, 8, 3]),\n",
       " tensor([[[0., 0., 0.],\n",
       "          [0., 0., 0.],\n",
       "          [0., 0., 0.],\n",
       "          [0., 0., 0.],\n",
       "          [0., 0., 0.],\n",
       "          [0., 0., 0.],\n",
       "          [0., 0., 0.],\n",
       "          [0., 0., 0.]],\n",
       " \n",
       "         [[0., 0., 0.],\n",
       "          [0., 0., 0.],\n",
       "          [0., 0., 0.],\n",
       "          [0., 0., 0.],\n",
       "          [0., 0., 0.],\n",
       "          [0., 0., 0.],\n",
       "          [0., 0., 0.],\n",
       "          [0., 0., 0.]]]))"
      ]
     },
     "execution_count": 37,
     "metadata": {},
     "output_type": "execute_result"
    }
   ],
   "source": [
    "hs = x.new_empty(B_batch, T_context, hidden_size)\n",
    "hs.size(), hs"
   ]
  },
  {
   "cell_type": "markdown",
   "id": "0bf5b508-7022-4e18-ac93-6039eabf65f9",
   "metadata": {},
   "source": [
    "now we'll enter in our first entry at `t=0`"
   ]
  },
  {
   "cell_type": "code",
   "execution_count": 38,
   "id": "5712a754-aaaf-411f-8465-8c9c69569ed1",
   "metadata": {},
   "outputs": [
    {
     "data": {
      "text/plain": [
       "tensor([[[0.6379, 0.6379, 0.6379],\n",
       "         [0.0000, 0.0000, 0.0000],\n",
       "         [0.0000, 0.0000, 0.0000],\n",
       "         [0.0000, 0.0000, 0.0000],\n",
       "         [0.0000, 0.0000, 0.0000],\n",
       "         [0.0000, 0.0000, 0.0000],\n",
       "         [0.0000, 0.0000, 0.0000],\n",
       "         [0.0000, 0.0000, 0.0000]],\n",
       "\n",
       "        [[0.6379, 0.6379, 0.6379],\n",
       "         [0.0000, 0.0000, 0.0000],\n",
       "         [0.0000, 0.0000, 0.0000],\n",
       "         [0.0000, 0.0000, 0.0000],\n",
       "         [0.0000, 0.0000, 0.0000],\n",
       "         [0.0000, 0.0000, 0.0000],\n",
       "         [0.0000, 0.0000, 0.0000],\n",
       "         [0.0000, 0.0000, 0.0000]]], grad_fn=<CopySlices>)"
      ]
     },
     "execution_count": 38,
     "metadata": {},
     "output_type": "execute_result"
    }
   ],
   "source": [
    "hs[:, 0, :] = h_next   \n",
    "hs"
   ]
  },
  {
   "cell_type": "markdown",
   "id": "69f8ceb5-3070-4fdf-851d-51cabee04d71",
   "metadata": {},
   "source": [
    "#### LSTM - Second pass "
   ]
  },
  {
   "cell_type": "markdown",
   "id": "bc5fb533-c74a-4491-8c5c-d79cb32b2a41",
   "metadata": {},
   "source": [
    "Now that we've done the first pass through, let's see how the second pass changes things. The main difference is that in the second pass we'll use the previous pass' outputs,`c_next` & `h_next`, to become the new input memory cell `c_t` and hidden state `h_t`.  This will quickly begin to show the impact now on the gates and calculations as the values are no longer 0 while our X weights are still consistent. We'll start by updating initializing our `h_t` and `w_t` and extracting the next set of inputs for `t=1`.\n",
    "\n",
    "One thing to notice is that despite having a different time period for input `h_t`, the values remain consistent across examples since our initiation weights are uniform.  "
   ]
  },
  {
   "cell_type": "code",
   "execution_count": 39,
   "id": "f79cc3b1-d01d-4e5d-a82f-0b9b0c68ea82",
   "metadata": {},
   "outputs": [
    {
     "data": {
      "text/plain": [
       "(torch.Size([2, 4]),\n",
       " tensor([[1.1111, 1.1111, 1.1111, 1.1111],\n",
       "         [1.1111, 0.0000, 1.1111, 1.1111]], grad_fn=<SliceBackward0>))"
      ]
     },
     "execution_count": 39,
     "metadata": {},
     "output_type": "execute_result"
    }
   ],
   "source": [
    "t = 1\n",
    "x_t = x[:, t, :]\n",
    "x_t.size(), x_t"
   ]
  },
  {
   "cell_type": "code",
   "execution_count": 40,
   "id": "a062d61c-7e7c-4999-a672-23bc3382bfeb",
   "metadata": {},
   "outputs": [
    {
     "data": {
      "text/plain": [
       "(torch.Size([2, 3]),\n",
       " tensor([[0.6379, 0.6379, 0.6379],\n",
       "         [0.6379, 0.6379, 0.6379]], grad_fn=<MulBackward0>))"
      ]
     },
     "execution_count": 40,
     "metadata": {},
     "output_type": "execute_result"
    }
   ],
   "source": [
    "h_t = h_next\n",
    "h_t.size(), h_t"
   ]
  },
  {
   "cell_type": "code",
   "execution_count": 41,
   "id": "88aef728-f946-476f-b037-147b2cdf49d6",
   "metadata": {},
   "outputs": [
    {
     "data": {
      "text/plain": [
       "(torch.Size([2, 3]),\n",
       " tensor([[0.6379, 0.6379, 0.6379],\n",
       "         [0.6379, 0.6379, 0.6379]], grad_fn=<MulBackward0>))"
      ]
     },
     "execution_count": 41,
     "metadata": {},
     "output_type": "execute_result"
    }
   ],
   "source": [
    "c_t = c_next\n",
    "c_t.size(), h_t"
   ]
  },
  {
   "cell_type": "markdown",
   "id": "bafec9b1-1abf-4546-9495-5c1143247972",
   "metadata": {},
   "source": [
    "**LSTM second pass - recalculating weights**\n",
    "\n",
    "Notice that with the updated non-zero hidden state we now see contributions from the dot product of the hidden state weights and hidden state. "
   ]
  },
  {
   "cell_type": "code",
   "execution_count": 42,
   "id": "f62f9687-f337-4f4a-a994-46ab785195fa",
   "metadata": {},
   "outputs": [
    {
     "data": {
      "text/plain": [
       "('xi',\n",
       " tensor([[2.2222, 2.2222, 2.2222],\n",
       "         [1.6667, 1.6667, 1.6667]], grad_fn=<SplitBackward0>),\n",
       " torch.Size([2, 3]),\n",
       " 'xf',\n",
       " tensor([[2.2222, 2.2222, 2.2222],\n",
       "         [1.6667, 1.6667, 1.6667]], grad_fn=<SplitBackward0>),\n",
       " torch.Size([2, 3]),\n",
       " 'xo',\n",
       " tensor([[2.2222, 2.2222, 2.2222],\n",
       "         [1.6667, 1.6667, 1.6667]], grad_fn=<SplitBackward0>),\n",
       " torch.Size([2, 3]),\n",
       " 'xc',\n",
       " tensor([[2.2222, 2.2222, 2.2222],\n",
       "         [1.6667, 1.6667, 1.6667]], grad_fn=<SplitBackward0>),\n",
       " torch.Size([2, 3]))"
      ]
     },
     "execution_count": 42,
     "metadata": {},
     "output_type": "execute_result"
    }
   ],
   "source": [
    "xi, xf, xo, xc = x2g(x_t).split(hidden_size, dim=-1)\n",
    "'xi',xi,xi.size(),'xf',xf,xf.size(),'xo',xo,xo.size(),'xc',xc,xc.size()"
   ]
  },
  {
   "cell_type": "code",
   "execution_count": 43,
   "id": "c8278092-677f-4c5d-b237-66dd779bae1a",
   "metadata": {},
   "outputs": [
    {
     "data": {
      "text/plain": [
       "('hi',\n",
       " tensor([[0.4784, 0.4784, 0.4784],\n",
       "         [0.4784, 0.4784, 0.4784]], grad_fn=<SplitBackward0>),\n",
       " torch.Size([2, 3]),\n",
       " 'hf',\n",
       " tensor([[0.4784, 0.4784, 0.4784],\n",
       "         [0.4784, 0.4784, 0.4784]], grad_fn=<SplitBackward0>),\n",
       " torch.Size([2, 3]),\n",
       " 'ho',\n",
       " tensor([[0.4784, 0.4784, 0.4784],\n",
       "         [0.4784, 0.4784, 0.4784]], grad_fn=<SplitBackward0>),\n",
       " torch.Size([2, 3]),\n",
       " 'hc',\n",
       " tensor([[0.4784, 0.4784, 0.4784],\n",
       "         [0.4784, 0.4784, 0.4784]], grad_fn=<SplitBackward0>),\n",
       " torch.Size([2, 3]))"
      ]
     },
     "execution_count": 43,
     "metadata": {},
     "output_type": "execute_result"
    }
   ],
   "source": [
    "hi, hf, ho, hc = h2g(h_t).split(hidden_size, dim=-1)\n",
    "'hi',hi,hi.size(),'hf',hf,hf.size(),'ho',ho,ho.size(),'hc',hc,hc.size()\n"
   ]
  },
  {
   "cell_type": "markdown",
   "id": "d4a58ff5-f288-42f4-ac6f-8858e5ec179f",
   "metadata": {},
   "source": [
    "**LSTM second pass - Updated Input $I_{t}$, Forget $F_{t}$, and Output $O_{t}$ Gates**\n",
    "\n",
    "Once again you'll notice the gates are all the same for an example (though may differ across the two batches). This is since we initilized with a consistent weight and we have not yet made changes to improve our prediction. Even with RNNs the changes happen during back-propogation. "
   ]
  },
  {
   "cell_type": "code",
   "execution_count": 44,
   "id": "5ea9b554-7452-4723-b236-388db18a7ee3",
   "metadata": {},
   "outputs": [
    {
     "data": {
      "text/plain": [
       "(torch.Size([2, 3]),\n",
       " tensor([[0.9371, 0.9371, 0.9371],\n",
       "         [0.8952, 0.8952, 0.8952]], grad_fn=<SigmoidBackward0>))"
      ]
     },
     "execution_count": 44,
     "metadata": {},
     "output_type": "execute_result"
    }
   ],
   "source": [
    "input_gate =  torch.sigmoid(xi + hi)\n",
    "input_gate.size(), input_gate"
   ]
  },
  {
   "cell_type": "code",
   "execution_count": 45,
   "id": "84ce203f-737b-40c9-8ef3-836cdcbae817",
   "metadata": {},
   "outputs": [
    {
     "data": {
      "text/plain": [
       "(torch.Size([2, 3]),\n",
       " tensor([[0.9371, 0.9371, 0.9371],\n",
       "         [0.8952, 0.8952, 0.8952]], grad_fn=<SigmoidBackward0>))"
      ]
     },
     "execution_count": 45,
     "metadata": {},
     "output_type": "execute_result"
    }
   ],
   "source": [
    "forget_gate =  torch.sigmoid(xf + hf)\n",
    "forget_gate.size(), forget_gate"
   ]
  },
  {
   "cell_type": "code",
   "execution_count": 46,
   "id": "d2d368ee-5e6b-4b15-bbc4-3b6c17050729",
   "metadata": {},
   "outputs": [
    {
     "data": {
      "text/plain": [
       "(torch.Size([2, 3]),\n",
       " tensor([[0.9371, 0.9371, 0.9371],\n",
       "         [0.8952, 0.8952, 0.8952]], grad_fn=<SigmoidBackward0>))"
      ]
     },
     "execution_count": 46,
     "metadata": {},
     "output_type": "execute_result"
    }
   ],
   "source": [
    "output_gate =  torch.sigmoid(xo + ho)\n",
    "output_gate.size(), output_gate"
   ]
  },
  {
   "cell_type": "markdown",
   "id": "e0fe9149-7cec-4f17-997a-cadf6f41c0a9",
   "metadata": {},
   "source": [
    "**LSTM second pass - Input State $\\tilde{C}$**\n",
    "\n",
    "We'll continue the trend of consistent values for all the same reasons. "
   ]
  },
  {
   "cell_type": "code",
   "execution_count": 47,
   "id": "4db01714-f5ef-4375-afd3-e8de57efa6cf",
   "metadata": {},
   "outputs": [
    {
     "data": {
      "text/plain": [
       "(torch.Size([2, 3]),\n",
       " tensor([[0.9910, 0.9910, 0.9910],\n",
       "         [0.9730, 0.9730, 0.9730]], grad_fn=<TanhBackward0>))"
      ]
     },
     "execution_count": 47,
     "metadata": {},
     "output_type": "execute_result"
    }
   ],
   "source": [
    "input_state = torch.tanh(xc + hc)\n",
    "input_state.size(), input_state"
   ]
  },
  {
   "cell_type": "markdown",
   "id": "a45d65cb-5741-4ead-a7a8-c5eff8049d9e",
   "metadata": {},
   "source": [
    "**LSTM second pass - Memory Cell $C_t$**\n",
    "\n",
    "This time through, we can see that the forget gate comes into play. Since our incoming memory cell is non-zero, we can now see that the updated memory cell is in part the input state and in part the previous memory cell, as determined by the forget gate.  With training this mix will be learned down to the entry level. "
   ]
  },
  {
   "cell_type": "code",
   "execution_count": 48,
   "id": "f37df0f9-e90f-4416-a52a-30b24f2d1416",
   "metadata": {},
   "outputs": [
    {
     "data": {
      "text/plain": [
       "(torch.Size([2, 3]),\n",
       " tensor([[0.9287, 0.9287, 0.9287],\n",
       "         [0.8710, 0.8710, 0.8710]], grad_fn=<MulBackward0>))"
      ]
     },
     "execution_count": 48,
     "metadata": {},
     "output_type": "execute_result"
    }
   ],
   "source": [
    "i_in = input_gate*input_state\n",
    "i_in.size(), i_in"
   ]
  },
  {
   "cell_type": "code",
   "execution_count": 49,
   "id": "26ade896-6420-4889-8112-402c81f27159",
   "metadata": {},
   "outputs": [
    {
     "data": {
      "text/plain": [
       "(torch.Size([2, 3]),\n",
       " tensor([[0.8258, 0.8258, 0.8258],\n",
       "         [0.7889, 0.7889, 0.7889]], grad_fn=<MulBackward0>))"
      ]
     },
     "execution_count": 49,
     "metadata": {},
     "output_type": "execute_result"
    }
   ],
   "source": [
    "f_c = forget_gate*c_t\n",
    "f_c.size(), f_c"
   ]
  },
  {
   "cell_type": "code",
   "execution_count": 50,
   "id": "013cfaea-4ab0-4350-97f9-7c4df624df02",
   "metadata": {},
   "outputs": [
    {
     "data": {
      "text/plain": [
       "(torch.Size([2, 3]),\n",
       " tensor([[1.7545, 1.7545, 1.7545],\n",
       "         [1.6599, 1.6599, 1.6599]], grad_fn=<AddBackward0>))"
      ]
     },
     "execution_count": 50,
     "metadata": {},
     "output_type": "execute_result"
    }
   ],
   "source": [
    "c_next = f_c + i_in\t\n",
    "c_next.size(), c_next"
   ]
  },
  {
   "cell_type": "markdown",
   "id": "8acb7435-32af-4f5b-86ff-331dd30dd44a",
   "metadata": {},
   "source": [
    "**LSTM second pass - Hidden State $H_t$ / Recursion output**"
   ]
  },
  {
   "cell_type": "code",
   "execution_count": 51,
   "id": "dad4f563-c915-4a3a-89a0-b58dff9a0569",
   "metadata": {},
   "outputs": [
    {
     "data": {
      "text/plain": [
       "(torch.Size([2, 3]),\n",
       " tensor([[0.9419, 0.9419, 0.9419],\n",
       "         [0.9302, 0.9302, 0.9302]], grad_fn=<TanhBackward0>))"
      ]
     },
     "execution_count": 51,
     "metadata": {},
     "output_type": "execute_result"
    }
   ],
   "source": [
    "tan_c_n = torch.tanh(c_next)\n",
    "tan_c_n.size(), tan_c_n"
   ]
  },
  {
   "cell_type": "code",
   "execution_count": 52,
   "id": "6cd5bd3c-cc19-4403-9c19-e9fd36c261e1",
   "metadata": {},
   "outputs": [
    {
     "data": {
      "text/plain": [
       "(torch.Size([2, 3]),\n",
       " tensor([[0.8826, 0.8826, 0.8826],\n",
       "         [0.8327, 0.8327, 0.8327]], grad_fn=<MulBackward0>))"
      ]
     },
     "execution_count": 52,
     "metadata": {},
     "output_type": "execute_result"
    }
   ],
   "source": [
    "h_next = output_gate*tan_c_n\n",
    "h_next.size(), h_next"
   ]
  },
  {
   "cell_type": "code",
   "execution_count": 53,
   "id": "9e1ca4af-982f-4f07-8bd7-18acbbc168cb",
   "metadata": {},
   "outputs": [
    {
     "data": {
      "text/plain": [
       "tensor([[[0.6379, 0.6379, 0.6379],\n",
       "         [0.8826, 0.8826, 0.8826],\n",
       "         [0.0000, 0.0000, 0.0000],\n",
       "         [0.0000, 0.0000, 0.0000],\n",
       "         [0.0000, 0.0000, 0.0000],\n",
       "         [0.0000, 0.0000, 0.0000],\n",
       "         [0.0000, 0.0000, 0.0000],\n",
       "         [0.0000, 0.0000, 0.0000]],\n",
       "\n",
       "        [[0.6379, 0.6379, 0.6379],\n",
       "         [0.8327, 0.8327, 0.8327],\n",
       "         [0.0000, 0.0000, 0.0000],\n",
       "         [0.0000, 0.0000, 0.0000],\n",
       "         [0.0000, 0.0000, 0.0000],\n",
       "         [0.0000, 0.0000, 0.0000],\n",
       "         [0.0000, 0.0000, 0.0000],\n",
       "         [0.0000, 0.0000, 0.0000]]], grad_fn=<CopySlices>)"
      ]
     },
     "execution_count": 53,
     "metadata": {},
     "output_type": "execute_result"
    }
   ],
   "source": [
    "hs[:, 1, :] = h_next   \n",
    "hs"
   ]
  },
  {
   "cell_type": "markdown",
   "id": "f771609b-dfb8-4a0c-a9ff-ff3aec2e619e",
   "metadata": {},
   "source": [
    "#### LSTM - Recursion \n",
    "Now that we've seen how 2 passes through the LSTM look like, let's write a loop to do the remaining passes.  The loop in this case will start at `t=2` and run the rest of the context length.  We'll capture the predicted weights into `hs` so that we'll have each example's weights and the link back for the backward pass during back propagation. "
   ]
  },
  {
   "cell_type": "code",
   "execution_count": 54,
   "id": "4c0be513-11d4-4856-94cd-665d63b3d8c6",
   "metadata": {},
   "outputs": [
    {
     "data": {
      "text/plain": [
       "tensor([[[0.6379, 0.6379, 0.6379],\n",
       "         [0.8826, 0.8826, 0.8826],\n",
       "         [0.9367, 0.9367, 0.9367],\n",
       "         [0.9470, 0.9470, 0.9470],\n",
       "         [0.9490, 0.9490, 0.9490],\n",
       "         [0.9150, 0.9150, 0.9150],\n",
       "         [0.9482, 0.9482, 0.9482],\n",
       "         [0.9151, 0.9151, 0.9151]],\n",
       "\n",
       "        [[0.6379, 0.6379, 0.6379],\n",
       "         [0.8327, 0.8327, 0.8327],\n",
       "         [0.9327, 0.9327, 0.9327],\n",
       "         [0.9111, 0.9111, 0.9111],\n",
       "         [0.9474, 0.9474, 0.9474],\n",
       "         [0.9149, 0.9149, 0.9149],\n",
       "         [0.9482, 0.9482, 0.9482],\n",
       "         [0.9495, 0.9495, 0.9495]]], grad_fn=<CopySlices>)"
      ]
     },
     "execution_count": 54,
     "metadata": {},
     "output_type": "execute_result"
    }
   ],
   "source": [
    "for t in range(2,T_context):\n",
    "    \n",
    "    # set input and previous\n",
    "    h_t = h_next\n",
    "    c_t = c_next\n",
    "    x_t = x[:, t, :]\n",
    "\n",
    "    # calculate weights\n",
    "    xi, xf, xo, xc = x2g(x_t).split(hidden_size, dim=-1)\n",
    "    hi, hf, ho, hc = h2g(h_t).split(hidden_size, dim=-1)\n",
    "    \n",
    "    #input, forget, and output gate \n",
    "    input_gate =  torch.sigmoid(xi + hi)\n",
    "    forget_gate =  torch.sigmoid(xf + hf)\n",
    "    output_gate =  torch.sigmoid(xo + ho)\n",
    "    \n",
    "    # input state\n",
    "    input_state = torch.tanh(xc + hc)\n",
    "    \n",
    "    # memory cell\n",
    "    c_next = (forget_gate*c_t) + (input_gate*input_state)\t\n",
    "    \n",
    "    # hidden state / recursion output\n",
    "    h_next = output_gate*torch.tanh(c_next)\n",
    "\n",
    "    # save h_t\n",
    "    hs[:, t, :] = h_next\n",
    "\n",
    "hs"
   ]
  },
  {
   "cell_type": "markdown",
   "id": "1b4c77db-2d10-454f-b512-92ac5b024e61",
   "metadata": {},
   "source": [
    "### Final Dropout \n",
    "\n",
    "After completing our recurrent unit, we'll perform another round of dropout. Dropout after the LSTMs regularizes the layer output / readout without corrupting the recurrent dynamics; injecting fresh noise inside the recurrence each step tends to destabilize long-range memory.  Often this step has “locked” dropout, meaning a single mask broadcast across time, which gives the same effect as per-step dropout with a fixed mask but avoids i.i.d. noise at every timestep.  We, however, will be doing default dropout that is not locked to simplify our code. \n",
    "\n",
    "As a reminder, we perform Bernoulli based dropout which both removes entries and adds p to the surviving entries. "
   ]
  },
  {
   "cell_type": "code",
   "execution_count": 55,
   "id": "14428ec8-69e9-4605-a6fa-eb1012337be4",
   "metadata": {},
   "outputs": [
    {
     "data": {
      "text/plain": [
       "(torch.Size([2, 8, 3]),\n",
       " tensor([[[0.7088, 0.7088, 0.7088],\n",
       "          [0.9807, 0.9807, 0.0000],\n",
       "          [1.0408, 1.0408, 1.0408],\n",
       "          [1.0522, 1.0522, 1.0522],\n",
       "          [1.0544, 1.0544, 1.0544],\n",
       "          [1.0167, 1.0167, 0.0000],\n",
       "          [1.0536, 1.0536, 1.0536],\n",
       "          [1.0168, 1.0168, 1.0168]],\n",
       " \n",
       "         [[0.7088, 0.7088, 0.0000],\n",
       "          [0.9253, 0.9253, 0.9253],\n",
       "          [1.0363, 1.0363, 1.0363],\n",
       "          [0.0000, 1.0124, 1.0124],\n",
       "          [0.0000, 0.0000, 1.0527],\n",
       "          [0.0000, 1.0165, 1.0165],\n",
       "          [1.0536, 1.0536, 1.0536],\n",
       "          [1.0550, 1.0550, 1.0550]]], grad_fn=<MulBackward0>))"
      ]
     },
     "execution_count": 55,
     "metadata": {},
     "output_type": "execute_result"
    }
   ],
   "source": [
    "x = dropout(hs)\n",
    "x.size(), x"
   ]
  },
  {
   "cell_type": "markdown",
   "id": "bc1de516-4387-4cd9-b3b4-93c9938ff46e",
   "metadata": {},
   "source": [
    "### Output Layers AKA Model Head."
   ]
  },
  {
   "cell_type": "markdown",
   "id": "22593c65-be72-436f-9e1c-8620c22c04ab",
   "metadata": {},
   "source": [
    "The LSTM unit is our recurrent unit for this example. In practice, this unit can be scaled by increasing the hidden_size dimension or increasing the complexity and flavors of the recurring unit. Once those layers are complete and we've done dropout normalization, during the forward pass we then start the output process that results in `logits` which is a representation of the probability of each token being the next token given the input.  \n",
    "\n",
    "This layer is also known as the model **head**. This layer is called this because it is a small, task-specific module attached to a model’s shared backbone that maps hidden features to the final outputs.  In our example case, this is a linear layer mapping the backbone to vocab logits. The benefit of this structure is that you can use the shared hidden features and train different heads for different tasks without starting from scratch. An example would be a classifier head, or policy head in RL.\n",
    "\n",
    "<img src=\"explainer_screenshots/lstm/output_layer.png\" width=\"200\">\n",
    "\n",
    "We'll use a similar head that we've used in other examples that focuses on predicting the next token. For our head we want to map to a predicted token which we'll look at as `logits`. In the process to generate `logits` we take the dropout output `x` of the GRU, then project, using a linear layer, to the vocabulary resulting in a `B, T, vocab_size` matrix known as `logits`.  \n",
    "\n",
    "In training, the `logits` are then compared with `y` to see how close the  model is to predicting the correct next token. For inference, the `logits` are then used to drive sampling which is how the next token is then derived. \n",
    "\n",
    "Contrary to our transformer example, we won't be doing weight tying and instead use an initial linear layer.  We'll start initially by setting all of the values equal to 1 meaning they all have equal probability.  This will highlight just how impactful back-propagation and training is.  "
   ]
  },
  {
   "cell_type": "code",
   "execution_count": 56,
   "id": "27e76d90-e130-4e4f-a221-18ee7461876e",
   "metadata": {},
   "outputs": [
    {
     "data": {
      "text/plain": [
       "(torch.Size([36, 3]),\n",
       " Parameter containing:\n",
       " tensor([[1., 1., 1.],\n",
       "         [1., 1., 1.],\n",
       "         [1., 1., 1.],\n",
       "         [1., 1., 1.],\n",
       "         [1., 1., 1.],\n",
       "         [1., 1., 1.],\n",
       "         [1., 1., 1.],\n",
       "         [1., 1., 1.],\n",
       "         [1., 1., 1.],\n",
       "         [1., 1., 1.],\n",
       "         [1., 1., 1.],\n",
       "         [1., 1., 1.],\n",
       "         [1., 1., 1.],\n",
       "         [1., 1., 1.],\n",
       "         [1., 1., 1.],\n",
       "         [1., 1., 1.],\n",
       "         [1., 1., 1.],\n",
       "         [1., 1., 1.],\n",
       "         [1., 1., 1.],\n",
       "         [1., 1., 1.],\n",
       "         [1., 1., 1.],\n",
       "         [1., 1., 1.],\n",
       "         [1., 1., 1.],\n",
       "         [1., 1., 1.],\n",
       "         [1., 1., 1.],\n",
       "         [1., 1., 1.],\n",
       "         [1., 1., 1.],\n",
       "         [1., 1., 1.],\n",
       "         [1., 1., 1.],\n",
       "         [1., 1., 1.],\n",
       "         [1., 1., 1.],\n",
       "         [1., 1., 1.],\n",
       "         [1., 1., 1.],\n",
       "         [1., 1., 1.],\n",
       "         [1., 1., 1.],\n",
       "         [1., 1., 1.]], requires_grad=True))"
      ]
     },
     "execution_count": 56,
     "metadata": {},
     "output_type": "execute_result"
    }
   ],
   "source": [
    "lm_head = nn.Linear(hidden_size, vocab_size, bias=False)\n",
    "torch.nn.init.ones_(lm_head.weight)\n",
    "lm_head.weight.size(), lm_head.weight"
   ]
  },
  {
   "cell_type": "markdown",
   "id": "ee8202a0-64d2-4b94-8ab2-5a69e0602c40",
   "metadata": {},
   "source": [
    "#### Output layer - LM Head aka logits\n",
    "We now project `x` onto the vocabulary resulting in a `B X T X vocab_size` final array `logits`.  This output correlates with the probability of each output token given the input context.  The best way to read  this is:\n",
    "\n",
    "(dimension 0) we have 2 batches B, \n",
    "(dimension 1) each batch has an example for each value between 1 and context length T \n",
    "(dimension 2) for each example we see the probability of each token in our vocabulary\n",
    "\n",
    "Since our output head had consistent weights across all the dimensions, we fully expect that our logits will have equal values across all positions.  In practice this means that our model will have the same probability of a token output as the 'next token' regardless of the preceding text, meaning it's shit. Luckily back-propagation has a way of updating this so that with enough data and time the probabilities change. \n",
    "\n",
    "Note that if we wanted to run inference, after calculating the logits we'd run a softmax to sample a token out of the probability distribution. "
   ]
  },
  {
   "cell_type": "code",
   "execution_count": 57,
   "id": "19b23a27-073d-499e-a5d3-5d1cc5d42f6b",
   "metadata": {},
   "outputs": [
    {
     "data": {
      "text/plain": [
       "(torch.Size([2, 8, 36]),\n",
       " tensor([[[2.1264, 2.1264, 2.1264, 2.1264, 2.1264, 2.1264, 2.1264, 2.1264,\n",
       "           2.1264, 2.1264, 2.1264, 2.1264, 2.1264, 2.1264, 2.1264, 2.1264,\n",
       "           2.1264, 2.1264, 2.1264, 2.1264, 2.1264, 2.1264, 2.1264, 2.1264,\n",
       "           2.1264, 2.1264, 2.1264, 2.1264, 2.1264, 2.1264, 2.1264, 2.1264,\n",
       "           2.1264, 2.1264, 2.1264, 2.1264],\n",
       "          [1.9613, 1.9613, 1.9613, 1.9613, 1.9613, 1.9613, 1.9613, 1.9613,\n",
       "           1.9613, 1.9613, 1.9613, 1.9613, 1.9613, 1.9613, 1.9613, 1.9613,\n",
       "           1.9613, 1.9613, 1.9613, 1.9613, 1.9613, 1.9613, 1.9613, 1.9613,\n",
       "           1.9613, 1.9613, 1.9613, 1.9613, 1.9613, 1.9613, 1.9613, 1.9613,\n",
       "           1.9613, 1.9613, 1.9613, 1.9613],\n",
       "          [3.1224, 3.1224, 3.1224, 3.1224, 3.1224, 3.1224, 3.1224, 3.1224,\n",
       "           3.1224, 3.1224, 3.1224, 3.1224, 3.1224, 3.1224, 3.1224, 3.1224,\n",
       "           3.1224, 3.1224, 3.1224, 3.1224, 3.1224, 3.1224, 3.1224, 3.1224,\n",
       "           3.1224, 3.1224, 3.1224, 3.1224, 3.1224, 3.1224, 3.1224, 3.1224,\n",
       "           3.1224, 3.1224, 3.1224, 3.1224],\n",
       "          [3.1567, 3.1567, 3.1567, 3.1567, 3.1567, 3.1567, 3.1567, 3.1567,\n",
       "           3.1567, 3.1567, 3.1567, 3.1567, 3.1567, 3.1567, 3.1567, 3.1567,\n",
       "           3.1567, 3.1567, 3.1567, 3.1567, 3.1567, 3.1567, 3.1567, 3.1567,\n",
       "           3.1567, 3.1567, 3.1567, 3.1567, 3.1567, 3.1567, 3.1567, 3.1567,\n",
       "           3.1567, 3.1567, 3.1567, 3.1567],\n",
       "          [3.1633, 3.1633, 3.1633, 3.1633, 3.1633, 3.1633, 3.1633, 3.1633,\n",
       "           3.1633, 3.1633, 3.1633, 3.1633, 3.1633, 3.1633, 3.1633, 3.1633,\n",
       "           3.1633, 3.1633, 3.1633, 3.1633, 3.1633, 3.1633, 3.1633, 3.1633,\n",
       "           3.1633, 3.1633, 3.1633, 3.1633, 3.1633, 3.1633, 3.1633, 3.1633,\n",
       "           3.1633, 3.1633, 3.1633, 3.1633],\n",
       "          [2.0334, 2.0334, 2.0334, 2.0334, 2.0334, 2.0334, 2.0334, 2.0334,\n",
       "           2.0334, 2.0334, 2.0334, 2.0334, 2.0334, 2.0334, 2.0334, 2.0334,\n",
       "           2.0334, 2.0334, 2.0334, 2.0334, 2.0334, 2.0334, 2.0334, 2.0334,\n",
       "           2.0334, 2.0334, 2.0334, 2.0334, 2.0334, 2.0334, 2.0334, 2.0334,\n",
       "           2.0334, 2.0334, 2.0334, 2.0334],\n",
       "          [3.1608, 3.1608, 3.1608, 3.1608, 3.1608, 3.1608, 3.1608, 3.1608,\n",
       "           3.1608, 3.1608, 3.1608, 3.1608, 3.1608, 3.1608, 3.1608, 3.1608,\n",
       "           3.1608, 3.1608, 3.1608, 3.1608, 3.1608, 3.1608, 3.1608, 3.1608,\n",
       "           3.1608, 3.1608, 3.1608, 3.1608, 3.1608, 3.1608, 3.1608, 3.1608,\n",
       "           3.1608, 3.1608, 3.1608, 3.1608],\n",
       "          [3.0504, 3.0504, 3.0504, 3.0504, 3.0504, 3.0504, 3.0504, 3.0504,\n",
       "           3.0504, 3.0504, 3.0504, 3.0504, 3.0504, 3.0504, 3.0504, 3.0504,\n",
       "           3.0504, 3.0504, 3.0504, 3.0504, 3.0504, 3.0504, 3.0504, 3.0504,\n",
       "           3.0504, 3.0504, 3.0504, 3.0504, 3.0504, 3.0504, 3.0504, 3.0504,\n",
       "           3.0504, 3.0504, 3.0504, 3.0504]],\n",
       " \n",
       "         [[1.4176, 1.4176, 1.4176, 1.4176, 1.4176, 1.4176, 1.4176, 1.4176,\n",
       "           1.4176, 1.4176, 1.4176, 1.4176, 1.4176, 1.4176, 1.4176, 1.4176,\n",
       "           1.4176, 1.4176, 1.4176, 1.4176, 1.4176, 1.4176, 1.4176, 1.4176,\n",
       "           1.4176, 1.4176, 1.4176, 1.4176, 1.4176, 1.4176, 1.4176, 1.4176,\n",
       "           1.4176, 1.4176, 1.4176, 1.4176],\n",
       "          [2.7758, 2.7758, 2.7758, 2.7758, 2.7758, 2.7758, 2.7758, 2.7758,\n",
       "           2.7758, 2.7758, 2.7758, 2.7758, 2.7758, 2.7758, 2.7758, 2.7758,\n",
       "           2.7758, 2.7758, 2.7758, 2.7758, 2.7758, 2.7758, 2.7758, 2.7758,\n",
       "           2.7758, 2.7758, 2.7758, 2.7758, 2.7758, 2.7758, 2.7758, 2.7758,\n",
       "           2.7758, 2.7758, 2.7758, 2.7758],\n",
       "          [3.1090, 3.1090, 3.1090, 3.1090, 3.1090, 3.1090, 3.1090, 3.1090,\n",
       "           3.1090, 3.1090, 3.1090, 3.1090, 3.1090, 3.1090, 3.1090, 3.1090,\n",
       "           3.1090, 3.1090, 3.1090, 3.1090, 3.1090, 3.1090, 3.1090, 3.1090,\n",
       "           3.1090, 3.1090, 3.1090, 3.1090, 3.1090, 3.1090, 3.1090, 3.1090,\n",
       "           3.1090, 3.1090, 3.1090, 3.1090],\n",
       "          [2.0247, 2.0247, 2.0247, 2.0247, 2.0247, 2.0247, 2.0247, 2.0247,\n",
       "           2.0247, 2.0247, 2.0247, 2.0247, 2.0247, 2.0247, 2.0247, 2.0247,\n",
       "           2.0247, 2.0247, 2.0247, 2.0247, 2.0247, 2.0247, 2.0247, 2.0247,\n",
       "           2.0247, 2.0247, 2.0247, 2.0247, 2.0247, 2.0247, 2.0247, 2.0247,\n",
       "           2.0247, 2.0247, 2.0247, 2.0247],\n",
       "          [1.0527, 1.0527, 1.0527, 1.0527, 1.0527, 1.0527, 1.0527, 1.0527,\n",
       "           1.0527, 1.0527, 1.0527, 1.0527, 1.0527, 1.0527, 1.0527, 1.0527,\n",
       "           1.0527, 1.0527, 1.0527, 1.0527, 1.0527, 1.0527, 1.0527, 1.0527,\n",
       "           1.0527, 1.0527, 1.0527, 1.0527, 1.0527, 1.0527, 1.0527, 1.0527,\n",
       "           1.0527, 1.0527, 1.0527, 1.0527],\n",
       "          [2.0330, 2.0330, 2.0330, 2.0330, 2.0330, 2.0330, 2.0330, 2.0330,\n",
       "           2.0330, 2.0330, 2.0330, 2.0330, 2.0330, 2.0330, 2.0330, 2.0330,\n",
       "           2.0330, 2.0330, 2.0330, 2.0330, 2.0330, 2.0330, 2.0330, 2.0330,\n",
       "           2.0330, 2.0330, 2.0330, 2.0330, 2.0330, 2.0330, 2.0330, 2.0330,\n",
       "           2.0330, 2.0330, 2.0330, 2.0330],\n",
       "          [3.1607, 3.1607, 3.1607, 3.1607, 3.1607, 3.1607, 3.1607, 3.1607,\n",
       "           3.1607, 3.1607, 3.1607, 3.1607, 3.1607, 3.1607, 3.1607, 3.1607,\n",
       "           3.1607, 3.1607, 3.1607, 3.1607, 3.1607, 3.1607, 3.1607, 3.1607,\n",
       "           3.1607, 3.1607, 3.1607, 3.1607, 3.1607, 3.1607, 3.1607, 3.1607,\n",
       "           3.1607, 3.1607, 3.1607, 3.1607],\n",
       "          [3.1649, 3.1649, 3.1649, 3.1649, 3.1649, 3.1649, 3.1649, 3.1649,\n",
       "           3.1649, 3.1649, 3.1649, 3.1649, 3.1649, 3.1649, 3.1649, 3.1649,\n",
       "           3.1649, 3.1649, 3.1649, 3.1649, 3.1649, 3.1649, 3.1649, 3.1649,\n",
       "           3.1649, 3.1649, 3.1649, 3.1649, 3.1649, 3.1649, 3.1649, 3.1649,\n",
       "           3.1649, 3.1649, 3.1649, 3.1649]]], grad_fn=<UnsafeViewBackward0>))"
      ]
     },
     "execution_count": 57,
     "metadata": {},
     "output_type": "execute_result"
    }
   ],
   "source": [
    "logits = lm_head(x)\n",
    "\n",
    "logits.shape, logits"
   ]
  },
  {
   "cell_type": "markdown",
   "id": "7a1e4018-31cc-426d-b96e-36d99c133316",
   "metadata": {
    "jp-MarkdownHeadingCollapsed": true
   },
   "source": [
    "## Loss calculation"
   ]
  },
  {
   "cell_type": "markdown",
   "id": "5a1c01b9-d09b-4708-bd9e-3aceeeb9cb18",
   "metadata": {},
   "source": [
    "Now we have to see how good our ~shit~ prediction is.  Since we haven't done training, and we saw that regardless of example we had the same exact logit values, we can expect it's bad. That said, we need to know how bad. For this example we'll use cross entropy, also known as the negative log likelihood of the softmax.  Our loss calculates\n",
    "\n",
    "$$\n",
    "\\ell_i=-\\log\\big(\\mathrm{softmax}(z_i)\\_{y_i}\\big)\n",
    "= -z_{i,y_i}+\\log\\!\\sum_{c=1}^C e^{z_{i,c}},\n",
    "$$\n",
    "\n",
    "\n",
    "To calculate loss we'll pass in the calculated `logits` and our next tokens stored in `y`. The cross entropy function does not respect batches so we'll flatten the `B` dimension for both `logits` and `y`"
   ]
  },
  {
   "cell_type": "code",
   "execution_count": 58,
   "id": "8423d81b-3ceb-44a0-b8dd-7b7ffe5cb977",
   "metadata": {},
   "outputs": [],
   "source": [
    "import torch.nn.functional as F"
   ]
  },
  {
   "cell_type": "code",
   "execution_count": 59,
   "id": "3dce85cc-5c7e-47bf-8f0e-e23b7f6aa337",
   "metadata": {},
   "outputs": [
    {
     "data": {
      "text/plain": [
       "(torch.Size([16]),\n",
       " tensor([15, 32,  9,  5, 20, 30, 15, 11,  9,  6, 20,  5,  0, 13, 21,  0]))"
      ]
     },
     "execution_count": 59,
     "metadata": {},
     "output_type": "execute_result"
    }
   ],
   "source": [
    "y_flat = y.view(-1)\n",
    "y_flat.shape, y_flat"
   ]
  },
  {
   "cell_type": "code",
   "execution_count": 60,
   "id": "03a2daf1-b8cb-4660-9b46-c60d6c95ce58",
   "metadata": {},
   "outputs": [
    {
     "data": {
      "text/plain": [
       "(torch.Size([16, 36]),\n",
       " tensor([[2.1264, 2.1264, 2.1264, 2.1264, 2.1264, 2.1264, 2.1264, 2.1264, 2.1264,\n",
       "          2.1264, 2.1264, 2.1264, 2.1264, 2.1264, 2.1264, 2.1264, 2.1264, 2.1264,\n",
       "          2.1264, 2.1264, 2.1264, 2.1264, 2.1264, 2.1264, 2.1264, 2.1264, 2.1264,\n",
       "          2.1264, 2.1264, 2.1264, 2.1264, 2.1264, 2.1264, 2.1264, 2.1264, 2.1264],\n",
       "         [1.9613, 1.9613, 1.9613, 1.9613, 1.9613, 1.9613, 1.9613, 1.9613, 1.9613,\n",
       "          1.9613, 1.9613, 1.9613, 1.9613, 1.9613, 1.9613, 1.9613, 1.9613, 1.9613,\n",
       "          1.9613, 1.9613, 1.9613, 1.9613, 1.9613, 1.9613, 1.9613, 1.9613, 1.9613,\n",
       "          1.9613, 1.9613, 1.9613, 1.9613, 1.9613, 1.9613, 1.9613, 1.9613, 1.9613],\n",
       "         [3.1224, 3.1224, 3.1224, 3.1224, 3.1224, 3.1224, 3.1224, 3.1224, 3.1224,\n",
       "          3.1224, 3.1224, 3.1224, 3.1224, 3.1224, 3.1224, 3.1224, 3.1224, 3.1224,\n",
       "          3.1224, 3.1224, 3.1224, 3.1224, 3.1224, 3.1224, 3.1224, 3.1224, 3.1224,\n",
       "          3.1224, 3.1224, 3.1224, 3.1224, 3.1224, 3.1224, 3.1224, 3.1224, 3.1224],\n",
       "         [3.1567, 3.1567, 3.1567, 3.1567, 3.1567, 3.1567, 3.1567, 3.1567, 3.1567,\n",
       "          3.1567, 3.1567, 3.1567, 3.1567, 3.1567, 3.1567, 3.1567, 3.1567, 3.1567,\n",
       "          3.1567, 3.1567, 3.1567, 3.1567, 3.1567, 3.1567, 3.1567, 3.1567, 3.1567,\n",
       "          3.1567, 3.1567, 3.1567, 3.1567, 3.1567, 3.1567, 3.1567, 3.1567, 3.1567],\n",
       "         [3.1633, 3.1633, 3.1633, 3.1633, 3.1633, 3.1633, 3.1633, 3.1633, 3.1633,\n",
       "          3.1633, 3.1633, 3.1633, 3.1633, 3.1633, 3.1633, 3.1633, 3.1633, 3.1633,\n",
       "          3.1633, 3.1633, 3.1633, 3.1633, 3.1633, 3.1633, 3.1633, 3.1633, 3.1633,\n",
       "          3.1633, 3.1633, 3.1633, 3.1633, 3.1633, 3.1633, 3.1633, 3.1633, 3.1633],\n",
       "         [2.0334, 2.0334, 2.0334, 2.0334, 2.0334, 2.0334, 2.0334, 2.0334, 2.0334,\n",
       "          2.0334, 2.0334, 2.0334, 2.0334, 2.0334, 2.0334, 2.0334, 2.0334, 2.0334,\n",
       "          2.0334, 2.0334, 2.0334, 2.0334, 2.0334, 2.0334, 2.0334, 2.0334, 2.0334,\n",
       "          2.0334, 2.0334, 2.0334, 2.0334, 2.0334, 2.0334, 2.0334, 2.0334, 2.0334],\n",
       "         [3.1608, 3.1608, 3.1608, 3.1608, 3.1608, 3.1608, 3.1608, 3.1608, 3.1608,\n",
       "          3.1608, 3.1608, 3.1608, 3.1608, 3.1608, 3.1608, 3.1608, 3.1608, 3.1608,\n",
       "          3.1608, 3.1608, 3.1608, 3.1608, 3.1608, 3.1608, 3.1608, 3.1608, 3.1608,\n",
       "          3.1608, 3.1608, 3.1608, 3.1608, 3.1608, 3.1608, 3.1608, 3.1608, 3.1608],\n",
       "         [3.0504, 3.0504, 3.0504, 3.0504, 3.0504, 3.0504, 3.0504, 3.0504, 3.0504,\n",
       "          3.0504, 3.0504, 3.0504, 3.0504, 3.0504, 3.0504, 3.0504, 3.0504, 3.0504,\n",
       "          3.0504, 3.0504, 3.0504, 3.0504, 3.0504, 3.0504, 3.0504, 3.0504, 3.0504,\n",
       "          3.0504, 3.0504, 3.0504, 3.0504, 3.0504, 3.0504, 3.0504, 3.0504, 3.0504],\n",
       "         [1.4176, 1.4176, 1.4176, 1.4176, 1.4176, 1.4176, 1.4176, 1.4176, 1.4176,\n",
       "          1.4176, 1.4176, 1.4176, 1.4176, 1.4176, 1.4176, 1.4176, 1.4176, 1.4176,\n",
       "          1.4176, 1.4176, 1.4176, 1.4176, 1.4176, 1.4176, 1.4176, 1.4176, 1.4176,\n",
       "          1.4176, 1.4176, 1.4176, 1.4176, 1.4176, 1.4176, 1.4176, 1.4176, 1.4176],\n",
       "         [2.7758, 2.7758, 2.7758, 2.7758, 2.7758, 2.7758, 2.7758, 2.7758, 2.7758,\n",
       "          2.7758, 2.7758, 2.7758, 2.7758, 2.7758, 2.7758, 2.7758, 2.7758, 2.7758,\n",
       "          2.7758, 2.7758, 2.7758, 2.7758, 2.7758, 2.7758, 2.7758, 2.7758, 2.7758,\n",
       "          2.7758, 2.7758, 2.7758, 2.7758, 2.7758, 2.7758, 2.7758, 2.7758, 2.7758],\n",
       "         [3.1090, 3.1090, 3.1090, 3.1090, 3.1090, 3.1090, 3.1090, 3.1090, 3.1090,\n",
       "          3.1090, 3.1090, 3.1090, 3.1090, 3.1090, 3.1090, 3.1090, 3.1090, 3.1090,\n",
       "          3.1090, 3.1090, 3.1090, 3.1090, 3.1090, 3.1090, 3.1090, 3.1090, 3.1090,\n",
       "          3.1090, 3.1090, 3.1090, 3.1090, 3.1090, 3.1090, 3.1090, 3.1090, 3.1090],\n",
       "         [2.0247, 2.0247, 2.0247, 2.0247, 2.0247, 2.0247, 2.0247, 2.0247, 2.0247,\n",
       "          2.0247, 2.0247, 2.0247, 2.0247, 2.0247, 2.0247, 2.0247, 2.0247, 2.0247,\n",
       "          2.0247, 2.0247, 2.0247, 2.0247, 2.0247, 2.0247, 2.0247, 2.0247, 2.0247,\n",
       "          2.0247, 2.0247, 2.0247, 2.0247, 2.0247, 2.0247, 2.0247, 2.0247, 2.0247],\n",
       "         [1.0527, 1.0527, 1.0527, 1.0527, 1.0527, 1.0527, 1.0527, 1.0527, 1.0527,\n",
       "          1.0527, 1.0527, 1.0527, 1.0527, 1.0527, 1.0527, 1.0527, 1.0527, 1.0527,\n",
       "          1.0527, 1.0527, 1.0527, 1.0527, 1.0527, 1.0527, 1.0527, 1.0527, 1.0527,\n",
       "          1.0527, 1.0527, 1.0527, 1.0527, 1.0527, 1.0527, 1.0527, 1.0527, 1.0527],\n",
       "         [2.0330, 2.0330, 2.0330, 2.0330, 2.0330, 2.0330, 2.0330, 2.0330, 2.0330,\n",
       "          2.0330, 2.0330, 2.0330, 2.0330, 2.0330, 2.0330, 2.0330, 2.0330, 2.0330,\n",
       "          2.0330, 2.0330, 2.0330, 2.0330, 2.0330, 2.0330, 2.0330, 2.0330, 2.0330,\n",
       "          2.0330, 2.0330, 2.0330, 2.0330, 2.0330, 2.0330, 2.0330, 2.0330, 2.0330],\n",
       "         [3.1607, 3.1607, 3.1607, 3.1607, 3.1607, 3.1607, 3.1607, 3.1607, 3.1607,\n",
       "          3.1607, 3.1607, 3.1607, 3.1607, 3.1607, 3.1607, 3.1607, 3.1607, 3.1607,\n",
       "          3.1607, 3.1607, 3.1607, 3.1607, 3.1607, 3.1607, 3.1607, 3.1607, 3.1607,\n",
       "          3.1607, 3.1607, 3.1607, 3.1607, 3.1607, 3.1607, 3.1607, 3.1607, 3.1607],\n",
       "         [3.1649, 3.1649, 3.1649, 3.1649, 3.1649, 3.1649, 3.1649, 3.1649, 3.1649,\n",
       "          3.1649, 3.1649, 3.1649, 3.1649, 3.1649, 3.1649, 3.1649, 3.1649, 3.1649,\n",
       "          3.1649, 3.1649, 3.1649, 3.1649, 3.1649, 3.1649, 3.1649, 3.1649, 3.1649,\n",
       "          3.1649, 3.1649, 3.1649, 3.1649, 3.1649, 3.1649, 3.1649, 3.1649, 3.1649]],\n",
       "        grad_fn=<ViewBackward0>))"
      ]
     },
     "execution_count": 60,
     "metadata": {},
     "output_type": "execute_result"
    }
   ],
   "source": [
    "logits_flat = logits.view(-1, logits.size(-1))\n",
    "logits_flat.shape, logits_flat"
   ]
  },
  {
   "cell_type": "code",
   "execution_count": 61,
   "id": "4b287d1b-c82f-4f51-bb49-7a542ddd3287",
   "metadata": {},
   "outputs": [
    {
     "data": {
      "text/plain": [
       "(torch.Size([]), tensor(3.5835, grad_fn=<NllLossBackward0>))"
      ]
     },
     "execution_count": 61,
     "metadata": {},
     "output_type": "execute_result"
    }
   ],
   "source": [
    "loss = F.cross_entropy(logits_flat, y_flat)\n",
    "loss.shape, loss"
   ]
  },
  {
   "cell_type": "markdown",
   "id": "57f6a03a-4fae-47bf-8b2f-f4e0ca2fdee8",
   "metadata": {},
   "source": [
    "## Back Propagation"
   ]
  },
  {
   "cell_type": "markdown",
   "id": "d587d633-a3ed-49e3-a90a-9c505b079665",
   "metadata": {},
   "source": [
    "We now know just how ~well~ terribly the current model, with its weights and biases, predicts the next token given the input context. We now need to know how to change the different weights and biases to improve the formula.  We could do this by guessing through making minor changes and seeing what improves, or we can think through this more critically.\n",
    "\n",
    "If you review the chain of layers above, you can see that it's a series of formulas.  We can think of this as $f(g(x))$, except with many many more layers and complexities.  Since this is a formula, we can dig into our math toolbox and find a better way to determine what parts need to update.  Recall that in our calculus we learned that differentiation tells us the rate of change in a graph.  So if we treat the loss function $\\mathcal{L}$ as $\\mathcal{L}(f(g(x)))$ taking the partial differential \n",
    "\n",
    "$\\delta=\\partial \\mathcal{L}/\\partial h$\n",
    "\n",
    "at each layer will give us the impact of each weight/bias on our final out (albeit the inverse since our loss function is the negative log likelihood). \n",
    "\n",
    "Lucky for us, each layer of our model already has a placeholder for the partial differential called the **Gradient**. We'll use this field to store it.  We'll start by first zeroing out the gradients. We do this because of the nature of handling partial differentials for multiple dependencies. Recall that in multiple places we had a formula structure of \n",
    "\n",
    "$a+b=c ; a+c= d$\n",
    "\n",
    "In this case $a$ has 2 dependencies and determining the partial derivative of $\\partial d / \\partial a$ requires understanding both the path from $d$ and $c$.  To determine the true impact of a we would sum both partial derivatives together.  Because of this property, the tool we use, the built in `.backwards()` automatically sums gradients, `+=`, so if we do not set the gradient to `0` we then end up with erroneous gradients. \n",
    "\n",
    "Finally, we start `.backwards` from the `loss`, not `logits` as our goal is to minimize loss, we need to ensure we are looking at the calculations that impact loss which requires the whole forward pass to be able to generate the prediction `logits_flat`.  If we think of it as $\\mathcal{L}(f(x))$ where $f(x)$ is the forward pass to generate logits, then a simple chain rule is applied:\n",
    "\n",
    "${\\partial}/{\\partial x} =  \\mathcal{L}'(f(x)) f'(x)$\n",
    "\n",
    "Lets start by zeroing the gradients and leaning on pytorch to calculate the gradients for us. We'll also validate the gradients were `none`."
   ]
  },
  {
   "cell_type": "code",
   "execution_count": 62,
   "id": "0455dc7a-fab4-4844-bf37-2ac311226907",
   "metadata": {},
   "outputs": [
    {
     "data": {
      "text/plain": [
       "(None, None)"
      ]
     },
     "execution_count": 62,
     "metadata": {},
     "output_type": "execute_result"
    }
   ],
   "source": [
    "lm_head.zero_grad()\n",
    "h2g.zero_grad()\n",
    "x2g.zero_grad()\n",
    "wte.zero_grad()\n",
    "\n",
    "\n",
    "# validate gradients\n",
    "lm_head.weight.grad, wte.weight.grad"
   ]
  },
  {
   "cell_type": "markdown",
   "id": "52f54a83-a344-4692-9c3d-ab4978df8cb9",
   "metadata": {},
   "source": [
    "**Auto-Diff** - Now let's see the magic of the gradients populate.  This magic is called auto-differentiation, or auto-diff for short. This allows us to not have to write many layers of nasty code to do the differentiation for us, but, if you're a sadist, you can surely find people who have written out that code (it's not too bad since you just do one layer at a time). "
   ]
  },
  {
   "cell_type": "code",
   "execution_count": 63,
   "id": "c0b7acd2-55bc-4fe6-9c41-1ddc0ee05eec",
   "metadata": {},
   "outputs": [],
   "source": [
    "loss.backward()"
   ]
  },
  {
   "cell_type": "code",
   "execution_count": 64,
   "id": "119fa3fb-0e8c-4db3-9df8-4a1b361279d1",
   "metadata": {},
   "outputs": [
    {
     "data": {
      "text/plain": [
       "(tensor([[-0.0439, -0.0404, -0.1090],\n",
       "         [ 0.0221,  0.0256,  0.0227],\n",
       "         [ 0.0221,  0.0256,  0.0227],\n",
       "         [ 0.0221,  0.0256,  0.0227],\n",
       "         [ 0.0221,  0.0256,  0.0227],\n",
       "         [-0.0437, -0.1035, -0.1063],\n",
       "         [-0.0358, -0.0323, -0.0351],\n",
       "         [ 0.0221,  0.0256,  0.0227],\n",
       "         [ 0.0221,  0.0256,  0.0227],\n",
       "         [-0.0873, -0.0838, -0.0423],\n",
       "         [ 0.0221,  0.0256,  0.0227],\n",
       "         [-0.0415, -0.0380, -0.0408],\n",
       "         [ 0.0221,  0.0256,  0.0227],\n",
       "         [ 0.0221, -0.0380, -0.0408],\n",
       "         [ 0.0221,  0.0256,  0.0227],\n",
       "         [-0.0881, -0.0846, -0.0874],\n",
       "         [ 0.0221,  0.0256,  0.0227],\n",
       "         [ 0.0221,  0.0256,  0.0227],\n",
       "         [ 0.0221,  0.0256,  0.0227],\n",
       "         [ 0.0221,  0.0256,  0.0227],\n",
       "         [-0.1086, -0.1051, -0.1080],\n",
       "         [-0.0438, -0.0403, -0.0431],\n",
       "         [ 0.0221,  0.0256,  0.0227],\n",
       "         [ 0.0221,  0.0256,  0.0227],\n",
       "         [ 0.0221,  0.0256,  0.0227],\n",
       "         [ 0.0221,  0.0256,  0.0227],\n",
       "         [ 0.0221,  0.0256,  0.0227],\n",
       "         [ 0.0221,  0.0256,  0.0227],\n",
       "         [ 0.0221,  0.0256,  0.0227],\n",
       "         [ 0.0221,  0.0256,  0.0227],\n",
       "         [-0.0415, -0.0380,  0.0227],\n",
       "         [ 0.0221,  0.0256,  0.0227],\n",
       "         [-0.0392, -0.0357,  0.0227],\n",
       "         [ 0.0221,  0.0256,  0.0227],\n",
       "         [ 0.0221,  0.0256,  0.0227],\n",
       "         [ 0.0221,  0.0256,  0.0227]]),\n",
       " tensor([[9.4990e-10, 0.0000e+00, 9.4990e-10, 9.4990e-10],\n",
       "         [0.0000e+00, 0.0000e+00, 0.0000e+00, 0.0000e+00],\n",
       "         [0.0000e+00, 0.0000e+00, 0.0000e+00, 0.0000e+00],\n",
       "         [0.0000e+00, 0.0000e+00, 0.0000e+00, 0.0000e+00],\n",
       "         [0.0000e+00, 0.0000e+00, 0.0000e+00, 0.0000e+00],\n",
       "         [1.5450e-09, 1.5450e-09, 1.5450e-09, 1.5450e-09],\n",
       "         [1.0378e-09, 1.0378e-09, 1.0378e-09, 1.0378e-09],\n",
       "         [0.0000e+00, 0.0000e+00, 0.0000e+00, 0.0000e+00],\n",
       "         [0.0000e+00, 0.0000e+00, 0.0000e+00, 0.0000e+00],\n",
       "         [4.5245e-09, 1.5576e-09, 4.5245e-09, 4.5245e-09],\n",
       "         [0.0000e+00, 0.0000e+00, 0.0000e+00, 0.0000e+00],\n",
       "         [2.6054e-09, 2.6054e-09, 2.6054e-09, 2.6054e-09],\n",
       "         [0.0000e+00, 0.0000e+00, 0.0000e+00, 0.0000e+00],\n",
       "         [9.1398e-10, 9.1398e-10, 9.1398e-10, 9.1398e-10],\n",
       "         [0.0000e+00, 0.0000e+00, 0.0000e+00, 0.0000e+00],\n",
       "         [1.4987e-09, 2.8385e-09, 2.8385e-09, 2.8385e-09],\n",
       "         [0.0000e+00, 0.0000e+00, 0.0000e+00, 0.0000e+00],\n",
       "         [0.0000e+00, 0.0000e+00, 0.0000e+00, 0.0000e+00],\n",
       "         [0.0000e+00, 0.0000e+00, 0.0000e+00, 0.0000e+00],\n",
       "         [0.0000e+00, 0.0000e+00, 0.0000e+00, 0.0000e+00],\n",
       "         [3.0977e-09, 1.7038e-09, 3.0977e-09, 1.3939e-09],\n",
       "         [1.8206e-09, 1.8206e-09, 1.8206e-09, 1.8206e-09],\n",
       "         [0.0000e+00, 0.0000e+00, 0.0000e+00, 0.0000e+00],\n",
       "         [0.0000e+00, 0.0000e+00, 0.0000e+00, 0.0000e+00],\n",
       "         [0.0000e+00, 0.0000e+00, 0.0000e+00, 0.0000e+00],\n",
       "         [0.0000e+00, 0.0000e+00, 0.0000e+00, 0.0000e+00],\n",
       "         [0.0000e+00, 0.0000e+00, 0.0000e+00, 0.0000e+00],\n",
       "         [0.0000e+00, 0.0000e+00, 0.0000e+00, 0.0000e+00],\n",
       "         [0.0000e+00, 0.0000e+00, 0.0000e+00, 0.0000e+00],\n",
       "         [0.0000e+00, 0.0000e+00, 0.0000e+00, 0.0000e+00],\n",
       "         [8.9590e-10, 8.9590e-10, 8.9590e-10, 8.9590e-10],\n",
       "         [0.0000e+00, 0.0000e+00, 0.0000e+00, 0.0000e+00],\n",
       "         [1.3546e-09, 1.3546e-09, 1.3546e-09, 1.3546e-09],\n",
       "         [0.0000e+00, 0.0000e+00, 0.0000e+00, 0.0000e+00],\n",
       "         [0.0000e+00, 0.0000e+00, 0.0000e+00, 0.0000e+00],\n",
       "         [2.5383e-09, 2.5383e-09, 2.5383e-09, 2.5383e-09]]))"
      ]
     },
     "execution_count": 64,
     "metadata": {},
     "output_type": "execute_result"
    }
   ],
   "source": [
    "lm_head.weight.grad, wte.weight.grad"
   ]
  },
  {
   "cell_type": "markdown",
   "id": "7d1b1c48-690e-4e1e-81e8-448ac45ad5cd",
   "metadata": {},
   "source": [
    "## Gradient Clipping"
   ]
  },
  {
   "cell_type": "markdown",
   "id": "ca073815-41f0-4bb6-bc96-7b7835149ad0",
   "metadata": {},
   "source": [
    "Recall that we discussed at the start that there was an issue called exploding gradients. Exploding gradients occurs because back-propagation through time multiplies gradients by a chain of recurrent Jacobians as follows:\n",
    "\n",
    "$\\nabla_{h_{t-k}} \\mathcal{L} = \\left(\\prod_{i=1}^{k} \\frac{\\partial h_{t-i+1}}{\\partial h_{t-i}}\\right)\\nabla_{h_t}\\mathcal{L}$. \n",
    "\n",
    "This means that any spectral norm (>1) in those factors causes the gradient norm to grow roughly exponentially with sequence length. Even with LSTM gates, poorly conditioned hidden-to-hidden dynamics or large activations can push singular values WELL above 1 where even sigmoid and tanh layers will keep the values at 1. To combat this, we apply gradient clipping. Gradient clipping caps the global gradient, in our case to `1.0`, to prevent runaway steps, numerical overflow, and unstable updates.\n",
    "\n",
    "*Note that this will only solve exploding gradients and does not address vanishing gradients. The LSTM structure and use of memory helps fight vanishing gradients*\n",
    "\n",
    "Since none of our gradients are currently above 1, we will not see an impact of gradient clipping but I did want to introduce the concept as it is an important component. "
   ]
  },
  {
   "cell_type": "code",
   "execution_count": 65,
   "id": "06f5ad14-65a3-42ec-889a-8e2444e6422c",
   "metadata": {},
   "outputs": [
    {
     "data": {
      "text/plain": [
       "(tensor([[-0.0439, -0.0404, -0.1090],\n",
       "         [ 0.0221,  0.0256,  0.0227],\n",
       "         [ 0.0221,  0.0256,  0.0227],\n",
       "         [ 0.0221,  0.0256,  0.0227],\n",
       "         [ 0.0221,  0.0256,  0.0227],\n",
       "         [-0.0437, -0.1035, -0.1063],\n",
       "         [-0.0358, -0.0323, -0.0351],\n",
       "         [ 0.0221,  0.0256,  0.0227],\n",
       "         [ 0.0221,  0.0256,  0.0227],\n",
       "         [-0.0873, -0.0838, -0.0423],\n",
       "         [ 0.0221,  0.0256,  0.0227],\n",
       "         [-0.0415, -0.0380, -0.0408],\n",
       "         [ 0.0221,  0.0256,  0.0227],\n",
       "         [ 0.0221, -0.0380, -0.0408],\n",
       "         [ 0.0221,  0.0256,  0.0227],\n",
       "         [-0.0881, -0.0846, -0.0874],\n",
       "         [ 0.0221,  0.0256,  0.0227],\n",
       "         [ 0.0221,  0.0256,  0.0227],\n",
       "         [ 0.0221,  0.0256,  0.0227],\n",
       "         [ 0.0221,  0.0256,  0.0227],\n",
       "         [-0.1086, -0.1051, -0.1080],\n",
       "         [-0.0438, -0.0403, -0.0431],\n",
       "         [ 0.0221,  0.0256,  0.0227],\n",
       "         [ 0.0221,  0.0256,  0.0227],\n",
       "         [ 0.0221,  0.0256,  0.0227],\n",
       "         [ 0.0221,  0.0256,  0.0227],\n",
       "         [ 0.0221,  0.0256,  0.0227],\n",
       "         [ 0.0221,  0.0256,  0.0227],\n",
       "         [ 0.0221,  0.0256,  0.0227],\n",
       "         [ 0.0221,  0.0256,  0.0227],\n",
       "         [-0.0415, -0.0380,  0.0227],\n",
       "         [ 0.0221,  0.0256,  0.0227],\n",
       "         [-0.0392, -0.0357,  0.0227],\n",
       "         [ 0.0221,  0.0256,  0.0227],\n",
       "         [ 0.0221,  0.0256,  0.0227],\n",
       "         [ 0.0221,  0.0256,  0.0227]]),\n",
       " tensor([[9.4990e-10, 0.0000e+00, 9.4990e-10, 9.4990e-10],\n",
       "         [0.0000e+00, 0.0000e+00, 0.0000e+00, 0.0000e+00],\n",
       "         [0.0000e+00, 0.0000e+00, 0.0000e+00, 0.0000e+00],\n",
       "         [0.0000e+00, 0.0000e+00, 0.0000e+00, 0.0000e+00],\n",
       "         [0.0000e+00, 0.0000e+00, 0.0000e+00, 0.0000e+00],\n",
       "         [1.5450e-09, 1.5450e-09, 1.5450e-09, 1.5450e-09],\n",
       "         [1.0378e-09, 1.0378e-09, 1.0378e-09, 1.0378e-09],\n",
       "         [0.0000e+00, 0.0000e+00, 0.0000e+00, 0.0000e+00],\n",
       "         [0.0000e+00, 0.0000e+00, 0.0000e+00, 0.0000e+00],\n",
       "         [4.5245e-09, 1.5576e-09, 4.5245e-09, 4.5245e-09],\n",
       "         [0.0000e+00, 0.0000e+00, 0.0000e+00, 0.0000e+00],\n",
       "         [2.6054e-09, 2.6054e-09, 2.6054e-09, 2.6054e-09],\n",
       "         [0.0000e+00, 0.0000e+00, 0.0000e+00, 0.0000e+00],\n",
       "         [9.1398e-10, 9.1398e-10, 9.1398e-10, 9.1398e-10],\n",
       "         [0.0000e+00, 0.0000e+00, 0.0000e+00, 0.0000e+00],\n",
       "         [1.4987e-09, 2.8385e-09, 2.8385e-09, 2.8385e-09],\n",
       "         [0.0000e+00, 0.0000e+00, 0.0000e+00, 0.0000e+00],\n",
       "         [0.0000e+00, 0.0000e+00, 0.0000e+00, 0.0000e+00],\n",
       "         [0.0000e+00, 0.0000e+00, 0.0000e+00, 0.0000e+00],\n",
       "         [0.0000e+00, 0.0000e+00, 0.0000e+00, 0.0000e+00],\n",
       "         [3.0977e-09, 1.7038e-09, 3.0977e-09, 1.3939e-09],\n",
       "         [1.8206e-09, 1.8206e-09, 1.8206e-09, 1.8206e-09],\n",
       "         [0.0000e+00, 0.0000e+00, 0.0000e+00, 0.0000e+00],\n",
       "         [0.0000e+00, 0.0000e+00, 0.0000e+00, 0.0000e+00],\n",
       "         [0.0000e+00, 0.0000e+00, 0.0000e+00, 0.0000e+00],\n",
       "         [0.0000e+00, 0.0000e+00, 0.0000e+00, 0.0000e+00],\n",
       "         [0.0000e+00, 0.0000e+00, 0.0000e+00, 0.0000e+00],\n",
       "         [0.0000e+00, 0.0000e+00, 0.0000e+00, 0.0000e+00],\n",
       "         [0.0000e+00, 0.0000e+00, 0.0000e+00, 0.0000e+00],\n",
       "         [0.0000e+00, 0.0000e+00, 0.0000e+00, 0.0000e+00],\n",
       "         [8.9590e-10, 8.9590e-10, 8.9590e-10, 8.9590e-10],\n",
       "         [0.0000e+00, 0.0000e+00, 0.0000e+00, 0.0000e+00],\n",
       "         [1.3546e-09, 1.3546e-09, 1.3546e-09, 1.3546e-09],\n",
       "         [0.0000e+00, 0.0000e+00, 0.0000e+00, 0.0000e+00],\n",
       "         [0.0000e+00, 0.0000e+00, 0.0000e+00, 0.0000e+00],\n",
       "         [2.5383e-09, 2.5383e-09, 2.5383e-09, 2.5383e-09]]))"
      ]
     },
     "execution_count": 65,
     "metadata": {},
     "output_type": "execute_result"
    }
   ],
   "source": [
    "nn.utils.clip_grad_norm_(lm_head.parameters(), 1.0)\n",
    "nn.utils.clip_grad_norm_(h2g.parameters(), 1.0)\n",
    "nn.utils.clip_grad_norm_(x2g.parameters(), 1.0)\n",
    "nn.utils.clip_grad_norm_(wte.parameters(), 1.0)\n",
    "lm_head.weight.grad, wte.weight.grad"
   ]
  },
  {
   "cell_type": "markdown",
   "id": "c8e2a22f-5ca1-475f-8a34-708d6a914c24",
   "metadata": {},
   "source": [
    "## Learning"
   ]
  },
  {
   "cell_type": "markdown",
   "id": "c8564d2f-34d0-4526-80b7-69337e2a7549",
   "metadata": {},
   "source": [
    "The process of learning now requires us to update our weights based on this gradient. To really feel the \"back propagation\" we'll start with the last layer and work backwards, though, since we have all of the gradients calculated already, the order does not matter. Recall that our loss function is the negative log likelihood ratio so our gradient signs are flipped.  If a parameter is important, the gradient will be more negative, and vice versa. The gradients are a ratio of importance of each parameter and we need to know how much of that gradient to apply to our weights. This \"how much\" is referred to as the *learning rate*. In modern training learning rate schedulers and optimizers are used to vary the rate and application by layer and by training round with learning rates that are small (e.g. 1e-3) and decaying. \n",
    "\n",
    "We however are trying to learn and if you look at the gradient above in most layers it's tiny (~1e-10).  If we used a typical learning rate scheduler, with our context, batch size, and just 1 pass, the second pass would just have the same values and we wouldn't learn anything new.  Because of this we'll do something super unorthodox.  Our LM_head will use a learning rate of `5.000` but for the rest of the layers we'll use a learning rate of `1e6`. This INSANE learning rate would absolutely be too noisy for real training as taking that \"large\" of steps would mean the model could never find a good fit.  But since we're doing 1 step we don't care. Also, we're rerunning on the same example we used in the first loop so even less of a care. But as a warning, DO NOT DO THIS IN REAL TRAINING. If you did your model would most likely not converge. "
   ]
  },
  {
   "cell_type": "code",
   "execution_count": 66,
   "id": "a2b11f32-0c10-480d-9690-402132913444",
   "metadata": {},
   "outputs": [],
   "source": [
    "## Huge learning rate to emphasize\n",
    "head_learning_rate = 5.000\n",
    "learning_rate = 1e6"
   ]
  },
  {
   "cell_type": "markdown",
   "id": "b5f5dd95-3b51-4cb6-8814-65ef9f8b6929",
   "metadata": {},
   "source": [
    "### Output Layer\n",
    "Let's start with our output layer.  Recall that we initialized the weights to `1.000` so we can quickly see the impact of the gradient update on the weights. Most notable that we'll see is that the entries corresponding with the token that are present in `y`, our target, are up weighted and others are downweighted. This should already intuitively give you a sense as to \n",
    "1. The model will be improved\n",
    "2. This is WAY too high of a learning rate if we wanted to generalize.\n",
    "\n",
    "Additionally you'll notice that the gradient is differs across the `n_embd` dimensions. This shows that even though we have done only a single pass, because we have multiple examples our model is already learning deeper structures. Finally, since this is the output layer, we did not include any bias "
   ]
  },
  {
   "cell_type": "code",
   "execution_count": 67,
   "id": "f5c59984-6d36-4e78-b7fc-cf4623294915",
   "metadata": {},
   "outputs": [
    {
     "data": {
      "text/plain": [
       "Parameter containing:\n",
       "tensor([[1.2194, 1.2018, 1.5451],\n",
       "        [0.8897, 0.8721, 0.8865],\n",
       "        [0.8897, 0.8721, 0.8865],\n",
       "        [0.8897, 0.8721, 0.8865],\n",
       "        [0.8897, 0.8721, 0.8865],\n",
       "        [1.2186, 1.5173, 1.5317],\n",
       "        [1.1789, 1.1613, 1.1756],\n",
       "        [0.8897, 0.8721, 0.8865],\n",
       "        [0.8897, 0.8721, 0.8865],\n",
       "        [1.4365, 1.4189, 1.2117],\n",
       "        [0.8897, 0.8721, 0.8865],\n",
       "        [1.2075, 1.1899, 1.2042],\n",
       "        [0.8897, 0.8721, 0.8865],\n",
       "        [0.8897, 1.1898, 1.2041],\n",
       "        [0.8897, 0.8721, 0.8865],\n",
       "        [1.4405, 1.4229, 1.4372],\n",
       "        [0.8897, 0.8721, 0.8865],\n",
       "        [0.8897, 0.8721, 0.8865],\n",
       "        [0.8897, 0.8721, 0.8865],\n",
       "        [0.8897, 0.8721, 0.8865],\n",
       "        [1.5431, 1.5255, 1.5398],\n",
       "        [1.2190, 1.2014, 1.2157],\n",
       "        [0.8897, 0.8721, 0.8865],\n",
       "        [0.8897, 0.8721, 0.8865],\n",
       "        [0.8897, 0.8721, 0.8865],\n",
       "        [0.8897, 0.8721, 0.8865],\n",
       "        [0.8897, 0.8721, 0.8865],\n",
       "        [0.8897, 0.8721, 0.8865],\n",
       "        [0.8897, 0.8721, 0.8865],\n",
       "        [0.8897, 0.8721, 0.8865],\n",
       "        [1.2074, 1.1898, 0.8865],\n",
       "        [0.8897, 0.8721, 0.8865],\n",
       "        [1.1962, 1.1786, 0.8865],\n",
       "        [0.8897, 0.8721, 0.8865],\n",
       "        [0.8897, 0.8721, 0.8865],\n",
       "        [0.8897, 0.8721, 0.8865]], requires_grad=True)"
      ]
     },
     "execution_count": 67,
     "metadata": {},
     "output_type": "execute_result"
    }
   ],
   "source": [
    "with torch.no_grad():\n",
    "    lm_head.weight -= head_learning_rate * lm_head.weight.grad\n",
    "lm_head.weight"
   ]
  },
  {
   "cell_type": "markdown",
   "id": "85732c86-fc96-4015-bc28-bb06fa808403",
   "metadata": {},
   "source": [
    "### Recurrent Unit - LSTM\n",
    "Next we'll update our two linear layers inside of the LSTM.  Recall that we initiated h2g to weights `0.2500`, x2g weights to `0.5000` and the biases to.  Our gradients on this layer are extremely small (~1e-9) and while the values are different across the embeddings, all are interestingly positive. This is starting to show how the different embedding layers can impact the recursion. \n",
    "\n",
    "With these layers you can see the beauty of our insanely high learning rate.  Even though our gradient impact was tiny, we can see the weight shift away from the initialization suggesting some level of adaptation. "
   ]
  },
  {
   "cell_type": "code",
   "execution_count": 68,
   "id": "44461eb7-82b4-4383-afab-ef1c18203289",
   "metadata": {},
   "outputs": [
    {
     "data": {
      "text/plain": [
       "(Parameter containing:\n",
       " tensor([[0.2498, 0.2498, 0.2498],\n",
       "         [0.2497, 0.2497, 0.2497],\n",
       "         [0.2498, 0.2498, 0.2498],\n",
       "         [0.2497, 0.2497, 0.2497],\n",
       "         [0.2497, 0.2497, 0.2497],\n",
       "         [0.2498, 0.2498, 0.2498],\n",
       "         [0.2420, 0.2420, 0.2420],\n",
       "         [0.2399, 0.2399, 0.2399],\n",
       "         [0.2406, 0.2406, 0.2406],\n",
       "         [0.2499, 0.2499, 0.2499],\n",
       "         [0.2499, 0.2499, 0.2499],\n",
       "         [0.2499, 0.2499, 0.2499]], requires_grad=True),\n",
       " Parameter containing:\n",
       " tensor([-0.0018, -0.0018, -0.0010, -0.0004, -0.0004, -0.0003, -0.0111, -0.0133,\n",
       "         -0.0113, -0.0008, -0.0008, -0.0005], requires_grad=True))"
      ]
     },
     "execution_count": 68,
     "metadata": {},
     "output_type": "execute_result"
    }
   ],
   "source": [
    "with torch.no_grad():\n",
    "    h2g.weight -= learning_rate * h2g.weight.grad\n",
    "    h2g.bias -= learning_rate * h2g.bias.grad\n",
    "h2g.weight, h2g.bias"
   ]
  },
  {
   "cell_type": "code",
   "execution_count": 69,
   "id": "24badddf-11c7-4c52-a31b-d7ef1912c812",
   "metadata": {},
   "outputs": [
    {
     "data": {
      "text/plain": [
       "(Parameter containing:\n",
       " tensor([[0.4981, 0.4983, 0.4981, 0.4981],\n",
       "         [0.4980, 0.4982, 0.4980, 0.4980],\n",
       "         [0.4989, 0.4991, 0.4989, 0.4989],\n",
       "         [0.4996, 0.4998, 0.4996, 0.4996],\n",
       "         [0.4995, 0.4997, 0.4995, 0.4996],\n",
       "         [0.4996, 0.4998, 0.4996, 0.4997],\n",
       "         [0.4886, 0.4906, 0.4877, 0.4877],\n",
       "         [0.4861, 0.4890, 0.4852, 0.4869],\n",
       "         [0.4883, 0.4898, 0.4874, 0.4890],\n",
       "         [0.4991, 0.4992, 0.4991, 0.4991],\n",
       "         [0.4991, 0.4992, 0.4991, 0.4991],\n",
       "         [0.4995, 0.4996, 0.4995, 0.4995]], requires_grad=True),\n",
       " Parameter containing:\n",
       " tensor([-0.0018, -0.0018, -0.0010, -0.0004, -0.0004, -0.0003, -0.0111, -0.0133,\n",
       "         -0.0113, -0.0008, -0.0008, -0.0005], requires_grad=True))"
      ]
     },
     "execution_count": 69,
     "metadata": {},
     "output_type": "execute_result"
    }
   ],
   "source": [
    "with torch.no_grad():\n",
    "    x2g.weight -= learning_rate * x2g.weight.grad\n",
    "    x2g.bias -= learning_rate * x2g.bias.grad\n",
    "x2g.weight, x2g.bias"
   ]
  },
  {
   "cell_type": "markdown",
   "id": "36aab00b-4505-4d2c-b42e-1a60d8e22c65",
   "metadata": {},
   "source": [
    "### Input Layer\n",
    "Finally we'll update our input layer. Recall that we initialized it to `1.000`. Given our high learning rate, a keen eye can observe an interesting phenomenon, gradient updates only impacted the tokens that were used in our example. This differs from our other layers because our embedding layer projects the example into the embedding space only uses vectors for tokens present so those are the only ones that the gradient can trace back to, versus on other layers because of dot products and other operations there's impact across the whole tensor.    "
   ]
  },
  {
   "cell_type": "code",
   "execution_count": 70,
   "id": "19f250b6-4866-4d7d-973b-1997109421f4",
   "metadata": {},
   "outputs": [
    {
     "data": {
      "text/plain": [
       "Parameter containing:\n",
       "tensor([[0.9991, 1.0000, 0.9991, 0.9991],\n",
       "        [1.0000, 1.0000, 1.0000, 1.0000],\n",
       "        [1.0000, 1.0000, 1.0000, 1.0000],\n",
       "        [1.0000, 1.0000, 1.0000, 1.0000],\n",
       "        [1.0000, 1.0000, 1.0000, 1.0000],\n",
       "        [0.9985, 0.9985, 0.9985, 0.9985],\n",
       "        [0.9990, 0.9990, 0.9990, 0.9990],\n",
       "        [1.0000, 1.0000, 1.0000, 1.0000],\n",
       "        [1.0000, 1.0000, 1.0000, 1.0000],\n",
       "        [0.9955, 0.9984, 0.9955, 0.9955],\n",
       "        [1.0000, 1.0000, 1.0000, 1.0000],\n",
       "        [0.9974, 0.9974, 0.9974, 0.9974],\n",
       "        [1.0000, 1.0000, 1.0000, 1.0000],\n",
       "        [0.9991, 0.9991, 0.9991, 0.9991],\n",
       "        [1.0000, 1.0000, 1.0000, 1.0000],\n",
       "        [0.9985, 0.9972, 0.9972, 0.9972],\n",
       "        [1.0000, 1.0000, 1.0000, 1.0000],\n",
       "        [1.0000, 1.0000, 1.0000, 1.0000],\n",
       "        [1.0000, 1.0000, 1.0000, 1.0000],\n",
       "        [1.0000, 1.0000, 1.0000, 1.0000],\n",
       "        [0.9969, 0.9983, 0.9969, 0.9986],\n",
       "        [0.9982, 0.9982, 0.9982, 0.9982],\n",
       "        [1.0000, 1.0000, 1.0000, 1.0000],\n",
       "        [1.0000, 1.0000, 1.0000, 1.0000],\n",
       "        [1.0000, 1.0000, 1.0000, 1.0000],\n",
       "        [1.0000, 1.0000, 1.0000, 1.0000],\n",
       "        [1.0000, 1.0000, 1.0000, 1.0000],\n",
       "        [1.0000, 1.0000, 1.0000, 1.0000],\n",
       "        [1.0000, 1.0000, 1.0000, 1.0000],\n",
       "        [1.0000, 1.0000, 1.0000, 1.0000],\n",
       "        [0.9991, 0.9991, 0.9991, 0.9991],\n",
       "        [1.0000, 1.0000, 1.0000, 1.0000],\n",
       "        [0.9986, 0.9986, 0.9986, 0.9986],\n",
       "        [1.0000, 1.0000, 1.0000, 1.0000],\n",
       "        [1.0000, 1.0000, 1.0000, 1.0000],\n",
       "        [0.9975, 0.9975, 0.9975, 0.9975]], requires_grad=True)"
      ]
     },
     "execution_count": 70,
     "metadata": {},
     "output_type": "execute_result"
    }
   ],
   "source": [
    "with torch.no_grad():\n",
    "    wte.weight -= learning_rate * wte.weight.grad\n",
    "wte.weight"
   ]
  },
  {
   "cell_type": "markdown",
   "id": "5d0ff10f-f64f-4801-b9ea-c40e15816684",
   "metadata": {},
   "source": [
    "## Forward Pass with Updated Weights"
   ]
  },
  {
   "cell_type": "markdown",
   "id": "5439278f-49d8-47e1-9355-440621636775",
   "metadata": {},
   "source": [
    "Now that we have the updated weights for each layer, let's do another forward pass and compare the loss. Since each layer was previously explained we will instead focus on just showing the outputs of the different layers and the final loss. If you want, you can check the previous outputs in the cached cell outputs above and compare them to see how the weight changes impacted the values at each layer. \n",
    "\n",
    "You'll notice that because our high learning rate we're able to see how each layer now shifts the embedding values as the input passes through them. "
   ]
  },
  {
   "cell_type": "markdown",
   "id": "1450600e-11b1-413c-95d6-51418cc6d445",
   "metadata": {},
   "source": [
    "### Data Re-loading\n",
    "Repulling to a new `x_2`. We'll keep `y` to emphasize the same examples are being used. "
   ]
  },
  {
   "cell_type": "code",
   "execution_count": 71,
   "id": "00925f19-c83a-4549-b4ca-94f92ad301f4",
   "metadata": {},
   "outputs": [
    {
     "data": {
      "text/plain": [
       "(tensor([[35, 15, 32,  9,  5, 20, 30, 15],\n",
       "         [11,  9,  6, 20,  5,  0, 13, 21]]),\n",
       " tensor([[15, 32,  9,  5, 20, 30, 15, 11],\n",
       "         [ 9,  6, 20,  5,  0, 13, 21,  0]]))"
      ]
     },
     "execution_count": 71,
     "metadata": {},
     "output_type": "execute_result"
    }
   ],
   "source": [
    "x_2 = tok_for_training[:-1].view(B, T)\n",
    "x_2, y"
   ]
  },
  {
   "cell_type": "markdown",
   "id": "027c68d0-cf29-431d-85d2-0d0276e55c70",
   "metadata": {},
   "source": [
    "### Input Layer\n",
    "Note that in `wte` since the gradient impact was only on the embeddings that mapped to our tokens. Lucky for us, we're passing the same example through so we'll pull those same weights.\n",
    "\n",
    "With RNNs, because of the recursion layers, we would need long training and long context to see changes in our input layer initiation. Alternatively, a common step to help improve the input embedding is to do weight-tying between the input and output layers. This ensures that the input and output layers embed in the same space and helps with learning stabilization, but weight tying goes in and out of flavor often.  Because of this we'll cover weight-tying in the GPT notebook I write. "
   ]
  },
  {
   "cell_type": "code",
   "execution_count": 72,
   "id": "ff392189-88e9-46a8-9ce1-b1aacad80e83",
   "metadata": {},
   "outputs": [
    {
     "data": {
      "text/plain": [
       "(torch.Size([2, 8, 4]),\n",
       " tensor([[[0.9975, 0.9975, 0.9975, 0.9975],\n",
       "          [0.9985, 0.9972, 0.9972, 0.9972],\n",
       "          [0.9986, 0.9986, 0.9986, 0.9986],\n",
       "          [0.9955, 0.9984, 0.9955, 0.9955],\n",
       "          [0.9985, 0.9985, 0.9985, 0.9985],\n",
       "          [0.9969, 0.9983, 0.9969, 0.9986],\n",
       "          [0.9991, 0.9991, 0.9991, 0.9991],\n",
       "          [0.9985, 0.9972, 0.9972, 0.9972]],\n",
       " \n",
       "         [[0.9974, 0.9974, 0.9974, 0.9974],\n",
       "          [0.9955, 0.9984, 0.9955, 0.9955],\n",
       "          [0.9990, 0.9990, 0.9990, 0.9990],\n",
       "          [0.9969, 0.9983, 0.9969, 0.9986],\n",
       "          [0.9985, 0.9985, 0.9985, 0.9985],\n",
       "          [0.9991, 1.0000, 0.9991, 0.9991],\n",
       "          [0.9991, 0.9991, 0.9991, 0.9991],\n",
       "          [0.9982, 0.9982, 0.9982, 0.9982]]], grad_fn=<EmbeddingBackward0>))"
      ]
     },
     "execution_count": 72,
     "metadata": {},
     "output_type": "execute_result"
    }
   ],
   "source": [
    "x = wte(x_2)\n",
    "x.shape, x "
   ]
  },
  {
   "cell_type": "markdown",
   "id": "522598e4-600b-49ac-aca8-5ce33a9f8c8e",
   "metadata": {},
   "source": [
    "### Dropout \n",
    "Once again we'll perform dropout. Dropout is not a learnable layer so we have a consistent, though still random, outcome. "
   ]
  },
  {
   "cell_type": "code",
   "execution_count": 73,
   "id": "9f0c0ab4-a8da-4b22-ba93-92070f03527a",
   "metadata": {},
   "outputs": [
    {
     "data": {
      "text/plain": [
       "tensor([[[1.1083, 1.1083, 1.1083, 1.1083],\n",
       "         [1.1094, 1.1080, 1.1080, 0.0000],\n",
       "         [1.1096, 1.1096, 1.1096, 1.1096],\n",
       "         [1.1061, 1.1094, 1.1061, 1.1061],\n",
       "         [1.1094, 1.1094, 1.1094, 1.1094],\n",
       "         [1.1077, 1.1092, 1.1077, 1.1096],\n",
       "         [0.0000, 1.1101, 1.1101, 1.1101],\n",
       "         [1.1094, 1.1080, 1.1080, 1.1080]],\n",
       "\n",
       "        [[1.1082, 1.1082, 0.0000, 1.1082],\n",
       "         [1.1061, 1.1094, 1.1061, 1.1061],\n",
       "         [1.1100, 1.1100, 0.0000, 1.1100],\n",
       "         [1.1077, 1.1092, 1.1077, 1.1096],\n",
       "         [1.1094, 1.1094, 1.1094, 1.1094],\n",
       "         [1.1101, 1.1111, 1.1101, 1.1101],\n",
       "         [1.1101, 0.0000, 1.1101, 1.1101],\n",
       "         [1.1091, 1.1091, 0.0000, 1.1091]]], grad_fn=<MulBackward0>)"
      ]
     },
     "execution_count": 73,
     "metadata": {},
     "output_type": "execute_result"
    }
   ],
   "source": [
    "x = dropout(x)\n",
    "x"
   ]
  },
  {
   "cell_type": "markdown",
   "id": "b9a5ddc4-503d-4a8c-8635-2a6b26d4750e",
   "metadata": {},
   "source": [
    "### Recurrent Unit - LSTM"
   ]
  },
  {
   "cell_type": "markdown",
   "id": "d4e6d785-4282-431d-829b-e3ade8326816",
   "metadata": {},
   "source": [
    "This time through we'll run the recurrent layer for all time periods and not break out a specific time period.  We still have to reset our hidden layer and our memory cell to `0` since our training batch reset. Given the high learning rate we will now see how different weights and biases impact our convolution. "
   ]
  },
  {
   "cell_type": "code",
   "execution_count": 74,
   "id": "3a88d1ae-b4e8-46e0-9538-f94589005472",
   "metadata": {},
   "outputs": [],
   "source": [
    "h_next = torch.zeros(B_batch, hidden_size) \n",
    "c_next = torch.zeros(B_batch, hidden_size) \n",
    "hs = x.new_empty(B_batch, T_context, hidden_size)"
   ]
  },
  {
   "cell_type": "code",
   "execution_count": 75,
   "id": "f8ce97ab-1e58-4c12-b558-f9c216b341e1",
   "metadata": {},
   "outputs": [
    {
     "data": {
      "text/plain": [
       "tensor([[[0.6320, 0.6312, 0.6322],\n",
       "         [0.8247, 0.8232, 0.8244],\n",
       "         [0.9271, 0.9260, 0.9269],\n",
       "         [0.9409, 0.9399, 0.9407],\n",
       "         [0.9437, 0.9427, 0.9435],\n",
       "         [0.9441, 0.9431, 0.9439],\n",
       "         [0.9080, 0.9067, 0.9077],\n",
       "         [0.9428, 0.9418, 0.9426]],\n",
       "\n",
       "        [[0.5436, 0.5427, 0.5439],\n",
       "         [0.8606, 0.8595, 0.8605],\n",
       "         [0.8880, 0.8866, 0.8877],\n",
       "         [0.9390, 0.9380, 0.9387],\n",
       "         [0.9435, 0.9425, 0.9433],\n",
       "         [0.9443, 0.9433, 0.9440],\n",
       "         [0.9079, 0.9064, 0.9075],\n",
       "         [0.9058, 0.9044, 0.9054]]], grad_fn=<CopySlices>)"
      ]
     },
     "execution_count": 75,
     "metadata": {},
     "output_type": "execute_result"
    }
   ],
   "source": [
    "for t in range(T_context):\n",
    "    \n",
    "    # set input and previous\n",
    "    h_t = h_next\n",
    "    c_t = c_next\n",
    "    x_t = x[:, t, :]\n",
    "\n",
    "    # calculate weights\n",
    "    xi, xf, xo, xc = x2g(x_t).split(hidden_size, dim=-1)\n",
    "    hi, hf, ho, hc = h2g(h_t).split(hidden_size, dim=-1)\n",
    "    \n",
    "    #input, forget, and output gate \n",
    "    input_gate =  torch.sigmoid(xi + hi)\n",
    "    forget_gate =  torch.sigmoid(xf + hf)\n",
    "    output_gate =  torch.sigmoid(xo + ho)\n",
    "\n",
    "    # input state\n",
    "    input_state = torch.tanh(xc + hc)\n",
    "\n",
    "    # memory cell\n",
    "    c_next = (forget_gate*c_t) + (input_gate*input_state)\n",
    "\n",
    "    # hidden state / recursion output\n",
    "    h_next = output_gate*torch.tanh(c_next)\n",
    "\n",
    "    # save h_t\n",
    "    hs[:, t, :] = h_next\n",
    "\n",
    "hs"
   ]
  },
  {
   "cell_type": "markdown",
   "id": "8612c53d-c55b-4940-852d-79498d489245",
   "metadata": {},
   "source": [
    "### Final Dropout\n",
    "As with before, we'll run dropout again before running the model head.  This stateless layer, or non-learnable weights, will again perform similar to the last time we ran it, just with random dropout. "
   ]
  },
  {
   "cell_type": "code",
   "execution_count": 76,
   "id": "8f4b0ebe-0dab-458c-bba1-0d0617a9b294",
   "metadata": {},
   "outputs": [
    {
     "data": {
      "text/plain": [
       "tensor([[[0.7022, 0.7013, 0.7025],\n",
       "         [0.9163, 0.9147, 0.9160],\n",
       "         [1.0301, 0.0000, 1.0299],\n",
       "         [1.0455, 1.0444, 1.0452],\n",
       "         [1.0486, 1.0474, 1.0483],\n",
       "         [1.0490, 1.0479, 1.0488],\n",
       "         [1.0089, 1.0074, 1.0085],\n",
       "         [1.0476, 1.0465, 1.0473]],\n",
       "\n",
       "        [[0.6040, 0.6030, 0.6044],\n",
       "         [0.9562, 0.9550, 0.9561],\n",
       "         [0.9866, 0.9851, 0.9863],\n",
       "         [1.0433, 1.0422, 1.0431],\n",
       "         [1.0483, 1.0472, 1.0481],\n",
       "         [1.0492, 1.0481, 1.0489],\n",
       "         [1.0087, 1.0071, 1.0084],\n",
       "         [1.0064, 1.0049, 1.0060]]], grad_fn=<MulBackward0>)"
      ]
     },
     "execution_count": 76,
     "metadata": {},
     "output_type": "execute_result"
    }
   ],
   "source": [
    "x = dropout(hs)\n",
    "x"
   ]
  },
  {
   "cell_type": "markdown",
   "id": "b2f1e47d-27d3-4039-8ea1-208d5fc30f29",
   "metadata": {},
   "source": [
    "### Output Layers AKA Model Head.\n",
    "Now we do our final projection against the LM head. We have seen our Y and, if we select some examples, we can see that the logit for the  examples are upweighted (e.g. position 15 on example 1, position 32 on example 2). We can also see that this training is not perfect since, if we look at those positions in other examples (e.g. position 32 in example 1) it's also upweighted.  This shows that while our model is learning, it still has a long way to go before being trained. "
   ]
  },
  {
   "cell_type": "code",
   "execution_count": 77,
   "id": "5c2c2354-3b5c-4490-ac42-fd8474355857",
   "metadata": {},
   "outputs": [
    {
     "data": {
      "text/plain": [
       "(torch.Size([2, 8, 36]),\n",
       " tensor([[[2.7845, 1.8591, 1.8591, 1.8591, 1.8591, 2.9957, 2.4681, 1.8591,\n",
       "           1.8591, 2.8550, 1.8591, 2.5283, 1.8591, 2.3051, 1.8591, 3.0190,\n",
       "           1.8591, 1.8591, 1.8591, 1.8591, 3.2351, 2.5525, 1.8591, 1.8591,\n",
       "           1.8591, 1.8591, 1.8591, 1.8591, 1.8591, 1.8591, 2.3051, 1.8591,\n",
       "           2.2893, 1.8591, 1.8591, 1.8591],\n",
       "          [3.6319, 2.4249, 2.4249, 2.4249, 2.4249, 3.9073, 3.2192, 2.4249,\n",
       "           2.4249, 3.7240, 2.4249, 3.2978, 2.4249, 3.0065, 2.4249, 3.9378,\n",
       "           2.4249, 2.4249, 2.4249, 2.4249, 4.2197, 3.3293, 2.4249, 2.4249,\n",
       "           2.4249, 2.4249, 2.4249, 2.4249, 2.4249, 2.4249, 3.0067, 2.4249,\n",
       "           2.9861, 2.4249, 2.4249, 2.4249],\n",
       "          [2.8473, 1.8294, 1.8294, 1.8294, 1.8294, 2.8326, 2.4251, 1.8294,\n",
       "           1.8294, 2.7276, 1.8294, 2.4840, 1.8294, 2.1566, 1.8294, 2.9639,\n",
       "           1.8294, 1.8294, 1.8294, 1.8294, 3.1753, 2.5076, 1.8294, 1.8294,\n",
       "           1.8294, 1.8294, 1.8294, 1.8294, 1.8294, 1.8294, 2.1567, 1.8294,\n",
       "           2.1451, 1.8294, 1.8294, 1.8294],\n",
       "          [4.1450, 2.7676, 2.7676, 2.7676, 2.7676, 4.4596, 3.6741, 2.7676,\n",
       "           2.7676, 4.2502, 2.7676, 3.7638, 2.7676, 3.4314, 2.7676, 4.4943,\n",
       "           2.7676, 2.7676, 2.7676, 2.7676, 4.8160, 3.7998, 2.7676, 2.7676,\n",
       "           2.7676, 2.7676, 2.7676, 2.7676, 2.7676, 2.7676, 3.4316, 2.7676,\n",
       "           3.4081, 2.7676, 2.7676, 2.7676],\n",
       "          [4.1572, 2.7757, 2.7757, 2.7757, 2.7757, 4.4726, 3.6849, 2.7757,\n",
       "           2.7757, 4.2627, 2.7757, 3.7748, 2.7757, 3.4414, 2.7757, 4.5074,\n",
       "           2.7757, 2.7757, 2.7757, 2.7757, 4.8301, 3.8109, 2.7757, 2.7757,\n",
       "           2.7757, 2.7757, 2.7757, 2.7757, 2.7757, 2.7757, 3.4416, 2.7757,\n",
       "           3.4181, 2.7757, 2.7757, 2.7757],\n",
       "          [4.1590, 2.7770, 2.7770, 2.7770, 2.7770, 4.4746, 3.6865, 2.7770,\n",
       "           2.7770, 4.2646, 2.7770, 3.7765, 2.7770, 3.4430, 2.7770, 4.5095,\n",
       "           2.7770, 2.7770, 2.7770, 2.7770, 4.8322, 3.8126, 2.7770, 2.7770,\n",
       "           2.7770, 2.7770, 2.7770, 2.7770, 2.7770, 2.7770, 3.4432, 2.7770,\n",
       "           3.4196, 2.7770, 2.7770, 2.7770],\n",
       "          [3.9993, 2.6703, 2.6703, 2.6703, 2.6703, 4.3028, 3.5450, 2.6703,\n",
       "           2.6703, 4.1008, 2.6703, 3.6315, 2.6703, 3.3107, 2.6703, 4.3363,\n",
       "           2.6703, 2.6703, 2.6703, 2.6703, 4.6467, 3.6662, 2.6703, 2.6703,\n",
       "           2.6703, 2.6703, 2.6703, 2.6703, 2.6703, 2.6703, 3.3110, 2.6703,\n",
       "           3.2883, 2.6703, 2.6703, 2.6703],\n",
       "          [4.1533, 2.7731, 2.7731, 2.7731, 2.7731, 4.4685, 3.6815, 2.7731,\n",
       "           2.7731, 4.2587, 2.7731, 3.7713, 2.7731, 3.4383, 2.7731, 4.5033,\n",
       "           2.7731, 2.7731, 2.7731, 2.7731, 4.8256, 3.8074, 2.7731, 2.7731,\n",
       "           2.7731, 2.7731, 2.7731, 2.7731, 2.7731, 2.7731, 3.4385, 2.7731,\n",
       "           3.4149, 2.7731, 2.7731, 2.7731]],\n",
       " \n",
       "         [[2.3950, 1.5990, 1.5990, 1.5990, 1.5990, 2.5766, 2.1227, 1.5990,\n",
       "           1.5990, 2.4555, 1.5990, 2.1745, 1.5990, 1.9825, 1.5990, 2.5966,\n",
       "           1.5990, 1.5990, 1.5990, 1.5990, 2.7825, 2.1954, 1.5990, 1.5990,\n",
       "           1.5990, 1.5990, 1.5990, 1.5990, 1.5990, 1.5990, 1.9825, 1.5990,\n",
       "           1.9689, 1.5990, 1.5990, 1.5990],\n",
       "          [3.7911, 2.5312, 2.5312, 2.5312, 2.5312, 4.0787, 3.3603, 2.5312,\n",
       "           2.5312, 3.8872, 2.5312, 3.4423, 2.5312, 3.1384, 2.5312, 4.1104,\n",
       "           2.5312, 2.5312, 2.5312, 2.5312, 4.4047, 3.4753, 2.5312, 2.5312,\n",
       "           2.5312, 2.5312, 2.5312, 2.5312, 2.5312, 2.5312, 3.1385, 2.5312,\n",
       "           3.1170, 2.5312, 2.5312, 2.5312],\n",
       "          [3.9109, 2.6113, 2.6113, 2.6113, 2.6113, 4.2076, 3.4666, 2.6113,\n",
       "           2.6113, 4.0101, 2.6113, 3.5512, 2.6113, 3.2375, 2.6113, 4.2404,\n",
       "           2.6113, 2.6113, 2.6113, 2.6113, 4.5439, 3.5852, 2.6113, 2.6113,\n",
       "           2.6113, 2.6113, 2.6113, 2.6113, 2.6113, 2.6113, 3.2377, 2.6113,\n",
       "           3.2155, 2.6113, 2.6113, 2.6113],\n",
       "          [4.1363, 2.7618, 2.7618, 2.7618, 2.7618, 4.4502, 3.6664, 2.7618,\n",
       "           2.7618, 4.2413, 2.7618, 3.7559, 2.7618, 3.4242, 2.7618, 4.4848,\n",
       "           2.7618, 2.7618, 2.7618, 2.7618, 4.8059, 3.7918, 2.7618, 2.7618,\n",
       "           2.7618, 2.7618, 2.7618, 2.7618, 2.7618, 2.7618, 3.4244, 2.7618,\n",
       "           3.4009, 2.7618, 2.7618, 2.7618],\n",
       "          [4.1563, 2.7751, 2.7751, 2.7751, 2.7751, 4.4717, 3.6841, 2.7751,\n",
       "           2.7751, 4.2618, 2.7751, 3.7740, 2.7751, 3.4407, 2.7751, 4.5065,\n",
       "           2.7751, 2.7751, 2.7751, 2.7751, 4.8291, 3.8101, 2.7751, 2.7751,\n",
       "           2.7751, 2.7751, 2.7751, 2.7751, 2.7751, 2.7751, 3.4409, 2.7751,\n",
       "           3.4173, 2.7751, 2.7751, 2.7751],\n",
       "          [4.1597, 2.7774, 2.7774, 2.7774, 2.7774, 4.4754, 3.6871, 2.7774,\n",
       "           2.7774, 4.2653, 2.7774, 3.7771, 2.7774, 3.4435, 2.7774, 4.5102,\n",
       "           2.7774, 2.7774, 2.7774, 2.7774, 4.8330, 3.8133, 2.7774, 2.7774,\n",
       "           2.7774, 2.7774, 2.7774, 2.7774, 2.7774, 2.7774, 3.4437, 2.7774,\n",
       "           3.4201, 2.7774, 2.7774, 2.7774],\n",
       "          [3.9985, 2.6697, 2.6697, 2.6697, 2.6697, 4.3018, 3.5442, 2.6697,\n",
       "           2.6697, 4.0999, 2.6697, 3.6307, 2.6697, 3.3100, 2.6697, 4.3353,\n",
       "           2.6697, 2.6697, 2.6697, 2.6697, 4.6457, 3.6654, 2.6697, 2.6697,\n",
       "           2.6697, 2.6697, 2.6697, 2.6697, 2.6697, 2.6697, 3.3102, 2.6697,\n",
       "           3.2875, 2.6697, 2.6697, 2.6697],\n",
       "          [3.9894, 2.6637, 2.6637, 2.6637, 2.6637, 4.2921, 3.5362, 2.6637,\n",
       "           2.6637, 4.0906, 2.6637, 3.6225, 2.6637, 3.3025, 2.6637, 4.3255,\n",
       "           2.6637, 2.6637, 2.6637, 2.6637, 4.6351, 3.6571, 2.6637, 2.6637,\n",
       "           2.6637, 2.6637, 2.6637, 2.6637, 2.6637, 2.6637, 3.3027, 2.6637,\n",
       "           3.2801, 2.6637, 2.6637, 2.6637]]], grad_fn=<UnsafeViewBackward0>))"
      ]
     },
     "execution_count": 77,
     "metadata": {},
     "output_type": "execute_result"
    }
   ],
   "source": [
    "logits = lm_head(x)\n",
    "logits.shape, logits"
   ]
  },
  {
   "cell_type": "markdown",
   "id": "a4ed1cae-6af9-4211-82b1-8930196c48c3",
   "metadata": {},
   "source": [
    "### Updated Loss calculation"
   ]
  },
  {
   "cell_type": "markdown",
   "id": "2c101fbc-97fc-4dc2-b99e-1cff59d22f5d",
   "metadata": {},
   "source": [
    "Now we'll calculate the updated loss.  Our first pass's loss was 3.5835, on par with random. Since we're passing through the same example and used a fairly high learning rate we should see a significant improvement with just 1 learning pass. "
   ]
  },
  {
   "cell_type": "code",
   "execution_count": 78,
   "id": "0a12e542-dda9-4cb4-9611-bcb157515806",
   "metadata": {},
   "outputs": [
    {
     "data": {
      "text/plain": [
       "tensor(3.5835, grad_fn=<NllLossBackward0>)"
      ]
     },
     "execution_count": 78,
     "metadata": {},
     "output_type": "execute_result"
    }
   ],
   "source": [
    "loss"
   ]
  },
  {
   "cell_type": "code",
   "execution_count": 79,
   "id": "c2c2eb99-d188-4de7-a4ee-27917e3cec75",
   "metadata": {},
   "outputs": [
    {
     "name": "stdout",
     "output_type": "stream",
     "text": [
      "torch.Size([]) tensor(2.9050, grad_fn=<NllLossBackward0>)\n"
     ]
    }
   ],
   "source": [
    "y_flat = y.view(-1)\n",
    "logits_flat = logits.view(-1, logits.size(-1))\n",
    "updated_loss = F.cross_entropy(logits_flat, y_flat)\n",
    "print(updated_loss.shape, updated_loss)"
   ]
  },
  {
   "cell_type": "code",
   "execution_count": 80,
   "id": "53363221-ba7b-49f8-8f6a-88c6db647277",
   "metadata": {},
   "outputs": [
    {
     "data": {
      "text/plain": [
       "'1 round of training resulted in an loss improvment of 0.6785'"
      ]
     },
     "execution_count": 80,
     "metadata": {},
     "output_type": "execute_result"
    }
   ],
   "source": [
    "f'1 round of training resulted in an loss improvment of {loss.item() - updated_loss.item():.4f}'"
   ]
  },
  {
   "cell_type": "markdown",
   "id": "9f56dfda-a142-40b3-b66f-60cb6cae0a8e",
   "metadata": {},
   "source": [
    "## Training SUCCESS!\n",
    "Our training improved the loss by about **~20%** (amount may vary since we didn't set a seed). There are flaws with this, mainly passing the same example through a second time and a crazy high learning rate, but this helps show the fundamentals of what learning does inside a LSTM style RNN model. "
   ]
  },
  {
   "cell_type": "markdown",
   "id": "297fb508-79fa-43a2-b8f8-9a8e15ec31ac",
   "metadata": {},
   "source": [
    "## Logit to Token"
   ]
  },
  {
   "cell_type": "markdown",
   "id": "c0875d25-9ef2-4c71-93fc-d2993723e063",
   "metadata": {},
   "source": [
    "For our last piece of code on this notebook, we'll actually now convert our logits into actual \"next tokens\", the goal of this head.  To predict the next tokens we convert:\n",
    "1. Convert our logits into probabilities\n",
    "2. Sample from the logits based on the probabilities\n",
    "3. Convert the token ids into tokens.\n",
    "\n",
    "As you can see the sampling is non-deterministics. This allows the next token to flow in a more realistic  conversational manner since, if we sample many tokens, over time we won't always pick the highest probability id. Some people read this as creativity, or consciousness, others point to this being one of a few key reasons for hallucinations (which are also caused by the fact that models don't fully memorize every piece of training data), but in reality it's just statistics. "
   ]
  },
  {
   "cell_type": "markdown",
   "id": "1e2cefec-9424-4c46-b36e-620dc0031638",
   "metadata": {},
   "source": [
    "### Logit and Input shaping\n",
    "Similar to other steps, we first have to get our tensors into the right dimensions. We'll start by compressing out our batch dimension so we just have a a tensor that shows our `[B*T,logits]`, or otherwise, an entry for each example ignoring our batch.  We'll also reinitialize our input tokens and do the same transformation so that we have a tensor ready to append to. "
   ]
  },
  {
   "cell_type": "code",
   "execution_count": 81,
   "id": "c3495604-6a0f-4bb0-9215-32c270c701d4",
   "metadata": {},
   "outputs": [
    {
     "data": {
      "text/plain": [
       "(torch.Size([16, 36]),\n",
       " tensor([[2.7845, 1.8591, 1.8591, 1.8591, 1.8591, 2.9957, 2.4681, 1.8591, 1.8591,\n",
       "          2.8550, 1.8591, 2.5283, 1.8591, 2.3051, 1.8591, 3.0190, 1.8591, 1.8591,\n",
       "          1.8591, 1.8591, 3.2351, 2.5525, 1.8591, 1.8591, 1.8591, 1.8591, 1.8591,\n",
       "          1.8591, 1.8591, 1.8591, 2.3051, 1.8591, 2.2893, 1.8591, 1.8591, 1.8591],\n",
       "         [3.6319, 2.4249, 2.4249, 2.4249, 2.4249, 3.9073, 3.2192, 2.4249, 2.4249,\n",
       "          3.7240, 2.4249, 3.2978, 2.4249, 3.0065, 2.4249, 3.9378, 2.4249, 2.4249,\n",
       "          2.4249, 2.4249, 4.2197, 3.3293, 2.4249, 2.4249, 2.4249, 2.4249, 2.4249,\n",
       "          2.4249, 2.4249, 2.4249, 3.0067, 2.4249, 2.9861, 2.4249, 2.4249, 2.4249],\n",
       "         [2.8473, 1.8294, 1.8294, 1.8294, 1.8294, 2.8326, 2.4251, 1.8294, 1.8294,\n",
       "          2.7276, 1.8294, 2.4840, 1.8294, 2.1566, 1.8294, 2.9639, 1.8294, 1.8294,\n",
       "          1.8294, 1.8294, 3.1753, 2.5076, 1.8294, 1.8294, 1.8294, 1.8294, 1.8294,\n",
       "          1.8294, 1.8294, 1.8294, 2.1567, 1.8294, 2.1451, 1.8294, 1.8294, 1.8294],\n",
       "         [4.1450, 2.7676, 2.7676, 2.7676, 2.7676, 4.4596, 3.6741, 2.7676, 2.7676,\n",
       "          4.2502, 2.7676, 3.7638, 2.7676, 3.4314, 2.7676, 4.4943, 2.7676, 2.7676,\n",
       "          2.7676, 2.7676, 4.8160, 3.7998, 2.7676, 2.7676, 2.7676, 2.7676, 2.7676,\n",
       "          2.7676, 2.7676, 2.7676, 3.4316, 2.7676, 3.4081, 2.7676, 2.7676, 2.7676],\n",
       "         [4.1572, 2.7757, 2.7757, 2.7757, 2.7757, 4.4726, 3.6849, 2.7757, 2.7757,\n",
       "          4.2627, 2.7757, 3.7748, 2.7757, 3.4414, 2.7757, 4.5074, 2.7757, 2.7757,\n",
       "          2.7757, 2.7757, 4.8301, 3.8109, 2.7757, 2.7757, 2.7757, 2.7757, 2.7757,\n",
       "          2.7757, 2.7757, 2.7757, 3.4416, 2.7757, 3.4181, 2.7757, 2.7757, 2.7757],\n",
       "         [4.1590, 2.7770, 2.7770, 2.7770, 2.7770, 4.4746, 3.6865, 2.7770, 2.7770,\n",
       "          4.2646, 2.7770, 3.7765, 2.7770, 3.4430, 2.7770, 4.5095, 2.7770, 2.7770,\n",
       "          2.7770, 2.7770, 4.8322, 3.8126, 2.7770, 2.7770, 2.7770, 2.7770, 2.7770,\n",
       "          2.7770, 2.7770, 2.7770, 3.4432, 2.7770, 3.4196, 2.7770, 2.7770, 2.7770],\n",
       "         [3.9993, 2.6703, 2.6703, 2.6703, 2.6703, 4.3028, 3.5450, 2.6703, 2.6703,\n",
       "          4.1008, 2.6703, 3.6315, 2.6703, 3.3107, 2.6703, 4.3363, 2.6703, 2.6703,\n",
       "          2.6703, 2.6703, 4.6467, 3.6662, 2.6703, 2.6703, 2.6703, 2.6703, 2.6703,\n",
       "          2.6703, 2.6703, 2.6703, 3.3110, 2.6703, 3.2883, 2.6703, 2.6703, 2.6703],\n",
       "         [4.1533, 2.7731, 2.7731, 2.7731, 2.7731, 4.4685, 3.6815, 2.7731, 2.7731,\n",
       "          4.2587, 2.7731, 3.7713, 2.7731, 3.4383, 2.7731, 4.5033, 2.7731, 2.7731,\n",
       "          2.7731, 2.7731, 4.8256, 3.8074, 2.7731, 2.7731, 2.7731, 2.7731, 2.7731,\n",
       "          2.7731, 2.7731, 2.7731, 3.4385, 2.7731, 3.4149, 2.7731, 2.7731, 2.7731],\n",
       "         [2.3950, 1.5990, 1.5990, 1.5990, 1.5990, 2.5766, 2.1227, 1.5990, 1.5990,\n",
       "          2.4555, 1.5990, 2.1745, 1.5990, 1.9825, 1.5990, 2.5966, 1.5990, 1.5990,\n",
       "          1.5990, 1.5990, 2.7825, 2.1954, 1.5990, 1.5990, 1.5990, 1.5990, 1.5990,\n",
       "          1.5990, 1.5990, 1.5990, 1.9825, 1.5990, 1.9689, 1.5990, 1.5990, 1.5990],\n",
       "         [3.7911, 2.5312, 2.5312, 2.5312, 2.5312, 4.0787, 3.3603, 2.5312, 2.5312,\n",
       "          3.8872, 2.5312, 3.4423, 2.5312, 3.1384, 2.5312, 4.1104, 2.5312, 2.5312,\n",
       "          2.5312, 2.5312, 4.4047, 3.4753, 2.5312, 2.5312, 2.5312, 2.5312, 2.5312,\n",
       "          2.5312, 2.5312, 2.5312, 3.1385, 2.5312, 3.1170, 2.5312, 2.5312, 2.5312],\n",
       "         [3.9109, 2.6113, 2.6113, 2.6113, 2.6113, 4.2076, 3.4666, 2.6113, 2.6113,\n",
       "          4.0101, 2.6113, 3.5512, 2.6113, 3.2375, 2.6113, 4.2404, 2.6113, 2.6113,\n",
       "          2.6113, 2.6113, 4.5439, 3.5852, 2.6113, 2.6113, 2.6113, 2.6113, 2.6113,\n",
       "          2.6113, 2.6113, 2.6113, 3.2377, 2.6113, 3.2155, 2.6113, 2.6113, 2.6113],\n",
       "         [4.1363, 2.7618, 2.7618, 2.7618, 2.7618, 4.4502, 3.6664, 2.7618, 2.7618,\n",
       "          4.2413, 2.7618, 3.7559, 2.7618, 3.4242, 2.7618, 4.4848, 2.7618, 2.7618,\n",
       "          2.7618, 2.7618, 4.8059, 3.7918, 2.7618, 2.7618, 2.7618, 2.7618, 2.7618,\n",
       "          2.7618, 2.7618, 2.7618, 3.4244, 2.7618, 3.4009, 2.7618, 2.7618, 2.7618],\n",
       "         [4.1563, 2.7751, 2.7751, 2.7751, 2.7751, 4.4717, 3.6841, 2.7751, 2.7751,\n",
       "          4.2618, 2.7751, 3.7740, 2.7751, 3.4407, 2.7751, 4.5065, 2.7751, 2.7751,\n",
       "          2.7751, 2.7751, 4.8291, 3.8101, 2.7751, 2.7751, 2.7751, 2.7751, 2.7751,\n",
       "          2.7751, 2.7751, 2.7751, 3.4409, 2.7751, 3.4173, 2.7751, 2.7751, 2.7751],\n",
       "         [4.1597, 2.7774, 2.7774, 2.7774, 2.7774, 4.4754, 3.6871, 2.7774, 2.7774,\n",
       "          4.2653, 2.7774, 3.7771, 2.7774, 3.4435, 2.7774, 4.5102, 2.7774, 2.7774,\n",
       "          2.7774, 2.7774, 4.8330, 3.8133, 2.7774, 2.7774, 2.7774, 2.7774, 2.7774,\n",
       "          2.7774, 2.7774, 2.7774, 3.4437, 2.7774, 3.4201, 2.7774, 2.7774, 2.7774],\n",
       "         [3.9985, 2.6697, 2.6697, 2.6697, 2.6697, 4.3018, 3.5442, 2.6697, 2.6697,\n",
       "          4.0999, 2.6697, 3.6307, 2.6697, 3.3100, 2.6697, 4.3353, 2.6697, 2.6697,\n",
       "          2.6697, 2.6697, 4.6457, 3.6654, 2.6697, 2.6697, 2.6697, 2.6697, 2.6697,\n",
       "          2.6697, 2.6697, 2.6697, 3.3102, 2.6697, 3.2875, 2.6697, 2.6697, 2.6697],\n",
       "         [3.9894, 2.6637, 2.6637, 2.6637, 2.6637, 4.2921, 3.5362, 2.6637, 2.6637,\n",
       "          4.0906, 2.6637, 3.6225, 2.6637, 3.3025, 2.6637, 4.3255, 2.6637, 2.6637,\n",
       "          2.6637, 2.6637, 4.6351, 3.6571, 2.6637, 2.6637, 2.6637, 2.6637, 2.6637,\n",
       "          2.6637, 2.6637, 2.6637, 3.3027, 2.6637, 3.2801, 2.6637, 2.6637, 2.6637]],\n",
       "        grad_fn=<ViewBackward0>))"
      ]
     },
     "execution_count": 81,
     "metadata": {},
     "output_type": "execute_result"
    }
   ],
   "source": [
    "pred_logits = logits.flatten(0, 1) \n",
    "pred_logits.size(), pred_logits"
   ]
  },
  {
   "cell_type": "markdown",
   "id": "e13733d2-ea1f-4146-b86d-0a2534bac9e1",
   "metadata": {},
   "source": [
    "**Input Shaping**\n",
    "\n",
    "For our input, in this scenario recall that even though our initial x had 2 dimensions `[B,T]`, each `T` was actually representative of T examples, 1 for each token entry.  Because of this, we actually have to expand our examples similar to how our attention block does it. We do have to be careful to preserve the order as they align with our logit order. Our result will look like 2 triangles stacked."
   ]
  },
  {
   "cell_type": "code",
   "execution_count": 82,
   "id": "ab7d98f9-5b12-4d4d-98ba-632d92ecd7c1",
   "metadata": {},
   "outputs": [
    {
     "data": {
      "text/plain": [
       "[[35],\n",
       " [35, 15],\n",
       " [35, 15, 32],\n",
       " [35, 15, 32, 9],\n",
       " [35, 15, 32, 9, 5],\n",
       " [35, 15, 32, 9, 5, 20],\n",
       " [35, 15, 32, 9, 5, 20, 30],\n",
       " [35, 15, 32, 9, 5, 20, 30, 15],\n",
       " [11],\n",
       " [11, 9],\n",
       " [11, 9, 6],\n",
       " [11, 9, 6, 20],\n",
       " [11, 9, 6, 20, 5],\n",
       " [11, 9, 6, 20, 5, 0],\n",
       " [11, 9, 6, 20, 5, 0, 13],\n",
       " [11, 9, 6, 20, 5, 0, 13, 21]]"
      ]
     },
     "execution_count": 82,
     "metadata": {},
     "output_type": "execute_result"
    }
   ],
   "source": [
    "xgen = tok_for_training[:-1].view(B_batch, T_context)\n",
    "xgen = [xgen[b:b+1, :i+1][0].tolist() for b in range(B_batch) for i in range(T_context)]\n",
    "xgen"
   ]
  },
  {
   "cell_type": "markdown",
   "id": "6ba456a7-af28-487a-baac-a5cd18affb3b",
   "metadata": {},
   "source": [
    "### Logit into probabilities. \n",
    "If you inspect the logits, you'll notice that they don't sum up to `1.000`. Our goal is to understand the probability of each token in our vocab as being the next one.  Because of this we need to convert our weight to probabilities.  The most common approach is to use Softmax, which rescales a tensor so that the elements of the n-dimensional output Tensor lie in the range `(0,1)` and sum to 1. This is done applying the following formula based on the dimension specified:\n",
    "\n",
    "$$\n",
    "\\mathrm{Softmax}(x)_i = \\frac{\\exp(x_i)}{\\sum_{j} \\exp(x_j)}\n",
    "$$\n",
    "\n",
    "*Note that when the input Tensor is a sparse tensor then the unspecified values are treated as $-\\infty$. This is handy in steps like attention masking.*"
   ]
  },
  {
   "cell_type": "code",
   "execution_count": 83,
   "id": "1118bdb4-7172-4a91-91c8-28559e5b2ef4",
   "metadata": {},
   "outputs": [
    {
     "data": {
      "text/plain": [
       "tensor([[0.0495, 0.0196, 0.0196, 0.0196, 0.0196, 0.0612, 0.0361, 0.0196, 0.0196,\n",
       "         0.0531, 0.0196, 0.0383, 0.0196, 0.0307, 0.0196, 0.0626, 0.0196, 0.0196,\n",
       "         0.0196, 0.0196, 0.0777, 0.0393, 0.0196, 0.0196, 0.0196, 0.0196, 0.0196,\n",
       "         0.0196, 0.0196, 0.0196, 0.0307, 0.0196, 0.0302, 0.0196, 0.0196, 0.0196],\n",
       "        [0.0563, 0.0168, 0.0168, 0.0168, 0.0168, 0.0742, 0.0373, 0.0168, 0.0168,\n",
       "         0.0617, 0.0168, 0.0403, 0.0168, 0.0301, 0.0168, 0.0765, 0.0168, 0.0168,\n",
       "         0.0168, 0.0168, 0.1014, 0.0416, 0.0168, 0.0168, 0.0168, 0.0168, 0.0168,\n",
       "         0.0168, 0.0168, 0.0168, 0.0301, 0.0168, 0.0295, 0.0168, 0.0168, 0.0168],\n",
       "        [0.0556, 0.0201, 0.0201, 0.0201, 0.0201, 0.0548, 0.0365, 0.0201, 0.0201,\n",
       "         0.0493, 0.0201, 0.0387, 0.0201, 0.0279, 0.0201, 0.0625, 0.0201, 0.0201,\n",
       "         0.0201, 0.0201, 0.0772, 0.0396, 0.0201, 0.0201, 0.0201, 0.0201, 0.0201,\n",
       "         0.0201, 0.0201, 0.0201, 0.0279, 0.0201, 0.0276, 0.0201, 0.0201, 0.0201],\n",
       "        [0.0601, 0.0152, 0.0152, 0.0152, 0.0152, 0.0823, 0.0375, 0.0152, 0.0152,\n",
       "         0.0668, 0.0152, 0.0411, 0.0152, 0.0294, 0.0152, 0.0852, 0.0152, 0.0152,\n",
       "         0.0152, 0.0152, 0.1176, 0.0426, 0.0152, 0.0152, 0.0152, 0.0152, 0.0152,\n",
       "         0.0152, 0.0152, 0.0152, 0.0295, 0.0152, 0.0288, 0.0152, 0.0152, 0.0152],\n",
       "        [0.0602, 0.0151, 0.0151, 0.0151, 0.0151, 0.0825, 0.0375, 0.0151, 0.0151,\n",
       "         0.0669, 0.0151, 0.0411, 0.0151, 0.0294, 0.0151, 0.0855, 0.0151, 0.0151,\n",
       "         0.0151, 0.0151, 0.1180, 0.0426, 0.0151, 0.0151, 0.0151, 0.0151, 0.0151,\n",
       "         0.0151, 0.0151, 0.0151, 0.0294, 0.0151, 0.0287, 0.0151, 0.0151, 0.0151],\n",
       "        [0.0602, 0.0151, 0.0151, 0.0151, 0.0151, 0.0826, 0.0375, 0.0151, 0.0151,\n",
       "         0.0669, 0.0151, 0.0411, 0.0151, 0.0294, 0.0151, 0.0855, 0.0151, 0.0151,\n",
       "         0.0151, 0.0151, 0.1181, 0.0426, 0.0151, 0.0151, 0.0151, 0.0151, 0.0151,\n",
       "         0.0151, 0.0151, 0.0151, 0.0294, 0.0151, 0.0287, 0.0151, 0.0151, 0.0151],\n",
       "        [0.0591, 0.0156, 0.0156, 0.0156, 0.0156, 0.0800, 0.0375, 0.0156, 0.0156,\n",
       "         0.0654, 0.0156, 0.0409, 0.0156, 0.0297, 0.0156, 0.0827, 0.0156, 0.0156,\n",
       "         0.0156, 0.0156, 0.1128, 0.0423, 0.0156, 0.0156, 0.0156, 0.0156, 0.0156,\n",
       "         0.0156, 0.0156, 0.0156, 0.0297, 0.0156, 0.0290, 0.0156, 0.0156, 0.0156],\n",
       "        [0.0602, 0.0151, 0.0151, 0.0151, 0.0151, 0.0825, 0.0375, 0.0151, 0.0151,\n",
       "         0.0669, 0.0151, 0.0411, 0.0151, 0.0294, 0.0151, 0.0854, 0.0151, 0.0151,\n",
       "         0.0151, 0.0151, 0.1179, 0.0426, 0.0151, 0.0151, 0.0151, 0.0151, 0.0151,\n",
       "         0.0151, 0.0151, 0.0151, 0.0294, 0.0151, 0.0288, 0.0151, 0.0151, 0.0151],\n",
       "        [0.0463, 0.0209, 0.0209, 0.0209, 0.0209, 0.0555, 0.0353, 0.0209, 0.0209,\n",
       "         0.0492, 0.0209, 0.0371, 0.0209, 0.0307, 0.0209, 0.0566, 0.0209, 0.0209,\n",
       "         0.0209, 0.0209, 0.0682, 0.0379, 0.0209, 0.0209, 0.0209, 0.0209, 0.0209,\n",
       "         0.0209, 0.0209, 0.0209, 0.0307, 0.0209, 0.0302, 0.0209, 0.0209, 0.0209],\n",
       "        [0.0575, 0.0163, 0.0163, 0.0163, 0.0163, 0.0767, 0.0374, 0.0163, 0.0163,\n",
       "         0.0633, 0.0163, 0.0406, 0.0163, 0.0299, 0.0163, 0.0792, 0.0163, 0.0163,\n",
       "         0.0163, 0.0163, 0.1062, 0.0419, 0.0163, 0.0163, 0.0163, 0.0163, 0.0163,\n",
       "         0.0163, 0.0163, 0.0163, 0.0299, 0.0163, 0.0293, 0.0163, 0.0163, 0.0163],\n",
       "        [0.0584, 0.0159, 0.0159, 0.0159, 0.0159, 0.0786, 0.0375, 0.0159, 0.0159,\n",
       "         0.0645, 0.0159, 0.0408, 0.0159, 0.0298, 0.0159, 0.0812, 0.0159, 0.0159,\n",
       "         0.0159, 0.0159, 0.1100, 0.0422, 0.0159, 0.0159, 0.0159, 0.0159, 0.0159,\n",
       "         0.0159, 0.0159, 0.0159, 0.0298, 0.0159, 0.0291, 0.0159, 0.0159, 0.0159],\n",
       "        [0.0601, 0.0152, 0.0152, 0.0152, 0.0152, 0.0822, 0.0375, 0.0152, 0.0152,\n",
       "         0.0667, 0.0152, 0.0411, 0.0152, 0.0295, 0.0152, 0.0851, 0.0152, 0.0152,\n",
       "         0.0152, 0.0152, 0.1173, 0.0426, 0.0152, 0.0152, 0.0152, 0.0152, 0.0152,\n",
       "         0.0152, 0.0152, 0.0152, 0.0295, 0.0152, 0.0288, 0.0152, 0.0152, 0.0152],\n",
       "        [0.0602, 0.0151, 0.0151, 0.0151, 0.0151, 0.0825, 0.0375, 0.0151, 0.0151,\n",
       "         0.0669, 0.0151, 0.0411, 0.0151, 0.0294, 0.0151, 0.0854, 0.0151, 0.0151,\n",
       "         0.0151, 0.0151, 0.1180, 0.0426, 0.0151, 0.0151, 0.0151, 0.0151, 0.0151,\n",
       "         0.0151, 0.0151, 0.0151, 0.0294, 0.0151, 0.0288, 0.0151, 0.0151, 0.0151],\n",
       "        [0.0602, 0.0151, 0.0151, 0.0151, 0.0151, 0.0826, 0.0375, 0.0151, 0.0151,\n",
       "         0.0669, 0.0151, 0.0411, 0.0151, 0.0294, 0.0151, 0.0855, 0.0151, 0.0151,\n",
       "         0.0151, 0.0151, 0.1181, 0.0426, 0.0151, 0.0151, 0.0151, 0.0151, 0.0151,\n",
       "         0.0151, 0.0151, 0.0151, 0.0294, 0.0151, 0.0287, 0.0151, 0.0151, 0.0151],\n",
       "        [0.0591, 0.0156, 0.0156, 0.0156, 0.0156, 0.0800, 0.0375, 0.0156, 0.0156,\n",
       "         0.0654, 0.0156, 0.0409, 0.0156, 0.0297, 0.0156, 0.0827, 0.0156, 0.0156,\n",
       "         0.0156, 0.0156, 0.1128, 0.0423, 0.0156, 0.0156, 0.0156, 0.0156, 0.0156,\n",
       "         0.0156, 0.0156, 0.0156, 0.0297, 0.0156, 0.0290, 0.0156, 0.0156, 0.0156],\n",
       "        [0.0590, 0.0157, 0.0157, 0.0157, 0.0157, 0.0798, 0.0375, 0.0157, 0.0157,\n",
       "         0.0653, 0.0157, 0.0409, 0.0157, 0.0297, 0.0157, 0.0826, 0.0157, 0.0157,\n",
       "         0.0157, 0.0157, 0.1125, 0.0423, 0.0157, 0.0157, 0.0157, 0.0157, 0.0157,\n",
       "         0.0157, 0.0157, 0.0157, 0.0297, 0.0157, 0.0290, 0.0157, 0.0157, 0.0157]],\n",
       "       grad_fn=<SoftmaxBackward0>)"
      ]
     },
     "execution_count": 83,
     "metadata": {},
     "output_type": "execute_result"
    }
   ],
   "source": [
    "probs = F.softmax(pred_logits, dim=-1)\n",
    "probs"
   ]
  },
  {
   "cell_type": "markdown",
   "id": "5d8cf9b6-011d-462c-83e3-a7238a4e8964",
   "metadata": {},
   "source": [
    "### Token Sampling \n",
    "Now that we have probabilities, we can now perform our sampling. Because next-token sampling is a categorical draw from the model’s softmax, `torch.multinomial` is the go-to choice for sampling from discrete distributions.  Multinomial takes non-negative weights (e.g., $\\mathrm{softmax}(\\ell/T)$ or $\\exp(\\ell/T))$ and returns indices without having to write complex loops. You can also tune its behavior with different temperatures and using top-k/top-p slicing. We'll keep things simple and just draw a single token. \n",
    "\n",
    "In cases where you'd want to generate a lot of text (e.g. chatbot use cases), instead of doing multi-sampling, you'd run the forward pass, sample, then using that sample, run another forward pass, iteratively. \n",
    "\n",
    "Once we sample the tokens we'll then append them to our input X `xgen` to generate `T_context+1` long examples. "
   ]
  },
  {
   "cell_type": "code",
   "execution_count": 84,
   "id": "d0983bc6-01c6-4d1f-b2bb-2ae4beeb10f6",
   "metadata": {},
   "outputs": [
    {
     "data": {
      "text/plain": [
       "[[4],\n",
       " [9],\n",
       " [11],\n",
       " [0],\n",
       " [9],\n",
       " [8],\n",
       " [0],\n",
       " [7],\n",
       " [5],\n",
       " [20],\n",
       " [14],\n",
       " [5],\n",
       " [20],\n",
       " [20],\n",
       " [0],\n",
       " [26]]"
      ]
     },
     "execution_count": 84,
     "metadata": {},
     "output_type": "execute_result"
    }
   ],
   "source": [
    "xcol = torch.multinomial(probs, 1).tolist()\n",
    "xcol"
   ]
  },
  {
   "cell_type": "code",
   "execution_count": 85,
   "id": "e3d3a0db-938e-4fee-b9d7-37253417792f",
   "metadata": {},
   "outputs": [
    {
     "data": {
      "text/plain": [
       "[[35, 4],\n",
       " [35, 15, 9],\n",
       " [35, 15, 32, 11],\n",
       " [35, 15, 32, 9, 0],\n",
       " [35, 15, 32, 9, 5, 9],\n",
       " [35, 15, 32, 9, 5, 20, 8],\n",
       " [35, 15, 32, 9, 5, 20, 30, 0],\n",
       " [35, 15, 32, 9, 5, 20, 30, 15, 7],\n",
       " [11, 5],\n",
       " [11, 9, 20],\n",
       " [11, 9, 6, 14],\n",
       " [11, 9, 6, 20, 5],\n",
       " [11, 9, 6, 20, 5, 20],\n",
       " [11, 9, 6, 20, 5, 0, 20],\n",
       " [11, 9, 6, 20, 5, 0, 13, 0],\n",
       " [11, 9, 6, 20, 5, 0, 13, 21, 26]]"
      ]
     },
     "execution_count": 85,
     "metadata": {},
     "output_type": "execute_result"
    }
   ],
   "source": [
    "xgen = [xg + xc for xg, xc in zip(xgen, xcol)] \n",
    "xgen"
   ]
  },
  {
   "cell_type": "markdown",
   "id": "ce40b07f-0177-4aee-9c35-148192f34704",
   "metadata": {},
   "source": [
    "### Converting into tokens. \n",
    "Now that we have our tokens generated and appended we just have to convert them back into the original text using our tokenizer. We'll also print out our original text to see how close it gets. "
   ]
  },
  {
   "cell_type": "code",
   "execution_count": 86,
   "id": "3f3b2ffb-27b0-4069-92b6-6cf078ac7c0a",
   "metadata": {},
   "outputs": [],
   "source": [
    "real_toks = torch.stack((tok_for_training[:9], tok_for_training[8:]), dim=0)\n",
    "real_toks = [real_toks[b:b+1, :i+2][0].tolist() for b in range(2) for i in range(8)]"
   ]
  },
  {
   "cell_type": "code",
   "execution_count": 87,
   "id": "da9d5d27-9e53-4915-84b1-05c2cadee5b3",
   "metadata": {
    "scrolled": true
   },
   "outputs": [
    {
     "name": "stdout",
     "output_type": "stream",
     "text": [
      "     Real: <|endoftext|>l\n",
      "Generated: <|endoftext|>.\n",
      "     Real: <|endoftext|>lin\n",
      "Generated: <|endoftext|>le\n",
      "     Real: <|endoftext|>line\n",
      "Generated: <|endoftext|>ling\n",
      "     Real: <|endoftext|>linea\n",
      "Generated: <|endoftext|>line \n",
      "     Real: <|endoftext|>linear\n",
      "Generated: <|endoftext|>lineae\n",
      "     Real: <|endoftext|>linear a\n",
      "Generated: <|endoftext|>lineard\n",
      "     Real: <|endoftext|>linear al\n",
      "Generated: <|endoftext|>linear a \n",
      "     Real: <|endoftext|>linear alg\n",
      "Generated: <|endoftext|>linear alc\n",
      "     Real: ge\n",
      "Generated: ga\n",
      "     Real: geb\n",
      "Generated: ger\n",
      "     Real: gebr\n",
      "Generated: gebj\n",
      "----MATCHING for index 11!----\n",
      "     Real: gebra\n",
      "Generated: gebra\n",
      "     Real: gebra \n",
      "Generated: gebrar\n",
      "     Real: gebra i\n",
      "Generated: gebra r\n",
      "     Real: gebra is\n",
      "Generated: gebra i \n",
      "     Real: gebra is \n",
      "Generated: gebra isx\n"
     ]
    }
   ],
   "source": [
    "for i in range(len(xgen)):\n",
    "    if real_toks[i] == xgen[i]:\n",
    "        print(f'----MATCHING for index {i}!----')\n",
    "    print(f'     Real: {tok.decode(real_toks[i])}')\n",
    "    print(f'Generated: {tok.decode(xgen[i])}')\n",
    "    "
   ]
  },
  {
   "cell_type": "markdown",
   "id": "8bafd7f5-60c9-49e5-bfb1-b25478851112",
   "metadata": {},
   "source": [
    "## Conclusion \n",
    "So you might look at this now and say \"wait, the predicted text is mostly different than our correct text, yet our loss decreased, what's going on?\".  To this I'd point to our loss function, it compares all logits, so as long as the probability for the right logit increases and the wrong logits decrease, the loss will decrease, yet, unless it's 0, it's not perfect. One other interesting thing here is that you can also see that 1 token != 1 character. In our tokenizer we use merges to represent common patterns as a single token so, when that token is predicted as next, the example gets all the characters for that merge.  "
   ]
  },
  {
   "cell_type": "code",
   "execution_count": null,
   "id": "dcb0fdc0-5335-49e5-8d21-5c11b9842d1e",
   "metadata": {},
   "outputs": [],
   "source": []
  }
 ],
 "metadata": {
  "kernelspec": {
   "display_name": "Python 3 (ipykernel)",
   "language": "python",
   "name": "python3"
  },
  "language_info": {
   "codemirror_mode": {
    "name": "ipython",
    "version": 3
   },
   "file_extension": ".py",
   "mimetype": "text/x-python",
   "name": "python",
   "nbconvert_exporter": "python",
   "pygments_lexer": "ipython3",
   "version": "3.13.7"
  }
 },
 "nbformat": 4,
 "nbformat_minor": 5
}
