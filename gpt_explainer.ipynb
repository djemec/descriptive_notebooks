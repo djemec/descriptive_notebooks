{
 "cells": [
  {
   "cell_type": "markdown",
   "id": "1a8f1341-7d67-4e5b-9eda-23ee1e4fb4a2",
   "metadata": {},
   "source": [
    "# GPT Explainer"
   ]
  },
  {
   "cell_type": "markdown",
   "id": "af962655-070a-43d7-a3cf-a4ef90f3096d",
   "metadata": {},
   "source": [
    "the purpose of this is to walk through what happens during the forward pass and backward pass of GPT-2 like models.  To help display the transformation, we'll use the first sentence from the [linear algebra wiki page](https://en.wikipedia.org/wiki/Linear_algebra) and [lu decomposition wiki page](https://en.wikipedia.org/wiki/LU_decomposition) as the topic is fitting and it shows us some non-standard patterns.  "
   ]
  },
  {
   "cell_type": "markdown",
   "id": "0ba0d1fa-baff-47b0-94ec-6bb0e4aaeded",
   "metadata": {},
   "source": [
    "## Text Prep/Tokenization"
   ]
  },
  {
   "cell_type": "markdown",
   "id": "10c1067a-aa58-4916-af71-d24e1faa80da",
   "metadata": {},
   "source": [
    "we'll start with common preprocessing step of tokenizing the data.  This converts the string text into an array of numbers that can be used during the training loop.  I've built a very subtle byte-pair encdoing that has each unique character that appears and the top 5 merges. This keeps our vocab size small and managable for this example. Typically the vocab size is in the 100K+ range. A great library for this is `tiktoken`. Tokenization simply finds the longest pattern of characters that's in common with what was trained and replaces it with an integer that represents it.  This way we turn the text into a numeric array to simplify computing. "
   ]
  },
  {
   "cell_type": "code",
   "execution_count": 1,
   "id": "4d0fa4a6-5aeb-4d5e-b233-5594176e55c0",
   "metadata": {},
   "outputs": [],
   "source": [
    "import torch\n",
    "from collections import Counter"
   ]
  },
  {
   "cell_type": "code",
   "execution_count": 2,
   "id": "c63305c1-847c-441e-8982-e76dddc05ed9",
   "metadata": {},
   "outputs": [],
   "source": [
    "class SimpleBPETokenizer:\n",
    "    def __init__(self, num_merges=5, eot_token='<|endoftext|>'):\n",
    "        self.num_merges = num_merges\n",
    "        self.eot_token = eot_token\n",
    "        self.eot_id = None\n",
    "        self.merges = []\n",
    "        self.pair_ranks = {}\n",
    "        self.vocab = {}\n",
    "        self.id_to_token = {}\n",
    "\n",
    "    def _add_token(self, tok):\n",
    "        if tok in self.vocab:\n",
    "            return self.vocab[tok]\n",
    "        i = len(self.vocab)\n",
    "        self.vocab[tok] = i\n",
    "        self.id_to_token[i] = tok\n",
    "        return i\n",
    "\n",
    "    def _get_bigrams(self, seq):\n",
    "        for i in range(len(seq) - 1):\n",
    "            yield (seq[i], seq[i + 1])\n",
    "\n",
    "    def _merge_once(self, seq, pair):\n",
    "        a, b = pair\n",
    "        out = []\n",
    "        i = 0\n",
    "        while i < len(seq):\n",
    "            if i < len(seq) - 1 and seq[i] == a and seq[i + 1] == b:\n",
    "                out.append(a + b)\n",
    "                i += 2\n",
    "            else:\n",
    "                out.append(seq[i])\n",
    "                i += 1\n",
    "        return out\n",
    "\n",
    "    def train(self, corpus):\n",
    "        # corpus: list[str]\n",
    "        text = ''.join(corpus).lower()\n",
    "        seq = list(text)\n",
    "        merges = []\n",
    "        for _ in range(self.num_merges):\n",
    "            counts = Counter(self._get_bigrams(seq))\n",
    "            if not counts: break\n",
    "            best_pair, _ = counts.most_common(1)[0]\n",
    "            merges.append(best_pair)\n",
    "            seq = self._merge_once(seq, best_pair)\n",
    "        self.merges = merges\n",
    "        self.pair_ranks = {p: i for i, p in enumerate(self.merges)}\n",
    "\n",
    "        self.vocab = {}\n",
    "        self.id_to_token = {}\n",
    "        for ch in sorted(set(text)):\n",
    "            self._add_token(ch)\n",
    "        for a, b in self.merges:\n",
    "            self._add_token(a + b)\n",
    "        self.eot_id = self._add_token(self.eot_token)\n",
    "\n",
    "    def encode(self, text, force_last_eot=True):\n",
    "        # treat literal eot marker as special; remove it from content\n",
    "        if self.eot_token in text:\n",
    "            text = text.replace(self.eot_token, '')\n",
    "        seq = list(text)\n",
    "\n",
    "        # make sure all seen base chars exist\n",
    "        for ch in set(seq):\n",
    "            if ch not in self.vocab:\n",
    "                self._add_token(ch)\n",
    "\n",
    "        # greedy BPE using learned pair ranks\n",
    "        if self.merges:\n",
    "            while True:\n",
    "                best_pair, best_rank = None, None\n",
    "                for p in self._get_bigrams(seq):\n",
    "                    r = self.pair_ranks.get(p)\n",
    "                    if r is not None and (best_rank is None or r < best_rank):\n",
    "                        best_pair, best_rank = p, r\n",
    "                if best_pair is None:\n",
    "                    break\n",
    "                seq = self._merge_once(seq, best_pair)\n",
    "\n",
    "        # ensure all tokens in seq exist in vocab (e.g., if new chars appeared)\n",
    "        for tok in seq:\n",
    "            if tok not in self.vocab:\n",
    "                self._add_token(tok)\n",
    "\n",
    "        ids = [self.vocab[tok] for tok in seq]\n",
    "\n",
    "        # FORCE: append EOT id if not already last\n",
    "        if force_last_eot:\n",
    "            if not ids or ids[-1] != self.eot_id:\n",
    "                ids.append(self.eot_id)\n",
    "\n",
    "        return ids\n",
    "\n",
    "    def decode(self, ids):\n",
    "        # drop trailing EOT if present\n",
    "        if ids and self.eot_id is not None and ids[-1] == self.eot_id:\n",
    "            ids = ids[:-1]\n",
    "        toks = [self.id_to_token[i] for i in ids]\n",
    "        return ''.join(toks)\n"
   ]
  },
  {
   "cell_type": "code",
   "execution_count": 3,
   "id": "0a475495-4b2d-4484-ba7c-8c6fa7ecedb1",
   "metadata": {},
   "outputs": [],
   "source": [
    "raw_example_1 = r'''Linear algebra is central to almost all areas of mathematics. For instance, linear algebra is fundamental in modern presentations of geometry, including for defining basic objects such as lines, planes and rotations. Also, functional analysis, a branch of mathematical analysis, may be viewed as the application of linear algebra to function spaces.'''\n",
    "raw_example_2 = r'''In numerical analysis and linear algebra, lower–upper (LU) decomposition or factorization factors a matrix as the product of a lower triangular matrix and an upper triangular matrix (see matrix multiplication and matrix decomposition).'''\n"
   ]
  },
  {
   "cell_type": "code",
   "execution_count": 4,
   "id": "6381f444-a72c-4093-9d91-9cec01e2c2e7",
   "metadata": {},
   "outputs": [
    {
     "data": {
      "text/plain": [
       "[(' ', 'a'), ('a', 't'), ('i', 'n'), (' ', 'm'), ('i', 'o')]"
      ]
     },
     "execution_count": 4,
     "metadata": {},
     "output_type": "execute_result"
    }
   ],
   "source": [
    "tok = SimpleBPETokenizer(num_merges=5)\n",
    "tok.train([raw_example_1,raw_example_2])\n",
    "tok.merges"
   ]
  },
  {
   "cell_type": "code",
   "execution_count": 5,
   "id": "9ee9498d-67c1-486d-a7dc-5b1f704af69f",
   "metadata": {},
   "outputs": [
    {
     "data": {
      "text/plain": [
       "{' ': 0,\n",
       " '(': 1,\n",
       " ')': 2,\n",
       " ',': 3,\n",
       " '.': 4,\n",
       " 'a': 5,\n",
       " 'b': 6,\n",
       " 'c': 7,\n",
       " 'd': 8,\n",
       " 'e': 9,\n",
       " 'f': 10,\n",
       " 'g': 11,\n",
       " 'h': 12,\n",
       " 'i': 13,\n",
       " 'j': 14,\n",
       " 'l': 15,\n",
       " 'm': 16,\n",
       " 'n': 17,\n",
       " 'o': 18,\n",
       " 'p': 19,\n",
       " 'r': 20,\n",
       " 's': 21,\n",
       " 't': 22,\n",
       " 'u': 23,\n",
       " 'v': 24,\n",
       " 'w': 25,\n",
       " 'x': 26,\n",
       " 'y': 27,\n",
       " 'z': 28,\n",
       " '–': 29,\n",
       " ' a': 30,\n",
       " 'at': 31,\n",
       " 'in': 32,\n",
       " ' m': 33,\n",
       " 'io': 34,\n",
       " '<|endoftext|>': 35}"
      ]
     },
     "execution_count": 5,
     "metadata": {},
     "output_type": "execute_result"
    }
   ],
   "source": [
    "tok.vocab"
   ]
  },
  {
   "cell_type": "code",
   "execution_count": 6,
   "id": "f9de51b4-9f27-4f0b-ad46-98a2074b2363",
   "metadata": {},
   "outputs": [
    {
     "data": {
      "text/plain": [
       "36"
      ]
     },
     "execution_count": 6,
     "metadata": {},
     "output_type": "execute_result"
    }
   ],
   "source": [
    "vocab_size = len(tok.vocab)\n",
    "vocab_size"
   ]
  },
  {
   "cell_type": "code",
   "execution_count": 7,
   "id": "11f1b9e7-4ec6-44fc-8e5d-6fab0fd0aff5",
   "metadata": {},
   "outputs": [
    {
     "data": {
      "text/plain": [
       "tensor([35, 15, 32,  9,  5, 20, 30, 15, 11,  9,  6, 20,  5,  0, 13, 21,  0,  7,\n",
       "         9, 17, 22, 20,  5, 15,  0, 22, 18, 30, 15, 16, 18, 21, 22, 30, 15, 15,\n",
       "        30, 20,  9,  5, 21,  0, 18, 10, 33, 31, 12,  9, 16, 31, 13,  7, 21,  4,\n",
       "         0, 10, 18, 20,  0, 32, 21, 22,  5, 17,  7,  9,  3,  0, 15, 32,  9,  5,\n",
       "        20, 30, 15, 11,  9,  6, 20,  5,  0, 13, 21,  0, 10, 23, 17,  8,  5, 16,\n",
       "         9, 17, 22,  5, 15,  0, 32, 33, 18,  8,  9, 20, 17,  0, 19, 20,  9, 21,\n",
       "         9, 17, 22, 31, 34, 17, 21,  0, 18, 10,  0, 11,  9, 18, 16,  9, 22, 20,\n",
       "        27,  3,  0, 32,  7, 15, 23,  8, 32, 11,  0, 10, 18, 20,  0,  8,  9, 10,\n",
       "        32, 32, 11,  0,  6,  5, 21, 13,  7,  0, 18,  6, 14,  9,  7, 22, 21,  0,\n",
       "        21, 23,  7, 12, 30, 21,  0, 15, 32,  9, 21,  3,  0, 19, 15,  5, 17,  9,\n",
       "        21, 30, 17,  8,  0, 20, 18, 22, 31, 34, 17, 21,  4, 30, 15, 21, 18,  3,\n",
       "         0, 10, 23, 17,  7, 22, 34, 17,  5, 15, 30, 17,  5, 15, 27, 21, 13, 21,\n",
       "         3, 30,  0,  6, 20,  5, 17,  7, 12,  0, 18, 10, 33, 31, 12,  9, 16, 31,\n",
       "        13,  7,  5, 15, 30, 17,  5, 15, 27, 21, 13, 21,  3, 33,  5, 27,  0,  6,\n",
       "         9,  0, 24, 13,  9, 25,  9,  8, 30, 21,  0, 22, 12,  9, 30, 19, 19, 15,\n",
       "        13,  7, 31, 34, 17,  0, 18, 10,  0, 15, 32,  9,  5, 20, 30, 15, 11,  9,\n",
       "         6, 20,  5,  0, 22, 18,  0, 10, 23, 17,  7, 22, 34, 17,  0, 21, 19,  5,\n",
       "         7,  9, 21,  4, 35, 35, 32,  0, 17, 23, 16,  9, 20, 13,  7,  5, 15, 30,\n",
       "        17,  5, 15, 27, 21, 13, 21, 30, 17,  8,  0, 15, 32,  9,  5, 20, 30, 15,\n",
       "        11,  9,  6, 20,  5,  3,  0, 15, 18, 25,  9, 20, 29, 23, 19, 19,  9, 20,\n",
       "         0,  1, 15, 23,  2,  0,  8,  9,  7, 18, 16, 19, 18, 21, 13, 22, 34, 17,\n",
       "         0, 18, 20,  0, 10,  5,  7, 22, 18, 20, 13, 28, 31, 34, 17,  0, 10,  5,\n",
       "         7, 22, 18, 20, 21, 30, 33, 31, 20, 13, 26, 30, 21,  0, 22, 12,  9,  0,\n",
       "        19, 20, 18,  8, 23,  7, 22,  0, 18, 10, 30,  0, 15, 18, 25,  9, 20,  0,\n",
       "        22, 20, 13,  5, 17, 11, 23, 15,  5, 20, 33, 31, 20, 13, 26, 30, 17,  8,\n",
       "        30, 17,  0, 23, 19, 19,  9, 20,  0, 22, 20, 13,  5, 17, 11, 23, 15,  5,\n",
       "        20, 33, 31, 20, 13, 26,  0,  1, 21,  9,  9, 33, 31, 20, 13, 26, 33, 23,\n",
       "        15, 22, 13, 19, 15, 13,  7, 31, 34, 17, 30, 17,  8, 33, 31, 20, 13, 26,\n",
       "         0,  8,  9,  7, 18, 16, 19, 18, 21, 13, 22, 34, 17,  2,  4, 35])"
      ]
     },
     "execution_count": 7,
     "metadata": {},
     "output_type": "execute_result"
    }
   ],
   "source": [
    "eot = tok.eot_id\n",
    "tokens = []\n",
    "for example in [raw_example_1, raw_example_2]:\n",
    "    tokens.extend([eot])\n",
    "    tokens.extend(tok.encode(example.lower()))\n",
    "all_tokens = torch.tensor(tokens, dtype=torch.long)\n",
    "all_tokens"
   ]
  },
  {
   "cell_type": "markdown",
   "id": "0d84e5c6-b409-40d7-a614-ee383b6066a4",
   "metadata": {},
   "source": [
    "# Modeling"
   ]
  },
  {
   "cell_type": "markdown",
   "id": "a853b63d-29e5-4786-bf59-6aba024a8e5b",
   "metadata": {},
   "source": [
    "A machine learning model forward pass now uses the tokenization information, runs several layers of linear algebra on it, and then \"predicts\" the next token. When it is noisy (like you will see in this example), this process results in gibberish.  The training process changes the noise to pattern during the \"backward pass\" as you'll see.    We'll show 3 steps that are focused on training:\n",
    "1. **Data Loading** `x, y = train_loader.next_batch()` - this step pulls from the raw data enough tokens to complete a forward and backward pass.  If the model is inference only, this step is replaced with taking in the inference input and preparing it similarly as the forward pass.\n",
    "2. **Forward Pass** `logits, loss = model(x, y)` - using the data and the model architecture to predict the next token. When training we also compare against the expected to get loss, but in infrerence, we use the logits to complete the inference task.\n",
    "3. **Backward Pass & Training** `loss.backward(); optimizer.step()` - using differentials to understand what parameters most impact the forward pass' impact on its prediction, comparing that against what is actually right based on the data loading step, and then making very minor adjustments to the impactful parameters with the hope it improves future predictions.\n",
    "\n",
    "The we'll show a final **Forward Pass** with the updated weights we did in #3. "
   ]
  },
  {
   "cell_type": "markdown",
   "id": "de7182b5-5872-483b-93d8-a8fa61d5a8fe",
   "metadata": {},
   "source": [
    "## Data Loading"
   ]
  },
  {
   "cell_type": "markdown",
   "id": "70511c70-5b74-407d-b439-0f6a24c12f8e",
   "metadata": {},
   "source": [
    "To start, we need to get enough data to run the forward and backward passes.  Since our total dataset is likely too big to hold all at once in real practice, we would read just enough file information into memory so that we can run the passes, leaving memory and compute to be used on the passes instead of static data holding. \n",
    "To start, we have to identify the batch size and the model context length to determine how much data we need.  Consequently, these dimensions also form 2 of the 3 dimensions in the initial matrix.\n",
    "- **Batch Size (B)** - This is the number of examples you'll train on in a single pass. \n",
    "- **Context Length (T)** - This is the max number of tokens that a model can use in a single pass to generat the next token. If an example is below this length, it can be padded.\n",
    "  \n",
    "*Ideally both B and T are multiples of 2 to work nicely with chip architecture. This is a common theme across the board*"
   ]
  },
  {
   "cell_type": "code",
   "execution_count": 8,
   "id": "6b87eb7f-f648-459f-8770-05b41acf0513",
   "metadata": {},
   "outputs": [],
   "source": [
    "B = 2 # Batch\n",
    "T = 8 # context length"
   ]
  },
  {
   "cell_type": "markdown",
   "id": "f307d03f-e9b7-44c5-82ea-e25236612a0d",
   "metadata": {},
   "source": [
    "To start, we need to pull from our long raw_token list enough tokens for the forward pass. To be able to satisfy training `B` Batches `T` Context length, we need to pull out `B*T` tokens to slide the context window across the examples enough to satisfy the batch size.  Since the training will attempt to predict the last token given the previous tokens in context, we also need 1 more token at the end so that the last training example in the last batch can have the next token to validate against. "
   ]
  },
  {
   "cell_type": "code",
   "execution_count": 9,
   "id": "3e06beb6-747c-4565-b730-a539bfd8bb5a",
   "metadata": {},
   "outputs": [
    {
     "data": {
      "text/plain": [
       "tensor([35, 15, 32,  9,  5, 20, 30, 15, 11,  9,  6, 20,  5,  0, 13, 21,  0])"
      ]
     },
     "execution_count": 9,
     "metadata": {},
     "output_type": "execute_result"
    }
   ],
   "source": [
    "current_position = 0\n",
    "tok_for_training = all_tokens[current_position:current_position + B*T +1 ]\n",
    "tok_for_training"
   ]
  },
  {
   "cell_type": "markdown",
   "id": "01bfbb68-1575-4bba-95ee-9fe81f2d7eff",
   "metadata": {},
   "source": [
    "Now that we have our initial tokens to train on, we now need to convert it to a matrix that's ready for training. In this step we'll need to create our batches and setup two different arrays: 1/ the input, `x`, tokens that will result in 2/ the output `y` tokens. To create each example in the batch, every `T` tokens will be placed into it's own row. \n",
    "\n",
    "Recall that training takes in a string of tokens the length of the context and then predicts the next token. Recall that when we extracted `tok_for_training` we added 1 extra token so that we can evaluate the prediction for the last example. Because of this, the input, `x`, will be all of the tokens up to the second to last element `[:-1]`.  \n",
    "\n",
    "It might be natural to think the output `y` would then just be the last token.But this is actually wasting valuable training loops.  Yes, there is the example that fills the context `T`, but we also have enough tokens in `tok_for_training` where any context length of `n` where `n<T` can also be used for inference since we have the `n+1` token available.  You can think of the following example:\n",
    "\n",
    "sentence: `Hi I am learning`. This sentence contains the following \"next tokens\" that can be learned:\n",
    "1. x: Hi I am  | y: learning\n",
    "2. x: Hi I     | y: am\n",
    "3. x: Hi       | y: I\n",
    "\n",
    "Because we have this triangle to create, our `y` can be much larger.  We can start with the second token and, go all the way to the last element we added for the last example `[1:'`.   \n",
    "\n",
    "\n",
    "We will now put this together and do the following:\n",
    "1. Extract the input `x` and then split it into an example for each batch `B`\n",
    "2. Extract the output `y` and then split it into an example for each batch `B`\n",
    "\n",
    "*Note: View can take `-1` which allows the matrix to infer the dimension so we do not need to pass in `T`, but given how many matrices we'll work with we want to make sure we're controlling the dimensions or erroring out if they do not match our expectations.*"
   ]
  },
  {
   "cell_type": "code",
   "execution_count": 10,
   "id": "87de4a84-1b29-4ecb-9a9a-ad4938b73eed",
   "metadata": {},
   "outputs": [
    {
     "data": {
      "text/plain": [
       "tensor([35, 15, 32,  9,  5, 20, 30, 15, 11,  9,  6, 20,  5,  0, 13, 21,  0])"
      ]
     },
     "execution_count": 10,
     "metadata": {},
     "output_type": "execute_result"
    }
   ],
   "source": [
    "tok_for_training"
   ]
  },
  {
   "cell_type": "code",
   "execution_count": 11,
   "id": "69e73535-556a-4282-861d-5e1edc86b319",
   "metadata": {},
   "outputs": [
    {
     "data": {
      "text/plain": [
       "tensor([[35, 15, 32,  9,  5, 20, 30, 15],\n",
       "        [11,  9,  6, 20,  5,  0, 13, 21]])"
      ]
     },
     "execution_count": 11,
     "metadata": {},
     "output_type": "execute_result"
    }
   ],
   "source": [
    "x=tok_for_training[:-1].view(B, T)\n",
    "x"
   ]
  },
  {
   "cell_type": "code",
   "execution_count": 12,
   "id": "0f11b91e-26c6-4de9-95ef-576c4d54a162",
   "metadata": {},
   "outputs": [
    {
     "data": {
      "text/plain": [
       "tensor([[15, 32,  9,  5, 20, 30, 15, 11],\n",
       "        [ 9,  6, 20,  5,  0, 13, 21,  0]])"
      ]
     },
     "execution_count": 12,
     "metadata": {},
     "output_type": "execute_result"
    }
   ],
   "source": [
    "y=tok_for_training[1:].view(B, T)\n",
    "y"
   ]
  },
  {
   "cell_type": "markdown",
   "id": "8d327003-6a9b-4f21-a9b3-76a0fbb2dd36",
   "metadata": {},
   "source": [
    "## Forward pass"
   ]
  },
  {
   "attachments": {},
   "cell_type": "markdown",
   "id": "ef751eab-02d1-43eb-acd5-56357e705598",
   "metadata": {},
   "source": [
    "<img src=\"explainer_screenshots/full_network.png\" width=\"200\">\n",
    "\n",
    "The forward pass takes a string of tokens in and predicts the next \"n\" tokens.  This step as we'll look at it is focused on training where we'll pass in the input `x`, carry that input through the layers, and generate a matrix of the probability of each token being the next one, something we call `logits`. During the forward pass at the end we then compare the probability to the actual next token in `y` and calculate `loss` based on the difference. \n",
    "\n",
    "*Note that we will do some layer initialization to simplify following along.  In reality layers are often initialized to normal distribution with some adjustments made for parameter sizes to keep the weights properly noisy.  We will not cover initialization in this series*"
   ]
  },
  {
   "cell_type": "markdown",
   "id": "97a77a8a-f93c-48b9-b715-d3196f402c28",
   "metadata": {},
   "source": [
    "We first rederive the batch size and context size based on the input to improve flexibility."
   ]
  },
  {
   "cell_type": "code",
   "execution_count": 13,
   "id": "16252536-9637-4b9e-9a73-ed2a8ee2aa12",
   "metadata": {},
   "outputs": [],
   "source": [
    "import torch.nn as nn"
   ]
  },
  {
   "cell_type": "code",
   "execution_count": 14,
   "id": "7291c75e-d8e0-49d0-9b40-8b6b5a22cfb8",
   "metadata": {},
   "outputs": [
    {
     "data": {
      "text/plain": [
       "(2, 8)"
      ]
     },
     "execution_count": 14,
     "metadata": {},
     "output_type": "execute_result"
    }
   ],
   "source": [
    "B, T = x.size()\n",
    "B,T"
   ]
  },
  {
   "cell_type": "markdown",
   "id": "0a40579b-7cd6-46cb-8ec7-6626390395bd",
   "metadata": {},
   "source": [
    "The first layer of our network creates an embedding representation of our input sequence. "
   ]
  },
  {
   "cell_type": "code",
   "execution_count": 15,
   "id": "ea845430-56e4-40bc-b3bf-84331257007c",
   "metadata": {},
   "outputs": [],
   "source": [
    "block_size = 8 # max sequence length/context\n",
    "vocab_size = vocab_size # 36 \n",
    "n_embd = 4 # "
   ]
  },
  {
   "cell_type": "markdown",
   "id": "2ca4ad4b-c92d-4596-b255-e0e4042128f2",
   "metadata": {},
   "source": [
    "### Input Layer"
   ]
  },
  {
   "attachments": {},
   "cell_type": "markdown",
   "id": "5de68adb-24b4-4f23-b7c9-ff8f0a5ff6ca",
   "metadata": {},
   "source": [
    "<img src=\"explainer_screenshots/input_layer.png\" width=\"200\">\n",
    "We'll first create an initiation for 2 of our input matrices: position and token embedding.  Both of these are a table of weigths that have `n_embd` number of columns to store information about the position or token. The more columns you add, the more complex information can be stored but the more compute is needed.  For now we'll let each position or column store up to 4 channels of information.  Before starting though we need to initialize the layer with a set of data."
   ]
  },
  {
   "cell_type": "code",
   "execution_count": 16,
   "id": "f37c4136-cd53-4534-84e6-0cdf509551b6",
   "metadata": {},
   "outputs": [
    {
     "data": {
      "text/plain": [
       "(Parameter containing:\n",
       " tensor([[0.0100, 0.0200, 0.0300, 0.0400],\n",
       "         [0.0200, 0.0300, 0.0400, 0.0500],\n",
       "         [0.0300, 0.0400, 0.0500, 0.0600],\n",
       "         [0.0400, 0.0500, 0.0600, 0.0700],\n",
       "         [0.0500, 0.0600, 0.0700, 0.0800],\n",
       "         [0.0600, 0.0700, 0.0800, 0.0900],\n",
       "         [0.0700, 0.0800, 0.0900, 0.1000],\n",
       "         [0.0800, 0.0900, 0.1000, 0.1100],\n",
       "         [0.0900, 0.1000, 0.1100, 0.1200],\n",
       "         [0.1000, 0.1100, 0.1200, 0.1300],\n",
       "         [0.1100, 0.1200, 0.1300, 0.1400],\n",
       "         [0.1200, 0.1300, 0.1400, 0.1500],\n",
       "         [0.1300, 0.1400, 0.1500, 0.1600],\n",
       "         [0.1400, 0.1500, 0.1600, 0.1700],\n",
       "         [0.1500, 0.1600, 0.1700, 0.1800],\n",
       "         [0.1600, 0.1700, 0.1800, 0.1900],\n",
       "         [0.1700, 0.1800, 0.1900, 0.2000],\n",
       "         [0.1800, 0.1900, 0.2000, 0.2100],\n",
       "         [0.1900, 0.2000, 0.2100, 0.2200],\n",
       "         [0.2000, 0.2100, 0.2200, 0.2300],\n",
       "         [0.2100, 0.2200, 0.2300, 0.2400],\n",
       "         [0.2200, 0.2300, 0.2400, 0.2500],\n",
       "         [0.2300, 0.2400, 0.2500, 0.2600],\n",
       "         [0.2400, 0.2500, 0.2600, 0.2700],\n",
       "         [0.2500, 0.2600, 0.2700, 0.2800],\n",
       "         [0.2600, 0.2700, 0.2800, 0.2900],\n",
       "         [0.2700, 0.2800, 0.2900, 0.3000],\n",
       "         [0.2800, 0.2900, 0.3000, 0.3100],\n",
       "         [0.2900, 0.3000, 0.3100, 0.3200],\n",
       "         [0.3000, 0.3100, 0.3200, 0.3300],\n",
       "         [0.3100, 0.3200, 0.3300, 0.3400],\n",
       "         [0.3200, 0.3300, 0.3400, 0.3500],\n",
       "         [0.3300, 0.3400, 0.3500, 0.3600],\n",
       "         [0.3400, 0.3500, 0.3600, 0.3700],\n",
       "         [0.3500, 0.3600, 0.3700, 0.3800],\n",
       "         [0.3600, 0.3700, 0.3800, 0.3900]], requires_grad=True),\n",
       " Parameter containing:\n",
       " tensor([[0.0100, 0.0200, 0.0300, 0.0400],\n",
       "         [0.0200, 0.0300, 0.0400, 0.0500],\n",
       "         [0.0300, 0.0400, 0.0500, 0.0600],\n",
       "         [0.0400, 0.0500, 0.0600, 0.0700],\n",
       "         [0.0500, 0.0600, 0.0700, 0.0800],\n",
       "         [0.0600, 0.0700, 0.0800, 0.0900],\n",
       "         [0.0700, 0.0800, 0.0900, 0.1000],\n",
       "         [0.0800, 0.0900, 0.1000, 0.1100]], requires_grad=True))"
      ]
     },
     "execution_count": 16,
     "metadata": {},
     "output_type": "execute_result"
    }
   ],
   "source": [
    "# weighted token embedding\n",
    "wte = nn.Embedding(vocab_size, n_embd)\n",
    "with torch.no_grad(): # initilize to W[i,j] = 0.001*(1+i+j) for easy following \n",
    "    vs, d = wte.num_embeddings, wte.embedding_dim\n",
    "    rows = torch.arange(vs).unsqueeze(1)  # (vs,1)\n",
    "    cols = torch.arange(d).unsqueeze(0)  # (1,d)\n",
    "    pattern = 0.01*(1 + rows + cols)  # W[i,j] = 0.001*(1+i+j)\n",
    "    wte.weight.copy_(pattern)\n",
    "# weighted position embedding\n",
    "wpe = nn.Embedding(block_size, n_embd)\n",
    "with torch.no_grad(): # initilize to W[i,j] = 0.001*(1+i+j) for easy following \n",
    "    vs, d = wpe.num_embeddings, wpe.embedding_dim\n",
    "    rows = torch.arange(vs).unsqueeze(1)  # (vs,1)\n",
    "    cols = torch.arange(d).unsqueeze(0)  # (1,d)\n",
    "    pattern = 0.01*(1 + rows + cols)  # W[i,j] = 0.001*(1+i+j)\n",
    "    wpe.weight.copy_(pattern)\n",
    "wte.weight, wpe.weight"
   ]
  },
  {
   "cell_type": "markdown",
   "id": "81d28ccc-7516-4d85-ad4f-91cfd6eb20c2",
   "metadata": {},
   "source": [
    "**Positional Embeddings** - Now we need to pluck the weight of each position out of the position embedding.  Since we are creating a simple left to right, position 1 to n, we can just create an array from 0 to n based on the context, `T`, then pluck those rows out.  The resulting matrix from this operation is a `T, n_embd` based vector. "
   ]
  },
  {
   "cell_type": "code",
   "execution_count": 17,
   "id": "3bcf9346-3b25-478a-9400-acef841d54a9",
   "metadata": {},
   "outputs": [
    {
     "data": {
      "text/plain": [
       "tensor([0, 1, 2, 3, 4, 5, 6, 7])"
      ]
     },
     "execution_count": 17,
     "metadata": {},
     "output_type": "execute_result"
    }
   ],
   "source": [
    "pos = torch.arange(0, T, dtype=torch.long)\n",
    "pos"
   ]
  },
  {
   "cell_type": "markdown",
   "id": "82a54e71-fd3b-46b1-9134-b2e597e01088",
   "metadata": {},
   "source": [
    "for each element, look up the row in `wpe` and pluck it out. Since the position is just `[0:T]` we can see we pluck out the position array."
   ]
  },
  {
   "cell_type": "code",
   "execution_count": 18,
   "id": "31ea57c2-0f34-446e-8e91-643db51b02af",
   "metadata": {},
   "outputs": [
    {
     "data": {
      "text/plain": [
       "(torch.Size([8, 4]),\n",
       " tensor([[0.0100, 0.0200, 0.0300, 0.0400],\n",
       "         [0.0200, 0.0300, 0.0400, 0.0500],\n",
       "         [0.0300, 0.0400, 0.0500, 0.0600],\n",
       "         [0.0400, 0.0500, 0.0600, 0.0700],\n",
       "         [0.0500, 0.0600, 0.0700, 0.0800],\n",
       "         [0.0600, 0.0700, 0.0800, 0.0900],\n",
       "         [0.0700, 0.0800, 0.0900, 0.1000],\n",
       "         [0.0800, 0.0900, 0.1000, 0.1100]], grad_fn=<EmbeddingBackward0>))"
      ]
     },
     "execution_count": 18,
     "metadata": {},
     "output_type": "execute_result"
    }
   ],
   "source": [
    "pos_emb = wpe(pos)\n",
    "pos_emb.shape, pos_emb"
   ]
  },
  {
   "cell_type": "markdown",
   "id": "1f89e0ad-87e5-4bbe-bccb-998549487425",
   "metadata": {},
   "source": [
    "**Word Embeddings** - Similarly we need to pluck out the rows from the token table, `wte` for the tokens in our example. Since our example is already represented as indices, we can simple use `x` directly. The resulting matrix from this operation is a `B,T, n_embd` based vector since `x` is `B,T` and `tok_emb` is `vocab_size,n_embd` and when we index `wte` by `x` each entry in x replaces `n_embd` based vector at that position in `wte`."
   ]
  },
  {
   "cell_type": "code",
   "execution_count": 19,
   "id": "4bd724b1-0669-4b21-91d1-450b8231d6a5",
   "metadata": {},
   "outputs": [
    {
     "data": {
      "text/plain": [
       "tensor([[35, 15, 32,  9,  5, 20, 30, 15],\n",
       "        [11,  9,  6, 20,  5,  0, 13, 21]])"
      ]
     },
     "execution_count": 19,
     "metadata": {},
     "output_type": "execute_result"
    }
   ],
   "source": [
    "x"
   ]
  },
  {
   "cell_type": "markdown",
   "id": "13e99ae5-4f5b-4939-bb8e-c754f0c5af77",
   "metadata": {},
   "source": [
    "for each position pull out the the row of weights that corresponds to the token. You can see in the print out that the rows are not in the same order as the layer is initiliazed as the token ids are not sequential.  "
   ]
  },
  {
   "cell_type": "code",
   "execution_count": 20,
   "id": "ecfbcd6e-eacb-415c-aabf-06b3bf51a378",
   "metadata": {},
   "outputs": [
    {
     "data": {
      "text/plain": [
       "(torch.Size([2, 8, 4]),\n",
       " tensor([[[0.3600, 0.3700, 0.3800, 0.3900],\n",
       "          [0.1600, 0.1700, 0.1800, 0.1900],\n",
       "          [0.3300, 0.3400, 0.3500, 0.3600],\n",
       "          [0.1000, 0.1100, 0.1200, 0.1300],\n",
       "          [0.0600, 0.0700, 0.0800, 0.0900],\n",
       "          [0.2100, 0.2200, 0.2300, 0.2400],\n",
       "          [0.3100, 0.3200, 0.3300, 0.3400],\n",
       "          [0.1600, 0.1700, 0.1800, 0.1900]],\n",
       " \n",
       "         [[0.1200, 0.1300, 0.1400, 0.1500],\n",
       "          [0.1000, 0.1100, 0.1200, 0.1300],\n",
       "          [0.0700, 0.0800, 0.0900, 0.1000],\n",
       "          [0.2100, 0.2200, 0.2300, 0.2400],\n",
       "          [0.0600, 0.0700, 0.0800, 0.0900],\n",
       "          [0.0100, 0.0200, 0.0300, 0.0400],\n",
       "          [0.1400, 0.1500, 0.1600, 0.1700],\n",
       "          [0.2200, 0.2300, 0.2400, 0.2500]]], grad_fn=<EmbeddingBackward0>))"
      ]
     },
     "execution_count": 20,
     "metadata": {},
     "output_type": "execute_result"
    }
   ],
   "source": [
    "tok_emb = wte(x)\n",
    "tok_emb.shape, tok_emb"
   ]
  },
  {
   "attachments": {},
   "cell_type": "markdown",
   "id": "099e55eb-8fb1-438a-a2ae-c05a83824b25",
   "metadata": {},
   "source": [
    "**Impact of the position and token together**\n",
    "To ensure that the position and token together impact the next token prediction, we sum the two so that the weight of each token is impacted by the weight of its relative position. To do this we sum `tok_emb` and `pos_emb` together. Quickly we can see the dimensions don't match as \n",
    "* `tok_emb` > `B,T,n_embd`\n",
    "* `pos_emb` >   `T,n_embd`\n",
    "\n",
    "Since we have multiple examples with the same ordering, we simply add pos_emb at the same level to each entry on the `B` dimension, something that pytorch does for us automatically resulting in a `B,T,n_embd` output"
   ]
  },
  {
   "cell_type": "code",
   "execution_count": 21,
   "id": "a2aab5c4-b879-4d33-a9b3-25ee108e2559",
   "metadata": {},
   "outputs": [
    {
     "data": {
      "text/plain": [
       "tensor([[[0.3700, 0.3900, 0.4100, 0.4300],\n",
       "         [0.1800, 0.2000, 0.2200, 0.2400],\n",
       "         [0.3600, 0.3800, 0.4000, 0.4200],\n",
       "         [0.1400, 0.1600, 0.1800, 0.2000],\n",
       "         [0.1100, 0.1300, 0.1500, 0.1700],\n",
       "         [0.2700, 0.2900, 0.3100, 0.3300],\n",
       "         [0.3800, 0.4000, 0.4200, 0.4400],\n",
       "         [0.2400, 0.2600, 0.2800, 0.3000]],\n",
       "\n",
       "        [[0.1300, 0.1500, 0.1700, 0.1900],\n",
       "         [0.1200, 0.1400, 0.1600, 0.1800],\n",
       "         [0.1000, 0.1200, 0.1400, 0.1600],\n",
       "         [0.2500, 0.2700, 0.2900, 0.3100],\n",
       "         [0.1100, 0.1300, 0.1500, 0.1700],\n",
       "         [0.0700, 0.0900, 0.1100, 0.1300],\n",
       "         [0.2100, 0.2300, 0.2500, 0.2700],\n",
       "         [0.3000, 0.3200, 0.3400, 0.3600]]], grad_fn=<AddBackward0>)"
      ]
     },
     "execution_count": 21,
     "metadata": {},
     "output_type": "execute_result"
    }
   ],
   "source": [
    "x = tok_emb + pos_emb\n",
    "x"
   ]
  },
  {
   "cell_type": "markdown",
   "id": "d70bf96d-a67f-43ce-9a19-9975e4198609",
   "metadata": {},
   "source": [
    "### Transformer Layers"
   ]
  },
  {
   "attachments": {},
   "cell_type": "markdown",
   "id": "34da8230-ef7f-4e68-b7a1-b0b73219c024",
   "metadata": {},
   "source": [
    "<img src=\"explainer_screenshots/transformer.png\" width=\"200\">\n",
    "\n",
    "The transformer block is multiple parallel repetitions of the same matrix operations done independently.  This adds both depth and breadth to the computation.  Each block is the same steps of\n",
    "1. Layer normalization\n",
    "2. Causal self attention\n",
    "3. Layer normalization (again)\n",
    "4. Multi-layer perceptron (MLP)\n",
    "\n",
    "Both steps 2 and 4 are also multi-layered so we'll go through each layer independently.  You'll notice the arrows in the diagram bypassing the causal self attention and the MLP.  This is to ensure that the weights of any one layer do not get overweighted. We achieve this by simply adding the input with the layer's calculations together, as you'll see. "
   ]
  },
  {
   "cell_type": "markdown",
   "id": "56bc98ad-7f59-4b15-961c-233853e01c73",
   "metadata": {},
   "source": [
    "#### Transformer - Layer Normalization"
   ]
  },
  {
   "cell_type": "markdown",
   "id": "b0325d06-5ee3-43bb-8998-405079dfbecf",
   "metadata": {},
   "source": [
    "With Layer normalization, we review the row and adjust based on how far away it is from the mean. This means an array of `[1,2,3,4]` and `[2,4,6,8]` will actually have the same normalized entries after layer normalization.  This layer adds regularization which helps with overall learning speed. The formula applied is:\n",
    "\n",
    "$y = \\frac{x - \\mathbb{E}[x]}{\\sqrt{\\operatorname{Var}[x] + \\epsilon}}$\n",
    "\n",
    "Layer normalization is applied on the input matrix in kind and creates default weights of 1's across the dimension to equally weight all values in the normalization. We'll keep this as is and not change the initialization.  \n",
    "\n",
    "*Note that even though we will do layer normalization again, we keep this as a separate layer so that its impact can be adjusted independent of other normalization layers.*"
   ]
  },
  {
   "cell_type": "markdown",
   "id": "b1c75580-ff67-45e7-9621-2bc0b3f467cb",
   "metadata": {},
   "source": [
    "**Example** Let's see a quick example of how layer normalizaiton operates with an array of `[1,2,3,4]` and `[2,4,6,8]` "
   ]
  },
  {
   "cell_type": "code",
   "execution_count": 22,
   "id": "fed78841-c30e-48e1-af87-fa07f0bf7402",
   "metadata": {},
   "outputs": [
    {
     "data": {
      "text/plain": [
       "tensor([[-1.3416, -0.4472,  0.4472,  1.3416],\n",
       "        [-1.3416, -0.4472,  0.4472,  1.3416]],\n",
       "       grad_fn=<NativeLayerNormBackward0>)"
      ]
     },
     "execution_count": 22,
     "metadata": {},
     "output_type": "execute_result"
    }
   ],
   "source": [
    "example_ln = nn.LayerNorm(n_embd)\n",
    "\n",
    "## Example \n",
    "example_ln(torch.tensor(\n",
    "    [\n",
    "        [1.0,2.0,3.0,4.0],\n",
    "        [2.0,4.0,6.0,8.0]\n",
    "    ]))"
   ]
  },
  {
   "cell_type": "markdown",
   "id": "bd54631c-b366-4720-b717-ba22c3c6d043",
   "metadata": {},
   "source": [
    "**Normalize** Now let's apply it to x.  We'll save the output to a new variable `x_norm` so that we retain the input `x` for the *skip connection* (more details below).  Since our position embeddings are still in their initiaion step where each entries values are similarly distributed `[n,n+2,n+4,n+6]`  we'll see that with layer normalization the resulting matrix has all equal rows. "
   ]
  },
  {
   "cell_type": "code",
   "execution_count": 23,
   "id": "9afb21a5-1b1b-478f-be38-9cc2b6fba79d",
   "metadata": {},
   "outputs": [
    {
     "data": {
      "text/plain": [
       "(torch.Size([2, 8, 4]),\n",
       " tensor([[[-1.3284, -0.4428,  0.4428,  1.3284],\n",
       "          [-1.3284, -0.4428,  0.4428,  1.3284],\n",
       "          [-1.3284, -0.4428,  0.4428,  1.3284],\n",
       "          [-1.3284, -0.4428,  0.4428,  1.3284],\n",
       "          [-1.3284, -0.4428,  0.4428,  1.3284],\n",
       "          [-1.3284, -0.4428,  0.4428,  1.3284],\n",
       "          [-1.3284, -0.4428,  0.4428,  1.3284],\n",
       "          [-1.3284, -0.4428,  0.4428,  1.3284]],\n",
       " \n",
       "         [[-1.3284, -0.4428,  0.4428,  1.3284],\n",
       "          [-1.3284, -0.4428,  0.4428,  1.3284],\n",
       "          [-1.3284, -0.4428,  0.4428,  1.3284],\n",
       "          [-1.3284, -0.4428,  0.4428,  1.3284],\n",
       "          [-1.3284, -0.4428,  0.4428,  1.3284],\n",
       "          [-1.3284, -0.4428,  0.4428,  1.3284],\n",
       "          [-1.3284, -0.4428,  0.4428,  1.3284],\n",
       "          [-1.3284, -0.4428,  0.4428,  1.3284]]],\n",
       "        grad_fn=<NativeLayerNormBackward0>))"
      ]
     },
     "execution_count": 23,
     "metadata": {},
     "output_type": "execute_result"
    }
   ],
   "source": [
    "ln_1 = nn.LayerNorm(n_embd)\n",
    "x_norm = ln_1(x)\n",
    "x_norm.shape, x_norm"
   ]
  },
  {
   "cell_type": "markdown",
   "id": "fc3b6a7a-0978-466d-8d90-3e80abb78754",
   "metadata": {},
   "source": [
    "#### Transformer - Flash Attnetion / Causal Self Attention"
   ]
  },
  {
   "attachments": {},
   "cell_type": "markdown",
   "id": "fe140d19-25b1-4047-9536-ceb3bb1a8a34",
   "metadata": {},
   "source": [
    "<img src=\"explainer_screenshots/flash_attention.png\" width=\"600\">\n",
    "\n",
    "Causal self-attention is self-attention with a strictly upper-triangular mask, so each position $i$ can attend only to positions $j≤i$ (no look-ahead). For each position in a sequence, the model decides which earlier tokens matter and blends their information to generate the upcoming token, but the model is not allowed to peek at tokens to the right. Recall that we created an input `x` that has all of the tokens in the sequence. With causal self attention we ensure that the prediction of `y` is not learned in an example from tokens to the right of it. \n",
    "\n",
    "Causal self attention uses 3 linear projections to create representations of 3 concepts to help derive the next token: query `Q`, key `K`, and value `V`. FlashAttention takes the input `x` of shape $(B,T,C)$, linearly projects the last dimension to `Q, K, V` by multiplying each token vector $x_{b,t,:}$ with the learned weight matrices `Q, K,V` (often via one combined QKV linear matrix) and adding biases. Then we compute the causal dot-product attention with dropout and softmax per head, concatenate the heads, and apply a final linear layer to produce the output.  Linear layers use the projection of $y=xA^\\top+b$\n",
    "\n",
    "The Q,K,V matrix do the following: \n",
    "* **Query** - the current position’s “search request.” Every layer and head issues queries that can look for many things (antecedent, rhythm, agreement, etc.).\n",
    "* **Key** - a matching tag/address for each allowed position. It is compared with the query to produce relevance scores\n",
    "* **Value** - the payload you actually mix in once something matches. It’s a learned projection of the token’s representation so the model can copy the right kind of information.\n",
    "\n",
    "This layer starts by taking a linear layer that has `n_embd` rows and then  `n_embd` columns for each: the query, key and value.  This allows the projection of the `x_norm` to be split into the 3 components, selected from them. We then use `scaled_dot_product_attention` to provide the attention masking and normalization, including an upper triangle mask to prevent look-ahead, and final project that onto a `n_embd x n_embd` matrix to return the output. \n",
    "\n",
    "We start by creating the 2 default layers. Also we'll set heads to 2.  The heads allow the layer to specialize in different concepts since each head creates its own Q,K,V.\n",
    "\n",
    "*for the linear layers we'll do some special initiations, mainly pyramidal so that we can see unique numbers. We also initialize the bias to 0 so there linear layer is now just $y=xA^\\top$*"
   ]
  },
  {
   "cell_type": "code",
   "execution_count": 24,
   "id": "eb3516ed-26ec-4cfc-abb3-c8a9e15ec996",
   "metadata": {},
   "outputs": [],
   "source": [
    "from torch.nn import functional as F\n",
    "import math\n",
    "n_head = 2"
   ]
  },
  {
   "cell_type": "code",
   "execution_count": 25,
   "id": "b4d6eeae-8522-4c8a-834f-e8285f6f14b5",
   "metadata": {},
   "outputs": [
    {
     "data": {
      "text/plain": [
       "(Linear(in_features=4, out_features=12, bias=True),\n",
       " Parameter containing:\n",
       " tensor([[0.0010, 0.0020, 0.0030, 0.0040],\n",
       "         [0.0020, 0.0050, 0.0070, 0.0090],\n",
       "         [0.0030, 0.0090, 0.0120, 0.0150],\n",
       "         [0.0040, 0.0140, 0.0180, 0.0220],\n",
       "         [0.0050, 0.0200, 0.0250, 0.0300],\n",
       "         [0.0060, 0.0270, 0.0330, 0.0390],\n",
       "         [0.0070, 0.0350, 0.0420, 0.0490],\n",
       "         [0.0080, 0.0440, 0.0520, 0.0600],\n",
       "         [0.0090, 0.0540, 0.0630, 0.0720],\n",
       "         [0.0100, 0.0650, 0.0750, 0.0850],\n",
       "         [0.0110, 0.0770, 0.0880, 0.0990],\n",
       "         [0.0120, 0.0900, 0.1020, 0.1140]], requires_grad=True),\n",
       " Parameter containing:\n",
       " tensor([0., 0., 0., 0., 0., 0., 0., 0., 0., 0., 0., 0.], requires_grad=True))"
      ]
     },
     "execution_count": 25,
     "metadata": {},
     "output_type": "execute_result"
    }
   ],
   "source": [
    "c_attn = nn.Linear(n_embd, 3 * n_embd)\n",
    "with torch.no_grad():\n",
    "    out, inp = c_attn.weight.shape  # (3*n_embd, n_embd)\n",
    "    r = torch.arange(1, out + 1).unsqueeze(1)  # [out,1], 1-indexed\n",
    "    c = torch.arange(1, inp + 1).unsqueeze(0)   # [1,inp], 1-indexed\n",
    "    base = r * c                          # rc\n",
    "    tri = r * (r - 1) / 2                 # T_{r-1} = r(r-1)/2, shape [out,1]\n",
    "    mask = (c >= 2)           # add T_{r-1} only from column 2 onward\n",
    "    pattern = 1e-3 * (base + tri * mask) # matches [[.001,.002,.003],[.002,.005,.007],[.003,.009,.012],...]\n",
    "    c_attn.weight.copy_(pattern)\n",
    "\n",
    "    c_attn.bias.zero_()\n",
    "    \n",
    "c_attn, c_attn.weight, c_attn.bias"
   ]
  },
  {
   "cell_type": "code",
   "execution_count": 26,
   "id": "e26b1cf6-4943-499a-b86b-2717462d8426",
   "metadata": {},
   "outputs": [
    {
     "data": {
      "text/plain": [
       "(Linear(in_features=4, out_features=4, bias=True),\n",
       " Parameter containing:\n",
       " tensor([[0.0010, 0.0020, 0.0030, 0.0040],\n",
       "         [0.0020, 0.0050, 0.0070, 0.0090],\n",
       "         [0.0030, 0.0090, 0.0120, 0.0150],\n",
       "         [0.0040, 0.0140, 0.0180, 0.0220]], requires_grad=True))"
      ]
     },
     "execution_count": 26,
     "metadata": {},
     "output_type": "execute_result"
    }
   ],
   "source": [
    "c_proj = nn.Linear(n_embd, n_embd)\n",
    "with torch.no_grad():\n",
    "    out, inp = c_proj.weight.shape  # (3*n_embd, n_embd)\n",
    "    r = torch.arange(1, out + 1).unsqueeze(1)  # [out,1], 1-indexed\n",
    "    c = torch.arange(1, inp + 1).unsqueeze(0)   # [1,inp], 1-indexed\n",
    "    base = r * c                          # rc\n",
    "    tri = r * (r - 1) / 2                 # T_{r-1} = r(r-1)/2, shape [out,1]\n",
    "    mask = (c >= 2)           # add T_{r-1} only from column 2 onward\n",
    "    pattern = 1e-3 * (base + tri * mask) # matches [[.001,.002,.003],[.002,.005,.007],[.003,.009,.012],...]\n",
    "    c_proj.weight.copy_(pattern)\n",
    "    \n",
    "    c_proj.bias.zero_()\n",
    "c_proj, c_proj.weight"
   ]
  },
  {
   "cell_type": "markdown",
   "id": "1543e367-62f7-4edc-be6b-877bec24e0aa",
   "metadata": {},
   "source": [
    "**Flash Attention - Creating Query, Key, Value**\n",
    "\n",
    "We'll now create the query, key, and value matrices. Let's also revisualize `x_norm` to make it easy to connect the dots in this complex layer."
   ]
  },
  {
   "cell_type": "code",
   "execution_count": 27,
   "id": "80f9502f-a4eb-4465-87c7-4408e0653f73",
   "metadata": {},
   "outputs": [
    {
     "data": {
      "text/plain": [
       "(2, 8, 4)"
      ]
     },
     "execution_count": 27,
     "metadata": {},
     "output_type": "execute_result"
    }
   ],
   "source": [
    "B, T, C = x_norm.size()\n",
    "B, T, C"
   ]
  },
  {
   "cell_type": "code",
   "execution_count": 28,
   "id": "56d6ff50-cc2a-4a43-8170-d79a1dea6ec4",
   "metadata": {},
   "outputs": [
    {
     "data": {
      "text/plain": [
       "(torch.Size([2, 8, 4]),\n",
       " tensor([[[-1.3284, -0.4428,  0.4428,  1.3284],\n",
       "          [-1.3284, -0.4428,  0.4428,  1.3284],\n",
       "          [-1.3284, -0.4428,  0.4428,  1.3284],\n",
       "          [-1.3284, -0.4428,  0.4428,  1.3284],\n",
       "          [-1.3284, -0.4428,  0.4428,  1.3284],\n",
       "          [-1.3284, -0.4428,  0.4428,  1.3284],\n",
       "          [-1.3284, -0.4428,  0.4428,  1.3284],\n",
       "          [-1.3284, -0.4428,  0.4428,  1.3284]],\n",
       " \n",
       "         [[-1.3284, -0.4428,  0.4428,  1.3284],\n",
       "          [-1.3284, -0.4428,  0.4428,  1.3284],\n",
       "          [-1.3284, -0.4428,  0.4428,  1.3284],\n",
       "          [-1.3284, -0.4428,  0.4428,  1.3284],\n",
       "          [-1.3284, -0.4428,  0.4428,  1.3284],\n",
       "          [-1.3284, -0.4428,  0.4428,  1.3284],\n",
       "          [-1.3284, -0.4428,  0.4428,  1.3284],\n",
       "          [-1.3284, -0.4428,  0.4428,  1.3284]]],\n",
       "        grad_fn=<NativeLayerNormBackward0>))"
      ]
     },
     "execution_count": 28,
     "metadata": {},
     "output_type": "execute_result"
    }
   ],
   "source": [
    "x_norm.shape, x_norm"
   ]
  },
  {
   "cell_type": "markdown",
   "id": "24937337-9034-4106-8cee-350ef4dd6a6f",
   "metadata": {},
   "source": [
    "Now we'll take `x_norm` and the dot product of the weights in `c_attn` $y=x\\_norm \\cdot c\\_attn^\\top+bias$. This results in the the `qkv` combined matrix leading to a 3x size increase. Since every entry on the 3rd dimension in `x_norm` is the same, we will see that every row has the same repeated values given that's how dot products work. "
   ]
  },
  {
   "cell_type": "code",
   "execution_count": 29,
   "id": "766c6957-116e-404d-9e67-dde777e6de88",
   "metadata": {
    "scrolled": true
   },
   "outputs": [
    {
     "data": {
      "text/plain": [
       "(torch.Size([2, 8, 12]),\n",
       " tensor([[[0.0044, 0.0102, 0.0173, 0.0257, 0.0354, 0.0465, 0.0589, 0.0726,\n",
       "           0.0877, 0.1041, 0.1218, 0.1408],\n",
       "          [0.0044, 0.0102, 0.0173, 0.0257, 0.0354, 0.0465, 0.0589, 0.0726,\n",
       "           0.0877, 0.1041, 0.1218, 0.1408],\n",
       "          [0.0044, 0.0102, 0.0173, 0.0257, 0.0354, 0.0465, 0.0589, 0.0726,\n",
       "           0.0877, 0.1041, 0.1218, 0.1408],\n",
       "          [0.0044, 0.0102, 0.0173, 0.0257, 0.0354, 0.0465, 0.0589, 0.0726,\n",
       "           0.0877, 0.1041, 0.1218, 0.1408],\n",
       "          [0.0044, 0.0102, 0.0173, 0.0257, 0.0354, 0.0465, 0.0589, 0.0726,\n",
       "           0.0877, 0.1041, 0.1218, 0.1408],\n",
       "          [0.0044, 0.0102, 0.0173, 0.0257, 0.0354, 0.0465, 0.0589, 0.0726,\n",
       "           0.0877, 0.1041, 0.1218, 0.1408],\n",
       "          [0.0044, 0.0102, 0.0173, 0.0257, 0.0354, 0.0465, 0.0589, 0.0726,\n",
       "           0.0877, 0.1041, 0.1218, 0.1408],\n",
       "          [0.0044, 0.0102, 0.0173, 0.0257, 0.0354, 0.0465, 0.0589, 0.0726,\n",
       "           0.0877, 0.1041, 0.1218, 0.1408]],\n",
       " \n",
       "         [[0.0044, 0.0102, 0.0173, 0.0257, 0.0354, 0.0465, 0.0589, 0.0726,\n",
       "           0.0877, 0.1041, 0.1218, 0.1408],\n",
       "          [0.0044, 0.0102, 0.0173, 0.0257, 0.0354, 0.0465, 0.0589, 0.0726,\n",
       "           0.0877, 0.1041, 0.1218, 0.1408],\n",
       "          [0.0044, 0.0102, 0.0173, 0.0257, 0.0354, 0.0465, 0.0589, 0.0726,\n",
       "           0.0877, 0.1041, 0.1218, 0.1408],\n",
       "          [0.0044, 0.0102, 0.0173, 0.0257, 0.0354, 0.0465, 0.0589, 0.0726,\n",
       "           0.0877, 0.1041, 0.1218, 0.1408],\n",
       "          [0.0044, 0.0102, 0.0173, 0.0257, 0.0354, 0.0465, 0.0589, 0.0726,\n",
       "           0.0877, 0.1041, 0.1218, 0.1408],\n",
       "          [0.0044, 0.0102, 0.0173, 0.0257, 0.0354, 0.0465, 0.0589, 0.0726,\n",
       "           0.0877, 0.1041, 0.1218, 0.1408],\n",
       "          [0.0044, 0.0102, 0.0173, 0.0257, 0.0354, 0.0465, 0.0589, 0.0726,\n",
       "           0.0877, 0.1041, 0.1218, 0.1408],\n",
       "          [0.0044, 0.0102, 0.0173, 0.0257, 0.0354, 0.0465, 0.0589, 0.0726,\n",
       "           0.0877, 0.1041, 0.1218, 0.1408]]], grad_fn=<ViewBackward0>))"
      ]
     },
     "execution_count": 29,
     "metadata": {},
     "output_type": "execute_result"
    }
   ],
   "source": [
    "qkv = c_attn(x_norm)\n",
    "qkv.shape, qkv"
   ]
  },
  {
   "cell_type": "markdown",
   "id": "9f3b126c-0c5b-485d-8b7b-cc4b0734de1d",
   "metadata": {},
   "source": [
    "**Flash Attention - Attention Head**\n",
    "\n",
    "Now, we will split up qkv to create the 3 separate matrices, one for the query, key, and value. Together they to work to create complex concept embeddings. We also then have to split up each matrix into its own heads (shown as columns `dim=3`). For each head we create its own Q,K,V, compute the causal dot-product attention with softmax per head and then eventually concatenate the heads. During back-propogation, different heads can get updates in different ways based on the examples and gradients.  This backprop and separation is what allows each attention head to specialize in different concepts."
   ]
  },
  {
   "cell_type": "code",
   "execution_count": 30,
   "id": "720501ed-17a0-4c87-a9f6-9d800b339198",
   "metadata": {
    "scrolled": true
   },
   "outputs": [
    {
     "data": {
      "text/plain": [
       "('q',\n",
       " torch.Size([2, 2, 8, 2]),\n",
       " tensor([[[[0.0044, 0.0102],\n",
       "           [0.0044, 0.0102],\n",
       "           [0.0044, 0.0102],\n",
       "           [0.0044, 0.0102],\n",
       "           [0.0044, 0.0102],\n",
       "           [0.0044, 0.0102],\n",
       "           [0.0044, 0.0102],\n",
       "           [0.0044, 0.0102]],\n",
       " \n",
       "          [[0.0173, 0.0257],\n",
       "           [0.0173, 0.0257],\n",
       "           [0.0173, 0.0257],\n",
       "           [0.0173, 0.0257],\n",
       "           [0.0173, 0.0257],\n",
       "           [0.0173, 0.0257],\n",
       "           [0.0173, 0.0257],\n",
       "           [0.0173, 0.0257]]],\n",
       " \n",
       " \n",
       "         [[[0.0044, 0.0102],\n",
       "           [0.0044, 0.0102],\n",
       "           [0.0044, 0.0102],\n",
       "           [0.0044, 0.0102],\n",
       "           [0.0044, 0.0102],\n",
       "           [0.0044, 0.0102],\n",
       "           [0.0044, 0.0102],\n",
       "           [0.0044, 0.0102]],\n",
       " \n",
       "          [[0.0173, 0.0257],\n",
       "           [0.0173, 0.0257],\n",
       "           [0.0173, 0.0257],\n",
       "           [0.0173, 0.0257],\n",
       "           [0.0173, 0.0257],\n",
       "           [0.0173, 0.0257],\n",
       "           [0.0173, 0.0257],\n",
       "           [0.0173, 0.0257]]]], grad_fn=<TransposeBackward0>),\n",
       " 'k',\n",
       " torch.Size([2, 2, 8, 2]),\n",
       " tensor([[[[0.0354, 0.0465],\n",
       "           [0.0354, 0.0465],\n",
       "           [0.0354, 0.0465],\n",
       "           [0.0354, 0.0465],\n",
       "           [0.0354, 0.0465],\n",
       "           [0.0354, 0.0465],\n",
       "           [0.0354, 0.0465],\n",
       "           [0.0354, 0.0465]],\n",
       " \n",
       "          [[0.0589, 0.0726],\n",
       "           [0.0589, 0.0726],\n",
       "           [0.0589, 0.0726],\n",
       "           [0.0589, 0.0726],\n",
       "           [0.0589, 0.0726],\n",
       "           [0.0589, 0.0726],\n",
       "           [0.0589, 0.0726],\n",
       "           [0.0589, 0.0726]]],\n",
       " \n",
       " \n",
       "         [[[0.0354, 0.0465],\n",
       "           [0.0354, 0.0465],\n",
       "           [0.0354, 0.0465],\n",
       "           [0.0354, 0.0465],\n",
       "           [0.0354, 0.0465],\n",
       "           [0.0354, 0.0465],\n",
       "           [0.0354, 0.0465],\n",
       "           [0.0354, 0.0465]],\n",
       " \n",
       "          [[0.0589, 0.0726],\n",
       "           [0.0589, 0.0726],\n",
       "           [0.0589, 0.0726],\n",
       "           [0.0589, 0.0726],\n",
       "           [0.0589, 0.0726],\n",
       "           [0.0589, 0.0726],\n",
       "           [0.0589, 0.0726],\n",
       "           [0.0589, 0.0726]]]], grad_fn=<TransposeBackward0>),\n",
       " 'v',\n",
       " torch.Size([2, 2, 8, 2]),\n",
       " tensor([[[[0.0877, 0.1041],\n",
       "           [0.0877, 0.1041],\n",
       "           [0.0877, 0.1041],\n",
       "           [0.0877, 0.1041],\n",
       "           [0.0877, 0.1041],\n",
       "           [0.0877, 0.1041],\n",
       "           [0.0877, 0.1041],\n",
       "           [0.0877, 0.1041]],\n",
       " \n",
       "          [[0.1218, 0.1408],\n",
       "           [0.1218, 0.1408],\n",
       "           [0.1218, 0.1408],\n",
       "           [0.1218, 0.1408],\n",
       "           [0.1218, 0.1408],\n",
       "           [0.1218, 0.1408],\n",
       "           [0.1218, 0.1408],\n",
       "           [0.1218, 0.1408]]],\n",
       " \n",
       " \n",
       "         [[[0.0877, 0.1041],\n",
       "           [0.0877, 0.1041],\n",
       "           [0.0877, 0.1041],\n",
       "           [0.0877, 0.1041],\n",
       "           [0.0877, 0.1041],\n",
       "           [0.0877, 0.1041],\n",
       "           [0.0877, 0.1041],\n",
       "           [0.0877, 0.1041]],\n",
       " \n",
       "          [[0.1218, 0.1408],\n",
       "           [0.1218, 0.1408],\n",
       "           [0.1218, 0.1408],\n",
       "           [0.1218, 0.1408],\n",
       "           [0.1218, 0.1408],\n",
       "           [0.1218, 0.1408],\n",
       "           [0.1218, 0.1408],\n",
       "           [0.1218, 0.1408]]]], grad_fn=<TransposeBackward0>))"
      ]
     },
     "execution_count": 30,
     "metadata": {},
     "output_type": "execute_result"
    }
   ],
   "source": [
    "q,k,v = qkv.split(n_embd, dim=2)\n",
    "q = q.view(B, T, n_head, C // n_head).transpose(1, 2)\n",
    "k = k.view(B, T, n_head, C // n_head).transpose(1, 2)\n",
    "v = v.view(B, T, n_head, C // n_head).transpose(1, 2)\n",
    "'q', q.shape, q, 'k', k.shape, k, 'v', v.shape, v"
   ]
  },
  {
   "cell_type": "markdown",
   "id": "385cd815-7936-496e-b980-d91b49727569",
   "metadata": {},
   "source": [
    "**Flash Attention - Cross Attention / Dot-product attention**\n",
    "\n",
    "With the separated query, key, value, we now need to calculate the attention. The attention starts with the mutliplying query and key together to get `TxT` matrix showing how the context length embeddings interact, or the *unnormalized attention*. We also multiply by the $\\sqrt{C // n\\_head}$ since the dot product will grow in relation to the head widht and this scaling allows us to normalize the variance back down. After this we apply the **causal** filter that prevents the model from learning about a token from the future tokens beyond it.  We do this by using a upper triangle maskl, meaning we set all the values in the upper triangle to $-\\infty$.  This means that when we got to the softmax, these values are set to 0 meaning there's no weight on the prediction.   After applying our max, we softmax by the last dimension.  Softmax turns a real-valued vector into a probability distribution by exponentiating each component and normalizing by the sum so all outputs are nonnegative and sum to 1.  It does this by applying the following: \n",
    "\n",
    "$\\frac{e^{x_i}}{\\sum_{j=1}^{n} e^{x_j}}$\n",
    "\n",
    "After softmax, we apply a dropout layer which simply applies 0's out randomly up to the defined level percentage. Dropout can be applied in a few places and mainly acts to prevent co-adaptation and improve generalization. Dropout is only used during training and would not be run during inference. \n",
    "\n",
    "Finally to get the weigthed sum of the values by the attention we take the dot product of the raw attention and the values to bring the Query, Key, and Value impact per head back together.  After this we'll then collapse the heads and project the attention one final time to a linear layer. \n",
    "\n",
    "Let's start by first initializing our scaling, dropout, our our mask.  You'll see the mask creates an upper triangle matrix. \n",
    "\n",
    "*Note that in practice this step is run as `F.scaled_dot_product_attention` to avoid materializing the TxT matrix*"
   ]
  },
  {
   "cell_type": "code",
   "execution_count": 31,
   "id": "18d53d66-6960-4133-b837-c623b9737cdd",
   "metadata": {},
   "outputs": [
    {
     "data": {
      "text/plain": [
       "(0.7071067811865475,\n",
       " Dropout(p=0.1, inplace=False),\n",
       " tensor([[ True, False, False, False, False, False, False, False],\n",
       "         [ True,  True, False, False, False, False, False, False],\n",
       "         [ True,  True,  True, False, False, False, False, False],\n",
       "         [ True,  True,  True,  True, False, False, False, False],\n",
       "         [ True,  True,  True,  True,  True, False, False, False],\n",
       "         [ True,  True,  True,  True,  True,  True, False, False],\n",
       "         [ True,  True,  True,  True,  True,  True,  True, False],\n",
       "         [ True,  True,  True,  True,  True,  True,  True,  True]]))"
      ]
     },
     "execution_count": 31,
     "metadata": {},
     "output_type": "execute_result"
    }
   ],
   "source": [
    "scale = 1.0 / math.sqrt(C // n_head)\n",
    "dropout = nn.Dropout(0.1)\n",
    "mask = torch.tril(torch.ones(block_size, block_size, dtype=torch.bool))\n",
    "scale, dropout, mask"
   ]
  },
  {
   "cell_type": "markdown",
   "id": "5467fe05-a314-4d2c-ad84-eaf3ade4c383",
   "metadata": {},
   "source": [
    "Now we'll compute the unnormalized attention per head.  This takes the matrix multiple of the query and key and uses the scale factor to manage the variance on the last dimension. You'll see that the `TxT` matrix for each example at this point have all the same values because the `Q` and `K` had uniform values in each head.  "
   ]
  },
  {
   "cell_type": "code",
   "execution_count": 32,
   "id": "c7198658-113a-48c4-aa87-fbc53b1e31ec",
   "metadata": {},
   "outputs": [
    {
     "data": {
      "text/plain": [
       "(torch.Size([2, 2, 8, 8]),\n",
       " tensor([[[[0.0004, 0.0004, 0.0004, 0.0004, 0.0004, 0.0004, 0.0004, 0.0004],\n",
       "           [0.0004, 0.0004, 0.0004, 0.0004, 0.0004, 0.0004, 0.0004, 0.0004],\n",
       "           [0.0004, 0.0004, 0.0004, 0.0004, 0.0004, 0.0004, 0.0004, 0.0004],\n",
       "           [0.0004, 0.0004, 0.0004, 0.0004, 0.0004, 0.0004, 0.0004, 0.0004],\n",
       "           [0.0004, 0.0004, 0.0004, 0.0004, 0.0004, 0.0004, 0.0004, 0.0004],\n",
       "           [0.0004, 0.0004, 0.0004, 0.0004, 0.0004, 0.0004, 0.0004, 0.0004],\n",
       "           [0.0004, 0.0004, 0.0004, 0.0004, 0.0004, 0.0004, 0.0004, 0.0004],\n",
       "           [0.0004, 0.0004, 0.0004, 0.0004, 0.0004, 0.0004, 0.0004, 0.0004]],\n",
       " \n",
       "          [[0.0020, 0.0020, 0.0020, 0.0020, 0.0020, 0.0020, 0.0020, 0.0020],\n",
       "           [0.0020, 0.0020, 0.0020, 0.0020, 0.0020, 0.0020, 0.0020, 0.0020],\n",
       "           [0.0020, 0.0020, 0.0020, 0.0020, 0.0020, 0.0020, 0.0020, 0.0020],\n",
       "           [0.0020, 0.0020, 0.0020, 0.0020, 0.0020, 0.0020, 0.0020, 0.0020],\n",
       "           [0.0020, 0.0020, 0.0020, 0.0020, 0.0020, 0.0020, 0.0020, 0.0020],\n",
       "           [0.0020, 0.0020, 0.0020, 0.0020, 0.0020, 0.0020, 0.0020, 0.0020],\n",
       "           [0.0020, 0.0020, 0.0020, 0.0020, 0.0020, 0.0020, 0.0020, 0.0020],\n",
       "           [0.0020, 0.0020, 0.0020, 0.0020, 0.0020, 0.0020, 0.0020, 0.0020]]],\n",
       " \n",
       " \n",
       "         [[[0.0004, 0.0004, 0.0004, 0.0004, 0.0004, 0.0004, 0.0004, 0.0004],\n",
       "           [0.0004, 0.0004, 0.0004, 0.0004, 0.0004, 0.0004, 0.0004, 0.0004],\n",
       "           [0.0004, 0.0004, 0.0004, 0.0004, 0.0004, 0.0004, 0.0004, 0.0004],\n",
       "           [0.0004, 0.0004, 0.0004, 0.0004, 0.0004, 0.0004, 0.0004, 0.0004],\n",
       "           [0.0004, 0.0004, 0.0004, 0.0004, 0.0004, 0.0004, 0.0004, 0.0004],\n",
       "           [0.0004, 0.0004, 0.0004, 0.0004, 0.0004, 0.0004, 0.0004, 0.0004],\n",
       "           [0.0004, 0.0004, 0.0004, 0.0004, 0.0004, 0.0004, 0.0004, 0.0004],\n",
       "           [0.0004, 0.0004, 0.0004, 0.0004, 0.0004, 0.0004, 0.0004, 0.0004]],\n",
       " \n",
       "          [[0.0020, 0.0020, 0.0020, 0.0020, 0.0020, 0.0020, 0.0020, 0.0020],\n",
       "           [0.0020, 0.0020, 0.0020, 0.0020, 0.0020, 0.0020, 0.0020, 0.0020],\n",
       "           [0.0020, 0.0020, 0.0020, 0.0020, 0.0020, 0.0020, 0.0020, 0.0020],\n",
       "           [0.0020, 0.0020, 0.0020, 0.0020, 0.0020, 0.0020, 0.0020, 0.0020],\n",
       "           [0.0020, 0.0020, 0.0020, 0.0020, 0.0020, 0.0020, 0.0020, 0.0020],\n",
       "           [0.0020, 0.0020, 0.0020, 0.0020, 0.0020, 0.0020, 0.0020, 0.0020],\n",
       "           [0.0020, 0.0020, 0.0020, 0.0020, 0.0020, 0.0020, 0.0020, 0.0020],\n",
       "           [0.0020, 0.0020, 0.0020, 0.0020, 0.0020, 0.0020, 0.0020, 0.0020]]]],\n",
       "        grad_fn=<MulBackward0>))"
      ]
     },
     "execution_count": 32,
     "metadata": {},
     "output_type": "execute_result"
    }
   ],
   "source": [
    "att = q @ k.transpose(-2, -1) * scale\n",
    "att.shape, att"
   ]
  },
  {
   "cell_type": "markdown",
   "id": "895ae179-2f41-4831-a041-20e9229795e2",
   "metadata": {},
   "source": [
    "Now we have to apply the triangular mask.  This is where you can see causal attention removing the ability of each example looking at tokens beyond it's context to make predictions."
   ]
  },
  {
   "cell_type": "code",
   "execution_count": 33,
   "id": "c61088ff-e86a-4514-8cf1-bd771506f1d4",
   "metadata": {},
   "outputs": [
    {
     "data": {
      "text/plain": [
       "(torch.Size([2, 2, 8, 8]),\n",
       " tensor([[[[0.0004,   -inf,   -inf,   -inf,   -inf,   -inf,   -inf,   -inf],\n",
       "           [0.0004, 0.0004,   -inf,   -inf,   -inf,   -inf,   -inf,   -inf],\n",
       "           [0.0004, 0.0004, 0.0004,   -inf,   -inf,   -inf,   -inf,   -inf],\n",
       "           [0.0004, 0.0004, 0.0004, 0.0004,   -inf,   -inf,   -inf,   -inf],\n",
       "           [0.0004, 0.0004, 0.0004, 0.0004, 0.0004,   -inf,   -inf,   -inf],\n",
       "           [0.0004, 0.0004, 0.0004, 0.0004, 0.0004, 0.0004,   -inf,   -inf],\n",
       "           [0.0004, 0.0004, 0.0004, 0.0004, 0.0004, 0.0004, 0.0004,   -inf],\n",
       "           [0.0004, 0.0004, 0.0004, 0.0004, 0.0004, 0.0004, 0.0004, 0.0004]],\n",
       " \n",
       "          [[0.0020,   -inf,   -inf,   -inf,   -inf,   -inf,   -inf,   -inf],\n",
       "           [0.0020, 0.0020,   -inf,   -inf,   -inf,   -inf,   -inf,   -inf],\n",
       "           [0.0020, 0.0020, 0.0020,   -inf,   -inf,   -inf,   -inf,   -inf],\n",
       "           [0.0020, 0.0020, 0.0020, 0.0020,   -inf,   -inf,   -inf,   -inf],\n",
       "           [0.0020, 0.0020, 0.0020, 0.0020, 0.0020,   -inf,   -inf,   -inf],\n",
       "           [0.0020, 0.0020, 0.0020, 0.0020, 0.0020, 0.0020,   -inf,   -inf],\n",
       "           [0.0020, 0.0020, 0.0020, 0.0020, 0.0020, 0.0020, 0.0020,   -inf],\n",
       "           [0.0020, 0.0020, 0.0020, 0.0020, 0.0020, 0.0020, 0.0020, 0.0020]]],\n",
       " \n",
       " \n",
       "         [[[0.0004,   -inf,   -inf,   -inf,   -inf,   -inf,   -inf,   -inf],\n",
       "           [0.0004, 0.0004,   -inf,   -inf,   -inf,   -inf,   -inf,   -inf],\n",
       "           [0.0004, 0.0004, 0.0004,   -inf,   -inf,   -inf,   -inf,   -inf],\n",
       "           [0.0004, 0.0004, 0.0004, 0.0004,   -inf,   -inf,   -inf,   -inf],\n",
       "           [0.0004, 0.0004, 0.0004, 0.0004, 0.0004,   -inf,   -inf,   -inf],\n",
       "           [0.0004, 0.0004, 0.0004, 0.0004, 0.0004, 0.0004,   -inf,   -inf],\n",
       "           [0.0004, 0.0004, 0.0004, 0.0004, 0.0004, 0.0004, 0.0004,   -inf],\n",
       "           [0.0004, 0.0004, 0.0004, 0.0004, 0.0004, 0.0004, 0.0004, 0.0004]],\n",
       " \n",
       "          [[0.0020,   -inf,   -inf,   -inf,   -inf,   -inf,   -inf,   -inf],\n",
       "           [0.0020, 0.0020,   -inf,   -inf,   -inf,   -inf,   -inf,   -inf],\n",
       "           [0.0020, 0.0020, 0.0020,   -inf,   -inf,   -inf,   -inf,   -inf],\n",
       "           [0.0020, 0.0020, 0.0020, 0.0020,   -inf,   -inf,   -inf,   -inf],\n",
       "           [0.0020, 0.0020, 0.0020, 0.0020, 0.0020,   -inf,   -inf,   -inf],\n",
       "           [0.0020, 0.0020, 0.0020, 0.0020, 0.0020, 0.0020,   -inf,   -inf],\n",
       "           [0.0020, 0.0020, 0.0020, 0.0020, 0.0020, 0.0020, 0.0020,   -inf],\n",
       "           [0.0020, 0.0020, 0.0020, 0.0020, 0.0020, 0.0020, 0.0020, 0.0020]]]],\n",
       "        grad_fn=<MaskedFillBackward0>))"
      ]
     },
     "execution_count": 33,
     "metadata": {},
     "output_type": "execute_result"
    }
   ],
   "source": [
    "att = att.masked_fill(mask[:T, :T] == 0, float('-inf'))\n",
    "att.shape, att"
   ]
  },
  {
   "cell_type": "markdown",
   "id": "9feb3631-a77c-4cd0-b371-aa714f799c3d",
   "metadata": {},
   "source": [
    "Now we'll apply the softmax. Recall that softmax normalizes the probability per row by running the following: \n",
    "\n",
    "$\\frac{e^{x_i}}{\\sum_{j=1}^{n} e^{x_j}}$\n",
    "\n",
    "Because of this we can expect that the $-\\infty$ will become 0 due to their extreme weight, showing the power of the mask.  Also, now you'll see that each row changes in value since you have `n+1` elements in each row to distribute across. "
   ]
  },
  {
   "cell_type": "code",
   "execution_count": 34,
   "id": "30bda1a3-05c9-4303-9df8-44e0e1f43748",
   "metadata": {},
   "outputs": [
    {
     "data": {
      "text/plain": [
       "tensor([[[[1.0000, 0.0000, 0.0000, 0.0000, 0.0000, 0.0000, 0.0000, 0.0000],\n",
       "          [0.5000, 0.5000, 0.0000, 0.0000, 0.0000, 0.0000, 0.0000, 0.0000],\n",
       "          [0.3333, 0.3333, 0.3333, 0.0000, 0.0000, 0.0000, 0.0000, 0.0000],\n",
       "          [0.2500, 0.2500, 0.2500, 0.2500, 0.0000, 0.0000, 0.0000, 0.0000],\n",
       "          [0.2000, 0.2000, 0.2000, 0.2000, 0.2000, 0.0000, 0.0000, 0.0000],\n",
       "          [0.1667, 0.1667, 0.1667, 0.1667, 0.1667, 0.1667, 0.0000, 0.0000],\n",
       "          [0.1429, 0.1429, 0.1429, 0.1429, 0.1429, 0.1429, 0.1429, 0.0000],\n",
       "          [0.1250, 0.1250, 0.1250, 0.1250, 0.1250, 0.1250, 0.1250, 0.1250]],\n",
       "\n",
       "         [[1.0000, 0.0000, 0.0000, 0.0000, 0.0000, 0.0000, 0.0000, 0.0000],\n",
       "          [0.5000, 0.5000, 0.0000, 0.0000, 0.0000, 0.0000, 0.0000, 0.0000],\n",
       "          [0.3333, 0.3333, 0.3333, 0.0000, 0.0000, 0.0000, 0.0000, 0.0000],\n",
       "          [0.2500, 0.2500, 0.2500, 0.2500, 0.0000, 0.0000, 0.0000, 0.0000],\n",
       "          [0.2000, 0.2000, 0.2000, 0.2000, 0.2000, 0.0000, 0.0000, 0.0000],\n",
       "          [0.1667, 0.1667, 0.1667, 0.1667, 0.1667, 0.1667, 0.0000, 0.0000],\n",
       "          [0.1429, 0.1429, 0.1429, 0.1429, 0.1429, 0.1429, 0.1429, 0.0000],\n",
       "          [0.1250, 0.1250, 0.1250, 0.1250, 0.1250, 0.1250, 0.1250, 0.1250]]],\n",
       "\n",
       "\n",
       "        [[[1.0000, 0.0000, 0.0000, 0.0000, 0.0000, 0.0000, 0.0000, 0.0000],\n",
       "          [0.5000, 0.5000, 0.0000, 0.0000, 0.0000, 0.0000, 0.0000, 0.0000],\n",
       "          [0.3333, 0.3333, 0.3333, 0.0000, 0.0000, 0.0000, 0.0000, 0.0000],\n",
       "          [0.2500, 0.2500, 0.2500, 0.2500, 0.0000, 0.0000, 0.0000, 0.0000],\n",
       "          [0.2000, 0.2000, 0.2000, 0.2000, 0.2000, 0.0000, 0.0000, 0.0000],\n",
       "          [0.1667, 0.1667, 0.1667, 0.1667, 0.1667, 0.1667, 0.0000, 0.0000],\n",
       "          [0.1429, 0.1429, 0.1429, 0.1429, 0.1429, 0.1429, 0.1429, 0.0000],\n",
       "          [0.1250, 0.1250, 0.1250, 0.1250, 0.1250, 0.1250, 0.1250, 0.1250]],\n",
       "\n",
       "         [[1.0000, 0.0000, 0.0000, 0.0000, 0.0000, 0.0000, 0.0000, 0.0000],\n",
       "          [0.5000, 0.5000, 0.0000, 0.0000, 0.0000, 0.0000, 0.0000, 0.0000],\n",
       "          [0.3333, 0.3333, 0.3333, 0.0000, 0.0000, 0.0000, 0.0000, 0.0000],\n",
       "          [0.2500, 0.2500, 0.2500, 0.2500, 0.0000, 0.0000, 0.0000, 0.0000],\n",
       "          [0.2000, 0.2000, 0.2000, 0.2000, 0.2000, 0.0000, 0.0000, 0.0000],\n",
       "          [0.1667, 0.1667, 0.1667, 0.1667, 0.1667, 0.1667, 0.0000, 0.0000],\n",
       "          [0.1429, 0.1429, 0.1429, 0.1429, 0.1429, 0.1429, 0.1429, 0.0000],\n",
       "          [0.1250, 0.1250, 0.1250, 0.1250, 0.1250, 0.1250, 0.1250, 0.1250]]]],\n",
       "       grad_fn=<SoftmaxBackward0>)"
      ]
     },
     "execution_count": 34,
     "metadata": {},
     "output_type": "execute_result"
    }
   ],
   "source": [
    "att = F.softmax(att, dim=-1)\n",
    "att"
   ]
  },
  {
   "cell_type": "markdown",
   "id": "4179d8cf-6038-4fe5-825d-79929fd80ba8",
   "metadata": {},
   "source": [
    "After the softmax, we'll add dropout. This dropout will randomly zero out any value effectively removing that specific node from impacting prediction. To balance out the dropped out values, the surviving entries are scaled by $1/(1-p)$. During training this helps with generalizaiton and fights fixation. You'll need to look closely to identify the droped-out values. As a reminder, during inference we would skip dropout. "
   ]
  },
  {
   "cell_type": "code",
   "execution_count": 35,
   "id": "2641d433-16ae-48dd-9041-b72feb9ca74e",
   "metadata": {},
   "outputs": [
    {
     "data": {
      "text/plain": [
       "(torch.Size([2, 2, 8, 8]),\n",
       " tensor([[[[1.1111, 0.0000, 0.0000, 0.0000, 0.0000, 0.0000, 0.0000, 0.0000],\n",
       "           [0.5556, 0.5556, 0.0000, 0.0000, 0.0000, 0.0000, 0.0000, 0.0000],\n",
       "           [0.3704, 0.0000, 0.3704, 0.0000, 0.0000, 0.0000, 0.0000, 0.0000],\n",
       "           [0.2778, 0.2778, 0.2778, 0.0000, 0.0000, 0.0000, 0.0000, 0.0000],\n",
       "           [0.2222, 0.2222, 0.2222, 0.2222, 0.2222, 0.0000, 0.0000, 0.0000],\n",
       "           [0.1852, 0.1852, 0.1852, 0.1852, 0.1852, 0.1852, 0.0000, 0.0000],\n",
       "           [0.1587, 0.1587, 0.1587, 0.0000, 0.0000, 0.1587, 0.1587, 0.0000],\n",
       "           [0.0000, 0.1389, 0.1389, 0.1389, 0.1389, 0.1389, 0.1389, 0.1389]],\n",
       " \n",
       "          [[1.1111, 0.0000, 0.0000, 0.0000, 0.0000, 0.0000, 0.0000, 0.0000],\n",
       "           [0.5556, 0.0000, 0.0000, 0.0000, 0.0000, 0.0000, 0.0000, 0.0000],\n",
       "           [0.3704, 0.3704, 0.3704, 0.0000, 0.0000, 0.0000, 0.0000, 0.0000],\n",
       "           [0.2778, 0.2778, 0.2778, 0.2778, 0.0000, 0.0000, 0.0000, 0.0000],\n",
       "           [0.2222, 0.2222, 0.2222, 0.2222, 0.2222, 0.0000, 0.0000, 0.0000],\n",
       "           [0.1852, 0.1852, 0.1852, 0.0000, 0.1852, 0.1852, 0.0000, 0.0000],\n",
       "           [0.1587, 0.0000, 0.1587, 0.1587, 0.1587, 0.0000, 0.1587, 0.0000],\n",
       "           [0.0000, 0.1389, 0.1389, 0.1389, 0.1389, 0.1389, 0.1389, 0.1389]]],\n",
       " \n",
       " \n",
       "         [[[1.1111, 0.0000, 0.0000, 0.0000, 0.0000, 0.0000, 0.0000, 0.0000],\n",
       "           [0.5556, 0.5556, 0.0000, 0.0000, 0.0000, 0.0000, 0.0000, 0.0000],\n",
       "           [0.3704, 0.3704, 0.0000, 0.0000, 0.0000, 0.0000, 0.0000, 0.0000],\n",
       "           [0.2778, 0.2778, 0.2778, 0.2778, 0.0000, 0.0000, 0.0000, 0.0000],\n",
       "           [0.2222, 0.2222, 0.2222, 0.2222, 0.2222, 0.0000, 0.0000, 0.0000],\n",
       "           [0.1852, 0.1852, 0.1852, 0.1852, 0.1852, 0.1852, 0.0000, 0.0000],\n",
       "           [0.1587, 0.1587, 0.1587, 0.1587, 0.1587, 0.1587, 0.1587, 0.0000],\n",
       "           [0.1389, 0.1389, 0.1389, 0.1389, 0.1389, 0.1389, 0.1389, 0.1389]],\n",
       " \n",
       "          [[1.1111, 0.0000, 0.0000, 0.0000, 0.0000, 0.0000, 0.0000, 0.0000],\n",
       "           [0.5556, 0.5556, 0.0000, 0.0000, 0.0000, 0.0000, 0.0000, 0.0000],\n",
       "           [0.3704, 0.3704, 0.0000, 0.0000, 0.0000, 0.0000, 0.0000, 0.0000],\n",
       "           [0.2778, 0.2778, 0.2778, 0.2778, 0.0000, 0.0000, 0.0000, 0.0000],\n",
       "           [0.2222, 0.2222, 0.2222, 0.2222, 0.2222, 0.0000, 0.0000, 0.0000],\n",
       "           [0.1852, 0.1852, 0.1852, 0.1852, 0.1852, 0.1852, 0.0000, 0.0000],\n",
       "           [0.1587, 0.1587, 0.1587, 0.1587, 0.1587, 0.1587, 0.1587, 0.0000],\n",
       "           [0.1389, 0.1389, 0.1389, 0.1389, 0.1389, 0.1389, 0.1389, 0.1389]]]],\n",
       "        grad_fn=<MulBackward0>))"
      ]
     },
     "execution_count": 35,
     "metadata": {},
     "output_type": "execute_result"
    }
   ],
   "source": [
    "att = dropout(att)\n",
    "att.shape, att"
   ]
  },
  {
   "cell_type": "markdown",
   "id": "3da8dd5a-cd14-4726-930c-5e47bf09cc4a",
   "metadata": {},
   "source": [
    "Finally we now take the raw attention and use it to weight the values.  We'll take the matrix multiple of the attention with the values to create the flash-attention output. While we would expect the values for each exampl'es head to be the same given the input consistency of the query, key, and value, you can see that the dropout created enough noise to shift certain entries away from consistency. "
   ]
  },
  {
   "cell_type": "code",
   "execution_count": 36,
   "id": "0ae71420-fe18-48e4-80c5-a9f15295fc9e",
   "metadata": {},
   "outputs": [
    {
     "data": {
      "text/plain": [
       "(torch.Size([2, 2, 8, 2]),\n",
       " tensor([[[[0.0974, 0.1156],\n",
       "           [0.0974, 0.1156],\n",
       "           [0.0649, 0.0771],\n",
       "           [0.0731, 0.0867],\n",
       "           [0.0974, 0.1156],\n",
       "           [0.0974, 0.1156],\n",
       "           [0.0696, 0.0826],\n",
       "           [0.0852, 0.1012]],\n",
       " \n",
       "          [[0.1353, 0.1565],\n",
       "           [0.0677, 0.0782],\n",
       "           [0.1353, 0.1565],\n",
       "           [0.1353, 0.1565],\n",
       "           [0.1353, 0.1565],\n",
       "           [0.1128, 0.1304],\n",
       "           [0.0966, 0.1118],\n",
       "           [0.1184, 0.1369]]],\n",
       " \n",
       " \n",
       "         [[[0.0974, 0.1156],\n",
       "           [0.0974, 0.1156],\n",
       "           [0.0649, 0.0771],\n",
       "           [0.0974, 0.1156],\n",
       "           [0.0974, 0.1156],\n",
       "           [0.0974, 0.1156],\n",
       "           [0.0974, 0.1156],\n",
       "           [0.0974, 0.1156]],\n",
       " \n",
       "          [[0.1353, 0.1565],\n",
       "           [0.1353, 0.1565],\n",
       "           [0.0902, 0.1043],\n",
       "           [0.1353, 0.1565],\n",
       "           [0.1353, 0.1565],\n",
       "           [0.1353, 0.1565],\n",
       "           [0.1353, 0.1565],\n",
       "           [0.1353, 0.1565]]]], grad_fn=<UnsafeViewBackward0>))"
      ]
     },
     "execution_count": 36,
     "metadata": {},
     "output_type": "execute_result"
    }
   ],
   "source": [
    "fa = att @ v\n",
    "fa.shape, fa"
   ]
  },
  {
   "cell_type": "markdown",
   "id": "3305e2fe-00e2-4631-a937-978b9d60957c",
   "metadata": {},
   "source": [
    "**Flash Attention - collapse heads**  Now we'll reshape back to remove the heads\n",
    "\n",
    "*Note we use `contiguous` here to force `transpose()` to create a new matrix in memory. This allows the heads to learn independently*"
   ]
  },
  {
   "cell_type": "code",
   "execution_count": 37,
   "id": "f1331243-d917-45ef-9f1c-10f5bb24fe33",
   "metadata": {},
   "outputs": [
    {
     "data": {
      "text/plain": [
       "(torch.Size([2, 8, 4]),\n",
       " tensor([[[0.0974, 0.1156, 0.1353, 0.1565],\n",
       "          [0.0974, 0.1156, 0.0677, 0.0782],\n",
       "          [0.0649, 0.0771, 0.1353, 0.1565],\n",
       "          [0.0731, 0.0867, 0.1353, 0.1565],\n",
       "          [0.0974, 0.1156, 0.1353, 0.1565],\n",
       "          [0.0974, 0.1156, 0.1128, 0.1304],\n",
       "          [0.0696, 0.0826, 0.0966, 0.1118],\n",
       "          [0.0852, 0.1012, 0.1184, 0.1369]],\n",
       " \n",
       "         [[0.0974, 0.1156, 0.1353, 0.1565],\n",
       "          [0.0974, 0.1156, 0.1353, 0.1565],\n",
       "          [0.0649, 0.0771, 0.0902, 0.1043],\n",
       "          [0.0974, 0.1156, 0.1353, 0.1565],\n",
       "          [0.0974, 0.1156, 0.1353, 0.1565],\n",
       "          [0.0974, 0.1156, 0.1353, 0.1565],\n",
       "          [0.0974, 0.1156, 0.1353, 0.1565],\n",
       "          [0.0974, 0.1156, 0.1353, 0.1565]]], grad_fn=<ViewBackward0>))"
      ]
     },
     "execution_count": 37,
     "metadata": {},
     "output_type": "execute_result"
    }
   ],
   "source": [
    "fa = fa.transpose(1, 2).contiguous().view(B, T, C)\n",
    "fa.shape, fa"
   ]
  },
  {
   "cell_type": "markdown",
   "id": "c023e209-4e96-46c2-9f24-b0c6117fe650",
   "metadata": {},
   "source": [
    "**Flash Attention - final projection and output**\n",
    "Finally, we will now project the cross attention matrix on another final linear layer `n_embd x n_embd` that we initialized as `c_proj`.  Once agian, because our rows are identical (where not impacted by dropout) and we use `c_attn` $y=x\\_norm \\cdot c\\_proj^\\top + b$ we will result in the same values, except for where dropout has impacted the values. Note that currently bias is 0 so it is not impacting the values. "
   ]
  },
  {
   "cell_type": "code",
   "execution_count": 38,
   "id": "a36fb4f0-481b-4638-b376-2ca6bf0d5e70",
   "metadata": {},
   "outputs": [
    {
     "data": {
      "text/plain": [
       "(torch.Size([2, 8, 4]),\n",
       " tensor([[[0.0014, 0.0031, 0.0053, 0.0079],\n",
       "          [0.0008, 0.0020, 0.0033, 0.0049],\n",
       "          [0.0013, 0.0029, 0.0049, 0.0072],\n",
       "          [0.0013, 0.0029, 0.0050, 0.0074],\n",
       "          [0.0014, 0.0031, 0.0053, 0.0079],\n",
       "          [0.0012, 0.0027, 0.0046, 0.0069],\n",
       "          [0.0010, 0.0022, 0.0038, 0.0056],\n",
       "          [0.0012, 0.0027, 0.0046, 0.0069]],\n",
       " \n",
       "         [[0.0014, 0.0031, 0.0053, 0.0079],\n",
       "          [0.0014, 0.0031, 0.0053, 0.0079],\n",
       "          [0.0009, 0.0021, 0.0035, 0.0053],\n",
       "          [0.0014, 0.0031, 0.0053, 0.0079],\n",
       "          [0.0014, 0.0031, 0.0053, 0.0079],\n",
       "          [0.0014, 0.0031, 0.0053, 0.0079],\n",
       "          [0.0014, 0.0031, 0.0053, 0.0079],\n",
       "          [0.0014, 0.0031, 0.0053, 0.0079]]], grad_fn=<ViewBackward0>))"
      ]
     },
     "execution_count": 38,
     "metadata": {},
     "output_type": "execute_result"
    }
   ],
   "source": [
    "x_norm = c_proj(fa)\n",
    "x_norm.shape, x_norm"
   ]
  },
  {
   "cell_type": "markdown",
   "id": "4d5ece0b-3a38-44d2-9fcc-cc9a01ea9eaa",
   "metadata": {},
   "source": [
    "#### Transformer - Residual (skip) connection"
   ]
  },
  {
   "attachments": {},
   "cell_type": "markdown",
   "id": "24d8108a-616b-4d56-a3a0-c333430b924c",
   "metadata": {},
   "source": [
    "<img src=\"explainer_screenshots/skip_layer.png\" width=\"200\">\n",
    "Modern networks also use skip connections, meaning they allow for pathways to bypass around \"boxes\", passing through gradients during the backward pass.  This attribute ensures that the impact of each layer and head is normalized against the input embeddings themselves. Recall in the diagram we had the arrow that bypassed \"masked multiheaded attention\".  Functionally this is represented as\n",
    "\n",
    "$y = f(x) + x$\n",
    "\n",
    "To achieve this we simply sum the projection matrix `x` with the flash attention output `x_norm`.  As a reminder we'll print out X.  As you can see, because `x` was based on the tokens, it has a different value per row, so even though `x_norm` has mostly the same value per row, we'll result in a diverse set of weights.  With this you can see the power of skip connections passing through weights."
   ]
  },
  {
   "cell_type": "code",
   "execution_count": 39,
   "id": "ecc71ade-9154-481e-935c-f5d077a3b549",
   "metadata": {},
   "outputs": [
    {
     "data": {
      "text/plain": [
       "tensor([[[0.3700, 0.3900, 0.4100, 0.4300],\n",
       "         [0.1800, 0.2000, 0.2200, 0.2400],\n",
       "         [0.3600, 0.3800, 0.4000, 0.4200],\n",
       "         [0.1400, 0.1600, 0.1800, 0.2000],\n",
       "         [0.1100, 0.1300, 0.1500, 0.1700],\n",
       "         [0.2700, 0.2900, 0.3100, 0.3300],\n",
       "         [0.3800, 0.4000, 0.4200, 0.4400],\n",
       "         [0.2400, 0.2600, 0.2800, 0.3000]],\n",
       "\n",
       "        [[0.1300, 0.1500, 0.1700, 0.1900],\n",
       "         [0.1200, 0.1400, 0.1600, 0.1800],\n",
       "         [0.1000, 0.1200, 0.1400, 0.1600],\n",
       "         [0.2500, 0.2700, 0.2900, 0.3100],\n",
       "         [0.1100, 0.1300, 0.1500, 0.1700],\n",
       "         [0.0700, 0.0900, 0.1100, 0.1300],\n",
       "         [0.2100, 0.2300, 0.2500, 0.2700],\n",
       "         [0.3000, 0.3200, 0.3400, 0.3600]]], grad_fn=<AddBackward0>)"
      ]
     },
     "execution_count": 39,
     "metadata": {},
     "output_type": "execute_result"
    }
   ],
   "source": [
    "x"
   ]
  },
  {
   "cell_type": "code",
   "execution_count": 40,
   "id": "9c5bc275-e624-47ac-8958-735e3227b239",
   "metadata": {},
   "outputs": [
    {
     "data": {
      "text/plain": [
       "(torch.Size([2, 8, 4]),\n",
       " tensor([[[0.3714, 0.3931, 0.4153, 0.4379],\n",
       "          [0.1808, 0.2020, 0.2233, 0.2449],\n",
       "          [0.3613, 0.3829, 0.4049, 0.4272],\n",
       "          [0.1413, 0.1629, 0.1850, 0.2074],\n",
       "          [0.1114, 0.1331, 0.1553, 0.1779],\n",
       "          [0.2712, 0.2927, 0.3146, 0.3369],\n",
       "          [0.3810, 0.4022, 0.4238, 0.4456],\n",
       "          [0.2412, 0.2627, 0.2846, 0.3069]],\n",
       " \n",
       "         [[0.1314, 0.1531, 0.1753, 0.1979],\n",
       "          [0.1214, 0.1431, 0.1653, 0.1879],\n",
       "          [0.1009, 0.1221, 0.1435, 0.1653],\n",
       "          [0.2514, 0.2731, 0.2953, 0.3179],\n",
       "          [0.1114, 0.1331, 0.1553, 0.1779],\n",
       "          [0.0714, 0.0931, 0.1153, 0.1379],\n",
       "          [0.2114, 0.2331, 0.2553, 0.2779],\n",
       "          [0.3014, 0.3231, 0.3453, 0.3679]]], grad_fn=<AddBackward0>))"
      ]
     },
     "execution_count": 40,
     "metadata": {},
     "output_type": "execute_result"
    }
   ],
   "source": [
    "x = x + x_norm\n",
    "x.shape, x"
   ]
  },
  {
   "cell_type": "markdown",
   "id": "c958bfe1-5bac-4d7d-80fe-585f915dbffb",
   "metadata": {},
   "source": [
    "#### Transformer - Layer Normalization 2"
   ]
  },
  {
   "cell_type": "markdown",
   "id": "c3cb3d5d-98f0-4c80-b0c0-e600c915b2c2",
   "metadata": {},
   "source": [
    "We'll run another round of normalization now on the outputs of the masked multi-head attention and skip connection to ensure our values are not too spread apart. This layer will run the same normalization formula as before, but is it's own independent layer as it has different inputs. Recall the formula is: \n",
    "\n",
    "$y = \\frac{x - \\mathbb{E}[x]}{\\sqrt{\\operatorname{Var}[x] + \\epsilon}}\\$\n",
    "\n",
    "Because we will do a skip connection again for the next layer, MLP, we'll once again branch `x` for the normalization and MLP and then sum it back togehter with `x`. \n",
    "\n",
    "While before normalization brought the values back to the same identical values, now you'll see ever so slight variance.  This is the impact of dropout starting to show. "
   ]
  },
  {
   "cell_type": "code",
   "execution_count": 41,
   "id": "bc3b130a-fb31-442b-a66e-ad44e75ab00d",
   "metadata": {},
   "outputs": [],
   "source": [
    "ln_2 = nn.LayerNorm(n_embd)"
   ]
  },
  {
   "cell_type": "code",
   "execution_count": 42,
   "id": "1529dc49-c8c2-409f-ac41-97cceca40030",
   "metadata": {},
   "outputs": [
    {
     "data": {
      "text/plain": [
       "(torch.Size([2, 8, 4]),\n",
       " tensor([[[-1.3227, -0.4518,  0.4355,  1.3390],\n",
       "          [-1.3246, -0.4488,  0.4379,  1.3354],\n",
       "          [-1.3232, -0.4510,  0.4361,  1.3381],\n",
       "          [-1.3231, -0.4512,  0.4359,  1.3383],\n",
       "          [-1.3227, -0.4518,  0.4355,  1.3390],\n",
       "          [-1.3233, -0.4508,  0.4363,  1.3378],\n",
       "          [-1.3242, -0.4494,  0.4374,  1.3362],\n",
       "          [-1.3233, -0.4507,  0.4363,  1.3378]],\n",
       " \n",
       "         [[-1.3227, -0.4518,  0.4355,  1.3390],\n",
       "          [-1.3227, -0.4518,  0.4355,  1.3390],\n",
       "          [-1.3245, -0.4490,  0.4378,  1.3357],\n",
       "          [-1.3227, -0.4518,  0.4355,  1.3390],\n",
       "          [-1.3227, -0.4518,  0.4355,  1.3390],\n",
       "          [-1.3227, -0.4518,  0.4355,  1.3390],\n",
       "          [-1.3227, -0.4518,  0.4355,  1.3390],\n",
       "          [-1.3227, -0.4518,  0.4355,  1.3390]]],\n",
       "        grad_fn=<NativeLayerNormBackward0>))"
      ]
     },
     "execution_count": 42,
     "metadata": {},
     "output_type": "execute_result"
    }
   ],
   "source": [
    "x_norm_2 = ln_2(x)\n",
    "x_norm_2.shape, x_norm_2"
   ]
  },
  {
   "cell_type": "markdown",
   "id": "f8ca684f-4d15-409b-889f-781a39170b32",
   "metadata": {},
   "source": [
    "#### Transformer - Feed Forward (aka Multi-layer Perceptron)"
   ]
  },
  {
   "attachments": {},
   "cell_type": "markdown",
   "id": "bd73af80-ed3e-4353-8450-5f7f62da5cde",
   "metadata": {
    "jp-MarkdownHeadingCollapsed": true
   },
   "source": [
    "<img src=\"explainer_screenshots/mlp.png\" width=\"400\">\n",
    "\n",
    "The feed-forward sublayer consists of two-layer mirroring a multi-layer perceptron, MLP.  These layers mix the features within each token vector but never across time. The output `x` from multi-headed attention starts as `B x T x C`.  Feed forward \n",
    "1. Calculates `4C` using a $XA^\\top + B$ linear layer \n",
    "2. Normalizes the data using a `tanh` based GELU layer. This layer pushes extreme values to +/- 1\n",
    "3. Projects back down to `C` with a final $XW^\\top + B$ linear layer.\n",
    "\n",
    "The MLP nonlinearly re-expresses each token's channel features before being aggregated across the hidden layers and passed to the output layer. "
   ]
  },
  {
   "cell_type": "markdown",
   "id": "ea9efc46-5aec-4bea-8169-7c2302385aa2",
   "metadata": {},
   "source": [
    "We'll first start by creating the 3 different layers:\n",
    "1. `mlp_fc` - Linear layer to project up to `4C`\n",
    "2. `mlp_gelu` - tanh layer\n",
    "3. `mlp_proj` - Linear layer to project down to `C`\n",
    "\n",
    "We'll do similar initiation to our linear layers as before. Since the tanh step is a calculation per row (similar to layer normalization), we will not do initiation for it."
   ]
  },
  {
   "cell_type": "code",
   "execution_count": 43,
   "id": "2ca50703-eb86-4945-ad25-eab514ba66d9",
   "metadata": {},
   "outputs": [
    {
     "data": {
      "text/plain": [
       "(torch.Size([16, 4]),\n",
       " Parameter containing:\n",
       " tensor([[0.0010, 0.0020, 0.0030, 0.0040],\n",
       "         [0.0020, 0.0050, 0.0070, 0.0090],\n",
       "         [0.0030, 0.0090, 0.0120, 0.0150],\n",
       "         [0.0040, 0.0140, 0.0180, 0.0220],\n",
       "         [0.0050, 0.0200, 0.0250, 0.0300],\n",
       "         [0.0060, 0.0270, 0.0330, 0.0390],\n",
       "         [0.0070, 0.0350, 0.0420, 0.0490],\n",
       "         [0.0080, 0.0440, 0.0520, 0.0600],\n",
       "         [0.0090, 0.0540, 0.0630, 0.0720],\n",
       "         [0.0100, 0.0650, 0.0750, 0.0850],\n",
       "         [0.0110, 0.0770, 0.0880, 0.0990],\n",
       "         [0.0120, 0.0900, 0.1020, 0.1140],\n",
       "         [0.0130, 0.1040, 0.1170, 0.1300],\n",
       "         [0.0140, 0.1190, 0.1330, 0.1470],\n",
       "         [0.0150, 0.1350, 0.1500, 0.1650],\n",
       "         [0.0160, 0.1520, 0.1680, 0.1840]], requires_grad=True))"
      ]
     },
     "execution_count": 43,
     "metadata": {},
     "output_type": "execute_result"
    }
   ],
   "source": [
    "mlp_fc = nn.Linear(n_embd, 4 * n_embd)\n",
    "\n",
    "with torch.no_grad():\n",
    "    out, inp = mlp_fc.weight.shape  # (3*n_embd, n_embd)\n",
    "    r = torch.arange(1, out + 1).unsqueeze(1)  # [out,1], 1-indexed\n",
    "    c = torch.arange(1, inp + 1).unsqueeze(0)   # [1,inp], 1-indexed\n",
    "    base = r * c                          # rc\n",
    "    tri = r * (r - 1) / 2                 # T_{r-1} = r(r-1)/2, shape [out,1]\n",
    "    mask = (c >= 2)           # add T_{r-1} only from column 2 onward\n",
    "    pattern = 1e-3 * (base + tri * mask) # matches [[.001,.002,.003],[.002,.005,.007],[.003,.009,.012],...]\n",
    "    mlp_fc.weight.copy_(pattern)\n",
    "\n",
    "mlp_fc.weight.shape, mlp_fc.weight"
   ]
  },
  {
   "cell_type": "code",
   "execution_count": 44,
   "id": "2fc7f2a9-b7bb-4d13-b342-50bd9a9cb978",
   "metadata": {},
   "outputs": [
    {
     "data": {
      "text/plain": [
       "GELU(approximate='tanh')"
      ]
     },
     "execution_count": 44,
     "metadata": {},
     "output_type": "execute_result"
    }
   ],
   "source": [
    "mlp_gelu = nn.GELU(approximate='tanh')\n",
    "mlp_gelu"
   ]
  },
  {
   "cell_type": "code",
   "execution_count": 45,
   "id": "0232f666-9a5e-4d13-b566-4db54f4757f8",
   "metadata": {},
   "outputs": [
    {
     "data": {
      "text/plain": [
       "(torch.Size([4, 16]),\n",
       " Parameter containing:\n",
       " tensor([[0.0010, 0.0020, 0.0030, 0.0040, 0.0050, 0.0060, 0.0070, 0.0080, 0.0090,\n",
       "          0.0100, 0.0110, 0.0120, 0.0130, 0.0140, 0.0150, 0.0160],\n",
       "         [0.0020, 0.0050, 0.0070, 0.0090, 0.0110, 0.0130, 0.0150, 0.0170, 0.0190,\n",
       "          0.0210, 0.0230, 0.0250, 0.0270, 0.0290, 0.0310, 0.0330],\n",
       "         [0.0030, 0.0090, 0.0120, 0.0150, 0.0180, 0.0210, 0.0240, 0.0270, 0.0300,\n",
       "          0.0330, 0.0360, 0.0390, 0.0420, 0.0450, 0.0480, 0.0510],\n",
       "         [0.0040, 0.0140, 0.0180, 0.0220, 0.0260, 0.0300, 0.0340, 0.0380, 0.0420,\n",
       "          0.0460, 0.0500, 0.0540, 0.0580, 0.0620, 0.0660, 0.0700]],\n",
       "        requires_grad=True))"
      ]
     },
     "execution_count": 45,
     "metadata": {},
     "output_type": "execute_result"
    }
   ],
   "source": [
    "mlp_proj = nn.Linear(4 * n_embd, n_embd)\n",
    "\n",
    "with torch.no_grad():\n",
    "    out, inp = mlp_proj.weight.shape  # (3*n_embd, n_embd)\n",
    "    r = torch.arange(1, out + 1).unsqueeze(1)  # [out,1], 1-indexed\n",
    "    c = torch.arange(1, inp + 1).unsqueeze(0)   # [1,inp], 1-indexed\n",
    "    base = r * c                          # rc\n",
    "    tri = r * (r - 1) / 2                 # T_{r-1} = r(r-1)/2, shape [out,1]\n",
    "    mask = (c >= 2)           # add T_{r-1} only from column 2 onward\n",
    "    pattern = 1e-3 * (base + tri * mask) # matches [[.001,.002,.003],[.002,.005,.007],[.003,.009,.012],...]\n",
    "    mlp_proj.weight.copy_(pattern)\n",
    "\n",
    "mlp_proj.weight.shape, mlp_proj.weight"
   ]
  },
  {
   "cell_type": "markdown",
   "id": "6ad01ac2-6018-48bb-917c-1b2d293b056c",
   "metadata": {},
   "source": [
    "**MLP - 4c projection**  - Now we'll take `x_norm_2` and apply the first linear layer that projects upward to `4C`.  Reminder that the  calculation is $x\\_mlp = x\\_norm\\_2 \\cdot mlp\\_fc^\\top + b$. Once again we'll see a repetition of many values in `x_mlp` as the rows in `x_norm_2` are close to the same."
   ]
  },
  {
   "cell_type": "code",
   "execution_count": 46,
   "id": "f6d86c8c-1003-48c1-9617-de556aaed302",
   "metadata": {
    "scrolled": true
   },
   "outputs": [
    {
     "data": {
      "text/plain": [
       "(torch.Size([2, 8, 16]),\n",
       " tensor([[[ 0.0169,  0.0817,  0.1910,  0.4841,  0.4139, -0.0865, -0.1992,\n",
       "            0.1418, -0.0200, -0.1539,  0.4434,  0.4876, -0.1020,  0.1949,\n",
       "            0.3860, -0.0922],\n",
       "          [ 0.0169,  0.0817,  0.1910,  0.4841,  0.4140, -0.0864, -0.1992,\n",
       "            0.1419, -0.0199, -0.1538,  0.4435,  0.4877, -0.1019,  0.1950,\n",
       "            0.3862, -0.0920],\n",
       "          [ 0.0169,  0.0817,  0.1910,  0.4841,  0.4139, -0.0864, -0.1992,\n",
       "            0.1418, -0.0200, -0.1539,  0.4434,  0.4877, -0.1020,  0.1949,\n",
       "            0.3861, -0.0921],\n",
       "          [ 0.0169,  0.0817,  0.1910,  0.4841,  0.4139, -0.0864, -0.1992,\n",
       "            0.1418, -0.0200, -0.1539,  0.4434,  0.4877, -0.1020,  0.1949,\n",
       "            0.3861, -0.0921],\n",
       "          [ 0.0169,  0.0817,  0.1910,  0.4841,  0.4139, -0.0865, -0.1992,\n",
       "            0.1418, -0.0200, -0.1539,  0.4434,  0.4876, -0.1020,  0.1949,\n",
       "            0.3860, -0.0922],\n",
       "          [ 0.0169,  0.0817,  0.1910,  0.4841,  0.4139, -0.0864, -0.1992,\n",
       "            0.1419, -0.0200, -0.1539,  0.4434,  0.4877, -0.1020,  0.1949,\n",
       "            0.3861, -0.0921],\n",
       "          [ 0.0169,  0.0817,  0.1910,  0.4841,  0.4140, -0.0864, -0.1992,\n",
       "            0.1419, -0.0199, -0.1539,  0.4434,  0.4877, -0.1019,  0.1950,\n",
       "            0.3862, -0.0920],\n",
       "          [ 0.0169,  0.0817,  0.1910,  0.4841,  0.4139, -0.0864, -0.1992,\n",
       "            0.1419, -0.0200, -0.1539,  0.4434,  0.4877, -0.1020,  0.1949,\n",
       "            0.3861, -0.0921]],\n",
       " \n",
       "         [[ 0.0169,  0.0817,  0.1910,  0.4841,  0.4139, -0.0865, -0.1992,\n",
       "            0.1418, -0.0200, -0.1539,  0.4434,  0.4876, -0.1020,  0.1949,\n",
       "            0.3860, -0.0922],\n",
       "          [ 0.0169,  0.0817,  0.1910,  0.4841,  0.4139, -0.0865, -0.1992,\n",
       "            0.1418, -0.0200, -0.1539,  0.4434,  0.4876, -0.1020,  0.1949,\n",
       "            0.3860, -0.0922],\n",
       "          [ 0.0169,  0.0817,  0.1910,  0.4841,  0.4140, -0.0864, -0.1992,\n",
       "            0.1419, -0.0199, -0.1538,  0.4435,  0.4877, -0.1019,  0.1950,\n",
       "            0.3862, -0.0920],\n",
       "          [ 0.0169,  0.0817,  0.1910,  0.4841,  0.4139, -0.0865, -0.1992,\n",
       "            0.1418, -0.0200, -0.1539,  0.4434,  0.4876, -0.1020,  0.1949,\n",
       "            0.3860, -0.0922],\n",
       "          [ 0.0169,  0.0817,  0.1910,  0.4841,  0.4139, -0.0865, -0.1992,\n",
       "            0.1418, -0.0200, -0.1539,  0.4434,  0.4876, -0.1020,  0.1949,\n",
       "            0.3860, -0.0922],\n",
       "          [ 0.0169,  0.0817,  0.1910,  0.4841,  0.4139, -0.0865, -0.1992,\n",
       "            0.1418, -0.0200, -0.1539,  0.4434,  0.4876, -0.1020,  0.1949,\n",
       "            0.3860, -0.0922],\n",
       "          [ 0.0169,  0.0817,  0.1910,  0.4841,  0.4139, -0.0865, -0.1992,\n",
       "            0.1418, -0.0200, -0.1539,  0.4434,  0.4876, -0.1020,  0.1949,\n",
       "            0.3860, -0.0922],\n",
       "          [ 0.0169,  0.0817,  0.1910,  0.4841,  0.4139, -0.0865, -0.1992,\n",
       "            0.1418, -0.0200, -0.1539,  0.4434,  0.4876, -0.1020,  0.1949,\n",
       "            0.3860, -0.0922]]], grad_fn=<ViewBackward0>))"
      ]
     },
     "execution_count": 46,
     "metadata": {},
     "output_type": "execute_result"
    }
   ],
   "source": [
    "x_mlp = mlp_fc(x_norm_2)\n",
    "x_mlp.shape, x_mlp"
   ]
  },
  {
   "cell_type": "markdown",
   "id": "e86159a6-dbeb-48f4-9e79-1e9a74577496",
   "metadata": {},
   "source": [
    "**MLP - tanh**  - Now we'll apply the tanh approximation (GELU - tanh) which smoothly gates each input `x_mlp`. The formula applied is \n",
    "\n",
    "$\\tanh(x)=\\frac{\\exp(x)-\\exp(-x)}{\\exp(x)+\\exp(-x)}$\n",
    "\n",
    "The Tanh formula pushes large positive numbers to 1 and large negative numbers to -1.  `tanh` is applied element wise across the full `x_mlp`.  This will further smooth out the differences we've seen given how minor they are. "
   ]
  },
  {
   "cell_type": "code",
   "execution_count": 47,
   "id": "a089adf6-8301-4b09-9c7e-647bdb750041",
   "metadata": {
    "scrolled": true
   },
   "outputs": [
    {
     "data": {
      "text/plain": [
       "(torch.Size([2, 8, 16]),\n",
       " tensor([[[ 0.0086,  0.0435,  0.1100,  0.3320,  0.2734, -0.0402, -0.0839,\n",
       "            0.0789, -0.0098, -0.0675,  0.2976,  0.3350, -0.0469,  0.1125,\n",
       "            0.2510, -0.0427],\n",
       "          [ 0.0086,  0.0435,  0.1100,  0.3320,  0.2734, -0.0402, -0.0839,\n",
       "            0.0789, -0.0098, -0.0675,  0.2977,  0.3351, -0.0468,  0.1126,\n",
       "            0.2511, -0.0426],\n",
       "          [ 0.0086,  0.0435,  0.1100,  0.3320,  0.2734, -0.0402, -0.0839,\n",
       "            0.0789, -0.0098, -0.0675,  0.2976,  0.3351, -0.0468,  0.1125,\n",
       "            0.2510, -0.0427],\n",
       "          [ 0.0086,  0.0435,  0.1100,  0.3320,  0.2734, -0.0402, -0.0839,\n",
       "            0.0789, -0.0098, -0.0675,  0.2976,  0.3351, -0.0468,  0.1125,\n",
       "            0.2510, -0.0427],\n",
       "          [ 0.0086,  0.0435,  0.1100,  0.3320,  0.2734, -0.0402, -0.0839,\n",
       "            0.0789, -0.0098, -0.0675,  0.2976,  0.3350, -0.0469,  0.1125,\n",
       "            0.2510, -0.0427],\n",
       "          [ 0.0086,  0.0435,  0.1100,  0.3320,  0.2734, -0.0402, -0.0839,\n",
       "            0.0789, -0.0098, -0.0675,  0.2976,  0.3351, -0.0468,  0.1125,\n",
       "            0.2510, -0.0427],\n",
       "          [ 0.0086,  0.0435,  0.1100,  0.3320,  0.2734, -0.0402, -0.0839,\n",
       "            0.0789, -0.0098, -0.0675,  0.2977,  0.3351, -0.0468,  0.1126,\n",
       "            0.2511, -0.0426],\n",
       "          [ 0.0086,  0.0435,  0.1100,  0.3320,  0.2734, -0.0402, -0.0839,\n",
       "            0.0789, -0.0098, -0.0675,  0.2976,  0.3351, -0.0468,  0.1125,\n",
       "            0.2511, -0.0427]],\n",
       " \n",
       "         [[ 0.0086,  0.0435,  0.1100,  0.3320,  0.2734, -0.0402, -0.0839,\n",
       "            0.0789, -0.0098, -0.0675,  0.2976,  0.3350, -0.0469,  0.1125,\n",
       "            0.2510, -0.0427],\n",
       "          [ 0.0086,  0.0435,  0.1100,  0.3320,  0.2734, -0.0402, -0.0839,\n",
       "            0.0789, -0.0098, -0.0675,  0.2976,  0.3350, -0.0469,  0.1125,\n",
       "            0.2510, -0.0427],\n",
       "          [ 0.0086,  0.0435,  0.1100,  0.3320,  0.2734, -0.0402, -0.0839,\n",
       "            0.0789, -0.0098, -0.0675,  0.2977,  0.3351, -0.0468,  0.1126,\n",
       "            0.2511, -0.0426],\n",
       "          [ 0.0086,  0.0435,  0.1100,  0.3320,  0.2734, -0.0402, -0.0839,\n",
       "            0.0789, -0.0098, -0.0675,  0.2976,  0.3350, -0.0469,  0.1125,\n",
       "            0.2510, -0.0427],\n",
       "          [ 0.0086,  0.0435,  0.1100,  0.3320,  0.2734, -0.0402, -0.0839,\n",
       "            0.0789, -0.0098, -0.0675,  0.2976,  0.3350, -0.0469,  0.1125,\n",
       "            0.2510, -0.0427],\n",
       "          [ 0.0086,  0.0435,  0.1100,  0.3320,  0.2734, -0.0402, -0.0839,\n",
       "            0.0789, -0.0098, -0.0675,  0.2976,  0.3350, -0.0469,  0.1125,\n",
       "            0.2510, -0.0427],\n",
       "          [ 0.0086,  0.0435,  0.1100,  0.3320,  0.2734, -0.0402, -0.0839,\n",
       "            0.0789, -0.0098, -0.0675,  0.2976,  0.3350, -0.0469,  0.1125,\n",
       "            0.2510, -0.0427],\n",
       "          [ 0.0086,  0.0435,  0.1100,  0.3320,  0.2734, -0.0402, -0.0839,\n",
       "            0.0789, -0.0098, -0.0675,  0.2976,  0.3350, -0.0469,  0.1125,\n",
       "            0.2510, -0.0427]]], grad_fn=<GeluBackward0>))"
      ]
     },
     "execution_count": 47,
     "metadata": {},
     "output_type": "execute_result"
    }
   ],
   "source": [
    "x_mlp = mlp_gelu(x_mlp)\n",
    "x_mlp.shape, x_mlp"
   ]
  },
  {
   "cell_type": "markdown",
   "id": "ef4b0108-4a93-4231-bd9f-05da60815e9c",
   "metadata": {},
   "source": [
    "**MLP - down projection**  - Finally we'll take `x_mlp` and project `4C` back down to `C` using the weights in `mlp_proj`. Recall that we apply $x\\_mlp = x\\_mlp\\_2 \\cdot mlp\\_proj^\\top$.  Even though the layer weights are `4x16` the transpose in $XW^\\top + B$ allows to project back down. We'll recover a lot of the row repetion though this process as we get further from the dropout."
   ]
  },
  {
   "cell_type": "code",
   "execution_count": 48,
   "id": "fe0d6434-43d2-46c7-bd18-c6e659205b5f",
   "metadata": {},
   "outputs": [
    {
     "data": {
      "text/plain": [
       "(torch.Size([2, 8, 4]),\n",
       " tensor([[[-0.0886, -0.1603,  0.0493,  0.0289],\n",
       "          [-0.0886, -0.1603,  0.0493,  0.0290],\n",
       "          [-0.0886, -0.1603,  0.0493,  0.0290],\n",
       "          [-0.0886, -0.1603,  0.0493,  0.0290],\n",
       "          [-0.0886, -0.1603,  0.0493,  0.0289],\n",
       "          [-0.0886, -0.1603,  0.0493,  0.0290],\n",
       "          [-0.0886, -0.1603,  0.0493,  0.0290],\n",
       "          [-0.0886, -0.1603,  0.0493,  0.0290]],\n",
       " \n",
       "         [[-0.0886, -0.1603,  0.0493,  0.0289],\n",
       "          [-0.0886, -0.1603,  0.0493,  0.0289],\n",
       "          [-0.0886, -0.1603,  0.0493,  0.0290],\n",
       "          [-0.0886, -0.1603,  0.0493,  0.0289],\n",
       "          [-0.0886, -0.1603,  0.0493,  0.0289],\n",
       "          [-0.0886, -0.1603,  0.0493,  0.0289],\n",
       "          [-0.0886, -0.1603,  0.0493,  0.0289],\n",
       "          [-0.0886, -0.1603,  0.0493,  0.0289]]], grad_fn=<ViewBackward0>))"
      ]
     },
     "execution_count": 48,
     "metadata": {},
     "output_type": "execute_result"
    }
   ],
   "source": [
    "x_mlp = mlp_proj(x_mlp)\n",
    "x_mlp.shape, x_mlp"
   ]
  },
  {
   "cell_type": "markdown",
   "id": "fa6a61c0-d1c8-4820-8744-1de06d820269",
   "metadata": {},
   "source": [
    "#### Transformer - Residual (skip) connection 2"
   ]
  },
  {
   "cell_type": "markdown",
   "id": "13b46b76-7fef-4c2f-8bd2-a86d8da405b6",
   "metadata": {},
   "source": [
    "Once again our transformer uses a skip connection to allow for passing gradients through the Feed Forward, aka MLP, layer. Just like the first skip connection, functionally this is represented as\n",
    "\n",
    "$y = f(x) + x$\n",
    "\n",
    "To achieve this we simply sum the MLP input matrix `x` with the MLP output `x_mlp`.  As a reminder we'll print out `x`.  As you can see, because `x` was based on the tokens, it has a different value per row, so even though `x_mlp` has the same value per row, we'll result in a diverse set of weights.  With this you can see the power of skip connections passing through weights."
   ]
  },
  {
   "cell_type": "code",
   "execution_count": 49,
   "id": "2c773183-3483-4b3b-bbaa-4505072cfc60",
   "metadata": {},
   "outputs": [
    {
     "data": {
      "text/plain": [
       "tensor([[[0.3714, 0.3931, 0.4153, 0.4379],\n",
       "         [0.1808, 0.2020, 0.2233, 0.2449],\n",
       "         [0.3613, 0.3829, 0.4049, 0.4272],\n",
       "         [0.1413, 0.1629, 0.1850, 0.2074],\n",
       "         [0.1114, 0.1331, 0.1553, 0.1779],\n",
       "         [0.2712, 0.2927, 0.3146, 0.3369],\n",
       "         [0.3810, 0.4022, 0.4238, 0.4456],\n",
       "         [0.2412, 0.2627, 0.2846, 0.3069]],\n",
       "\n",
       "        [[0.1314, 0.1531, 0.1753, 0.1979],\n",
       "         [0.1214, 0.1431, 0.1653, 0.1879],\n",
       "         [0.1009, 0.1221, 0.1435, 0.1653],\n",
       "         [0.2514, 0.2731, 0.2953, 0.3179],\n",
       "         [0.1114, 0.1331, 0.1553, 0.1779],\n",
       "         [0.0714, 0.0931, 0.1153, 0.1379],\n",
       "         [0.2114, 0.2331, 0.2553, 0.2779],\n",
       "         [0.3014, 0.3231, 0.3453, 0.3679]]], grad_fn=<AddBackward0>)"
      ]
     },
     "execution_count": 49,
     "metadata": {},
     "output_type": "execute_result"
    }
   ],
   "source": [
    "x"
   ]
  },
  {
   "cell_type": "code",
   "execution_count": 50,
   "id": "b611c470-d48d-4c86-a1a3-7a0489066e13",
   "metadata": {},
   "outputs": [
    {
     "data": {
      "text/plain": [
       "(torch.Size([2, 8, 4]),\n",
       " tensor([[[ 0.2827,  0.2328,  0.4646,  0.4668],\n",
       "          [ 0.0922,  0.0417,  0.2726,  0.2739],\n",
       "          [ 0.2726,  0.2226,  0.4541,  0.4562],\n",
       "          [ 0.0526,  0.0027,  0.2342,  0.2363],\n",
       "          [ 0.0227, -0.0272,  0.2046,  0.2068],\n",
       "          [ 0.1825,  0.1325,  0.3639,  0.3659],\n",
       "          [ 0.2923,  0.2420,  0.4731,  0.4746],\n",
       "          [ 0.1526,  0.1025,  0.3339,  0.3359]],\n",
       " \n",
       "         [[ 0.0427, -0.0072,  0.2246,  0.2268],\n",
       "          [ 0.0327, -0.0172,  0.2146,  0.2168],\n",
       "          [ 0.0123, -0.0382,  0.1928,  0.1942],\n",
       "          [ 0.1627,  0.1128,  0.3446,  0.3468],\n",
       "          [ 0.0227, -0.0272,  0.2046,  0.2068],\n",
       "          [-0.0173, -0.0672,  0.1646,  0.1668],\n",
       "          [ 0.1227,  0.0728,  0.3046,  0.3068],\n",
       "          [ 0.2127,  0.1628,  0.3946,  0.3968]]], grad_fn=<AddBackward0>))"
      ]
     },
     "execution_count": 50,
     "metadata": {},
     "output_type": "execute_result"
    }
   ],
   "source": [
    "x = x_mlp + x\n",
    "\n",
    "x.shape, x"
   ]
  },
  {
   "cell_type": "markdown",
   "id": "2d01f807-bb7c-4cff-a5fa-44ae767a3431",
   "metadata": {},
   "source": [
    "#### Transformer - Final Layer Normalization "
   ]
  },
  {
   "cell_type": "markdown",
   "id": "5d9fa593-6cb1-488f-b33c-46b817b2bfe7",
   "metadata": {},
   "source": [
    "The final step in the transformer is to aggregate and normalize before calculating the final projections. This layer is similar to the previous normalization layers. This layer will run the same normalization formula as before, but is its own independent layer as it has different inputs. Recall the formula is: \n",
    "\n",
    "$y = \\frac{x - \\mathbb{E}[x]}{\\sqrt{\\operatorname{Var}[x] + \\epsilon}}$\n",
    "\n",
    "Since this is the final layer, we will not have a residual connection so we do not need to branch `x`.  As with the previous normalization layers, we'll once again see the rows diverge in value as the dropout impact shown in `x` comes back.  "
   ]
  },
  {
   "cell_type": "code",
   "execution_count": 51,
   "id": "647f8975-ce82-41ee-9b99-9fb80f4ffa0a",
   "metadata": {},
   "outputs": [
    {
     "data": {
      "text/plain": [
       "LayerNorm((4,), eps=1e-05, elementwise_affine=True)"
      ]
     },
     "execution_count": 51,
     "metadata": {},
     "output_type": "execute_result"
    }
   ],
   "source": [
    "ln_f = nn.LayerNorm(n_embd)\n",
    "ln_f"
   ]
  },
  {
   "cell_type": "code",
   "execution_count": 52,
   "id": "3c5f7b20-da66-4fe6-ba7e-df19c162a124",
   "metadata": {},
   "outputs": [
    {
     "data": {
      "text/plain": [
       "(torch.Size([2, 8, 4]),\n",
       " tensor([[[-0.7491, -1.2218,  0.9747,  0.9962],\n",
       "          [-0.7437, -1.2261,  0.9786,  0.9912],\n",
       "          [-0.7479, -1.2228,  0.9756,  0.9950],\n",
       "          [-0.7482, -1.2225,  0.9754,  0.9953],\n",
       "          [-0.7491, -1.2218,  0.9747,  0.9962],\n",
       "          [-0.7473, -1.2232,  0.9760,  0.9945],\n",
       "          [-0.7450, -1.2251,  0.9777,  0.9923],\n",
       "          [-0.7473, -1.2232,  0.9760,  0.9945]],\n",
       " \n",
       "         [[-0.7491, -1.2218,  0.9747,  0.9962],\n",
       "          [-0.7491, -1.2218,  0.9747,  0.9962],\n",
       "          [-0.7443, -1.2256,  0.9782,  0.9917],\n",
       "          [-0.7491, -1.2218,  0.9747,  0.9962],\n",
       "          [-0.7491, -1.2218,  0.9747,  0.9962],\n",
       "          [-0.7491, -1.2218,  0.9747,  0.9962],\n",
       "          [-0.7491, -1.2218,  0.9747,  0.9962],\n",
       "          [-0.7491, -1.2218,  0.9747,  0.9962]]],\n",
       "        grad_fn=<NativeLayerNormBackward0>))"
      ]
     },
     "execution_count": 52,
     "metadata": {},
     "output_type": "execute_result"
    }
   ],
   "source": [
    "x = ln_f(x)\n",
    "x.shape, x"
   ]
  },
  {
   "cell_type": "markdown",
   "id": "4794c634-a6cf-49b9-85df-f96488b4021b",
   "metadata": {},
   "source": [
    "### Output Layers AKA Model Head."
   ]
  },
  {
   "attachments": {},
   "cell_type": "markdown",
   "id": "ec2f6bc6-edfc-4d19-ac3a-f8cb02d39ad1",
   "metadata": {},
   "source": [
    "The combination of masked multi-head attention and feed forward, along with the normalization and residual connections is considered the \"transformer\".  In practice this layer is horizontally scaled to run many layers in parallel.  Once those layers are complete during the forward pass we then start the output process that results in `logits` which is a representation of the probability of each token being the next token given the input.  \n",
    "\n",
    "This layer is also known as the model **head**, not to be confused with attention heads. This layer is called this because it is a small, task-specific module attached to a model’s shared backbone that maps hidden features to the final outputs.  In our example case, this is a linear layer mapping the backbone to vocab logits. The benefit of this structure is that you can use the shared hidden features and train different heads for different tasks without starting from scratch. An example would be a classifier head, or policy head in RL.\n",
    "\n",
    "<img src=\"explainer_screenshots/output_layer.png\" width=\"200\">\n",
    "\n",
    "For our head we want to map to a predicted token which we'll look at as `logits`. In the process to generate `logits` we take the normalized output `x` of the transformers, then project, using a linear layer, to the vocabulary resulting in a `B, T, vocab_size` matrix known as `logits`.  \n",
    "\n",
    "In training, the `logits` are then compared with `y` to see how close the  model is to predicting the correct next token. For inference, the `logits` are then used to drive sampling which is how the next token is then derived. \n",
    "\n",
    "\n",
    "Instead of initializing weights this time around, we'll do **Weight Tying**.  Weight tying sets the output softmax matrix equal to the transpose of the input embedding matrix $W_{\\text{out}} = W_e^\\top$, forcing the model to “read” and “predict” in the same token space. This reduces parameters and acts as a useful prior, improving sample-efficiency and often perplexity by aligning input–output geometry. Modern LLMs have seemed to ditch this though to gain the extra capacity, but, for our example, we'll maintain it.\n",
    "\n",
    "\n",
    "\n"
   ]
  },
  {
   "cell_type": "code",
   "execution_count": 53,
   "id": "65a9da09-0da1-433a-b276-780875c56b77",
   "metadata": {},
   "outputs": [
    {
     "data": {
      "text/plain": [
       "(Linear(in_features=4, out_features=36, bias=False),\n",
       " Parameter containing:\n",
       " tensor([[0.0100, 0.0200, 0.0300, 0.0400],\n",
       "         [0.0200, 0.0300, 0.0400, 0.0500],\n",
       "         [0.0300, 0.0400, 0.0500, 0.0600],\n",
       "         [0.0400, 0.0500, 0.0600, 0.0700],\n",
       "         [0.0500, 0.0600, 0.0700, 0.0800],\n",
       "         [0.0600, 0.0700, 0.0800, 0.0900],\n",
       "         [0.0700, 0.0800, 0.0900, 0.1000],\n",
       "         [0.0800, 0.0900, 0.1000, 0.1100],\n",
       "         [0.0900, 0.1000, 0.1100, 0.1200],\n",
       "         [0.1000, 0.1100, 0.1200, 0.1300],\n",
       "         [0.1100, 0.1200, 0.1300, 0.1400],\n",
       "         [0.1200, 0.1300, 0.1400, 0.1500],\n",
       "         [0.1300, 0.1400, 0.1500, 0.1600],\n",
       "         [0.1400, 0.1500, 0.1600, 0.1700],\n",
       "         [0.1500, 0.1600, 0.1700, 0.1800],\n",
       "         [0.1600, 0.1700, 0.1800, 0.1900],\n",
       "         [0.1700, 0.1800, 0.1900, 0.2000],\n",
       "         [0.1800, 0.1900, 0.2000, 0.2100],\n",
       "         [0.1900, 0.2000, 0.2100, 0.2200],\n",
       "         [0.2000, 0.2100, 0.2200, 0.2300],\n",
       "         [0.2100, 0.2200, 0.2300, 0.2400],\n",
       "         [0.2200, 0.2300, 0.2400, 0.2500],\n",
       "         [0.2300, 0.2400, 0.2500, 0.2600],\n",
       "         [0.2400, 0.2500, 0.2600, 0.2700],\n",
       "         [0.2500, 0.2600, 0.2700, 0.2800],\n",
       "         [0.2600, 0.2700, 0.2800, 0.2900],\n",
       "         [0.2700, 0.2800, 0.2900, 0.3000],\n",
       "         [0.2800, 0.2900, 0.3000, 0.3100],\n",
       "         [0.2900, 0.3000, 0.3100, 0.3200],\n",
       "         [0.3000, 0.3100, 0.3200, 0.3300],\n",
       "         [0.3100, 0.3200, 0.3300, 0.3400],\n",
       "         [0.3200, 0.3300, 0.3400, 0.3500],\n",
       "         [0.3300, 0.3400, 0.3500, 0.3600],\n",
       "         [0.3400, 0.3500, 0.3600, 0.3700],\n",
       "         [0.3500, 0.3600, 0.3700, 0.3800],\n",
       "         [0.3600, 0.3700, 0.3800, 0.3900]], requires_grad=True))"
      ]
     },
     "execution_count": 53,
     "metadata": {},
     "output_type": "execute_result"
    }
   ],
   "source": [
    "lm_head = nn.Linear(n_embd, vocab_size, bias=False)\n",
    "# weight sharing scheme\n",
    "lm_head.weight = wte.weight\n",
    "\n",
    "lm_head, lm_head.weight\n"
   ]
  },
  {
   "cell_type": "markdown",
   "id": "6601a613-4384-4e20-bd67-152c2248873f",
   "metadata": {},
   "source": [
    "now let's check that the values are the same and that the underlying objects `data_ptr()` are"
   ]
  },
  {
   "cell_type": "code",
   "execution_count": 54,
   "id": "172cc399-ac64-4fc7-96bd-50bb2ccd80ed",
   "metadata": {},
   "outputs": [
    {
     "data": {
      "text/plain": [
       "(True, True)"
      ]
     },
     "execution_count": 54,
     "metadata": {},
     "output_type": "execute_result"
    }
   ],
   "source": [
    "lm_head.weight is wte.weight, lm_head.weight.data_ptr() == wte.weight.data_ptr()"
   ]
  },
  {
   "cell_type": "markdown",
   "id": "9eda51be-2d33-42e4-87c7-1b12065c61b5",
   "metadata": {},
   "source": [
    "#### Output layer - LM Head aka logits\n",
    "We now project `x` onto the vocabulary resulting in a `B X T X vocab_size` final array `logits`.  This output correlates with the \n",
    "probabilty of each output token given the input context.  The best way to read  this is:\n",
    "\n",
    "(dimension 0) we have 2 batches B, \n",
    "(dimension 1) each batch has an example for each value between 1 and context length T \n",
    "(dimension 2) for each example we see the probability of each token in our vocabulary\n",
    "\n",
    "Since our `x` at this point has similar values across the row, and we are using weight tying between the head and inputlayer, we fully expect that our logits will have similar values.  In practice this means that our model will have close to the same probability of a token output as the 'next token' regardless of the preceeding text, meaning it's shit. Luckily backpropogation has a way of updating this so that with enough data and time the probabilities change. "
   ]
  },
  {
   "cell_type": "code",
   "execution_count": 55,
   "id": "d39d0446-9f58-425c-a5c2-7f7049639137",
   "metadata": {},
   "outputs": [
    {
     "data": {
      "text/plain": [
       "tensor([[[-0.7491, -1.2218,  0.9747,  0.9962],\n",
       "         [-0.7437, -1.2261,  0.9786,  0.9912],\n",
       "         [-0.7479, -1.2228,  0.9756,  0.9950],\n",
       "         [-0.7482, -1.2225,  0.9754,  0.9953],\n",
       "         [-0.7491, -1.2218,  0.9747,  0.9962],\n",
       "         [-0.7473, -1.2232,  0.9760,  0.9945],\n",
       "         [-0.7450, -1.2251,  0.9777,  0.9923],\n",
       "         [-0.7473, -1.2232,  0.9760,  0.9945]],\n",
       "\n",
       "        [[-0.7491, -1.2218,  0.9747,  0.9962],\n",
       "         [-0.7491, -1.2218,  0.9747,  0.9962],\n",
       "         [-0.7443, -1.2256,  0.9782,  0.9917],\n",
       "         [-0.7491, -1.2218,  0.9747,  0.9962],\n",
       "         [-0.7491, -1.2218,  0.9747,  0.9962],\n",
       "         [-0.7491, -1.2218,  0.9747,  0.9962],\n",
       "         [-0.7491, -1.2218,  0.9747,  0.9962],\n",
       "         [-0.7491, -1.2218,  0.9747,  0.9962]]],\n",
       "       grad_fn=<NativeLayerNormBackward0>)"
      ]
     },
     "execution_count": 55,
     "metadata": {},
     "output_type": "execute_result"
    }
   ],
   "source": [
    "x"
   ]
  },
  {
   "cell_type": "code",
   "execution_count": 56,
   "id": "3c2b2104-0286-413f-acfd-911df164caff",
   "metadata": {},
   "outputs": [
    {
     "data": {
      "text/plain": [
       "(torch.Size([2, 8, 36]),\n",
       " tensor([[[0.0372, 0.0372, 0.0372, 0.0372, 0.0372, 0.0372, 0.0372, 0.0372,\n",
       "           0.0372, 0.0372, 0.0372, 0.0372, 0.0372, 0.0372, 0.0372, 0.0372,\n",
       "           0.0372, 0.0372, 0.0372, 0.0372, 0.0372, 0.0372, 0.0372, 0.0372,\n",
       "           0.0372, 0.0372, 0.0372, 0.0372, 0.0372, 0.0372, 0.0372, 0.0372,\n",
       "           0.0372, 0.0372, 0.0372, 0.0372],\n",
       "          [0.0370, 0.0370, 0.0370, 0.0370, 0.0370, 0.0370, 0.0370, 0.0370,\n",
       "           0.0370, 0.0370, 0.0370, 0.0370, 0.0370, 0.0370, 0.0370, 0.0370,\n",
       "           0.0370, 0.0370, 0.0370, 0.0370, 0.0370, 0.0370, 0.0370, 0.0370,\n",
       "           0.0370, 0.0370, 0.0370, 0.0370, 0.0370, 0.0370, 0.0370, 0.0370,\n",
       "           0.0370, 0.0370, 0.0370, 0.0370],\n",
       "          [0.0371, 0.0371, 0.0371, 0.0371, 0.0371, 0.0371, 0.0371, 0.0371,\n",
       "           0.0371, 0.0371, 0.0371, 0.0371, 0.0371, 0.0371, 0.0371, 0.0371,\n",
       "           0.0371, 0.0371, 0.0371, 0.0371, 0.0371, 0.0371, 0.0371, 0.0371,\n",
       "           0.0371, 0.0371, 0.0371, 0.0371, 0.0371, 0.0371, 0.0371, 0.0371,\n",
       "           0.0371, 0.0371, 0.0371, 0.0371],\n",
       "          [0.0371, 0.0371, 0.0371, 0.0371, 0.0371, 0.0371, 0.0371, 0.0371,\n",
       "           0.0371, 0.0371, 0.0371, 0.0371, 0.0371, 0.0371, 0.0371, 0.0371,\n",
       "           0.0371, 0.0371, 0.0371, 0.0371, 0.0371, 0.0371, 0.0371, 0.0371,\n",
       "           0.0371, 0.0371, 0.0371, 0.0371, 0.0371, 0.0371, 0.0371, 0.0371,\n",
       "           0.0371, 0.0371, 0.0371, 0.0371],\n",
       "          [0.0372, 0.0372, 0.0372, 0.0372, 0.0372, 0.0372, 0.0372, 0.0372,\n",
       "           0.0372, 0.0372, 0.0372, 0.0372, 0.0372, 0.0372, 0.0372, 0.0372,\n",
       "           0.0372, 0.0372, 0.0372, 0.0372, 0.0372, 0.0372, 0.0372, 0.0372,\n",
       "           0.0372, 0.0372, 0.0372, 0.0372, 0.0372, 0.0372, 0.0372, 0.0372,\n",
       "           0.0372, 0.0372, 0.0372, 0.0372],\n",
       "          [0.0371, 0.0371, 0.0371, 0.0371, 0.0371, 0.0371, 0.0371, 0.0371,\n",
       "           0.0371, 0.0371, 0.0371, 0.0371, 0.0371, 0.0371, 0.0371, 0.0371,\n",
       "           0.0371, 0.0371, 0.0371, 0.0371, 0.0371, 0.0371, 0.0371, 0.0371,\n",
       "           0.0371, 0.0371, 0.0371, 0.0371, 0.0371, 0.0371, 0.0371, 0.0371,\n",
       "           0.0371, 0.0371, 0.0371, 0.0371],\n",
       "          [0.0371, 0.0371, 0.0371, 0.0371, 0.0371, 0.0371, 0.0371, 0.0371,\n",
       "           0.0371, 0.0371, 0.0371, 0.0371, 0.0371, 0.0371, 0.0371, 0.0371,\n",
       "           0.0371, 0.0371, 0.0371, 0.0371, 0.0371, 0.0371, 0.0371, 0.0371,\n",
       "           0.0371, 0.0371, 0.0371, 0.0371, 0.0371, 0.0371, 0.0371, 0.0371,\n",
       "           0.0371, 0.0371, 0.0371, 0.0371],\n",
       "          [0.0371, 0.0371, 0.0371, 0.0371, 0.0371, 0.0371, 0.0371, 0.0371,\n",
       "           0.0371, 0.0371, 0.0371, 0.0371, 0.0371, 0.0371, 0.0371, 0.0371,\n",
       "           0.0371, 0.0371, 0.0371, 0.0371, 0.0371, 0.0371, 0.0371, 0.0371,\n",
       "           0.0371, 0.0371, 0.0371, 0.0371, 0.0371, 0.0371, 0.0371, 0.0371,\n",
       "           0.0371, 0.0371, 0.0371, 0.0371]],\n",
       " \n",
       "         [[0.0372, 0.0372, 0.0372, 0.0372, 0.0372, 0.0372, 0.0372, 0.0372,\n",
       "           0.0372, 0.0372, 0.0372, 0.0372, 0.0372, 0.0372, 0.0372, 0.0372,\n",
       "           0.0372, 0.0372, 0.0372, 0.0372, 0.0372, 0.0372, 0.0372, 0.0372,\n",
       "           0.0372, 0.0372, 0.0372, 0.0372, 0.0372, 0.0372, 0.0372, 0.0372,\n",
       "           0.0372, 0.0372, 0.0372, 0.0372],\n",
       "          [0.0372, 0.0372, 0.0372, 0.0372, 0.0372, 0.0372, 0.0372, 0.0372,\n",
       "           0.0372, 0.0372, 0.0372, 0.0372, 0.0372, 0.0372, 0.0372, 0.0372,\n",
       "           0.0372, 0.0372, 0.0372, 0.0372, 0.0372, 0.0372, 0.0372, 0.0372,\n",
       "           0.0372, 0.0372, 0.0372, 0.0372, 0.0372, 0.0372, 0.0372, 0.0372,\n",
       "           0.0372, 0.0372, 0.0372, 0.0372],\n",
       "          [0.0371, 0.0371, 0.0371, 0.0371, 0.0371, 0.0371, 0.0371, 0.0371,\n",
       "           0.0371, 0.0371, 0.0371, 0.0371, 0.0371, 0.0371, 0.0371, 0.0371,\n",
       "           0.0371, 0.0371, 0.0371, 0.0371, 0.0371, 0.0371, 0.0371, 0.0371,\n",
       "           0.0371, 0.0371, 0.0371, 0.0371, 0.0371, 0.0371, 0.0371, 0.0371,\n",
       "           0.0371, 0.0371, 0.0371, 0.0371],\n",
       "          [0.0372, 0.0372, 0.0372, 0.0372, 0.0372, 0.0372, 0.0372, 0.0372,\n",
       "           0.0372, 0.0372, 0.0372, 0.0372, 0.0372, 0.0372, 0.0372, 0.0372,\n",
       "           0.0372, 0.0372, 0.0372, 0.0372, 0.0372, 0.0372, 0.0372, 0.0372,\n",
       "           0.0372, 0.0372, 0.0372, 0.0372, 0.0372, 0.0372, 0.0372, 0.0372,\n",
       "           0.0372, 0.0372, 0.0372, 0.0372],\n",
       "          [0.0372, 0.0372, 0.0372, 0.0372, 0.0372, 0.0372, 0.0372, 0.0372,\n",
       "           0.0372, 0.0372, 0.0372, 0.0372, 0.0372, 0.0372, 0.0372, 0.0372,\n",
       "           0.0372, 0.0372, 0.0372, 0.0372, 0.0372, 0.0372, 0.0372, 0.0372,\n",
       "           0.0372, 0.0372, 0.0372, 0.0372, 0.0372, 0.0372, 0.0372, 0.0372,\n",
       "           0.0372, 0.0372, 0.0372, 0.0372],\n",
       "          [0.0372, 0.0372, 0.0372, 0.0372, 0.0372, 0.0372, 0.0372, 0.0372,\n",
       "           0.0372, 0.0372, 0.0372, 0.0372, 0.0372, 0.0372, 0.0372, 0.0372,\n",
       "           0.0372, 0.0372, 0.0372, 0.0372, 0.0372, 0.0372, 0.0372, 0.0372,\n",
       "           0.0372, 0.0372, 0.0372, 0.0372, 0.0372, 0.0372, 0.0372, 0.0372,\n",
       "           0.0372, 0.0372, 0.0372, 0.0372],\n",
       "          [0.0372, 0.0372, 0.0372, 0.0372, 0.0372, 0.0372, 0.0372, 0.0372,\n",
       "           0.0372, 0.0372, 0.0372, 0.0372, 0.0372, 0.0372, 0.0372, 0.0372,\n",
       "           0.0372, 0.0372, 0.0372, 0.0372, 0.0372, 0.0372, 0.0372, 0.0372,\n",
       "           0.0372, 0.0372, 0.0372, 0.0372, 0.0372, 0.0372, 0.0372, 0.0372,\n",
       "           0.0372, 0.0372, 0.0372, 0.0372],\n",
       "          [0.0372, 0.0372, 0.0372, 0.0372, 0.0372, 0.0372, 0.0372, 0.0372,\n",
       "           0.0372, 0.0372, 0.0372, 0.0372, 0.0372, 0.0372, 0.0372, 0.0372,\n",
       "           0.0372, 0.0372, 0.0372, 0.0372, 0.0372, 0.0372, 0.0372, 0.0372,\n",
       "           0.0372, 0.0372, 0.0372, 0.0372, 0.0372, 0.0372, 0.0372, 0.0372,\n",
       "           0.0372, 0.0372, 0.0372, 0.0372]]], grad_fn=<UnsafeViewBackward0>))"
      ]
     },
     "execution_count": 56,
     "metadata": {},
     "output_type": "execute_result"
    }
   ],
   "source": [
    "logits = lm_head(x)\n",
    "\n",
    "logits.shape, logits"
   ]
  },
  {
   "cell_type": "markdown",
   "id": "90c613e5-00a2-4b94-b967-d978798e8155",
   "metadata": {},
   "source": [
    "## Loss calculation\n",
    "Now we have to see how good our ~shit~ prediction is.  Since we haven't done training, and we saw that regardless of example we had the same exact logit values, we can expect it's bad. That said, we need to know how bad. For this example we'll use cross entropy, also known as the negative log likelihood of the softmax.  Our loss calculates\n",
    "\n",
    "$$\n",
    "\\ell_i=-\\log\\big(\\mathrm{softmax}(z_i)\\_{y_i}\\big)\n",
    "= -z_{i,y_i}+\\log\\!\\sum_{c=1}^C e^{z_{i,c}},\n",
    "$$\n",
    "\n",
    "\n",
    "To calculate loss we'll pass in the calculated `logits` and our next tokens stored in `y`. The cross entropy function does not respect batches so we'll flatten the `B` dimension for both `logits` and `y`"
   ]
  },
  {
   "cell_type": "code",
   "execution_count": 57,
   "id": "18b3260e-a069-4ac7-8c4a-85c9d05b437d",
   "metadata": {},
   "outputs": [
    {
     "data": {
      "text/plain": [
       "(torch.Size([16]),\n",
       " tensor([15, 32,  9,  5, 20, 30, 15, 11,  9,  6, 20,  5,  0, 13, 21,  0]))"
      ]
     },
     "execution_count": 57,
     "metadata": {},
     "output_type": "execute_result"
    }
   ],
   "source": [
    "y_flat = y.view(-1)\n",
    "y_flat.shape, y_flat"
   ]
  },
  {
   "cell_type": "code",
   "execution_count": 58,
   "id": "7defc97f-68af-46dd-b4bc-617c6e1a6be1",
   "metadata": {},
   "outputs": [
    {
     "data": {
      "text/plain": [
       "(torch.Size([16, 36]),\n",
       " tensor([[0.0372, 0.0372, 0.0372, 0.0372, 0.0372, 0.0372, 0.0372, 0.0372, 0.0372,\n",
       "          0.0372, 0.0372, 0.0372, 0.0372, 0.0372, 0.0372, 0.0372, 0.0372, 0.0372,\n",
       "          0.0372, 0.0372, 0.0372, 0.0372, 0.0372, 0.0372, 0.0372, 0.0372, 0.0372,\n",
       "          0.0372, 0.0372, 0.0372, 0.0372, 0.0372, 0.0372, 0.0372, 0.0372, 0.0372],\n",
       "         [0.0370, 0.0370, 0.0370, 0.0370, 0.0370, 0.0370, 0.0370, 0.0370, 0.0370,\n",
       "          0.0370, 0.0370, 0.0370, 0.0370, 0.0370, 0.0370, 0.0370, 0.0370, 0.0370,\n",
       "          0.0370, 0.0370, 0.0370, 0.0370, 0.0370, 0.0370, 0.0370, 0.0370, 0.0370,\n",
       "          0.0370, 0.0370, 0.0370, 0.0370, 0.0370, 0.0370, 0.0370, 0.0370, 0.0370],\n",
       "         [0.0371, 0.0371, 0.0371, 0.0371, 0.0371, 0.0371, 0.0371, 0.0371, 0.0371,\n",
       "          0.0371, 0.0371, 0.0371, 0.0371, 0.0371, 0.0371, 0.0371, 0.0371, 0.0371,\n",
       "          0.0371, 0.0371, 0.0371, 0.0371, 0.0371, 0.0371, 0.0371, 0.0371, 0.0371,\n",
       "          0.0371, 0.0371, 0.0371, 0.0371, 0.0371, 0.0371, 0.0371, 0.0371, 0.0371],\n",
       "         [0.0371, 0.0371, 0.0371, 0.0371, 0.0371, 0.0371, 0.0371, 0.0371, 0.0371,\n",
       "          0.0371, 0.0371, 0.0371, 0.0371, 0.0371, 0.0371, 0.0371, 0.0371, 0.0371,\n",
       "          0.0371, 0.0371, 0.0371, 0.0371, 0.0371, 0.0371, 0.0371, 0.0371, 0.0371,\n",
       "          0.0371, 0.0371, 0.0371, 0.0371, 0.0371, 0.0371, 0.0371, 0.0371, 0.0371],\n",
       "         [0.0372, 0.0372, 0.0372, 0.0372, 0.0372, 0.0372, 0.0372, 0.0372, 0.0372,\n",
       "          0.0372, 0.0372, 0.0372, 0.0372, 0.0372, 0.0372, 0.0372, 0.0372, 0.0372,\n",
       "          0.0372, 0.0372, 0.0372, 0.0372, 0.0372, 0.0372, 0.0372, 0.0372, 0.0372,\n",
       "          0.0372, 0.0372, 0.0372, 0.0372, 0.0372, 0.0372, 0.0372, 0.0372, 0.0372],\n",
       "         [0.0371, 0.0371, 0.0371, 0.0371, 0.0371, 0.0371, 0.0371, 0.0371, 0.0371,\n",
       "          0.0371, 0.0371, 0.0371, 0.0371, 0.0371, 0.0371, 0.0371, 0.0371, 0.0371,\n",
       "          0.0371, 0.0371, 0.0371, 0.0371, 0.0371, 0.0371, 0.0371, 0.0371, 0.0371,\n",
       "          0.0371, 0.0371, 0.0371, 0.0371, 0.0371, 0.0371, 0.0371, 0.0371, 0.0371],\n",
       "         [0.0371, 0.0371, 0.0371, 0.0371, 0.0371, 0.0371, 0.0371, 0.0371, 0.0371,\n",
       "          0.0371, 0.0371, 0.0371, 0.0371, 0.0371, 0.0371, 0.0371, 0.0371, 0.0371,\n",
       "          0.0371, 0.0371, 0.0371, 0.0371, 0.0371, 0.0371, 0.0371, 0.0371, 0.0371,\n",
       "          0.0371, 0.0371, 0.0371, 0.0371, 0.0371, 0.0371, 0.0371, 0.0371, 0.0371],\n",
       "         [0.0371, 0.0371, 0.0371, 0.0371, 0.0371, 0.0371, 0.0371, 0.0371, 0.0371,\n",
       "          0.0371, 0.0371, 0.0371, 0.0371, 0.0371, 0.0371, 0.0371, 0.0371, 0.0371,\n",
       "          0.0371, 0.0371, 0.0371, 0.0371, 0.0371, 0.0371, 0.0371, 0.0371, 0.0371,\n",
       "          0.0371, 0.0371, 0.0371, 0.0371, 0.0371, 0.0371, 0.0371, 0.0371, 0.0371],\n",
       "         [0.0372, 0.0372, 0.0372, 0.0372, 0.0372, 0.0372, 0.0372, 0.0372, 0.0372,\n",
       "          0.0372, 0.0372, 0.0372, 0.0372, 0.0372, 0.0372, 0.0372, 0.0372, 0.0372,\n",
       "          0.0372, 0.0372, 0.0372, 0.0372, 0.0372, 0.0372, 0.0372, 0.0372, 0.0372,\n",
       "          0.0372, 0.0372, 0.0372, 0.0372, 0.0372, 0.0372, 0.0372, 0.0372, 0.0372],\n",
       "         [0.0372, 0.0372, 0.0372, 0.0372, 0.0372, 0.0372, 0.0372, 0.0372, 0.0372,\n",
       "          0.0372, 0.0372, 0.0372, 0.0372, 0.0372, 0.0372, 0.0372, 0.0372, 0.0372,\n",
       "          0.0372, 0.0372, 0.0372, 0.0372, 0.0372, 0.0372, 0.0372, 0.0372, 0.0372,\n",
       "          0.0372, 0.0372, 0.0372, 0.0372, 0.0372, 0.0372, 0.0372, 0.0372, 0.0372],\n",
       "         [0.0371, 0.0371, 0.0371, 0.0371, 0.0371, 0.0371, 0.0371, 0.0371, 0.0371,\n",
       "          0.0371, 0.0371, 0.0371, 0.0371, 0.0371, 0.0371, 0.0371, 0.0371, 0.0371,\n",
       "          0.0371, 0.0371, 0.0371, 0.0371, 0.0371, 0.0371, 0.0371, 0.0371, 0.0371,\n",
       "          0.0371, 0.0371, 0.0371, 0.0371, 0.0371, 0.0371, 0.0371, 0.0371, 0.0371],\n",
       "         [0.0372, 0.0372, 0.0372, 0.0372, 0.0372, 0.0372, 0.0372, 0.0372, 0.0372,\n",
       "          0.0372, 0.0372, 0.0372, 0.0372, 0.0372, 0.0372, 0.0372, 0.0372, 0.0372,\n",
       "          0.0372, 0.0372, 0.0372, 0.0372, 0.0372, 0.0372, 0.0372, 0.0372, 0.0372,\n",
       "          0.0372, 0.0372, 0.0372, 0.0372, 0.0372, 0.0372, 0.0372, 0.0372, 0.0372],\n",
       "         [0.0372, 0.0372, 0.0372, 0.0372, 0.0372, 0.0372, 0.0372, 0.0372, 0.0372,\n",
       "          0.0372, 0.0372, 0.0372, 0.0372, 0.0372, 0.0372, 0.0372, 0.0372, 0.0372,\n",
       "          0.0372, 0.0372, 0.0372, 0.0372, 0.0372, 0.0372, 0.0372, 0.0372, 0.0372,\n",
       "          0.0372, 0.0372, 0.0372, 0.0372, 0.0372, 0.0372, 0.0372, 0.0372, 0.0372],\n",
       "         [0.0372, 0.0372, 0.0372, 0.0372, 0.0372, 0.0372, 0.0372, 0.0372, 0.0372,\n",
       "          0.0372, 0.0372, 0.0372, 0.0372, 0.0372, 0.0372, 0.0372, 0.0372, 0.0372,\n",
       "          0.0372, 0.0372, 0.0372, 0.0372, 0.0372, 0.0372, 0.0372, 0.0372, 0.0372,\n",
       "          0.0372, 0.0372, 0.0372, 0.0372, 0.0372, 0.0372, 0.0372, 0.0372, 0.0372],\n",
       "         [0.0372, 0.0372, 0.0372, 0.0372, 0.0372, 0.0372, 0.0372, 0.0372, 0.0372,\n",
       "          0.0372, 0.0372, 0.0372, 0.0372, 0.0372, 0.0372, 0.0372, 0.0372, 0.0372,\n",
       "          0.0372, 0.0372, 0.0372, 0.0372, 0.0372, 0.0372, 0.0372, 0.0372, 0.0372,\n",
       "          0.0372, 0.0372, 0.0372, 0.0372, 0.0372, 0.0372, 0.0372, 0.0372, 0.0372],\n",
       "         [0.0372, 0.0372, 0.0372, 0.0372, 0.0372, 0.0372, 0.0372, 0.0372, 0.0372,\n",
       "          0.0372, 0.0372, 0.0372, 0.0372, 0.0372, 0.0372, 0.0372, 0.0372, 0.0372,\n",
       "          0.0372, 0.0372, 0.0372, 0.0372, 0.0372, 0.0372, 0.0372, 0.0372, 0.0372,\n",
       "          0.0372, 0.0372, 0.0372, 0.0372, 0.0372, 0.0372, 0.0372, 0.0372, 0.0372]],\n",
       "        grad_fn=<ViewBackward0>))"
      ]
     },
     "execution_count": 58,
     "metadata": {},
     "output_type": "execute_result"
    }
   ],
   "source": [
    "logits_flat = logits.view(-1, logits.size(-1))\n",
    "logits_flat.shape, logits_flat"
   ]
  },
  {
   "cell_type": "code",
   "execution_count": 59,
   "id": "f8f4a08e-f5c3-440e-aa58-612700d882a9",
   "metadata": {},
   "outputs": [
    {
     "data": {
      "text/plain": [
       "(torch.Size([]), tensor(3.5835, grad_fn=<NllLossBackward0>))"
      ]
     },
     "execution_count": 59,
     "metadata": {},
     "output_type": "execute_result"
    }
   ],
   "source": [
    "loss = F.cross_entropy(logits_flat, y_flat)\n",
    "loss.shape, loss"
   ]
  },
  {
   "cell_type": "markdown",
   "id": "1c71deeb-6f5d-45a2-ac5f-07357cf2d3b1",
   "metadata": {},
   "source": [
    "## Back Propogation\n",
    "\n",
    "We now know just how well the current model, with its weights and biases, does predicting the next token given the input context. We now need to know how to change the different weigths and biases to improve the formula.  We could do this by guessing through making minor changes and seeing what improves, or we can think through this more critically.\n",
    "\n",
    "If you review the chain of layers above, you can see that it's a series of formulas.  We can think of this as $f(g(x))$, except with many many more layers and complexities.  Since this is a formula, we can dig into our math toolbox and find a better way to determine what parts need to update.  Recall that in our calculus we learned that differentiation tells us the rate of change in a graph.  So if we treat the loss function $\\mathcal{L}$ as $\\mathcal{L}(f(g(x)))$ taking the partial differential \n",
    "\n",
    "$\\delta=\\partial \\mathcal{L}/\\partial h$\n",
    "\n",
    "at each layer will give us the impact of each weight/bias on our final out (alebit the inverse since our loss function is the negative log likelihood). \n",
    "\n",
    "Lucky for us, each layer of our model already has a placeholder for the partial differential called the **Gradient**. We'll use this field to store it.  We'll start by first zeroing out the gradients. We do this because of the nature of handling partial differentials for multiple dependencies. Recall that in mulitple places we had a formula structure of \n",
    "\n",
    "$a+b=c ; a+c= d$\n",
    "\n",
    "In this case $a$ has 2 dependencies and determining the partial derivative of $\\partial d / \\partial a$ requires understanding both the path from $d$ and $c$.  To determine the true impact of a we would sum both partial derivatives together.  Because of this property, the tool we use, the built in `.backwards()` automatically sums gradients, `+=`, so if we do not set the gradient to `0` we then end up with eroneous gradients. \n",
    "\n",
    "Finally, we start `.backwards` from the `loss`, not `logits` as our goal is to minimize loss, we need to ensure we are looking at the calcualations that impact loss which requires the whole forward pass to be able to generated the prediction `logits_flat`.  If we think of it as $\\mathcal{L}(f(x))$ where $f(x)$ is the forward pass to generate logits, then a simple chain rule is applied:\n",
    "\n",
    "${\\partial}/{\\partial x} =  \\mathcal{L}'(f(x)) f'(x)$\n",
    "\n",
    "Lets start by zeroing the gradients and leaning on pytorch to calculate the gradients for us. We'll also validate the gradients were `none`."
   ]
  },
  {
   "cell_type": "code",
   "execution_count": 60,
   "id": "5bd1ff71-31ae-47f8-b345-df28a0e24da3",
   "metadata": {},
   "outputs": [
    {
     "data": {
      "text/plain": [
       "(None, None)"
      ]
     },
     "execution_count": 60,
     "metadata": {},
     "output_type": "execute_result"
    }
   ],
   "source": [
    "lm_head.zero_grad()\n",
    "ln_f.zero_grad()\n",
    "mlp_proj.zero_grad()\n",
    "mlp_fc.zero_grad()\n",
    "ln_2.zero_grad()\n",
    "c_proj.zero_grad()\n",
    "c_attn.zero_grad()\n",
    "ln_1.zero_grad()\n",
    "wpe.zero_grad()\n",
    "wte.zero_grad()\n",
    "\n",
    "# validate gradients\n",
    "lm_head.weight.grad, ln_f.weight.grad"
   ]
  },
  {
   "cell_type": "code",
   "execution_count": 61,
   "id": "b83c2e41-3f89-4961-8876-caf399b9db74",
   "metadata": {},
   "outputs": [],
   "source": [
    "loss.backward()"
   ]
  },
  {
   "cell_type": "markdown",
   "id": "6275a322-b7e4-4e56-977d-9ef7a48f9f30",
   "metadata": {},
   "source": [
    "**Auto-Diff** - Now let's see the magic of the gradients populate.  This magic is called auto-differentiation, or auto-diff for short. This allows us to not have to write write many layers of nasty code to do the differentiation for us, but, if you're a sadist, you can surely find people who have written out that code (it's not too bad since you just do one layer at a time). "
   ]
  },
  {
   "cell_type": "code",
   "execution_count": 62,
   "id": "320f3634-84e3-46f0-b7d1-91125a4b328c",
   "metadata": {},
   "outputs": [
    {
     "data": {
      "text/plain": [
       "(tensor([[ 0.0729,  0.1188, -0.0947, -0.0969],\n",
       "         [-0.0208, -0.0340,  0.0271,  0.0276],\n",
       "         [-0.0208, -0.0340,  0.0271,  0.0276],\n",
       "         [-0.0208, -0.0340,  0.0271,  0.0276],\n",
       "         [-0.0208, -0.0340,  0.0271,  0.0276],\n",
       "         [ 0.0728,  0.1188, -0.0948, -0.0968],\n",
       "         [ 0.0260,  0.0424, -0.0338, -0.0346],\n",
       "         [-0.0208, -0.0340,  0.0271,  0.0276],\n",
       "         [-0.0208, -0.0340,  0.0271,  0.0276],\n",
       "         [ 0.0728,  0.1188, -0.0948, -0.0968],\n",
       "         [-0.0208, -0.0340,  0.0271,  0.0276],\n",
       "         [ 0.0259,  0.0425, -0.0339, -0.0345],\n",
       "         [-0.0208, -0.0340,  0.0271,  0.0276],\n",
       "         [ 0.0260,  0.0424, -0.0338, -0.0346],\n",
       "         [-0.0208, -0.0340,  0.0271,  0.0276],\n",
       "         [ 0.0726,  0.1190, -0.0949, -0.0966],\n",
       "         [-0.0208, -0.0340,  0.0271,  0.0276],\n",
       "         [-0.0208, -0.0340,  0.0271,  0.0276],\n",
       "         [-0.0208, -0.0340,  0.0271,  0.0276],\n",
       "         [-0.0208, -0.0340,  0.0271,  0.0276],\n",
       "         [ 0.0726,  0.1190, -0.0950, -0.0966],\n",
       "         [ 0.0260,  0.0424, -0.0338, -0.0346],\n",
       "         [-0.0208, -0.0340,  0.0271,  0.0276],\n",
       "         [-0.0208, -0.0340,  0.0271,  0.0276],\n",
       "         [-0.0208, -0.0340,  0.0271,  0.0276],\n",
       "         [-0.0208, -0.0340,  0.0271,  0.0276],\n",
       "         [-0.0208, -0.0340,  0.0271,  0.0276],\n",
       "         [-0.0208, -0.0340,  0.0271,  0.0276],\n",
       "         [-0.0208, -0.0340,  0.0271,  0.0276],\n",
       "         [-0.0208, -0.0340,  0.0271,  0.0276],\n",
       "         [ 0.0259,  0.0425, -0.0339, -0.0345],\n",
       "         [-0.0208, -0.0340,  0.0271,  0.0276],\n",
       "         [ 0.0257,  0.0427, -0.0341, -0.0343],\n",
       "         [-0.0208, -0.0340,  0.0271,  0.0276],\n",
       "         [-0.0208, -0.0340,  0.0271,  0.0276],\n",
       "         [-0.0208, -0.0340,  0.0271,  0.0276]]),\n",
       " tensor([-0.0323, -0.0527,  0.0420,  0.0430]))"
      ]
     },
     "execution_count": 62,
     "metadata": {},
     "output_type": "execute_result"
    }
   ],
   "source": [
    "lm_head.weight.grad, ln_f.weight.grad"
   ]
  },
  {
   "cell_type": "markdown",
   "id": "aa7cc61a-4c4b-41d7-8989-e96b0263e386",
   "metadata": {},
   "source": [
    "## Learning\n",
    "The process of learning now requires us to update our weights based on this gradient. To really feel the \"back propogation\" we'll start with the last layer and work backwards, though, since we have all of the gradients calculated already, the order does not matter. Recall that our loss function is the negative log likelihood ratio so our gradient signs are flipped.  If a parameter is important, the gradient will be more negaitve, and vice versa. The gradients are a ratio of importance of each parameter and we need to know how much of that gradient to apply to our weights. This \"how much\" is referred to as the *learning rate*. In modern training learning rate schedulers and optimzers are used to vary the rate and application by layer and by training round.  We'll keep it simple and use an astronomically high learning rate of `5.000` which applies the gradient directly to the weights via a `-=`. Gradient for the weights and the biases is different as the partial differential with respect to each is different. We need to remember in the layers with bias to apply it to both.\n",
    "\n",
    "*Note that since our vocab is very small, our context is small, and our batch is small, relatively our model is very deep so we will see a lot of exceptionally small gradients*"
   ]
  },
  {
   "cell_type": "code",
   "execution_count": 63,
   "id": "a1f0a2de-fc67-43ed-9196-40a513eed032",
   "metadata": {},
   "outputs": [],
   "source": [
    "## Huge learning rate to emphasize\n",
    "learning_rate = 5.000 "
   ]
  },
  {
   "cell_type": "markdown",
   "id": "ccaa3ed8-fb43-4fa3-be4b-cd9b1a70dcf4",
   "metadata": {},
   "source": [
    "### Output Layer\n",
    "Let's start with our output layer.  If you recall we did *weight tying* of our head `lm_head` to our token projection `wte`.  Because of this applying loss to the `lm_head` will automatically apply it to `wte`. Since we're doing this manually and not through an optimizer we need to be careful not to apply it twice. Since we're starting with the last layer first, the head, we'll see that the gradients are equal and that updating just the `lm_head` weights updates `wte` weights also."
   ]
  },
  {
   "cell_type": "code",
   "execution_count": 64,
   "id": "ac3ee682-bcc2-4c06-84b1-9d6ca4c368b6",
   "metadata": {},
   "outputs": [
    {
     "data": {
      "text/plain": [
       "(True,\n",
       " tensor([[ 0.0729,  0.1188, -0.0947, -0.0969],\n",
       "         [-0.0208, -0.0340,  0.0271,  0.0276],\n",
       "         [-0.0208, -0.0340,  0.0271,  0.0276],\n",
       "         [-0.0208, -0.0340,  0.0271,  0.0276],\n",
       "         [-0.0208, -0.0340,  0.0271,  0.0276],\n",
       "         [ 0.0728,  0.1188, -0.0948, -0.0968],\n",
       "         [ 0.0260,  0.0424, -0.0338, -0.0346],\n",
       "         [-0.0208, -0.0340,  0.0271,  0.0276],\n",
       "         [-0.0208, -0.0340,  0.0271,  0.0276],\n",
       "         [ 0.0728,  0.1188, -0.0948, -0.0968],\n",
       "         [-0.0208, -0.0340,  0.0271,  0.0276],\n",
       "         [ 0.0259,  0.0425, -0.0339, -0.0345],\n",
       "         [-0.0208, -0.0340,  0.0271,  0.0276],\n",
       "         [ 0.0260,  0.0424, -0.0338, -0.0346],\n",
       "         [-0.0208, -0.0340,  0.0271,  0.0276],\n",
       "         [ 0.0726,  0.1190, -0.0949, -0.0966],\n",
       "         [-0.0208, -0.0340,  0.0271,  0.0276],\n",
       "         [-0.0208, -0.0340,  0.0271,  0.0276],\n",
       "         [-0.0208, -0.0340,  0.0271,  0.0276],\n",
       "         [-0.0208, -0.0340,  0.0271,  0.0276],\n",
       "         [ 0.0726,  0.1190, -0.0950, -0.0966],\n",
       "         [ 0.0260,  0.0424, -0.0338, -0.0346],\n",
       "         [-0.0208, -0.0340,  0.0271,  0.0276],\n",
       "         [-0.0208, -0.0340,  0.0271,  0.0276],\n",
       "         [-0.0208, -0.0340,  0.0271,  0.0276],\n",
       "         [-0.0208, -0.0340,  0.0271,  0.0276],\n",
       "         [-0.0208, -0.0340,  0.0271,  0.0276],\n",
       "         [-0.0208, -0.0340,  0.0271,  0.0276],\n",
       "         [-0.0208, -0.0340,  0.0271,  0.0276],\n",
       "         [-0.0208, -0.0340,  0.0271,  0.0276],\n",
       "         [ 0.0259,  0.0425, -0.0339, -0.0345],\n",
       "         [-0.0208, -0.0340,  0.0271,  0.0276],\n",
       "         [ 0.0257,  0.0427, -0.0341, -0.0343],\n",
       "         [-0.0208, -0.0340,  0.0271,  0.0276],\n",
       "         [-0.0208, -0.0340,  0.0271,  0.0276],\n",
       "         [-0.0208, -0.0340,  0.0271,  0.0276]]),\n",
       " tensor([[ 0.0729,  0.1188, -0.0947, -0.0969],\n",
       "         [-0.0208, -0.0340,  0.0271,  0.0276],\n",
       "         [-0.0208, -0.0340,  0.0271,  0.0276],\n",
       "         [-0.0208, -0.0340,  0.0271,  0.0276],\n",
       "         [-0.0208, -0.0340,  0.0271,  0.0276],\n",
       "         [ 0.0728,  0.1188, -0.0948, -0.0968],\n",
       "         [ 0.0260,  0.0424, -0.0338, -0.0346],\n",
       "         [-0.0208, -0.0340,  0.0271,  0.0276],\n",
       "         [-0.0208, -0.0340,  0.0271,  0.0276],\n",
       "         [ 0.0728,  0.1188, -0.0948, -0.0968],\n",
       "         [-0.0208, -0.0340,  0.0271,  0.0276],\n",
       "         [ 0.0259,  0.0425, -0.0339, -0.0345],\n",
       "         [-0.0208, -0.0340,  0.0271,  0.0276],\n",
       "         [ 0.0260,  0.0424, -0.0338, -0.0346],\n",
       "         [-0.0208, -0.0340,  0.0271,  0.0276],\n",
       "         [ 0.0726,  0.1190, -0.0949, -0.0966],\n",
       "         [-0.0208, -0.0340,  0.0271,  0.0276],\n",
       "         [-0.0208, -0.0340,  0.0271,  0.0276],\n",
       "         [-0.0208, -0.0340,  0.0271,  0.0276],\n",
       "         [-0.0208, -0.0340,  0.0271,  0.0276],\n",
       "         [ 0.0726,  0.1190, -0.0950, -0.0966],\n",
       "         [ 0.0260,  0.0424, -0.0338, -0.0346],\n",
       "         [-0.0208, -0.0340,  0.0271,  0.0276],\n",
       "         [-0.0208, -0.0340,  0.0271,  0.0276],\n",
       "         [-0.0208, -0.0340,  0.0271,  0.0276],\n",
       "         [-0.0208, -0.0340,  0.0271,  0.0276],\n",
       "         [-0.0208, -0.0340,  0.0271,  0.0276],\n",
       "         [-0.0208, -0.0340,  0.0271,  0.0276],\n",
       "         [-0.0208, -0.0340,  0.0271,  0.0276],\n",
       "         [-0.0208, -0.0340,  0.0271,  0.0276],\n",
       "         [ 0.0259,  0.0425, -0.0339, -0.0345],\n",
       "         [-0.0208, -0.0340,  0.0271,  0.0276],\n",
       "         [ 0.0257,  0.0427, -0.0341, -0.0343],\n",
       "         [-0.0208, -0.0340,  0.0271,  0.0276],\n",
       "         [-0.0208, -0.0340,  0.0271,  0.0276],\n",
       "         [-0.0208, -0.0340,  0.0271,  0.0276]]))"
      ]
     },
     "execution_count": 64,
     "metadata": {},
     "output_type": "execute_result"
    }
   ],
   "source": [
    "lm_head.weight.grad is wte.weight.grad, lm_head.weight.grad, wte.weight.grad"
   ]
  },
  {
   "cell_type": "code",
   "execution_count": 65,
   "id": "4a440926-e4ed-49b5-b395-b41f9644919b",
   "metadata": {
    "scrolled": true
   },
   "outputs": [
    {
     "data": {
      "text/plain": [
       "(True,\n",
       " Parameter containing:\n",
       " tensor([[-0.3543, -0.5738,  0.5037,  0.5244],\n",
       "         [ 0.1239,  0.1998, -0.0955, -0.0882],\n",
       "         [ 0.1339,  0.2098, -0.0855, -0.0782],\n",
       "         [ 0.1439,  0.2198, -0.0755, -0.0682],\n",
       "         [ 0.1539,  0.2298, -0.0655, -0.0582],\n",
       "         [-0.3040, -0.5240,  0.5539,  0.5741],\n",
       "         [-0.0602, -0.1320,  0.2591,  0.2731],\n",
       "         [ 0.1839,  0.2598, -0.0355, -0.0282],\n",
       "         [ 0.1939,  0.2698, -0.0255, -0.0182],\n",
       "         [-0.2639, -0.4841,  0.5940,  0.6140],\n",
       "         [ 0.2139,  0.2898, -0.0055,  0.0018],\n",
       "         [-0.0097, -0.0824,  0.3095,  0.3226],\n",
       "         [ 0.2339,  0.3098,  0.0145,  0.0218],\n",
       "         [ 0.0098, -0.0620,  0.3291,  0.3431],\n",
       "         [ 0.2539,  0.3298,  0.0345,  0.0418],\n",
       "         [-0.2030, -0.4248,  0.6546,  0.6732],\n",
       "         [ 0.2739,  0.3498,  0.0545,  0.0618],\n",
       "         [ 0.2839,  0.3598,  0.0645,  0.0718],\n",
       "         [ 0.2939,  0.3698,  0.0745,  0.0818],\n",
       "         [ 0.3039,  0.3798,  0.0845,  0.0918],\n",
       "         [-0.1528, -0.3750,  0.7048,  0.7230],\n",
       "         [ 0.0898,  0.0180,  0.4091,  0.4231],\n",
       "         [ 0.3339,  0.4098,  0.1145,  0.1218],\n",
       "         [ 0.3439,  0.4198,  0.1245,  0.1318],\n",
       "         [ 0.3539,  0.4298,  0.1345,  0.1418],\n",
       "         [ 0.3639,  0.4398,  0.1445,  0.1518],\n",
       "         [ 0.3739,  0.4498,  0.1545,  0.1618],\n",
       "         [ 0.3839,  0.4598,  0.1645,  0.1718],\n",
       "         [ 0.3939,  0.4698,  0.1745,  0.1818],\n",
       "         [ 0.4039,  0.4798,  0.1845,  0.1918],\n",
       "         [ 0.1803,  0.1076,  0.4995,  0.5126],\n",
       "         [ 0.4239,  0.4998,  0.2045,  0.2118],\n",
       "         [ 0.2015,  0.1267,  0.5203,  0.5315],\n",
       "         [ 0.4439,  0.5198,  0.2245,  0.2318],\n",
       "         [ 0.4539,  0.5298,  0.2345,  0.2418],\n",
       "         [ 0.4639,  0.5398,  0.2445,  0.2518]], requires_grad=True),\n",
       " Parameter containing:\n",
       " tensor([[-0.3543, -0.5738,  0.5037,  0.5244],\n",
       "         [ 0.1239,  0.1998, -0.0955, -0.0882],\n",
       "         [ 0.1339,  0.2098, -0.0855, -0.0782],\n",
       "         [ 0.1439,  0.2198, -0.0755, -0.0682],\n",
       "         [ 0.1539,  0.2298, -0.0655, -0.0582],\n",
       "         [-0.3040, -0.5240,  0.5539,  0.5741],\n",
       "         [-0.0602, -0.1320,  0.2591,  0.2731],\n",
       "         [ 0.1839,  0.2598, -0.0355, -0.0282],\n",
       "         [ 0.1939,  0.2698, -0.0255, -0.0182],\n",
       "         [-0.2639, -0.4841,  0.5940,  0.6140],\n",
       "         [ 0.2139,  0.2898, -0.0055,  0.0018],\n",
       "         [-0.0097, -0.0824,  0.3095,  0.3226],\n",
       "         [ 0.2339,  0.3098,  0.0145,  0.0218],\n",
       "         [ 0.0098, -0.0620,  0.3291,  0.3431],\n",
       "         [ 0.2539,  0.3298,  0.0345,  0.0418],\n",
       "         [-0.2030, -0.4248,  0.6546,  0.6732],\n",
       "         [ 0.2739,  0.3498,  0.0545,  0.0618],\n",
       "         [ 0.2839,  0.3598,  0.0645,  0.0718],\n",
       "         [ 0.2939,  0.3698,  0.0745,  0.0818],\n",
       "         [ 0.3039,  0.3798,  0.0845,  0.0918],\n",
       "         [-0.1528, -0.3750,  0.7048,  0.7230],\n",
       "         [ 0.0898,  0.0180,  0.4091,  0.4231],\n",
       "         [ 0.3339,  0.4098,  0.1145,  0.1218],\n",
       "         [ 0.3439,  0.4198,  0.1245,  0.1318],\n",
       "         [ 0.3539,  0.4298,  0.1345,  0.1418],\n",
       "         [ 0.3639,  0.4398,  0.1445,  0.1518],\n",
       "         [ 0.3739,  0.4498,  0.1545,  0.1618],\n",
       "         [ 0.3839,  0.4598,  0.1645,  0.1718],\n",
       "         [ 0.3939,  0.4698,  0.1745,  0.1818],\n",
       "         [ 0.4039,  0.4798,  0.1845,  0.1918],\n",
       "         [ 0.1803,  0.1076,  0.4995,  0.5126],\n",
       "         [ 0.4239,  0.4998,  0.2045,  0.2118],\n",
       "         [ 0.2015,  0.1267,  0.5203,  0.5315],\n",
       "         [ 0.4439,  0.5198,  0.2245,  0.2318],\n",
       "         [ 0.4539,  0.5298,  0.2345,  0.2418],\n",
       "         [ 0.4639,  0.5398,  0.2445,  0.2518]], requires_grad=True))"
      ]
     },
     "execution_count": 65,
     "metadata": {},
     "output_type": "execute_result"
    }
   ],
   "source": [
    "with torch.no_grad():\n",
    "    lm_head.weight -= learning_rate * lm_head.weight.grad\n",
    "lm_head.weight is wte.weight, lm_head.weight, wte.weight"
   ]
  },
  {
   "cell_type": "markdown",
   "id": "ba5e4cae-5b45-4e08-a267-f07e80d5f275",
   "metadata": {},
   "source": [
    "### Transformer - Final Layer Normalization\n",
    "Now let's move to the layer normalization.  In our forward pass we did not change the weights, but in training we still will as the normalization can impact the outputs.  Additionally layer normalization has bias so we have to remember to add it. "
   ]
  },
  {
   "cell_type": "code",
   "execution_count": 66,
   "id": "07245c28-6172-4cab-8304-4db806132373",
   "metadata": {},
   "outputs": [
    {
     "data": {
      "text/plain": [
       "(Parameter containing:\n",
       " tensor([1., 1., 1., 1.], requires_grad=True),\n",
       " Parameter containing:\n",
       " tensor([0., 0., 0., 0.], requires_grad=True))"
      ]
     },
     "execution_count": 66,
     "metadata": {},
     "output_type": "execute_result"
    }
   ],
   "source": [
    "ln_f.weight, ln_f.bias"
   ]
  },
  {
   "cell_type": "code",
   "execution_count": 67,
   "id": "24b44391-8904-4ffc-855b-7c37b5422aa9",
   "metadata": {},
   "outputs": [
    {
     "data": {
      "text/plain": [
       "(tensor([-0.0323, -0.0527,  0.0420,  0.0430]),\n",
       " tensor([0.0431, 0.0431, 0.0431, 0.0431]))"
      ]
     },
     "execution_count": 67,
     "metadata": {},
     "output_type": "execute_result"
    }
   ],
   "source": [
    "ln_f.weight.grad, ln_f.bias.grad"
   ]
  },
  {
   "cell_type": "code",
   "execution_count": 68,
   "id": "432f1496-607f-42b5-bb0f-6fa47a4e2354",
   "metadata": {},
   "outputs": [
    {
     "data": {
      "text/plain": [
       "(Parameter containing:\n",
       " tensor([1.1617, 1.2633, 0.7900, 0.7850], requires_grad=True),\n",
       " Parameter containing:\n",
       " tensor([-0.2156, -0.2156, -0.2156, -0.2156], requires_grad=True))"
      ]
     },
     "execution_count": 68,
     "metadata": {},
     "output_type": "execute_result"
    }
   ],
   "source": [
    "with torch.no_grad():\n",
    "    ln_f.weight -= learning_rate * ln_f.weight.grad\n",
    "    ln_f.bias   -= learning_rate * ln_f.bias.grad\n",
    "ln_f.weight, ln_f.bias"
   ]
  },
  {
   "cell_type": "markdown",
   "id": "fe3915ed-1681-4d32-9566-1e75cc396396",
   "metadata": {},
   "source": [
    "### Tranformer - Feed Froward Updates\n",
    "In feed forward we had 3 layers: the upward projection `mlp_fc`, the tanh layer `mlp_gelu`, and the downward projection `mlp_proj`.  The tanh layer normalizes each element using tanh so it has no trainable parameters, or weights, so there is no updates to be made, the gradient passes through it. But the other two layers have both weights and biases that we can update.  \n",
    "\n",
    "One thing you may notice is that the gradients are exceptionally small in some cases, leading to minimal updates"
   ]
  },
  {
   "cell_type": "code",
   "execution_count": 69,
   "id": "12d1458b-1da5-4268-a0a7-f5a1a5c5f6b5",
   "metadata": {},
   "outputs": [
    {
     "data": {
      "text/plain": [
       "(tensor([[-3.9856e-11, -2.0258e-10, -5.1203e-10, -1.5462e-09, -1.2731e-09,\n",
       "           1.8754e-10,  3.9080e-10, -3.6707e-10,  4.6237e-11,  3.1499e-10,\n",
       "          -1.3845e-09, -1.5585e-09,  2.1920e-10, -5.2195e-10, -1.1661e-09,\n",
       "           2.0054e-10],\n",
       "         [-1.7525e-10, -8.9119e-10, -2.2528e-09, -6.8032e-09, -5.6021e-09,\n",
       "           8.2466e-10,  1.7189e-09, -1.6169e-09,  2.0151e-10,  1.3839e-09,\n",
       "          -6.0975e-09, -6.8644e-09,  9.6024e-10, -2.3044e-09, -5.1422e-09,\n",
       "           8.7539e-10],\n",
       "         [ 2.7880e-10,  1.4178e-09,  3.5840e-09,  1.0823e-08,  8.9125e-09,\n",
       "          -1.3119e-09, -2.7345e-09,  2.5725e-09, -3.2041e-10, -2.2016e-09,\n",
       "           9.7011e-09,  1.0921e-08, -1.5273e-09,  3.6668e-09,  8.1819e-09,\n",
       "          -1.3920e-09],\n",
       "         [-1.5917e-11, -8.0996e-11, -2.0479e-10, -6.1848e-10, -5.0934e-10,\n",
       "           7.4903e-11,  1.5617e-10, -1.4722e-10,  1.8062e-11,  1.2555e-10,\n",
       "          -5.5506e-10, -6.2499e-10,  8.6733e-11, -2.1054e-10, -4.6896e-10,\n",
       "           7.8651e-11]]),\n",
       " tensor([-4.6566e-09, -2.0489e-08,  3.2596e-08, -1.8626e-09]),\n",
       " tensor([[-3.0348e-11, -1.0386e-11,  9.9812e-12,  3.0753e-11],\n",
       "         [-1.1614e-10, -3.9835e-11,  3.8154e-11,  1.1782e-10],\n",
       "         [-1.7217e-10, -5.9022e-11,  5.6574e-11,  1.7462e-10],\n",
       "         [-2.7764e-10, -9.5148e-11,  9.1245e-11,  2.8154e-10],\n",
       "         [-3.1091e-10, -1.0653e-10,  1.0219e-10,  3.1524e-10],\n",
       "         [-1.9057e-10, -6.5287e-11,  6.2644e-11,  1.9322e-10],\n",
       "         [-1.7193e-10, -5.8891e-11,  5.6518e-11,  1.7430e-10],\n",
       "         [-3.4306e-10, -1.1750e-10,  1.1278e-10,  3.4778e-10],\n",
       "         [-2.9976e-10, -1.0266e-10,  9.8552e-11,  3.0388e-10],\n",
       "         [-2.5654e-10, -8.7852e-11,  8.4342e-11,  2.6005e-10],\n",
       "         [-6.1321e-10, -2.0999e-10,  2.0161e-10,  6.2158e-10],\n",
       "         [-6.8484e-10, -2.3450e-10,  2.2517e-10,  6.9417e-10],\n",
       "         [-3.5843e-10, -1.2273e-10,  1.1785e-10,  3.6331e-10],\n",
       "         [-5.9782e-10, -2.0469e-10,  1.9657e-10,  6.0595e-10],\n",
       "         [-7.7241e-10, -2.6446e-10,  2.5398e-10,  7.8290e-10],\n",
       "         [-4.4070e-10, -1.5088e-10,  1.4491e-10,  4.4667e-10]]),\n",
       " tensor([2.2954e-11, 8.7878e-11, 1.3026e-10, 2.1004e-10, 2.3520e-10, 1.4417e-10,\n",
       "         1.3006e-10, 2.5951e-10, 2.2675e-10, 1.9405e-10, 4.6385e-10, 5.1802e-10,\n",
       "         2.7112e-10, 4.5220e-10, 5.8426e-10, 3.3334e-10]))"
      ]
     },
     "execution_count": 69,
     "metadata": {},
     "output_type": "execute_result"
    }
   ],
   "source": [
    "mlp_proj.weight.grad, mlp_proj.bias.grad, mlp_fc.weight.grad,mlp_fc.bias.grad"
   ]
  },
  {
   "cell_type": "code",
   "execution_count": 70,
   "id": "d43ddcad-1e49-4287-bf74-e3fd047dd43d",
   "metadata": {
    "scrolled": true
   },
   "outputs": [
    {
     "data": {
      "text/plain": [
       "(Parameter containing:\n",
       " tensor([[0.0010, 0.0020, 0.0030, 0.0040, 0.0050, 0.0060, 0.0070, 0.0080, 0.0090,\n",
       "          0.0100, 0.0110, 0.0120, 0.0130, 0.0140, 0.0150, 0.0160],\n",
       "         [0.0020, 0.0050, 0.0070, 0.0090, 0.0110, 0.0130, 0.0150, 0.0170, 0.0190,\n",
       "          0.0210, 0.0230, 0.0250, 0.0270, 0.0290, 0.0310, 0.0330],\n",
       "         [0.0030, 0.0090, 0.0120, 0.0150, 0.0180, 0.0210, 0.0240, 0.0270, 0.0300,\n",
       "          0.0330, 0.0360, 0.0390, 0.0420, 0.0450, 0.0480, 0.0510],\n",
       "         [0.0040, 0.0140, 0.0180, 0.0220, 0.0260, 0.0300, 0.0340, 0.0380, 0.0420,\n",
       "          0.0460, 0.0500, 0.0540, 0.0580, 0.0620, 0.0660, 0.0700]],\n",
       "        requires_grad=True),\n",
       " Parameter containing:\n",
       " tensor([-0.1021, -0.1888,  0.0041, -0.0343], requires_grad=True),\n",
       " Parameter containing:\n",
       " tensor([[0.0010, 0.0020, 0.0030, 0.0040],\n",
       "         [0.0020, 0.0050, 0.0070, 0.0090],\n",
       "         [0.0030, 0.0090, 0.0120, 0.0150],\n",
       "         [0.0040, 0.0140, 0.0180, 0.0220],\n",
       "         [0.0050, 0.0200, 0.0250, 0.0300],\n",
       "         [0.0060, 0.0270, 0.0330, 0.0390],\n",
       "         [0.0070, 0.0350, 0.0420, 0.0490],\n",
       "         [0.0080, 0.0440, 0.0520, 0.0600],\n",
       "         [0.0090, 0.0540, 0.0630, 0.0720],\n",
       "         [0.0100, 0.0650, 0.0750, 0.0850],\n",
       "         [0.0110, 0.0770, 0.0880, 0.0990],\n",
       "         [0.0120, 0.0900, 0.1020, 0.1140],\n",
       "         [0.0130, 0.1040, 0.1170, 0.1300],\n",
       "         [0.0140, 0.1190, 0.1330, 0.1470],\n",
       "         [0.0150, 0.1350, 0.1500, 0.1650],\n",
       "         [0.0160, 0.1520, 0.1680, 0.1840]], requires_grad=True),\n",
       " Parameter containing:\n",
       " tensor([ 0.0124,  0.0715,  0.1737,  0.4585,  0.3785, -0.1329, -0.2581,  0.0693,\n",
       "         -0.1075, -0.2578,  0.3218,  0.3471, -0.2628,  0.0124,  0.1806, -0.3219],\n",
       "        requires_grad=True))"
      ]
     },
     "execution_count": 70,
     "metadata": {},
     "output_type": "execute_result"
    }
   ],
   "source": [
    "with torch.no_grad():\n",
    "    mlp_proj.weight -= learning_rate * mlp_proj.weight.grad\n",
    "    mlp_proj.bias -= learning_rate * mlp_proj.bias.grad\n",
    "    mlp_fc.weight -= learning_rate * mlp_fc.weight.grad\n",
    "    mlp_fc.bias -= learning_rate * mlp_fc.bias.grad\n",
    "mlp_proj.weight, mlp_proj.bias, mlp_fc.weight,mlp_fc.bias"
   ]
  },
  {
   "cell_type": "markdown",
   "id": "67318475-fb26-43db-ad67-7ed276f58cf2",
   "metadata": {},
   "source": [
    "### Tranformer - Layer Norm 2\n",
    "Now on to the next layer normalization.  Similarly we have both weights and biases to update again.  We can see once again these are exceptionally small gradients. "
   ]
  },
  {
   "cell_type": "code",
   "execution_count": 71,
   "id": "5564e6d6-b7ef-4c03-8a4c-fdc0511fe86a",
   "metadata": {},
   "outputs": [
    {
     "data": {
      "text/plain": [
       "(tensor([-6.0429e-11, -1.5750e-10,  1.7109e-10,  5.8872e-10]),\n",
       " tensor([4.5710e-11, 3.4791e-10, 3.9362e-10, 4.3933e-10]))"
      ]
     },
     "execution_count": 71,
     "metadata": {},
     "output_type": "execute_result"
    }
   ],
   "source": [
    "ln_2.weight.grad, ln_2.bias.grad"
   ]
  },
  {
   "cell_type": "code",
   "execution_count": 72,
   "id": "155bb665-f3af-4573-883f-cd47712379ec",
   "metadata": {},
   "outputs": [
    {
     "data": {
      "text/plain": [
       "(Parameter containing:\n",
       " tensor([1., 1., 1., 1.], requires_grad=True),\n",
       " Parameter containing:\n",
       " tensor([-2.2855e-10, -1.7396e-09, -1.9681e-09, -2.1967e-09],\n",
       "        requires_grad=True))"
      ]
     },
     "execution_count": 72,
     "metadata": {},
     "output_type": "execute_result"
    }
   ],
   "source": [
    "with torch.no_grad():\n",
    "    ln_2.weight -= learning_rate * ln_2.weight.grad\n",
    "    ln_2.bias   -= learning_rate * ln_2.bias.grad\n",
    "ln_2.weight, ln_2.bias"
   ]
  },
  {
   "cell_type": "markdown",
   "id": "6ab1e67e-e883-4fcf-b5cf-dc0774435318",
   "metadata": {},
   "source": [
    "### Tranformer - Flash Attention\n",
    "Even though flash attention was excpetionally complicated with multiple attnetion heads and the query, key, and value, we only have 2 sets of weights, and biases, to update: `c_attn`, `c_proj`.  Back propogation aggregated the different impacts across on each.  \n",
    "\n",
    "Similar to what we've seen this far, these gradiens are very small but we can see large order of magnitudedifferences within the values starting to suggest how they impact the ouputs. "
   ]
  },
  {
   "cell_type": "code",
   "execution_count": 73,
   "id": "79182f08-1ad0-411d-8034-efa1546e3514",
   "metadata": {},
   "outputs": [
    {
     "data": {
      "text/plain": [
       "(tensor([[ 7.0205e-20,  2.3402e-20, -2.3402e-20, -7.0205e-20],\n",
       "         [ 9.3994e-20,  3.1331e-20, -3.1331e-20, -9.3994e-20],\n",
       "         [ 8.4749e-19,  2.8250e-19, -2.8250e-19, -8.4749e-19],\n",
       "         [ 8.5990e-19,  2.8663e-19, -2.8663e-19, -8.5990e-19],\n",
       "         [-4.1458e-21, -7.1440e-21, -1.9499e-21, -1.0261e-21],\n",
       "         [-1.0385e-20, -1.7117e-20, -4.4769e-21,  5.2227e-22],\n",
       "         [-9.0121e-20, -7.8549e-20, -7.3823e-20, -7.4460e-20],\n",
       "         [-1.0477e-19, -1.2377e-19, -1.0118e-19, -1.3217e-19],\n",
       "         [-9.8857e-11, -3.2952e-11,  3.2952e-11,  9.8857e-11],\n",
       "         [-3.2637e-10, -1.0879e-10,  1.0879e-10,  3.2637e-10],\n",
       "         [-3.0363e-10, -1.0121e-10,  1.0121e-10,  3.0363e-10],\n",
       "         [-3.6546e-10, -1.2182e-10,  1.2182e-10,  3.6546e-10]]),\n",
       " tensor([-5.2849e-20, -7.0756e-20, -6.3797e-19, -6.4731e-19,  2.1176e-21,\n",
       "          5.9292e-21, -2.7105e-20,  5.4210e-20,  7.4417e-11,  2.4569e-10,\n",
       "          2.2856e-10,  2.7511e-10]),\n",
       " tensor([[-1.3722e-09, -1.6286e-09, -2.1828e-09, -2.5241e-09],\n",
       "         [-9.3873e-10, -1.1141e-09, -2.8489e-09, -3.2943e-09],\n",
       "         [ 3.4874e-09,  4.1391e-09,  4.4299e-09,  5.1226e-09],\n",
       "         [-1.7199e-10, -2.0413e-10,  6.4663e-11,  7.4774e-11]]),\n",
       " tensor([-7.8992e-09, -1.6424e-08,  3.3710e-08, -3.7984e-09]))"
      ]
     },
     "execution_count": 73,
     "metadata": {},
     "output_type": "execute_result"
    }
   ],
   "source": [
    "c_attn.weight.grad,c_attn.bias.grad, c_proj.weight.grad, c_proj.bias.grad,"
   ]
  },
  {
   "cell_type": "code",
   "execution_count": 74,
   "id": "573983a0-2c3e-419a-b261-f00b988fc915",
   "metadata": {},
   "outputs": [
    {
     "data": {
      "text/plain": [
       "(Parameter containing:\n",
       " tensor([[0.0010, 0.0020, 0.0030, 0.0040],\n",
       "         [0.0020, 0.0050, 0.0070, 0.0090],\n",
       "         [0.0030, 0.0090, 0.0120, 0.0150],\n",
       "         [0.0040, 0.0140, 0.0180, 0.0220],\n",
       "         [0.0050, 0.0200, 0.0250, 0.0300],\n",
       "         [0.0060, 0.0270, 0.0330, 0.0390],\n",
       "         [0.0070, 0.0350, 0.0420, 0.0490],\n",
       "         [0.0080, 0.0440, 0.0520, 0.0600],\n",
       "         [0.0090, 0.0540, 0.0630, 0.0720],\n",
       "         [0.0100, 0.0650, 0.0750, 0.0850],\n",
       "         [0.0110, 0.0770, 0.0880, 0.0990],\n",
       "         [0.0120, 0.0900, 0.1020, 0.1140]], requires_grad=True),\n",
       " Parameter containing:\n",
       " tensor([ 2.6424e-19,  3.5378e-19,  3.1898e-18,  3.2365e-18, -1.0588e-20,\n",
       "         -2.9646e-20,  1.3553e-19, -2.7105e-19, -3.7209e-10, -1.2284e-09,\n",
       "         -1.1428e-09, -1.3756e-09], requires_grad=True),\n",
       " Parameter containing:\n",
       " tensor([[0.0010, 0.0020, 0.0030, 0.0040],\n",
       "         [0.0020, 0.0050, 0.0070, 0.0090],\n",
       "         [0.0030, 0.0090, 0.0120, 0.0150],\n",
       "         [0.0040, 0.0140, 0.0180, 0.0220]], requires_grad=True),\n",
       " Parameter containing:\n",
       " tensor([ 3.9496e-08,  8.2120e-08, -1.6855e-07,  1.8992e-08],\n",
       "        requires_grad=True))"
      ]
     },
     "execution_count": 74,
     "metadata": {},
     "output_type": "execute_result"
    }
   ],
   "source": [
    "with torch.no_grad():\n",
    "    c_attn.weight -= learning_rate * c_attn.weight.grad\n",
    "    c_attn.bias -= learning_rate * c_attn.bias.grad\n",
    "    c_proj.weight -= learning_rate * c_proj.weight.grad\n",
    "    c_proj.bias -= learning_rate * c_proj.bias.grad\n",
    "c_attn.weight,c_attn.bias, c_proj.weight, c_proj.bias,"
   ]
  },
  {
   "cell_type": "markdown",
   "id": "819257f1-2327-4688-9a3d-611ed915b679",
   "metadata": {},
   "source": [
    "### Tranformer - Layer Norm 1\n",
    "Now on to the first layer normalization in a transfomer.  Similarly to the other layer normalizations we have both weights and biases to update again.  We can see once again these are exceptionally small gradients. "
   ]
  },
  {
   "cell_type": "code",
   "execution_count": 75,
   "id": "50270466-6a75-423d-99bb-6ee57ed86e4e",
   "metadata": {},
   "outputs": [
    {
     "data": {
      "text/plain": [
       "(tensor([-1.1879e-11, -2.7608e-11,  3.1568e-11,  1.0658e-10]),\n",
       " tensor([8.9421e-12, 6.2348e-11, 7.1290e-11, 8.0232e-11]))"
      ]
     },
     "execution_count": 75,
     "metadata": {},
     "output_type": "execute_result"
    }
   ],
   "source": [
    "ln_1.weight.grad, ln_1.bias.grad"
   ]
  },
  {
   "cell_type": "code",
   "execution_count": 76,
   "id": "9f1a1bdf-67ad-49a1-b387-3337f1e42555",
   "metadata": {},
   "outputs": [
    {
     "data": {
      "text/plain": [
       "(Parameter containing:\n",
       " tensor([1., 1., 1., 1.], requires_grad=True),\n",
       " Parameter containing:\n",
       " tensor([-4.4711e-11, -3.1174e-10, -3.5645e-10, -4.0116e-10],\n",
       "        requires_grad=True))"
      ]
     },
     "execution_count": 76,
     "metadata": {},
     "output_type": "execute_result"
    }
   ],
   "source": [
    "with torch.no_grad():\n",
    "    ln_1.weight -= learning_rate * ln_1.weight.grad\n",
    "    ln_1.bias   -= learning_rate * ln_1.bias.grad\n",
    "ln_1.weight, ln_1.bias"
   ]
  },
  {
   "cell_type": "markdown",
   "id": "ce66d047-cbed-4f71-80e1-8d2c0d2559e2",
   "metadata": {},
   "source": [
    "### Input Layer \n",
    "Now on to the input layer.  Recall that this layer had 2 components: the positional embeddings `wpe` and the token embeddings `wte`. We used *weight tying* to tie our token project `wte` with our head `lm_head` which has already been updated so we do not need to touch it.  We do however still need to update our positional embeddings.   Remember that `wpe` as an embedding has only weights and no biases. We'll see that once again we have relatively small gradients but we can see that they do very a few orders of magnitude showing that even with our small vocab and context, the position are starting to show some impact. \n",
    "\n",
    "*Note that this is the final layer of update we need to make.  Tokenization and data loading is separate from the model and does not impact loss*"
   ]
  },
  {
   "cell_type": "code",
   "execution_count": 77,
   "id": "a85197cf-2fb8-42d6-8a6e-b184878050cb",
   "metadata": {
    "scrolled": true
   },
   "outputs": [
    {
     "data": {
      "text/plain": [
       "tensor([[-3.5448e-09, -9.9969e-09,  1.5474e-08, -1.0014e-09],\n",
       "        [ 1.2950e-08,  2.4799e-08,  6.6885e-10, -8.6156e-09],\n",
       "        [ 1.0261e-08, -1.3773e-08, -8.4085e-09,  7.4419e-10],\n",
       "        [ 3.8320e-09, -4.8075e-09, -8.7613e-09, -5.1644e-09],\n",
       "        [-1.1710e-08, -1.6316e-08, -7.2546e-10,  2.1300e-08],\n",
       "        [-3.6358e-08, -4.8124e-09,  3.9489e-08,  3.5438e-09],\n",
       "        [ 7.4116e-09, -4.2560e-10,  1.1486e-08, -1.5678e-08],\n",
       "        [ 8.6383e-09,  9.6856e-09, -1.5306e-08,  7.0787e-10]])"
      ]
     },
     "execution_count": 77,
     "metadata": {},
     "output_type": "execute_result"
    }
   ],
   "source": [
    "wpe.weight.grad"
   ]
  },
  {
   "cell_type": "code",
   "execution_count": 78,
   "id": "4de278b6-99aa-4690-86b8-4828664f80d6",
   "metadata": {},
   "outputs": [
    {
     "data": {
      "text/plain": [
       "Parameter containing:\n",
       "tensor([[0.0100, 0.0200, 0.0300, 0.0400],\n",
       "        [0.0200, 0.0300, 0.0400, 0.0500],\n",
       "        [0.0300, 0.0400, 0.0500, 0.0600],\n",
       "        [0.0400, 0.0500, 0.0600, 0.0700],\n",
       "        [0.0500, 0.0600, 0.0700, 0.0800],\n",
       "        [0.0600, 0.0700, 0.0800, 0.0900],\n",
       "        [0.0700, 0.0800, 0.0900, 0.1000],\n",
       "        [0.0800, 0.0900, 0.1000, 0.1100]], requires_grad=True)"
      ]
     },
     "execution_count": 78,
     "metadata": {},
     "output_type": "execute_result"
    }
   ],
   "source": [
    "with torch.no_grad():\n",
    "    wpe.weight -= learning_rate * wpe.weight.grad\n",
    "wpe.weight"
   ]
  },
  {
   "cell_type": "markdown",
   "id": "3e82e17c-b038-4975-8c97-914e5b15a5cf",
   "metadata": {},
   "source": [
    "## Forward Pass with Updated Weights"
   ]
  },
  {
   "cell_type": "markdown",
   "id": "a5a16c16-3b97-4457-9c18-df6c0b8b10ee",
   "metadata": {},
   "source": [
    "Now that we have the updated weights for each layer, let's do another forward pass and compare the loss. Since each layer was previously explained we will instead focus on just showing the outputs of the different layers and the final loss. If you want, you can check the previous outputs in the cached cell outputs above and compare them to see how the weight changes impacted the values at each layer. \n",
    "\n",
    "One key sign that our weights were updated is that you'll see quickly that the values at each layer are no longer repeated.  "
   ]
  },
  {
   "cell_type": "markdown",
   "id": "92ad4b84-b10a-4888-b8ce-3eb3affb6b26",
   "metadata": {},
   "source": [
    "### Data Re-loading\n",
    "Repulling to a new `x_2`. We'll keep `y` to emphasize the same examples are being used. "
   ]
  },
  {
   "cell_type": "code",
   "execution_count": 79,
   "id": "ae802f01-b89b-49cf-b833-924287d34c0a",
   "metadata": {},
   "outputs": [
    {
     "data": {
      "text/plain": [
       "(tensor([[35, 15, 32,  9,  5, 20, 30, 15],\n",
       "         [11,  9,  6, 20,  5,  0, 13, 21]]),\n",
       " tensor([[15, 32,  9,  5, 20, 30, 15, 11],\n",
       "         [ 9,  6, 20,  5,  0, 13, 21,  0]]))"
      ]
     },
     "execution_count": 79,
     "metadata": {},
     "output_type": "execute_result"
    }
   ],
   "source": [
    "x_2 = tok_for_training[:-1].view(B, T)\n",
    "x_2, y"
   ]
  },
  {
   "cell_type": "markdown",
   "id": "adb9a710-987c-4be9-9d4d-7a740f56760b",
   "metadata": {},
   "source": [
    "### Input Layer\n",
    "Note that in `wte` you can already see the impact of updated weights with the negative values. This was not originally present. "
   ]
  },
  {
   "cell_type": "code",
   "execution_count": 80,
   "id": "6fe50b1e-a64a-4b2c-ba4e-f6103c2ffd35",
   "metadata": {},
   "outputs": [
    {
     "name": "stdout",
     "output_type": "stream",
     "text": [
      "torch.Size([8, 4]) tensor([[0.0100, 0.0200, 0.0300, 0.0400],\n",
      "        [0.0200, 0.0300, 0.0400, 0.0500],\n",
      "        [0.0300, 0.0400, 0.0500, 0.0600],\n",
      "        [0.0400, 0.0500, 0.0600, 0.0700],\n",
      "        [0.0500, 0.0600, 0.0700, 0.0800],\n",
      "        [0.0600, 0.0700, 0.0800, 0.0900],\n",
      "        [0.0700, 0.0800, 0.0900, 0.1000],\n",
      "        [0.0800, 0.0900, 0.1000, 0.1100]], grad_fn=<EmbeddingBackward0>)\n"
     ]
    }
   ],
   "source": [
    "pos = torch.arange(0, T, dtype=torch.long)\n",
    "pos_emb = wpe(pos)\n",
    "print(pos_emb.shape, pos_emb)"
   ]
  },
  {
   "cell_type": "code",
   "execution_count": 81,
   "id": "428da2cc-8bea-493f-af51-9212ed4b5204",
   "metadata": {},
   "outputs": [
    {
     "name": "stdout",
     "output_type": "stream",
     "text": [
      "torch.Size([2, 8, 4]) tensor([[[ 0.4639,  0.5398,  0.2445,  0.2518],\n",
      "         [-0.2030, -0.4248,  0.6546,  0.6732],\n",
      "         [ 0.2015,  0.1267,  0.5203,  0.5315],\n",
      "         [-0.2639, -0.4841,  0.5940,  0.6140],\n",
      "         [-0.3040, -0.5240,  0.5539,  0.5741],\n",
      "         [-0.1528, -0.3750,  0.7048,  0.7230],\n",
      "         [ 0.1803,  0.1076,  0.4995,  0.5126],\n",
      "         [-0.2030, -0.4248,  0.6546,  0.6732]],\n",
      "\n",
      "        [[-0.0097, -0.0824,  0.3095,  0.3226],\n",
      "         [-0.2639, -0.4841,  0.5940,  0.6140],\n",
      "         [-0.0602, -0.1320,  0.2591,  0.2731],\n",
      "         [-0.1528, -0.3750,  0.7048,  0.7230],\n",
      "         [-0.3040, -0.5240,  0.5539,  0.5741],\n",
      "         [-0.3543, -0.5738,  0.5037,  0.5244],\n",
      "         [ 0.0098, -0.0620,  0.3291,  0.3431],\n",
      "         [ 0.0898,  0.0180,  0.4091,  0.4231]]], grad_fn=<EmbeddingBackward0>)\n"
     ]
    }
   ],
   "source": [
    "tok_emb = wte(x_2)\n",
    "print(tok_emb.shape, tok_emb)"
   ]
  },
  {
   "cell_type": "code",
   "execution_count": 82,
   "id": "f6269b91-414c-4180-979a-74b3425eb16f",
   "metadata": {},
   "outputs": [
    {
     "name": "stdout",
     "output_type": "stream",
     "text": [
      "tensor([[[ 4.7386e-01,  5.5984e-01,  2.7449e-01,  2.9181e-01],\n",
      "         [-1.8302e-01, -3.9482e-01,  6.9463e-01,  7.2320e-01],\n",
      "         [ 2.3146e-01,  1.6669e-01,  5.7030e-01,  5.9154e-01],\n",
      "         [-2.2393e-01, -4.3411e-01,  6.5399e-01,  6.8404e-01],\n",
      "         [-2.5402e-01, -4.6403e-01,  6.2392e-01,  6.5414e-01],\n",
      "         [-9.2802e-02, -3.0499e-01,  7.8479e-01,  8.1300e-01],\n",
      "         [ 2.5034e-01,  1.8757e-01,  5.8950e-01,  6.1259e-01],\n",
      "         [-1.2302e-01, -3.3482e-01,  7.5463e-01,  7.8320e-01]],\n",
      "\n",
      "        [[ 3.4030e-04, -6.2429e-02,  3.3951e-01,  3.6258e-01],\n",
      "         [-2.4393e-01, -4.5411e-01,  6.3399e-01,  6.6404e-01],\n",
      "         [-3.0220e-02, -9.1986e-02,  3.0910e-01,  3.3311e-01],\n",
      "         [-1.1280e-01, -3.2499e-01,  7.6479e-01,  7.9300e-01],\n",
      "         [-2.5402e-01, -4.6403e-01,  6.2392e-01,  6.5414e-01],\n",
      "         [-2.9430e-01, -5.0381e-01,  5.8370e-01,  6.1441e-01],\n",
      "         [ 7.9780e-02,  1.8014e-02,  4.1910e-01,  4.4311e-01],\n",
      "         [ 1.6978e-01,  1.0801e-01,  5.0910e-01,  5.3311e-01]]],\n",
      "       grad_fn=<AddBackward0>)\n"
     ]
    }
   ],
   "source": [
    "x = tok_emb + pos_emb\n",
    "print(x)"
   ]
  },
  {
   "cell_type": "markdown",
   "id": "64f2b426-93e4-4072-be08-e15524bc4e8e",
   "metadata": {},
   "source": [
    "### Transformer - Layer Normalization\n",
    "If you recall, the values here were all uniform. The updated weights and changed input now result in changes, showing the impact of our learning."
   ]
  },
  {
   "cell_type": "code",
   "execution_count": 83,
   "id": "847139dc-0e01-4340-858c-bcb1513d7e24",
   "metadata": {},
   "outputs": [
    {
     "name": "stdout",
     "output_type": "stream",
     "text": [
      "torch.Size([2, 8, 4]) tensor([[[ 0.6108,  1.3217, -1.0378, -0.8946],\n",
      "         [-0.7788, -1.1986,  0.9604,  1.0170],\n",
      "         [-0.8237, -1.1603,  0.9368,  1.0472],\n",
      "         [-0.7806, -1.1971,  0.9591,  1.0186],\n",
      "         [-0.7808, -1.1969,  0.9589,  1.0188],\n",
      "         [-0.7784, -1.1989,  0.9607,  1.0166],\n",
      "         [-0.8293, -1.1553,  0.9323,  1.0523],\n",
      "         [-0.7788, -1.1986,  0.9604,  1.0170]],\n",
      "\n",
      "        [[-0.8293, -1.1553,  0.9324,  1.0522],\n",
      "         [-0.7806, -1.1971,  0.9591,  1.0186],\n",
      "         [-0.8321, -1.1528,  0.9301,  1.0548],\n",
      "         [-0.7784, -1.1989,  0.9607,  1.0166],\n",
      "         [-0.7808, -1.1969,  0.9589,  1.0188],\n",
      "         [-0.7813, -1.1965,  0.9585,  1.0193],\n",
      "         [-0.8321, -1.1528,  0.9301,  1.0548],\n",
      "         [-0.8321, -1.1528,  0.9301,  1.0548]]],\n",
      "       grad_fn=<NativeLayerNormBackward0>)\n"
     ]
    }
   ],
   "source": [
    "x_norm = ln_1(x)\n",
    "print(x_norm.shape, x_norm)"
   ]
  },
  {
   "cell_type": "markdown",
   "id": "485a6d83-639b-4215-a91d-5b257aa1d14c",
   "metadata": {},
   "source": [
    "### Transformer - Flash Attention"
   ]
  },
  {
   "cell_type": "code",
   "execution_count": 84,
   "id": "061825ec-08d2-4e93-bd92-17a0cc1d801e",
   "metadata": {},
   "outputs": [
    {
     "name": "stdout",
     "output_type": "stream",
     "text": [
      "torch.Size([2, 8, 12]) tensor([[[-0.0034, -0.0075, -0.0121, -0.0174, -0.0233, -0.0298, -0.0369,\n",
      "          -0.0446, -0.0529, -0.0619, -0.0714, -0.0816],\n",
      "         [ 0.0038,  0.0083,  0.0137,  0.0198,  0.0267,  0.0343,  0.0428,\n",
      "           0.0520,  0.0620,  0.0728,  0.0843,  0.0967],\n",
      "         [ 0.0039,  0.0085,  0.0140,  0.0204,  0.0275,  0.0355,  0.0443,\n",
      "           0.0539,  0.0643,  0.0756,  0.0877,  0.1006],\n",
      "         [ 0.0038,  0.0083,  0.0137,  0.0198,  0.0267,  0.0344,  0.0428,\n",
      "           0.0521,  0.0621,  0.0729,  0.0845,  0.0968],\n",
      "         [ 0.0038,  0.0083,  0.0137,  0.0198,  0.0267,  0.0344,  0.0428,\n",
      "           0.0521,  0.0621,  0.0729,  0.0845,  0.0969],\n",
      "         [ 0.0038,  0.0083,  0.0137,  0.0198,  0.0266,  0.0343,  0.0428,\n",
      "           0.0520,  0.0620,  0.0728,  0.0843,  0.0966],\n",
      "         [ 0.0039,  0.0086,  0.0141,  0.0204,  0.0276,  0.0356,  0.0445,\n",
      "           0.0541,  0.0646,  0.0760,  0.0881,  0.1011],\n",
      "         [ 0.0038,  0.0083,  0.0137,  0.0198,  0.0267,  0.0343,  0.0428,\n",
      "           0.0520,  0.0620,  0.0728,  0.0843,  0.0967]],\n",
      "\n",
      "        [[ 0.0039,  0.0086,  0.0141,  0.0204,  0.0276,  0.0356,  0.0445,\n",
      "           0.0541,  0.0646,  0.0760,  0.0881,  0.1011],\n",
      "         [ 0.0038,  0.0083,  0.0137,  0.0198,  0.0267,  0.0344,  0.0428,\n",
      "           0.0521,  0.0621,  0.0729,  0.0845,  0.0968],\n",
      "         [ 0.0039,  0.0086,  0.0141,  0.0205,  0.0277,  0.0357,  0.0446,\n",
      "           0.0543,  0.0648,  0.0762,  0.0884,  0.1014],\n",
      "         [ 0.0038,  0.0083,  0.0137,  0.0198,  0.0266,  0.0343,  0.0428,\n",
      "           0.0520,  0.0620,  0.0728,  0.0843,  0.0966],\n",
      "         [ 0.0038,  0.0083,  0.0137,  0.0198,  0.0267,  0.0344,  0.0428,\n",
      "           0.0521,  0.0621,  0.0729,  0.0845,  0.0969],\n",
      "         [ 0.0038,  0.0083,  0.0137,  0.0198,  0.0267,  0.0344,  0.0429,\n",
      "           0.0521,  0.0621,  0.0729,  0.0845,  0.0969],\n",
      "         [ 0.0039,  0.0086,  0.0141,  0.0205,  0.0277,  0.0357,  0.0446,\n",
      "           0.0543,  0.0648,  0.0762,  0.0884,  0.1014],\n",
      "         [ 0.0039,  0.0086,  0.0141,  0.0205,  0.0277,  0.0357,  0.0446,\n",
      "           0.0543,  0.0648,  0.0762,  0.0884,  0.1014]]],\n",
      "       grad_fn=<ViewBackward0>)\n"
     ]
    }
   ],
   "source": [
    "B, T, C = x_norm.size()\n",
    "qkv = c_attn(x_norm)\n",
    "print(qkv.shape, qkv)"
   ]
  },
  {
   "cell_type": "code",
   "execution_count": 85,
   "id": "6b00f6b8-35bf-4120-adb5-9cd63130cc36",
   "metadata": {},
   "outputs": [
    {
     "name": "stdout",
     "output_type": "stream",
     "text": [
      "torch.Size([2, 8, 4]) tensor([[[0.0009, 0.0020, 0.0033, 0.0049],\n",
      "         [0.0009, 0.0020, 0.0035, 0.0052],\n",
      "         [0.0009, 0.0020, 0.0034, 0.0050],\n",
      "         [0.0009, 0.0021, 0.0036, 0.0053],\n",
      "         [0.0010, 0.0022, 0.0037, 0.0055],\n",
      "         [0.0009, 0.0021, 0.0036, 0.0053],\n",
      "         [0.0009, 0.0021, 0.0036, 0.0053],\n",
      "         [0.0008, 0.0019, 0.0033, 0.0049]],\n",
      "\n",
      "        [[0.0008, 0.0019, 0.0032, 0.0048],\n",
      "         [0.0009, 0.0020, 0.0034, 0.0050],\n",
      "         [0.0008, 0.0018, 0.0030, 0.0045],\n",
      "         [0.0010, 0.0022, 0.0037, 0.0056],\n",
      "         [0.0009, 0.0020, 0.0034, 0.0051],\n",
      "         [0.0009, 0.0021, 0.0036, 0.0054],\n",
      "         [0.0009, 0.0021, 0.0036, 0.0054],\n",
      "         [0.0010, 0.0022, 0.0037, 0.0056]]], grad_fn=<ViewBackward0>)\n"
     ]
    }
   ],
   "source": [
    "q,k,v = qkv.split(n_embd, dim=2)\n",
    "q = q.view(B, T, n_head, C // n_head).transpose(1, 2)\n",
    "k = k.view(B, T, n_head, C // n_head).transpose(1, 2)\n",
    "v = v.view(B, T, n_head, C // n_head).transpose(1, 2)\n",
    "att = att.masked_fill(mask[:T, :T] == 0, float('-inf'))\n",
    "att = F.softmax(att, dim=-1)\n",
    "att = dropout(att)\n",
    "fa = att @ v\n",
    "fa = fa.transpose(1, 2).contiguous().view(B, T, C)\n",
    "x_norm = c_proj(fa)\n",
    "print(x_norm.shape, x_norm)"
   ]
  },
  {
   "cell_type": "markdown",
   "id": "d9f590d9-60cc-4fed-b97e-5290b54856f6",
   "metadata": {},
   "source": [
    "### Transformer - Residual connection"
   ]
  },
  {
   "cell_type": "code",
   "execution_count": 86,
   "id": "0b1e8544-1e80-4efd-99bf-a00953be4ff1",
   "metadata": {},
   "outputs": [
    {
     "name": "stdout",
     "output_type": "stream",
     "text": [
      "torch.Size([2, 8, 4]) tensor([[[ 0.4747,  0.5618,  0.2778,  0.2968],\n",
      "         [-0.1821, -0.3928,  0.6981,  0.7284],\n",
      "         [ 0.2323,  0.1687,  0.5737,  0.5965],\n",
      "         [-0.2230, -0.4320,  0.6576,  0.6894],\n",
      "         [-0.2531, -0.4618,  0.6276,  0.6597],\n",
      "         [-0.0919, -0.3029,  0.7884,  0.8183],\n",
      "         [ 0.2513,  0.1897,  0.5931,  0.6179],\n",
      "         [-0.1222, -0.3329,  0.7579,  0.7881]],\n",
      "\n",
      "        [[ 0.0012, -0.0605,  0.3427,  0.3673],\n",
      "         [-0.2431, -0.4521,  0.6374,  0.6691],\n",
      "         [-0.0295, -0.0902,  0.3121,  0.3376],\n",
      "         [-0.1118, -0.3228,  0.7685,  0.7986],\n",
      "         [-0.2531, -0.4620,  0.6273,  0.6592],\n",
      "         [-0.2934, -0.5017,  0.5873,  0.6198],\n",
      "         [ 0.0807,  0.0201,  0.4227,  0.4485],\n",
      "         [ 0.1707,  0.1102,  0.5128,  0.5387]]], grad_fn=<AddBackward0>)\n"
     ]
    }
   ],
   "source": [
    "x = x + x_norm\n",
    "print(x.shape, x)"
   ]
  },
  {
   "cell_type": "markdown",
   "id": "f72b725c-ca56-4011-a8d7-0ba05441edd1",
   "metadata": {},
   "source": [
    "### Transformer - Layer Normalization 2"
   ]
  },
  {
   "cell_type": "code",
   "execution_count": 87,
   "id": "c9653f04-ba59-4025-9773-fd77e4f466e5",
   "metadata": {},
   "outputs": [
    {
     "name": "stdout",
     "output_type": "stream",
     "text": [
      "torch.Size([2, 8, 4]) tensor([[[ 0.6008,  1.3280, -1.0435, -0.8853],\n",
      "         [-0.7807, -1.1970,  0.9590,  1.0188],\n",
      "         [-0.8280, -1.1564,  0.9332,  1.0512],\n",
      "         [-0.7825, -1.1955,  0.9576,  1.0204],\n",
      "         [-0.7828, -1.1953,  0.9574,  1.0207],\n",
      "         [-0.7803, -1.1973,  0.9592,  1.0184],\n",
      "         [-0.8338, -1.1512,  0.9285,  1.0565],\n",
      "         [-0.7806, -1.1971,  0.9590,  1.0187]],\n",
      "\n",
      "        [[-0.8333, -1.1517,  0.9289,  1.0561],\n",
      "         [-0.7824, -1.1956,  0.9577,  1.0203],\n",
      "         [-0.8358, -1.1494,  0.9269,  1.0583],\n",
      "         [-0.7804, -1.1972,  0.9592,  1.0185],\n",
      "         [-0.7826, -1.1954,  0.9575,  1.0205],\n",
      "         [-0.7833, -1.1949,  0.9570,  1.0211],\n",
      "         [-0.8366, -1.1487,  0.9262,  1.0590],\n",
      "         [-0.8367, -1.1486,  0.9261,  1.0592]]],\n",
      "       grad_fn=<NativeLayerNormBackward0>)\n"
     ]
    }
   ],
   "source": [
    "x_norm_2 = ln_2(x)\n",
    "print(x_norm_2.shape, x_norm_2)"
   ]
  },
  {
   "cell_type": "markdown",
   "id": "f575539a-048b-49ae-91f9-b3365472b8b3",
   "metadata": {},
   "source": [
    "### Transformer - Feed Forward"
   ]
  },
  {
   "cell_type": "code",
   "execution_count": 88,
   "id": "1866a5f6-0961-4e9b-b858-950911d44d6e",
   "metadata": {},
   "outputs": [
    {
     "name": "stdout",
     "output_type": "stream",
     "text": [
      "torch.Size([2, 8, 4]) tensor([[[-0.1029, -0.1900,  0.0028, -0.0354],\n",
      "         [-0.0919, -0.1671,  0.0387,  0.0143],\n",
      "         [-0.0916, -0.1665,  0.0397,  0.0156],\n",
      "         [-0.0919, -0.1671,  0.0387,  0.0143],\n",
      "         [-0.0919, -0.1671,  0.0387,  0.0143],\n",
      "         [-0.0919, -0.1671,  0.0387,  0.0143],\n",
      "         [-0.0916, -0.1664,  0.0398,  0.0158],\n",
      "         [-0.0919, -0.1671,  0.0387,  0.0143]],\n",
      "\n",
      "        [[-0.0916, -0.1664,  0.0398,  0.0158],\n",
      "         [-0.0919, -0.1671,  0.0387,  0.0143],\n",
      "         [-0.0916, -0.1663,  0.0398,  0.0159],\n",
      "         [-0.0919, -0.1671,  0.0387,  0.0143],\n",
      "         [-0.0919, -0.1671,  0.0387,  0.0143],\n",
      "         [-0.0919, -0.1670,  0.0387,  0.0144],\n",
      "         [-0.0915, -0.1663,  0.0398,  0.0159],\n",
      "         [-0.0915, -0.1663,  0.0398,  0.0159]]], grad_fn=<ViewBackward0>)\n"
     ]
    }
   ],
   "source": [
    "x_mlp = mlp_fc(x_norm_2)\n",
    "x_mlp = mlp_gelu(x_mlp)\n",
    "x_mlp = mlp_proj(x_mlp)\n",
    "print(x_mlp.shape, x_mlp)"
   ]
  },
  {
   "cell_type": "markdown",
   "id": "36aeb5b3-e7be-480c-bb84-27ead9591531",
   "metadata": {},
   "source": [
    "### Transformer - Residual (skip) connection 2"
   ]
  },
  {
   "cell_type": "code",
   "execution_count": 89,
   "id": "ecbd7463-e9c3-48fe-9afc-733ab67f7f2c",
   "metadata": {},
   "outputs": [
    {
     "name": "stdout",
     "output_type": "stream",
     "text": [
      "torch.Size([2, 8, 4]) tensor([[[ 0.3718,  0.3718,  0.2806,  0.2613],\n",
      "         [-0.2740, -0.5599,  0.7368,  0.7426],\n",
      "         [ 0.1407,  0.0022,  0.6133,  0.6122],\n",
      "         [-0.3149, -0.5990,  0.6963,  0.7037],\n",
      "         [-0.3450, -0.6289,  0.6664,  0.6740],\n",
      "         [-0.1838, -0.4700,  0.8270,  0.8326],\n",
      "         [ 0.1597,  0.0233,  0.6329,  0.6337],\n",
      "         [-0.2141, -0.5000,  0.7966,  0.8024]],\n",
      "\n",
      "        [[-0.0904, -0.2269,  0.3825,  0.3831],\n",
      "         [-0.3350, -0.6192,  0.6761,  0.6834],\n",
      "         [-0.1210, -0.2566,  0.3519,  0.3534],\n",
      "         [-0.2037, -0.4899,  0.8072,  0.8129],\n",
      "         [-0.3450, -0.6291,  0.6660,  0.6735],\n",
      "         [-0.3853, -0.6687,  0.6260,  0.6341],\n",
      "         [-0.0108, -0.1462,  0.4625,  0.4644],\n",
      "         [ 0.0792, -0.0561,  0.5527,  0.5546]]], grad_fn=<AddBackward0>)\n"
     ]
    }
   ],
   "source": [
    "x = x_mlp + x\n",
    "print(x.shape, x)"
   ]
  },
  {
   "cell_type": "markdown",
   "id": "5236268f-7eee-465f-87c2-6cf308db70a2",
   "metadata": {},
   "source": [
    "### Transformer - Final Layer Normalization"
   ]
  },
  {
   "cell_type": "code",
   "execution_count": 90,
   "id": "191ca349-ee8a-4cd1-8995-32a00d19f84a",
   "metadata": {},
   "outputs": [
    {
     "name": "stdout",
     "output_type": "stream",
     "text": [
      "torch.Size([2, 8, 4]) tensor([[[ 0.9339,  1.0333, -0.8472, -1.1408],\n",
      "         [-1.0772, -1.7675,  0.5586,  0.5616],\n",
      "         [-1.0662, -1.7767,  0.5633,  0.5552],\n",
      "         [-1.0791, -1.7659,  0.5577,  0.5628],\n",
      "         [-1.0794, -1.7657,  0.5575,  0.5629],\n",
      "         [-1.0768, -1.7679,  0.5588,  0.5613],\n",
      "         [-1.0714, -1.7723,  0.5608,  0.5584],\n",
      "         [-1.0771, -1.7676,  0.5586,  0.5615]],\n",
      "\n",
      "        [[-1.0709, -1.7727,  0.5611,  0.5581],\n",
      "         [-1.0790, -1.7660,  0.5577,  0.5627],\n",
      "         [-1.0731, -1.7709,  0.5600,  0.5595],\n",
      "         [-1.0769, -1.7678,  0.5587,  0.5614],\n",
      "         [-1.0792, -1.7659,  0.5576,  0.5628],\n",
      "         [-1.0799, -1.7653,  0.5573,  0.5632],\n",
      "         [-1.0739, -1.7702,  0.5596,  0.5600],\n",
      "         [-1.0741, -1.7701,  0.5596,  0.5601]]],\n",
      "       grad_fn=<NativeLayerNormBackward0>)\n"
     ]
    }
   ],
   "source": [
    "x = ln_f(x)\n",
    "print(x.shape, x)"
   ]
  },
  {
   "cell_type": "markdown",
   "id": "684f5e19-72c4-41f5-9442-9d6f777730f1",
   "metadata": {},
   "source": [
    "### Output Layers AKA Model Head"
   ]
  },
  {
   "cell_type": "code",
   "execution_count": 91,
   "id": "4919d39b-1465-44e8-8be6-36e535bc8c23",
   "metadata": {},
   "outputs": [
    {
     "name": "stdout",
     "output_type": "stream",
     "text": [
      "torch.Size([2, 8, 36]) tensor([[[-1.9488,  0.5037,  0.5035,  0.5033,  0.5031, -1.9496, -0.7237,\n",
      "           0.5024,  0.5022, -1.9504,  0.5018, -0.7244,  0.5014, -0.7251,\n",
      "           0.5010, -1.9511,  0.5005,  0.5003,  0.5001,  0.4999, -1.9521,\n",
      "          -0.7268,  0.4993,  0.4991,  0.4989,  0.4987,  0.4985,  0.4982,\n",
      "           0.4980,  0.4978, -0.7284,  0.4974, -0.7282,  0.4970,  0.4968,\n",
      "           0.4966],\n",
      "         [ 1.9717, -0.5895, -0.6068, -0.6240, -0.6413,  1.8856,  0.5963,\n",
      "          -0.6930, -0.7102,  1.8166, -0.7447,  0.5101, -0.7792,  0.4755,\n",
      "          -0.8137,  1.7133, -0.8482, -0.8655, -0.8827, -0.8999,  1.6271,\n",
      "           0.3376, -0.9517, -0.9689, -0.9862, -1.0034, -1.0207, -1.0379,\n",
      "          -1.0552, -1.0724,  0.1825, -1.1069,  0.1482, -1.1414, -1.1586,\n",
      "          -1.1759],\n",
      "         [ 1.9721, -0.5899, -0.6071, -0.6244, -0.6416,  1.8860,  0.5963,\n",
      "          -0.6933, -0.7106,  1.8170, -0.7451,  0.5102, -0.7796,  0.4756,\n",
      "          -0.8141,  1.7137, -0.8485, -0.8658, -0.8830, -0.9003,  1.6276,\n",
      "           0.3376, -0.9520, -0.9693, -0.9865, -1.0037, -1.0210, -1.0382,\n",
      "          -1.0555, -1.0727,  0.1825, -1.1072,  0.1483, -1.1417, -1.1589,\n",
      "          -1.1762],\n",
      "         [ 1.9716, -0.5894, -0.6067, -0.6239, -0.6412,  1.8855,  0.5962,\n",
      "          -0.6929, -0.7102,  1.8165, -0.7447,  0.5101, -0.7792,  0.4755,\n",
      "          -0.8136,  1.7132, -0.8481, -0.8654, -0.8826, -0.8999,  1.6270,\n",
      "           0.3376, -0.9516, -0.9689, -0.9861, -1.0033, -1.0206, -1.0378,\n",
      "          -1.0551, -1.0723,  0.1825, -1.1068,  0.1482, -1.1413, -1.1586,\n",
      "          -1.1758],\n",
      "         [ 1.9716, -0.5894, -0.6067, -0.6239, -0.6412,  1.8855,  0.5962,\n",
      "          -0.6929, -0.7102,  1.8165, -0.7447,  0.5101, -0.7791,  0.4755,\n",
      "          -0.8136,  1.7132, -0.8481, -0.8654, -0.8826, -0.8999,  1.6270,\n",
      "           0.3376, -0.9516, -0.9688, -0.9861, -1.0033, -1.0206, -1.0378,\n",
      "          -1.0551, -1.0723,  0.1825, -1.1068,  0.1482, -1.1413, -1.1586,\n",
      "          -1.1758],\n",
      "         [ 1.9718, -0.5895, -0.6068, -0.6240, -0.6413,  1.8856,  0.5963,\n",
      "          -0.6930, -0.7103,  1.8166, -0.7447,  0.5101, -0.7792,  0.4755,\n",
      "          -0.8137,  1.7133, -0.8482, -0.8655, -0.8827, -0.9000,  1.6271,\n",
      "           0.3376, -0.9517, -0.9689, -0.9862, -1.0034, -1.0207, -1.0379,\n",
      "          -1.0552, -1.0724,  0.1825, -1.1069,  0.1482, -1.1414, -1.1586,\n",
      "          -1.1759],\n",
      "         [ 1.9719, -0.5897, -0.6069, -0.6242, -0.6414,  1.8858,  0.5963,\n",
      "          -0.6932, -0.7104,  1.8168, -0.7449,  0.5102, -0.7794,  0.4755,\n",
      "          -0.8139,  1.7135, -0.8484, -0.8656, -0.8829, -0.9001,  1.6273,\n",
      "           0.3376, -0.9518, -0.9691, -0.9863, -1.0036, -1.0208, -1.0381,\n",
      "          -1.0553, -1.0726,  0.1825, -1.1070,  0.1482, -1.1415, -1.1588,\n",
      "          -1.1760],\n",
      "         [ 1.9717, -0.5895, -0.6068, -0.6240, -0.6413,  1.8856,  0.5963,\n",
      "          -0.6930, -0.7102,  1.8166, -0.7447,  0.5101, -0.7792,  0.4755,\n",
      "          -0.8137,  1.7133, -0.8482, -0.8655, -0.8827, -0.8999,  1.6271,\n",
      "           0.3376, -0.9517, -0.9689, -0.9862, -1.0034, -1.0207, -1.0379,\n",
      "          -1.0552, -1.0724,  0.1825, -1.1069,  0.1482, -1.1414, -1.1586,\n",
      "          -1.1759]],\n",
      "\n",
      "        [[ 1.9719, -0.5897, -0.6070, -0.6242, -0.6414,  1.8858,  0.5963,\n",
      "          -0.6932, -0.7104,  1.8168, -0.7449,  0.5102, -0.7794,  0.4755,\n",
      "          -0.8139,  1.7135, -0.8484, -0.8656, -0.8829, -0.9001,  1.6274,\n",
      "           0.3376, -0.9519, -0.9691, -0.9863, -1.0036, -1.0208, -1.0381,\n",
      "          -1.0553, -1.0726,  0.1825, -1.1071,  0.1482, -1.1416, -1.1588,\n",
      "          -1.1760],\n",
      "         [ 1.9717, -0.5895, -0.6067, -0.6239, -0.6412,  1.8855,  0.5962,\n",
      "          -0.6929, -0.7102,  1.8165, -0.7447,  0.5101, -0.7792,  0.4755,\n",
      "          -0.8136,  1.7132, -0.8481, -0.8654, -0.8826, -0.8999,  1.6270,\n",
      "           0.3376, -0.9516, -0.9689, -0.9861, -1.0034, -1.0206, -1.0378,\n",
      "          -1.0551, -1.0723,  0.1825, -1.1068,  0.1482, -1.1413, -1.1586,\n",
      "          -1.1758],\n",
      "         [ 1.9718, -0.5896, -0.6069, -0.6241, -0.6414,  1.8857,  0.5963,\n",
      "          -0.6931, -0.7104,  1.8167, -0.7448,  0.5101, -0.7793,  0.4755,\n",
      "          -0.8138,  1.7134, -0.8483, -0.8656, -0.8828, -0.9000,  1.6272,\n",
      "           0.3376, -0.9518, -0.9690, -0.9863, -1.0035, -1.0208, -1.0380,\n",
      "          -1.0553, -1.0725,  0.1825, -1.1070,  0.1482, -1.1415, -1.1587,\n",
      "          -1.1760],\n",
      "         [ 1.9718, -0.5895, -0.6068, -0.6240, -0.6413,  1.8856,  0.5963,\n",
      "          -0.6930, -0.7102,  1.8166, -0.7447,  0.5101, -0.7792,  0.4755,\n",
      "          -0.8137,  1.7133, -0.8482, -0.8655, -0.8827, -0.9000,  1.6271,\n",
      "           0.3376, -0.9517, -0.9689, -0.9862, -1.0034, -1.0207, -1.0379,\n",
      "          -1.0552, -1.0724,  0.1825, -1.1069,  0.1482, -1.1414, -1.1586,\n",
      "          -1.1759],\n",
      "         [ 1.9716, -0.5894, -0.6067, -0.6239, -0.6412,  1.8855,  0.5962,\n",
      "          -0.6929, -0.7102,  1.8165, -0.7447,  0.5101, -0.7791,  0.4755,\n",
      "          -0.8136,  1.7132, -0.8481, -0.8654, -0.8826, -0.8999,  1.6270,\n",
      "           0.3376, -0.9516, -0.9689, -0.9861, -1.0033, -1.0206, -1.0378,\n",
      "          -1.0551, -1.0723,  0.1825, -1.1068,  0.1482, -1.1413, -1.1586,\n",
      "          -1.1758],\n",
      "         [ 1.9716, -0.5894, -0.6067, -0.6239, -0.6412,  1.8854,  0.5962,\n",
      "          -0.6929, -0.7101,  1.8165, -0.7446,  0.5101, -0.7791,  0.4755,\n",
      "          -0.8136,  1.7132, -0.8481, -0.8654, -0.8826, -0.8998,  1.6270,\n",
      "           0.3376, -0.9516, -0.9688, -0.9861, -1.0033, -1.0206, -1.0378,\n",
      "          -1.0551, -1.0723,  0.1824, -1.1068,  0.1482, -1.1413, -1.1585,\n",
      "          -1.1758],\n",
      "         [ 1.9718, -0.5896, -0.6069, -0.6241, -0.6413,  1.8856,  0.5962,\n",
      "          -0.6931, -0.7103,  1.8167, -0.7448,  0.5101, -0.7793,  0.4755,\n",
      "          -0.8138,  1.7134, -0.8483, -0.8655, -0.8828, -0.9000,  1.6272,\n",
      "           0.3376, -0.9518, -0.9690, -0.9862, -1.0035, -1.0207, -1.0380,\n",
      "          -1.0552, -1.0725,  0.1825, -1.1070,  0.1482, -1.1415, -1.1587,\n",
      "          -1.1759],\n",
      "         [ 1.9718, -0.5896, -0.6068, -0.6241, -0.6413,  1.8856,  0.5962,\n",
      "          -0.6931, -0.7103,  1.8167, -0.7448,  0.5101, -0.7793,  0.4755,\n",
      "          -0.8138,  1.7134, -0.8483, -0.8655, -0.8828, -0.9000,  1.6272,\n",
      "           0.3376, -0.9517, -0.9690, -0.9862, -1.0035, -1.0207, -1.0380,\n",
      "          -1.0552, -1.0725,  0.1825, -1.1070,  0.1482, -1.1414, -1.1587,\n",
      "          -1.1759]]], grad_fn=<UnsafeViewBackward0>)\n"
     ]
    }
   ],
   "source": [
    "logits = lm_head(x)\n",
    "print(logits.shape, logits)"
   ]
  },
  {
   "cell_type": "markdown",
   "id": "da577f44-a315-47d3-be3b-f30b8d7ad9a1",
   "metadata": {},
   "source": [
    "### Updated Loss calculation\n",
    "Now we'll calculate the updated loss.  Our first pass's loss was 3.5835. Since we're passing through the same example and used a fairly high learning rate we should see a significant improvement with just 1 learning pass. "
   ]
  },
  {
   "cell_type": "code",
   "execution_count": 92,
   "id": "92956b47-d4d9-4f2d-97ae-fe17ad93ce97",
   "metadata": {},
   "outputs": [
    {
     "data": {
      "text/plain": [
       "tensor(3.5835, grad_fn=<NllLossBackward0>)"
      ]
     },
     "execution_count": 92,
     "metadata": {},
     "output_type": "execute_result"
    }
   ],
   "source": [
    "loss"
   ]
  },
  {
   "cell_type": "code",
   "execution_count": 93,
   "id": "0a64b50c-6eb5-4050-8930-bae485741d70",
   "metadata": {},
   "outputs": [
    {
     "name": "stdout",
     "output_type": "stream",
     "text": [
      "torch.Size([]) tensor(2.8629, grad_fn=<NllLossBackward0>)\n"
     ]
    }
   ],
   "source": [
    "y_flat = y.view(-1)\n",
    "logits_flat = logits.view(-1, logits.size(-1))\n",
    "updated_loss = F.cross_entropy(logits_flat, y_flat)\n",
    "print(updated_loss.shape, updated_loss)"
   ]
  },
  {
   "cell_type": "code",
   "execution_count": 94,
   "id": "2ef0b062-6dd0-4ccd-adb4-3e24bb075980",
   "metadata": {},
   "outputs": [
    {
     "data": {
      "text/plain": [
       "'1 round of training resulted in an loss improvment of 0.7206'"
      ]
     },
     "execution_count": 94,
     "metadata": {},
     "output_type": "execute_result"
    }
   ],
   "source": [
    "f'1 round of training resulted in an loss improvment of {loss.item() - updated_loss.item():.4f}'"
   ]
  },
  {
   "cell_type": "markdown",
   "id": "b4532f32-85a4-4260-bf1f-f2c6f14e31f8",
   "metadata": {},
   "source": [
    "# SUCCESS!\n",
    "Our training improved the loss by about **~20%**. There are flaws with this, mainly passing the same example through a second time, but this helps show the fundamentals of what learning does inside a GPT-2 style model. "
   ]
  }
 ],
 "metadata": {
  "kernelspec": {
   "display_name": "Python 3 (ipykernel)",
   "language": "python",
   "name": "python3"
  },
  "language_info": {
   "codemirror_mode": {
    "name": "ipython",
    "version": 3
   },
   "file_extension": ".py",
   "mimetype": "text/x-python",
   "name": "python",
   "nbconvert_exporter": "python",
   "pygments_lexer": "ipython3",
   "version": "3.13.7"
  }
 },
 "nbformat": 4,
 "nbformat_minor": 5
}
