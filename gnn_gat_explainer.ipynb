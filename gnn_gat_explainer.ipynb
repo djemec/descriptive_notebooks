{
 "cells": [
  {
   "cell_type": "markdown",
   "id": "a55a7864-bcb0-41e6-902b-8d162fd9bd62",
   "metadata": {},
   "source": [
    "# GNN GAT Explainer"
   ]
  },
  {
   "cell_type": "markdown",
   "id": "e757d71e-e53e-40ea-85db-6c8229b1c79d",
   "metadata": {},
   "source": [
    "## Graph Data Prep"
   ]
  },
  {
   "cell_type": "code",
   "execution_count": 1,
   "id": "736484bd-3859-4b69-9a1f-36c9eddce277",
   "metadata": {},
   "outputs": [],
   "source": [
    "import torch\n",
    "import torch.nn as nn\n",
    "import torch.nn.functional as F\n",
    "import matplotlib.pyplot as plt"
   ]
  },
  {
   "cell_type": "code",
   "execution_count": 2,
   "id": "bcbcbe30-349a-48d4-9053-2ab972162cda",
   "metadata": {},
   "outputs": [],
   "source": [
    "benign = {\n",
    "    'Tcells':{'up': ['CD3D','LCK','ZAP70'],'down': ['CD19']},\n",
    "    'Bcells':{'up': ['CD19'],'down': ['CD3D','LCK','ZAP70']},\n",
    "  #  'Macrophages':{'up': ['CSF1R'],'down': ['CD3D','MS4A1','CD19']},\n",
    "}\n",
    "\n",
    "cancerous = {\n",
    "    'Tcells':{'up': ['CD3D','ZAP70'],'down': ['CD19','LCK']},\n",
    "    'Bcells':{'up': ['CD19','LCK','CD3D'],'down': ['ZAP70']},\n",
    "   # 'Macrophages':{'up': ['CSF1R'],'down': ['CD3D','MS4A1','CD19']},\n",
    "}\n",
    "\n",
    "cancerous_2 = {\n",
    "    'Tcells':{'up': ['ZAP70'],'down': ['CD19','CD3D','LCK']},\n",
    "    'Bcells':{'up': ['CD19','CD3D'],'down': ['LCK','ZAP70']},\n",
    "   # 'Macrophages':{'up': ['CSF1R'],'down': ['CD3D','MS4A1','CD19']},\n",
    "}\n",
    "\n",
    "cancerous_3 = {\n",
    "    'Tcells':{'up': ['LCK'],'down': ['ZAP70','CD19','CD3D']},\n",
    "    'Bcells':{'up': ['CD19','ZAP70'],'down': ['LCK','CD3D']},\n",
    "   # 'Macrophages':{'up': ['CSF1R'],'down': ['CD3D','MS4A1','CD19']},\n",
    "}\n",
    "graphs = [benign, cancerous, cancerous_2, cancerous_3]"
   ]
  },
  {
   "cell_type": "code",
   "execution_count": 3,
   "id": "e5b348e6-4bde-4391-849a-cd787d83b397",
   "metadata": {},
   "outputs": [],
   "source": [
    "cell_types = ['Tcells','Bcells']\n",
    "genes = ['CD3D','LCK','ZAP70','CD19'] #only focused on genes present\n",
    "node_order = genes + [f'CT_{ct}' for ct in cell_types]   # genes first, then CT nodes\n",
    "gene_mask = torch.tensor([1,1,1,1,0,0], dtype=torch.bool)\n",
    "N = len(node_order) "
   ]
  },
  {
   "cell_type": "code",
   "execution_count": 4,
   "id": "0cfd44a1-953e-4a90-8a1d-56bd122b068e",
   "metadata": {},
   "outputs": [
    {
     "data": {
      "text/plain": [
       "(6,\n",
       " {'CD3D': 0, 'LCK': 1, 'ZAP70': 2, 'CD19': 3, 'CT_Tcells': 4, 'CT_Bcells': 5})"
      ]
     },
     "execution_count": 4,
     "metadata": {},
     "output_type": "execute_result"
    }
   ],
   "source": [
    "def build_vocab(genes, cell_types):\n",
    "    toks = genes + [f'CT_{ct}' for ct in cell_types]\n",
    "    stoi = {t:i for i,t in enumerate(toks)}; itos = {i:t for t,i in stoi.items()}\n",
    "    return stoi, itos\n",
    "\n",
    "stoi, itos = build_vocab(genes, cell_types)\n",
    "vocab_size = len(stoi)\n",
    "\n",
    "vocab_size, stoi"
   ]
  },
  {
   "cell_type": "code",
   "execution_count": 5,
   "id": "10be2b0f-4aca-4219-971a-7d9876007957",
   "metadata": {},
   "outputs": [],
   "source": [
    "def make_graph_signed(spec):\n",
    "    N = len(node_order); \n",
    "    A_signed = torch.zeros(N, N)\n",
    "    def idx(n): \n",
    "        return node_order.index(n)\n",
    "    def add_edge(g, ct, s):\n",
    "        i, j = idx(g), idx(f\"CT_{ct}\")\n",
    "        A_signed[i,j] = s\n",
    "        A_signed[j,i] = s\n",
    "    for ct in cell_types:\n",
    "        for g in spec[ct].get('up', []):   \n",
    "            add_edge(g, ct, +1)\n",
    "        for g in spec[ct].get('down', []): \n",
    "            add_edge(g, ct, -1)\n",
    "    # labels for node task (0=T, 1=B) on genes only\n",
    "    y_node = torch.full((N,), -1, dtype=torch.long)\n",
    "    X = torch.tensor([stoi[n] for n in node_order], dtype=torch.long)\n",
    "    \n",
    "    # per-gene cell-type label: 0=Tcells, 1=Bcells (prefer UP, tie-break T→B, fallback from DOWN)\n",
    "    y_node = torch.full((N,), -1, dtype=torch.long)\n",
    "    for g in genes:\n",
    "        t_up = g in spec['Tcells'].get('up', [])\n",
    "        b_up = g in spec['Bcells'].get('up', [])\n",
    "        t_dn = g in spec['Tcells'].get('down', [])\n",
    "        b_dn = g in spec['Bcells'].get('down', [])\n",
    "        lab = None\n",
    "        if t_up and not b_up: \n",
    "            lab = 0\n",
    "        elif b_up and not t_up: \n",
    "            lab = 1\n",
    "        elif t_up and b_up: \n",
    "            lab = 0\n",
    "        else:\n",
    "            if t_dn and not b_dn: \n",
    "                lab = 1\n",
    "            elif b_dn and not t_dn: \n",
    "                lab = 0\n",
    "        if lab is not None: \n",
    "            y_node[idx(g)] = lab\n",
    "    return X, y_node, A_signed"
   ]
  },
  {
   "cell_type": "code",
   "execution_count": 6,
   "id": "59713212-5422-4580-8a4f-4aa49ed067a1",
   "metadata": {},
   "outputs": [
    {
     "data": {
      "text/plain": [
       "([tensor([0, 1, 2, 3, 4, 5]),\n",
       "  tensor([0, 1, 2, 3, 4, 5]),\n",
       "  tensor([0, 1, 2, 3, 4, 5]),\n",
       "  tensor([0, 1, 2, 3, 4, 5])],\n",
       " [tensor([ 0,  0,  0,  1, -1, -1]),\n",
       "  tensor([ 0,  1,  0,  1, -1, -1]),\n",
       "  tensor([ 1, -1,  0,  1, -1, -1]),\n",
       "  tensor([-1,  0,  1,  1, -1, -1])],\n",
       " [tensor([[ 0.,  0.,  0.,  0.,  1., -1.],\n",
       "          [ 0.,  0.,  0.,  0.,  1., -1.],\n",
       "          [ 0.,  0.,  0.,  0.,  1., -1.],\n",
       "          [ 0.,  0.,  0.,  0., -1.,  1.],\n",
       "          [ 1.,  1.,  1., -1.,  0.,  0.],\n",
       "          [-1., -1., -1.,  1.,  0.,  0.]]),\n",
       "  tensor([[ 0.,  0.,  0.,  0.,  1.,  1.],\n",
       "          [ 0.,  0.,  0.,  0., -1.,  1.],\n",
       "          [ 0.,  0.,  0.,  0.,  1., -1.],\n",
       "          [ 0.,  0.,  0.,  0., -1.,  1.],\n",
       "          [ 1., -1.,  1., -1.,  0.,  0.],\n",
       "          [ 1.,  1., -1.,  1.,  0.,  0.]]),\n",
       "  tensor([[ 0.,  0.,  0.,  0., -1.,  1.],\n",
       "          [ 0.,  0.,  0.,  0., -1., -1.],\n",
       "          [ 0.,  0.,  0.,  0.,  1., -1.],\n",
       "          [ 0.,  0.,  0.,  0., -1.,  1.],\n",
       "          [-1., -1.,  1., -1.,  0.,  0.],\n",
       "          [ 1., -1., -1.,  1.,  0.,  0.]]),\n",
       "  tensor([[ 0.,  0.,  0.,  0., -1., -1.],\n",
       "          [ 0.,  0.,  0.,  0.,  1., -1.],\n",
       "          [ 0.,  0.,  0.,  0., -1.,  1.],\n",
       "          [ 0.,  0.,  0.,  0., -1.,  1.],\n",
       "          [-1.,  1., -1., -1.,  0.,  0.],\n",
       "          [-1., -1.,  1.,  1.,  0.,  0.]])])"
      ]
     },
     "execution_count": 6,
     "metadata": {},
     "output_type": "execute_result"
    }
   ],
   "source": [
    "x_list, y_node_list, a_list = [], [], []\n",
    "for spec in graphs:\n",
    "    X_i, y_i, A_i = make_graph_signed(spec)\n",
    "    x_list.append(X_i); y_node_list.append(y_i); a_list.append(A_i)\n",
    "\n",
    "x_list, y_node_list, a_list"
   ]
  },
  {
   "cell_type": "markdown",
   "id": "19a32ecc-62b1-49dc-b086-f3446193cbdc",
   "metadata": {},
   "source": [
    "**x_tokens** - a list of nodes\n",
    "\n",
    "Notice that all nodes are present in each of our samples. "
   ]
  },
  {
   "cell_type": "code",
   "execution_count": 7,
   "id": "3ff129f5-5109-4537-a284-fca7becbc618",
   "metadata": {},
   "outputs": [
    {
     "data": {
      "text/plain": [
       "(torch.Size([4, 6]),\n",
       " tensor([[0, 1, 2, 3, 4, 5],\n",
       "         [0, 1, 2, 3, 4, 5],\n",
       "         [0, 1, 2, 3, 4, 5],\n",
       "         [0, 1, 2, 3, 4, 5]]))"
      ]
     },
     "execution_count": 7,
     "metadata": {},
     "output_type": "execute_result"
    }
   ],
   "source": [
    "x_tokens = torch.stack(x_list)\n",
    "x_tokens.size(), x_tokens"
   ]
  },
  {
   "cell_type": "markdown",
   "id": "2e78cf94-1c19-46a1-b2d5-263a103a06af",
   "metadata": {},
   "source": [
    "**y_node** - per-node (gene) gene cell type labels. This uses a balance of the up-regulated and down-regulated genes and flags for each sample. If the gene is more commonly upregulated with B-cells we flag it as `0` and if it's more commonly up-regulated in T-cells we flag it as `1`.  This evaluation is done per sample (seen here as per row). \n",
    "\n",
    "The last two columns are embeddings purely for cell type so we flag them as -1 to be masked during training. "
   ]
  },
  {
   "cell_type": "code",
   "execution_count": 8,
   "id": "a6275918-276e-45ba-9532-b8f0c1f5e599",
   "metadata": {},
   "outputs": [
    {
     "data": {
      "text/plain": [
       "(torch.Size([4, 6]),\n",
       " tensor([[ 0,  0,  0,  1, -1, -1],\n",
       "         [ 0,  1,  0,  1, -1, -1],\n",
       "         [ 1, -1,  0,  1, -1, -1],\n",
       "         [-1,  0,  1,  1, -1, -1]]))"
      ]
     },
     "execution_count": 8,
     "metadata": {},
     "output_type": "execute_result"
    }
   ],
   "source": [
    "y_node = torch.stack(y_node_list)\n",
    "y_node.size(), y_node"
   ]
  },
  {
   "cell_type": "markdown",
   "id": "eb6a8ff8-e05c-43d7-aad5-6d089e7b421a",
   "metadata": {},
   "source": [
    "**y_graph** - per-graph (sample) cancer type label. We use `1` for cancerous and `0` for benign"
   ]
  },
  {
   "cell_type": "code",
   "execution_count": 9,
   "id": "67fe0752-f9b0-4dad-8a5f-e3e4fab3082c",
   "metadata": {},
   "outputs": [
    {
     "data": {
      "text/plain": [
       "(torch.Size([4]), tensor([0, 1, 1, 1]))"
      ]
     },
     "execution_count": 9,
     "metadata": {},
     "output_type": "execute_result"
    }
   ],
   "source": [
    "y_graph = torch.tensor([0,1,1,1])  # 0=wild, 1=cancer\n",
    "y_graph.size(), y_graph"
   ]
  },
  {
   "cell_type": "markdown",
   "id": "30046b6d-4bae-4820-9c77-537e861d37af",
   "metadata": {},
   "source": [
    "**Graph** \n",
    "\n",
    "Since this is a GNN explainer, let's visualize actually how these graphs look. This is in essence the graph the model is looking at and learning how to read so that if it sees a new one, it can predict the properties we are minimizing loss on (cancerous, cell type). "
   ]
  },
  {
   "cell_type": "code",
   "execution_count": 10,
   "id": "2b08438b-16e2-4c3a-b509-f7b29aedbb4a",
   "metadata": {},
   "outputs": [
    {
     "data": {
      "image/png": "[encoded data removed]",
      "text/plain": [
       "<Figure size 1000x800 with 4 Axes>"
      ]
     },
     "metadata": {},
     "output_type": "display_data"
    }
   ],
   "source": [
    "def compute_positions(genes, cell_types):\n",
    "    # left column (genes), right column (cell types)\n",
    "    gx, cx = 0.1, 0.9\n",
    "    gy = list(range(len(genes)-1, -1, -1))  # top-to-bottom\n",
    "    if len(cell_types) > 1:\n",
    "        # spread CTs across same vertical span as genes\n",
    "        span = (len(genes)-1)\n",
    "        cy = [span * (1 - i/(len(cell_types)-1)) for i in range(len(cell_types))]\n",
    "    else:\n",
    "        cy = [(len(genes)-1)/2]\n",
    "    pos = {g:(gx, gy[i]) for i,g in enumerate(genes)}\n",
    "    pos.update({f\"CT_{ct}\":(cx, cy[j]) for j,ct in enumerate(cell_types)})\n",
    "    return pos\n",
    "\n",
    "def draw_sample(ax, spec, title, genes, cell_types):\n",
    "    pos = compute_positions(genes, cell_types)\n",
    "    # draw nodes\n",
    "    for i,g in enumerate(genes):\n",
    "        x,y = pos[g]\n",
    "        ax.scatter([x],[y], s=300, marker='o', zorder=3)\n",
    "        ax.text(x-0.03, y, g, va='center', ha='right', fontsize=10)\n",
    "    for ct in cell_types:\n",
    "        name = f\"CT_{ct}\"\n",
    "        x,y = pos[name]\n",
    "        ax.scatter([x],[y], s=350, marker='s', zorder=3)\n",
    "        ax.text(x+0.03, y, ct, va='center', ha='left', fontsize=10)\n",
    "    # draw edges: solid = upregulated (+1), dashed = downregulated (-1)\n",
    "    for ct in cell_types:\n",
    "        ct_name = f\"CT_{ct}\"\n",
    "        for g in spec[ct].get('up', []):\n",
    "            if g in genes:\n",
    "                x1,y1 = pos[g]; x2,y2 = pos[ct_name]\n",
    "                ax.plot([x1,x2],[y1,y2], linestyle='-', linewidth=2, zorder=2)\n",
    "        for g in spec[ct].get('down', []):\n",
    "            if g in genes:\n",
    "                x1,y1 = pos[g]; x2,y2 = pos[ct_name]\n",
    "                ax.plot([x1,x2],[y1,y2], linestyle='--', linewidth=2, zorder=2)\n",
    "\n",
    "    # aesthetics\n",
    "    ax.set_title(title)\n",
    "    ax.set_xlim(0.0, 1.0)\n",
    "    ys = list(range(len(genes)))\n",
    "    ax.set_ylim(-0.5, len(genes)-0.5)\n",
    "    ax.set_xticks([]); ax.set_yticks([])\n",
    "    for spine in ax.spines.values(): spine.set_visible(False)\n",
    "\n",
    "    # legend (solid=up, dashed=down)\n",
    "    from matplotlib.lines import Line2D\n",
    "    legend_lines = [\n",
    "        Line2D([0],[0], linestyle='-', linewidth=2, label='Upregulated'),\n",
    "        Line2D([0],[0], linestyle='--', linewidth=2, label='Downregulated'),\n",
    "    ]\n",
    "    ax.legend(handles=legend_lines, loc='upper center', frameon=False, fontsize=9)\n",
    "\n",
    "# ----- draw all four samples -----\n",
    "fig, axes = plt.subplots(2, 2, figsize=(10, 8))\n",
    "samples = [\n",
    "    ('Sample 1 [benign]',    benign),\n",
    "    ('Sample 2 [cancerous]',    cancerous),\n",
    "    ('Sample 3 [cancerous]',  cancerous_2),\n",
    "    ('Sample 4 [cancerous]',  cancerous_3),\n",
    "]\n",
    "for ax, (name, spec) in zip(axes.ravel(), samples):\n",
    "    draw_sample(ax, spec, name, genes, cell_types)\n",
    "\n",
    "plt.tight_layout()\n",
    "plt.show()"
   ]
  },
  {
   "cell_type": "markdown",
   "id": "e99e6534-842b-499f-888b-dddb402d03d6",
   "metadata": {},
   "source": [
    "# Modeling"
   ]
  },
  {
   "cell_type": "markdown",
   "id": "04587318-bfc6-43d1-a95c-83f1d9ff4f4c",
   "metadata": {},
   "source": [
    "A machine learning model forward pass now uses the data prep information, runs several layers of linear algebra on it, and then \"predicts\" the probability of our different tasks, in this case the cell type based on the node and whether a graph is cancerous. When it is noisy (like you will see in this example), this process results in gibberish.  The training process changes the noise to pattern during the \"backward pass\" as you'll see. We'll show 3 steps that are focused on training:\n",
    "1. **Data Loading** - this step pulls from the raw data enough examples and batches to complete a forward pass and loss calculation.  If the model is inference only, this step is replaced with taking in the inference input and preparing it similarly as the forward pass. \n",
    "2. **Forward Pass** - using the data and the model architecture we run a prediction for the tokens. When training we also compare against the expected to get loss, but in inference, we use the logits to complete the inference task.\n",
    "3. **Back Propagation, aka Backward Pass & Training** - using differentials we can understand what parameters most drive the difference between forward pass' impact on its prediction versus what is actually right based on the data loading step. We compare this based on the loss function and use the partial derivative gradients to make very minor adjustments to the impactful parameters with the hope it improves future predictions.\n",
    "\n",
    "After our back prop, we'll show a final **Forward Pass** with the updated weights we did in #3 and then convert those final weights to a **Model Inference**"
   ]
  },
  {
   "cell_type": "markdown",
   "id": "27430abf-ee0c-4cdf-af24-5634a09a2e92",
   "metadata": {},
   "source": [
    "## Data Loading"
   ]
  },
  {
   "cell_type": "markdown",
   "id": "267f237e-d685-41d6-b403-1712be222fbe",
   "metadata": {},
   "source": [
    "To start, we need to get enough data to run the forward and backward passes.  Since our total dataset in a real experiment is likely too big to be held in memory all at once in real practice, we will read just enough file information into memory so that we can run the passes, leaving memory and compute to be used on the passes instead of static data holding. \n",
    "To start, we have to identify the batch size and the model context length to determine how much data we need.  Consequently, these dimensions also form 2 of the 3 dimensions in the initial matrix.\n",
    "- **Batch Size (B)** - This is the number of examples you'll train on in a single pass. \n",
    "- **Number of Nodes (N)** - This is basically the \"context length\" for a GNN.  This is the max number of nodes that a model can use in a pass.\n",
    "\n",
    "Beyond these, in a GCN, the depth also controls how much context, or complexity, can be learned. This is because each GCN layer learns 1 hop, or 1 relationship of neighbors. This means that after $L$ layers, a model can learn $L$-hops worth of context.\n",
    "\n",
    "In our case we'll set our batch to be our 4 examples, and nodes to the nodes we have configured, 6. As we walk through you'll also see our GCN will have 2 layers to model 2 network hops: gene > cell type > other genes.\n",
    "\n",
    "We'll prepare 2 sets of data. Our **Inputs** will be the `x_token`, or our list of nodes for each example, and `a_list`, our list of node connections.  Our **Outputs** will be `y_node`, our node level cell type identification, and `y_graph`, the graph level cancerous identification. "
   ]
  },
  {
   "cell_type": "markdown",
   "id": "3157770a-afb9-424b-be9d-50cba46f0dd9",
   "metadata": {},
   "source": [
    "**x_tokens** — list of nodes for each example. Each entry is an integer token id for the node at that position in node_order (e.g.`['CD3D','LCK','ZAP70','CD19','CT_Tcells','CT_Bcells']`).  In our case you'll notice that each example contains all the nodes. "
   ]
  },
  {
   "cell_type": "code",
   "execution_count": 11,
   "id": "b1cf69c7-8f81-4d86-9228-2b69c0ded301",
   "metadata": {},
   "outputs": [
    {
     "data": {
      "text/plain": [
       "(4,\n",
       " 6,\n",
       " tensor([[0, 1, 2, 3, 4, 5],\n",
       "         [0, 1, 2, 3, 4, 5],\n",
       "         [0, 1, 2, 3, 4, 5],\n",
       "         [0, 1, 2, 3, 4, 5]]))"
      ]
     },
     "execution_count": 11,
     "metadata": {},
     "output_type": "execute_result"
    }
   ],
   "source": [
    "B_batch, N_nodes = x_tokens.shape\n",
    "B_batch, N_nodes, x_tokens"
   ]
  },
  {
   "cell_type": "markdown",
   "id": "ec4b9aea-2c17-4fa2-bc63-a4c1135eea2c",
   "metadata": {},
   "source": [
    "**y_node** - per-gene label for cell-type. `0` for T-cell marker and tie, `1` for B-cell marker. As a reminder, this is an aggregation of the up-regulated and down-regulated genes. We focus on which cell type has the gene up-regulated and, if both have it, we use 0. There are ways to handle ties better but we won't get into it.  Since `y_node` also includes the cell types, we'll use -1 to mask them as ignored."
   ]
  },
  {
   "cell_type": "code",
   "execution_count": 12,
   "id": "9fe5efc3-97fe-4638-b04b-9eb29d7fb42d",
   "metadata": {},
   "outputs": [
    {
     "data": {
      "text/plain": [
       "(torch.Size([4, 6]),\n",
       " tensor([[ 0,  0,  0,  1, -1, -1],\n",
       "         [ 0,  1,  0,  1, -1, -1],\n",
       "         [ 1, -1,  0,  1, -1, -1],\n",
       "         [-1,  0,  1,  1, -1, -1]]))"
      ]
     },
     "execution_count": 12,
     "metadata": {},
     "output_type": "execute_result"
    }
   ],
   "source": [
    "y_node.size(), y_node"
   ]
  },
  {
   "cell_type": "markdown",
   "id": "986b92da-0888-444a-98c2-df2d45389b48",
   "metadata": {},
   "source": [
    "**y_graph** - per-graph label to determine if an example is cancerous. `0` is for benign and `1` is for cancerous.  "
   ]
  },
  {
   "cell_type": "code",
   "execution_count": 13,
   "id": "9e984511-b313-42ac-bc7c-e88cf27399d8",
   "metadata": {},
   "outputs": [
    {
     "data": {
      "text/plain": [
       "(torch.Size([4]), tensor([0, 1, 1, 1]))"
      ]
     },
     "execution_count": 13,
     "metadata": {},
     "output_type": "execute_result"
    }
   ],
   "source": [
    "y_graph.size(), y_graph"
   ]
  },
  {
   "cell_type": "markdown",
   "id": "ec818687-4747-4e8c-bb10-a400891d7619",
   "metadata": {},
   "source": [
    "**A_list** - The relationships for each of our cells.  You'll notice here that only the last two rows and columns are used.  In this tensor `+1` is for **upregulated** gene per cell type and `-1` is for **downregulated**. `0` is for not in the network.  We also include here a **Gene_mask** that will act in our loss function as a flag to suppress the gene x gene portions of the matrix. "
   ]
  },
  {
   "cell_type": "code",
   "execution_count": 14,
   "id": "45348c5b-90d0-481f-bbf4-ed5bb93e94d3",
   "metadata": {},
   "outputs": [
    {
     "data": {
      "text/plain": [
       "(tensor([ True,  True,  True,  True, False, False]),\n",
       " [tensor([[ 0.,  0.,  0.,  0.,  1., -1.],\n",
       "          [ 0.,  0.,  0.,  0.,  1., -1.],\n",
       "          [ 0.,  0.,  0.,  0.,  1., -1.],\n",
       "          [ 0.,  0.,  0.,  0., -1.,  1.],\n",
       "          [ 1.,  1.,  1., -1.,  0.,  0.],\n",
       "          [-1., -1., -1.,  1.,  0.,  0.]]),\n",
       "  tensor([[ 0.,  0.,  0.,  0.,  1.,  1.],\n",
       "          [ 0.,  0.,  0.,  0., -1.,  1.],\n",
       "          [ 0.,  0.,  0.,  0.,  1., -1.],\n",
       "          [ 0.,  0.,  0.,  0., -1.,  1.],\n",
       "          [ 1., -1.,  1., -1.,  0.,  0.],\n",
       "          [ 1.,  1., -1.,  1.,  0.,  0.]]),\n",
       "  tensor([[ 0.,  0.,  0.,  0., -1.,  1.],\n",
       "          [ 0.,  0.,  0.,  0., -1., -1.],\n",
       "          [ 0.,  0.,  0.,  0.,  1., -1.],\n",
       "          [ 0.,  0.,  0.,  0., -1.,  1.],\n",
       "          [-1., -1.,  1., -1.,  0.,  0.],\n",
       "          [ 1., -1., -1.,  1.,  0.,  0.]]),\n",
       "  tensor([[ 0.,  0.,  0.,  0., -1., -1.],\n",
       "          [ 0.,  0.,  0.,  0.,  1., -1.],\n",
       "          [ 0.,  0.,  0.,  0., -1.,  1.],\n",
       "          [ 0.,  0.,  0.,  0., -1.,  1.],\n",
       "          [-1.,  1., -1., -1.,  0.,  0.],\n",
       "          [-1., -1.,  1.,  1.,  0.,  0.]])])"
      ]
     },
     "execution_count": 14,
     "metadata": {},
     "output_type": "execute_result"
    }
   ],
   "source": [
    "gene_mask, a_list"
   ]
  },
  {
   "cell_type": "markdown",
   "id": "727058d6-eafd-4b74-88fd-49d4219d30eb",
   "metadata": {},
   "source": [
    "### Data Loading - Blocked Diagonal Graph"
   ]
  },
  {
   "cell_type": "markdown",
   "id": "663c8ee9-64e4-4c90-a9a3-69049cbccafc",
   "metadata": {},
   "source": [
    "Since we are trying to learn from all the examples in our batch, we want a uniform tensor of the network connections to learn from. We do this using a block diagonal join that creates a large tensor out of the inputs by simply sliding each new tensor to start at `[i+1,j+1]`.  In our case this results in a `[24,24]` matrix since we have 4 examples with 6 nodes. "
   ]
  },
  {
   "cell_type": "code",
   "execution_count": 15,
   "id": "ba483d33-38e5-4b3f-9bc1-7514aeb1a85c",
   "metadata": {},
   "outputs": [
    {
     "data": {
      "text/plain": [
       "(torch.Size([24, 24]),\n",
       " tensor([[ 0.,  0.,  0.,  0.,  1., -1.,  0.,  0.,  0.,  0.,  0.,  0.,  0.,  0.,\n",
       "           0.,  0.,  0.,  0.,  0.,  0.,  0.,  0.,  0.,  0.],\n",
       "         [ 0.,  0.,  0.,  0.,  1., -1.,  0.,  0.,  0.,  0.,  0.,  0.,  0.,  0.,\n",
       "           0.,  0.,  0.,  0.,  0.,  0.,  0.,  0.,  0.,  0.],\n",
       "         [ 0.,  0.,  0.,  0.,  1., -1.,  0.,  0.,  0.,  0.,  0.,  0.,  0.,  0.,\n",
       "           0.,  0.,  0.,  0.,  0.,  0.,  0.,  0.,  0.,  0.],\n",
       "         [ 0.,  0.,  0.,  0., -1.,  1.,  0.,  0.,  0.,  0.,  0.,  0.,  0.,  0.,\n",
       "           0.,  0.,  0.,  0.,  0.,  0.,  0.,  0.,  0.,  0.],\n",
       "         [ 1.,  1.,  1., -1.,  0.,  0.,  0.,  0.,  0.,  0.,  0.,  0.,  0.,  0.,\n",
       "           0.,  0.,  0.,  0.,  0.,  0.,  0.,  0.,  0.,  0.],\n",
       "         [-1., -1., -1.,  1.,  0.,  0.,  0.,  0.,  0.,  0.,  0.,  0.,  0.,  0.,\n",
       "           0.,  0.,  0.,  0.,  0.,  0.,  0.,  0.,  0.,  0.],\n",
       "         [ 0.,  0.,  0.,  0.,  0.,  0.,  0.,  0.,  0.,  0.,  1.,  1.,  0.,  0.,\n",
       "           0.,  0.,  0.,  0.,  0.,  0.,  0.,  0.,  0.,  0.],\n",
       "         [ 0.,  0.,  0.,  0.,  0.,  0.,  0.,  0.,  0.,  0., -1.,  1.,  0.,  0.,\n",
       "           0.,  0.,  0.,  0.,  0.,  0.,  0.,  0.,  0.,  0.],\n",
       "         [ 0.,  0.,  0.,  0.,  0.,  0.,  0.,  0.,  0.,  0.,  1., -1.,  0.,  0.,\n",
       "           0.,  0.,  0.,  0.,  0.,  0.,  0.,  0.,  0.,  0.],\n",
       "         [ 0.,  0.,  0.,  0.,  0.,  0.,  0.,  0.,  0.,  0., -1.,  1.,  0.,  0.,\n",
       "           0.,  0.,  0.,  0.,  0.,  0.,  0.,  0.,  0.,  0.],\n",
       "         [ 0.,  0.,  0.,  0.,  0.,  0.,  1., -1.,  1., -1.,  0.,  0.,  0.,  0.,\n",
       "           0.,  0.,  0.,  0.,  0.,  0.,  0.,  0.,  0.,  0.],\n",
       "         [ 0.,  0.,  0.,  0.,  0.,  0.,  1.,  1., -1.,  1.,  0.,  0.,  0.,  0.,\n",
       "           0.,  0.,  0.,  0.,  0.,  0.,  0.,  0.,  0.,  0.],\n",
       "         [ 0.,  0.,  0.,  0.,  0.,  0.,  0.,  0.,  0.,  0.,  0.,  0.,  0.,  0.,\n",
       "           0.,  0., -1.,  1.,  0.,  0.,  0.,  0.,  0.,  0.],\n",
       "         [ 0.,  0.,  0.,  0.,  0.,  0.,  0.,  0.,  0.,  0.,  0.,  0.,  0.,  0.,\n",
       "           0.,  0., -1., -1.,  0.,  0.,  0.,  0.,  0.,  0.],\n",
       "         [ 0.,  0.,  0.,  0.,  0.,  0.,  0.,  0.,  0.,  0.,  0.,  0.,  0.,  0.,\n",
       "           0.,  0.,  1., -1.,  0.,  0.,  0.,  0.,  0.,  0.],\n",
       "         [ 0.,  0.,  0.,  0.,  0.,  0.,  0.,  0.,  0.,  0.,  0.,  0.,  0.,  0.,\n",
       "           0.,  0., -1.,  1.,  0.,  0.,  0.,  0.,  0.,  0.],\n",
       "         [ 0.,  0.,  0.,  0.,  0.,  0.,  0.,  0.,  0.,  0.,  0.,  0., -1., -1.,\n",
       "           1., -1.,  0.,  0.,  0.,  0.,  0.,  0.,  0.,  0.],\n",
       "         [ 0.,  0.,  0.,  0.,  0.,  0.,  0.,  0.,  0.,  0.,  0.,  0.,  1., -1.,\n",
       "          -1.,  1.,  0.,  0.,  0.,  0.,  0.,  0.,  0.,  0.],\n",
       "         [ 0.,  0.,  0.,  0.,  0.,  0.,  0.,  0.,  0.,  0.,  0.,  0.,  0.,  0.,\n",
       "           0.,  0.,  0.,  0.,  0.,  0.,  0.,  0., -1., -1.],\n",
       "         [ 0.,  0.,  0.,  0.,  0.,  0.,  0.,  0.,  0.,  0.,  0.,  0.,  0.,  0.,\n",
       "           0.,  0.,  0.,  0.,  0.,  0.,  0.,  0.,  1., -1.],\n",
       "         [ 0.,  0.,  0.,  0.,  0.,  0.,  0.,  0.,  0.,  0.,  0.,  0.,  0.,  0.,\n",
       "           0.,  0.,  0.,  0.,  0.,  0.,  0.,  0., -1.,  1.],\n",
       "         [ 0.,  0.,  0.,  0.,  0.,  0.,  0.,  0.,  0.,  0.,  0.,  0.,  0.,  0.,\n",
       "           0.,  0.,  0.,  0.,  0.,  0.,  0.,  0., -1.,  1.],\n",
       "         [ 0.,  0.,  0.,  0.,  0.,  0.,  0.,  0.,  0.,  0.,  0.,  0.,  0.,  0.,\n",
       "           0.,  0.,  0.,  0., -1.,  1., -1., -1.,  0.,  0.],\n",
       "         [ 0.,  0.,  0.,  0.,  0.,  0.,  0.,  0.,  0.,  0.,  0.,  0.,  0.,  0.,\n",
       "           0.,  0.,  0.,  0., -1., -1.,  1.,  1.,  0.,  0.]]))"
      ]
     },
     "execution_count": 15,
     "metadata": {},
     "output_type": "execute_result"
    }
   ],
   "source": [
    "a_blk = torch.block_diag(*a_list)\n",
    "a_blk.size(), a_blk"
   ]
  },
  {
   "cell_type": "markdown",
   "id": "92e81275-ae8f-4968-b325-1deab4139fa4",
   "metadata": {},
   "source": [
    "## Forward pass"
   ]
  },
  {
   "cell_type": "code",
   "execution_count": 16,
   "id": "37f358c2-7943-4b3e-8ac6-0909ca97e243",
   "metadata": {},
   "outputs": [
    {
     "data": {
      "text/plain": [
       "3"
      ]
     },
     "execution_count": 16,
     "metadata": {},
     "output_type": "execute_result"
    }
   ],
   "source": [
    "n_embd= 6\n",
    "heads = 2\n",
    "head_dim = n_embd // heads\n",
    "depth = 1 # just a single hop\n",
    "head_dim"
   ]
  },
  {
   "cell_type": "markdown",
   "id": "8bddabbf-fbc0-475f-a367-cf7add671d07",
   "metadata": {},
   "source": [
    "### Embedding Projection"
   ]
  },
  {
   "cell_type": "code",
   "execution_count": 17,
   "id": "04abaee3-cd77-4a4f-a165-7918f675ff26",
   "metadata": {},
   "outputs": [
    {
     "data": {
      "text/plain": [
       "(torch.Size([6, 6]),\n",
       " Parameter containing:\n",
       " tensor([[0.0010, 0.0020, 0.0030, 0.0040, 0.0050, 0.0060],\n",
       "         [0.0020, 0.0030, 0.0040, 0.0050, 0.0060, 0.0070],\n",
       "         [0.0030, 0.0040, 0.0050, 0.0060, 0.0070, 0.0080],\n",
       "         [0.0040, 0.0050, 0.0060, 0.0070, 0.0080, 0.0090],\n",
       "         [0.0050, 0.0060, 0.0070, 0.0080, 0.0090, 0.0100],\n",
       "         [0.0060, 0.0070, 0.0080, 0.0090, 0.0100, 0.0110]], requires_grad=True))"
      ]
     },
     "execution_count": 17,
     "metadata": {},
     "output_type": "execute_result"
    }
   ],
   "source": [
    "tok_emb = nn.Embedding(vocab_size, n_embd)\n",
    "with torch.no_grad(): # initilize to W[i,j] = 0.001*(1+i+j) for easy following \n",
    "    vs, d = vocab_size, n_embd\n",
    "    rows = torch.arange(vs).unsqueeze(1)  # (vs,1)\n",
    "    cols = torch.arange(d).unsqueeze(0)  # (1,d)\n",
    "    pattern = 0.001*(1 + rows + cols)  # W[i,j] = 0.001*(1+i+j)\n",
    "    tok_emb.weight.copy_(pattern)\n",
    "tok_emb.weight.size(), tok_emb.weight"
   ]
  },
  {
   "cell_type": "code",
   "execution_count": 18,
   "id": "6d211712-b32c-4e63-b194-347c9e116707",
   "metadata": {},
   "outputs": [
    {
     "data": {
      "text/plain": [
       "(torch.Size([4, 6, 6]),\n",
       " tensor([[[0.0010, 0.0020, 0.0030, 0.0040, 0.0050, 0.0060],\n",
       "          [0.0020, 0.0030, 0.0040, 0.0050, 0.0060, 0.0070],\n",
       "          [0.0030, 0.0040, 0.0050, 0.0060, 0.0070, 0.0080],\n",
       "          [0.0040, 0.0050, 0.0060, 0.0070, 0.0080, 0.0090],\n",
       "          [0.0050, 0.0060, 0.0070, 0.0080, 0.0090, 0.0100],\n",
       "          [0.0060, 0.0070, 0.0080, 0.0090, 0.0100, 0.0110]],\n",
       " \n",
       "         [[0.0010, 0.0020, 0.0030, 0.0040, 0.0050, 0.0060],\n",
       "          [0.0020, 0.0030, 0.0040, 0.0050, 0.0060, 0.0070],\n",
       "          [0.0030, 0.0040, 0.0050, 0.0060, 0.0070, 0.0080],\n",
       "          [0.0040, 0.0050, 0.0060, 0.0070, 0.0080, 0.0090],\n",
       "          [0.0050, 0.0060, 0.0070, 0.0080, 0.0090, 0.0100],\n",
       "          [0.0060, 0.0070, 0.0080, 0.0090, 0.0100, 0.0110]],\n",
       " \n",
       "         [[0.0010, 0.0020, 0.0030, 0.0040, 0.0050, 0.0060],\n",
       "          [0.0020, 0.0030, 0.0040, 0.0050, 0.0060, 0.0070],\n",
       "          [0.0030, 0.0040, 0.0050, 0.0060, 0.0070, 0.0080],\n",
       "          [0.0040, 0.0050, 0.0060, 0.0070, 0.0080, 0.0090],\n",
       "          [0.0050, 0.0060, 0.0070, 0.0080, 0.0090, 0.0100],\n",
       "          [0.0060, 0.0070, 0.0080, 0.0090, 0.0100, 0.0110]],\n",
       " \n",
       "         [[0.0010, 0.0020, 0.0030, 0.0040, 0.0050, 0.0060],\n",
       "          [0.0020, 0.0030, 0.0040, 0.0050, 0.0060, 0.0070],\n",
       "          [0.0030, 0.0040, 0.0050, 0.0060, 0.0070, 0.0080],\n",
       "          [0.0040, 0.0050, 0.0060, 0.0070, 0.0080, 0.0090],\n",
       "          [0.0050, 0.0060, 0.0070, 0.0080, 0.0090, 0.0100],\n",
       "          [0.0060, 0.0070, 0.0080, 0.0090, 0.0100, 0.0110]]],\n",
       "        grad_fn=<EmbeddingBackward0>))"
      ]
     },
     "execution_count": 18,
     "metadata": {},
     "output_type": "execute_result"
    }
   ],
   "source": [
    "x = tok_emb(x_tokens)\n",
    "x.size(), x"
   ]
  },
  {
   "cell_type": "code",
   "execution_count": 19,
   "id": "f3d6ca48-56aa-4d04-babf-2cdc139b0be0",
   "metadata": {},
   "outputs": [
    {
     "data": {
      "text/plain": [
       "(torch.Size([24, 6]),\n",
       " tensor([[0.0010, 0.0020, 0.0030, 0.0040, 0.0050, 0.0060],\n",
       "         [0.0020, 0.0030, 0.0040, 0.0050, 0.0060, 0.0070],\n",
       "         [0.0030, 0.0040, 0.0050, 0.0060, 0.0070, 0.0080],\n",
       "         [0.0040, 0.0050, 0.0060, 0.0070, 0.0080, 0.0090],\n",
       "         [0.0050, 0.0060, 0.0070, 0.0080, 0.0090, 0.0100],\n",
       "         [0.0060, 0.0070, 0.0080, 0.0090, 0.0100, 0.0110],\n",
       "         [0.0010, 0.0020, 0.0030, 0.0040, 0.0050, 0.0060],\n",
       "         [0.0020, 0.0030, 0.0040, 0.0050, 0.0060, 0.0070],\n",
       "         [0.0030, 0.0040, 0.0050, 0.0060, 0.0070, 0.0080],\n",
       "         [0.0040, 0.0050, 0.0060, 0.0070, 0.0080, 0.0090],\n",
       "         [0.0050, 0.0060, 0.0070, 0.0080, 0.0090, 0.0100],\n",
       "         [0.0060, 0.0070, 0.0080, 0.0090, 0.0100, 0.0110],\n",
       "         [0.0010, 0.0020, 0.0030, 0.0040, 0.0050, 0.0060],\n",
       "         [0.0020, 0.0030, 0.0040, 0.0050, 0.0060, 0.0070],\n",
       "         [0.0030, 0.0040, 0.0050, 0.0060, 0.0070, 0.0080],\n",
       "         [0.0040, 0.0050, 0.0060, 0.0070, 0.0080, 0.0090],\n",
       "         [0.0050, 0.0060, 0.0070, 0.0080, 0.0090, 0.0100],\n",
       "         [0.0060, 0.0070, 0.0080, 0.0090, 0.0100, 0.0110],\n",
       "         [0.0010, 0.0020, 0.0030, 0.0040, 0.0050, 0.0060],\n",
       "         [0.0020, 0.0030, 0.0040, 0.0050, 0.0060, 0.0070],\n",
       "         [0.0030, 0.0040, 0.0050, 0.0060, 0.0070, 0.0080],\n",
       "         [0.0040, 0.0050, 0.0060, 0.0070, 0.0080, 0.0090],\n",
       "         [0.0050, 0.0060, 0.0070, 0.0080, 0.0090, 0.0100],\n",
       "         [0.0060, 0.0070, 0.0080, 0.0090, 0.0100, 0.0110]],\n",
       "        grad_fn=<ViewBackward0>))"
      ]
     },
     "execution_count": 19,
     "metadata": {},
     "output_type": "execute_result"
    }
   ],
   "source": [
    "x = x.view(B_batch*N_nodes,n_embd) # remove batch\n",
    "x.size(), x"
   ]
  },
  {
   "cell_type": "markdown",
   "id": "c0eb2ba0-e6d1-49ae-ac16-11b54a94ecb3",
   "metadata": {},
   "source": [
    "### GAT Block"
   ]
  },
  {
   "cell_type": "markdown",
   "id": "4cf8de80-8021-458f-aea0-d30a6fa5e7ed",
   "metadata": {},
   "source": [
    "#### GAT Block - First Attention Layer"
   ]
  },
  {
   "cell_type": "markdown",
   "id": "eae2ce9d-bda0-431d-82d1-cf92138bc1a9",
   "metadata": {},
   "source": [
    "##### Setup Edges"
   ]
  },
  {
   "cell_type": "code",
   "execution_count": 20,
   "id": "2a282808-d4e3-466f-a608-e1521595ded6",
   "metadata": {
    "scrolled": true
   },
   "outputs": [
    {
     "data": {
      "text/plain": [
       "(torch.Size([24, 24]),\n",
       " tensor([[ True, False, False, False,  True,  True, False, False, False, False,\n",
       "          False, False, False, False, False, False, False, False, False, False,\n",
       "          False, False, False, False],\n",
       "         [False,  True, False, False,  True,  True, False, False, False, False,\n",
       "          False, False, False, False, False, False, False, False, False, False,\n",
       "          False, False, False, False],\n",
       "         [False, False,  True, False,  True,  True, False, False, False, False,\n",
       "          False, False, False, False, False, False, False, False, False, False,\n",
       "          False, False, False, False],\n",
       "         [False, False, False,  True,  True,  True, False, False, False, False,\n",
       "          False, False, False, False, False, False, False, False, False, False,\n",
       "          False, False, False, False],\n",
       "         [ True,  True,  True,  True,  True, False, False, False, False, False,\n",
       "          False, False, False, False, False, False, False, False, False, False,\n",
       "          False, False, False, False],\n",
       "         [ True,  True,  True,  True, False,  True, False, False, False, False,\n",
       "          False, False, False, False, False, False, False, False, False, False,\n",
       "          False, False, False, False],\n",
       "         [False, False, False, False, False, False,  True, False, False, False,\n",
       "           True,  True, False, False, False, False, False, False, False, False,\n",
       "          False, False, False, False],\n",
       "         [False, False, False, False, False, False, False,  True, False, False,\n",
       "           True,  True, False, False, False, False, False, False, False, False,\n",
       "          False, False, False, False],\n",
       "         [False, False, False, False, False, False, False, False,  True, False,\n",
       "           True,  True, False, False, False, False, False, False, False, False,\n",
       "          False, False, False, False],\n",
       "         [False, False, False, False, False, False, False, False, False,  True,\n",
       "           True,  True, False, False, False, False, False, False, False, False,\n",
       "          False, False, False, False],\n",
       "         [False, False, False, False, False, False,  True,  True,  True,  True,\n",
       "           True, False, False, False, False, False, False, False, False, False,\n",
       "          False, False, False, False],\n",
       "         [False, False, False, False, False, False,  True,  True,  True,  True,\n",
       "          False,  True, False, False, False, False, False, False, False, False,\n",
       "          False, False, False, False],\n",
       "         [False, False, False, False, False, False, False, False, False, False,\n",
       "          False, False,  True, False, False, False,  True,  True, False, False,\n",
       "          False, False, False, False],\n",
       "         [False, False, False, False, False, False, False, False, False, False,\n",
       "          False, False, False,  True, False, False,  True,  True, False, False,\n",
       "          False, False, False, False],\n",
       "         [False, False, False, False, False, False, False, False, False, False,\n",
       "          False, False, False, False,  True, False,  True,  True, False, False,\n",
       "          False, False, False, False],\n",
       "         [False, False, False, False, False, False, False, False, False, False,\n",
       "          False, False, False, False, False,  True,  True,  True, False, False,\n",
       "          False, False, False, False],\n",
       "         [False, False, False, False, False, False, False, False, False, False,\n",
       "          False, False,  True,  True,  True,  True,  True, False, False, False,\n",
       "          False, False, False, False],\n",
       "         [False, False, False, False, False, False, False, False, False, False,\n",
       "          False, False,  True,  True,  True,  True, False,  True, False, False,\n",
       "          False, False, False, False],\n",
       "         [False, False, False, False, False, False, False, False, False, False,\n",
       "          False, False, False, False, False, False, False, False,  True, False,\n",
       "          False, False,  True,  True],\n",
       "         [False, False, False, False, False, False, False, False, False, False,\n",
       "          False, False, False, False, False, False, False, False, False,  True,\n",
       "          False, False,  True,  True],\n",
       "         [False, False, False, False, False, False, False, False, False, False,\n",
       "          False, False, False, False, False, False, False, False, False, False,\n",
       "           True, False,  True,  True],\n",
       "         [False, False, False, False, False, False, False, False, False, False,\n",
       "          False, False, False, False, False, False, False, False, False, False,\n",
       "          False,  True,  True,  True],\n",
       "         [False, False, False, False, False, False, False, False, False, False,\n",
       "          False, False, False, False, False, False, False, False,  True,  True,\n",
       "           True,  True,  True, False],\n",
       "         [False, False, False, False, False, False, False, False, False, False,\n",
       "          False, False, False, False, False, False, False, False,  True,  True,\n",
       "           True,  True, False,  True]]))"
      ]
     },
     "execution_count": 20,
     "metadata": {},
     "output_type": "execute_result"
    }
   ],
   "source": [
    "signed_a = a_blk.clone()\n",
    "signed_a.fill_diagonal_(1.0)                       # self-loops are positive\n",
    "mask = (signed_a != 0)  \n",
    "mask.size(), mask"
   ]
  },
  {
   "cell_type": "code",
   "execution_count": 21,
   "id": "6877cbc7-0ee6-4901-b190-89840c8eb921",
   "metadata": {},
   "outputs": [
    {
     "data": {
      "text/plain": [
       "(torch.Size([24, 24, 1]),\n",
       " tensor([[[ 1.],\n",
       "          [ 0.],\n",
       "          [ 0.],\n",
       "          [ 0.],\n",
       "          [ 1.],\n",
       "          [-1.],\n",
       "          [ 0.],\n",
       "          [ 0.],\n",
       "          [ 0.],\n",
       "          [ 0.],\n",
       "          [ 0.],\n",
       "          [ 0.],\n",
       "          [ 0.],\n",
       "          [ 0.],\n",
       "          [ 0.],\n",
       "          [ 0.],\n",
       "          [ 0.],\n",
       "          [ 0.],\n",
       "          [ 0.],\n",
       "          [ 0.],\n",
       "          [ 0.],\n",
       "          [ 0.],\n",
       "          [ 0.],\n",
       "          [ 0.]],\n",
       " \n",
       "         [[ 0.],\n",
       "          [ 1.],\n",
       "          [ 0.],\n",
       "          [ 0.],\n",
       "          [ 1.],\n",
       "          [-1.],\n",
       "          [ 0.],\n",
       "          [ 0.],\n",
       "          [ 0.],\n",
       "          [ 0.],\n",
       "          [ 0.],\n",
       "          [ 0.],\n",
       "          [ 0.],\n",
       "          [ 0.],\n",
       "          [ 0.],\n",
       "          [ 0.],\n",
       "          [ 0.],\n",
       "          [ 0.],\n",
       "          [ 0.],\n",
       "          [ 0.],\n",
       "          [ 0.],\n",
       "          [ 0.],\n",
       "          [ 0.],\n",
       "          [ 0.]],\n",
       " \n",
       "         [[ 0.],\n",
       "          [ 0.],\n",
       "          [ 1.],\n",
       "          [ 0.],\n",
       "          [ 1.],\n",
       "          [-1.],\n",
       "          [ 0.],\n",
       "          [ 0.],\n",
       "          [ 0.],\n",
       "          [ 0.],\n",
       "          [ 0.],\n",
       "          [ 0.],\n",
       "          [ 0.],\n",
       "          [ 0.],\n",
       "          [ 0.],\n",
       "          [ 0.],\n",
       "          [ 0.],\n",
       "          [ 0.],\n",
       "          [ 0.],\n",
       "          [ 0.],\n",
       "          [ 0.],\n",
       "          [ 0.],\n",
       "          [ 0.],\n",
       "          [ 0.]],\n",
       " \n",
       "         [[ 0.],\n",
       "          [ 0.],\n",
       "          [ 0.],\n",
       "          [ 1.],\n",
       "          [-1.],\n",
       "          [ 1.],\n",
       "          [ 0.],\n",
       "          [ 0.],\n",
       "          [ 0.],\n",
       "          [ 0.],\n",
       "          [ 0.],\n",
       "          [ 0.],\n",
       "          [ 0.],\n",
       "          [ 0.],\n",
       "          [ 0.],\n",
       "          [ 0.],\n",
       "          [ 0.],\n",
       "          [ 0.],\n",
       "          [ 0.],\n",
       "          [ 0.],\n",
       "          [ 0.],\n",
       "          [ 0.],\n",
       "          [ 0.],\n",
       "          [ 0.]],\n",
       " \n",
       "         [[ 1.],\n",
       "          [ 1.],\n",
       "          [ 1.],\n",
       "          [-1.],\n",
       "          [ 1.],\n",
       "          [ 0.],\n",
       "          [ 0.],\n",
       "          [ 0.],\n",
       "          [ 0.],\n",
       "          [ 0.],\n",
       "          [ 0.],\n",
       "          [ 0.],\n",
       "          [ 0.],\n",
       "          [ 0.],\n",
       "          [ 0.],\n",
       "          [ 0.],\n",
       "          [ 0.],\n",
       "          [ 0.],\n",
       "          [ 0.],\n",
       "          [ 0.],\n",
       "          [ 0.],\n",
       "          [ 0.],\n",
       "          [ 0.],\n",
       "          [ 0.]],\n",
       " \n",
       "         [[-1.],\n",
       "          [-1.],\n",
       "          [-1.],\n",
       "          [ 1.],\n",
       "          [ 0.],\n",
       "          [ 1.],\n",
       "          [ 0.],\n",
       "          [ 0.],\n",
       "          [ 0.],\n",
       "          [ 0.],\n",
       "          [ 0.],\n",
       "          [ 0.],\n",
       "          [ 0.],\n",
       "          [ 0.],\n",
       "          [ 0.],\n",
       "          [ 0.],\n",
       "          [ 0.],\n",
       "          [ 0.],\n",
       "          [ 0.],\n",
       "          [ 0.],\n",
       "          [ 0.],\n",
       "          [ 0.],\n",
       "          [ 0.],\n",
       "          [ 0.]],\n",
       " \n",
       "         [[ 0.],\n",
       "          [ 0.],\n",
       "          [ 0.],\n",
       "          [ 0.],\n",
       "          [ 0.],\n",
       "          [ 0.],\n",
       "          [ 1.],\n",
       "          [ 0.],\n",
       "          [ 0.],\n",
       "          [ 0.],\n",
       "          [ 1.],\n",
       "          [ 1.],\n",
       "          [ 0.],\n",
       "          [ 0.],\n",
       "          [ 0.],\n",
       "          [ 0.],\n",
       "          [ 0.],\n",
       "          [ 0.],\n",
       "          [ 0.],\n",
       "          [ 0.],\n",
       "          [ 0.],\n",
       "          [ 0.],\n",
       "          [ 0.],\n",
       "          [ 0.]],\n",
       " \n",
       "         [[ 0.],\n",
       "          [ 0.],\n",
       "          [ 0.],\n",
       "          [ 0.],\n",
       "          [ 0.],\n",
       "          [ 0.],\n",
       "          [ 0.],\n",
       "          [ 1.],\n",
       "          [ 0.],\n",
       "          [ 0.],\n",
       "          [-1.],\n",
       "          [ 1.],\n",
       "          [ 0.],\n",
       "          [ 0.],\n",
       "          [ 0.],\n",
       "          [ 0.],\n",
       "          [ 0.],\n",
       "          [ 0.],\n",
       "          [ 0.],\n",
       "          [ 0.],\n",
       "          [ 0.],\n",
       "          [ 0.],\n",
       "          [ 0.],\n",
       "          [ 0.]],\n",
       " \n",
       "         [[ 0.],\n",
       "          [ 0.],\n",
       "          [ 0.],\n",
       "          [ 0.],\n",
       "          [ 0.],\n",
       "          [ 0.],\n",
       "          [ 0.],\n",
       "          [ 0.],\n",
       "          [ 1.],\n",
       "          [ 0.],\n",
       "          [ 1.],\n",
       "          [-1.],\n",
       "          [ 0.],\n",
       "          [ 0.],\n",
       "          [ 0.],\n",
       "          [ 0.],\n",
       "          [ 0.],\n",
       "          [ 0.],\n",
       "          [ 0.],\n",
       "          [ 0.],\n",
       "          [ 0.],\n",
       "          [ 0.],\n",
       "          [ 0.],\n",
       "          [ 0.]],\n",
       " \n",
       "         [[ 0.],\n",
       "          [ 0.],\n",
       "          [ 0.],\n",
       "          [ 0.],\n",
       "          [ 0.],\n",
       "          [ 0.],\n",
       "          [ 0.],\n",
       "          [ 0.],\n",
       "          [ 0.],\n",
       "          [ 1.],\n",
       "          [-1.],\n",
       "          [ 1.],\n",
       "          [ 0.],\n",
       "          [ 0.],\n",
       "          [ 0.],\n",
       "          [ 0.],\n",
       "          [ 0.],\n",
       "          [ 0.],\n",
       "          [ 0.],\n",
       "          [ 0.],\n",
       "          [ 0.],\n",
       "          [ 0.],\n",
       "          [ 0.],\n",
       "          [ 0.]],\n",
       " \n",
       "         [[ 0.],\n",
       "          [ 0.],\n",
       "          [ 0.],\n",
       "          [ 0.],\n",
       "          [ 0.],\n",
       "          [ 0.],\n",
       "          [ 1.],\n",
       "          [-1.],\n",
       "          [ 1.],\n",
       "          [-1.],\n",
       "          [ 1.],\n",
       "          [ 0.],\n",
       "          [ 0.],\n",
       "          [ 0.],\n",
       "          [ 0.],\n",
       "          [ 0.],\n",
       "          [ 0.],\n",
       "          [ 0.],\n",
       "          [ 0.],\n",
       "          [ 0.],\n",
       "          [ 0.],\n",
       "          [ 0.],\n",
       "          [ 0.],\n",
       "          [ 0.]],\n",
       " \n",
       "         [[ 0.],\n",
       "          [ 0.],\n",
       "          [ 0.],\n",
       "          [ 0.],\n",
       "          [ 0.],\n",
       "          [ 0.],\n",
       "          [ 1.],\n",
       "          [ 1.],\n",
       "          [-1.],\n",
       "          [ 1.],\n",
       "          [ 0.],\n",
       "          [ 1.],\n",
       "          [ 0.],\n",
       "          [ 0.],\n",
       "          [ 0.],\n",
       "          [ 0.],\n",
       "          [ 0.],\n",
       "          [ 0.],\n",
       "          [ 0.],\n",
       "          [ 0.],\n",
       "          [ 0.],\n",
       "          [ 0.],\n",
       "          [ 0.],\n",
       "          [ 0.]],\n",
       " \n",
       "         [[ 0.],\n",
       "          [ 0.],\n",
       "          [ 0.],\n",
       "          [ 0.],\n",
       "          [ 0.],\n",
       "          [ 0.],\n",
       "          [ 0.],\n",
       "          [ 0.],\n",
       "          [ 0.],\n",
       "          [ 0.],\n",
       "          [ 0.],\n",
       "          [ 0.],\n",
       "          [ 1.],\n",
       "          [ 0.],\n",
       "          [ 0.],\n",
       "          [ 0.],\n",
       "          [-1.],\n",
       "          [ 1.],\n",
       "          [ 0.],\n",
       "          [ 0.],\n",
       "          [ 0.],\n",
       "          [ 0.],\n",
       "          [ 0.],\n",
       "          [ 0.]],\n",
       " \n",
       "         [[ 0.],\n",
       "          [ 0.],\n",
       "          [ 0.],\n",
       "          [ 0.],\n",
       "          [ 0.],\n",
       "          [ 0.],\n",
       "          [ 0.],\n",
       "          [ 0.],\n",
       "          [ 0.],\n",
       "          [ 0.],\n",
       "          [ 0.],\n",
       "          [ 0.],\n",
       "          [ 0.],\n",
       "          [ 1.],\n",
       "          [ 0.],\n",
       "          [ 0.],\n",
       "          [-1.],\n",
       "          [-1.],\n",
       "          [ 0.],\n",
       "          [ 0.],\n",
       "          [ 0.],\n",
       "          [ 0.],\n",
       "          [ 0.],\n",
       "          [ 0.]],\n",
       " \n",
       "         [[ 0.],\n",
       "          [ 0.],\n",
       "          [ 0.],\n",
       "          [ 0.],\n",
       "          [ 0.],\n",
       "          [ 0.],\n",
       "          [ 0.],\n",
       "          [ 0.],\n",
       "          [ 0.],\n",
       "          [ 0.],\n",
       "          [ 0.],\n",
       "          [ 0.],\n",
       "          [ 0.],\n",
       "          [ 0.],\n",
       "          [ 1.],\n",
       "          [ 0.],\n",
       "          [ 1.],\n",
       "          [-1.],\n",
       "          [ 0.],\n",
       "          [ 0.],\n",
       "          [ 0.],\n",
       "          [ 0.],\n",
       "          [ 0.],\n",
       "          [ 0.]],\n",
       " \n",
       "         [[ 0.],\n",
       "          [ 0.],\n",
       "          [ 0.],\n",
       "          [ 0.],\n",
       "          [ 0.],\n",
       "          [ 0.],\n",
       "          [ 0.],\n",
       "          [ 0.],\n",
       "          [ 0.],\n",
       "          [ 0.],\n",
       "          [ 0.],\n",
       "          [ 0.],\n",
       "          [ 0.],\n",
       "          [ 0.],\n",
       "          [ 0.],\n",
       "          [ 1.],\n",
       "          [-1.],\n",
       "          [ 1.],\n",
       "          [ 0.],\n",
       "          [ 0.],\n",
       "          [ 0.],\n",
       "          [ 0.],\n",
       "          [ 0.],\n",
       "          [ 0.]],\n",
       " \n",
       "         [[ 0.],\n",
       "          [ 0.],\n",
       "          [ 0.],\n",
       "          [ 0.],\n",
       "          [ 0.],\n",
       "          [ 0.],\n",
       "          [ 0.],\n",
       "          [ 0.],\n",
       "          [ 0.],\n",
       "          [ 0.],\n",
       "          [ 0.],\n",
       "          [ 0.],\n",
       "          [-1.],\n",
       "          [-1.],\n",
       "          [ 1.],\n",
       "          [-1.],\n",
       "          [ 1.],\n",
       "          [ 0.],\n",
       "          [ 0.],\n",
       "          [ 0.],\n",
       "          [ 0.],\n",
       "          [ 0.],\n",
       "          [ 0.],\n",
       "          [ 0.]],\n",
       " \n",
       "         [[ 0.],\n",
       "          [ 0.],\n",
       "          [ 0.],\n",
       "          [ 0.],\n",
       "          [ 0.],\n",
       "          [ 0.],\n",
       "          [ 0.],\n",
       "          [ 0.],\n",
       "          [ 0.],\n",
       "          [ 0.],\n",
       "          [ 0.],\n",
       "          [ 0.],\n",
       "          [ 1.],\n",
       "          [-1.],\n",
       "          [-1.],\n",
       "          [ 1.],\n",
       "          [ 0.],\n",
       "          [ 1.],\n",
       "          [ 0.],\n",
       "          [ 0.],\n",
       "          [ 0.],\n",
       "          [ 0.],\n",
       "          [ 0.],\n",
       "          [ 0.]],\n",
       " \n",
       "         [[ 0.],\n",
       "          [ 0.],\n",
       "          [ 0.],\n",
       "          [ 0.],\n",
       "          [ 0.],\n",
       "          [ 0.],\n",
       "          [ 0.],\n",
       "          [ 0.],\n",
       "          [ 0.],\n",
       "          [ 0.],\n",
       "          [ 0.],\n",
       "          [ 0.],\n",
       "          [ 0.],\n",
       "          [ 0.],\n",
       "          [ 0.],\n",
       "          [ 0.],\n",
       "          [ 0.],\n",
       "          [ 0.],\n",
       "          [ 1.],\n",
       "          [ 0.],\n",
       "          [ 0.],\n",
       "          [ 0.],\n",
       "          [-1.],\n",
       "          [-1.]],\n",
       " \n",
       "         [[ 0.],\n",
       "          [ 0.],\n",
       "          [ 0.],\n",
       "          [ 0.],\n",
       "          [ 0.],\n",
       "          [ 0.],\n",
       "          [ 0.],\n",
       "          [ 0.],\n",
       "          [ 0.],\n",
       "          [ 0.],\n",
       "          [ 0.],\n",
       "          [ 0.],\n",
       "          [ 0.],\n",
       "          [ 0.],\n",
       "          [ 0.],\n",
       "          [ 0.],\n",
       "          [ 0.],\n",
       "          [ 0.],\n",
       "          [ 0.],\n",
       "          [ 1.],\n",
       "          [ 0.],\n",
       "          [ 0.],\n",
       "          [ 1.],\n",
       "          [-1.]],\n",
       " \n",
       "         [[ 0.],\n",
       "          [ 0.],\n",
       "          [ 0.],\n",
       "          [ 0.],\n",
       "          [ 0.],\n",
       "          [ 0.],\n",
       "          [ 0.],\n",
       "          [ 0.],\n",
       "          [ 0.],\n",
       "          [ 0.],\n",
       "          [ 0.],\n",
       "          [ 0.],\n",
       "          [ 0.],\n",
       "          [ 0.],\n",
       "          [ 0.],\n",
       "          [ 0.],\n",
       "          [ 0.],\n",
       "          [ 0.],\n",
       "          [ 0.],\n",
       "          [ 0.],\n",
       "          [ 1.],\n",
       "          [ 0.],\n",
       "          [-1.],\n",
       "          [ 1.]],\n",
       " \n",
       "         [[ 0.],\n",
       "          [ 0.],\n",
       "          [ 0.],\n",
       "          [ 0.],\n",
       "          [ 0.],\n",
       "          [ 0.],\n",
       "          [ 0.],\n",
       "          [ 0.],\n",
       "          [ 0.],\n",
       "          [ 0.],\n",
       "          [ 0.],\n",
       "          [ 0.],\n",
       "          [ 0.],\n",
       "          [ 0.],\n",
       "          [ 0.],\n",
       "          [ 0.],\n",
       "          [ 0.],\n",
       "          [ 0.],\n",
       "          [ 0.],\n",
       "          [ 0.],\n",
       "          [ 0.],\n",
       "          [ 1.],\n",
       "          [-1.],\n",
       "          [ 1.]],\n",
       " \n",
       "         [[ 0.],\n",
       "          [ 0.],\n",
       "          [ 0.],\n",
       "          [ 0.],\n",
       "          [ 0.],\n",
       "          [ 0.],\n",
       "          [ 0.],\n",
       "          [ 0.],\n",
       "          [ 0.],\n",
       "          [ 0.],\n",
       "          [ 0.],\n",
       "          [ 0.],\n",
       "          [ 0.],\n",
       "          [ 0.],\n",
       "          [ 0.],\n",
       "          [ 0.],\n",
       "          [ 0.],\n",
       "          [ 0.],\n",
       "          [-1.],\n",
       "          [ 1.],\n",
       "          [-1.],\n",
       "          [-1.],\n",
       "          [ 1.],\n",
       "          [ 0.]],\n",
       " \n",
       "         [[ 0.],\n",
       "          [ 0.],\n",
       "          [ 0.],\n",
       "          [ 0.],\n",
       "          [ 0.],\n",
       "          [ 0.],\n",
       "          [ 0.],\n",
       "          [ 0.],\n",
       "          [ 0.],\n",
       "          [ 0.],\n",
       "          [ 0.],\n",
       "          [ 0.],\n",
       "          [ 0.],\n",
       "          [ 0.],\n",
       "          [ 0.],\n",
       "          [ 0.],\n",
       "          [ 0.],\n",
       "          [ 0.],\n",
       "          [-1.],\n",
       "          [-1.],\n",
       "          [ 1.],\n",
       "          [ 1.],\n",
       "          [ 0.],\n",
       "          [ 1.]]]))"
      ]
     },
     "execution_count": 21,
     "metadata": {},
     "output_type": "execute_result"
    }
   ],
   "source": [
    "signed_a = signed_a.unsqueeze(-1) # [M,M,1] sign tensor\n",
    "signed_a.size(), signed_a"
   ]
  },
  {
   "cell_type": "markdown",
   "id": "85d1ceef-c8e9-4bb6-8b04-fc75ab34a81a",
   "metadata": {},
   "source": [
    "##### Feature dropout"
   ]
  },
  {
   "cell_type": "code",
   "execution_count": 22,
   "id": "53b85e40-1fee-4d55-94c6-519937bba395",
   "metadata": {},
   "outputs": [],
   "source": [
    "feat_dropout=0.10\n",
    "gat1_fdrop = nn.Dropout(feat_dropout)"
   ]
  },
  {
   "cell_type": "code",
   "execution_count": 23,
   "id": "79ada000-f653-4874-95f5-20ad38ffc588",
   "metadata": {},
   "outputs": [
    {
     "data": {
      "text/plain": [
       "(torch.Size([24, 6]),\n",
       " tensor([[0.0011, 0.0022, 0.0033, 0.0044, 0.0056, 0.0067],\n",
       "         [0.0022, 0.0033, 0.0044, 0.0056, 0.0000, 0.0000],\n",
       "         [0.0033, 0.0044, 0.0056, 0.0067, 0.0078, 0.0089],\n",
       "         [0.0044, 0.0000, 0.0067, 0.0078, 0.0089, 0.0100],\n",
       "         [0.0056, 0.0000, 0.0078, 0.0089, 0.0100, 0.0111],\n",
       "         [0.0067, 0.0078, 0.0089, 0.0100, 0.0111, 0.0000],\n",
       "         [0.0011, 0.0000, 0.0033, 0.0044, 0.0056, 0.0067],\n",
       "         [0.0022, 0.0033, 0.0044, 0.0056, 0.0067, 0.0078],\n",
       "         [0.0033, 0.0044, 0.0056, 0.0067, 0.0078, 0.0089],\n",
       "         [0.0044, 0.0056, 0.0067, 0.0000, 0.0089, 0.0100],\n",
       "         [0.0056, 0.0067, 0.0078, 0.0089, 0.0100, 0.0111],\n",
       "         [0.0067, 0.0078, 0.0089, 0.0100, 0.0111, 0.0122],\n",
       "         [0.0011, 0.0022, 0.0033, 0.0044, 0.0056, 0.0000],\n",
       "         [0.0022, 0.0033, 0.0044, 0.0056, 0.0067, 0.0078],\n",
       "         [0.0033, 0.0044, 0.0056, 0.0000, 0.0078, 0.0089],\n",
       "         [0.0044, 0.0056, 0.0067, 0.0078, 0.0089, 0.0100],\n",
       "         [0.0056, 0.0067, 0.0078, 0.0089, 0.0100, 0.0111],\n",
       "         [0.0067, 0.0000, 0.0089, 0.0100, 0.0111, 0.0122],\n",
       "         [0.0011, 0.0022, 0.0033, 0.0044, 0.0056, 0.0067],\n",
       "         [0.0022, 0.0033, 0.0044, 0.0056, 0.0000, 0.0078],\n",
       "         [0.0033, 0.0044, 0.0056, 0.0067, 0.0000, 0.0089],\n",
       "         [0.0044, 0.0056, 0.0067, 0.0078, 0.0089, 0.0100],\n",
       "         [0.0056, 0.0067, 0.0000, 0.0089, 0.0000, 0.0111],\n",
       "         [0.0067, 0.0078, 0.0089, 0.0100, 0.0111, 0.0122]],\n",
       "        grad_fn=<MulBackward0>))"
      ]
     },
     "execution_count": 23,
     "metadata": {},
     "output_type": "execute_result"
    }
   ],
   "source": [
    "x_drop = gat1_fdrop(x)\n",
    "x_drop.size(), x_drop"
   ]
  },
  {
   "cell_type": "markdown",
   "id": "cf290524-6fd3-437b-b0a0-c0daf6aede45",
   "metadata": {},
   "source": [
    "##### per-head linear projection\n",
    "Broadcast `x_drop` across heads and multiply by per-head W: `[H,M,I] @ [H,I,O] -> [H,M,O]`\n"
   ]
  },
  {
   "cell_type": "code",
   "execution_count": 24,
   "id": "430ccf9d-ea50-43ff-886a-0edc83083de4",
   "metadata": {},
   "outputs": [],
   "source": [
    "def pyramid_weight(h, w, base=0.01, dtype=torch.float32):\n",
    "    r = torch.arange(h, dtype=dtype)\n",
    "    c = torch.arange(w, dtype=dtype)\n",
    "    drow = torch.minimum(r, (h - 1) - r)\n",
    "    dcol = torch.minimum(c, (w - 1) - c)\n",
    "    return base * (1 + drow)[:, None] * (1 + dcol)[None, :]"
   ]
  },
  {
   "cell_type": "code",
   "execution_count": 25,
   "id": "215dc07f-30a5-4f87-8b7c-7484bb3199e0",
   "metadata": {},
   "outputs": [
    {
     "data": {
      "text/plain": [
       "(torch.Size([2, 6, 3]),\n",
       " Parameter containing:\n",
       " tensor([[[0.0100, 0.0200, 0.0100],\n",
       "          [0.0200, 0.0400, 0.0200],\n",
       "          [0.0300, 0.0600, 0.0300],\n",
       "          [0.0300, 0.0600, 0.0300],\n",
       "          [0.0200, 0.0400, 0.0200],\n",
       "          [0.0100, 0.0200, 0.0100]],\n",
       " \n",
       "         [[0.0100, 0.0200, 0.0100],\n",
       "          [0.0200, 0.0400, 0.0200],\n",
       "          [0.0300, 0.0600, 0.0300],\n",
       "          [0.0300, 0.0600, 0.0300],\n",
       "          [0.0200, 0.0400, 0.0200],\n",
       "          [0.0100, 0.0200, 0.0100]]], requires_grad=True))"
      ]
     },
     "execution_count": 25,
     "metadata": {},
     "output_type": "execute_result"
    }
   ],
   "source": [
    "gat1_attn_w = nn.Parameter(torch.empty(heads, n_embd, head_dim))\n",
    "with torch.no_grad(): \n",
    "    gat1_attn_w.copy_(pyramid_weight(n_embd, head_dim))\n",
    "gat1_attn_w.size(), gat1_attn_w"
   ]
  },
  {
   "cell_type": "code",
   "execution_count": 26,
   "id": "720d3dff-3212-47aa-b313-b4eeb5cd14f1",
   "metadata": {},
   "outputs": [
    {
     "data": {
      "text/plain": [
       "(24, 2, 3)"
      ]
     },
     "execution_count": 26,
     "metadata": {},
     "output_type": "execute_result"
    }
   ],
   "source": [
    "M = x_drop.size(0)\n",
    "H = gat1_attn_w.size(0)\n",
    "O = gat1_attn_w.size(2)\n",
    "M, H, O"
   ]
  },
  {
   "cell_type": "code",
   "execution_count": 27,
   "id": "75568042-015f-4b4c-883c-2ba8c2d085c1",
   "metadata": {},
   "outputs": [
    {
     "data": {
      "text/plain": [
       "(torch.Size([2, 24, 3]),\n",
       " tensor([[[0.0005, 0.0009, 0.0005],\n",
       "          [0.0004, 0.0008, 0.0004],\n",
       "          [0.0007, 0.0015, 0.0007],\n",
       "          [0.0008, 0.0015, 0.0008],\n",
       "          [0.0009, 0.0017, 0.0009],\n",
       "          [0.0010, 0.0020, 0.0010],\n",
       "          [0.0004, 0.0008, 0.0004],\n",
       "          [0.0006, 0.0012, 0.0006],\n",
       "          [0.0007, 0.0015, 0.0007],\n",
       "          [0.0006, 0.0013, 0.0006],\n",
       "          [0.0010, 0.0020, 0.0010],\n",
       "          [0.0011, 0.0023, 0.0011],\n",
       "          [0.0004, 0.0008, 0.0004],\n",
       "          [0.0006, 0.0012, 0.0006],\n",
       "          [0.0005, 0.0011, 0.0005],\n",
       "          [0.0009, 0.0017, 0.0009],\n",
       "          [0.0010, 0.0020, 0.0010],\n",
       "          [0.0010, 0.0020, 0.0010],\n",
       "          [0.0005, 0.0009, 0.0005],\n",
       "          [0.0005, 0.0009, 0.0005],\n",
       "          [0.0006, 0.0012, 0.0006],\n",
       "          [0.0009, 0.0017, 0.0009],\n",
       "          [0.0006, 0.0011, 0.0006],\n",
       "          [0.0011, 0.0023, 0.0011]],\n",
       " \n",
       "         [[0.0005, 0.0009, 0.0005],\n",
       "          [0.0004, 0.0008, 0.0004],\n",
       "          [0.0007, 0.0015, 0.0007],\n",
       "          [0.0008, 0.0015, 0.0008],\n",
       "          [0.0009, 0.0017, 0.0009],\n",
       "          [0.0010, 0.0020, 0.0010],\n",
       "          [0.0004, 0.0008, 0.0004],\n",
       "          [0.0006, 0.0012, 0.0006],\n",
       "          [0.0007, 0.0015, 0.0007],\n",
       "          [0.0006, 0.0013, 0.0006],\n",
       "          [0.0010, 0.0020, 0.0010],\n",
       "          [0.0011, 0.0023, 0.0011],\n",
       "          [0.0004, 0.0008, 0.0004],\n",
       "          [0.0006, 0.0012, 0.0006],\n",
       "          [0.0005, 0.0011, 0.0005],\n",
       "          [0.0009, 0.0017, 0.0009],\n",
       "          [0.0010, 0.0020, 0.0010],\n",
       "          [0.0010, 0.0020, 0.0010],\n",
       "          [0.0005, 0.0009, 0.0005],\n",
       "          [0.0005, 0.0009, 0.0005],\n",
       "          [0.0006, 0.0012, 0.0006],\n",
       "          [0.0009, 0.0017, 0.0009],\n",
       "          [0.0006, 0.0011, 0.0006],\n",
       "          [0.0011, 0.0023, 0.0011]]], grad_fn=<CloneBackward0>))"
      ]
     },
     "execution_count": 27,
     "metadata": {},
     "output_type": "execute_result"
    }
   ],
   "source": [
    "Hproj = x_drop @ gat1_attn_w\n",
    "Hproj.size(), Hproj"
   ]
  },
  {
   "cell_type": "code",
   "execution_count": 28,
   "id": "6dc78900-6f72-4baa-b5c5-f5d170703d5c",
   "metadata": {},
   "outputs": [
    {
     "data": {
      "text/plain": [
       "(torch.Size([24, 2, 3]),\n",
       " tensor([[[0.0005, 0.0009, 0.0005],\n",
       "          [0.0005, 0.0009, 0.0005]],\n",
       " \n",
       "         [[0.0004, 0.0008, 0.0004],\n",
       "          [0.0004, 0.0008, 0.0004]],\n",
       " \n",
       "         [[0.0007, 0.0015, 0.0007],\n",
       "          [0.0007, 0.0015, 0.0007]],\n",
       " \n",
       "         [[0.0008, 0.0015, 0.0008],\n",
       "          [0.0008, 0.0015, 0.0008]],\n",
       " \n",
       "         [[0.0009, 0.0017, 0.0009],\n",
       "          [0.0009, 0.0017, 0.0009]],\n",
       " \n",
       "         [[0.0010, 0.0020, 0.0010],\n",
       "          [0.0010, 0.0020, 0.0010]],\n",
       " \n",
       "         [[0.0004, 0.0008, 0.0004],\n",
       "          [0.0004, 0.0008, 0.0004]],\n",
       " \n",
       "         [[0.0006, 0.0012, 0.0006],\n",
       "          [0.0006, 0.0012, 0.0006]],\n",
       " \n",
       "         [[0.0007, 0.0015, 0.0007],\n",
       "          [0.0007, 0.0015, 0.0007]],\n",
       " \n",
       "         [[0.0006, 0.0013, 0.0006],\n",
       "          [0.0006, 0.0013, 0.0006]],\n",
       " \n",
       "         [[0.0010, 0.0020, 0.0010],\n",
       "          [0.0010, 0.0020, 0.0010]],\n",
       " \n",
       "         [[0.0011, 0.0023, 0.0011],\n",
       "          [0.0011, 0.0023, 0.0011]],\n",
       " \n",
       "         [[0.0004, 0.0008, 0.0004],\n",
       "          [0.0004, 0.0008, 0.0004]],\n",
       " \n",
       "         [[0.0006, 0.0012, 0.0006],\n",
       "          [0.0006, 0.0012, 0.0006]],\n",
       " \n",
       "         [[0.0005, 0.0011, 0.0005],\n",
       "          [0.0005, 0.0011, 0.0005]],\n",
       " \n",
       "         [[0.0009, 0.0017, 0.0009],\n",
       "          [0.0009, 0.0017, 0.0009]],\n",
       " \n",
       "         [[0.0010, 0.0020, 0.0010],\n",
       "          [0.0010, 0.0020, 0.0010]],\n",
       " \n",
       "         [[0.0010, 0.0020, 0.0010],\n",
       "          [0.0010, 0.0020, 0.0010]],\n",
       " \n",
       "         [[0.0005, 0.0009, 0.0005],\n",
       "          [0.0005, 0.0009, 0.0005]],\n",
       " \n",
       "         [[0.0005, 0.0009, 0.0005],\n",
       "          [0.0005, 0.0009, 0.0005]],\n",
       " \n",
       "         [[0.0006, 0.0012, 0.0006],\n",
       "          [0.0006, 0.0012, 0.0006]],\n",
       " \n",
       "         [[0.0009, 0.0017, 0.0009],\n",
       "          [0.0009, 0.0017, 0.0009]],\n",
       " \n",
       "         [[0.0006, 0.0011, 0.0006],\n",
       "          [0.0006, 0.0011, 0.0006]],\n",
       " \n",
       "         [[0.0011, 0.0023, 0.0011],\n",
       "          [0.0011, 0.0023, 0.0011]]], grad_fn=<PermuteBackward0>))"
      ]
     },
     "execution_count": 28,
     "metadata": {},
     "output_type": "execute_result"
    }
   ],
   "source": [
    "Hproj = Hproj.permute(1, 0, 2) \n",
    "Hproj.size(), Hproj"
   ]
  },
  {
   "cell_type": "markdown",
   "id": "0f665f5f-b9f0-4992-af46-4564c90e2269",
   "metadata": {},
   "source": [
    "##### attention logits e_ij per head\n",
    "Compute node-wise scores for each head, then combine to pairwise:"
   ]
  },
  {
   "cell_type": "code",
   "execution_count": 29,
   "id": "579bb1df-e198-4f10-9538-34960698d153",
   "metadata": {},
   "outputs": [
    {
     "data": {
      "text/plain": [
       "(torch.Size([2, 3, 1]),\n",
       " Parameter containing:\n",
       " tensor([[[0.0100],\n",
       "          [0.0200],\n",
       "          [0.0300]],\n",
       " \n",
       "         [[0.0100],\n",
       "          [0.0200],\n",
       "          [0.0300]]], requires_grad=True))"
      ]
     },
     "execution_count": 29,
     "metadata": {},
     "output_type": "execute_result"
    }
   ],
   "source": [
    "gat1_attn_src = nn.Parameter(torch.empty(heads, head_dim, 1))\n",
    "with torch.no_grad(): \n",
    "    src_pattern = torch.tensor([[0.01],[0.02],[0.03]])\n",
    "    gat1_attn_src.copy_(src_pattern)\n",
    "gat1_attn_src.size(), gat1_attn_src"
   ]
  },
  {
   "cell_type": "code",
   "execution_count": 30,
   "id": "27deba46-b353-4134-bea3-8f2f5cedc43e",
   "metadata": {},
   "outputs": [
    {
     "data": {
      "text/plain": [
       "(torch.Size([2, 3, 1]),\n",
       " Parameter containing:\n",
       " tensor([[[0.0200],\n",
       "          [0.0100],\n",
       "          [0.0200]],\n",
       " \n",
       "         [[0.0200],\n",
       "          [0.0100],\n",
       "          [0.0200]]], requires_grad=True))"
      ]
     },
     "execution_count": 30,
     "metadata": {},
     "output_type": "execute_result"
    }
   ],
   "source": [
    "gat1_attn_dst = nn.Parameter(torch.empty(heads, head_dim, 1))\n",
    "with torch.no_grad(): \n",
    "    dst_pattern = torch.tensor([[0.02],[0.01],[0.02]])\n",
    "    gat1_attn_dst.copy_(dst_pattern)\n",
    "gat1_attn_dst.size(), gat1_attn_dst"
   ]
  },
  {
   "cell_type": "code",
   "execution_count": 31,
   "id": "0162276f-28ea-4de7-b0d7-2d60a7a1b3d4",
   "metadata": {},
   "outputs": [
    {
     "data": {
      "text/plain": [
       "(torch.Size([2, 24, 3]),\n",
       " tensor([[[0.0005, 0.0009, 0.0005],\n",
       "          [0.0004, 0.0008, 0.0004],\n",
       "          [0.0007, 0.0015, 0.0007],\n",
       "          [0.0008, 0.0015, 0.0008],\n",
       "          [0.0009, 0.0017, 0.0009],\n",
       "          [0.0010, 0.0020, 0.0010],\n",
       "          [0.0004, 0.0008, 0.0004],\n",
       "          [0.0006, 0.0012, 0.0006],\n",
       "          [0.0007, 0.0015, 0.0007],\n",
       "          [0.0006, 0.0013, 0.0006],\n",
       "          [0.0010, 0.0020, 0.0010],\n",
       "          [0.0011, 0.0023, 0.0011],\n",
       "          [0.0004, 0.0008, 0.0004],\n",
       "          [0.0006, 0.0012, 0.0006],\n",
       "          [0.0005, 0.0011, 0.0005],\n",
       "          [0.0009, 0.0017, 0.0009],\n",
       "          [0.0010, 0.0020, 0.0010],\n",
       "          [0.0010, 0.0020, 0.0010],\n",
       "          [0.0005, 0.0009, 0.0005],\n",
       "          [0.0005, 0.0009, 0.0005],\n",
       "          [0.0006, 0.0012, 0.0006],\n",
       "          [0.0009, 0.0017, 0.0009],\n",
       "          [0.0006, 0.0011, 0.0006],\n",
       "          [0.0011, 0.0023, 0.0011]],\n",
       " \n",
       "         [[0.0005, 0.0009, 0.0005],\n",
       "          [0.0004, 0.0008, 0.0004],\n",
       "          [0.0007, 0.0015, 0.0007],\n",
       "          [0.0008, 0.0015, 0.0008],\n",
       "          [0.0009, 0.0017, 0.0009],\n",
       "          [0.0010, 0.0020, 0.0010],\n",
       "          [0.0004, 0.0008, 0.0004],\n",
       "          [0.0006, 0.0012, 0.0006],\n",
       "          [0.0007, 0.0015, 0.0007],\n",
       "          [0.0006, 0.0013, 0.0006],\n",
       "          [0.0010, 0.0020, 0.0010],\n",
       "          [0.0011, 0.0023, 0.0011],\n",
       "          [0.0004, 0.0008, 0.0004],\n",
       "          [0.0006, 0.0012, 0.0006],\n",
       "          [0.0005, 0.0011, 0.0005],\n",
       "          [0.0009, 0.0017, 0.0009],\n",
       "          [0.0010, 0.0020, 0.0010],\n",
       "          [0.0010, 0.0020, 0.0010],\n",
       "          [0.0005, 0.0009, 0.0005],\n",
       "          [0.0005, 0.0009, 0.0005],\n",
       "          [0.0006, 0.0012, 0.0006],\n",
       "          [0.0009, 0.0017, 0.0009],\n",
       "          [0.0006, 0.0011, 0.0006],\n",
       "          [0.0011, 0.0023, 0.0011]]], grad_fn=<PermuteBackward0>))"
      ]
     },
     "execution_count": 31,
     "metadata": {},
     "output_type": "execute_result"
    }
   ],
   "source": [
    "Hh = Hproj.permute(1, 0, 2)\n",
    "Hh.size(), Hh"
   ]
  },
  {
   "cell_type": "code",
   "execution_count": 34,
   "id": "a2f2a083-111e-4842-81db-2837786a64b5",
   "metadata": {},
   "outputs": [
    {
     "data": {
      "text/plain": [
       "(torch.Size([2, 24, 1]),\n",
       " tensor([[[3.7333e-05],\n",
       "          [3.1111e-05],\n",
       "          [5.8667e-05],\n",
       "          [6.0444e-05],\n",
       "          [6.9333e-05],\n",
       "          [8.0889e-05],\n",
       "          [3.3778e-05],\n",
       "          [4.8000e-05],\n",
       "          [5.8667e-05],\n",
       "          [5.0667e-05],\n",
       "          [8.0000e-05],\n",
       "          [9.0667e-05],\n",
       "          [3.2000e-05],\n",
       "          [4.8000e-05],\n",
       "          [4.2667e-05],\n",
       "          [6.9333e-05],\n",
       "          [8.0000e-05],\n",
       "          [7.8222e-05],\n",
       "          [3.7333e-05],\n",
       "          [3.7333e-05],\n",
       "          [4.6222e-05],\n",
       "          [6.9333e-05],\n",
       "          [4.5333e-05],\n",
       "          [9.0667e-05]],\n",
       " \n",
       "         [[3.7333e-05],\n",
       "          [3.1111e-05],\n",
       "          [5.8667e-05],\n",
       "          [6.0444e-05],\n",
       "          [6.9333e-05],\n",
       "          [8.0889e-05],\n",
       "          [3.3778e-05],\n",
       "          [4.8000e-05],\n",
       "          [5.8667e-05],\n",
       "          [5.0667e-05],\n",
       "          [8.0000e-05],\n",
       "          [9.0667e-05],\n",
       "          [3.2000e-05],\n",
       "          [4.8000e-05],\n",
       "          [4.2667e-05],\n",
       "          [6.9333e-05],\n",
       "          [8.0000e-05],\n",
       "          [7.8222e-05],\n",
       "          [3.7333e-05],\n",
       "          [3.7333e-05],\n",
       "          [4.6222e-05],\n",
       "          [6.9333e-05],\n",
       "          [4.5333e-05],\n",
       "          [9.0667e-05]]], grad_fn=<UnsafeViewBackward0>))"
      ]
     },
     "execution_count": 34,
     "metadata": {},
     "output_type": "execute_result"
    }
   ],
   "source": [
    "e_src = Hh @ gat1_attn_src\n",
    "e_src.size(), e_src"
   ]
  },
  {
   "cell_type": "code",
   "execution_count": 35,
   "id": "46b9a1fe-2b84-4fb7-8e25-cbf31a8481b1",
   "metadata": {},
   "outputs": [
    {
     "data": {
      "text/plain": [
       "(torch.Size([24, 1, 2]),\n",
       " tensor([[[3.7333e-05, 3.7333e-05]],\n",
       " \n",
       "         [[3.1111e-05, 3.1111e-05]],\n",
       " \n",
       "         [[5.8667e-05, 5.8667e-05]],\n",
       " \n",
       "         [[6.0444e-05, 6.0444e-05]],\n",
       " \n",
       "         [[6.9333e-05, 6.9333e-05]],\n",
       " \n",
       "         [[8.0889e-05, 8.0889e-05]],\n",
       " \n",
       "         [[3.3778e-05, 3.3778e-05]],\n",
       " \n",
       "         [[4.8000e-05, 4.8000e-05]],\n",
       " \n",
       "         [[5.8667e-05, 5.8667e-05]],\n",
       " \n",
       "         [[5.0667e-05, 5.0667e-05]],\n",
       " \n",
       "         [[8.0000e-05, 8.0000e-05]],\n",
       " \n",
       "         [[9.0667e-05, 9.0667e-05]],\n",
       " \n",
       "         [[3.2000e-05, 3.2000e-05]],\n",
       " \n",
       "         [[4.8000e-05, 4.8000e-05]],\n",
       " \n",
       "         [[4.2667e-05, 4.2667e-05]],\n",
       " \n",
       "         [[6.9333e-05, 6.9333e-05]],\n",
       " \n",
       "         [[8.0000e-05, 8.0000e-05]],\n",
       " \n",
       "         [[7.8222e-05, 7.8222e-05]],\n",
       " \n",
       "         [[3.7333e-05, 3.7333e-05]],\n",
       " \n",
       "         [[3.7333e-05, 3.7333e-05]],\n",
       " \n",
       "         [[4.6222e-05, 4.6222e-05]],\n",
       " \n",
       "         [[6.9333e-05, 6.9333e-05]],\n",
       " \n",
       "         [[4.5333e-05, 4.5333e-05]],\n",
       " \n",
       "         [[9.0667e-05, 9.0667e-05]]], grad_fn=<UnsqueezeBackward0>))"
      ]
     },
     "execution_count": 35,
     "metadata": {},
     "output_type": "execute_result"
    }
   ],
   "source": [
    "e_src = e_src.squeeze(-1).transpose(0, 1).unsqueeze(1)\n",
    "e_src.size(), e_src"
   ]
  },
  {
   "cell_type": "code",
   "execution_count": 36,
   "id": "9f6a7e13-cfee-426b-ab10-7e6596112f72",
   "metadata": {},
   "outputs": [
    {
     "data": {
      "text/plain": [
       "(torch.Size([2, 24, 1]),\n",
       " tensor([[[2.8000e-05],\n",
       "          [2.3333e-05],\n",
       "          [4.4000e-05],\n",
       "          [4.5333e-05],\n",
       "          [5.2000e-05],\n",
       "          [6.0667e-05],\n",
       "          [2.5333e-05],\n",
       "          [3.6000e-05],\n",
       "          [4.4000e-05],\n",
       "          [3.8000e-05],\n",
       "          [6.0000e-05],\n",
       "          [6.8000e-05],\n",
       "          [2.4000e-05],\n",
       "          [3.6000e-05],\n",
       "          [3.2000e-05],\n",
       "          [5.2000e-05],\n",
       "          [6.0000e-05],\n",
       "          [5.8667e-05],\n",
       "          [2.8000e-05],\n",
       "          [2.8000e-05],\n",
       "          [3.4667e-05],\n",
       "          [5.2000e-05],\n",
       "          [3.4000e-05],\n",
       "          [6.8000e-05]],\n",
       " \n",
       "         [[2.8000e-05],\n",
       "          [2.3333e-05],\n",
       "          [4.4000e-05],\n",
       "          [4.5333e-05],\n",
       "          [5.2000e-05],\n",
       "          [6.0667e-05],\n",
       "          [2.5333e-05],\n",
       "          [3.6000e-05],\n",
       "          [4.4000e-05],\n",
       "          [3.8000e-05],\n",
       "          [6.0000e-05],\n",
       "          [6.8000e-05],\n",
       "          [2.4000e-05],\n",
       "          [3.6000e-05],\n",
       "          [3.2000e-05],\n",
       "          [5.2000e-05],\n",
       "          [6.0000e-05],\n",
       "          [5.8667e-05],\n",
       "          [2.8000e-05],\n",
       "          [2.8000e-05],\n",
       "          [3.4667e-05],\n",
       "          [5.2000e-05],\n",
       "          [3.4000e-05],\n",
       "          [6.8000e-05]]], grad_fn=<UnsafeViewBackward0>))"
      ]
     },
     "execution_count": 36,
     "metadata": {},
     "output_type": "execute_result"
    }
   ],
   "source": [
    "e_dst = Hh @ gat1_attn_dst\n",
    "e_dst.size(), e_dst"
   ]
  },
  {
   "cell_type": "code",
   "execution_count": 37,
   "id": "aef46ff1-c658-4997-a777-129bf1d8c7aa",
   "metadata": {},
   "outputs": [
    {
     "data": {
      "text/plain": [
       "(torch.Size([1, 24, 2]),\n",
       " tensor([[[2.8000e-05, 2.8000e-05],\n",
       "          [2.3333e-05, 2.3333e-05],\n",
       "          [4.4000e-05, 4.4000e-05],\n",
       "          [4.5333e-05, 4.5333e-05],\n",
       "          [5.2000e-05, 5.2000e-05],\n",
       "          [6.0667e-05, 6.0667e-05],\n",
       "          [2.5333e-05, 2.5333e-05],\n",
       "          [3.6000e-05, 3.6000e-05],\n",
       "          [4.4000e-05, 4.4000e-05],\n",
       "          [3.8000e-05, 3.8000e-05],\n",
       "          [6.0000e-05, 6.0000e-05],\n",
       "          [6.8000e-05, 6.8000e-05],\n",
       "          [2.4000e-05, 2.4000e-05],\n",
       "          [3.6000e-05, 3.6000e-05],\n",
       "          [3.2000e-05, 3.2000e-05],\n",
       "          [5.2000e-05, 5.2000e-05],\n",
       "          [6.0000e-05, 6.0000e-05],\n",
       "          [5.8667e-05, 5.8667e-05],\n",
       "          [2.8000e-05, 2.8000e-05],\n",
       "          [2.8000e-05, 2.8000e-05],\n",
       "          [3.4667e-05, 3.4667e-05],\n",
       "          [5.2000e-05, 5.2000e-05],\n",
       "          [3.4000e-05, 3.4000e-05],\n",
       "          [6.8000e-05, 6.8000e-05]]], grad_fn=<UnsqueezeBackward0>))"
      ]
     },
     "execution_count": 37,
     "metadata": {},
     "output_type": "execute_result"
    }
   ],
   "source": [
    "e_dst = e_dst.squeeze(-1).transpose(0, 1).unsqueeze(0) \n",
    "e_dst.size(), e_dst"
   ]
  },
  {
   "cell_type": "code",
   "execution_count": 38,
   "id": "40034e6b-794d-4cfa-926a-18a8d918893c",
   "metadata": {},
   "outputs": [
    {
     "data": {
      "text/plain": [
       "(torch.Size([24, 24, 2]),\n",
       " tensor([[[6.5333e-05, 6.5333e-05],\n",
       "          [6.0667e-05, 6.0667e-05],\n",
       "          [8.1333e-05, 8.1333e-05],\n",
       "          ...,\n",
       "          [8.9333e-05, 8.9333e-05],\n",
       "          [7.1333e-05, 7.1333e-05],\n",
       "          [1.0533e-04, 1.0533e-04]],\n",
       " \n",
       "         [[5.9111e-05, 5.9111e-05],\n",
       "          [5.4444e-05, 5.4444e-05],\n",
       "          [7.5111e-05, 7.5111e-05],\n",
       "          ...,\n",
       "          [8.3111e-05, 8.3111e-05],\n",
       "          [6.5111e-05, 6.5111e-05],\n",
       "          [9.9111e-05, 9.9111e-05]],\n",
       " \n",
       "         [[8.6667e-05, 8.6667e-05],\n",
       "          [8.2000e-05, 8.2000e-05],\n",
       "          [1.0267e-04, 1.0267e-04],\n",
       "          ...,\n",
       "          [1.1067e-04, 1.1067e-04],\n",
       "          [9.2667e-05, 9.2667e-05],\n",
       "          [1.2667e-04, 1.2667e-04]],\n",
       " \n",
       "         ...,\n",
       " \n",
       "         [[9.7333e-05, 9.7333e-05],\n",
       "          [9.2667e-05, 9.2667e-05],\n",
       "          [1.1333e-04, 1.1333e-04],\n",
       "          ...,\n",
       "          [1.2133e-04, 1.2133e-04],\n",
       "          [1.0333e-04, 1.0333e-04],\n",
       "          [1.3733e-04, 1.3733e-04]],\n",
       " \n",
       "         [[7.3333e-05, 7.3333e-05],\n",
       "          [6.8667e-05, 6.8667e-05],\n",
       "          [8.9333e-05, 8.9333e-05],\n",
       "          ...,\n",
       "          [9.7333e-05, 9.7333e-05],\n",
       "          [7.9333e-05, 7.9333e-05],\n",
       "          [1.1333e-04, 1.1333e-04]],\n",
       " \n",
       "         [[1.1867e-04, 1.1867e-04],\n",
       "          [1.1400e-04, 1.1400e-04],\n",
       "          [1.3467e-04, 1.3467e-04],\n",
       "          ...,\n",
       "          [1.4267e-04, 1.4267e-04],\n",
       "          [1.2467e-04, 1.2467e-04],\n",
       "          [1.5867e-04, 1.5867e-04]]], grad_fn=<AddBackward0>))"
      ]
     },
     "execution_count": 38,
     "metadata": {},
     "output_type": "execute_result"
    }
   ],
   "source": [
    "e = e_src + e_dst\n",
    "e.size(), e"
   ]
  },
  {
   "cell_type": "markdown",
   "id": "b2182fd6-20df-48b0-b6cf-4e9dd85d017c",
   "metadata": {},
   "source": [
    "##### inject edge sign into scores\n",
    "inject edge sign into scores (learnable per-head coefficient)"
   ]
  },
  {
   "cell_type": "code",
   "execution_count": 39,
   "id": "d946f0ec-e326-4012-915b-e8f42d4c1ed1",
   "metadata": {},
   "outputs": [
    {
     "data": {
      "text/plain": [
       "(torch.Size([2, 1]),\n",
       " Parameter containing:\n",
       " tensor([[0.0500],\n",
       "         [0.0400]], requires_grad=True))"
      ]
     },
     "execution_count": 39,
     "metadata": {},
     "output_type": "execute_result"
    }
   ],
   "source": [
    "gat1_attn_sign = nn.Parameter(torch.zeros(heads, 1)) \n",
    "with torch.no_grad(): \n",
    "    sign_pattern = torch.tensor([[0.05],[0.04]])\n",
    "    gat1_attn_sign.copy_(sign_pattern)\n",
    "gat1_attn_sign.size(), gat1_attn_sign"
   ]
  },
  {
   "cell_type": "code",
   "execution_count": 41,
   "id": "9ac5ffd7-e677-4295-bcac-f8d0650318d7",
   "metadata": {},
   "outputs": [
    {
     "data": {
      "text/plain": [
       "(torch.Size([24, 24, 2]),\n",
       " tensor([[[ 0.0500,  0.0400],\n",
       "          [ 0.0000,  0.0000],\n",
       "          [ 0.0000,  0.0000],\n",
       "          ...,\n",
       "          [ 0.0000,  0.0000],\n",
       "          [ 0.0000,  0.0000],\n",
       "          [ 0.0000,  0.0000]],\n",
       " \n",
       "         [[ 0.0000,  0.0000],\n",
       "          [ 0.0500,  0.0400],\n",
       "          [ 0.0000,  0.0000],\n",
       "          ...,\n",
       "          [ 0.0000,  0.0000],\n",
       "          [ 0.0000,  0.0000],\n",
       "          [ 0.0000,  0.0000]],\n",
       " \n",
       "         [[ 0.0000,  0.0000],\n",
       "          [ 0.0000,  0.0000],\n",
       "          [ 0.0500,  0.0400],\n",
       "          ...,\n",
       "          [ 0.0000,  0.0000],\n",
       "          [ 0.0000,  0.0000],\n",
       "          [ 0.0000,  0.0000]],\n",
       " \n",
       "         ...,\n",
       " \n",
       "         [[ 0.0000,  0.0000],\n",
       "          [ 0.0000,  0.0000],\n",
       "          [ 0.0000,  0.0000],\n",
       "          ...,\n",
       "          [ 0.0500,  0.0400],\n",
       "          [-0.0500, -0.0400],\n",
       "          [ 0.0500,  0.0400]],\n",
       " \n",
       "         [[ 0.0000,  0.0000],\n",
       "          [ 0.0000,  0.0000],\n",
       "          [ 0.0000,  0.0000],\n",
       "          ...,\n",
       "          [-0.0500, -0.0400],\n",
       "          [ 0.0500,  0.0400],\n",
       "          [ 0.0000,  0.0000]],\n",
       " \n",
       "         [[ 0.0000,  0.0000],\n",
       "          [ 0.0000,  0.0000],\n",
       "          [ 0.0000,  0.0000],\n",
       "          ...,\n",
       "          [ 0.0500,  0.0400],\n",
       "          [ 0.0000,  0.0000],\n",
       "          [ 0.0500,  0.0400]]], grad_fn=<MulBackward0>))"
      ]
     },
     "execution_count": 41,
     "metadata": {},
     "output_type": "execute_result"
    }
   ],
   "source": [
    "e_sig_a = signed_a * gat1_attn_sign.view(1, 1, -1)\n",
    "e_sig_a.size(), e_sig_a"
   ]
  },
  {
   "cell_type": "code",
   "execution_count": 42,
   "id": "a874dcc0-5c78-4e16-8bc3-3eaaa998fb69",
   "metadata": {},
   "outputs": [
    {
     "data": {
      "text/plain": [
       "(torch.Size([24, 24, 2]),\n",
       " tensor([[[ 5.0065e-02,  4.0065e-02],\n",
       "          [ 6.0667e-05,  6.0667e-05],\n",
       "          [ 8.1333e-05,  8.1333e-05],\n",
       "          ...,\n",
       "          [ 8.9333e-05,  8.9333e-05],\n",
       "          [ 7.1333e-05,  7.1333e-05],\n",
       "          [ 1.0533e-04,  1.0533e-04]],\n",
       " \n",
       "         [[ 5.9111e-05,  5.9111e-05],\n",
       "          [ 5.0054e-02,  4.0054e-02],\n",
       "          [ 7.5111e-05,  7.5111e-05],\n",
       "          ...,\n",
       "          [ 8.3111e-05,  8.3111e-05],\n",
       "          [ 6.5111e-05,  6.5111e-05],\n",
       "          [ 9.9111e-05,  9.9111e-05]],\n",
       " \n",
       "         [[ 8.6667e-05,  8.6667e-05],\n",
       "          [ 8.2000e-05,  8.2000e-05],\n",
       "          [ 5.0103e-02,  4.0103e-02],\n",
       "          ...,\n",
       "          [ 1.1067e-04,  1.1067e-04],\n",
       "          [ 9.2667e-05,  9.2667e-05],\n",
       "          [ 1.2667e-04,  1.2667e-04]],\n",
       " \n",
       "         ...,\n",
       " \n",
       "         [[ 9.7333e-05,  9.7333e-05],\n",
       "          [ 9.2667e-05,  9.2667e-05],\n",
       "          [ 1.1333e-04,  1.1333e-04],\n",
       "          ...,\n",
       "          [ 5.0121e-02,  4.0121e-02],\n",
       "          [-4.9897e-02, -3.9897e-02],\n",
       "          [ 5.0137e-02,  4.0137e-02]],\n",
       " \n",
       "         [[ 7.3333e-05,  7.3333e-05],\n",
       "          [ 6.8667e-05,  6.8667e-05],\n",
       "          [ 8.9333e-05,  8.9333e-05],\n",
       "          ...,\n",
       "          [-4.9903e-02, -3.9903e-02],\n",
       "          [ 5.0079e-02,  4.0079e-02],\n",
       "          [ 1.1333e-04,  1.1333e-04]],\n",
       " \n",
       "         [[ 1.1867e-04,  1.1867e-04],\n",
       "          [ 1.1400e-04,  1.1400e-04],\n",
       "          [ 1.3467e-04,  1.3467e-04],\n",
       "          ...,\n",
       "          [ 5.0143e-02,  4.0143e-02],\n",
       "          [ 1.2467e-04,  1.2467e-04],\n",
       "          [ 5.0159e-02,  4.0159e-02]]], grad_fn=<AddBackward0>))"
      ]
     },
     "execution_count": 42,
     "metadata": {},
     "output_type": "execute_result"
    }
   ],
   "source": [
    "e = e + e_sig_a \n",
    "e.size(), e"
   ]
  },
  {
   "cell_type": "markdown",
   "id": "1504fe05-0514-4125-bd20-d5c1bcfac85b",
   "metadata": {},
   "source": [
    "###### regularization"
   ]
  },
  {
   "cell_type": "code",
   "execution_count": 43,
   "id": "bfd85eb6-5308-4df8-be1f-c28694cb080e",
   "metadata": {},
   "outputs": [
    {
     "data": {
      "text/plain": [
       "(torch.Size([24, 24, 2]),\n",
       " tensor([[[ 5.0065e-02,  4.0065e-02],\n",
       "          [ 6.0667e-05,  6.0667e-05],\n",
       "          [ 8.1333e-05,  8.1333e-05],\n",
       "          ...,\n",
       "          [ 8.9333e-05,  8.9333e-05],\n",
       "          [ 7.1333e-05,  7.1333e-05],\n",
       "          [ 1.0533e-04,  1.0533e-04]],\n",
       " \n",
       "         [[ 5.9111e-05,  5.9111e-05],\n",
       "          [ 5.0054e-02,  4.0054e-02],\n",
       "          [ 7.5111e-05,  7.5111e-05],\n",
       "          ...,\n",
       "          [ 8.3111e-05,  8.3111e-05],\n",
       "          [ 6.5111e-05,  6.5111e-05],\n",
       "          [ 9.9111e-05,  9.9111e-05]],\n",
       " \n",
       "         [[ 8.6667e-05,  8.6667e-05],\n",
       "          [ 8.2000e-05,  8.2000e-05],\n",
       "          [ 5.0103e-02,  4.0103e-02],\n",
       "          ...,\n",
       "          [ 1.1067e-04,  1.1067e-04],\n",
       "          [ 9.2667e-05,  9.2667e-05],\n",
       "          [ 1.2667e-04,  1.2667e-04]],\n",
       " \n",
       "         ...,\n",
       " \n",
       "         [[ 9.7333e-05,  9.7333e-05],\n",
       "          [ 9.2667e-05,  9.2667e-05],\n",
       "          [ 1.1333e-04,  1.1333e-04],\n",
       "          ...,\n",
       "          [ 5.0121e-02,  4.0121e-02],\n",
       "          [-9.9793e-03, -7.9793e-03],\n",
       "          [ 5.0137e-02,  4.0137e-02]],\n",
       " \n",
       "         [[ 7.3333e-05,  7.3333e-05],\n",
       "          [ 6.8667e-05,  6.8667e-05],\n",
       "          [ 8.9333e-05,  8.9333e-05],\n",
       "          ...,\n",
       "          [-9.9805e-03, -7.9805e-03],\n",
       "          [ 5.0079e-02,  4.0079e-02],\n",
       "          [ 1.1333e-04,  1.1333e-04]],\n",
       " \n",
       "         [[ 1.1867e-04,  1.1867e-04],\n",
       "          [ 1.1400e-04,  1.1400e-04],\n",
       "          [ 1.3467e-04,  1.3467e-04],\n",
       "          ...,\n",
       "          [ 5.0143e-02,  4.0143e-02],\n",
       "          [ 1.2467e-04,  1.2467e-04],\n",
       "          [ 5.0159e-02,  4.0159e-02]]], grad_fn=<LeakyReluBackward1>))"
      ]
     },
     "execution_count": 43,
     "metadata": {},
     "output_type": "execute_result"
    }
   ],
   "source": [
    "gat1_attn_lrelu = nn.LeakyReLU(0.2, inplace=True)\n",
    "e = gat1_attn_lrelu(e)\n",
    "e.size(), e"
   ]
  },
  {
   "cell_type": "markdown",
   "id": "df8c0ad9-bef6-434a-9b40-b03577b28902",
   "metadata": {},
   "source": [
    "~ is the bitwise NOT operator; on a boolean tensor it’s just logical negation.\n",
    "So if mask is True on existing edges and False on non-edges, then ~mask is True exactly on the non-edges.\n",
    "\n",
    "\n",
    "mask.unsqueeze(-1) → shape [M,M,1], broadcast across the heads dim so it matches e’s [M,M,H].\n",
    "\n",
    "masked_fill(condition, value) writes value where condition is True.\n",
    "Using ~mask means we write -inf on non-edges, so after softmax(dim=1) those entries become zero attention (softmax(-inf)=0), restricting attention to actual neighbors."
   ]
  },
  {
   "cell_type": "code",
   "execution_count": 44,
   "id": "6fdfc7ac-688b-41af-8e0d-570dc1234ce1",
   "metadata": {},
   "outputs": [
    {
     "data": {
      "text/plain": [
       "(torch.Size([24, 24, 2]),\n",
       " tensor([[[ 0.0501,  0.0401],\n",
       "          [   -inf,    -inf],\n",
       "          [   -inf,    -inf],\n",
       "          ...,\n",
       "          [   -inf,    -inf],\n",
       "          [   -inf,    -inf],\n",
       "          [   -inf,    -inf]],\n",
       " \n",
       "         [[   -inf,    -inf],\n",
       "          [ 0.0501,  0.0401],\n",
       "          [   -inf,    -inf],\n",
       "          ...,\n",
       "          [   -inf,    -inf],\n",
       "          [   -inf,    -inf],\n",
       "          [   -inf,    -inf]],\n",
       " \n",
       "         [[   -inf,    -inf],\n",
       "          [   -inf,    -inf],\n",
       "          [ 0.0501,  0.0401],\n",
       "          ...,\n",
       "          [   -inf,    -inf],\n",
       "          [   -inf,    -inf],\n",
       "          [   -inf,    -inf]],\n",
       " \n",
       "         ...,\n",
       " \n",
       "         [[   -inf,    -inf],\n",
       "          [   -inf,    -inf],\n",
       "          [   -inf,    -inf],\n",
       "          ...,\n",
       "          [ 0.0501,  0.0401],\n",
       "          [-0.0100, -0.0080],\n",
       "          [ 0.0501,  0.0401]],\n",
       " \n",
       "         [[   -inf,    -inf],\n",
       "          [   -inf,    -inf],\n",
       "          [   -inf,    -inf],\n",
       "          ...,\n",
       "          [-0.0100, -0.0080],\n",
       "          [ 0.0501,  0.0401],\n",
       "          [   -inf,    -inf]],\n",
       " \n",
       "         [[   -inf,    -inf],\n",
       "          [   -inf,    -inf],\n",
       "          [   -inf,    -inf],\n",
       "          ...,\n",
       "          [ 0.0501,  0.0401],\n",
       "          [   -inf,    -inf],\n",
       "          [ 0.0502,  0.0402]]], grad_fn=<MaskedFillBackward0>))"
      ]
     },
     "execution_count": 44,
     "metadata": {},
     "output_type": "execute_result"
    }
   ],
   "source": [
    "e = e.masked_fill(~mask.unsqueeze(-1), float('-inf'))\n",
    "e.size(), e"
   ]
  },
  {
   "cell_type": "code",
   "execution_count": 45,
   "id": "7f6d0c43-e939-4009-8dd0-728ab4f59b55",
   "metadata": {},
   "outputs": [
    {
     "data": {
      "text/plain": [
       "(torch.Size([24, 24, 2]),\n",
       " tensor([[[0.3399, 0.3386],\n",
       "          [0.0000, 0.0000],\n",
       "          [0.0000, 0.0000],\n",
       "          ...,\n",
       "          [0.0000, 0.0000],\n",
       "          [0.0000, 0.0000],\n",
       "          [0.0000, 0.0000]],\n",
       " \n",
       "         [[0.0000, 0.0000],\n",
       "          [0.3399, 0.3386],\n",
       "          [0.0000, 0.0000],\n",
       "          ...,\n",
       "          [0.0000, 0.0000],\n",
       "          [0.0000, 0.0000],\n",
       "          [0.0000, 0.0000]],\n",
       " \n",
       "         [[0.0000, 0.0000],\n",
       "          [0.0000, 0.0000],\n",
       "          [0.3399, 0.3386],\n",
       "          ...,\n",
       "          [0.0000, 0.0000],\n",
       "          [0.0000, 0.0000],\n",
       "          [0.0000, 0.0000]],\n",
       " \n",
       "         ...,\n",
       " \n",
       "         [[0.0000, 0.0000],\n",
       "          [0.0000, 0.0000],\n",
       "          [0.0000, 0.0000],\n",
       "          ...,\n",
       "          [0.3399, 0.3386],\n",
       "          [0.3201, 0.3227],\n",
       "          [0.3399, 0.3386]],\n",
       " \n",
       "         [[0.0000, 0.0000],\n",
       "          [0.0000, 0.0000],\n",
       "          [0.0000, 0.0000],\n",
       "          ...,\n",
       "          [0.1952, 0.1961],\n",
       "          [0.2072, 0.2058],\n",
       "          [0.0000, 0.0000]],\n",
       " \n",
       "         [[0.0000, 0.0000],\n",
       "          [0.0000, 0.0000],\n",
       "          [0.0000, 0.0000],\n",
       "          ...,\n",
       "          [0.2048, 0.2038],\n",
       "          [0.0000, 0.0000],\n",
       "          [0.2048, 0.2038]]], grad_fn=<SoftmaxBackward0>))"
      ]
     },
     "execution_count": 45,
     "metadata": {},
     "output_type": "execute_result"
    }
   ],
   "source": [
    "alpha = torch.softmax(e, dim=1)\n",
    "alpha.size(), alpha"
   ]
  },
  {
   "cell_type": "markdown",
   "id": "ef4cdf5c-fc8f-4613-b698-f6c53257b313",
   "metadata": {},
   "source": [
    "##### attention dropout"
   ]
  },
  {
   "cell_type": "code",
   "execution_count": 46,
   "id": "e77e16fd-eaed-448e-b57d-a76314ba4516",
   "metadata": {},
   "outputs": [],
   "source": [
    "attn_dropout = 0.05\n",
    "gat1_attn_drop = nn.Dropout(attn_dropout)"
   ]
  },
  {
   "cell_type": "code",
   "execution_count": 47,
   "id": "60cb4a03-178f-45fc-b630-612ca113b4e4",
   "metadata": {},
   "outputs": [
    {
     "data": {
      "text/plain": [
       "(torch.Size([24, 24, 2]),\n",
       " tensor([[[0.3578, 0.3564],\n",
       "          [0.0000, 0.0000],\n",
       "          [0.0000, 0.0000],\n",
       "          ...,\n",
       "          [0.0000, 0.0000],\n",
       "          [0.0000, 0.0000],\n",
       "          [0.0000, 0.0000]],\n",
       " \n",
       "         [[0.0000, 0.0000],\n",
       "          [0.3578, 0.3564],\n",
       "          [0.0000, 0.0000],\n",
       "          ...,\n",
       "          [0.0000, 0.0000],\n",
       "          [0.0000, 0.0000],\n",
       "          [0.0000, 0.0000]],\n",
       " \n",
       "         [[0.0000, 0.0000],\n",
       "          [0.0000, 0.0000],\n",
       "          [0.3578, 0.3565],\n",
       "          ...,\n",
       "          [0.0000, 0.0000],\n",
       "          [0.0000, 0.0000],\n",
       "          [0.0000, 0.0000]],\n",
       " \n",
       "         ...,\n",
       " \n",
       "         [[0.0000, 0.0000],\n",
       "          [0.0000, 0.0000],\n",
       "          [0.0000, 0.0000],\n",
       "          ...,\n",
       "          [0.3578, 0.3565],\n",
       "          [0.3370, 0.3397],\n",
       "          [0.3578, 0.3565]],\n",
       " \n",
       "         [[0.0000, 0.0000],\n",
       "          [0.0000, 0.0000],\n",
       "          [0.0000, 0.0000],\n",
       "          ...,\n",
       "          [0.2054, 0.2065],\n",
       "          [0.2182, 0.2166],\n",
       "          [0.0000, 0.0000]],\n",
       " \n",
       "         [[0.0000, 0.0000],\n",
       "          [0.0000, 0.0000],\n",
       "          [0.0000, 0.0000],\n",
       "          ...,\n",
       "          [0.2156, 0.2146],\n",
       "          [0.0000, 0.0000],\n",
       "          [0.2156, 0.2146]]], grad_fn=<MulBackward0>))"
      ]
     },
     "execution_count": 47,
     "metadata": {},
     "output_type": "execute_result"
    }
   ],
   "source": [
    "alpha = gat1_attn_drop(alpha) \n",
    "alpha.size(), alpha"
   ]
  },
  {
   "cell_type": "markdown",
   "id": "40131fd7-2182-4b1f-bc42-7bff26384dea",
   "metadata": {},
   "source": [
    "##### attention-weighted aggregation\n",
    "\n",
    "multiply neighbor features by edge sign before summing.\n",
    "\n",
    "---- attention-weighted aggregation: out[i,h,:] = sum_j alpha[i,j,h] * Hproj[j,h,:] -----\n",
    "only score-level sign (not message-level)"
   ]
  },
  {
   "cell_type": "code",
   "execution_count": 48,
   "id": "a1a5a99d-6afb-43ff-b3b7-4bc314203006",
   "metadata": {},
   "outputs": [
    {
     "data": {
      "text/plain": [
       "(torch.Size([2, 24, 24]),\n",
       " tensor([[[0.3578, 0.0000, 0.0000,  ..., 0.0000, 0.0000, 0.0000],\n",
       "          [0.0000, 0.3578, 0.0000,  ..., 0.0000, 0.0000, 0.0000],\n",
       "          [0.0000, 0.0000, 0.3578,  ..., 0.0000, 0.0000, 0.0000],\n",
       "          ...,\n",
       "          [0.0000, 0.0000, 0.0000,  ..., 0.3578, 0.3370, 0.3578],\n",
       "          [0.0000, 0.0000, 0.0000,  ..., 0.2054, 0.2182, 0.0000],\n",
       "          [0.0000, 0.0000, 0.0000,  ..., 0.2156, 0.0000, 0.2156]],\n",
       " \n",
       "         [[0.3564, 0.0000, 0.0000,  ..., 0.0000, 0.0000, 0.0000],\n",
       "          [0.0000, 0.3564, 0.0000,  ..., 0.0000, 0.0000, 0.0000],\n",
       "          [0.0000, 0.0000, 0.3565,  ..., 0.0000, 0.0000, 0.0000],\n",
       "          ...,\n",
       "          [0.0000, 0.0000, 0.0000,  ..., 0.3565, 0.3397, 0.3565],\n",
       "          [0.0000, 0.0000, 0.0000,  ..., 0.2065, 0.2166, 0.0000],\n",
       "          [0.0000, 0.0000, 0.0000,  ..., 0.2146, 0.0000, 0.2146]]],\n",
       "        grad_fn=<PermuteBackward0>))"
      ]
     },
     "execution_count": 48,
     "metadata": {},
     "output_type": "execute_result"
    }
   ],
   "source": [
    "alpha_h = alpha.permute(2, 0, 1) # [H,M,M]\n",
    "alpha_h.size(), alpha_h"
   ]
  },
  {
   "cell_type": "code",
   "execution_count": 49,
   "id": "1a571b6f-76ee-450b-be37-f8a575cc62f3",
   "metadata": {},
   "outputs": [
    {
     "data": {
      "text/plain": [
       "(torch.Size([2, 24, 3]),\n",
       " tensor([[[0.0005, 0.0009, 0.0005],\n",
       "          [0.0004, 0.0008, 0.0004],\n",
       "          [0.0007, 0.0015, 0.0007],\n",
       "          [0.0008, 0.0015, 0.0008],\n",
       "          [0.0009, 0.0017, 0.0009],\n",
       "          [0.0010, 0.0020, 0.0010],\n",
       "          [0.0004, 0.0008, 0.0004],\n",
       "          [0.0006, 0.0012, 0.0006],\n",
       "          [0.0007, 0.0015, 0.0007],\n",
       "          [0.0006, 0.0013, 0.0006],\n",
       "          [0.0010, 0.0020, 0.0010],\n",
       "          [0.0011, 0.0023, 0.0011],\n",
       "          [0.0004, 0.0008, 0.0004],\n",
       "          [0.0006, 0.0012, 0.0006],\n",
       "          [0.0005, 0.0011, 0.0005],\n",
       "          [0.0009, 0.0017, 0.0009],\n",
       "          [0.0010, 0.0020, 0.0010],\n",
       "          [0.0010, 0.0020, 0.0010],\n",
       "          [0.0005, 0.0009, 0.0005],\n",
       "          [0.0005, 0.0009, 0.0005],\n",
       "          [0.0006, 0.0012, 0.0006],\n",
       "          [0.0009, 0.0017, 0.0009],\n",
       "          [0.0006, 0.0011, 0.0006],\n",
       "          [0.0011, 0.0023, 0.0011]],\n",
       " \n",
       "         [[0.0005, 0.0009, 0.0005],\n",
       "          [0.0004, 0.0008, 0.0004],\n",
       "          [0.0007, 0.0015, 0.0007],\n",
       "          [0.0008, 0.0015, 0.0008],\n",
       "          [0.0009, 0.0017, 0.0009],\n",
       "          [0.0010, 0.0020, 0.0010],\n",
       "          [0.0004, 0.0008, 0.0004],\n",
       "          [0.0006, 0.0012, 0.0006],\n",
       "          [0.0007, 0.0015, 0.0007],\n",
       "          [0.0006, 0.0013, 0.0006],\n",
       "          [0.0010, 0.0020, 0.0010],\n",
       "          [0.0011, 0.0023, 0.0011],\n",
       "          [0.0004, 0.0008, 0.0004],\n",
       "          [0.0006, 0.0012, 0.0006],\n",
       "          [0.0005, 0.0011, 0.0005],\n",
       "          [0.0009, 0.0017, 0.0009],\n",
       "          [0.0010, 0.0020, 0.0010],\n",
       "          [0.0010, 0.0020, 0.0010],\n",
       "          [0.0005, 0.0009, 0.0005],\n",
       "          [0.0005, 0.0009, 0.0005],\n",
       "          [0.0006, 0.0012, 0.0006],\n",
       "          [0.0009, 0.0017, 0.0009],\n",
       "          [0.0006, 0.0011, 0.0006],\n",
       "          [0.0011, 0.0023, 0.0011]]], grad_fn=<PermuteBackward0>))"
      ]
     },
     "execution_count": 49,
     "metadata": {},
     "output_type": "execute_result"
    }
   ],
   "source": [
    "Hh = Hproj.permute(1, 0, 2) # [H,M,O]\n",
    "Hh.size(), Hh"
   ]
  },
  {
   "cell_type": "code",
   "execution_count": 50,
   "id": "cdcab328-cd4c-4eed-bc16-bb4e64b1fa17",
   "metadata": {},
   "outputs": [
    {
     "data": {
      "text/plain": [
       "(torch.Size([2, 24, 24]),\n",
       " tensor([[[ 1.,  0.,  0.,  ...,  0.,  0.,  0.],\n",
       "          [ 0.,  1.,  0.,  ...,  0.,  0.,  0.],\n",
       "          [ 0.,  0.,  1.,  ...,  0.,  0.,  0.],\n",
       "          ...,\n",
       "          [ 0.,  0.,  0.,  ...,  1., -1.,  1.],\n",
       "          [ 0.,  0.,  0.,  ..., -1.,  1.,  0.],\n",
       "          [ 0.,  0.,  0.,  ...,  1.,  0.,  1.]],\n",
       " \n",
       "         [[ 1.,  0.,  0.,  ...,  0.,  0.,  0.],\n",
       "          [ 0.,  1.,  0.,  ...,  0.,  0.,  0.],\n",
       "          [ 0.,  0.,  1.,  ...,  0.,  0.,  0.],\n",
       "          ...,\n",
       "          [ 0.,  0.,  0.,  ...,  1., -1.,  1.],\n",
       "          [ 0.,  0.,  0.,  ..., -1.,  1.,  0.],\n",
       "          [ 0.,  0.,  0.,  ...,  1.,  0.,  1.]]]))"
      ]
     },
     "execution_count": 50,
     "metadata": {},
     "output_type": "execute_result"
    }
   ],
   "source": [
    "s_heads = signed_a.squeeze(-1).unsqueeze(0).expand(H, -1, -1) # [H,M,M]\n",
    "s_heads.size(), s_heads"
   ]
  },
  {
   "cell_type": "code",
   "execution_count": 51,
   "id": "37fcdc96-aa3d-433c-a4d2-bca520a4ca92",
   "metadata": {},
   "outputs": [
    {
     "data": {
      "text/plain": [
       "(torch.Size([2, 24, 24]),\n",
       " tensor([[[ 0.3578,  0.0000,  0.0000,  ...,  0.0000,  0.0000,  0.0000],\n",
       "          [ 0.0000,  0.3578,  0.0000,  ...,  0.0000,  0.0000,  0.0000],\n",
       "          [ 0.0000,  0.0000,  0.3578,  ...,  0.0000,  0.0000,  0.0000],\n",
       "          ...,\n",
       "          [ 0.0000,  0.0000,  0.0000,  ...,  0.3578, -0.3370,  0.3578],\n",
       "          [ 0.0000,  0.0000,  0.0000,  ..., -0.2054,  0.2182,  0.0000],\n",
       "          [ 0.0000,  0.0000,  0.0000,  ...,  0.2156,  0.0000,  0.2156]],\n",
       " \n",
       "         [[ 0.3564,  0.0000,  0.0000,  ...,  0.0000,  0.0000,  0.0000],\n",
       "          [ 0.0000,  0.3564,  0.0000,  ...,  0.0000,  0.0000,  0.0000],\n",
       "          [ 0.0000,  0.0000,  0.3565,  ...,  0.0000,  0.0000,  0.0000],\n",
       "          ...,\n",
       "          [ 0.0000,  0.0000,  0.0000,  ...,  0.3565, -0.3397,  0.3565],\n",
       "          [ 0.0000,  0.0000,  0.0000,  ..., -0.2065,  0.2166,  0.0000],\n",
       "          [ 0.0000,  0.0000,  0.0000,  ...,  0.2146,  0.0000,  0.2146]]],\n",
       "        grad_fn=<MulBackward0>))"
      ]
     },
     "execution_count": 51,
     "metadata": {},
     "output_type": "execute_result"
    }
   ],
   "source": [
    "alpha_signed = alpha_h * s_heads # [H,M,M]\n",
    "alpha_signed.size(), alpha_signed"
   ]
  },
  {
   "cell_type": "code",
   "execution_count": 52,
   "id": "ac981005-dc07-4fea-9980-e56faeec4d70",
   "metadata": {},
   "outputs": [
    {
     "data": {
      "text/plain": [
       "(torch.Size([2, 24, 3]),\n",
       " tensor([[[ 1.3639e-04,  2.7278e-04,  1.3639e-04],\n",
       "          [ 1.0856e-04,  2.1712e-04,  1.0856e-04],\n",
       "          [ 2.3182e-04,  4.6364e-04,  2.3182e-04],\n",
       "          [ 3.4014e-04,  6.8028e-04,  3.4014e-04],\n",
       "          [ 3.7151e-04,  7.4301e-04,  3.7151e-04],\n",
       "          [ 5.9008e-05,  1.1802e-04,  5.9008e-05],\n",
       "          [ 8.9669e-04,  1.7934e-03,  8.9669e-04],\n",
       "          [ 2.8328e-04,  5.6656e-04,  2.8328e-04],\n",
       "          [-2.4059e-05, -4.8117e-05, -2.4059e-05],\n",
       "          [ 2.9521e-04,  5.9041e-04,  2.9521e-04],\n",
       "          [ 2.1430e-04,  4.2860e-04,  2.1430e-04],\n",
       "          [ 4.4697e-04,  8.9395e-04,  4.4697e-04],\n",
       "          [ 1.5604e-04,  3.1208e-04,  1.5604e-04],\n",
       "          [-4.6089e-04, -9.2178e-04, -4.6089e-04],\n",
       "          [ 2.1920e-04,  4.3839e-04,  2.1920e-04],\n",
       "          [ 3.2304e-04,  6.4609e-04,  3.2304e-04],\n",
       "          [ 7.4297e-05,  1.4859e-04,  7.4297e-05],\n",
       "          [ 2.5376e-04,  5.0752e-04,  2.5376e-04],\n",
       "          [-4.1407e-04, -8.2815e-04, -4.1407e-04],\n",
       "          [-1.2148e-05, -2.4296e-05, -1.2148e-05],\n",
       "          [ 4.2135e-04,  8.4269e-04,  4.2135e-04],\n",
       "          [ 5.2473e-04,  1.0495e-03,  5.2473e-04],\n",
       "          [-1.6719e-04, -3.3438e-04, -1.6719e-04],\n",
       "          [ 3.6621e-04,  7.3242e-04,  3.6621e-04]],\n",
       " \n",
       "         [[ 1.3177e-04,  2.6354e-04,  1.3177e-04],\n",
       "          [ 1.0404e-04,  2.0809e-04,  1.0404e-04],\n",
       "          [ 2.2683e-04,  4.5366e-04,  2.2683e-04],\n",
       "          [ 3.3532e-04,  6.7063e-04,  3.3532e-04],\n",
       "          [ 3.6883e-04,  7.3765e-04,  3.6883e-04],\n",
       "          [ 1.5103e-04,  3.0205e-04,  1.5103e-04],\n",
       "          [ 8.9669e-04,  1.7934e-03,  8.9669e-04],\n",
       "          [ 2.7814e-04,  5.5627e-04,  2.7814e-04],\n",
       "          [ 6.1786e-04,  1.2357e-03,  6.1786e-04],\n",
       "          [ 2.9002e-04,  5.8004e-04,  2.9002e-04],\n",
       "          [ 2.1030e-04,  4.2060e-04,  2.1030e-04],\n",
       "          [ 3.0958e-04,  6.1916e-04,  3.0958e-04],\n",
       "          [ 1.5139e-04,  3.0277e-04,  1.5139e-04],\n",
       "          [-4.6543e-04, -9.3085e-04, -4.6543e-04],\n",
       "          [ 2.1439e-04,  4.2878e-04,  2.1439e-04],\n",
       "          [ 3.1775e-04,  6.3550e-04,  3.1775e-04],\n",
       "          [-5.3218e-05, -1.0644e-04, -5.3218e-05],\n",
       "          [ 6.3868e-05,  1.2774e-04,  6.3868e-05],\n",
       "          [-4.1783e-04, -8.3567e-04, -4.1783e-04],\n",
       "          [-1.6694e-05, -3.3388e-05, -1.6694e-05],\n",
       "          [-1.9251e-04, -3.8502e-04, -1.9251e-04],\n",
       "          [ 5.2041e-04,  1.0408e-03,  5.2041e-04],\n",
       "          [-1.7072e-04, -3.4145e-04, -1.7072e-04],\n",
       "          [ 3.6224e-04,  7.2448e-04,  3.6224e-04]]],\n",
       "        grad_fn=<UnsafeViewBackward0>))"
      ]
     },
     "execution_count": 52,
     "metadata": {},
     "output_type": "execute_result"
    }
   ],
   "source": [
    "out_h = alpha_signed @ Hh # [H,M,O]\n",
    "out_h.size(), out_h"
   ]
  },
  {
   "cell_type": "code",
   "execution_count": 53,
   "id": "72fc3ae5-a289-4bac-9e8a-c646d6ae14cb",
   "metadata": {},
   "outputs": [
    {
     "data": {
      "text/plain": [
       "(torch.Size([24, 2, 3]),\n",
       " tensor([[[ 1.3639e-04,  2.7278e-04,  1.3639e-04],\n",
       "          [ 1.3177e-04,  2.6354e-04,  1.3177e-04]],\n",
       " \n",
       "         [[ 1.0856e-04,  2.1712e-04,  1.0856e-04],\n",
       "          [ 1.0404e-04,  2.0809e-04,  1.0404e-04]],\n",
       " \n",
       "         [[ 2.3182e-04,  4.6364e-04,  2.3182e-04],\n",
       "          [ 2.2683e-04,  4.5366e-04,  2.2683e-04]],\n",
       " \n",
       "         [[ 3.4014e-04,  6.8028e-04,  3.4014e-04],\n",
       "          [ 3.3532e-04,  6.7063e-04,  3.3532e-04]],\n",
       " \n",
       "         [[ 3.7151e-04,  7.4301e-04,  3.7151e-04],\n",
       "          [ 3.6883e-04,  7.3765e-04,  3.6883e-04]],\n",
       " \n",
       "         [[ 5.9008e-05,  1.1802e-04,  5.9008e-05],\n",
       "          [ 1.5103e-04,  3.0205e-04,  1.5103e-04]],\n",
       " \n",
       "         [[ 8.9669e-04,  1.7934e-03,  8.9669e-04],\n",
       "          [ 8.9669e-04,  1.7934e-03,  8.9669e-04]],\n",
       " \n",
       "         [[ 2.8328e-04,  5.6656e-04,  2.8328e-04],\n",
       "          [ 2.7814e-04,  5.5627e-04,  2.7814e-04]],\n",
       " \n",
       "         [[-2.4059e-05, -4.8117e-05, -2.4059e-05],\n",
       "          [ 6.1786e-04,  1.2357e-03,  6.1786e-04]],\n",
       " \n",
       "         [[ 2.9521e-04,  5.9041e-04,  2.9521e-04],\n",
       "          [ 2.9002e-04,  5.8004e-04,  2.9002e-04]],\n",
       " \n",
       "         [[ 2.1430e-04,  4.2860e-04,  2.1430e-04],\n",
       "          [ 2.1030e-04,  4.2060e-04,  2.1030e-04]],\n",
       " \n",
       "         [[ 4.4697e-04,  8.9395e-04,  4.4697e-04],\n",
       "          [ 3.0958e-04,  6.1916e-04,  3.0958e-04]],\n",
       " \n",
       "         [[ 1.5604e-04,  3.1208e-04,  1.5604e-04],\n",
       "          [ 1.5139e-04,  3.0277e-04,  1.5139e-04]],\n",
       " \n",
       "         [[-4.6089e-04, -9.2178e-04, -4.6089e-04],\n",
       "          [-4.6543e-04, -9.3085e-04, -4.6543e-04]],\n",
       " \n",
       "         [[ 2.1920e-04,  4.3839e-04,  2.1920e-04],\n",
       "          [ 2.1439e-04,  4.2878e-04,  2.1439e-04]],\n",
       " \n",
       "         [[ 3.2304e-04,  6.4609e-04,  3.2304e-04],\n",
       "          [ 3.1775e-04,  6.3550e-04,  3.1775e-04]],\n",
       " \n",
       "         [[ 7.4297e-05,  1.4859e-04,  7.4297e-05],\n",
       "          [-5.3218e-05, -1.0644e-04, -5.3218e-05]],\n",
       " \n",
       "         [[ 2.5376e-04,  5.0752e-04,  2.5376e-04],\n",
       "          [ 6.3868e-05,  1.2774e-04,  6.3868e-05]],\n",
       " \n",
       "         [[-4.1407e-04, -8.2815e-04, -4.1407e-04],\n",
       "          [-4.1783e-04, -8.3567e-04, -4.1783e-04]],\n",
       " \n",
       "         [[-1.2148e-05, -2.4296e-05, -1.2148e-05],\n",
       "          [-1.6694e-05, -3.3388e-05, -1.6694e-05]],\n",
       " \n",
       "         [[ 4.2135e-04,  8.4269e-04,  4.2135e-04],\n",
       "          [-1.9251e-04, -3.8502e-04, -1.9251e-04]],\n",
       " \n",
       "         [[ 5.2473e-04,  1.0495e-03,  5.2473e-04],\n",
       "          [ 5.2041e-04,  1.0408e-03,  5.2041e-04]],\n",
       " \n",
       "         [[-1.6719e-04, -3.3438e-04, -1.6719e-04],\n",
       "          [-1.7072e-04, -3.4145e-04, -1.7072e-04]],\n",
       " \n",
       "         [[ 3.6621e-04,  7.3242e-04,  3.6621e-04],\n",
       "          [ 3.6224e-04,  7.2448e-04,  3.6224e-04]]], grad_fn=<PermuteBackward0>))"
      ]
     },
     "execution_count": 53,
     "metadata": {},
     "output_type": "execute_result"
    }
   ],
   "source": [
    "out = out_h.permute(1, 0, 2) # [M,H,O]\n",
    "out.size(), out"
   ]
  },
  {
   "cell_type": "markdown",
   "id": "79a28edd-df69-461f-952a-7d4c65d534c9",
   "metadata": {},
   "source": [
    "##### concatenate heads"
   ]
  },
  {
   "cell_type": "code",
   "execution_count": 54,
   "id": "53177d08-6b0f-4133-92a7-4a57e1ff874a",
   "metadata": {},
   "outputs": [
    {
     "data": {
      "text/plain": [
       "(torch.Size([24, 6]),\n",
       " tensor([[ 1.3639e-04,  2.7278e-04,  1.3639e-04,  1.3177e-04,  2.6354e-04,\n",
       "           1.3177e-04],\n",
       "         [ 1.0856e-04,  2.1712e-04,  1.0856e-04,  1.0404e-04,  2.0809e-04,\n",
       "           1.0404e-04],\n",
       "         [ 2.3182e-04,  4.6364e-04,  2.3182e-04,  2.2683e-04,  4.5366e-04,\n",
       "           2.2683e-04],\n",
       "         [ 3.4014e-04,  6.8028e-04,  3.4014e-04,  3.3532e-04,  6.7063e-04,\n",
       "           3.3532e-04],\n",
       "         [ 3.7151e-04,  7.4301e-04,  3.7151e-04,  3.6883e-04,  7.3765e-04,\n",
       "           3.6883e-04],\n",
       "         [ 5.9008e-05,  1.1802e-04,  5.9008e-05,  1.5103e-04,  3.0205e-04,\n",
       "           1.5103e-04],\n",
       "         [ 8.9669e-04,  1.7934e-03,  8.9669e-04,  8.9669e-04,  1.7934e-03,\n",
       "           8.9669e-04],\n",
       "         [ 2.8328e-04,  5.6656e-04,  2.8328e-04,  2.7814e-04,  5.5627e-04,\n",
       "           2.7814e-04],\n",
       "         [-2.4059e-05, -4.8117e-05, -2.4059e-05,  6.1786e-04,  1.2357e-03,\n",
       "           6.1786e-04],\n",
       "         [ 2.9521e-04,  5.9041e-04,  2.9521e-04,  2.9002e-04,  5.8004e-04,\n",
       "           2.9002e-04],\n",
       "         [ 2.1430e-04,  4.2860e-04,  2.1430e-04,  2.1030e-04,  4.2060e-04,\n",
       "           2.1030e-04],\n",
       "         [ 4.4697e-04,  8.9395e-04,  4.4697e-04,  3.0958e-04,  6.1916e-04,\n",
       "           3.0958e-04],\n",
       "         [ 1.5604e-04,  3.1208e-04,  1.5604e-04,  1.5139e-04,  3.0277e-04,\n",
       "           1.5139e-04],\n",
       "         [-4.6089e-04, -9.2178e-04, -4.6089e-04, -4.6543e-04, -9.3085e-04,\n",
       "          -4.6543e-04],\n",
       "         [ 2.1920e-04,  4.3839e-04,  2.1920e-04,  2.1439e-04,  4.2878e-04,\n",
       "           2.1439e-04],\n",
       "         [ 3.2304e-04,  6.4609e-04,  3.2304e-04,  3.1775e-04,  6.3550e-04,\n",
       "           3.1775e-04],\n",
       "         [ 7.4297e-05,  1.4859e-04,  7.4297e-05, -5.3218e-05, -1.0644e-04,\n",
       "          -5.3218e-05],\n",
       "         [ 2.5376e-04,  5.0752e-04,  2.5376e-04,  6.3868e-05,  1.2774e-04,\n",
       "           6.3868e-05],\n",
       "         [-4.1407e-04, -8.2815e-04, -4.1407e-04, -4.1783e-04, -8.3567e-04,\n",
       "          -4.1783e-04],\n",
       "         [-1.2148e-05, -2.4296e-05, -1.2148e-05, -1.6694e-05, -3.3388e-05,\n",
       "          -1.6694e-05],\n",
       "         [ 4.2135e-04,  8.4269e-04,  4.2135e-04, -1.9251e-04, -3.8502e-04,\n",
       "          -1.9251e-04],\n",
       "         [ 5.2473e-04,  1.0495e-03,  5.2473e-04,  5.2041e-04,  1.0408e-03,\n",
       "           5.2041e-04],\n",
       "         [-1.6719e-04, -3.3438e-04, -1.6719e-04, -1.7072e-04, -3.4145e-04,\n",
       "          -1.7072e-04],\n",
       "         [ 3.6621e-04,  7.3242e-04,  3.6621e-04,  3.6224e-04,  7.2448e-04,\n",
       "           3.6224e-04]], grad_fn=<UnsafeViewBackward0>))"
      ]
     },
     "execution_count": 54,
     "metadata": {},
     "output_type": "execute_result"
    }
   ],
   "source": [
    "out = out.reshape(M, H * O)\n",
    "out.size(), out"
   ]
  },
  {
   "cell_type": "markdown",
   "id": "5c80e6ca-764d-4a0e-a1e5-0c143639f8a4",
   "metadata": {},
   "source": [
    "##### Bias"
   ]
  },
  {
   "cell_type": "code",
   "execution_count": 55,
   "id": "11dd3732-a2a3-409a-a8a9-c2af7cd3c9af",
   "metadata": {},
   "outputs": [
    {
     "data": {
      "text/plain": [
       "(torch.Size([6]),\n",
       " Parameter containing:\n",
       " tensor([1.0000e-06, 1.0000e-06, 1.0000e-06, 1.0000e-06, 1.0000e-06, 1.0000e-06],\n",
       "        requires_grad=True))"
      ]
     },
     "execution_count": 55,
     "metadata": {},
     "output_type": "execute_result"
    }
   ],
   "source": [
    "gat1_bias = nn.Parameter(torch.zeros(heads*head_dim))\n",
    "with torch.no_grad(): \n",
    "    sign_pattern = torch.tensor([1e-6])\n",
    "    gat1_bias.copy_(sign_pattern)\n",
    "gat1_bias.size(), gat1_bias"
   ]
  },
  {
   "cell_type": "code",
   "execution_count": 56,
   "id": "9f5cded6-55ac-4ee0-a96c-f0d9f875ace7",
   "metadata": {},
   "outputs": [
    {
     "data": {
      "text/plain": [
       "(torch.Size([24, 6]),\n",
       " tensor([[ 1.3739e-04,  2.7378e-04,  1.3739e-04,  1.3277e-04,  2.6454e-04,\n",
       "           1.3277e-04],\n",
       "         [ 1.0956e-04,  2.1812e-04,  1.0956e-04,  1.0504e-04,  2.0909e-04,\n",
       "           1.0504e-04],\n",
       "         [ 2.3282e-04,  4.6464e-04,  2.3282e-04,  2.2783e-04,  4.5466e-04,\n",
       "           2.2783e-04],\n",
       "         [ 3.4114e-04,  6.8128e-04,  3.4114e-04,  3.3632e-04,  6.7163e-04,\n",
       "           3.3632e-04],\n",
       "         [ 3.7251e-04,  7.4401e-04,  3.7251e-04,  3.6983e-04,  7.3865e-04,\n",
       "           3.6983e-04],\n",
       "         [ 6.0008e-05,  1.1902e-04,  6.0008e-05,  1.5203e-04,  3.0305e-04,\n",
       "           1.5203e-04],\n",
       "         [ 8.9769e-04,  1.7944e-03,  8.9769e-04,  8.9769e-04,  1.7944e-03,\n",
       "           8.9769e-04],\n",
       "         [ 2.8428e-04,  5.6756e-04,  2.8428e-04,  2.7914e-04,  5.5727e-04,\n",
       "           2.7914e-04],\n",
       "         [-2.3059e-05, -4.7117e-05, -2.3059e-05,  6.1886e-04,  1.2367e-03,\n",
       "           6.1886e-04],\n",
       "         [ 2.9621e-04,  5.9141e-04,  2.9621e-04,  2.9102e-04,  5.8104e-04,\n",
       "           2.9102e-04],\n",
       "         [ 2.1530e-04,  4.2960e-04,  2.1530e-04,  2.1130e-04,  4.2160e-04,\n",
       "           2.1130e-04],\n",
       "         [ 4.4797e-04,  8.9495e-04,  4.4797e-04,  3.1058e-04,  6.2016e-04,\n",
       "           3.1058e-04],\n",
       "         [ 1.5704e-04,  3.1308e-04,  1.5704e-04,  1.5239e-04,  3.0377e-04,\n",
       "           1.5239e-04],\n",
       "         [-4.5989e-04, -9.2078e-04, -4.5989e-04, -4.6443e-04, -9.2985e-04,\n",
       "          -4.6443e-04],\n",
       "         [ 2.2020e-04,  4.3939e-04,  2.2020e-04,  2.1539e-04,  4.2978e-04,\n",
       "           2.1539e-04],\n",
       "         [ 3.2404e-04,  6.4709e-04,  3.2404e-04,  3.1875e-04,  6.3650e-04,\n",
       "           3.1875e-04],\n",
       "         [ 7.5297e-05,  1.4959e-04,  7.5297e-05, -5.2218e-05, -1.0544e-04,\n",
       "          -5.2218e-05],\n",
       "         [ 2.5476e-04,  5.0852e-04,  2.5476e-04,  6.4868e-05,  1.2874e-04,\n",
       "           6.4868e-05],\n",
       "         [-4.1307e-04, -8.2715e-04, -4.1307e-04, -4.1683e-04, -8.3467e-04,\n",
       "          -4.1683e-04],\n",
       "         [-1.1148e-05, -2.3296e-05, -1.1148e-05, -1.5694e-05, -3.2388e-05,\n",
       "          -1.5694e-05],\n",
       "         [ 4.2235e-04,  8.4369e-04,  4.2235e-04, -1.9151e-04, -3.8402e-04,\n",
       "          -1.9151e-04],\n",
       "         [ 5.2573e-04,  1.0505e-03,  5.2573e-04,  5.2141e-04,  1.0418e-03,\n",
       "           5.2141e-04],\n",
       "         [-1.6619e-04, -3.3338e-04, -1.6619e-04, -1.6972e-04, -3.4045e-04,\n",
       "          -1.6972e-04],\n",
       "         [ 3.6721e-04,  7.3342e-04,  3.6721e-04,  3.6324e-04,  7.2548e-04,\n",
       "           3.6324e-04]], grad_fn=<AddBackward0>))"
      ]
     },
     "execution_count": 56,
     "metadata": {},
     "output_type": "execute_result"
    }
   ],
   "source": [
    "out = out + gat1_bias\n",
    "out.size(), out"
   ]
  },
  {
   "cell_type": "markdown",
   "id": "ca31eb10-229a-4011-871f-b4243d705037",
   "metadata": {},
   "source": [
    "#### GAT Block - ELU"
   ]
  },
  {
   "cell_type": "code",
   "execution_count": 60,
   "id": "372f23d6-d418-4e05-b689-1be01986eb84",
   "metadata": {},
   "outputs": [],
   "source": [
    "gat_elu1 = nn.ELU()"
   ]
  },
  {
   "cell_type": "code",
   "execution_count": 61,
   "id": "72bb919e-cb9c-49df-b953-bb4ba68a6ef2",
   "metadata": {},
   "outputs": [
    {
     "data": {
      "text/plain": [
       "(torch.Size([24, 6]),\n",
       " tensor([[ 1.3739e-04,  2.7378e-04,  1.3739e-04,  1.3277e-04,  2.6454e-04,\n",
       "           1.3277e-04],\n",
       "         [ 1.0956e-04,  2.1812e-04,  1.0956e-04,  1.0504e-04,  2.0909e-04,\n",
       "           1.0504e-04],\n",
       "         [ 2.3282e-04,  4.6464e-04,  2.3282e-04,  2.2783e-04,  4.5466e-04,\n",
       "           2.2783e-04],\n",
       "         [ 3.4114e-04,  6.8128e-04,  3.4114e-04,  3.3632e-04,  6.7163e-04,\n",
       "           3.3632e-04],\n",
       "         [ 3.7251e-04,  7.4401e-04,  3.7251e-04,  3.6983e-04,  7.3865e-04,\n",
       "           3.6983e-04],\n",
       "         [ 6.0008e-05,  1.1902e-04,  6.0008e-05,  1.5203e-04,  3.0305e-04,\n",
       "           1.5203e-04],\n",
       "         [ 8.9769e-04,  1.7944e-03,  8.9769e-04,  8.9769e-04,  1.7944e-03,\n",
       "           8.9769e-04],\n",
       "         [ 2.8428e-04,  5.6756e-04,  2.8428e-04,  2.7914e-04,  5.5727e-04,\n",
       "           2.7914e-04],\n",
       "         [-2.3058e-05, -4.7115e-05, -2.3058e-05,  6.1886e-04,  1.2367e-03,\n",
       "           6.1886e-04],\n",
       "         [ 2.9621e-04,  5.9141e-04,  2.9621e-04,  2.9102e-04,  5.8104e-04,\n",
       "           2.9102e-04],\n",
       "         [ 2.1530e-04,  4.2960e-04,  2.1530e-04,  2.1130e-04,  4.2160e-04,\n",
       "           2.1130e-04],\n",
       "         [ 4.4797e-04,  8.9495e-04,  4.4797e-04,  3.1058e-04,  6.2016e-04,\n",
       "           3.1058e-04],\n",
       "         [ 1.5704e-04,  3.1308e-04,  1.5704e-04,  1.5239e-04,  3.0377e-04,\n",
       "           1.5239e-04],\n",
       "         [-4.5968e-04, -9.1993e-04, -4.5968e-04, -4.6421e-04, -9.2899e-04,\n",
       "          -4.6421e-04],\n",
       "         [ 2.2020e-04,  4.3939e-04,  2.2020e-04,  2.1539e-04,  4.2978e-04,\n",
       "           2.1539e-04],\n",
       "         [ 3.2404e-04,  6.4709e-04,  3.2404e-04,  3.1875e-04,  6.3650e-04,\n",
       "           3.1875e-04],\n",
       "         [ 7.5297e-05,  1.4959e-04,  7.5297e-05, -5.2215e-05, -1.0542e-04,\n",
       "          -5.2215e-05],\n",
       "         [ 2.5476e-04,  5.0852e-04,  2.5476e-04,  6.4868e-05,  1.2874e-04,\n",
       "           6.4868e-05],\n",
       "         [-4.1290e-04, -8.2646e-04, -4.1290e-04, -4.1666e-04, -8.3397e-04,\n",
       "          -4.1666e-04],\n",
       "         [-1.1148e-05, -2.3295e-05, -1.1148e-05, -1.5694e-05, -3.2387e-05,\n",
       "          -1.5694e-05],\n",
       "         [ 4.2235e-04,  8.4369e-04,  4.2235e-04, -1.9147e-04, -3.8387e-04,\n",
       "          -1.9147e-04],\n",
       "         [ 5.2573e-04,  1.0505e-03,  5.2573e-04,  5.2141e-04,  1.0418e-03,\n",
       "           5.2141e-04],\n",
       "         [-1.6616e-04, -3.3327e-04, -1.6616e-04, -1.6969e-04, -3.4033e-04,\n",
       "          -1.6969e-04],\n",
       "         [ 3.6721e-04,  7.3342e-04,  3.6721e-04,  3.6324e-04,  7.2548e-04,\n",
       "           3.6324e-04]], grad_fn=<EluBackward0>))"
      ]
     },
     "execution_count": 61,
     "metadata": {},
     "output_type": "execute_result"
    }
   ],
   "source": [
    "out = gat_elu1(out)\n",
    "out.size(), out"
   ]
  },
  {
   "cell_type": "markdown",
   "id": "59824bf4-3443-48a8-a23f-6ae6ab069fd8",
   "metadata": {},
   "source": [
    "#### GAT Block - Second Attention Layer"
   ]
  },
  {
   "cell_type": "code",
   "execution_count": 62,
   "id": "5c647595-c934-4c31-bc7a-aee3b17f4bdd",
   "metadata": {},
   "outputs": [
    {
     "data": {
      "text/plain": [
       "(torch.Size([24, 24]),\n",
       " tensor([[ True, False, False, False,  True,  True, False, False, False, False,\n",
       "          False, False, False, False, False, False, False, False, False, False,\n",
       "          False, False, False, False],\n",
       "         [False,  True, False, False,  True,  True, False, False, False, False,\n",
       "          False, False, False, False, False, False, False, False, False, False,\n",
       "          False, False, False, False],\n",
       "         [False, False,  True, False,  True,  True, False, False, False, False,\n",
       "          False, False, False, False, False, False, False, False, False, False,\n",
       "          False, False, False, False],\n",
       "         [False, False, False,  True,  True,  True, False, False, False, False,\n",
       "          False, False, False, False, False, False, False, False, False, False,\n",
       "          False, False, False, False],\n",
       "         [ True,  True,  True,  True,  True, False, False, False, False, False,\n",
       "          False, False, False, False, False, False, False, False, False, False,\n",
       "          False, False, False, False],\n",
       "         [ True,  True,  True,  True, False,  True, False, False, False, False,\n",
       "          False, False, False, False, False, False, False, False, False, False,\n",
       "          False, False, False, False],\n",
       "         [False, False, False, False, False, False,  True, False, False, False,\n",
       "           True,  True, False, False, False, False, False, False, False, False,\n",
       "          False, False, False, False],\n",
       "         [False, False, False, False, False, False, False,  True, False, False,\n",
       "           True,  True, False, False, False, False, False, False, False, False,\n",
       "          False, False, False, False],\n",
       "         [False, False, False, False, False, False, False, False,  True, False,\n",
       "           True,  True, False, False, False, False, False, False, False, False,\n",
       "          False, False, False, False],\n",
       "         [False, False, False, False, False, False, False, False, False,  True,\n",
       "           True,  True, False, False, False, False, False, False, False, False,\n",
       "          False, False, False, False],\n",
       "         [False, False, False, False, False, False,  True,  True,  True,  True,\n",
       "           True, False, False, False, False, False, False, False, False, False,\n",
       "          False, False, False, False],\n",
       "         [False, False, False, False, False, False,  True,  True,  True,  True,\n",
       "          False,  True, False, False, False, False, False, False, False, False,\n",
       "          False, False, False, False],\n",
       "         [False, False, False, False, False, False, False, False, False, False,\n",
       "          False, False,  True, False, False, False,  True,  True, False, False,\n",
       "          False, False, False, False],\n",
       "         [False, False, False, False, False, False, False, False, False, False,\n",
       "          False, False, False,  True, False, False,  True,  True, False, False,\n",
       "          False, False, False, False],\n",
       "         [False, False, False, False, False, False, False, False, False, False,\n",
       "          False, False, False, False,  True, False,  True,  True, False, False,\n",
       "          False, False, False, False],\n",
       "         [False, False, False, False, False, False, False, False, False, False,\n",
       "          False, False, False, False, False,  True,  True,  True, False, False,\n",
       "          False, False, False, False],\n",
       "         [False, False, False, False, False, False, False, False, False, False,\n",
       "          False, False,  True,  True,  True,  True,  True, False, False, False,\n",
       "          False, False, False, False],\n",
       "         [False, False, False, False, False, False, False, False, False, False,\n",
       "          False, False,  True,  True,  True,  True, False,  True, False, False,\n",
       "          False, False, False, False],\n",
       "         [False, False, False, False, False, False, False, False, False, False,\n",
       "          False, False, False, False, False, False, False, False,  True, False,\n",
       "          False, False,  True,  True],\n",
       "         [False, False, False, False, False, False, False, False, False, False,\n",
       "          False, False, False, False, False, False, False, False, False,  True,\n",
       "          False, False,  True,  True],\n",
       "         [False, False, False, False, False, False, False, False, False, False,\n",
       "          False, False, False, False, False, False, False, False, False, False,\n",
       "           True, False,  True,  True],\n",
       "         [False, False, False, False, False, False, False, False, False, False,\n",
       "          False, False, False, False, False, False, False, False, False, False,\n",
       "          False,  True,  True,  True],\n",
       "         [False, False, False, False, False, False, False, False, False, False,\n",
       "          False, False, False, False, False, False, False, False,  True,  True,\n",
       "           True,  True,  True, False],\n",
       "         [False, False, False, False, False, False, False, False, False, False,\n",
       "          False, False, False, False, False, False, False, False,  True,  True,\n",
       "           True,  True, False,  True]]))"
      ]
     },
     "execution_count": 62,
     "metadata": {},
     "output_type": "execute_result"
    }
   ],
   "source": [
    "signed_a = a_blk.clone()\n",
    "signed_a.fill_diagonal_(1.0)                       # self-loops are positive\n",
    "mask = (signed_a != 0)                             # [M,M]\n",
    "mask.size(), mask\n"
   ]
  },
  {
   "cell_type": "code",
   "execution_count": 63,
   "id": "6b4f8e2d-33be-43f0-ae65-323d353a031a",
   "metadata": {},
   "outputs": [
    {
     "data": {
      "text/plain": [
       "(torch.Size([24, 24, 1]),\n",
       " tensor([[[ 1.],\n",
       "          [ 0.],\n",
       "          [ 0.],\n",
       "          [ 0.],\n",
       "          [ 1.],\n",
       "          [-1.],\n",
       "          [ 0.],\n",
       "          [ 0.],\n",
       "          [ 0.],\n",
       "          [ 0.],\n",
       "          [ 0.],\n",
       "          [ 0.],\n",
       "          [ 0.],\n",
       "          [ 0.],\n",
       "          [ 0.],\n",
       "          [ 0.],\n",
       "          [ 0.],\n",
       "          [ 0.],\n",
       "          [ 0.],\n",
       "          [ 0.],\n",
       "          [ 0.],\n",
       "          [ 0.],\n",
       "          [ 0.],\n",
       "          [ 0.]],\n",
       " \n",
       "         [[ 0.],\n",
       "          [ 1.],\n",
       "          [ 0.],\n",
       "          [ 0.],\n",
       "          [ 1.],\n",
       "          [-1.],\n",
       "          [ 0.],\n",
       "          [ 0.],\n",
       "          [ 0.],\n",
       "          [ 0.],\n",
       "          [ 0.],\n",
       "          [ 0.],\n",
       "          [ 0.],\n",
       "          [ 0.],\n",
       "          [ 0.],\n",
       "          [ 0.],\n",
       "          [ 0.],\n",
       "          [ 0.],\n",
       "          [ 0.],\n",
       "          [ 0.],\n",
       "          [ 0.],\n",
       "          [ 0.],\n",
       "          [ 0.],\n",
       "          [ 0.]],\n",
       " \n",
       "         [[ 0.],\n",
       "          [ 0.],\n",
       "          [ 1.],\n",
       "          [ 0.],\n",
       "          [ 1.],\n",
       "          [-1.],\n",
       "          [ 0.],\n",
       "          [ 0.],\n",
       "          [ 0.],\n",
       "          [ 0.],\n",
       "          [ 0.],\n",
       "          [ 0.],\n",
       "          [ 0.],\n",
       "          [ 0.],\n",
       "          [ 0.],\n",
       "          [ 0.],\n",
       "          [ 0.],\n",
       "          [ 0.],\n",
       "          [ 0.],\n",
       "          [ 0.],\n",
       "          [ 0.],\n",
       "          [ 0.],\n",
       "          [ 0.],\n",
       "          [ 0.]],\n",
       " \n",
       "         [[ 0.],\n",
       "          [ 0.],\n",
       "          [ 0.],\n",
       "          [ 1.],\n",
       "          [-1.],\n",
       "          [ 1.],\n",
       "          [ 0.],\n",
       "          [ 0.],\n",
       "          [ 0.],\n",
       "          [ 0.],\n",
       "          [ 0.],\n",
       "          [ 0.],\n",
       "          [ 0.],\n",
       "          [ 0.],\n",
       "          [ 0.],\n",
       "          [ 0.],\n",
       "          [ 0.],\n",
       "          [ 0.],\n",
       "          [ 0.],\n",
       "          [ 0.],\n",
       "          [ 0.],\n",
       "          [ 0.],\n",
       "          [ 0.],\n",
       "          [ 0.]],\n",
       " \n",
       "         [[ 1.],\n",
       "          [ 1.],\n",
       "          [ 1.],\n",
       "          [-1.],\n",
       "          [ 1.],\n",
       "          [ 0.],\n",
       "          [ 0.],\n",
       "          [ 0.],\n",
       "          [ 0.],\n",
       "          [ 0.],\n",
       "          [ 0.],\n",
       "          [ 0.],\n",
       "          [ 0.],\n",
       "          [ 0.],\n",
       "          [ 0.],\n",
       "          [ 0.],\n",
       "          [ 0.],\n",
       "          [ 0.],\n",
       "          [ 0.],\n",
       "          [ 0.],\n",
       "          [ 0.],\n",
       "          [ 0.],\n",
       "          [ 0.],\n",
       "          [ 0.]],\n",
       " \n",
       "         [[-1.],\n",
       "          [-1.],\n",
       "          [-1.],\n",
       "          [ 1.],\n",
       "          [ 0.],\n",
       "          [ 1.],\n",
       "          [ 0.],\n",
       "          [ 0.],\n",
       "          [ 0.],\n",
       "          [ 0.],\n",
       "          [ 0.],\n",
       "          [ 0.],\n",
       "          [ 0.],\n",
       "          [ 0.],\n",
       "          [ 0.],\n",
       "          [ 0.],\n",
       "          [ 0.],\n",
       "          [ 0.],\n",
       "          [ 0.],\n",
       "          [ 0.],\n",
       "          [ 0.],\n",
       "          [ 0.],\n",
       "          [ 0.],\n",
       "          [ 0.]],\n",
       " \n",
       "         [[ 0.],\n",
       "          [ 0.],\n",
       "          [ 0.],\n",
       "          [ 0.],\n",
       "          [ 0.],\n",
       "          [ 0.],\n",
       "          [ 1.],\n",
       "          [ 0.],\n",
       "          [ 0.],\n",
       "          [ 0.],\n",
       "          [ 1.],\n",
       "          [ 1.],\n",
       "          [ 0.],\n",
       "          [ 0.],\n",
       "          [ 0.],\n",
       "          [ 0.],\n",
       "          [ 0.],\n",
       "          [ 0.],\n",
       "          [ 0.],\n",
       "          [ 0.],\n",
       "          [ 0.],\n",
       "          [ 0.],\n",
       "          [ 0.],\n",
       "          [ 0.]],\n",
       " \n",
       "         [[ 0.],\n",
       "          [ 0.],\n",
       "          [ 0.],\n",
       "          [ 0.],\n",
       "          [ 0.],\n",
       "          [ 0.],\n",
       "          [ 0.],\n",
       "          [ 1.],\n",
       "          [ 0.],\n",
       "          [ 0.],\n",
       "          [-1.],\n",
       "          [ 1.],\n",
       "          [ 0.],\n",
       "          [ 0.],\n",
       "          [ 0.],\n",
       "          [ 0.],\n",
       "          [ 0.],\n",
       "          [ 0.],\n",
       "          [ 0.],\n",
       "          [ 0.],\n",
       "          [ 0.],\n",
       "          [ 0.],\n",
       "          [ 0.],\n",
       "          [ 0.]],\n",
       " \n",
       "         [[ 0.],\n",
       "          [ 0.],\n",
       "          [ 0.],\n",
       "          [ 0.],\n",
       "          [ 0.],\n",
       "          [ 0.],\n",
       "          [ 0.],\n",
       "          [ 0.],\n",
       "          [ 1.],\n",
       "          [ 0.],\n",
       "          [ 1.],\n",
       "          [-1.],\n",
       "          [ 0.],\n",
       "          [ 0.],\n",
       "          [ 0.],\n",
       "          [ 0.],\n",
       "          [ 0.],\n",
       "          [ 0.],\n",
       "          [ 0.],\n",
       "          [ 0.],\n",
       "          [ 0.],\n",
       "          [ 0.],\n",
       "          [ 0.],\n",
       "          [ 0.]],\n",
       " \n",
       "         [[ 0.],\n",
       "          [ 0.],\n",
       "          [ 0.],\n",
       "          [ 0.],\n",
       "          [ 0.],\n",
       "          [ 0.],\n",
       "          [ 0.],\n",
       "          [ 0.],\n",
       "          [ 0.],\n",
       "          [ 1.],\n",
       "          [-1.],\n",
       "          [ 1.],\n",
       "          [ 0.],\n",
       "          [ 0.],\n",
       "          [ 0.],\n",
       "          [ 0.],\n",
       "          [ 0.],\n",
       "          [ 0.],\n",
       "          [ 0.],\n",
       "          [ 0.],\n",
       "          [ 0.],\n",
       "          [ 0.],\n",
       "          [ 0.],\n",
       "          [ 0.]],\n",
       " \n",
       "         [[ 0.],\n",
       "          [ 0.],\n",
       "          [ 0.],\n",
       "          [ 0.],\n",
       "          [ 0.],\n",
       "          [ 0.],\n",
       "          [ 1.],\n",
       "          [-1.],\n",
       "          [ 1.],\n",
       "          [-1.],\n",
       "          [ 1.],\n",
       "          [ 0.],\n",
       "          [ 0.],\n",
       "          [ 0.],\n",
       "          [ 0.],\n",
       "          [ 0.],\n",
       "          [ 0.],\n",
       "          [ 0.],\n",
       "          [ 0.],\n",
       "          [ 0.],\n",
       "          [ 0.],\n",
       "          [ 0.],\n",
       "          [ 0.],\n",
       "          [ 0.]],\n",
       " \n",
       "         [[ 0.],\n",
       "          [ 0.],\n",
       "          [ 0.],\n",
       "          [ 0.],\n",
       "          [ 0.],\n",
       "          [ 0.],\n",
       "          [ 1.],\n",
       "          [ 1.],\n",
       "          [-1.],\n",
       "          [ 1.],\n",
       "          [ 0.],\n",
       "          [ 1.],\n",
       "          [ 0.],\n",
       "          [ 0.],\n",
       "          [ 0.],\n",
       "          [ 0.],\n",
       "          [ 0.],\n",
       "          [ 0.],\n",
       "          [ 0.],\n",
       "          [ 0.],\n",
       "          [ 0.],\n",
       "          [ 0.],\n",
       "          [ 0.],\n",
       "          [ 0.]],\n",
       " \n",
       "         [[ 0.],\n",
       "          [ 0.],\n",
       "          [ 0.],\n",
       "          [ 0.],\n",
       "          [ 0.],\n",
       "          [ 0.],\n",
       "          [ 0.],\n",
       "          [ 0.],\n",
       "          [ 0.],\n",
       "          [ 0.],\n",
       "          [ 0.],\n",
       "          [ 0.],\n",
       "          [ 1.],\n",
       "          [ 0.],\n",
       "          [ 0.],\n",
       "          [ 0.],\n",
       "          [-1.],\n",
       "          [ 1.],\n",
       "          [ 0.],\n",
       "          [ 0.],\n",
       "          [ 0.],\n",
       "          [ 0.],\n",
       "          [ 0.],\n",
       "          [ 0.]],\n",
       " \n",
       "         [[ 0.],\n",
       "          [ 0.],\n",
       "          [ 0.],\n",
       "          [ 0.],\n",
       "          [ 0.],\n",
       "          [ 0.],\n",
       "          [ 0.],\n",
       "          [ 0.],\n",
       "          [ 0.],\n",
       "          [ 0.],\n",
       "          [ 0.],\n",
       "          [ 0.],\n",
       "          [ 0.],\n",
       "          [ 1.],\n",
       "          [ 0.],\n",
       "          [ 0.],\n",
       "          [-1.],\n",
       "          [-1.],\n",
       "          [ 0.],\n",
       "          [ 0.],\n",
       "          [ 0.],\n",
       "          [ 0.],\n",
       "          [ 0.],\n",
       "          [ 0.]],\n",
       " \n",
       "         [[ 0.],\n",
       "          [ 0.],\n",
       "          [ 0.],\n",
       "          [ 0.],\n",
       "          [ 0.],\n",
       "          [ 0.],\n",
       "          [ 0.],\n",
       "          [ 0.],\n",
       "          [ 0.],\n",
       "          [ 0.],\n",
       "          [ 0.],\n",
       "          [ 0.],\n",
       "          [ 0.],\n",
       "          [ 0.],\n",
       "          [ 1.],\n",
       "          [ 0.],\n",
       "          [ 1.],\n",
       "          [-1.],\n",
       "          [ 0.],\n",
       "          [ 0.],\n",
       "          [ 0.],\n",
       "          [ 0.],\n",
       "          [ 0.],\n",
       "          [ 0.]],\n",
       " \n",
       "         [[ 0.],\n",
       "          [ 0.],\n",
       "          [ 0.],\n",
       "          [ 0.],\n",
       "          [ 0.],\n",
       "          [ 0.],\n",
       "          [ 0.],\n",
       "          [ 0.],\n",
       "          [ 0.],\n",
       "          [ 0.],\n",
       "          [ 0.],\n",
       "          [ 0.],\n",
       "          [ 0.],\n",
       "          [ 0.],\n",
       "          [ 0.],\n",
       "          [ 1.],\n",
       "          [-1.],\n",
       "          [ 1.],\n",
       "          [ 0.],\n",
       "          [ 0.],\n",
       "          [ 0.],\n",
       "          [ 0.],\n",
       "          [ 0.],\n",
       "          [ 0.]],\n",
       " \n",
       "         [[ 0.],\n",
       "          [ 0.],\n",
       "          [ 0.],\n",
       "          [ 0.],\n",
       "          [ 0.],\n",
       "          [ 0.],\n",
       "          [ 0.],\n",
       "          [ 0.],\n",
       "          [ 0.],\n",
       "          [ 0.],\n",
       "          [ 0.],\n",
       "          [ 0.],\n",
       "          [-1.],\n",
       "          [-1.],\n",
       "          [ 1.],\n",
       "          [-1.],\n",
       "          [ 1.],\n",
       "          [ 0.],\n",
       "          [ 0.],\n",
       "          [ 0.],\n",
       "          [ 0.],\n",
       "          [ 0.],\n",
       "          [ 0.],\n",
       "          [ 0.]],\n",
       " \n",
       "         [[ 0.],\n",
       "          [ 0.],\n",
       "          [ 0.],\n",
       "          [ 0.],\n",
       "          [ 0.],\n",
       "          [ 0.],\n",
       "          [ 0.],\n",
       "          [ 0.],\n",
       "          [ 0.],\n",
       "          [ 0.],\n",
       "          [ 0.],\n",
       "          [ 0.],\n",
       "          [ 1.],\n",
       "          [-1.],\n",
       "          [-1.],\n",
       "          [ 1.],\n",
       "          [ 0.],\n",
       "          [ 1.],\n",
       "          [ 0.],\n",
       "          [ 0.],\n",
       "          [ 0.],\n",
       "          [ 0.],\n",
       "          [ 0.],\n",
       "          [ 0.]],\n",
       " \n",
       "         [[ 0.],\n",
       "          [ 0.],\n",
       "          [ 0.],\n",
       "          [ 0.],\n",
       "          [ 0.],\n",
       "          [ 0.],\n",
       "          [ 0.],\n",
       "          [ 0.],\n",
       "          [ 0.],\n",
       "          [ 0.],\n",
       "          [ 0.],\n",
       "          [ 0.],\n",
       "          [ 0.],\n",
       "          [ 0.],\n",
       "          [ 0.],\n",
       "          [ 0.],\n",
       "          [ 0.],\n",
       "          [ 0.],\n",
       "          [ 1.],\n",
       "          [ 0.],\n",
       "          [ 0.],\n",
       "          [ 0.],\n",
       "          [-1.],\n",
       "          [-1.]],\n",
       " \n",
       "         [[ 0.],\n",
       "          [ 0.],\n",
       "          [ 0.],\n",
       "          [ 0.],\n",
       "          [ 0.],\n",
       "          [ 0.],\n",
       "          [ 0.],\n",
       "          [ 0.],\n",
       "          [ 0.],\n",
       "          [ 0.],\n",
       "          [ 0.],\n",
       "          [ 0.],\n",
       "          [ 0.],\n",
       "          [ 0.],\n",
       "          [ 0.],\n",
       "          [ 0.],\n",
       "          [ 0.],\n",
       "          [ 0.],\n",
       "          [ 0.],\n",
       "          [ 1.],\n",
       "          [ 0.],\n",
       "          [ 0.],\n",
       "          [ 1.],\n",
       "          [-1.]],\n",
       " \n",
       "         [[ 0.],\n",
       "          [ 0.],\n",
       "          [ 0.],\n",
       "          [ 0.],\n",
       "          [ 0.],\n",
       "          [ 0.],\n",
       "          [ 0.],\n",
       "          [ 0.],\n",
       "          [ 0.],\n",
       "          [ 0.],\n",
       "          [ 0.],\n",
       "          [ 0.],\n",
       "          [ 0.],\n",
       "          [ 0.],\n",
       "          [ 0.],\n",
       "          [ 0.],\n",
       "          [ 0.],\n",
       "          [ 0.],\n",
       "          [ 0.],\n",
       "          [ 0.],\n",
       "          [ 1.],\n",
       "          [ 0.],\n",
       "          [-1.],\n",
       "          [ 1.]],\n",
       " \n",
       "         [[ 0.],\n",
       "          [ 0.],\n",
       "          [ 0.],\n",
       "          [ 0.],\n",
       "          [ 0.],\n",
       "          [ 0.],\n",
       "          [ 0.],\n",
       "          [ 0.],\n",
       "          [ 0.],\n",
       "          [ 0.],\n",
       "          [ 0.],\n",
       "          [ 0.],\n",
       "          [ 0.],\n",
       "          [ 0.],\n",
       "          [ 0.],\n",
       "          [ 0.],\n",
       "          [ 0.],\n",
       "          [ 0.],\n",
       "          [ 0.],\n",
       "          [ 0.],\n",
       "          [ 0.],\n",
       "          [ 1.],\n",
       "          [-1.],\n",
       "          [ 1.]],\n",
       " \n",
       "         [[ 0.],\n",
       "          [ 0.],\n",
       "          [ 0.],\n",
       "          [ 0.],\n",
       "          [ 0.],\n",
       "          [ 0.],\n",
       "          [ 0.],\n",
       "          [ 0.],\n",
       "          [ 0.],\n",
       "          [ 0.],\n",
       "          [ 0.],\n",
       "          [ 0.],\n",
       "          [ 0.],\n",
       "          [ 0.],\n",
       "          [ 0.],\n",
       "          [ 0.],\n",
       "          [ 0.],\n",
       "          [ 0.],\n",
       "          [-1.],\n",
       "          [ 1.],\n",
       "          [-1.],\n",
       "          [-1.],\n",
       "          [ 1.],\n",
       "          [ 0.]],\n",
       " \n",
       "         [[ 0.],\n",
       "          [ 0.],\n",
       "          [ 0.],\n",
       "          [ 0.],\n",
       "          [ 0.],\n",
       "          [ 0.],\n",
       "          [ 0.],\n",
       "          [ 0.],\n",
       "          [ 0.],\n",
       "          [ 0.],\n",
       "          [ 0.],\n",
       "          [ 0.],\n",
       "          [ 0.],\n",
       "          [ 0.],\n",
       "          [ 0.],\n",
       "          [ 0.],\n",
       "          [ 0.],\n",
       "          [ 0.],\n",
       "          [-1.],\n",
       "          [-1.],\n",
       "          [ 1.],\n",
       "          [ 1.],\n",
       "          [ 0.],\n",
       "          [ 1.]]]))"
      ]
     },
     "execution_count": 63,
     "metadata": {},
     "output_type": "execute_result"
    }
   ],
   "source": [
    "signed_a = signed_a.unsqueeze(-1)                         # [M,M,1] sign tensor\n",
    "signed_a.size(), signed_a"
   ]
  },
  {
   "cell_type": "code",
   "execution_count": 64,
   "id": "bf32345d-303c-4f11-9c35-ea4ef57f9576",
   "metadata": {},
   "outputs": [
    {
     "data": {
      "text/plain": [
       "(torch.Size([24, 6]),\n",
       " tensor([[0.0000, 0.0022, 0.0000, 0.0044, 0.0056, 0.0067],\n",
       "         [0.0022, 0.0000, 0.0044, 0.0000, 0.0067, 0.0078],\n",
       "         [0.0033, 0.0044, 0.0056, 0.0067, 0.0078, 0.0089],\n",
       "         [0.0044, 0.0056, 0.0067, 0.0078, 0.0089, 0.0100],\n",
       "         [0.0000, 0.0067, 0.0078, 0.0000, 0.0100, 0.0111],\n",
       "         [0.0067, 0.0078, 0.0089, 0.0100, 0.0111, 0.0122],\n",
       "         [0.0000, 0.0022, 0.0033, 0.0044, 0.0056, 0.0067],\n",
       "         [0.0000, 0.0033, 0.0044, 0.0056, 0.0067, 0.0078],\n",
       "         [0.0033, 0.0044, 0.0056, 0.0067, 0.0078, 0.0089],\n",
       "         [0.0044, 0.0056, 0.0000, 0.0078, 0.0089, 0.0100],\n",
       "         [0.0056, 0.0067, 0.0000, 0.0089, 0.0100, 0.0111],\n",
       "         [0.0067, 0.0078, 0.0089, 0.0100, 0.0111, 0.0122],\n",
       "         [0.0011, 0.0022, 0.0033, 0.0044, 0.0000, 0.0067],\n",
       "         [0.0000, 0.0033, 0.0000, 0.0056, 0.0000, 0.0078],\n",
       "         [0.0033, 0.0044, 0.0056, 0.0000, 0.0078, 0.0000],\n",
       "         [0.0044, 0.0056, 0.0067, 0.0078, 0.0089, 0.0100],\n",
       "         [0.0000, 0.0067, 0.0078, 0.0089, 0.0100, 0.0000],\n",
       "         [0.0067, 0.0078, 0.0089, 0.0100, 0.0111, 0.0122],\n",
       "         [0.0011, 0.0022, 0.0000, 0.0044, 0.0000, 0.0067],\n",
       "         [0.0022, 0.0033, 0.0044, 0.0000, 0.0067, 0.0078],\n",
       "         [0.0033, 0.0044, 0.0056, 0.0067, 0.0000, 0.0089],\n",
       "         [0.0044, 0.0000, 0.0000, 0.0078, 0.0089, 0.0100],\n",
       "         [0.0000, 0.0000, 0.0078, 0.0089, 0.0100, 0.0111],\n",
       "         [0.0067, 0.0078, 0.0000, 0.0100, 0.0000, 0.0122]],\n",
       "        grad_fn=<MulBackward0>))"
      ]
     },
     "execution_count": 64,
     "metadata": {},
     "output_type": "execute_result"
    }
   ],
   "source": [
    "# dropout on features (standard GAT)\n",
    "gat2_fdrop = nn.Dropout(feat_dropout)\n",
    "x_drop = gat2_fdrop(x)\n",
    "x_drop.size(), x_drop"
   ]
  },
  {
   "cell_type": "code",
   "execution_count": 66,
   "id": "6bc57734-8235-46ea-8a22-1ef110210eb3",
   "metadata": {},
   "outputs": [
    {
     "data": {
      "text/plain": [
       "(torch.Size([2, 6, 3]),\n",
       " Parameter containing:\n",
       " tensor([[[0.0020, 0.0040, 0.0020],\n",
       "          [0.0040, 0.0080, 0.0040],\n",
       "          [0.0060, 0.0120, 0.0060],\n",
       "          [0.0060, 0.0120, 0.0060],\n",
       "          [0.0040, 0.0080, 0.0040],\n",
       "          [0.0020, 0.0040, 0.0020]],\n",
       " \n",
       "         [[0.0020, 0.0040, 0.0020],\n",
       "          [0.0040, 0.0080, 0.0040],\n",
       "          [0.0060, 0.0120, 0.0060],\n",
       "          [0.0060, 0.0120, 0.0060],\n",
       "          [0.0040, 0.0080, 0.0040],\n",
       "          [0.0020, 0.0040, 0.0020]]], requires_grad=True))"
      ]
     },
     "execution_count": 66,
     "metadata": {},
     "output_type": "execute_result"
    }
   ],
   "source": [
    "##### ----- per-head linear projection: [M,H,O] -----\n",
    "##### Broadcast X across heads and multiply by per-head W: [H,M,I] @ [H,I,O] -> [H,M,O]\n",
    "gat2_attn_w = nn.Parameter(torch.empty(heads, n_embd, head_dim))\n",
    "with torch.no_grad(): \n",
    "    gat2_attn_w.copy_(pyramid_weight(n_embd, head_dim, base=0.002))\n",
    "gat2_attn_w.size(), gat2_attn_w"
   ]
  },
  {
   "cell_type": "code",
   "execution_count": 68,
   "id": "c8e8b893-1d6f-4602-b17f-4ab05b60f2a2",
   "metadata": {},
   "outputs": [
    {
     "data": {
      "text/plain": [
       "(24, 2, 3)"
      ]
     },
     "execution_count": 68,
     "metadata": {},
     "output_type": "execute_result"
    }
   ],
   "source": [
    "M = x_drop.size(0)\n",
    "H = gat2_attn_w.size(0)\n",
    "O = gat2_attn_w.size(2)\n",
    "M, H, O"
   ]
  },
  {
   "cell_type": "code",
   "execution_count": 69,
   "id": "384fa13b-1f06-455c-82a8-ce9316a45301",
   "metadata": {},
   "outputs": [
    {
     "data": {
      "text/plain": [
       "(torch.Size([2, 24, 3]),\n",
       " tensor([[[7.1111e-05, 1.4222e-04, 7.1111e-05],\n",
       "          [7.3333e-05, 1.4667e-04, 7.3333e-05],\n",
       "          [1.4667e-04, 2.9333e-04, 1.4667e-04],\n",
       "          [1.7333e-04, 3.4667e-04, 1.7333e-04],\n",
       "          [1.3556e-04, 2.7111e-04, 1.3556e-04],\n",
       "          [2.2667e-04, 4.5333e-04, 2.2667e-04],\n",
       "          [9.1111e-05, 1.8222e-04, 9.1111e-05],\n",
       "          [1.1556e-04, 2.3111e-04, 1.1556e-04],\n",
       "          [1.4667e-04, 2.9333e-04, 1.4667e-04],\n",
       "          [1.3333e-04, 2.6667e-04, 1.3333e-04],\n",
       "          [1.5333e-04, 3.0667e-04, 1.5333e-04],\n",
       "          [2.2667e-04, 4.5333e-04, 2.2667e-04],\n",
       "          [7.1111e-05, 1.4222e-04, 7.1111e-05],\n",
       "          [6.2222e-05, 1.2444e-04, 6.2222e-05],\n",
       "          [8.8889e-05, 1.7778e-04, 8.8889e-05],\n",
       "          [1.7333e-04, 3.4667e-04, 1.7333e-04],\n",
       "          [1.6667e-04, 3.3333e-04, 1.6667e-04],\n",
       "          [2.2667e-04, 4.5333e-04, 2.2667e-04],\n",
       "          [5.1111e-05, 1.0222e-04, 5.1111e-05],\n",
       "          [8.6667e-05, 1.7333e-04, 8.6667e-05],\n",
       "          [1.1556e-04, 2.3111e-04, 1.1556e-04],\n",
       "          [1.1111e-04, 2.2222e-04, 1.1111e-04],\n",
       "          [1.6222e-04, 3.2444e-04, 1.6222e-04],\n",
       "          [1.2889e-04, 2.5778e-04, 1.2889e-04]],\n",
       " \n",
       "         [[7.1111e-05, 1.4222e-04, 7.1111e-05],\n",
       "          [7.3333e-05, 1.4667e-04, 7.3333e-05],\n",
       "          [1.4667e-04, 2.9333e-04, 1.4667e-04],\n",
       "          [1.7333e-04, 3.4667e-04, 1.7333e-04],\n",
       "          [1.3556e-04, 2.7111e-04, 1.3556e-04],\n",
       "          [2.2667e-04, 4.5333e-04, 2.2667e-04],\n",
       "          [9.1111e-05, 1.8222e-04, 9.1111e-05],\n",
       "          [1.1556e-04, 2.3111e-04, 1.1556e-04],\n",
       "          [1.4667e-04, 2.9333e-04, 1.4667e-04],\n",
       "          [1.3333e-04, 2.6667e-04, 1.3333e-04],\n",
       "          [1.5333e-04, 3.0667e-04, 1.5333e-04],\n",
       "          [2.2667e-04, 4.5333e-04, 2.2667e-04],\n",
       "          [7.1111e-05, 1.4222e-04, 7.1111e-05],\n",
       "          [6.2222e-05, 1.2444e-04, 6.2222e-05],\n",
       "          [8.8889e-05, 1.7778e-04, 8.8889e-05],\n",
       "          [1.7333e-04, 3.4667e-04, 1.7333e-04],\n",
       "          [1.6667e-04, 3.3333e-04, 1.6667e-04],\n",
       "          [2.2667e-04, 4.5333e-04, 2.2667e-04],\n",
       "          [5.1111e-05, 1.0222e-04, 5.1111e-05],\n",
       "          [8.6667e-05, 1.7333e-04, 8.6667e-05],\n",
       "          [1.1556e-04, 2.3111e-04, 1.1556e-04],\n",
       "          [1.1111e-04, 2.2222e-04, 1.1111e-04],\n",
       "          [1.6222e-04, 3.2444e-04, 1.6222e-04],\n",
       "          [1.2889e-04, 2.5778e-04, 1.2889e-04]]], grad_fn=<CloneBackward0>))"
      ]
     },
     "execution_count": 69,
     "metadata": {},
     "output_type": "execute_result"
    }
   ],
   "source": [
    "Hproj = x_drop @ gat2_attn_w\n",
    "Hproj.size(), Hproj"
   ]
  },
  {
   "cell_type": "code",
   "execution_count": 70,
   "id": "9ed21740-2522-4a89-aa43-68253c63ba8b",
   "metadata": {},
   "outputs": [
    {
     "data": {
      "text/plain": [
       "(torch.Size([24, 2, 3]),\n",
       " tensor([[[7.1111e-05, 1.4222e-04, 7.1111e-05],\n",
       "          [7.1111e-05, 1.4222e-04, 7.1111e-05]],\n",
       " \n",
       "         [[7.3333e-05, 1.4667e-04, 7.3333e-05],\n",
       "          [7.3333e-05, 1.4667e-04, 7.3333e-05]],\n",
       " \n",
       "         [[1.4667e-04, 2.9333e-04, 1.4667e-04],\n",
       "          [1.4667e-04, 2.9333e-04, 1.4667e-04]],\n",
       " \n",
       "         [[1.7333e-04, 3.4667e-04, 1.7333e-04],\n",
       "          [1.7333e-04, 3.4667e-04, 1.7333e-04]],\n",
       " \n",
       "         [[1.3556e-04, 2.7111e-04, 1.3556e-04],\n",
       "          [1.3556e-04, 2.7111e-04, 1.3556e-04]],\n",
       " \n",
       "         [[2.2667e-04, 4.5333e-04, 2.2667e-04],\n",
       "          [2.2667e-04, 4.5333e-04, 2.2667e-04]],\n",
       " \n",
       "         [[9.1111e-05, 1.8222e-04, 9.1111e-05],\n",
       "          [9.1111e-05, 1.8222e-04, 9.1111e-05]],\n",
       " \n",
       "         [[1.1556e-04, 2.3111e-04, 1.1556e-04],\n",
       "          [1.1556e-04, 2.3111e-04, 1.1556e-04]],\n",
       " \n",
       "         [[1.4667e-04, 2.9333e-04, 1.4667e-04],\n",
       "          [1.4667e-04, 2.9333e-04, 1.4667e-04]],\n",
       " \n",
       "         [[1.3333e-04, 2.6667e-04, 1.3333e-04],\n",
       "          [1.3333e-04, 2.6667e-04, 1.3333e-04]],\n",
       " \n",
       "         [[1.5333e-04, 3.0667e-04, 1.5333e-04],\n",
       "          [1.5333e-04, 3.0667e-04, 1.5333e-04]],\n",
       " \n",
       "         [[2.2667e-04, 4.5333e-04, 2.2667e-04],\n",
       "          [2.2667e-04, 4.5333e-04, 2.2667e-04]],\n",
       " \n",
       "         [[7.1111e-05, 1.4222e-04, 7.1111e-05],\n",
       "          [7.1111e-05, 1.4222e-04, 7.1111e-05]],\n",
       " \n",
       "         [[6.2222e-05, 1.2444e-04, 6.2222e-05],\n",
       "          [6.2222e-05, 1.2444e-04, 6.2222e-05]],\n",
       " \n",
       "         [[8.8889e-05, 1.7778e-04, 8.8889e-05],\n",
       "          [8.8889e-05, 1.7778e-04, 8.8889e-05]],\n",
       " \n",
       "         [[1.7333e-04, 3.4667e-04, 1.7333e-04],\n",
       "          [1.7333e-04, 3.4667e-04, 1.7333e-04]],\n",
       " \n",
       "         [[1.6667e-04, 3.3333e-04, 1.6667e-04],\n",
       "          [1.6667e-04, 3.3333e-04, 1.6667e-04]],\n",
       " \n",
       "         [[2.2667e-04, 4.5333e-04, 2.2667e-04],\n",
       "          [2.2667e-04, 4.5333e-04, 2.2667e-04]],\n",
       " \n",
       "         [[5.1111e-05, 1.0222e-04, 5.1111e-05],\n",
       "          [5.1111e-05, 1.0222e-04, 5.1111e-05]],\n",
       " \n",
       "         [[8.6667e-05, 1.7333e-04, 8.6667e-05],\n",
       "          [8.6667e-05, 1.7333e-04, 8.6667e-05]],\n",
       " \n",
       "         [[1.1556e-04, 2.3111e-04, 1.1556e-04],\n",
       "          [1.1556e-04, 2.3111e-04, 1.1556e-04]],\n",
       " \n",
       "         [[1.1111e-04, 2.2222e-04, 1.1111e-04],\n",
       "          [1.1111e-04, 2.2222e-04, 1.1111e-04]],\n",
       " \n",
       "         [[1.6222e-04, 3.2444e-04, 1.6222e-04],\n",
       "          [1.6222e-04, 3.2444e-04, 1.6222e-04]],\n",
       " \n",
       "         [[1.2889e-04, 2.5778e-04, 1.2889e-04],\n",
       "          [1.2889e-04, 2.5778e-04, 1.2889e-04]]], grad_fn=<PermuteBackward0>))"
      ]
     },
     "execution_count": 70,
     "metadata": {},
     "output_type": "execute_result"
    }
   ],
   "source": [
    "Hproj = Hproj.permute(1, 0, 2) \n",
    "Hproj.size(), Hproj\n"
   ]
  },
  {
   "cell_type": "code",
   "execution_count": 71,
   "id": "34a70104-a19c-4664-9c62-029c8e11d782",
   "metadata": {},
   "outputs": [
    {
     "data": {
      "text/plain": [
       "(torch.Size([2, 3, 1]),\n",
       " Parameter containing:\n",
       " tensor([[[0.0100],\n",
       "          [0.0200],\n",
       "          [0.0300]],\n",
       " \n",
       "         [[0.0100],\n",
       "          [0.0200],\n",
       "          [0.0300]]], requires_grad=True))"
      ]
     },
     "execution_count": 71,
     "metadata": {},
     "output_type": "execute_result"
    }
   ],
   "source": [
    "##### ----- attention logits e_ij per head -----\n",
    "# Compute node-wise scores for each head, then combine to pairwise:\n",
    "gat2_attn_src = nn.Parameter(torch.empty(heads, head_dim, 1))\n",
    "with torch.no_grad(): \n",
    "    src_pattern = torch.tensor([[0.01],[0.02],[0.03]])\n",
    "    gat2_attn_src.copy_(src_pattern)\n",
    "gat2_attn_src.size(), gat2_attn_src"
   ]
  },
  {
   "cell_type": "code",
   "execution_count": 72,
   "id": "0f95da6c-8a78-4ef1-af1b-96ead80f3333",
   "metadata": {},
   "outputs": [
    {
     "data": {
      "text/plain": [
       "(torch.Size([2, 3, 1]),\n",
       " Parameter containing:\n",
       " tensor([[[0.0200],\n",
       "          [0.0100],\n",
       "          [0.0200]],\n",
       " \n",
       "         [[0.0200],\n",
       "          [0.0100],\n",
       "          [0.0200]]], requires_grad=True))"
      ]
     },
     "execution_count": 72,
     "metadata": {},
     "output_type": "execute_result"
    }
   ],
   "source": [
    "gat2_attn_dst = nn.Parameter(torch.empty(heads, head_dim, 1))\n",
    "with torch.no_grad(): \n",
    "    dst_pattern = torch.tensor([[0.02],[0.01],[0.02]])\n",
    "    gat2_attn_dst.copy_(dst_pattern)\n",
    "gat2_attn_dst.size(), gat2_attn_dst"
   ]
  },
  {
   "cell_type": "code",
   "execution_count": 73,
   "id": "9c07e5ad-7994-432d-8229-03d93fe6e481",
   "metadata": {},
   "outputs": [
    {
     "data": {
      "text/plain": [
       "(torch.Size([2, 24, 3]),\n",
       " tensor([[[7.1111e-05, 1.4222e-04, 7.1111e-05],\n",
       "          [7.3333e-05, 1.4667e-04, 7.3333e-05],\n",
       "          [1.4667e-04, 2.9333e-04, 1.4667e-04],\n",
       "          [1.7333e-04, 3.4667e-04, 1.7333e-04],\n",
       "          [1.3556e-04, 2.7111e-04, 1.3556e-04],\n",
       "          [2.2667e-04, 4.5333e-04, 2.2667e-04],\n",
       "          [9.1111e-05, 1.8222e-04, 9.1111e-05],\n",
       "          [1.1556e-04, 2.3111e-04, 1.1556e-04],\n",
       "          [1.4667e-04, 2.9333e-04, 1.4667e-04],\n",
       "          [1.3333e-04, 2.6667e-04, 1.3333e-04],\n",
       "          [1.5333e-04, 3.0667e-04, 1.5333e-04],\n",
       "          [2.2667e-04, 4.5333e-04, 2.2667e-04],\n",
       "          [7.1111e-05, 1.4222e-04, 7.1111e-05],\n",
       "          [6.2222e-05, 1.2444e-04, 6.2222e-05],\n",
       "          [8.8889e-05, 1.7778e-04, 8.8889e-05],\n",
       "          [1.7333e-04, 3.4667e-04, 1.7333e-04],\n",
       "          [1.6667e-04, 3.3333e-04, 1.6667e-04],\n",
       "          [2.2667e-04, 4.5333e-04, 2.2667e-04],\n",
       "          [5.1111e-05, 1.0222e-04, 5.1111e-05],\n",
       "          [8.6667e-05, 1.7333e-04, 8.6667e-05],\n",
       "          [1.1556e-04, 2.3111e-04, 1.1556e-04],\n",
       "          [1.1111e-04, 2.2222e-04, 1.1111e-04],\n",
       "          [1.6222e-04, 3.2444e-04, 1.6222e-04],\n",
       "          [1.2889e-04, 2.5778e-04, 1.2889e-04]],\n",
       " \n",
       "         [[7.1111e-05, 1.4222e-04, 7.1111e-05],\n",
       "          [7.3333e-05, 1.4667e-04, 7.3333e-05],\n",
       "          [1.4667e-04, 2.9333e-04, 1.4667e-04],\n",
       "          [1.7333e-04, 3.4667e-04, 1.7333e-04],\n",
       "          [1.3556e-04, 2.7111e-04, 1.3556e-04],\n",
       "          [2.2667e-04, 4.5333e-04, 2.2667e-04],\n",
       "          [9.1111e-05, 1.8222e-04, 9.1111e-05],\n",
       "          [1.1556e-04, 2.3111e-04, 1.1556e-04],\n",
       "          [1.4667e-04, 2.9333e-04, 1.4667e-04],\n",
       "          [1.3333e-04, 2.6667e-04, 1.3333e-04],\n",
       "          [1.5333e-04, 3.0667e-04, 1.5333e-04],\n",
       "          [2.2667e-04, 4.5333e-04, 2.2667e-04],\n",
       "          [7.1111e-05, 1.4222e-04, 7.1111e-05],\n",
       "          [6.2222e-05, 1.2444e-04, 6.2222e-05],\n",
       "          [8.8889e-05, 1.7778e-04, 8.8889e-05],\n",
       "          [1.7333e-04, 3.4667e-04, 1.7333e-04],\n",
       "          [1.6667e-04, 3.3333e-04, 1.6667e-04],\n",
       "          [2.2667e-04, 4.5333e-04, 2.2667e-04],\n",
       "          [5.1111e-05, 1.0222e-04, 5.1111e-05],\n",
       "          [8.6667e-05, 1.7333e-04, 8.6667e-05],\n",
       "          [1.1556e-04, 2.3111e-04, 1.1556e-04],\n",
       "          [1.1111e-04, 2.2222e-04, 1.1111e-04],\n",
       "          [1.6222e-04, 3.2444e-04, 1.6222e-04],\n",
       "          [1.2889e-04, 2.5778e-04, 1.2889e-04]]], grad_fn=<PermuteBackward0>))"
      ]
     },
     "execution_count": 73,
     "metadata": {},
     "output_type": "execute_result"
    }
   ],
   "source": [
    "Hh = Hproj.permute(1, 0, 2)                  # [H,M,O]\n",
    "Hh.size(), Hh"
   ]
  },
  {
   "cell_type": "code",
   "execution_count": 74,
   "id": "ef460ee5-a960-4819-b08f-bd1a827bca71",
   "metadata": {},
   "outputs": [
    {
     "data": {
      "text/plain": [
       "(torch.Size([2, 24, 1]),\n",
       " tensor([[[5.6889e-06],\n",
       "          [5.8667e-06],\n",
       "          [1.1733e-05],\n",
       "          [1.3867e-05],\n",
       "          [1.0844e-05],\n",
       "          [1.8133e-05],\n",
       "          [7.2889e-06],\n",
       "          [9.2444e-06],\n",
       "          [1.1733e-05],\n",
       "          [1.0667e-05],\n",
       "          [1.2267e-05],\n",
       "          [1.8133e-05],\n",
       "          [5.6889e-06],\n",
       "          [4.9778e-06],\n",
       "          [7.1111e-06],\n",
       "          [1.3867e-05],\n",
       "          [1.3333e-05],\n",
       "          [1.8133e-05],\n",
       "          [4.0889e-06],\n",
       "          [6.9333e-06],\n",
       "          [9.2444e-06],\n",
       "          [8.8889e-06],\n",
       "          [1.2978e-05],\n",
       "          [1.0311e-05]],\n",
       " \n",
       "         [[5.6889e-06],\n",
       "          [5.8667e-06],\n",
       "          [1.1733e-05],\n",
       "          [1.3867e-05],\n",
       "          [1.0844e-05],\n",
       "          [1.8133e-05],\n",
       "          [7.2889e-06],\n",
       "          [9.2444e-06],\n",
       "          [1.1733e-05],\n",
       "          [1.0667e-05],\n",
       "          [1.2267e-05],\n",
       "          [1.8133e-05],\n",
       "          [5.6889e-06],\n",
       "          [4.9778e-06],\n",
       "          [7.1111e-06],\n",
       "          [1.3867e-05],\n",
       "          [1.3333e-05],\n",
       "          [1.8133e-05],\n",
       "          [4.0889e-06],\n",
       "          [6.9333e-06],\n",
       "          [9.2444e-06],\n",
       "          [8.8889e-06],\n",
       "          [1.2978e-05],\n",
       "          [1.0311e-05]]], grad_fn=<UnsafeViewBackward0>))"
      ]
     },
     "execution_count": 74,
     "metadata": {},
     "output_type": "execute_result"
    }
   ],
   "source": [
    "e_src = Hh @ gat2_attn_src\n",
    "e_src.size(), e_src"
   ]
  },
  {
   "cell_type": "code",
   "execution_count": 75,
   "id": "03c89c21-2267-4edb-b425-6c5b1024e146",
   "metadata": {},
   "outputs": [
    {
     "data": {
      "text/plain": [
       "(torch.Size([24, 1, 2]),\n",
       " tensor([[[5.6889e-06, 5.6889e-06]],\n",
       " \n",
       "         [[5.8667e-06, 5.8667e-06]],\n",
       " \n",
       "         [[1.1733e-05, 1.1733e-05]],\n",
       " \n",
       "         [[1.3867e-05, 1.3867e-05]],\n",
       " \n",
       "         [[1.0844e-05, 1.0844e-05]],\n",
       " \n",
       "         [[1.8133e-05, 1.8133e-05]],\n",
       " \n",
       "         [[7.2889e-06, 7.2889e-06]],\n",
       " \n",
       "         [[9.2444e-06, 9.2444e-06]],\n",
       " \n",
       "         [[1.1733e-05, 1.1733e-05]],\n",
       " \n",
       "         [[1.0667e-05, 1.0667e-05]],\n",
       " \n",
       "         [[1.2267e-05, 1.2267e-05]],\n",
       " \n",
       "         [[1.8133e-05, 1.8133e-05]],\n",
       " \n",
       "         [[5.6889e-06, 5.6889e-06]],\n",
       " \n",
       "         [[4.9778e-06, 4.9778e-06]],\n",
       " \n",
       "         [[7.1111e-06, 7.1111e-06]],\n",
       " \n",
       "         [[1.3867e-05, 1.3867e-05]],\n",
       " \n",
       "         [[1.3333e-05, 1.3333e-05]],\n",
       " \n",
       "         [[1.8133e-05, 1.8133e-05]],\n",
       " \n",
       "         [[4.0889e-06, 4.0889e-06]],\n",
       " \n",
       "         [[6.9333e-06, 6.9333e-06]],\n",
       " \n",
       "         [[9.2444e-06, 9.2444e-06]],\n",
       " \n",
       "         [[8.8889e-06, 8.8889e-06]],\n",
       " \n",
       "         [[1.2978e-05, 1.2978e-05]],\n",
       " \n",
       "         [[1.0311e-05, 1.0311e-05]]], grad_fn=<UnsqueezeBackward0>))"
      ]
     },
     "execution_count": 75,
     "metadata": {},
     "output_type": "execute_result"
    }
   ],
   "source": [
    "e_src = e_src.squeeze(-1).transpose(0, 1).unsqueeze(1)  # [M,1,H]\n",
    "e_src.size(), e_src"
   ]
  },
  {
   "cell_type": "code",
   "execution_count": 76,
   "id": "95b1def6-1726-4480-aede-75c99bfd586c",
   "metadata": {},
   "outputs": [
    {
     "data": {
      "text/plain": [
       "(torch.Size([1, 24, 2]),\n",
       " tensor([[[4.2667e-06, 4.2667e-06],\n",
       "          [4.4000e-06, 4.4000e-06],\n",
       "          [8.8000e-06, 8.8000e-06],\n",
       "          [1.0400e-05, 1.0400e-05],\n",
       "          [8.1333e-06, 8.1333e-06],\n",
       "          [1.3600e-05, 1.3600e-05],\n",
       "          [5.4667e-06, 5.4667e-06],\n",
       "          [6.9333e-06, 6.9333e-06],\n",
       "          [8.8000e-06, 8.8000e-06],\n",
       "          [8.0000e-06, 8.0000e-06],\n",
       "          [9.2000e-06, 9.2000e-06],\n",
       "          [1.3600e-05, 1.3600e-05],\n",
       "          [4.2667e-06, 4.2667e-06],\n",
       "          [3.7333e-06, 3.7333e-06],\n",
       "          [5.3333e-06, 5.3333e-06],\n",
       "          [1.0400e-05, 1.0400e-05],\n",
       "          [1.0000e-05, 1.0000e-05],\n",
       "          [1.3600e-05, 1.3600e-05],\n",
       "          [3.0667e-06, 3.0667e-06],\n",
       "          [5.2000e-06, 5.2000e-06],\n",
       "          [6.9333e-06, 6.9333e-06],\n",
       "          [6.6667e-06, 6.6667e-06],\n",
       "          [9.7333e-06, 9.7333e-06],\n",
       "          [7.7333e-06, 7.7333e-06]]], grad_fn=<UnsqueezeBackward0>))"
      ]
     },
     "execution_count": 76,
     "metadata": {},
     "output_type": "execute_result"
    }
   ],
   "source": [
    "e_dst = Hh @ gat2_attn_dst\n",
    "e_dst.size(), e_dst\n",
    "e_dst = e_dst.squeeze(-1).transpose(0, 1).unsqueeze(0)  # [1,M,H]\n",
    "e_dst.size(), e_dst"
   ]
  },
  {
   "cell_type": "code",
   "execution_count": 77,
   "id": "8c7e20d0-5c4a-44e0-ae0a-0d4b1d6ad83c",
   "metadata": {},
   "outputs": [
    {
     "data": {
      "text/plain": [
       "(torch.Size([24, 24, 2]),\n",
       " tensor([[[9.9556e-06, 9.9556e-06],\n",
       "          [1.0089e-05, 1.0089e-05],\n",
       "          [1.4489e-05, 1.4489e-05],\n",
       "          ...,\n",
       "          [1.2356e-05, 1.2356e-05],\n",
       "          [1.5422e-05, 1.5422e-05],\n",
       "          [1.3422e-05, 1.3422e-05]],\n",
       " \n",
       "         [[1.0133e-05, 1.0133e-05],\n",
       "          [1.0267e-05, 1.0267e-05],\n",
       "          [1.4667e-05, 1.4667e-05],\n",
       "          ...,\n",
       "          [1.2533e-05, 1.2533e-05],\n",
       "          [1.5600e-05, 1.5600e-05],\n",
       "          [1.3600e-05, 1.3600e-05]],\n",
       " \n",
       "         [[1.6000e-05, 1.6000e-05],\n",
       "          [1.6133e-05, 1.6133e-05],\n",
       "          [2.0533e-05, 2.0533e-05],\n",
       "          ...,\n",
       "          [1.8400e-05, 1.8400e-05],\n",
       "          [2.1467e-05, 2.1467e-05],\n",
       "          [1.9467e-05, 1.9467e-05]],\n",
       " \n",
       "         ...,\n",
       " \n",
       "         [[1.3156e-05, 1.3156e-05],\n",
       "          [1.3289e-05, 1.3289e-05],\n",
       "          [1.7689e-05, 1.7689e-05],\n",
       "          ...,\n",
       "          [1.5556e-05, 1.5556e-05],\n",
       "          [1.8622e-05, 1.8622e-05],\n",
       "          [1.6622e-05, 1.6622e-05]],\n",
       " \n",
       "         [[1.7244e-05, 1.7244e-05],\n",
       "          [1.7378e-05, 1.7378e-05],\n",
       "          [2.1778e-05, 2.1778e-05],\n",
       "          ...,\n",
       "          [1.9644e-05, 1.9644e-05],\n",
       "          [2.2711e-05, 2.2711e-05],\n",
       "          [2.0711e-05, 2.0711e-05]],\n",
       " \n",
       "         [[1.4578e-05, 1.4578e-05],\n",
       "          [1.4711e-05, 1.4711e-05],\n",
       "          [1.9111e-05, 1.9111e-05],\n",
       "          ...,\n",
       "          [1.6978e-05, 1.6978e-05],\n",
       "          [2.0044e-05, 2.0044e-05],\n",
       "          [1.8044e-05, 1.8044e-05]]], grad_fn=<AddBackward0>))"
      ]
     },
     "execution_count": 77,
     "metadata": {},
     "output_type": "execute_result"
    }
   ],
   "source": [
    "e = e_src + e_dst            # [M,M,H\n",
    "e.size(), e"
   ]
  },
  {
   "cell_type": "code",
   "execution_count": 78,
   "id": "c0006e98-1484-4816-995b-dad6c44e4b61",
   "metadata": {},
   "outputs": [
    {
     "data": {
      "text/plain": [
       "(torch.Size([2, 1]),\n",
       " Parameter containing:\n",
       " tensor([[0.0500],\n",
       "         [0.0400]], requires_grad=True))"
      ]
     },
     "execution_count": 78,
     "metadata": {},
     "output_type": "execute_result"
    }
   ],
   "source": [
    "##### inject edge sign into scores (learnable per-head coefficient)\n",
    "\n",
    "gat2_attn_sign = nn.Parameter(torch.zeros(heads, 1)) \n",
    "with torch.no_grad(): \n",
    "    sign_pattern = torch.tensor([[0.05],[0.04]])\n",
    "    gat2_attn_sign.copy_(sign_pattern)\n",
    "gat2_attn_sign.size(), gat2_attn_sign  # learnable sign term per head"
   ]
  },
  {
   "cell_type": "code",
   "execution_count": 79,
   "id": "83282051-d09b-495f-83af-4064002fef6d",
   "metadata": {},
   "outputs": [
    {
     "data": {
      "text/plain": [
       "(torch.Size([24, 24, 2]),\n",
       " tensor([[[ 0.0500,  0.0400],\n",
       "          [ 0.0000,  0.0000],\n",
       "          [ 0.0000,  0.0000],\n",
       "          ...,\n",
       "          [ 0.0000,  0.0000],\n",
       "          [ 0.0000,  0.0000],\n",
       "          [ 0.0000,  0.0000]],\n",
       " \n",
       "         [[ 0.0000,  0.0000],\n",
       "          [ 0.0500,  0.0400],\n",
       "          [ 0.0000,  0.0000],\n",
       "          ...,\n",
       "          [ 0.0000,  0.0000],\n",
       "          [ 0.0000,  0.0000],\n",
       "          [ 0.0000,  0.0000]],\n",
       " \n",
       "         [[ 0.0000,  0.0000],\n",
       "          [ 0.0000,  0.0000],\n",
       "          [ 0.0500,  0.0400],\n",
       "          ...,\n",
       "          [ 0.0000,  0.0000],\n",
       "          [ 0.0000,  0.0000],\n",
       "          [ 0.0000,  0.0000]],\n",
       " \n",
       "         ...,\n",
       " \n",
       "         [[ 0.0000,  0.0000],\n",
       "          [ 0.0000,  0.0000],\n",
       "          [ 0.0000,  0.0000],\n",
       "          ...,\n",
       "          [ 0.0500,  0.0400],\n",
       "          [-0.0500, -0.0400],\n",
       "          [ 0.0500,  0.0400]],\n",
       " \n",
       "         [[ 0.0000,  0.0000],\n",
       "          [ 0.0000,  0.0000],\n",
       "          [ 0.0000,  0.0000],\n",
       "          ...,\n",
       "          [-0.0500, -0.0400],\n",
       "          [ 0.0500,  0.0400],\n",
       "          [ 0.0000,  0.0000]],\n",
       " \n",
       "         [[ 0.0000,  0.0000],\n",
       "          [ 0.0000,  0.0000],\n",
       "          [ 0.0000,  0.0000],\n",
       "          ...,\n",
       "          [ 0.0500,  0.0400],\n",
       "          [ 0.0000,  0.0000],\n",
       "          [ 0.0500,  0.0400]]], grad_fn=<MulBackward0>))"
      ]
     },
     "execution_count": 79,
     "metadata": {},
     "output_type": "execute_result"
    }
   ],
   "source": [
    "e_sig_a = signed_a * gat2_attn_sign.view(1, 1, -1) # [M,M,H]\n",
    "e_sig_a.size(), e_sig_a"
   ]
  },
  {
   "cell_type": "code",
   "execution_count": 80,
   "id": "fe04039b-1c85-46d7-beb9-53d361f82933",
   "metadata": {},
   "outputs": [
    {
     "data": {
      "text/plain": [
       "(torch.Size([24, 24, 2]),\n",
       " tensor([[[ 5.0010e-02,  4.0010e-02],\n",
       "          [ 1.0089e-05,  1.0089e-05],\n",
       "          [ 1.4489e-05,  1.4489e-05],\n",
       "          ...,\n",
       "          [ 1.2356e-05,  1.2356e-05],\n",
       "          [ 1.5422e-05,  1.5422e-05],\n",
       "          [ 1.3422e-05,  1.3422e-05]],\n",
       " \n",
       "         [[ 1.0133e-05,  1.0133e-05],\n",
       "          [ 5.0010e-02,  4.0010e-02],\n",
       "          [ 1.4667e-05,  1.4667e-05],\n",
       "          ...,\n",
       "          [ 1.2533e-05,  1.2533e-05],\n",
       "          [ 1.5600e-05,  1.5600e-05],\n",
       "          [ 1.3600e-05,  1.3600e-05]],\n",
       " \n",
       "         [[ 1.6000e-05,  1.6000e-05],\n",
       "          [ 1.6133e-05,  1.6133e-05],\n",
       "          [ 5.0021e-02,  4.0021e-02],\n",
       "          ...,\n",
       "          [ 1.8400e-05,  1.8400e-05],\n",
       "          [ 2.1467e-05,  2.1467e-05],\n",
       "          [ 1.9467e-05,  1.9467e-05]],\n",
       " \n",
       "         ...,\n",
       " \n",
       "         [[ 1.3156e-05,  1.3156e-05],\n",
       "          [ 1.3289e-05,  1.3289e-05],\n",
       "          [ 1.7689e-05,  1.7689e-05],\n",
       "          ...,\n",
       "          [ 5.0016e-02,  4.0016e-02],\n",
       "          [-4.9981e-02, -3.9981e-02],\n",
       "          [ 5.0017e-02,  4.0017e-02]],\n",
       " \n",
       "         [[ 1.7244e-05,  1.7244e-05],\n",
       "          [ 1.7378e-05,  1.7378e-05],\n",
       "          [ 2.1778e-05,  2.1778e-05],\n",
       "          ...,\n",
       "          [-4.9980e-02, -3.9980e-02],\n",
       "          [ 5.0023e-02,  4.0023e-02],\n",
       "          [ 2.0711e-05,  2.0711e-05]],\n",
       " \n",
       "         [[ 1.4578e-05,  1.4578e-05],\n",
       "          [ 1.4711e-05,  1.4711e-05],\n",
       "          [ 1.9111e-05,  1.9111e-05],\n",
       "          ...,\n",
       "          [ 5.0017e-02,  4.0017e-02],\n",
       "          [ 2.0044e-05,  2.0044e-05],\n",
       "          [ 5.0018e-02,  4.0018e-02]]], grad_fn=<AddBackward0>))"
      ]
     },
     "execution_count": 80,
     "metadata": {},
     "output_type": "execute_result"
    }
   ],
   "source": [
    "e = e + e_sig_a \n",
    "e.size(), e      # [M,M,H]"
   ]
  },
  {
   "cell_type": "code",
   "execution_count": 82,
   "id": "c1b6438e-21b1-490c-b178-c4371d3ebf69",
   "metadata": {},
   "outputs": [
    {
     "data": {
      "text/plain": [
       "(torch.Size([24, 24, 2]),\n",
       " tensor([[[ 5.0010e-02,  4.0010e-02],\n",
       "          [ 1.0089e-05,  1.0089e-05],\n",
       "          [ 1.4489e-05,  1.4489e-05],\n",
       "          ...,\n",
       "          [ 1.2356e-05,  1.2356e-05],\n",
       "          [ 1.5422e-05,  1.5422e-05],\n",
       "          [ 1.3422e-05,  1.3422e-05]],\n",
       " \n",
       "         [[ 1.0133e-05,  1.0133e-05],\n",
       "          [ 5.0010e-02,  4.0010e-02],\n",
       "          [ 1.4667e-05,  1.4667e-05],\n",
       "          ...,\n",
       "          [ 1.2533e-05,  1.2533e-05],\n",
       "          [ 1.5600e-05,  1.5600e-05],\n",
       "          [ 1.3600e-05,  1.3600e-05]],\n",
       " \n",
       "         [[ 1.6000e-05,  1.6000e-05],\n",
       "          [ 1.6133e-05,  1.6133e-05],\n",
       "          [ 5.0021e-02,  4.0021e-02],\n",
       "          ...,\n",
       "          [ 1.8400e-05,  1.8400e-05],\n",
       "          [ 2.1467e-05,  2.1467e-05],\n",
       "          [ 1.9467e-05,  1.9467e-05]],\n",
       " \n",
       "         ...,\n",
       " \n",
       "         [[ 1.3156e-05,  1.3156e-05],\n",
       "          [ 1.3289e-05,  1.3289e-05],\n",
       "          [ 1.7689e-05,  1.7689e-05],\n",
       "          ...,\n",
       "          [ 5.0016e-02,  4.0016e-02],\n",
       "          [-9.9963e-03, -7.9963e-03],\n",
       "          [ 5.0017e-02,  4.0017e-02]],\n",
       " \n",
       "         [[ 1.7244e-05,  1.7244e-05],\n",
       "          [ 1.7378e-05,  1.7378e-05],\n",
       "          [ 2.1778e-05,  2.1778e-05],\n",
       "          ...,\n",
       "          [-9.9961e-03, -7.9961e-03],\n",
       "          [ 5.0023e-02,  4.0023e-02],\n",
       "          [ 2.0711e-05,  2.0711e-05]],\n",
       " \n",
       "         [[ 1.4578e-05,  1.4578e-05],\n",
       "          [ 1.4711e-05,  1.4711e-05],\n",
       "          [ 1.9111e-05,  1.9111e-05],\n",
       "          ...,\n",
       "          [ 5.0017e-02,  4.0017e-02],\n",
       "          [ 2.0044e-05,  2.0044e-05],\n",
       "          [ 5.0018e-02,  4.0018e-02]]], grad_fn=<LeakyReluBackward1>))"
      ]
     },
     "execution_count": 82,
     "metadata": {},
     "output_type": "execute_result"
    }
   ],
   "source": [
    "##### regularization\n",
    "gat2_attn_lrelu = nn.LeakyReLU(0.2, inplace=True)\n",
    "e = gat2_attn_lrelu(e)                         # LeakyReLU\n",
    "e.size(), e\n"
   ]
  },
  {
   "cell_type": "code",
   "execution_count": 83,
   "id": "4993eedb-9c24-43e6-909a-ac22f88e3156",
   "metadata": {},
   "outputs": [
    {
     "data": {
      "text/plain": [
       "(torch.Size([24, 24, 2]),\n",
       " tensor([[[ 0.0500,  0.0400],\n",
       "          [   -inf,    -inf],\n",
       "          [   -inf,    -inf],\n",
       "          ...,\n",
       "          [   -inf,    -inf],\n",
       "          [   -inf,    -inf],\n",
       "          [   -inf,    -inf]],\n",
       " \n",
       "         [[   -inf,    -inf],\n",
       "          [ 0.0500,  0.0400],\n",
       "          [   -inf,    -inf],\n",
       "          ...,\n",
       "          [   -inf,    -inf],\n",
       "          [   -inf,    -inf],\n",
       "          [   -inf,    -inf]],\n",
       " \n",
       "         [[   -inf,    -inf],\n",
       "          [   -inf,    -inf],\n",
       "          [ 0.0500,  0.0400],\n",
       "          ...,\n",
       "          [   -inf,    -inf],\n",
       "          [   -inf,    -inf],\n",
       "          [   -inf,    -inf]],\n",
       " \n",
       "         ...,\n",
       " \n",
       "         [[   -inf,    -inf],\n",
       "          [   -inf,    -inf],\n",
       "          [   -inf,    -inf],\n",
       "          ...,\n",
       "          [ 0.0500,  0.0400],\n",
       "          [-0.0100, -0.0080],\n",
       "          [ 0.0500,  0.0400]],\n",
       " \n",
       "         [[   -inf,    -inf],\n",
       "          [   -inf,    -inf],\n",
       "          [   -inf,    -inf],\n",
       "          ...,\n",
       "          [-0.0100, -0.0080],\n",
       "          [ 0.0500,  0.0400],\n",
       "          [   -inf,    -inf]],\n",
       " \n",
       "         [[   -inf,    -inf],\n",
       "          [   -inf,    -inf],\n",
       "          [   -inf,    -inf],\n",
       "          ...,\n",
       "          [ 0.0500,  0.0400],\n",
       "          [   -inf,    -inf],\n",
       "          [ 0.0500,  0.0400]]], grad_fn=<MaskedFillBackward0>))"
      ]
     },
     "execution_count": 83,
     "metadata": {},
     "output_type": "execute_result"
    }
   ],
   "source": [
    "e = e.masked_fill(~mask.unsqueeze(-1), float('-inf')) #[M,M,H]\n",
    "e.size(), e"
   ]
  },
  {
   "cell_type": "code",
   "execution_count": 84,
   "id": "4e89a2bc-d0ae-4a76-b32b-d66261d43b84",
   "metadata": {},
   "outputs": [
    {
     "data": {
      "text/plain": [
       "(torch.Size([24, 24, 2]),\n",
       " tensor([[[0.3399, 0.3386],\n",
       "          [0.0000, 0.0000],\n",
       "          [0.0000, 0.0000],\n",
       "          ...,\n",
       "          [0.0000, 0.0000],\n",
       "          [0.0000, 0.0000],\n",
       "          [0.0000, 0.0000]],\n",
       " \n",
       "         [[0.0000, 0.0000],\n",
       "          [0.3399, 0.3386],\n",
       "          [0.0000, 0.0000],\n",
       "          ...,\n",
       "          [0.0000, 0.0000],\n",
       "          [0.0000, 0.0000],\n",
       "          [0.0000, 0.0000]],\n",
       " \n",
       "         [[0.0000, 0.0000],\n",
       "          [0.0000, 0.0000],\n",
       "          [0.3399, 0.3386],\n",
       "          ...,\n",
       "          [0.0000, 0.0000],\n",
       "          [0.0000, 0.0000],\n",
       "          [0.0000, 0.0000]],\n",
       " \n",
       "         ...,\n",
       " \n",
       "         [[0.0000, 0.0000],\n",
       "          [0.0000, 0.0000],\n",
       "          [0.0000, 0.0000],\n",
       "          ...,\n",
       "          [0.3399, 0.3386],\n",
       "          [0.3201, 0.3228],\n",
       "          [0.3399, 0.3386]],\n",
       " \n",
       "         [[0.0000, 0.0000],\n",
       "          [0.0000, 0.0000],\n",
       "          [0.0000, 0.0000],\n",
       "          ...,\n",
       "          [0.1952, 0.1961],\n",
       "          [0.2072, 0.2058],\n",
       "          [0.0000, 0.0000]],\n",
       " \n",
       "         [[0.0000, 0.0000],\n",
       "          [0.0000, 0.0000],\n",
       "          [0.0000, 0.0000],\n",
       "          ...,\n",
       "          [0.2048, 0.2038],\n",
       "          [0.0000, 0.0000],\n",
       "          [0.2048, 0.2038]]], grad_fn=<SoftmaxBackward0>))"
      ]
     },
     "execution_count": 84,
     "metadata": {},
     "output_type": "execute_result"
    }
   ],
   "source": [
    "alpha = torch.softmax(e, dim=1)             # softmax over source neighbors\n",
    "alpha.size(), alpha"
   ]
  },
  {
   "cell_type": "code",
   "execution_count": 85,
   "id": "f64c01da-4c18-4491-b107-75a0a9503db3",
   "metadata": {},
   "outputs": [
    {
     "data": {
      "text/plain": [
       "(torch.Size([24, 24, 2]),\n",
       " tensor([[[0.3578, 0.3564],\n",
       "          [0.0000, 0.0000],\n",
       "          [0.0000, 0.0000],\n",
       "          ...,\n",
       "          [0.0000, 0.0000],\n",
       "          [0.0000, 0.0000],\n",
       "          [0.0000, 0.0000]],\n",
       " \n",
       "         [[0.0000, 0.0000],\n",
       "          [0.0000, 0.3564],\n",
       "          [0.0000, 0.0000],\n",
       "          ...,\n",
       "          [0.0000, 0.0000],\n",
       "          [0.0000, 0.0000],\n",
       "          [0.0000, 0.0000]],\n",
       " \n",
       "         [[0.0000, 0.0000],\n",
       "          [0.0000, 0.0000],\n",
       "          [0.3578, 0.0000],\n",
       "          ...,\n",
       "          [0.0000, 0.0000],\n",
       "          [0.0000, 0.0000],\n",
       "          [0.0000, 0.0000]],\n",
       " \n",
       "         ...,\n",
       " \n",
       "         [[0.0000, 0.0000],\n",
       "          [0.0000, 0.0000],\n",
       "          [0.0000, 0.0000],\n",
       "          ...,\n",
       "          [0.3578, 0.3564],\n",
       "          [0.3370, 0.3397],\n",
       "          [0.3578, 0.3564]],\n",
       " \n",
       "         [[0.0000, 0.0000],\n",
       "          [0.0000, 0.0000],\n",
       "          [0.0000, 0.0000],\n",
       "          ...,\n",
       "          [0.2054, 0.2065],\n",
       "          [0.2182, 0.2166],\n",
       "          [0.0000, 0.0000]],\n",
       " \n",
       "         [[0.0000, 0.0000],\n",
       "          [0.0000, 0.0000],\n",
       "          [0.0000, 0.0000],\n",
       "          ...,\n",
       "          [0.2155, 0.2145],\n",
       "          [0.0000, 0.0000],\n",
       "          [0.2155, 0.2145]]], grad_fn=<MulBackward0>))"
      ]
     },
     "execution_count": 85,
     "metadata": {},
     "output_type": "execute_result"
    }
   ],
   "source": [
    "##### dropout\n",
    "gat2_attn_drop = nn.Dropout(attn_dropout)\n",
    "alpha = gat2_attn_drop(alpha)                # attention dropout\n",
    "alpha.size(), alpha"
   ]
  },
  {
   "cell_type": "code",
   "execution_count": 86,
   "id": "0eb52140-71b9-4218-aa09-37d451b76689",
   "metadata": {},
   "outputs": [
    {
     "data": {
      "text/plain": [
       "(torch.Size([2, 24, 24]),\n",
       " tensor([[[0.3578, 0.0000, 0.0000,  ..., 0.0000, 0.0000, 0.0000],\n",
       "          [0.0000, 0.0000, 0.0000,  ..., 0.0000, 0.0000, 0.0000],\n",
       "          [0.0000, 0.0000, 0.3578,  ..., 0.0000, 0.0000, 0.0000],\n",
       "          ...,\n",
       "          [0.0000, 0.0000, 0.0000,  ..., 0.3578, 0.3370, 0.3578],\n",
       "          [0.0000, 0.0000, 0.0000,  ..., 0.2054, 0.2182, 0.0000],\n",
       "          [0.0000, 0.0000, 0.0000,  ..., 0.2155, 0.0000, 0.2155]],\n",
       " \n",
       "         [[0.3564, 0.0000, 0.0000,  ..., 0.0000, 0.0000, 0.0000],\n",
       "          [0.0000, 0.3564, 0.0000,  ..., 0.0000, 0.0000, 0.0000],\n",
       "          [0.0000, 0.0000, 0.0000,  ..., 0.0000, 0.0000, 0.0000],\n",
       "          ...,\n",
       "          [0.0000, 0.0000, 0.0000,  ..., 0.3564, 0.3397, 0.3564],\n",
       "          [0.0000, 0.0000, 0.0000,  ..., 0.2065, 0.2166, 0.0000],\n",
       "          [0.0000, 0.0000, 0.0000,  ..., 0.2145, 0.0000, 0.2145]]],\n",
       "        grad_fn=<PermuteBackward0>))"
      ]
     },
     "execution_count": 86,
     "metadata": {},
     "output_type": "execute_result"
    }
   ],
   "source": [
    "# Signed message passing: multiply neighbor features by edge sign before summing.\n",
    "alpha_h = alpha.permute(2, 0, 1)             # [H,M,M]\n",
    "alpha_h.size(), alpha_h"
   ]
  },
  {
   "cell_type": "code",
   "execution_count": 87,
   "id": "4cdb3ce3-7dd1-47bf-b6f3-1a759bd68216",
   "metadata": {},
   "outputs": [
    {
     "data": {
      "text/plain": [
       "(torch.Size([2, 24, 3]),\n",
       " tensor([[[7.1111e-05, 1.4222e-04, 7.1111e-05],\n",
       "          [7.3333e-05, 1.4667e-04, 7.3333e-05],\n",
       "          [1.4667e-04, 2.9333e-04, 1.4667e-04],\n",
       "          [1.7333e-04, 3.4667e-04, 1.7333e-04],\n",
       "          [1.3556e-04, 2.7111e-04, 1.3556e-04],\n",
       "          [2.2667e-04, 4.5333e-04, 2.2667e-04],\n",
       "          [9.1111e-05, 1.8222e-04, 9.1111e-05],\n",
       "          [1.1556e-04, 2.3111e-04, 1.1556e-04],\n",
       "          [1.4667e-04, 2.9333e-04, 1.4667e-04],\n",
       "          [1.3333e-04, 2.6667e-04, 1.3333e-04],\n",
       "          [1.5333e-04, 3.0667e-04, 1.5333e-04],\n",
       "          [2.2667e-04, 4.5333e-04, 2.2667e-04],\n",
       "          [7.1111e-05, 1.4222e-04, 7.1111e-05],\n",
       "          [6.2222e-05, 1.2444e-04, 6.2222e-05],\n",
       "          [8.8889e-05, 1.7778e-04, 8.8889e-05],\n",
       "          [1.7333e-04, 3.4667e-04, 1.7333e-04],\n",
       "          [1.6667e-04, 3.3333e-04, 1.6667e-04],\n",
       "          [2.2667e-04, 4.5333e-04, 2.2667e-04],\n",
       "          [5.1111e-05, 1.0222e-04, 5.1111e-05],\n",
       "          [8.6667e-05, 1.7333e-04, 8.6667e-05],\n",
       "          [1.1556e-04, 2.3111e-04, 1.1556e-04],\n",
       "          [1.1111e-04, 2.2222e-04, 1.1111e-04],\n",
       "          [1.6222e-04, 3.2444e-04, 1.6222e-04],\n",
       "          [1.2889e-04, 2.5778e-04, 1.2889e-04]],\n",
       " \n",
       "         [[7.1111e-05, 1.4222e-04, 7.1111e-05],\n",
       "          [7.3333e-05, 1.4667e-04, 7.3333e-05],\n",
       "          [1.4667e-04, 2.9333e-04, 1.4667e-04],\n",
       "          [1.7333e-04, 3.4667e-04, 1.7333e-04],\n",
       "          [1.3556e-04, 2.7111e-04, 1.3556e-04],\n",
       "          [2.2667e-04, 4.5333e-04, 2.2667e-04],\n",
       "          [9.1111e-05, 1.8222e-04, 9.1111e-05],\n",
       "          [1.1556e-04, 2.3111e-04, 1.1556e-04],\n",
       "          [1.4667e-04, 2.9333e-04, 1.4667e-04],\n",
       "          [1.3333e-04, 2.6667e-04, 1.3333e-04],\n",
       "          [1.5333e-04, 3.0667e-04, 1.5333e-04],\n",
       "          [2.2667e-04, 4.5333e-04, 2.2667e-04],\n",
       "          [7.1111e-05, 1.4222e-04, 7.1111e-05],\n",
       "          [6.2222e-05, 1.2444e-04, 6.2222e-05],\n",
       "          [8.8889e-05, 1.7778e-04, 8.8889e-05],\n",
       "          [1.7333e-04, 3.4667e-04, 1.7333e-04],\n",
       "          [1.6667e-04, 3.3333e-04, 1.6667e-04],\n",
       "          [2.2667e-04, 4.5333e-04, 2.2667e-04],\n",
       "          [5.1111e-05, 1.0222e-04, 5.1111e-05],\n",
       "          [8.6667e-05, 1.7333e-04, 8.6667e-05],\n",
       "          [1.1556e-04, 2.3111e-04, 1.1556e-04],\n",
       "          [1.1111e-04, 2.2222e-04, 1.1111e-04],\n",
       "          [1.6222e-04, 3.2444e-04, 1.6222e-04],\n",
       "          [1.2889e-04, 2.5778e-04, 1.2889e-04]]], grad_fn=<PermuteBackward0>))"
      ]
     },
     "execution_count": 87,
     "metadata": {},
     "output_type": "execute_result"
    }
   ],
   "source": [
    "Hh = Hproj.permute(1, 0, 2)                  # [H,M,O]\n",
    "Hh.size(), Hh"
   ]
  },
  {
   "cell_type": "code",
   "execution_count": 88,
   "id": "9a43c2b2-ca16-4ffc-94e1-9ce60864ec77",
   "metadata": {},
   "outputs": [
    {
     "data": {
      "text/plain": [
       "(torch.Size([2, 24, 3]),\n",
       " tensor([[[1.5033e-04, 3.0067e-04, 1.5033e-04],\n",
       "          [1.2489e-04, 2.4978e-04, 1.2489e-04],\n",
       "          [1.7737e-04, 3.5474e-04, 1.7737e-04],\n",
       "          [1.8881e-04, 3.7762e-04, 1.8881e-04],\n",
       "          [1.1003e-04, 2.2007e-04, 1.1003e-04],\n",
       "          [1.4707e-04, 2.9413e-04, 1.4707e-04],\n",
       "          [8.5770e-05, 1.7154e-04, 8.5770e-05],\n",
       "          [1.7413e-04, 3.4825e-04, 1.7413e-04],\n",
       "          [1.0735e-04, 2.1470e-04, 1.0735e-04],\n",
       "          [1.8049e-04, 3.6098e-04, 1.8049e-04],\n",
       "          [1.0776e-04, 2.1552e-04, 1.0776e-04],\n",
       "          [1.5013e-04, 3.0025e-04, 1.5013e-04],\n",
       "          [1.6272e-04, 3.2543e-04, 1.6272e-04],\n",
       "          [1.5794e-04, 3.1588e-04, 1.5794e-04],\n",
       "          [1.0819e-04, 2.1638e-04, 1.0819e-04],\n",
       "          [1.9929e-04, 3.9859e-04, 1.9929e-04],\n",
       "          [1.1875e-04, 2.3750e-04, 1.1875e-04],\n",
       "          [1.3222e-04, 2.6444e-04, 1.3222e-04],\n",
       "          [6.2969e-05, 1.2594e-04, 6.2969e-05],\n",
       "          [1.3249e-04, 2.6498e-04, 1.3249e-04],\n",
       "          [1.4213e-04, 2.8427e-04, 1.4213e-04],\n",
       "          [1.4054e-04, 2.8109e-04, 1.4054e-04],\n",
       "          [1.1136e-04, 2.2273e-04, 1.1136e-04],\n",
       "          [1.0461e-04, 2.0921e-04, 1.0461e-04]],\n",
       " \n",
       "         [[1.5067e-04, 3.0135e-04, 1.5067e-04],\n",
       "          [7.4458e-05, 1.4892e-04, 7.4458e-05],\n",
       "          [1.2533e-04, 2.5065e-04, 1.2533e-04],\n",
       "          [1.8863e-04, 3.7726e-04, 1.8863e-04],\n",
       "          [1.1020e-04, 2.2040e-04, 1.1020e-04],\n",
       "          [1.4675e-04, 2.9350e-04, 1.4675e-04],\n",
       "          [1.6530e-04, 3.3060e-04, 1.6530e-04],\n",
       "          [1.7408e-04, 3.4815e-04, 1.7408e-04],\n",
       "          [1.8394e-04, 3.6788e-04, 1.8394e-04],\n",
       "          [1.8041e-04, 3.6083e-04, 1.8041e-04],\n",
       "          [1.3481e-04, 2.6962e-04, 1.3481e-04],\n",
       "          [1.3077e-04, 2.6155e-04, 1.3077e-04],\n",
       "          [1.6277e-04, 3.2553e-04, 1.6277e-04],\n",
       "          [1.5832e-04, 3.1664e-04, 1.5832e-04],\n",
       "          [1.6810e-04, 3.3620e-04, 1.6810e-04],\n",
       "          [1.9920e-04, 3.9840e-04, 1.9920e-04],\n",
       "          [1.1867e-04, 2.3735e-04, 1.1867e-04],\n",
       "          [6.5169e-05, 1.3034e-04, 6.5169e-05],\n",
       "          [1.1901e-04, 2.3802e-04, 1.1901e-04],\n",
       "          [1.3250e-04, 2.6501e-04, 1.3250e-04],\n",
       "          [1.4224e-04, 2.8449e-04, 1.4224e-04],\n",
       "          [1.4066e-04, 2.8132e-04, 1.4066e-04],\n",
       "          [1.1127e-04, 2.2253e-04, 1.1127e-04],\n",
       "          [1.0446e-04, 2.0892e-04, 1.0446e-04]]], grad_fn=<UnsafeViewBackward0>))"
      ]
     },
     "execution_count": 88,
     "metadata": {},
     "output_type": "execute_result"
    }
   ],
   "source": [
    "out_h = alpha_h @ Hh                               # [H,M,O]\n",
    "out_h.size(), out_h"
   ]
  },
  {
   "cell_type": "code",
   "execution_count": 89,
   "id": "c068f6a5-0bc4-4912-a66c-c80a14f1dca3",
   "metadata": {},
   "outputs": [
    {
     "data": {
      "text/plain": [
       "(torch.Size([24, 2, 3]),\n",
       " tensor([[[1.5033e-04, 3.0067e-04, 1.5033e-04],\n",
       "          [1.5067e-04, 3.0135e-04, 1.5067e-04]],\n",
       " \n",
       "         [[1.2489e-04, 2.4978e-04, 1.2489e-04],\n",
       "          [7.4458e-05, 1.4892e-04, 7.4458e-05]],\n",
       " \n",
       "         [[1.7737e-04, 3.5474e-04, 1.7737e-04],\n",
       "          [1.2533e-04, 2.5065e-04, 1.2533e-04]],\n",
       " \n",
       "         [[1.8881e-04, 3.7762e-04, 1.8881e-04],\n",
       "          [1.8863e-04, 3.7726e-04, 1.8863e-04]],\n",
       " \n",
       "         [[1.1003e-04, 2.2007e-04, 1.1003e-04],\n",
       "          [1.1020e-04, 2.2040e-04, 1.1020e-04]],\n",
       " \n",
       "         [[1.4707e-04, 2.9413e-04, 1.4707e-04],\n",
       "          [1.4675e-04, 2.9350e-04, 1.4675e-04]],\n",
       " \n",
       "         [[8.5770e-05, 1.7154e-04, 8.5770e-05],\n",
       "          [1.6530e-04, 3.3060e-04, 1.6530e-04]],\n",
       " \n",
       "         [[1.7413e-04, 3.4825e-04, 1.7413e-04],\n",
       "          [1.7408e-04, 3.4815e-04, 1.7408e-04]],\n",
       " \n",
       "         [[1.0735e-04, 2.1470e-04, 1.0735e-04],\n",
       "          [1.8394e-04, 3.6788e-04, 1.8394e-04]],\n",
       " \n",
       "         [[1.8049e-04, 3.6098e-04, 1.8049e-04],\n",
       "          [1.8041e-04, 3.6083e-04, 1.8041e-04]],\n",
       " \n",
       "         [[1.0776e-04, 2.1552e-04, 1.0776e-04],\n",
       "          [1.3481e-04, 2.6962e-04, 1.3481e-04]],\n",
       " \n",
       "         [[1.5013e-04, 3.0025e-04, 1.5013e-04],\n",
       "          [1.3077e-04, 2.6155e-04, 1.3077e-04]],\n",
       " \n",
       "         [[1.6272e-04, 3.2543e-04, 1.6272e-04],\n",
       "          [1.6277e-04, 3.2553e-04, 1.6277e-04]],\n",
       " \n",
       "         [[1.5794e-04, 3.1588e-04, 1.5794e-04],\n",
       "          [1.5832e-04, 3.1664e-04, 1.5832e-04]],\n",
       " \n",
       "         [[1.0819e-04, 2.1638e-04, 1.0819e-04],\n",
       "          [1.6810e-04, 3.3620e-04, 1.6810e-04]],\n",
       " \n",
       "         [[1.9929e-04, 3.9859e-04, 1.9929e-04],\n",
       "          [1.9920e-04, 3.9840e-04, 1.9920e-04]],\n",
       " \n",
       "         [[1.1875e-04, 2.3750e-04, 1.1875e-04],\n",
       "          [1.1867e-04, 2.3735e-04, 1.1867e-04]],\n",
       " \n",
       "         [[1.3222e-04, 2.6444e-04, 1.3222e-04],\n",
       "          [6.5169e-05, 1.3034e-04, 6.5169e-05]],\n",
       " \n",
       "         [[6.2969e-05, 1.2594e-04, 6.2969e-05],\n",
       "          [1.1901e-04, 2.3802e-04, 1.1901e-04]],\n",
       " \n",
       "         [[1.3249e-04, 2.6498e-04, 1.3249e-04],\n",
       "          [1.3250e-04, 2.6501e-04, 1.3250e-04]],\n",
       " \n",
       "         [[1.4213e-04, 2.8427e-04, 1.4213e-04],\n",
       "          [1.4224e-04, 2.8449e-04, 1.4224e-04]],\n",
       " \n",
       "         [[1.4054e-04, 2.8109e-04, 1.4054e-04],\n",
       "          [1.4066e-04, 2.8132e-04, 1.4066e-04]],\n",
       " \n",
       "         [[1.1136e-04, 2.2273e-04, 1.1136e-04],\n",
       "          [1.1127e-04, 2.2253e-04, 1.1127e-04]],\n",
       " \n",
       "         [[1.0461e-04, 2.0921e-04, 1.0461e-04],\n",
       "          [1.0446e-04, 2.0892e-04, 1.0446e-04]]], grad_fn=<PermuteBackward0>))"
      ]
     },
     "execution_count": 89,
     "metadata": {},
     "output_type": "execute_result"
    }
   ],
   "source": [
    "out = out_h.permute(1, 0, 2)                            # [M,H,O]\n",
    "out.size(), out\n"
   ]
  },
  {
   "cell_type": "code",
   "execution_count": 90,
   "id": "0e9f73b4-6958-4c92-bfa3-a96a81aef33b",
   "metadata": {},
   "outputs": [
    {
     "data": {
      "text/plain": [
       "(torch.Size([24, 6]),\n",
       " tensor([[1.5033e-04, 3.0067e-04, 1.5033e-04, 1.5067e-04, 3.0135e-04, 1.5067e-04],\n",
       "         [1.2489e-04, 2.4978e-04, 1.2489e-04, 7.4458e-05, 1.4892e-04, 7.4458e-05],\n",
       "         [1.7737e-04, 3.5474e-04, 1.7737e-04, 1.2533e-04, 2.5065e-04, 1.2533e-04],\n",
       "         [1.8881e-04, 3.7762e-04, 1.8881e-04, 1.8863e-04, 3.7726e-04, 1.8863e-04],\n",
       "         [1.1003e-04, 2.2007e-04, 1.1003e-04, 1.1020e-04, 2.2040e-04, 1.1020e-04],\n",
       "         [1.4707e-04, 2.9413e-04, 1.4707e-04, 1.4675e-04, 2.9350e-04, 1.4675e-04],\n",
       "         [8.5770e-05, 1.7154e-04, 8.5770e-05, 1.6530e-04, 3.3060e-04, 1.6530e-04],\n",
       "         [1.7413e-04, 3.4825e-04, 1.7413e-04, 1.7408e-04, 3.4815e-04, 1.7408e-04],\n",
       "         [1.0735e-04, 2.1470e-04, 1.0735e-04, 1.8394e-04, 3.6788e-04, 1.8394e-04],\n",
       "         [1.8049e-04, 3.6098e-04, 1.8049e-04, 1.8041e-04, 3.6083e-04, 1.8041e-04],\n",
       "         [1.0776e-04, 2.1552e-04, 1.0776e-04, 1.3481e-04, 2.6962e-04, 1.3481e-04],\n",
       "         [1.5013e-04, 3.0025e-04, 1.5013e-04, 1.3077e-04, 2.6155e-04, 1.3077e-04],\n",
       "         [1.6272e-04, 3.2543e-04, 1.6272e-04, 1.6277e-04, 3.2553e-04, 1.6277e-04],\n",
       "         [1.5794e-04, 3.1588e-04, 1.5794e-04, 1.5832e-04, 3.1664e-04, 1.5832e-04],\n",
       "         [1.0819e-04, 2.1638e-04, 1.0819e-04, 1.6810e-04, 3.3620e-04, 1.6810e-04],\n",
       "         [1.9929e-04, 3.9859e-04, 1.9929e-04, 1.9920e-04, 3.9840e-04, 1.9920e-04],\n",
       "         [1.1875e-04, 2.3750e-04, 1.1875e-04, 1.1867e-04, 2.3735e-04, 1.1867e-04],\n",
       "         [1.3222e-04, 2.6444e-04, 1.3222e-04, 6.5169e-05, 1.3034e-04, 6.5169e-05],\n",
       "         [6.2969e-05, 1.2594e-04, 6.2969e-05, 1.1901e-04, 2.3802e-04, 1.1901e-04],\n",
       "         [1.3249e-04, 2.6498e-04, 1.3249e-04, 1.3250e-04, 2.6501e-04, 1.3250e-04],\n",
       "         [1.4213e-04, 2.8427e-04, 1.4213e-04, 1.4224e-04, 2.8449e-04, 1.4224e-04],\n",
       "         [1.4054e-04, 2.8109e-04, 1.4054e-04, 1.4066e-04, 2.8132e-04, 1.4066e-04],\n",
       "         [1.1136e-04, 2.2273e-04, 1.1136e-04, 1.1127e-04, 2.2253e-04, 1.1127e-04],\n",
       "         [1.0461e-04, 2.0921e-04, 1.0461e-04, 1.0446e-04, 2.0892e-04, 1.0446e-04]],\n",
       "        grad_fn=<UnsafeViewBackward0>))"
      ]
     },
     "execution_count": 90,
     "metadata": {},
     "output_type": "execute_result"
    }
   ],
   "source": [
    "##### concat  heads\n",
    "out = out.reshape(M, H * O)               # [M, H*O]\n",
    "out.size(), out"
   ]
  },
  {
   "cell_type": "code",
   "execution_count": 91,
   "id": "86cdfae9-cf47-4d5d-919d-e335fa4911fb",
   "metadata": {},
   "outputs": [
    {
     "data": {
      "text/plain": [
       "(torch.Size([6]),\n",
       " Parameter containing:\n",
       " tensor([1.0000e-06, 1.0000e-06, 1.0000e-06, 1.0000e-06, 1.0000e-06, 1.0000e-06],\n",
       "        requires_grad=True))"
      ]
     },
     "execution_count": 91,
     "metadata": {},
     "output_type": "execute_result"
    }
   ],
   "source": [
    "##### Bias\n",
    "gat2_bias = nn.Parameter(torch.zeros(heads*head_dim))\n",
    "with torch.no_grad(): \n",
    "    sign_pattern = torch.tensor([1e-6])\n",
    "    gat2_bias.copy_(sign_pattern)\n",
    "gat2_bias.size(), gat2_bias"
   ]
  },
  {
   "cell_type": "code",
   "execution_count": 92,
   "id": "be1b986b-1101-402a-a393-d831db0c24a4",
   "metadata": {},
   "outputs": [
    {
     "data": {
      "text/plain": [
       "(torch.Size([24, 6]),\n",
       " tensor([[1.5133e-04, 3.0167e-04, 1.5133e-04, 1.5167e-04, 3.0235e-04, 1.5167e-04],\n",
       "         [1.2589e-04, 2.5078e-04, 1.2589e-04, 7.5458e-05, 1.4992e-04, 7.5458e-05],\n",
       "         [1.7837e-04, 3.5574e-04, 1.7837e-04, 1.2633e-04, 2.5165e-04, 1.2633e-04],\n",
       "         [1.8981e-04, 3.7862e-04, 1.8981e-04, 1.8963e-04, 3.7826e-04, 1.8963e-04],\n",
       "         [1.1103e-04, 2.2107e-04, 1.1103e-04, 1.1120e-04, 2.2140e-04, 1.1120e-04],\n",
       "         [1.4807e-04, 2.9513e-04, 1.4807e-04, 1.4775e-04, 2.9450e-04, 1.4775e-04],\n",
       "         [8.6770e-05, 1.7254e-04, 8.6770e-05, 1.6630e-04, 3.3160e-04, 1.6630e-04],\n",
       "         [1.7513e-04, 3.4925e-04, 1.7513e-04, 1.7508e-04, 3.4915e-04, 1.7508e-04],\n",
       "         [1.0835e-04, 2.1570e-04, 1.0835e-04, 1.8494e-04, 3.6888e-04, 1.8494e-04],\n",
       "         [1.8149e-04, 3.6198e-04, 1.8149e-04, 1.8141e-04, 3.6183e-04, 1.8141e-04],\n",
       "         [1.0876e-04, 2.1652e-04, 1.0876e-04, 1.3581e-04, 2.7062e-04, 1.3581e-04],\n",
       "         [1.5113e-04, 3.0125e-04, 1.5113e-04, 1.3177e-04, 2.6255e-04, 1.3177e-04],\n",
       "         [1.6372e-04, 3.2643e-04, 1.6372e-04, 1.6377e-04, 3.2653e-04, 1.6377e-04],\n",
       "         [1.5894e-04, 3.1688e-04, 1.5894e-04, 1.5932e-04, 3.1764e-04, 1.5932e-04],\n",
       "         [1.0919e-04, 2.1738e-04, 1.0919e-04, 1.6910e-04, 3.3720e-04, 1.6910e-04],\n",
       "         [2.0029e-04, 3.9959e-04, 2.0029e-04, 2.0020e-04, 3.9940e-04, 2.0020e-04],\n",
       "         [1.1975e-04, 2.3850e-04, 1.1975e-04, 1.1967e-04, 2.3835e-04, 1.1967e-04],\n",
       "         [1.3322e-04, 2.6544e-04, 1.3322e-04, 6.6169e-05, 1.3134e-04, 6.6169e-05],\n",
       "         [6.3969e-05, 1.2694e-04, 6.3969e-05, 1.2001e-04, 2.3902e-04, 1.2001e-04],\n",
       "         [1.3349e-04, 2.6598e-04, 1.3349e-04, 1.3350e-04, 2.6601e-04, 1.3350e-04],\n",
       "         [1.4313e-04, 2.8527e-04, 1.4313e-04, 1.4324e-04, 2.8549e-04, 1.4324e-04],\n",
       "         [1.4154e-04, 2.8209e-04, 1.4154e-04, 1.4166e-04, 2.8232e-04, 1.4166e-04],\n",
       "         [1.1236e-04, 2.2373e-04, 1.1236e-04, 1.1227e-04, 2.2353e-04, 1.1227e-04],\n",
       "         [1.0561e-04, 2.1021e-04, 1.0561e-04, 1.0546e-04, 2.0992e-04, 1.0546e-04]],\n",
       "        grad_fn=<AddBackward0>))"
      ]
     },
     "execution_count": 92,
     "metadata": {},
     "output_type": "execute_result"
    }
   ],
   "source": [
    "out = out + gat2_bias\n",
    "out.size(), out\n"
   ]
  },
  {
   "cell_type": "markdown",
   "id": "a8200c22-c120-4f8b-9609-b0c4b64f7bff",
   "metadata": {},
   "source": [
    "### GAT Block - residual Connection"
   ]
  },
  {
   "cell_type": "code",
   "execution_count": 93,
   "id": "514df85f-f04f-4cc7-83a6-58c21eb2fc77",
   "metadata": {},
   "outputs": [
    {
     "data": {
      "text/plain": [
       "(torch.Size([24, 6]),\n",
       " tensor([[0.0012, 0.0023, 0.0032, 0.0042, 0.0053, 0.0062],\n",
       "         [0.0021, 0.0033, 0.0041, 0.0051, 0.0061, 0.0071],\n",
       "         [0.0032, 0.0044, 0.0052, 0.0061, 0.0073, 0.0081],\n",
       "         [0.0042, 0.0054, 0.0062, 0.0072, 0.0084, 0.0092],\n",
       "         [0.0051, 0.0062, 0.0071, 0.0081, 0.0092, 0.0101],\n",
       "         [0.0061, 0.0073, 0.0081, 0.0091, 0.0103, 0.0111],\n",
       "         [0.0011, 0.0022, 0.0031, 0.0042, 0.0053, 0.0062],\n",
       "         [0.0022, 0.0033, 0.0042, 0.0052, 0.0063, 0.0072],\n",
       "         [0.0031, 0.0042, 0.0051, 0.0062, 0.0074, 0.0082],\n",
       "         [0.0042, 0.0054, 0.0062, 0.0072, 0.0084, 0.0092],\n",
       "         [0.0051, 0.0062, 0.0071, 0.0081, 0.0093, 0.0101],\n",
       "         [0.0062, 0.0073, 0.0082, 0.0091, 0.0103, 0.0111],\n",
       "         [0.0012, 0.0023, 0.0032, 0.0042, 0.0053, 0.0062],\n",
       "         [0.0022, 0.0033, 0.0042, 0.0052, 0.0063, 0.0072],\n",
       "         [0.0031, 0.0042, 0.0051, 0.0062, 0.0073, 0.0082],\n",
       "         [0.0042, 0.0054, 0.0062, 0.0072, 0.0084, 0.0092],\n",
       "         [0.0051, 0.0062, 0.0071, 0.0081, 0.0092, 0.0101],\n",
       "         [0.0061, 0.0073, 0.0081, 0.0091, 0.0101, 0.0111],\n",
       "         [0.0011, 0.0021, 0.0031, 0.0041, 0.0052, 0.0061],\n",
       "         [0.0021, 0.0033, 0.0041, 0.0051, 0.0063, 0.0071],\n",
       "         [0.0031, 0.0043, 0.0051, 0.0061, 0.0073, 0.0081],\n",
       "         [0.0041, 0.0053, 0.0061, 0.0071, 0.0083, 0.0091],\n",
       "         [0.0051, 0.0062, 0.0071, 0.0081, 0.0092, 0.0101],\n",
       "         [0.0061, 0.0072, 0.0081, 0.0091, 0.0102, 0.0111]],\n",
       "        grad_fn=<AddBackward0>))"
      ]
     },
     "execution_count": 93,
     "metadata": {},
     "output_type": "execute_result"
    }
   ],
   "source": [
    "out = out + x\n",
    "out.size(), out"
   ]
  },
  {
   "cell_type": "markdown",
   "id": "967de571-bdb2-4fc4-97ae-47e70e136830",
   "metadata": {},
   "source": [
    "### GAT Block - Post Residual ELU"
   ]
  },
  {
   "cell_type": "code",
   "execution_count": 94,
   "id": "b4fbd42a-7ad4-4c0a-9236-e2d1f4396839",
   "metadata": {},
   "outputs": [
    {
     "data": {
      "text/plain": [
       "(torch.Size([24, 6]),\n",
       " tensor([[0.0012, 0.0023, 0.0032, 0.0042, 0.0053, 0.0062],\n",
       "         [0.0021, 0.0033, 0.0041, 0.0051, 0.0061, 0.0071],\n",
       "         [0.0032, 0.0044, 0.0052, 0.0061, 0.0073, 0.0081],\n",
       "         [0.0042, 0.0054, 0.0062, 0.0072, 0.0084, 0.0092],\n",
       "         [0.0051, 0.0062, 0.0071, 0.0081, 0.0092, 0.0101],\n",
       "         [0.0061, 0.0073, 0.0081, 0.0091, 0.0103, 0.0111],\n",
       "         [0.0011, 0.0022, 0.0031, 0.0042, 0.0053, 0.0062],\n",
       "         [0.0022, 0.0033, 0.0042, 0.0052, 0.0063, 0.0072],\n",
       "         [0.0031, 0.0042, 0.0051, 0.0062, 0.0074, 0.0082],\n",
       "         [0.0042, 0.0054, 0.0062, 0.0072, 0.0084, 0.0092],\n",
       "         [0.0051, 0.0062, 0.0071, 0.0081, 0.0093, 0.0101],\n",
       "         [0.0062, 0.0073, 0.0082, 0.0091, 0.0103, 0.0111],\n",
       "         [0.0012, 0.0023, 0.0032, 0.0042, 0.0053, 0.0062],\n",
       "         [0.0022, 0.0033, 0.0042, 0.0052, 0.0063, 0.0072],\n",
       "         [0.0031, 0.0042, 0.0051, 0.0062, 0.0073, 0.0082],\n",
       "         [0.0042, 0.0054, 0.0062, 0.0072, 0.0084, 0.0092],\n",
       "         [0.0051, 0.0062, 0.0071, 0.0081, 0.0092, 0.0101],\n",
       "         [0.0061, 0.0073, 0.0081, 0.0091, 0.0101, 0.0111],\n",
       "         [0.0011, 0.0021, 0.0031, 0.0041, 0.0052, 0.0061],\n",
       "         [0.0021, 0.0033, 0.0041, 0.0051, 0.0063, 0.0071],\n",
       "         [0.0031, 0.0043, 0.0051, 0.0061, 0.0073, 0.0081],\n",
       "         [0.0041, 0.0053, 0.0061, 0.0071, 0.0083, 0.0091],\n",
       "         [0.0051, 0.0062, 0.0071, 0.0081, 0.0092, 0.0101],\n",
       "         [0.0061, 0.0072, 0.0081, 0.0091, 0.0102, 0.0111]],\n",
       "        grad_fn=<EluBackward0>))"
      ]
     },
     "execution_count": 94,
     "metadata": {},
     "output_type": "execute_result"
    }
   ],
   "source": [
    "act2 = nn.ELU()\n",
    "out = act2(out)\n",
    "out.size(), out"
   ]
  },
  {
   "cell_type": "markdown",
   "id": "b7c87789-b608-4646-9e79-bb1cd57f1879",
   "metadata": {},
   "source": [
    "### Output Layer"
   ]
  },
  {
   "cell_type": "code",
   "execution_count": 95,
   "id": "56160a65-8a24-42d5-8759-2c706ed66706",
   "metadata": {},
   "outputs": [
    {
     "data": {
      "text/plain": [
       "(torch.Size([4, 6, 6]),\n",
       " tensor([[[0.0012, 0.0023, 0.0032, 0.0042, 0.0053, 0.0062],\n",
       "          [0.0021, 0.0033, 0.0041, 0.0051, 0.0061, 0.0071],\n",
       "          [0.0032, 0.0044, 0.0052, 0.0061, 0.0073, 0.0081],\n",
       "          [0.0042, 0.0054, 0.0062, 0.0072, 0.0084, 0.0092],\n",
       "          [0.0051, 0.0062, 0.0071, 0.0081, 0.0092, 0.0101],\n",
       "          [0.0061, 0.0073, 0.0081, 0.0091, 0.0103, 0.0111]],\n",
       " \n",
       "         [[0.0011, 0.0022, 0.0031, 0.0042, 0.0053, 0.0062],\n",
       "          [0.0022, 0.0033, 0.0042, 0.0052, 0.0063, 0.0072],\n",
       "          [0.0031, 0.0042, 0.0051, 0.0062, 0.0074, 0.0082],\n",
       "          [0.0042, 0.0054, 0.0062, 0.0072, 0.0084, 0.0092],\n",
       "          [0.0051, 0.0062, 0.0071, 0.0081, 0.0093, 0.0101],\n",
       "          [0.0062, 0.0073, 0.0082, 0.0091, 0.0103, 0.0111]],\n",
       " \n",
       "         [[0.0012, 0.0023, 0.0032, 0.0042, 0.0053, 0.0062],\n",
       "          [0.0022, 0.0033, 0.0042, 0.0052, 0.0063, 0.0072],\n",
       "          [0.0031, 0.0042, 0.0051, 0.0062, 0.0073, 0.0082],\n",
       "          [0.0042, 0.0054, 0.0062, 0.0072, 0.0084, 0.0092],\n",
       "          [0.0051, 0.0062, 0.0071, 0.0081, 0.0092, 0.0101],\n",
       "          [0.0061, 0.0073, 0.0081, 0.0091, 0.0101, 0.0111]],\n",
       " \n",
       "         [[0.0011, 0.0021, 0.0031, 0.0041, 0.0052, 0.0061],\n",
       "          [0.0021, 0.0033, 0.0041, 0.0051, 0.0063, 0.0071],\n",
       "          [0.0031, 0.0043, 0.0051, 0.0061, 0.0073, 0.0081],\n",
       "          [0.0041, 0.0053, 0.0061, 0.0071, 0.0083, 0.0091],\n",
       "          [0.0051, 0.0062, 0.0071, 0.0081, 0.0092, 0.0101],\n",
       "          [0.0061, 0.0072, 0.0081, 0.0091, 0.0102, 0.0111]]],\n",
       "        grad_fn=<ViewBackward0>))"
      ]
     },
     "execution_count": 95,
     "metadata": {},
     "output_type": "execute_result"
    }
   ],
   "source": [
    "#insert batch back\n",
    "out = out.view(B_batch, N_nodes,n_embd)\n",
    "out.size(), out"
   ]
  },
  {
   "cell_type": "markdown",
   "id": "34732a51-d3a4-45d3-8c8a-2f0f10e746d8",
   "metadata": {},
   "source": [
    "#### Node Head"
   ]
  },
  {
   "cell_type": "code",
   "execution_count": 98,
   "id": "09f0fad2-469e-4061-a419-e30acae59754",
   "metadata": {},
   "outputs": [
    {
     "data": {
      "text/plain": [
       "(Parameter containing:\n",
       " tensor([[0.0050, 0.0100, 0.0150, 0.0200, 0.0250, 0.0300],\n",
       "         [0.0100, 0.0150, 0.0200, 0.0250, 0.0300, 0.0350]], requires_grad=True),\n",
       " Parameter containing:\n",
       " tensor([1.0000e-06, 1.0000e-06], requires_grad=True))"
      ]
     },
     "execution_count": 98,
     "metadata": {},
     "output_type": "execute_result"
    }
   ],
   "source": [
    "## nodes logits\n",
    "node_head = nn.Linear(n_embd, 2, bias=True)   # cell-type logits per node\n",
    "with torch.no_grad(): # initilize to W[i,j] = 0.001*(1+i+j) for easy following \n",
    "    vs, d = 2, n_embd\n",
    "    rows = torch.arange(vs).unsqueeze(1)  # (vs,1)\n",
    "    cols = torch.arange(d).unsqueeze(0)  # (1,d)\n",
    "    pattern = 0.005*(1 + rows + cols)  # W[i,j] = 0.001*(1+i+j)\n",
    "    node_head.weight.copy_(pattern)\n",
    "nn.init.constant_(node_head.bias, 1e-6)\n",
    "node_head.weight, node_head.bias"
   ]
  },
  {
   "cell_type": "code",
   "execution_count": 100,
   "id": "7c97b3eb-b370-4475-a27b-08fc6125a34a",
   "metadata": {},
   "outputs": [
    {
     "data": {
      "text/plain": [
       "(torch.Size([4, 6, 2]),\n",
       " tensor([[[0.0005, 0.0006],\n",
       "          [0.0006, 0.0007],\n",
       "          [0.0007, 0.0009],\n",
       "          [0.0008, 0.0010],\n",
       "          [0.0009, 0.0011],\n",
       "          [0.0010, 0.0013]],\n",
       " \n",
       "         [[0.0005, 0.0006],\n",
       "          [0.0006, 0.0007],\n",
       "          [0.0007, 0.0009],\n",
       "          [0.0008, 0.0010],\n",
       "          [0.0009, 0.0011],\n",
       "          [0.0010, 0.0013]],\n",
       " \n",
       "         [[0.0005, 0.0006],\n",
       "          [0.0006, 0.0007],\n",
       "          [0.0007, 0.0009],\n",
       "          [0.0008, 0.0010],\n",
       "          [0.0009, 0.0011],\n",
       "          [0.0010, 0.0013]],\n",
       " \n",
       "         [[0.0005, 0.0006],\n",
       "          [0.0006, 0.0007],\n",
       "          [0.0007, 0.0009],\n",
       "          [0.0008, 0.0010],\n",
       "          [0.0009, 0.0011],\n",
       "          [0.0010, 0.0013]]], grad_fn=<ViewBackward0>))"
      ]
     },
     "execution_count": 100,
     "metadata": {},
     "output_type": "execute_result"
    }
   ],
   "source": [
    "node_logits = node_head(out)\n",
    "node_logits.size(), node_logits"
   ]
  },
  {
   "cell_type": "markdown",
   "id": "0710fb10-e272-44c3-b662-146a3eb96684",
   "metadata": {},
   "source": [
    "#### Graph Head"
   ]
  },
  {
   "cell_type": "code",
   "execution_count": 101,
   "id": "0e8de88e-4911-43aa-ac38-e9ba06bd912f",
   "metadata": {},
   "outputs": [
    {
     "data": {
      "text/plain": [
       "(torch.Size([1, 6]), tensor([[1., 1., 1., 1., 0., 0.]]))"
      ]
     },
     "execution_count": 101,
     "metadata": {},
     "output_type": "execute_result"
    }
   ],
   "source": [
    "mask = gene_mask.float().unsqueeze(0)\n",
    "mask.size(), mask"
   ]
  },
  {
   "cell_type": "code",
   "execution_count": 102,
   "id": "e7fbb9d8-7fbb-4bdb-a143-8c2d58a2dc15",
   "metadata": {},
   "outputs": [
    {
     "data": {
      "text/plain": [
       "tensor([[4.]])"
      ]
     },
     "execution_count": 102,
     "metadata": {},
     "output_type": "execute_result"
    }
   ],
   "source": [
    "denom = mask.sum(1, keepdim=True).clamp_min(1.0)\n",
    "denom"
   ]
  },
  {
   "cell_type": "code",
   "execution_count": 103,
   "id": "b762ab9e-5972-4c1e-8727-d51944ccbfe3",
   "metadata": {},
   "outputs": [
    {
     "data": {
      "text/plain": [
       "(torch.Size([4, 6]),\n",
       " tensor([[0.0027, 0.0038, 0.0047, 0.0056, 0.0068, 0.0076],\n",
       "         [0.0026, 0.0038, 0.0046, 0.0057, 0.0069, 0.0077],\n",
       "         [0.0027, 0.0038, 0.0047, 0.0057, 0.0068, 0.0077],\n",
       "         [0.0026, 0.0037, 0.0046, 0.0056, 0.0068, 0.0076]],\n",
       "        grad_fn=<DivBackward0>))"
      ]
     },
     "execution_count": 103,
     "metadata": {},
     "output_type": "execute_result"
    }
   ],
   "source": [
    "pooled = (out * mask.unsqueeze(-1)).sum(1) / denom\n",
    "pooled.size(), pooled"
   ]
  },
  {
   "cell_type": "code",
   "execution_count": 104,
   "id": "5bf19414-0272-4890-830c-555c8d7a203a",
   "metadata": {},
   "outputs": [
    {
     "data": {
      "text/plain": [
       "(Parameter containing:\n",
       " tensor([[0.0010, 0.0020, 0.0030, 0.0040, 0.0050, 0.0060],\n",
       "         [0.0020, 0.0030, 0.0040, 0.0050, 0.0060, 0.0070]], requires_grad=True),\n",
       " Parameter containing:\n",
       " tensor([1.0000e-06, 1.0000e-06], requires_grad=True))"
      ]
     },
     "execution_count": 104,
     "metadata": {},
     "output_type": "execute_result"
    }
   ],
   "source": [
    "graph_head = nn.Linear(n_embd, 2, bias=True)  # cancer logits per graph\n",
    "with torch.no_grad(): # initilize to W[i,j] = 0.001*(1+i+j) for easy following \n",
    "    vs, d = 2, n_embd\n",
    "    rows = torch.arange(vs).unsqueeze(1)  # (vs,1)\n",
    "    cols = torch.arange(d).unsqueeze(0)  # (1,d)\n",
    "    pattern = 0.001*(1 + rows + cols)  # W[i,j] = 0.001*(1+i+j)\n",
    "    graph_head.weight.copy_(pattern)\n",
    "nn.init.constant_(graph_head.bias, 1e-6) \n",
    "graph_head.weight, graph_head.bias"
   ]
  },
  {
   "cell_type": "code",
   "execution_count": 105,
   "id": "4acbdbe4-07f7-4376-ade3-af0c459dea08",
   "metadata": {},
   "outputs": [
    {
     "data": {
      "text/plain": [
       "(torch.Size([4, 2]),\n",
       " tensor([[0.0001, 0.0002],\n",
       "         [0.0001, 0.0002],\n",
       "         [0.0001, 0.0002],\n",
       "         [0.0001, 0.0002]], grad_fn=<AddmmBackward0>))"
      ]
     },
     "execution_count": 105,
     "metadata": {},
     "output_type": "execute_result"
    }
   ],
   "source": [
    "graph_logits = graph_head(pooled)  # [B,2]\n",
    "graph_logits.size(), graph_logits"
   ]
  },
  {
   "cell_type": "markdown",
   "id": "b9b3a736-9cd3-425a-8c06-824a3e2089bb",
   "metadata": {},
   "source": [
    "## Loss calculation"
   ]
  },
  {
   "cell_type": "code",
   "execution_count": 107,
   "id": "a6f2f2ce-03d1-4e78-a49c-ef7f0b4995d1",
   "metadata": {},
   "outputs": [],
   "source": [
    "loss = None\n",
    "losses = []"
   ]
  },
  {
   "cell_type": "code",
   "execution_count": 108,
   "id": "05bbb946-d1e3-4075-a8db-976449e0e946",
   "metadata": {},
   "outputs": [
    {
     "data": {
      "text/plain": [
       "tensor([[ True,  True,  True,  True, False, False],\n",
       "        [ True,  True,  True,  True, False, False],\n",
       "        [ True, False,  True,  True, False, False],\n",
       "        [False,  True,  True,  True, False, False]])"
      ]
     },
     "execution_count": 108,
     "metadata": {},
     "output_type": "execute_result"
    }
   ],
   "source": [
    "valid = (gene_mask & (y_node>=0))\n",
    "valid"
   ]
  },
  {
   "cell_type": "code",
   "execution_count": 109,
   "id": "234bf14d-107c-422c-b2fe-5e9675e40b95",
   "metadata": {},
   "outputs": [
    {
     "data": {
      "text/plain": [
       "(tensor([[0.0005, 0.0006],\n",
       "         [0.0006, 0.0007],\n",
       "         [0.0007, 0.0009],\n",
       "         [0.0008, 0.0010],\n",
       "         [0.0005, 0.0006],\n",
       "         [0.0006, 0.0007],\n",
       "         [0.0007, 0.0009],\n",
       "         [0.0008, 0.0010],\n",
       "         [0.0005, 0.0006],\n",
       "         [0.0007, 0.0009],\n",
       "         [0.0008, 0.0010],\n",
       "         [0.0006, 0.0007],\n",
       "         [0.0007, 0.0009],\n",
       "         [0.0008, 0.0010]], grad_fn=<IndexBackward0>),\n",
       " tensor([0, 0, 0, 1, 0, 1, 0, 1, 1, 0, 1, 0, 1, 1]))"
      ]
     },
     "execution_count": 109,
     "metadata": {},
     "output_type": "execute_result"
    }
   ],
   "source": [
    "valid_node_logits = node_logits[valid]\n",
    "valid_y_node = y_node[valid]\n",
    "valid_node_logits, valid_y_node"
   ]
  },
  {
   "cell_type": "code",
   "execution_count": 110,
   "id": "11d951dc-52e2-48d5-ae87-6832b7e0f8c7",
   "metadata": {},
   "outputs": [
    {
     "data": {
      "text/plain": [
       "tensor(0.6931, grad_fn=<NllLossBackward0>)"
      ]
     },
     "execution_count": 110,
     "metadata": {},
     "output_type": "execute_result"
    }
   ],
   "source": [
    "nl = F.cross_entropy(valid_node_logits, valid_y_node)\n",
    "losses.append(nl)\n",
    "nl"
   ]
  },
  {
   "cell_type": "code",
   "execution_count": 111,
   "id": "881d8400-a313-4f6d-a539-6c207814bf29",
   "metadata": {},
   "outputs": [
    {
     "data": {
      "text/plain": [
       "(tensor([[0.0001, 0.0002],\n",
       "         [0.0001, 0.0002],\n",
       "         [0.0001, 0.0002],\n",
       "         [0.0001, 0.0002]], grad_fn=<AddmmBackward0>),\n",
       " tensor([0, 1, 1, 1]),\n",
       " 1.0)"
      ]
     },
     "execution_count": 111,
     "metadata": {},
     "output_type": "execute_result"
    }
   ],
   "source": [
    "alpha = 1.0\n",
    "graph_logits, y_graph, alpha"
   ]
  },
  {
   "cell_type": "code",
   "execution_count": 112,
   "id": "48e94eec-73dc-4225-9f7d-13eb346db493",
   "metadata": {},
   "outputs": [
    {
     "data": {
      "text/plain": [
       "tensor(0.6931, grad_fn=<NllLossBackward0>)"
      ]
     },
     "execution_count": 112,
     "metadata": {},
     "output_type": "execute_result"
    }
   ],
   "source": [
    "gl = F.cross_entropy(graph_logits, y_graph)\n",
    "losses.append(gl)\n",
    "gl"
   ]
  },
  {
   "cell_type": "code",
   "execution_count": 113,
   "id": "2e3531e3-7026-4b97-9acc-a86f1b394c28",
   "metadata": {},
   "outputs": [
    {
     "data": {
      "text/plain": [
       "tensor(1.3863, grad_fn=<AddBackward0>)"
      ]
     },
     "execution_count": 113,
     "metadata": {},
     "output_type": "execute_result"
    }
   ],
   "source": [
    "loss = sum(losses) \n",
    "loss"
   ]
  },
  {
   "cell_type": "markdown",
   "id": "60396340-0006-4024-9d5b-3338dbaf1d68",
   "metadata": {},
   "source": [
    "## Back Propagation"
   ]
  },
  {
   "cell_type": "code",
   "execution_count": null,
   "id": "a39f9da4-0ad8-41ae-a20b-7a9c2b854979",
   "metadata": {},
   "outputs": [],
   "source": [
    "#output layers\n",
    "graph_head.zero_grad()\n",
    "node_head.zero_grad()\n",
    "\n",
    "#GCN block\n",
    "bn_b.zero_grad()\n",
    "gcn_2_neg.zero_grad()\n",
    "gcn_2_pos.zero_grad()\n",
    "bn_a.zero_grad()\n",
    "gcn_1_neg.zero_grad()\n",
    "gcn_1_pos.zero_grad()\n",
    "\n",
    "#input layer\n",
    "tok_emb.zero_grad()\n",
    "\n",
    "# validate gradients\n",
    "graph_head.weight.grad,node_head.weight.grad,tok_emb.weight.grad"
   ]
  }
 ],
 "metadata": {
  "kernelspec": {
   "display_name": "Python 3 (ipykernel)",
   "language": "python",
   "name": "python3"
  },
  "language_info": {
   "codemirror_mode": {
    "name": "ipython",
    "version": 3
   },
   "file_extension": ".py",
   "mimetype": "text/x-python",
   "name": "python",
   "nbconvert_exporter": "python",
   "pygments_lexer": "ipython3",
   "version": "3.13.7"
  }
 },
 "nbformat": 4,
 "nbformat_minor": 5
}
