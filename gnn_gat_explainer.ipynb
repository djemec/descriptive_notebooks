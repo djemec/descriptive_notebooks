{
 "cells": [
  {
   "cell_type": "markdown",
   "id": "a55a7864-bcb0-41e6-902b-8d162fd9bd62",
   "metadata": {},
   "source": [
    "# GNN GAT Explainer"
   ]
  },
  {
   "cell_type": "markdown",
   "id": "e757d71e-e53e-40ea-85db-6c8229b1c79d",
   "metadata": {},
   "source": [
    "## Graph Data Prep"
   ]
  },
  {
   "cell_type": "code",
   "execution_count": 2,
   "id": "736484bd-3859-4b69-9a1f-36c9eddce277",
   "metadata": {},
   "outputs": [],
   "source": [
    "import torch\n",
    "import torch.nn as nn\n",
    "import torch.nn.functional as F\n",
    "import matplotlib.pyplot as plt"
   ]
  },
  {
   "cell_type": "code",
   "execution_count": 3,
   "id": "bcbcbe30-349a-48d4-9053-2ab972162cda",
   "metadata": {},
   "outputs": [],
   "source": [
    "benign = {\n",
    "    'Tcells':{'up': ['CD3D','LCK','ZAP70'],'down': ['CD19']},\n",
    "    'Bcells':{'up': ['CD19'],'down': ['CD3D','LCK','ZAP70']},\n",
    "  #  'Macrophages':{'up': ['CSF1R'],'down': ['CD3D','MS4A1','CD19']},\n",
    "}\n",
    "\n",
    "cancerous = {\n",
    "    'Tcells':{'up': ['CD3D','ZAP70'],'down': ['CD19','LCK']},\n",
    "    'Bcells':{'up': ['CD19','LCK','CD3D'],'down': ['ZAP70']},\n",
    "   # 'Macrophages':{'up': ['CSF1R'],'down': ['CD3D','MS4A1','CD19']},\n",
    "}\n",
    "\n",
    "# cancerous_2 = {\n",
    "#     'Tcells':{'up': ['ZAP70'],'down': ['CD19','CD3D','LCK']},\n",
    "#     'Bcells':{'up': ['CD19','CD3D'],'down': ['LCK','ZAP70']},\n",
    "#    # 'Macrophages':{'up': ['CSF1R'],'down': ['CD3D','MS4A1','CD19']},\n",
    "# }\n",
    "\n",
    "# cancerous_3 = {\n",
    "#     'Tcells':{'up': ['LCK'],'down': ['ZAP70','CD19','CD3D']},\n",
    "#     'Bcells':{'up': ['CD19','ZAP70'],'down': ['LCK','CD3D']},\n",
    "#    # 'Macrophages':{'up': ['CSF1R'],'down': ['CD3D','MS4A1','CD19']},\n",
    "# }\n",
    "graphs = [benign, cancerous] #, cancerous_2, cancerous_3]"
   ]
  },
  {
   "cell_type": "code",
   "execution_count": 4,
   "id": "e5b348e6-4bde-4391-849a-cd787d83b397",
   "metadata": {},
   "outputs": [],
   "source": [
    "cell_types = ['Tcells','Bcells']\n",
    "genes = ['CD3D','LCK','ZAP70','CD19'] #only focused on genes present\n",
    "node_order = genes + [f'CT_{ct}' for ct in cell_types]   # genes first, then CT nodes\n",
    "gene_mask = torch.tensor([1,1,1,1,0,0], dtype=torch.bool)\n",
    "N = len(node_order) "
   ]
  },
  {
   "cell_type": "code",
   "execution_count": 5,
   "id": "0cfd44a1-953e-4a90-8a1d-56bd122b068e",
   "metadata": {},
   "outputs": [
    {
     "data": {
      "text/plain": [
       "(6,\n",
       " {'CD3D': 0, 'LCK': 1, 'ZAP70': 2, 'CD19': 3, 'CT_Tcells': 4, 'CT_Bcells': 5})"
      ]
     },
     "execution_count": 5,
     "metadata": {},
     "output_type": "execute_result"
    }
   ],
   "source": [
    "def build_vocab(genes, cell_types):\n",
    "    toks = genes + [f'CT_{ct}' for ct in cell_types]\n",
    "    stoi = {t:i for i,t in enumerate(toks)}; itos = {i:t for t,i in stoi.items()}\n",
    "    return stoi, itos\n",
    "\n",
    "stoi, itos = build_vocab(genes, cell_types)\n",
    "vocab_size = len(stoi)\n",
    "\n",
    "vocab_size, stoi"
   ]
  },
  {
   "cell_type": "code",
   "execution_count": 6,
   "id": "10be2b0f-4aca-4219-971a-7d9876007957",
   "metadata": {},
   "outputs": [],
   "source": [
    "def make_graph_signed(spec):\n",
    "    N = len(node_order); \n",
    "    A_signed = torch.zeros(N, N)\n",
    "    def idx(n): \n",
    "        return node_order.index(n)\n",
    "    def add_edge(g, ct, s):\n",
    "        i, j = idx(g), idx(f\"CT_{ct}\")\n",
    "        A_signed[i,j] = s\n",
    "        A_signed[j,i] = s\n",
    "    for ct in cell_types:\n",
    "        for g in spec[ct].get('up', []):   \n",
    "            add_edge(g, ct, +1)\n",
    "        for g in spec[ct].get('down', []): \n",
    "            add_edge(g, ct, -1)\n",
    "    # labels for node task (0=T, 1=B) on genes only\n",
    "    y_node = torch.full((N,), -1, dtype=torch.long)\n",
    "    X = torch.tensor([stoi[n] for n in node_order], dtype=torch.long)\n",
    "    \n",
    "    # per-gene cell-type label: 0=Tcells, 1=Bcells (prefer UP, tie-break T→B, fallback from DOWN)\n",
    "    y_node = torch.full((N,), -1, dtype=torch.long)\n",
    "    for g in genes:\n",
    "        t_up = g in spec['Tcells'].get('up', [])\n",
    "        b_up = g in spec['Bcells'].get('up', [])\n",
    "        t_dn = g in spec['Tcells'].get('down', [])\n",
    "        b_dn = g in spec['Bcells'].get('down', [])\n",
    "        lab = None\n",
    "        if t_up and not b_up: \n",
    "            lab = 0\n",
    "        elif b_up and not t_up: \n",
    "            lab = 1\n",
    "        elif t_up and b_up: \n",
    "            lab = 0\n",
    "        else:\n",
    "            if t_dn and not b_dn: \n",
    "                lab = 1\n",
    "            elif b_dn and not t_dn: \n",
    "                lab = 0\n",
    "        if lab is not None: \n",
    "            y_node[idx(g)] = lab\n",
    "    return X, y_node, A_signed"
   ]
  },
  {
   "cell_type": "code",
   "execution_count": 7,
   "id": "59713212-5422-4580-8a4f-4aa49ed067a1",
   "metadata": {},
   "outputs": [
    {
     "data": {
      "text/plain": [
       "([tensor([0, 1, 2, 3, 4, 5]), tensor([0, 1, 2, 3, 4, 5])],\n",
       " [tensor([ 0,  0,  0,  1, -1, -1]), tensor([ 0,  1,  0,  1, -1, -1])],\n",
       " [tensor([[ 0.,  0.,  0.,  0.,  1., -1.],\n",
       "          [ 0.,  0.,  0.,  0.,  1., -1.],\n",
       "          [ 0.,  0.,  0.,  0.,  1., -1.],\n",
       "          [ 0.,  0.,  0.,  0., -1.,  1.],\n",
       "          [ 1.,  1.,  1., -1.,  0.,  0.],\n",
       "          [-1., -1., -1.,  1.,  0.,  0.]]),\n",
       "  tensor([[ 0.,  0.,  0.,  0.,  1.,  1.],\n",
       "          [ 0.,  0.,  0.,  0., -1.,  1.],\n",
       "          [ 0.,  0.,  0.,  0.,  1., -1.],\n",
       "          [ 0.,  0.,  0.,  0., -1.,  1.],\n",
       "          [ 1., -1.,  1., -1.,  0.,  0.],\n",
       "          [ 1.,  1., -1.,  1.,  0.,  0.]])])"
      ]
     },
     "execution_count": 7,
     "metadata": {},
     "output_type": "execute_result"
    }
   ],
   "source": [
    "x_list, y_node_list, a_list = [], [], []\n",
    "for spec in graphs:\n",
    "    X_i, y_i, A_i = make_graph_signed(spec)\n",
    "    x_list.append(X_i); y_node_list.append(y_i); a_list.append(A_i)\n",
    "\n",
    "x_list, y_node_list, a_list"
   ]
  },
  {
   "cell_type": "markdown",
   "id": "19a32ecc-62b1-49dc-b086-f3446193cbdc",
   "metadata": {},
   "source": [
    "**x_tokens** - a list of nodes\n",
    "\n",
    "Notice that all nodes are present in each of our samples. "
   ]
  },
  {
   "cell_type": "code",
   "execution_count": 8,
   "id": "3ff129f5-5109-4537-a284-fca7becbc618",
   "metadata": {},
   "outputs": [
    {
     "data": {
      "text/plain": [
       "(torch.Size([2, 6]),\n",
       " tensor([[0, 1, 2, 3, 4, 5],\n",
       "         [0, 1, 2, 3, 4, 5]]))"
      ]
     },
     "execution_count": 8,
     "metadata": {},
     "output_type": "execute_result"
    }
   ],
   "source": [
    "x_tokens = torch.stack(x_list)\n",
    "x_tokens.size(), x_tokens"
   ]
  },
  {
   "cell_type": "markdown",
   "id": "2e78cf94-1c19-46a1-b2d5-263a103a06af",
   "metadata": {},
   "source": [
    "**y_node** - per-node (gene) gene cell type labels. This uses a balance of the up-regulated and down-regulated genes and flags for each sample. If the gene is more commonly upregulated with B-cells we flag it as `0` and if it's more commonly up-regulated in T-cells we flag it as `1`.  This evaluation is done per sample (seen here as per row). \n",
    "\n",
    "The last two columns are embeddings purely for cell type so we flag them as -1 to be masked during training. "
   ]
  },
  {
   "cell_type": "code",
   "execution_count": 9,
   "id": "a6275918-276e-45ba-9532-b8f0c1f5e599",
   "metadata": {},
   "outputs": [
    {
     "data": {
      "text/plain": [
       "(torch.Size([2, 6]),\n",
       " tensor([[ 0,  0,  0,  1, -1, -1],\n",
       "         [ 0,  1,  0,  1, -1, -1]]))"
      ]
     },
     "execution_count": 9,
     "metadata": {},
     "output_type": "execute_result"
    }
   ],
   "source": [
    "y_node = torch.stack(y_node_list)\n",
    "y_node.size(), y_node"
   ]
  },
  {
   "cell_type": "markdown",
   "id": "eb6a8ff8-e05c-43d7-aad5-6d089e7b421a",
   "metadata": {},
   "source": [
    "**y_graph** - per-graph (sample) cancer type label. We use `1` for cancerous and `0` for benign"
   ]
  },
  {
   "cell_type": "code",
   "execution_count": 10,
   "id": "67fe0752-f9b0-4dad-8a5f-e3e4fab3082c",
   "metadata": {},
   "outputs": [
    {
     "data": {
      "text/plain": [
       "(torch.Size([2]), tensor([0, 1]))"
      ]
     },
     "execution_count": 10,
     "metadata": {},
     "output_type": "execute_result"
    }
   ],
   "source": [
    "y_graph = torch.tensor([0,1])  # 0=wild, 1=cancer\n",
    "y_graph.size(), y_graph"
   ]
  },
  {
   "cell_type": "markdown",
   "id": "30046b6d-4bae-4820-9c77-537e861d37af",
   "metadata": {},
   "source": [
    "**Graph** \n",
    "\n",
    "Since this is a GNN explainer, let's visualize actually how these graphs look. This is in essence the graph the model is looking at and learning how to read so that if it sees a new one, it can predict the properties we are minimizing loss on (cancerous, cell type). "
   ]
  },
  {
   "cell_type": "code",
   "execution_count": 17,
   "id": "2b08438b-16e2-4c3a-b509-f7b29aedbb4a",
   "metadata": {},
   "outputs": [
    {
     "data": {
      "image/png": "[encoded data removed]",
      "text/plain": [
       "<Figure size 1000x600 with 2 Axes>"
      ]
     },
     "metadata": {},
     "output_type": "display_data"
    }
   ],
   "source": [
    "def compute_positions(genes, cell_types):\n",
    "    # left column (genes), right column (cell types)\n",
    "    gx, cx = 0.1, 0.9\n",
    "    gy = list(range(len(genes)-1, -1, -1))  # top-to-bottom\n",
    "    if len(cell_types) > 1:\n",
    "        # spread CTs across same vertical span as genes\n",
    "        span = (len(genes)-1)\n",
    "        cy = [span * (1 - i/(len(cell_types)-1)) for i in range(len(cell_types))]\n",
    "    else:\n",
    "        cy = [(len(genes)-1)/2]\n",
    "    pos = {g:(gx, gy[i]) for i,g in enumerate(genes)}\n",
    "    pos.update({f\"CT_{ct}\":(cx, cy[j]) for j,ct in enumerate(cell_types)})\n",
    "    return pos\n",
    "\n",
    "def draw_sample(ax, spec, title, genes, cell_types):\n",
    "    pos = compute_positions(genes, cell_types)\n",
    "    # draw nodes\n",
    "    for i,g in enumerate(genes):\n",
    "        x,y = pos[g]\n",
    "        ax.scatter([x],[y], s=300, marker='o', zorder=3)\n",
    "        ax.text(x-0.03, y, g, va='center', ha='right', fontsize=10)\n",
    "    for ct in cell_types:\n",
    "        name = f\"CT_{ct}\"\n",
    "        x,y = pos[name]\n",
    "        ax.scatter([x],[y], s=350, marker='s', zorder=3)\n",
    "        ax.text(x+0.03, y, ct, va='center', ha='left', fontsize=10)\n",
    "    # draw edges: solid = upregulated (+1), dashed = downregulated (-1)\n",
    "    for ct in cell_types:\n",
    "        ct_name = f\"CT_{ct}\"\n",
    "        for g in spec[ct].get('up', []):\n",
    "            if g in genes:\n",
    "                x1,y1 = pos[g]; x2,y2 = pos[ct_name]\n",
    "                ax.plot([x1,x2],[y1,y2], linestyle='-', linewidth=2, zorder=2)\n",
    "        for g in spec[ct].get('down', []):\n",
    "            if g in genes:\n",
    "                x1,y1 = pos[g]; x2,y2 = pos[ct_name]\n",
    "                ax.plot([x1,x2],[y1,y2], linestyle='--', linewidth=2, zorder=2)\n",
    "\n",
    "    # aesthetics\n",
    "    ax.set_title(title)\n",
    "    ax.set_xlim(0.0, 1.0)\n",
    "    ys = list(range(len(genes)))\n",
    "    ax.set_ylim(-0.5, len(genes)-0.5)\n",
    "    ax.set_xticks([]); ax.set_yticks([])\n",
    "    for spine in ax.spines.values(): spine.set_visible(False)\n",
    "\n",
    "    # legend (solid=up, dashed=down)\n",
    "    from matplotlib.lines import Line2D\n",
    "    legend_lines = [\n",
    "        Line2D([0],[0], linestyle='-', linewidth=2, label='Upregulated'),\n",
    "        Line2D([0],[0], linestyle='--', linewidth=2, label='Downregulated'),\n",
    "    ]\n",
    "    ax.legend(handles=legend_lines, loc='upper center', frameon=False, fontsize=9)\n",
    "\n",
    "# ----- draw all four samples -----\n",
    "fig, axes = plt.subplots(1, 2, figsize=(10, 6))\n",
    "samples = [\n",
    "    ('Sample 1 [benign]',    benign),\n",
    "    ('Sample 2 [cancerous]',    cancerous),\n",
    "    #('Sample 3 [cancerous]',  cancerous_2),\n",
    "    #('Sample 4 [cancerous]',  cancerous_3),\n",
    "]\n",
    "for ax, (name, spec) in zip(axes.ravel(), samples):\n",
    "    draw_sample(ax, spec, name, genes, cell_types)\n",
    "\n",
    "plt.tight_layout()\n",
    "plt.show()"
   ]
  },
  {
   "cell_type": "markdown",
   "id": "e99e6534-842b-499f-888b-dddb402d03d6",
   "metadata": {},
   "source": [
    "# Modeling"
   ]
  },
  {
   "cell_type": "markdown",
   "id": "04587318-bfc6-43d1-a95c-83f1d9ff4f4c",
   "metadata": {},
   "source": [
    "A machine learning model forward pass now uses the data prep information, runs several layers of linear algebra on it, and then \"predicts\" the probability of our different tasks, in this case the cell type based on the node and whether a graph is cancerous. When it is noisy (like you will see in this example), this process results in gibberish.  The training process changes the noise to pattern during the \"backward pass\" as you'll see. We'll show 3 steps that are focused on training:\n",
    "1. **Data Loading** - this step pulls from the raw data enough examples and batches to complete a forward pass and loss calculation.  If the model is inference only, this step is replaced with taking in the inference input and preparing it similarly as the forward pass. \n",
    "2. **Forward Pass** - using the data and the model architecture we run a prediction for the tokens. When training we also compare against the expected to get loss, but in inference, we use the logits to complete the inference task.\n",
    "3. **Back Propagation, aka Backward Pass & Training** - using differentials we can understand what parameters most drive the difference between forward pass' impact on its prediction versus what is actually right based on the data loading step. We compare this based on the loss function and use the partial derivative gradients to make very minor adjustments to the impactful parameters with the hope it improves future predictions.\n",
    "\n",
    "After our back prop, we'll show a final **Forward Pass** with the updated weights we did in #3 and then convert those final weights to a **Model Inference**"
   ]
  },
  {
   "cell_type": "markdown",
   "id": "27430abf-ee0c-4cdf-af24-5634a09a2e92",
   "metadata": {},
   "source": [
    "## Data Loading"
   ]
  },
  {
   "cell_type": "markdown",
   "id": "267f237e-d685-41d6-b403-1712be222fbe",
   "metadata": {},
   "source": [
    "To start, we need to get enough data to run the forward and backward passes.  Since our total dataset in a real experiment is likely too big to be held in memory all at once in real practice, we will read just enough file information into memory so that we can run the passes, leaving memory and compute to be used on the passes instead of static data holding. \n",
    "To start, we have to identify the batch size and the model context length to determine how much data we need.  Consequently, these dimensions also form 2 of the 3 dimensions in the initial matrix.\n",
    "- **Batch Size (B)** - This is the number of examples you'll train on in a single pass. \n",
    "- **Number of Nodes (N)** - This is basically the \"context length\" for a GNN.  This is the max number of nodes that a model can use in a pass.\n",
    "\n",
    "Beyond these, in a GCN, the depth also controls how much context, or complexity, can be learned. This is because each GCN layer learns 1 hop, or 1 relationship of neighbors. This means that after $L$ layers, a model can learn $L$-hops worth of context.\n",
    "\n",
    "In our case we'll set our batch to be our 4 examples, and nodes to the nodes we have configured, 6. As we walk through you'll also see our GCN will have 2 layers to model 2 network hops: gene > cell type > other genes.\n",
    "\n",
    "We'll prepare 2 sets of data. Our **Inputs** will be the `x_token`, or our list of nodes for each example, and `a_list`, our list of node connections.  Our **Outputs** will be `y_node`, our node level cell type identification, and `y_graph`, the graph level cancerous identification. "
   ]
  },
  {
   "cell_type": "markdown",
   "id": "3157770a-afb9-424b-be9d-50cba46f0dd9",
   "metadata": {},
   "source": [
    "**x_tokens** — list of nodes for each example. Each entry is an integer token id for the node at that position in node_order (e.g.`['CD3D','LCK','ZAP70','CD19','CT_Tcells','CT_Bcells']`).  In our case you'll notice that each example contains all the nodes. "
   ]
  },
  {
   "cell_type": "code",
   "execution_count": 18,
   "id": "b1cf69c7-8f81-4d86-9228-2b69c0ded301",
   "metadata": {},
   "outputs": [
    {
     "data": {
      "text/plain": [
       "(2,\n",
       " 6,\n",
       " tensor([[0, 1, 2, 3, 4, 5],\n",
       "         [0, 1, 2, 3, 4, 5]]))"
      ]
     },
     "execution_count": 18,
     "metadata": {},
     "output_type": "execute_result"
    }
   ],
   "source": [
    "B_batch, N_nodes = x_tokens.shape\n",
    "B_batch, N_nodes, x_tokens"
   ]
  },
  {
   "cell_type": "markdown",
   "id": "ec4b9aea-2c17-4fa2-bc63-a4c1135eea2c",
   "metadata": {},
   "source": [
    "**y_node** - per-gene label for cell-type. `0` for T-cell marker and tie, `1` for B-cell marker. As a reminder, this is an aggregation of the up-regulated and down-regulated genes. We focus on which cell type has the gene up-regulated and, if both have it, we use 0. There are ways to handle ties better but we won't get into it.  Since `y_node` also includes the cell types, we'll use -1 to mask them as ignored."
   ]
  },
  {
   "cell_type": "code",
   "execution_count": 19,
   "id": "9fe5efc3-97fe-4638-b04b-9eb29d7fb42d",
   "metadata": {},
   "outputs": [
    {
     "data": {
      "text/plain": [
       "(torch.Size([2, 6]),\n",
       " tensor([[ 0,  0,  0,  1, -1, -1],\n",
       "         [ 0,  1,  0,  1, -1, -1]]))"
      ]
     },
     "execution_count": 19,
     "metadata": {},
     "output_type": "execute_result"
    }
   ],
   "source": [
    "y_node.size(), y_node"
   ]
  },
  {
   "cell_type": "markdown",
   "id": "986b92da-0888-444a-98c2-df2d45389b48",
   "metadata": {},
   "source": [
    "**y_graph** - per-graph label to determine if an example is cancerous. `0` is for benign and `1` is for cancerous.  "
   ]
  },
  {
   "cell_type": "code",
   "execution_count": 20,
   "id": "9e984511-b313-42ac-bc7c-e88cf27399d8",
   "metadata": {},
   "outputs": [
    {
     "data": {
      "text/plain": [
       "(torch.Size([2]), tensor([0, 1]))"
      ]
     },
     "execution_count": 20,
     "metadata": {},
     "output_type": "execute_result"
    }
   ],
   "source": [
    "y_graph.size(), y_graph"
   ]
  },
  {
   "cell_type": "markdown",
   "id": "ec818687-4747-4e8c-bb10-a400891d7619",
   "metadata": {},
   "source": [
    "**A_list** - The relationships for each of our cells.  You'll notice here that only the last two rows and columns are used.  In this tensor `+1` is for **upregulated** gene per cell type and `-1` is for **downregulated**. `0` is for not in the network.  We also include here a **Gene_mask** that will act in our loss function as a flag to suppress the gene x gene portions of the matrix. "
   ]
  },
  {
   "cell_type": "code",
   "execution_count": 21,
   "id": "45348c5b-90d0-481f-bbf4-ed5bb93e94d3",
   "metadata": {},
   "outputs": [
    {
     "data": {
      "text/plain": [
       "(tensor([ True,  True,  True,  True, False, False]),\n",
       " [tensor([[ 0.,  0.,  0.,  0.,  1., -1.],\n",
       "          [ 0.,  0.,  0.,  0.,  1., -1.],\n",
       "          [ 0.,  0.,  0.,  0.,  1., -1.],\n",
       "          [ 0.,  0.,  0.,  0., -1.,  1.],\n",
       "          [ 1.,  1.,  1., -1.,  0.,  0.],\n",
       "          [-1., -1., -1.,  1.,  0.,  0.]]),\n",
       "  tensor([[ 0.,  0.,  0.,  0.,  1.,  1.],\n",
       "          [ 0.,  0.,  0.,  0., -1.,  1.],\n",
       "          [ 0.,  0.,  0.,  0.,  1., -1.],\n",
       "          [ 0.,  0.,  0.,  0., -1.,  1.],\n",
       "          [ 1., -1.,  1., -1.,  0.,  0.],\n",
       "          [ 1.,  1., -1.,  1.,  0.,  0.]])])"
      ]
     },
     "execution_count": 21,
     "metadata": {},
     "output_type": "execute_result"
    }
   ],
   "source": [
    "gene_mask, a_list"
   ]
  },
  {
   "cell_type": "markdown",
   "id": "727058d6-eafd-4b74-88fd-49d4219d30eb",
   "metadata": {},
   "source": [
    "### Data Loading - Blocked Diagonal Graph"
   ]
  },
  {
   "cell_type": "markdown",
   "id": "663c8ee9-64e4-4c90-a9a3-69049cbccafc",
   "metadata": {},
   "source": [
    "Since we are trying to learn from all the examples in our batch, we want a uniform tensor of the network connections to learn from. We do this using a block diagonal join that creates a large tensor out of the inputs by simply sliding each new tensor to start at `[i+1,j+1]`.  In our case this results in a `[24,24]` matrix since we have 4 examples with 6 nodes. "
   ]
  },
  {
   "cell_type": "code",
   "execution_count": 22,
   "id": "ba483d33-38e5-4b3f-9bc1-7514aeb1a85c",
   "metadata": {},
   "outputs": [
    {
     "data": {
      "text/plain": [
       "(torch.Size([12, 12]),\n",
       " tensor([[ 0.,  0.,  0.,  0.,  1., -1.,  0.,  0.,  0.,  0.,  0.,  0.],\n",
       "         [ 0.,  0.,  0.,  0.,  1., -1.,  0.,  0.,  0.,  0.,  0.,  0.],\n",
       "         [ 0.,  0.,  0.,  0.,  1., -1.,  0.,  0.,  0.,  0.,  0.,  0.],\n",
       "         [ 0.,  0.,  0.,  0., -1.,  1.,  0.,  0.,  0.,  0.,  0.,  0.],\n",
       "         [ 1.,  1.,  1., -1.,  0.,  0.,  0.,  0.,  0.,  0.,  0.,  0.],\n",
       "         [-1., -1., -1.,  1.,  0.,  0.,  0.,  0.,  0.,  0.,  0.,  0.],\n",
       "         [ 0.,  0.,  0.,  0.,  0.,  0.,  0.,  0.,  0.,  0.,  1.,  1.],\n",
       "         [ 0.,  0.,  0.,  0.,  0.,  0.,  0.,  0.,  0.,  0., -1.,  1.],\n",
       "         [ 0.,  0.,  0.,  0.,  0.,  0.,  0.,  0.,  0.,  0.,  1., -1.],\n",
       "         [ 0.,  0.,  0.,  0.,  0.,  0.,  0.,  0.,  0.,  0., -1.,  1.],\n",
       "         [ 0.,  0.,  0.,  0.,  0.,  0.,  1., -1.,  1., -1.,  0.,  0.],\n",
       "         [ 0.,  0.,  0.,  0.,  0.,  0.,  1.,  1., -1.,  1.,  0.,  0.]]))"
      ]
     },
     "execution_count": 22,
     "metadata": {},
     "output_type": "execute_result"
    }
   ],
   "source": [
    "a_blk = torch.block_diag(*a_list)\n",
    "a_blk.size(), a_blk"
   ]
  },
  {
   "cell_type": "markdown",
   "id": "92e81275-ae8f-4968-b325-1deab4139fa4",
   "metadata": {},
   "source": [
    "## Forward pass"
   ]
  },
  {
   "cell_type": "code",
   "execution_count": 23,
   "id": "37f358c2-7943-4b3e-8ac6-0909ca97e243",
   "metadata": {},
   "outputs": [
    {
     "data": {
      "text/plain": [
       "3"
      ]
     },
     "execution_count": 23,
     "metadata": {},
     "output_type": "execute_result"
    }
   ],
   "source": [
    "n_embd= 6\n",
    "heads = 2\n",
    "head_dim = n_embd // heads\n",
    "depth = 1 # just a single hop\n",
    "head_dim"
   ]
  },
  {
   "cell_type": "markdown",
   "id": "8bddabbf-fbc0-475f-a367-cf7add671d07",
   "metadata": {},
   "source": [
    "### Embedding Projection"
   ]
  },
  {
   "cell_type": "code",
   "execution_count": 24,
   "id": "04abaee3-cd77-4a4f-a165-7918f675ff26",
   "metadata": {},
   "outputs": [
    {
     "data": {
      "text/plain": [
       "(torch.Size([6, 6]),\n",
       " Parameter containing:\n",
       " tensor([[0.0010, 0.0020, 0.0030, 0.0040, 0.0050, 0.0060],\n",
       "         [0.0020, 0.0030, 0.0040, 0.0050, 0.0060, 0.0070],\n",
       "         [0.0030, 0.0040, 0.0050, 0.0060, 0.0070, 0.0080],\n",
       "         [0.0040, 0.0050, 0.0060, 0.0070, 0.0080, 0.0090],\n",
       "         [0.0050, 0.0060, 0.0070, 0.0080, 0.0090, 0.0100],\n",
       "         [0.0060, 0.0070, 0.0080, 0.0090, 0.0100, 0.0110]], requires_grad=True))"
      ]
     },
     "execution_count": 24,
     "metadata": {},
     "output_type": "execute_result"
    }
   ],
   "source": [
    "tok_emb = nn.Embedding(vocab_size, n_embd)\n",
    "with torch.no_grad(): # initilize to W[i,j] = 0.001*(1+i+j) for easy following \n",
    "    vs, d = vocab_size, n_embd\n",
    "    rows = torch.arange(vs).unsqueeze(1)  # (vs,1)\n",
    "    cols = torch.arange(d).unsqueeze(0)  # (1,d)\n",
    "    pattern = 0.001*(1 + rows + cols)  # W[i,j] = 0.001*(1+i+j)\n",
    "    tok_emb.weight.copy_(pattern)\n",
    "tok_emb.weight.size(), tok_emb.weight"
   ]
  },
  {
   "cell_type": "code",
   "execution_count": 25,
   "id": "6d211712-b32c-4e63-b194-347c9e116707",
   "metadata": {},
   "outputs": [
    {
     "data": {
      "text/plain": [
       "(torch.Size([2, 6, 6]),\n",
       " tensor([[[0.0010, 0.0020, 0.0030, 0.0040, 0.0050, 0.0060],\n",
       "          [0.0020, 0.0030, 0.0040, 0.0050, 0.0060, 0.0070],\n",
       "          [0.0030, 0.0040, 0.0050, 0.0060, 0.0070, 0.0080],\n",
       "          [0.0040, 0.0050, 0.0060, 0.0070, 0.0080, 0.0090],\n",
       "          [0.0050, 0.0060, 0.0070, 0.0080, 0.0090, 0.0100],\n",
       "          [0.0060, 0.0070, 0.0080, 0.0090, 0.0100, 0.0110]],\n",
       " \n",
       "         [[0.0010, 0.0020, 0.0030, 0.0040, 0.0050, 0.0060],\n",
       "          [0.0020, 0.0030, 0.0040, 0.0050, 0.0060, 0.0070],\n",
       "          [0.0030, 0.0040, 0.0050, 0.0060, 0.0070, 0.0080],\n",
       "          [0.0040, 0.0050, 0.0060, 0.0070, 0.0080, 0.0090],\n",
       "          [0.0050, 0.0060, 0.0070, 0.0080, 0.0090, 0.0100],\n",
       "          [0.0060, 0.0070, 0.0080, 0.0090, 0.0100, 0.0110]]],\n",
       "        grad_fn=<EmbeddingBackward0>))"
      ]
     },
     "execution_count": 25,
     "metadata": {},
     "output_type": "execute_result"
    }
   ],
   "source": [
    "x = tok_emb(x_tokens)\n",
    "x.size(), x"
   ]
  },
  {
   "cell_type": "code",
   "execution_count": 26,
   "id": "f3d6ca48-56aa-4d04-babf-2cdc139b0be0",
   "metadata": {},
   "outputs": [
    {
     "data": {
      "text/plain": [
       "(torch.Size([12, 6]),\n",
       " tensor([[0.0010, 0.0020, 0.0030, 0.0040, 0.0050, 0.0060],\n",
       "         [0.0020, 0.0030, 0.0040, 0.0050, 0.0060, 0.0070],\n",
       "         [0.0030, 0.0040, 0.0050, 0.0060, 0.0070, 0.0080],\n",
       "         [0.0040, 0.0050, 0.0060, 0.0070, 0.0080, 0.0090],\n",
       "         [0.0050, 0.0060, 0.0070, 0.0080, 0.0090, 0.0100],\n",
       "         [0.0060, 0.0070, 0.0080, 0.0090, 0.0100, 0.0110],\n",
       "         [0.0010, 0.0020, 0.0030, 0.0040, 0.0050, 0.0060],\n",
       "         [0.0020, 0.0030, 0.0040, 0.0050, 0.0060, 0.0070],\n",
       "         [0.0030, 0.0040, 0.0050, 0.0060, 0.0070, 0.0080],\n",
       "         [0.0040, 0.0050, 0.0060, 0.0070, 0.0080, 0.0090],\n",
       "         [0.0050, 0.0060, 0.0070, 0.0080, 0.0090, 0.0100],\n",
       "         [0.0060, 0.0070, 0.0080, 0.0090, 0.0100, 0.0110]],\n",
       "        grad_fn=<ViewBackward0>))"
      ]
     },
     "execution_count": 26,
     "metadata": {},
     "output_type": "execute_result"
    }
   ],
   "source": [
    "x = x.view(B_batch*N_nodes,n_embd) # remove batch\n",
    "x.size(), x"
   ]
  },
  {
   "cell_type": "markdown",
   "id": "c0eb2ba0-e6d1-49ae-ac16-11b54a94ecb3",
   "metadata": {},
   "source": [
    "### GAT Block"
   ]
  },
  {
   "cell_type": "markdown",
   "id": "4cf8de80-8021-458f-aea0-d30a6fa5e7ed",
   "metadata": {},
   "source": [
    "#### GAT Block - First Attention Layer"
   ]
  },
  {
   "cell_type": "markdown",
   "id": "eae2ce9d-bda0-431d-82d1-cf92138bc1a9",
   "metadata": {},
   "source": [
    "##### Setup Edges"
   ]
  },
  {
   "cell_type": "code",
   "execution_count": 27,
   "id": "2a282808-d4e3-466f-a608-e1521595ded6",
   "metadata": {
    "scrolled": true
   },
   "outputs": [
    {
     "data": {
      "text/plain": [
       "(torch.Size([12, 12]),\n",
       " tensor([[ True, False, False, False,  True,  True, False, False, False, False,\n",
       "          False, False],\n",
       "         [False,  True, False, False,  True,  True, False, False, False, False,\n",
       "          False, False],\n",
       "         [False, False,  True, False,  True,  True, False, False, False, False,\n",
       "          False, False],\n",
       "         [False, False, False,  True,  True,  True, False, False, False, False,\n",
       "          False, False],\n",
       "         [ True,  True,  True,  True,  True, False, False, False, False, False,\n",
       "          False, False],\n",
       "         [ True,  True,  True,  True, False,  True, False, False, False, False,\n",
       "          False, False],\n",
       "         [False, False, False, False, False, False,  True, False, False, False,\n",
       "           True,  True],\n",
       "         [False, False, False, False, False, False, False,  True, False, False,\n",
       "           True,  True],\n",
       "         [False, False, False, False, False, False, False, False,  True, False,\n",
       "           True,  True],\n",
       "         [False, False, False, False, False, False, False, False, False,  True,\n",
       "           True,  True],\n",
       "         [False, False, False, False, False, False,  True,  True,  True,  True,\n",
       "           True, False],\n",
       "         [False, False, False, False, False, False,  True,  True,  True,  True,\n",
       "          False,  True]]))"
      ]
     },
     "execution_count": 27,
     "metadata": {},
     "output_type": "execute_result"
    }
   ],
   "source": [
    "signed_a = a_blk.clone()\n",
    "signed_a.fill_diagonal_(1.0)                       # self-loops are positive\n",
    "mask = (signed_a != 0)  \n",
    "mask.size(), mask"
   ]
  },
  {
   "cell_type": "code",
   "execution_count": 28,
   "id": "6877cbc7-0ee6-4901-b190-89840c8eb921",
   "metadata": {},
   "outputs": [
    {
     "data": {
      "text/plain": [
       "(torch.Size([12, 12, 1]),\n",
       " tensor([[[ 1.],\n",
       "          [ 0.],\n",
       "          [ 0.],\n",
       "          [ 0.],\n",
       "          [ 1.],\n",
       "          [-1.],\n",
       "          [ 0.],\n",
       "          [ 0.],\n",
       "          [ 0.],\n",
       "          [ 0.],\n",
       "          [ 0.],\n",
       "          [ 0.]],\n",
       " \n",
       "         [[ 0.],\n",
       "          [ 1.],\n",
       "          [ 0.],\n",
       "          [ 0.],\n",
       "          [ 1.],\n",
       "          [-1.],\n",
       "          [ 0.],\n",
       "          [ 0.],\n",
       "          [ 0.],\n",
       "          [ 0.],\n",
       "          [ 0.],\n",
       "          [ 0.]],\n",
       " \n",
       "         [[ 0.],\n",
       "          [ 0.],\n",
       "          [ 1.],\n",
       "          [ 0.],\n",
       "          [ 1.],\n",
       "          [-1.],\n",
       "          [ 0.],\n",
       "          [ 0.],\n",
       "          [ 0.],\n",
       "          [ 0.],\n",
       "          [ 0.],\n",
       "          [ 0.]],\n",
       " \n",
       "         [[ 0.],\n",
       "          [ 0.],\n",
       "          [ 0.],\n",
       "          [ 1.],\n",
       "          [-1.],\n",
       "          [ 1.],\n",
       "          [ 0.],\n",
       "          [ 0.],\n",
       "          [ 0.],\n",
       "          [ 0.],\n",
       "          [ 0.],\n",
       "          [ 0.]],\n",
       " \n",
       "         [[ 1.],\n",
       "          [ 1.],\n",
       "          [ 1.],\n",
       "          [-1.],\n",
       "          [ 1.],\n",
       "          [ 0.],\n",
       "          [ 0.],\n",
       "          [ 0.],\n",
       "          [ 0.],\n",
       "          [ 0.],\n",
       "          [ 0.],\n",
       "          [ 0.]],\n",
       " \n",
       "         [[-1.],\n",
       "          [-1.],\n",
       "          [-1.],\n",
       "          [ 1.],\n",
       "          [ 0.],\n",
       "          [ 1.],\n",
       "          [ 0.],\n",
       "          [ 0.],\n",
       "          [ 0.],\n",
       "          [ 0.],\n",
       "          [ 0.],\n",
       "          [ 0.]],\n",
       " \n",
       "         [[ 0.],\n",
       "          [ 0.],\n",
       "          [ 0.],\n",
       "          [ 0.],\n",
       "          [ 0.],\n",
       "          [ 0.],\n",
       "          [ 1.],\n",
       "          [ 0.],\n",
       "          [ 0.],\n",
       "          [ 0.],\n",
       "          [ 1.],\n",
       "          [ 1.]],\n",
       " \n",
       "         [[ 0.],\n",
       "          [ 0.],\n",
       "          [ 0.],\n",
       "          [ 0.],\n",
       "          [ 0.],\n",
       "          [ 0.],\n",
       "          [ 0.],\n",
       "          [ 1.],\n",
       "          [ 0.],\n",
       "          [ 0.],\n",
       "          [-1.],\n",
       "          [ 1.]],\n",
       " \n",
       "         [[ 0.],\n",
       "          [ 0.],\n",
       "          [ 0.],\n",
       "          [ 0.],\n",
       "          [ 0.],\n",
       "          [ 0.],\n",
       "          [ 0.],\n",
       "          [ 0.],\n",
       "          [ 1.],\n",
       "          [ 0.],\n",
       "          [ 1.],\n",
       "          [-1.]],\n",
       " \n",
       "         [[ 0.],\n",
       "          [ 0.],\n",
       "          [ 0.],\n",
       "          [ 0.],\n",
       "          [ 0.],\n",
       "          [ 0.],\n",
       "          [ 0.],\n",
       "          [ 0.],\n",
       "          [ 0.],\n",
       "          [ 1.],\n",
       "          [-1.],\n",
       "          [ 1.]],\n",
       " \n",
       "         [[ 0.],\n",
       "          [ 0.],\n",
       "          [ 0.],\n",
       "          [ 0.],\n",
       "          [ 0.],\n",
       "          [ 0.],\n",
       "          [ 1.],\n",
       "          [-1.],\n",
       "          [ 1.],\n",
       "          [-1.],\n",
       "          [ 1.],\n",
       "          [ 0.]],\n",
       " \n",
       "         [[ 0.],\n",
       "          [ 0.],\n",
       "          [ 0.],\n",
       "          [ 0.],\n",
       "          [ 0.],\n",
       "          [ 0.],\n",
       "          [ 1.],\n",
       "          [ 1.],\n",
       "          [-1.],\n",
       "          [ 1.],\n",
       "          [ 0.],\n",
       "          [ 1.]]]))"
      ]
     },
     "execution_count": 28,
     "metadata": {},
     "output_type": "execute_result"
    }
   ],
   "source": [
    "signed_a = signed_a.unsqueeze(-1) # [M,M,1] sign tensor\n",
    "signed_a.size(), signed_a"
   ]
  },
  {
   "cell_type": "markdown",
   "id": "85d1ceef-c8e9-4bb6-8b04-fc75ab34a81a",
   "metadata": {},
   "source": [
    "##### Feature dropout"
   ]
  },
  {
   "cell_type": "code",
   "execution_count": 29,
   "id": "53b85e40-1fee-4d55-94c6-519937bba395",
   "metadata": {},
   "outputs": [],
   "source": [
    "feat_dropout=0.10\n",
    "gat1_fdrop = nn.Dropout(feat_dropout)"
   ]
  },
  {
   "cell_type": "code",
   "execution_count": 30,
   "id": "79ada000-f653-4874-95f5-20ad38ffc588",
   "metadata": {},
   "outputs": [
    {
     "data": {
      "text/plain": [
       "(torch.Size([12, 6]),\n",
       " tensor([[0.0000, 0.0022, 0.0033, 0.0044, 0.0056, 0.0067],\n",
       "         [0.0022, 0.0033, 0.0044, 0.0056, 0.0067, 0.0078],\n",
       "         [0.0033, 0.0044, 0.0056, 0.0067, 0.0000, 0.0089],\n",
       "         [0.0044, 0.0056, 0.0067, 0.0078, 0.0089, 0.0100],\n",
       "         [0.0056, 0.0067, 0.0078, 0.0089, 0.0100, 0.0111],\n",
       "         [0.0067, 0.0078, 0.0089, 0.0100, 0.0111, 0.0122],\n",
       "         [0.0011, 0.0022, 0.0033, 0.0044, 0.0056, 0.0067],\n",
       "         [0.0022, 0.0033, 0.0044, 0.0056, 0.0000, 0.0078],\n",
       "         [0.0033, 0.0044, 0.0056, 0.0067, 0.0078, 0.0089],\n",
       "         [0.0044, 0.0056, 0.0067, 0.0078, 0.0089, 0.0100],\n",
       "         [0.0056, 0.0067, 0.0078, 0.0089, 0.0100, 0.0111],\n",
       "         [0.0067, 0.0078, 0.0089, 0.0100, 0.0000, 0.0122]],\n",
       "        grad_fn=<MulBackward0>))"
      ]
     },
     "execution_count": 30,
     "metadata": {},
     "output_type": "execute_result"
    }
   ],
   "source": [
    "x_drop = gat1_fdrop(x)\n",
    "x_drop.size(), x_drop"
   ]
  },
  {
   "cell_type": "markdown",
   "id": "cf290524-6fd3-437b-b0a0-c0daf6aede45",
   "metadata": {},
   "source": [
    "##### per-head linear projection\n",
    "Broadcast `x_drop` across heads and multiply by per-head W: `[H,M,I] @ [H,I,O] -> [H,M,O]`\n"
   ]
  },
  {
   "cell_type": "code",
   "execution_count": 31,
   "id": "430ccf9d-ea50-43ff-886a-0edc83083de4",
   "metadata": {},
   "outputs": [],
   "source": [
    "def pyramid_weight(h, w, base=0.01, dtype=torch.float32):\n",
    "    r = torch.arange(h, dtype=dtype)\n",
    "    c = torch.arange(w, dtype=dtype)\n",
    "    drow = torch.minimum(r, (h - 1) - r)\n",
    "    dcol = torch.minimum(c, (w - 1) - c)\n",
    "    return base * (1 + drow)[:, None] * (1 + dcol)[None, :]"
   ]
  },
  {
   "cell_type": "code",
   "execution_count": 32,
   "id": "215dc07f-30a5-4f87-8b7c-7484bb3199e0",
   "metadata": {},
   "outputs": [
    {
     "data": {
      "text/plain": [
       "(torch.Size([2, 6, 3]),\n",
       " Parameter containing:\n",
       " tensor([[[0.0100, 0.0200, 0.0100],\n",
       "          [0.0200, 0.0400, 0.0200],\n",
       "          [0.0300, 0.0600, 0.0300],\n",
       "          [0.0300, 0.0600, 0.0300],\n",
       "          [0.0200, 0.0400, 0.0200],\n",
       "          [0.0100, 0.0200, 0.0100]],\n",
       " \n",
       "         [[0.0100, 0.0200, 0.0100],\n",
       "          [0.0200, 0.0400, 0.0200],\n",
       "          [0.0300, 0.0600, 0.0300],\n",
       "          [0.0300, 0.0600, 0.0300],\n",
       "          [0.0200, 0.0400, 0.0200],\n",
       "          [0.0100, 0.0200, 0.0100]]], requires_grad=True))"
      ]
     },
     "execution_count": 32,
     "metadata": {},
     "output_type": "execute_result"
    }
   ],
   "source": [
    "gat1_attn_w = nn.Parameter(torch.empty(heads, n_embd, head_dim))\n",
    "with torch.no_grad(): \n",
    "    gat1_attn_w.copy_(pyramid_weight(n_embd, head_dim))\n",
    "gat1_attn_w.size(), gat1_attn_w"
   ]
  },
  {
   "cell_type": "code",
   "execution_count": 33,
   "id": "720d3dff-3212-47aa-b313-b4eeb5cd14f1",
   "metadata": {},
   "outputs": [
    {
     "data": {
      "text/plain": [
       "(12, 2, 3)"
      ]
     },
     "execution_count": 33,
     "metadata": {},
     "output_type": "execute_result"
    }
   ],
   "source": [
    "M = x_drop.size(0)\n",
    "H = gat1_attn_w.size(0)\n",
    "O = gat1_attn_w.size(2)\n",
    "M, H, O"
   ]
  },
  {
   "cell_type": "code",
   "execution_count": 34,
   "id": "75568042-015f-4b4c-883c-2ba8c2d085c1",
   "metadata": {},
   "outputs": [
    {
     "data": {
      "text/plain": [
       "(torch.Size([2, 12, 3]),\n",
       " tensor([[[0.0005, 0.0009, 0.0005],\n",
       "          [0.0006, 0.0012, 0.0006],\n",
       "          [0.0006, 0.0012, 0.0006],\n",
       "          [0.0009, 0.0017, 0.0009],\n",
       "          [0.0010, 0.0020, 0.0010],\n",
       "          [0.0011, 0.0023, 0.0011],\n",
       "          [0.0005, 0.0009, 0.0005],\n",
       "          [0.0005, 0.0009, 0.0005],\n",
       "          [0.0007, 0.0015, 0.0007],\n",
       "          [0.0009, 0.0017, 0.0009],\n",
       "          [0.0010, 0.0020, 0.0010],\n",
       "          [0.0009, 0.0018, 0.0009]],\n",
       " \n",
       "         [[0.0005, 0.0009, 0.0005],\n",
       "          [0.0006, 0.0012, 0.0006],\n",
       "          [0.0006, 0.0012, 0.0006],\n",
       "          [0.0009, 0.0017, 0.0009],\n",
       "          [0.0010, 0.0020, 0.0010],\n",
       "          [0.0011, 0.0023, 0.0011],\n",
       "          [0.0005, 0.0009, 0.0005],\n",
       "          [0.0005, 0.0009, 0.0005],\n",
       "          [0.0007, 0.0015, 0.0007],\n",
       "          [0.0009, 0.0017, 0.0009],\n",
       "          [0.0010, 0.0020, 0.0010],\n",
       "          [0.0009, 0.0018, 0.0009]]], grad_fn=<CloneBackward0>))"
      ]
     },
     "execution_count": 34,
     "metadata": {},
     "output_type": "execute_result"
    }
   ],
   "source": [
    "Hproj = x_drop @ gat1_attn_w\n",
    "Hproj.size(), Hproj"
   ]
  },
  {
   "cell_type": "code",
   "execution_count": 35,
   "id": "6dc78900-6f72-4baa-b5c5-f5d170703d5c",
   "metadata": {},
   "outputs": [
    {
     "data": {
      "text/plain": [
       "(torch.Size([12, 2, 3]),\n",
       " tensor([[[0.0005, 0.0009, 0.0005],\n",
       "          [0.0005, 0.0009, 0.0005]],\n",
       " \n",
       "         [[0.0006, 0.0012, 0.0006],\n",
       "          [0.0006, 0.0012, 0.0006]],\n",
       " \n",
       "         [[0.0006, 0.0012, 0.0006],\n",
       "          [0.0006, 0.0012, 0.0006]],\n",
       " \n",
       "         [[0.0009, 0.0017, 0.0009],\n",
       "          [0.0009, 0.0017, 0.0009]],\n",
       " \n",
       "         [[0.0010, 0.0020, 0.0010],\n",
       "          [0.0010, 0.0020, 0.0010]],\n",
       " \n",
       "         [[0.0011, 0.0023, 0.0011],\n",
       "          [0.0011, 0.0023, 0.0011]],\n",
       " \n",
       "         [[0.0005, 0.0009, 0.0005],\n",
       "          [0.0005, 0.0009, 0.0005]],\n",
       " \n",
       "         [[0.0005, 0.0009, 0.0005],\n",
       "          [0.0005, 0.0009, 0.0005]],\n",
       " \n",
       "         [[0.0007, 0.0015, 0.0007],\n",
       "          [0.0007, 0.0015, 0.0007]],\n",
       " \n",
       "         [[0.0009, 0.0017, 0.0009],\n",
       "          [0.0009, 0.0017, 0.0009]],\n",
       " \n",
       "         [[0.0010, 0.0020, 0.0010],\n",
       "          [0.0010, 0.0020, 0.0010]],\n",
       " \n",
       "         [[0.0009, 0.0018, 0.0009],\n",
       "          [0.0009, 0.0018, 0.0009]]], grad_fn=<PermuteBackward0>))"
      ]
     },
     "execution_count": 35,
     "metadata": {},
     "output_type": "execute_result"
    }
   ],
   "source": [
    "Hproj = Hproj.permute(1, 0, 2) \n",
    "Hproj.size(), Hproj"
   ]
  },
  {
   "cell_type": "markdown",
   "id": "0f665f5f-b9f0-4992-af46-4564c90e2269",
   "metadata": {},
   "source": [
    "##### attention logits e_ij per head\n",
    "Compute node-wise scores for each head, then combine to pairwise:"
   ]
  },
  {
   "cell_type": "code",
   "execution_count": 36,
   "id": "579bb1df-e198-4f10-9538-34960698d153",
   "metadata": {},
   "outputs": [
    {
     "data": {
      "text/plain": [
       "(torch.Size([2, 3, 1]),\n",
       " Parameter containing:\n",
       " tensor([[[0.0100],\n",
       "          [0.0200],\n",
       "          [0.0300]],\n",
       " \n",
       "         [[0.0100],\n",
       "          [0.0200],\n",
       "          [0.0300]]], requires_grad=True))"
      ]
     },
     "execution_count": 36,
     "metadata": {},
     "output_type": "execute_result"
    }
   ],
   "source": [
    "gat1_attn_src = nn.Parameter(torch.empty(heads, head_dim, 1))\n",
    "with torch.no_grad(): \n",
    "    src_pattern = torch.tensor([[0.01],[0.02],[0.03]])\n",
    "    gat1_attn_src.copy_(src_pattern)\n",
    "gat1_attn_src.size(), gat1_attn_src"
   ]
  },
  {
   "cell_type": "code",
   "execution_count": 37,
   "id": "27deba46-b353-4134-bea3-8f2f5cedc43e",
   "metadata": {},
   "outputs": [
    {
     "data": {
      "text/plain": [
       "(torch.Size([2, 3, 1]),\n",
       " Parameter containing:\n",
       " tensor([[[0.0200],\n",
       "          [0.0100],\n",
       "          [0.0200]],\n",
       " \n",
       "         [[0.0200],\n",
       "          [0.0100],\n",
       "          [0.0200]]], requires_grad=True))"
      ]
     },
     "execution_count": 37,
     "metadata": {},
     "output_type": "execute_result"
    }
   ],
   "source": [
    "gat1_attn_dst = nn.Parameter(torch.empty(heads, head_dim, 1))\n",
    "with torch.no_grad(): \n",
    "    dst_pattern = torch.tensor([[0.02],[0.01],[0.02]])\n",
    "    gat1_attn_dst.copy_(dst_pattern)\n",
    "gat1_attn_dst.size(), gat1_attn_dst"
   ]
  },
  {
   "cell_type": "code",
   "execution_count": 38,
   "id": "0162276f-28ea-4de7-b0d7-2d60a7a1b3d4",
   "metadata": {},
   "outputs": [
    {
     "data": {
      "text/plain": [
       "(torch.Size([2, 12, 3]),\n",
       " tensor([[[0.0005, 0.0009, 0.0005],\n",
       "          [0.0006, 0.0012, 0.0006],\n",
       "          [0.0006, 0.0012, 0.0006],\n",
       "          [0.0009, 0.0017, 0.0009],\n",
       "          [0.0010, 0.0020, 0.0010],\n",
       "          [0.0011, 0.0023, 0.0011],\n",
       "          [0.0005, 0.0009, 0.0005],\n",
       "          [0.0005, 0.0009, 0.0005],\n",
       "          [0.0007, 0.0015, 0.0007],\n",
       "          [0.0009, 0.0017, 0.0009],\n",
       "          [0.0010, 0.0020, 0.0010],\n",
       "          [0.0009, 0.0018, 0.0009]],\n",
       " \n",
       "         [[0.0005, 0.0009, 0.0005],\n",
       "          [0.0006, 0.0012, 0.0006],\n",
       "          [0.0006, 0.0012, 0.0006],\n",
       "          [0.0009, 0.0017, 0.0009],\n",
       "          [0.0010, 0.0020, 0.0010],\n",
       "          [0.0011, 0.0023, 0.0011],\n",
       "          [0.0005, 0.0009, 0.0005],\n",
       "          [0.0005, 0.0009, 0.0005],\n",
       "          [0.0007, 0.0015, 0.0007],\n",
       "          [0.0009, 0.0017, 0.0009],\n",
       "          [0.0010, 0.0020, 0.0010],\n",
       "          [0.0009, 0.0018, 0.0009]]], grad_fn=<PermuteBackward0>))"
      ]
     },
     "execution_count": 38,
     "metadata": {},
     "output_type": "execute_result"
    }
   ],
   "source": [
    "Hh = Hproj.permute(1, 0, 2)\n",
    "Hh.size(), Hh"
   ]
  },
  {
   "cell_type": "code",
   "execution_count": 39,
   "id": "a2f2a083-111e-4842-81db-2837786a64b5",
   "metadata": {},
   "outputs": [
    {
     "data": {
      "text/plain": [
       "(torch.Size([2, 12, 1]),\n",
       " tensor([[[3.6444e-05],\n",
       "          [4.8000e-05],\n",
       "          [4.6222e-05],\n",
       "          [6.9333e-05],\n",
       "          [8.0000e-05],\n",
       "          [9.0667e-05],\n",
       "          [3.7333e-05],\n",
       "          [3.7333e-05],\n",
       "          [5.8667e-05],\n",
       "          [6.9333e-05],\n",
       "          [8.0000e-05],\n",
       "          [7.2889e-05]],\n",
       " \n",
       "         [[3.6444e-05],\n",
       "          [4.8000e-05],\n",
       "          [4.6222e-05],\n",
       "          [6.9333e-05],\n",
       "          [8.0000e-05],\n",
       "          [9.0667e-05],\n",
       "          [3.7333e-05],\n",
       "          [3.7333e-05],\n",
       "          [5.8667e-05],\n",
       "          [6.9333e-05],\n",
       "          [8.0000e-05],\n",
       "          [7.2889e-05]]], grad_fn=<UnsafeViewBackward0>))"
      ]
     },
     "execution_count": 39,
     "metadata": {},
     "output_type": "execute_result"
    }
   ],
   "source": [
    "e_src = Hh @ gat1_attn_src\n",
    "e_src.size(), e_src"
   ]
  },
  {
   "cell_type": "code",
   "execution_count": 40,
   "id": "46b9a1fe-2b84-4fb7-8e25-cbf31a8481b1",
   "metadata": {},
   "outputs": [
    {
     "data": {
      "text/plain": [
       "(torch.Size([12, 1, 2]),\n",
       " tensor([[[3.6444e-05, 3.6444e-05]],\n",
       " \n",
       "         [[4.8000e-05, 4.8000e-05]],\n",
       " \n",
       "         [[4.6222e-05, 4.6222e-05]],\n",
       " \n",
       "         [[6.9333e-05, 6.9333e-05]],\n",
       " \n",
       "         [[8.0000e-05, 8.0000e-05]],\n",
       " \n",
       "         [[9.0667e-05, 9.0667e-05]],\n",
       " \n",
       "         [[3.7333e-05, 3.7333e-05]],\n",
       " \n",
       "         [[3.7333e-05, 3.7333e-05]],\n",
       " \n",
       "         [[5.8667e-05, 5.8667e-05]],\n",
       " \n",
       "         [[6.9333e-05, 6.9333e-05]],\n",
       " \n",
       "         [[8.0000e-05, 8.0000e-05]],\n",
       " \n",
       "         [[7.2889e-05, 7.2889e-05]]], grad_fn=<UnsqueezeBackward0>))"
      ]
     },
     "execution_count": 40,
     "metadata": {},
     "output_type": "execute_result"
    }
   ],
   "source": [
    "e_src = e_src.squeeze(-1).transpose(0, 1).unsqueeze(1)\n",
    "e_src.size(), e_src"
   ]
  },
  {
   "cell_type": "code",
   "execution_count": 41,
   "id": "9f6a7e13-cfee-426b-ab10-7e6596112f72",
   "metadata": {},
   "outputs": [
    {
     "data": {
      "text/plain": [
       "(torch.Size([2, 12, 1]),\n",
       " tensor([[[2.7333e-05],\n",
       "          [3.6000e-05],\n",
       "          [3.4667e-05],\n",
       "          [5.2000e-05],\n",
       "          [6.0000e-05],\n",
       "          [6.8000e-05],\n",
       "          [2.8000e-05],\n",
       "          [2.8000e-05],\n",
       "          [4.4000e-05],\n",
       "          [5.2000e-05],\n",
       "          [6.0000e-05],\n",
       "          [5.4667e-05]],\n",
       " \n",
       "         [[2.7333e-05],\n",
       "          [3.6000e-05],\n",
       "          [3.4667e-05],\n",
       "          [5.2000e-05],\n",
       "          [6.0000e-05],\n",
       "          [6.8000e-05],\n",
       "          [2.8000e-05],\n",
       "          [2.8000e-05],\n",
       "          [4.4000e-05],\n",
       "          [5.2000e-05],\n",
       "          [6.0000e-05],\n",
       "          [5.4667e-05]]], grad_fn=<UnsafeViewBackward0>))"
      ]
     },
     "execution_count": 41,
     "metadata": {},
     "output_type": "execute_result"
    }
   ],
   "source": [
    "e_dst = Hh @ gat1_attn_dst\n",
    "e_dst.size(), e_dst"
   ]
  },
  {
   "cell_type": "code",
   "execution_count": 42,
   "id": "aef46ff1-c658-4997-a777-129bf1d8c7aa",
   "metadata": {},
   "outputs": [
    {
     "data": {
      "text/plain": [
       "(torch.Size([1, 12, 2]),\n",
       " tensor([[[2.7333e-05, 2.7333e-05],\n",
       "          [3.6000e-05, 3.6000e-05],\n",
       "          [3.4667e-05, 3.4667e-05],\n",
       "          [5.2000e-05, 5.2000e-05],\n",
       "          [6.0000e-05, 6.0000e-05],\n",
       "          [6.8000e-05, 6.8000e-05],\n",
       "          [2.8000e-05, 2.8000e-05],\n",
       "          [2.8000e-05, 2.8000e-05],\n",
       "          [4.4000e-05, 4.4000e-05],\n",
       "          [5.2000e-05, 5.2000e-05],\n",
       "          [6.0000e-05, 6.0000e-05],\n",
       "          [5.4667e-05, 5.4667e-05]]], grad_fn=<UnsqueezeBackward0>))"
      ]
     },
     "execution_count": 42,
     "metadata": {},
     "output_type": "execute_result"
    }
   ],
   "source": [
    "e_dst = e_dst.squeeze(-1).transpose(0, 1).unsqueeze(0) \n",
    "e_dst.size(), e_dst"
   ]
  },
  {
   "cell_type": "code",
   "execution_count": 43,
   "id": "40034e6b-794d-4cfa-926a-18a8d918893c",
   "metadata": {},
   "outputs": [
    {
     "data": {
      "text/plain": [
       "(torch.Size([12, 12, 2]),\n",
       " tensor([[[6.3778e-05, 6.3778e-05],\n",
       "          [7.2444e-05, 7.2444e-05],\n",
       "          [7.1111e-05, 7.1111e-05],\n",
       "          [8.8444e-05, 8.8444e-05],\n",
       "          [9.6444e-05, 9.6444e-05],\n",
       "          [1.0444e-04, 1.0444e-04],\n",
       "          [6.4444e-05, 6.4444e-05],\n",
       "          [6.4444e-05, 6.4444e-05],\n",
       "          [8.0444e-05, 8.0444e-05],\n",
       "          [8.8444e-05, 8.8444e-05],\n",
       "          [9.6444e-05, 9.6444e-05],\n",
       "          [9.1111e-05, 9.1111e-05]],\n",
       " \n",
       "         [[7.5333e-05, 7.5333e-05],\n",
       "          [8.4000e-05, 8.4000e-05],\n",
       "          [8.2667e-05, 8.2667e-05],\n",
       "          [1.0000e-04, 1.0000e-04],\n",
       "          [1.0800e-04, 1.0800e-04],\n",
       "          [1.1600e-04, 1.1600e-04],\n",
       "          [7.6000e-05, 7.6000e-05],\n",
       "          [7.6000e-05, 7.6000e-05],\n",
       "          [9.2000e-05, 9.2000e-05],\n",
       "          [1.0000e-04, 1.0000e-04],\n",
       "          [1.0800e-04, 1.0800e-04],\n",
       "          [1.0267e-04, 1.0267e-04]],\n",
       " \n",
       "         [[7.3556e-05, 7.3556e-05],\n",
       "          [8.2222e-05, 8.2222e-05],\n",
       "          [8.0889e-05, 8.0889e-05],\n",
       "          [9.8222e-05, 9.8222e-05],\n",
       "          [1.0622e-04, 1.0622e-04],\n",
       "          [1.1422e-04, 1.1422e-04],\n",
       "          [7.4222e-05, 7.4222e-05],\n",
       "          [7.4222e-05, 7.4222e-05],\n",
       "          [9.0222e-05, 9.0222e-05],\n",
       "          [9.8222e-05, 9.8222e-05],\n",
       "          [1.0622e-04, 1.0622e-04],\n",
       "          [1.0089e-04, 1.0089e-04]],\n",
       " \n",
       "         [[9.6667e-05, 9.6667e-05],\n",
       "          [1.0533e-04, 1.0533e-04],\n",
       "          [1.0400e-04, 1.0400e-04],\n",
       "          [1.2133e-04, 1.2133e-04],\n",
       "          [1.2933e-04, 1.2933e-04],\n",
       "          [1.3733e-04, 1.3733e-04],\n",
       "          [9.7333e-05, 9.7333e-05],\n",
       "          [9.7333e-05, 9.7333e-05],\n",
       "          [1.1333e-04, 1.1333e-04],\n",
       "          [1.2133e-04, 1.2133e-04],\n",
       "          [1.2933e-04, 1.2933e-04],\n",
       "          [1.2400e-04, 1.2400e-04]],\n",
       " \n",
       "         [[1.0733e-04, 1.0733e-04],\n",
       "          [1.1600e-04, 1.1600e-04],\n",
       "          [1.1467e-04, 1.1467e-04],\n",
       "          [1.3200e-04, 1.3200e-04],\n",
       "          [1.4000e-04, 1.4000e-04],\n",
       "          [1.4800e-04, 1.4800e-04],\n",
       "          [1.0800e-04, 1.0800e-04],\n",
       "          [1.0800e-04, 1.0800e-04],\n",
       "          [1.2400e-04, 1.2400e-04],\n",
       "          [1.3200e-04, 1.3200e-04],\n",
       "          [1.4000e-04, 1.4000e-04],\n",
       "          [1.3467e-04, 1.3467e-04]],\n",
       " \n",
       "         [[1.1800e-04, 1.1800e-04],\n",
       "          [1.2667e-04, 1.2667e-04],\n",
       "          [1.2533e-04, 1.2533e-04],\n",
       "          [1.4267e-04, 1.4267e-04],\n",
       "          [1.5067e-04, 1.5067e-04],\n",
       "          [1.5867e-04, 1.5867e-04],\n",
       "          [1.1867e-04, 1.1867e-04],\n",
       "          [1.1867e-04, 1.1867e-04],\n",
       "          [1.3467e-04, 1.3467e-04],\n",
       "          [1.4267e-04, 1.4267e-04],\n",
       "          [1.5067e-04, 1.5067e-04],\n",
       "          [1.4533e-04, 1.4533e-04]],\n",
       " \n",
       "         [[6.4667e-05, 6.4667e-05],\n",
       "          [7.3333e-05, 7.3333e-05],\n",
       "          [7.2000e-05, 7.2000e-05],\n",
       "          [8.9333e-05, 8.9333e-05],\n",
       "          [9.7333e-05, 9.7333e-05],\n",
       "          [1.0533e-04, 1.0533e-04],\n",
       "          [6.5333e-05, 6.5333e-05],\n",
       "          [6.5333e-05, 6.5333e-05],\n",
       "          [8.1333e-05, 8.1333e-05],\n",
       "          [8.9333e-05, 8.9333e-05],\n",
       "          [9.7333e-05, 9.7333e-05],\n",
       "          [9.2000e-05, 9.2000e-05]],\n",
       " \n",
       "         [[6.4667e-05, 6.4667e-05],\n",
       "          [7.3333e-05, 7.3333e-05],\n",
       "          [7.2000e-05, 7.2000e-05],\n",
       "          [8.9333e-05, 8.9333e-05],\n",
       "          [9.7333e-05, 9.7333e-05],\n",
       "          [1.0533e-04, 1.0533e-04],\n",
       "          [6.5333e-05, 6.5333e-05],\n",
       "          [6.5333e-05, 6.5333e-05],\n",
       "          [8.1333e-05, 8.1333e-05],\n",
       "          [8.9333e-05, 8.9333e-05],\n",
       "          [9.7333e-05, 9.7333e-05],\n",
       "          [9.2000e-05, 9.2000e-05]],\n",
       " \n",
       "         [[8.6000e-05, 8.6000e-05],\n",
       "          [9.4667e-05, 9.4667e-05],\n",
       "          [9.3333e-05, 9.3333e-05],\n",
       "          [1.1067e-04, 1.1067e-04],\n",
       "          [1.1867e-04, 1.1867e-04],\n",
       "          [1.2667e-04, 1.2667e-04],\n",
       "          [8.6667e-05, 8.6667e-05],\n",
       "          [8.6667e-05, 8.6667e-05],\n",
       "          [1.0267e-04, 1.0267e-04],\n",
       "          [1.1067e-04, 1.1067e-04],\n",
       "          [1.1867e-04, 1.1867e-04],\n",
       "          [1.1333e-04, 1.1333e-04]],\n",
       " \n",
       "         [[9.6667e-05, 9.6667e-05],\n",
       "          [1.0533e-04, 1.0533e-04],\n",
       "          [1.0400e-04, 1.0400e-04],\n",
       "          [1.2133e-04, 1.2133e-04],\n",
       "          [1.2933e-04, 1.2933e-04],\n",
       "          [1.3733e-04, 1.3733e-04],\n",
       "          [9.7333e-05, 9.7333e-05],\n",
       "          [9.7333e-05, 9.7333e-05],\n",
       "          [1.1333e-04, 1.1333e-04],\n",
       "          [1.2133e-04, 1.2133e-04],\n",
       "          [1.2933e-04, 1.2933e-04],\n",
       "          [1.2400e-04, 1.2400e-04]],\n",
       " \n",
       "         [[1.0733e-04, 1.0733e-04],\n",
       "          [1.1600e-04, 1.1600e-04],\n",
       "          [1.1467e-04, 1.1467e-04],\n",
       "          [1.3200e-04, 1.3200e-04],\n",
       "          [1.4000e-04, 1.4000e-04],\n",
       "          [1.4800e-04, 1.4800e-04],\n",
       "          [1.0800e-04, 1.0800e-04],\n",
       "          [1.0800e-04, 1.0800e-04],\n",
       "          [1.2400e-04, 1.2400e-04],\n",
       "          [1.3200e-04, 1.3200e-04],\n",
       "          [1.4000e-04, 1.4000e-04],\n",
       "          [1.3467e-04, 1.3467e-04]],\n",
       " \n",
       "         [[1.0022e-04, 1.0022e-04],\n",
       "          [1.0889e-04, 1.0889e-04],\n",
       "          [1.0756e-04, 1.0756e-04],\n",
       "          [1.2489e-04, 1.2489e-04],\n",
       "          [1.3289e-04, 1.3289e-04],\n",
       "          [1.4089e-04, 1.4089e-04],\n",
       "          [1.0089e-04, 1.0089e-04],\n",
       "          [1.0089e-04, 1.0089e-04],\n",
       "          [1.1689e-04, 1.1689e-04],\n",
       "          [1.2489e-04, 1.2489e-04],\n",
       "          [1.3289e-04, 1.3289e-04],\n",
       "          [1.2756e-04, 1.2756e-04]]], grad_fn=<AddBackward0>))"
      ]
     },
     "execution_count": 43,
     "metadata": {},
     "output_type": "execute_result"
    }
   ],
   "source": [
    "e = e_src + e_dst\n",
    "e.size(), e"
   ]
  },
  {
   "cell_type": "markdown",
   "id": "b2182fd6-20df-48b0-b6cf-4e9dd85d017c",
   "metadata": {},
   "source": [
    "##### inject edge sign into scores\n",
    "inject edge sign into scores (learnable per-head coefficient)"
   ]
  },
  {
   "cell_type": "code",
   "execution_count": 44,
   "id": "d946f0ec-e326-4012-915b-e8f42d4c1ed1",
   "metadata": {},
   "outputs": [
    {
     "data": {
      "text/plain": [
       "(torch.Size([2, 1]),\n",
       " Parameter containing:\n",
       " tensor([[0.0500],\n",
       "         [0.0400]], requires_grad=True))"
      ]
     },
     "execution_count": 44,
     "metadata": {},
     "output_type": "execute_result"
    }
   ],
   "source": [
    "gat1_attn_sign = nn.Parameter(torch.zeros(heads, 1)) \n",
    "with torch.no_grad(): \n",
    "    sign_pattern = torch.tensor([[0.05],[0.04]])\n",
    "    gat1_attn_sign.copy_(sign_pattern)\n",
    "gat1_attn_sign.size(), gat1_attn_sign"
   ]
  },
  {
   "cell_type": "code",
   "execution_count": 45,
   "id": "9ac5ffd7-e677-4295-bcac-f8d0650318d7",
   "metadata": {},
   "outputs": [
    {
     "data": {
      "text/plain": [
       "(torch.Size([12, 12, 2]),\n",
       " tensor([[[ 0.0500,  0.0400],\n",
       "          [ 0.0000,  0.0000],\n",
       "          [ 0.0000,  0.0000],\n",
       "          [ 0.0000,  0.0000],\n",
       "          [ 0.0500,  0.0400],\n",
       "          [-0.0500, -0.0400],\n",
       "          [ 0.0000,  0.0000],\n",
       "          [ 0.0000,  0.0000],\n",
       "          [ 0.0000,  0.0000],\n",
       "          [ 0.0000,  0.0000],\n",
       "          [ 0.0000,  0.0000],\n",
       "          [ 0.0000,  0.0000]],\n",
       " \n",
       "         [[ 0.0000,  0.0000],\n",
       "          [ 0.0500,  0.0400],\n",
       "          [ 0.0000,  0.0000],\n",
       "          [ 0.0000,  0.0000],\n",
       "          [ 0.0500,  0.0400],\n",
       "          [-0.0500, -0.0400],\n",
       "          [ 0.0000,  0.0000],\n",
       "          [ 0.0000,  0.0000],\n",
       "          [ 0.0000,  0.0000],\n",
       "          [ 0.0000,  0.0000],\n",
       "          [ 0.0000,  0.0000],\n",
       "          [ 0.0000,  0.0000]],\n",
       " \n",
       "         [[ 0.0000,  0.0000],\n",
       "          [ 0.0000,  0.0000],\n",
       "          [ 0.0500,  0.0400],\n",
       "          [ 0.0000,  0.0000],\n",
       "          [ 0.0500,  0.0400],\n",
       "          [-0.0500, -0.0400],\n",
       "          [ 0.0000,  0.0000],\n",
       "          [ 0.0000,  0.0000],\n",
       "          [ 0.0000,  0.0000],\n",
       "          [ 0.0000,  0.0000],\n",
       "          [ 0.0000,  0.0000],\n",
       "          [ 0.0000,  0.0000]],\n",
       " \n",
       "         [[ 0.0000,  0.0000],\n",
       "          [ 0.0000,  0.0000],\n",
       "          [ 0.0000,  0.0000],\n",
       "          [ 0.0500,  0.0400],\n",
       "          [-0.0500, -0.0400],\n",
       "          [ 0.0500,  0.0400],\n",
       "          [ 0.0000,  0.0000],\n",
       "          [ 0.0000,  0.0000],\n",
       "          [ 0.0000,  0.0000],\n",
       "          [ 0.0000,  0.0000],\n",
       "          [ 0.0000,  0.0000],\n",
       "          [ 0.0000,  0.0000]],\n",
       " \n",
       "         [[ 0.0500,  0.0400],\n",
       "          [ 0.0500,  0.0400],\n",
       "          [ 0.0500,  0.0400],\n",
       "          [-0.0500, -0.0400],\n",
       "          [ 0.0500,  0.0400],\n",
       "          [ 0.0000,  0.0000],\n",
       "          [ 0.0000,  0.0000],\n",
       "          [ 0.0000,  0.0000],\n",
       "          [ 0.0000,  0.0000],\n",
       "          [ 0.0000,  0.0000],\n",
       "          [ 0.0000,  0.0000],\n",
       "          [ 0.0000,  0.0000]],\n",
       " \n",
       "         [[-0.0500, -0.0400],\n",
       "          [-0.0500, -0.0400],\n",
       "          [-0.0500, -0.0400],\n",
       "          [ 0.0500,  0.0400],\n",
       "          [ 0.0000,  0.0000],\n",
       "          [ 0.0500,  0.0400],\n",
       "          [ 0.0000,  0.0000],\n",
       "          [ 0.0000,  0.0000],\n",
       "          [ 0.0000,  0.0000],\n",
       "          [ 0.0000,  0.0000],\n",
       "          [ 0.0000,  0.0000],\n",
       "          [ 0.0000,  0.0000]],\n",
       " \n",
       "         [[ 0.0000,  0.0000],\n",
       "          [ 0.0000,  0.0000],\n",
       "          [ 0.0000,  0.0000],\n",
       "          [ 0.0000,  0.0000],\n",
       "          [ 0.0000,  0.0000],\n",
       "          [ 0.0000,  0.0000],\n",
       "          [ 0.0500,  0.0400],\n",
       "          [ 0.0000,  0.0000],\n",
       "          [ 0.0000,  0.0000],\n",
       "          [ 0.0000,  0.0000],\n",
       "          [ 0.0500,  0.0400],\n",
       "          [ 0.0500,  0.0400]],\n",
       " \n",
       "         [[ 0.0000,  0.0000],\n",
       "          [ 0.0000,  0.0000],\n",
       "          [ 0.0000,  0.0000],\n",
       "          [ 0.0000,  0.0000],\n",
       "          [ 0.0000,  0.0000],\n",
       "          [ 0.0000,  0.0000],\n",
       "          [ 0.0000,  0.0000],\n",
       "          [ 0.0500,  0.0400],\n",
       "          [ 0.0000,  0.0000],\n",
       "          [ 0.0000,  0.0000],\n",
       "          [-0.0500, -0.0400],\n",
       "          [ 0.0500,  0.0400]],\n",
       " \n",
       "         [[ 0.0000,  0.0000],\n",
       "          [ 0.0000,  0.0000],\n",
       "          [ 0.0000,  0.0000],\n",
       "          [ 0.0000,  0.0000],\n",
       "          [ 0.0000,  0.0000],\n",
       "          [ 0.0000,  0.0000],\n",
       "          [ 0.0000,  0.0000],\n",
       "          [ 0.0000,  0.0000],\n",
       "          [ 0.0500,  0.0400],\n",
       "          [ 0.0000,  0.0000],\n",
       "          [ 0.0500,  0.0400],\n",
       "          [-0.0500, -0.0400]],\n",
       " \n",
       "         [[ 0.0000,  0.0000],\n",
       "          [ 0.0000,  0.0000],\n",
       "          [ 0.0000,  0.0000],\n",
       "          [ 0.0000,  0.0000],\n",
       "          [ 0.0000,  0.0000],\n",
       "          [ 0.0000,  0.0000],\n",
       "          [ 0.0000,  0.0000],\n",
       "          [ 0.0000,  0.0000],\n",
       "          [ 0.0000,  0.0000],\n",
       "          [ 0.0500,  0.0400],\n",
       "          [-0.0500, -0.0400],\n",
       "          [ 0.0500,  0.0400]],\n",
       " \n",
       "         [[ 0.0000,  0.0000],\n",
       "          [ 0.0000,  0.0000],\n",
       "          [ 0.0000,  0.0000],\n",
       "          [ 0.0000,  0.0000],\n",
       "          [ 0.0000,  0.0000],\n",
       "          [ 0.0000,  0.0000],\n",
       "          [ 0.0500,  0.0400],\n",
       "          [-0.0500, -0.0400],\n",
       "          [ 0.0500,  0.0400],\n",
       "          [-0.0500, -0.0400],\n",
       "          [ 0.0500,  0.0400],\n",
       "          [ 0.0000,  0.0000]],\n",
       " \n",
       "         [[ 0.0000,  0.0000],\n",
       "          [ 0.0000,  0.0000],\n",
       "          [ 0.0000,  0.0000],\n",
       "          [ 0.0000,  0.0000],\n",
       "          [ 0.0000,  0.0000],\n",
       "          [ 0.0000,  0.0000],\n",
       "          [ 0.0500,  0.0400],\n",
       "          [ 0.0500,  0.0400],\n",
       "          [-0.0500, -0.0400],\n",
       "          [ 0.0500,  0.0400],\n",
       "          [ 0.0000,  0.0000],\n",
       "          [ 0.0500,  0.0400]]], grad_fn=<MulBackward0>))"
      ]
     },
     "execution_count": 45,
     "metadata": {},
     "output_type": "execute_result"
    }
   ],
   "source": [
    "e_sig_a = signed_a * gat1_attn_sign.view(1, 1, -1)\n",
    "e_sig_a.size(), e_sig_a"
   ]
  },
  {
   "cell_type": "code",
   "execution_count": 46,
   "id": "a874dcc0-5c78-4e16-8bc3-3eaaa998fb69",
   "metadata": {},
   "outputs": [
    {
     "data": {
      "text/plain": [
       "(torch.Size([12, 12, 2]),\n",
       " tensor([[[ 5.0064e-02,  4.0064e-02],\n",
       "          [ 7.2444e-05,  7.2444e-05],\n",
       "          [ 7.1111e-05,  7.1111e-05],\n",
       "          [ 8.8444e-05,  8.8444e-05],\n",
       "          [ 5.0096e-02,  4.0096e-02],\n",
       "          [-4.9896e-02, -3.9896e-02],\n",
       "          [ 6.4444e-05,  6.4444e-05],\n",
       "          [ 6.4444e-05,  6.4444e-05],\n",
       "          [ 8.0444e-05,  8.0444e-05],\n",
       "          [ 8.8444e-05,  8.8444e-05],\n",
       "          [ 9.6444e-05,  9.6444e-05],\n",
       "          [ 9.1111e-05,  9.1111e-05]],\n",
       " \n",
       "         [[ 7.5333e-05,  7.5333e-05],\n",
       "          [ 5.0084e-02,  4.0084e-02],\n",
       "          [ 8.2667e-05,  8.2667e-05],\n",
       "          [ 1.0000e-04,  1.0000e-04],\n",
       "          [ 5.0108e-02,  4.0108e-02],\n",
       "          [-4.9884e-02, -3.9884e-02],\n",
       "          [ 7.6000e-05,  7.6000e-05],\n",
       "          [ 7.6000e-05,  7.6000e-05],\n",
       "          [ 9.2000e-05,  9.2000e-05],\n",
       "          [ 1.0000e-04,  1.0000e-04],\n",
       "          [ 1.0800e-04,  1.0800e-04],\n",
       "          [ 1.0267e-04,  1.0267e-04]],\n",
       " \n",
       "         [[ 7.3556e-05,  7.3556e-05],\n",
       "          [ 8.2222e-05,  8.2222e-05],\n",
       "          [ 5.0081e-02,  4.0081e-02],\n",
       "          [ 9.8222e-05,  9.8222e-05],\n",
       "          [ 5.0106e-02,  4.0106e-02],\n",
       "          [-4.9886e-02, -3.9886e-02],\n",
       "          [ 7.4222e-05,  7.4222e-05],\n",
       "          [ 7.4222e-05,  7.4222e-05],\n",
       "          [ 9.0222e-05,  9.0222e-05],\n",
       "          [ 9.8222e-05,  9.8222e-05],\n",
       "          [ 1.0622e-04,  1.0622e-04],\n",
       "          [ 1.0089e-04,  1.0089e-04]],\n",
       " \n",
       "         [[ 9.6667e-05,  9.6667e-05],\n",
       "          [ 1.0533e-04,  1.0533e-04],\n",
       "          [ 1.0400e-04,  1.0400e-04],\n",
       "          [ 5.0121e-02,  4.0121e-02],\n",
       "          [-4.9871e-02, -3.9871e-02],\n",
       "          [ 5.0137e-02,  4.0137e-02],\n",
       "          [ 9.7333e-05,  9.7333e-05],\n",
       "          [ 9.7333e-05,  9.7333e-05],\n",
       "          [ 1.1333e-04,  1.1333e-04],\n",
       "          [ 1.2133e-04,  1.2133e-04],\n",
       "          [ 1.2933e-04,  1.2933e-04],\n",
       "          [ 1.2400e-04,  1.2400e-04]],\n",
       " \n",
       "         [[ 5.0107e-02,  4.0107e-02],\n",
       "          [ 5.0116e-02,  4.0116e-02],\n",
       "          [ 5.0115e-02,  4.0115e-02],\n",
       "          [-4.9868e-02, -3.9868e-02],\n",
       "          [ 5.0140e-02,  4.0140e-02],\n",
       "          [ 1.4800e-04,  1.4800e-04],\n",
       "          [ 1.0800e-04,  1.0800e-04],\n",
       "          [ 1.0800e-04,  1.0800e-04],\n",
       "          [ 1.2400e-04,  1.2400e-04],\n",
       "          [ 1.3200e-04,  1.3200e-04],\n",
       "          [ 1.4000e-04,  1.4000e-04],\n",
       "          [ 1.3467e-04,  1.3467e-04]],\n",
       " \n",
       "         [[-4.9882e-02, -3.9882e-02],\n",
       "          [-4.9873e-02, -3.9873e-02],\n",
       "          [-4.9875e-02, -3.9875e-02],\n",
       "          [ 5.0143e-02,  4.0143e-02],\n",
       "          [ 1.5067e-04,  1.5067e-04],\n",
       "          [ 5.0159e-02,  4.0159e-02],\n",
       "          [ 1.1867e-04,  1.1867e-04],\n",
       "          [ 1.1867e-04,  1.1867e-04],\n",
       "          [ 1.3467e-04,  1.3467e-04],\n",
       "          [ 1.4267e-04,  1.4267e-04],\n",
       "          [ 1.5067e-04,  1.5067e-04],\n",
       "          [ 1.4533e-04,  1.4533e-04]],\n",
       " \n",
       "         [[ 6.4667e-05,  6.4667e-05],\n",
       "          [ 7.3333e-05,  7.3333e-05],\n",
       "          [ 7.2000e-05,  7.2000e-05],\n",
       "          [ 8.9333e-05,  8.9333e-05],\n",
       "          [ 9.7333e-05,  9.7333e-05],\n",
       "          [ 1.0533e-04,  1.0533e-04],\n",
       "          [ 5.0065e-02,  4.0065e-02],\n",
       "          [ 6.5333e-05,  6.5333e-05],\n",
       "          [ 8.1333e-05,  8.1333e-05],\n",
       "          [ 8.9333e-05,  8.9333e-05],\n",
       "          [ 5.0097e-02,  4.0097e-02],\n",
       "          [ 5.0092e-02,  4.0092e-02]],\n",
       " \n",
       "         [[ 6.4667e-05,  6.4667e-05],\n",
       "          [ 7.3333e-05,  7.3333e-05],\n",
       "          [ 7.2000e-05,  7.2000e-05],\n",
       "          [ 8.9333e-05,  8.9333e-05],\n",
       "          [ 9.7333e-05,  9.7333e-05],\n",
       "          [ 1.0533e-04,  1.0533e-04],\n",
       "          [ 6.5333e-05,  6.5333e-05],\n",
       "          [ 5.0065e-02,  4.0065e-02],\n",
       "          [ 8.1333e-05,  8.1333e-05],\n",
       "          [ 8.9333e-05,  8.9333e-05],\n",
       "          [-4.9903e-02, -3.9903e-02],\n",
       "          [ 5.0092e-02,  4.0092e-02]],\n",
       " \n",
       "         [[ 8.6000e-05,  8.6000e-05],\n",
       "          [ 9.4667e-05,  9.4667e-05],\n",
       "          [ 9.3333e-05,  9.3333e-05],\n",
       "          [ 1.1067e-04,  1.1067e-04],\n",
       "          [ 1.1867e-04,  1.1867e-04],\n",
       "          [ 1.2667e-04,  1.2667e-04],\n",
       "          [ 8.6667e-05,  8.6667e-05],\n",
       "          [ 8.6667e-05,  8.6667e-05],\n",
       "          [ 5.0103e-02,  4.0103e-02],\n",
       "          [ 1.1067e-04,  1.1067e-04],\n",
       "          [ 5.0119e-02,  4.0119e-02],\n",
       "          [-4.9887e-02, -3.9887e-02]],\n",
       " \n",
       "         [[ 9.6667e-05,  9.6667e-05],\n",
       "          [ 1.0533e-04,  1.0533e-04],\n",
       "          [ 1.0400e-04,  1.0400e-04],\n",
       "          [ 1.2133e-04,  1.2133e-04],\n",
       "          [ 1.2933e-04,  1.2933e-04],\n",
       "          [ 1.3733e-04,  1.3733e-04],\n",
       "          [ 9.7333e-05,  9.7333e-05],\n",
       "          [ 9.7333e-05,  9.7333e-05],\n",
       "          [ 1.1333e-04,  1.1333e-04],\n",
       "          [ 5.0121e-02,  4.0121e-02],\n",
       "          [-4.9871e-02, -3.9871e-02],\n",
       "          [ 5.0124e-02,  4.0124e-02]],\n",
       " \n",
       "         [[ 1.0733e-04,  1.0733e-04],\n",
       "          [ 1.1600e-04,  1.1600e-04],\n",
       "          [ 1.1467e-04,  1.1467e-04],\n",
       "          [ 1.3200e-04,  1.3200e-04],\n",
       "          [ 1.4000e-04,  1.4000e-04],\n",
       "          [ 1.4800e-04,  1.4800e-04],\n",
       "          [ 5.0108e-02,  4.0108e-02],\n",
       "          [-4.9892e-02, -3.9892e-02],\n",
       "          [ 5.0124e-02,  4.0124e-02],\n",
       "          [-4.9868e-02, -3.9868e-02],\n",
       "          [ 5.0140e-02,  4.0140e-02],\n",
       "          [ 1.3467e-04,  1.3467e-04]],\n",
       " \n",
       "         [[ 1.0022e-04,  1.0022e-04],\n",
       "          [ 1.0889e-04,  1.0889e-04],\n",
       "          [ 1.0756e-04,  1.0756e-04],\n",
       "          [ 1.2489e-04,  1.2489e-04],\n",
       "          [ 1.3289e-04,  1.3289e-04],\n",
       "          [ 1.4089e-04,  1.4089e-04],\n",
       "          [ 5.0101e-02,  4.0101e-02],\n",
       "          [ 5.0101e-02,  4.0101e-02],\n",
       "          [-4.9883e-02, -3.9883e-02],\n",
       "          [ 5.0125e-02,  4.0125e-02],\n",
       "          [ 1.3289e-04,  1.3289e-04],\n",
       "          [ 5.0128e-02,  4.0128e-02]]], grad_fn=<AddBackward0>))"
      ]
     },
     "execution_count": 46,
     "metadata": {},
     "output_type": "execute_result"
    }
   ],
   "source": [
    "e = e + e_sig_a \n",
    "e.size(), e"
   ]
  },
  {
   "cell_type": "markdown",
   "id": "1504fe05-0514-4125-bd20-d5c1bcfac85b",
   "metadata": {},
   "source": [
    "###### regularization"
   ]
  },
  {
   "cell_type": "code",
   "execution_count": 47,
   "id": "bfd85eb6-5308-4df8-be1f-c28694cb080e",
   "metadata": {},
   "outputs": [
    {
     "data": {
      "text/plain": [
       "(torch.Size([12, 12, 2]),\n",
       " tensor([[[ 5.0064e-02,  4.0064e-02],\n",
       "          [ 7.2444e-05,  7.2444e-05],\n",
       "          [ 7.1111e-05,  7.1111e-05],\n",
       "          [ 8.8444e-05,  8.8444e-05],\n",
       "          [ 5.0096e-02,  4.0096e-02],\n",
       "          [-9.9791e-03, -7.9791e-03],\n",
       "          [ 6.4444e-05,  6.4444e-05],\n",
       "          [ 6.4444e-05,  6.4444e-05],\n",
       "          [ 8.0444e-05,  8.0444e-05],\n",
       "          [ 8.8444e-05,  8.8444e-05],\n",
       "          [ 9.6444e-05,  9.6444e-05],\n",
       "          [ 9.1111e-05,  9.1111e-05]],\n",
       " \n",
       "         [[ 7.5333e-05,  7.5333e-05],\n",
       "          [ 5.0084e-02,  4.0084e-02],\n",
       "          [ 8.2667e-05,  8.2667e-05],\n",
       "          [ 1.0000e-04,  1.0000e-04],\n",
       "          [ 5.0108e-02,  4.0108e-02],\n",
       "          [-9.9768e-03, -7.9768e-03],\n",
       "          [ 7.6000e-05,  7.6000e-05],\n",
       "          [ 7.6000e-05,  7.6000e-05],\n",
       "          [ 9.2000e-05,  9.2000e-05],\n",
       "          [ 1.0000e-04,  1.0000e-04],\n",
       "          [ 1.0800e-04,  1.0800e-04],\n",
       "          [ 1.0267e-04,  1.0267e-04]],\n",
       " \n",
       "         [[ 7.3556e-05,  7.3556e-05],\n",
       "          [ 8.2222e-05,  8.2222e-05],\n",
       "          [ 5.0081e-02,  4.0081e-02],\n",
       "          [ 9.8222e-05,  9.8222e-05],\n",
       "          [ 5.0106e-02,  4.0106e-02],\n",
       "          [-9.9772e-03, -7.9772e-03],\n",
       "          [ 7.4222e-05,  7.4222e-05],\n",
       "          [ 7.4222e-05,  7.4222e-05],\n",
       "          [ 9.0222e-05,  9.0222e-05],\n",
       "          [ 9.8222e-05,  9.8222e-05],\n",
       "          [ 1.0622e-04,  1.0622e-04],\n",
       "          [ 1.0089e-04,  1.0089e-04]],\n",
       " \n",
       "         [[ 9.6667e-05,  9.6667e-05],\n",
       "          [ 1.0533e-04,  1.0533e-04],\n",
       "          [ 1.0400e-04,  1.0400e-04],\n",
       "          [ 5.0121e-02,  4.0121e-02],\n",
       "          [-9.9741e-03, -7.9741e-03],\n",
       "          [ 5.0137e-02,  4.0137e-02],\n",
       "          [ 9.7333e-05,  9.7333e-05],\n",
       "          [ 9.7333e-05,  9.7333e-05],\n",
       "          [ 1.1333e-04,  1.1333e-04],\n",
       "          [ 1.2133e-04,  1.2133e-04],\n",
       "          [ 1.2933e-04,  1.2933e-04],\n",
       "          [ 1.2400e-04,  1.2400e-04]],\n",
       " \n",
       "         [[ 5.0107e-02,  4.0107e-02],\n",
       "          [ 5.0116e-02,  4.0116e-02],\n",
       "          [ 5.0115e-02,  4.0115e-02],\n",
       "          [-9.9736e-03, -7.9736e-03],\n",
       "          [ 5.0140e-02,  4.0140e-02],\n",
       "          [ 1.4800e-04,  1.4800e-04],\n",
       "          [ 1.0800e-04,  1.0800e-04],\n",
       "          [ 1.0800e-04,  1.0800e-04],\n",
       "          [ 1.2400e-04,  1.2400e-04],\n",
       "          [ 1.3200e-04,  1.3200e-04],\n",
       "          [ 1.4000e-04,  1.4000e-04],\n",
       "          [ 1.3467e-04,  1.3467e-04]],\n",
       " \n",
       "         [[-9.9764e-03, -7.9764e-03],\n",
       "          [-9.9747e-03, -7.9747e-03],\n",
       "          [-9.9749e-03, -7.9749e-03],\n",
       "          [ 5.0143e-02,  4.0143e-02],\n",
       "          [ 1.5067e-04,  1.5067e-04],\n",
       "          [ 5.0159e-02,  4.0159e-02],\n",
       "          [ 1.1867e-04,  1.1867e-04],\n",
       "          [ 1.1867e-04,  1.1867e-04],\n",
       "          [ 1.3467e-04,  1.3467e-04],\n",
       "          [ 1.4267e-04,  1.4267e-04],\n",
       "          [ 1.5067e-04,  1.5067e-04],\n",
       "          [ 1.4533e-04,  1.4533e-04]],\n",
       " \n",
       "         [[ 6.4667e-05,  6.4667e-05],\n",
       "          [ 7.3333e-05,  7.3333e-05],\n",
       "          [ 7.2000e-05,  7.2000e-05],\n",
       "          [ 8.9333e-05,  8.9333e-05],\n",
       "          [ 9.7333e-05,  9.7333e-05],\n",
       "          [ 1.0533e-04,  1.0533e-04],\n",
       "          [ 5.0065e-02,  4.0065e-02],\n",
       "          [ 6.5333e-05,  6.5333e-05],\n",
       "          [ 8.1333e-05,  8.1333e-05],\n",
       "          [ 8.9333e-05,  8.9333e-05],\n",
       "          [ 5.0097e-02,  4.0097e-02],\n",
       "          [ 5.0092e-02,  4.0092e-02]],\n",
       " \n",
       "         [[ 6.4667e-05,  6.4667e-05],\n",
       "          [ 7.3333e-05,  7.3333e-05],\n",
       "          [ 7.2000e-05,  7.2000e-05],\n",
       "          [ 8.9333e-05,  8.9333e-05],\n",
       "          [ 9.7333e-05,  9.7333e-05],\n",
       "          [ 1.0533e-04,  1.0533e-04],\n",
       "          [ 6.5333e-05,  6.5333e-05],\n",
       "          [ 5.0065e-02,  4.0065e-02],\n",
       "          [ 8.1333e-05,  8.1333e-05],\n",
       "          [ 8.9333e-05,  8.9333e-05],\n",
       "          [-9.9805e-03, -7.9805e-03],\n",
       "          [ 5.0092e-02,  4.0092e-02]],\n",
       " \n",
       "         [[ 8.6000e-05,  8.6000e-05],\n",
       "          [ 9.4667e-05,  9.4667e-05],\n",
       "          [ 9.3333e-05,  9.3333e-05],\n",
       "          [ 1.1067e-04,  1.1067e-04],\n",
       "          [ 1.1867e-04,  1.1867e-04],\n",
       "          [ 1.2667e-04,  1.2667e-04],\n",
       "          [ 8.6667e-05,  8.6667e-05],\n",
       "          [ 8.6667e-05,  8.6667e-05],\n",
       "          [ 5.0103e-02,  4.0103e-02],\n",
       "          [ 1.1067e-04,  1.1067e-04],\n",
       "          [ 5.0119e-02,  4.0119e-02],\n",
       "          [-9.9773e-03, -7.9773e-03]],\n",
       " \n",
       "         [[ 9.6667e-05,  9.6667e-05],\n",
       "          [ 1.0533e-04,  1.0533e-04],\n",
       "          [ 1.0400e-04,  1.0400e-04],\n",
       "          [ 1.2133e-04,  1.2133e-04],\n",
       "          [ 1.2933e-04,  1.2933e-04],\n",
       "          [ 1.3733e-04,  1.3733e-04],\n",
       "          [ 9.7333e-05,  9.7333e-05],\n",
       "          [ 9.7333e-05,  9.7333e-05],\n",
       "          [ 1.1333e-04,  1.1333e-04],\n",
       "          [ 5.0121e-02,  4.0121e-02],\n",
       "          [-9.9741e-03, -7.9741e-03],\n",
       "          [ 5.0124e-02,  4.0124e-02]],\n",
       " \n",
       "         [[ 1.0733e-04,  1.0733e-04],\n",
       "          [ 1.1600e-04,  1.1600e-04],\n",
       "          [ 1.1467e-04,  1.1467e-04],\n",
       "          [ 1.3200e-04,  1.3200e-04],\n",
       "          [ 1.4000e-04,  1.4000e-04],\n",
       "          [ 1.4800e-04,  1.4800e-04],\n",
       "          [ 5.0108e-02,  4.0108e-02],\n",
       "          [-9.9784e-03, -7.9784e-03],\n",
       "          [ 5.0124e-02,  4.0124e-02],\n",
       "          [-9.9736e-03, -7.9736e-03],\n",
       "          [ 5.0140e-02,  4.0140e-02],\n",
       "          [ 1.3467e-04,  1.3467e-04]],\n",
       " \n",
       "         [[ 1.0022e-04,  1.0022e-04],\n",
       "          [ 1.0889e-04,  1.0889e-04],\n",
       "          [ 1.0756e-04,  1.0756e-04],\n",
       "          [ 1.2489e-04,  1.2489e-04],\n",
       "          [ 1.3289e-04,  1.3289e-04],\n",
       "          [ 1.4089e-04,  1.4089e-04],\n",
       "          [ 5.0101e-02,  4.0101e-02],\n",
       "          [ 5.0101e-02,  4.0101e-02],\n",
       "          [-9.9766e-03, -7.9766e-03],\n",
       "          [ 5.0125e-02,  4.0125e-02],\n",
       "          [ 1.3289e-04,  1.3289e-04],\n",
       "          [ 5.0128e-02,  4.0128e-02]]], grad_fn=<LeakyReluBackward1>))"
      ]
     },
     "execution_count": 47,
     "metadata": {},
     "output_type": "execute_result"
    }
   ],
   "source": [
    "gat1_attn_lrelu = nn.LeakyReLU(0.2, inplace=True)\n",
    "e = gat1_attn_lrelu(e)\n",
    "e.size(), e"
   ]
  },
  {
   "cell_type": "markdown",
   "id": "df8c0ad9-bef6-434a-9b40-b03577b28902",
   "metadata": {},
   "source": [
    "~ is the bitwise NOT operator; on a boolean tensor it’s just logical negation.\n",
    "So if mask is True on existing edges and False on non-edges, then ~mask is True exactly on the non-edges.\n",
    "\n",
    "\n",
    "mask.unsqueeze(-1) → shape [M,M,1], broadcast across the heads dim so it matches e’s [M,M,H].\n",
    "\n",
    "masked_fill(condition, value) writes value where condition is True.\n",
    "Using ~mask means we write -inf on non-edges, so after softmax(dim=1) those entries become zero attention (softmax(-inf)=0), restricting attention to actual neighbors."
   ]
  },
  {
   "cell_type": "code",
   "execution_count": 48,
   "id": "6fdfc7ac-688b-41af-8e0d-570dc1234ce1",
   "metadata": {},
   "outputs": [
    {
     "data": {
      "text/plain": [
       "(torch.Size([12, 12, 2]),\n",
       " tensor([[[ 0.0501,  0.0401],\n",
       "          [   -inf,    -inf],\n",
       "          [   -inf,    -inf],\n",
       "          [   -inf,    -inf],\n",
       "          [ 0.0501,  0.0401],\n",
       "          [-0.0100, -0.0080],\n",
       "          [   -inf,    -inf],\n",
       "          [   -inf,    -inf],\n",
       "          [   -inf,    -inf],\n",
       "          [   -inf,    -inf],\n",
       "          [   -inf,    -inf],\n",
       "          [   -inf,    -inf]],\n",
       " \n",
       "         [[   -inf,    -inf],\n",
       "          [ 0.0501,  0.0401],\n",
       "          [   -inf,    -inf],\n",
       "          [   -inf,    -inf],\n",
       "          [ 0.0501,  0.0401],\n",
       "          [-0.0100, -0.0080],\n",
       "          [   -inf,    -inf],\n",
       "          [   -inf,    -inf],\n",
       "          [   -inf,    -inf],\n",
       "          [   -inf,    -inf],\n",
       "          [   -inf,    -inf],\n",
       "          [   -inf,    -inf]],\n",
       " \n",
       "         [[   -inf,    -inf],\n",
       "          [   -inf,    -inf],\n",
       "          [ 0.0501,  0.0401],\n",
       "          [   -inf,    -inf],\n",
       "          [ 0.0501,  0.0401],\n",
       "          [-0.0100, -0.0080],\n",
       "          [   -inf,    -inf],\n",
       "          [   -inf,    -inf],\n",
       "          [   -inf,    -inf],\n",
       "          [   -inf,    -inf],\n",
       "          [   -inf,    -inf],\n",
       "          [   -inf,    -inf]],\n",
       " \n",
       "         [[   -inf,    -inf],\n",
       "          [   -inf,    -inf],\n",
       "          [   -inf,    -inf],\n",
       "          [ 0.0501,  0.0401],\n",
       "          [-0.0100, -0.0080],\n",
       "          [ 0.0501,  0.0401],\n",
       "          [   -inf,    -inf],\n",
       "          [   -inf,    -inf],\n",
       "          [   -inf,    -inf],\n",
       "          [   -inf,    -inf],\n",
       "          [   -inf,    -inf],\n",
       "          [   -inf,    -inf]],\n",
       " \n",
       "         [[ 0.0501,  0.0401],\n",
       "          [ 0.0501,  0.0401],\n",
       "          [ 0.0501,  0.0401],\n",
       "          [-0.0100, -0.0080],\n",
       "          [ 0.0501,  0.0401],\n",
       "          [   -inf,    -inf],\n",
       "          [   -inf,    -inf],\n",
       "          [   -inf,    -inf],\n",
       "          [   -inf,    -inf],\n",
       "          [   -inf,    -inf],\n",
       "          [   -inf,    -inf],\n",
       "          [   -inf,    -inf]],\n",
       " \n",
       "         [[-0.0100, -0.0080],\n",
       "          [-0.0100, -0.0080],\n",
       "          [-0.0100, -0.0080],\n",
       "          [ 0.0501,  0.0401],\n",
       "          [   -inf,    -inf],\n",
       "          [ 0.0502,  0.0402],\n",
       "          [   -inf,    -inf],\n",
       "          [   -inf,    -inf],\n",
       "          [   -inf,    -inf],\n",
       "          [   -inf,    -inf],\n",
       "          [   -inf,    -inf],\n",
       "          [   -inf,    -inf]],\n",
       " \n",
       "         [[   -inf,    -inf],\n",
       "          [   -inf,    -inf],\n",
       "          [   -inf,    -inf],\n",
       "          [   -inf,    -inf],\n",
       "          [   -inf,    -inf],\n",
       "          [   -inf,    -inf],\n",
       "          [ 0.0501,  0.0401],\n",
       "          [   -inf,    -inf],\n",
       "          [   -inf,    -inf],\n",
       "          [   -inf,    -inf],\n",
       "          [ 0.0501,  0.0401],\n",
       "          [ 0.0501,  0.0401]],\n",
       " \n",
       "         [[   -inf,    -inf],\n",
       "          [   -inf,    -inf],\n",
       "          [   -inf,    -inf],\n",
       "          [   -inf,    -inf],\n",
       "          [   -inf,    -inf],\n",
       "          [   -inf,    -inf],\n",
       "          [   -inf,    -inf],\n",
       "          [ 0.0501,  0.0401],\n",
       "          [   -inf,    -inf],\n",
       "          [   -inf,    -inf],\n",
       "          [-0.0100, -0.0080],\n",
       "          [ 0.0501,  0.0401]],\n",
       " \n",
       "         [[   -inf,    -inf],\n",
       "          [   -inf,    -inf],\n",
       "          [   -inf,    -inf],\n",
       "          [   -inf,    -inf],\n",
       "          [   -inf,    -inf],\n",
       "          [   -inf,    -inf],\n",
       "          [   -inf,    -inf],\n",
       "          [   -inf,    -inf],\n",
       "          [ 0.0501,  0.0401],\n",
       "          [   -inf,    -inf],\n",
       "          [ 0.0501,  0.0401],\n",
       "          [-0.0100, -0.0080]],\n",
       " \n",
       "         [[   -inf,    -inf],\n",
       "          [   -inf,    -inf],\n",
       "          [   -inf,    -inf],\n",
       "          [   -inf,    -inf],\n",
       "          [   -inf,    -inf],\n",
       "          [   -inf,    -inf],\n",
       "          [   -inf,    -inf],\n",
       "          [   -inf,    -inf],\n",
       "          [   -inf,    -inf],\n",
       "          [ 0.0501,  0.0401],\n",
       "          [-0.0100, -0.0080],\n",
       "          [ 0.0501,  0.0401]],\n",
       " \n",
       "         [[   -inf,    -inf],\n",
       "          [   -inf,    -inf],\n",
       "          [   -inf,    -inf],\n",
       "          [   -inf,    -inf],\n",
       "          [   -inf,    -inf],\n",
       "          [   -inf,    -inf],\n",
       "          [ 0.0501,  0.0401],\n",
       "          [-0.0100, -0.0080],\n",
       "          [ 0.0501,  0.0401],\n",
       "          [-0.0100, -0.0080],\n",
       "          [ 0.0501,  0.0401],\n",
       "          [   -inf,    -inf]],\n",
       " \n",
       "         [[   -inf,    -inf],\n",
       "          [   -inf,    -inf],\n",
       "          [   -inf,    -inf],\n",
       "          [   -inf,    -inf],\n",
       "          [   -inf,    -inf],\n",
       "          [   -inf,    -inf],\n",
       "          [ 0.0501,  0.0401],\n",
       "          [ 0.0501,  0.0401],\n",
       "          [-0.0100, -0.0080],\n",
       "          [ 0.0501,  0.0401],\n",
       "          [   -inf,    -inf],\n",
       "          [ 0.0501,  0.0401]]], grad_fn=<MaskedFillBackward0>))"
      ]
     },
     "execution_count": 48,
     "metadata": {},
     "output_type": "execute_result"
    }
   ],
   "source": [
    "e = e.masked_fill(~mask.unsqueeze(-1), float('-inf'))\n",
    "e.size(), e"
   ]
  },
  {
   "cell_type": "code",
   "execution_count": 49,
   "id": "7f6d0c43-e939-4009-8dd0-728ab4f59b55",
   "metadata": {},
   "outputs": [
    {
     "data": {
      "text/plain": [
       "(torch.Size([12, 12, 2]),\n",
       " tensor([[[0.3399, 0.3386],\n",
       "          [0.0000, 0.0000],\n",
       "          [0.0000, 0.0000],\n",
       "          [0.0000, 0.0000],\n",
       "          [0.3399, 0.3386],\n",
       "          [0.3201, 0.3227],\n",
       "          [0.0000, 0.0000],\n",
       "          [0.0000, 0.0000],\n",
       "          [0.0000, 0.0000],\n",
       "          [0.0000, 0.0000],\n",
       "          [0.0000, 0.0000],\n",
       "          [0.0000, 0.0000]],\n",
       " \n",
       "         [[0.0000, 0.0000],\n",
       "          [0.3399, 0.3386],\n",
       "          [0.0000, 0.0000],\n",
       "          [0.0000, 0.0000],\n",
       "          [0.3399, 0.3386],\n",
       "          [0.3201, 0.3227],\n",
       "          [0.0000, 0.0000],\n",
       "          [0.0000, 0.0000],\n",
       "          [0.0000, 0.0000],\n",
       "          [0.0000, 0.0000],\n",
       "          [0.0000, 0.0000],\n",
       "          [0.0000, 0.0000]],\n",
       " \n",
       "         [[0.0000, 0.0000],\n",
       "          [0.0000, 0.0000],\n",
       "          [0.3399, 0.3386],\n",
       "          [0.0000, 0.0000],\n",
       "          [0.3399, 0.3386],\n",
       "          [0.3201, 0.3227],\n",
       "          [0.0000, 0.0000],\n",
       "          [0.0000, 0.0000],\n",
       "          [0.0000, 0.0000],\n",
       "          [0.0000, 0.0000],\n",
       "          [0.0000, 0.0000],\n",
       "          [0.0000, 0.0000]],\n",
       " \n",
       "         [[0.0000, 0.0000],\n",
       "          [0.0000, 0.0000],\n",
       "          [0.0000, 0.0000],\n",
       "          [0.3399, 0.3386],\n",
       "          [0.3201, 0.3227],\n",
       "          [0.3399, 0.3386],\n",
       "          [0.0000, 0.0000],\n",
       "          [0.0000, 0.0000],\n",
       "          [0.0000, 0.0000],\n",
       "          [0.0000, 0.0000],\n",
       "          [0.0000, 0.0000],\n",
       "          [0.0000, 0.0000]],\n",
       " \n",
       "         [[0.2024, 0.2019],\n",
       "          [0.2024, 0.2019],\n",
       "          [0.2024, 0.2019],\n",
       "          [0.1906, 0.1924],\n",
       "          [0.2024, 0.2019],\n",
       "          [0.0000, 0.0000],\n",
       "          [0.0000, 0.0000],\n",
       "          [0.0000, 0.0000],\n",
       "          [0.0000, 0.0000],\n",
       "          [0.0000, 0.0000],\n",
       "          [0.0000, 0.0000],\n",
       "          [0.0000, 0.0000]],\n",
       " \n",
       "         [[0.1952, 0.1961],\n",
       "          [0.1952, 0.1961],\n",
       "          [0.1952, 0.1961],\n",
       "          [0.2073, 0.2058],\n",
       "          [0.0000, 0.0000],\n",
       "          [0.2073, 0.2058],\n",
       "          [0.0000, 0.0000],\n",
       "          [0.0000, 0.0000],\n",
       "          [0.0000, 0.0000],\n",
       "          [0.0000, 0.0000],\n",
       "          [0.0000, 0.0000],\n",
       "          [0.0000, 0.0000]],\n",
       " \n",
       "         [[0.0000, 0.0000],\n",
       "          [0.0000, 0.0000],\n",
       "          [0.0000, 0.0000],\n",
       "          [0.0000, 0.0000],\n",
       "          [0.0000, 0.0000],\n",
       "          [0.0000, 0.0000],\n",
       "          [0.3333, 0.3333],\n",
       "          [0.0000, 0.0000],\n",
       "          [0.0000, 0.0000],\n",
       "          [0.0000, 0.0000],\n",
       "          [0.3333, 0.3333],\n",
       "          [0.3333, 0.3333]],\n",
       " \n",
       "         [[0.0000, 0.0000],\n",
       "          [0.0000, 0.0000],\n",
       "          [0.0000, 0.0000],\n",
       "          [0.0000, 0.0000],\n",
       "          [0.0000, 0.0000],\n",
       "          [0.0000, 0.0000],\n",
       "          [0.0000, 0.0000],\n",
       "          [0.3399, 0.3386],\n",
       "          [0.0000, 0.0000],\n",
       "          [0.0000, 0.0000],\n",
       "          [0.3201, 0.3227],\n",
       "          [0.3399, 0.3386]],\n",
       " \n",
       "         [[0.0000, 0.0000],\n",
       "          [0.0000, 0.0000],\n",
       "          [0.0000, 0.0000],\n",
       "          [0.0000, 0.0000],\n",
       "          [0.0000, 0.0000],\n",
       "          [0.0000, 0.0000],\n",
       "          [0.0000, 0.0000],\n",
       "          [0.0000, 0.0000],\n",
       "          [0.3399, 0.3386],\n",
       "          [0.0000, 0.0000],\n",
       "          [0.3399, 0.3386],\n",
       "          [0.3201, 0.3227]],\n",
       " \n",
       "         [[0.0000, 0.0000],\n",
       "          [0.0000, 0.0000],\n",
       "          [0.0000, 0.0000],\n",
       "          [0.0000, 0.0000],\n",
       "          [0.0000, 0.0000],\n",
       "          [0.0000, 0.0000],\n",
       "          [0.0000, 0.0000],\n",
       "          [0.0000, 0.0000],\n",
       "          [0.0000, 0.0000],\n",
       "          [0.3399, 0.3386],\n",
       "          [0.3201, 0.3227],\n",
       "          [0.3399, 0.3386]],\n",
       " \n",
       "         [[0.0000, 0.0000],\n",
       "          [0.0000, 0.0000],\n",
       "          [0.0000, 0.0000],\n",
       "          [0.0000, 0.0000],\n",
       "          [0.0000, 0.0000],\n",
       "          [0.0000, 0.0000],\n",
       "          [0.2048, 0.2038],\n",
       "          [0.1928, 0.1943],\n",
       "          [0.2048, 0.2038],\n",
       "          [0.1928, 0.1943],\n",
       "          [0.2048, 0.2038],\n",
       "          [0.0000, 0.0000]],\n",
       " \n",
       "         [[0.0000, 0.0000],\n",
       "          [0.0000, 0.0000],\n",
       "          [0.0000, 0.0000],\n",
       "          [0.0000, 0.0000],\n",
       "          [0.0000, 0.0000],\n",
       "          [0.0000, 0.0000],\n",
       "          [0.2024, 0.2019],\n",
       "          [0.2024, 0.2019],\n",
       "          [0.1906, 0.1924],\n",
       "          [0.2024, 0.2019],\n",
       "          [0.0000, 0.0000],\n",
       "          [0.2024, 0.2019]]], grad_fn=<SoftmaxBackward0>))"
      ]
     },
     "execution_count": 49,
     "metadata": {},
     "output_type": "execute_result"
    }
   ],
   "source": [
    "alpha = torch.softmax(e, dim=1)\n",
    "alpha.size(), alpha"
   ]
  },
  {
   "cell_type": "markdown",
   "id": "ef4cdf5c-fc8f-4613-b698-f6c53257b313",
   "metadata": {},
   "source": [
    "##### attention dropout"
   ]
  },
  {
   "cell_type": "code",
   "execution_count": 50,
   "id": "e77e16fd-eaed-448e-b57d-a76314ba4516",
   "metadata": {},
   "outputs": [],
   "source": [
    "attn_dropout = 0.05\n",
    "gat1_attn_drop = nn.Dropout(attn_dropout)"
   ]
  },
  {
   "cell_type": "code",
   "execution_count": 51,
   "id": "60cb4a03-178f-45fc-b630-612ca113b4e4",
   "metadata": {},
   "outputs": [
    {
     "data": {
      "text/plain": [
       "(torch.Size([12, 12, 2]),\n",
       " tensor([[[0.3578, 0.3564],\n",
       "          [0.0000, 0.0000],\n",
       "          [0.0000, 0.0000],\n",
       "          [0.0000, 0.0000],\n",
       "          [0.3578, 0.0000],\n",
       "          [0.3370, 0.3397],\n",
       "          [0.0000, 0.0000],\n",
       "          [0.0000, 0.0000],\n",
       "          [0.0000, 0.0000],\n",
       "          [0.0000, 0.0000],\n",
       "          [0.0000, 0.0000],\n",
       "          [0.0000, 0.0000]],\n",
       " \n",
       "         [[0.0000, 0.0000],\n",
       "          [0.3578, 0.3564],\n",
       "          [0.0000, 0.0000],\n",
       "          [0.0000, 0.0000],\n",
       "          [0.3578, 0.3565],\n",
       "          [0.3370, 0.3397],\n",
       "          [0.0000, 0.0000],\n",
       "          [0.0000, 0.0000],\n",
       "          [0.0000, 0.0000],\n",
       "          [0.0000, 0.0000],\n",
       "          [0.0000, 0.0000],\n",
       "          [0.0000, 0.0000]],\n",
       " \n",
       "         [[0.0000, 0.0000],\n",
       "          [0.0000, 0.0000],\n",
       "          [0.3578, 0.3564],\n",
       "          [0.0000, 0.0000],\n",
       "          [0.3578, 0.3565],\n",
       "          [0.3370, 0.3397],\n",
       "          [0.0000, 0.0000],\n",
       "          [0.0000, 0.0000],\n",
       "          [0.0000, 0.0000],\n",
       "          [0.0000, 0.0000],\n",
       "          [0.0000, 0.0000],\n",
       "          [0.0000, 0.0000]],\n",
       " \n",
       "         [[0.0000, 0.0000],\n",
       "          [0.0000, 0.0000],\n",
       "          [0.0000, 0.0000],\n",
       "          [0.3578, 0.3565],\n",
       "          [0.3370, 0.3397],\n",
       "          [0.0000, 0.3565],\n",
       "          [0.0000, 0.0000],\n",
       "          [0.0000, 0.0000],\n",
       "          [0.0000, 0.0000],\n",
       "          [0.0000, 0.0000],\n",
       "          [0.0000, 0.0000],\n",
       "          [0.0000, 0.0000]],\n",
       " \n",
       "         [[0.2130, 0.2125],\n",
       "          [0.2130, 0.2125],\n",
       "          [0.2130, 0.2125],\n",
       "          [0.2006, 0.2025],\n",
       "          [0.2130, 0.2125],\n",
       "          [0.0000, 0.0000],\n",
       "          [0.0000, 0.0000],\n",
       "          [0.0000, 0.0000],\n",
       "          [0.0000, 0.0000],\n",
       "          [0.0000, 0.0000],\n",
       "          [0.0000, 0.0000],\n",
       "          [0.0000, 0.0000]],\n",
       " \n",
       "         [[0.2054, 0.2065],\n",
       "          [0.2054, 0.2065],\n",
       "          [0.2054, 0.2065],\n",
       "          [0.2182, 0.2166],\n",
       "          [0.0000, 0.0000],\n",
       "          [0.2182, 0.2166],\n",
       "          [0.0000, 0.0000],\n",
       "          [0.0000, 0.0000],\n",
       "          [0.0000, 0.0000],\n",
       "          [0.0000, 0.0000],\n",
       "          [0.0000, 0.0000],\n",
       "          [0.0000, 0.0000]],\n",
       " \n",
       "         [[0.0000, 0.0000],\n",
       "          [0.0000, 0.0000],\n",
       "          [0.0000, 0.0000],\n",
       "          [0.0000, 0.0000],\n",
       "          [0.0000, 0.0000],\n",
       "          [0.0000, 0.0000],\n",
       "          [0.3509, 0.3509],\n",
       "          [0.0000, 0.0000],\n",
       "          [0.0000, 0.0000],\n",
       "          [0.0000, 0.0000],\n",
       "          [0.3509, 0.3509],\n",
       "          [0.3509, 0.3509]],\n",
       " \n",
       "         [[0.0000, 0.0000],\n",
       "          [0.0000, 0.0000],\n",
       "          [0.0000, 0.0000],\n",
       "          [0.0000, 0.0000],\n",
       "          [0.0000, 0.0000],\n",
       "          [0.0000, 0.0000],\n",
       "          [0.0000, 0.0000],\n",
       "          [0.3578, 0.3564],\n",
       "          [0.0000, 0.0000],\n",
       "          [0.0000, 0.0000],\n",
       "          [0.3370, 0.3397],\n",
       "          [0.0000, 0.3565]],\n",
       " \n",
       "         [[0.0000, 0.0000],\n",
       "          [0.0000, 0.0000],\n",
       "          [0.0000, 0.0000],\n",
       "          [0.0000, 0.0000],\n",
       "          [0.0000, 0.0000],\n",
       "          [0.0000, 0.0000],\n",
       "          [0.0000, 0.0000],\n",
       "          [0.0000, 0.0000],\n",
       "          [0.3578, 0.3565],\n",
       "          [0.0000, 0.0000],\n",
       "          [0.3578, 0.3565],\n",
       "          [0.3370, 0.3397]],\n",
       " \n",
       "         [[0.0000, 0.0000],\n",
       "          [0.0000, 0.0000],\n",
       "          [0.0000, 0.0000],\n",
       "          [0.0000, 0.0000],\n",
       "          [0.0000, 0.0000],\n",
       "          [0.0000, 0.0000],\n",
       "          [0.0000, 0.0000],\n",
       "          [0.0000, 0.0000],\n",
       "          [0.0000, 0.0000],\n",
       "          [0.3578, 0.3565],\n",
       "          [0.3370, 0.3397],\n",
       "          [0.3578, 0.3565]],\n",
       " \n",
       "         [[0.0000, 0.0000],\n",
       "          [0.0000, 0.0000],\n",
       "          [0.0000, 0.0000],\n",
       "          [0.0000, 0.0000],\n",
       "          [0.0000, 0.0000],\n",
       "          [0.0000, 0.0000],\n",
       "          [0.2156, 0.2146],\n",
       "          [0.2030, 0.2045],\n",
       "          [0.2156, 0.2146],\n",
       "          [0.0000, 0.2045],\n",
       "          [0.2156, 0.2146],\n",
       "          [0.0000, 0.0000]],\n",
       " \n",
       "         [[0.0000, 0.0000],\n",
       "          [0.0000, 0.0000],\n",
       "          [0.0000, 0.0000],\n",
       "          [0.0000, 0.0000],\n",
       "          [0.0000, 0.0000],\n",
       "          [0.0000, 0.0000],\n",
       "          [0.2130, 0.2125],\n",
       "          [0.2130, 0.2125],\n",
       "          [0.2006, 0.2025],\n",
       "          [0.2130, 0.2125],\n",
       "          [0.0000, 0.0000],\n",
       "          [0.2130, 0.2125]]], grad_fn=<MulBackward0>))"
      ]
     },
     "execution_count": 51,
     "metadata": {},
     "output_type": "execute_result"
    }
   ],
   "source": [
    "alpha = gat1_attn_drop(alpha) \n",
    "alpha.size(), alpha"
   ]
  },
  {
   "cell_type": "markdown",
   "id": "40131fd7-2182-4b1f-bc42-7bff26384dea",
   "metadata": {},
   "source": [
    "##### attention-weighted aggregation\n",
    "\n",
    "multiply neighbor features by edge sign before summing.\n",
    "\n",
    "---- attention-weighted aggregation: out[i,h,:] = sum_j alpha[i,j,h] * Hproj[j,h,:] -----\n",
    "only score-level sign (not message-level)"
   ]
  },
  {
   "cell_type": "code",
   "execution_count": 52,
   "id": "a1a5a99d-6afb-43ff-b3b7-4bc314203006",
   "metadata": {},
   "outputs": [
    {
     "data": {
      "text/plain": [
       "(torch.Size([2, 12, 12]),\n",
       " tensor([[[0.3578, 0.0000, 0.0000, 0.0000, 0.3578, 0.3370, 0.0000, 0.0000,\n",
       "           0.0000, 0.0000, 0.0000, 0.0000],\n",
       "          [0.0000, 0.3578, 0.0000, 0.0000, 0.3578, 0.3370, 0.0000, 0.0000,\n",
       "           0.0000, 0.0000, 0.0000, 0.0000],\n",
       "          [0.0000, 0.0000, 0.3578, 0.0000, 0.3578, 0.3370, 0.0000, 0.0000,\n",
       "           0.0000, 0.0000, 0.0000, 0.0000],\n",
       "          [0.0000, 0.0000, 0.0000, 0.3578, 0.3370, 0.0000, 0.0000, 0.0000,\n",
       "           0.0000, 0.0000, 0.0000, 0.0000],\n",
       "          [0.2130, 0.2130, 0.2130, 0.2006, 0.2130, 0.0000, 0.0000, 0.0000,\n",
       "           0.0000, 0.0000, 0.0000, 0.0000],\n",
       "          [0.2054, 0.2054, 0.2054, 0.2182, 0.0000, 0.2182, 0.0000, 0.0000,\n",
       "           0.0000, 0.0000, 0.0000, 0.0000],\n",
       "          [0.0000, 0.0000, 0.0000, 0.0000, 0.0000, 0.0000, 0.3509, 0.0000,\n",
       "           0.0000, 0.0000, 0.3509, 0.3509],\n",
       "          [0.0000, 0.0000, 0.0000, 0.0000, 0.0000, 0.0000, 0.0000, 0.3578,\n",
       "           0.0000, 0.0000, 0.3370, 0.0000],\n",
       "          [0.0000, 0.0000, 0.0000, 0.0000, 0.0000, 0.0000, 0.0000, 0.0000,\n",
       "           0.3578, 0.0000, 0.3578, 0.3370],\n",
       "          [0.0000, 0.0000, 0.0000, 0.0000, 0.0000, 0.0000, 0.0000, 0.0000,\n",
       "           0.0000, 0.3578, 0.3370, 0.3578],\n",
       "          [0.0000, 0.0000, 0.0000, 0.0000, 0.0000, 0.0000, 0.2156, 0.2030,\n",
       "           0.2156, 0.0000, 0.2156, 0.0000],\n",
       "          [0.0000, 0.0000, 0.0000, 0.0000, 0.0000, 0.0000, 0.2130, 0.2130,\n",
       "           0.2006, 0.2130, 0.0000, 0.2130]],\n",
       " \n",
       "         [[0.3564, 0.0000, 0.0000, 0.0000, 0.0000, 0.3397, 0.0000, 0.0000,\n",
       "           0.0000, 0.0000, 0.0000, 0.0000],\n",
       "          [0.0000, 0.3564, 0.0000, 0.0000, 0.3565, 0.3397, 0.0000, 0.0000,\n",
       "           0.0000, 0.0000, 0.0000, 0.0000],\n",
       "          [0.0000, 0.0000, 0.3564, 0.0000, 0.3565, 0.3397, 0.0000, 0.0000,\n",
       "           0.0000, 0.0000, 0.0000, 0.0000],\n",
       "          [0.0000, 0.0000, 0.0000, 0.3565, 0.3397, 0.3565, 0.0000, 0.0000,\n",
       "           0.0000, 0.0000, 0.0000, 0.0000],\n",
       "          [0.2125, 0.2125, 0.2125, 0.2025, 0.2125, 0.0000, 0.0000, 0.0000,\n",
       "           0.0000, 0.0000, 0.0000, 0.0000],\n",
       "          [0.2065, 0.2065, 0.2065, 0.2166, 0.0000, 0.2166, 0.0000, 0.0000,\n",
       "           0.0000, 0.0000, 0.0000, 0.0000],\n",
       "          [0.0000, 0.0000, 0.0000, 0.0000, 0.0000, 0.0000, 0.3509, 0.0000,\n",
       "           0.0000, 0.0000, 0.3509, 0.3509],\n",
       "          [0.0000, 0.0000, 0.0000, 0.0000, 0.0000, 0.0000, 0.0000, 0.3564,\n",
       "           0.0000, 0.0000, 0.3397, 0.3565],\n",
       "          [0.0000, 0.0000, 0.0000, 0.0000, 0.0000, 0.0000, 0.0000, 0.0000,\n",
       "           0.3565, 0.0000, 0.3565, 0.3397],\n",
       "          [0.0000, 0.0000, 0.0000, 0.0000, 0.0000, 0.0000, 0.0000, 0.0000,\n",
       "           0.0000, 0.3565, 0.3397, 0.3565],\n",
       "          [0.0000, 0.0000, 0.0000, 0.0000, 0.0000, 0.0000, 0.2146, 0.2045,\n",
       "           0.2146, 0.2045, 0.2146, 0.0000],\n",
       "          [0.0000, 0.0000, 0.0000, 0.0000, 0.0000, 0.0000, 0.2125, 0.2125,\n",
       "           0.2025, 0.2125, 0.0000, 0.2125]]], grad_fn=<PermuteBackward0>))"
      ]
     },
     "execution_count": 52,
     "metadata": {},
     "output_type": "execute_result"
    }
   ],
   "source": [
    "alpha_h = alpha.permute(2, 0, 1) # [H,M,M]\n",
    "alpha_h.size(), alpha_h"
   ]
  },
  {
   "cell_type": "code",
   "execution_count": 53,
   "id": "1a571b6f-76ee-450b-be37-f8a575cc62f3",
   "metadata": {},
   "outputs": [
    {
     "data": {
      "text/plain": [
       "(torch.Size([2, 12, 3]),\n",
       " tensor([[[0.0005, 0.0009, 0.0005],\n",
       "          [0.0006, 0.0012, 0.0006],\n",
       "          [0.0006, 0.0012, 0.0006],\n",
       "          [0.0009, 0.0017, 0.0009],\n",
       "          [0.0010, 0.0020, 0.0010],\n",
       "          [0.0011, 0.0023, 0.0011],\n",
       "          [0.0005, 0.0009, 0.0005],\n",
       "          [0.0005, 0.0009, 0.0005],\n",
       "          [0.0007, 0.0015, 0.0007],\n",
       "          [0.0009, 0.0017, 0.0009],\n",
       "          [0.0010, 0.0020, 0.0010],\n",
       "          [0.0009, 0.0018, 0.0009]],\n",
       " \n",
       "         [[0.0005, 0.0009, 0.0005],\n",
       "          [0.0006, 0.0012, 0.0006],\n",
       "          [0.0006, 0.0012, 0.0006],\n",
       "          [0.0009, 0.0017, 0.0009],\n",
       "          [0.0010, 0.0020, 0.0010],\n",
       "          [0.0011, 0.0023, 0.0011],\n",
       "          [0.0005, 0.0009, 0.0005],\n",
       "          [0.0005, 0.0009, 0.0005],\n",
       "          [0.0007, 0.0015, 0.0007],\n",
       "          [0.0009, 0.0017, 0.0009],\n",
       "          [0.0010, 0.0020, 0.0010],\n",
       "          [0.0009, 0.0018, 0.0009]]], grad_fn=<PermuteBackward0>))"
      ]
     },
     "execution_count": 53,
     "metadata": {},
     "output_type": "execute_result"
    }
   ],
   "source": [
    "Hh = Hproj.permute(1, 0, 2) # [H,M,O]\n",
    "Hh.size(), Hh"
   ]
  },
  {
   "cell_type": "code",
   "execution_count": 54,
   "id": "cdcab328-cd4c-4eed-bc16-bb4e64b1fa17",
   "metadata": {},
   "outputs": [
    {
     "data": {
      "text/plain": [
       "(torch.Size([2, 12, 12]),\n",
       " tensor([[[ 1.,  0.,  0.,  0.,  1., -1.,  0.,  0.,  0.,  0.,  0.,  0.],\n",
       "          [ 0.,  1.,  0.,  0.,  1., -1.,  0.,  0.,  0.,  0.,  0.,  0.],\n",
       "          [ 0.,  0.,  1.,  0.,  1., -1.,  0.,  0.,  0.,  0.,  0.,  0.],\n",
       "          [ 0.,  0.,  0.,  1., -1.,  1.,  0.,  0.,  0.,  0.,  0.,  0.],\n",
       "          [ 1.,  1.,  1., -1.,  1.,  0.,  0.,  0.,  0.,  0.,  0.,  0.],\n",
       "          [-1., -1., -1.,  1.,  0.,  1.,  0.,  0.,  0.,  0.,  0.,  0.],\n",
       "          [ 0.,  0.,  0.,  0.,  0.,  0.,  1.,  0.,  0.,  0.,  1.,  1.],\n",
       "          [ 0.,  0.,  0.,  0.,  0.,  0.,  0.,  1.,  0.,  0., -1.,  1.],\n",
       "          [ 0.,  0.,  0.,  0.,  0.,  0.,  0.,  0.,  1.,  0.,  1., -1.],\n",
       "          [ 0.,  0.,  0.,  0.,  0.,  0.,  0.,  0.,  0.,  1., -1.,  1.],\n",
       "          [ 0.,  0.,  0.,  0.,  0.,  0.,  1., -1.,  1., -1.,  1.,  0.],\n",
       "          [ 0.,  0.,  0.,  0.,  0.,  0.,  1.,  1., -1.,  1.,  0.,  1.]],\n",
       " \n",
       "         [[ 1.,  0.,  0.,  0.,  1., -1.,  0.,  0.,  0.,  0.,  0.,  0.],\n",
       "          [ 0.,  1.,  0.,  0.,  1., -1.,  0.,  0.,  0.,  0.,  0.,  0.],\n",
       "          [ 0.,  0.,  1.,  0.,  1., -1.,  0.,  0.,  0.,  0.,  0.,  0.],\n",
       "          [ 0.,  0.,  0.,  1., -1.,  1.,  0.,  0.,  0.,  0.,  0.,  0.],\n",
       "          [ 1.,  1.,  1., -1.,  1.,  0.,  0.,  0.,  0.,  0.,  0.,  0.],\n",
       "          [-1., -1., -1.,  1.,  0.,  1.,  0.,  0.,  0.,  0.,  0.,  0.],\n",
       "          [ 0.,  0.,  0.,  0.,  0.,  0.,  1.,  0.,  0.,  0.,  1.,  1.],\n",
       "          [ 0.,  0.,  0.,  0.,  0.,  0.,  0.,  1.,  0.,  0., -1.,  1.],\n",
       "          [ 0.,  0.,  0.,  0.,  0.,  0.,  0.,  0.,  1.,  0.,  1., -1.],\n",
       "          [ 0.,  0.,  0.,  0.,  0.,  0.,  0.,  0.,  0.,  1., -1.,  1.],\n",
       "          [ 0.,  0.,  0.,  0.,  0.,  0.,  1., -1.,  1., -1.,  1.,  0.],\n",
       "          [ 0.,  0.,  0.,  0.,  0.,  0.,  1.,  1., -1.,  1.,  0.,  1.]]]))"
      ]
     },
     "execution_count": 54,
     "metadata": {},
     "output_type": "execute_result"
    }
   ],
   "source": [
    "s_heads = signed_a.squeeze(-1).unsqueeze(0).expand(H, -1, -1) # [H,M,M]\n",
    "s_heads.size(), s_heads"
   ]
  },
  {
   "cell_type": "code",
   "execution_count": 55,
   "id": "37fcdc96-aa3d-433c-a4d2-bca520a4ca92",
   "metadata": {},
   "outputs": [
    {
     "data": {
      "text/plain": [
       "(torch.Size([2, 12, 12]),\n",
       " tensor([[[ 0.3578,  0.0000,  0.0000,  0.0000,  0.3578, -0.3370,  0.0000,\n",
       "            0.0000,  0.0000,  0.0000,  0.0000,  0.0000],\n",
       "          [ 0.0000,  0.3578,  0.0000,  0.0000,  0.3578, -0.3370,  0.0000,\n",
       "            0.0000,  0.0000,  0.0000,  0.0000,  0.0000],\n",
       "          [ 0.0000,  0.0000,  0.3578,  0.0000,  0.3578, -0.3370,  0.0000,\n",
       "            0.0000,  0.0000,  0.0000,  0.0000,  0.0000],\n",
       "          [ 0.0000,  0.0000,  0.0000,  0.3578, -0.3370,  0.0000,  0.0000,\n",
       "            0.0000,  0.0000,  0.0000,  0.0000,  0.0000],\n",
       "          [ 0.2130,  0.2130,  0.2130, -0.2006,  0.2130,  0.0000,  0.0000,\n",
       "            0.0000,  0.0000,  0.0000,  0.0000,  0.0000],\n",
       "          [-0.2054, -0.2054, -0.2054,  0.2182,  0.0000,  0.2182,  0.0000,\n",
       "            0.0000,  0.0000,  0.0000,  0.0000,  0.0000],\n",
       "          [ 0.0000,  0.0000,  0.0000,  0.0000,  0.0000,  0.0000,  0.3509,\n",
       "            0.0000,  0.0000,  0.0000,  0.3509,  0.3509],\n",
       "          [ 0.0000,  0.0000,  0.0000,  0.0000,  0.0000,  0.0000,  0.0000,\n",
       "            0.3578,  0.0000,  0.0000, -0.3370,  0.0000],\n",
       "          [ 0.0000,  0.0000,  0.0000,  0.0000,  0.0000,  0.0000,  0.0000,\n",
       "            0.0000,  0.3578,  0.0000,  0.3578, -0.3370],\n",
       "          [ 0.0000,  0.0000,  0.0000,  0.0000,  0.0000,  0.0000,  0.0000,\n",
       "            0.0000,  0.0000,  0.3578, -0.3370,  0.3578],\n",
       "          [ 0.0000,  0.0000,  0.0000,  0.0000,  0.0000,  0.0000,  0.2156,\n",
       "           -0.2030,  0.2156, -0.0000,  0.2156,  0.0000],\n",
       "          [ 0.0000,  0.0000,  0.0000,  0.0000,  0.0000,  0.0000,  0.2130,\n",
       "            0.2130, -0.2006,  0.2130,  0.0000,  0.2130]],\n",
       " \n",
       "         [[ 0.3564,  0.0000,  0.0000,  0.0000,  0.0000, -0.3397,  0.0000,\n",
       "            0.0000,  0.0000,  0.0000,  0.0000,  0.0000],\n",
       "          [ 0.0000,  0.3564,  0.0000,  0.0000,  0.3565, -0.3397,  0.0000,\n",
       "            0.0000,  0.0000,  0.0000,  0.0000,  0.0000],\n",
       "          [ 0.0000,  0.0000,  0.3564,  0.0000,  0.3565, -0.3397,  0.0000,\n",
       "            0.0000,  0.0000,  0.0000,  0.0000,  0.0000],\n",
       "          [ 0.0000,  0.0000,  0.0000,  0.3565, -0.3397,  0.3565,  0.0000,\n",
       "            0.0000,  0.0000,  0.0000,  0.0000,  0.0000],\n",
       "          [ 0.2125,  0.2125,  0.2125, -0.2025,  0.2125,  0.0000,  0.0000,\n",
       "            0.0000,  0.0000,  0.0000,  0.0000,  0.0000],\n",
       "          [-0.2065, -0.2065, -0.2065,  0.2166,  0.0000,  0.2166,  0.0000,\n",
       "            0.0000,  0.0000,  0.0000,  0.0000,  0.0000],\n",
       "          [ 0.0000,  0.0000,  0.0000,  0.0000,  0.0000,  0.0000,  0.3509,\n",
       "            0.0000,  0.0000,  0.0000,  0.3509,  0.3509],\n",
       "          [ 0.0000,  0.0000,  0.0000,  0.0000,  0.0000,  0.0000,  0.0000,\n",
       "            0.3564,  0.0000,  0.0000, -0.3397,  0.3565],\n",
       "          [ 0.0000,  0.0000,  0.0000,  0.0000,  0.0000,  0.0000,  0.0000,\n",
       "            0.0000,  0.3565,  0.0000,  0.3565, -0.3397],\n",
       "          [ 0.0000,  0.0000,  0.0000,  0.0000,  0.0000,  0.0000,  0.0000,\n",
       "            0.0000,  0.0000,  0.3565, -0.3397,  0.3565],\n",
       "          [ 0.0000,  0.0000,  0.0000,  0.0000,  0.0000,  0.0000,  0.2146,\n",
       "           -0.2045,  0.2146, -0.2045,  0.2146,  0.0000],\n",
       "          [ 0.0000,  0.0000,  0.0000,  0.0000,  0.0000,  0.0000,  0.2125,\n",
       "            0.2125, -0.2025,  0.2125,  0.0000,  0.2125]]],\n",
       "        grad_fn=<MulBackward0>))"
      ]
     },
     "execution_count": 55,
     "metadata": {},
     "output_type": "execute_result"
    }
   ],
   "source": [
    "alpha_signed = alpha_h * s_heads # [H,M,M]\n",
    "alpha_signed.size(), alpha_signed"
   ]
  },
  {
   "cell_type": "code",
   "execution_count": 56,
   "id": "ac981005-dc07-4fea-9980-e56faeec4d70",
   "metadata": {},
   "outputs": [
    {
     "data": {
      "text/plain": [
       "(torch.Size([2, 12, 3]),\n",
       " tensor([[[ 1.3894e-04,  2.7789e-04,  1.3894e-04],\n",
       "          [ 1.9063e-04,  3.8127e-04,  1.9063e-04],\n",
       "          [ 1.8268e-04,  3.6536e-04,  1.8268e-04],\n",
       "          [-2.6840e-05, -5.3681e-05, -2.6840e-05],\n",
       "          [ 3.8709e-04,  7.7418e-04,  3.8709e-04],\n",
       "          [ 1.0079e-04,  2.0158e-04,  1.0079e-04],\n",
       "          [ 8.3431e-04,  1.6686e-03,  8.3431e-04],\n",
       "          [-1.6999e-04, -3.3997e-04, -1.6999e-04],\n",
       "          [ 3.1323e-04,  6.2647e-04,  3.1323e-04],\n",
       "          [ 2.9919e-04,  5.9837e-04,  2.9919e-04],\n",
       "          [ 3.7950e-04,  7.5900e-04,  3.7950e-04],\n",
       "          [ 4.3040e-04,  8.6080e-04,  4.3040e-04]],\n",
       " \n",
       "         [[-2.2264e-04, -4.4528e-04, -2.2264e-04],\n",
       "          [ 1.8531e-04,  3.7062e-04,  1.8531e-04],\n",
       "          [ 1.7739e-04,  3.5477e-04,  1.7739e-04],\n",
       "          [ 3.7320e-04,  7.4640e-04,  3.7320e-04],\n",
       "          [ 3.8411e-04,  7.6821e-04,  3.8411e-04],\n",
       "          [ 9.6058e-05,  1.9212e-04,  9.6058e-05],\n",
       "          [ 8.3431e-04,  1.6686e-03,  8.3431e-04],\n",
       "          [ 1.5139e-04,  3.0278e-04,  1.5139e-04],\n",
       "          [ 3.0833e-04,  6.1667e-04,  3.0833e-04],\n",
       "          [ 2.9398e-04,  5.8797e-04,  2.9398e-04],\n",
       "          [ 1.9939e-04,  3.9877e-04,  1.9939e-04],\n",
       "          [ 4.2764e-04,  8.5528e-04,  4.2764e-04]]],\n",
       "        grad_fn=<UnsafeViewBackward0>))"
      ]
     },
     "execution_count": 56,
     "metadata": {},
     "output_type": "execute_result"
    }
   ],
   "source": [
    "out_h = alpha_signed @ Hh # [H,M,O]\n",
    "out_h.size(), out_h"
   ]
  },
  {
   "cell_type": "code",
   "execution_count": 57,
   "id": "72fc3ae5-a289-4bac-9e8a-c646d6ae14cb",
   "metadata": {},
   "outputs": [
    {
     "data": {
      "text/plain": [
       "(torch.Size([12, 2, 3]),\n",
       " tensor([[[ 1.3894e-04,  2.7789e-04,  1.3894e-04],\n",
       "          [-2.2264e-04, -4.4528e-04, -2.2264e-04]],\n",
       " \n",
       "         [[ 1.9063e-04,  3.8127e-04,  1.9063e-04],\n",
       "          [ 1.8531e-04,  3.7062e-04,  1.8531e-04]],\n",
       " \n",
       "         [[ 1.8268e-04,  3.6536e-04,  1.8268e-04],\n",
       "          [ 1.7739e-04,  3.5477e-04,  1.7739e-04]],\n",
       " \n",
       "         [[-2.6840e-05, -5.3681e-05, -2.6840e-05],\n",
       "          [ 3.7320e-04,  7.4640e-04,  3.7320e-04]],\n",
       " \n",
       "         [[ 3.8709e-04,  7.7418e-04,  3.8709e-04],\n",
       "          [ 3.8411e-04,  7.6821e-04,  3.8411e-04]],\n",
       " \n",
       "         [[ 1.0079e-04,  2.0158e-04,  1.0079e-04],\n",
       "          [ 9.6058e-05,  1.9212e-04,  9.6058e-05]],\n",
       " \n",
       "         [[ 8.3431e-04,  1.6686e-03,  8.3431e-04],\n",
       "          [ 8.3431e-04,  1.6686e-03,  8.3431e-04]],\n",
       " \n",
       "         [[-1.6999e-04, -3.3997e-04, -1.6999e-04],\n",
       "          [ 1.5139e-04,  3.0278e-04,  1.5139e-04]],\n",
       " \n",
       "         [[ 3.1323e-04,  6.2647e-04,  3.1323e-04],\n",
       "          [ 3.0833e-04,  6.1667e-04,  3.0833e-04]],\n",
       " \n",
       "         [[ 2.9919e-04,  5.9837e-04,  2.9919e-04],\n",
       "          [ 2.9398e-04,  5.8797e-04,  2.9398e-04]],\n",
       " \n",
       "         [[ 3.7950e-04,  7.5900e-04,  3.7950e-04],\n",
       "          [ 1.9939e-04,  3.9877e-04,  1.9939e-04]],\n",
       " \n",
       "         [[ 4.3040e-04,  8.6080e-04,  4.3040e-04],\n",
       "          [ 4.2764e-04,  8.5528e-04,  4.2764e-04]]], grad_fn=<PermuteBackward0>))"
      ]
     },
     "execution_count": 57,
     "metadata": {},
     "output_type": "execute_result"
    }
   ],
   "source": [
    "out = out_h.permute(1, 0, 2) # [M,H,O]\n",
    "out.size(), out"
   ]
  },
  {
   "cell_type": "markdown",
   "id": "79a28edd-df69-461f-952a-7d4c65d534c9",
   "metadata": {},
   "source": [
    "##### concatenate heads"
   ]
  },
  {
   "cell_type": "code",
   "execution_count": 58,
   "id": "53177d08-6b0f-4133-92a7-4a57e1ff874a",
   "metadata": {},
   "outputs": [
    {
     "data": {
      "text/plain": [
       "(torch.Size([12, 6]),\n",
       " tensor([[ 1.3894e-04,  2.7789e-04,  1.3894e-04, -2.2264e-04, -4.4528e-04,\n",
       "          -2.2264e-04],\n",
       "         [ 1.9063e-04,  3.8127e-04,  1.9063e-04,  1.8531e-04,  3.7062e-04,\n",
       "           1.8531e-04],\n",
       "         [ 1.8268e-04,  3.6536e-04,  1.8268e-04,  1.7739e-04,  3.5477e-04,\n",
       "           1.7739e-04],\n",
       "         [-2.6840e-05, -5.3681e-05, -2.6840e-05,  3.7320e-04,  7.4640e-04,\n",
       "           3.7320e-04],\n",
       "         [ 3.8709e-04,  7.7418e-04,  3.8709e-04,  3.8411e-04,  7.6821e-04,\n",
       "           3.8411e-04],\n",
       "         [ 1.0079e-04,  2.0158e-04,  1.0079e-04,  9.6058e-05,  1.9212e-04,\n",
       "           9.6058e-05],\n",
       "         [ 8.3431e-04,  1.6686e-03,  8.3431e-04,  8.3431e-04,  1.6686e-03,\n",
       "           8.3431e-04],\n",
       "         [-1.6999e-04, -3.3997e-04, -1.6999e-04,  1.5139e-04,  3.0278e-04,\n",
       "           1.5139e-04],\n",
       "         [ 3.1323e-04,  6.2647e-04,  3.1323e-04,  3.0833e-04,  6.1667e-04,\n",
       "           3.0833e-04],\n",
       "         [ 2.9919e-04,  5.9837e-04,  2.9919e-04,  2.9398e-04,  5.8797e-04,\n",
       "           2.9398e-04],\n",
       "         [ 3.7950e-04,  7.5900e-04,  3.7950e-04,  1.9939e-04,  3.9877e-04,\n",
       "           1.9939e-04],\n",
       "         [ 4.3040e-04,  8.6080e-04,  4.3040e-04,  4.2764e-04,  8.5528e-04,\n",
       "           4.2764e-04]], grad_fn=<UnsafeViewBackward0>))"
      ]
     },
     "execution_count": 58,
     "metadata": {},
     "output_type": "execute_result"
    }
   ],
   "source": [
    "out = out.reshape(M, H * O)\n",
    "out.size(), out"
   ]
  },
  {
   "cell_type": "markdown",
   "id": "5c80e6ca-764d-4a0e-a1e5-0c143639f8a4",
   "metadata": {},
   "source": [
    "##### Bias"
   ]
  },
  {
   "cell_type": "code",
   "execution_count": 59,
   "id": "11dd3732-a2a3-409a-a8a9-c2af7cd3c9af",
   "metadata": {},
   "outputs": [
    {
     "data": {
      "text/plain": [
       "(torch.Size([6]),\n",
       " Parameter containing:\n",
       " tensor([1.0000e-06, 1.0000e-06, 1.0000e-06, 1.0000e-06, 1.0000e-06, 1.0000e-06],\n",
       "        requires_grad=True))"
      ]
     },
     "execution_count": 59,
     "metadata": {},
     "output_type": "execute_result"
    }
   ],
   "source": [
    "gat1_bias = nn.Parameter(torch.zeros(heads*head_dim))\n",
    "with torch.no_grad(): \n",
    "    sign_pattern = torch.tensor([1e-6])\n",
    "    gat1_bias.copy_(sign_pattern)\n",
    "gat1_bias.size(), gat1_bias"
   ]
  },
  {
   "cell_type": "code",
   "execution_count": 60,
   "id": "9f5cded6-55ac-4ee0-a96c-f0d9f875ace7",
   "metadata": {},
   "outputs": [
    {
     "data": {
      "text/plain": [
       "(torch.Size([12, 6]),\n",
       " tensor([[ 1.3994e-04,  2.7889e-04,  1.3994e-04, -2.2164e-04, -4.4428e-04,\n",
       "          -2.2164e-04],\n",
       "         [ 1.9163e-04,  3.8227e-04,  1.9163e-04,  1.8631e-04,  3.7162e-04,\n",
       "           1.8631e-04],\n",
       "         [ 1.8368e-04,  3.6636e-04,  1.8368e-04,  1.7839e-04,  3.5577e-04,\n",
       "           1.7839e-04],\n",
       "         [-2.5840e-05, -5.2681e-05, -2.5840e-05,  3.7420e-04,  7.4740e-04,\n",
       "           3.7420e-04],\n",
       "         [ 3.8809e-04,  7.7518e-04,  3.8809e-04,  3.8511e-04,  7.6921e-04,\n",
       "           3.8511e-04],\n",
       "         [ 1.0179e-04,  2.0258e-04,  1.0179e-04,  9.7058e-05,  1.9312e-04,\n",
       "           9.7058e-05],\n",
       "         [ 8.3531e-04,  1.6696e-03,  8.3531e-04,  8.3531e-04,  1.6696e-03,\n",
       "           8.3531e-04],\n",
       "         [-1.6899e-04, -3.3897e-04, -1.6899e-04,  1.5239e-04,  3.0378e-04,\n",
       "           1.5239e-04],\n",
       "         [ 3.1423e-04,  6.2747e-04,  3.1423e-04,  3.0933e-04,  6.1767e-04,\n",
       "           3.0933e-04],\n",
       "         [ 3.0019e-04,  5.9937e-04,  3.0019e-04,  2.9498e-04,  5.8897e-04,\n",
       "           2.9498e-04],\n",
       "         [ 3.8050e-04,  7.6000e-04,  3.8050e-04,  2.0039e-04,  3.9977e-04,\n",
       "           2.0039e-04],\n",
       "         [ 4.3140e-04,  8.6180e-04,  4.3140e-04,  4.2864e-04,  8.5628e-04,\n",
       "           4.2864e-04]], grad_fn=<AddBackward0>))"
      ]
     },
     "execution_count": 60,
     "metadata": {},
     "output_type": "execute_result"
    }
   ],
   "source": [
    "out = out + gat1_bias\n",
    "out.size(), out"
   ]
  },
  {
   "cell_type": "markdown",
   "id": "ca31eb10-229a-4011-871f-b4243d705037",
   "metadata": {},
   "source": [
    "#### GAT Block - ELU"
   ]
  },
  {
   "cell_type": "code",
   "execution_count": 61,
   "id": "372f23d6-d418-4e05-b689-1be01986eb84",
   "metadata": {},
   "outputs": [],
   "source": [
    "gat_elu1 = nn.ELU()"
   ]
  },
  {
   "cell_type": "code",
   "execution_count": 62,
   "id": "72bb919e-cb9c-49df-b953-bb4ba68a6ef2",
   "metadata": {},
   "outputs": [
    {
     "data": {
      "text/plain": [
       "(torch.Size([12, 6]),\n",
       " tensor([[ 1.3994e-04,  2.7889e-04,  1.3994e-04, -2.2162e-04, -4.4419e-04,\n",
       "          -2.2162e-04],\n",
       "         [ 1.9163e-04,  3.8227e-04,  1.9163e-04,  1.8631e-04,  3.7162e-04,\n",
       "           1.8631e-04],\n",
       "         [ 1.8368e-04,  3.6636e-04,  1.8368e-04,  1.7839e-04,  3.5577e-04,\n",
       "           1.7839e-04],\n",
       "         [-2.5840e-05, -5.2679e-05, -2.5840e-05,  3.7420e-04,  7.4740e-04,\n",
       "           3.7420e-04],\n",
       "         [ 3.8809e-04,  7.7518e-04,  3.8809e-04,  3.8511e-04,  7.6921e-04,\n",
       "           3.8511e-04],\n",
       "         [ 1.0179e-04,  2.0258e-04,  1.0179e-04,  9.7058e-05,  1.9312e-04,\n",
       "           9.7058e-05],\n",
       "         [ 8.3531e-04,  1.6696e-03,  8.3531e-04,  8.3531e-04,  1.6696e-03,\n",
       "           8.3531e-04],\n",
       "         [-1.6897e-04, -3.3892e-04, -1.6897e-04,  1.5239e-04,  3.0378e-04,\n",
       "           1.5239e-04],\n",
       "         [ 3.1423e-04,  6.2747e-04,  3.1423e-04,  3.0933e-04,  6.1767e-04,\n",
       "           3.0933e-04],\n",
       "         [ 3.0019e-04,  5.9937e-04,  3.0019e-04,  2.9498e-04,  5.8897e-04,\n",
       "           2.9498e-04],\n",
       "         [ 3.8050e-04,  7.6000e-04,  3.8050e-04,  2.0039e-04,  3.9977e-04,\n",
       "           2.0039e-04],\n",
       "         [ 4.3140e-04,  8.6180e-04,  4.3140e-04,  4.2864e-04,  8.5628e-04,\n",
       "           4.2864e-04]], grad_fn=<EluBackward0>))"
      ]
     },
     "execution_count": 62,
     "metadata": {},
     "output_type": "execute_result"
    }
   ],
   "source": [
    "out = gat_elu1(out)\n",
    "out.size(), out"
   ]
  },
  {
   "cell_type": "markdown",
   "id": "59824bf4-3443-48a8-a23f-6ae6ab069fd8",
   "metadata": {},
   "source": [
    "#### GAT Block - Second Attention Layer"
   ]
  },
  {
   "cell_type": "code",
   "execution_count": 63,
   "id": "5c647595-c934-4c31-bc7a-aee3b17f4bdd",
   "metadata": {},
   "outputs": [
    {
     "data": {
      "text/plain": [
       "(torch.Size([12, 12]),\n",
       " tensor([[ True, False, False, False,  True,  True, False, False, False, False,\n",
       "          False, False],\n",
       "         [False,  True, False, False,  True,  True, False, False, False, False,\n",
       "          False, False],\n",
       "         [False, False,  True, False,  True,  True, False, False, False, False,\n",
       "          False, False],\n",
       "         [False, False, False,  True,  True,  True, False, False, False, False,\n",
       "          False, False],\n",
       "         [ True,  True,  True,  True,  True, False, False, False, False, False,\n",
       "          False, False],\n",
       "         [ True,  True,  True,  True, False,  True, False, False, False, False,\n",
       "          False, False],\n",
       "         [False, False, False, False, False, False,  True, False, False, False,\n",
       "           True,  True],\n",
       "         [False, False, False, False, False, False, False,  True, False, False,\n",
       "           True,  True],\n",
       "         [False, False, False, False, False, False, False, False,  True, False,\n",
       "           True,  True],\n",
       "         [False, False, False, False, False, False, False, False, False,  True,\n",
       "           True,  True],\n",
       "         [False, False, False, False, False, False,  True,  True,  True,  True,\n",
       "           True, False],\n",
       "         [False, False, False, False, False, False,  True,  True,  True,  True,\n",
       "          False,  True]]))"
      ]
     },
     "execution_count": 63,
     "metadata": {},
     "output_type": "execute_result"
    }
   ],
   "source": [
    "signed_a = a_blk.clone()\n",
    "signed_a.fill_diagonal_(1.0)                       # self-loops are positive\n",
    "mask = (signed_a != 0)                             # [M,M]\n",
    "mask.size(), mask\n"
   ]
  },
  {
   "cell_type": "code",
   "execution_count": 64,
   "id": "6b4f8e2d-33be-43f0-ae65-323d353a031a",
   "metadata": {
    "scrolled": true
   },
   "outputs": [
    {
     "data": {
      "text/plain": [
       "(torch.Size([12, 12, 1]),\n",
       " tensor([[[ 1.],\n",
       "          [ 0.],\n",
       "          [ 0.],\n",
       "          [ 0.],\n",
       "          [ 1.],\n",
       "          [-1.],\n",
       "          [ 0.],\n",
       "          [ 0.],\n",
       "          [ 0.],\n",
       "          [ 0.],\n",
       "          [ 0.],\n",
       "          [ 0.]],\n",
       " \n",
       "         [[ 0.],\n",
       "          [ 1.],\n",
       "          [ 0.],\n",
       "          [ 0.],\n",
       "          [ 1.],\n",
       "          [-1.],\n",
       "          [ 0.],\n",
       "          [ 0.],\n",
       "          [ 0.],\n",
       "          [ 0.],\n",
       "          [ 0.],\n",
       "          [ 0.]],\n",
       " \n",
       "         [[ 0.],\n",
       "          [ 0.],\n",
       "          [ 1.],\n",
       "          [ 0.],\n",
       "          [ 1.],\n",
       "          [-1.],\n",
       "          [ 0.],\n",
       "          [ 0.],\n",
       "          [ 0.],\n",
       "          [ 0.],\n",
       "          [ 0.],\n",
       "          [ 0.]],\n",
       " \n",
       "         [[ 0.],\n",
       "          [ 0.],\n",
       "          [ 0.],\n",
       "          [ 1.],\n",
       "          [-1.],\n",
       "          [ 1.],\n",
       "          [ 0.],\n",
       "          [ 0.],\n",
       "          [ 0.],\n",
       "          [ 0.],\n",
       "          [ 0.],\n",
       "          [ 0.]],\n",
       " \n",
       "         [[ 1.],\n",
       "          [ 1.],\n",
       "          [ 1.],\n",
       "          [-1.],\n",
       "          [ 1.],\n",
       "          [ 0.],\n",
       "          [ 0.],\n",
       "          [ 0.],\n",
       "          [ 0.],\n",
       "          [ 0.],\n",
       "          [ 0.],\n",
       "          [ 0.]],\n",
       " \n",
       "         [[-1.],\n",
       "          [-1.],\n",
       "          [-1.],\n",
       "          [ 1.],\n",
       "          [ 0.],\n",
       "          [ 1.],\n",
       "          [ 0.],\n",
       "          [ 0.],\n",
       "          [ 0.],\n",
       "          [ 0.],\n",
       "          [ 0.],\n",
       "          [ 0.]],\n",
       " \n",
       "         [[ 0.],\n",
       "          [ 0.],\n",
       "          [ 0.],\n",
       "          [ 0.],\n",
       "          [ 0.],\n",
       "          [ 0.],\n",
       "          [ 1.],\n",
       "          [ 0.],\n",
       "          [ 0.],\n",
       "          [ 0.],\n",
       "          [ 1.],\n",
       "          [ 1.]],\n",
       " \n",
       "         [[ 0.],\n",
       "          [ 0.],\n",
       "          [ 0.],\n",
       "          [ 0.],\n",
       "          [ 0.],\n",
       "          [ 0.],\n",
       "          [ 0.],\n",
       "          [ 1.],\n",
       "          [ 0.],\n",
       "          [ 0.],\n",
       "          [-1.],\n",
       "          [ 1.]],\n",
       " \n",
       "         [[ 0.],\n",
       "          [ 0.],\n",
       "          [ 0.],\n",
       "          [ 0.],\n",
       "          [ 0.],\n",
       "          [ 0.],\n",
       "          [ 0.],\n",
       "          [ 0.],\n",
       "          [ 1.],\n",
       "          [ 0.],\n",
       "          [ 1.],\n",
       "          [-1.]],\n",
       " \n",
       "         [[ 0.],\n",
       "          [ 0.],\n",
       "          [ 0.],\n",
       "          [ 0.],\n",
       "          [ 0.],\n",
       "          [ 0.],\n",
       "          [ 0.],\n",
       "          [ 0.],\n",
       "          [ 0.],\n",
       "          [ 1.],\n",
       "          [-1.],\n",
       "          [ 1.]],\n",
       " \n",
       "         [[ 0.],\n",
       "          [ 0.],\n",
       "          [ 0.],\n",
       "          [ 0.],\n",
       "          [ 0.],\n",
       "          [ 0.],\n",
       "          [ 1.],\n",
       "          [-1.],\n",
       "          [ 1.],\n",
       "          [-1.],\n",
       "          [ 1.],\n",
       "          [ 0.]],\n",
       " \n",
       "         [[ 0.],\n",
       "          [ 0.],\n",
       "          [ 0.],\n",
       "          [ 0.],\n",
       "          [ 0.],\n",
       "          [ 0.],\n",
       "          [ 1.],\n",
       "          [ 1.],\n",
       "          [-1.],\n",
       "          [ 1.],\n",
       "          [ 0.],\n",
       "          [ 1.]]]))"
      ]
     },
     "execution_count": 64,
     "metadata": {},
     "output_type": "execute_result"
    }
   ],
   "source": [
    "signed_a = signed_a.unsqueeze(-1)                         # [M,M,1] sign tensor\n",
    "signed_a.size(), signed_a"
   ]
  },
  {
   "cell_type": "code",
   "execution_count": 65,
   "id": "bf32345d-303c-4f11-9c35-ea4ef57f9576",
   "metadata": {},
   "outputs": [
    {
     "data": {
      "text/plain": [
       "(torch.Size([12, 6]),\n",
       " tensor([[ 1.5549e-04,  3.0987e-04,  0.0000e+00, -2.4624e-04, -4.9354e-04,\n",
       "          -2.4624e-04],\n",
       "         [ 2.1293e-04,  4.2474e-04,  2.1293e-04,  2.0701e-04,  4.1291e-04,\n",
       "           2.0701e-04],\n",
       "         [ 2.0409e-04,  4.0707e-04,  2.0409e-04,  0.0000e+00,  3.9530e-04,\n",
       "           1.9821e-04],\n",
       "         [-2.8711e-05, -0.0000e+00, -2.8711e-05,  4.1578e-04,  8.3044e-04,\n",
       "           4.1578e-04],\n",
       "         [ 4.3121e-04,  0.0000e+00,  4.3121e-04,  4.2790e-04,  8.5468e-04,\n",
       "           4.2790e-04],\n",
       "         [ 1.1310e-04,  2.2508e-04,  1.1310e-04,  1.0784e-04,  2.1457e-04,\n",
       "           1.0784e-04],\n",
       "         [ 9.2812e-04,  1.8551e-03,  0.0000e+00,  9.2812e-04,  1.8551e-03,\n",
       "           9.2812e-04],\n",
       "         [-1.8775e-04, -3.7657e-04, -1.8775e-04,  0.0000e+00,  3.3753e-04,\n",
       "           1.6932e-04],\n",
       "         [ 3.4915e-04,  6.9718e-04,  3.4915e-04,  3.4371e-04,  6.8630e-04,\n",
       "           3.4371e-04],\n",
       "         [ 3.3354e-04,  0.0000e+00,  3.3354e-04,  3.2776e-04,  6.5441e-04,\n",
       "           3.2776e-04],\n",
       "         [ 4.2278e-04,  8.4444e-04,  0.0000e+00,  2.2265e-04,  4.4419e-04,\n",
       "           2.2265e-04],\n",
       "         [ 4.7933e-04,  9.5756e-04,  4.7933e-04,  4.7627e-04,  9.5142e-04,\n",
       "           4.7627e-04]], grad_fn=<MulBackward0>))"
      ]
     },
     "execution_count": 65,
     "metadata": {},
     "output_type": "execute_result"
    }
   ],
   "source": [
    "# dropout on features (standard GAT)\n",
    "gat2_fdrop = nn.Dropout(feat_dropout)\n",
    "out_drop = gat2_fdrop(out)\n",
    "out_drop.size(), out_drop"
   ]
  },
  {
   "cell_type": "code",
   "execution_count": 66,
   "id": "6bc57734-8235-46ea-8a22-1ef110210eb3",
   "metadata": {},
   "outputs": [
    {
     "data": {
      "text/plain": [
       "(torch.Size([2, 6, 3]),\n",
       " Parameter containing:\n",
       " tensor([[[0.0020, 0.0040, 0.0020],\n",
       "          [0.0040, 0.0080, 0.0040],\n",
       "          [0.0060, 0.0120, 0.0060],\n",
       "          [0.0060, 0.0120, 0.0060],\n",
       "          [0.0040, 0.0080, 0.0040],\n",
       "          [0.0020, 0.0040, 0.0020]],\n",
       " \n",
       "         [[0.0020, 0.0040, 0.0020],\n",
       "          [0.0040, 0.0080, 0.0040],\n",
       "          [0.0060, 0.0120, 0.0060],\n",
       "          [0.0060, 0.0120, 0.0060],\n",
       "          [0.0040, 0.0080, 0.0040],\n",
       "          [0.0020, 0.0040, 0.0020]]], requires_grad=True))"
      ]
     },
     "execution_count": 66,
     "metadata": {},
     "output_type": "execute_result"
    }
   ],
   "source": [
    "##### ----- per-head linear projection: [M,H,O] -----\n",
    "##### Broadcast X across heads and multiply by per-head W: [H,M,I] @ [H,I,O] -> [H,M,O]\n",
    "gat2_attn_w = nn.Parameter(torch.empty(heads, n_embd, head_dim))\n",
    "with torch.no_grad(): \n",
    "    gat2_attn_w.copy_(pyramid_weight(n_embd, head_dim, base=0.002))\n",
    "gat2_attn_w.size(), gat2_attn_w"
   ]
  },
  {
   "cell_type": "code",
   "execution_count": 67,
   "id": "c8e8b893-1d6f-4602-b17f-4ab05b60f2a2",
   "metadata": {},
   "outputs": [
    {
     "data": {
      "text/plain": [
       "(12, 2, 3)"
      ]
     },
     "execution_count": 67,
     "metadata": {},
     "output_type": "execute_result"
    }
   ],
   "source": [
    "M = out_drop.size(0)\n",
    "H = gat2_attn_w.size(0)\n",
    "O = gat2_attn_w.size(2)\n",
    "M, H, O"
   ]
  },
  {
   "cell_type": "code",
   "execution_count": 68,
   "id": "384fa13b-1f06-455c-82a8-ce9316a45301",
   "metadata": {},
   "outputs": [
    {
     "data": {
      "text/plain": [
       "(torch.Size([2, 12, 3]),\n",
       " tensor([[[-2.3936e-06, -4.7872e-06, -2.3936e-06],\n",
       "          [ 6.7101e-06,  1.3420e-05,  6.7101e-06],\n",
       "          [ 5.2386e-06,  1.0477e-05,  5.2386e-06],\n",
       "          [ 6.4183e-06,  1.2837e-05,  6.4183e-06],\n",
       "          [ 1.0292e-05,  2.0583e-05,  1.0292e-05],\n",
       "          [ 3.5262e-06,  7.0523e-06,  3.5262e-06],\n",
       "          [ 2.4122e-05,  4.8245e-05,  2.4122e-05],\n",
       "          [-1.3195e-06, -2.6390e-06, -1.3195e-06],\n",
       "          [ 1.1077e-05,  2.2154e-05,  1.1077e-05],\n",
       "          [ 7.9080e-06,  1.5816e-05,  7.9080e-06],\n",
       "          [ 7.7813e-06,  1.5563e-05,  7.7813e-06],\n",
       "          [ 1.5281e-05,  3.0561e-05,  1.5281e-05]],\n",
       " \n",
       "         [[-2.3936e-06, -4.7872e-06, -2.3936e-06],\n",
       "          [ 6.7101e-06,  1.3420e-05,  6.7101e-06],\n",
       "          [ 5.2386e-06,  1.0477e-05,  5.2386e-06],\n",
       "          [ 6.4183e-06,  1.2837e-05,  6.4183e-06],\n",
       "          [ 1.0292e-05,  2.0583e-05,  1.0292e-05],\n",
       "          [ 3.5262e-06,  7.0523e-06,  3.5262e-06],\n",
       "          [ 2.4122e-05,  4.8245e-05,  2.4122e-05],\n",
       "          [-1.3195e-06, -2.6390e-06, -1.3195e-06],\n",
       "          [ 1.1077e-05,  2.2154e-05,  1.1077e-05],\n",
       "          [ 7.9080e-06,  1.5816e-05,  7.9080e-06],\n",
       "          [ 7.7813e-06,  1.5563e-05,  7.7813e-06],\n",
       "          [ 1.5281e-05,  3.0561e-05,  1.5281e-05]]], grad_fn=<CloneBackward0>))"
      ]
     },
     "execution_count": 68,
     "metadata": {},
     "output_type": "execute_result"
    }
   ],
   "source": [
    "Hproj = out_drop @ gat2_attn_w\n",
    "Hproj.size(), Hproj"
   ]
  },
  {
   "cell_type": "code",
   "execution_count": 69,
   "id": "9ed21740-2522-4a89-aa43-68253c63ba8b",
   "metadata": {},
   "outputs": [
    {
     "data": {
      "text/plain": [
       "(torch.Size([12, 2, 3]),\n",
       " tensor([[[-2.3936e-06, -4.7872e-06, -2.3936e-06],\n",
       "          [-2.3936e-06, -4.7872e-06, -2.3936e-06]],\n",
       " \n",
       "         [[ 6.7101e-06,  1.3420e-05,  6.7101e-06],\n",
       "          [ 6.7101e-06,  1.3420e-05,  6.7101e-06]],\n",
       " \n",
       "         [[ 5.2386e-06,  1.0477e-05,  5.2386e-06],\n",
       "          [ 5.2386e-06,  1.0477e-05,  5.2386e-06]],\n",
       " \n",
       "         [[ 6.4183e-06,  1.2837e-05,  6.4183e-06],\n",
       "          [ 6.4183e-06,  1.2837e-05,  6.4183e-06]],\n",
       " \n",
       "         [[ 1.0292e-05,  2.0583e-05,  1.0292e-05],\n",
       "          [ 1.0292e-05,  2.0583e-05,  1.0292e-05]],\n",
       " \n",
       "         [[ 3.5262e-06,  7.0523e-06,  3.5262e-06],\n",
       "          [ 3.5262e-06,  7.0523e-06,  3.5262e-06]],\n",
       " \n",
       "         [[ 2.4122e-05,  4.8245e-05,  2.4122e-05],\n",
       "          [ 2.4122e-05,  4.8245e-05,  2.4122e-05]],\n",
       " \n",
       "         [[-1.3195e-06, -2.6390e-06, -1.3195e-06],\n",
       "          [-1.3195e-06, -2.6390e-06, -1.3195e-06]],\n",
       " \n",
       "         [[ 1.1077e-05,  2.2154e-05,  1.1077e-05],\n",
       "          [ 1.1077e-05,  2.2154e-05,  1.1077e-05]],\n",
       " \n",
       "         [[ 7.9080e-06,  1.5816e-05,  7.9080e-06],\n",
       "          [ 7.9080e-06,  1.5816e-05,  7.9080e-06]],\n",
       " \n",
       "         [[ 7.7813e-06,  1.5563e-05,  7.7813e-06],\n",
       "          [ 7.7813e-06,  1.5563e-05,  7.7813e-06]],\n",
       " \n",
       "         [[ 1.5281e-05,  3.0561e-05,  1.5281e-05],\n",
       "          [ 1.5281e-05,  3.0561e-05,  1.5281e-05]]], grad_fn=<PermuteBackward0>))"
      ]
     },
     "execution_count": 69,
     "metadata": {},
     "output_type": "execute_result"
    }
   ],
   "source": [
    "Hproj = Hproj.permute(1, 0, 2) \n",
    "Hproj.size(), Hproj\n"
   ]
  },
  {
   "cell_type": "code",
   "execution_count": 70,
   "id": "34a70104-a19c-4664-9c62-029c8e11d782",
   "metadata": {},
   "outputs": [
    {
     "data": {
      "text/plain": [
       "(torch.Size([2, 3, 1]),\n",
       " Parameter containing:\n",
       " tensor([[[0.0100],\n",
       "          [0.0200],\n",
       "          [0.0300]],\n",
       " \n",
       "         [[0.0100],\n",
       "          [0.0200],\n",
       "          [0.0300]]], requires_grad=True))"
      ]
     },
     "execution_count": 70,
     "metadata": {},
     "output_type": "execute_result"
    }
   ],
   "source": [
    "##### ----- attention logits e_ij per head -----\n",
    "# Compute node-wise scores for each head, then combine to pairwise:\n",
    "gat2_attn_src = nn.Parameter(torch.empty(heads, head_dim, 1))\n",
    "with torch.no_grad(): \n",
    "    src_pattern = torch.tensor([[0.01],[0.02],[0.03]])\n",
    "    gat2_attn_src.copy_(src_pattern)\n",
    "gat2_attn_src.size(), gat2_attn_src"
   ]
  },
  {
   "cell_type": "code",
   "execution_count": 71,
   "id": "0f95da6c-8a78-4ef1-af1b-96ead80f3333",
   "metadata": {},
   "outputs": [
    {
     "data": {
      "text/plain": [
       "(torch.Size([2, 3, 1]),\n",
       " Parameter containing:\n",
       " tensor([[[0.0200],\n",
       "          [0.0100],\n",
       "          [0.0200]],\n",
       " \n",
       "         [[0.0200],\n",
       "          [0.0100],\n",
       "          [0.0200]]], requires_grad=True))"
      ]
     },
     "execution_count": 71,
     "metadata": {},
     "output_type": "execute_result"
    }
   ],
   "source": [
    "gat2_attn_dst = nn.Parameter(torch.empty(heads, head_dim, 1))\n",
    "with torch.no_grad(): \n",
    "    dst_pattern = torch.tensor([[0.02],[0.01],[0.02]])\n",
    "    gat2_attn_dst.copy_(dst_pattern)\n",
    "gat2_attn_dst.size(), gat2_attn_dst"
   ]
  },
  {
   "cell_type": "code",
   "execution_count": 72,
   "id": "9c07e5ad-7994-432d-8229-03d93fe6e481",
   "metadata": {},
   "outputs": [
    {
     "data": {
      "text/plain": [
       "(torch.Size([2, 12, 3]),\n",
       " tensor([[[-2.3936e-06, -4.7872e-06, -2.3936e-06],\n",
       "          [ 6.7101e-06,  1.3420e-05,  6.7101e-06],\n",
       "          [ 5.2386e-06,  1.0477e-05,  5.2386e-06],\n",
       "          [ 6.4183e-06,  1.2837e-05,  6.4183e-06],\n",
       "          [ 1.0292e-05,  2.0583e-05,  1.0292e-05],\n",
       "          [ 3.5262e-06,  7.0523e-06,  3.5262e-06],\n",
       "          [ 2.4122e-05,  4.8245e-05,  2.4122e-05],\n",
       "          [-1.3195e-06, -2.6390e-06, -1.3195e-06],\n",
       "          [ 1.1077e-05,  2.2154e-05,  1.1077e-05],\n",
       "          [ 7.9080e-06,  1.5816e-05,  7.9080e-06],\n",
       "          [ 7.7813e-06,  1.5563e-05,  7.7813e-06],\n",
       "          [ 1.5281e-05,  3.0561e-05,  1.5281e-05]],\n",
       " \n",
       "         [[-2.3936e-06, -4.7872e-06, -2.3936e-06],\n",
       "          [ 6.7101e-06,  1.3420e-05,  6.7101e-06],\n",
       "          [ 5.2386e-06,  1.0477e-05,  5.2386e-06],\n",
       "          [ 6.4183e-06,  1.2837e-05,  6.4183e-06],\n",
       "          [ 1.0292e-05,  2.0583e-05,  1.0292e-05],\n",
       "          [ 3.5262e-06,  7.0523e-06,  3.5262e-06],\n",
       "          [ 2.4122e-05,  4.8245e-05,  2.4122e-05],\n",
       "          [-1.3195e-06, -2.6390e-06, -1.3195e-06],\n",
       "          [ 1.1077e-05,  2.2154e-05,  1.1077e-05],\n",
       "          [ 7.9080e-06,  1.5816e-05,  7.9080e-06],\n",
       "          [ 7.7813e-06,  1.5563e-05,  7.7813e-06],\n",
       "          [ 1.5281e-05,  3.0561e-05,  1.5281e-05]]], grad_fn=<PermuteBackward0>))"
      ]
     },
     "execution_count": 72,
     "metadata": {},
     "output_type": "execute_result"
    }
   ],
   "source": [
    "Hh = Hproj.permute(1, 0, 2)                  # [H,M,O]\n",
    "Hh.size(), Hh"
   ]
  },
  {
   "cell_type": "code",
   "execution_count": 73,
   "id": "ef460ee5-a960-4819-b08f-bd1a827bca71",
   "metadata": {},
   "outputs": [
    {
     "data": {
      "text/plain": [
       "(torch.Size([2, 12, 1]),\n",
       " tensor([[[-1.9149e-07],\n",
       "          [ 5.3681e-07],\n",
       "          [ 4.1909e-07],\n",
       "          [ 5.1346e-07],\n",
       "          [ 8.2333e-07],\n",
       "          [ 2.8209e-07],\n",
       "          [ 1.9298e-06],\n",
       "          [-1.0556e-07],\n",
       "          [ 8.8614e-07],\n",
       "          [ 6.3264e-07],\n",
       "          [ 6.2250e-07],\n",
       "          [ 1.2225e-06]],\n",
       " \n",
       "         [[-1.9149e-07],\n",
       "          [ 5.3681e-07],\n",
       "          [ 4.1909e-07],\n",
       "          [ 5.1346e-07],\n",
       "          [ 8.2333e-07],\n",
       "          [ 2.8209e-07],\n",
       "          [ 1.9298e-06],\n",
       "          [-1.0556e-07],\n",
       "          [ 8.8614e-07],\n",
       "          [ 6.3264e-07],\n",
       "          [ 6.2250e-07],\n",
       "          [ 1.2225e-06]]], grad_fn=<UnsafeViewBackward0>))"
      ]
     },
     "execution_count": 73,
     "metadata": {},
     "output_type": "execute_result"
    }
   ],
   "source": [
    "e_src = Hh @ gat2_attn_src\n",
    "e_src.size(), e_src"
   ]
  },
  {
   "cell_type": "code",
   "execution_count": 74,
   "id": "03c89c21-2267-4edb-b425-6c5b1024e146",
   "metadata": {},
   "outputs": [
    {
     "data": {
      "text/plain": [
       "(torch.Size([12, 1, 2]),\n",
       " tensor([[[-1.9149e-07, -1.9149e-07]],\n",
       " \n",
       "         [[ 5.3681e-07,  5.3681e-07]],\n",
       " \n",
       "         [[ 4.1909e-07,  4.1909e-07]],\n",
       " \n",
       "         [[ 5.1346e-07,  5.1346e-07]],\n",
       " \n",
       "         [[ 8.2333e-07,  8.2333e-07]],\n",
       " \n",
       "         [[ 2.8209e-07,  2.8209e-07]],\n",
       " \n",
       "         [[ 1.9298e-06,  1.9298e-06]],\n",
       " \n",
       "         [[-1.0556e-07, -1.0556e-07]],\n",
       " \n",
       "         [[ 8.8614e-07,  8.8614e-07]],\n",
       " \n",
       "         [[ 6.3264e-07,  6.3264e-07]],\n",
       " \n",
       "         [[ 6.2250e-07,  6.2250e-07]],\n",
       " \n",
       "         [[ 1.2225e-06,  1.2225e-06]]], grad_fn=<UnsqueezeBackward0>))"
      ]
     },
     "execution_count": 74,
     "metadata": {},
     "output_type": "execute_result"
    }
   ],
   "source": [
    "e_src = e_src.squeeze(-1).transpose(0, 1).unsqueeze(1)  # [M,1,H]\n",
    "e_src.size(), e_src"
   ]
  },
  {
   "cell_type": "code",
   "execution_count": 75,
   "id": "95b1def6-1726-4480-aede-75c99bfd586c",
   "metadata": {},
   "outputs": [
    {
     "data": {
      "text/plain": [
       "(torch.Size([1, 12, 2]),\n",
       " tensor([[[-1.4362e-07, -1.4362e-07],\n",
       "          [ 4.0261e-07,  4.0261e-07],\n",
       "          [ 3.1432e-07,  3.1432e-07],\n",
       "          [ 3.8510e-07,  3.8510e-07],\n",
       "          [ 6.1749e-07,  6.1749e-07],\n",
       "          [ 2.1157e-07,  2.1157e-07],\n",
       "          [ 1.4473e-06,  1.4473e-06],\n",
       "          [-7.9171e-08, -7.9171e-08],\n",
       "          [ 6.6461e-07,  6.6461e-07],\n",
       "          [ 4.7448e-07,  4.7448e-07],\n",
       "          [ 4.6688e-07,  4.6688e-07],\n",
       "          [ 9.1684e-07,  9.1684e-07]]], grad_fn=<UnsqueezeBackward0>))"
      ]
     },
     "execution_count": 75,
     "metadata": {},
     "output_type": "execute_result"
    }
   ],
   "source": [
    "e_dst = Hh @ gat2_attn_dst\n",
    "e_dst.size(), e_dst\n",
    "e_dst = e_dst.squeeze(-1).transpose(0, 1).unsqueeze(0)  # [1,M,H]\n",
    "e_dst.size(), e_dst"
   ]
  },
  {
   "cell_type": "code",
   "execution_count": 76,
   "id": "8c7e20d0-5c4a-44e0-ae0a-0d4b1d6ad83c",
   "metadata": {},
   "outputs": [
    {
     "data": {
      "text/plain": [
       "(torch.Size([12, 12, 2]),\n",
       " tensor([[[-3.3511e-07, -3.3511e-07],\n",
       "          [ 2.1112e-07,  2.1112e-07],\n",
       "          [ 1.2283e-07,  1.2283e-07],\n",
       "          [ 1.9361e-07,  1.9361e-07],\n",
       "          [ 4.2600e-07,  4.2600e-07],\n",
       "          [ 2.0080e-08,  2.0080e-08],\n",
       "          [ 1.2559e-06,  1.2559e-06],\n",
       "          [-2.7066e-07, -2.7066e-07],\n",
       "          [ 4.7312e-07,  4.7312e-07],\n",
       "          [ 2.8299e-07,  2.8299e-07],\n",
       "          [ 2.7539e-07,  2.7539e-07],\n",
       "          [ 7.2536e-07,  7.2536e-07]],\n",
       " \n",
       "         [[ 3.9319e-07,  3.9319e-07],\n",
       "          [ 9.3941e-07,  9.3941e-07],\n",
       "          [ 8.5113e-07,  8.5113e-07],\n",
       "          [ 9.2191e-07,  9.2191e-07],\n",
       "          [ 1.1543e-06,  1.1543e-06],\n",
       "          [ 7.4838e-07,  7.4838e-07],\n",
       "          [ 1.9841e-06,  1.9841e-06],\n",
       "          [ 4.5764e-07,  4.5764e-07],\n",
       "          [ 1.2014e-06,  1.2014e-06],\n",
       "          [ 1.0113e-06,  1.0113e-06],\n",
       "          [ 1.0037e-06,  1.0037e-06],\n",
       "          [ 1.4537e-06,  1.4537e-06]],\n",
       " \n",
       "         [[ 2.7547e-07,  2.7547e-07],\n",
       "          [ 8.2170e-07,  8.2170e-07],\n",
       "          [ 7.3341e-07,  7.3341e-07],\n",
       "          [ 8.0419e-07,  8.0419e-07],\n",
       "          [ 1.0366e-06,  1.0366e-06],\n",
       "          [ 6.3066e-07,  6.3066e-07],\n",
       "          [ 1.8664e-06,  1.8664e-06],\n",
       "          [ 3.3992e-07,  3.3992e-07],\n",
       "          [ 1.0837e-06,  1.0837e-06],\n",
       "          [ 8.9357e-07,  8.9357e-07],\n",
       "          [ 8.8597e-07,  8.8597e-07],\n",
       "          [ 1.3359e-06,  1.3359e-06]],\n",
       " \n",
       "         [[ 3.6985e-07,  3.6985e-07],\n",
       "          [ 9.1607e-07,  9.1607e-07],\n",
       "          [ 8.2778e-07,  8.2778e-07],\n",
       "          [ 8.9856e-07,  8.9856e-07],\n",
       "          [ 1.1310e-06,  1.1310e-06],\n",
       "          [ 7.2503e-07,  7.2503e-07],\n",
       "          [ 1.9608e-06,  1.9608e-06],\n",
       "          [ 4.3429e-07,  4.3429e-07],\n",
       "          [ 1.1781e-06,  1.1781e-06],\n",
       "          [ 9.8795e-07,  9.8795e-07],\n",
       "          [ 9.8034e-07,  9.8034e-07],\n",
       "          [ 1.4303e-06,  1.4303e-06]],\n",
       " \n",
       "         [[ 6.7971e-07,  6.7971e-07],\n",
       "          [ 1.2259e-06,  1.2259e-06],\n",
       "          [ 1.1376e-06,  1.1376e-06],\n",
       "          [ 1.2084e-06,  1.2084e-06],\n",
       "          [ 1.4408e-06,  1.4408e-06],\n",
       "          [ 1.0349e-06,  1.0349e-06],\n",
       "          [ 2.2707e-06,  2.2707e-06],\n",
       "          [ 7.4415e-07,  7.4415e-07],\n",
       "          [ 1.4879e-06,  1.4879e-06],\n",
       "          [ 1.2978e-06,  1.2978e-06],\n",
       "          [ 1.2902e-06,  1.2902e-06],\n",
       "          [ 1.7402e-06,  1.7402e-06]],\n",
       " \n",
       "         [[ 1.3848e-07,  1.3848e-07],\n",
       "          [ 6.8470e-07,  6.8470e-07],\n",
       "          [ 5.9641e-07,  5.9641e-07],\n",
       "          [ 6.6719e-07,  6.6719e-07],\n",
       "          [ 8.9959e-07,  8.9959e-07],\n",
       "          [ 4.9366e-07,  4.9366e-07],\n",
       "          [ 1.7294e-06,  1.7294e-06],\n",
       "          [ 2.0292e-07,  2.0292e-07],\n",
       "          [ 9.4670e-07,  9.4670e-07],\n",
       "          [ 7.5657e-07,  7.5657e-07],\n",
       "          [ 7.4897e-07,  7.4897e-07],\n",
       "          [ 1.1989e-06,  1.1989e-06]],\n",
       " \n",
       "         [[ 1.7862e-06,  1.7862e-06],\n",
       "          [ 2.3324e-06,  2.3324e-06],\n",
       "          [ 2.2441e-06,  2.2441e-06],\n",
       "          [ 2.3149e-06,  2.3149e-06],\n",
       "          [ 2.5473e-06,  2.5473e-06],\n",
       "          [ 2.1414e-06,  2.1414e-06],\n",
       "          [ 3.3771e-06,  3.3771e-06],\n",
       "          [ 1.8506e-06,  1.8506e-06],\n",
       "          [ 2.5944e-06,  2.5944e-06],\n",
       "          [ 2.4043e-06,  2.4043e-06],\n",
       "          [ 2.3967e-06,  2.3967e-06],\n",
       "          [ 2.8466e-06,  2.8466e-06]],\n",
       " \n",
       "         [[-2.4918e-07, -2.4918e-07],\n",
       "          [ 2.9704e-07,  2.9704e-07],\n",
       "          [ 2.0876e-07,  2.0876e-07],\n",
       "          [ 2.7954e-07,  2.7954e-07],\n",
       "          [ 5.1193e-07,  5.1193e-07],\n",
       "          [ 1.0601e-07,  1.0601e-07],\n",
       "          [ 1.3418e-06,  1.3418e-06],\n",
       "          [-1.8473e-07, -1.8473e-07],\n",
       "          [ 5.5904e-07,  5.5904e-07],\n",
       "          [ 3.6892e-07,  3.6892e-07],\n",
       "          [ 3.6132e-07,  3.6132e-07],\n",
       "          [ 8.1128e-07,  8.1128e-07]],\n",
       " \n",
       "         [[ 7.4252e-07,  7.4252e-07],\n",
       "          [ 1.2887e-06,  1.2887e-06],\n",
       "          [ 1.2005e-06,  1.2005e-06],\n",
       "          [ 1.2712e-06,  1.2712e-06],\n",
       "          [ 1.5036e-06,  1.5036e-06],\n",
       "          [ 1.0977e-06,  1.0977e-06],\n",
       "          [ 2.3335e-06,  2.3335e-06],\n",
       "          [ 8.0697e-07,  8.0697e-07],\n",
       "          [ 1.5507e-06,  1.5507e-06],\n",
       "          [ 1.3606e-06,  1.3606e-06],\n",
       "          [ 1.3530e-06,  1.3530e-06],\n",
       "          [ 1.8030e-06,  1.8030e-06]],\n",
       " \n",
       "         [[ 4.8902e-07,  4.8902e-07],\n",
       "          [ 1.0352e-06,  1.0352e-06],\n",
       "          [ 9.4696e-07,  9.4696e-07],\n",
       "          [ 1.0177e-06,  1.0177e-06],\n",
       "          [ 1.2501e-06,  1.2501e-06],\n",
       "          [ 8.4421e-07,  8.4421e-07],\n",
       "          [ 2.0800e-06,  2.0800e-06],\n",
       "          [ 5.5347e-07,  5.5347e-07],\n",
       "          [ 1.2972e-06,  1.2972e-06],\n",
       "          [ 1.1071e-06,  1.1071e-06],\n",
       "          [ 1.0995e-06,  1.0995e-06],\n",
       "          [ 1.5495e-06,  1.5495e-06]],\n",
       " \n",
       "         [[ 4.7889e-07,  4.7889e-07],\n",
       "          [ 1.0251e-06,  1.0251e-06],\n",
       "          [ 9.3682e-07,  9.3682e-07],\n",
       "          [ 1.0076e-06,  1.0076e-06],\n",
       "          [ 1.2400e-06,  1.2400e-06],\n",
       "          [ 8.3407e-07,  8.3407e-07],\n",
       "          [ 2.0698e-06,  2.0698e-06],\n",
       "          [ 5.4333e-07,  5.4333e-07],\n",
       "          [ 1.2871e-06,  1.2871e-06],\n",
       "          [ 1.0970e-06,  1.0970e-06],\n",
       "          [ 1.0894e-06,  1.0894e-06],\n",
       "          [ 1.5393e-06,  1.5393e-06]],\n",
       " \n",
       "         [[ 1.0788e-06,  1.0788e-06],\n",
       "          [ 1.6251e-06,  1.6251e-06],\n",
       "          [ 1.5368e-06,  1.5368e-06],\n",
       "          [ 1.6076e-06,  1.6076e-06],\n",
       "          [ 1.8400e-06,  1.8400e-06],\n",
       "          [ 1.4340e-06,  1.4340e-06],\n",
       "          [ 2.6698e-06,  2.6698e-06],\n",
       "          [ 1.1433e-06,  1.1433e-06],\n",
       "          [ 1.8871e-06,  1.8871e-06],\n",
       "          [ 1.6969e-06,  1.6969e-06],\n",
       "          [ 1.6893e-06,  1.6893e-06],\n",
       "          [ 2.1393e-06,  2.1393e-06]]], grad_fn=<AddBackward0>))"
      ]
     },
     "execution_count": 76,
     "metadata": {},
     "output_type": "execute_result"
    }
   ],
   "source": [
    "e = e_src + e_dst            # [M,M,H\n",
    "e.size(), e"
   ]
  },
  {
   "cell_type": "code",
   "execution_count": 77,
   "id": "c0006e98-1484-4816-995b-dad6c44e4b61",
   "metadata": {},
   "outputs": [
    {
     "data": {
      "text/plain": [
       "(torch.Size([2, 1]),\n",
       " Parameter containing:\n",
       " tensor([[0.0500],\n",
       "         [0.0400]], requires_grad=True))"
      ]
     },
     "execution_count": 77,
     "metadata": {},
     "output_type": "execute_result"
    }
   ],
   "source": [
    "##### inject edge sign into scores (learnable per-head coefficient)\n",
    "\n",
    "gat2_attn_sign = nn.Parameter(torch.zeros(heads, 1)) \n",
    "with torch.no_grad(): \n",
    "    sign_pattern = torch.tensor([[0.05],[0.04]])\n",
    "    gat2_attn_sign.copy_(sign_pattern)\n",
    "gat2_attn_sign.size(), gat2_attn_sign  # learnable sign term per head"
   ]
  },
  {
   "cell_type": "code",
   "execution_count": 78,
   "id": "83282051-d09b-495f-83af-4064002fef6d",
   "metadata": {},
   "outputs": [
    {
     "data": {
      "text/plain": [
       "(torch.Size([12, 12, 2]),\n",
       " tensor([[[ 0.0500,  0.0400],\n",
       "          [ 0.0000,  0.0000],\n",
       "          [ 0.0000,  0.0000],\n",
       "          [ 0.0000,  0.0000],\n",
       "          [ 0.0500,  0.0400],\n",
       "          [-0.0500, -0.0400],\n",
       "          [ 0.0000,  0.0000],\n",
       "          [ 0.0000,  0.0000],\n",
       "          [ 0.0000,  0.0000],\n",
       "          [ 0.0000,  0.0000],\n",
       "          [ 0.0000,  0.0000],\n",
       "          [ 0.0000,  0.0000]],\n",
       " \n",
       "         [[ 0.0000,  0.0000],\n",
       "          [ 0.0500,  0.0400],\n",
       "          [ 0.0000,  0.0000],\n",
       "          [ 0.0000,  0.0000],\n",
       "          [ 0.0500,  0.0400],\n",
       "          [-0.0500, -0.0400],\n",
       "          [ 0.0000,  0.0000],\n",
       "          [ 0.0000,  0.0000],\n",
       "          [ 0.0000,  0.0000],\n",
       "          [ 0.0000,  0.0000],\n",
       "          [ 0.0000,  0.0000],\n",
       "          [ 0.0000,  0.0000]],\n",
       " \n",
       "         [[ 0.0000,  0.0000],\n",
       "          [ 0.0000,  0.0000],\n",
       "          [ 0.0500,  0.0400],\n",
       "          [ 0.0000,  0.0000],\n",
       "          [ 0.0500,  0.0400],\n",
       "          [-0.0500, -0.0400],\n",
       "          [ 0.0000,  0.0000],\n",
       "          [ 0.0000,  0.0000],\n",
       "          [ 0.0000,  0.0000],\n",
       "          [ 0.0000,  0.0000],\n",
       "          [ 0.0000,  0.0000],\n",
       "          [ 0.0000,  0.0000]],\n",
       " \n",
       "         [[ 0.0000,  0.0000],\n",
       "          [ 0.0000,  0.0000],\n",
       "          [ 0.0000,  0.0000],\n",
       "          [ 0.0500,  0.0400],\n",
       "          [-0.0500, -0.0400],\n",
       "          [ 0.0500,  0.0400],\n",
       "          [ 0.0000,  0.0000],\n",
       "          [ 0.0000,  0.0000],\n",
       "          [ 0.0000,  0.0000],\n",
       "          [ 0.0000,  0.0000],\n",
       "          [ 0.0000,  0.0000],\n",
       "          [ 0.0000,  0.0000]],\n",
       " \n",
       "         [[ 0.0500,  0.0400],\n",
       "          [ 0.0500,  0.0400],\n",
       "          [ 0.0500,  0.0400],\n",
       "          [-0.0500, -0.0400],\n",
       "          [ 0.0500,  0.0400],\n",
       "          [ 0.0000,  0.0000],\n",
       "          [ 0.0000,  0.0000],\n",
       "          [ 0.0000,  0.0000],\n",
       "          [ 0.0000,  0.0000],\n",
       "          [ 0.0000,  0.0000],\n",
       "          [ 0.0000,  0.0000],\n",
       "          [ 0.0000,  0.0000]],\n",
       " \n",
       "         [[-0.0500, -0.0400],\n",
       "          [-0.0500, -0.0400],\n",
       "          [-0.0500, -0.0400],\n",
       "          [ 0.0500,  0.0400],\n",
       "          [ 0.0000,  0.0000],\n",
       "          [ 0.0500,  0.0400],\n",
       "          [ 0.0000,  0.0000],\n",
       "          [ 0.0000,  0.0000],\n",
       "          [ 0.0000,  0.0000],\n",
       "          [ 0.0000,  0.0000],\n",
       "          [ 0.0000,  0.0000],\n",
       "          [ 0.0000,  0.0000]],\n",
       " \n",
       "         [[ 0.0000,  0.0000],\n",
       "          [ 0.0000,  0.0000],\n",
       "          [ 0.0000,  0.0000],\n",
       "          [ 0.0000,  0.0000],\n",
       "          [ 0.0000,  0.0000],\n",
       "          [ 0.0000,  0.0000],\n",
       "          [ 0.0500,  0.0400],\n",
       "          [ 0.0000,  0.0000],\n",
       "          [ 0.0000,  0.0000],\n",
       "          [ 0.0000,  0.0000],\n",
       "          [ 0.0500,  0.0400],\n",
       "          [ 0.0500,  0.0400]],\n",
       " \n",
       "         [[ 0.0000,  0.0000],\n",
       "          [ 0.0000,  0.0000],\n",
       "          [ 0.0000,  0.0000],\n",
       "          [ 0.0000,  0.0000],\n",
       "          [ 0.0000,  0.0000],\n",
       "          [ 0.0000,  0.0000],\n",
       "          [ 0.0000,  0.0000],\n",
       "          [ 0.0500,  0.0400],\n",
       "          [ 0.0000,  0.0000],\n",
       "          [ 0.0000,  0.0000],\n",
       "          [-0.0500, -0.0400],\n",
       "          [ 0.0500,  0.0400]],\n",
       " \n",
       "         [[ 0.0000,  0.0000],\n",
       "          [ 0.0000,  0.0000],\n",
       "          [ 0.0000,  0.0000],\n",
       "          [ 0.0000,  0.0000],\n",
       "          [ 0.0000,  0.0000],\n",
       "          [ 0.0000,  0.0000],\n",
       "          [ 0.0000,  0.0000],\n",
       "          [ 0.0000,  0.0000],\n",
       "          [ 0.0500,  0.0400],\n",
       "          [ 0.0000,  0.0000],\n",
       "          [ 0.0500,  0.0400],\n",
       "          [-0.0500, -0.0400]],\n",
       " \n",
       "         [[ 0.0000,  0.0000],\n",
       "          [ 0.0000,  0.0000],\n",
       "          [ 0.0000,  0.0000],\n",
       "          [ 0.0000,  0.0000],\n",
       "          [ 0.0000,  0.0000],\n",
       "          [ 0.0000,  0.0000],\n",
       "          [ 0.0000,  0.0000],\n",
       "          [ 0.0000,  0.0000],\n",
       "          [ 0.0000,  0.0000],\n",
       "          [ 0.0500,  0.0400],\n",
       "          [-0.0500, -0.0400],\n",
       "          [ 0.0500,  0.0400]],\n",
       " \n",
       "         [[ 0.0000,  0.0000],\n",
       "          [ 0.0000,  0.0000],\n",
       "          [ 0.0000,  0.0000],\n",
       "          [ 0.0000,  0.0000],\n",
       "          [ 0.0000,  0.0000],\n",
       "          [ 0.0000,  0.0000],\n",
       "          [ 0.0500,  0.0400],\n",
       "          [-0.0500, -0.0400],\n",
       "          [ 0.0500,  0.0400],\n",
       "          [-0.0500, -0.0400],\n",
       "          [ 0.0500,  0.0400],\n",
       "          [ 0.0000,  0.0000]],\n",
       " \n",
       "         [[ 0.0000,  0.0000],\n",
       "          [ 0.0000,  0.0000],\n",
       "          [ 0.0000,  0.0000],\n",
       "          [ 0.0000,  0.0000],\n",
       "          [ 0.0000,  0.0000],\n",
       "          [ 0.0000,  0.0000],\n",
       "          [ 0.0500,  0.0400],\n",
       "          [ 0.0500,  0.0400],\n",
       "          [-0.0500, -0.0400],\n",
       "          [ 0.0500,  0.0400],\n",
       "          [ 0.0000,  0.0000],\n",
       "          [ 0.0500,  0.0400]]], grad_fn=<MulBackward0>))"
      ]
     },
     "execution_count": 78,
     "metadata": {},
     "output_type": "execute_result"
    }
   ],
   "source": [
    "e_sig_a = signed_a * gat2_attn_sign.view(1, 1, -1) # [M,M,H]\n",
    "e_sig_a.size(), e_sig_a"
   ]
  },
  {
   "cell_type": "code",
   "execution_count": 79,
   "id": "fe04039b-1c85-46d7-beb9-53d361f82933",
   "metadata": {},
   "outputs": [
    {
     "data": {
      "text/plain": [
       "(torch.Size([12, 12, 2]),\n",
       " tensor([[[ 5.0000e-02,  4.0000e-02],\n",
       "          [ 2.1112e-07,  2.1112e-07],\n",
       "          [ 1.2283e-07,  1.2283e-07],\n",
       "          [ 1.9361e-07,  1.9361e-07],\n",
       "          [ 5.0000e-02,  4.0000e-02],\n",
       "          [-5.0000e-02, -4.0000e-02],\n",
       "          [ 1.2559e-06,  1.2559e-06],\n",
       "          [-2.7066e-07, -2.7066e-07],\n",
       "          [ 4.7312e-07,  4.7312e-07],\n",
       "          [ 2.8299e-07,  2.8299e-07],\n",
       "          [ 2.7539e-07,  2.7539e-07],\n",
       "          [ 7.2536e-07,  7.2536e-07]],\n",
       " \n",
       "         [[ 3.9319e-07,  3.9319e-07],\n",
       "          [ 5.0001e-02,  4.0001e-02],\n",
       "          [ 8.5113e-07,  8.5113e-07],\n",
       "          [ 9.2191e-07,  9.2191e-07],\n",
       "          [ 5.0001e-02,  4.0001e-02],\n",
       "          [-4.9999e-02, -3.9999e-02],\n",
       "          [ 1.9841e-06,  1.9841e-06],\n",
       "          [ 4.5764e-07,  4.5764e-07],\n",
       "          [ 1.2014e-06,  1.2014e-06],\n",
       "          [ 1.0113e-06,  1.0113e-06],\n",
       "          [ 1.0037e-06,  1.0037e-06],\n",
       "          [ 1.4537e-06,  1.4537e-06]],\n",
       " \n",
       "         [[ 2.7547e-07,  2.7547e-07],\n",
       "          [ 8.2170e-07,  8.2170e-07],\n",
       "          [ 5.0001e-02,  4.0001e-02],\n",
       "          [ 8.0419e-07,  8.0419e-07],\n",
       "          [ 5.0001e-02,  4.0001e-02],\n",
       "          [-4.9999e-02, -3.9999e-02],\n",
       "          [ 1.8664e-06,  1.8664e-06],\n",
       "          [ 3.3992e-07,  3.3992e-07],\n",
       "          [ 1.0837e-06,  1.0837e-06],\n",
       "          [ 8.9357e-07,  8.9357e-07],\n",
       "          [ 8.8597e-07,  8.8597e-07],\n",
       "          [ 1.3359e-06,  1.3359e-06]],\n",
       " \n",
       "         [[ 3.6985e-07,  3.6985e-07],\n",
       "          [ 9.1607e-07,  9.1607e-07],\n",
       "          [ 8.2778e-07,  8.2778e-07],\n",
       "          [ 5.0001e-02,  4.0001e-02],\n",
       "          [-4.9999e-02, -3.9999e-02],\n",
       "          [ 5.0001e-02,  4.0001e-02],\n",
       "          [ 1.9608e-06,  1.9608e-06],\n",
       "          [ 4.3429e-07,  4.3429e-07],\n",
       "          [ 1.1781e-06,  1.1781e-06],\n",
       "          [ 9.8795e-07,  9.8795e-07],\n",
       "          [ 9.8034e-07,  9.8034e-07],\n",
       "          [ 1.4303e-06,  1.4303e-06]],\n",
       " \n",
       "         [[ 5.0001e-02,  4.0001e-02],\n",
       "          [ 5.0001e-02,  4.0001e-02],\n",
       "          [ 5.0001e-02,  4.0001e-02],\n",
       "          [-4.9999e-02, -3.9999e-02],\n",
       "          [ 5.0001e-02,  4.0001e-02],\n",
       "          [ 1.0349e-06,  1.0349e-06],\n",
       "          [ 2.2707e-06,  2.2707e-06],\n",
       "          [ 7.4415e-07,  7.4415e-07],\n",
       "          [ 1.4879e-06,  1.4879e-06],\n",
       "          [ 1.2978e-06,  1.2978e-06],\n",
       "          [ 1.2902e-06,  1.2902e-06],\n",
       "          [ 1.7402e-06,  1.7402e-06]],\n",
       " \n",
       "         [[-5.0000e-02, -4.0000e-02],\n",
       "          [-4.9999e-02, -3.9999e-02],\n",
       "          [-4.9999e-02, -3.9999e-02],\n",
       "          [ 5.0001e-02,  4.0001e-02],\n",
       "          [ 8.9959e-07,  8.9959e-07],\n",
       "          [ 5.0000e-02,  4.0000e-02],\n",
       "          [ 1.7294e-06,  1.7294e-06],\n",
       "          [ 2.0292e-07,  2.0292e-07],\n",
       "          [ 9.4670e-07,  9.4670e-07],\n",
       "          [ 7.5657e-07,  7.5657e-07],\n",
       "          [ 7.4897e-07,  7.4897e-07],\n",
       "          [ 1.1989e-06,  1.1989e-06]],\n",
       " \n",
       "         [[ 1.7862e-06,  1.7862e-06],\n",
       "          [ 2.3324e-06,  2.3324e-06],\n",
       "          [ 2.2441e-06,  2.2441e-06],\n",
       "          [ 2.3149e-06,  2.3149e-06],\n",
       "          [ 2.5473e-06,  2.5473e-06],\n",
       "          [ 2.1414e-06,  2.1414e-06],\n",
       "          [ 5.0003e-02,  4.0003e-02],\n",
       "          [ 1.8506e-06,  1.8506e-06],\n",
       "          [ 2.5944e-06,  2.5944e-06],\n",
       "          [ 2.4043e-06,  2.4043e-06],\n",
       "          [ 5.0002e-02,  4.0002e-02],\n",
       "          [ 5.0003e-02,  4.0003e-02]],\n",
       " \n",
       "         [[-2.4918e-07, -2.4918e-07],\n",
       "          [ 2.9704e-07,  2.9704e-07],\n",
       "          [ 2.0876e-07,  2.0876e-07],\n",
       "          [ 2.7954e-07,  2.7954e-07],\n",
       "          [ 5.1193e-07,  5.1193e-07],\n",
       "          [ 1.0601e-07,  1.0601e-07],\n",
       "          [ 1.3418e-06,  1.3418e-06],\n",
       "          [ 5.0000e-02,  4.0000e-02],\n",
       "          [ 5.5904e-07,  5.5904e-07],\n",
       "          [ 3.6892e-07,  3.6892e-07],\n",
       "          [-5.0000e-02, -4.0000e-02],\n",
       "          [ 5.0001e-02,  4.0001e-02]],\n",
       " \n",
       "         [[ 7.4252e-07,  7.4252e-07],\n",
       "          [ 1.2887e-06,  1.2887e-06],\n",
       "          [ 1.2005e-06,  1.2005e-06],\n",
       "          [ 1.2712e-06,  1.2712e-06],\n",
       "          [ 1.5036e-06,  1.5036e-06],\n",
       "          [ 1.0977e-06,  1.0977e-06],\n",
       "          [ 2.3335e-06,  2.3335e-06],\n",
       "          [ 8.0697e-07,  8.0697e-07],\n",
       "          [ 5.0002e-02,  4.0002e-02],\n",
       "          [ 1.3606e-06,  1.3606e-06],\n",
       "          [ 5.0001e-02,  4.0001e-02],\n",
       "          [-4.9998e-02, -3.9998e-02]],\n",
       " \n",
       "         [[ 4.8902e-07,  4.8902e-07],\n",
       "          [ 1.0352e-06,  1.0352e-06],\n",
       "          [ 9.4696e-07,  9.4696e-07],\n",
       "          [ 1.0177e-06,  1.0177e-06],\n",
       "          [ 1.2501e-06,  1.2501e-06],\n",
       "          [ 8.4421e-07,  8.4421e-07],\n",
       "          [ 2.0800e-06,  2.0800e-06],\n",
       "          [ 5.5347e-07,  5.5347e-07],\n",
       "          [ 1.2972e-06,  1.2972e-06],\n",
       "          [ 5.0001e-02,  4.0001e-02],\n",
       "          [-4.9999e-02, -3.9999e-02],\n",
       "          [ 5.0002e-02,  4.0002e-02]],\n",
       " \n",
       "         [[ 4.7889e-07,  4.7889e-07],\n",
       "          [ 1.0251e-06,  1.0251e-06],\n",
       "          [ 9.3682e-07,  9.3682e-07],\n",
       "          [ 1.0076e-06,  1.0076e-06],\n",
       "          [ 1.2400e-06,  1.2400e-06],\n",
       "          [ 8.3407e-07,  8.3407e-07],\n",
       "          [ 5.0002e-02,  4.0002e-02],\n",
       "          [-4.9999e-02, -3.9999e-02],\n",
       "          [ 5.0001e-02,  4.0001e-02],\n",
       "          [-4.9999e-02, -3.9999e-02],\n",
       "          [ 5.0001e-02,  4.0001e-02],\n",
       "          [ 1.5393e-06,  1.5393e-06]],\n",
       " \n",
       "         [[ 1.0788e-06,  1.0788e-06],\n",
       "          [ 1.6251e-06,  1.6251e-06],\n",
       "          [ 1.5368e-06,  1.5368e-06],\n",
       "          [ 1.6076e-06,  1.6076e-06],\n",
       "          [ 1.8400e-06,  1.8400e-06],\n",
       "          [ 1.4340e-06,  1.4340e-06],\n",
       "          [ 5.0003e-02,  4.0003e-02],\n",
       "          [ 5.0001e-02,  4.0001e-02],\n",
       "          [-4.9998e-02, -3.9998e-02],\n",
       "          [ 5.0002e-02,  4.0002e-02],\n",
       "          [ 1.6893e-06,  1.6893e-06],\n",
       "          [ 5.0002e-02,  4.0002e-02]]], grad_fn=<AddBackward0>))"
      ]
     },
     "execution_count": 79,
     "metadata": {},
     "output_type": "execute_result"
    }
   ],
   "source": [
    "e = e + e_sig_a \n",
    "e.size(), e      # [M,M,H]"
   ]
  },
  {
   "cell_type": "code",
   "execution_count": 80,
   "id": "c1b6438e-21b1-490c-b178-c4371d3ebf69",
   "metadata": {},
   "outputs": [
    {
     "data": {
      "text/plain": [
       "(torch.Size([12, 12, 2]),\n",
       " tensor([[[ 5.0000e-02,  4.0000e-02],\n",
       "          [ 2.1112e-07,  2.1112e-07],\n",
       "          [ 1.2283e-07,  1.2283e-07],\n",
       "          [ 1.9361e-07,  1.9361e-07],\n",
       "          [ 5.0000e-02,  4.0000e-02],\n",
       "          [-1.0000e-02, -8.0000e-03],\n",
       "          [ 1.2559e-06,  1.2559e-06],\n",
       "          [-5.4132e-08, -5.4132e-08],\n",
       "          [ 4.7312e-07,  4.7312e-07],\n",
       "          [ 2.8299e-07,  2.8299e-07],\n",
       "          [ 2.7539e-07,  2.7539e-07],\n",
       "          [ 7.2536e-07,  7.2536e-07]],\n",
       " \n",
       "         [[ 3.9319e-07,  3.9319e-07],\n",
       "          [ 5.0001e-02,  4.0001e-02],\n",
       "          [ 8.5113e-07,  8.5113e-07],\n",
       "          [ 9.2191e-07,  9.2191e-07],\n",
       "          [ 5.0001e-02,  4.0001e-02],\n",
       "          [-9.9999e-03, -7.9999e-03],\n",
       "          [ 1.9841e-06,  1.9841e-06],\n",
       "          [ 4.5764e-07,  4.5764e-07],\n",
       "          [ 1.2014e-06,  1.2014e-06],\n",
       "          [ 1.0113e-06,  1.0113e-06],\n",
       "          [ 1.0037e-06,  1.0037e-06],\n",
       "          [ 1.4537e-06,  1.4537e-06]],\n",
       " \n",
       "         [[ 2.7547e-07,  2.7547e-07],\n",
       "          [ 8.2170e-07,  8.2170e-07],\n",
       "          [ 5.0001e-02,  4.0001e-02],\n",
       "          [ 8.0419e-07,  8.0419e-07],\n",
       "          [ 5.0001e-02,  4.0001e-02],\n",
       "          [-9.9999e-03, -7.9999e-03],\n",
       "          [ 1.8664e-06,  1.8664e-06],\n",
       "          [ 3.3992e-07,  3.3992e-07],\n",
       "          [ 1.0837e-06,  1.0837e-06],\n",
       "          [ 8.9357e-07,  8.9357e-07],\n",
       "          [ 8.8597e-07,  8.8597e-07],\n",
       "          [ 1.3359e-06,  1.3359e-06]],\n",
       " \n",
       "         [[ 3.6985e-07,  3.6985e-07],\n",
       "          [ 9.1607e-07,  9.1607e-07],\n",
       "          [ 8.2778e-07,  8.2778e-07],\n",
       "          [ 5.0001e-02,  4.0001e-02],\n",
       "          [-9.9998e-03, -7.9998e-03],\n",
       "          [ 5.0001e-02,  4.0001e-02],\n",
       "          [ 1.9608e-06,  1.9608e-06],\n",
       "          [ 4.3429e-07,  4.3429e-07],\n",
       "          [ 1.1781e-06,  1.1781e-06],\n",
       "          [ 9.8795e-07,  9.8795e-07],\n",
       "          [ 9.8034e-07,  9.8034e-07],\n",
       "          [ 1.4303e-06,  1.4303e-06]],\n",
       " \n",
       "         [[ 5.0001e-02,  4.0001e-02],\n",
       "          [ 5.0001e-02,  4.0001e-02],\n",
       "          [ 5.0001e-02,  4.0001e-02],\n",
       "          [-9.9998e-03, -7.9998e-03],\n",
       "          [ 5.0001e-02,  4.0001e-02],\n",
       "          [ 1.0349e-06,  1.0349e-06],\n",
       "          [ 2.2707e-06,  2.2707e-06],\n",
       "          [ 7.4415e-07,  7.4415e-07],\n",
       "          [ 1.4879e-06,  1.4879e-06],\n",
       "          [ 1.2978e-06,  1.2978e-06],\n",
       "          [ 1.2902e-06,  1.2902e-06],\n",
       "          [ 1.7402e-06,  1.7402e-06]],\n",
       " \n",
       "         [[-1.0000e-02, -8.0000e-03],\n",
       "          [-9.9999e-03, -7.9999e-03],\n",
       "          [-9.9999e-03, -7.9999e-03],\n",
       "          [ 5.0001e-02,  4.0001e-02],\n",
       "          [ 8.9959e-07,  8.9959e-07],\n",
       "          [ 5.0000e-02,  4.0000e-02],\n",
       "          [ 1.7294e-06,  1.7294e-06],\n",
       "          [ 2.0292e-07,  2.0292e-07],\n",
       "          [ 9.4670e-07,  9.4670e-07],\n",
       "          [ 7.5657e-07,  7.5657e-07],\n",
       "          [ 7.4897e-07,  7.4897e-07],\n",
       "          [ 1.1989e-06,  1.1989e-06]],\n",
       " \n",
       "         [[ 1.7862e-06,  1.7862e-06],\n",
       "          [ 2.3324e-06,  2.3324e-06],\n",
       "          [ 2.2441e-06,  2.2441e-06],\n",
       "          [ 2.3149e-06,  2.3149e-06],\n",
       "          [ 2.5473e-06,  2.5473e-06],\n",
       "          [ 2.1414e-06,  2.1414e-06],\n",
       "          [ 5.0003e-02,  4.0003e-02],\n",
       "          [ 1.8506e-06,  1.8506e-06],\n",
       "          [ 2.5944e-06,  2.5944e-06],\n",
       "          [ 2.4043e-06,  2.4043e-06],\n",
       "          [ 5.0002e-02,  4.0002e-02],\n",
       "          [ 5.0003e-02,  4.0003e-02]],\n",
       " \n",
       "         [[-4.9836e-08, -4.9836e-08],\n",
       "          [ 2.9704e-07,  2.9704e-07],\n",
       "          [ 2.0876e-07,  2.0876e-07],\n",
       "          [ 2.7954e-07,  2.7954e-07],\n",
       "          [ 5.1193e-07,  5.1193e-07],\n",
       "          [ 1.0601e-07,  1.0601e-07],\n",
       "          [ 1.3418e-06,  1.3418e-06],\n",
       "          [ 5.0000e-02,  4.0000e-02],\n",
       "          [ 5.5904e-07,  5.5904e-07],\n",
       "          [ 3.6892e-07,  3.6892e-07],\n",
       "          [-9.9999e-03, -7.9999e-03],\n",
       "          [ 5.0001e-02,  4.0001e-02]],\n",
       " \n",
       "         [[ 7.4252e-07,  7.4252e-07],\n",
       "          [ 1.2887e-06,  1.2887e-06],\n",
       "          [ 1.2005e-06,  1.2005e-06],\n",
       "          [ 1.2712e-06,  1.2712e-06],\n",
       "          [ 1.5036e-06,  1.5036e-06],\n",
       "          [ 1.0977e-06,  1.0977e-06],\n",
       "          [ 2.3335e-06,  2.3335e-06],\n",
       "          [ 8.0697e-07,  8.0697e-07],\n",
       "          [ 5.0002e-02,  4.0002e-02],\n",
       "          [ 1.3606e-06,  1.3606e-06],\n",
       "          [ 5.0001e-02,  4.0001e-02],\n",
       "          [-9.9996e-03, -7.9996e-03]],\n",
       " \n",
       "         [[ 4.8902e-07,  4.8902e-07],\n",
       "          [ 1.0352e-06,  1.0352e-06],\n",
       "          [ 9.4696e-07,  9.4696e-07],\n",
       "          [ 1.0177e-06,  1.0177e-06],\n",
       "          [ 1.2501e-06,  1.2501e-06],\n",
       "          [ 8.4421e-07,  8.4421e-07],\n",
       "          [ 2.0800e-06,  2.0800e-06],\n",
       "          [ 5.5347e-07,  5.5347e-07],\n",
       "          [ 1.2972e-06,  1.2972e-06],\n",
       "          [ 5.0001e-02,  4.0001e-02],\n",
       "          [-9.9998e-03, -7.9998e-03],\n",
       "          [ 5.0002e-02,  4.0002e-02]],\n",
       " \n",
       "         [[ 4.7889e-07,  4.7889e-07],\n",
       "          [ 1.0251e-06,  1.0251e-06],\n",
       "          [ 9.3682e-07,  9.3682e-07],\n",
       "          [ 1.0076e-06,  1.0076e-06],\n",
       "          [ 1.2400e-06,  1.2400e-06],\n",
       "          [ 8.3407e-07,  8.3407e-07],\n",
       "          [ 5.0002e-02,  4.0002e-02],\n",
       "          [-9.9999e-03, -7.9999e-03],\n",
       "          [ 5.0001e-02,  4.0001e-02],\n",
       "          [-9.9998e-03, -7.9998e-03],\n",
       "          [ 5.0001e-02,  4.0001e-02],\n",
       "          [ 1.5393e-06,  1.5393e-06]],\n",
       " \n",
       "         [[ 1.0788e-06,  1.0788e-06],\n",
       "          [ 1.6251e-06,  1.6251e-06],\n",
       "          [ 1.5368e-06,  1.5368e-06],\n",
       "          [ 1.6076e-06,  1.6076e-06],\n",
       "          [ 1.8400e-06,  1.8400e-06],\n",
       "          [ 1.4340e-06,  1.4340e-06],\n",
       "          [ 5.0003e-02,  4.0003e-02],\n",
       "          [ 5.0001e-02,  4.0001e-02],\n",
       "          [-9.9996e-03, -7.9996e-03],\n",
       "          [ 5.0002e-02,  4.0002e-02],\n",
       "          [ 1.6893e-06,  1.6893e-06],\n",
       "          [ 5.0002e-02,  4.0002e-02]]], grad_fn=<LeakyReluBackward1>))"
      ]
     },
     "execution_count": 80,
     "metadata": {},
     "output_type": "execute_result"
    }
   ],
   "source": [
    "##### regularization\n",
    "gat2_attn_lrelu = nn.LeakyReLU(0.2, inplace=True)\n",
    "e = gat2_attn_lrelu(e)                         # LeakyReLU\n",
    "e.size(), e\n"
   ]
  },
  {
   "cell_type": "code",
   "execution_count": 81,
   "id": "4993eedb-9c24-43e6-909a-ac22f88e3156",
   "metadata": {},
   "outputs": [
    {
     "data": {
      "text/plain": [
       "(torch.Size([12, 12, 2]),\n",
       " tensor([[[ 0.0500,  0.0400],\n",
       "          [   -inf,    -inf],\n",
       "          [   -inf,    -inf],\n",
       "          [   -inf,    -inf],\n",
       "          [ 0.0500,  0.0400],\n",
       "          [-0.0100, -0.0080],\n",
       "          [   -inf,    -inf],\n",
       "          [   -inf,    -inf],\n",
       "          [   -inf,    -inf],\n",
       "          [   -inf,    -inf],\n",
       "          [   -inf,    -inf],\n",
       "          [   -inf,    -inf]],\n",
       " \n",
       "         [[   -inf,    -inf],\n",
       "          [ 0.0500,  0.0400],\n",
       "          [   -inf,    -inf],\n",
       "          [   -inf,    -inf],\n",
       "          [ 0.0500,  0.0400],\n",
       "          [-0.0100, -0.0080],\n",
       "          [   -inf,    -inf],\n",
       "          [   -inf,    -inf],\n",
       "          [   -inf,    -inf],\n",
       "          [   -inf,    -inf],\n",
       "          [   -inf,    -inf],\n",
       "          [   -inf,    -inf]],\n",
       " \n",
       "         [[   -inf,    -inf],\n",
       "          [   -inf,    -inf],\n",
       "          [ 0.0500,  0.0400],\n",
       "          [   -inf,    -inf],\n",
       "          [ 0.0500,  0.0400],\n",
       "          [-0.0100, -0.0080],\n",
       "          [   -inf,    -inf],\n",
       "          [   -inf,    -inf],\n",
       "          [   -inf,    -inf],\n",
       "          [   -inf,    -inf],\n",
       "          [   -inf,    -inf],\n",
       "          [   -inf,    -inf]],\n",
       " \n",
       "         [[   -inf,    -inf],\n",
       "          [   -inf,    -inf],\n",
       "          [   -inf,    -inf],\n",
       "          [ 0.0500,  0.0400],\n",
       "          [-0.0100, -0.0080],\n",
       "          [ 0.0500,  0.0400],\n",
       "          [   -inf,    -inf],\n",
       "          [   -inf,    -inf],\n",
       "          [   -inf,    -inf],\n",
       "          [   -inf,    -inf],\n",
       "          [   -inf,    -inf],\n",
       "          [   -inf,    -inf]],\n",
       " \n",
       "         [[ 0.0500,  0.0400],\n",
       "          [ 0.0500,  0.0400],\n",
       "          [ 0.0500,  0.0400],\n",
       "          [-0.0100, -0.0080],\n",
       "          [ 0.0500,  0.0400],\n",
       "          [   -inf,    -inf],\n",
       "          [   -inf,    -inf],\n",
       "          [   -inf,    -inf],\n",
       "          [   -inf,    -inf],\n",
       "          [   -inf,    -inf],\n",
       "          [   -inf,    -inf],\n",
       "          [   -inf,    -inf]],\n",
       " \n",
       "         [[-0.0100, -0.0080],\n",
       "          [-0.0100, -0.0080],\n",
       "          [-0.0100, -0.0080],\n",
       "          [ 0.0500,  0.0400],\n",
       "          [   -inf,    -inf],\n",
       "          [ 0.0500,  0.0400],\n",
       "          [   -inf,    -inf],\n",
       "          [   -inf,    -inf],\n",
       "          [   -inf,    -inf],\n",
       "          [   -inf,    -inf],\n",
       "          [   -inf,    -inf],\n",
       "          [   -inf,    -inf]],\n",
       " \n",
       "         [[   -inf,    -inf],\n",
       "          [   -inf,    -inf],\n",
       "          [   -inf,    -inf],\n",
       "          [   -inf,    -inf],\n",
       "          [   -inf,    -inf],\n",
       "          [   -inf,    -inf],\n",
       "          [ 0.0500,  0.0400],\n",
       "          [   -inf,    -inf],\n",
       "          [   -inf,    -inf],\n",
       "          [   -inf,    -inf],\n",
       "          [ 0.0500,  0.0400],\n",
       "          [ 0.0500,  0.0400]],\n",
       " \n",
       "         [[   -inf,    -inf],\n",
       "          [   -inf,    -inf],\n",
       "          [   -inf,    -inf],\n",
       "          [   -inf,    -inf],\n",
       "          [   -inf,    -inf],\n",
       "          [   -inf,    -inf],\n",
       "          [   -inf,    -inf],\n",
       "          [ 0.0500,  0.0400],\n",
       "          [   -inf,    -inf],\n",
       "          [   -inf,    -inf],\n",
       "          [-0.0100, -0.0080],\n",
       "          [ 0.0500,  0.0400]],\n",
       " \n",
       "         [[   -inf,    -inf],\n",
       "          [   -inf,    -inf],\n",
       "          [   -inf,    -inf],\n",
       "          [   -inf,    -inf],\n",
       "          [   -inf,    -inf],\n",
       "          [   -inf,    -inf],\n",
       "          [   -inf,    -inf],\n",
       "          [   -inf,    -inf],\n",
       "          [ 0.0500,  0.0400],\n",
       "          [   -inf,    -inf],\n",
       "          [ 0.0500,  0.0400],\n",
       "          [-0.0100, -0.0080]],\n",
       " \n",
       "         [[   -inf,    -inf],\n",
       "          [   -inf,    -inf],\n",
       "          [   -inf,    -inf],\n",
       "          [   -inf,    -inf],\n",
       "          [   -inf,    -inf],\n",
       "          [   -inf,    -inf],\n",
       "          [   -inf,    -inf],\n",
       "          [   -inf,    -inf],\n",
       "          [   -inf,    -inf],\n",
       "          [ 0.0500,  0.0400],\n",
       "          [-0.0100, -0.0080],\n",
       "          [ 0.0500,  0.0400]],\n",
       " \n",
       "         [[   -inf,    -inf],\n",
       "          [   -inf,    -inf],\n",
       "          [   -inf,    -inf],\n",
       "          [   -inf,    -inf],\n",
       "          [   -inf,    -inf],\n",
       "          [   -inf,    -inf],\n",
       "          [ 0.0500,  0.0400],\n",
       "          [-0.0100, -0.0080],\n",
       "          [ 0.0500,  0.0400],\n",
       "          [-0.0100, -0.0080],\n",
       "          [ 0.0500,  0.0400],\n",
       "          [   -inf,    -inf]],\n",
       " \n",
       "         [[   -inf,    -inf],\n",
       "          [   -inf,    -inf],\n",
       "          [   -inf,    -inf],\n",
       "          [   -inf,    -inf],\n",
       "          [   -inf,    -inf],\n",
       "          [   -inf,    -inf],\n",
       "          [ 0.0500,  0.0400],\n",
       "          [ 0.0500,  0.0400],\n",
       "          [-0.0100, -0.0080],\n",
       "          [ 0.0500,  0.0400],\n",
       "          [   -inf,    -inf],\n",
       "          [ 0.0500,  0.0400]]], grad_fn=<MaskedFillBackward0>))"
      ]
     },
     "execution_count": 81,
     "metadata": {},
     "output_type": "execute_result"
    }
   ],
   "source": [
    "e = e.masked_fill(~mask.unsqueeze(-1), float('-inf')) #[M,M,H]\n",
    "e.size(), e"
   ]
  },
  {
   "cell_type": "code",
   "execution_count": 82,
   "id": "4e89a2bc-d0ae-4a76-b32b-d66261d43b84",
   "metadata": {},
   "outputs": [
    {
     "data": {
      "text/plain": [
       "(torch.Size([12, 12, 2]),\n",
       " tensor([[[0.3399, 0.3386],\n",
       "          [0.0000, 0.0000],\n",
       "          [0.0000, 0.0000],\n",
       "          [0.0000, 0.0000],\n",
       "          [0.3399, 0.3386],\n",
       "          [0.3201, 0.3228],\n",
       "          [0.0000, 0.0000],\n",
       "          [0.0000, 0.0000],\n",
       "          [0.0000, 0.0000],\n",
       "          [0.0000, 0.0000],\n",
       "          [0.0000, 0.0000],\n",
       "          [0.0000, 0.0000]],\n",
       " \n",
       "         [[0.0000, 0.0000],\n",
       "          [0.3399, 0.3386],\n",
       "          [0.0000, 0.0000],\n",
       "          [0.0000, 0.0000],\n",
       "          [0.3399, 0.3386],\n",
       "          [0.3201, 0.3228],\n",
       "          [0.0000, 0.0000],\n",
       "          [0.0000, 0.0000],\n",
       "          [0.0000, 0.0000],\n",
       "          [0.0000, 0.0000],\n",
       "          [0.0000, 0.0000],\n",
       "          [0.0000, 0.0000]],\n",
       " \n",
       "         [[0.0000, 0.0000],\n",
       "          [0.0000, 0.0000],\n",
       "          [0.3399, 0.3386],\n",
       "          [0.0000, 0.0000],\n",
       "          [0.3399, 0.3386],\n",
       "          [0.3201, 0.3228],\n",
       "          [0.0000, 0.0000],\n",
       "          [0.0000, 0.0000],\n",
       "          [0.0000, 0.0000],\n",
       "          [0.0000, 0.0000],\n",
       "          [0.0000, 0.0000],\n",
       "          [0.0000, 0.0000]],\n",
       " \n",
       "         [[0.0000, 0.0000],\n",
       "          [0.0000, 0.0000],\n",
       "          [0.0000, 0.0000],\n",
       "          [0.3399, 0.3386],\n",
       "          [0.3201, 0.3228],\n",
       "          [0.3399, 0.3386],\n",
       "          [0.0000, 0.0000],\n",
       "          [0.0000, 0.0000],\n",
       "          [0.0000, 0.0000],\n",
       "          [0.0000, 0.0000],\n",
       "          [0.0000, 0.0000],\n",
       "          [0.0000, 0.0000]],\n",
       " \n",
       "         [[0.2024, 0.2019],\n",
       "          [0.2024, 0.2019],\n",
       "          [0.2024, 0.2019],\n",
       "          [0.1906, 0.1924],\n",
       "          [0.2024, 0.2019],\n",
       "          [0.0000, 0.0000],\n",
       "          [0.0000, 0.0000],\n",
       "          [0.0000, 0.0000],\n",
       "          [0.0000, 0.0000],\n",
       "          [0.0000, 0.0000],\n",
       "          [0.0000, 0.0000],\n",
       "          [0.0000, 0.0000]],\n",
       " \n",
       "         [[0.1952, 0.1961],\n",
       "          [0.1952, 0.1961],\n",
       "          [0.1952, 0.1961],\n",
       "          [0.2072, 0.2058],\n",
       "          [0.0000, 0.0000],\n",
       "          [0.2072, 0.2058],\n",
       "          [0.0000, 0.0000],\n",
       "          [0.0000, 0.0000],\n",
       "          [0.0000, 0.0000],\n",
       "          [0.0000, 0.0000],\n",
       "          [0.0000, 0.0000],\n",
       "          [0.0000, 0.0000]],\n",
       " \n",
       "         [[0.0000, 0.0000],\n",
       "          [0.0000, 0.0000],\n",
       "          [0.0000, 0.0000],\n",
       "          [0.0000, 0.0000],\n",
       "          [0.0000, 0.0000],\n",
       "          [0.0000, 0.0000],\n",
       "          [0.3333, 0.3333],\n",
       "          [0.0000, 0.0000],\n",
       "          [0.0000, 0.0000],\n",
       "          [0.0000, 0.0000],\n",
       "          [0.3333, 0.3333],\n",
       "          [0.3333, 0.3333]],\n",
       " \n",
       "         [[0.0000, 0.0000],\n",
       "          [0.0000, 0.0000],\n",
       "          [0.0000, 0.0000],\n",
       "          [0.0000, 0.0000],\n",
       "          [0.0000, 0.0000],\n",
       "          [0.0000, 0.0000],\n",
       "          [0.0000, 0.0000],\n",
       "          [0.3399, 0.3386],\n",
       "          [0.0000, 0.0000],\n",
       "          [0.0000, 0.0000],\n",
       "          [0.3201, 0.3228],\n",
       "          [0.3399, 0.3386]],\n",
       " \n",
       "         [[0.0000, 0.0000],\n",
       "          [0.0000, 0.0000],\n",
       "          [0.0000, 0.0000],\n",
       "          [0.0000, 0.0000],\n",
       "          [0.0000, 0.0000],\n",
       "          [0.0000, 0.0000],\n",
       "          [0.0000, 0.0000],\n",
       "          [0.0000, 0.0000],\n",
       "          [0.3399, 0.3386],\n",
       "          [0.0000, 0.0000],\n",
       "          [0.3399, 0.3386],\n",
       "          [0.3201, 0.3228]],\n",
       " \n",
       "         [[0.0000, 0.0000],\n",
       "          [0.0000, 0.0000],\n",
       "          [0.0000, 0.0000],\n",
       "          [0.0000, 0.0000],\n",
       "          [0.0000, 0.0000],\n",
       "          [0.0000, 0.0000],\n",
       "          [0.0000, 0.0000],\n",
       "          [0.0000, 0.0000],\n",
       "          [0.0000, 0.0000],\n",
       "          [0.3399, 0.3386],\n",
       "          [0.3201, 0.3228],\n",
       "          [0.3399, 0.3386]],\n",
       " \n",
       "         [[0.0000, 0.0000],\n",
       "          [0.0000, 0.0000],\n",
       "          [0.0000, 0.0000],\n",
       "          [0.0000, 0.0000],\n",
       "          [0.0000, 0.0000],\n",
       "          [0.0000, 0.0000],\n",
       "          [0.2048, 0.2038],\n",
       "          [0.1928, 0.1943],\n",
       "          [0.2048, 0.2038],\n",
       "          [0.1928, 0.1943],\n",
       "          [0.2048, 0.2038],\n",
       "          [0.0000, 0.0000]],\n",
       " \n",
       "         [[0.0000, 0.0000],\n",
       "          [0.0000, 0.0000],\n",
       "          [0.0000, 0.0000],\n",
       "          [0.0000, 0.0000],\n",
       "          [0.0000, 0.0000],\n",
       "          [0.0000, 0.0000],\n",
       "          [0.2024, 0.2019],\n",
       "          [0.2024, 0.2019],\n",
       "          [0.1906, 0.1924],\n",
       "          [0.2024, 0.2019],\n",
       "          [0.0000, 0.0000],\n",
       "          [0.2024, 0.2019]]], grad_fn=<SoftmaxBackward0>))"
      ]
     },
     "execution_count": 82,
     "metadata": {},
     "output_type": "execute_result"
    }
   ],
   "source": [
    "alpha = torch.softmax(e, dim=1)             # softmax over source neighbors\n",
    "alpha.size(), alpha"
   ]
  },
  {
   "cell_type": "code",
   "execution_count": 83,
   "id": "f64c01da-4c18-4491-b107-75a0a9503db3",
   "metadata": {},
   "outputs": [
    {
     "data": {
      "text/plain": [
       "(torch.Size([12, 12, 2]),\n",
       " tensor([[[0.3578, 0.3564],\n",
       "          [0.0000, 0.0000],\n",
       "          [0.0000, 0.0000],\n",
       "          [0.0000, 0.0000],\n",
       "          [0.3578, 0.3564],\n",
       "          [0.3370, 0.3397],\n",
       "          [0.0000, 0.0000],\n",
       "          [0.0000, 0.0000],\n",
       "          [0.0000, 0.0000],\n",
       "          [0.0000, 0.0000],\n",
       "          [0.0000, 0.0000],\n",
       "          [0.0000, 0.0000]],\n",
       " \n",
       "         [[0.0000, 0.0000],\n",
       "          [0.3578, 0.3564],\n",
       "          [0.0000, 0.0000],\n",
       "          [0.0000, 0.0000],\n",
       "          [0.3578, 0.3564],\n",
       "          [0.3370, 0.0000],\n",
       "          [0.0000, 0.0000],\n",
       "          [0.0000, 0.0000],\n",
       "          [0.0000, 0.0000],\n",
       "          [0.0000, 0.0000],\n",
       "          [0.0000, 0.0000],\n",
       "          [0.0000, 0.0000]],\n",
       " \n",
       "         [[0.0000, 0.0000],\n",
       "          [0.0000, 0.0000],\n",
       "          [0.3578, 0.0000],\n",
       "          [0.0000, 0.0000],\n",
       "          [0.3578, 0.3564],\n",
       "          [0.3370, 0.3397],\n",
       "          [0.0000, 0.0000],\n",
       "          [0.0000, 0.0000],\n",
       "          [0.0000, 0.0000],\n",
       "          [0.0000, 0.0000],\n",
       "          [0.0000, 0.0000],\n",
       "          [0.0000, 0.0000]],\n",
       " \n",
       "         [[0.0000, 0.0000],\n",
       "          [0.0000, 0.0000],\n",
       "          [0.0000, 0.0000],\n",
       "          [0.3578, 0.3564],\n",
       "          [0.3370, 0.3397],\n",
       "          [0.3578, 0.3564],\n",
       "          [0.0000, 0.0000],\n",
       "          [0.0000, 0.0000],\n",
       "          [0.0000, 0.0000],\n",
       "          [0.0000, 0.0000],\n",
       "          [0.0000, 0.0000],\n",
       "          [0.0000, 0.0000]],\n",
       " \n",
       "         [[0.2130, 0.2125],\n",
       "          [0.2130, 0.2125],\n",
       "          [0.2130, 0.2125],\n",
       "          [0.2006, 0.2026],\n",
       "          [0.2130, 0.2125],\n",
       "          [0.0000, 0.0000],\n",
       "          [0.0000, 0.0000],\n",
       "          [0.0000, 0.0000],\n",
       "          [0.0000, 0.0000],\n",
       "          [0.0000, 0.0000],\n",
       "          [0.0000, 0.0000],\n",
       "          [0.0000, 0.0000]],\n",
       " \n",
       "         [[0.2054, 0.2065],\n",
       "          [0.2054, 0.2065],\n",
       "          [0.2054, 0.2065],\n",
       "          [0.2181, 0.2166],\n",
       "          [0.0000, 0.0000],\n",
       "          [0.2181, 0.0000],\n",
       "          [0.0000, 0.0000],\n",
       "          [0.0000, 0.0000],\n",
       "          [0.0000, 0.0000],\n",
       "          [0.0000, 0.0000],\n",
       "          [0.0000, 0.0000],\n",
       "          [0.0000, 0.0000]],\n",
       " \n",
       "         [[0.0000, 0.0000],\n",
       "          [0.0000, 0.0000],\n",
       "          [0.0000, 0.0000],\n",
       "          [0.0000, 0.0000],\n",
       "          [0.0000, 0.0000],\n",
       "          [0.0000, 0.0000],\n",
       "          [0.3509, 0.3509],\n",
       "          [0.0000, 0.0000],\n",
       "          [0.0000, 0.0000],\n",
       "          [0.0000, 0.0000],\n",
       "          [0.0000, 0.3509],\n",
       "          [0.3509, 0.3509]],\n",
       " \n",
       "         [[0.0000, 0.0000],\n",
       "          [0.0000, 0.0000],\n",
       "          [0.0000, 0.0000],\n",
       "          [0.0000, 0.0000],\n",
       "          [0.0000, 0.0000],\n",
       "          [0.0000, 0.0000],\n",
       "          [0.0000, 0.0000],\n",
       "          [0.3578, 0.3564],\n",
       "          [0.0000, 0.0000],\n",
       "          [0.0000, 0.0000],\n",
       "          [0.3370, 0.3397],\n",
       "          [0.3578, 0.3564]],\n",
       " \n",
       "         [[0.0000, 0.0000],\n",
       "          [0.0000, 0.0000],\n",
       "          [0.0000, 0.0000],\n",
       "          [0.0000, 0.0000],\n",
       "          [0.0000, 0.0000],\n",
       "          [0.0000, 0.0000],\n",
       "          [0.0000, 0.0000],\n",
       "          [0.0000, 0.0000],\n",
       "          [0.3578, 0.3564],\n",
       "          [0.0000, 0.0000],\n",
       "          [0.3578, 0.3564],\n",
       "          [0.3370, 0.3397]],\n",
       " \n",
       "         [[0.0000, 0.0000],\n",
       "          [0.0000, 0.0000],\n",
       "          [0.0000, 0.0000],\n",
       "          [0.0000, 0.0000],\n",
       "          [0.0000, 0.0000],\n",
       "          [0.0000, 0.0000],\n",
       "          [0.0000, 0.0000],\n",
       "          [0.0000, 0.0000],\n",
       "          [0.0000, 0.0000],\n",
       "          [0.3578, 0.3564],\n",
       "          [0.3370, 0.3397],\n",
       "          [0.3578, 0.3564]],\n",
       " \n",
       "         [[0.0000, 0.0000],\n",
       "          [0.0000, 0.0000],\n",
       "          [0.0000, 0.0000],\n",
       "          [0.0000, 0.0000],\n",
       "          [0.0000, 0.0000],\n",
       "          [0.0000, 0.0000],\n",
       "          [0.2155, 0.2145],\n",
       "          [0.2030, 0.2045],\n",
       "          [0.2155, 0.2145],\n",
       "          [0.2030, 0.2045],\n",
       "          [0.2155, 0.2145],\n",
       "          [0.0000, 0.0000]],\n",
       " \n",
       "         [[0.0000, 0.0000],\n",
       "          [0.0000, 0.0000],\n",
       "          [0.0000, 0.0000],\n",
       "          [0.0000, 0.0000],\n",
       "          [0.0000, 0.0000],\n",
       "          [0.0000, 0.0000],\n",
       "          [0.2130, 0.0000],\n",
       "          [0.2130, 0.2125],\n",
       "          [0.2006, 0.2026],\n",
       "          [0.2130, 0.2125],\n",
       "          [0.0000, 0.0000],\n",
       "          [0.2130, 0.2125]]], grad_fn=<MulBackward0>))"
      ]
     },
     "execution_count": 83,
     "metadata": {},
     "output_type": "execute_result"
    }
   ],
   "source": [
    "##### dropout\n",
    "gat2_attn_drop = nn.Dropout(attn_dropout)\n",
    "alpha = gat2_attn_drop(alpha)                # attention dropout\n",
    "alpha.size(), alpha"
   ]
  },
  {
   "cell_type": "code",
   "execution_count": 84,
   "id": "0eb52140-71b9-4218-aa09-37d451b76689",
   "metadata": {},
   "outputs": [
    {
     "data": {
      "text/plain": [
       "(torch.Size([2, 12, 12]),\n",
       " tensor([[[0.3578, 0.0000, 0.0000, 0.0000, 0.3578, 0.3370, 0.0000, 0.0000,\n",
       "           0.0000, 0.0000, 0.0000, 0.0000],\n",
       "          [0.0000, 0.3578, 0.0000, 0.0000, 0.3578, 0.3370, 0.0000, 0.0000,\n",
       "           0.0000, 0.0000, 0.0000, 0.0000],\n",
       "          [0.0000, 0.0000, 0.3578, 0.0000, 0.3578, 0.3370, 0.0000, 0.0000,\n",
       "           0.0000, 0.0000, 0.0000, 0.0000],\n",
       "          [0.0000, 0.0000, 0.0000, 0.3578, 0.3370, 0.3578, 0.0000, 0.0000,\n",
       "           0.0000, 0.0000, 0.0000, 0.0000],\n",
       "          [0.2130, 0.2130, 0.2130, 0.2006, 0.2130, 0.0000, 0.0000, 0.0000,\n",
       "           0.0000, 0.0000, 0.0000, 0.0000],\n",
       "          [0.2054, 0.2054, 0.2054, 0.2181, 0.0000, 0.2181, 0.0000, 0.0000,\n",
       "           0.0000, 0.0000, 0.0000, 0.0000],\n",
       "          [0.0000, 0.0000, 0.0000, 0.0000, 0.0000, 0.0000, 0.3509, 0.0000,\n",
       "           0.0000, 0.0000, 0.0000, 0.3509],\n",
       "          [0.0000, 0.0000, 0.0000, 0.0000, 0.0000, 0.0000, 0.0000, 0.3578,\n",
       "           0.0000, 0.0000, 0.3370, 0.3578],\n",
       "          [0.0000, 0.0000, 0.0000, 0.0000, 0.0000, 0.0000, 0.0000, 0.0000,\n",
       "           0.3578, 0.0000, 0.3578, 0.3370],\n",
       "          [0.0000, 0.0000, 0.0000, 0.0000, 0.0000, 0.0000, 0.0000, 0.0000,\n",
       "           0.0000, 0.3578, 0.3370, 0.3578],\n",
       "          [0.0000, 0.0000, 0.0000, 0.0000, 0.0000, 0.0000, 0.2155, 0.2030,\n",
       "           0.2155, 0.2030, 0.2155, 0.0000],\n",
       "          [0.0000, 0.0000, 0.0000, 0.0000, 0.0000, 0.0000, 0.2130, 0.2130,\n",
       "           0.2006, 0.2130, 0.0000, 0.2130]],\n",
       " \n",
       "         [[0.3564, 0.0000, 0.0000, 0.0000, 0.3564, 0.3397, 0.0000, 0.0000,\n",
       "           0.0000, 0.0000, 0.0000, 0.0000],\n",
       "          [0.0000, 0.3564, 0.0000, 0.0000, 0.3564, 0.0000, 0.0000, 0.0000,\n",
       "           0.0000, 0.0000, 0.0000, 0.0000],\n",
       "          [0.0000, 0.0000, 0.0000, 0.0000, 0.3564, 0.3397, 0.0000, 0.0000,\n",
       "           0.0000, 0.0000, 0.0000, 0.0000],\n",
       "          [0.0000, 0.0000, 0.0000, 0.3564, 0.3397, 0.3564, 0.0000, 0.0000,\n",
       "           0.0000, 0.0000, 0.0000, 0.0000],\n",
       "          [0.2125, 0.2125, 0.2125, 0.2026, 0.2125, 0.0000, 0.0000, 0.0000,\n",
       "           0.0000, 0.0000, 0.0000, 0.0000],\n",
       "          [0.2065, 0.2065, 0.2065, 0.2166, 0.0000, 0.0000, 0.0000, 0.0000,\n",
       "           0.0000, 0.0000, 0.0000, 0.0000],\n",
       "          [0.0000, 0.0000, 0.0000, 0.0000, 0.0000, 0.0000, 0.3509, 0.0000,\n",
       "           0.0000, 0.0000, 0.3509, 0.3509],\n",
       "          [0.0000, 0.0000, 0.0000, 0.0000, 0.0000, 0.0000, 0.0000, 0.3564,\n",
       "           0.0000, 0.0000, 0.3397, 0.3564],\n",
       "          [0.0000, 0.0000, 0.0000, 0.0000, 0.0000, 0.0000, 0.0000, 0.0000,\n",
       "           0.3564, 0.0000, 0.3564, 0.3397],\n",
       "          [0.0000, 0.0000, 0.0000, 0.0000, 0.0000, 0.0000, 0.0000, 0.0000,\n",
       "           0.0000, 0.3564, 0.3397, 0.3564],\n",
       "          [0.0000, 0.0000, 0.0000, 0.0000, 0.0000, 0.0000, 0.2145, 0.2045,\n",
       "           0.2145, 0.2045, 0.2145, 0.0000],\n",
       "          [0.0000, 0.0000, 0.0000, 0.0000, 0.0000, 0.0000, 0.0000, 0.2125,\n",
       "           0.2026, 0.2125, 0.0000, 0.2125]]], grad_fn=<PermuteBackward0>))"
      ]
     },
     "execution_count": 84,
     "metadata": {},
     "output_type": "execute_result"
    }
   ],
   "source": [
    "# Signed message passing: multiply neighbor features by edge sign before summing.\n",
    "alpha_h = alpha.permute(2, 0, 1)             # [H,M,M]\n",
    "alpha_h.size(), alpha_h"
   ]
  },
  {
   "cell_type": "code",
   "execution_count": 85,
   "id": "4cdb3ce3-7dd1-47bf-b6f3-1a759bd68216",
   "metadata": {},
   "outputs": [
    {
     "data": {
      "text/plain": [
       "(torch.Size([2, 12, 3]),\n",
       " tensor([[[-2.3936e-06, -4.7872e-06, -2.3936e-06],\n",
       "          [ 6.7101e-06,  1.3420e-05,  6.7101e-06],\n",
       "          [ 5.2386e-06,  1.0477e-05,  5.2386e-06],\n",
       "          [ 6.4183e-06,  1.2837e-05,  6.4183e-06],\n",
       "          [ 1.0292e-05,  2.0583e-05,  1.0292e-05],\n",
       "          [ 3.5262e-06,  7.0523e-06,  3.5262e-06],\n",
       "          [ 2.4122e-05,  4.8245e-05,  2.4122e-05],\n",
       "          [-1.3195e-06, -2.6390e-06, -1.3195e-06],\n",
       "          [ 1.1077e-05,  2.2154e-05,  1.1077e-05],\n",
       "          [ 7.9080e-06,  1.5816e-05,  7.9080e-06],\n",
       "          [ 7.7813e-06,  1.5563e-05,  7.7813e-06],\n",
       "          [ 1.5281e-05,  3.0561e-05,  1.5281e-05]],\n",
       " \n",
       "         [[-2.3936e-06, -4.7872e-06, -2.3936e-06],\n",
       "          [ 6.7101e-06,  1.3420e-05,  6.7101e-06],\n",
       "          [ 5.2386e-06,  1.0477e-05,  5.2386e-06],\n",
       "          [ 6.4183e-06,  1.2837e-05,  6.4183e-06],\n",
       "          [ 1.0292e-05,  2.0583e-05,  1.0292e-05],\n",
       "          [ 3.5262e-06,  7.0523e-06,  3.5262e-06],\n",
       "          [ 2.4122e-05,  4.8245e-05,  2.4122e-05],\n",
       "          [-1.3195e-06, -2.6390e-06, -1.3195e-06],\n",
       "          [ 1.1077e-05,  2.2154e-05,  1.1077e-05],\n",
       "          [ 7.9080e-06,  1.5816e-05,  7.9080e-06],\n",
       "          [ 7.7813e-06,  1.5563e-05,  7.7813e-06],\n",
       "          [ 1.5281e-05,  3.0561e-05,  1.5281e-05]]], grad_fn=<PermuteBackward0>))"
      ]
     },
     "execution_count": 85,
     "metadata": {},
     "output_type": "execute_result"
    }
   ],
   "source": [
    "Hh = Hproj.permute(1, 0, 2)                  # [H,M,O]\n",
    "Hh.size(), Hh"
   ]
  },
  {
   "cell_type": "code",
   "execution_count": 86,
   "id": "9a43c2b2-ca16-4ffc-94e1-9ce60864ec77",
   "metadata": {},
   "outputs": [
    {
     "data": {
      "text/plain": [
       "(torch.Size([2, 12, 3]),\n",
       " tensor([[[4.0143e-06, 8.0287e-06, 4.0143e-06],\n",
       "          [7.2718e-06, 1.4544e-05, 7.2718e-06],\n",
       "          [6.7453e-06, 1.3491e-05, 6.7453e-06],\n",
       "          [7.0265e-06, 1.4053e-05, 7.0265e-06],\n",
       "          [5.5150e-06, 1.1030e-05, 5.5150e-06],\n",
       "          [4.1324e-06, 8.2648e-06, 4.1324e-06],\n",
       "          [1.3826e-05, 2.7651e-05, 1.3826e-05],\n",
       "          [7.6178e-06, 1.5236e-05, 7.6178e-06],\n",
       "          [1.1897e-05, 2.3794e-05, 1.1897e-05],\n",
       "          [1.0920e-05, 2.1839e-05, 1.0920e-05],\n",
       "          [1.0602e-05, 2.1203e-05, 1.0602e-05],\n",
       "          [1.2019e-05, 2.4037e-05, 1.2019e-05]],\n",
       " \n",
       "         [[4.0132e-06, 8.0263e-06, 4.0132e-06],\n",
       "          [6.0602e-06, 1.2120e-05, 6.0602e-06],\n",
       "          [4.8664e-06, 9.7327e-06, 4.8664e-06],\n",
       "          [7.0411e-06, 1.4082e-05, 7.0411e-06],\n",
       "          [5.5179e-06, 1.1036e-05, 5.5179e-06],\n",
       "          [3.3631e-06, 6.7262e-06, 3.3631e-06],\n",
       "          [1.6556e-05, 3.3112e-05, 1.6556e-05],\n",
       "          [7.6200e-06, 1.5240e-05, 7.6200e-06],\n",
       "          [1.1913e-05, 2.3827e-05, 1.1913e-05],\n",
       "          [1.0909e-05, 2.1818e-05, 1.0909e-05],\n",
       "          [1.0569e-05, 2.1137e-05, 1.0569e-05],\n",
       "          [6.8913e-06, 1.3783e-05, 6.8913e-06]]], grad_fn=<UnsafeViewBackward0>))"
      ]
     },
     "execution_count": 86,
     "metadata": {},
     "output_type": "execute_result"
    }
   ],
   "source": [
    "out_h = alpha_h @ Hh                               # [H,M,O]\n",
    "out_h.size(), out_h"
   ]
  },
  {
   "cell_type": "code",
   "execution_count": 87,
   "id": "c068f6a5-0bc4-4912-a66c-c80a14f1dca3",
   "metadata": {},
   "outputs": [
    {
     "data": {
      "text/plain": [
       "(torch.Size([12, 2, 3]),\n",
       " tensor([[[4.0143e-06, 8.0287e-06, 4.0143e-06],\n",
       "          [4.0132e-06, 8.0263e-06, 4.0132e-06]],\n",
       " \n",
       "         [[7.2718e-06, 1.4544e-05, 7.2718e-06],\n",
       "          [6.0602e-06, 1.2120e-05, 6.0602e-06]],\n",
       " \n",
       "         [[6.7453e-06, 1.3491e-05, 6.7453e-06],\n",
       "          [4.8664e-06, 9.7327e-06, 4.8664e-06]],\n",
       " \n",
       "         [[7.0265e-06, 1.4053e-05, 7.0265e-06],\n",
       "          [7.0411e-06, 1.4082e-05, 7.0411e-06]],\n",
       " \n",
       "         [[5.5150e-06, 1.1030e-05, 5.5150e-06],\n",
       "          [5.5179e-06, 1.1036e-05, 5.5179e-06]],\n",
       " \n",
       "         [[4.1324e-06, 8.2648e-06, 4.1324e-06],\n",
       "          [3.3631e-06, 6.7262e-06, 3.3631e-06]],\n",
       " \n",
       "         [[1.3826e-05, 2.7651e-05, 1.3826e-05],\n",
       "          [1.6556e-05, 3.3112e-05, 1.6556e-05]],\n",
       " \n",
       "         [[7.6178e-06, 1.5236e-05, 7.6178e-06],\n",
       "          [7.6200e-06, 1.5240e-05, 7.6200e-06]],\n",
       " \n",
       "         [[1.1897e-05, 2.3794e-05, 1.1897e-05],\n",
       "          [1.1913e-05, 2.3827e-05, 1.1913e-05]],\n",
       " \n",
       "         [[1.0920e-05, 2.1839e-05, 1.0920e-05],\n",
       "          [1.0909e-05, 2.1818e-05, 1.0909e-05]],\n",
       " \n",
       "         [[1.0602e-05, 2.1203e-05, 1.0602e-05],\n",
       "          [1.0569e-05, 2.1137e-05, 1.0569e-05]],\n",
       " \n",
       "         [[1.2019e-05, 2.4037e-05, 1.2019e-05],\n",
       "          [6.8913e-06, 1.3783e-05, 6.8913e-06]]], grad_fn=<PermuteBackward0>))"
      ]
     },
     "execution_count": 87,
     "metadata": {},
     "output_type": "execute_result"
    }
   ],
   "source": [
    "out = out_h.permute(1, 0, 2)                            # [M,H,O]\n",
    "out.size(), out\n"
   ]
  },
  {
   "cell_type": "code",
   "execution_count": 88,
   "id": "0e9f73b4-6958-4c92-bfa3-a96a81aef33b",
   "metadata": {},
   "outputs": [
    {
     "data": {
      "text/plain": [
       "(torch.Size([12, 6]),\n",
       " tensor([[4.0143e-06, 8.0287e-06, 4.0143e-06, 4.0132e-06, 8.0263e-06, 4.0132e-06],\n",
       "         [7.2718e-06, 1.4544e-05, 7.2718e-06, 6.0602e-06, 1.2120e-05, 6.0602e-06],\n",
       "         [6.7453e-06, 1.3491e-05, 6.7453e-06, 4.8664e-06, 9.7327e-06, 4.8664e-06],\n",
       "         [7.0265e-06, 1.4053e-05, 7.0265e-06, 7.0411e-06, 1.4082e-05, 7.0411e-06],\n",
       "         [5.5150e-06, 1.1030e-05, 5.5150e-06, 5.5179e-06, 1.1036e-05, 5.5179e-06],\n",
       "         [4.1324e-06, 8.2648e-06, 4.1324e-06, 3.3631e-06, 6.7262e-06, 3.3631e-06],\n",
       "         [1.3826e-05, 2.7651e-05, 1.3826e-05, 1.6556e-05, 3.3112e-05, 1.6556e-05],\n",
       "         [7.6178e-06, 1.5236e-05, 7.6178e-06, 7.6200e-06, 1.5240e-05, 7.6200e-06],\n",
       "         [1.1897e-05, 2.3794e-05, 1.1897e-05, 1.1913e-05, 2.3827e-05, 1.1913e-05],\n",
       "         [1.0920e-05, 2.1839e-05, 1.0920e-05, 1.0909e-05, 2.1818e-05, 1.0909e-05],\n",
       "         [1.0602e-05, 2.1203e-05, 1.0602e-05, 1.0569e-05, 2.1137e-05, 1.0569e-05],\n",
       "         [1.2019e-05, 2.4037e-05, 1.2019e-05, 6.8913e-06, 1.3783e-05, 6.8913e-06]],\n",
       "        grad_fn=<UnsafeViewBackward0>))"
      ]
     },
     "execution_count": 88,
     "metadata": {},
     "output_type": "execute_result"
    }
   ],
   "source": [
    "##### concat  heads\n",
    "out = out.reshape(M, H * O)               # [M, H*O]\n",
    "out.size(), out"
   ]
  },
  {
   "cell_type": "code",
   "execution_count": 89,
   "id": "86cdfae9-cf47-4d5d-919d-e335fa4911fb",
   "metadata": {},
   "outputs": [
    {
     "data": {
      "text/plain": [
       "(torch.Size([6]),\n",
       " Parameter containing:\n",
       " tensor([1.0000e-06, 1.0000e-06, 1.0000e-06, 1.0000e-06, 1.0000e-06, 1.0000e-06],\n",
       "        requires_grad=True))"
      ]
     },
     "execution_count": 89,
     "metadata": {},
     "output_type": "execute_result"
    }
   ],
   "source": [
    "##### Bias\n",
    "gat2_bias = nn.Parameter(torch.zeros(heads*head_dim))\n",
    "with torch.no_grad(): \n",
    "    sign_pattern = torch.tensor([1e-6])\n",
    "    gat2_bias.copy_(sign_pattern)\n",
    "gat2_bias.size(), gat2_bias"
   ]
  },
  {
   "cell_type": "code",
   "execution_count": 90,
   "id": "be1b986b-1101-402a-a393-d831db0c24a4",
   "metadata": {},
   "outputs": [
    {
     "data": {
      "text/plain": [
       "(torch.Size([12, 6]),\n",
       " tensor([[5.0143e-06, 9.0287e-06, 5.0143e-06, 5.0132e-06, 9.0263e-06, 5.0132e-06],\n",
       "         [8.2718e-06, 1.5544e-05, 8.2718e-06, 7.0602e-06, 1.3120e-05, 7.0602e-06],\n",
       "         [7.7453e-06, 1.4491e-05, 7.7453e-06, 5.8664e-06, 1.0733e-05, 5.8664e-06],\n",
       "         [8.0265e-06, 1.5053e-05, 8.0265e-06, 8.0411e-06, 1.5082e-05, 8.0411e-06],\n",
       "         [6.5150e-06, 1.2030e-05, 6.5150e-06, 6.5179e-06, 1.2036e-05, 6.5179e-06],\n",
       "         [5.1324e-06, 9.2648e-06, 5.1324e-06, 4.3631e-06, 7.7262e-06, 4.3631e-06],\n",
       "         [1.4826e-05, 2.8651e-05, 1.4826e-05, 1.7556e-05, 3.4112e-05, 1.7556e-05],\n",
       "         [8.6178e-06, 1.6236e-05, 8.6178e-06, 8.6200e-06, 1.6240e-05, 8.6200e-06],\n",
       "         [1.2897e-05, 2.4794e-05, 1.2897e-05, 1.2913e-05, 2.4827e-05, 1.2913e-05],\n",
       "         [1.1920e-05, 2.2839e-05, 1.1920e-05, 1.1909e-05, 2.2818e-05, 1.1909e-05],\n",
       "         [1.1602e-05, 2.2203e-05, 1.1602e-05, 1.1569e-05, 2.2137e-05, 1.1569e-05],\n",
       "         [1.3019e-05, 2.5037e-05, 1.3019e-05, 7.8913e-06, 1.4783e-05, 7.8913e-06]],\n",
       "        grad_fn=<AddBackward0>))"
      ]
     },
     "execution_count": 90,
     "metadata": {},
     "output_type": "execute_result"
    }
   ],
   "source": [
    "out = out + gat2_bias\n",
    "out.size(), out\n"
   ]
  },
  {
   "cell_type": "markdown",
   "id": "a8200c22-c120-4f8b-9609-b0c4b64f7bff",
   "metadata": {},
   "source": [
    "### GAT Block - residual Connection"
   ]
  },
  {
   "cell_type": "code",
   "execution_count": 91,
   "id": "514df85f-f04f-4cc7-83a6-58c21eb2fc77",
   "metadata": {},
   "outputs": [
    {
     "data": {
      "text/plain": [
       "(torch.Size([12, 6]),\n",
       " tensor([[0.0010, 0.0020, 0.0030, 0.0040, 0.0050, 0.0060],\n",
       "         [0.0020, 0.0030, 0.0040, 0.0050, 0.0060, 0.0070],\n",
       "         [0.0030, 0.0040, 0.0050, 0.0060, 0.0070, 0.0080],\n",
       "         [0.0040, 0.0050, 0.0060, 0.0070, 0.0080, 0.0090],\n",
       "         [0.0050, 0.0060, 0.0070, 0.0080, 0.0090, 0.0100],\n",
       "         [0.0060, 0.0070, 0.0080, 0.0090, 0.0100, 0.0110],\n",
       "         [0.0010, 0.0020, 0.0030, 0.0040, 0.0050, 0.0060],\n",
       "         [0.0020, 0.0030, 0.0040, 0.0050, 0.0060, 0.0070],\n",
       "         [0.0030, 0.0040, 0.0050, 0.0060, 0.0070, 0.0080],\n",
       "         [0.0040, 0.0050, 0.0060, 0.0070, 0.0080, 0.0090],\n",
       "         [0.0050, 0.0060, 0.0070, 0.0080, 0.0090, 0.0100],\n",
       "         [0.0060, 0.0070, 0.0080, 0.0090, 0.0100, 0.0110]],\n",
       "        grad_fn=<AddBackward0>))"
      ]
     },
     "execution_count": 91,
     "metadata": {},
     "output_type": "execute_result"
    }
   ],
   "source": [
    "out = out + x\n",
    "out.size(), out"
   ]
  },
  {
   "cell_type": "markdown",
   "id": "967de571-bdb2-4fc4-97ae-47e70e136830",
   "metadata": {},
   "source": [
    "### GAT Block - Post Residual ELU"
   ]
  },
  {
   "cell_type": "code",
   "execution_count": 92,
   "id": "b4fbd42a-7ad4-4c0a-9236-e2d1f4396839",
   "metadata": {},
   "outputs": [
    {
     "data": {
      "text/plain": [
       "(torch.Size([12, 6]),\n",
       " tensor([[0.0010, 0.0020, 0.0030, 0.0040, 0.0050, 0.0060],\n",
       "         [0.0020, 0.0030, 0.0040, 0.0050, 0.0060, 0.0070],\n",
       "         [0.0030, 0.0040, 0.0050, 0.0060, 0.0070, 0.0080],\n",
       "         [0.0040, 0.0050, 0.0060, 0.0070, 0.0080, 0.0090],\n",
       "         [0.0050, 0.0060, 0.0070, 0.0080, 0.0090, 0.0100],\n",
       "         [0.0060, 0.0070, 0.0080, 0.0090, 0.0100, 0.0110],\n",
       "         [0.0010, 0.0020, 0.0030, 0.0040, 0.0050, 0.0060],\n",
       "         [0.0020, 0.0030, 0.0040, 0.0050, 0.0060, 0.0070],\n",
       "         [0.0030, 0.0040, 0.0050, 0.0060, 0.0070, 0.0080],\n",
       "         [0.0040, 0.0050, 0.0060, 0.0070, 0.0080, 0.0090],\n",
       "         [0.0050, 0.0060, 0.0070, 0.0080, 0.0090, 0.0100],\n",
       "         [0.0060, 0.0070, 0.0080, 0.0090, 0.0100, 0.0110]],\n",
       "        grad_fn=<EluBackward0>))"
      ]
     },
     "execution_count": 92,
     "metadata": {},
     "output_type": "execute_result"
    }
   ],
   "source": [
    "act2 = nn.ELU()\n",
    "out = act2(out)\n",
    "out.size(), out"
   ]
  },
  {
   "cell_type": "markdown",
   "id": "b7c87789-b608-4646-9e79-bb1cd57f1879",
   "metadata": {},
   "source": [
    "### Output Layer"
   ]
  },
  {
   "cell_type": "code",
   "execution_count": 93,
   "id": "56160a65-8a24-42d5-8759-2c706ed66706",
   "metadata": {},
   "outputs": [
    {
     "data": {
      "text/plain": [
       "(torch.Size([2, 6, 6]),\n",
       " tensor([[[0.0010, 0.0020, 0.0030, 0.0040, 0.0050, 0.0060],\n",
       "          [0.0020, 0.0030, 0.0040, 0.0050, 0.0060, 0.0070],\n",
       "          [0.0030, 0.0040, 0.0050, 0.0060, 0.0070, 0.0080],\n",
       "          [0.0040, 0.0050, 0.0060, 0.0070, 0.0080, 0.0090],\n",
       "          [0.0050, 0.0060, 0.0070, 0.0080, 0.0090, 0.0100],\n",
       "          [0.0060, 0.0070, 0.0080, 0.0090, 0.0100, 0.0110]],\n",
       " \n",
       "         [[0.0010, 0.0020, 0.0030, 0.0040, 0.0050, 0.0060],\n",
       "          [0.0020, 0.0030, 0.0040, 0.0050, 0.0060, 0.0070],\n",
       "          [0.0030, 0.0040, 0.0050, 0.0060, 0.0070, 0.0080],\n",
       "          [0.0040, 0.0050, 0.0060, 0.0070, 0.0080, 0.0090],\n",
       "          [0.0050, 0.0060, 0.0070, 0.0080, 0.0090, 0.0100],\n",
       "          [0.0060, 0.0070, 0.0080, 0.0090, 0.0100, 0.0110]]],\n",
       "        grad_fn=<ViewBackward0>))"
      ]
     },
     "execution_count": 93,
     "metadata": {},
     "output_type": "execute_result"
    }
   ],
   "source": [
    "#insert batch back\n",
    "out = out.view(B_batch, N_nodes,n_embd)\n",
    "out.size(), out"
   ]
  },
  {
   "cell_type": "markdown",
   "id": "34732a51-d3a4-45d3-8c8a-2f0f10e746d8",
   "metadata": {},
   "source": [
    "#### Node Head"
   ]
  },
  {
   "cell_type": "code",
   "execution_count": 94,
   "id": "09f0fad2-469e-4061-a419-e30acae59754",
   "metadata": {},
   "outputs": [
    {
     "data": {
      "text/plain": [
       "(Parameter containing:\n",
       " tensor([[0.0050, 0.0100, 0.0150, 0.0200, 0.0250, 0.0300],\n",
       "         [0.0100, 0.0150, 0.0200, 0.0250, 0.0300, 0.0350]], requires_grad=True),\n",
       " Parameter containing:\n",
       " tensor([1.0000e-06, 1.0000e-06], requires_grad=True))"
      ]
     },
     "execution_count": 94,
     "metadata": {},
     "output_type": "execute_result"
    }
   ],
   "source": [
    "## nodes logits\n",
    "node_head = nn.Linear(n_embd, 2, bias=True)   # cell-type logits per node\n",
    "with torch.no_grad(): # initilize to W[i,j] = 0.001*(1+i+j) for easy following \n",
    "    vs, d = 2, n_embd\n",
    "    rows = torch.arange(vs).unsqueeze(1)  # (vs,1)\n",
    "    cols = torch.arange(d).unsqueeze(0)  # (1,d)\n",
    "    pattern = 0.005*(1 + rows + cols)  # W[i,j] = 0.001*(1+i+j)\n",
    "    node_head.weight.copy_(pattern)\n",
    "nn.init.constant_(node_head.bias, 1e-6)\n",
    "node_head.weight, node_head.bias"
   ]
  },
  {
   "cell_type": "code",
   "execution_count": 95,
   "id": "7c97b3eb-b370-4475-a27b-08fc6125a34a",
   "metadata": {},
   "outputs": [
    {
     "data": {
      "text/plain": [
       "(torch.Size([2, 6, 2]),\n",
       " tensor([[[0.0005, 0.0006],\n",
       "          [0.0006, 0.0007],\n",
       "          [0.0007, 0.0008],\n",
       "          [0.0008, 0.0010],\n",
       "          [0.0009, 0.0011],\n",
       "          [0.0010, 0.0012]],\n",
       " \n",
       "         [[0.0005, 0.0006],\n",
       "          [0.0006, 0.0007],\n",
       "          [0.0007, 0.0008],\n",
       "          [0.0008, 0.0010],\n",
       "          [0.0009, 0.0011],\n",
       "          [0.0010, 0.0012]]], grad_fn=<ViewBackward0>))"
      ]
     },
     "execution_count": 95,
     "metadata": {},
     "output_type": "execute_result"
    }
   ],
   "source": [
    "node_logits = node_head(out)\n",
    "node_logits.size(), node_logits"
   ]
  },
  {
   "cell_type": "markdown",
   "id": "0710fb10-e272-44c3-b662-146a3eb96684",
   "metadata": {},
   "source": [
    "#### Graph Head"
   ]
  },
  {
   "cell_type": "code",
   "execution_count": 96,
   "id": "0e8de88e-4911-43aa-ac38-e9ba06bd912f",
   "metadata": {},
   "outputs": [
    {
     "data": {
      "text/plain": [
       "(torch.Size([1, 6]), tensor([[1., 1., 1., 1., 0., 0.]]))"
      ]
     },
     "execution_count": 96,
     "metadata": {},
     "output_type": "execute_result"
    }
   ],
   "source": [
    "mask = gene_mask.float().unsqueeze(0)\n",
    "mask.size(), mask"
   ]
  },
  {
   "cell_type": "code",
   "execution_count": 97,
   "id": "e7fbb9d8-7fbb-4bdb-a143-8c2d58a2dc15",
   "metadata": {},
   "outputs": [
    {
     "data": {
      "text/plain": [
       "tensor([[4.]])"
      ]
     },
     "execution_count": 97,
     "metadata": {},
     "output_type": "execute_result"
    }
   ],
   "source": [
    "denom = mask.sum(1, keepdim=True).clamp_min(1.0)\n",
    "denom"
   ]
  },
  {
   "cell_type": "code",
   "execution_count": 98,
   "id": "b762ab9e-5972-4c1e-8727-d51944ccbfe3",
   "metadata": {},
   "outputs": [
    {
     "data": {
      "text/plain": [
       "(torch.Size([2, 6]),\n",
       " tensor([[0.0025, 0.0035, 0.0045, 0.0055, 0.0065, 0.0075],\n",
       "         [0.0025, 0.0035, 0.0045, 0.0055, 0.0065, 0.0075]],\n",
       "        grad_fn=<DivBackward0>))"
      ]
     },
     "execution_count": 98,
     "metadata": {},
     "output_type": "execute_result"
    }
   ],
   "source": [
    "pooled = (out * mask.unsqueeze(-1)).sum(1) / denom\n",
    "pooled.size(), pooled"
   ]
  },
  {
   "cell_type": "code",
   "execution_count": 99,
   "id": "5bf19414-0272-4890-830c-555c8d7a203a",
   "metadata": {},
   "outputs": [
    {
     "data": {
      "text/plain": [
       "(Parameter containing:\n",
       " tensor([[0.0010, 0.0020, 0.0030, 0.0040, 0.0050, 0.0060],\n",
       "         [0.0020, 0.0030, 0.0040, 0.0050, 0.0060, 0.0070]], requires_grad=True),\n",
       " Parameter containing:\n",
       " tensor([1.0000e-06, 1.0000e-06], requires_grad=True))"
      ]
     },
     "execution_count": 99,
     "metadata": {},
     "output_type": "execute_result"
    }
   ],
   "source": [
    "graph_head = nn.Linear(n_embd, 2, bias=True)  # cancer logits per graph\n",
    "with torch.no_grad(): # initilize to W[i,j] = 0.001*(1+i+j) for easy following \n",
    "    vs, d = 2, n_embd\n",
    "    rows = torch.arange(vs).unsqueeze(1)  # (vs,1)\n",
    "    cols = torch.arange(d).unsqueeze(0)  # (1,d)\n",
    "    pattern = 0.001*(1 + rows + cols)  # W[i,j] = 0.001*(1+i+j)\n",
    "    graph_head.weight.copy_(pattern)\n",
    "nn.init.constant_(graph_head.bias, 1e-6) \n",
    "graph_head.weight, graph_head.bias"
   ]
  },
  {
   "cell_type": "code",
   "execution_count": 100,
   "id": "4acbdbe4-07f7-4376-ade3-af0c459dea08",
   "metadata": {},
   "outputs": [
    {
     "data": {
      "text/plain": [
       "(torch.Size([2, 2]),\n",
       " tensor([[0.0001, 0.0002],\n",
       "         [0.0001, 0.0002]], grad_fn=<AddmmBackward0>))"
      ]
     },
     "execution_count": 100,
     "metadata": {},
     "output_type": "execute_result"
    }
   ],
   "source": [
    "graph_logits = graph_head(pooled)  # [B,2]\n",
    "graph_logits.size(), graph_logits"
   ]
  },
  {
   "cell_type": "markdown",
   "id": "b9b3a736-9cd3-425a-8c06-824a3e2089bb",
   "metadata": {},
   "source": [
    "## Loss calculation"
   ]
  },
  {
   "cell_type": "code",
   "execution_count": 101,
   "id": "a6f2f2ce-03d1-4e78-a49c-ef7f0b4995d1",
   "metadata": {},
   "outputs": [],
   "source": [
    "loss = None\n",
    "losses = []"
   ]
  },
  {
   "cell_type": "code",
   "execution_count": 102,
   "id": "05bbb946-d1e3-4075-a8db-976449e0e946",
   "metadata": {},
   "outputs": [
    {
     "data": {
      "text/plain": [
       "tensor([[ True,  True,  True,  True, False, False],\n",
       "        [ True,  True,  True,  True, False, False]])"
      ]
     },
     "execution_count": 102,
     "metadata": {},
     "output_type": "execute_result"
    }
   ],
   "source": [
    "valid = (gene_mask & (y_node>=0))\n",
    "valid"
   ]
  },
  {
   "cell_type": "code",
   "execution_count": 103,
   "id": "234bf14d-107c-422c-b2fe-5e9675e40b95",
   "metadata": {},
   "outputs": [
    {
     "data": {
      "text/plain": [
       "(tensor([[0.0005, 0.0006],\n",
       "         [0.0006, 0.0007],\n",
       "         [0.0007, 0.0008],\n",
       "         [0.0008, 0.0010],\n",
       "         [0.0005, 0.0006],\n",
       "         [0.0006, 0.0007],\n",
       "         [0.0007, 0.0008],\n",
       "         [0.0008, 0.0010]], grad_fn=<IndexBackward0>),\n",
       " tensor([0, 0, 0, 1, 0, 1, 0, 1]))"
      ]
     },
     "execution_count": 103,
     "metadata": {},
     "output_type": "execute_result"
    }
   ],
   "source": [
    "valid_node_logits = node_logits[valid]\n",
    "valid_y_node = y_node[valid]\n",
    "valid_node_logits, valid_y_node"
   ]
  },
  {
   "cell_type": "code",
   "execution_count": 104,
   "id": "11d951dc-52e2-48d5-ae87-6832b7e0f8c7",
   "metadata": {},
   "outputs": [
    {
     "data": {
      "text/plain": [
       "tensor(0.6932, grad_fn=<NllLossBackward0>)"
      ]
     },
     "execution_count": 104,
     "metadata": {},
     "output_type": "execute_result"
    }
   ],
   "source": [
    "nl = F.cross_entropy(valid_node_logits, valid_y_node)\n",
    "losses.append(nl)\n",
    "nl"
   ]
  },
  {
   "cell_type": "code",
   "execution_count": 105,
   "id": "881d8400-a313-4f6d-a539-6c207814bf29",
   "metadata": {},
   "outputs": [
    {
     "data": {
      "text/plain": [
       "(tensor([[0.0001, 0.0002],\n",
       "         [0.0001, 0.0002]], grad_fn=<AddmmBackward0>),\n",
       " tensor([0, 1]),\n",
       " 1.0)"
      ]
     },
     "execution_count": 105,
     "metadata": {},
     "output_type": "execute_result"
    }
   ],
   "source": [
    "alpha = 1.0\n",
    "graph_logits, y_graph, alpha"
   ]
  },
  {
   "cell_type": "code",
   "execution_count": 106,
   "id": "48e94eec-73dc-4225-9f7d-13eb346db493",
   "metadata": {},
   "outputs": [
    {
     "data": {
      "text/plain": [
       "tensor(0.6931, grad_fn=<NllLossBackward0>)"
      ]
     },
     "execution_count": 106,
     "metadata": {},
     "output_type": "execute_result"
    }
   ],
   "source": [
    "gl = F.cross_entropy(graph_logits, y_graph)\n",
    "losses.append(gl)\n",
    "gl"
   ]
  },
  {
   "cell_type": "code",
   "execution_count": 107,
   "id": "2e3531e3-7026-4b97-9acc-a86f1b394c28",
   "metadata": {},
   "outputs": [
    {
     "data": {
      "text/plain": [
       "tensor(1.3863, grad_fn=<AddBackward0>)"
      ]
     },
     "execution_count": 107,
     "metadata": {},
     "output_type": "execute_result"
    }
   ],
   "source": [
    "loss = sum(losses) \n",
    "loss"
   ]
  },
  {
   "cell_type": "markdown",
   "id": "60396340-0006-4024-9d5b-3338dbaf1d68",
   "metadata": {},
   "source": [
    "## Back Propagation"
   ]
  },
  {
   "cell_type": "code",
   "execution_count": 108,
   "id": "a39f9da4-0ad8-41ae-a20b-7a9c2b854979",
   "metadata": {},
   "outputs": [
    {
     "data": {
      "text/plain": [
       "(None, None, None)"
      ]
     },
     "execution_count": 108,
     "metadata": {},
     "output_type": "execute_result"
    }
   ],
   "source": [
    "#output layers\n",
    "graph_head.zero_grad()\n",
    "node_head.zero_grad()\n",
    "\n",
    "#gat block\n",
    "gat2_bias.grad = None # slightly different given it's manually built and not a torch layer. \n",
    "gat2_attn_sign.grad = None\n",
    "gat2_attn_dst.grad = None\n",
    "gat2_attn_src.grad = None\n",
    "gat2_attn_w.grad = None\n",
    "gat1_bias.grad = None # slightly different given it's manually built and not a torch layer. \n",
    "gat1_attn_sign.grad = None\n",
    "gat1_attn_dst.grad = None\n",
    "gat1_attn_src.grad = None\n",
    "gat1_attn_w.grad = None\n",
    "\n",
    "#input layer\n",
    "tok_emb.zero_grad()\n",
    "\n",
    "# validate gradients\n",
    "graph_head.weight.grad,node_head.weight.grad,tok_emb.weight.grad"
   ]
  },
  {
   "cell_type": "markdown",
   "id": "012ab08d-9791-461f-a183-72eb755582a1",
   "metadata": {},
   "source": [
    "### Back Propagation - Auto Diff\n",
    "\n",
    "Now let's see the magic of the gradients populate.  This magic is called auto-differentiation, or auto-diff for short. This allows us to not have to write many layers of nasty code to do the differentiation for us, but, if you're a sadist, you can surely find people who have written out that code (it's not too bad since you just do one layer at a time). \n",
    "\n",
    "Recall that our loss is actually the sum of the loss across multiple heads. The beauty here is that because we used a sum, the gradient will be distributed across both and join as we reach each layer, helping ensure that the graph is optimizing both heads at the same time. "
   ]
  },
  {
   "cell_type": "code",
   "execution_count": 109,
   "id": "aa163c79-eabe-4e2a-b251-b552ff0ccdca",
   "metadata": {},
   "outputs": [],
   "source": [
    "loss.backward()"
   ]
  },
  {
   "cell_type": "code",
   "execution_count": 110,
   "id": "feb423b4-efdb-42cc-a0f6-cc189e23a9fb",
   "metadata": {},
   "outputs": [
    {
     "data": {
      "text/plain": [
       "(tensor([[ 1.1812e-06,  2.3738e-06,  1.1664e-06,  1.5221e-06,  3.0784e-06,\n",
       "           1.5072e-06],\n",
       "         [-1.1813e-06, -2.3739e-06, -1.1664e-06, -1.5222e-06, -3.0785e-06,\n",
       "          -1.5073e-06]]),\n",
       " tensor([[-1.3656e-06, -1.2754e-04, -2.5144e-04, -3.7646e-04, -5.0261e-04,\n",
       "          -6.2653e-04],\n",
       "         [ 1.3656e-06,  1.2754e-04,  2.5144e-04,  3.7646e-04,  5.0261e-04,\n",
       "           6.2653e-04]]),\n",
       " tensor([[ 6.2498e-04,  6.2520e-04,  6.2528e-04,  6.2528e-04,  6.2520e-04,\n",
       "           6.2512e-04],\n",
       "         [ 8.3150e-08,  1.2212e-07,  1.6103e-07,  1.6106e-07,  3.6997e-07,\n",
       "           8.3033e-08],\n",
       "         [ 6.2522e-04,  6.2539e-04,  6.2556e-04,  6.2556e-04,  6.2524e-04,\n",
       "           6.2522e-04],\n",
       "         [-6.2515e-04, -6.2536e-04, -6.2557e-04, -6.2557e-04, -6.2536e-04,\n",
       "          -6.2515e-04],\n",
       "         [ 8.2877e-07,  1.6575e-06,  2.4863e-06,  2.4863e-06,  1.6575e-06,\n",
       "           8.2877e-07],\n",
       "         [-4.5285e-07, -9.0569e-07, -1.3585e-06, -1.3585e-06, -4.2345e-07,\n",
       "          -4.5285e-07]]))"
      ]
     },
     "execution_count": 110,
     "metadata": {},
     "output_type": "execute_result"
    }
   ],
   "source": [
    "graph_head.weight.grad,node_head.weight.grad,tok_emb.weight.grad"
   ]
  },
  {
   "cell_type": "code",
   "execution_count": 111,
   "id": "d8aab446-5d59-4c83-8763-3a35abfb9634",
   "metadata": {},
   "outputs": [
    {
     "data": {
      "text/plain": [
       "(tensor([[[1.4330e-08, 2.1140e-08, 3.3906e-08],\n",
       "          [2.0579e-08, 2.4880e-08, 4.4505e-08],\n",
       "          [2.5470e-08, 2.8575e-08, 5.3871e-08],\n",
       "          [3.0361e-08, 3.2269e-08, 6.3236e-08],\n",
       "          [4.7595e-08, 6.0400e-08, 1.3657e-07],\n",
       "          [4.0143e-08, 3.9659e-08, 8.1968e-08]],\n",
       " \n",
       "         [[1.1760e-08, 3.8987e-09, 1.9499e-09],\n",
       "          [2.5723e-08, 1.2222e-08, 6.1126e-09],\n",
       "          [3.5649e-08, 1.7854e-08, 8.9291e-09],\n",
       "          [4.5574e-08, 2.3486e-08, 1.1746e-08],\n",
       "          [8.5537e-08, 7.2703e-08, 3.6357e-08],\n",
       "          [6.5425e-08, 3.4750e-08, 1.7379e-08]]]),\n",
       " tensor([[[1.6283e-11],\n",
       "          [3.2566e-11],\n",
       "          [1.6283e-11]],\n",
       " \n",
       "         [[1.2465e-11],\n",
       "          [2.4930e-11],\n",
       "          [1.2465e-11]]]),\n",
       " tensor([[[2.0247e-11],\n",
       "          [4.0494e-11],\n",
       "          [2.0247e-11]],\n",
       " \n",
       "         [[1.2837e-11],\n",
       "          [2.5673e-11],\n",
       "          [1.2837e-11]]]),\n",
       " tensor([[2.8762e-08],\n",
       "         [2.2066e-08]]))"
      ]
     },
     "execution_count": 111,
     "metadata": {},
     "output_type": "execute_result"
    }
   ],
   "source": [
    "gat1_attn_w.grad,gat1_attn_src.grad,gat1_attn_dst.grad,gat1_attn_sign.grad"
   ]
  },
  {
   "cell_type": "code",
   "execution_count": 112,
   "id": "2478d1a8-46f7-43eb-801b-e6ef22467bc6",
   "metadata": {},
   "outputs": [
    {
     "data": {
      "text/plain": [
       "(tensor([[[2.2731e-07, 2.2731e-07, 2.2731e-07],\n",
       "          [2.6391e-07, 2.6391e-07, 2.6391e-07],\n",
       "          [1.9405e-07, 1.9405e-07, 1.9405e-07],\n",
       "          [1.1095e-07, 1.1095e-07, 1.1095e-07],\n",
       "          [2.2903e-07, 2.2903e-07, 2.2903e-07],\n",
       "          [1.1483e-07, 1.1483e-07, 1.1483e-07]],\n",
       " \n",
       "         [[2.2159e-07, 2.2159e-07, 2.2159e-07],\n",
       "          [2.5426e-07, 2.5426e-07, 2.5426e-07],\n",
       "          [1.5233e-07, 1.5233e-07, 1.5233e-07],\n",
       "          [1.1665e-07, 1.1665e-07, 1.1665e-07],\n",
       "          [1.8761e-07, 1.8761e-07, 1.8761e-07],\n",
       "          [9.4023e-08, 9.4023e-08, 9.4023e-08]]]),\n",
       " tensor([[[8.0046e-16],\n",
       "          [1.6009e-15],\n",
       "          [8.0046e-16]],\n",
       " \n",
       "         [[3.5483e-15],\n",
       "          [7.0966e-15],\n",
       "          [3.5483e-15]]]),\n",
       " tensor([[[4.1477e-14],\n",
       "          [8.2954e-14],\n",
       "          [4.1477e-14]],\n",
       " \n",
       "         [[3.0125e-14],\n",
       "          [6.0251e-14],\n",
       "          [3.0125e-14]]]),\n",
       " tensor([[2.5853e-09],\n",
       "         [2.9720e-09]]))"
      ]
     },
     "execution_count": 112,
     "metadata": {},
     "output_type": "execute_result"
    }
   ],
   "source": [
    "gat2_attn_w.grad,gat2_attn_src.grad,gat2_attn_dst.grad,gat2_attn_sign.grad"
   ]
  },
  {
   "cell_type": "code",
   "execution_count": null,
   "id": "66d7cc96-e33b-40bc-8237-95a87125f1a6",
   "metadata": {},
   "outputs": [],
   "source": []
  },
  {
   "cell_type": "code",
   "execution_count": null,
   "id": "f59fb061-8c23-4377-b8d4-927a65413e38",
   "metadata": {},
   "outputs": [],
   "source": []
  },
  {
   "cell_type": "code",
   "execution_count": null,
   "id": "e4248322-d8f4-4c7f-9d26-69c88bacdbf9",
   "metadata": {},
   "outputs": [],
   "source": []
  }
 ],
 "metadata": {
  "kernelspec": {
   "display_name": "Python 3 (ipykernel)",
   "language": "python",
   "name": "python3"
  },
  "language_info": {
   "codemirror_mode": {
    "name": "ipython",
    "version": 3
   },
   "file_extension": ".py",
   "mimetype": "text/x-python",
   "name": "python",
   "nbconvert_exporter": "python",
   "pygments_lexer": "ipython3",
   "version": "3.13.7"
  }
 },
 "nbformat": 4,
 "nbformat_minor": 5
}
