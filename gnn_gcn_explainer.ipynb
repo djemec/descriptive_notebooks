{
 "cells": [
  {
   "cell_type": "markdown",
   "id": "5f90f355-7060-4d8c-8642-e4c8b95e47ce",
   "metadata": {},
   "source": [
    "# GNN GCN Explainer"
   ]
  },
  {
   "cell_type": "markdown",
   "id": "619f25c9-d1af-4c0d-bcd2-6a16c89c88cf",
   "metadata": {},
   "source": [
    "Creating a signed graph neural network based on a GCN kernal \n",
    "\n",
    "\n",
    "Training set has relative gene expression level (high or low), cell type, and cancerous.  \n",
    "Goal: predict what is the cell type and what is it cancerous\n",
    "- Node task: for each gene node, predict whether it’s a T-cell–type or B-cell–type marker in that sample (mask ignores CT nodes).\n",
    "- Graph task: predict cancer status (wild-type=0 vs cancerous=1) using a masked mean pool over gene nodes.\n",
    "\n",
    "What you’re training the model to do\n",
    "\n",
    "Input features are just node IDs (learned embeddings) for gene and cell-type nodes.\n",
    "\n",
    "Graph structure carries the signed up/down relations; the GCN mixes information along +/− edges (signed normalization keeps things stable).\n",
    "\n",
    "Targets:\n",
    "\n",
    "For genes: a single “LBL_<CellType>_UP/DOWN” token selected by a simple rule (prefer UP; fixed CT order breaks ties). This makes it a single-label node-classification toy.\n",
    "\n",
    "For cell types: predict their own identity token (helps the model stabilize and use structure consistently).\n",
    "\n",
    "You can expand this to multi-label (predict all CTs per gene) by switching the head to a sigmoid multilabel loss and building a multi-hot target, or to edge prediction by moving to a link-prediction setup—but this minimal version keeps things simple and trains fast."
   ]
  },
  {
   "cell_type": "markdown",
   "id": "fc2ef733-c5a3-4b0d-98e0-abeda3f6e4c8",
   "metadata": {},
   "source": [
    "## Text Prep/Tokenization"
   ]
  },
  {
   "cell_type": "code",
   "execution_count": 1,
   "id": "41e28a2f-365a-42e4-ac2c-412d614dcb58",
   "metadata": {},
   "outputs": [],
   "source": [
    "import torch\n",
    "import torch.nn as nn\n",
    "import torch.nn.functional as F\n",
    "import networkx as nx\n",
    "import matplotlib.pyplot as plt"
   ]
  },
  {
   "cell_type": "code",
   "execution_count": 76,
   "id": "0551b97a-37db-444b-8ca8-22fadbcdfa3e",
   "metadata": {},
   "outputs": [],
   "source": [
    "cell_types = [\"Tcells\",\"Bcells\"]\n",
    "genes = ['CD3D','LCK','ZAP70','CD19'] #only focused on genes present\n",
    "node_order = genes + [f'CT_{ct}' for ct in cell_types]   # genes first, then CT nodes\n",
    "gene_mask = torch.tensor([1,1,1,1,0,0], dtype=torch.bool)\n",
    "N = len(node_order) "
   ]
  },
  {
   "cell_type": "code",
   "execution_count": 3,
   "id": "ef4fc78e-a241-4efb-a7b6-fb69fb61cc1d",
   "metadata": {},
   "outputs": [],
   "source": [
    "wild_type = {\n",
    "    'Tcells':{'up': ['CD3D','LCK','ZAP70'],'down': ['CD19']},\n",
    "    'Bcells':{'up': ['CD19'],'down': ['CD3D','LCK','ZAP70']},\n",
    "  #  'Macrophages':{'up': ['CSF1R'],'down': ['CD3D','MS4A1','CD19']},\n",
    "}\n",
    "\n",
    "cancerous = {\n",
    "    'Tcells':{'up': ['CD3D','ZAP70'],'down': ['CD19','LCK']},\n",
    "    'Bcells':{'up': ['CD19','ZAP70'],'down': ['CD3D','LCK']},\n",
    "   # 'Macrophages':{'up': ['CSF1R'],'down': ['CD3D','MS4A1','CD19']},\n",
    "}\n",
    "\n",
    "cancerous_2 = {\n",
    "    'Tcells':{'up': ['ZAP70'],'down': ['CD19','CD3D','LCK']},\n",
    "    'Bcells':{'up': ['CD19','ZAP70'],'down': ['CD3D','LCK']},\n",
    "   # 'Macrophages':{'up': ['CSF1R'],'down': ['CD3D','MS4A1','CD19']},\n",
    "}\n",
    "\n",
    "cancerous_3 = {\n",
    "    'Tcells':{'up': ['ZAP70','LCK'],'down': ['CD19','CD3D']},\n",
    "    'Bcells':{'up': ['LCK','ZAP70'],'down': ['CD19','CD3D']},\n",
    "   # 'Macrophages':{'up': ['CSF1R'],'down': ['CD3D','MS4A1','CD19']},\n",
    "}"
   ]
  },
  {
   "cell_type": "code",
   "execution_count": 79,
   "id": "9c338cdf-3f0b-4975-a7d0-777e9e259103",
   "metadata": {},
   "outputs": [
    {
     "data": {
      "text/plain": [
       "(6,\n",
       " {'CD3D': 0, 'LCK': 1, 'ZAP70': 2, 'CD19': 3, 'CT_Tcells': 4, 'CT_Bcells': 5})"
      ]
     },
     "execution_count": 79,
     "metadata": {},
     "output_type": "execute_result"
    }
   ],
   "source": [
    "def build_vocab(genes, cell_types):\n",
    "    toks = genes + [f\"CT_{ct}\" for ct in cell_types]\n",
    "    stoi = {t:i for i,t in enumerate(toks)}; itos = {i:t for t,i in stoi.items()}\n",
    "    return stoi, itos\n",
    "\n",
    "stoi, itos = build_vocab(genes, cell_types)\n",
    "vocab_size = len(stoi)\n",
    "\n",
    "vocab_size, stoi"
   ]
  },
  {
   "cell_type": "code",
   "execution_count": 80,
   "id": "34a5ea7e-e807-4c4e-9812-3ef8dd4fbac6",
   "metadata": {},
   "outputs": [],
   "source": [
    "def make_signed_adj_and_labels(spec, node_order, genes, cell_types, stoi):\n",
    "    N = len(node_order)\n",
    "    A = torch.zeros(N, N)\n",
    "    def idx(n): return node_order.index(n)\n",
    "    def add_edge(g, ct, s):\n",
    "        i, j = idx(g), idx(f\"CT_{ct}\")\n",
    "        A[i,j] = s; A[j,i] = s\n",
    "    for ct in cell_types:\n",
    "        for g in spec[ct].get('up', []):   add_edge(g, ct, +1)\n",
    "        for g in spec[ct].get('down', []): add_edge(g, ct, -1)\n",
    "    X_tokens = torch.tensor([stoi[n] for n in node_order], dtype=torch.long)\n",
    "    y_node = torch.full((N,), -1, dtype=torch.long)   # -1 = ignore (CT nodes)\n",
    "    # per-gene cell-type label: 0=Tcells, 1=Bcells; rule: prefer UP; tie-break by order T then B; fallback from DOWN (invert)\n",
    "    for g in genes:\n",
    "        t_up = g in spec['Tcells'].get('up', []); b_up = g in spec['Bcells'].get('up', [])\n",
    "        t_dn = g in spec['Tcells'].get('down', []); b_dn = g in spec['Bcells'].get('down', [])\n",
    "        lab = None\n",
    "        if t_up and not b_up: lab = 0\n",
    "        elif b_up and not t_up: lab = 1\n",
    "        elif t_up and b_up: lab = 0\n",
    "        else:\n",
    "            if t_dn and not b_dn: lab = 1\n",
    "            elif b_dn and not t_dn: lab = 0\n",
    "        if lab is not None: y_node[idx(g)] = lab\n",
    "    return X_tokens, y_node, A"
   ]
  },
  {
   "cell_type": "code",
   "execution_count": 81,
   "id": "84b2754c-0deb-4fc9-af0c-e7fc4a097dc3",
   "metadata": {},
   "outputs": [],
   "source": [
    "graphs = [wild_type, cancerous, cancerous_2, cancerous_3]\n",
    "x_list, y_node_list, a_list = [], [], []"
   ]
  },
  {
   "cell_type": "code",
   "execution_count": 83,
   "id": "7f1d9bff-b2d0-44cf-80a3-7664dc96888e",
   "metadata": {},
   "outputs": [
    {
     "ename": "NameError",
     "evalue": "name 'X_i' is not defined",
     "output_type": "error",
     "traceback": [
      "\u001b[31m---------------------------------------------------------------------------\u001b[39m",
      "\u001b[31mNameError\u001b[39m                                 Traceback (most recent call last)",
      "\u001b[36mCell\u001b[39m\u001b[36m \u001b[39m\u001b[32mIn[83]\u001b[39m\u001b[32m, line 3\u001b[39m\n\u001b[32m      1\u001b[39m \u001b[38;5;28;01mfor\u001b[39;00m spec \u001b[38;5;129;01min\u001b[39;00m graphs:\n\u001b[32m      2\u001b[39m     x_i, y_i, a_i = make_signed_adj_and_labels(spec, node_order, genes, cell_types, stoi)\n\u001b[32m----> \u001b[39m\u001b[32m3\u001b[39m     x_list.append(X_i); y_node_list.append(y_i); a_list.append(a_i.float())\n",
      "\u001b[31mNameError\u001b[39m: name 'X_i' is not defined"
     ]
    }
   ],
   "source": [
    "for spec in graphs:\n",
    "    x_i, y_i, a_i = make_signed_adj_and_labels(spec, node_order, genes, cell_types, stoi)\n",
    "    x_list.append(x_i); y_node_list.append(y_i); a_list.append(a_i.float())\n",
    "\n",
    "x_list, y_node_list"
   ]
  },
  {
   "cell_type": "code",
   "execution_count": null,
   "id": "9e2e3a57-6b0d-401b-8b57-bb3a8be550af",
   "metadata": {},
   "outputs": [],
   "source": []
  },
  {
   "cell_type": "code",
   "execution_count": null,
   "id": "d67ae0d2-29ed-4034-9761-a8e517bd1aa2",
   "metadata": {},
   "outputs": [],
   "source": []
  },
  {
   "cell_type": "code",
   "execution_count": 6,
   "id": "f1b1276b-ef06-4c61-b2f8-1ff8e991888e",
   "metadata": {},
   "outputs": [
    {
     "data": {
      "text/plain": [
       "(tensor([0, 1, 2, 3, 4, 5]),\n",
       " tensor([6, 6, 6, 8, 4, 5]),\n",
       " tensor([[ 0.,  0.,  0.,  0.,  1., -1.],\n",
       "         [ 0.,  0.,  0.,  0.,  1., -1.],\n",
       "         [ 0.,  0.,  0.,  0.,  1., -1.],\n",
       "         [ 0.,  0.,  0.,  0., -1.,  1.],\n",
       "         [ 1.,  1.,  1., -1.,  0.,  0.],\n",
       "         [-1., -1., -1.,  1.,  0.,  0.]]))"
      ]
     },
     "execution_count": 6,
     "metadata": {},
     "output_type": "execute_result"
    }
   ],
   "source": [
    "# ----- assemble batch for SimpleGCNText -----\n",
    "X1, Y1, A1 = make_graph_tensors(wild_type, genes, cell_types, node_order, stoi)\n",
    "X1, Y1, A1"
   ]
  },
  {
   "cell_type": "code",
   "execution_count": 7,
   "id": "66cc6c3e-b712-4b11-9003-2a370183b756",
   "metadata": {},
   "outputs": [
    {
     "data": {
      "text/plain": [
       "(tensor([0, 1, 2, 3, 4, 5]),\n",
       " tensor([6, 7, 6, 8, 4, 5]),\n",
       " tensor([[ 0.,  0.,  0.,  0.,  1., -1.],\n",
       "         [ 0.,  0.,  0.,  0., -1., -1.],\n",
       "         [ 0.,  0.,  0.,  0.,  1.,  1.],\n",
       "         [ 0.,  0.,  0.,  0., -1.,  1.],\n",
       "         [ 1., -1.,  1., -1.,  0.,  0.],\n",
       "         [-1., -1.,  1.,  1.,  0.,  0.]]))"
      ]
     },
     "execution_count": 7,
     "metadata": {},
     "output_type": "execute_result"
    }
   ],
   "source": [
    "X2, Y2, A2 = make_graph_tensors(cancerous, genes, cell_types, node_order, stoi)\n",
    "X2, Y2, A2"
   ]
  },
  {
   "cell_type": "code",
   "execution_count": 8,
   "id": "3a03b646-8bda-4f77-8beb-a58d31267481",
   "metadata": {},
   "outputs": [
    {
     "data": {
      "text/plain": [
       "(tensor([0, 1, 2, 3, 4, 5]),\n",
       " tensor([7, 7, 6, 8, 4, 5]),\n",
       " tensor([[ 0.,  0.,  0.,  0., -1., -1.],\n",
       "         [ 0.,  0.,  0.,  0., -1., -1.],\n",
       "         [ 0.,  0.,  0.,  0.,  1.,  1.],\n",
       "         [ 0.,  0.,  0.,  0., -1.,  1.],\n",
       "         [-1., -1.,  1., -1.,  0.,  0.],\n",
       "         [-1., -1.,  1.,  1.,  0.,  0.]]))"
      ]
     },
     "execution_count": 8,
     "metadata": {},
     "output_type": "execute_result"
    }
   ],
   "source": [
    "X3, Y3, A3 = make_graph_tensors(cancerous_2, genes, cell_types, node_order, stoi)\n",
    "X3, Y3, A3"
   ]
  },
  {
   "cell_type": "code",
   "execution_count": 9,
   "id": "5875c349-8329-41af-9c45-823d5931e663",
   "metadata": {},
   "outputs": [
    {
     "data": {
      "text/plain": [
       "(tensor([0, 1, 2, 3, 4, 5]),\n",
       " tensor([7, 6, 6, 7, 4, 5]),\n",
       " tensor([[ 0.,  0.,  0.,  0., -1., -1.],\n",
       "         [ 0.,  0.,  0.,  0.,  1.,  1.],\n",
       "         [ 0.,  0.,  0.,  0.,  1.,  1.],\n",
       "         [ 0.,  0.,  0.,  0., -1., -1.],\n",
       "         [-1.,  1.,  1., -1.,  0.,  0.],\n",
       "         [-1.,  1.,  1., -1.,  0.,  0.]]))"
      ]
     },
     "execution_count": 9,
     "metadata": {},
     "output_type": "execute_result"
    }
   ],
   "source": [
    "X4, Y4, A4 = make_graph_tensors(cancerous_3, genes, cell_types, node_order, stoi)\n",
    "X4, Y4, A4"
   ]
  },
  {
   "cell_type": "code",
   "execution_count": 10,
   "id": "634a6a28-395a-42e7-8275-45c5b31bfe41",
   "metadata": {},
   "outputs": [],
   "source": [
    "import networkx as nx\n",
    "import matplotlib.pyplot as plt\n",
    "\n",
    "def graph_from_adjacency(A, node_order, genes):\n",
    "    G = nx.Graph()\n",
    "    for n in node_order:\n",
    "        G.add_node(n, bipartite=(0 if n in genes else 1))\n",
    "    N = len(node_order)\n",
    "    for i in range(N):\n",
    "        for j in range(i+1, N):\n",
    "            s = float(A[i, j])\n",
    "            if s != 0:\n",
    "                G.add_edge(node_order[i], node_order[j], sign=int(s))\n",
    "    return G\n",
    "\n",
    "def draw_signed_bipartite(G, node_order, genes, ax=None, title=''):\n",
    "    if ax is None:\n",
    "        _, ax = plt.subplots(figsize=(6, 4))\n",
    "    left  = [n for n,d in G.nodes(data=True) if d['bipartite'] == 0]\n",
    "    right = [n for n,d in G.nodes(data=True) if d['bipartite'] == 1]\n",
    "\n",
    "    # Simple 2-column bipartite layout\n",
    "    pos = {}\n",
    "    for i, n in enumerate(left):  pos[n] = (0.0, i)\n",
    "    for j, n in enumerate(right): pos[n] = (1.0, j)\n",
    "\n",
    "    # Nodes\n",
    "    nx.draw_networkx_nodes(G, pos, nodelist=left,  node_shape='o', ax=ax)\n",
    "    nx.draw_networkx_nodes(G, pos, nodelist=right, node_shape='s', ax=ax)\n",
    "\n",
    "    # Edges: solid for + (upregulated), dashed for - (downregulated)\n",
    "    pos_edges = [(u,v) for u,v,d in G.edges(data=True) if d['sign'] > 0]\n",
    "    neg_edges = [(u,v) for u,v,d in G.edges(data=True) if d['sign'] < 0]\n",
    "    nx.draw_networkx_edges(G, pos, edgelist=pos_edges, style='solid',  ax=ax)\n",
    "    nx.draw_networkx_edges(G, pos, edgelist=neg_edges, style='dashed', ax=ax)\n",
    "\n",
    "    # Labels\n",
    "    nx.draw_networkx_labels(G, pos, font_size=9, ax=ax)\n",
    "\n",
    "    # Legend proxies\n",
    "    from matplotlib.lines import Line2D\n",
    "    ax.legend(\n",
    "        [Line2D([0],[0], linestyle='solid'),\n",
    "         Line2D([0],[0], linestyle='dashed')],\n",
    "        ['upregulated (+)', 'downregulated (−)'], loc='upper right', frameon=False\n",
    "    )\n",
    "    ax.set_title(title)\n",
    "    ax.axis('off')\n",
    "    return ax"
   ]
  },
  {
   "cell_type": "code",
   "execution_count": 11,
   "id": "93a874bd-15b1-42f9-b460-014a65e4ed96",
   "metadata": {},
   "outputs": [
    {
     "data": {
      "image/png": "[encoded data removed]",
      "text/plain": [
       "<Figure size 1000x400 with 4 Axes>"
      ]
     },
     "metadata": {},
     "output_type": "display_data"
    }
   ],
   "source": [
    "# Build and draw both graphs\n",
    "G1 = graph_from_adjacency(A1, node_order, genes)\n",
    "G2 = graph_from_adjacency(A2, node_order, genes)\n",
    "G3 = graph_from_adjacency(A3, node_order, genes)\n",
    "G4 = graph_from_adjacency(A4, node_order, genes)\n",
    "\n",
    "fig, axes = plt.subplots(2, 2, figsize=(10, 4), constrained_layout=True)\n",
    "draw_signed_bipartite(G1, node_order, genes, ax=axes[0,0], title='Wild Type')\n",
    "draw_signed_bipartite(G2, node_order, genes, ax=axes[0,1], title='Cancerous')\n",
    "draw_signed_bipartite(G3, node_order, genes, ax=axes[1,0], title='Cancerous 2')\n",
    "draw_signed_bipartite(G3, node_order, genes, ax=axes[1,1], title='Cancerous 3')\n",
    "plt.show()\n"
   ]
  },
  {
   "cell_type": "markdown",
   "id": "daa14583-b673-48ae-a53d-353275a6b170",
   "metadata": {},
   "source": [
    "# Modeling"
   ]
  },
  {
   "cell_type": "markdown",
   "id": "20c2576e-4d03-47f5-83c9-5f69bb845bb9",
   "metadata": {},
   "source": [
    "A machine learning model forward pass now uses the tokenization information, runs several layers of linear algebra on it, and then \"predicts\" the probability that each token in the vocab is next. When it is noisy (like you will see in this example), this process results in gibberish.  The training process changes the noise to pattern during the \"backward pass\" as you'll see. We'll show 3 steps that are focused on training:\n",
    "1. **Data Loading** `x, y = train_loader.next_batch()` - this step pulls from the raw data enough tokens to complete a forward pass and loss calculation.  If the model is inference only, this step is replaced with taking in the inference input and preparing it similarly as the forward pass.\n",
    "2. **Forward Pass** `logits, loss = model(x, y)` - using the data and the model architecture we run a prediction for the tokens. When training we also compare against the expected to get loss, but in inference, we use the logits to complete the inference task.\n",
    "3. **Back Propagation, aka Backward Pass & Training** `loss.backward(); optimizer.step()` - using differentials to understand what parameters most impact the forward pass' impact on its prediction, comparing that against what is actually right based on the data loading step, and then making very minor adjustments to the impactful parameters with the hope it improves future predictions.\n",
    "\n",
    "The we'll show a final **Forward Pass** with the updated weights we did in #3. "
   ]
  },
  {
   "cell_type": "markdown",
   "id": "3a1a64a9-88b9-405f-9076-f26b31d751cb",
   "metadata": {},
   "source": [
    "## Data Loading"
   ]
  },
  {
   "cell_type": "markdown",
   "id": "0b219fb8-da7b-4d3f-928f-3a3fbb3edaf4",
   "metadata": {},
   "source": [
    "To start, we need to get enough data to run the forward and backward passes.  Since our total dataset is likely too big to be held in memory all at once in real practice, we will read just enough file information into memory so that we can run the passes, leaving memory and compute to be used on the passes instead of static data holding. \n",
    "To start, we have to identify the batch size and the model context length to determine how much data we need.  Consequently, these dimensions also form 2 of the 3 dimensions in the initial matrix.\n",
    "- **Batch Size (B)** - This is the number of examples you'll train on in a single pass. \n",
    "- **Number of Nodes (N)** - This is basically the \"context length\" for a GNN.  This is the max number of node that a model can use in a pass.\n",
    "\n",
    "Beyond these, in a GCN, the depth also controls how much \"context\" or complexity can be learned. This is because each GCN layer learns 1 hop, or 1 relationship of neighbors. This means that after $L$ layers, a model can learn $L$-hops worth of context.\n",
    "\n",
    "In our case we'll set our Batch to be our 2 examples, nodes to the the nodes we have configured, 10, and our GCN will have 2 layers to model 2 network hops: gene → cell type → other genes"
   ]
  },
  {
   "cell_type": "code",
   "execution_count": 12,
   "id": "bb0a6c56-3be5-4750-b96b-74539aad3516",
   "metadata": {},
   "outputs": [
    {
     "data": {
      "text/plain": [
       "tensor([[0, 1, 2, 3, 4, 5],\n",
       "        [0, 1, 2, 3, 4, 5],\n",
       "        [0, 1, 2, 3, 4, 5],\n",
       "        [0, 1, 2, 3, 4, 5]])"
      ]
     },
     "execution_count": 12,
     "metadata": {},
     "output_type": "execute_result"
    }
   ],
   "source": [
    "x_tokens = torch.stack([X1, X2, X3, X4], dim=0)     # [B=2, N=10]\n",
    "x_tokens"
   ]
  },
  {
   "cell_type": "code",
   "execution_count": 13,
   "id": "398f1753-b2cd-4bcc-a782-b7df306cc01b",
   "metadata": {},
   "outputs": [
    {
     "data": {
      "text/plain": [
       "tensor([[6, 6, 6, 8, 4, 5],\n",
       "        [6, 7, 6, 8, 4, 5],\n",
       "        [7, 7, 6, 8, 4, 5],\n",
       "        [7, 6, 6, 7, 4, 5]])"
      ]
     },
     "execution_count": 13,
     "metadata": {},
     "output_type": "execute_result"
    }
   ],
   "source": [
    "y_labels = torch.stack([Y1, Y2, Y3, Y4], dim=0)     # [2, 10]\n",
    "y_labels"
   ]
  },
  {
   "cell_type": "code",
   "execution_count": 14,
   "id": "1e192adb-bbf8-45bf-8a8d-bc58fbdf7ff9",
   "metadata": {},
   "outputs": [
    {
     "data": {
      "text/plain": [
       "(4, 6)"
      ]
     },
     "execution_count": 14,
     "metadata": {},
     "output_type": "execute_result"
    }
   ],
   "source": [
    "B_batch, N_nodes = x_tokens.shape\n",
    "B_batch, N_nodes"
   ]
  },
  {
   "cell_type": "markdown",
   "id": "4a919d5c-671a-4afe-88fb-cce01d5a3834",
   "metadata": {},
   "source": [
    "### Create and normalize Graph"
   ]
  },
  {
   "cell_type": "code",
   "execution_count": 15,
   "id": "a5772026-e570-4629-8179-f1ade708ed28",
   "metadata": {},
   "outputs": [
    {
     "data": {
      "text/plain": [
       "[tensor([[ 0.,  0.,  0.,  0.,  1., -1.],\n",
       "         [ 0.,  0.,  0.,  0.,  1., -1.],\n",
       "         [ 0.,  0.,  0.,  0.,  1., -1.],\n",
       "         [ 0.,  0.,  0.,  0., -1.,  1.],\n",
       "         [ 1.,  1.,  1., -1.,  0.,  0.],\n",
       "         [-1., -1., -1.,  1.,  0.,  0.]]),\n",
       " tensor([[ 0.,  0.,  0.,  0.,  1., -1.],\n",
       "         [ 0.,  0.,  0.,  0., -1., -1.],\n",
       "         [ 0.,  0.,  0.,  0.,  1.,  1.],\n",
       "         [ 0.,  0.,  0.,  0., -1.,  1.],\n",
       "         [ 1., -1.,  1., -1.,  0.,  0.],\n",
       "         [-1., -1.,  1.,  1.,  0.,  0.]]),\n",
       " tensor([[ 0.,  0.,  0.,  0., -1., -1.],\n",
       "         [ 0.,  0.,  0.,  0., -1., -1.],\n",
       "         [ 0.,  0.,  0.,  0.,  1.,  1.],\n",
       "         [ 0.,  0.,  0.,  0., -1.,  1.],\n",
       "         [-1., -1.,  1., -1.,  0.,  0.],\n",
       "         [-1., -1.,  1.,  1.,  0.,  0.]]),\n",
       " tensor([[ 0.,  0.,  0.,  0., -1., -1.],\n",
       "         [ 0.,  0.,  0.,  0.,  1.,  1.],\n",
       "         [ 0.,  0.,  0.,  0.,  1.,  1.],\n",
       "         [ 0.,  0.,  0.,  0., -1., -1.],\n",
       "         [-1.,  1.,  1., -1.,  0.,  0.],\n",
       "         [-1.,  1.,  1., -1.,  0.,  0.]])]"
      ]
     },
     "execution_count": 15,
     "metadata": {},
     "output_type": "execute_result"
    }
   ],
   "source": [
    "a_list   = [A1.float(), A2.float(),A3.float(),A4.float()]         # list of [10,10] signed adjacencies\n",
    "a_list"
   ]
  },
  {
   "cell_type": "markdown",
   "id": "60950adb-ccb7-4337-9b5a-2c7184b563fa",
   "metadata": {},
   "source": [
    "**Normalize**"
   ]
  },
  {
   "cell_type": "markdown",
   "id": "9141514c-afe4-416f-abc0-17f33d578c85",
   "metadata": {},
   "source": [
    "The signed, symmetrically normalized adjacency keeps message-passing **well-scaled and stable** across nodes with very different degrees, improves **convergence** and **gradient flow**, and (with signs) lets the model use **inhibitory (negative) as well as excitatory (positive)** relations without blowing up or collapsing activations.\n",
    "\n",
    "**What it’s doing.** It first adds self-loops $\\hat A = A + I$ so each node preserves its own features, then computes degrees from magnitudes $\\deg_i=\\sum_j |\\hat A_{ij}|$ (so negative edges don’t cancel connectivity), and forms\n",
    "\n",
    "$$\n",
    "\\tilde A = D^{-\\tfrac12},\\hat A,D^{-\\tfrac12} \\newline\n",
    "\\text{so}\\\\\n",
    "\\quad w_{ij}=\\frac{\\hat A_{ij}}{\\sqrt{\\deg_i,\\deg_j}}.\n",
    "$$\n",
    "\n",
    "This makes neighbor messages **degree-normalized averages** (with sign), yields a **symmetric** propagation operator with **bounded spectral norm**, and thus keeps features on a comparable scale over layers while still encoding up- vs down-regulation via the sign of $\\hat A_{ij}$."
   ]
  },
  {
   "cell_type": "code",
   "execution_count": 16,
   "id": "be22a2dd-2756-45f0-a21b-9c04c53263d7",
   "metadata": {},
   "outputs": [],
   "source": [
    "Apos_norms, Aneg_norms = [], []"
   ]
  },
  {
   "cell_type": "code",
   "execution_count": 17,
   "id": "a4200c9e-5211-44d3-a484-da85b849c4fb",
   "metadata": {},
   "outputs": [
    {
     "data": {
      "text/plain": [
       "tensor([[ 0.,  0.,  0.,  0.,  1., -1.],\n",
       "        [ 0.,  0.,  0.,  0.,  1., -1.],\n",
       "        [ 0.,  0.,  0.,  0.,  1., -1.],\n",
       "        [ 0.,  0.,  0.,  0., -1.,  1.],\n",
       "        [ 1.,  1.,  1., -1.,  0.,  0.],\n",
       "        [-1., -1., -1.,  1.,  0.,  0.]])"
      ]
     },
     "execution_count": 17,
     "metadata": {},
     "output_type": "execute_result"
    }
   ],
   "source": [
    "A = a_list[0]\n",
    "A"
   ]
  },
  {
   "cell_type": "code",
   "execution_count": 18,
   "id": "40fb7d17-67e5-4bd3-99e8-d285a7781b56",
   "metadata": {},
   "outputs": [
    {
     "data": {
      "text/plain": [
       "(tensor([[0., 0., 0., 0., 1., 0.],\n",
       "         [0., 0., 0., 0., 1., 0.],\n",
       "         [0., 0., 0., 0., 1., 0.],\n",
       "         [0., 0., 0., 0., 0., 1.],\n",
       "         [1., 1., 1., 0., 0., 0.],\n",
       "         [0., 0., 0., 1., 0., 0.]]),\n",
       " tensor([[0., 0., 0., 0., 0., 1.],\n",
       "         [0., 0., 0., 0., 0., 1.],\n",
       "         [0., 0., 0., 0., 0., 1.],\n",
       "         [0., 0., 0., 0., 1., 0.],\n",
       "         [0., 0., 0., 1., 0., 0.],\n",
       "         [1., 1., 1., 0., -0., -0.]]))"
      ]
     },
     "execution_count": 18,
     "metadata": {},
     "output_type": "execute_result"
    }
   ],
   "source": [
    "A_pos = torch.clamp(A, min=0)  \n",
    "A_neg = torch.clamp(-A, min=0)  \n",
    "A_pos, A_neg"
   ]
  },
  {
   "cell_type": "code",
   "execution_count": 19,
   "id": "befa77c0-6fc1-42f5-89d9-7e2f40786ae9",
   "metadata": {},
   "outputs": [
    {
     "data": {
      "text/plain": [
       "tensor([[1., 0., 0., 0., 0., 0.],\n",
       "        [0., 1., 0., 0., 0., 0.],\n",
       "        [0., 0., 1., 0., 0., 0.],\n",
       "        [0., 0., 0., 1., 0., 0.],\n",
       "        [0., 0., 0., 0., 1., 0.],\n",
       "        [0., 0., 0., 0., 0., 1.]])"
      ]
     },
     "execution_count": 19,
     "metadata": {},
     "output_type": "execute_result"
    }
   ],
   "source": [
    "I = torch.eye(N_nodes)\n",
    "I"
   ]
  },
  {
   "cell_type": "code",
   "execution_count": 20,
   "id": "4ad3f31b-b686-4c26-82b7-b41cefbfd0c4",
   "metadata": {},
   "outputs": [
    {
     "data": {
      "text/plain": [
       "(tensor([[1., 0., 0., 0., 1., 0.],\n",
       "         [0., 1., 0., 0., 1., 0.],\n",
       "         [0., 0., 1., 0., 1., 0.],\n",
       "         [0., 0., 0., 1., 0., 1.],\n",
       "         [1., 1., 1., 0., 1., 0.],\n",
       "         [0., 0., 0., 1., 0., 1.]]),\n",
       " tensor([[1., 0., 0., 0., 0., 1.],\n",
       "         [0., 1., 0., 0., 0., 1.],\n",
       "         [0., 0., 1., 0., 0., 1.],\n",
       "         [0., 0., 0., 1., 1., 0.],\n",
       "         [0., 0., 0., 1., 1., 0.],\n",
       "         [1., 1., 1., 0., 0., 1.]]))"
      ]
     },
     "execution_count": 20,
     "metadata": {},
     "output_type": "execute_result"
    }
   ],
   "source": [
    "A_pos_hat = A_pos + I\n",
    "A_neg_hat = A_neg + I\n",
    "A_pos_hat, A_neg_hat"
   ]
  },
  {
   "cell_type": "code",
   "execution_count": 21,
   "id": "95329101-d070-4084-9283-ce26af8513a7",
   "metadata": {},
   "outputs": [
    {
     "data": {
      "text/plain": [
       "(tensor([2., 2., 2., 2., 4., 2.]), tensor([2., 2., 2., 2., 2., 4.]))"
      ]
     },
     "execution_count": 21,
     "metadata": {},
     "output_type": "execute_result"
    }
   ],
   "source": [
    "deg_pos = torch.clamp(torch.abs(A_pos_hat).sum(1), min=1e-6)\n",
    "deg_neg = torch.clamp(torch.abs(A_neg_hat).sum(1), min=1e-6)\n",
    "deg_pos, deg_neg"
   ]
  },
  {
   "cell_type": "code",
   "execution_count": 22,
   "id": "df87462e-879c-45ce-9a5d-eda9d0594b0d",
   "metadata": {},
   "outputs": [
    {
     "data": {
      "text/plain": [
       "(tensor([[0.7071, 0.0000, 0.0000, 0.0000, 0.0000, 0.0000],\n",
       "         [0.0000, 0.7071, 0.0000, 0.0000, 0.0000, 0.0000],\n",
       "         [0.0000, 0.0000, 0.7071, 0.0000, 0.0000, 0.0000],\n",
       "         [0.0000, 0.0000, 0.0000, 0.7071, 0.0000, 0.0000],\n",
       "         [0.0000, 0.0000, 0.0000, 0.0000, 0.5000, 0.0000],\n",
       "         [0.0000, 0.0000, 0.0000, 0.0000, 0.0000, 0.7071]]),\n",
       " tensor([[0.7071, 0.0000, 0.0000, 0.0000, 0.0000, 0.0000],\n",
       "         [0.0000, 0.7071, 0.0000, 0.0000, 0.0000, 0.0000],\n",
       "         [0.0000, 0.0000, 0.7071, 0.0000, 0.0000, 0.0000],\n",
       "         [0.0000, 0.0000, 0.0000, 0.7071, 0.0000, 0.0000],\n",
       "         [0.0000, 0.0000, 0.0000, 0.0000, 0.7071, 0.0000],\n",
       "         [0.0000, 0.0000, 0.0000, 0.0000, 0.0000, 0.5000]]))"
      ]
     },
     "execution_count": 22,
     "metadata": {},
     "output_type": "execute_result"
    }
   ],
   "source": [
    "D_pos_inv_sqrt = torch.diag(deg_pos.rsqrt())\n",
    "D_neg_inv_sqrt = torch.diag(deg_neg.rsqrt())\n",
    "D_pos_inv_sqrt, D_neg_inv_sqrt"
   ]
  },
  {
   "cell_type": "code",
   "execution_count": 23,
   "id": "2f4630e3-933c-4f64-8936-744b6d8445c7",
   "metadata": {},
   "outputs": [
    {
     "data": {
      "text/plain": [
       "(tensor([[0.5000, 0.0000, 0.0000, 0.0000, 0.3536, 0.0000],\n",
       "         [0.0000, 0.5000, 0.0000, 0.0000, 0.3536, 0.0000],\n",
       "         [0.0000, 0.0000, 0.5000, 0.0000, 0.3536, 0.0000],\n",
       "         [0.0000, 0.0000, 0.0000, 0.5000, 0.0000, 0.5000],\n",
       "         [0.3536, 0.3536, 0.3536, 0.0000, 0.2500, 0.0000],\n",
       "         [0.0000, 0.0000, 0.0000, 0.5000, 0.0000, 0.5000]]),\n",
       " tensor([[0.5000, 0.0000, 0.0000, 0.0000, 0.0000, 0.3536],\n",
       "         [0.0000, 0.5000, 0.0000, 0.0000, 0.0000, 0.3536],\n",
       "         [0.0000, 0.0000, 0.5000, 0.0000, 0.0000, 0.3536],\n",
       "         [0.0000, 0.0000, 0.0000, 0.5000, 0.5000, 0.0000],\n",
       "         [0.0000, 0.0000, 0.0000, 0.5000, 0.5000, 0.0000],\n",
       "         [0.3536, 0.3536, 0.3536, 0.0000, 0.0000, 0.2500]]))"
      ]
     },
     "execution_count": 23,
     "metadata": {},
     "output_type": "execute_result"
    }
   ],
   "source": [
    "Apos_n = D_pos_inv_sqrt @ A_pos_hat @ D_pos_inv_sqrt\n",
    "Aneg_n = D_neg_inv_sqrt @ A_neg_hat @ D_neg_inv_sqrt\n",
    "Apos_n, Aneg_n"
   ]
  },
  {
   "cell_type": "code",
   "execution_count": 24,
   "id": "afbd95f4-584d-405e-bf1c-caaddf48bfa3",
   "metadata": {},
   "outputs": [],
   "source": [
    "Apos_norms.append(Apos_n)\n",
    "Aneg_norms.append(Aneg_n)"
   ]
  },
  {
   "cell_type": "markdown",
   "id": "da193711-03eb-428e-b7ce-b3c629c613b4",
   "metadata": {},
   "source": [
    "**remaining batch**"
   ]
  },
  {
   "cell_type": "code",
   "execution_count": 25,
   "id": "8fae058d-f396-444a-ad6f-812ba8285103",
   "metadata": {},
   "outputs": [],
   "source": [
    "for A in a_list[1:]:\n",
    "    A_pos = torch.clamp(A, min=0)  \n",
    "    A_neg = torch.clamp(-A, min=0)  \n",
    "    I = torch.eye(N_nodes)\n",
    "    A_pos_hat = A_pos + I\n",
    "    A_neg_hat = A_neg + I\n",
    "    deg_pos = torch.clamp(torch.abs(A_pos_hat).sum(1), min=1e-6)\n",
    "    deg_neg = torch.clamp(torch.abs(A_neg_hat).sum(1), min=1e-6)\n",
    "    D_pos_inv_sqrt = torch.diag(deg_pos.rsqrt())\n",
    "    D_neg_inv_sqrt = torch.diag(deg_neg.rsqrt())\n",
    "    Apos_n = D_pos_inv_sqrt @ A_pos_hat @ D_pos_inv_sqrt\n",
    "    Aneg_n = D_neg_inv_sqrt @ A_neg_hat @ D_neg_inv_sqrt\n",
    "    Apos_norms.append(Apos_n)\n",
    "    Aneg_norms.append(Aneg_n)"
   ]
  },
  {
   "cell_type": "code",
   "execution_count": 26,
   "id": "39e14fa9-7d81-426c-967c-b40d2735b4cc",
   "metadata": {},
   "outputs": [
    {
     "data": {
      "text/plain": [
       "[tensor([[0.5000, 0.0000, 0.0000, 0.0000, 0.3536, 0.0000],\n",
       "         [0.0000, 0.5000, 0.0000, 0.0000, 0.3536, 0.0000],\n",
       "         [0.0000, 0.0000, 0.5000, 0.0000, 0.3536, 0.0000],\n",
       "         [0.0000, 0.0000, 0.0000, 0.5000, 0.0000, 0.5000],\n",
       "         [0.3536, 0.3536, 0.3536, 0.0000, 0.2500, 0.0000],\n",
       "         [0.0000, 0.0000, 0.0000, 0.5000, 0.0000, 0.5000]]),\n",
       " tensor([[0.5000, 0.0000, 0.0000, 0.0000, 0.4082, 0.0000],\n",
       "         [0.0000, 1.0000, 0.0000, 0.0000, 0.0000, 0.0000],\n",
       "         [0.0000, 0.0000, 0.3333, 0.0000, 0.3333, 0.3333],\n",
       "         [0.0000, 0.0000, 0.0000, 0.5000, 0.0000, 0.4082],\n",
       "         [0.4082, 0.0000, 0.3333, 0.0000, 0.3333, 0.0000],\n",
       "         [0.0000, 0.0000, 0.3333, 0.4082, 0.0000, 0.3333]]),\n",
       " tensor([[1.0000, 0.0000, 0.0000, 0.0000, 0.0000, 0.0000],\n",
       "         [0.0000, 1.0000, 0.0000, 0.0000, 0.0000, 0.0000],\n",
       "         [0.0000, 0.0000, 0.3333, 0.0000, 0.4082, 0.3333],\n",
       "         [0.0000, 0.0000, 0.0000, 0.5000, 0.0000, 0.4082],\n",
       "         [0.0000, 0.0000, 0.4082, 0.0000, 0.5000, 0.0000],\n",
       "         [0.0000, 0.0000, 0.3333, 0.4082, 0.0000, 0.3333]]),\n",
       " tensor([[1.0000, 0.0000, 0.0000, 0.0000, 0.0000, 0.0000],\n",
       "         [0.0000, 0.3333, 0.0000, 0.0000, 0.3333, 0.3333],\n",
       "         [0.0000, 0.0000, 0.3333, 0.0000, 0.3333, 0.3333],\n",
       "         [0.0000, 0.0000, 0.0000, 1.0000, 0.0000, 0.0000],\n",
       "         [0.0000, 0.3333, 0.3333, 0.0000, 0.3333, 0.0000],\n",
       "         [0.0000, 0.3333, 0.3333, 0.0000, 0.0000, 0.3333]])]"
      ]
     },
     "execution_count": 26,
     "metadata": {},
     "output_type": "execute_result"
    }
   ],
   "source": [
    "Apos_norms"
   ]
  },
  {
   "cell_type": "code",
   "execution_count": 27,
   "id": "798923a9-66b8-4d82-836f-d2a9474fd16a",
   "metadata": {},
   "outputs": [
    {
     "data": {
      "text/plain": [
       "[tensor([[0.5000, 0.0000, 0.0000, 0.0000, 0.0000, 0.3536],\n",
       "         [0.0000, 0.5000, 0.0000, 0.0000, 0.0000, 0.3536],\n",
       "         [0.0000, 0.0000, 0.5000, 0.0000, 0.0000, 0.3536],\n",
       "         [0.0000, 0.0000, 0.0000, 0.5000, 0.5000, 0.0000],\n",
       "         [0.0000, 0.0000, 0.0000, 0.5000, 0.5000, 0.0000],\n",
       "         [0.3536, 0.3536, 0.3536, 0.0000, 0.0000, 0.2500]]),\n",
       " tensor([[0.5000, 0.0000, 0.0000, 0.0000, 0.0000, 0.4082],\n",
       "         [0.0000, 0.3333, 0.0000, 0.0000, 0.3333, 0.3333],\n",
       "         [0.0000, 0.0000, 1.0000, 0.0000, 0.0000, 0.0000],\n",
       "         [0.0000, 0.0000, 0.0000, 0.5000, 0.4082, 0.0000],\n",
       "         [0.0000, 0.3333, 0.0000, 0.4082, 0.3333, 0.0000],\n",
       "         [0.4082, 0.3333, 0.0000, 0.0000, 0.0000, 0.3333]]),\n",
       " tensor([[0.3333, 0.0000, 0.0000, 0.0000, 0.2887, 0.3333],\n",
       "         [0.0000, 0.3333, 0.0000, 0.0000, 0.2887, 0.3333],\n",
       "         [0.0000, 0.0000, 1.0000, 0.0000, 0.0000, 0.0000],\n",
       "         [0.0000, 0.0000, 0.0000, 0.5000, 0.3536, 0.0000],\n",
       "         [0.2887, 0.2887, 0.0000, 0.3536, 0.2500, 0.0000],\n",
       "         [0.3333, 0.3333, 0.0000, 0.0000, 0.0000, 0.3333]]),\n",
       " tensor([[0.3333, 0.0000, 0.0000, 0.0000, 0.3333, 0.3333],\n",
       "         [0.0000, 1.0000, 0.0000, 0.0000, 0.0000, 0.0000],\n",
       "         [0.0000, 0.0000, 1.0000, 0.0000, 0.0000, 0.0000],\n",
       "         [0.0000, 0.0000, 0.0000, 0.3333, 0.3333, 0.3333],\n",
       "         [0.3333, 0.0000, 0.0000, 0.3333, 0.3333, 0.0000],\n",
       "         [0.3333, 0.0000, 0.0000, 0.3333, 0.0000, 0.3333]])]"
      ]
     },
     "execution_count": 27,
     "metadata": {},
     "output_type": "execute_result"
    }
   ],
   "source": [
    "Aneg_norms"
   ]
  },
  {
   "cell_type": "code",
   "execution_count": 28,
   "id": "7285c32e-3cd7-4ac9-a185-4ae15b1af3b8",
   "metadata": {},
   "outputs": [
    {
     "data": {
      "text/plain": [
       "(torch.Size([24, 24]),\n",
       " tensor([[0.5000, 0.0000, 0.0000, 0.0000, 0.3536, 0.0000, 0.0000, 0.0000, 0.0000,\n",
       "          0.0000, 0.0000, 0.0000, 0.0000, 0.0000, 0.0000, 0.0000, 0.0000, 0.0000,\n",
       "          0.0000, 0.0000, 0.0000, 0.0000, 0.0000, 0.0000],\n",
       "         [0.0000, 0.5000, 0.0000, 0.0000, 0.3536, 0.0000, 0.0000, 0.0000, 0.0000,\n",
       "          0.0000, 0.0000, 0.0000, 0.0000, 0.0000, 0.0000, 0.0000, 0.0000, 0.0000,\n",
       "          0.0000, 0.0000, 0.0000, 0.0000, 0.0000, 0.0000],\n",
       "         [0.0000, 0.0000, 0.5000, 0.0000, 0.3536, 0.0000, 0.0000, 0.0000, 0.0000,\n",
       "          0.0000, 0.0000, 0.0000, 0.0000, 0.0000, 0.0000, 0.0000, 0.0000, 0.0000,\n",
       "          0.0000, 0.0000, 0.0000, 0.0000, 0.0000, 0.0000],\n",
       "         [0.0000, 0.0000, 0.0000, 0.5000, 0.0000, 0.5000, 0.0000, 0.0000, 0.0000,\n",
       "          0.0000, 0.0000, 0.0000, 0.0000, 0.0000, 0.0000, 0.0000, 0.0000, 0.0000,\n",
       "          0.0000, 0.0000, 0.0000, 0.0000, 0.0000, 0.0000],\n",
       "         [0.3536, 0.3536, 0.3536, 0.0000, 0.2500, 0.0000, 0.0000, 0.0000, 0.0000,\n",
       "          0.0000, 0.0000, 0.0000, 0.0000, 0.0000, 0.0000, 0.0000, 0.0000, 0.0000,\n",
       "          0.0000, 0.0000, 0.0000, 0.0000, 0.0000, 0.0000],\n",
       "         [0.0000, 0.0000, 0.0000, 0.5000, 0.0000, 0.5000, 0.0000, 0.0000, 0.0000,\n",
       "          0.0000, 0.0000, 0.0000, 0.0000, 0.0000, 0.0000, 0.0000, 0.0000, 0.0000,\n",
       "          0.0000, 0.0000, 0.0000, 0.0000, 0.0000, 0.0000],\n",
       "         [0.0000, 0.0000, 0.0000, 0.0000, 0.0000, 0.0000, 0.5000, 0.0000, 0.0000,\n",
       "          0.0000, 0.4082, 0.0000, 0.0000, 0.0000, 0.0000, 0.0000, 0.0000, 0.0000,\n",
       "          0.0000, 0.0000, 0.0000, 0.0000, 0.0000, 0.0000],\n",
       "         [0.0000, 0.0000, 0.0000, 0.0000, 0.0000, 0.0000, 0.0000, 1.0000, 0.0000,\n",
       "          0.0000, 0.0000, 0.0000, 0.0000, 0.0000, 0.0000, 0.0000, 0.0000, 0.0000,\n",
       "          0.0000, 0.0000, 0.0000, 0.0000, 0.0000, 0.0000],\n",
       "         [0.0000, 0.0000, 0.0000, 0.0000, 0.0000, 0.0000, 0.0000, 0.0000, 0.3333,\n",
       "          0.0000, 0.3333, 0.3333, 0.0000, 0.0000, 0.0000, 0.0000, 0.0000, 0.0000,\n",
       "          0.0000, 0.0000, 0.0000, 0.0000, 0.0000, 0.0000],\n",
       "         [0.0000, 0.0000, 0.0000, 0.0000, 0.0000, 0.0000, 0.0000, 0.0000, 0.0000,\n",
       "          0.5000, 0.0000, 0.4082, 0.0000, 0.0000, 0.0000, 0.0000, 0.0000, 0.0000,\n",
       "          0.0000, 0.0000, 0.0000, 0.0000, 0.0000, 0.0000],\n",
       "         [0.0000, 0.0000, 0.0000, 0.0000, 0.0000, 0.0000, 0.4082, 0.0000, 0.3333,\n",
       "          0.0000, 0.3333, 0.0000, 0.0000, 0.0000, 0.0000, 0.0000, 0.0000, 0.0000,\n",
       "          0.0000, 0.0000, 0.0000, 0.0000, 0.0000, 0.0000],\n",
       "         [0.0000, 0.0000, 0.0000, 0.0000, 0.0000, 0.0000, 0.0000, 0.0000, 0.3333,\n",
       "          0.4082, 0.0000, 0.3333, 0.0000, 0.0000, 0.0000, 0.0000, 0.0000, 0.0000,\n",
       "          0.0000, 0.0000, 0.0000, 0.0000, 0.0000, 0.0000],\n",
       "         [0.0000, 0.0000, 0.0000, 0.0000, 0.0000, 0.0000, 0.0000, 0.0000, 0.0000,\n",
       "          0.0000, 0.0000, 0.0000, 1.0000, 0.0000, 0.0000, 0.0000, 0.0000, 0.0000,\n",
       "          0.0000, 0.0000, 0.0000, 0.0000, 0.0000, 0.0000],\n",
       "         [0.0000, 0.0000, 0.0000, 0.0000, 0.0000, 0.0000, 0.0000, 0.0000, 0.0000,\n",
       "          0.0000, 0.0000, 0.0000, 0.0000, 1.0000, 0.0000, 0.0000, 0.0000, 0.0000,\n",
       "          0.0000, 0.0000, 0.0000, 0.0000, 0.0000, 0.0000],\n",
       "         [0.0000, 0.0000, 0.0000, 0.0000, 0.0000, 0.0000, 0.0000, 0.0000, 0.0000,\n",
       "          0.0000, 0.0000, 0.0000, 0.0000, 0.0000, 0.3333, 0.0000, 0.4082, 0.3333,\n",
       "          0.0000, 0.0000, 0.0000, 0.0000, 0.0000, 0.0000],\n",
       "         [0.0000, 0.0000, 0.0000, 0.0000, 0.0000, 0.0000, 0.0000, 0.0000, 0.0000,\n",
       "          0.0000, 0.0000, 0.0000, 0.0000, 0.0000, 0.0000, 0.5000, 0.0000, 0.4082,\n",
       "          0.0000, 0.0000, 0.0000, 0.0000, 0.0000, 0.0000],\n",
       "         [0.0000, 0.0000, 0.0000, 0.0000, 0.0000, 0.0000, 0.0000, 0.0000, 0.0000,\n",
       "          0.0000, 0.0000, 0.0000, 0.0000, 0.0000, 0.4082, 0.0000, 0.5000, 0.0000,\n",
       "          0.0000, 0.0000, 0.0000, 0.0000, 0.0000, 0.0000],\n",
       "         [0.0000, 0.0000, 0.0000, 0.0000, 0.0000, 0.0000, 0.0000, 0.0000, 0.0000,\n",
       "          0.0000, 0.0000, 0.0000, 0.0000, 0.0000, 0.3333, 0.4082, 0.0000, 0.3333,\n",
       "          0.0000, 0.0000, 0.0000, 0.0000, 0.0000, 0.0000],\n",
       "         [0.0000, 0.0000, 0.0000, 0.0000, 0.0000, 0.0000, 0.0000, 0.0000, 0.0000,\n",
       "          0.0000, 0.0000, 0.0000, 0.0000, 0.0000, 0.0000, 0.0000, 0.0000, 0.0000,\n",
       "          1.0000, 0.0000, 0.0000, 0.0000, 0.0000, 0.0000],\n",
       "         [0.0000, 0.0000, 0.0000, 0.0000, 0.0000, 0.0000, 0.0000, 0.0000, 0.0000,\n",
       "          0.0000, 0.0000, 0.0000, 0.0000, 0.0000, 0.0000, 0.0000, 0.0000, 0.0000,\n",
       "          0.0000, 0.3333, 0.0000, 0.0000, 0.3333, 0.3333],\n",
       "         [0.0000, 0.0000, 0.0000, 0.0000, 0.0000, 0.0000, 0.0000, 0.0000, 0.0000,\n",
       "          0.0000, 0.0000, 0.0000, 0.0000, 0.0000, 0.0000, 0.0000, 0.0000, 0.0000,\n",
       "          0.0000, 0.0000, 0.3333, 0.0000, 0.3333, 0.3333],\n",
       "         [0.0000, 0.0000, 0.0000, 0.0000, 0.0000, 0.0000, 0.0000, 0.0000, 0.0000,\n",
       "          0.0000, 0.0000, 0.0000, 0.0000, 0.0000, 0.0000, 0.0000, 0.0000, 0.0000,\n",
       "          0.0000, 0.0000, 0.0000, 1.0000, 0.0000, 0.0000],\n",
       "         [0.0000, 0.0000, 0.0000, 0.0000, 0.0000, 0.0000, 0.0000, 0.0000, 0.0000,\n",
       "          0.0000, 0.0000, 0.0000, 0.0000, 0.0000, 0.0000, 0.0000, 0.0000, 0.0000,\n",
       "          0.0000, 0.3333, 0.3333, 0.0000, 0.3333, 0.0000],\n",
       "         [0.0000, 0.0000, 0.0000, 0.0000, 0.0000, 0.0000, 0.0000, 0.0000, 0.0000,\n",
       "          0.0000, 0.0000, 0.0000, 0.0000, 0.0000, 0.0000, 0.0000, 0.0000, 0.0000,\n",
       "          0.0000, 0.3333, 0.3333, 0.0000, 0.0000, 0.3333]]))"
      ]
     },
     "execution_count": 28,
     "metadata": {},
     "output_type": "execute_result"
    }
   ],
   "source": [
    "Apos_blk =  torch.block_diag(*Apos_norms)\n",
    "Apos_blk.size(), Apos_blk"
   ]
  },
  {
   "cell_type": "code",
   "execution_count": 29,
   "id": "68ffb621-2e08-4d77-8f90-0f2d163b7330",
   "metadata": {},
   "outputs": [
    {
     "data": {
      "text/plain": [
       "(torch.Size([24, 24]),\n",
       " tensor([[0.5000, 0.0000, 0.0000, 0.0000, 0.0000, 0.3536, 0.0000, 0.0000, 0.0000,\n",
       "          0.0000, 0.0000, 0.0000, 0.0000, 0.0000, 0.0000, 0.0000, 0.0000, 0.0000,\n",
       "          0.0000, 0.0000, 0.0000, 0.0000, 0.0000, 0.0000],\n",
       "         [0.0000, 0.5000, 0.0000, 0.0000, 0.0000, 0.3536, 0.0000, 0.0000, 0.0000,\n",
       "          0.0000, 0.0000, 0.0000, 0.0000, 0.0000, 0.0000, 0.0000, 0.0000, 0.0000,\n",
       "          0.0000, 0.0000, 0.0000, 0.0000, 0.0000, 0.0000],\n",
       "         [0.0000, 0.0000, 0.5000, 0.0000, 0.0000, 0.3536, 0.0000, 0.0000, 0.0000,\n",
       "          0.0000, 0.0000, 0.0000, 0.0000, 0.0000, 0.0000, 0.0000, 0.0000, 0.0000,\n",
       "          0.0000, 0.0000, 0.0000, 0.0000, 0.0000, 0.0000],\n",
       "         [0.0000, 0.0000, 0.0000, 0.5000, 0.5000, 0.0000, 0.0000, 0.0000, 0.0000,\n",
       "          0.0000, 0.0000, 0.0000, 0.0000, 0.0000, 0.0000, 0.0000, 0.0000, 0.0000,\n",
       "          0.0000, 0.0000, 0.0000, 0.0000, 0.0000, 0.0000],\n",
       "         [0.0000, 0.0000, 0.0000, 0.5000, 0.5000, 0.0000, 0.0000, 0.0000, 0.0000,\n",
       "          0.0000, 0.0000, 0.0000, 0.0000, 0.0000, 0.0000, 0.0000, 0.0000, 0.0000,\n",
       "          0.0000, 0.0000, 0.0000, 0.0000, 0.0000, 0.0000],\n",
       "         [0.3536, 0.3536, 0.3536, 0.0000, 0.0000, 0.2500, 0.0000, 0.0000, 0.0000,\n",
       "          0.0000, 0.0000, 0.0000, 0.0000, 0.0000, 0.0000, 0.0000, 0.0000, 0.0000,\n",
       "          0.0000, 0.0000, 0.0000, 0.0000, 0.0000, 0.0000],\n",
       "         [0.0000, 0.0000, 0.0000, 0.0000, 0.0000, 0.0000, 0.5000, 0.0000, 0.0000,\n",
       "          0.0000, 0.0000, 0.4082, 0.0000, 0.0000, 0.0000, 0.0000, 0.0000, 0.0000,\n",
       "          0.0000, 0.0000, 0.0000, 0.0000, 0.0000, 0.0000],\n",
       "         [0.0000, 0.0000, 0.0000, 0.0000, 0.0000, 0.0000, 0.0000, 0.3333, 0.0000,\n",
       "          0.0000, 0.3333, 0.3333, 0.0000, 0.0000, 0.0000, 0.0000, 0.0000, 0.0000,\n",
       "          0.0000, 0.0000, 0.0000, 0.0000, 0.0000, 0.0000],\n",
       "         [0.0000, 0.0000, 0.0000, 0.0000, 0.0000, 0.0000, 0.0000, 0.0000, 1.0000,\n",
       "          0.0000, 0.0000, 0.0000, 0.0000, 0.0000, 0.0000, 0.0000, 0.0000, 0.0000,\n",
       "          0.0000, 0.0000, 0.0000, 0.0000, 0.0000, 0.0000],\n",
       "         [0.0000, 0.0000, 0.0000, 0.0000, 0.0000, 0.0000, 0.0000, 0.0000, 0.0000,\n",
       "          0.5000, 0.4082, 0.0000, 0.0000, 0.0000, 0.0000, 0.0000, 0.0000, 0.0000,\n",
       "          0.0000, 0.0000, 0.0000, 0.0000, 0.0000, 0.0000],\n",
       "         [0.0000, 0.0000, 0.0000, 0.0000, 0.0000, 0.0000, 0.0000, 0.3333, 0.0000,\n",
       "          0.4082, 0.3333, 0.0000, 0.0000, 0.0000, 0.0000, 0.0000, 0.0000, 0.0000,\n",
       "          0.0000, 0.0000, 0.0000, 0.0000, 0.0000, 0.0000],\n",
       "         [0.0000, 0.0000, 0.0000, 0.0000, 0.0000, 0.0000, 0.4082, 0.3333, 0.0000,\n",
       "          0.0000, 0.0000, 0.3333, 0.0000, 0.0000, 0.0000, 0.0000, 0.0000, 0.0000,\n",
       "          0.0000, 0.0000, 0.0000, 0.0000, 0.0000, 0.0000],\n",
       "         [0.0000, 0.0000, 0.0000, 0.0000, 0.0000, 0.0000, 0.0000, 0.0000, 0.0000,\n",
       "          0.0000, 0.0000, 0.0000, 0.3333, 0.0000, 0.0000, 0.0000, 0.2887, 0.3333,\n",
       "          0.0000, 0.0000, 0.0000, 0.0000, 0.0000, 0.0000],\n",
       "         [0.0000, 0.0000, 0.0000, 0.0000, 0.0000, 0.0000, 0.0000, 0.0000, 0.0000,\n",
       "          0.0000, 0.0000, 0.0000, 0.0000, 0.3333, 0.0000, 0.0000, 0.2887, 0.3333,\n",
       "          0.0000, 0.0000, 0.0000, 0.0000, 0.0000, 0.0000],\n",
       "         [0.0000, 0.0000, 0.0000, 0.0000, 0.0000, 0.0000, 0.0000, 0.0000, 0.0000,\n",
       "          0.0000, 0.0000, 0.0000, 0.0000, 0.0000, 1.0000, 0.0000, 0.0000, 0.0000,\n",
       "          0.0000, 0.0000, 0.0000, 0.0000, 0.0000, 0.0000],\n",
       "         [0.0000, 0.0000, 0.0000, 0.0000, 0.0000, 0.0000, 0.0000, 0.0000, 0.0000,\n",
       "          0.0000, 0.0000, 0.0000, 0.0000, 0.0000, 0.0000, 0.5000, 0.3536, 0.0000,\n",
       "          0.0000, 0.0000, 0.0000, 0.0000, 0.0000, 0.0000],\n",
       "         [0.0000, 0.0000, 0.0000, 0.0000, 0.0000, 0.0000, 0.0000, 0.0000, 0.0000,\n",
       "          0.0000, 0.0000, 0.0000, 0.2887, 0.2887, 0.0000, 0.3536, 0.2500, 0.0000,\n",
       "          0.0000, 0.0000, 0.0000, 0.0000, 0.0000, 0.0000],\n",
       "         [0.0000, 0.0000, 0.0000, 0.0000, 0.0000, 0.0000, 0.0000, 0.0000, 0.0000,\n",
       "          0.0000, 0.0000, 0.0000, 0.3333, 0.3333, 0.0000, 0.0000, 0.0000, 0.3333,\n",
       "          0.0000, 0.0000, 0.0000, 0.0000, 0.0000, 0.0000],\n",
       "         [0.0000, 0.0000, 0.0000, 0.0000, 0.0000, 0.0000, 0.0000, 0.0000, 0.0000,\n",
       "          0.0000, 0.0000, 0.0000, 0.0000, 0.0000, 0.0000, 0.0000, 0.0000, 0.0000,\n",
       "          0.3333, 0.0000, 0.0000, 0.0000, 0.3333, 0.3333],\n",
       "         [0.0000, 0.0000, 0.0000, 0.0000, 0.0000, 0.0000, 0.0000, 0.0000, 0.0000,\n",
       "          0.0000, 0.0000, 0.0000, 0.0000, 0.0000, 0.0000, 0.0000, 0.0000, 0.0000,\n",
       "          0.0000, 1.0000, 0.0000, 0.0000, 0.0000, 0.0000],\n",
       "         [0.0000, 0.0000, 0.0000, 0.0000, 0.0000, 0.0000, 0.0000, 0.0000, 0.0000,\n",
       "          0.0000, 0.0000, 0.0000, 0.0000, 0.0000, 0.0000, 0.0000, 0.0000, 0.0000,\n",
       "          0.0000, 0.0000, 1.0000, 0.0000, 0.0000, 0.0000],\n",
       "         [0.0000, 0.0000, 0.0000, 0.0000, 0.0000, 0.0000, 0.0000, 0.0000, 0.0000,\n",
       "          0.0000, 0.0000, 0.0000, 0.0000, 0.0000, 0.0000, 0.0000, 0.0000, 0.0000,\n",
       "          0.0000, 0.0000, 0.0000, 0.3333, 0.3333, 0.3333],\n",
       "         [0.0000, 0.0000, 0.0000, 0.0000, 0.0000, 0.0000, 0.0000, 0.0000, 0.0000,\n",
       "          0.0000, 0.0000, 0.0000, 0.0000, 0.0000, 0.0000, 0.0000, 0.0000, 0.0000,\n",
       "          0.3333, 0.0000, 0.0000, 0.3333, 0.3333, 0.0000],\n",
       "         [0.0000, 0.0000, 0.0000, 0.0000, 0.0000, 0.0000, 0.0000, 0.0000, 0.0000,\n",
       "          0.0000, 0.0000, 0.0000, 0.0000, 0.0000, 0.0000, 0.0000, 0.0000, 0.0000,\n",
       "          0.3333, 0.0000, 0.0000, 0.3333, 0.0000, 0.3333]]))"
      ]
     },
     "execution_count": 29,
     "metadata": {},
     "output_type": "execute_result"
    }
   ],
   "source": [
    "Aneg_blk =  torch.block_diag(*Aneg_norms)\n",
    "Aneg_blk.size(), Aneg_blk"
   ]
  },
  {
   "cell_type": "markdown",
   "id": "b86c1bd9-c69d-4fbf-ba37-cce872c8c085",
   "metadata": {},
   "source": [
    "## Forward pass"
   ]
  },
  {
   "cell_type": "markdown",
   "id": "f1e25071-34cf-47ee-a392-7b49ef73499c",
   "metadata": {},
   "source": [
    "### Input Layer"
   ]
  },
  {
   "cell_type": "code",
   "execution_count": 30,
   "id": "f64eb292-1169-454f-9e0f-688a9d325e84",
   "metadata": {},
   "outputs": [
    {
     "data": {
      "text/plain": [
       "(10, 3)"
      ]
     },
     "execution_count": 30,
     "metadata": {},
     "output_type": "execute_result"
    }
   ],
   "source": [
    "n_embd = 3 # level of embedding of input tokens\n",
    "vocab_size, n_embd"
   ]
  },
  {
   "cell_type": "markdown",
   "id": "ba3869ac-532b-4a18-9ecf-aa96ef17d634",
   "metadata": {},
   "source": [
    "#### Input Layer - Embedding Projection"
   ]
  },
  {
   "cell_type": "code",
   "execution_count": 31,
   "id": "1a8577c0-d108-4fab-9d41-6b9b8dbb5543",
   "metadata": {},
   "outputs": [
    {
     "data": {
      "text/plain": [
       "Parameter containing:\n",
       "tensor([[0.1000, 0.1000, 0.1000],\n",
       "        [0.1000, 0.1000, 0.1000],\n",
       "        [0.1000, 0.1000, 0.1000],\n",
       "        [0.1000, 0.1000, 0.1000],\n",
       "        [0.1000, 0.1000, 0.1000],\n",
       "        [0.1000, 0.1000, 0.1000],\n",
       "        [0.1000, 0.1000, 0.1000],\n",
       "        [0.1000, 0.1000, 0.1000],\n",
       "        [0.1000, 0.1000, 0.1000],\n",
       "        [0.1000, 0.1000, 0.1000]], requires_grad=True)"
      ]
     },
     "execution_count": 31,
     "metadata": {},
     "output_type": "execute_result"
    }
   ],
   "source": [
    "tok_emb = nn.Embedding(vocab_size, n_embd)\n",
    "nn.init.constant_(tok_emb.weight, 0.1)\n",
    "# with torch.no_grad(): # initilize to W[i,j] = 0.001*(1+i+j) for easy following \n",
    "#     vs, d = tok_emb.num_embeddings, tok_emb.embedding_dim\n",
    "#     rows = torch.arange(vs).unsqueeze(1)  # (vs,1)\n",
    "#     cols = torch.arange(d).unsqueeze(0)  # (1,d)\n",
    "#     pattern = 0.01*(1 + rows + cols)  # W[i,j] = 0.001*(1+i+j)\n",
    "#     tok_emb.weight.copy_(pattern)\n",
    "tok_emb.weight"
   ]
  },
  {
   "cell_type": "code",
   "execution_count": 32,
   "id": "39f1fba0-f4ea-4d69-babc-428e284b01dc",
   "metadata": {},
   "outputs": [
    {
     "data": {
      "text/plain": [
       "tensor([[[0.1000, 0.1000, 0.1000],\n",
       "         [0.1000, 0.1000, 0.1000],\n",
       "         [0.1000, 0.1000, 0.1000],\n",
       "         [0.1000, 0.1000, 0.1000],\n",
       "         [0.1000, 0.1000, 0.1000],\n",
       "         [0.1000, 0.1000, 0.1000]],\n",
       "\n",
       "        [[0.1000, 0.1000, 0.1000],\n",
       "         [0.1000, 0.1000, 0.1000],\n",
       "         [0.1000, 0.1000, 0.1000],\n",
       "         [0.1000, 0.1000, 0.1000],\n",
       "         [0.1000, 0.1000, 0.1000],\n",
       "         [0.1000, 0.1000, 0.1000]],\n",
       "\n",
       "        [[0.1000, 0.1000, 0.1000],\n",
       "         [0.1000, 0.1000, 0.1000],\n",
       "         [0.1000, 0.1000, 0.1000],\n",
       "         [0.1000, 0.1000, 0.1000],\n",
       "         [0.1000, 0.1000, 0.1000],\n",
       "         [0.1000, 0.1000, 0.1000]],\n",
       "\n",
       "        [[0.1000, 0.1000, 0.1000],\n",
       "         [0.1000, 0.1000, 0.1000],\n",
       "         [0.1000, 0.1000, 0.1000],\n",
       "         [0.1000, 0.1000, 0.1000],\n",
       "         [0.1000, 0.1000, 0.1000],\n",
       "         [0.1000, 0.1000, 0.1000]]], grad_fn=<EmbeddingBackward0>)"
      ]
     },
     "execution_count": 32,
     "metadata": {},
     "output_type": "execute_result"
    }
   ],
   "source": [
    "x = tok_emb(x_tokens)\n",
    "x"
   ]
  },
  {
   "cell_type": "markdown",
   "id": "4cced203-0a47-42b1-8620-bfe1256e5924",
   "metadata": {},
   "source": [
    "collapse out batch for learning"
   ]
  },
  {
   "cell_type": "code",
   "execution_count": 33,
   "id": "8bd3ea54-13f6-40ac-ae42-8410f2f461c8",
   "metadata": {},
   "outputs": [
    {
     "data": {
      "text/plain": [
       "(torch.Size([24, 3]),\n",
       " tensor([[0.1000, 0.1000, 0.1000],\n",
       "         [0.1000, 0.1000, 0.1000],\n",
       "         [0.1000, 0.1000, 0.1000],\n",
       "         [0.1000, 0.1000, 0.1000],\n",
       "         [0.1000, 0.1000, 0.1000],\n",
       "         [0.1000, 0.1000, 0.1000],\n",
       "         [0.1000, 0.1000, 0.1000],\n",
       "         [0.1000, 0.1000, 0.1000],\n",
       "         [0.1000, 0.1000, 0.1000],\n",
       "         [0.1000, 0.1000, 0.1000],\n",
       "         [0.1000, 0.1000, 0.1000],\n",
       "         [0.1000, 0.1000, 0.1000],\n",
       "         [0.1000, 0.1000, 0.1000],\n",
       "         [0.1000, 0.1000, 0.1000],\n",
       "         [0.1000, 0.1000, 0.1000],\n",
       "         [0.1000, 0.1000, 0.1000],\n",
       "         [0.1000, 0.1000, 0.1000],\n",
       "         [0.1000, 0.1000, 0.1000],\n",
       "         [0.1000, 0.1000, 0.1000],\n",
       "         [0.1000, 0.1000, 0.1000],\n",
       "         [0.1000, 0.1000, 0.1000],\n",
       "         [0.1000, 0.1000, 0.1000],\n",
       "         [0.1000, 0.1000, 0.1000],\n",
       "         [0.1000, 0.1000, 0.1000]], grad_fn=<ViewBackward0>))"
      ]
     },
     "execution_count": 33,
     "metadata": {},
     "output_type": "execute_result"
    }
   ],
   "source": [
    "x = x.view(B_batch*N_nodes,n_embd)\n",
    "x.size(), x"
   ]
  },
  {
   "cell_type": "markdown",
   "id": "4175d404-23d4-4866-a72e-8bb4deb125f5",
   "metadata": {},
   "source": [
    "### GCN Block"
   ]
  },
  {
   "cell_type": "markdown",
   "id": "33d53c6c-547c-4a04-846d-7215045a655f",
   "metadata": {},
   "source": [
    "#### GCN Block - First Node Convolution"
   ]
  },
  {
   "cell_type": "code",
   "execution_count": 34,
   "id": "09ab3c51-5247-409d-a5d5-64e9635abae8",
   "metadata": {},
   "outputs": [
    {
     "data": {
      "text/plain": [
       "(Parameter containing:\n",
       " tensor([[1., 1., 1.],\n",
       "         [1., 1., 1.],\n",
       "         [1., 1., 1.]], requires_grad=True),\n",
       " Parameter containing:\n",
       " tensor([0., 0., 0.], requires_grad=True))"
      ]
     },
     "execution_count": 34,
     "metadata": {},
     "output_type": "execute_result"
    }
   ],
   "source": [
    "gcn_1_pos = torch.nn.Linear(n_embd, n_embd, bias=True)\n",
    "# with torch.no_grad(): \n",
    "#     vs, d = n_embd, n_embd\n",
    "#     rows = torch.arange(vs).unsqueeze(1)  # (vs,1)\n",
    "#     cols = torch.arange(d).unsqueeze(0)  # (1,d)\n",
    "#     pattern = 0.001*(1 + rows + cols)  # W[i,j] = 0.001*(1+i+j)\n",
    "#     gcn_1_pos.weight.copy_(pattern)\n",
    "nn.init.ones_(gcn_1_pos.weight)\n",
    "nn.init.zeros_(gcn_1_pos.bias)\n",
    "gcn_1_pos.weight, gcn_1_pos.bias"
   ]
  },
  {
   "cell_type": "code",
   "execution_count": 35,
   "id": "f3cabdbe-8b34-4bb4-9b7f-65f884c1d85f",
   "metadata": {},
   "outputs": [
    {
     "data": {
      "text/plain": [
       "tensor([[0.0854, 0.0854, 0.0854],\n",
       "        [0.0854, 0.0854, 0.0854],\n",
       "        [0.0854, 0.0854, 0.0854],\n",
       "        [0.1000, 0.1000, 0.1000],\n",
       "        [0.1311, 0.1311, 0.1311],\n",
       "        [0.1000, 0.1000, 0.1000],\n",
       "        [0.0908, 0.0908, 0.0908],\n",
       "        [0.1000, 0.1000, 0.1000],\n",
       "        [0.1000, 0.1000, 0.1000],\n",
       "        [0.0908, 0.0908, 0.0908],\n",
       "        [0.1075, 0.1075, 0.1075],\n",
       "        [0.1075, 0.1075, 0.1075],\n",
       "        [0.1000, 0.1000, 0.1000],\n",
       "        [0.1000, 0.1000, 0.1000],\n",
       "        [0.1075, 0.1075, 0.1075],\n",
       "        [0.0908, 0.0908, 0.0908],\n",
       "        [0.0908, 0.0908, 0.0908],\n",
       "        [0.1075, 0.1075, 0.1075],\n",
       "        [0.1000, 0.1000, 0.1000],\n",
       "        [0.1000, 0.1000, 0.1000],\n",
       "        [0.1000, 0.1000, 0.1000],\n",
       "        [0.1000, 0.1000, 0.1000],\n",
       "        [0.1000, 0.1000, 0.1000],\n",
       "        [0.1000, 0.1000, 0.1000]], grad_fn=<MmBackward0>)"
      ]
     },
     "execution_count": 35,
     "metadata": {},
     "output_type": "execute_result"
    }
   ],
   "source": [
    "H_pos = Apos_blk @ x\n",
    "H_pos"
   ]
  },
  {
   "cell_type": "code",
   "execution_count": 36,
   "id": "48fdd038-773d-4b0b-b515-2b132bba05e2",
   "metadata": {},
   "outputs": [
    {
     "data": {
      "text/plain": [
       "tensor([[0.2561, 0.2561, 0.2561],\n",
       "        [0.2561, 0.2561, 0.2561],\n",
       "        [0.2561, 0.2561, 0.2561],\n",
       "        [0.3000, 0.3000, 0.3000],\n",
       "        [0.3932, 0.3932, 0.3932],\n",
       "        [0.3000, 0.3000, 0.3000],\n",
       "        [0.2725, 0.2725, 0.2725],\n",
       "        [0.3000, 0.3000, 0.3000],\n",
       "        [0.3000, 0.3000, 0.3000],\n",
       "        [0.2725, 0.2725, 0.2725],\n",
       "        [0.3225, 0.3225, 0.3225],\n",
       "        [0.3225, 0.3225, 0.3225],\n",
       "        [0.3000, 0.3000, 0.3000],\n",
       "        [0.3000, 0.3000, 0.3000],\n",
       "        [0.3225, 0.3225, 0.3225],\n",
       "        [0.2725, 0.2725, 0.2725],\n",
       "        [0.2725, 0.2725, 0.2725],\n",
       "        [0.3225, 0.3225, 0.3225],\n",
       "        [0.3000, 0.3000, 0.3000],\n",
       "        [0.3000, 0.3000, 0.3000],\n",
       "        [0.3000, 0.3000, 0.3000],\n",
       "        [0.3000, 0.3000, 0.3000],\n",
       "        [0.3000, 0.3000, 0.3000],\n",
       "        [0.3000, 0.3000, 0.3000]], grad_fn=<AddmmBackward0>)"
      ]
     },
     "execution_count": 36,
     "metadata": {},
     "output_type": "execute_result"
    }
   ],
   "source": [
    "H_pos =  gcn_1_pos(H_pos)\n",
    "H_pos"
   ]
  },
  {
   "cell_type": "code",
   "execution_count": 37,
   "id": "30d4de1d-af6f-49df-a937-b19c019ac6eb",
   "metadata": {},
   "outputs": [
    {
     "data": {
      "text/plain": [
       "(Parameter containing:\n",
       " tensor([[1., 1., 1.],\n",
       "         [1., 1., 1.],\n",
       "         [1., 1., 1.]], requires_grad=True),\n",
       " Parameter containing:\n",
       " tensor([0., 0., 0.], requires_grad=True))"
      ]
     },
     "execution_count": 37,
     "metadata": {},
     "output_type": "execute_result"
    }
   ],
   "source": [
    "gcn_1_neg = torch.nn.Linear(n_embd, n_embd, bias=True)\n",
    "# with torch.no_grad(): \n",
    "#     vs, d = n_embd, n_embd\n",
    "#     rows = torch.arange(vs).unsqueeze(1)  # (vs,1)\n",
    "#     cols = torch.arange(d).unsqueeze(0)  # (1,d)\n",
    "#     pattern = 0.001*(1 + rows + cols)  # W[i,j] = 0.001*(1+i+j)\n",
    "#     gcn_1_neg.weight.copy_(pattern)\n",
    "nn.init.ones_(gcn_1_neg.weight)\n",
    "torch.nn.init.zeros_(gcn_1_neg.bias)\n",
    "gcn_1_neg.weight, gcn_1_neg.bias"
   ]
  },
  {
   "cell_type": "code",
   "execution_count": 38,
   "id": "b6376c13-6c16-4b4b-b1dc-5cd80a312796",
   "metadata": {},
   "outputs": [
    {
     "data": {
      "text/plain": [
       "tensor([[0.0854, 0.0854, 0.0854],\n",
       "        [0.0854, 0.0854, 0.0854],\n",
       "        [0.0854, 0.0854, 0.0854],\n",
       "        [0.1000, 0.1000, 0.1000],\n",
       "        [0.1000, 0.1000, 0.1000],\n",
       "        [0.1311, 0.1311, 0.1311],\n",
       "        [0.0908, 0.0908, 0.0908],\n",
       "        [0.1000, 0.1000, 0.1000],\n",
       "        [0.1000, 0.1000, 0.1000],\n",
       "        [0.0908, 0.0908, 0.0908],\n",
       "        [0.1075, 0.1075, 0.1075],\n",
       "        [0.1075, 0.1075, 0.1075],\n",
       "        [0.0955, 0.0955, 0.0955],\n",
       "        [0.0955, 0.0955, 0.0955],\n",
       "        [0.1000, 0.1000, 0.1000],\n",
       "        [0.0854, 0.0854, 0.0854],\n",
       "        [0.1181, 0.1181, 0.1181],\n",
       "        [0.1000, 0.1000, 0.1000],\n",
       "        [0.1000, 0.1000, 0.1000],\n",
       "        [0.1000, 0.1000, 0.1000],\n",
       "        [0.1000, 0.1000, 0.1000],\n",
       "        [0.1000, 0.1000, 0.1000],\n",
       "        [0.1000, 0.1000, 0.1000],\n",
       "        [0.1000, 0.1000, 0.1000]], grad_fn=<MmBackward0>)"
      ]
     },
     "execution_count": 38,
     "metadata": {},
     "output_type": "execute_result"
    }
   ],
   "source": [
    "H_neg = Aneg_blk @ x\n",
    "H_neg"
   ]
  },
  {
   "cell_type": "code",
   "execution_count": 39,
   "id": "3989df0d-ccfc-42c1-8e2f-e2ba23e89560",
   "metadata": {},
   "outputs": [
    {
     "data": {
      "text/plain": [
       "tensor([[0.2561, 0.2561, 0.2561],\n",
       "        [0.2561, 0.2561, 0.2561],\n",
       "        [0.2561, 0.2561, 0.2561],\n",
       "        [0.3000, 0.3000, 0.3000],\n",
       "        [0.3000, 0.3000, 0.3000],\n",
       "        [0.3932, 0.3932, 0.3932],\n",
       "        [0.2725, 0.2725, 0.2725],\n",
       "        [0.3000, 0.3000, 0.3000],\n",
       "        [0.3000, 0.3000, 0.3000],\n",
       "        [0.2725, 0.2725, 0.2725],\n",
       "        [0.3225, 0.3225, 0.3225],\n",
       "        [0.3225, 0.3225, 0.3225],\n",
       "        [0.2866, 0.2866, 0.2866],\n",
       "        [0.2866, 0.2866, 0.2866],\n",
       "        [0.3000, 0.3000, 0.3000],\n",
       "        [0.2561, 0.2561, 0.2561],\n",
       "        [0.3543, 0.3543, 0.3543],\n",
       "        [0.3000, 0.3000, 0.3000],\n",
       "        [0.3000, 0.3000, 0.3000],\n",
       "        [0.3000, 0.3000, 0.3000],\n",
       "        [0.3000, 0.3000, 0.3000],\n",
       "        [0.3000, 0.3000, 0.3000],\n",
       "        [0.3000, 0.3000, 0.3000],\n",
       "        [0.3000, 0.3000, 0.3000]], grad_fn=<AddmmBackward0>)"
      ]
     },
     "execution_count": 39,
     "metadata": {},
     "output_type": "execute_result"
    }
   ],
   "source": [
    "H_neg =  gcn_1_neg(H_neg)\n",
    "H_neg"
   ]
  },
  {
   "cell_type": "code",
   "execution_count": 40,
   "id": "b32d879b-d83f-4a7a-85f0-3747953445cc",
   "metadata": {},
   "outputs": [
    {
     "data": {
      "text/plain": [
       "(torch.Size([24, 3]),\n",
       " tensor([[ 0.0000e+00,  0.0000e+00,  0.0000e+00],\n",
       "         [ 0.0000e+00,  0.0000e+00,  0.0000e+00],\n",
       "         [ 0.0000e+00,  0.0000e+00,  0.0000e+00],\n",
       "         [ 0.0000e+00,  0.0000e+00,  0.0000e+00],\n",
       "         [ 9.3198e-02,  9.3198e-02,  9.3198e-02],\n",
       "         [-9.3198e-02, -9.3198e-02, -9.3198e-02],\n",
       "         [ 0.0000e+00,  0.0000e+00,  0.0000e+00],\n",
       "         [ 2.9802e-08,  2.9802e-08,  2.9802e-08],\n",
       "         [-2.9802e-08, -2.9802e-08, -2.9802e-08],\n",
       "         [ 0.0000e+00,  0.0000e+00,  0.0000e+00],\n",
       "         [ 0.0000e+00,  0.0000e+00,  0.0000e+00],\n",
       "         [ 0.0000e+00,  0.0000e+00,  0.0000e+00],\n",
       "         [ 1.3397e-02,  1.3397e-02,  1.3397e-02],\n",
       "         [ 1.3397e-02,  1.3397e-02,  1.3397e-02],\n",
       "         [ 2.2474e-02,  2.2474e-02,  2.2474e-02],\n",
       "         [ 1.6408e-02,  1.6408e-02,  1.6408e-02],\n",
       "         [-8.1797e-02, -8.1797e-02, -8.1797e-02],\n",
       "         [ 2.2474e-02,  2.2474e-02,  2.2474e-02],\n",
       "         [ 2.9802e-08,  2.9802e-08,  2.9802e-08],\n",
       "         [-2.9802e-08, -2.9802e-08, -2.9802e-08],\n",
       "         [-2.9802e-08, -2.9802e-08, -2.9802e-08],\n",
       "         [ 2.9802e-08,  2.9802e-08,  2.9802e-08],\n",
       "         [ 0.0000e+00,  0.0000e+00,  0.0000e+00],\n",
       "         [ 0.0000e+00,  0.0000e+00,  0.0000e+00]], grad_fn=<SubBackward0>))"
      ]
     },
     "execution_count": 40,
     "metadata": {},
     "output_type": "execute_result"
    }
   ],
   "source": [
    "out = H_pos - H_neg\n",
    "out.size(), out"
   ]
  },
  {
   "cell_type": "markdown",
   "id": "0ba4d34e-9b7a-4011-93e6-94a5bfa06818",
   "metadata": {},
   "source": [
    "#### GCN Block - First Batch Norm"
   ]
  },
  {
   "cell_type": "code",
   "execution_count": 41,
   "id": "ea70b76b-1aa7-4984-8a65-001a77833b2a",
   "metadata": {},
   "outputs": [
    {
     "data": {
      "text/plain": [
       "(Parameter containing:\n",
       " tensor([1., 1., 1.], requires_grad=True),\n",
       " Parameter containing:\n",
       " tensor([1.0000e-06, 1.0000e-06, 1.0000e-06], requires_grad=True))"
      ]
     },
     "execution_count": 41,
     "metadata": {},
     "output_type": "execute_result"
    }
   ],
   "source": [
    "bn_a = nn.LayerNorm(n_embd)\n",
    "nn.init.constant_(bn_a.bias, 1e-6) # prevent 0 crashout\n",
    "bn_a.weight, bn_a.bias"
   ]
  },
  {
   "cell_type": "code",
   "execution_count": 42,
   "id": "082584d3-04d6-48d9-a5b9-d151ebf8ca04",
   "metadata": {},
   "outputs": [
    {
     "data": {
      "text/plain": [
       "(torch.Size([24, 3]),\n",
       " tensor([[1.0000e-06, 1.0000e-06, 1.0000e-06],\n",
       "         [1.0000e-06, 1.0000e-06, 1.0000e-06],\n",
       "         [1.0000e-06, 1.0000e-06, 1.0000e-06],\n",
       "         [1.0000e-06, 1.0000e-06, 1.0000e-06],\n",
       "         [1.0000e-06, 1.0000e-06, 1.0000e-06],\n",
       "         [1.0000e-06, 1.0000e-06, 1.0000e-06],\n",
       "         [1.0000e-06, 1.0000e-06, 1.0000e-06],\n",
       "         [1.0000e-06, 1.0000e-06, 1.0000e-06],\n",
       "         [1.0000e-06, 1.0000e-06, 1.0000e-06],\n",
       "         [1.0000e-06, 1.0000e-06, 1.0000e-06],\n",
       "         [1.0000e-06, 1.0000e-06, 1.0000e-06],\n",
       "         [1.0000e-06, 1.0000e-06, 1.0000e-06],\n",
       "         [1.0000e-06, 1.0000e-06, 1.0000e-06],\n",
       "         [1.0000e-06, 1.0000e-06, 1.0000e-06],\n",
       "         [1.0000e-06, 1.0000e-06, 1.0000e-06],\n",
       "         [1.0000e-06, 1.0000e-06, 1.0000e-06],\n",
       "         [1.0000e-06, 1.0000e-06, 1.0000e-06],\n",
       "         [1.0000e-06, 1.0000e-06, 1.0000e-06],\n",
       "         [1.0000e-06, 1.0000e-06, 1.0000e-06],\n",
       "         [1.0000e-06, 1.0000e-06, 1.0000e-06],\n",
       "         [1.0000e-06, 1.0000e-06, 1.0000e-06],\n",
       "         [1.0000e-06, 1.0000e-06, 1.0000e-06],\n",
       "         [1.0000e-06, 1.0000e-06, 1.0000e-06],\n",
       "         [1.0000e-06, 1.0000e-06, 1.0000e-06]],\n",
       "        grad_fn=<NativeLayerNormBackward0>))"
      ]
     },
     "execution_count": 42,
     "metadata": {},
     "output_type": "execute_result"
    }
   ],
   "source": [
    "out = bn_a(out)\n",
    "out.size(), out"
   ]
  },
  {
   "cell_type": "markdown",
   "id": "b64bccc5-6c49-4685-91b2-a0a9e58e58bf",
   "metadata": {},
   "source": [
    "#### GCN Block - Leaky ReLU"
   ]
  },
  {
   "cell_type": "code",
   "execution_count": 43,
   "id": "2172634c-3dfc-48d6-b751-df5e972f007e",
   "metadata": {},
   "outputs": [],
   "source": [
    "lrelu_1= nn.LeakyReLU(negative_slope=0.1)"
   ]
  },
  {
   "cell_type": "code",
   "execution_count": 44,
   "id": "e6d9fdbe-f361-4e1a-8813-2c67a7492b4c",
   "metadata": {},
   "outputs": [
    {
     "data": {
      "text/plain": [
       "(torch.Size([24, 3]),\n",
       " tensor([[1.0000e-06, 1.0000e-06, 1.0000e-06],\n",
       "         [1.0000e-06, 1.0000e-06, 1.0000e-06],\n",
       "         [1.0000e-06, 1.0000e-06, 1.0000e-06],\n",
       "         [1.0000e-06, 1.0000e-06, 1.0000e-06],\n",
       "         [1.0000e-06, 1.0000e-06, 1.0000e-06],\n",
       "         [1.0000e-06, 1.0000e-06, 1.0000e-06],\n",
       "         [1.0000e-06, 1.0000e-06, 1.0000e-06],\n",
       "         [1.0000e-06, 1.0000e-06, 1.0000e-06],\n",
       "         [1.0000e-06, 1.0000e-06, 1.0000e-06],\n",
       "         [1.0000e-06, 1.0000e-06, 1.0000e-06],\n",
       "         [1.0000e-06, 1.0000e-06, 1.0000e-06],\n",
       "         [1.0000e-06, 1.0000e-06, 1.0000e-06],\n",
       "         [1.0000e-06, 1.0000e-06, 1.0000e-06],\n",
       "         [1.0000e-06, 1.0000e-06, 1.0000e-06],\n",
       "         [1.0000e-06, 1.0000e-06, 1.0000e-06],\n",
       "         [1.0000e-06, 1.0000e-06, 1.0000e-06],\n",
       "         [1.0000e-06, 1.0000e-06, 1.0000e-06],\n",
       "         [1.0000e-06, 1.0000e-06, 1.0000e-06],\n",
       "         [1.0000e-06, 1.0000e-06, 1.0000e-06],\n",
       "         [1.0000e-06, 1.0000e-06, 1.0000e-06],\n",
       "         [1.0000e-06, 1.0000e-06, 1.0000e-06],\n",
       "         [1.0000e-06, 1.0000e-06, 1.0000e-06],\n",
       "         [1.0000e-06, 1.0000e-06, 1.0000e-06],\n",
       "         [1.0000e-06, 1.0000e-06, 1.0000e-06]], grad_fn=<LeakyReluBackward0>))"
      ]
     },
     "execution_count": 44,
     "metadata": {},
     "output_type": "execute_result"
    }
   ],
   "source": [
    "out = lrelu_1(out)\n",
    "out.size(), out"
   ]
  },
  {
   "cell_type": "markdown",
   "id": "ad2b1898-8e4f-45b0-822d-437e2f1f00ec",
   "metadata": {},
   "source": [
    "#### GCN Block - Dropout"
   ]
  },
  {
   "cell_type": "code",
   "execution_count": 45,
   "id": "b3f77a00-b595-4246-bcc7-9fc01081921c",
   "metadata": {},
   "outputs": [],
   "source": [
    "drop = torch.nn.Dropout(0.05)"
   ]
  },
  {
   "cell_type": "code",
   "execution_count": 46,
   "id": "ffb72b23-dca0-48d3-a165-fa739c284d06",
   "metadata": {},
   "outputs": [
    {
     "data": {
      "text/plain": [
       "(torch.Size([24, 3]),\n",
       " tensor([[1.0526e-06, 1.0526e-06, 1.0526e-06],\n",
       "         [1.0526e-06, 1.0526e-06, 0.0000e+00],\n",
       "         [1.0526e-06, 1.0526e-06, 1.0526e-06],\n",
       "         [1.0526e-06, 1.0526e-06, 0.0000e+00],\n",
       "         [0.0000e+00, 1.0526e-06, 1.0526e-06],\n",
       "         [1.0526e-06, 1.0526e-06, 1.0526e-06],\n",
       "         [1.0526e-06, 1.0526e-06, 1.0526e-06],\n",
       "         [1.0526e-06, 1.0526e-06, 1.0526e-06],\n",
       "         [1.0526e-06, 1.0526e-06, 1.0526e-06],\n",
       "         [1.0526e-06, 1.0526e-06, 1.0526e-06],\n",
       "         [1.0526e-06, 1.0526e-06, 1.0526e-06],\n",
       "         [1.0526e-06, 1.0526e-06, 1.0526e-06],\n",
       "         [1.0526e-06, 1.0526e-06, 1.0526e-06],\n",
       "         [0.0000e+00, 1.0526e-06, 1.0526e-06],\n",
       "         [1.0526e-06, 1.0526e-06, 1.0526e-06],\n",
       "         [1.0526e-06, 1.0526e-06, 1.0526e-06],\n",
       "         [1.0526e-06, 1.0526e-06, 1.0526e-06],\n",
       "         [1.0526e-06, 1.0526e-06, 1.0526e-06],\n",
       "         [1.0526e-06, 1.0526e-06, 1.0526e-06],\n",
       "         [1.0526e-06, 1.0526e-06, 1.0526e-06],\n",
       "         [1.0526e-06, 1.0526e-06, 1.0526e-06],\n",
       "         [1.0526e-06, 1.0526e-06, 1.0526e-06],\n",
       "         [1.0526e-06, 1.0526e-06, 0.0000e+00],\n",
       "         [1.0526e-06, 1.0526e-06, 1.0526e-06]], grad_fn=<MulBackward0>))"
      ]
     },
     "execution_count": 46,
     "metadata": {},
     "output_type": "execute_result"
    }
   ],
   "source": [
    "out = drop(out) \n",
    "out.size(), out"
   ]
  },
  {
   "cell_type": "markdown",
   "id": "6f13cfb3-a77c-4d3d-9860-4d05742d5bab",
   "metadata": {},
   "source": [
    "#### GCN Block - Second Node Convolution"
   ]
  },
  {
   "cell_type": "code",
   "execution_count": 47,
   "id": "dd69a287-748e-4624-bb92-afea08e877ec",
   "metadata": {},
   "outputs": [
    {
     "data": {
      "text/plain": [
       "(Parameter containing:\n",
       " tensor([[1., 1., 1.],\n",
       "         [1., 1., 1.],\n",
       "         [1., 1., 1.]], requires_grad=True),\n",
       " Parameter containing:\n",
       " tensor([0., 0., 0.], requires_grad=True))"
      ]
     },
     "execution_count": 47,
     "metadata": {},
     "output_type": "execute_result"
    }
   ],
   "source": [
    "gcn_2_pos = torch.nn.Linear(n_embd, n_embd, bias=True)\n",
    "# with torch.no_grad(): \n",
    "#     vs, d = n_embd, n_embd\n",
    "#     rows = torch.arange(vs).unsqueeze(1)  # (vs,1)\n",
    "#     cols = torch.arange(d).unsqueeze(0)  # (1,d)\n",
    "#     pattern = 0.02*(1 + rows + cols)  # W[i,j] = 0.001*(1+i+j)\n",
    "#     gcn_2_pos.weight.copy_(pattern)\n",
    "nn.init.ones_(gcn_2_pos.weight)\n",
    "torch.nn.init.zeros_(gcn_2_pos.bias)\n",
    "gcn_2_pos.weight, gcn_2_pos.bias"
   ]
  },
  {
   "cell_type": "code",
   "execution_count": 48,
   "id": "8f1a06c9-d6e9-4659-ab6f-80bbcdd7713a",
   "metadata": {},
   "outputs": [
    {
     "data": {
      "text/plain": [
       "(torch.Size([24, 3]),\n",
       " tensor([[5.2632e-07, 8.9848e-07, 8.9848e-07],\n",
       "         [5.2632e-07, 8.9848e-07, 3.7216e-07],\n",
       "         [5.2632e-07, 8.9848e-07, 8.9848e-07],\n",
       "         [1.0526e-06, 1.0526e-06, 5.2632e-07],\n",
       "         [1.1165e-06, 1.3796e-06, 1.0075e-06],\n",
       "         [1.0526e-06, 1.0526e-06, 5.2632e-07],\n",
       "         [9.5605e-07, 9.5605e-07, 9.5605e-07],\n",
       "         [1.0526e-06, 1.0526e-06, 1.0526e-06],\n",
       "         [1.0526e-06, 1.0526e-06, 1.0526e-06],\n",
       "         [9.5605e-07, 9.5605e-07, 9.5605e-07],\n",
       "         [1.1315e-06, 1.1315e-06, 1.1315e-06],\n",
       "         [1.1315e-06, 1.1315e-06, 1.1315e-06],\n",
       "         [1.0526e-06, 1.0526e-06, 1.0526e-06],\n",
       "         [0.0000e+00, 1.0526e-06, 1.0526e-06],\n",
       "         [1.1315e-06, 1.1315e-06, 1.1315e-06],\n",
       "         [9.5605e-07, 9.5605e-07, 9.5605e-07],\n",
       "         [9.5605e-07, 9.5605e-07, 9.5605e-07],\n",
       "         [1.1315e-06, 1.1315e-06, 1.1315e-06],\n",
       "         [1.0526e-06, 1.0526e-06, 1.0526e-06],\n",
       "         [1.0526e-06, 1.0526e-06, 7.0175e-07],\n",
       "         [1.0526e-06, 1.0526e-06, 7.0175e-07],\n",
       "         [1.0526e-06, 1.0526e-06, 1.0526e-06],\n",
       "         [1.0526e-06, 1.0526e-06, 7.0175e-07],\n",
       "         [1.0526e-06, 1.0526e-06, 1.0526e-06]], grad_fn=<MmBackward0>))"
      ]
     },
     "execution_count": 48,
     "metadata": {},
     "output_type": "execute_result"
    }
   ],
   "source": [
    "H2_pos = Apos_blk @ out\n",
    "H2_pos.size(), H2_pos"
   ]
  },
  {
   "cell_type": "code",
   "execution_count": 49,
   "id": "1bd3a8fb-5d1c-4d27-ae15-7c5e42a700ab",
   "metadata": {},
   "outputs": [
    {
     "data": {
      "text/plain": [
       "tensor([[2.3233e-06, 2.3233e-06, 2.3233e-06],\n",
       "        [1.7970e-06, 1.7970e-06, 1.7970e-06],\n",
       "        [2.3233e-06, 2.3233e-06, 2.3233e-06],\n",
       "        [2.6316e-06, 2.6316e-06, 2.6316e-06],\n",
       "        [3.5036e-06, 3.5036e-06, 3.5036e-06],\n",
       "        [2.6316e-06, 2.6316e-06, 2.6316e-06],\n",
       "        [2.8682e-06, 2.8682e-06, 2.8682e-06],\n",
       "        [3.1579e-06, 3.1579e-06, 3.1579e-06],\n",
       "        [3.1579e-06, 3.1579e-06, 3.1579e-06],\n",
       "        [2.8682e-06, 2.8682e-06, 2.8682e-06],\n",
       "        [3.3945e-06, 3.3945e-06, 3.3945e-06],\n",
       "        [3.3945e-06, 3.3945e-06, 3.3945e-06],\n",
       "        [3.1579e-06, 3.1579e-06, 3.1579e-06],\n",
       "        [2.1053e-06, 2.1053e-06, 2.1053e-06],\n",
       "        [3.3945e-06, 3.3945e-06, 3.3945e-06],\n",
       "        [2.8682e-06, 2.8682e-06, 2.8682e-06],\n",
       "        [2.8682e-06, 2.8682e-06, 2.8682e-06],\n",
       "        [3.3945e-06, 3.3945e-06, 3.3945e-06],\n",
       "        [3.1579e-06, 3.1579e-06, 3.1579e-06],\n",
       "        [2.8070e-06, 2.8070e-06, 2.8070e-06],\n",
       "        [2.8070e-06, 2.8070e-06, 2.8070e-06],\n",
       "        [3.1579e-06, 3.1579e-06, 3.1579e-06],\n",
       "        [2.8070e-06, 2.8070e-06, 2.8070e-06],\n",
       "        [3.1579e-06, 3.1579e-06, 3.1579e-06]], grad_fn=<AddmmBackward0>)"
      ]
     },
     "execution_count": 49,
     "metadata": {},
     "output_type": "execute_result"
    }
   ],
   "source": [
    "H2_pos =  gcn_2_pos(H2_pos)\n",
    "H2_pos"
   ]
  },
  {
   "cell_type": "code",
   "execution_count": 50,
   "id": "18b2326e-bbe7-47dc-868d-793f22d48361",
   "metadata": {},
   "outputs": [
    {
     "data": {
      "text/plain": [
       "(Parameter containing:\n",
       " tensor([[1., 1., 1.],\n",
       "         [1., 1., 1.],\n",
       "         [1., 1., 1.]], requires_grad=True),\n",
       " Parameter containing:\n",
       " tensor([0., 0., 0.], requires_grad=True))"
      ]
     },
     "execution_count": 50,
     "metadata": {},
     "output_type": "execute_result"
    }
   ],
   "source": [
    "gcn_2_neg = torch.nn.Linear(n_embd, n_embd, bias=True)\n",
    "# with torch.no_grad(): \n",
    "#     vs, d = n_embd, n_embd\n",
    "#     rows = torch.arange(vs).unsqueeze(1)  # (vs,1)\n",
    "#     cols = torch.arange(d).unsqueeze(0)  # (1,d)\n",
    "#     pattern = 0.02*(1 + rows + cols)  # W[i,j] = 0.001*(1+i+j)\n",
    "#     gcn_2_neg.weight.copy_(pattern)\n",
    "\n",
    "nn.init.ones_(gcn_2_neg.weight)\n",
    "torch.nn.init.zeros_(gcn_2_neg.bias)\n",
    "gcn_2_neg.weight, gcn_2_neg.bias"
   ]
  },
  {
   "cell_type": "code",
   "execution_count": 51,
   "id": "647fe12e-ea0a-43de-8a2d-aeabe682f3a3",
   "metadata": {},
   "outputs": [
    {
     "data": {
      "text/plain": [
       "(torch.Size([24, 3]),\n",
       " tensor([[8.9848e-07, 8.9848e-07, 8.9848e-07],\n",
       "         [8.9848e-07, 8.9848e-07, 3.7216e-07],\n",
       "         [8.9848e-07, 8.9848e-07, 8.9848e-07],\n",
       "         [5.2632e-07, 1.0526e-06, 5.2632e-07],\n",
       "         [5.2632e-07, 1.0526e-06, 5.2632e-07],\n",
       "         [1.3796e-06, 1.3796e-06, 1.0075e-06],\n",
       "         [9.5605e-07, 9.5605e-07, 9.5605e-07],\n",
       "         [1.0526e-06, 1.0526e-06, 1.0526e-06],\n",
       "         [1.0526e-06, 1.0526e-06, 1.0526e-06],\n",
       "         [9.5605e-07, 9.5605e-07, 9.5605e-07],\n",
       "         [1.1315e-06, 1.1315e-06, 1.1315e-06],\n",
       "         [1.1315e-06, 1.1315e-06, 1.1315e-06],\n",
       "         [1.0056e-06, 1.0056e-06, 1.0056e-06],\n",
       "         [6.5475e-07, 1.0056e-06, 1.0056e-06],\n",
       "         [1.0526e-06, 1.0526e-06, 1.0526e-06],\n",
       "         [8.9848e-07, 8.9848e-07, 8.9848e-07],\n",
       "         [9.3919e-07, 1.2431e-06, 1.2431e-06],\n",
       "         [7.0175e-07, 1.0526e-06, 1.0526e-06],\n",
       "         [1.0526e-06, 1.0526e-06, 7.0175e-07],\n",
       "         [1.0526e-06, 1.0526e-06, 1.0526e-06],\n",
       "         [1.0526e-06, 1.0526e-06, 1.0526e-06],\n",
       "         [1.0526e-06, 1.0526e-06, 7.0175e-07],\n",
       "         [1.0526e-06, 1.0526e-06, 7.0175e-07],\n",
       "         [1.0526e-06, 1.0526e-06, 1.0526e-06]], grad_fn=<MmBackward0>))"
      ]
     },
     "execution_count": 51,
     "metadata": {},
     "output_type": "execute_result"
    }
   ],
   "source": [
    "H2_neg = Aneg_blk @ out\n",
    "H2_neg.size(), H2_neg"
   ]
  },
  {
   "cell_type": "code",
   "execution_count": 52,
   "id": "1d110dd1-5ec8-4118-8547-16986b91e6a3",
   "metadata": {},
   "outputs": [
    {
     "data": {
      "text/plain": [
       "tensor([[2.6954e-06, 2.6954e-06, 2.6954e-06],\n",
       "        [2.1691e-06, 2.1691e-06, 2.1691e-06],\n",
       "        [2.6954e-06, 2.6954e-06, 2.6954e-06],\n",
       "        [2.1053e-06, 2.1053e-06, 2.1053e-06],\n",
       "        [2.1053e-06, 2.1053e-06, 2.1053e-06],\n",
       "        [3.7668e-06, 3.7668e-06, 3.7668e-06],\n",
       "        [2.8682e-06, 2.8682e-06, 2.8682e-06],\n",
       "        [3.1579e-06, 3.1579e-06, 3.1579e-06],\n",
       "        [3.1579e-06, 3.1579e-06, 3.1579e-06],\n",
       "        [2.8682e-06, 2.8682e-06, 2.8682e-06],\n",
       "        [3.3945e-06, 3.3945e-06, 3.3945e-06],\n",
       "        [3.3945e-06, 3.3945e-06, 3.3945e-06],\n",
       "        [3.0169e-06, 3.0169e-06, 3.0169e-06],\n",
       "        [2.6660e-06, 2.6660e-06, 2.6660e-06],\n",
       "        [3.1579e-06, 3.1579e-06, 3.1579e-06],\n",
       "        [2.6954e-06, 2.6954e-06, 2.6954e-06],\n",
       "        [3.4253e-06, 3.4253e-06, 3.4253e-06],\n",
       "        [2.8070e-06, 2.8070e-06, 2.8070e-06],\n",
       "        [2.8070e-06, 2.8070e-06, 2.8070e-06],\n",
       "        [3.1579e-06, 3.1579e-06, 3.1579e-06],\n",
       "        [3.1579e-06, 3.1579e-06, 3.1579e-06],\n",
       "        [2.8070e-06, 2.8070e-06, 2.8070e-06],\n",
       "        [2.8070e-06, 2.8070e-06, 2.8070e-06],\n",
       "        [3.1579e-06, 3.1579e-06, 3.1579e-06]], grad_fn=<AddmmBackward0>)"
      ]
     },
     "execution_count": 52,
     "metadata": {},
     "output_type": "execute_result"
    }
   ],
   "source": [
    "H2_neg =  gcn_2_neg(H2_neg)\n",
    "H2_neg"
   ]
  },
  {
   "cell_type": "code",
   "execution_count": 53,
   "id": "fd78b77f-b662-438e-8cec-ed85fd5ff832",
   "metadata": {},
   "outputs": [
    {
     "data": {
      "text/plain": [
       "(torch.Size([24, 3]),\n",
       " tensor([[-3.7216e-07, -3.7216e-07, -3.7216e-07],\n",
       "         [-3.7216e-07, -3.7216e-07, -3.7216e-07],\n",
       "         [-3.7216e-07, -3.7216e-07, -3.7216e-07],\n",
       "         [ 5.2632e-07,  5.2632e-07,  5.2632e-07],\n",
       "         [ 1.3983e-06,  1.3983e-06,  1.3983e-06],\n",
       "         [-1.1352e-06, -1.1352e-06, -1.1352e-06],\n",
       "         [ 0.0000e+00,  0.0000e+00,  0.0000e+00],\n",
       "         [ 2.2737e-13,  2.2737e-13,  2.2737e-13],\n",
       "         [-2.2737e-13, -2.2737e-13, -2.2737e-13],\n",
       "         [ 0.0000e+00,  0.0000e+00,  0.0000e+00],\n",
       "         [ 0.0000e+00,  0.0000e+00,  0.0000e+00],\n",
       "         [ 0.0000e+00,  0.0000e+00,  0.0000e+00],\n",
       "         [ 1.4103e-07,  1.4103e-07,  1.4103e-07],\n",
       "         [-5.6073e-07, -5.6073e-07, -5.6073e-07],\n",
       "         [ 2.3657e-07,  2.3657e-07,  2.3657e-07],\n",
       "         [ 1.7272e-07,  1.7272e-07,  1.7272e-07],\n",
       "         [-5.5715e-07, -5.5715e-07, -5.5715e-07],\n",
       "         [ 5.8745e-07,  5.8745e-07,  5.8745e-07],\n",
       "         [ 3.5088e-07,  3.5088e-07,  3.5088e-07],\n",
       "         [-3.5088e-07, -3.5088e-07, -3.5088e-07],\n",
       "         [-3.5088e-07, -3.5088e-07, -3.5088e-07],\n",
       "         [ 3.5088e-07,  3.5088e-07,  3.5088e-07],\n",
       "         [ 0.0000e+00,  0.0000e+00,  0.0000e+00],\n",
       "         [ 0.0000e+00,  0.0000e+00,  0.0000e+00]], grad_fn=<SubBackward0>))"
      ]
     },
     "execution_count": 53,
     "metadata": {},
     "output_type": "execute_result"
    }
   ],
   "source": [
    "out = H2_pos - H2_neg\n",
    "out.size(), out"
   ]
  },
  {
   "cell_type": "markdown",
   "id": "940314cd-a4f7-4399-9720-e18342e153c6",
   "metadata": {},
   "source": [
    "#### GCN Block - Second Batch Norm"
   ]
  },
  {
   "cell_type": "code",
   "execution_count": 54,
   "id": "8fb8a26b-1dc2-4ec8-97a4-5f227abf9cf4",
   "metadata": {},
   "outputs": [
    {
     "data": {
      "text/plain": [
       "(Parameter containing:\n",
       " tensor([1., 1., 1.], requires_grad=True),\n",
       " Parameter containing:\n",
       " tensor([1.0000e-06, 1.0000e-06, 1.0000e-06], requires_grad=True))"
      ]
     },
     "execution_count": 54,
     "metadata": {},
     "output_type": "execute_result"
    }
   ],
   "source": [
    "bn_b = nn.LayerNorm(n_embd)\n",
    "nn.init.constant_(bn_b.bias, 1e-6) # prevent 0 crashout\n",
    "bn_b.weight, bn_b.bias"
   ]
  },
  {
   "cell_type": "code",
   "execution_count": 55,
   "id": "b02c6118-c5ff-4661-9bd8-e358b933736b",
   "metadata": {},
   "outputs": [
    {
     "data": {
      "text/plain": [
       "(torch.Size([24, 3]),\n",
       " tensor([[1.0000e-06, 1.0000e-06, 1.0000e-06],\n",
       "         [1.0000e-06, 1.0000e-06, 1.0000e-06],\n",
       "         [1.0000e-06, 1.0000e-06, 1.0000e-06],\n",
       "         [1.0000e-06, 1.0000e-06, 1.0000e-06],\n",
       "         [1.0000e-06, 1.0000e-06, 1.0000e-06],\n",
       "         [1.0000e-06, 1.0000e-06, 1.0000e-06],\n",
       "         [1.0000e-06, 1.0000e-06, 1.0000e-06],\n",
       "         [1.0000e-06, 1.0000e-06, 1.0000e-06],\n",
       "         [1.0000e-06, 1.0000e-06, 1.0000e-06],\n",
       "         [1.0000e-06, 1.0000e-06, 1.0000e-06],\n",
       "         [1.0000e-06, 1.0000e-06, 1.0000e-06],\n",
       "         [1.0000e-06, 1.0000e-06, 1.0000e-06],\n",
       "         [1.0000e-06, 1.0000e-06, 1.0000e-06],\n",
       "         [1.0000e-06, 1.0000e-06, 1.0000e-06],\n",
       "         [1.0000e-06, 1.0000e-06, 1.0000e-06],\n",
       "         [1.0000e-06, 1.0000e-06, 1.0000e-06],\n",
       "         [1.0000e-06, 1.0000e-06, 1.0000e-06],\n",
       "         [1.0000e-06, 1.0000e-06, 1.0000e-06],\n",
       "         [1.0000e-06, 1.0000e-06, 1.0000e-06],\n",
       "         [1.0000e-06, 1.0000e-06, 1.0000e-06],\n",
       "         [1.0000e-06, 1.0000e-06, 1.0000e-06],\n",
       "         [1.0000e-06, 1.0000e-06, 1.0000e-06],\n",
       "         [1.0000e-06, 1.0000e-06, 1.0000e-06],\n",
       "         [1.0000e-06, 1.0000e-06, 1.0000e-06]],\n",
       "        grad_fn=<NativeLayerNormBackward0>))"
      ]
     },
     "execution_count": 55,
     "metadata": {},
     "output_type": "execute_result"
    }
   ],
   "source": [
    "out = bn_b(out)\n",
    "out.size(), out"
   ]
  },
  {
   "cell_type": "markdown",
   "id": "fe481963-fa2c-4669-aad7-304d0ff4e134",
   "metadata": {},
   "source": [
    "### Residual Connection"
   ]
  },
  {
   "cell_type": "markdown",
   "id": "c7e4d0a6-f02b-45af-b0d6-fe2ca45f780c",
   "metadata": {},
   "source": [
    "#### Residual Connection - Identity Projection to match dims"
   ]
  },
  {
   "cell_type": "code",
   "execution_count": 56,
   "id": "d96f0c92-a46b-45f5-86c8-bea0e9033781",
   "metadata": {},
   "outputs": [
    {
     "data": {
      "text/plain": [
       "(Parameter containing:\n",
       " tensor([[0.1000, 0.1000, 0.1000],\n",
       "         [0.1000, 0.1000, 0.1000],\n",
       "         [0.1000, 0.1000, 0.1000]], requires_grad=True),\n",
       " Parameter containing:\n",
       " tensor([0., 0., 0.], requires_grad=True))"
      ]
     },
     "execution_count": 56,
     "metadata": {},
     "output_type": "execute_result"
    }
   ],
   "source": [
    "res_proj = torch.nn.Linear(n_embd, n_embd)\n",
    "torch.nn.init.constant_(res_proj.weight,0.1)\n",
    "torch.nn.init.zeros_(res_proj.bias)\n",
    "res_proj.weight, res_proj.bias"
   ]
  },
  {
   "cell_type": "code",
   "execution_count": 57,
   "id": "4ab0147b-48c4-49f3-a7cf-b38a63d46abf",
   "metadata": {},
   "outputs": [
    {
     "data": {
      "text/plain": [
       "(torch.Size([24, 3]),\n",
       " tensor([[0.0300, 0.0300, 0.0300],\n",
       "         [0.0300, 0.0300, 0.0300],\n",
       "         [0.0300, 0.0300, 0.0300],\n",
       "         [0.0300, 0.0300, 0.0300],\n",
       "         [0.0300, 0.0300, 0.0300],\n",
       "         [0.0300, 0.0300, 0.0300],\n",
       "         [0.0300, 0.0300, 0.0300],\n",
       "         [0.0300, 0.0300, 0.0300],\n",
       "         [0.0300, 0.0300, 0.0300],\n",
       "         [0.0300, 0.0300, 0.0300],\n",
       "         [0.0300, 0.0300, 0.0300],\n",
       "         [0.0300, 0.0300, 0.0300],\n",
       "         [0.0300, 0.0300, 0.0300],\n",
       "         [0.0300, 0.0300, 0.0300],\n",
       "         [0.0300, 0.0300, 0.0300],\n",
       "         [0.0300, 0.0300, 0.0300],\n",
       "         [0.0300, 0.0300, 0.0300],\n",
       "         [0.0300, 0.0300, 0.0300],\n",
       "         [0.0300, 0.0300, 0.0300],\n",
       "         [0.0300, 0.0300, 0.0300],\n",
       "         [0.0300, 0.0300, 0.0300],\n",
       "         [0.0300, 0.0300, 0.0300],\n",
       "         [0.0300, 0.0300, 0.0300],\n",
       "         [0.0300, 0.0300, 0.0300]], grad_fn=<AddmmBackward0>))"
      ]
     },
     "execution_count": 57,
     "metadata": {},
     "output_type": "execute_result"
    }
   ],
   "source": [
    "identity = res_proj(x)\n",
    "identity.size(), identity"
   ]
  },
  {
   "cell_type": "markdown",
   "id": "a37206f1-9ef8-42b0-8307-28ac4c8a0845",
   "metadata": {},
   "source": [
    "#### Residual Connection - Sum "
   ]
  },
  {
   "cell_type": "code",
   "execution_count": 58,
   "id": "2dd2b7cc-762c-4465-978f-41fc638bcd62",
   "metadata": {},
   "outputs": [
    {
     "data": {
      "text/plain": [
       "(torch.Size([24, 3]),\n",
       " tensor([[0.0300, 0.0300, 0.0300],\n",
       "         [0.0300, 0.0300, 0.0300],\n",
       "         [0.0300, 0.0300, 0.0300],\n",
       "         [0.0300, 0.0300, 0.0300],\n",
       "         [0.0300, 0.0300, 0.0300],\n",
       "         [0.0300, 0.0300, 0.0300],\n",
       "         [0.0300, 0.0300, 0.0300],\n",
       "         [0.0300, 0.0300, 0.0300],\n",
       "         [0.0300, 0.0300, 0.0300],\n",
       "         [0.0300, 0.0300, 0.0300],\n",
       "         [0.0300, 0.0300, 0.0300],\n",
       "         [0.0300, 0.0300, 0.0300],\n",
       "         [0.0300, 0.0300, 0.0300],\n",
       "         [0.0300, 0.0300, 0.0300],\n",
       "         [0.0300, 0.0300, 0.0300],\n",
       "         [0.0300, 0.0300, 0.0300],\n",
       "         [0.0300, 0.0300, 0.0300],\n",
       "         [0.0300, 0.0300, 0.0300],\n",
       "         [0.0300, 0.0300, 0.0300],\n",
       "         [0.0300, 0.0300, 0.0300],\n",
       "         [0.0300, 0.0300, 0.0300],\n",
       "         [0.0300, 0.0300, 0.0300],\n",
       "         [0.0300, 0.0300, 0.0300],\n",
       "         [0.0300, 0.0300, 0.0300]], grad_fn=<AddBackward0>))"
      ]
     },
     "execution_count": 58,
     "metadata": {},
     "output_type": "execute_result"
    }
   ],
   "source": [
    "x = out + identity\n",
    "x.size(), x"
   ]
  },
  {
   "cell_type": "markdown",
   "id": "2d347794-6944-4c6d-970f-cfd7f74fa3aa",
   "metadata": {},
   "source": [
    "#### Residual Connection - Leaky ReLU "
   ]
  },
  {
   "cell_type": "code",
   "execution_count": 59,
   "id": "3d4b99e0-3aa8-4536-a60a-b3e8b794bd97",
   "metadata": {},
   "outputs": [],
   "source": [
    "lrelu_res = nn.LeakyReLU(negative_slope=0.1)"
   ]
  },
  {
   "cell_type": "code",
   "execution_count": 60,
   "id": "ca85ec78-c5b9-459b-8c1c-7fbb41716e29",
   "metadata": {},
   "outputs": [
    {
     "data": {
      "text/plain": [
       "(torch.Size([24, 3]),\n",
       " tensor([[0.0300, 0.0300, 0.0300],\n",
       "         [0.0300, 0.0300, 0.0300],\n",
       "         [0.0300, 0.0300, 0.0300],\n",
       "         [0.0300, 0.0300, 0.0300],\n",
       "         [0.0300, 0.0300, 0.0300],\n",
       "         [0.0300, 0.0300, 0.0300],\n",
       "         [0.0300, 0.0300, 0.0300],\n",
       "         [0.0300, 0.0300, 0.0300],\n",
       "         [0.0300, 0.0300, 0.0300],\n",
       "         [0.0300, 0.0300, 0.0300],\n",
       "         [0.0300, 0.0300, 0.0300],\n",
       "         [0.0300, 0.0300, 0.0300],\n",
       "         [0.0300, 0.0300, 0.0300],\n",
       "         [0.0300, 0.0300, 0.0300],\n",
       "         [0.0300, 0.0300, 0.0300],\n",
       "         [0.0300, 0.0300, 0.0300],\n",
       "         [0.0300, 0.0300, 0.0300],\n",
       "         [0.0300, 0.0300, 0.0300],\n",
       "         [0.0300, 0.0300, 0.0300],\n",
       "         [0.0300, 0.0300, 0.0300],\n",
       "         [0.0300, 0.0300, 0.0300],\n",
       "         [0.0300, 0.0300, 0.0300],\n",
       "         [0.0300, 0.0300, 0.0300],\n",
       "         [0.0300, 0.0300, 0.0300]], grad_fn=<LeakyReluBackward0>))"
      ]
     },
     "execution_count": 60,
     "metadata": {},
     "output_type": "execute_result"
    }
   ],
   "source": [
    "x = lrelu_res(x)\n",
    "x.size(), x"
   ]
  },
  {
   "cell_type": "code",
   "execution_count": 61,
   "id": "cb970fdf-029e-472d-b1f3-b5b43bafbe94",
   "metadata": {},
   "outputs": [
    {
     "data": {
      "text/plain": [
       "(torch.Size([4, 6, 3]),\n",
       " tensor([[[0.0300, 0.0300, 0.0300],\n",
       "          [0.0300, 0.0300, 0.0300],\n",
       "          [0.0300, 0.0300, 0.0300],\n",
       "          [0.0300, 0.0300, 0.0300],\n",
       "          [0.0300, 0.0300, 0.0300],\n",
       "          [0.0300, 0.0300, 0.0300]],\n",
       " \n",
       "         [[0.0300, 0.0300, 0.0300],\n",
       "          [0.0300, 0.0300, 0.0300],\n",
       "          [0.0300, 0.0300, 0.0300],\n",
       "          [0.0300, 0.0300, 0.0300],\n",
       "          [0.0300, 0.0300, 0.0300],\n",
       "          [0.0300, 0.0300, 0.0300]],\n",
       " \n",
       "         [[0.0300, 0.0300, 0.0300],\n",
       "          [0.0300, 0.0300, 0.0300],\n",
       "          [0.0300, 0.0300, 0.0300],\n",
       "          [0.0300, 0.0300, 0.0300],\n",
       "          [0.0300, 0.0300, 0.0300],\n",
       "          [0.0300, 0.0300, 0.0300]],\n",
       " \n",
       "         [[0.0300, 0.0300, 0.0300],\n",
       "          [0.0300, 0.0300, 0.0300],\n",
       "          [0.0300, 0.0300, 0.0300],\n",
       "          [0.0300, 0.0300, 0.0300],\n",
       "          [0.0300, 0.0300, 0.0300],\n",
       "          [0.0300, 0.0300, 0.0300]]], grad_fn=<ViewBackward0>))"
      ]
     },
     "execution_count": 61,
     "metadata": {},
     "output_type": "execute_result"
    }
   ],
   "source": [
    "x = x.view(B_batch, N_nodes, n_embd)\n",
    "x.size(), x"
   ]
  },
  {
   "cell_type": "markdown",
   "id": "1c8dedd0-1230-400f-86b3-180e6e8b7da3",
   "metadata": {},
   "source": [
    "### Output Layers AKA Model Head.\n",
    "\n",
    "Instead of initializing weights this time around, we'll do **Weight Tying**.  Weight tying sets the output softmax matrix equal to the transpose of the input embedding matrix $W_{\\text{out}} = W_e^\\top$, forcing the model to “read” and “predict” in the same token space. This reduces parameters and acts as a useful prior, improving sample-efficiency and often perplexity by aligning input–output geometry. Modern LLMs have seemed to ditch this though to gain the extra capacity, but, for our example, we'll maintain it.\n"
   ]
  },
  {
   "cell_type": "code",
   "execution_count": 62,
   "id": "f66cc739-c7f4-4ebe-b085-01396824e03e",
   "metadata": {},
   "outputs": [
    {
     "data": {
      "text/plain": [
       "(torch.Size([10, 3]),\n",
       " Parameter containing:\n",
       " tensor([[0.1000, 0.1000, 0.1000],\n",
       "         [0.1000, 0.1000, 0.1000],\n",
       "         [0.1000, 0.1000, 0.1000],\n",
       "         [0.1000, 0.1000, 0.1000],\n",
       "         [0.1000, 0.1000, 0.1000],\n",
       "         [0.1000, 0.1000, 0.1000],\n",
       "         [0.1000, 0.1000, 0.1000],\n",
       "         [0.1000, 0.1000, 0.1000],\n",
       "         [0.1000, 0.1000, 0.1000],\n",
       "         [0.1000, 0.1000, 0.1000]], requires_grad=True))"
      ]
     },
     "execution_count": 62,
     "metadata": {},
     "output_type": "execute_result"
    }
   ],
   "source": [
    "lm_head = nn.Linear(n_embd, vocab_size, bias=False)\n",
    "lm_head.weight = tok_emb.weight\n",
    "lm_head.weight.size(), lm_head.weight"
   ]
  },
  {
   "cell_type": "code",
   "execution_count": 63,
   "id": "48e74636-a49e-4efe-85ea-bcaf0e7263b9",
   "metadata": {},
   "outputs": [
    {
     "data": {
      "text/plain": [
       "(True, True)"
      ]
     },
     "execution_count": 63,
     "metadata": {},
     "output_type": "execute_result"
    }
   ],
   "source": [
    "lm_head.weight is tok_emb.weight, lm_head.weight.data_ptr() == tok_emb.weight.data_ptr()"
   ]
  },
  {
   "cell_type": "code",
   "execution_count": 64,
   "id": "cbb82464-239f-4ecc-a9bd-1872ea15a739",
   "metadata": {},
   "outputs": [
    {
     "data": {
      "text/plain": [
       "(torch.Size([4, 6, 10]),\n",
       " tensor([[[0.0090, 0.0090, 0.0090, 0.0090, 0.0090, 0.0090, 0.0090, 0.0090,\n",
       "           0.0090, 0.0090],\n",
       "          [0.0090, 0.0090, 0.0090, 0.0090, 0.0090, 0.0090, 0.0090, 0.0090,\n",
       "           0.0090, 0.0090],\n",
       "          [0.0090, 0.0090, 0.0090, 0.0090, 0.0090, 0.0090, 0.0090, 0.0090,\n",
       "           0.0090, 0.0090],\n",
       "          [0.0090, 0.0090, 0.0090, 0.0090, 0.0090, 0.0090, 0.0090, 0.0090,\n",
       "           0.0090, 0.0090],\n",
       "          [0.0090, 0.0090, 0.0090, 0.0090, 0.0090, 0.0090, 0.0090, 0.0090,\n",
       "           0.0090, 0.0090],\n",
       "          [0.0090, 0.0090, 0.0090, 0.0090, 0.0090, 0.0090, 0.0090, 0.0090,\n",
       "           0.0090, 0.0090]],\n",
       " \n",
       "         [[0.0090, 0.0090, 0.0090, 0.0090, 0.0090, 0.0090, 0.0090, 0.0090,\n",
       "           0.0090, 0.0090],\n",
       "          [0.0090, 0.0090, 0.0090, 0.0090, 0.0090, 0.0090, 0.0090, 0.0090,\n",
       "           0.0090, 0.0090],\n",
       "          [0.0090, 0.0090, 0.0090, 0.0090, 0.0090, 0.0090, 0.0090, 0.0090,\n",
       "           0.0090, 0.0090],\n",
       "          [0.0090, 0.0090, 0.0090, 0.0090, 0.0090, 0.0090, 0.0090, 0.0090,\n",
       "           0.0090, 0.0090],\n",
       "          [0.0090, 0.0090, 0.0090, 0.0090, 0.0090, 0.0090, 0.0090, 0.0090,\n",
       "           0.0090, 0.0090],\n",
       "          [0.0090, 0.0090, 0.0090, 0.0090, 0.0090, 0.0090, 0.0090, 0.0090,\n",
       "           0.0090, 0.0090]],\n",
       " \n",
       "         [[0.0090, 0.0090, 0.0090, 0.0090, 0.0090, 0.0090, 0.0090, 0.0090,\n",
       "           0.0090, 0.0090],\n",
       "          [0.0090, 0.0090, 0.0090, 0.0090, 0.0090, 0.0090, 0.0090, 0.0090,\n",
       "           0.0090, 0.0090],\n",
       "          [0.0090, 0.0090, 0.0090, 0.0090, 0.0090, 0.0090, 0.0090, 0.0090,\n",
       "           0.0090, 0.0090],\n",
       "          [0.0090, 0.0090, 0.0090, 0.0090, 0.0090, 0.0090, 0.0090, 0.0090,\n",
       "           0.0090, 0.0090],\n",
       "          [0.0090, 0.0090, 0.0090, 0.0090, 0.0090, 0.0090, 0.0090, 0.0090,\n",
       "           0.0090, 0.0090],\n",
       "          [0.0090, 0.0090, 0.0090, 0.0090, 0.0090, 0.0090, 0.0090, 0.0090,\n",
       "           0.0090, 0.0090]],\n",
       " \n",
       "         [[0.0090, 0.0090, 0.0090, 0.0090, 0.0090, 0.0090, 0.0090, 0.0090,\n",
       "           0.0090, 0.0090],\n",
       "          [0.0090, 0.0090, 0.0090, 0.0090, 0.0090, 0.0090, 0.0090, 0.0090,\n",
       "           0.0090, 0.0090],\n",
       "          [0.0090, 0.0090, 0.0090, 0.0090, 0.0090, 0.0090, 0.0090, 0.0090,\n",
       "           0.0090, 0.0090],\n",
       "          [0.0090, 0.0090, 0.0090, 0.0090, 0.0090, 0.0090, 0.0090, 0.0090,\n",
       "           0.0090, 0.0090],\n",
       "          [0.0090, 0.0090, 0.0090, 0.0090, 0.0090, 0.0090, 0.0090, 0.0090,\n",
       "           0.0090, 0.0090],\n",
       "          [0.0090, 0.0090, 0.0090, 0.0090, 0.0090, 0.0090, 0.0090, 0.0090,\n",
       "           0.0090, 0.0090]]], grad_fn=<UnsafeViewBackward0>))"
      ]
     },
     "execution_count": 64,
     "metadata": {},
     "output_type": "execute_result"
    }
   ],
   "source": [
    "logits = lm_head(x)\n",
    "\n",
    "logits.shape, logits"
   ]
  },
  {
   "cell_type": "markdown",
   "id": "b342640c-c90c-40a9-9be1-2ad7a70cf5e4",
   "metadata": {},
   "source": [
    "## Loss calculation"
   ]
  },
  {
   "cell_type": "code",
   "execution_count": 65,
   "id": "1ac6427a-7e3a-40ac-9650-b2895624a14a",
   "metadata": {},
   "outputs": [
    {
     "data": {
      "text/plain": [
       "(torch.Size([24]),\n",
       " tensor([6, 6, 6, 8, 4, 5, 6, 7, 6, 8, 4, 5, 7, 7, 6, 8, 4, 5, 7, 6, 6, 7, 4, 5]))"
      ]
     },
     "execution_count": 65,
     "metadata": {},
     "output_type": "execute_result"
    }
   ],
   "source": [
    "y_flat = y_labels.reshape(B_batch*N_nodes)\n",
    "y_flat.shape, y_flat"
   ]
  },
  {
   "cell_type": "code",
   "execution_count": 66,
   "id": "7ef9d785-cd79-4f75-930b-06d38e04e9ae",
   "metadata": {},
   "outputs": [
    {
     "data": {
      "text/plain": [
       "(torch.Size([24, 10]),\n",
       " tensor([[0.0090, 0.0090, 0.0090, 0.0090, 0.0090, 0.0090, 0.0090, 0.0090, 0.0090,\n",
       "          0.0090],\n",
       "         [0.0090, 0.0090, 0.0090, 0.0090, 0.0090, 0.0090, 0.0090, 0.0090, 0.0090,\n",
       "          0.0090],\n",
       "         [0.0090, 0.0090, 0.0090, 0.0090, 0.0090, 0.0090, 0.0090, 0.0090, 0.0090,\n",
       "          0.0090],\n",
       "         [0.0090, 0.0090, 0.0090, 0.0090, 0.0090, 0.0090, 0.0090, 0.0090, 0.0090,\n",
       "          0.0090],\n",
       "         [0.0090, 0.0090, 0.0090, 0.0090, 0.0090, 0.0090, 0.0090, 0.0090, 0.0090,\n",
       "          0.0090],\n",
       "         [0.0090, 0.0090, 0.0090, 0.0090, 0.0090, 0.0090, 0.0090, 0.0090, 0.0090,\n",
       "          0.0090],\n",
       "         [0.0090, 0.0090, 0.0090, 0.0090, 0.0090, 0.0090, 0.0090, 0.0090, 0.0090,\n",
       "          0.0090],\n",
       "         [0.0090, 0.0090, 0.0090, 0.0090, 0.0090, 0.0090, 0.0090, 0.0090, 0.0090,\n",
       "          0.0090],\n",
       "         [0.0090, 0.0090, 0.0090, 0.0090, 0.0090, 0.0090, 0.0090, 0.0090, 0.0090,\n",
       "          0.0090],\n",
       "         [0.0090, 0.0090, 0.0090, 0.0090, 0.0090, 0.0090, 0.0090, 0.0090, 0.0090,\n",
       "          0.0090],\n",
       "         [0.0090, 0.0090, 0.0090, 0.0090, 0.0090, 0.0090, 0.0090, 0.0090, 0.0090,\n",
       "          0.0090],\n",
       "         [0.0090, 0.0090, 0.0090, 0.0090, 0.0090, 0.0090, 0.0090, 0.0090, 0.0090,\n",
       "          0.0090],\n",
       "         [0.0090, 0.0090, 0.0090, 0.0090, 0.0090, 0.0090, 0.0090, 0.0090, 0.0090,\n",
       "          0.0090],\n",
       "         [0.0090, 0.0090, 0.0090, 0.0090, 0.0090, 0.0090, 0.0090, 0.0090, 0.0090,\n",
       "          0.0090],\n",
       "         [0.0090, 0.0090, 0.0090, 0.0090, 0.0090, 0.0090, 0.0090, 0.0090, 0.0090,\n",
       "          0.0090],\n",
       "         [0.0090, 0.0090, 0.0090, 0.0090, 0.0090, 0.0090, 0.0090, 0.0090, 0.0090,\n",
       "          0.0090],\n",
       "         [0.0090, 0.0090, 0.0090, 0.0090, 0.0090, 0.0090, 0.0090, 0.0090, 0.0090,\n",
       "          0.0090],\n",
       "         [0.0090, 0.0090, 0.0090, 0.0090, 0.0090, 0.0090, 0.0090, 0.0090, 0.0090,\n",
       "          0.0090],\n",
       "         [0.0090, 0.0090, 0.0090, 0.0090, 0.0090, 0.0090, 0.0090, 0.0090, 0.0090,\n",
       "          0.0090],\n",
       "         [0.0090, 0.0090, 0.0090, 0.0090, 0.0090, 0.0090, 0.0090, 0.0090, 0.0090,\n",
       "          0.0090],\n",
       "         [0.0090, 0.0090, 0.0090, 0.0090, 0.0090, 0.0090, 0.0090, 0.0090, 0.0090,\n",
       "          0.0090],\n",
       "         [0.0090, 0.0090, 0.0090, 0.0090, 0.0090, 0.0090, 0.0090, 0.0090, 0.0090,\n",
       "          0.0090],\n",
       "         [0.0090, 0.0090, 0.0090, 0.0090, 0.0090, 0.0090, 0.0090, 0.0090, 0.0090,\n",
       "          0.0090],\n",
       "         [0.0090, 0.0090, 0.0090, 0.0090, 0.0090, 0.0090, 0.0090, 0.0090, 0.0090,\n",
       "          0.0090]], grad_fn=<ViewBackward0>))"
      ]
     },
     "execution_count": 66,
     "metadata": {},
     "output_type": "execute_result"
    }
   ],
   "source": [
    "logits_flat = logits.reshape(B_batch*N_nodes, vocab_size)\n",
    "logits_flat.shape, logits_flat"
   ]
  },
  {
   "cell_type": "code",
   "execution_count": 67,
   "id": "31bb388c-ba7a-4535-9407-314968e05ef0",
   "metadata": {},
   "outputs": [
    {
     "data": {
      "text/plain": [
       "(torch.Size([]), tensor(2.3026, grad_fn=<NllLossBackward0>))"
      ]
     },
     "execution_count": 67,
     "metadata": {},
     "output_type": "execute_result"
    }
   ],
   "source": [
    "loss = F.cross_entropy(logits_flat, y_flat)\n",
    "loss.shape, loss"
   ]
  },
  {
   "cell_type": "markdown",
   "id": "e2e9f666-5438-4a74-b3d7-142da1c078f8",
   "metadata": {},
   "source": [
    "## Back Propagation"
   ]
  },
  {
   "cell_type": "code",
   "execution_count": 68,
   "id": "69a68b2e-2bbd-4809-b8eb-4031ed23ce5f",
   "metadata": {},
   "outputs": [
    {
     "data": {
      "text/plain": [
       "(None, None)"
      ]
     },
     "execution_count": 68,
     "metadata": {},
     "output_type": "execute_result"
    }
   ],
   "source": [
    "#output layers\n",
    "lm_head.zero_grad()\n",
    "\n",
    "#residual connection\n",
    "res_proj.zero_grad()\n",
    "\n",
    "#GCN block\n",
    "bn_b.zero_grad()\n",
    "gcn_2_neg.zero_grad()\n",
    "gcn_2_pos.zero_grad()\n",
    "bn_a.zero_grad()\n",
    "gcn_1_neg.zero_grad()\n",
    "gcn_1_pos.zero_grad()\n",
    "\n",
    "#input layer\n",
    "tok_emb.zero_grad()\n",
    "\n",
    "# validate gradients\n",
    "lm_head.weight.grad,tok_emb.weight.grad"
   ]
  },
  {
   "cell_type": "markdown",
   "id": "5776d30c-045c-4db4-8018-64b98b558570",
   "metadata": {},
   "source": [
    "**Auto-Diff** - Now let's see the magic of the gradients populate.  This magic is called auto-differentiation, or auto-diff for short. This allows us to not have to write many layers of nasty code to do the differentiation for us, but, if you're a sadist, you can surely find people who have written out that code (it's not too bad since you just do one layer at a time). "
   ]
  },
  {
   "cell_type": "code",
   "execution_count": 69,
   "id": "fa249655-cce1-4cf1-bbd9-ac6033513ff4",
   "metadata": {},
   "outputs": [],
   "source": [
    "loss.backward()"
   ]
  },
  {
   "cell_type": "code",
   "execution_count": 70,
   "id": "b833418f-6a5d-4d6a-8c81-d9ba6320c321",
   "metadata": {},
   "outputs": [
    {
     "data": {
      "text/plain": [
       "(tensor([[ 0.0030,  0.0030,  0.0030],\n",
       "         [ 0.0030,  0.0030,  0.0030],\n",
       "         [ 0.0030,  0.0030,  0.0030],\n",
       "         [ 0.0030,  0.0030,  0.0030],\n",
       "         [-0.0020, -0.0020, -0.0020],\n",
       "         [-0.0020, -0.0020, -0.0020],\n",
       "         [-0.0070, -0.0070, -0.0070],\n",
       "         [-0.0033, -0.0033, -0.0033],\n",
       "         [-0.0008, -0.0008, -0.0008],\n",
       "         [ 0.0030,  0.0030,  0.0030]]),\n",
       " tensor([[ 0.0030,  0.0030,  0.0030],\n",
       "         [ 0.0030,  0.0030,  0.0030],\n",
       "         [ 0.0030,  0.0030,  0.0030],\n",
       "         [ 0.0030,  0.0030,  0.0030],\n",
       "         [-0.0020, -0.0020, -0.0020],\n",
       "         [-0.0020, -0.0020, -0.0020],\n",
       "         [-0.0070, -0.0070, -0.0070],\n",
       "         [-0.0033, -0.0033, -0.0033],\n",
       "         [-0.0008, -0.0008, -0.0008],\n",
       "         [ 0.0030,  0.0030,  0.0030]]))"
      ]
     },
     "execution_count": 70,
     "metadata": {},
     "output_type": "execute_result"
    }
   ],
   "source": [
    "lm_head.weight.grad,tok_emb.weight.grad"
   ]
  },
  {
   "cell_type": "markdown",
   "id": "b8b2fa4d-c2f4-4a85-844d-bf1165b64699",
   "metadata": {},
   "source": [
    "## Gradient Clipping"
   ]
  },
  {
   "cell_type": "markdown",
   "id": "0cc4db83-db37-414a-8828-2991456e7534",
   "metadata": {},
   "source": [
    "Recall that we discussed at the start that there was an issue called exploding gradients. Exploding gradients occurs because back-propagation through time multiplies gradients by a chain of recurrent Jacobians as follows:\n",
    "\n",
    "$\\nabla_{h_{t-k}} \\mathcal{L} = \\left(\\prod_{i=1}^{k} \\frac{\\partial h_{t-i+1}}{\\partial h_{t-i}}\\right)\\nabla_{h_t}\\mathcal{L}$. \n",
    "\n",
    "This means that any spectral norm (>1) in those factors causes the gradient norm to grow roughly exponentially with sequence length. Even with LSTM gates, poorly conditioned hidden-to-hidden dynamics or large activations can push singular values WELL above 1 where even sigmoid and tanh layers will keep the values at 1. To combat this, we apply gradient clipping. Gradient clipping caps the global gradient, in our case to `1.0`, to prevent runaway steps, numerical overflow, and unstable updates.\n",
    "\n",
    "*Note that this will only solve exploding gradients and does not address vanishing gradients. The LSTM structure and use of memory helps fight vanishing gradients*\n",
    "\n",
    "Since none of our gradients are currently above 1, we will not see an impact of gradient clipping but I did want to introduce the concept as it is an important component. "
   ]
  },
  {
   "cell_type": "code",
   "execution_count": 71,
   "id": "6d66ffe8-0345-4fea-9bc5-ec29a8e386f5",
   "metadata": {},
   "outputs": [
    {
     "data": {
      "text/plain": [
       "(tensor([[ 0.0030,  0.0030,  0.0030],\n",
       "         [ 0.0030,  0.0030,  0.0030],\n",
       "         [ 0.0030,  0.0030,  0.0030],\n",
       "         [ 0.0030,  0.0030,  0.0030],\n",
       "         [-0.0020, -0.0020, -0.0020],\n",
       "         [-0.0020, -0.0020, -0.0020],\n",
       "         [-0.0070, -0.0070, -0.0070],\n",
       "         [-0.0033, -0.0033, -0.0033],\n",
       "         [-0.0008, -0.0008, -0.0008],\n",
       "         [ 0.0030,  0.0030,  0.0030]]),\n",
       " tensor([[ 0.0030,  0.0030,  0.0030],\n",
       "         [ 0.0030,  0.0030,  0.0030],\n",
       "         [ 0.0030,  0.0030,  0.0030],\n",
       "         [ 0.0030,  0.0030,  0.0030],\n",
       "         [-0.0020, -0.0020, -0.0020],\n",
       "         [-0.0020, -0.0020, -0.0020],\n",
       "         [-0.0070, -0.0070, -0.0070],\n",
       "         [-0.0033, -0.0033, -0.0033],\n",
       "         [-0.0008, -0.0008, -0.0008],\n",
       "         [ 0.0030,  0.0030,  0.0030]]))"
      ]
     },
     "execution_count": 71,
     "metadata": {},
     "output_type": "execute_result"
    }
   ],
   "source": [
    "nn.utils.clip_grad_norm_(lm_head.parameters(), 1.0)\n",
    "nn.utils.clip_grad_norm_(res_proj.parameters(), 1.0)\n",
    "nn.utils.clip_grad_norm_(bn_b.parameters(), 1.0)\n",
    "nn.utils.clip_grad_norm_(gcn_2_neg.parameters(), 1.0)\n",
    "nn.utils.clip_grad_norm_(gcn_2_pos.parameters(), 1.0)\n",
    "nn.utils.clip_grad_norm_(bn_a.parameters(), 1.0)\n",
    "nn.utils.clip_grad_norm_(gcn_1_neg.parameters(), 1.0)\n",
    "nn.utils.clip_grad_norm_(gcn_1_pos.parameters(), 1.0)\n",
    "nn.utils.clip_grad_norm_(tok_emb.parameters(), 1.0)\n",
    "\n",
    "lm_head.weight.grad,tok_emb.weight.grad"
   ]
  },
  {
   "cell_type": "markdown",
   "id": "42ea5429-9572-4c68-8d24-fde989a1290a",
   "metadata": {},
   "source": [
    "## Learning"
   ]
  },
  {
   "cell_type": "markdown",
   "id": "5f733e31-7577-452c-b158-de94c7572688",
   "metadata": {},
   "source": [
    "The process of learning now requires us to update our weights based on this gradient. To really feel the \"back propagation\" we'll start with the last layer and work backwards, though, since we have all of the gradients calculated already, the order does not matter. Recall that our loss function is the negative log likelihood ratio so our gradient signs are flipped.  If a parameter is important, the gradient will be more negative, and vice versa. The gradients are a ratio of importance of each parameter and we need to know how much of that gradient to apply to our weights. This \"how much\" is referred to as the *learning rate*. In modern training learning rate schedulers and optimizers are used to vary the rate and application by layer and by training round with learning rates that are small (e.g. 1e-3) and decaying. \n",
    "\n",
    "We however are trying to learn and if you look at the gradient above in most layers it's tiny (~1e-10).  If we used a typical learning rate scheduler, with our context, batch size, and just 1 pass, the second pass would just have the same values and we wouldn't learn anything new.  Because of this we'll do something super unorthodox.  Our LM_head will use a learning rate of `1.000` but for the rest of the layers we'll use a learning rate of `1e7`. This INSANE learning rate would absolutely be too noisy for real training as taking that \"large\" of steps would mean the model could never find a good fit.  But since we're doing 1 step we don't care. Also, we're rerunning on the same example we used in the first loop so even less of a care. But as a warning, DO NOT DO THIS IN REAL TRAINING. If you did your model would most likely not converge. "
   ]
  },
  {
   "cell_type": "code",
   "execution_count": 72,
   "id": "867a19fb-3ab8-4f7a-b74b-f956a5a94b74",
   "metadata": {},
   "outputs": [],
   "source": [
    "## Huge learning rate to emphasize\n",
    "head_lr = 5.000\n",
    "learning_rate = 1e7\n",
    "gcn2_lr = 1e18\n",
    "gcn1_lr = 1e10"
   ]
  },
  {
   "cell_type": "code",
   "execution_count": 73,
   "id": "1030dbec-944e-4a2f-b97b-07785dc8be31",
   "metadata": {},
   "outputs": [
    {
     "data": {
      "text/plain": [
       "tensor([[-6.7137e-10, -6.7137e-10, -6.7137e-10],\n",
       "        [-6.7137e-10, -6.7137e-10, -6.7137e-10],\n",
       "        [-6.7137e-10, -6.7137e-10, -6.7137e-10]])"
      ]
     },
     "execution_count": 73,
     "metadata": {},
     "output_type": "execute_result"
    }
   ],
   "source": [
    "res_proj.weight.grad"
   ]
  },
  {
   "cell_type": "code",
   "execution_count": 74,
   "id": "4be4deb0-ac29-4cf4-8d9a-8ec8b2943413",
   "metadata": {},
   "outputs": [
    {
     "data": {
      "text/plain": [
       "tensor([[0., 0., 0.],\n",
       "        [0., 0., 0.],\n",
       "        [0., 0., 0.]])"
      ]
     },
     "execution_count": 74,
     "metadata": {},
     "output_type": "execute_result"
    }
   ],
   "source": [
    "gcn_2_neg.weight.grad"
   ]
  },
  {
   "cell_type": "code",
   "execution_count": 75,
   "id": "ba5cd635-411c-4e14-bb05-55c28f64f616",
   "metadata": {},
   "outputs": [
    {
     "data": {
      "text/plain": [
       "tensor([[0., 0., 0.],\n",
       "        [0., 0., 0.],\n",
       "        [0., 0., 0.]])"
      ]
     },
     "execution_count": 75,
     "metadata": {},
     "output_type": "execute_result"
    }
   ],
   "source": [
    "gcn_1_pos.weight.grad"
   ]
  },
  {
   "cell_type": "markdown",
   "id": "6d0ed666-e343-4a88-9160-e7885c8823e8",
   "metadata": {},
   "source": [
    "### Output Layer\n",
    "Let's start with our output layer.  Recall that we initialized the weights to `1.000` so we can quickly see the impact of the gradient update on the weights. Most notable that we'll see is that the entries corresponding with the token that are present in `y`, our target, are up weighted and others are downweighted. This should already intuitively give you a sense as to \n",
    "1. The model will be improved\n",
    "2. This is WAY too high of a learning rate if we wanted to generalize.\n",
    "\n",
    "Additionally you'll notice that the gradient is differs across the `n_embd` dimensions. This shows that even though we have done only a single pass, because we have multiple examples our model is already learning deeper structures. Finally, since this is the output layer, we did not include any bias \n",
    "\n",
    "\n"
   ]
  },
  {
   "cell_type": "code",
   "execution_count": null,
   "id": "33da3813-fecd-40aa-b867-2841839146e4",
   "metadata": {},
   "outputs": [],
   "source": [
    "lm_head.weight.grad is tok_emb.weight.grad, lm_head.weight.grad, tok_emb.weight.grad"
   ]
  },
  {
   "cell_type": "code",
   "execution_count": null,
   "id": "af3bb238-426b-43b1-a475-53ea7ac3fdf8",
   "metadata": {},
   "outputs": [],
   "source": [
    "with torch.no_grad():\n",
    "    lm_head.weight -= head_lr * lm_head.weight.grad\n",
    "lm_head.weight"
   ]
  },
  {
   "cell_type": "markdown",
   "id": "7c76f828-8678-4bec-8e8b-afeba47b0983",
   "metadata": {},
   "source": [
    "### GCN Unit - Residual Connection\n",
    "\n",
    "TO UPDATE\n",
    "Next we'll update our two linear layers inside of the LSTM.  Recall that we initiated h2g to weights `0.2500`, x2g weights to `0.5000` and the biases to.  Our gradients on this layer are extremely small (~1e-9) and while the values are different across the embeddings, all are interestingly positive. This is starting to show how the different embedding layers can impact the recursion. \n",
    "\n",
    "With these layers you can see the beauty of our insanely high learning rate.  Even though our gradient impact was tiny, we can see the weight shift away from the initialization suggesting some level of adaptation. "
   ]
  },
  {
   "cell_type": "code",
   "execution_count": null,
   "id": "79b2cabb-8272-4687-896f-4575c8d0519d",
   "metadata": {},
   "outputs": [],
   "source": [
    "with torch.no_grad():\n",
    "    res_proj.weight -= learning_rate * res_proj.weight.grad\n",
    "    res_proj.bias -= learning_rate * res_proj.bias.grad\n",
    "res_proj.weight, res_proj.bias"
   ]
  },
  {
   "cell_type": "markdown",
   "id": "c2711556-2090-4a5e-86d5-d0b86535028a",
   "metadata": {},
   "source": [
    "### GCN Unit - Main Pass\n",
    "\n",
    "TO UPDATE\n",
    "\n",
    "Next we'll update our two linear layers inside of the LSTM.  Recall that we initiated h2g to weights `0.2500`, x2g weights to `0.5000` and the biases to.  Our gradients on this layer are extremely small (~1e-9) and while the values are different across the embeddings, all are interestingly positive. This is starting to show how the different embedding layers can impact the recursion. \n",
    "\n",
    "With these layers you can see the beauty of our insanely high learning rate.  Even though our gradient impact was tiny, we can see the weight shift away from the initialization suggesting some level of adaptation. "
   ]
  },
  {
   "cell_type": "code",
   "execution_count": null,
   "id": "2681132e-396e-4e2d-a631-c16549db366f",
   "metadata": {},
   "outputs": [],
   "source": [
    "with torch.no_grad():\n",
    "    bn_b.weight -= learning_rate * bn_b.weight.grad\n",
    "    bn_b.bias -= learning_rate * bn_b.bias.grad\n",
    "bn_b.weight, bn_b.bias"
   ]
  },
  {
   "cell_type": "code",
   "execution_count": null,
   "id": "044c0888-2f58-4ab6-a9cb-4d2cc9ca2d1e",
   "metadata": {},
   "outputs": [],
   "source": [
    "with torch.no_grad():\n",
    "    gcn_2_neg.weight -= gcn2_lr * gcn_2_neg.weight.grad\n",
    "    gcn_2_neg.bias -= learning_rate * gcn_2_neg.bias.grad\n",
    "gcn_2_neg.weight, gcn_2_neg.bias"
   ]
  },
  {
   "cell_type": "code",
   "execution_count": null,
   "id": "84eb3371-cc12-47de-982f-839cada1289a",
   "metadata": {},
   "outputs": [],
   "source": [
    "with torch.no_grad():\n",
    "    gcn_2_pos.weight -= gcn2_lr * gcn_2_pos.weight.grad\n",
    "    gcn_2_pos.bias -= learning_rate * gcn_2_pos.bias.grad\n",
    "gcn_2_pos.weight, gcn_2_pos.bias"
   ]
  },
  {
   "cell_type": "code",
   "execution_count": null,
   "id": "a35a25f5-f4a9-43c0-a14c-a22490d09a25",
   "metadata": {},
   "outputs": [],
   "source": [
    "with torch.no_grad():\n",
    "    bn_a.weight -= learning_rate * bn_a.weight.grad\n",
    "    bn_a.bias -= learning_rate * bn_a.bias.grad\n",
    "bn_a.weight, bn_a.bias"
   ]
  },
  {
   "cell_type": "code",
   "execution_count": null,
   "id": "3a0f84a2-47b5-429b-a01f-20d9327fe57b",
   "metadata": {},
   "outputs": [],
   "source": [
    "with torch.no_grad():\n",
    "    gcn_1_neg.weight -= gcn1_lr * gcn_1_neg.weight.grad\n",
    "    gcn_1_neg.bias -= learning_rate * gcn_1_neg.bias.grad\n",
    "gcn_1_neg.weight, gcn_1_neg.bias"
   ]
  },
  {
   "cell_type": "code",
   "execution_count": null,
   "id": "ac89824a-ed26-4561-a382-906b2b96fb2c",
   "metadata": {},
   "outputs": [],
   "source": [
    "with torch.no_grad():\n",
    "    gcn_1_pos.weight -= gcn1_lr * gcn_1_pos.weight.grad\n",
    "    gcn_1_pos.bias -= learning_rate * gcn_1_pos.bias.grad\n",
    "gcn_1_pos.weight, gcn_1_pos.bias"
   ]
  },
  {
   "cell_type": "markdown",
   "id": "308b1ce4-bfc0-4c50-b97b-972f9ccc5081",
   "metadata": {},
   "source": [
    "### Input Layer\n",
    "No need as weight tying"
   ]
  },
  {
   "cell_type": "code",
   "execution_count": null,
   "id": "26c61496-e0da-4de1-8ebb-e7fbf3514c7b",
   "metadata": {},
   "outputs": [],
   "source": [
    "tok_emb.weight"
   ]
  },
  {
   "cell_type": "markdown",
   "id": "c558eb69-c42c-4505-97cf-66b0b4c91270",
   "metadata": {},
   "source": [
    "## Forward Pass with Updated Weights"
   ]
  },
  {
   "cell_type": "markdown",
   "id": "3b0a4619-31e5-4a48-a779-505a511be125",
   "metadata": {},
   "source": [
    "Now that we have the updated weights for each layer, let's do another forward pass and compare the loss. Since each layer was previously explained we will instead focus on just showing the outputs of the different layers and the final loss. If you want, you can check the previous outputs in the cached cell outputs above and compare them to see how the weight changes impacted the values at each layer. \n",
    "\n",
    "You'll notice that because our high learning rate we're able to see how each layer now shifts the embedding values as the input passes through them. "
   ]
  },
  {
   "cell_type": "markdown",
   "id": "c0a2e1b1-b65a-430d-ade3-a3de1dfb9557",
   "metadata": {},
   "source": [
    "### Data Re-loading\n",
    "since our tokens didn't go through we'll reuse them"
   ]
  },
  {
   "cell_type": "code",
   "execution_count": null,
   "id": "1963276c-fbb9-4ec1-8735-6dce7686efaf",
   "metadata": {},
   "outputs": [],
   "source": [
    "x_tokens, y_labels"
   ]
  },
  {
   "cell_type": "code",
   "execution_count": null,
   "id": "87864fa9-37f9-456b-8ac4-9f57ad582fee",
   "metadata": {},
   "outputs": [],
   "source": [
    "Apos_blk, Aneg_blk"
   ]
  },
  {
   "cell_type": "markdown",
   "id": "2ef18795-d926-4d8c-b53b-659d8992cde6",
   "metadata": {},
   "source": [
    "### Input Layer\n",
    "Note that in `wte` since the gradient impact was only on the embeddings that mapped to our tokens. Lucky for us, we're passing the same example through so we'll pull those same weights.\n",
    "\n",
    "With RNNs, because of the recursion layers, we would need long training and long context to see changes in our input layer initiation. Alternatively, a common step to help improve the input embedding is to do weight-tying between the input and output layers. This ensures that the input and output layers embed in the same space and helps with learning stabilization, but weight tying goes in and out of flavor often.  Because of this we'll cover weight-tying in the GPT notebook I write. "
   ]
  },
  {
   "cell_type": "code",
   "execution_count": null,
   "id": "f28806a2-24e8-4bd2-b5b4-e8e0cc284d1a",
   "metadata": {},
   "outputs": [],
   "source": [
    "x = tok_emb(x_tokens)\n",
    "x = x.view(B_batch*N_nodes,n_embd)\n",
    "x.size(), x"
   ]
  },
  {
   "cell_type": "markdown",
   "id": "5258d8d7-db81-4a8c-bd2c-808a0aa46072",
   "metadata": {},
   "source": [
    "### GCN Block"
   ]
  },
  {
   "cell_type": "markdown",
   "id": "a1c942e8-992a-4d44-9502-386019b7a7a9",
   "metadata": {},
   "source": [
    "### Recurrent Unit - LSTM"
   ]
  },
  {
   "cell_type": "code",
   "execution_count": null,
   "id": "932f0253-b8e6-451b-89f2-99192dc86585",
   "metadata": {},
   "outputs": [],
   "source": [
    "H_pos = Apos_blk @ x\n",
    "H_pos =  gcn_1_pos(H_pos)\n",
    "H_pos.size(), H_pos"
   ]
  },
  {
   "cell_type": "code",
   "execution_count": null,
   "id": "496e0616-1c33-4714-8039-0f11cbff0d84",
   "metadata": {},
   "outputs": [],
   "source": [
    "H_neg = Aneg_blk @ x\n",
    "H_neg =  gcn_1_neg(H_neg)\n",
    "H_neg.size(), H_neg"
   ]
  },
  {
   "cell_type": "code",
   "execution_count": null,
   "id": "ec6737cf-ca1c-4b16-ba6d-13a4955479f0",
   "metadata": {},
   "outputs": [],
   "source": [
    "out = H_pos - H_neg\n",
    "out.size(), out"
   ]
  },
  {
   "cell_type": "markdown",
   "id": "a3db9f17-b4cf-4787-aab9-f21b90ca8dd4",
   "metadata": {},
   "source": [
    "#### GCN Block - First Batch Norm"
   ]
  },
  {
   "cell_type": "code",
   "execution_count": null,
   "id": "8a159882-193a-4c34-9be2-bf8579536348",
   "metadata": {},
   "outputs": [],
   "source": [
    "out = bn_a(out)\n",
    "out.size(), out"
   ]
  },
  {
   "cell_type": "markdown",
   "id": "8c4bc8ec-0330-4a34-a191-a12dd4d064e5",
   "metadata": {},
   "source": [
    "#### GCN Block - Leaky ReLU"
   ]
  },
  {
   "cell_type": "code",
   "execution_count": null,
   "id": "466836fd-b208-441c-a24b-bcc34316c73f",
   "metadata": {},
   "outputs": [],
   "source": [
    "out = lrelu_1(out)\n",
    "out.size(), out"
   ]
  },
  {
   "cell_type": "markdown",
   "id": "fff7c35b-04b8-4467-a1f9-d582b8713653",
   "metadata": {},
   "source": [
    "#### GCN Block - Dropout"
   ]
  },
  {
   "cell_type": "code",
   "execution_count": null,
   "id": "30974a81-91d3-4a6b-b8fd-6d131dde2800",
   "metadata": {},
   "outputs": [],
   "source": [
    "out = drop(out) \n",
    "out.size(), out"
   ]
  },
  {
   "cell_type": "markdown",
   "id": "1fb7cd62-940a-4000-9552-9ed059ab5867",
   "metadata": {},
   "source": [
    "#### GCN Block - Second Node Convolution\n"
   ]
  },
  {
   "cell_type": "code",
   "execution_count": null,
   "id": "bdd713e9-4b49-450b-97f2-905640be5cf3",
   "metadata": {},
   "outputs": [],
   "source": [
    "H2_pos = Apos_blk @ out\n",
    "H2_pos =  gcn_2_pos(H2_pos)\n",
    "H2_pos.size(), H2_pos"
   ]
  },
  {
   "cell_type": "code",
   "execution_count": null,
   "id": "9d06cf0c-ec58-4b2c-9052-37953de4195f",
   "metadata": {},
   "outputs": [],
   "source": [
    "H2_neg = Aneg_blk @ out\n",
    "H2_neg =  gcn_2_neg(H2_neg)\n",
    "H2_neg.size(), H2_neg"
   ]
  },
  {
   "cell_type": "code",
   "execution_count": null,
   "id": "5a8e3c6b-cf6c-4469-84ac-b06894d2a265",
   "metadata": {},
   "outputs": [],
   "source": [
    "out = H2_pos - H2_neg\n",
    "out.size(), out"
   ]
  },
  {
   "cell_type": "markdown",
   "id": "21eb945e-5f0f-44f8-9da3-bcf95e52fdef",
   "metadata": {},
   "source": [
    "#### GCN Block - Second Batch Norm"
   ]
  },
  {
   "cell_type": "code",
   "execution_count": null,
   "id": "bef38a6b-0e3d-4703-b11d-d4ed0daba564",
   "metadata": {},
   "outputs": [],
   "source": [
    "out = bn_b(out)\n",
    "out.size(), out"
   ]
  },
  {
   "cell_type": "markdown",
   "id": "a1f49934-d324-463c-a057-d2b19605371e",
   "metadata": {},
   "source": [
    "### Residual connection"
   ]
  },
  {
   "cell_type": "markdown",
   "id": "b220fd2a-8500-413c-9f51-c7b2a6b87d52",
   "metadata": {},
   "source": [
    "#### Residual connection - projection"
   ]
  },
  {
   "cell_type": "code",
   "execution_count": null,
   "id": "ff77e4a8-7861-40c9-b1f0-f18ca90e42f1",
   "metadata": {},
   "outputs": [],
   "source": [
    "identity = res_proj(x)\n",
    "identity.size(), identity"
   ]
  },
  {
   "cell_type": "markdown",
   "id": "e7544d22-5c6f-465e-bc7f-bd7a4283ce32",
   "metadata": {},
   "source": [
    "#### Residual connection - connection"
   ]
  },
  {
   "cell_type": "code",
   "execution_count": null,
   "id": "b19c0f4c-a6b8-410f-9b13-ff90fcaed51b",
   "metadata": {},
   "outputs": [],
   "source": [
    "x = out + identity\n",
    "x.size(), x"
   ]
  },
  {
   "cell_type": "markdown",
   "id": "d4a07e0a-2903-4a9c-bbda-62e0fa24ea7b",
   "metadata": {},
   "source": [
    "#### Residual connection - leaky relu"
   ]
  },
  {
   "cell_type": "code",
   "execution_count": null,
   "id": "74ddacc8-c1c8-4399-8595-3f06ed7aaec9",
   "metadata": {},
   "outputs": [],
   "source": [
    "x = lrelu_res(x)\n",
    "x = x.view(B_batch, N_nodes, n_embd)\n",
    "x.size(), x"
   ]
  },
  {
   "cell_type": "markdown",
   "id": "77aabdf5-2805-4f33-89c6-88e38f095f73",
   "metadata": {},
   "source": [
    "### Output Head"
   ]
  },
  {
   "cell_type": "code",
   "execution_count": null,
   "id": "5fc2bbaa-4471-47b6-81d0-71b89c709339",
   "metadata": {},
   "outputs": [],
   "source": [
    "logits = lm_head(x)\n",
    "logits.size(), logits"
   ]
  },
  {
   "cell_type": "markdown",
   "id": "08f80e4a-0ab9-4c31-92d9-d118eabe6bcf",
   "metadata": {},
   "source": [
    "### Updated Loss calculation"
   ]
  },
  {
   "cell_type": "markdown",
   "id": "0ec1ad4b-1191-4437-8e9d-eebd32686ff6",
   "metadata": {},
   "source": [
    "Now we'll calculate the updated loss.  Our first pass's loss was 3.5835, on par with random. Since we're passing through the same example and used a fairly high learning rate we should see a significant improvement with just 1 learning pass. "
   ]
  },
  {
   "cell_type": "code",
   "execution_count": null,
   "id": "1b05a226-1598-4941-bfb8-31f26ebd9649",
   "metadata": {},
   "outputs": [],
   "source": [
    "loss"
   ]
  },
  {
   "cell_type": "code",
   "execution_count": null,
   "id": "43d24a18-9830-4ae4-baca-9e83af6f4f7c",
   "metadata": {},
   "outputs": [],
   "source": [
    "logits_flat = logits.reshape(B_batch*N_nodes, vocab_size)\n",
    "updated_loss = F.cross_entropy(logits_flat, y_flat)\n",
    "print(updated_loss.shape, updated_loss)"
   ]
  },
  {
   "cell_type": "code",
   "execution_count": null,
   "id": "3606e784-6c00-4a44-bb19-50ed2dc63dd9",
   "metadata": {},
   "outputs": [],
   "source": [
    "f'1 round of training resulted in an loss improvment of {loss.item() - updated_loss.item():.4f}'"
   ]
  },
  {
   "cell_type": "markdown",
   "id": "002b2d85-2edb-49be-b145-362a08177dd0",
   "metadata": {},
   "source": [
    "## Training SUCCESS!\n",
    "Our training improved the loss by about **~20%** (amount may vary since we didn't set a seed). There are flaws with this, mainly passing the same example through a second time and a crazy high learning rate, but this helps show the fundamentals of what learning does inside a GCN style GNN model. "
   ]
  },
  {
   "cell_type": "code",
   "execution_count": null,
   "id": "2f053a07-08b4-433e-a605-5019b73c41d1",
   "metadata": {},
   "outputs": [],
   "source": []
  }
 ],
 "metadata": {
  "kernelspec": {
   "display_name": "Python 3 (ipykernel)",
   "language": "python",
   "name": "python3"
  },
  "language_info": {
   "codemirror_mode": {
    "name": "ipython",
    "version": 3
   },
   "file_extension": ".py",
   "mimetype": "text/x-python",
   "name": "python",
   "nbconvert_exporter": "python",
   "pygments_lexer": "ipython3",
   "version": "3.13.7"
  }
 },
 "nbformat": 4,
 "nbformat_minor": 5
}
