{
 "cells": [
  {
   "cell_type": "markdown",
   "id": "5f90f355-7060-4d8c-8642-e4c8b95e47ce",
   "metadata": {},
   "source": [
    "# GNN GCN Explainer"
   ]
  },
  {
   "cell_type": "markdown",
   "id": "619f25c9-d1af-4c0d-bcd2-6a16c89c88cf",
   "metadata": {},
   "source": [
    "What you’re training the model to do\n",
    "\n",
    "Input features are just node IDs (learned embeddings) for gene and cell-type nodes.\n",
    "\n",
    "Graph structure carries the signed up/down relations; the GCN mixes information along +/− edges (signed normalization keeps things stable).\n",
    "\n",
    "Targets:\n",
    "\n",
    "For genes: a single “LBL_<CellType>_UP/DOWN” token selected by a simple rule (prefer UP; fixed CT order breaks ties). This makes it a single-label node-classification toy.\n",
    "\n",
    "For cell types: predict their own identity token (helps the model stabilize and use structure consistently).\n",
    "\n",
    "You can expand this to multi-label (predict all CTs per gene) by switching the head to a sigmoid multilabel loss and building a multi-hot target, or to edge prediction by moving to a link-prediction setup—but this minimal version keeps things simple and trains fast."
   ]
  },
  {
   "cell_type": "markdown",
   "id": "fc2ef733-c5a3-4b0d-98e0-abeda3f6e4c8",
   "metadata": {},
   "source": [
    "## Text Prep/Tokenization"
   ]
  },
  {
   "cell_type": "code",
   "execution_count": 1,
   "id": "41e28a2f-365a-42e4-ac2c-412d614dcb58",
   "metadata": {},
   "outputs": [],
   "source": [
    "import torch\n",
    "import torch.nn as nn\n",
    "import torch.nn.functional as F\n",
    "import networkx as nx\n",
    "import matplotlib.pyplot as plt"
   ]
  },
  {
   "cell_type": "code",
   "execution_count": 2,
   "id": "0551b97a-37db-444b-8ca8-22fadbcdfa3e",
   "metadata": {},
   "outputs": [],
   "source": [
    "cell_types = ['Tcells','Bcells','Macrophages']\n",
    "genes = ['CD3D','TRAC','LCK','CD19','MS4A1','CD14','CSF1R']\n",
    "node_order = genes + [f'CT_{ct}' for ct in cell_types]   # genes first, then CT nodes\n",
    "N = len(node_order)  # 7 + 3 = 10 (a little larger but still small)"
   ]
  },
  {
   "cell_type": "code",
   "execution_count": 3,
   "id": "ef4fc78e-a241-4efb-a7b6-fb69fb61cc1d",
   "metadata": {},
   "outputs": [],
   "source": [
    "wild_type = {\n",
    "    'Tcells':{'up': ['CD3D','TRAC','LCK','ZAP70'],'down': ['CD19','MS4A1','CD14']},\n",
    "    'Bcells':{'up': ['CD19','MS4A1'],'down': ['CD3D','TRAC','LCK','CD14','ZAP70']},\n",
    "    'Macrophages':{'up': ['CD14','CSF1R'],'down': ['CD3D','MS4A1','CD19']},\n",
    "}\n",
    "\n",
    "cancerous = {\n",
    "    'Tcells':{'up': ['CD3D','TRAC','ZAP70'],'down': ['CD19','MS4A1','CD14','LCK']},\n",
    "    'Bcells':{'up': ['CD19','ZAP70'],'down': ['CD3D','TRAC','LCK','CD14','MS4A1']},\n",
    "    'Macrophages':{'up': ['CD14','CSF1R'],'down': ['CD3D','MS4A1','CD19']},\n",
    "}"
   ]
  },
  {
   "cell_type": "code",
   "execution_count": 4,
   "id": "9c338cdf-3f0b-4975-a7d0-777e9e259103",
   "metadata": {},
   "outputs": [],
   "source": [
    "# ----- vocab: node ids + per-gene labels (LBL_<CT>_UP/DOWN) + CT identity tokens -----\n",
    "def build_vocab(genes, cell_types):\n",
    "    toks = []\n",
    "    toks += genes\n",
    "    toks += [f'CT_{ct}' for ct in cell_types]\n",
    "    for ct in cell_types:\n",
    "        toks += [f'LBL_{ct}_UP', f'LBL_{ct}_DOWN']\n",
    "    stoi = {t:i for i,t in enumerate(toks)}\n",
    "    itos = {i:t for t,i in stoi.items()}\n",
    "    return stoi, itos\n",
    "\n",
    "stoi, itos = build_vocab(genes, cell_types)\n",
    "vocab_size = len(stoi)"
   ]
  },
  {
   "cell_type": "code",
   "execution_count": 6,
   "id": "34a5ea7e-e807-4c4e-9812-3ef8dd4fbac6",
   "metadata": {},
   "outputs": [],
   "source": [
    "# ----- build tensors for one graph spec -----\n",
    "def make_graph_tensors(spec, genes, cell_types, node_order, stoi):\n",
    "    N = len(node_order)\n",
    "    A = torch.zeros(N, N)\n",
    "    def add_edge(g, ct, sign):\n",
    "        i = node_order.index(g); j = node_order.index(f\"CT_{ct}\")\n",
    "        A[i,j] = sign; A[j,i] = sign\n",
    "    for ct, rel in spec.items():\n",
    "        for g in rel[\"up\"]:\n",
    "            if g in genes: add_edge(g, ct, +1)\n",
    "        for g in rel[\"down\"]:\n",
    "            if g in genes: add_edge(g, ct, -1)\n",
    "    X_tokens = torch.tensor([stoi[n] for n in node_order], dtype=torch.long)\n",
    "    # single-label target per node:\n",
    "    Y = []\n",
    "    for n in node_order:\n",
    "        if n in genes:\n",
    "            # prefer UP if present for that gene; otherwise choose a DOWN; tie-break by CT list order\n",
    "            up_cts   = [ct for ct in cell_types if n in spec.get(ct,{}).get(\"up\",[])]\n",
    "            down_cts = [ct for ct in cell_types if n in spec.get(ct,{}).get(\"down\",[])]\n",
    "            target = None\n",
    "            for ct in cell_types:\n",
    "                if ct in up_cts:   target = f\"LBL_{ct}_UP\"; break\n",
    "            if target is None:\n",
    "                for ct in cell_types:\n",
    "                    if ct in down_cts: target = f\"LBL_{ct}_DOWN\"; break\n",
    "            if target is None: target = n  # fallback (shouldn’t hit with our specs)\n",
    "            Y.append(stoi[target])\n",
    "        else:\n",
    "            # CT node supervised to its identity token\n",
    "            Y.append(stoi[n])\n",
    "    Y_tokens = torch.tensor(Y, dtype=torch.long)\n",
    "    return X_tokens, Y_tokens, A"
   ]
  },
  {
   "cell_type": "code",
   "execution_count": 7,
   "id": "f1b1276b-ef06-4c61-b2f8-1ff8e991888e",
   "metadata": {},
   "outputs": [
    {
     "data": {
      "text/plain": [
       "(tensor([0, 1, 2, 3, 4, 5, 6, 7, 8, 9]),\n",
       " tensor([10, 10, 10, 12, 12, 14, 14,  7,  8,  9]),\n",
       " tensor([[ 0.,  0.,  0.,  0.,  0.,  0.,  0.,  1., -1., -1.],\n",
       "         [ 0.,  0.,  0.,  0.,  0.,  0.,  0.,  1., -1.,  0.],\n",
       "         [ 0.,  0.,  0.,  0.,  0.,  0.,  0.,  1., -1.,  0.],\n",
       "         [ 0.,  0.,  0.,  0.,  0.,  0.,  0., -1.,  1., -1.],\n",
       "         [ 0.,  0.,  0.,  0.,  0.,  0.,  0., -1.,  1., -1.],\n",
       "         [ 0.,  0.,  0.,  0.,  0.,  0.,  0., -1., -1.,  1.],\n",
       "         [ 0.,  0.,  0.,  0.,  0.,  0.,  0.,  0.,  0.,  1.],\n",
       "         [ 1.,  1.,  1., -1., -1., -1.,  0.,  0.,  0.,  0.],\n",
       "         [-1., -1., -1.,  1.,  1., -1.,  0.,  0.,  0.,  0.],\n",
       "         [-1.,  0.,  0., -1., -1.,  1.,  1.,  0.,  0.,  0.]]))"
      ]
     },
     "execution_count": 7,
     "metadata": {},
     "output_type": "execute_result"
    }
   ],
   "source": [
    "# ----- assemble batch for SimpleGCNText -----\n",
    "X1, Y1, A1 = make_graph_tensors(wild_type, genes, cell_types, node_order, stoi)\n",
    "X1, Y1, A1"
   ]
  },
  {
   "cell_type": "code",
   "execution_count": 8,
   "id": "66cc6c3e-b712-4b11-9003-2a370183b756",
   "metadata": {},
   "outputs": [
    {
     "data": {
      "text/plain": [
       "(tensor([0, 1, 2, 3, 4, 5, 6, 7, 8, 9]),\n",
       " tensor([10, 10, 11, 12, 11, 14, 14,  7,  8,  9]),\n",
       " tensor([[ 0.,  0.,  0.,  0.,  0.,  0.,  0.,  1., -1., -1.],\n",
       "         [ 0.,  0.,  0.,  0.,  0.,  0.,  0.,  1., -1.,  0.],\n",
       "         [ 0.,  0.,  0.,  0.,  0.,  0.,  0., -1., -1.,  0.],\n",
       "         [ 0.,  0.,  0.,  0.,  0.,  0.,  0., -1.,  1., -1.],\n",
       "         [ 0.,  0.,  0.,  0.,  0.,  0.,  0., -1., -1., -1.],\n",
       "         [ 0.,  0.,  0.,  0.,  0.,  0.,  0., -1., -1.,  1.],\n",
       "         [ 0.,  0.,  0.,  0.,  0.,  0.,  0.,  0.,  0.,  1.],\n",
       "         [ 1.,  1., -1., -1., -1., -1.,  0.,  0.,  0.,  0.],\n",
       "         [-1., -1., -1.,  1., -1., -1.,  0.,  0.,  0.,  0.],\n",
       "         [-1.,  0.,  0., -1., -1.,  1.,  1.,  0.,  0.,  0.]]))"
      ]
     },
     "execution_count": 8,
     "metadata": {},
     "output_type": "execute_result"
    }
   ],
   "source": [
    "X2, Y2, A2 = make_graph_tensors(cancerous, genes, cell_types, node_order, stoi)\n",
    "X2, Y2, A2"
   ]
  },
  {
   "cell_type": "code",
   "execution_count": 9,
   "id": "634a6a28-395a-42e7-8275-45c5b31bfe41",
   "metadata": {},
   "outputs": [],
   "source": [
    "import networkx as nx\n",
    "import matplotlib.pyplot as plt\n",
    "\n",
    "def graph_from_adjacency(A, node_order, genes):\n",
    "    G = nx.Graph()\n",
    "    for n in node_order:\n",
    "        G.add_node(n, bipartite=(0 if n in genes else 1))\n",
    "    N = len(node_order)\n",
    "    for i in range(N):\n",
    "        for j in range(i+1, N):\n",
    "            s = float(A[i, j])\n",
    "            if s != 0:\n",
    "                G.add_edge(node_order[i], node_order[j], sign=int(s))\n",
    "    return G\n",
    "\n",
    "def draw_signed_bipartite(G, node_order, genes, ax=None, title=''):\n",
    "    if ax is None:\n",
    "        _, ax = plt.subplots(figsize=(6, 4))\n",
    "    left  = [n for n,d in G.nodes(data=True) if d['bipartite'] == 0]\n",
    "    right = [n for n,d in G.nodes(data=True) if d['bipartite'] == 1]\n",
    "\n",
    "    # Simple 2-column bipartite layout\n",
    "    pos = {}\n",
    "    for i, n in enumerate(left):  pos[n] = (0.0, i)\n",
    "    for j, n in enumerate(right): pos[n] = (1.0, j)\n",
    "\n",
    "    # Nodes\n",
    "    nx.draw_networkx_nodes(G, pos, nodelist=left,  node_shape='o', ax=ax)\n",
    "    nx.draw_networkx_nodes(G, pos, nodelist=right, node_shape='s', ax=ax)\n",
    "\n",
    "    # Edges: solid for + (upregulated), dashed for - (downregulated)\n",
    "    pos_edges = [(u,v) for u,v,d in G.edges(data=True) if d['sign'] > 0]\n",
    "    neg_edges = [(u,v) for u,v,d in G.edges(data=True) if d['sign'] < 0]\n",
    "    nx.draw_networkx_edges(G, pos, edgelist=pos_edges, style='solid',  ax=ax)\n",
    "    nx.draw_networkx_edges(G, pos, edgelist=neg_edges, style='dashed', ax=ax)\n",
    "\n",
    "    # Labels\n",
    "    nx.draw_networkx_labels(G, pos, font_size=9, ax=ax)\n",
    "\n",
    "    # Legend proxies\n",
    "    from matplotlib.lines import Line2D\n",
    "    ax.legend(\n",
    "        [Line2D([0],[0], linestyle='solid'),\n",
    "         Line2D([0],[0], linestyle='dashed')],\n",
    "        ['upregulated (+)', 'downregulated (−)'], loc='upper right', frameon=False\n",
    "    )\n",
    "    ax.set_title(title)\n",
    "    ax.axis('off')\n",
    "    return ax"
   ]
  },
  {
   "cell_type": "code",
   "execution_count": 10,
   "id": "93a874bd-15b1-42f9-b460-014a65e4ed96",
   "metadata": {},
   "outputs": [
    {
     "data": {
      "image/png": "[encoded data removed]",
      "text/plain": [
       "<Figure size 1000x400 with 2 Axes>"
      ]
     },
     "metadata": {},
     "output_type": "display_data"
    }
   ],
   "source": [
    "# Build and draw both graphs\n",
    "G1 = graph_from_adjacency(A1, node_order, genes)\n",
    "G2 = graph_from_adjacency(A2, node_order, genes)\n",
    "\n",
    "fig, axes = plt.subplots(1, 2, figsize=(10, 4), constrained_layout=True)\n",
    "draw_signed_bipartite(G1, node_order, genes, ax=axes[0], title='Wild Type')\n",
    "draw_signed_bipartite(G2, node_order, genes, ax=axes[1], title='Cancerous')\n",
    "plt.show()\n"
   ]
  },
  {
   "cell_type": "markdown",
   "id": "daa14583-b673-48ae-a53d-353275a6b170",
   "metadata": {},
   "source": [
    "# Modeling"
   ]
  },
  {
   "cell_type": "markdown",
   "id": "20c2576e-4d03-47f5-83c9-5f69bb845bb9",
   "metadata": {},
   "source": [
    "A machine learning model forward pass now uses the tokenization information, runs several layers of linear algebra on it, and then \"predicts\" the probability that each token in the vocab is next. When it is noisy (like you will see in this example), this process results in gibberish.  The training process changes the noise to pattern during the \"backward pass\" as you'll see. We'll show 3 steps that are focused on training:\n",
    "1. **Data Loading** `x, y = train_loader.next_batch()` - this step pulls from the raw data enough tokens to complete a forward pass and loss calculation.  If the model is inference only, this step is replaced with taking in the inference input and preparing it similarly as the forward pass.\n",
    "2. **Forward Pass** `logits, loss = model(x, y)` - using the data and the model architecture we run a prediction for the tokens. When training we also compare against the expected to get loss, but in inference, we use the logits to complete the inference task.\n",
    "3. **Back Propagation, aka Backward Pass & Training** `loss.backward(); optimizer.step()` - using differentials to understand what parameters most impact the forward pass' impact on its prediction, comparing that against what is actually right based on the data loading step, and then making very minor adjustments to the impactful parameters with the hope it improves future predictions.\n",
    "\n",
    "The we'll show a final **Forward Pass** with the updated weights we did in #3. "
   ]
  },
  {
   "cell_type": "markdown",
   "id": "3a1a64a9-88b9-405f-9076-f26b31d751cb",
   "metadata": {},
   "source": [
    "## Data Loading"
   ]
  },
  {
   "cell_type": "markdown",
   "id": "0b219fb8-da7b-4d3f-928f-3a3fbb3edaf4",
   "metadata": {},
   "source": [
    "To start, we need to get enough data to run the forward and backward passes.  Since our total dataset is likely too big to be held in memory all at once in real practice, we will read just enough file information into memory so that we can run the passes, leaving memory and compute to be used on the passes instead of static data holding. \n",
    "To start, we have to identify the batch size and the model context length to determine how much data we need.  Consequently, these dimensions also form 2 of the 3 dimensions in the initial matrix.\n",
    "- **Batch Size (B)** - This is the number of examples you'll train on in a single pass. \n",
    "- **Number of Nodes (N)** - This is basically the \"context length\" for a GNN.  This is the max number of node that a model can use in a pass.\n",
    "\n",
    "Beyond these, in a GCN, the depth also controls how much \"context\" or complexity can be learned. This is because each GCN layer learns 1 hop, or 1 relationship of neighbors. This means that after $L$ layers, a model can learn $L$-hops worth of context.\n",
    "\n",
    "In our case we'll set our Batch to be our 2 examples, nodes to the the nodes we have configured, 10, and our GCN will have 2 layers to model 2 network hops: gene → cell type → other genes"
   ]
  },
  {
   "cell_type": "code",
   "execution_count": 11,
   "id": "bb0a6c56-3be5-4750-b96b-74539aad3516",
   "metadata": {},
   "outputs": [
    {
     "data": {
      "text/plain": [
       "tensor([[0, 1, 2, 3, 4, 5, 6, 7, 8, 9],\n",
       "        [0, 1, 2, 3, 4, 5, 6, 7, 8, 9]])"
      ]
     },
     "execution_count": 11,
     "metadata": {},
     "output_type": "execute_result"
    }
   ],
   "source": [
    "x_tokens = torch.stack([X1, X2], dim=0)     # [B=2, N=10]\n",
    "x_tokens"
   ]
  },
  {
   "cell_type": "code",
   "execution_count": 12,
   "id": "398f1753-b2cd-4bcc-a782-b7df306cc01b",
   "metadata": {},
   "outputs": [
    {
     "data": {
      "text/plain": [
       "tensor([[10, 10, 10, 12, 12, 14, 14,  7,  8,  9],\n",
       "        [10, 10, 11, 12, 11, 14, 14,  7,  8,  9]])"
      ]
     },
     "execution_count": 12,
     "metadata": {},
     "output_type": "execute_result"
    }
   ],
   "source": [
    "y_labels = torch.stack([Y1, Y2], dim=0)     # [2, 10]\n",
    "y_labels"
   ]
  },
  {
   "cell_type": "code",
   "execution_count": 13,
   "id": "a5772026-e570-4629-8179-f1ade708ed28",
   "metadata": {},
   "outputs": [
    {
     "data": {
      "text/plain": [
       "[tensor([[ 0.,  0.,  0.,  0.,  0.,  0.,  0.,  1., -1., -1.],\n",
       "         [ 0.,  0.,  0.,  0.,  0.,  0.,  0.,  1., -1.,  0.],\n",
       "         [ 0.,  0.,  0.,  0.,  0.,  0.,  0.,  1., -1.,  0.],\n",
       "         [ 0.,  0.,  0.,  0.,  0.,  0.,  0., -1.,  1., -1.],\n",
       "         [ 0.,  0.,  0.,  0.,  0.,  0.,  0., -1.,  1., -1.],\n",
       "         [ 0.,  0.,  0.,  0.,  0.,  0.,  0., -1., -1.,  1.],\n",
       "         [ 0.,  0.,  0.,  0.,  0.,  0.,  0.,  0.,  0.,  1.],\n",
       "         [ 1.,  1.,  1., -1., -1., -1.,  0.,  0.,  0.,  0.],\n",
       "         [-1., -1., -1.,  1.,  1., -1.,  0.,  0.,  0.,  0.],\n",
       "         [-1.,  0.,  0., -1., -1.,  1.,  1.,  0.,  0.,  0.]]),\n",
       " tensor([[ 0.,  0.,  0.,  0.,  0.,  0.,  0.,  1., -1., -1.],\n",
       "         [ 0.,  0.,  0.,  0.,  0.,  0.,  0.,  1., -1.,  0.],\n",
       "         [ 0.,  0.,  0.,  0.,  0.,  0.,  0., -1., -1.,  0.],\n",
       "         [ 0.,  0.,  0.,  0.,  0.,  0.,  0., -1.,  1., -1.],\n",
       "         [ 0.,  0.,  0.,  0.,  0.,  0.,  0., -1., -1., -1.],\n",
       "         [ 0.,  0.,  0.,  0.,  0.,  0.,  0., -1., -1.,  1.],\n",
       "         [ 0.,  0.,  0.,  0.,  0.,  0.,  0.,  0.,  0.,  1.],\n",
       "         [ 1.,  1., -1., -1., -1., -1.,  0.,  0.,  0.,  0.],\n",
       "         [-1., -1., -1.,  1., -1., -1.,  0.,  0.,  0.,  0.],\n",
       "         [-1.,  0.,  0., -1., -1.,  1.,  1.,  0.,  0.,  0.]])]"
      ]
     },
     "execution_count": 13,
     "metadata": {},
     "output_type": "execute_result"
    }
   ],
   "source": [
    "a_list   = [A1.float(), A2.float()]         # list of [10,10] signed adjacencies\n",
    "a_list"
   ]
  },
  {
   "cell_type": "code",
   "execution_count": 14,
   "id": "2c0afe94-e7e8-4537-a12a-0b8ff204f9bb",
   "metadata": {},
   "outputs": [
    {
     "data": {
      "text/plain": [
       "(2, 10)"
      ]
     },
     "execution_count": 14,
     "metadata": {},
     "output_type": "execute_result"
    }
   ],
   "source": [
    "B_batch, N_nodes = x_tokens.shape\n",
    "B_batch, N_nodes"
   ]
  },
  {
   "cell_type": "markdown",
   "id": "b86c1bd9-c69d-4fbf-ba37-cce872c8c085",
   "metadata": {},
   "source": [
    "## Forward pass"
   ]
  },
  {
   "cell_type": "markdown",
   "id": "f1e25071-34cf-47ee-a392-7b49ef73499c",
   "metadata": {},
   "source": [
    "### Input Layer"
   ]
  },
  {
   "cell_type": "code",
   "execution_count": 15,
   "id": "f64eb292-1169-454f-9e0f-688a9d325e84",
   "metadata": {},
   "outputs": [
    {
     "data": {
      "text/plain": [
       "(16, 3)"
      ]
     },
     "execution_count": 15,
     "metadata": {},
     "output_type": "execute_result"
    }
   ],
   "source": [
    "n_embd = 3 # level of embedding of input tokens\n",
    "vocab_size, n_embd"
   ]
  },
  {
   "cell_type": "markdown",
   "id": "ba3869ac-532b-4a18-9ecf-aa96ef17d634",
   "metadata": {},
   "source": [
    "#### Input Layer - Embedding Projection"
   ]
  },
  {
   "cell_type": "code",
   "execution_count": 18,
   "id": "1a8577c0-d108-4fab-9d41-6b9b8dbb5543",
   "metadata": {},
   "outputs": [
    {
     "data": {
      "text/plain": [
       "Parameter containing:\n",
       "tensor([[1., 1., 1.],\n",
       "        [1., 1., 1.],\n",
       "        [1., 1., 1.],\n",
       "        [1., 1., 1.],\n",
       "        [1., 1., 1.],\n",
       "        [1., 1., 1.],\n",
       "        [1., 1., 1.],\n",
       "        [1., 1., 1.],\n",
       "        [1., 1., 1.],\n",
       "        [1., 1., 1.],\n",
       "        [1., 1., 1.],\n",
       "        [1., 1., 1.],\n",
       "        [1., 1., 1.],\n",
       "        [1., 1., 1.],\n",
       "        [1., 1., 1.],\n",
       "        [1., 1., 1.]], requires_grad=True)"
      ]
     },
     "execution_count": 18,
     "metadata": {},
     "output_type": "execute_result"
    }
   ],
   "source": [
    "tok_emb = nn.Embedding(vocab_size, n_embd)\n",
    "with torch.no_grad(): # initilize to W[i,j] = 0.001*(1+i+j) for easy following \n",
    "    nn.init.ones_(tok_emb.weight)\n",
    "tok_emb.weight"
   ]
  },
  {
   "cell_type": "code",
   "execution_count": 22,
   "id": "39f1fba0-f4ea-4d69-babc-428e284b01dc",
   "metadata": {},
   "outputs": [
    {
     "data": {
      "text/plain": [
       "tensor([[[1., 1., 1.],\n",
       "         [1., 1., 1.],\n",
       "         [1., 1., 1.],\n",
       "         [1., 1., 1.],\n",
       "         [1., 1., 1.],\n",
       "         [1., 1., 1.],\n",
       "         [1., 1., 1.],\n",
       "         [1., 1., 1.],\n",
       "         [1., 1., 1.],\n",
       "         [1., 1., 1.]],\n",
       "\n",
       "        [[1., 1., 1.],\n",
       "         [1., 1., 1.],\n",
       "         [1., 1., 1.],\n",
       "         [1., 1., 1.],\n",
       "         [1., 1., 1.],\n",
       "         [1., 1., 1.],\n",
       "         [1., 1., 1.],\n",
       "         [1., 1., 1.],\n",
       "         [1., 1., 1.],\n",
       "         [1., 1., 1.]]], grad_fn=<EmbeddingBackward0>)"
      ]
     },
     "execution_count": 22,
     "metadata": {},
     "output_type": "execute_result"
    }
   ],
   "source": [
    "x = tok_emb(x_tokens)\n",
    "x"
   ]
  },
  {
   "cell_type": "markdown",
   "id": "4cced203-0a47-42b1-8620-bfe1256e5924",
   "metadata": {},
   "source": [
    "collapse out batch for learning"
   ]
  },
  {
   "cell_type": "code",
   "execution_count": 24,
   "id": "8bd3ea54-13f6-40ac-ae42-8410f2f461c8",
   "metadata": {},
   "outputs": [
    {
     "data": {
      "text/plain": [
       "tensor([[1., 1., 1.],\n",
       "        [1., 1., 1.],\n",
       "        [1., 1., 1.],\n",
       "        [1., 1., 1.],\n",
       "        [1., 1., 1.],\n",
       "        [1., 1., 1.],\n",
       "        [1., 1., 1.],\n",
       "        [1., 1., 1.],\n",
       "        [1., 1., 1.],\n",
       "        [1., 1., 1.],\n",
       "        [1., 1., 1.],\n",
       "        [1., 1., 1.],\n",
       "        [1., 1., 1.],\n",
       "        [1., 1., 1.],\n",
       "        [1., 1., 1.],\n",
       "        [1., 1., 1.],\n",
       "        [1., 1., 1.],\n",
       "        [1., 1., 1.],\n",
       "        [1., 1., 1.],\n",
       "        [1., 1., 1.]], grad_fn=<ViewBackward0>)"
      ]
     },
     "execution_count": 24,
     "metadata": {},
     "output_type": "execute_result"
    }
   ],
   "source": [
    "x = x.view(B_batch*N_nodes,n_embd)\n",
    "x"
   ]
  },
  {
   "cell_type": "markdown",
   "id": "6ce9ff56-936f-40f1-a3f2-04fc76141929",
   "metadata": {},
   "source": [
    "#### Input Layer - Normalization A"
   ]
  },
  {
   "cell_type": "code",
   "execution_count": null,
   "id": "9fbda8fa-8a47-4729-94ea-07ae30402310",
   "metadata": {},
   "outputs": [],
   "source": []
  },
  {
   "cell_type": "markdown",
   "id": "06752b3b-670a-43c7-9f2a-cd2b1f88c3a1",
   "metadata": {},
   "source": [
    "$Â = D^{-1/2}(A + I)D^{-1/2}$"
   ]
  },
  {
   "cell_type": "code",
   "execution_count": 29,
   "id": "43c96a69-715e-4733-a46b-9e84462fda1d",
   "metadata": {},
   "outputs": [
    {
     "data": {
      "text/plain": [
       "tensor([[ 0.,  0.,  0.,  0.,  0.,  0.,  0.,  1., -1., -1.],\n",
       "        [ 0.,  0.,  0.,  0.,  0.,  0.,  0.,  1., -1.,  0.],\n",
       "        [ 0.,  0.,  0.,  0.,  0.,  0.,  0.,  1., -1.,  0.],\n",
       "        [ 0.,  0.,  0.,  0.,  0.,  0.,  0., -1.,  1., -1.],\n",
       "        [ 0.,  0.,  0.,  0.,  0.,  0.,  0., -1.,  1., -1.],\n",
       "        [ 0.,  0.,  0.,  0.,  0.,  0.,  0., -1., -1.,  1.],\n",
       "        [ 0.,  0.,  0.,  0.,  0.,  0.,  0.,  0.,  0.,  1.],\n",
       "        [ 1.,  1.,  1., -1., -1., -1.,  0.,  0.,  0.,  0.],\n",
       "        [-1., -1., -1.,  1.,  1., -1.,  0.,  0.,  0.,  0.],\n",
       "        [-1.,  0.,  0., -1., -1.,  1.,  1.,  0.,  0.,  0.]])"
      ]
     },
     "execution_count": 29,
     "metadata": {},
     "output_type": "execute_result"
    }
   ],
   "source": [
    "A = a_list[0]\n",
    "A"
   ]
  },
  {
   "cell_type": "code",
   "execution_count": 30,
   "id": "fc73e992-1244-42c0-9685-f64b264b2320",
   "metadata": {},
   "outputs": [
    {
     "data": {
      "text/plain": [
       "tensor([[1., 0., 0., 0., 0., 0., 0., 0., 0., 0.],\n",
       "        [0., 1., 0., 0., 0., 0., 0., 0., 0., 0.],\n",
       "        [0., 0., 1., 0., 0., 0., 0., 0., 0., 0.],\n",
       "        [0., 0., 0., 1., 0., 0., 0., 0., 0., 0.],\n",
       "        [0., 0., 0., 0., 1., 0., 0., 0., 0., 0.],\n",
       "        [0., 0., 0., 0., 0., 1., 0., 0., 0., 0.],\n",
       "        [0., 0., 0., 0., 0., 0., 1., 0., 0., 0.],\n",
       "        [0., 0., 0., 0., 0., 0., 0., 1., 0., 0.],\n",
       "        [0., 0., 0., 0., 0., 0., 0., 0., 1., 0.],\n",
       "        [0., 0., 0., 0., 0., 0., 0., 0., 0., 1.]])"
      ]
     },
     "execution_count": 30,
     "metadata": {},
     "output_type": "execute_result"
    }
   ],
   "source": [
    "I = torch.eye(A.size(0))\n",
    "I"
   ]
  },
  {
   "cell_type": "code",
   "execution_count": 31,
   "id": "d5e7c371-cb61-4138-bb39-76e00a79e13e",
   "metadata": {},
   "outputs": [
    {
     "data": {
      "text/plain": [
       "tensor([[ 1.,  0.,  0.,  0.,  0.,  0.,  0.,  1., -1., -1.],\n",
       "        [ 0.,  1.,  0.,  0.,  0.,  0.,  0.,  1., -1.,  0.],\n",
       "        [ 0.,  0.,  1.,  0.,  0.,  0.,  0.,  1., -1.,  0.],\n",
       "        [ 0.,  0.,  0.,  1.,  0.,  0.,  0., -1.,  1., -1.],\n",
       "        [ 0.,  0.,  0.,  0.,  1.,  0.,  0., -1.,  1., -1.],\n",
       "        [ 0.,  0.,  0.,  0.,  0.,  1.,  0., -1., -1.,  1.],\n",
       "        [ 0.,  0.,  0.,  0.,  0.,  0.,  1.,  0.,  0.,  1.],\n",
       "        [ 1.,  1.,  1., -1., -1., -1.,  0.,  1.,  0.,  0.],\n",
       "        [-1., -1., -1.,  1.,  1., -1.,  0.,  0.,  1.,  0.],\n",
       "        [-1.,  0.,  0., -1., -1.,  1.,  1.,  0.,  0.,  1.]])"
      ]
     },
     "execution_count": 31,
     "metadata": {},
     "output_type": "execute_result"
    }
   ],
   "source": [
    "A_hat = A + I\n",
    "A_hat"
   ]
  },
  {
   "cell_type": "code",
   "execution_count": 33,
   "id": "eb7ad8fd-9e1e-4324-b389-1d8d32209fa2",
   "metadata": {},
   "outputs": [
    {
     "data": {
      "text/plain": [
       "tensor([ 0.,  1.,  1.,  0.,  0.,  0.,  2.,  1., -1.,  0.])"
      ]
     },
     "execution_count": 33,
     "metadata": {},
     "output_type": "execute_result"
    }
   ],
   "source": [
    "deg = A_hat.sum(dim=1)\n",
    "deg"
   ]
  },
  {
   "cell_type": "code",
   "execution_count": 34,
   "id": "3a86b179-8803-40f4-a546-0277fa8a018b",
   "metadata": {},
   "outputs": [
    {
     "data": {
      "text/plain": [
       "tensor([[   inf, 0.0000, 0.0000, 0.0000, 0.0000, 0.0000, 0.0000, 0.0000, 0.0000,\n",
       "         0.0000],\n",
       "        [0.0000, 1.0000, 0.0000, 0.0000, 0.0000, 0.0000, 0.0000, 0.0000, 0.0000,\n",
       "         0.0000],\n",
       "        [0.0000, 0.0000, 1.0000, 0.0000, 0.0000, 0.0000, 0.0000, 0.0000, 0.0000,\n",
       "         0.0000],\n",
       "        [0.0000, 0.0000, 0.0000,    inf, 0.0000, 0.0000, 0.0000, 0.0000, 0.0000,\n",
       "         0.0000],\n",
       "        [0.0000, 0.0000, 0.0000, 0.0000,    inf, 0.0000, 0.0000, 0.0000, 0.0000,\n",
       "         0.0000],\n",
       "        [0.0000, 0.0000, 0.0000, 0.0000, 0.0000,    inf, 0.0000, 0.0000, 0.0000,\n",
       "         0.0000],\n",
       "        [0.0000, 0.0000, 0.0000, 0.0000, 0.0000, 0.0000, 0.7071, 0.0000, 0.0000,\n",
       "         0.0000],\n",
       "        [0.0000, 0.0000, 0.0000, 0.0000, 0.0000, 0.0000, 0.0000, 1.0000, 0.0000,\n",
       "         0.0000],\n",
       "        [0.0000, 0.0000, 0.0000, 0.0000, 0.0000, 0.0000, 0.0000, 0.0000,    nan,\n",
       "         0.0000],\n",
       "        [0.0000, 0.0000, 0.0000, 0.0000, 0.0000, 0.0000, 0.0000, 0.0000, 0.0000,\n",
       "            inf]])"
      ]
     },
     "execution_count": 34,
     "metadata": {},
     "output_type": "execute_result"
    }
   ],
   "source": [
    "D_inv_sqrt = torch.diag(torch.pow(deg, -0.5))\n",
    "D_inv_sqrt"
   ]
  },
  {
   "cell_type": "code",
   "execution_count": 36,
   "id": "78b357fc-e818-423e-abe8-db324cfd6ac8",
   "metadata": {},
   "outputs": [
    {
     "data": {
      "text/plain": [
       "tensor([[   nan,    nan,    nan,    nan,    nan,    nan,    nan,    nan,    nan,\n",
       "            nan],\n",
       "        [   nan, 1.0000, 0.0000,    nan,    nan,    nan, 0.0000, 1.0000,    nan,\n",
       "            nan],\n",
       "        [   nan, 0.0000, 1.0000,    nan,    nan,    nan, 0.0000, 1.0000,    nan,\n",
       "            nan],\n",
       "        [   nan,    nan,    nan,    nan,    nan,    nan,    nan,    nan,    nan,\n",
       "            nan],\n",
       "        [   nan,    nan,    nan,    nan,    nan,    nan,    nan,    nan,    nan,\n",
       "            nan],\n",
       "        [   nan,    nan,    nan,    nan,    nan,    nan,    nan,    nan,    nan,\n",
       "            nan],\n",
       "        [   nan, 0.0000, 0.0000,    nan,    nan,    nan, 0.5000, 0.0000,    nan,\n",
       "            inf],\n",
       "        [   inf, 1.0000, 1.0000,   -inf,   -inf,   -inf, 0.0000, 1.0000,    nan,\n",
       "            nan],\n",
       "        [   nan,    nan,    nan,    nan,    nan,    nan,    nan,    nan,    nan,\n",
       "            nan],\n",
       "        [   nan,    nan,    nan,    nan,    nan,    nan,    nan,    nan,    nan,\n",
       "            nan]])"
      ]
     },
     "execution_count": 36,
     "metadata": {},
     "output_type": "execute_result"
    }
   ],
   "source": [
    "A = D_inv_sqrt @ A_hat @ D_inv_sqrt\n",
    "A"
   ]
  },
  {
   "cell_type": "code",
   "execution_count": 37,
   "id": "6275a761-bd82-4d48-b217-66181e558b0c",
   "metadata": {},
   "outputs": [
    {
     "data": {
      "text/plain": [
       "[tensor([[   nan,    nan,    nan,    nan,    nan,    nan,    nan,    nan,    nan,\n",
       "             nan],\n",
       "         [   nan, 1.0000, 0.0000,    nan,    nan,    nan, 0.0000, 1.0000,    nan,\n",
       "             nan],\n",
       "         [   nan, 0.0000, 1.0000,    nan,    nan,    nan, 0.0000, 1.0000,    nan,\n",
       "             nan],\n",
       "         [   nan,    nan,    nan,    nan,    nan,    nan,    nan,    nan,    nan,\n",
       "             nan],\n",
       "         [   nan,    nan,    nan,    nan,    nan,    nan,    nan,    nan,    nan,\n",
       "             nan],\n",
       "         [   nan,    nan,    nan,    nan,    nan,    nan,    nan,    nan,    nan,\n",
       "             nan],\n",
       "         [   nan, 0.0000, 0.0000,    nan,    nan,    nan, 0.5000, 0.0000,    nan,\n",
       "             inf],\n",
       "         [   inf, 1.0000, 1.0000,   -inf,   -inf,   -inf, 0.0000, 1.0000,    nan,\n",
       "             nan],\n",
       "         [   nan,    nan,    nan,    nan,    nan,    nan,    nan,    nan,    nan,\n",
       "             nan],\n",
       "         [   nan,    nan,    nan,    nan,    nan,    nan,    nan,    nan,    nan,\n",
       "             nan]])]"
      ]
     },
     "execution_count": 37,
     "metadata": {},
     "output_type": "execute_result"
    }
   ],
   "source": [
    "A_norm_list = []\n",
    "A_norm_list.append(A)\n",
    "A_norm_list"
   ]
  },
  {
   "cell_type": "code",
   "execution_count": null,
   "id": "59e931f5-4694-4af6-8b95-ea78d93a7829",
   "metadata": {},
   "outputs": [],
   "source": []
  },
  {
   "cell_type": "code",
   "execution_count": 39,
   "id": "d2bb95bc-2be0-45d8-9eaf-c48d748164ab",
   "metadata": {},
   "outputs": [
    {
     "data": {
      "text/plain": [
       "tensor([[   nan,    nan,    nan,    nan,    nan,    nan,    nan,    nan,    nan,\n",
       "            nan],\n",
       "        [   nan, 1.0000,    nan,    nan,    nan,    nan, 0.0000,    nan,    nan,\n",
       "            nan],\n",
       "        [   nan,    nan,    nan,    nan,    nan,    nan,    nan,    nan,    nan,\n",
       "            nan],\n",
       "        [   nan,    nan,    nan,    nan,    nan,    nan,    nan,    nan,    nan,\n",
       "            nan],\n",
       "        [   nan,    nan,    nan,    nan,    nan,    nan,    nan,    nan,    nan,\n",
       "            nan],\n",
       "        [   nan,    nan,    nan,    nan,    nan,    nan,    nan,    nan,    nan,\n",
       "            nan],\n",
       "        [   nan, 0.0000,    nan,    nan,    nan,    nan, 0.5000,    nan,    nan,\n",
       "            inf],\n",
       "        [   nan,    nan,    nan,    nan,    nan,    nan,    nan,    nan,    nan,\n",
       "            nan],\n",
       "        [   nan,    nan,    nan,    nan,    nan,    nan,    nan,    nan,    nan,\n",
       "            nan],\n",
       "        [   nan,    nan,    nan,    nan,    nan,    nan,    nan,    nan,    nan,\n",
       "            nan]])"
      ]
     },
     "execution_count": 39,
     "metadata": {},
     "output_type": "execute_result"
    }
   ],
   "source": [
    "A = a_list[1]\n",
    "I = torch.eye(A.size(0))\n",
    "A_hat = A + I\n",
    "deg = A_hat.sum(dim=1)\n",
    "D_inv_sqrt = torch.diag(torch.pow(deg, -0.5))\n",
    "A = D_inv_sqrt @ A_hat @ D_inv_sqrt\n",
    "A"
   ]
  },
  {
   "cell_type": "code",
   "execution_count": 40,
   "id": "5d0a499f-bc26-4c7a-9e13-03697b39facc",
   "metadata": {},
   "outputs": [
    {
     "data": {
      "text/plain": [
       "[tensor([[   nan,    nan,    nan,    nan,    nan,    nan,    nan,    nan,    nan,\n",
       "             nan],\n",
       "         [   nan, 1.0000, 0.0000,    nan,    nan,    nan, 0.0000, 1.0000,    nan,\n",
       "             nan],\n",
       "         [   nan, 0.0000, 1.0000,    nan,    nan,    nan, 0.0000, 1.0000,    nan,\n",
       "             nan],\n",
       "         [   nan,    nan,    nan,    nan,    nan,    nan,    nan,    nan,    nan,\n",
       "             nan],\n",
       "         [   nan,    nan,    nan,    nan,    nan,    nan,    nan,    nan,    nan,\n",
       "             nan],\n",
       "         [   nan,    nan,    nan,    nan,    nan,    nan,    nan,    nan,    nan,\n",
       "             nan],\n",
       "         [   nan, 0.0000, 0.0000,    nan,    nan,    nan, 0.5000, 0.0000,    nan,\n",
       "             inf],\n",
       "         [   inf, 1.0000, 1.0000,   -inf,   -inf,   -inf, 0.0000, 1.0000,    nan,\n",
       "             nan],\n",
       "         [   nan,    nan,    nan,    nan,    nan,    nan,    nan,    nan,    nan,\n",
       "             nan],\n",
       "         [   nan,    nan,    nan,    nan,    nan,    nan,    nan,    nan,    nan,\n",
       "             nan]]),\n",
       " tensor([[   nan,    nan,    nan,    nan,    nan,    nan,    nan,    nan,    nan,\n",
       "             nan],\n",
       "         [   nan, 1.0000,    nan,    nan,    nan,    nan, 0.0000,    nan,    nan,\n",
       "             nan],\n",
       "         [   nan,    nan,    nan,    nan,    nan,    nan,    nan,    nan,    nan,\n",
       "             nan],\n",
       "         [   nan,    nan,    nan,    nan,    nan,    nan,    nan,    nan,    nan,\n",
       "             nan],\n",
       "         [   nan,    nan,    nan,    nan,    nan,    nan,    nan,    nan,    nan,\n",
       "             nan],\n",
       "         [   nan,    nan,    nan,    nan,    nan,    nan,    nan,    nan,    nan,\n",
       "             nan],\n",
       "         [   nan, 0.0000,    nan,    nan,    nan,    nan, 0.5000,    nan,    nan,\n",
       "             inf],\n",
       "         [   nan,    nan,    nan,    nan,    nan,    nan,    nan,    nan,    nan,\n",
       "             nan],\n",
       "         [   nan,    nan,    nan,    nan,    nan,    nan,    nan,    nan,    nan,\n",
       "             nan],\n",
       "         [   nan,    nan,    nan,    nan,    nan,    nan,    nan,    nan,    nan,\n",
       "             nan]])]"
      ]
     },
     "execution_count": 40,
     "metadata": {},
     "output_type": "execute_result"
    }
   ],
   "source": [
    "A_norm_list.append(A)\n",
    "A_norm_list"
   ]
  },
  {
   "cell_type": "markdown",
   "id": "5c55a5bc-e181-492f-a6e4-a41d11344e5b",
   "metadata": {},
   "source": [
    "## Input Layer -  bloc_diag"
   ]
  },
  {
   "cell_type": "code",
   "execution_count": null,
   "id": "77bdeb2f-b309-43a2-9ecd-a7f09ca5943b",
   "metadata": {},
   "outputs": [],
   "source": []
  },
  {
   "cell_type": "markdown",
   "id": "4175d404-23d4-4866-a72e-8bb4deb125f5",
   "metadata": {},
   "source": [
    "### Convolution Block"
   ]
  },
  {
   "cell_type": "code",
   "execution_count": null,
   "id": "ca2a72c0-9deb-4a51-b777-7fab4748a16b",
   "metadata": {},
   "outputs": [],
   "source": []
  },
  {
   "cell_type": "markdown",
   "id": "33d53c6c-547c-4a04-846d-7215045a655f",
   "metadata": {},
   "source": [
    "#### Convolution Block - 1x3 Conv"
   ]
  },
  {
   "cell_type": "code",
   "execution_count": null,
   "id": "09ab3c51-5247-409d-a5d5-64e9635abae8",
   "metadata": {},
   "outputs": [],
   "source": []
  },
  {
   "cell_type": "markdown",
   "id": "0ba4d34e-9b7a-4011-93e6-94a5bfa06818",
   "metadata": {},
   "source": [
    "#### Convolution Block - First Batch Norm"
   ]
  },
  {
   "cell_type": "code",
   "execution_count": null,
   "id": "ea70b76b-1aa7-4984-8a65-001a77833b2a",
   "metadata": {},
   "outputs": [],
   "source": []
  },
  {
   "cell_type": "markdown",
   "id": "b64bccc5-6c49-4685-91b2-a0a9e58e58bf",
   "metadata": {},
   "source": [
    "#### Convolution Block - ReLU"
   ]
  },
  {
   "cell_type": "code",
   "execution_count": null,
   "id": "e6d9fdbe-f361-4e1a-8813-2c67a7492b4c",
   "metadata": {},
   "outputs": [],
   "source": []
  },
  {
   "cell_type": "markdown",
   "id": "fe481963-fa2c-4669-aad7-304d0ff4e134",
   "metadata": {},
   "source": [
    "### Residual Connection"
   ]
  },
  {
   "cell_type": "markdown",
   "id": "c7e4d0a6-f02b-45af-b0d6-fe2ca45f780c",
   "metadata": {},
   "source": [
    "#### Residual Connection - Downsampling 1x1 Convolution 2 Stride"
   ]
  },
  {
   "cell_type": "code",
   "execution_count": null,
   "id": "cc026ed9-ebb9-4552-94b4-9176f3825aca",
   "metadata": {},
   "outputs": [],
   "source": []
  },
  {
   "cell_type": "markdown",
   "id": "a37206f1-9ef8-42b0-8307-28ac4c8a0845",
   "metadata": {},
   "source": [
    "#### Residual Connection - Sum "
   ]
  },
  {
   "cell_type": "code",
   "execution_count": null,
   "id": "cb970fdf-029e-472d-b1f3-b5b43bafbe94",
   "metadata": {},
   "outputs": [],
   "source": []
  },
  {
   "cell_type": "markdown",
   "id": "1c8dedd0-1230-400f-86b3-180e6e8b7da3",
   "metadata": {},
   "source": [
    "### Output Layers AKA Model Head."
   ]
  },
  {
   "cell_type": "code",
   "execution_count": null,
   "id": "650412ef-2674-4f83-ab7e-0c54a1bf0ccb",
   "metadata": {},
   "outputs": [],
   "source": []
  },
  {
   "cell_type": "markdown",
   "id": "2e89af48-30f7-4c62-b32d-d539c2352a3e",
   "metadata": {},
   "source": [
    "#### Output Layer - Remove Dimension"
   ]
  },
  {
   "cell_type": "markdown",
   "id": "69a7d98c-affb-47b7-8558-5918d1387a09",
   "metadata": {},
   "source": [
    "#### Output layer - LM Head aka logits"
   ]
  },
  {
   "cell_type": "code",
   "execution_count": null,
   "id": "b565e0e9-bc27-47e4-ae51-a2a42331b086",
   "metadata": {},
   "outputs": [],
   "source": []
  },
  {
   "cell_type": "markdown",
   "id": "b342640c-c90c-40a9-9be1-2ad7a70cf5e4",
   "metadata": {},
   "source": [
    "## Loss calculation"
   ]
  },
  {
   "cell_type": "markdown",
   "id": "08bfc12c-af4a-44c6-b869-b72a5f69da10",
   "metadata": {},
   "source": []
  },
  {
   "cell_type": "markdown",
   "id": "e2e9f666-5438-4a74-b3d7-142da1c078f8",
   "metadata": {},
   "source": [
    "## Back Propagation"
   ]
  },
  {
   "cell_type": "code",
   "execution_count": null,
   "id": "89d70fe6-dfcd-440f-8b4c-beb16011e1e0",
   "metadata": {},
   "outputs": [],
   "source": []
  }
 ],
 "metadata": {
  "kernelspec": {
   "display_name": "Python 3 (ipykernel)",
   "language": "python",
   "name": "python3"
  },
  "language_info": {
   "codemirror_mode": {
    "name": "ipython",
    "version": 3
   },
   "file_extension": ".py",
   "mimetype": "text/x-python",
   "name": "python",
   "nbconvert_exporter": "python",
   "pygments_lexer": "ipython3",
   "version": "3.13.7"
  }
 },
 "nbformat": 4,
 "nbformat_minor": 5
}
