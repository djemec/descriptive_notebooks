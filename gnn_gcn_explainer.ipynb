{
 "cells": [
  {
   "cell_type": "markdown",
   "id": "5f90f355-7060-4d8c-8642-e4c8b95e47ce",
   "metadata": {},
   "source": [
    "# GNN GCN Explainer"
   ]
  },
  {
   "cell_type": "markdown",
   "id": "d28f82b9-4659-4d62-a110-21df41985293",
   "metadata": {},
   "source": [
    "The goal of this notebook is to walk through Graph Convolutional Networks (GCNs) flavor of a GNN (graph neural network). Like CNNs on images, GCNs operate on graphs where nodes are entities  and edges encode relations. A standard GCN layer does two things: it aggregates normalized messages from each node’s neighbors (using the graph’s adjacency) and mixes features with a shared linear transform. Stacking more layers lets information flow across more hops (think 2 connections apart). This makes GCNs effective for node classification, link prediction, and graph classification. In this notebook we'll actually focus on a specific variant called a signed GCNs since it allows for edges to have both positive and negative relationships while keeping the same message-passing idea. Common GNN pitfalls include over-smoothing through the use of deep layers that make nodes look alike, over-squashing that creates long-range info bottlenecked, and numerical issues on irregular/signed graphs. We'll address some fixes to these in our examples. \n",
    "\n",
    "To help display how GCNs work, we'll use a representation of a gene regulatory network where we have 2 specific cell types, a set of genes that are up/down regulated, and then a label for each sample to flag if it's cancerous or not. With our GCN, the goal will be to train it to take in a set of genes and how they're regulated and then predict the cell type as the *node task*, or node level prediction and whether it's cancerous as the *graph task* or graph level prediction. This dual goal will require us to balance 2 loss functions. "
   ]
  },
  {
   "cell_type": "markdown",
   "id": "fc2ef733-c5a3-4b0d-98e0-abeda3f6e4c8",
   "metadata": {
    "jp-MarkdownHeadingCollapsed": true
   },
   "source": [
    "## Graph Data Prep"
   ]
  },
  {
   "cell_type": "markdown",
   "id": "808a9847-8f90-4c35-a1b0-1c39e4901fd8",
   "metadata": {},
   "source": [
    "We'll start with a common preprocessing step. Instead of a typical tokenizer, we have to create a numerical representation of our graph by enumerating the nodes and edges. This process first starts by creating a series of \"token-like\" IDS for our node vocabulary. In our example that becomes the gene and cell types.  We then use integers to map the relationship of the gene and cell types. This is where our **signed graph** starts since we use `+1` edges for up-regulation and `-1` for down-regulation.   As a result we end up with the following generated:\n",
    "1. **x_tokens** - a list of nodes\n",
    "2. **y_node** - per-node (gene) gene cell type labels. This uses a balance of the up-regulated and down-regulated genes and flags for each sample if the gene is more common with B-cells or T-cells.  We use a `-1` here to flag cells to ignore\n",
    "3. **y_graph** - per-graph (sample) cancer type label. We use `1` for cancerous and `0` for benign\n",
    "4. **a_list** - the nodes in our graph that link the different cell types and genes together.  We pool all the samples together into a large block-diagonal matrix."
   ]
  },
  {
   "cell_type": "code",
   "execution_count": 1,
   "id": "41e28a2f-365a-42e4-ac2c-412d614dcb58",
   "metadata": {},
   "outputs": [],
   "source": [
    "import torch\n",
    "import torch.nn as nn\n",
    "import torch.nn.functional as F\n",
    "import matplotlib.pyplot as plt"
   ]
  },
  {
   "cell_type": "code",
   "execution_count": 2,
   "id": "0551b97a-37db-444b-8ca8-22fadbcdfa3e",
   "metadata": {},
   "outputs": [],
   "source": [
    "cell_types = [\"Tcells\",\"Bcells\"]\n",
    "genes = ['CD3D','LCK','ZAP70','CD19'] #only focused on genes present\n",
    "node_order = genes + [f'CT_{ct}' for ct in cell_types]   # genes first, then CT nodes\n",
    "gene_mask = torch.tensor([1,1,1,1,0,0], dtype=torch.bool)\n",
    "N = len(node_order) "
   ]
  },
  {
   "cell_type": "code",
   "execution_count": 3,
   "id": "ef4fc78e-a241-4efb-a7b6-fb69fb61cc1d",
   "metadata": {},
   "outputs": [],
   "source": [
    "benign = {\n",
    "    'Tcells':{'up': ['CD3D','LCK','ZAP70'],'down': ['CD19']},\n",
    "    'Bcells':{'up': ['CD19'],'down': ['CD3D','LCK','ZAP70']},\n",
    "  #  'Macrophages':{'up': ['CSF1R'],'down': ['CD3D','MS4A1','CD19']},\n",
    "}\n",
    "\n",
    "cancerous = {\n",
    "    'Tcells':{'up': ['CD3D','ZAP70'],'down': ['CD19','LCK']},\n",
    "    'Bcells':{'up': ['CD19','LCK','CD3D'],'down': ['ZAP70']},\n",
    "   # 'Macrophages':{'up': ['CSF1R'],'down': ['CD3D','MS4A1','CD19']},\n",
    "}\n",
    "\n",
    "cancerous_2 = {\n",
    "    'Tcells':{'up': ['ZAP70'],'down': ['CD19','CD3D','LCK']},\n",
    "    'Bcells':{'up': ['CD19','CD3D'],'down': ['LCK','ZAP70']},\n",
    "   # 'Macrophages':{'up': ['CSF1R'],'down': ['CD3D','MS4A1','CD19']},\n",
    "}\n",
    "\n",
    "cancerous_3 = {\n",
    "    'Tcells':{'up': ['LCK'],'down': ['ZAP70','CD19','CD3D']},\n",
    "    'Bcells':{'up': ['CD19','ZAP70'],'down': ['LCK','CD3D']},\n",
    "   # 'Macrophages':{'up': ['CSF1R'],'down': ['CD3D','MS4A1','CD19']},\n",
    "}"
   ]
  },
  {
   "cell_type": "code",
   "execution_count": 4,
   "id": "9c338cdf-3f0b-4975-a7d0-777e9e259103",
   "metadata": {},
   "outputs": [
    {
     "data": {
      "text/plain": [
       "(6,\n",
       " {'CD3D': 0, 'LCK': 1, 'ZAP70': 2, 'CD19': 3, 'CT_Tcells': 4, 'CT_Bcells': 5})"
      ]
     },
     "execution_count": 4,
     "metadata": {},
     "output_type": "execute_result"
    }
   ],
   "source": [
    "def build_vocab(genes, cell_types):\n",
    "    toks = genes + [f\"CT_{ct}\" for ct in cell_types]\n",
    "    stoi = {t:i for i,t in enumerate(toks)}; itos = {i:t for t,i in stoi.items()}\n",
    "    return stoi, itos\n",
    "\n",
    "stoi, itos = build_vocab(genes, cell_types)\n",
    "vocab_size = len(stoi)\n",
    "\n",
    "vocab_size, stoi"
   ]
  },
  {
   "cell_type": "code",
   "execution_count": 5,
   "id": "34a5ea7e-e807-4c4e-9812-3ef8dd4fbac6",
   "metadata": {},
   "outputs": [],
   "source": [
    "def make_signed_adj_and_labels(spec, node_order, genes, cell_types, stoi):\n",
    "    N = len(node_order)\n",
    "    A = torch.zeros(N, N)\n",
    "    def idx(n): return node_order.index(n)\n",
    "    def add_edge(g, ct, s):\n",
    "        i, j = idx(g), idx(f\"CT_{ct}\")\n",
    "        A[i,j] = s; A[j,i] = s\n",
    "    for ct in cell_types:\n",
    "        for g in spec[ct].get('up', []):   add_edge(g, ct, +1)\n",
    "        for g in spec[ct].get('down', []): add_edge(g, ct, -1)\n",
    "    X_tokens = torch.tensor([stoi[n] for n in node_order], dtype=torch.long)\n",
    "    y_node = torch.full((N,), -1, dtype=torch.long)   # -1 = ignore (CT nodes)\n",
    "    # per-gene cell-type label: 0=Tcells, 1=Bcells; rule: prefer UP; tie-break by order T then B; fallback from DOWN (invert)\n",
    "    for g in genes:\n",
    "        def score(ct):\n",
    "            rel = spec.get(ct, {})\n",
    "            return int(g in rel.get('up', [])) - int(g in rel.get('down', []))\n",
    "        t_score = score('Tcells')\n",
    "        b_score = score('Bcells')\n",
    "        i = idx(g)\n",
    "        if t_score > b_score: y_node[i] = 0            # T\n",
    "        elif b_score > t_score: y_node[i] = 1          # B\n",
    "        else:\n",
    "            # option (a) ignore ties/no-signal:\n",
    "            # y_node[i] = -1\n",
    "            # option (b) deterministic tie-break to T:\n",
    "            y_node[i] = 0\n",
    "    return X_tokens, y_node, A"
   ]
  },
  {
   "cell_type": "code",
   "execution_count": 6,
   "id": "84b2754c-0deb-4fc9-af0c-e7fc4a097dc3",
   "metadata": {},
   "outputs": [],
   "source": [
    "graphs = [benign, cancerous, cancerous_2, cancerous_3]\n",
    "x_list, y_node_list, a_list = [], [], []"
   ]
  },
  {
   "cell_type": "code",
   "execution_count": 7,
   "id": "7f1d9bff-b2d0-44cf-80a3-7664dc96888e",
   "metadata": {},
   "outputs": [],
   "source": [
    "for spec in graphs:\n",
    "    x_i, y_i, a_i = make_signed_adj_and_labels(spec, node_order, genes, cell_types, stoi)\n",
    "    x_list.append(x_i); y_node_list.append(y_i); a_list.append(a_i.float())"
   ]
  },
  {
   "cell_type": "markdown",
   "id": "1358655c-9f34-4bf5-9018-7d24d3a7d7dc",
   "metadata": {},
   "source": [
    "**x_tokens** - a list of nodes\n",
    "\n",
    "Notice that all nodes are present in each of our samples. "
   ]
  },
  {
   "cell_type": "code",
   "execution_count": 8,
   "id": "9e2e3a57-6b0d-401b-8b57-bb3a8be550af",
   "metadata": {},
   "outputs": [
    {
     "data": {
      "text/plain": [
       "(torch.Size([4, 6]),\n",
       " tensor([[0, 1, 2, 3, 4, 5],\n",
       "         [0, 1, 2, 3, 4, 5],\n",
       "         [0, 1, 2, 3, 4, 5],\n",
       "         [0, 1, 2, 3, 4, 5]]))"
      ]
     },
     "execution_count": 8,
     "metadata": {},
     "output_type": "execute_result"
    }
   ],
   "source": [
    "x_tokens = torch.stack(x_list)   \n",
    "x_tokens.size(), x_tokens"
   ]
  },
  {
   "cell_type": "markdown",
   "id": "a26544e1-dae5-45e5-b88a-35927f42b552",
   "metadata": {},
   "source": [
    "**y_node** - per-node (gene) gene cell type labels. This uses a balance of the up-regulated and down-regulated genes and flags for each sample. If the gene is more commonly upregulated with B-cells we flag it as `0` and if it's more commonly up-regulated in T-cells we flag it as `1`.  This evaluation is done per sample (seen here as per row). \n",
    "\n",
    "The last two columns are embeddings purely for cell type so we flag them as -1 to be masked during training. "
   ]
  },
  {
   "cell_type": "code",
   "execution_count": 9,
   "id": "3af282a3-7822-4ecb-a0e9-b7c674698c86",
   "metadata": {},
   "outputs": [
    {
     "data": {
      "text/plain": [
       "(torch.Size([4, 6]),\n",
       " tensor([[ 0,  0,  0,  1, -1, -1],\n",
       "         [ 0,  1,  0,  1, -1, -1],\n",
       "         [ 1,  0,  0,  1, -1, -1],\n",
       "         [ 0,  0,  1,  1, -1, -1]]))"
      ]
     },
     "execution_count": 9,
     "metadata": {},
     "output_type": "execute_result"
    }
   ],
   "source": [
    "y_node   = torch.stack(y_node_list)\n",
    "y_node.size(), y_node"
   ]
  },
  {
   "cell_type": "markdown",
   "id": "02778eef-10b7-4a71-afc4-9665a423c51b",
   "metadata": {},
   "source": [
    "**y_graph** - per-graph (sample) cancer type label. We use `1` for cancerous and `0` for benign"
   ]
  },
  {
   "cell_type": "code",
   "execution_count": 10,
   "id": "1de539e1-92bb-4ea6-9901-aa10879d7d83",
   "metadata": {},
   "outputs": [
    {
     "data": {
      "text/plain": [
       "(torch.Size([4]), tensor([0, 1, 1, 1]))"
      ]
     },
     "execution_count": 10,
     "metadata": {},
     "output_type": "execute_result"
    }
   ],
   "source": [
    "y_graph  = torch.tensor([0,1,1,1]) # 0=benign, 1=cancerous\n",
    "y_graph.size(), y_graph"
   ]
  },
  {
   "cell_type": "markdown",
   "id": "dba5b018-ab31-4a13-8424-54be07ce0c20",
   "metadata": {},
   "source": [
    "**Graph** \n",
    "\n",
    "Since this is a GNN explainer, let's visualize actually how these graphs look. This is in essence the graph the model is looking at and learning how to read so that if it sees a new one, it can predict the properties we are minimizing loss on (cancerous, cell type). "
   ]
  },
  {
   "cell_type": "code",
   "execution_count": 11,
   "id": "d67ae0d2-29ed-4034-9761-a8e517bd1aa2",
   "metadata": {},
   "outputs": [
    {
     "data": {
      "image/png": "[encoded data removed]",
      "text/plain": [
       "<Figure size 1000x800 with 4 Axes>"
      ]
     },
     "metadata": {},
     "output_type": "display_data"
    }
   ],
   "source": [
    "def compute_positions(genes, cell_types):\n",
    "    # left column (genes), right column (cell types)\n",
    "    gx, cx = 0.1, 0.9\n",
    "    gy = list(range(len(genes)-1, -1, -1))  # top-to-bottom\n",
    "    if len(cell_types) > 1:\n",
    "        # spread CTs across same vertical span as genes\n",
    "        span = (len(genes)-1)\n",
    "        cy = [span * (1 - i/(len(cell_types)-1)) for i in range(len(cell_types))]\n",
    "    else:\n",
    "        cy = [(len(genes)-1)/2]\n",
    "    pos = {g:(gx, gy[i]) for i,g in enumerate(genes)}\n",
    "    pos.update({f\"CT_{ct}\":(cx, cy[j]) for j,ct in enumerate(cell_types)})\n",
    "    return pos\n",
    "\n",
    "def draw_sample(ax, spec, title, genes, cell_types):\n",
    "    pos = compute_positions(genes, cell_types)\n",
    "    # draw nodes\n",
    "    for i,g in enumerate(genes):\n",
    "        x,y = pos[g]\n",
    "        ax.scatter([x],[y], s=300, marker='o', zorder=3)\n",
    "        ax.text(x-0.03, y, g, va='center', ha='right', fontsize=10)\n",
    "    for ct in cell_types:\n",
    "        name = f\"CT_{ct}\"\n",
    "        x,y = pos[name]\n",
    "        ax.scatter([x],[y], s=350, marker='s', zorder=3)\n",
    "        ax.text(x+0.03, y, ct, va='center', ha='left', fontsize=10)\n",
    "    # draw edges: solid = upregulated (+1), dashed = downregulated (-1)\n",
    "    for ct in cell_types:\n",
    "        ct_name = f\"CT_{ct}\"\n",
    "        for g in spec[ct].get('up', []):\n",
    "            if g in genes:\n",
    "                x1,y1 = pos[g]; x2,y2 = pos[ct_name]\n",
    "                ax.plot([x1,x2],[y1,y2], linestyle='-', linewidth=2, zorder=2)\n",
    "        for g in spec[ct].get('down', []):\n",
    "            if g in genes:\n",
    "                x1,y1 = pos[g]; x2,y2 = pos[ct_name]\n",
    "                ax.plot([x1,x2],[y1,y2], linestyle='--', linewidth=2, zorder=2)\n",
    "\n",
    "    # aesthetics\n",
    "    ax.set_title(title)\n",
    "    ax.set_xlim(0.0, 1.0)\n",
    "    ys = list(range(len(genes)))\n",
    "    ax.set_ylim(-0.5, len(genes)-0.5)\n",
    "    ax.set_xticks([]); ax.set_yticks([])\n",
    "    for spine in ax.spines.values(): spine.set_visible(False)\n",
    "\n",
    "    # legend (solid=up, dashed=down)\n",
    "    from matplotlib.lines import Line2D\n",
    "    legend_lines = [\n",
    "        Line2D([0],[0], linestyle='-', linewidth=2, label='Upregulated'),\n",
    "        Line2D([0],[0], linestyle='--', linewidth=2, label='Downregulated'),\n",
    "    ]\n",
    "    ax.legend(handles=legend_lines, loc='upper center', frameon=False, fontsize=9)\n",
    "\n",
    "# ----- draw all four samples -----\n",
    "fig, axes = plt.subplots(2, 2, figsize=(10, 8))\n",
    "samples = [\n",
    "    ('Sample 1 [benign]',    benign),\n",
    "    ('Sample 2 [cancerous]',    cancerous),\n",
    "    ('Sample 3 [cancerous]',  cancerous_2),\n",
    "    ('Sample 4 [cancerous]',  cancerous_3),\n",
    "]\n",
    "for ax, (name, spec) in zip(axes.ravel(), samples):\n",
    "    draw_sample(ax, spec, name, genes, cell_types)\n",
    "\n",
    "plt.tight_layout()\n",
    "plt.show()"
   ]
  },
  {
   "cell_type": "markdown",
   "id": "daa14583-b673-48ae-a53d-353275a6b170",
   "metadata": {},
   "source": [
    "# Modeling"
   ]
  },
  {
   "cell_type": "markdown",
   "id": "20c2576e-4d03-47f5-83c9-5f69bb845bb9",
   "metadata": {},
   "source": [
    "A machine learning model forward pass now uses the data prep information, runs several layers of linear algebra on it, and then \"predicts\" the probability of our different tasks, in this case the cell type based on the node and whether a graph is cancerous. When it is noisy (like you will see in this example), this process results in gibberish.  The training process changes the noise to pattern during the \"backward pass\" as you'll see. We'll show 3 steps that are focused on training:\n",
    "1. **Data Loading** - this step pulls from the raw data enough examples and batches to complete a forward pass and loss calculation.  If the model is inference only, this step is replaced with taking in the inference input and preparing it similarly as the forward pass. \n",
    "2. **Forward Pass** - using the data and the model architecture we run a prediction for the tokens. When training we also compare against the expected to get loss, but in inference, we use the logits to complete the inference task.\n",
    "3. **Back Propagation, aka Backward Pass & Training** - using differentials we can understand what parameters most drive the difference between forward pass' impact on its prediction versus what is actually right based on the data loading step. We compare this based on the loss function and use the partial derivative gradients to make very minor adjustments to the impactful parameters with the hope it improves future predictions.\n",
    "\n",
    "After our back prop, we'll show a final **Forward Pass** with the updated weights we did in #3 and then convert those final weights to a **Model Inference**"
   ]
  },
  {
   "cell_type": "markdown",
   "id": "3a1a64a9-88b9-405f-9076-f26b31d751cb",
   "metadata": {
    "jp-MarkdownHeadingCollapsed": true
   },
   "source": [
    "## Data Loading"
   ]
  },
  {
   "cell_type": "markdown",
   "id": "0b219fb8-da7b-4d3f-928f-3a3fbb3edaf4",
   "metadata": {},
   "source": [
    "To start, we need to get enough data to run the forward and backward passes.  Since our total dataset in a real experiment is likely too big to be held in memory all at once in real practice, we will read just enough file information into memory so that we can run the passes, leaving memory and compute to be used on the passes instead of static data holding. \n",
    "To start, we have to identify the batch size and the model context length to determine how much data we need.  Consequently, these dimensions also form 2 of the 3 dimensions in the initial matrix.\n",
    "- **Batch Size (B)** - This is the number of examples you'll train on in a single pass. \n",
    "- **Number of Nodes (N)** - This is basically the \"context length\" for a GNN.  This is the max number of nodes that a model can use in a pass.\n",
    "\n",
    "Beyond these, in a GCN, the depth also controls how much context, or complexity, can be learned. This is because each GCN layer learns 1 hop, or 1 relationship of neighbors. This means that after $L$ layers, a model can learn $L$-hops worth of context.\n",
    "\n",
    "In our case we'll set our batch to be our 4 examples, and nodes to the nodes we have configured, 6. As we walk through you'll also see our GCN will have 2 layers to model 2 network hops: gene > cell type > other genes.\n",
    "\n",
    "We'll prepare 2 sets of data. Our **Inputs** will be the `x_token`, or our list of nodes for each example, and `a_list`, our list of node connections.  Our **Outputs** will be `y_node`, our node level cell type identification, and `y_graph`, the graph level cancerous identification. "
   ]
  },
  {
   "cell_type": "markdown",
   "id": "8babb989-efe2-4706-b0b0-13441cafc74c",
   "metadata": {},
   "source": [
    "**x_tokens** — list of nodes for each example. Each entry is an integer token id for the node at that position in node_order (e.g.`['CD3D','LCK','ZAP70','CD19','CT_Tcells','CT_Bcells']`).  In our case you'll notice that each example contains all the nodes. "
   ]
  },
  {
   "cell_type": "code",
   "execution_count": 12,
   "id": "bb0a6c56-3be5-4750-b96b-74539aad3516",
   "metadata": {},
   "outputs": [
    {
     "data": {
      "text/plain": [
       "(4,\n",
       " 6,\n",
       " tensor([[0, 1, 2, 3, 4, 5],\n",
       "         [0, 1, 2, 3, 4, 5],\n",
       "         [0, 1, 2, 3, 4, 5],\n",
       "         [0, 1, 2, 3, 4, 5]]))"
      ]
     },
     "execution_count": 12,
     "metadata": {},
     "output_type": "execute_result"
    }
   ],
   "source": [
    "B_batch, N_nodes = x_tokens.shape\n",
    "B_batch, N_nodes, x_tokens"
   ]
  },
  {
   "cell_type": "markdown",
   "id": "646b7d0c-2855-49f2-82b8-3db6e33e8e65",
   "metadata": {},
   "source": [
    "**y_node** - per-gene label for cell-type. `0` for T-cell marker and tie, `1` for B-cell marker. As a reminder, this is an aggregation of the up-regulated and down-regulated genes. We focus on which cell type has the gene up-regulated and, if both have it, we use 0. There are ways to handle ties better but we won't get into it.  Since `y_node` also includes the cell types, we'll use -1 to mask them as ignored."
   ]
  },
  {
   "cell_type": "code",
   "execution_count": 13,
   "id": "398f1753-b2cd-4bcc-a782-b7df306cc01b",
   "metadata": {},
   "outputs": [
    {
     "data": {
      "text/plain": [
       "(torch.Size([4, 6]),\n",
       " tensor([[ 0,  0,  0,  1, -1, -1],\n",
       "         [ 0,  1,  0,  1, -1, -1],\n",
       "         [ 1,  0,  0,  1, -1, -1],\n",
       "         [ 0,  0,  1,  1, -1, -1]]))"
      ]
     },
     "execution_count": 13,
     "metadata": {},
     "output_type": "execute_result"
    }
   ],
   "source": [
    "y_node.size(), y_node"
   ]
  },
  {
   "cell_type": "markdown",
   "id": "b436ffa9-9fa8-4048-8576-9184378edfae",
   "metadata": {},
   "source": [
    "**y_graph** - per-graph label to determine if an example is cancerous. `0` is for benign and `1` is for cancerous.  "
   ]
  },
  {
   "cell_type": "code",
   "execution_count": 14,
   "id": "5a991b33-e35d-4aae-8cb4-53d27f8ec894",
   "metadata": {},
   "outputs": [
    {
     "data": {
      "text/plain": [
       "(torch.Size([4]), tensor([0, 1, 1, 1]))"
      ]
     },
     "execution_count": 14,
     "metadata": {},
     "output_type": "execute_result"
    }
   ],
   "source": [
    "y_graph.size(), y_graph"
   ]
  },
  {
   "cell_type": "markdown",
   "id": "ce7ee2b9-bc4b-4863-8d97-0aba83e0e227",
   "metadata": {},
   "source": [
    "**A_list** - The relationships for each of our cells.  You'll notice here that only the last two rows and columns are used.  In this tensor `+1` is for **upregulated** gene per cell type and `-1` is for **downregulated**. `0` is for not in the network.  We also include here a **Gene_mask** that will act in our loss function as a flag to suppress the gene x gene portions of the matrix. "
   ]
  },
  {
   "cell_type": "code",
   "execution_count": 15,
   "id": "1e192adb-bbf8-45bf-8a8d-bc58fbdf7ff9",
   "metadata": {},
   "outputs": [
    {
     "data": {
      "text/plain": [
       "(tensor([ True,  True,  True,  True, False, False]),\n",
       " [tensor([[ 0.,  0.,  0.,  0.,  1., -1.],\n",
       "          [ 0.,  0.,  0.,  0.,  1., -1.],\n",
       "          [ 0.,  0.,  0.,  0.,  1., -1.],\n",
       "          [ 0.,  0.,  0.,  0., -1.,  1.],\n",
       "          [ 1.,  1.,  1., -1.,  0.,  0.],\n",
       "          [-1., -1., -1.,  1.,  0.,  0.]]),\n",
       "  tensor([[ 0.,  0.,  0.,  0.,  1.,  1.],\n",
       "          [ 0.,  0.,  0.,  0., -1.,  1.],\n",
       "          [ 0.,  0.,  0.,  0.,  1., -1.],\n",
       "          [ 0.,  0.,  0.,  0., -1.,  1.],\n",
       "          [ 1., -1.,  1., -1.,  0.,  0.],\n",
       "          [ 1.,  1., -1.,  1.,  0.,  0.]]),\n",
       "  tensor([[ 0.,  0.,  0.,  0., -1.,  1.],\n",
       "          [ 0.,  0.,  0.,  0., -1., -1.],\n",
       "          [ 0.,  0.,  0.,  0.,  1., -1.],\n",
       "          [ 0.,  0.,  0.,  0., -1.,  1.],\n",
       "          [-1., -1.,  1., -1.,  0.,  0.],\n",
       "          [ 1., -1., -1.,  1.,  0.,  0.]]),\n",
       "  tensor([[ 0.,  0.,  0.,  0., -1., -1.],\n",
       "          [ 0.,  0.,  0.,  0.,  1., -1.],\n",
       "          [ 0.,  0.,  0.,  0., -1.,  1.],\n",
       "          [ 0.,  0.,  0.,  0., -1.,  1.],\n",
       "          [-1.,  1., -1., -1.,  0.,  0.],\n",
       "          [-1., -1.,  1.,  1.,  0.,  0.]])])"
      ]
     },
     "execution_count": 15,
     "metadata": {},
     "output_type": "execute_result"
    }
   ],
   "source": [
    "gene_mask, a_list"
   ]
  },
  {
   "cell_type": "markdown",
   "id": "4a919d5c-671a-4afe-88fb-cce01d5a3834",
   "metadata": {},
   "source": [
    "### Data Loading - Signed Symmetric Graph Normalization"
   ]
  },
  {
   "cell_type": "markdown",
   "id": "ceb1cce1-d1c6-474b-8cca-3f1e0df00f24",
   "metadata": {},
   "source": [
    "With `a_list` we now have all of our relationships but they're not in the most training conducive structure.  For our training, since we actually have 2 types of relationships, we need to split that into two different graphs that the model can learn across. This split creates 2 channels, 1 for the excitatory regulation, and one for the inhibitory.  We then run normalization, and a self-loop on the excitatory, to improve numerical stability, scaling, and preserve node signals to themself. Finally, once we've split and normalized each of the samples, we'll combine all of the same-signed tensors together into 1 large one using block-diagnola (which basically puts the graphs iteratively one after another diagonally into one big tensor).  \n",
    "\n",
    "Symmetric degree normalization bounds the propagation operator and removes degree bias. the split $A^{+}/A^{-}$ prevents destructive cancellation by a model trying to learn up and down regulation together, and lets the model learn different filters for up- vs down-regulation, self-loops in the positive channel allow each node to retain its identity. Finally block-diagonal stacking gives clean batching without cross-graph leakage. Fundamentally we apply:\n",
    "\n",
    "$$\n",
    "\\tilde A = D^{-\\tfrac12},\\hat A,D^{-\\tfrac12} \\newline\n",
    "\\text{so}\\\\\n",
    "\\quad w_{ij}=\\frac{\\hat A_{ij}}{\\sqrt{\\deg_i,\\deg_j}}.\n",
    "$$"
   ]
  },
  {
   "cell_type": "markdown",
   "id": "60950adb-ccb7-4337-9b5a-2c7184b563fa",
   "metadata": {},
   "source": [
    "#### Signed Symmetric Graph Norm - First Example\n",
    "\n",
    "Let's start with our first example. This one is our benign.  The first step is to extract the network from the list.  "
   ]
  },
  {
   "cell_type": "code",
   "execution_count": 16,
   "id": "a4200c9e-5211-44d3-a484-da85b849c4fb",
   "metadata": {},
   "outputs": [
    {
     "data": {
      "text/plain": [
       "(torch.Size([6, 6]),\n",
       " tensor([[ 0.,  0.,  0.,  0.,  1., -1.],\n",
       "         [ 0.,  0.,  0.,  0.,  1., -1.],\n",
       "         [ 0.,  0.,  0.,  0.,  1., -1.],\n",
       "         [ 0.,  0.,  0.,  0., -1.,  1.],\n",
       "         [ 1.,  1.,  1., -1.,  0.,  0.],\n",
       "         [-1., -1., -1.,  1.,  0.,  0.]]))"
      ]
     },
     "execution_count": 16,
     "metadata": {},
     "output_type": "execute_result"
    }
   ],
   "source": [
    "A = a_list[0]\n",
    "A.size(), A"
   ]
  },
  {
   "cell_type": "markdown",
   "id": "d961fb59-81d1-409c-9946-311087eade19",
   "metadata": {},
   "source": [
    "**Splitting** \n",
    "\n",
    "Now we'll split the network into the two different tensors, one for the positives and one for the negatives.  Recall that 0s are non-information for our training so we do not care where they go. "
   ]
  },
  {
   "cell_type": "code",
   "execution_count": 17,
   "id": "40fb7d17-67e5-4bd3-99e8-d285a7781b56",
   "metadata": {},
   "outputs": [
    {
     "data": {
      "text/plain": [
       "(tensor([[0., 0., 0., 0., 1., 0.],\n",
       "         [0., 0., 0., 0., 1., 0.],\n",
       "         [0., 0., 0., 0., 1., 0.],\n",
       "         [0., 0., 0., 0., 0., 1.],\n",
       "         [1., 1., 1., 0., 0., 0.],\n",
       "         [0., 0., 0., 1., 0., 0.]]),\n",
       " tensor([[0., 0., 0., 0., 0., 1.],\n",
       "         [0., 0., 0., 0., 0., 1.],\n",
       "         [0., 0., 0., 0., 0., 1.],\n",
       "         [0., 0., 0., 0., 1., 0.],\n",
       "         [0., 0., 0., 1., 0., 0.],\n",
       "         [1., 1., 1., 0., -0., -0.]]))"
      ]
     },
     "execution_count": 17,
     "metadata": {},
     "output_type": "execute_result"
    }
   ],
   "source": [
    "A_pos = torch.clamp(A, min=0)  \n",
    "A_neg = torch.clamp(-A, min=0)  \n",
    "A_pos, A_neg"
   ]
  },
  {
   "cell_type": "markdown",
   "id": "291d98ca-9d51-4eb5-8867-5bc817111f3b",
   "metadata": {},
   "source": [
    "**Self loop**\n",
    "\n",
    "We'll now add the self-loop in. Adding a self-loop lets each node pass some of its own features forward, so its identity isn’t washed out by neighbors, especially when it has few or noisy connections. It acts like a tiny skip connection, stabilizing message passing and improving learning and gradient flow. We do need to be careful though to only include it in one split. If we put the self-loop in both channels, when we do our subtraction during our forward pass, we'd add, then subtract a copy of the node’s own features every pass, which fights the residual/identity signal, shrinks or flips activations, and destabilizes training."
   ]
  },
  {
   "cell_type": "code",
   "execution_count": 18,
   "id": "4ad3f31b-b686-4c26-82b7-b41cefbfd0c4",
   "metadata": {},
   "outputs": [
    {
     "data": {
      "text/plain": [
       "(tensor([[1., 0., 0., 0., 1., 0.],\n",
       "         [0., 1., 0., 0., 1., 0.],\n",
       "         [0., 0., 1., 0., 1., 0.],\n",
       "         [0., 0., 0., 1., 0., 1.],\n",
       "         [1., 1., 1., 0., 1., 0.],\n",
       "         [0., 0., 0., 1., 0., 1.]]),\n",
       " tensor([[0., 0., 0., 0., 0., 1.],\n",
       "         [0., 0., 0., 0., 0., 1.],\n",
       "         [0., 0., 0., 0., 0., 1.],\n",
       "         [0., 0., 0., 0., 1., 0.],\n",
       "         [0., 0., 0., 1., 0., 0.],\n",
       "         [1., 1., 1., 0., -0., -0.]]))"
      ]
     },
     "execution_count": 18,
     "metadata": {},
     "output_type": "execute_result"
    }
   ],
   "source": [
    "I = torch.eye(N_nodes)\n",
    "A_pos_hat = A_pos + I # add for self looops \n",
    "A_neg_hat = A_neg\n",
    "A_pos_hat, A_neg_hat"
   ]
  },
  {
   "cell_type": "markdown",
   "id": "e462c622-cee4-440b-b82b-dc42d992cf5a",
   "metadata": {},
   "source": [
    "**Degree scaling**\n",
    "\n",
    "As part of our normalization we divide by the square root of the product of the row and column sums.  We'll also add in a small epsilon to make sure we're not dividing by 0. We'll take this sum by graph then take the square roots. After that we'll create a diagonal so that we can take the dot product instead of having to worry about dimensions. "
   ]
  },
  {
   "cell_type": "code",
   "execution_count": 19,
   "id": "95329101-d070-4084-9283-ce26af8513a7",
   "metadata": {},
   "outputs": [
    {
     "data": {
      "text/plain": [
       "(tensor([2., 2., 2., 2., 4., 2.]), tensor([1., 1., 1., 1., 1., 3.]))"
      ]
     },
     "execution_count": 19,
     "metadata": {},
     "output_type": "execute_result"
    }
   ],
   "source": [
    "deg_pos = torch.clamp(torch.abs(A_pos_hat).sum(1), min=1e-6)\n",
    "deg_neg = torch.clamp(torch.abs(A_neg_hat).sum(1), min=1e-6)\n",
    "deg_pos, deg_neg"
   ]
  },
  {
   "cell_type": "code",
   "execution_count": 20,
   "id": "df87462e-879c-45ce-9a5d-eda9d0594b0d",
   "metadata": {},
   "outputs": [
    {
     "data": {
      "text/plain": [
       "(tensor([[0.7071, 0.0000, 0.0000, 0.0000, 0.0000, 0.0000],\n",
       "         [0.0000, 0.7071, 0.0000, 0.0000, 0.0000, 0.0000],\n",
       "         [0.0000, 0.0000, 0.7071, 0.0000, 0.0000, 0.0000],\n",
       "         [0.0000, 0.0000, 0.0000, 0.7071, 0.0000, 0.0000],\n",
       "         [0.0000, 0.0000, 0.0000, 0.0000, 0.5000, 0.0000],\n",
       "         [0.0000, 0.0000, 0.0000, 0.0000, 0.0000, 0.7071]]),\n",
       " tensor([[1.0000, 0.0000, 0.0000, 0.0000, 0.0000, 0.0000],\n",
       "         [0.0000, 1.0000, 0.0000, 0.0000, 0.0000, 0.0000],\n",
       "         [0.0000, 0.0000, 1.0000, 0.0000, 0.0000, 0.0000],\n",
       "         [0.0000, 0.0000, 0.0000, 1.0000, 0.0000, 0.0000],\n",
       "         [0.0000, 0.0000, 0.0000, 0.0000, 1.0000, 0.0000],\n",
       "         [0.0000, 0.0000, 0.0000, 0.0000, 0.0000, 0.5774]]))"
      ]
     },
     "execution_count": 20,
     "metadata": {},
     "output_type": "execute_result"
    }
   ],
   "source": [
    "D_pos_inv_sqrt = torch.diag(deg_pos.rsqrt())\n",
    "D_neg_inv_sqrt = torch.diag(deg_neg.rsqrt())\n",
    "D_pos_inv_sqrt, D_neg_inv_sqrt"
   ]
  },
  {
   "cell_type": "markdown",
   "id": "bb5716fb-e00d-4a7f-9b1e-6d069e2ca286",
   "metadata": {},
   "source": [
    "**Normalization**\n",
    "\n",
    "Finally we'll do our normalization through our dot prod of the network with our inverse square root. "
   ]
  },
  {
   "cell_type": "code",
   "execution_count": 21,
   "id": "2f4630e3-933c-4f64-8936-744b6d8445c7",
   "metadata": {},
   "outputs": [
    {
     "data": {
      "text/plain": [
       "(tensor([[0.5000, 0.0000, 0.0000, 0.0000, 0.3536, 0.0000],\n",
       "         [0.0000, 0.5000, 0.0000, 0.0000, 0.3536, 0.0000],\n",
       "         [0.0000, 0.0000, 0.5000, 0.0000, 0.3536, 0.0000],\n",
       "         [0.0000, 0.0000, 0.0000, 0.5000, 0.0000, 0.5000],\n",
       "         [0.3536, 0.3536, 0.3536, 0.0000, 0.2500, 0.0000],\n",
       "         [0.0000, 0.0000, 0.0000, 0.5000, 0.0000, 0.5000]]),\n",
       " tensor([[0.0000, 0.0000, 0.0000, 0.0000, 0.0000, 0.5774],\n",
       "         [0.0000, 0.0000, 0.0000, 0.0000, 0.0000, 0.5774],\n",
       "         [0.0000, 0.0000, 0.0000, 0.0000, 0.0000, 0.5774],\n",
       "         [0.0000, 0.0000, 0.0000, 0.0000, 1.0000, 0.0000],\n",
       "         [0.0000, 0.0000, 0.0000, 1.0000, 0.0000, 0.0000],\n",
       "         [0.5774, 0.5774, 0.5774, 0.0000, 0.0000, 0.0000]]))"
      ]
     },
     "execution_count": 21,
     "metadata": {},
     "output_type": "execute_result"
    }
   ],
   "source": [
    "Apos_n = D_pos_inv_sqrt @ A_pos_hat @ D_pos_inv_sqrt\n",
    "Aneg_n = D_neg_inv_sqrt @ A_neg_hat @ D_neg_inv_sqrt\n",
    "Apos_n, Aneg_n"
   ]
  },
  {
   "cell_type": "markdown",
   "id": "6c29ad28-2acc-479e-9928-27fcc5093bb9",
   "metadata": {},
   "source": [
    "**Bulk prep** \n",
    "\n",
    "Since we have 3 other samples to process, we'll create a list for aggregating the other normalizations and add these into them. "
   ]
  },
  {
   "cell_type": "code",
   "execution_count": 22,
   "id": "afbd95f4-584d-405e-bf1c-caaddf48bfa3",
   "metadata": {},
   "outputs": [],
   "source": [
    "Apos_blk, Aneg_blk = [], []\n",
    "Apos_blk.append(Apos_n)\n",
    "Aneg_blk.append(Aneg_n)"
   ]
  },
  {
   "cell_type": "markdown",
   "id": "da193711-03eb-428e-b7ce-b3c629c613b4",
   "metadata": {},
   "source": [
    "#### Signed Symmetric Graph Norm - Remaining Example\n",
    "\n",
    "Now that we've stepped through the first example, we'll do the same for the remaining three examples.  At the end we'll have normalized entries for all the examples split by sign. "
   ]
  },
  {
   "cell_type": "code",
   "execution_count": 23,
   "id": "8fae058d-f396-444a-ad6f-812ba8285103",
   "metadata": {},
   "outputs": [],
   "source": [
    "for A in a_list[1:]:\n",
    "    A_pos = torch.clamp(A, min=0)  \n",
    "    A_neg = torch.clamp(-A, min=0)  \n",
    "    I = torch.eye(N_nodes)\n",
    "    A_pos_hat = A_pos + I\n",
    "    A_neg_hat = A_neg\n",
    "    deg_pos = torch.clamp(torch.abs(A_pos_hat).sum(1), min=1e-6)\n",
    "    deg_neg = torch.clamp(torch.abs(A_neg_hat).sum(1), min=1e-6)\n",
    "    D_pos_inv_sqrt = torch.diag(deg_pos.rsqrt())\n",
    "    D_neg_inv_sqrt = torch.diag(deg_neg.rsqrt())\n",
    "    Apos_n = D_pos_inv_sqrt @ A_pos_hat @ D_pos_inv_sqrt\n",
    "    Aneg_n = D_neg_inv_sqrt @ A_neg_hat @ D_neg_inv_sqrt\n",
    "    Apos_blk.append(Apos_n)\n",
    "    Aneg_blk.append(Aneg_n)"
   ]
  },
  {
   "cell_type": "code",
   "execution_count": 24,
   "id": "39e14fa9-7d81-426c-967c-b40d2735b4cc",
   "metadata": {},
   "outputs": [
    {
     "data": {
      "text/plain": [
       "[tensor([[0.5000, 0.0000, 0.0000, 0.0000, 0.3536, 0.0000],\n",
       "         [0.0000, 0.5000, 0.0000, 0.0000, 0.3536, 0.0000],\n",
       "         [0.0000, 0.0000, 0.5000, 0.0000, 0.3536, 0.0000],\n",
       "         [0.0000, 0.0000, 0.0000, 0.5000, 0.0000, 0.5000],\n",
       "         [0.3536, 0.3536, 0.3536, 0.0000, 0.2500, 0.0000],\n",
       "         [0.0000, 0.0000, 0.0000, 0.5000, 0.0000, 0.5000]]),\n",
       " tensor([[0.3333, 0.0000, 0.0000, 0.0000, 0.3333, 0.2887],\n",
       "         [0.0000, 0.5000, 0.0000, 0.0000, 0.0000, 0.3536],\n",
       "         [0.0000, 0.0000, 0.5000, 0.0000, 0.4082, 0.0000],\n",
       "         [0.0000, 0.0000, 0.0000, 0.5000, 0.0000, 0.3536],\n",
       "         [0.3333, 0.0000, 0.4082, 0.0000, 0.3333, 0.0000],\n",
       "         [0.2887, 0.3536, 0.0000, 0.3536, 0.0000, 0.2500]]),\n",
       " tensor([[0.5000, 0.0000, 0.0000, 0.0000, 0.0000, 0.4082],\n",
       "         [0.0000, 1.0000, 0.0000, 0.0000, 0.0000, 0.0000],\n",
       "         [0.0000, 0.0000, 0.5000, 0.0000, 0.5000, 0.0000],\n",
       "         [0.0000, 0.0000, 0.0000, 0.5000, 0.0000, 0.4082],\n",
       "         [0.0000, 0.0000, 0.5000, 0.0000, 0.5000, 0.0000],\n",
       "         [0.4082, 0.0000, 0.0000, 0.4082, 0.0000, 0.3333]]),\n",
       " tensor([[1.0000, 0.0000, 0.0000, 0.0000, 0.0000, 0.0000],\n",
       "         [0.0000, 0.5000, 0.0000, 0.0000, 0.5000, 0.0000],\n",
       "         [0.0000, 0.0000, 0.5000, 0.0000, 0.0000, 0.4082],\n",
       "         [0.0000, 0.0000, 0.0000, 0.5000, 0.0000, 0.4082],\n",
       "         [0.0000, 0.5000, 0.0000, 0.0000, 0.5000, 0.0000],\n",
       "         [0.0000, 0.0000, 0.4082, 0.4082, 0.0000, 0.3333]])]"
      ]
     },
     "execution_count": 24,
     "metadata": {},
     "output_type": "execute_result"
    }
   ],
   "source": [
    "Apos_blk"
   ]
  },
  {
   "cell_type": "code",
   "execution_count": 25,
   "id": "798923a9-66b8-4d82-836f-d2a9474fd16a",
   "metadata": {},
   "outputs": [
    {
     "data": {
      "text/plain": [
       "[tensor([[0.0000, 0.0000, 0.0000, 0.0000, 0.0000, 0.5774],\n",
       "         [0.0000, 0.0000, 0.0000, 0.0000, 0.0000, 0.5774],\n",
       "         [0.0000, 0.0000, 0.0000, 0.0000, 0.0000, 0.5774],\n",
       "         [0.0000, 0.0000, 0.0000, 0.0000, 1.0000, 0.0000],\n",
       "         [0.0000, 0.0000, 0.0000, 1.0000, 0.0000, 0.0000],\n",
       "         [0.5774, 0.5774, 0.5774, 0.0000, 0.0000, 0.0000]]),\n",
       " tensor([[0.0000, 0.0000, 0.0000, 0.0000, 0.0000, 0.0000],\n",
       "         [0.0000, 0.0000, 0.0000, 0.0000, 0.7071, 0.0000],\n",
       "         [0.0000, 0.0000, 0.0000, 0.0000, 0.0000, 1.0000],\n",
       "         [0.0000, 0.0000, 0.0000, 0.0000, 0.7071, 0.0000],\n",
       "         [0.0000, 0.7071, 0.0000, 0.7071, 0.0000, 0.0000],\n",
       "         [0.0000, 0.0000, 1.0000, 0.0000, 0.0000, 0.0000]]),\n",
       " tensor([[0.0000, 0.0000, 0.0000, 0.0000, 0.5774, 0.0000],\n",
       "         [0.0000, 0.0000, 0.0000, 0.0000, 0.4082, 0.5000],\n",
       "         [0.0000, 0.0000, 0.0000, 0.0000, 0.0000, 0.7071],\n",
       "         [0.0000, 0.0000, 0.0000, 0.0000, 0.5774, 0.0000],\n",
       "         [0.5774, 0.4082, 0.0000, 0.5774, 0.0000, 0.0000],\n",
       "         [0.0000, 0.5000, 0.7071, 0.0000, 0.0000, 0.0000]]),\n",
       " tensor([[0.0000, 0.0000, 0.0000, 0.0000, 0.4082, 0.5000],\n",
       "         [0.0000, 0.0000, 0.0000, 0.0000, 0.0000, 0.7071],\n",
       "         [0.0000, 0.0000, 0.0000, 0.0000, 0.5774, 0.0000],\n",
       "         [0.0000, 0.0000, 0.0000, 0.0000, 0.5774, 0.0000],\n",
       "         [0.4082, 0.0000, 0.5774, 0.5774, 0.0000, 0.0000],\n",
       "         [0.5000, 0.7071, 0.0000, 0.0000, 0.0000, 0.0000]])]"
      ]
     },
     "execution_count": 25,
     "metadata": {},
     "output_type": "execute_result"
    }
   ],
   "source": [
    "Aneg_blk"
   ]
  },
  {
   "cell_type": "markdown",
   "id": "f433ba38-caf3-46a5-9b57-8f6d86f96364",
   "metadata": {},
   "source": [
    "#### Signed Symmetric Graph Norm - Block Diagonal\n",
    "\n",
    "As our final step, we now join our networks together. We do this using a block diagonal join that creates a large tensor out of the inputs by simply sliding each new tensor to start at `[i+1,j+1]`.  In our case this results in a `[24,24]` matrix since we have 4 examples with 6 nodes. "
   ]
  },
  {
   "cell_type": "code",
   "execution_count": 26,
   "id": "7285c32e-3cd7-4ac9-a185-4ae15b1af3b8",
   "metadata": {},
   "outputs": [
    {
     "data": {
      "text/plain": [
       "(torch.Size([24, 24]),\n",
       " tensor([[0.5000, 0.0000, 0.0000, 0.0000, 0.3536, 0.0000, 0.0000, 0.0000, 0.0000,\n",
       "          0.0000, 0.0000, 0.0000, 0.0000, 0.0000, 0.0000, 0.0000, 0.0000, 0.0000,\n",
       "          0.0000, 0.0000, 0.0000, 0.0000, 0.0000, 0.0000],\n",
       "         [0.0000, 0.5000, 0.0000, 0.0000, 0.3536, 0.0000, 0.0000, 0.0000, 0.0000,\n",
       "          0.0000, 0.0000, 0.0000, 0.0000, 0.0000, 0.0000, 0.0000, 0.0000, 0.0000,\n",
       "          0.0000, 0.0000, 0.0000, 0.0000, 0.0000, 0.0000],\n",
       "         [0.0000, 0.0000, 0.5000, 0.0000, 0.3536, 0.0000, 0.0000, 0.0000, 0.0000,\n",
       "          0.0000, 0.0000, 0.0000, 0.0000, 0.0000, 0.0000, 0.0000, 0.0000, 0.0000,\n",
       "          0.0000, 0.0000, 0.0000, 0.0000, 0.0000, 0.0000],\n",
       "         [0.0000, 0.0000, 0.0000, 0.5000, 0.0000, 0.5000, 0.0000, 0.0000, 0.0000,\n",
       "          0.0000, 0.0000, 0.0000, 0.0000, 0.0000, 0.0000, 0.0000, 0.0000, 0.0000,\n",
       "          0.0000, 0.0000, 0.0000, 0.0000, 0.0000, 0.0000],\n",
       "         [0.3536, 0.3536, 0.3536, 0.0000, 0.2500, 0.0000, 0.0000, 0.0000, 0.0000,\n",
       "          0.0000, 0.0000, 0.0000, 0.0000, 0.0000, 0.0000, 0.0000, 0.0000, 0.0000,\n",
       "          0.0000, 0.0000, 0.0000, 0.0000, 0.0000, 0.0000],\n",
       "         [0.0000, 0.0000, 0.0000, 0.5000, 0.0000, 0.5000, 0.0000, 0.0000, 0.0000,\n",
       "          0.0000, 0.0000, 0.0000, 0.0000, 0.0000, 0.0000, 0.0000, 0.0000, 0.0000,\n",
       "          0.0000, 0.0000, 0.0000, 0.0000, 0.0000, 0.0000],\n",
       "         [0.0000, 0.0000, 0.0000, 0.0000, 0.0000, 0.0000, 0.3333, 0.0000, 0.0000,\n",
       "          0.0000, 0.3333, 0.2887, 0.0000, 0.0000, 0.0000, 0.0000, 0.0000, 0.0000,\n",
       "          0.0000, 0.0000, 0.0000, 0.0000, 0.0000, 0.0000],\n",
       "         [0.0000, 0.0000, 0.0000, 0.0000, 0.0000, 0.0000, 0.0000, 0.5000, 0.0000,\n",
       "          0.0000, 0.0000, 0.3536, 0.0000, 0.0000, 0.0000, 0.0000, 0.0000, 0.0000,\n",
       "          0.0000, 0.0000, 0.0000, 0.0000, 0.0000, 0.0000],\n",
       "         [0.0000, 0.0000, 0.0000, 0.0000, 0.0000, 0.0000, 0.0000, 0.0000, 0.5000,\n",
       "          0.0000, 0.4082, 0.0000, 0.0000, 0.0000, 0.0000, 0.0000, 0.0000, 0.0000,\n",
       "          0.0000, 0.0000, 0.0000, 0.0000, 0.0000, 0.0000],\n",
       "         [0.0000, 0.0000, 0.0000, 0.0000, 0.0000, 0.0000, 0.0000, 0.0000, 0.0000,\n",
       "          0.5000, 0.0000, 0.3536, 0.0000, 0.0000, 0.0000, 0.0000, 0.0000, 0.0000,\n",
       "          0.0000, 0.0000, 0.0000, 0.0000, 0.0000, 0.0000],\n",
       "         [0.0000, 0.0000, 0.0000, 0.0000, 0.0000, 0.0000, 0.3333, 0.0000, 0.4082,\n",
       "          0.0000, 0.3333, 0.0000, 0.0000, 0.0000, 0.0000, 0.0000, 0.0000, 0.0000,\n",
       "          0.0000, 0.0000, 0.0000, 0.0000, 0.0000, 0.0000],\n",
       "         [0.0000, 0.0000, 0.0000, 0.0000, 0.0000, 0.0000, 0.2887, 0.3536, 0.0000,\n",
       "          0.3536, 0.0000, 0.2500, 0.0000, 0.0000, 0.0000, 0.0000, 0.0000, 0.0000,\n",
       "          0.0000, 0.0000, 0.0000, 0.0000, 0.0000, 0.0000],\n",
       "         [0.0000, 0.0000, 0.0000, 0.0000, 0.0000, 0.0000, 0.0000, 0.0000, 0.0000,\n",
       "          0.0000, 0.0000, 0.0000, 0.5000, 0.0000, 0.0000, 0.0000, 0.0000, 0.4082,\n",
       "          0.0000, 0.0000, 0.0000, 0.0000, 0.0000, 0.0000],\n",
       "         [0.0000, 0.0000, 0.0000, 0.0000, 0.0000, 0.0000, 0.0000, 0.0000, 0.0000,\n",
       "          0.0000, 0.0000, 0.0000, 0.0000, 1.0000, 0.0000, 0.0000, 0.0000, 0.0000,\n",
       "          0.0000, 0.0000, 0.0000, 0.0000, 0.0000, 0.0000],\n",
       "         [0.0000, 0.0000, 0.0000, 0.0000, 0.0000, 0.0000, 0.0000, 0.0000, 0.0000,\n",
       "          0.0000, 0.0000, 0.0000, 0.0000, 0.0000, 0.5000, 0.0000, 0.5000, 0.0000,\n",
       "          0.0000, 0.0000, 0.0000, 0.0000, 0.0000, 0.0000],\n",
       "         [0.0000, 0.0000, 0.0000, 0.0000, 0.0000, 0.0000, 0.0000, 0.0000, 0.0000,\n",
       "          0.0000, 0.0000, 0.0000, 0.0000, 0.0000, 0.0000, 0.5000, 0.0000, 0.4082,\n",
       "          0.0000, 0.0000, 0.0000, 0.0000, 0.0000, 0.0000],\n",
       "         [0.0000, 0.0000, 0.0000, 0.0000, 0.0000, 0.0000, 0.0000, 0.0000, 0.0000,\n",
       "          0.0000, 0.0000, 0.0000, 0.0000, 0.0000, 0.5000, 0.0000, 0.5000, 0.0000,\n",
       "          0.0000, 0.0000, 0.0000, 0.0000, 0.0000, 0.0000],\n",
       "         [0.0000, 0.0000, 0.0000, 0.0000, 0.0000, 0.0000, 0.0000, 0.0000, 0.0000,\n",
       "          0.0000, 0.0000, 0.0000, 0.4082, 0.0000, 0.0000, 0.4082, 0.0000, 0.3333,\n",
       "          0.0000, 0.0000, 0.0000, 0.0000, 0.0000, 0.0000],\n",
       "         [0.0000, 0.0000, 0.0000, 0.0000, 0.0000, 0.0000, 0.0000, 0.0000, 0.0000,\n",
       "          0.0000, 0.0000, 0.0000, 0.0000, 0.0000, 0.0000, 0.0000, 0.0000, 0.0000,\n",
       "          1.0000, 0.0000, 0.0000, 0.0000, 0.0000, 0.0000],\n",
       "         [0.0000, 0.0000, 0.0000, 0.0000, 0.0000, 0.0000, 0.0000, 0.0000, 0.0000,\n",
       "          0.0000, 0.0000, 0.0000, 0.0000, 0.0000, 0.0000, 0.0000, 0.0000, 0.0000,\n",
       "          0.0000, 0.5000, 0.0000, 0.0000, 0.5000, 0.0000],\n",
       "         [0.0000, 0.0000, 0.0000, 0.0000, 0.0000, 0.0000, 0.0000, 0.0000, 0.0000,\n",
       "          0.0000, 0.0000, 0.0000, 0.0000, 0.0000, 0.0000, 0.0000, 0.0000, 0.0000,\n",
       "          0.0000, 0.0000, 0.5000, 0.0000, 0.0000, 0.4082],\n",
       "         [0.0000, 0.0000, 0.0000, 0.0000, 0.0000, 0.0000, 0.0000, 0.0000, 0.0000,\n",
       "          0.0000, 0.0000, 0.0000, 0.0000, 0.0000, 0.0000, 0.0000, 0.0000, 0.0000,\n",
       "          0.0000, 0.0000, 0.0000, 0.5000, 0.0000, 0.4082],\n",
       "         [0.0000, 0.0000, 0.0000, 0.0000, 0.0000, 0.0000, 0.0000, 0.0000, 0.0000,\n",
       "          0.0000, 0.0000, 0.0000, 0.0000, 0.0000, 0.0000, 0.0000, 0.0000, 0.0000,\n",
       "          0.0000, 0.5000, 0.0000, 0.0000, 0.5000, 0.0000],\n",
       "         [0.0000, 0.0000, 0.0000, 0.0000, 0.0000, 0.0000, 0.0000, 0.0000, 0.0000,\n",
       "          0.0000, 0.0000, 0.0000, 0.0000, 0.0000, 0.0000, 0.0000, 0.0000, 0.0000,\n",
       "          0.0000, 0.0000, 0.4082, 0.4082, 0.0000, 0.3333]]))"
      ]
     },
     "execution_count": 26,
     "metadata": {},
     "output_type": "execute_result"
    }
   ],
   "source": [
    "Apos_blk =  torch.block_diag(*Apos_blk)\n",
    "Apos_blk.size(), Apos_blk"
   ]
  },
  {
   "cell_type": "code",
   "execution_count": 27,
   "id": "68ffb621-2e08-4d77-8f90-0f2d163b7330",
   "metadata": {},
   "outputs": [
    {
     "data": {
      "text/plain": [
       "(torch.Size([24, 24]),\n",
       " tensor([[0.0000, 0.0000, 0.0000, 0.0000, 0.0000, 0.5774, 0.0000, 0.0000, 0.0000,\n",
       "          0.0000, 0.0000, 0.0000, 0.0000, 0.0000, 0.0000, 0.0000, 0.0000, 0.0000,\n",
       "          0.0000, 0.0000, 0.0000, 0.0000, 0.0000, 0.0000],\n",
       "         [0.0000, 0.0000, 0.0000, 0.0000, 0.0000, 0.5774, 0.0000, 0.0000, 0.0000,\n",
       "          0.0000, 0.0000, 0.0000, 0.0000, 0.0000, 0.0000, 0.0000, 0.0000, 0.0000,\n",
       "          0.0000, 0.0000, 0.0000, 0.0000, 0.0000, 0.0000],\n",
       "         [0.0000, 0.0000, 0.0000, 0.0000, 0.0000, 0.5774, 0.0000, 0.0000, 0.0000,\n",
       "          0.0000, 0.0000, 0.0000, 0.0000, 0.0000, 0.0000, 0.0000, 0.0000, 0.0000,\n",
       "          0.0000, 0.0000, 0.0000, 0.0000, 0.0000, 0.0000],\n",
       "         [0.0000, 0.0000, 0.0000, 0.0000, 1.0000, 0.0000, 0.0000, 0.0000, 0.0000,\n",
       "          0.0000, 0.0000, 0.0000, 0.0000, 0.0000, 0.0000, 0.0000, 0.0000, 0.0000,\n",
       "          0.0000, 0.0000, 0.0000, 0.0000, 0.0000, 0.0000],\n",
       "         [0.0000, 0.0000, 0.0000, 1.0000, 0.0000, 0.0000, 0.0000, 0.0000, 0.0000,\n",
       "          0.0000, 0.0000, 0.0000, 0.0000, 0.0000, 0.0000, 0.0000, 0.0000, 0.0000,\n",
       "          0.0000, 0.0000, 0.0000, 0.0000, 0.0000, 0.0000],\n",
       "         [0.5774, 0.5774, 0.5774, 0.0000, 0.0000, 0.0000, 0.0000, 0.0000, 0.0000,\n",
       "          0.0000, 0.0000, 0.0000, 0.0000, 0.0000, 0.0000, 0.0000, 0.0000, 0.0000,\n",
       "          0.0000, 0.0000, 0.0000, 0.0000, 0.0000, 0.0000],\n",
       "         [0.0000, 0.0000, 0.0000, 0.0000, 0.0000, 0.0000, 0.0000, 0.0000, 0.0000,\n",
       "          0.0000, 0.0000, 0.0000, 0.0000, 0.0000, 0.0000, 0.0000, 0.0000, 0.0000,\n",
       "          0.0000, 0.0000, 0.0000, 0.0000, 0.0000, 0.0000],\n",
       "         [0.0000, 0.0000, 0.0000, 0.0000, 0.0000, 0.0000, 0.0000, 0.0000, 0.0000,\n",
       "          0.0000, 0.7071, 0.0000, 0.0000, 0.0000, 0.0000, 0.0000, 0.0000, 0.0000,\n",
       "          0.0000, 0.0000, 0.0000, 0.0000, 0.0000, 0.0000],\n",
       "         [0.0000, 0.0000, 0.0000, 0.0000, 0.0000, 0.0000, 0.0000, 0.0000, 0.0000,\n",
       "          0.0000, 0.0000, 1.0000, 0.0000, 0.0000, 0.0000, 0.0000, 0.0000, 0.0000,\n",
       "          0.0000, 0.0000, 0.0000, 0.0000, 0.0000, 0.0000],\n",
       "         [0.0000, 0.0000, 0.0000, 0.0000, 0.0000, 0.0000, 0.0000, 0.0000, 0.0000,\n",
       "          0.0000, 0.7071, 0.0000, 0.0000, 0.0000, 0.0000, 0.0000, 0.0000, 0.0000,\n",
       "          0.0000, 0.0000, 0.0000, 0.0000, 0.0000, 0.0000],\n",
       "         [0.0000, 0.0000, 0.0000, 0.0000, 0.0000, 0.0000, 0.0000, 0.7071, 0.0000,\n",
       "          0.7071, 0.0000, 0.0000, 0.0000, 0.0000, 0.0000, 0.0000, 0.0000, 0.0000,\n",
       "          0.0000, 0.0000, 0.0000, 0.0000, 0.0000, 0.0000],\n",
       "         [0.0000, 0.0000, 0.0000, 0.0000, 0.0000, 0.0000, 0.0000, 0.0000, 1.0000,\n",
       "          0.0000, 0.0000, 0.0000, 0.0000, 0.0000, 0.0000, 0.0000, 0.0000, 0.0000,\n",
       "          0.0000, 0.0000, 0.0000, 0.0000, 0.0000, 0.0000],\n",
       "         [0.0000, 0.0000, 0.0000, 0.0000, 0.0000, 0.0000, 0.0000, 0.0000, 0.0000,\n",
       "          0.0000, 0.0000, 0.0000, 0.0000, 0.0000, 0.0000, 0.0000, 0.5774, 0.0000,\n",
       "          0.0000, 0.0000, 0.0000, 0.0000, 0.0000, 0.0000],\n",
       "         [0.0000, 0.0000, 0.0000, 0.0000, 0.0000, 0.0000, 0.0000, 0.0000, 0.0000,\n",
       "          0.0000, 0.0000, 0.0000, 0.0000, 0.0000, 0.0000, 0.0000, 0.4082, 0.5000,\n",
       "          0.0000, 0.0000, 0.0000, 0.0000, 0.0000, 0.0000],\n",
       "         [0.0000, 0.0000, 0.0000, 0.0000, 0.0000, 0.0000, 0.0000, 0.0000, 0.0000,\n",
       "          0.0000, 0.0000, 0.0000, 0.0000, 0.0000, 0.0000, 0.0000, 0.0000, 0.7071,\n",
       "          0.0000, 0.0000, 0.0000, 0.0000, 0.0000, 0.0000],\n",
       "         [0.0000, 0.0000, 0.0000, 0.0000, 0.0000, 0.0000, 0.0000, 0.0000, 0.0000,\n",
       "          0.0000, 0.0000, 0.0000, 0.0000, 0.0000, 0.0000, 0.0000, 0.5774, 0.0000,\n",
       "          0.0000, 0.0000, 0.0000, 0.0000, 0.0000, 0.0000],\n",
       "         [0.0000, 0.0000, 0.0000, 0.0000, 0.0000, 0.0000, 0.0000, 0.0000, 0.0000,\n",
       "          0.0000, 0.0000, 0.0000, 0.5774, 0.4082, 0.0000, 0.5774, 0.0000, 0.0000,\n",
       "          0.0000, 0.0000, 0.0000, 0.0000, 0.0000, 0.0000],\n",
       "         [0.0000, 0.0000, 0.0000, 0.0000, 0.0000, 0.0000, 0.0000, 0.0000, 0.0000,\n",
       "          0.0000, 0.0000, 0.0000, 0.0000, 0.5000, 0.7071, 0.0000, 0.0000, 0.0000,\n",
       "          0.0000, 0.0000, 0.0000, 0.0000, 0.0000, 0.0000],\n",
       "         [0.0000, 0.0000, 0.0000, 0.0000, 0.0000, 0.0000, 0.0000, 0.0000, 0.0000,\n",
       "          0.0000, 0.0000, 0.0000, 0.0000, 0.0000, 0.0000, 0.0000, 0.0000, 0.0000,\n",
       "          0.0000, 0.0000, 0.0000, 0.0000, 0.4082, 0.5000],\n",
       "         [0.0000, 0.0000, 0.0000, 0.0000, 0.0000, 0.0000, 0.0000, 0.0000, 0.0000,\n",
       "          0.0000, 0.0000, 0.0000, 0.0000, 0.0000, 0.0000, 0.0000, 0.0000, 0.0000,\n",
       "          0.0000, 0.0000, 0.0000, 0.0000, 0.0000, 0.7071],\n",
       "         [0.0000, 0.0000, 0.0000, 0.0000, 0.0000, 0.0000, 0.0000, 0.0000, 0.0000,\n",
       "          0.0000, 0.0000, 0.0000, 0.0000, 0.0000, 0.0000, 0.0000, 0.0000, 0.0000,\n",
       "          0.0000, 0.0000, 0.0000, 0.0000, 0.5774, 0.0000],\n",
       "         [0.0000, 0.0000, 0.0000, 0.0000, 0.0000, 0.0000, 0.0000, 0.0000, 0.0000,\n",
       "          0.0000, 0.0000, 0.0000, 0.0000, 0.0000, 0.0000, 0.0000, 0.0000, 0.0000,\n",
       "          0.0000, 0.0000, 0.0000, 0.0000, 0.5774, 0.0000],\n",
       "         [0.0000, 0.0000, 0.0000, 0.0000, 0.0000, 0.0000, 0.0000, 0.0000, 0.0000,\n",
       "          0.0000, 0.0000, 0.0000, 0.0000, 0.0000, 0.0000, 0.0000, 0.0000, 0.0000,\n",
       "          0.4082, 0.0000, 0.5774, 0.5774, 0.0000, 0.0000],\n",
       "         [0.0000, 0.0000, 0.0000, 0.0000, 0.0000, 0.0000, 0.0000, 0.0000, 0.0000,\n",
       "          0.0000, 0.0000, 0.0000, 0.0000, 0.0000, 0.0000, 0.0000, 0.0000, 0.0000,\n",
       "          0.5000, 0.7071, 0.0000, 0.0000, 0.0000, 0.0000]]))"
      ]
     },
     "execution_count": 27,
     "metadata": {},
     "output_type": "execute_result"
    }
   ],
   "source": [
    "Aneg_blk =  torch.block_diag(*Aneg_blk)\n",
    "Aneg_blk.size(), Aneg_blk"
   ]
  },
  {
   "cell_type": "markdown",
   "id": "b86c1bd9-c69d-4fbf-ba37-cce872c8c085",
   "metadata": {
    "jp-MarkdownHeadingCollapsed": true
   },
   "source": [
    "## Forward pass"
   ]
  },
  {
   "cell_type": "markdown",
   "id": "87db81ef-4ef5-489f-95fd-09347c67f246",
   "metadata": {},
   "source": [
    "<img src=\"explainer_screenshots/gcn/full_network.png\" width=\"300\">\n",
    "\n",
    "During training, in the GCN we've built, the forward pass takes in the set of nodes per example and a signed network map and uses this to predict the cell type by node and the cancerous level of the graph. This is quite different from other models we've explored where we're doing things like next token prediction. An additional difference here is that our \"batch\" and \"token\" dimensions are one in the same, being that we just have 1 dimension to signify our examples, which we'll call batch.  We could layer in batch based learning but it would make things super complicated. \n",
    "\n",
    "Our walkthrough of the forward pass is focused on training where we'll pass in the input nodes `x_tokens` and signed graph `Apos_blk, Aneg_blk`, carry that input through the layers, and generate 2 matrices of the probability for the node and graph level prediction. These predictions will be two different sets of `logits`. During the forward pass, after embedding our input nodes we'll pass through two different graph convolutions to help learn our two hops in the graph while including in common normalization and residual steps. \n",
    "\n",
    "At the end of the forward pass we then compare the probability in the logits to the actual next token in `y_node, y_graph` and calculate `loss` based on the difference. You'll see that we calculate the loss on each head, then sum it for a final loss (and so that we can distribute across both pathways in backprop). This difference is what we'll then use in the backprop/training steps.  \n",
    "\n",
    "*Note that we will do some layer initialization to simplify following along.  In reality, layers are often initialized to normal distribution with some adjustments made for parameter sizes, called Kaiming normal, to keep the weights properly noisy.  We will not cover initialization in this series*"
   ]
  },
  {
   "cell_type": "markdown",
   "id": "f1e25071-34cf-47ee-a392-7b49ef73499c",
   "metadata": {},
   "source": [
    "### Input Layer - Embedding projection"
   ]
  },
  {
   "cell_type": "markdown",
   "id": "dca67b56-abc3-4ffa-b057-c2a930d3f5f3",
   "metadata": {},
   "source": [
    "<img src=\"explainer_screenshots/gcn/input_layer.png\" width=\"400\">\n",
    "\n",
    "We'll first create an initial **embedding layer** for our sample level node tokens. Recall that this is the layer that will add the second dimension to our node list. We start with supplying only the nodes. In parallel our network graphs will also be kept on the side as they'll be inputs to the next layer. Generally, by using an embedding on the node, we give the graph a chance to learn how important the different nodes are per example and how to use them, and the node order, in our output prediction task.  We'll also use a small embedding dimension to allow the network to learn a deeper representation of our nodes. After doing the embedding, we'll then remove our batch dimensions for the remaining training to simplify our training.  \n",
    "\n",
    "We'll start by initializing the weight to a sliding scale so that we can quickly see each layer's impact. "
   ]
  },
  {
   "cell_type": "code",
   "execution_count": 28,
   "id": "f64eb292-1169-454f-9e0f-688a9d325e84",
   "metadata": {},
   "outputs": [
    {
     "data": {
      "text/plain": [
       "(6, 3)"
      ]
     },
     "execution_count": 28,
     "metadata": {},
     "output_type": "execute_result"
    }
   ],
   "source": [
    "n_embd = 3 # level of embedding of input tokens\n",
    "vocab_size, n_embd"
   ]
  },
  {
   "cell_type": "code",
   "execution_count": 29,
   "id": "1a8577c0-d108-4fab-9d41-6b9b8dbb5543",
   "metadata": {},
   "outputs": [
    {
     "data": {
      "text/plain": [
       "Parameter containing:\n",
       "tensor([[0.0010, 0.0020, 0.0030],\n",
       "        [0.0020, 0.0030, 0.0040],\n",
       "        [0.0030, 0.0040, 0.0050],\n",
       "        [0.0040, 0.0050, 0.0060],\n",
       "        [0.0050, 0.0060, 0.0070],\n",
       "        [0.0060, 0.0070, 0.0080]], requires_grad=True)"
      ]
     },
     "execution_count": 29,
     "metadata": {},
     "output_type": "execute_result"
    }
   ],
   "source": [
    "tok_emb = nn.Embedding(vocab_size, n_embd)\n",
    "with torch.no_grad(): # initilize to W[i,j] = 0.001*(1+i+j) for easy following \n",
    "    vs, d = tok_emb.num_embeddings, tok_emb.embedding_dim\n",
    "    rows = torch.arange(vs).unsqueeze(1)  # (vs,1)\n",
    "    cols = torch.arange(d).unsqueeze(0)  # (1,d)\n",
    "    pattern = 0.001*(1 + rows + cols)  # W[i,j] = 0.001*(1+i+j)\n",
    "    tok_emb.weight.copy_(pattern)\n",
    "tok_emb.weight"
   ]
  },
  {
   "cell_type": "markdown",
   "id": "e85e1292-3edf-4ecf-876d-e6f7786fcfb5",
   "metadata": {},
   "source": [
    "**Embedding projection**\n",
    "\n",
    "Remember that each of our samples includes all the nodes so we expect that all the weights will be used repeatedly for each sample.  "
   ]
  },
  {
   "cell_type": "code",
   "execution_count": 30,
   "id": "39f1fba0-f4ea-4d69-babc-428e284b01dc",
   "metadata": {},
   "outputs": [
    {
     "data": {
      "text/plain": [
       "tensor([[[0.0010, 0.0020, 0.0030],\n",
       "         [0.0020, 0.0030, 0.0040],\n",
       "         [0.0030, 0.0040, 0.0050],\n",
       "         [0.0040, 0.0050, 0.0060],\n",
       "         [0.0050, 0.0060, 0.0070],\n",
       "         [0.0060, 0.0070, 0.0080]],\n",
       "\n",
       "        [[0.0010, 0.0020, 0.0030],\n",
       "         [0.0020, 0.0030, 0.0040],\n",
       "         [0.0030, 0.0040, 0.0050],\n",
       "         [0.0040, 0.0050, 0.0060],\n",
       "         [0.0050, 0.0060, 0.0070],\n",
       "         [0.0060, 0.0070, 0.0080]],\n",
       "\n",
       "        [[0.0010, 0.0020, 0.0030],\n",
       "         [0.0020, 0.0030, 0.0040],\n",
       "         [0.0030, 0.0040, 0.0050],\n",
       "         [0.0040, 0.0050, 0.0060],\n",
       "         [0.0050, 0.0060, 0.0070],\n",
       "         [0.0060, 0.0070, 0.0080]],\n",
       "\n",
       "        [[0.0010, 0.0020, 0.0030],\n",
       "         [0.0020, 0.0030, 0.0040],\n",
       "         [0.0030, 0.0040, 0.0050],\n",
       "         [0.0040, 0.0050, 0.0060],\n",
       "         [0.0050, 0.0060, 0.0070],\n",
       "         [0.0060, 0.0070, 0.0080]]], grad_fn=<EmbeddingBackward0>)"
      ]
     },
     "execution_count": 30,
     "metadata": {},
     "output_type": "execute_result"
    }
   ],
   "source": [
    "x = tok_emb(x_tokens)\n",
    "x"
   ]
  },
  {
   "cell_type": "markdown",
   "id": "4cced203-0a47-42b1-8620-bfe1256e5924",
   "metadata": {},
   "source": [
    "**Collapse the batch**\n",
    "\n",
    "Now we'll remove the batch for further training and learning. If you recall we combined our networks using blocked diagonal so the batch removal now aligns the \"sample\"/\"node\" dimension  with the dimension in the network tensor. "
   ]
  },
  {
   "cell_type": "code",
   "execution_count": 31,
   "id": "8bd3ea54-13f6-40ac-ae42-8410f2f461c8",
   "metadata": {},
   "outputs": [
    {
     "data": {
      "text/plain": [
       "(torch.Size([24, 3]),\n",
       " tensor([[0.0010, 0.0020, 0.0030],\n",
       "         [0.0020, 0.0030, 0.0040],\n",
       "         [0.0030, 0.0040, 0.0050],\n",
       "         [0.0040, 0.0050, 0.0060],\n",
       "         [0.0050, 0.0060, 0.0070],\n",
       "         [0.0060, 0.0070, 0.0080],\n",
       "         [0.0010, 0.0020, 0.0030],\n",
       "         [0.0020, 0.0030, 0.0040],\n",
       "         [0.0030, 0.0040, 0.0050],\n",
       "         [0.0040, 0.0050, 0.0060],\n",
       "         [0.0050, 0.0060, 0.0070],\n",
       "         [0.0060, 0.0070, 0.0080],\n",
       "         [0.0010, 0.0020, 0.0030],\n",
       "         [0.0020, 0.0030, 0.0040],\n",
       "         [0.0030, 0.0040, 0.0050],\n",
       "         [0.0040, 0.0050, 0.0060],\n",
       "         [0.0050, 0.0060, 0.0070],\n",
       "         [0.0060, 0.0070, 0.0080],\n",
       "         [0.0010, 0.0020, 0.0030],\n",
       "         [0.0020, 0.0030, 0.0040],\n",
       "         [0.0030, 0.0040, 0.0050],\n",
       "         [0.0040, 0.0050, 0.0060],\n",
       "         [0.0050, 0.0060, 0.0070],\n",
       "         [0.0060, 0.0070, 0.0080]], grad_fn=<ViewBackward0>))"
      ]
     },
     "execution_count": 31,
     "metadata": {},
     "output_type": "execute_result"
    }
   ],
   "source": [
    "x = x.view(B_batch*N_nodes,n_embd)\n",
    "x.size(), x"
   ]
  },
  {
   "cell_type": "markdown",
   "id": "4175d404-23d4-4866-a72e-8bb4deb125f5",
   "metadata": {},
   "source": [
    "### GCN Block"
   ]
  },
  {
   "cell_type": "markdown",
   "id": "5cc3b52d-93f6-41b1-9e16-100f5962a9f3",
   "metadata": {},
   "source": [
    "<img src=\"explainer_screenshots/gcn/block_details.png\" width=\"400\">\n",
    "\n",
    "\n",
    "To support our two hops of learning (Cell type > gene > cell type) we stack two signed graph-convolution layers with normalization and nonlinearity to learn increasingly expressive node features. As a reminder, we have split our edges into two different graphs so that we can model them with separate channels and weights. This separation allows the network to learn how to amplify or suppress information along each relation while remaining numerically stable.\n",
    "\n",
    "\n",
    "Each of our graph convolution layers uses a different linear layer for our positive `+` and negative `-` graph connections.  The convolution layer compute the weight as:\n",
    "$$\n",
    "Out =\\hat A^{pos} X_{embd} W_{pos} - \\hat A^{neg} X_{embd} W_{neg}\n",
    "$$\n",
    "where the two linear $W$ layers are learned and shared across nodes.\n",
    "\n",
    "\n",
    "We interleave batch normalization and leaky ReLU to stabilize activations, improve gradient flow, and add nonlinearity. We did choose to use leaky RELU instead of standard ReLU as we want to learn both positive and negative edges so we don't want to just cut off negative values. After our final graph convolution layer and normalization we then use a residual connection to allow for passing through node embeddings and use a final leaky ReLU for normalization. With this design we are able to retain directional regulation(up vs. down) through separate channels, keeps propagation spectrally bounded via normalization, and uses the residual path to support deeper stacks without oversmoothing."
   ]
  },
  {
   "cell_type": "markdown",
   "id": "33d53c6c-547c-4a04-846d-7215045a655f",
   "metadata": {},
   "source": [
    "#### GCN Block - First Node Convolution\n",
    "\n",
    "Our first convolutional block uses two separate weights for our positive and negative network. We'll start by configuring our weights.  To really highlight the impact we'll use a pyramidal weight structure based on increments of `0.01`. We'll need to initialize both the positive and negative kernel "
   ]
  },
  {
   "cell_type": "code",
   "execution_count": 32,
   "id": "22ede61a-d791-4875-a2d0-6b027e8eb69d",
   "metadata": {},
   "outputs": [],
   "source": [
    "def pyramid_weight(h, w, base=0.01, dtype=torch.float32):\n",
    "    r = torch.arange(h, dtype=dtype)\n",
    "    c = torch.arange(w, dtype=dtype)\n",
    "    drow = torch.minimum(r, (h - 1) - r)\n",
    "    dcol = torch.minimum(c, (w - 1) - c)\n",
    "    return base * (1 + drow)[:, None] * (1 + dcol)[None, :]"
   ]
  },
  {
   "cell_type": "code",
   "execution_count": 33,
   "id": "09ab3c51-5247-409d-a5d5-64e9635abae8",
   "metadata": {},
   "outputs": [
    {
     "data": {
      "text/plain": [
       "(Parameter containing:\n",
       " tensor([[0.0100, 0.0200, 0.0100],\n",
       "         [0.0200, 0.0400, 0.0200],\n",
       "         [0.0100, 0.0200, 0.0100]], requires_grad=True),\n",
       " Parameter containing:\n",
       " tensor([1.0000e-06, 1.0000e-06, 1.0000e-06], requires_grad=True))"
      ]
     },
     "execution_count": 33,
     "metadata": {},
     "output_type": "execute_result"
    }
   ],
   "source": [
    "gcn_1_pos = torch.nn.Linear(n_embd, n_embd, bias=True)\n",
    "with torch.no_grad(): \n",
    "    gcn_1_pos.weight.copy_(pyramid_weight(n_embd, n_embd))\n",
    "nn.init.constant_(gcn_1_pos.bias, 1e-6)\n",
    "gcn_1_pos.weight, gcn_1_pos.bias"
   ]
  },
  {
   "cell_type": "code",
   "execution_count": 34,
   "id": "ca56e180-efc0-4a24-a5d4-ae06a507ff47",
   "metadata": {},
   "outputs": [
    {
     "data": {
      "text/plain": [
       "(Parameter containing:\n",
       " tensor([[0.0100, 0.0200, 0.0100],\n",
       "         [0.0200, 0.0400, 0.0200],\n",
       "         [0.0100, 0.0200, 0.0100]], requires_grad=True),\n",
       " Parameter containing:\n",
       " tensor([1.0000e-06, 1.0000e-06, 1.0000e-06], requires_grad=True))"
      ]
     },
     "execution_count": 34,
     "metadata": {},
     "output_type": "execute_result"
    }
   ],
   "source": [
    "gcn_1_neg = torch.nn.Linear(n_embd, n_embd, bias=True)\n",
    "with torch.no_grad(): \n",
    "    gcn_1_neg.weight.copy_(pyramid_weight(n_embd, n_embd))\n",
    "nn.init.constant_(gcn_1_neg.bias, 1e-6)\n",
    "gcn_1_neg.weight, gcn_1_neg.bias"
   ]
  },
  {
   "cell_type": "markdown",
   "id": "03d46498-fcf7-40a2-a4f1-1f1ba7adfe58",
   "metadata": {},
   "source": [
    "**Positive Convolution**\n",
    "\n",
    "We'll start by taking the dot product of the network and positive node embeddings $\\hat A^{pos} X_{embd}$.  With this you'll notice that even though our embedded input has a repetition of `[6,3]` for each sample, because of the network tensor multiplication. If you look closely though you will notice that the difference between columns is consistent for each row.  \n",
    "\n",
    "After taking our dot product we then multiply our weights completing the positive product $\\hat A^{pos} X_{embd} W_{pos}$.  This linearization allows the network to learn how much to learn from the positive edge.  "
   ]
  },
  {
   "cell_type": "code",
   "execution_count": 35,
   "id": "f3cabdbe-8b34-4bb4-9b7f-65f884c1d85f",
   "metadata": {},
   "outputs": [
    {
     "data": {
      "text/plain": [
       "tensor([[0.0023, 0.0031, 0.0040],\n",
       "        [0.0028, 0.0036, 0.0045],\n",
       "        [0.0033, 0.0041, 0.0050],\n",
       "        [0.0050, 0.0060, 0.0070],\n",
       "        [0.0034, 0.0047, 0.0060],\n",
       "        [0.0050, 0.0060, 0.0070],\n",
       "        [0.0037, 0.0047, 0.0056],\n",
       "        [0.0031, 0.0040, 0.0048],\n",
       "        [0.0035, 0.0044, 0.0054],\n",
       "        [0.0041, 0.0050, 0.0058],\n",
       "        [0.0032, 0.0043, 0.0054],\n",
       "        [0.0039, 0.0052, 0.0064],\n",
       "        [0.0029, 0.0039, 0.0048],\n",
       "        [0.0020, 0.0030, 0.0040],\n",
       "        [0.0040, 0.0050, 0.0060],\n",
       "        [0.0044, 0.0054, 0.0063],\n",
       "        [0.0040, 0.0050, 0.0060],\n",
       "        [0.0040, 0.0052, 0.0063],\n",
       "        [0.0010, 0.0020, 0.0030],\n",
       "        [0.0035, 0.0045, 0.0055],\n",
       "        [0.0039, 0.0049, 0.0058],\n",
       "        [0.0044, 0.0054, 0.0063],\n",
       "        [0.0035, 0.0045, 0.0055],\n",
       "        [0.0049, 0.0060, 0.0072]], grad_fn=<MmBackward0>)"
      ]
     },
     "execution_count": 35,
     "metadata": {},
     "output_type": "execute_result"
    }
   ],
   "source": [
    "H_pos = Apos_blk @ x\n",
    "H_pos"
   ]
  },
  {
   "cell_type": "markdown",
   "id": "1b506aa8-0481-4a7d-b67b-5504b6f2960e",
   "metadata": {},
   "source": [
    "When we multiply our pyramidal weights you can see that that brings a similar pyramidal pattern to our data where the middle column tends to be elevated 2x above the side columns since the  weights are 2x in the middle column compared to the edge columns. "
   ]
  },
  {
   "cell_type": "code",
   "execution_count": 36,
   "id": "48fdd038-773d-4b0b-b515-2b132bba05e2",
   "metadata": {},
   "outputs": [
    {
     "data": {
      "text/plain": [
       "tensor([[1.2585e-04, 2.5071e-04, 1.2585e-04],\n",
       "        [1.4585e-04, 2.9071e-04, 1.4585e-04],\n",
       "        [1.6585e-04, 3.3071e-04, 1.6585e-04],\n",
       "        [2.4100e-04, 4.8100e-04, 2.4100e-04],\n",
       "        [1.8828e-04, 3.7556e-04, 1.8828e-04],\n",
       "        [2.4100e-04, 4.8100e-04, 2.4100e-04],\n",
       "        [1.8850e-04, 3.7599e-04, 1.8850e-04],\n",
       "        [1.5999e-04, 3.1899e-04, 1.5999e-04],\n",
       "        [1.7898e-04, 3.5696e-04, 1.7898e-04],\n",
       "        [1.9999e-04, 3.9899e-04, 1.9999e-04],\n",
       "        [1.7299e-04, 3.4497e-04, 1.7299e-04],\n",
       "        [2.0723e-04, 4.1346e-04, 2.0723e-04],\n",
       "        [1.5531e-04, 3.0962e-04, 1.5531e-04],\n",
       "        [1.2100e-04, 2.4100e-04, 1.2100e-04],\n",
       "        [2.0100e-04, 4.0100e-04, 2.0100e-04],\n",
       "        [2.1531e-04, 4.2962e-04, 2.1531e-04],\n",
       "        [2.0100e-04, 4.0100e-04, 2.0100e-04],\n",
       "        [2.0864e-04, 4.1629e-04, 2.0864e-04],\n",
       "        [8.1000e-05, 1.6100e-04, 8.1000e-05],\n",
       "        [1.8100e-04, 3.6100e-04, 1.8100e-04],\n",
       "        [1.9531e-04, 3.8962e-04, 1.9531e-04],\n",
       "        [2.1531e-04, 4.2962e-04, 2.1531e-04],\n",
       "        [1.8100e-04, 3.6100e-04, 1.8100e-04],\n",
       "        [2.4130e-04, 4.8161e-04, 2.4130e-04]], grad_fn=<AddmmBackward0>)"
      ]
     },
     "execution_count": 36,
     "metadata": {},
     "output_type": "execute_result"
    }
   ],
   "source": [
    "H_pos =  gcn_1_pos(H_pos)\n",
    "H_pos"
   ]
  },
  {
   "cell_type": "markdown",
   "id": "fd2a4a68-38a3-4406-be45-f5c921f797f1",
   "metadata": {},
   "source": [
    "**Negative Convolution**\n",
    "\n",
    "We'll next take the dot product of the network and negative node embeddings $\\hat A^{neg} X_{embd}$.  With this you'll notice that like the positive multiplication, even though our embedded input has a repetition of `[6,3]` for each sample, because of the network tensor multiplication. If you look closely though you will notice that the difference between columns is consistent for each row.  Another thing you'll also notice is a couple `0` rows. These are nodes where there is no down-regulation. \n",
    "\n",
    "After taking our dot product we then multiply our weights completing the negative product $\\hat A^{neg} X_{embd} W_{neg}$.  This linearization allows the network to learn how much to learn from the negative edge.  "
   ]
  },
  {
   "cell_type": "code",
   "execution_count": 37,
   "id": "b6376c13-6c16-4b4b-b1dc-5cd80a312796",
   "metadata": {},
   "outputs": [
    {
     "data": {
      "text/plain": [
       "tensor([[0.0035, 0.0040, 0.0046],\n",
       "        [0.0035, 0.0040, 0.0046],\n",
       "        [0.0035, 0.0040, 0.0046],\n",
       "        [0.0050, 0.0060, 0.0070],\n",
       "        [0.0040, 0.0050, 0.0060],\n",
       "        [0.0035, 0.0052, 0.0069],\n",
       "        [0.0000, 0.0000, 0.0000],\n",
       "        [0.0035, 0.0042, 0.0049],\n",
       "        [0.0060, 0.0070, 0.0080],\n",
       "        [0.0035, 0.0042, 0.0049],\n",
       "        [0.0042, 0.0057, 0.0071],\n",
       "        [0.0030, 0.0040, 0.0050],\n",
       "        [0.0029, 0.0035, 0.0040],\n",
       "        [0.0050, 0.0059, 0.0069],\n",
       "        [0.0042, 0.0049, 0.0057],\n",
       "        [0.0029, 0.0035, 0.0040],\n",
       "        [0.0037, 0.0053, 0.0068],\n",
       "        [0.0031, 0.0043, 0.0055],\n",
       "        [0.0050, 0.0059, 0.0069],\n",
       "        [0.0042, 0.0049, 0.0057],\n",
       "        [0.0029, 0.0035, 0.0040],\n",
       "        [0.0029, 0.0035, 0.0040],\n",
       "        [0.0044, 0.0060, 0.0076],\n",
       "        [0.0019, 0.0031, 0.0043]], grad_fn=<MmBackward0>)"
      ]
     },
     "execution_count": 37,
     "metadata": {},
     "output_type": "execute_result"
    }
   ],
   "source": [
    "H_neg = Aneg_blk @ x\n",
    "H_neg"
   ]
  },
  {
   "cell_type": "markdown",
   "id": "d993ece7-93ff-41d7-b790-aa3010914188",
   "metadata": {},
   "source": [
    "Again, when we multiply our pyramidal weights you can see that that brings a similar pyramidal pattern to our data where the middle column tends to be elevated 2x above the side columns since the  weights are 2x in the middle column compared to the edge columns.  Additionally you'll see the impact of bias come in here.  Recall that we set our bias to 1e-6 to prevent zeroing out.  With this, our 0 rows become the epsilon.  This helps the model learn about the nodes even if this particular learning batch does not have them. "
   ]
  },
  {
   "cell_type": "code",
   "execution_count": 38,
   "id": "3989df0d-ccfc-42c1-8e2f-e2ba23e89560",
   "metadata": {},
   "outputs": [
    {
     "data": {
      "text/plain": [
       "tensor([[1.6266e-04, 3.2432e-04, 1.6266e-04],\n",
       "        [1.6266e-04, 3.2432e-04, 1.6266e-04],\n",
       "        [1.6266e-04, 3.2432e-04, 1.6266e-04],\n",
       "        [2.4100e-04, 4.8100e-04, 2.4100e-04],\n",
       "        [2.0100e-04, 4.0100e-04, 2.0100e-04],\n",
       "        [2.0885e-04, 4.1669e-04, 2.0885e-04],\n",
       "        [1.0000e-06, 1.0000e-06, 1.0000e-06],\n",
       "        [1.7071e-04, 3.4041e-04, 1.7071e-04],\n",
       "        [2.8100e-04, 5.6100e-04, 2.8100e-04],\n",
       "        [1.7071e-04, 3.4041e-04, 1.7071e-04],\n",
       "        [2.2727e-04, 4.5355e-04, 2.2727e-04],\n",
       "        [1.6100e-04, 3.2100e-04, 1.6100e-04],\n",
       "        [1.3956e-04, 2.7813e-04, 1.3956e-04],\n",
       "        [2.3898e-04, 4.7696e-04, 2.3898e-04],\n",
       "        [1.9899e-04, 3.9698e-04, 1.9899e-04],\n",
       "        [1.3956e-04, 2.7813e-04, 1.3956e-04],\n",
       "        [2.1165e-04, 4.2230e-04, 2.1165e-04],\n",
       "        [1.7414e-04, 3.4727e-04, 1.7414e-04],\n",
       "        [2.3898e-04, 4.7696e-04, 2.3898e-04],\n",
       "        [1.9899e-04, 3.9698e-04, 1.9899e-04],\n",
       "        [1.3956e-04, 2.7813e-04, 1.3956e-04],\n",
       "        [1.3956e-04, 2.7813e-04, 1.3956e-04],\n",
       "        [2.4151e-04, 4.8201e-04, 2.4151e-04],\n",
       "        [1.2585e-04, 2.5071e-04, 1.2585e-04]], grad_fn=<AddmmBackward0>)"
      ]
     },
     "execution_count": 38,
     "metadata": {},
     "output_type": "execute_result"
    }
   ],
   "source": [
    "H_neg =  gcn_1_neg(H_neg)\n",
    "H_neg"
   ]
  },
  {
   "cell_type": "markdown",
   "id": "178463f7-b4e3-4bba-82b7-ace48ac0d0e5",
   "metadata": {},
   "source": [
    "**Combine weights**\n",
    "\n",
    "Now that we have each sign's convolution, we need to add them together.  To emphasize the excitatory and inhibitory nature of the two different networks we subtract the negative weight from the positive as follows:\n",
    "\n",
    "$Out =\\hat A^{pos} X_{embd} W_{pos} - \\hat A^{neg} X_{embd} W_{neg}$\n",
    "\n",
    "Notice that our values are a mix of positive and negative values. This shows that our model, even in its initiation state, has started building a model of genes and cell relationships. This is likely not correct but backprop will fix it.  Also that the pattern of the middle channel being 2x the side channels is maintained. This will become important in the normalization. "
   ]
  },
  {
   "cell_type": "code",
   "execution_count": 39,
   "id": "b32d879b-d83f-4a7a-85f0-3747953445cc",
   "metadata": {},
   "outputs": [
    {
     "data": {
      "text/plain": [
       "(torch.Size([24, 3]),\n",
       " tensor([[-3.6805e-05, -7.3611e-05, -3.6805e-05],\n",
       "         [-1.6805e-05, -3.3611e-05, -1.6805e-05],\n",
       "         [ 3.1947e-06,  6.3895e-06,  3.1947e-06],\n",
       "         [ 0.0000e+00,  0.0000e+00,  0.0000e+00],\n",
       "         [-1.2721e-05, -2.5442e-05, -1.2721e-05],\n",
       "         [ 3.2154e-05,  6.4308e-05,  3.2154e-05],\n",
       "         [ 1.8750e-04,  3.7499e-04,  1.8750e-04],\n",
       "         [-1.0711e-05, -2.1421e-05, -1.0711e-05],\n",
       "         [-1.0202e-04, -2.0404e-04, -1.0202e-04],\n",
       "         [ 2.9289e-05,  5.8579e-05,  2.9289e-05],\n",
       "         [-5.4288e-05, -1.0858e-04, -5.4288e-05],\n",
       "         [ 4.6231e-05,  9.2462e-05,  4.6231e-05],\n",
       "         [ 1.5745e-05,  3.1491e-05,  1.5745e-05],\n",
       "         [-1.1798e-04, -2.3596e-04, -1.1798e-04],\n",
       "         [ 2.0101e-06,  4.0202e-06,  2.0101e-06],\n",
       "         [ 7.5745e-05,  1.5149e-04,  7.5745e-05],\n",
       "         [-1.0648e-05, -2.1296e-05, -1.0648e-05],\n",
       "         [ 3.4506e-05,  6.9012e-05,  3.4506e-05],\n",
       "         [-1.5798e-04, -3.1596e-04, -1.5798e-04],\n",
       "         [-1.7990e-05, -3.5980e-05, -1.7990e-05],\n",
       "         [ 5.5745e-05,  1.1149e-04,  5.5745e-05],\n",
       "         [ 7.5745e-05,  1.5149e-04,  7.5745e-05],\n",
       "         [-6.0506e-05, -1.2101e-04, -6.0506e-05],\n",
       "         [ 1.1545e-04,  2.3090e-04,  1.1545e-04]], grad_fn=<SubBackward0>))"
      ]
     },
     "execution_count": 39,
     "metadata": {},
     "output_type": "execute_result"
    }
   ],
   "source": [
    "out = H_pos - H_neg\n",
    "out.size(), out"
   ]
  },
  {
   "cell_type": "markdown",
   "id": "0ba4d34e-9b7a-4011-93e6-94a5bfa06818",
   "metadata": {},
   "source": [
    "#### GCN Block - First Layer Norm\n",
    "\n",
    "With Layer normalization, we review the row and adjust based on how far away it is from the mean. This means an array of `[1,2,3]` and `[2,4,6]` will actually have the same normalized entries after layer normalization.  This layer adds regularization which helps with overall learning speed. The formula applied is:\n",
    "\n",
    "$y = \\frac{x - \\mathbb{E}[x]}{\\sqrt{\\operatorname{Var}[x] + \\epsilon}}$\n",
    "\n",
    "Layer normalization here is applied on the output of the first graph convolution layer across each node.  You'll see that because our middle node is 2 the side nodes that create an interesting pattern emerge, when the node is negative, the middle becomes more negative and the side positive.  The inverse happens when it is positive.  This helps show how normalization works. "
   ]
  },
  {
   "cell_type": "code",
   "execution_count": 40,
   "id": "ea70b76b-1aa7-4984-8a65-001a77833b2a",
   "metadata": {},
   "outputs": [
    {
     "data": {
      "text/plain": [
       "(Parameter containing:\n",
       " tensor([1., 1., 1.], requires_grad=True),\n",
       " Parameter containing:\n",
       " tensor([1.0000e-06, 1.0000e-06, 1.0000e-06], requires_grad=True))"
      ]
     },
     "execution_count": 40,
     "metadata": {},
     "output_type": "execute_result"
    }
   ],
   "source": [
    "bn_a = nn.LayerNorm(n_embd)\n",
    "nn.init.constant_(bn_a.bias, 1e-6) # prevent 0 crashout\n",
    "bn_a.weight, bn_a.bias"
   ]
  },
  {
   "cell_type": "code",
   "execution_count": 41,
   "id": "082584d3-04d6-48d9-a5b9-d151ebf8ca04",
   "metadata": {},
   "outputs": [
    {
     "data": {
      "text/plain": [
       "(torch.Size([24, 3]),\n",
       " tensor([[ 3.8806e-03, -7.7581e-03,  3.8806e-03],\n",
       "         [ 1.7724e-03, -3.5419e-03,  1.7724e-03],\n",
       "         [-3.3576e-04,  6.7451e-04, -3.3576e-04],\n",
       "         [ 1.0000e-06,  1.0000e-06,  1.0000e-06],\n",
       "         [ 1.3419e-03, -2.6808e-03,  1.3419e-03],\n",
       "         [-3.3883e-03,  6.7796e-03, -3.3883e-03],\n",
       "         [-1.9755e-02,  3.9513e-02, -1.9755e-02],\n",
       "         [ 1.1300e-03, -2.2570e-03,  1.1300e-03],\n",
       "         [ 1.0754e-02, -2.1504e-02,  1.0754e-02],\n",
       "         [-3.0863e-03,  6.1757e-03, -3.0863e-03],\n",
       "         [ 5.7232e-03, -1.1443e-02,  5.7232e-03],\n",
       "         [-4.8721e-03,  9.7471e-03, -4.8721e-03],\n",
       "         [-1.6587e-03,  3.3204e-03, -1.6587e-03],\n",
       "         [ 1.2435e-02, -2.4867e-02,  1.2435e-02],\n",
       "         [-2.1088e-04,  4.2477e-04, -2.1088e-04],\n",
       "         [-7.9828e-03,  1.5969e-02, -7.9828e-03],\n",
       "         [ 1.1234e-03, -2.2438e-03,  1.1234e-03],\n",
       "         [-3.6362e-03,  7.2754e-03, -3.6362e-03],\n",
       "         [ 1.6649e-02, -3.3295e-02,  1.6649e-02],\n",
       "         [ 1.8973e-03, -3.7916e-03,  1.8973e-03],\n",
       "         [-5.8749e-03,  1.1753e-02, -5.8749e-03],\n",
       "         [-7.9828e-03,  1.5969e-02, -7.9828e-03],\n",
       "         [ 6.3786e-03, -1.2754e-02,  6.3786e-03],\n",
       "         [-1.2167e-02,  2.4336e-02, -1.2167e-02]],\n",
       "        grad_fn=<NativeLayerNormBackward0>))"
      ]
     },
     "execution_count": 41,
     "metadata": {},
     "output_type": "execute_result"
    }
   ],
   "source": [
    "out = bn_a(out)\n",
    "out.size(), out"
   ]
  },
  {
   "cell_type": "markdown",
   "id": "b64bccc5-6c49-4685-91b2-a0a9e58e58bf",
   "metadata": {},
   "source": [
    "#### GCN Block - Leaky ReLU\n",
    "Next we apply leaky ReLU (rectified linear units), an element-wise nonlinearity that leaves positive activations unchanged and scales negative activations by a small factor, in our case `0.1`. In graph networks it is commonly used after normalization to introduce nonlinearity while preserving gradient flow through negative values and avoiding “dying units.” Compared to ReLU, LeakyReLU produces less sparse activations but better retains informative negative signals (useful when inhibitory effects matter).  We also prefer LeakyRELU in this graph since we are building a signed graph.  \n",
    "\n",
    "The formula applied is:\n",
    "$$\n",
    "y=\\max(\\alpha x,x)=\n",
    "\\begin{cases}\n",
    "x,& x>0\\\\\n",
    "\\alpha x,& x\\leq 0\n",
    "\\end{cases} \\quad\n",
    "\\frac{\\partial y}{\\partial x}=\n",
    "\\begin{cases}\n",
    "1,& x>0 \\\\\n",
    "\\alpha,& x\\leq 0\n",
    "\\end{cases}\n",
    "$$\n",
    "\n",
    "LeakyReLU is stateless, meaning it has no learnable parameters. The only control is the hyperparameter (\\alpha))."
   ]
  },
  {
   "cell_type": "code",
   "execution_count": 42,
   "id": "2172634c-3dfc-48d6-b751-df5e972f007e",
   "metadata": {},
   "outputs": [],
   "source": [
    "lrelu_1= nn.LeakyReLU(negative_slope=0.1)"
   ]
  },
  {
   "cell_type": "code",
   "execution_count": 43,
   "id": "e6d9fdbe-f361-4e1a-8813-2c67a7492b4c",
   "metadata": {},
   "outputs": [
    {
     "data": {
      "text/plain": [
       "(torch.Size([24, 3]),\n",
       " tensor([[ 3.8806e-03, -7.7581e-04,  3.8806e-03],\n",
       "         [ 1.7724e-03, -3.5419e-04,  1.7724e-03],\n",
       "         [-3.3576e-05,  6.7451e-04, -3.3576e-05],\n",
       "         [ 1.0000e-06,  1.0000e-06,  1.0000e-06],\n",
       "         [ 1.3419e-03, -2.6808e-04,  1.3419e-03],\n",
       "         [-3.3883e-04,  6.7796e-03, -3.3883e-04],\n",
       "         [-1.9755e-03,  3.9513e-02, -1.9755e-03],\n",
       "         [ 1.1300e-03, -2.2570e-04,  1.1300e-03],\n",
       "         [ 1.0754e-02, -2.1504e-03,  1.0754e-02],\n",
       "         [-3.0863e-04,  6.1757e-03, -3.0863e-04],\n",
       "         [ 5.7232e-03, -1.1443e-03,  5.7232e-03],\n",
       "         [-4.8721e-04,  9.7471e-03, -4.8721e-04],\n",
       "         [-1.6587e-04,  3.3204e-03, -1.6587e-04],\n",
       "         [ 1.2435e-02, -2.4867e-03,  1.2435e-02],\n",
       "         [-2.1088e-05,  4.2477e-04, -2.1088e-05],\n",
       "         [-7.9828e-04,  1.5969e-02, -7.9828e-04],\n",
       "         [ 1.1234e-03, -2.2438e-04,  1.1234e-03],\n",
       "         [-3.6362e-04,  7.2754e-03, -3.6362e-04],\n",
       "         [ 1.6649e-02, -3.3295e-03,  1.6649e-02],\n",
       "         [ 1.8973e-03, -3.7916e-04,  1.8973e-03],\n",
       "         [-5.8749e-04,  1.1753e-02, -5.8749e-04],\n",
       "         [-7.9828e-04,  1.5969e-02, -7.9828e-04],\n",
       "         [ 6.3786e-03, -1.2754e-03,  6.3786e-03],\n",
       "         [-1.2167e-03,  2.4336e-02, -1.2167e-03]], grad_fn=<LeakyReluBackward0>))"
      ]
     },
     "execution_count": 43,
     "metadata": {},
     "output_type": "execute_result"
    }
   ],
   "source": [
    "out = lrelu_1(out)\n",
    "out.size(), out"
   ]
  },
  {
   "cell_type": "markdown",
   "id": "ad2b1898-8e4f-45b0-822d-437e2f1f00ec",
   "metadata": {},
   "source": [
    "#### GCN Block - Dropout\n",
    "\n",
    "Finally, before our next node convolution, we'll perform dropout. Dropout will randomly zero out any value effectively removing that specific node from impacting prediction. Since this is Bernoulli based dropout, in addition to zeroing out weights the surviving entries are scaled by $1/(1-p)$. During training this helps with generalization and fights fixation. You can quickly see the dropout's impact on the embeddings. "
   ]
  },
  {
   "cell_type": "code",
   "execution_count": 44,
   "id": "b3f77a00-b595-4246-bcc7-9fc01081921c",
   "metadata": {},
   "outputs": [],
   "source": [
    "drop = torch.nn.Dropout(0.05)"
   ]
  },
  {
   "cell_type": "code",
   "execution_count": 45,
   "id": "ffb72b23-dca0-48d3-a165-fa739c284d06",
   "metadata": {},
   "outputs": [
    {
     "data": {
      "text/plain": [
       "(torch.Size([24, 3]),\n",
       " tensor([[ 0.0000e+00, -8.1664e-04,  4.0848e-03],\n",
       "         [ 0.0000e+00, -3.7283e-04,  1.8657e-03],\n",
       "         [-0.0000e+00,  7.1001e-04, -3.5343e-05],\n",
       "         [ 1.0526e-06,  1.0526e-06,  1.0526e-06],\n",
       "         [ 1.4125e-03, -2.8219e-04,  1.4125e-03],\n",
       "         [-3.5666e-04,  7.1364e-03, -0.0000e+00],\n",
       "         [-2.0795e-03,  4.1593e-02, -2.0795e-03],\n",
       "         [ 1.1895e-03, -0.0000e+00,  1.1895e-03],\n",
       "         [ 1.1320e-02, -2.2636e-03,  0.0000e+00],\n",
       "         [-3.2488e-04,  6.5007e-03, -3.2488e-04],\n",
       "         [ 6.0245e-03, -0.0000e+00,  6.0245e-03],\n",
       "         [-5.1285e-04,  1.0260e-02, -5.1285e-04],\n",
       "         [-1.7460e-04,  3.4952e-03, -1.7460e-04],\n",
       "         [ 1.3090e-02, -2.6176e-03,  1.3090e-02],\n",
       "         [-2.2198e-05,  4.4712e-04, -2.2198e-05],\n",
       "         [-8.4029e-04,  1.6809e-02, -8.4029e-04],\n",
       "         [ 1.1825e-03, -2.3619e-04,  1.1825e-03],\n",
       "         [-3.8276e-04,  7.6583e-03, -3.8276e-04],\n",
       "         [ 1.7525e-02, -3.5047e-03,  1.7525e-02],\n",
       "         [ 1.9972e-03, -3.9911e-04,  1.9972e-03],\n",
       "         [-6.1841e-04,  1.2371e-02, -6.1841e-04],\n",
       "         [-8.4029e-04,  1.6809e-02, -8.4029e-04],\n",
       "         [ 6.7143e-03, -1.3426e-03,  6.7143e-03],\n",
       "         [-1.2807e-03,  2.5617e-02, -1.2807e-03]], grad_fn=<MulBackward0>))"
      ]
     },
     "execution_count": 45,
     "metadata": {},
     "output_type": "execute_result"
    }
   ],
   "source": [
    "out = drop(out) \n",
    "out.size(), out"
   ]
  },
  {
   "cell_type": "markdown",
   "id": "6f13cfb3-a77c-4d3d-9860-4d05742d5bab",
   "metadata": {},
   "source": [
    "#### GCN Block - Second Node Convolution\n",
    "\n",
    "Our next convolutional block has the same dimensions as our first and still uses two separate weights for our positive and negative network. Instead of passing in the input embedding though we'll pass in the output of dropout allowing the model to learn the \"next hop\". Just like in the first convolution, to really highlight the impact we'll use a pyramidal weight structure based on increments of `0.05`. We'll need to initialize both the positive and negative weights "
   ]
  },
  {
   "cell_type": "code",
   "execution_count": 46,
   "id": "dd69a287-748e-4624-bb92-afea08e877ec",
   "metadata": {},
   "outputs": [
    {
     "data": {
      "text/plain": [
       "(Parameter containing:\n",
       " tensor([[0.0500, 0.1000, 0.0500],\n",
       "         [0.1000, 0.2000, 0.1000],\n",
       "         [0.0500, 0.1000, 0.0500]], requires_grad=True),\n",
       " Parameter containing:\n",
       " tensor([1.0000e-06, 1.0000e-06, 1.0000e-06], requires_grad=True))"
      ]
     },
     "execution_count": 46,
     "metadata": {},
     "output_type": "execute_result"
    }
   ],
   "source": [
    "gcn_2_pos = torch.nn.Linear(n_embd, n_embd, bias=True)\n",
    "with torch.no_grad(): \n",
    "    gcn_2_pos.weight.copy_(pyramid_weight(n_embd, n_embd, base=0.05))\n",
    "nn.init.constant_(gcn_2_pos.bias, 1e-6)\n",
    "gcn_2_pos.weight, gcn_2_pos.bias"
   ]
  },
  {
   "cell_type": "code",
   "execution_count": 47,
   "id": "d768529f-4907-4112-ae4d-4ef3214b482d",
   "metadata": {},
   "outputs": [
    {
     "data": {
      "text/plain": [
       "(Parameter containing:\n",
       " tensor([[0.0500, 0.1000, 0.0500],\n",
       "         [0.1000, 0.2000, 0.1000],\n",
       "         [0.0500, 0.1000, 0.0500]], requires_grad=True),\n",
       " Parameter containing:\n",
       " tensor([1.0000e-06, 1.0000e-06, 1.0000e-06], requires_grad=True))"
      ]
     },
     "execution_count": 47,
     "metadata": {},
     "output_type": "execute_result"
    }
   ],
   "source": [
    "gcn_2_neg = torch.nn.Linear(n_embd, n_embd, bias=True)\n",
    "with torch.no_grad(): \n",
    "    gcn_2_neg.weight.copy_(pyramid_weight(n_embd, n_embd, base=0.05))\n",
    "nn.init.constant_(gcn_2_neg.bias, 1e-6)\n",
    "gcn_2_neg.weight, gcn_2_neg.bias"
   ]
  },
  {
   "cell_type": "markdown",
   "id": "e230afd5-6de1-497b-86de-d611fb6c6579",
   "metadata": {},
   "source": [
    "**Positive Convolution**\n",
    "\n",
    "We'll again start by taking the dot product of the positive node embeddings and the current inflight weights $\\hat A^{pos} out$.  At this point you'll notice that the patterns in our weights have largely disappeared though in our dot product, because of the layer normalization, we still see the last embedding channel is still negative. This shows just how different this convolution layer is over the previous one.  \n",
    "\n",
    "Just as before, after taking our dot product we then multiply our weights completing the positive product $\\hat A^{pos} X_{embd} W_{pos}$.  This linearization allows the network to learn how much to learn from the positive edge.  "
   ]
  },
  {
   "cell_type": "code",
   "execution_count": 48,
   "id": "8f1a06c9-d6e9-4659-ab6f-80bbcdd7713a",
   "metadata": {},
   "outputs": [
    {
     "data": {
      "text/plain": [
       "(torch.Size([24, 3]),\n",
       " tensor([[ 4.9940e-04, -5.0809e-04,  2.5418e-03],\n",
       "         [ 4.9940e-04, -2.8618e-04,  1.4323e-03],\n",
       "         [ 4.9940e-04,  2.5524e-04,  4.8173e-04],\n",
       "         [-1.7780e-04,  3.5687e-03,  5.2632e-07],\n",
       "         [ 3.5313e-04, -2.4006e-04,  2.4445e-03],\n",
       "         [-1.7780e-04,  3.5687e-03,  5.2632e-07],\n",
       "         [ 1.1669e-03,  1.6826e-02,  1.1669e-03],\n",
       "         [ 4.1342e-04,  3.6275e-03,  4.1342e-04],\n",
       "         [ 8.1193e-03, -1.1318e-03,  2.4595e-03],\n",
       "         [-3.4376e-04,  6.8779e-03, -3.4376e-04],\n",
       "         [ 5.9362e-03,  1.2940e-02,  1.3150e-03],\n",
       "         [-4.2282e-04,  1.6870e-02, -4.2282e-04],\n",
       "         [-2.4356e-04,  4.8741e-03, -2.4356e-04],\n",
       "         [ 1.3090e-02, -2.6176e-03,  1.3090e-02],\n",
       "         [ 5.8015e-04,  1.0547e-04,  5.8015e-04],\n",
       "         [-5.7640e-04,  1.1531e-02, -5.7640e-04],\n",
       "         [ 5.8015e-04,  1.0547e-04,  5.8015e-04],\n",
       "         [-5.4191e-04,  1.0842e-02, -5.4191e-04],\n",
       "         [ 1.7525e-02, -3.5047e-03,  1.7525e-02],\n",
       "         [ 4.3558e-03, -8.7083e-04,  4.3558e-03],\n",
       "         [-8.3205e-04,  1.6644e-02, -8.3205e-04],\n",
       "         [-9.4299e-04,  1.8863e-02, -9.4299e-04],\n",
       "         [ 4.3558e-03, -8.7083e-04,  4.3558e-03],\n",
       "         [-1.0224e-03,  2.0452e-02, -1.0224e-03]], grad_fn=<MmBackward0>))"
      ]
     },
     "execution_count": 48,
     "metadata": {},
     "output_type": "execute_result"
    }
   ],
   "source": [
    "H2_pos = Apos_blk @ out\n",
    "H2_pos.size(), H2_pos"
   ]
  },
  {
   "cell_type": "markdown",
   "id": "864f9c08-4702-4e71-adbc-c30758e3f98d",
   "metadata": {},
   "source": [
    "Now, when we multiply our pyramidal weights you can see that that despite the previous weights looking all over the place, the output returns a similar pyramidal pattern to our data where the middle column tends to be elevated 2x above the side columns since the  weights are 2x in the middle column compared to the edge columns. "
   ]
  },
  {
   "cell_type": "code",
   "execution_count": 49,
   "id": "1bd3a8fb-5d1c-4d27-ae15-7c5e42a700ab",
   "metadata": {},
   "outputs": [
    {
     "data": {
      "text/plain": [
       "tensor([[1.0225e-04, 2.0350e-04, 1.0225e-04],\n",
       "        [6.8965e-05, 1.3693e-04, 6.8965e-05],\n",
       "        [7.5580e-05, 1.5016e-04, 7.5580e-05],\n",
       "        [3.4901e-04, 6.9702e-04, 3.4901e-04],\n",
       "        [1.1687e-04, 2.3275e-04, 1.1687e-04],\n",
       "        [3.4901e-04, 6.9702e-04, 3.4901e-04],\n",
       "        [1.8003e-03, 3.5996e-03, 1.8003e-03],\n",
       "        [4.0509e-04, 8.0919e-04, 4.0509e-04],\n",
       "        [4.1676e-04, 8.3252e-04, 4.1676e-04],\n",
       "        [6.5441e-04, 1.3078e-03, 6.5441e-04],\n",
       "        [1.6576e-03, 3.3141e-03, 1.6576e-03],\n",
       "        [1.6457e-03, 3.2905e-03, 1.6457e-03],\n",
       "        [4.6405e-04, 9.2710e-04, 4.6405e-04],\n",
       "        [1.0482e-03, 2.0954e-03, 1.0482e-03],\n",
       "        [6.9562e-05, 1.3812e-04, 6.9562e-05],\n",
       "        [1.0965e-03, 2.1919e-03, 1.0965e-03],\n",
       "        [6.9562e-05, 1.3812e-04, 6.9562e-05],\n",
       "        [1.0310e-03, 2.0610e-03, 1.0310e-03],\n",
       "        [1.4030e-03, 2.8051e-03, 1.4030e-03],\n",
       "        [3.4949e-04, 6.9798e-04, 3.4949e-04],\n",
       "        [1.5822e-03, 3.1634e-03, 1.5822e-03],\n",
       "        [1.7930e-03, 3.5849e-03, 1.7930e-03],\n",
       "        [3.4949e-04, 6.9798e-04, 3.4949e-04],\n",
       "        [1.9439e-03, 3.8869e-03, 1.9439e-03]], grad_fn=<AddmmBackward0>)"
      ]
     },
     "execution_count": 49,
     "metadata": {},
     "output_type": "execute_result"
    }
   ],
   "source": [
    "H2_pos =  gcn_2_pos(H2_pos)\n",
    "H2_pos"
   ]
  },
  {
   "cell_type": "markdown",
   "id": "2516d6c6-b18c-454a-bead-ed2a80631f43",
   "metadata": {},
   "source": [
    "**Negative Convolution**\n",
    "\n",
    "We'll next take the dot product of the negative node embeddings and the current inflight weights $\\hat A^{neg} X_{embd}$.  With this you'll notice that like the positive multiplication, you'll notice that the patterns in our weights have largely disappeared though in our dot product, because of the layer normalization, we still see the last embedding channel is still negative. This shows just how different this convolution layer is over the previous one.  Another thing you'll also notice is the return of `0` rows. These return for the same reason as before, there are nodes where there is no down-regulation. \n",
    "\n",
    "Just as before, after taking our dot product we then multiply our weights completing the negative product $\\hat A^{neg} X_{embd} W_{neg}$.  This linearization allows the network to learn how much to learn from the negative edge.  "
   ]
  },
  {
   "cell_type": "code",
   "execution_count": 50,
   "id": "647fe12e-ea0a-43de-8a2d-aeabe682f3a3",
   "metadata": {},
   "outputs": [
    {
     "data": {
      "text/plain": [
       "(torch.Size([24, 3]),\n",
       " tensor([[-2.0592e-04,  4.1202e-03,  0.0000e+00],\n",
       "         [-2.0592e-04,  4.1202e-03,  0.0000e+00],\n",
       "         [-2.0592e-04,  4.1202e-03,  0.0000e+00],\n",
       "         [ 1.4125e-03, -2.8219e-04,  1.4125e-03],\n",
       "         [ 1.0526e-06,  1.0526e-06,  1.0526e-06],\n",
       "         [ 0.0000e+00, -2.7682e-04,  3.4151e-03],\n",
       "         [ 0.0000e+00,  0.0000e+00,  0.0000e+00],\n",
       "         [ 4.2599e-03,  0.0000e+00,  4.2599e-03],\n",
       "         [-5.1285e-04,  1.0260e-02, -5.1285e-04],\n",
       "         [ 4.2599e-03,  0.0000e+00,  4.2599e-03],\n",
       "         [ 6.1137e-04,  4.5967e-03,  6.1137e-04],\n",
       "         [ 1.1320e-02, -2.2636e-03,  0.0000e+00],\n",
       "         [ 6.8272e-04, -1.3636e-04,  6.8272e-04],\n",
       "         [ 2.9138e-04,  3.7327e-03,  2.9138e-04],\n",
       "         [-2.7065e-04,  5.4152e-03, -2.7065e-04],\n",
       "         [ 6.8272e-04, -1.3636e-04,  6.8272e-04],\n",
       "         [ 4.7579e-03,  1.0654e-02,  4.7579e-03],\n",
       "         [ 6.5292e-03, -9.9265e-04,  6.5292e-03],\n",
       "         [ 2.1008e-03,  1.2261e-02,  2.1008e-03],\n",
       "         [-9.0559e-04,  1.8114e-02, -9.0559e-04],\n",
       "         [ 3.8765e-03, -7.7512e-04,  3.8765e-03],\n",
       "         [ 3.8765e-03, -7.7512e-04,  3.8765e-03],\n",
       "         [ 6.3124e-03,  1.5416e-02,  6.3124e-03],\n",
       "         [ 1.0175e-02, -2.0346e-03,  1.0175e-02]], grad_fn=<MmBackward0>))"
      ]
     },
     "execution_count": 50,
     "metadata": {},
     "output_type": "execute_result"
    }
   ],
   "source": [
    "H2_neg = Aneg_blk @ out\n",
    "H2_neg.size(), H2_neg"
   ]
  },
  {
   "cell_type": "markdown",
   "id": "92b55b27-2e61-49e5-8dee-659ba1431361",
   "metadata": {},
   "source": [
    "Again, when we multiply our pyramidal weights you can see that that brings a similar pyramidal pattern to our data where the middle column tends to be elevated 2x above the side columns since the  weights are 2x in the middle column compared to the edge columns.  Additionally you'll see the impact of bias come in here.  Recall that we set our bias to 1e-6 to prevent zeroing out.  With this, our 0 rows become the epsilon.  This helps the model learn about the nodes even if this particular learning batch does not have them. "
   ]
  },
  {
   "cell_type": "code",
   "execution_count": 51,
   "id": "1d110dd1-5ec8-4118-8547-16986b91e6a3",
   "metadata": {},
   "outputs": [
    {
     "data": {
      "text/plain": [
       "tensor([[4.0272e-04, 8.0445e-04, 4.0272e-04],\n",
       "        [4.0272e-04, 8.0445e-04, 4.0272e-04],\n",
       "        [4.0272e-04, 8.0445e-04, 4.0272e-04],\n",
       "        [1.1403e-04, 2.2707e-04, 1.1403e-04],\n",
       "        [1.2105e-06, 1.4211e-06, 1.2105e-06],\n",
       "        [1.4407e-04, 2.8715e-04, 1.4407e-04],\n",
       "        [1.0000e-06, 1.0000e-06, 1.0000e-06],\n",
       "        [4.2699e-04, 8.5299e-04, 4.2699e-04],\n",
       "        [9.7573e-04, 1.9505e-03, 9.7573e-04],\n",
       "        [4.2699e-04, 8.5299e-04, 4.2699e-04],\n",
       "        [5.2181e-04, 1.0426e-03, 5.2181e-04],\n",
       "        [3.4062e-04, 6.8024e-04, 3.4062e-04],\n",
       "        [5.5636e-05, 1.1027e-04, 5.5636e-05],\n",
       "        [4.0341e-04, 8.0582e-04, 4.0341e-04],\n",
       "        [5.1546e-04, 1.0299e-03, 5.1546e-04],\n",
       "        [5.5636e-05, 1.1027e-04, 5.5636e-05],\n",
       "        [1.5422e-03, 3.0834e-03, 1.5422e-03],\n",
       "        [5.5465e-04, 1.1083e-03, 5.5465e-04],\n",
       "        [1.4371e-03, 2.8733e-03, 1.4371e-03],\n",
       "        [1.7219e-03, 3.4427e-03, 1.7219e-03],\n",
       "        [3.1114e-04, 6.2128e-04, 3.1114e-04],\n",
       "        [3.1114e-04, 6.2128e-04, 3.1114e-04],\n",
       "        [2.1739e-03, 4.3468e-03, 2.1739e-03],\n",
       "        [8.1502e-04, 1.6290e-03, 8.1502e-04]], grad_fn=<AddmmBackward0>)"
      ]
     },
     "execution_count": 51,
     "metadata": {},
     "output_type": "execute_result"
    }
   ],
   "source": [
    "H2_neg =  gcn_2_neg(H2_neg)\n",
    "H2_neg"
   ]
  },
  {
   "cell_type": "markdown",
   "id": "a0a9e89a-2285-43d7-a8c2-911501d70a1d",
   "metadata": {},
   "source": [
    "**Combine weights**\n",
    "\n",
    "Now that we have each sign's convolution output, we again add them together.  To emphasize the excitatory and inhibitory nature of the two different networks we subtract the negative weight from the positive as follows:\n",
    "\n",
    "$Out =\\hat A^{pos} X_{embd} W_{pos} - \\hat A^{neg} X_{embd} W_{neg}$\n",
    "\n",
    "Notice that we repeat the same patters we saw before. Our values are a mix of positive and negative values. This shows that our model, even in its initiation state, has started building a model of genes and cell relationships. This is likely not correct but backprop will fix it.  Also that the pattern of the middle channel being 2x the side channels is maintained. This will become important in the normalization. "
   ]
  },
  {
   "cell_type": "code",
   "execution_count": 52,
   "id": "fd78b77f-b662-438e-8cec-ed85fd5ff832",
   "metadata": {},
   "outputs": [
    {
     "data": {
      "text/plain": [
       "(torch.Size([24, 3]),\n",
       " tensor([[-3.0047e-04, -6.0094e-04, -3.0047e-04],\n",
       "         [-3.3376e-04, -6.6752e-04, -3.3376e-04],\n",
       "         [-3.2714e-04, -6.5429e-04, -3.2714e-04],\n",
       "         [ 2.3497e-04,  4.6995e-04,  2.3497e-04],\n",
       "         [ 1.1566e-04,  2.3133e-04,  1.1566e-04],\n",
       "         [ 2.0493e-04,  4.0987e-04,  2.0493e-04],\n",
       "         [ 1.7993e-03,  3.5986e-03,  1.7993e-03],\n",
       "         [-2.1901e-05, -4.3803e-05, -2.1901e-05],\n",
       "         [-5.5897e-04, -1.1179e-03, -5.5897e-04],\n",
       "         [ 2.2742e-04,  4.5483e-04,  2.2742e-04],\n",
       "         [ 1.1358e-03,  2.2715e-03,  1.1358e-03],\n",
       "         [ 1.3051e-03,  2.6102e-03,  1.3051e-03],\n",
       "         [ 4.0841e-04,  8.1683e-04,  4.0841e-04],\n",
       "         [ 6.4480e-04,  1.2896e-03,  6.4480e-04],\n",
       "         [-4.4589e-04, -8.9179e-04, -4.4589e-04],\n",
       "         [ 1.0408e-03,  2.0816e-03,  1.0408e-03],\n",
       "         [-1.4726e-03, -2.9453e-03, -1.4726e-03],\n",
       "         [ 4.7635e-04,  9.5269e-04,  4.7635e-04],\n",
       "         [-3.4085e-05, -6.8170e-05, -3.4085e-05],\n",
       "         [-1.3724e-03, -2.7447e-03, -1.3724e-03],\n",
       "         [ 1.2710e-03,  2.5421e-03,  1.2710e-03],\n",
       "         [ 1.4818e-03,  2.9637e-03,  1.4818e-03],\n",
       "         [-1.8244e-03, -3.6488e-03, -1.8244e-03],\n",
       "         [ 1.1289e-03,  2.2579e-03,  1.1289e-03]], grad_fn=<SubBackward0>))"
      ]
     },
     "execution_count": 52,
     "metadata": {},
     "output_type": "execute_result"
    }
   ],
   "source": [
    "out = H2_pos - H2_neg\n",
    "out.size(), out"
   ]
  },
  {
   "cell_type": "markdown",
   "id": "940314cd-a4f7-4399-9720-e18342e153c6",
   "metadata": {},
   "source": [
    "#### GCN Block - Second Layer Norm\n",
    "\n",
    "Again we run layer normalization, Recall that we maintained a pattern where our middle channel was 2x the side channels.  During layer normalization we'll see this balance out\n",
    "\n",
    "Again layer normalization here is applied on the output of the second graph convolution layer across each node.  You'll see that because our middle node is 2 the side nodes that create an interesting pattern emerge, when the node is negative, the middle becomes more negative and the side positive.  The inverse happens when it is positive.  This helps reemphasize how normalization works. "
   ]
  },
  {
   "cell_type": "code",
   "execution_count": 53,
   "id": "8fb8a26b-1dc2-4ec8-97a4-5f227abf9cf4",
   "metadata": {},
   "outputs": [
    {
     "data": {
      "text/plain": [
       "(Parameter containing:\n",
       " tensor([1., 1., 1.], requires_grad=True),\n",
       " Parameter containing:\n",
       " tensor([1.0000e-06, 1.0000e-06, 1.0000e-06], requires_grad=True))"
      ]
     },
     "execution_count": 53,
     "metadata": {},
     "output_type": "execute_result"
    }
   ],
   "source": [
    "bn_b = nn.LayerNorm(n_embd)\n",
    "nn.init.constant_(bn_b.bias, 1e-6) # prevent 0 crashout\n",
    "bn_b.weight, bn_b.bias"
   ]
  },
  {
   "cell_type": "code",
   "execution_count": 54,
   "id": "b02c6118-c5ff-4661-9bd8-e358b933736b",
   "metadata": {},
   "outputs": [
    {
     "data": {
      "text/plain": [
       "(torch.Size([24, 3]),\n",
       " tensor([[ 0.0316, -0.0633,  0.0316],\n",
       "         [ 0.0351, -0.0703,  0.0351],\n",
       "         [ 0.0344, -0.0689,  0.0344],\n",
       "         [-0.0248,  0.0495, -0.0248],\n",
       "         [-0.0122,  0.0244, -0.0122],\n",
       "         [-0.0216,  0.0432, -0.0216],\n",
       "         [-0.1832,  0.3664, -0.1832],\n",
       "         [ 0.0023, -0.0046,  0.0023],\n",
       "         [ 0.0587, -0.1174,  0.0587],\n",
       "         [-0.0240,  0.0479, -0.0240],\n",
       "         [-0.1180,  0.2361, -0.1180],\n",
       "         [-0.1350,  0.2701, -0.1350],\n",
       "         [-0.0430,  0.0859, -0.0430],\n",
       "         [-0.0677,  0.1353, -0.0677],\n",
       "         [ 0.0469, -0.0938,  0.0469],\n",
       "         [-0.1084,  0.2168, -0.1084],\n",
       "         [ 0.1516, -0.3032,  0.1516],\n",
       "         [-0.0501,  0.1002, -0.0501],\n",
       "         [ 0.0036, -0.0072,  0.0036],\n",
       "         [ 0.1417, -0.2834,  0.1417],\n",
       "         [-0.1316,  0.2633, -0.1316],\n",
       "         [-0.1525,  0.3050, -0.1525],\n",
       "         [ 0.1856, -0.3711,  0.1856],\n",
       "         [-0.1173,  0.2347, -0.1173]], grad_fn=<NativeLayerNormBackward0>))"
      ]
     },
     "execution_count": 54,
     "metadata": {},
     "output_type": "execute_result"
    }
   ],
   "source": [
    "out = bn_b(out)\n",
    "out.size(), out"
   ]
  },
  {
   "cell_type": "markdown",
   "id": "a37206f1-9ef8-42b0-8307-28ac4c8a0845",
   "metadata": {},
   "source": [
    "#### GCN Block - Residual Connection\n",
    "\n",
    "\n",
    "In GCNs, residual connections create a clean path for each node’s own features and gradients to combat vanishing gradients that can come from the convolution layers and makes deeper message-passing stacks trainable. The residual connection also counters oversmoothing by re-injecting the identity at every layer so the node embeddings are less likely to collapse toward a common subspace, especially under strong degree normalization. Functionally this is represented as\n",
    "\n",
    "$y = f(x) + x$\n",
    "\n",
    "To achieve this we simply sum the projection matrix `x` with the convolution layer outputs `out`.  As a reminder our input embedding uses an incremental initiation so this addition removes the predictable pattern of the middle being 2x the outside channels. "
   ]
  },
  {
   "cell_type": "code",
   "execution_count": 55,
   "id": "2dd2b7cc-762c-4465-978f-41fc638bcd62",
   "metadata": {},
   "outputs": [
    {
     "data": {
      "text/plain": [
       "(torch.Size([24, 3]),\n",
       " tensor([[ 0.0326, -0.0613,  0.0346],\n",
       "         [ 0.0371, -0.0673,  0.0391],\n",
       "         [ 0.0374, -0.0649,  0.0394],\n",
       "         [-0.0208,  0.0545, -0.0188],\n",
       "         [-0.0072,  0.0304, -0.0052],\n",
       "         [-0.0156,  0.0502, -0.0136],\n",
       "         [-0.1822,  0.3684, -0.1802],\n",
       "         [ 0.0043, -0.0016,  0.0063],\n",
       "         [ 0.0617, -0.1134,  0.0637],\n",
       "         [-0.0200,  0.0529, -0.0180],\n",
       "         [-0.1130,  0.2421, -0.1110],\n",
       "         [-0.1290,  0.2771, -0.1270],\n",
       "         [-0.0420,  0.0879, -0.0400],\n",
       "         [-0.0657,  0.1383, -0.0637],\n",
       "         [ 0.0499, -0.0898,  0.0519],\n",
       "         [-0.1044,  0.2218, -0.1024],\n",
       "         [ 0.1566, -0.2972,  0.1586],\n",
       "         [-0.0441,  0.1072, -0.0421],\n",
       "         [ 0.0046, -0.0052,  0.0066],\n",
       "         [ 0.1437, -0.2804,  0.1457],\n",
       "         [-0.1286,  0.2673, -0.1266],\n",
       "         [-0.1485,  0.3100, -0.1465],\n",
       "         [ 0.1906, -0.3651,  0.1926],\n",
       "         [-0.1113,  0.2417, -0.1093]], grad_fn=<AddBackward0>))"
      ]
     },
     "execution_count": 55,
     "metadata": {},
     "output_type": "execute_result"
    }
   ],
   "source": [
    "x = out + x\n",
    "x.size(), x"
   ]
  },
  {
   "cell_type": "markdown",
   "id": "2d347794-6944-4c6d-970f-cfd7f74fa3aa",
   "metadata": {},
   "source": [
    "#### GCN Block - Final LeakyReLU\n",
    "Now that we've summed up our values we apply a final layer of ReLU. This applies the same formulas and benefits on the overall graph output. At this stage, applying LeakyReLU nonlinearly gates the residual connection output letting the model suppress noisy aggregate messages while still preserving informative inhibitory, negative, responses via the non-zero negative slope. With GCNs, this again helps deeper message-passing remain stable and expressive."
   ]
  },
  {
   "cell_type": "code",
   "execution_count": 56,
   "id": "3d4b99e0-3aa8-4536-a60a-b3e8b794bd97",
   "metadata": {},
   "outputs": [],
   "source": [
    "lrelu_res = nn.LeakyReLU(negative_slope=0.1)"
   ]
  },
  {
   "cell_type": "code",
   "execution_count": 57,
   "id": "ca85ec78-c5b9-459b-8c1c-7fbb41716e29",
   "metadata": {},
   "outputs": [
    {
     "data": {
      "text/plain": [
       "(torch.Size([24, 3]),\n",
       " tensor([[ 3.2642e-02, -6.1281e-03,  3.4642e-02],\n",
       "         [ 3.7139e-02, -6.7275e-03,  3.9139e-02],\n",
       "         [ 3.7444e-02, -6.4885e-03,  3.9444e-02],\n",
       "         [-2.0752e-03,  5.4508e-02, -1.8752e-03],\n",
       "         [-7.1891e-04,  3.0381e-02, -5.1891e-04],\n",
       "         [-1.5591e-03,  5.0185e-02, -1.3591e-03],\n",
       "         [-1.8219e-02,  3.6838e-01, -1.8019e-02],\n",
       "         [ 4.3096e-03, -1.6162e-04,  6.3096e-03],\n",
       "         [ 6.1718e-02, -1.1343e-02,  6.3718e-02],\n",
       "         [-1.9957e-03,  5.2917e-02, -1.7957e-03],\n",
       "         [-1.1304e-02,  2.4208e-01, -1.1104e-02],\n",
       "         [-1.2904e-02,  2.7708e-01, -1.2704e-02],\n",
       "         [-4.1970e-03,  8.7943e-02, -3.9970e-03],\n",
       "         [-6.5655e-03,  1.3831e-01, -6.3655e-03],\n",
       "         [ 4.9899e-02, -8.9795e-03,  5.1899e-02],\n",
       "         [-1.0441e-02,  2.2183e-01, -1.0241e-02],\n",
       "         [ 1.5662e-01, -2.9723e-02,  1.5862e-01],\n",
       "         [-4.4084e-03,  1.0717e-01, -4.2084e-03],\n",
       "         [ 4.5938e-03, -5.1847e-04,  6.5938e-03],\n",
       "         [ 1.4373e-01, -2.8045e-02,  1.4573e-01],\n",
       "         [-1.2864e-02,  2.6728e-01, -1.2664e-02],\n",
       "         [-1.4852e-02,  3.1004e-01, -1.4652e-02],\n",
       "         [ 1.9057e-01, -3.6514e-02,  1.9257e-01],\n",
       "         [-1.1135e-02,  2.4170e-01, -1.0935e-02]], grad_fn=<LeakyReluBackward0>))"
      ]
     },
     "execution_count": 57,
     "metadata": {},
     "output_type": "execute_result"
    }
   ],
   "source": [
    "x = lrelu_res(x)\n",
    "x.size(), x"
   ]
  },
  {
   "cell_type": "markdown",
   "id": "c7cf162c-c5c3-4864-aa74-8d78efacc76c",
   "metadata": {},
   "source": [
    "**Reinsert our batch** \n",
    "\n",
    "Finally now that we have our graph convolutions complete, we'll reinsert our batch dimension.  This will not change values, simply split the incoming tensor down into each batch. "
   ]
  },
  {
   "cell_type": "code",
   "execution_count": 58,
   "id": "cb970fdf-029e-472d-b1f3-b5b43bafbe94",
   "metadata": {},
   "outputs": [
    {
     "data": {
      "text/plain": [
       "(torch.Size([4, 6, 3]),\n",
       " tensor([[[ 3.2642e-02, -6.1281e-03,  3.4642e-02],\n",
       "          [ 3.7139e-02, -6.7275e-03,  3.9139e-02],\n",
       "          [ 3.7444e-02, -6.4885e-03,  3.9444e-02],\n",
       "          [-2.0752e-03,  5.4508e-02, -1.8752e-03],\n",
       "          [-7.1891e-04,  3.0381e-02, -5.1891e-04],\n",
       "          [-1.5591e-03,  5.0185e-02, -1.3591e-03]],\n",
       " \n",
       "         [[-1.8219e-02,  3.6838e-01, -1.8019e-02],\n",
       "          [ 4.3096e-03, -1.6162e-04,  6.3096e-03],\n",
       "          [ 6.1718e-02, -1.1343e-02,  6.3718e-02],\n",
       "          [-1.9957e-03,  5.2917e-02, -1.7957e-03],\n",
       "          [-1.1304e-02,  2.4208e-01, -1.1104e-02],\n",
       "          [-1.2904e-02,  2.7708e-01, -1.2704e-02]],\n",
       " \n",
       "         [[-4.1970e-03,  8.7943e-02, -3.9970e-03],\n",
       "          [-6.5655e-03,  1.3831e-01, -6.3655e-03],\n",
       "          [ 4.9899e-02, -8.9795e-03,  5.1899e-02],\n",
       "          [-1.0441e-02,  2.2183e-01, -1.0241e-02],\n",
       "          [ 1.5662e-01, -2.9723e-02,  1.5862e-01],\n",
       "          [-4.4084e-03,  1.0717e-01, -4.2084e-03]],\n",
       " \n",
       "         [[ 4.5938e-03, -5.1847e-04,  6.5938e-03],\n",
       "          [ 1.4373e-01, -2.8045e-02,  1.4573e-01],\n",
       "          [-1.2864e-02,  2.6728e-01, -1.2664e-02],\n",
       "          [-1.4852e-02,  3.1004e-01, -1.4652e-02],\n",
       "          [ 1.9057e-01, -3.6514e-02,  1.9257e-01],\n",
       "          [-1.1135e-02,  2.4170e-01, -1.0935e-02]]], grad_fn=<ViewBackward0>))"
      ]
     },
     "execution_count": 58,
     "metadata": {},
     "output_type": "execute_result"
    }
   ],
   "source": [
    "x = x.view(B_batch, N_nodes, n_embd)\n",
    "x.size(), x"
   ]
  },
  {
   "cell_type": "markdown",
   "id": "1c8dedd0-1230-400f-86b3-180e6e8b7da3",
   "metadata": {},
   "source": [
    "### Output Layers AKA Model Heads.\n",
    "We've now shown a common pattern for a GCN block including two layers that handle our signed graph and the residual connection. Once those layers are complete during the forward pass we then start the output process that results in our node level and graph level logits which represent the probability of the different classes we're predicting.  \n",
    "\n",
    "<img src=\"explainer_screenshots/gcn/output_layer.png\" width=\"300\">\n",
    "\n",
    "This layer is also known as the model **head**, or in this case \"heads\" and the weights learned are more task specific than the general model itself. What we'll uniquely do in this example is train two heads at once, \n",
    "\n",
    "Once a model is trained, there are processes to swap out the \"head\" and learn new tasks, e.g. go from next token prediction to classification.  In our example case, this is a linear layer mapping the backbone to vocab logits.\n",
    "\n",
    "Recall in the beginning that we discussed that we have 2 goals: predict the cell type and predict if a network is cancerous.  Because we have 2 goals we actually need to train 2 separate heads.  Given GCNs are graphs at the core, there's 2 ways to look at the probabilities, per node level or for a graph.  Per node level creates logit predictions at each node while the graph uses pooling to create graph level logits.  In our case we'll actually create a head for each type.  Our cell type will predict at the node level and cancerous level will predict at the graph level. \n",
    "\n",
    "One thing you'll notice is that our head for GNNs includes bias, something we haven't done in other models. In a GNN, the bias in the heads acts as a learnable intercept that soaks up systematic offsets coming from graph degree normalized aggregation, variable graph sizes, and, in signed graphs, partial cancellation of positive/negative messages. In other models where you have sequence/vision heads, those heads often use weight tying or the head sits after a normalization layer that does similar levels of offset and normalization that bias does. GCN heads often follow pooling or raw node features without a final centering step so the bias therefore captures class priors and size/structure-dependent baselines, improving calibration when labels are sparse and graphs are small.\n",
    "\n",
    "We'll first start with creating our **Node Head** or our cell type logits through a linear projection on the graph convolution output.  From there we'll then create a parallel **Graph Head** using pooling, masking, and then finally a linear projection.   \n"
   ]
  },
  {
   "cell_type": "markdown",
   "id": "c04cca28-117e-4f4c-85d7-6acdfc86a298",
   "metadata": {},
   "source": [
    "#### Output Layer - Node Head\n",
    "Our node level head will predict if a node is more commonly associated with a \"T cell\" or \"B cell\".  We can think of this task as a classification task where the model has to pick for each sample the association.  Since this is classification, we need 2 dimensions for the cell types, `0` for T cell, and `1` for B cell.  This node level head will be shared across all examples and be  the `[classes,n_embed]` dimensionality.  We'll initialize with an incremental stepping of `0.005` similar to how we initialized the embedding layer. This will create a degree of bias to the second class initially but training should help adjust these weights. \n",
    "\n",
    "Also remember that since this is a GNN we also need to initialize bias in our head, in this case we'll start with our epsilon value. \n"
   ]
  },
  {
   "cell_type": "code",
   "execution_count": 59,
   "id": "9912594a-0ef1-4b2d-bf96-a71491f20de2",
   "metadata": {},
   "outputs": [
    {
     "data": {
      "text/plain": [
       "(Parameter containing:\n",
       " tensor([[0.0050, 0.0100, 0.0150],\n",
       "         [0.0100, 0.0150, 0.0200]], requires_grad=True),\n",
       " Parameter containing:\n",
       " tensor([1.0000e-06, 1.0000e-06], requires_grad=True))"
      ]
     },
     "execution_count": 59,
     "metadata": {},
     "output_type": "execute_result"
    }
   ],
   "source": [
    "node_head = nn.Linear(n_embd, 2, bias=True)   # cell-type logits per node\n",
    "with torch.no_grad(): # initilize to W[i,j] = 0.001*(1+i+j) for easy following \n",
    "    vs, d = 2, n_embd\n",
    "    rows = torch.arange(vs).unsqueeze(1)  # (vs,1)\n",
    "    cols = torch.arange(d).unsqueeze(0)  # (1,d)\n",
    "    pattern = 0.005*(1 + rows + cols)  # W[i,j] = 0.001*(1+i+j)\n",
    "    node_head.weight.copy_(pattern)\n",
    "nn.init.constant_(node_head.bias, 1e-6)\n",
    "node_head.weight, node_head.bias"
   ]
  },
  {
   "cell_type": "markdown",
   "id": "22e52ae8-5c26-422d-bbbe-fbc22ffc273b",
   "metadata": {},
   "source": [
    "**Node Head - Output Projection**\n",
    "\n",
    "Now we're ready for our final projection. Since our head is initialized having the incremental values we're automatically skewing towards class `1` instead of `0`, meaning it might be shit. Luckily backpropagation has a way of updating this so that with enough data and time the probabilities change. "
   ]
  },
  {
   "cell_type": "code",
   "execution_count": 60,
   "id": "3aae275c-d291-4786-a44c-5641ae0251c8",
   "metadata": {},
   "outputs": [
    {
     "data": {
      "text/plain": [
       "(torch.Size([4, 6, 2]),\n",
       " tensor([[[0.0006, 0.0009],\n",
       "          [0.0007, 0.0011],\n",
       "          [0.0007, 0.0011],\n",
       "          [0.0005, 0.0008],\n",
       "          [0.0003, 0.0004],\n",
       "          [0.0005, 0.0007]],\n",
       " \n",
       "         [[0.0033, 0.0050],\n",
       "          [0.0001, 0.0002],\n",
       "          [0.0012, 0.0017],\n",
       "          [0.0005, 0.0007],\n",
       "          [0.0022, 0.0033],\n",
       "          [0.0025, 0.0038]],\n",
       " \n",
       "         [[0.0008, 0.0012],\n",
       "          [0.0013, 0.0019],\n",
       "          [0.0009, 0.0014],\n",
       "          [0.0020, 0.0030],\n",
       "          [0.0029, 0.0043],\n",
       "          [0.0010, 0.0015]],\n",
       " \n",
       "         [[0.0001, 0.0002],\n",
       "          [0.0026, 0.0039],\n",
       "          [0.0024, 0.0036],\n",
       "          [0.0028, 0.0042],\n",
       "          [0.0035, 0.0052],\n",
       "          [0.0022, 0.0033]]], grad_fn=<ViewBackward0>))"
      ]
     },
     "execution_count": 60,
     "metadata": {},
     "output_type": "execute_result"
    }
   ],
   "source": [
    "node_logits = node_head(x)   \n",
    "node_logits.size(), node_logits"
   ]
  },
  {
   "cell_type": "markdown",
   "id": "0a5bdb1c-0d05-4a3b-998b-aeb4fffc37c1",
   "metadata": {},
   "source": [
    "#### Output Layer - Graph Head\n",
    "Our graph level head will predict if a network (connection of nodes) is more benign or cancerous.  We can think of this task also as a classification task where the model has to pick for each sample the association.  Since this is classification, we need 2 dimensions for the cell types, `0` for Benign, and `1` for Cancerous.  This node level head will be shared across all examples and be  the `[classes,n_embed]` dimensionality.\n",
    "\n",
    "Before we can run the graph level prediction though, we have to collapse our current graph convolution output. Currently the output `x` is `[4,6,3]` representing our batch, nodes, and embeddings.  Recall that our nodes are all not genes, there's actually two nodes that are cell types. To do our graph level predictions and only focus on the parts of the network focused on the gene edges, we'll use a mask to zero-out the cell dimensions.  That will then be applied to our graph convolution output, then we'll get the node level average, or sum of the embedding channels divided by the number of genes. This is computed by applying the following:\n",
    "\n",
    "$$\n",
    "\\mathbf{z}=\\frac{1}{|G|}\\sum_{i\\in G}\\mathbf{h}_i\n",
    "$$\n",
    "\n",
    "This results in an output of embeddings for each example, or a `[b_batch,n_embd]` tensor.  We then do a final linear projection against our class dimension head to get a final `logits` output. Also remember that since this is a GNN we also need to initialize bias in our head, in this case we'll start with our epsilon value. "
   ]
  },
  {
   "cell_type": "markdown",
   "id": "9ceced0c-f942-47b8-badf-85dcf8917db5",
   "metadata": {},
   "source": [
    "**Graph Head - Creating the mask**  \n",
    "\n",
    "We first create a simple mask that shows only our first 4 dimensions on our tensor pertaining to the gene nodes.   "
   ]
  },
  {
   "cell_type": "code",
   "execution_count": 61,
   "id": "69874254-1dfa-48cc-90f0-ec90464f3a98",
   "metadata": {},
   "outputs": [
    {
     "data": {
      "text/plain": [
       "(torch.Size([1, 6]), tensor([[1., 1., 1., 1., 0., 0.]]))"
      ]
     },
     "execution_count": 61,
     "metadata": {},
     "output_type": "execute_result"
    }
   ],
   "source": [
    "mask = gene_mask.float().unsqueeze(0)\n",
    "mask.size(), mask"
   ]
  },
  {
   "cell_type": "markdown",
   "id": "a3af1c88-0559-4882-b4f8-35d49ecc8f92",
   "metadata": {},
   "source": [
    "**Graph Head - Masked Sum**  \n",
    "\n",
    "We now apply the mask to the graph convolution output.  You can see that this zeros out the tensor entries pertaining to the cell type dimension. After we have that zeroed out we then sum our node dimensions resulting in embeddings for each of our cell types. You can see that at this point we have differing values across all three embedding channels. "
   ]
  },
  {
   "cell_type": "code",
   "execution_count": 62,
   "id": "429945ae-4c77-4e86-9553-7278b82180b6",
   "metadata": {},
   "outputs": [
    {
     "data": {
      "text/plain": [
       "(torch.Size([4, 6, 3]),\n",
       " tensor([[[ 3.2642e-02, -6.1281e-03,  3.4642e-02],\n",
       "          [ 3.7139e-02, -6.7275e-03,  3.9139e-02],\n",
       "          [ 3.7444e-02, -6.4885e-03,  3.9444e-02],\n",
       "          [-2.0752e-03,  5.4508e-02, -1.8752e-03],\n",
       "          [-0.0000e+00,  0.0000e+00, -0.0000e+00],\n",
       "          [-0.0000e+00,  0.0000e+00, -0.0000e+00]],\n",
       " \n",
       "         [[-1.8219e-02,  3.6838e-01, -1.8019e-02],\n",
       "          [ 4.3096e-03, -1.6162e-04,  6.3096e-03],\n",
       "          [ 6.1718e-02, -1.1343e-02,  6.3718e-02],\n",
       "          [-1.9957e-03,  5.2917e-02, -1.7957e-03],\n",
       "          [-0.0000e+00,  0.0000e+00, -0.0000e+00],\n",
       "          [-0.0000e+00,  0.0000e+00, -0.0000e+00]],\n",
       " \n",
       "         [[-4.1970e-03,  8.7943e-02, -3.9970e-03],\n",
       "          [-6.5655e-03,  1.3831e-01, -6.3655e-03],\n",
       "          [ 4.9899e-02, -8.9795e-03,  5.1899e-02],\n",
       "          [-1.0441e-02,  2.2183e-01, -1.0241e-02],\n",
       "          [ 0.0000e+00, -0.0000e+00,  0.0000e+00],\n",
       "          [-0.0000e+00,  0.0000e+00, -0.0000e+00]],\n",
       " \n",
       "         [[ 4.5938e-03, -5.1847e-04,  6.5938e-03],\n",
       "          [ 1.4373e-01, -2.8045e-02,  1.4573e-01],\n",
       "          [-1.2864e-02,  2.6728e-01, -1.2664e-02],\n",
       "          [-1.4852e-02,  3.1004e-01, -1.4652e-02],\n",
       "          [ 0.0000e+00, -0.0000e+00,  0.0000e+00],\n",
       "          [-0.0000e+00,  0.0000e+00, -0.0000e+00]]], grad_fn=<MulBackward0>))"
      ]
     },
     "execution_count": 62,
     "metadata": {},
     "output_type": "execute_result"
    }
   ],
   "source": [
    "x_graph_sum = (x * mask.unsqueeze(-1))\n",
    "x_graph_sum.size(), x_graph_sum"
   ]
  },
  {
   "cell_type": "code",
   "execution_count": 63,
   "id": "2fd6b21c-1b0b-44e6-af84-ee9c8897b6e9",
   "metadata": {},
   "outputs": [
    {
     "data": {
      "text/plain": [
       "(torch.Size([4, 3]),\n",
       " tensor([[0.1051, 0.0352, 0.1113],\n",
       "         [0.0458, 0.4098, 0.0502],\n",
       "         [0.0287, 0.4391, 0.0313],\n",
       "         [0.1206, 0.5488, 0.1250]], grad_fn=<SumBackward1>))"
      ]
     },
     "execution_count": 63,
     "metadata": {},
     "output_type": "execute_result"
    }
   ],
   "source": [
    "x_graph_sum = x_graph_sum.sum(1)\n",
    "x_graph_sum.size(), x_graph_sum"
   ]
  },
  {
   "cell_type": "markdown",
   "id": "716e3923-8185-493c-9d1d-58b4b0e01bcf",
   "metadata": {},
   "source": [
    "**Graph Head - Average Pooling**  \n",
    "\n",
    "To finish our pooling we now have to divide our sums to get a node average per example. This simply requires dividing each row by the number of nodes.  Lucky for us all our entries have the same number so it's a simple division across all entries. "
   ]
  },
  {
   "cell_type": "code",
   "execution_count": 64,
   "id": "a944671d-0196-45f1-b561-849bcdf3c85b",
   "metadata": {},
   "outputs": [
    {
     "data": {
      "text/plain": [
       "tensor([[4.]])"
      ]
     },
     "execution_count": 64,
     "metadata": {},
     "output_type": "execute_result"
    }
   ],
   "source": [
    "denom = mask.sum(1, keepdim=True).clamp_min(1.0) \n",
    "denom"
   ]
  },
  {
   "cell_type": "code",
   "execution_count": 65,
   "id": "673b8f72-54ff-4eee-a605-a151d5290b65",
   "metadata": {},
   "outputs": [
    {
     "data": {
      "text/plain": [
       "(torch.Size([4, 3]),\n",
       " tensor([[0.0263, 0.0088, 0.0278],\n",
       "         [0.0115, 0.1024, 0.0126],\n",
       "         [0.0072, 0.1098, 0.0078],\n",
       "         [0.0302, 0.1372, 0.0313]], grad_fn=<DivBackward0>))"
      ]
     },
     "execution_count": 65,
     "metadata": {},
     "output_type": "execute_result"
    }
   ],
   "source": [
    "pooled = x_graph_sum / denom   \n",
    "pooled.size(), pooled"
   ]
  },
  {
   "cell_type": "markdown",
   "id": "eb03805e-e9c2-4886-99ee-28bb3ab3dd21",
   "metadata": {},
   "source": [
    "**Graph Head - Output Projection**\n",
    "\n",
    "Now we're ready for our final projection. Since our head is initialized having the incremental values we're automatically skewing towards class `1` instead of `0`, meaning it might be shit. Luckily backpropagation has a way of updating this so that with enough data and time the probabilities change. "
   ]
  },
  {
   "cell_type": "code",
   "execution_count": 66,
   "id": "dfb7b240-1533-4911-a897-49db877c9d32",
   "metadata": {},
   "outputs": [
    {
     "data": {
      "text/plain": [
       "(Parameter containing:\n",
       " tensor([[0.0010, 0.0020, 0.0030],\n",
       "         [0.0020, 0.0030, 0.0040]], requires_grad=True),\n",
       " Parameter containing:\n",
       " tensor([1.0000e-06, 1.0000e-06], requires_grad=True))"
      ]
     },
     "execution_count": 66,
     "metadata": {},
     "output_type": "execute_result"
    }
   ],
   "source": [
    "graph_head = nn.Linear(n_embd, 2, bias=True)  # cancer logits per graph\n",
    "with torch.no_grad(): # initilize to W[i,j] = 0.001*(1+i+j) for easy following \n",
    "    vs, d = 2, n_embd\n",
    "    rows = torch.arange(vs).unsqueeze(1)  # (vs,1)\n",
    "    cols = torch.arange(d).unsqueeze(0)  # (1,d)\n",
    "    pattern = 0.001*(1 + rows + cols)  # W[i,j] = 0.001*(1+i+j)\n",
    "    graph_head.weight.copy_(pattern)\n",
    "nn.init.constant_(graph_head.bias, 1e-6) \n",
    "graph_head.weight, graph_head.bias"
   ]
  },
  {
   "cell_type": "code",
   "execution_count": 67,
   "id": "31b7f10e-d109-4f97-8fe4-a555fe0c797f",
   "metadata": {},
   "outputs": [
    {
     "data": {
      "text/plain": [
       "(torch.Size([4, 2]),\n",
       " tensor([[0.0001, 0.0002],\n",
       "         [0.0003, 0.0004],\n",
       "         [0.0003, 0.0004],\n",
       "         [0.0004, 0.0006]], grad_fn=<AddmmBackward0>))"
      ]
     },
     "execution_count": 67,
     "metadata": {},
     "output_type": "execute_result"
    }
   ],
   "source": [
    "graph_logits = graph_head(pooled)  # [B,2]\n",
    "graph_logits.size(), graph_logits"
   ]
  },
  {
   "cell_type": "markdown",
   "id": "b342640c-c90c-40a9-9be1-2ad7a70cf5e4",
   "metadata": {
    "jp-MarkdownHeadingCollapsed": true
   },
   "source": [
    "## Loss calculation"
   ]
  },
  {
   "cell_type": "markdown",
   "id": "3eb1ae70-d061-40fd-9377-3e9f9878d5bf",
   "metadata": {},
   "source": [
    "Now we have to see how good our ~shit~ prediction is.  Since we haven't done training and we saw that regardless of class, for an example we had the same exact logit values, so we can expect it's bad, basically random. That said, we need to know how bad. For this example we'll use cross entropy, also known as the negative log likelihood of the softmax.  Our loss calculates\n",
    "\n",
    "$$\n",
    "\\ell_i=-\\log\\big(\\mathrm{argmax}(z_i)\\_{y_i}\\big)\n",
    "= -z_{i,y_i}+\\log\\!\\sum_{c=1}^C e^{z_{i,c}},\n",
    "$$\n",
    "\n",
    "What's unique in this case is that we actually have 2 heads.  You might wonder how we'll do backprop, but it's simple, we'll just calculate the loss on each head.  For now we'll make it easy and assume that the both losses are equally important to us.  This is tunable though depending on what you value in a graph.  If you value one of the losses more, you can upweight it before summing and, during backprop, that will impact the gradient flow to prioritize that loss. \n",
    "\n",
    "$$\n",
    "\\ell_{total}= \\ell_{node}+\\alpha \\ell_{graph}\n",
    "$$\n",
    "\n",
    "We'll first calculate our node loss and then our graph loss and sum them together. "
   ]
  },
  {
   "cell_type": "code",
   "execution_count": 68,
   "id": "87a2fb89-258c-42c9-92a0-c5a9f34b9ae8",
   "metadata": {},
   "outputs": [],
   "source": [
    "losses = []"
   ]
  },
  {
   "cell_type": "markdown",
   "id": "a908ce7c-5c6b-4117-8dda-1206870ff30d",
   "metadata": {},
   "source": [
    "**Node Loss**\n",
    "\n",
    "For our node loss, we again need to employ a mask.  This mask helps with our loss to avoid including the cell type level nodes in our prediction as we primarily want to understand which node, or gene, predicts which cell type.  After we create the mask, we slice our node logits (nodes for each example) and label `y_node` for those and then calculate the loss. You'll see because our logits are equal, our loss is random. You'll also notice that the valid masking removes the batch dimension to simplify the loss calculation as it does not care about batches. Finally we also append our loss to `losses` so we can do the final summation. "
   ]
  },
  {
   "cell_type": "code",
   "execution_count": 69,
   "id": "f7521890-e6bb-4841-87af-3e809427dbce",
   "metadata": {},
   "outputs": [
    {
     "data": {
      "text/plain": [
       "tensor([[ True,  True,  True,  True, False, False],\n",
       "        [ True,  True,  True,  True, False, False],\n",
       "        [ True,  True,  True,  True, False, False],\n",
       "        [ True,  True,  True,  True, False, False]])"
      ]
     },
     "execution_count": 69,
     "metadata": {},
     "output_type": "execute_result"
    }
   ],
   "source": [
    "valid = (gene_mask & (y_node>=0))\n",
    "valid"
   ]
  },
  {
   "cell_type": "code",
   "execution_count": 70,
   "id": "480f7beb-bf12-45ef-a7db-262e8fc3df06",
   "metadata": {},
   "outputs": [
    {
     "data": {
      "text/plain": [
       "(tensor([[0.0006, 0.0009],\n",
       "         [0.0007, 0.0011],\n",
       "         [0.0007, 0.0011],\n",
       "         [0.0005, 0.0008],\n",
       "         [0.0033, 0.0050],\n",
       "         [0.0001, 0.0002],\n",
       "         [0.0012, 0.0017],\n",
       "         [0.0005, 0.0007],\n",
       "         [0.0008, 0.0012],\n",
       "         [0.0013, 0.0019],\n",
       "         [0.0009, 0.0014],\n",
       "         [0.0020, 0.0030],\n",
       "         [0.0001, 0.0002],\n",
       "         [0.0026, 0.0039],\n",
       "         [0.0024, 0.0036],\n",
       "         [0.0028, 0.0042]], grad_fn=<IndexBackward0>),\n",
       " tensor([0, 0, 0, 1, 0, 1, 0, 1, 1, 0, 0, 1, 0, 0, 1, 1]))"
      ]
     },
     "execution_count": 70,
     "metadata": {},
     "output_type": "execute_result"
    }
   ],
   "source": [
    "valid_node_logits = node_logits[valid]\n",
    "valid_y_node = y_node[valid]\n",
    "valid_node_logits, valid_y_node"
   ]
  },
  {
   "cell_type": "code",
   "execution_count": 71,
   "id": "3c1a5843-c2db-4340-9ece-8d8207146ccf",
   "metadata": {},
   "outputs": [
    {
     "data": {
      "text/plain": [
       "tensor(0.6932, grad_fn=<NllLossBackward0>)"
      ]
     },
     "execution_count": 71,
     "metadata": {},
     "output_type": "execute_result"
    }
   ],
   "source": [
    "nl = F.cross_entropy(valid_node_logits, valid_y_node)\n",
    "losses.append(nl)\n",
    "nl"
   ]
  },
  {
   "cell_type": "markdown",
   "id": "f56d9cc2-95d9-4209-aee0-5bc79aeffa74",
   "metadata": {},
   "source": [
    "**Graph Loss**\n",
    "\n",
    "For our graph loss, we do not need a mask since we included it during pooling and we've already collapsed our dimensions down.  At this point we  just pass in the graph logits and our labels stored in `y_graph`.  We'll also append the loss to `losses`. Notice that our current logits are equal per example so we will expect our loss to be close to random.  "
   ]
  },
  {
   "cell_type": "code",
   "execution_count": 72,
   "id": "b2484471-c5a1-4e4b-9a4f-2b9f41422614",
   "metadata": {},
   "outputs": [
    {
     "data": {
      "text/plain": [
       "(tensor([[0.0001, 0.0002],\n",
       "         [0.0003, 0.0004],\n",
       "         [0.0003, 0.0004],\n",
       "         [0.0004, 0.0006]], grad_fn=<AddmmBackward0>),\n",
       " tensor([0, 1, 1, 1]))"
      ]
     },
     "execution_count": 72,
     "metadata": {},
     "output_type": "execute_result"
    }
   ],
   "source": [
    "graph_logits, y_graph"
   ]
  },
  {
   "cell_type": "code",
   "execution_count": 73,
   "id": "58fda360-8684-4610-9af3-cd202e8f1ad2",
   "metadata": {},
   "outputs": [
    {
     "data": {
      "text/plain": [
       "tensor(0.6931, grad_fn=<NllLossBackward0>)"
      ]
     },
     "execution_count": 73,
     "metadata": {},
     "output_type": "execute_result"
    }
   ],
   "source": [
    "gl = F.cross_entropy(graph_logits, y_graph)\n",
    "losses.append(gl)\n",
    "gl"
   ]
  },
  {
   "cell_type": "markdown",
   "id": "08d7ecdb-367c-4422-b167-929367e3c2e1",
   "metadata": {},
   "source": [
    "**Sum Loss**\n",
    "\n",
    "Now that we have each loss we finally have to complete the sum:\n",
    "\n",
    "$$\n",
    "\\ell_{total}= \\ell_{node}+\\alpha \\ell_{graph}\n",
    "$$\n",
    "\n",
    "For this example we'll weigh each loss equally so we can ignore the alpha. "
   ]
  },
  {
   "cell_type": "code",
   "execution_count": 74,
   "id": "be018565-25a6-4011-b993-adce11a09ed7",
   "metadata": {},
   "outputs": [
    {
     "data": {
      "text/plain": [
       "tensor(1.3863, grad_fn=<AddBackward0>)"
      ]
     },
     "execution_count": 74,
     "metadata": {},
     "output_type": "execute_result"
    }
   ],
   "source": [
    "loss = sum(losses) \n",
    "loss"
   ]
  },
  {
   "cell_type": "markdown",
   "id": "e2e9f666-5438-4a74-b3d7-142da1c078f8",
   "metadata": {},
   "source": [
    "## Back Propagation"
   ]
  },
  {
   "cell_type": "markdown",
   "id": "070b9c23-837c-4824-922d-c50b07bbaeaa",
   "metadata": {},
   "source": [
    "We now know just how ~well~ terribly the current model, with its weights and biases, predicts the next token given the input context. We now need to know how to change the different weights and biases to improve the formula.  We could do this by guessing through making minor changes and seeing what improves, or we can think through this more critically.\n",
    "\n",
    "If you review the chain of layers above, you can see that it's a series of formulas.  We can think of this as $f(g(x))$, except with many many more layers and complexities.  Since this is a formula, we can dig into our math toolbox and find a better way to determine what parts need to update.  Recall that in our calculus we learned that differentiation tells us the rate of change in a graph.  So if we treat the loss function $\\mathcal{L}$ as $\\mathcal{L}(f(g(x)))$ taking the partial differential \n",
    "\n",
    "$\\delta=\\partial \\mathcal{L}/\\partial h$\n",
    "\n",
    "at each layer will give us the impact of each weight/bias on our final out (albeit the inverse since our loss function is the negative log likelihood). \n",
    "\n",
    "Lucky for us, each layer of our model already has a placeholder for the partial differential called the **Gradient**. We'll use this field to store it.  We'll start by first zeroing out the gradients. We do this because of the nature of handling partial differentials for multiple dependencies. Recall that in multiple places we had a formula structure of \n",
    "\n",
    "$a+b=c ; a+c= d$\n",
    "\n",
    "In this case $a$ has 2 dependencies and determining the partial derivative of $\\partial d / \\partial a$ requires understanding both the path from $d$ and $c$.  To determine the true impact of a we would sum both partial derivatives together.  Because of this property, the tool we use, the built in `.backwards()` automatically sums gradients, `+=`, so if we do not set the gradient to `0` we then end up with erroneous gradients. \n",
    "\n",
    "Finally, we start `.backwards` from the `loss`, not `logits` as our goal is to minimize loss, we need to ensure we are looking at the calculations that impact loss which requires the whole forward pass to be able to generate the prediction `logits_flat`.  If we think of it as $\\mathcal{L}(f(x))$ where $f(x)$ is the forward pass to generate logits, then a simple chain rule is applied:\n",
    "\n",
    "${\\partial}/{\\partial x} =  \\mathcal{L}'(f(x)) f'(x)$\n",
    "\n",
    "Lets start by zeroing the gradients and leaning on pytorch to calculate the gradients for us. We'll also validate the gradients were `none`."
   ]
  },
  {
   "cell_type": "markdown",
   "id": "0044f323-bd0f-4d09-a0db-0e0d8ddc5f2a",
   "metadata": {},
   "source": [
    "### Back Propagation - Zero out gradients\n",
    "\n",
    "Before we start we have to zero our gradients to make sure there's nothing in them.  Recall that when we run  `.backwards()` it automatically sums gradients if there are multiple paths so zeroing out ensure no erroneous measures.  \n",
    "\n",
    "Two things to notice: \n",
    "1. Our pooling step is not included.  While pooling does pass through gradients, it is stateless, meaning there are no learnable parameters, so the layer does not have gradient buffers to clear. The step itself is differentiable though so gradients flow through it back to upstream parameters.\n",
    "2. Our convolutional layers use a special reset.  Since we manually built the layers using `nn.Parameter` they do not have the typical gradient and weight functions that layers have, but the layers are learnable.  Because of this they do have gradient buffers but no magic function to clear them so we have to clear them manually.  "
   ]
  },
  {
   "cell_type": "code",
   "execution_count": 75,
   "id": "69a68b2e-2bbd-4809-b8eb-4031ed23ce5f",
   "metadata": {},
   "outputs": [
    {
     "data": {
      "text/plain": [
       "(None, None, None)"
      ]
     },
     "execution_count": 75,
     "metadata": {},
     "output_type": "execute_result"
    }
   ],
   "source": [
    "#output layers\n",
    "graph_head.zero_grad()\n",
    "node_head.zero_grad()\n",
    "\n",
    "#GCN block\n",
    "bn_b.zero_grad()\n",
    "gcn_2_neg.zero_grad()\n",
    "gcn_2_pos.zero_grad()\n",
    "bn_a.zero_grad()\n",
    "gcn_1_neg.zero_grad()\n",
    "gcn_1_pos.zero_grad()\n",
    "\n",
    "#input layer\n",
    "tok_emb.zero_grad()\n",
    "\n",
    "# validate gradients\n",
    "graph_head.weight.grad,node_head.weight.grad,tok_emb.weight.grad"
   ]
  },
  {
   "cell_type": "markdown",
   "id": "5776d30c-045c-4db4-8018-64b98b558570",
   "metadata": {},
   "source": [
    "### Back Propagation - Auto Diff\n",
    "\n",
    "Now let's see the magic of the gradients populate.  This magic is called auto-differentiation, or auto-diff for short. This allows us to not have to write many layers of nasty code to do the differentiation for us, but, if you're a sadist, you can surely find people who have written out that code (it's not too bad since you just do one layer at a time). \n",
    "\n",
    "Recall that our loss is actually the sum of the loss across multiple heads. The beauty here is that because we used a sum, the gradient will be distributed across both and join as we reach each layer, helping ensure that the graph is optimizing both heads at the same time. "
   ]
  },
  {
   "cell_type": "code",
   "execution_count": 76,
   "id": "fa249655-cce1-4cf1-bbd9-ac6033513ff4",
   "metadata": {},
   "outputs": [],
   "source": [
    "loss.backward()"
   ]
  },
  {
   "cell_type": "markdown",
   "id": "a9fdca7a-ec26-483d-b98c-3a7a490ce660",
   "metadata": {},
   "source": [
    "Now we will revisualize our gradients and see that they contain values, just like we wanted."
   ]
  },
  {
   "cell_type": "code",
   "execution_count": 77,
   "id": "b833418f-6a5d-4d6a-8c81-d9ba6320c321",
   "metadata": {},
   "outputs": [
    {
     "data": {
      "text/plain": [
       "(tensor([[ 0.0028,  0.0426,  0.0030],\n",
       "         [-0.0028, -0.0426, -0.0030]]),\n",
       " tensor([[-0.0120,  0.0173, -0.0124],\n",
       "         [ 0.0120, -0.0173,  0.0124]]),\n",
       " tensor([[-0.0023, -0.0052, -0.0023],\n",
       "         [-0.0044, -0.0090, -0.0044],\n",
       "         [-0.0116, -0.0242, -0.0116],\n",
       "         [ 0.0009,  0.0012,  0.0009],\n",
       "         [ 0.0105,  0.0211,  0.0105],\n",
       "         [-0.0006, -0.0013, -0.0006]]),\n",
       " tensor([ 5.5718e-05, -1.2564e-04,  5.5718e-05]),\n",
       " tensor([[ 0.0002,  0.0008,  0.0001],\n",
       "         [-0.0003, -0.0015, -0.0003],\n",
       "         [ 0.0002,  0.0008,  0.0001]]),\n",
       " tensor([ 9.9687e-08, -1.6229e-05,  2.3857e-06]),\n",
       " tensor([[ 0.0032,  0.0040,  0.0047],\n",
       "         [-0.0051, -0.0062, -0.0073],\n",
       "         [ 0.0019,  0.0022,  0.0026]]))"
      ]
     },
     "execution_count": 77,
     "metadata": {},
     "output_type": "execute_result"
    }
   ],
   "source": [
    "(graph_head.weight.grad,node_head.weight.grad,tok_emb.weight.grad, \n",
    "bn_b.weight.grad,gcn_2_pos.weight.grad,bn_a.weight.grad,gcn_1_pos.weight.grad)\n"
   ]
  },
  {
   "cell_type": "markdown",
   "id": "b8b2fa4d-c2f4-4a85-844d-bf1165b64699",
   "metadata": {},
   "source": [
    "## Gradient Clipping"
   ]
  },
  {
   "cell_type": "markdown",
   "id": "0cc4db83-db37-414a-8828-2991456e7534",
   "metadata": {},
   "source": [
    "In GNNs, backpropagated signals traverse the graph via repeated multiplications by the adjacency (A), so when we want to model distant node interactions through the use of deeper stacks, gradients can spike rapidly for hubs/high-degree regions, or poorly scaled signed edges. Additionally, irregular graph topology (variable degrees, component sizes) and graph-level pooling also make gradient magnitudes highly sample-dependent, so a single complex, or \"hard\" graph can cause catastrophic updates. When graphs add the signed layer like ours, subtractive positive/negative channels can create oscillatory dynamics that further amplify bursts. \n",
    "\n",
    "Gradient clipping caps these rare but dangerous surges, stabilizing training, preserving a usable learning rate, and reducing sensitivity to graph heterogeneity without masking genuine signals. Gradient clipping caps the global gradient, in our case to `1.0`, to prevent runaway steps, numerical overflow, and unstable updates.\n",
    "\n",
    "Since none of our gradients are currently above 1, we will not see an impact of gradient clipping but I did want to introduce the concept as it is an important component. "
   ]
  },
  {
   "cell_type": "code",
   "execution_count": 78,
   "id": "6d66ffe8-0345-4fea-9bc5-ec29a8e386f5",
   "metadata": {},
   "outputs": [
    {
     "data": {
      "text/plain": [
       "(tensor([[ 0.0028,  0.0426,  0.0030],\n",
       "         [-0.0028, -0.0426, -0.0030]]),\n",
       " tensor([[-0.0120,  0.0173, -0.0124],\n",
       "         [ 0.0120, -0.0173,  0.0124]]),\n",
       " tensor([[-0.0023, -0.0052, -0.0023],\n",
       "         [-0.0044, -0.0090, -0.0044],\n",
       "         [-0.0116, -0.0242, -0.0116],\n",
       "         [ 0.0009,  0.0012,  0.0009],\n",
       "         [ 0.0105,  0.0211,  0.0105],\n",
       "         [-0.0006, -0.0013, -0.0006]]))"
      ]
     },
     "execution_count": 78,
     "metadata": {},
     "output_type": "execute_result"
    }
   ],
   "source": [
    "nn.utils.clip_grad_norm_(graph_head.parameters(), 1.0)\n",
    "nn.utils.clip_grad_norm_(node_head.parameters(), 1.0)\n",
    "\n",
    "nn.utils.clip_grad_norm_(bn_b.parameters(), 1.0)\n",
    "nn.utils.clip_grad_norm_(gcn_2_neg.parameters(), 1.0)\n",
    "nn.utils.clip_grad_norm_(gcn_2_pos.parameters(), 1.0)\n",
    "nn.utils.clip_grad_norm_(bn_a.parameters(), 1.0)\n",
    "nn.utils.clip_grad_norm_(gcn_1_neg.parameters(), 1.0)\n",
    "nn.utils.clip_grad_norm_(gcn_1_pos.parameters(), 1.0)\n",
    "\n",
    "nn.utils.clip_grad_norm_(tok_emb.parameters(), 1.0)\n",
    "\n",
    "graph_head.weight.grad,node_head.weight.grad,tok_emb.weight.grad"
   ]
  },
  {
   "cell_type": "markdown",
   "id": "42ea5429-9572-4c68-8d24-fde989a1290a",
   "metadata": {},
   "source": [
    "## Learning"
   ]
  },
  {
   "cell_type": "markdown",
   "id": "5f733e31-7577-452c-b158-de94c7572688",
   "metadata": {},
   "source": [
    "The process of learning now requires us to update our weights based on this gradient. To really feel the \"back propagation\" we'll start with the last layer and work backwards, though, since we have all of the gradients calculated already, the order does not matter. Recall that our loss function is the negative log likelihood ratio so our gradient signs are flipped.  If a parameter is important, the gradient will be more negative, and vice versa. The gradients are a ratio of importance of each parameter and we need to know how much of that gradient to apply to our weights. This \"how much\" is referred to as the *learning rate*. In modern training learning rate schedulers and optimizers are used to vary the rate and application by layer and by training round with learning rates that are small (e.g. 1e-3) and decaying. \n",
    "\n",
    "We however are trying to learn and if you look at the gradient above in most layers it's tiny (~1e-4).  If we used a typical learning rate scheduler, with our batch size, and just 1 pass, the second pass would just have the same values and we wouldn't learn anything new.  Because of this we'll use a very high learning rate of `5.000` so that we amplify the learning from a single pass and can see the weights change. As a warning, DO NOT DO THIS IN REAL TRAINING. If you did your model would most likely not converge. "
   ]
  },
  {
   "cell_type": "code",
   "execution_count": 79,
   "id": "867a19fb-3ab8-4f7a-b74b-f956a5a94b74",
   "metadata": {},
   "outputs": [],
   "source": [
    "## Huge learning rate to emphasize\n",
    "lr = 5.000"
   ]
  },
  {
   "cell_type": "markdown",
   "id": "6d0ed666-e343-4a88-9160-e7885c8823e8",
   "metadata": {},
   "source": [
    "### Output Layer\n",
    "Let's start with our output layer.  Recall that we initialized the weights to increments of `0.001` for the graph_head and `0.005` for the node_head so we can quickly see the impact of the gradient update on the weights. This layer has some of the largest gradients so using the high learning rate radically shifts the values.  You can see also that the model is adjusting to downweight the first class and upweight the second class in the graph_head while having more ambiguity on the node_head.  Also the model seems to be learning from the different channels as we can see the weights shifting across the `n_embd` dimensions.  \n",
    "\n",
    "On the bias though we're seeing interesting symmetry, hard to explain why, but it could be acting almost as an overwrite for the network.  This could highlight the smoothing power of it. "
   ]
  },
  {
   "cell_type": "code",
   "execution_count": 80,
   "id": "3609d4b6-5e30-4125-85b4-a6d335332e23",
   "metadata": {},
   "outputs": [
    {
     "data": {
      "text/plain": [
       "(Parameter containing:\n",
       " tensor([[-0.0131, -0.2109, -0.0119],\n",
       "         [ 0.0161,  0.2159,  0.0189]], requires_grad=True),\n",
       " Parameter containing:\n",
       " tensor([-0.2500,  0.2500], requires_grad=True))"
      ]
     },
     "execution_count": 80,
     "metadata": {},
     "output_type": "execute_result"
    }
   ],
   "source": [
    "with torch.no_grad():\n",
    "    graph_head.weight -= lr * graph_head.weight.grad\n",
    "    graph_head.bias -= graph_head.bias.grad\n",
    "graph_head.weight, graph_head.bias"
   ]
  },
  {
   "cell_type": "code",
   "execution_count": 81,
   "id": "33da3813-fecd-40aa-b867-2841839146e4",
   "metadata": {},
   "outputs": [
    {
     "data": {
      "text/plain": [
       "(Parameter containing:\n",
       " tensor([[ 0.0651, -0.0767,  0.0768],\n",
       "         [-0.0501,  0.1017, -0.0418]], requires_grad=True),\n",
       " Parameter containing:\n",
       " tensor([ 0.0627, -0.0627], requires_grad=True))"
      ]
     },
     "execution_count": 81,
     "metadata": {},
     "output_type": "execute_result"
    }
   ],
   "source": [
    "with torch.no_grad():\n",
    "    node_head.weight -= lr * node_head.weight.grad\n",
    "    node_head.bias -= node_head.bias.grad\n",
    "node_head.weight, node_head.bias"
   ]
  },
  {
   "cell_type": "markdown",
   "id": "c2711556-2090-4a5e-86d5-d0b86535028a",
   "metadata": {},
   "source": [
    "### GCN Unit - Main Pass\n",
    "Now we'll update our graph convolution layers.  Recall we initiated our layer norm layers to `1.000` and used pyramidal initiation for our graph convolution layers.   We can see that with our learning, all of the layers were pushed away from their initiation.  \n",
    "\n",
    "For our layer norm we can see some of the symmetry of the first and last column compared to the middle column propagating into the weights.  It would be interesting to see if this persists with many training loops as it is likely an artifact of our initiation of the graph convolution layers. \n",
    "\n",
    "For the graph convolution layers we can start seeing a push away from the pyramidal structure.  The second layer has far smaller shifts at this point with larger shifts in the first layer. This shows that the graph is favoring information from the first connection (Cell type > gene) more than the gene back to the cell type. "
   ]
  },
  {
   "cell_type": "code",
   "execution_count": 82,
   "id": "2681132e-396e-4e2d-a631-c16549db366f",
   "metadata": {},
   "outputs": [
    {
     "data": {
      "text/plain": [
       "(Parameter containing:\n",
       " tensor([0.9997, 1.0006, 0.9997], requires_grad=True),\n",
       " Parameter containing:\n",
       " tensor([-0.0008,  0.0007, -0.0008], requires_grad=True))"
      ]
     },
     "execution_count": 82,
     "metadata": {},
     "output_type": "execute_result"
    }
   ],
   "source": [
    "with torch.no_grad():\n",
    "    bn_b.weight -= lr * bn_b.weight.grad\n",
    "    bn_b.bias -= bn_b.bias.grad\n",
    "bn_b.weight, bn_b.bias"
   ]
  },
  {
   "cell_type": "code",
   "execution_count": 83,
   "id": "044c0888-2f58-4ab6-a9cb-4d2cc9ca2d1e",
   "metadata": {},
   "outputs": [
    {
     "data": {
      "text/plain": [
       "(Parameter containing:\n",
       " tensor([[0.0508, 0.1034, 0.0509],\n",
       "         [0.0984, 0.1933, 0.0983],\n",
       "         [0.0508, 0.1034, 0.0509]], requires_grad=True),\n",
       " Parameter containing:\n",
       " tensor([ 0.1574, -0.3148,  0.1574], requires_grad=True))"
      ]
     },
     "execution_count": 83,
     "metadata": {},
     "output_type": "execute_result"
    }
   ],
   "source": [
    "with torch.no_grad():\n",
    "    gcn_2_neg.weight -= lr * gcn_2_neg.weight.grad\n",
    "    gcn_2_neg.bias -= gcn_2_neg.bias.grad\n",
    "gcn_2_neg.weight, gcn_2_neg.bias"
   ]
  },
  {
   "cell_type": "code",
   "execution_count": 84,
   "id": "84eb3371-cc12-47de-982f-839cada1289a",
   "metadata": {},
   "outputs": [
    {
     "data": {
      "text/plain": [
       "(Parameter containing:\n",
       " tensor([[0.0492, 0.0962, 0.0493],\n",
       "         [0.1016, 0.2075, 0.1015],\n",
       "         [0.0492, 0.0962, 0.0493]], requires_grad=True),\n",
       " Parameter containing:\n",
       " tensor([-0.1574,  0.3148, -0.1574], requires_grad=True))"
      ]
     },
     "execution_count": 84,
     "metadata": {},
     "output_type": "execute_result"
    }
   ],
   "source": [
    "with torch.no_grad():\n",
    "    gcn_2_pos.weight -= lr * gcn_2_pos.weight.grad\n",
    "    gcn_2_pos.bias -= gcn_2_pos.bias.grad\n",
    "gcn_2_pos.weight, gcn_2_pos.bias"
   ]
  },
  {
   "cell_type": "code",
   "execution_count": 85,
   "id": "a35a25f5-f4a9-43c0-a14c-a22490d09a25",
   "metadata": {},
   "outputs": [
    {
     "data": {
      "text/plain": [
       "(Parameter containing:\n",
       " tensor([1.0000, 1.0001, 1.0000], requires_grad=True),\n",
       " Parameter containing:\n",
       " tensor([-0.0010,  0.0069,  0.0006], requires_grad=True))"
      ]
     },
     "execution_count": 85,
     "metadata": {},
     "output_type": "execute_result"
    }
   ],
   "source": [
    "with torch.no_grad():\n",
    "    bn_a.weight -= lr * bn_a.weight.grad\n",
    "    bn_a.bias -= bn_a.bias.grad\n",
    "bn_a.weight, bn_a.bias"
   ]
  },
  {
   "cell_type": "code",
   "execution_count": 86,
   "id": "3a0f84a2-47b5-429b-a01f-20d9327fe57b",
   "metadata": {},
   "outputs": [
    {
     "data": {
      "text/plain": [
       "(Parameter containing:\n",
       " tensor([[0.0191, 0.0299, 0.0207],\n",
       "         [0.0052, 0.0244, 0.0036],\n",
       "         [0.0157, 0.0257, 0.0157]], requires_grad=True),\n",
       " Parameter containing:\n",
       " tensor([ 0.5361, -0.8014,  0.2652], requires_grad=True))"
      ]
     },
     "execution_count": 86,
     "metadata": {},
     "output_type": "execute_result"
    }
   ],
   "source": [
    "with torch.no_grad():\n",
    "    gcn_1_neg.weight -= lr * gcn_1_neg.weight.grad\n",
    "    gcn_1_neg.bias -= gcn_1_neg.bias.grad\n",
    "gcn_1_neg.weight, gcn_1_neg.bias"
   ]
  },
  {
   "cell_type": "code",
   "execution_count": 87,
   "id": "ac89824a-ed26-4561-a382-906b2b96fb2c",
   "metadata": {},
   "outputs": [
    {
     "data": {
      "text/plain": [
       "(Parameter containing:\n",
       " tensor([[ 0.0015,  0.0094, -0.0027],\n",
       "         [ 0.0335,  0.0566,  0.0396],\n",
       "         [ 0.0050,  0.0140,  0.0031]], requires_grad=True),\n",
       " Parameter containing:\n",
       " tensor([-0.5361,  0.8014, -0.2652], requires_grad=True))"
      ]
     },
     "execution_count": 87,
     "metadata": {},
     "output_type": "execute_result"
    }
   ],
   "source": [
    "with torch.no_grad():\n",
    "    gcn_1_pos.weight -= lr * gcn_1_pos.weight.grad\n",
    "    gcn_1_pos.bias -= gcn_1_pos.bias.grad\n",
    "gcn_1_pos.weight, gcn_1_pos.bias"
   ]
  },
  {
   "cell_type": "markdown",
   "id": "308b1ce4-bfc0-4c50-b97b-972f9ccc5081",
   "metadata": {},
   "source": [
    "### Input Layer\n",
    "Finally we'll update our input layer.  Recall that this was incremented with a sliding increment as well and has no bias.  Here we can again see that the layer seems to be learning the pyramidal structure of our convolution layers where the middle channel is higher than the two outside.  This shows the dangers of poor initiation but it does show the model overall balancing and learning. "
   ]
  },
  {
   "cell_type": "code",
   "execution_count": 88,
   "id": "26c61496-e0da-4de1-8ebb-e7fbf3514c7b",
   "metadata": {},
   "outputs": [
    {
     "data": {
      "text/plain": [
       "Parameter containing:\n",
       "tensor([[ 0.0123,  0.0278,  0.0143],\n",
       "        [ 0.0241,  0.0478,  0.0261],\n",
       "        [ 0.0611,  0.1252,  0.0631],\n",
       "        [-0.0004, -0.0010,  0.0016],\n",
       "        [-0.0477, -0.0994, -0.0457],\n",
       "        [ 0.0092,  0.0133,  0.0112]], requires_grad=True)"
      ]
     },
     "execution_count": 88,
     "metadata": {},
     "output_type": "execute_result"
    }
   ],
   "source": [
    "with torch.no_grad():\n",
    "    tok_emb.weight -= lr * tok_emb.weight.grad\n",
    "tok_emb.weight"
   ]
  },
  {
   "cell_type": "markdown",
   "id": "c558eb69-c42c-4505-97cf-66b0b4c91270",
   "metadata": {},
   "source": [
    "## Forward Pass with Updated Weights"
   ]
  },
  {
   "cell_type": "markdown",
   "id": "3b0a4619-31e5-4a48-a779-505a511be125",
   "metadata": {},
   "source": [
    "Now that we have the updated weights for each layer, let's do another forward pass and compare the loss. Since each layer was previously explained we will instead focus on just showing the outputs of the different layers and the final loss. If you want, you can check the previous outputs in the cached cell outputs above and compare them to see how the weight changes impacted the values at each layer. \n",
    "\n",
    "You'll notice that because of our high learning rate we're able to see how each layer now shifts the embedding values as the input passes through them. "
   ]
  },
  {
   "cell_type": "markdown",
   "id": "c0a2e1b1-b65a-430d-ade3-a3de1dfb9557",
   "metadata": {},
   "source": [
    "### Data Re-loading\n",
    "Since we didn't reuse any input variables, we'll just recall them and use them again"
   ]
  },
  {
   "cell_type": "code",
   "execution_count": 89,
   "id": "1963276c-fbb9-4ec1-8735-6dce7686efaf",
   "metadata": {},
   "outputs": [
    {
     "data": {
      "text/plain": [
       "(tensor([[0, 1, 2, 3, 4, 5],\n",
       "         [0, 1, 2, 3, 4, 5],\n",
       "         [0, 1, 2, 3, 4, 5],\n",
       "         [0, 1, 2, 3, 4, 5]]),\n",
       " tensor([[ 0,  0,  0,  1, -1, -1],\n",
       "         [ 0,  1,  0,  1, -1, -1],\n",
       "         [ 1,  0,  0,  1, -1, -1],\n",
       "         [ 0,  0,  1,  1, -1, -1]]),\n",
       " tensor([0, 1, 1, 1]),\n",
       " tensor([ True,  True,  True,  True, False, False]))"
      ]
     },
     "execution_count": 89,
     "metadata": {},
     "output_type": "execute_result"
    }
   ],
   "source": [
    "x_tokens, y_node, y_graph, gene_mask"
   ]
  },
  {
   "cell_type": "code",
   "execution_count": 90,
   "id": "87864fa9-37f9-456b-8ac4-9f57ad582fee",
   "metadata": {},
   "outputs": [
    {
     "data": {
      "text/plain": [
       "(tensor([[0.5000, 0.0000, 0.0000, 0.0000, 0.3536, 0.0000, 0.0000, 0.0000, 0.0000,\n",
       "          0.0000, 0.0000, 0.0000, 0.0000, 0.0000, 0.0000, 0.0000, 0.0000, 0.0000,\n",
       "          0.0000, 0.0000, 0.0000, 0.0000, 0.0000, 0.0000],\n",
       "         [0.0000, 0.5000, 0.0000, 0.0000, 0.3536, 0.0000, 0.0000, 0.0000, 0.0000,\n",
       "          0.0000, 0.0000, 0.0000, 0.0000, 0.0000, 0.0000, 0.0000, 0.0000, 0.0000,\n",
       "          0.0000, 0.0000, 0.0000, 0.0000, 0.0000, 0.0000],\n",
       "         [0.0000, 0.0000, 0.5000, 0.0000, 0.3536, 0.0000, 0.0000, 0.0000, 0.0000,\n",
       "          0.0000, 0.0000, 0.0000, 0.0000, 0.0000, 0.0000, 0.0000, 0.0000, 0.0000,\n",
       "          0.0000, 0.0000, 0.0000, 0.0000, 0.0000, 0.0000],\n",
       "         [0.0000, 0.0000, 0.0000, 0.5000, 0.0000, 0.5000, 0.0000, 0.0000, 0.0000,\n",
       "          0.0000, 0.0000, 0.0000, 0.0000, 0.0000, 0.0000, 0.0000, 0.0000, 0.0000,\n",
       "          0.0000, 0.0000, 0.0000, 0.0000, 0.0000, 0.0000],\n",
       "         [0.3536, 0.3536, 0.3536, 0.0000, 0.2500, 0.0000, 0.0000, 0.0000, 0.0000,\n",
       "          0.0000, 0.0000, 0.0000, 0.0000, 0.0000, 0.0000, 0.0000, 0.0000, 0.0000,\n",
       "          0.0000, 0.0000, 0.0000, 0.0000, 0.0000, 0.0000],\n",
       "         [0.0000, 0.0000, 0.0000, 0.5000, 0.0000, 0.5000, 0.0000, 0.0000, 0.0000,\n",
       "          0.0000, 0.0000, 0.0000, 0.0000, 0.0000, 0.0000, 0.0000, 0.0000, 0.0000,\n",
       "          0.0000, 0.0000, 0.0000, 0.0000, 0.0000, 0.0000],\n",
       "         [0.0000, 0.0000, 0.0000, 0.0000, 0.0000, 0.0000, 0.3333, 0.0000, 0.0000,\n",
       "          0.0000, 0.3333, 0.2887, 0.0000, 0.0000, 0.0000, 0.0000, 0.0000, 0.0000,\n",
       "          0.0000, 0.0000, 0.0000, 0.0000, 0.0000, 0.0000],\n",
       "         [0.0000, 0.0000, 0.0000, 0.0000, 0.0000, 0.0000, 0.0000, 0.5000, 0.0000,\n",
       "          0.0000, 0.0000, 0.3536, 0.0000, 0.0000, 0.0000, 0.0000, 0.0000, 0.0000,\n",
       "          0.0000, 0.0000, 0.0000, 0.0000, 0.0000, 0.0000],\n",
       "         [0.0000, 0.0000, 0.0000, 0.0000, 0.0000, 0.0000, 0.0000, 0.0000, 0.5000,\n",
       "          0.0000, 0.4082, 0.0000, 0.0000, 0.0000, 0.0000, 0.0000, 0.0000, 0.0000,\n",
       "          0.0000, 0.0000, 0.0000, 0.0000, 0.0000, 0.0000],\n",
       "         [0.0000, 0.0000, 0.0000, 0.0000, 0.0000, 0.0000, 0.0000, 0.0000, 0.0000,\n",
       "          0.5000, 0.0000, 0.3536, 0.0000, 0.0000, 0.0000, 0.0000, 0.0000, 0.0000,\n",
       "          0.0000, 0.0000, 0.0000, 0.0000, 0.0000, 0.0000],\n",
       "         [0.0000, 0.0000, 0.0000, 0.0000, 0.0000, 0.0000, 0.3333, 0.0000, 0.4082,\n",
       "          0.0000, 0.3333, 0.0000, 0.0000, 0.0000, 0.0000, 0.0000, 0.0000, 0.0000,\n",
       "          0.0000, 0.0000, 0.0000, 0.0000, 0.0000, 0.0000],\n",
       "         [0.0000, 0.0000, 0.0000, 0.0000, 0.0000, 0.0000, 0.2887, 0.3536, 0.0000,\n",
       "          0.3536, 0.0000, 0.2500, 0.0000, 0.0000, 0.0000, 0.0000, 0.0000, 0.0000,\n",
       "          0.0000, 0.0000, 0.0000, 0.0000, 0.0000, 0.0000],\n",
       "         [0.0000, 0.0000, 0.0000, 0.0000, 0.0000, 0.0000, 0.0000, 0.0000, 0.0000,\n",
       "          0.0000, 0.0000, 0.0000, 0.5000, 0.0000, 0.0000, 0.0000, 0.0000, 0.4082,\n",
       "          0.0000, 0.0000, 0.0000, 0.0000, 0.0000, 0.0000],\n",
       "         [0.0000, 0.0000, 0.0000, 0.0000, 0.0000, 0.0000, 0.0000, 0.0000, 0.0000,\n",
       "          0.0000, 0.0000, 0.0000, 0.0000, 1.0000, 0.0000, 0.0000, 0.0000, 0.0000,\n",
       "          0.0000, 0.0000, 0.0000, 0.0000, 0.0000, 0.0000],\n",
       "         [0.0000, 0.0000, 0.0000, 0.0000, 0.0000, 0.0000, 0.0000, 0.0000, 0.0000,\n",
       "          0.0000, 0.0000, 0.0000, 0.0000, 0.0000, 0.5000, 0.0000, 0.5000, 0.0000,\n",
       "          0.0000, 0.0000, 0.0000, 0.0000, 0.0000, 0.0000],\n",
       "         [0.0000, 0.0000, 0.0000, 0.0000, 0.0000, 0.0000, 0.0000, 0.0000, 0.0000,\n",
       "          0.0000, 0.0000, 0.0000, 0.0000, 0.0000, 0.0000, 0.5000, 0.0000, 0.4082,\n",
       "          0.0000, 0.0000, 0.0000, 0.0000, 0.0000, 0.0000],\n",
       "         [0.0000, 0.0000, 0.0000, 0.0000, 0.0000, 0.0000, 0.0000, 0.0000, 0.0000,\n",
       "          0.0000, 0.0000, 0.0000, 0.0000, 0.0000, 0.5000, 0.0000, 0.5000, 0.0000,\n",
       "          0.0000, 0.0000, 0.0000, 0.0000, 0.0000, 0.0000],\n",
       "         [0.0000, 0.0000, 0.0000, 0.0000, 0.0000, 0.0000, 0.0000, 0.0000, 0.0000,\n",
       "          0.0000, 0.0000, 0.0000, 0.4082, 0.0000, 0.0000, 0.4082, 0.0000, 0.3333,\n",
       "          0.0000, 0.0000, 0.0000, 0.0000, 0.0000, 0.0000],\n",
       "         [0.0000, 0.0000, 0.0000, 0.0000, 0.0000, 0.0000, 0.0000, 0.0000, 0.0000,\n",
       "          0.0000, 0.0000, 0.0000, 0.0000, 0.0000, 0.0000, 0.0000, 0.0000, 0.0000,\n",
       "          1.0000, 0.0000, 0.0000, 0.0000, 0.0000, 0.0000],\n",
       "         [0.0000, 0.0000, 0.0000, 0.0000, 0.0000, 0.0000, 0.0000, 0.0000, 0.0000,\n",
       "          0.0000, 0.0000, 0.0000, 0.0000, 0.0000, 0.0000, 0.0000, 0.0000, 0.0000,\n",
       "          0.0000, 0.5000, 0.0000, 0.0000, 0.5000, 0.0000],\n",
       "         [0.0000, 0.0000, 0.0000, 0.0000, 0.0000, 0.0000, 0.0000, 0.0000, 0.0000,\n",
       "          0.0000, 0.0000, 0.0000, 0.0000, 0.0000, 0.0000, 0.0000, 0.0000, 0.0000,\n",
       "          0.0000, 0.0000, 0.5000, 0.0000, 0.0000, 0.4082],\n",
       "         [0.0000, 0.0000, 0.0000, 0.0000, 0.0000, 0.0000, 0.0000, 0.0000, 0.0000,\n",
       "          0.0000, 0.0000, 0.0000, 0.0000, 0.0000, 0.0000, 0.0000, 0.0000, 0.0000,\n",
       "          0.0000, 0.0000, 0.0000, 0.5000, 0.0000, 0.4082],\n",
       "         [0.0000, 0.0000, 0.0000, 0.0000, 0.0000, 0.0000, 0.0000, 0.0000, 0.0000,\n",
       "          0.0000, 0.0000, 0.0000, 0.0000, 0.0000, 0.0000, 0.0000, 0.0000, 0.0000,\n",
       "          0.0000, 0.5000, 0.0000, 0.0000, 0.5000, 0.0000],\n",
       "         [0.0000, 0.0000, 0.0000, 0.0000, 0.0000, 0.0000, 0.0000, 0.0000, 0.0000,\n",
       "          0.0000, 0.0000, 0.0000, 0.0000, 0.0000, 0.0000, 0.0000, 0.0000, 0.0000,\n",
       "          0.0000, 0.0000, 0.4082, 0.4082, 0.0000, 0.3333]]),\n",
       " tensor([[0.0000, 0.0000, 0.0000, 0.0000, 0.0000, 0.5774, 0.0000, 0.0000, 0.0000,\n",
       "          0.0000, 0.0000, 0.0000, 0.0000, 0.0000, 0.0000, 0.0000, 0.0000, 0.0000,\n",
       "          0.0000, 0.0000, 0.0000, 0.0000, 0.0000, 0.0000],\n",
       "         [0.0000, 0.0000, 0.0000, 0.0000, 0.0000, 0.5774, 0.0000, 0.0000, 0.0000,\n",
       "          0.0000, 0.0000, 0.0000, 0.0000, 0.0000, 0.0000, 0.0000, 0.0000, 0.0000,\n",
       "          0.0000, 0.0000, 0.0000, 0.0000, 0.0000, 0.0000],\n",
       "         [0.0000, 0.0000, 0.0000, 0.0000, 0.0000, 0.5774, 0.0000, 0.0000, 0.0000,\n",
       "          0.0000, 0.0000, 0.0000, 0.0000, 0.0000, 0.0000, 0.0000, 0.0000, 0.0000,\n",
       "          0.0000, 0.0000, 0.0000, 0.0000, 0.0000, 0.0000],\n",
       "         [0.0000, 0.0000, 0.0000, 0.0000, 1.0000, 0.0000, 0.0000, 0.0000, 0.0000,\n",
       "          0.0000, 0.0000, 0.0000, 0.0000, 0.0000, 0.0000, 0.0000, 0.0000, 0.0000,\n",
       "          0.0000, 0.0000, 0.0000, 0.0000, 0.0000, 0.0000],\n",
       "         [0.0000, 0.0000, 0.0000, 1.0000, 0.0000, 0.0000, 0.0000, 0.0000, 0.0000,\n",
       "          0.0000, 0.0000, 0.0000, 0.0000, 0.0000, 0.0000, 0.0000, 0.0000, 0.0000,\n",
       "          0.0000, 0.0000, 0.0000, 0.0000, 0.0000, 0.0000],\n",
       "         [0.5774, 0.5774, 0.5774, 0.0000, 0.0000, 0.0000, 0.0000, 0.0000, 0.0000,\n",
       "          0.0000, 0.0000, 0.0000, 0.0000, 0.0000, 0.0000, 0.0000, 0.0000, 0.0000,\n",
       "          0.0000, 0.0000, 0.0000, 0.0000, 0.0000, 0.0000],\n",
       "         [0.0000, 0.0000, 0.0000, 0.0000, 0.0000, 0.0000, 0.0000, 0.0000, 0.0000,\n",
       "          0.0000, 0.0000, 0.0000, 0.0000, 0.0000, 0.0000, 0.0000, 0.0000, 0.0000,\n",
       "          0.0000, 0.0000, 0.0000, 0.0000, 0.0000, 0.0000],\n",
       "         [0.0000, 0.0000, 0.0000, 0.0000, 0.0000, 0.0000, 0.0000, 0.0000, 0.0000,\n",
       "          0.0000, 0.7071, 0.0000, 0.0000, 0.0000, 0.0000, 0.0000, 0.0000, 0.0000,\n",
       "          0.0000, 0.0000, 0.0000, 0.0000, 0.0000, 0.0000],\n",
       "         [0.0000, 0.0000, 0.0000, 0.0000, 0.0000, 0.0000, 0.0000, 0.0000, 0.0000,\n",
       "          0.0000, 0.0000, 1.0000, 0.0000, 0.0000, 0.0000, 0.0000, 0.0000, 0.0000,\n",
       "          0.0000, 0.0000, 0.0000, 0.0000, 0.0000, 0.0000],\n",
       "         [0.0000, 0.0000, 0.0000, 0.0000, 0.0000, 0.0000, 0.0000, 0.0000, 0.0000,\n",
       "          0.0000, 0.7071, 0.0000, 0.0000, 0.0000, 0.0000, 0.0000, 0.0000, 0.0000,\n",
       "          0.0000, 0.0000, 0.0000, 0.0000, 0.0000, 0.0000],\n",
       "         [0.0000, 0.0000, 0.0000, 0.0000, 0.0000, 0.0000, 0.0000, 0.7071, 0.0000,\n",
       "          0.7071, 0.0000, 0.0000, 0.0000, 0.0000, 0.0000, 0.0000, 0.0000, 0.0000,\n",
       "          0.0000, 0.0000, 0.0000, 0.0000, 0.0000, 0.0000],\n",
       "         [0.0000, 0.0000, 0.0000, 0.0000, 0.0000, 0.0000, 0.0000, 0.0000, 1.0000,\n",
       "          0.0000, 0.0000, 0.0000, 0.0000, 0.0000, 0.0000, 0.0000, 0.0000, 0.0000,\n",
       "          0.0000, 0.0000, 0.0000, 0.0000, 0.0000, 0.0000],\n",
       "         [0.0000, 0.0000, 0.0000, 0.0000, 0.0000, 0.0000, 0.0000, 0.0000, 0.0000,\n",
       "          0.0000, 0.0000, 0.0000, 0.0000, 0.0000, 0.0000, 0.0000, 0.5774, 0.0000,\n",
       "          0.0000, 0.0000, 0.0000, 0.0000, 0.0000, 0.0000],\n",
       "         [0.0000, 0.0000, 0.0000, 0.0000, 0.0000, 0.0000, 0.0000, 0.0000, 0.0000,\n",
       "          0.0000, 0.0000, 0.0000, 0.0000, 0.0000, 0.0000, 0.0000, 0.4082, 0.5000,\n",
       "          0.0000, 0.0000, 0.0000, 0.0000, 0.0000, 0.0000],\n",
       "         [0.0000, 0.0000, 0.0000, 0.0000, 0.0000, 0.0000, 0.0000, 0.0000, 0.0000,\n",
       "          0.0000, 0.0000, 0.0000, 0.0000, 0.0000, 0.0000, 0.0000, 0.0000, 0.7071,\n",
       "          0.0000, 0.0000, 0.0000, 0.0000, 0.0000, 0.0000],\n",
       "         [0.0000, 0.0000, 0.0000, 0.0000, 0.0000, 0.0000, 0.0000, 0.0000, 0.0000,\n",
       "          0.0000, 0.0000, 0.0000, 0.0000, 0.0000, 0.0000, 0.0000, 0.5774, 0.0000,\n",
       "          0.0000, 0.0000, 0.0000, 0.0000, 0.0000, 0.0000],\n",
       "         [0.0000, 0.0000, 0.0000, 0.0000, 0.0000, 0.0000, 0.0000, 0.0000, 0.0000,\n",
       "          0.0000, 0.0000, 0.0000, 0.5774, 0.4082, 0.0000, 0.5774, 0.0000, 0.0000,\n",
       "          0.0000, 0.0000, 0.0000, 0.0000, 0.0000, 0.0000],\n",
       "         [0.0000, 0.0000, 0.0000, 0.0000, 0.0000, 0.0000, 0.0000, 0.0000, 0.0000,\n",
       "          0.0000, 0.0000, 0.0000, 0.0000, 0.5000, 0.7071, 0.0000, 0.0000, 0.0000,\n",
       "          0.0000, 0.0000, 0.0000, 0.0000, 0.0000, 0.0000],\n",
       "         [0.0000, 0.0000, 0.0000, 0.0000, 0.0000, 0.0000, 0.0000, 0.0000, 0.0000,\n",
       "          0.0000, 0.0000, 0.0000, 0.0000, 0.0000, 0.0000, 0.0000, 0.0000, 0.0000,\n",
       "          0.0000, 0.0000, 0.0000, 0.0000, 0.4082, 0.5000],\n",
       "         [0.0000, 0.0000, 0.0000, 0.0000, 0.0000, 0.0000, 0.0000, 0.0000, 0.0000,\n",
       "          0.0000, 0.0000, 0.0000, 0.0000, 0.0000, 0.0000, 0.0000, 0.0000, 0.0000,\n",
       "          0.0000, 0.0000, 0.0000, 0.0000, 0.0000, 0.7071],\n",
       "         [0.0000, 0.0000, 0.0000, 0.0000, 0.0000, 0.0000, 0.0000, 0.0000, 0.0000,\n",
       "          0.0000, 0.0000, 0.0000, 0.0000, 0.0000, 0.0000, 0.0000, 0.0000, 0.0000,\n",
       "          0.0000, 0.0000, 0.0000, 0.0000, 0.5774, 0.0000],\n",
       "         [0.0000, 0.0000, 0.0000, 0.0000, 0.0000, 0.0000, 0.0000, 0.0000, 0.0000,\n",
       "          0.0000, 0.0000, 0.0000, 0.0000, 0.0000, 0.0000, 0.0000, 0.0000, 0.0000,\n",
       "          0.0000, 0.0000, 0.0000, 0.0000, 0.5774, 0.0000],\n",
       "         [0.0000, 0.0000, 0.0000, 0.0000, 0.0000, 0.0000, 0.0000, 0.0000, 0.0000,\n",
       "          0.0000, 0.0000, 0.0000, 0.0000, 0.0000, 0.0000, 0.0000, 0.0000, 0.0000,\n",
       "          0.4082, 0.0000, 0.5774, 0.5774, 0.0000, 0.0000],\n",
       "         [0.0000, 0.0000, 0.0000, 0.0000, 0.0000, 0.0000, 0.0000, 0.0000, 0.0000,\n",
       "          0.0000, 0.0000, 0.0000, 0.0000, 0.0000, 0.0000, 0.0000, 0.0000, 0.0000,\n",
       "          0.5000, 0.7071, 0.0000, 0.0000, 0.0000, 0.0000]]))"
      ]
     },
     "execution_count": 90,
     "metadata": {},
     "output_type": "execute_result"
    }
   ],
   "source": [
    "Apos_blk, Aneg_blk"
   ]
  },
  {
   "cell_type": "markdown",
   "id": "2ef18795-d926-4d8c-b53b-659d8992cde6",
   "metadata": {},
   "source": [
    "### Input Layer\n",
    "Note that in `tok_embedding` we ended up with a large shift away from our initial values.  because of this we'll see a shift in our embedding layer though it will still reflect the weights since our input is the iteration of nodes. "
   ]
  },
  {
   "cell_type": "code",
   "execution_count": 91,
   "id": "f28806a2-24e8-4bd2-b5b4-e8e0cc284d1a",
   "metadata": {},
   "outputs": [
    {
     "data": {
      "text/plain": [
       "(torch.Size([24, 3]),\n",
       " tensor([[ 0.0123,  0.0278,  0.0143],\n",
       "         [ 0.0241,  0.0478,  0.0261],\n",
       "         [ 0.0611,  0.1252,  0.0631],\n",
       "         [-0.0004, -0.0010,  0.0016],\n",
       "         [-0.0477, -0.0994, -0.0457],\n",
       "         [ 0.0092,  0.0133,  0.0112],\n",
       "         [ 0.0123,  0.0278,  0.0143],\n",
       "         [ 0.0241,  0.0478,  0.0261],\n",
       "         [ 0.0611,  0.1252,  0.0631],\n",
       "         [-0.0004, -0.0010,  0.0016],\n",
       "         [-0.0477, -0.0994, -0.0457],\n",
       "         [ 0.0092,  0.0133,  0.0112],\n",
       "         [ 0.0123,  0.0278,  0.0143],\n",
       "         [ 0.0241,  0.0478,  0.0261],\n",
       "         [ 0.0611,  0.1252,  0.0631],\n",
       "         [-0.0004, -0.0010,  0.0016],\n",
       "         [-0.0477, -0.0994, -0.0457],\n",
       "         [ 0.0092,  0.0133,  0.0112],\n",
       "         [ 0.0123,  0.0278,  0.0143],\n",
       "         [ 0.0241,  0.0478,  0.0261],\n",
       "         [ 0.0611,  0.1252,  0.0631],\n",
       "         [-0.0004, -0.0010,  0.0016],\n",
       "         [-0.0477, -0.0994, -0.0457],\n",
       "         [ 0.0092,  0.0133,  0.0112]], grad_fn=<ViewBackward0>))"
      ]
     },
     "execution_count": 91,
     "metadata": {},
     "output_type": "execute_result"
    }
   ],
   "source": [
    "x = tok_emb(x_tokens)\n",
    "x = x.view(B_batch*N_nodes,n_embd)\n",
    "x.size(), x"
   ]
  },
  {
   "cell_type": "markdown",
   "id": "5258d8d7-db81-4a8c-bd2c-808a0aa46072",
   "metadata": {},
   "source": [
    "### GCN Block"
   ]
  },
  {
   "cell_type": "markdown",
   "id": "a1c942e8-992a-4d44-9502-386019b7a7a9",
   "metadata": {},
   "source": [
    "#### GCN Block - First Node Convolution\n",
    "Now we'll dive into our node convolutions.  Recall that this layer had significant changes away from the pyramidal structure including negative weights in the `gcn_1_pos` layer.  This should lead to seeing layers now that have less predictable outputs. Because we do still have the repetition in X though we will see some repetitions in the outputs of these layers. \n",
    "\n",
    "One interesting note is the inversion of signs for the positive and negative layers. with similar weights. Since we subtract the weights this actually becomes additive meaning the model is respecting the two layers similarly. "
   ]
  },
  {
   "cell_type": "code",
   "execution_count": 92,
   "id": "932f0253-b8e6-451b-89f2-99192dc86585",
   "metadata": {},
   "outputs": [
    {
     "data": {
      "text/plain": [
       "(torch.Size([24, 3]),\n",
       " tensor([[-0.5363,  0.7994, -0.2656],\n",
       "         [-0.5362,  0.8004, -0.2654],\n",
       "         [-0.5359,  0.8040, -0.2647],\n",
       "         [-0.5361,  0.8021, -0.2651],\n",
       "         [-0.5357,  0.8057, -0.2644],\n",
       "         [-0.5361,  0.8021, -0.2651],\n",
       "         [-0.5363,  0.7996, -0.2656],\n",
       "         [-0.5359,  0.8042, -0.2647],\n",
       "         [-0.5359,  0.8035, -0.2648],\n",
       "         [-0.5361,  0.8019, -0.2651],\n",
       "         [-0.5359,  0.8039, -0.2647],\n",
       "         [-0.5359,  0.8041, -0.2647],\n",
       "         [-0.5360,  0.8032, -0.2649],\n",
       "         [-0.5357,  0.8059, -0.2644],\n",
       "         [-0.5360,  0.8027, -0.2650],\n",
       "         [-0.5361,  0.8020, -0.2651],\n",
       "         [-0.5360,  0.8027, -0.2650],\n",
       "         [-0.5360,  0.8029, -0.2649],\n",
       "         [-0.5359,  0.8039, -0.2647],\n",
       "         [-0.5364,  0.7991, -0.2657],\n",
       "         [-0.5355,  0.8078, -0.2640],\n",
       "         [-0.5361,  0.8020, -0.2651],\n",
       "         [-0.5364,  0.7991, -0.2657],\n",
       "         [-0.5356,  0.8066, -0.2642]], grad_fn=<AddmmBackward0>))"
      ]
     },
     "execution_count": 92,
     "metadata": {},
     "output_type": "execute_result"
    }
   ],
   "source": [
    "H_pos = Apos_blk @ x\n",
    "H_pos =  gcn_1_pos(H_pos)\n",
    "H_pos.size(), H_pos"
   ]
  },
  {
   "cell_type": "code",
   "execution_count": 93,
   "id": "496e0616-1c33-4714-8039-0f11cbff0d84",
   "metadata": {},
   "outputs": [
    {
     "data": {
      "text/plain": [
       "(torch.Size([24, 3]),\n",
       " tensor([[ 0.5366, -0.8011,  0.2656],\n",
       "         [ 0.5366, -0.8011,  0.2656],\n",
       "         [ 0.5366, -0.8011,  0.2656],\n",
       "         [ 0.5313, -0.8042,  0.2612],\n",
       "         [ 0.5361, -0.8014,  0.2652],\n",
       "         [ 0.5419, -0.7980,  0.2700],\n",
       "         [ 0.5361, -0.8014,  0.2652],\n",
       "         [ 0.5327, -0.8034,  0.2624],\n",
       "         [ 0.5369, -0.8009,  0.2659],\n",
       "         [ 0.5327, -0.8034,  0.2624],\n",
       "         [ 0.5378, -0.8004,  0.2667],\n",
       "         [ 0.5423, -0.7978,  0.2704],\n",
       "         [ 0.5333, -0.8030,  0.2629],\n",
       "         [ 0.5346, -0.8023,  0.2639],\n",
       "         [ 0.5367, -0.8011,  0.2657],\n",
       "         [ 0.5333, -0.8030,  0.2629],\n",
       "         [ 0.5379, -0.8003,  0.2667],\n",
       "         [ 0.5417, -0.7981,  0.2699],\n",
       "         [ 0.5346, -0.8023,  0.2639],\n",
       "         [ 0.5367, -0.8011,  0.2657],\n",
       "         [ 0.5333, -0.8030,  0.2629],\n",
       "         [ 0.5333, -0.8030,  0.2629],\n",
       "         [ 0.5403, -0.7990,  0.2687],\n",
       "         [ 0.5385, -0.8000,  0.2672]], grad_fn=<AddmmBackward0>))"
      ]
     },
     "execution_count": 93,
     "metadata": {},
     "output_type": "execute_result"
    }
   ],
   "source": [
    "H_neg = Aneg_blk @ x\n",
    "H_neg =  gcn_1_neg(H_neg)\n",
    "H_neg.size(), H_neg"
   ]
  },
  {
   "cell_type": "code",
   "execution_count": 94,
   "id": "ec6737cf-ca1c-4b16-ba6d-13a4955479f0",
   "metadata": {},
   "outputs": [
    {
     "data": {
      "text/plain": [
       "(torch.Size([24, 3]),\n",
       " tensor([[-1.0729,  1.6006, -0.5312],\n",
       "         [-1.0728,  1.6016, -0.5310],\n",
       "         [-1.0725,  1.6051, -0.5304],\n",
       "         [-1.0674,  1.6063, -0.5263],\n",
       "         [-1.0718,  1.6071, -0.5296],\n",
       "         [-1.0780,  1.6001, -0.5352],\n",
       "         [-1.0724,  1.6010, -0.5308],\n",
       "         [-1.0686,  1.6075, -0.5271],\n",
       "         [-1.0729,  1.6044, -0.5307],\n",
       "         [-1.0688,  1.6052, -0.5275],\n",
       "         [-1.0737,  1.6043, -0.5314],\n",
       "         [-1.0782,  1.6018, -0.5351],\n",
       "         [-1.0693,  1.6062, -0.5278],\n",
       "         [-1.0703,  1.6082, -0.5283],\n",
       "         [-1.0727,  1.6037, -0.5307],\n",
       "         [-1.0694,  1.6050, -0.5280],\n",
       "         [-1.0739,  1.6030, -0.5317],\n",
       "         [-1.0777,  1.6010, -0.5349],\n",
       "         [-1.0704,  1.6062, -0.5287],\n",
       "         [-1.0730,  1.6002, -0.5314],\n",
       "         [-1.0689,  1.6108, -0.5269],\n",
       "         [-1.0694,  1.6050, -0.5280],\n",
       "         [-1.0766,  1.5981, -0.5344],\n",
       "         [-1.0742,  1.6066, -0.5315]], grad_fn=<SubBackward0>))"
      ]
     },
     "execution_count": 94,
     "metadata": {},
     "output_type": "execute_result"
    }
   ],
   "source": [
    "out = H_pos - H_neg\n",
    "out.size(), out"
   ]
  },
  {
   "cell_type": "markdown",
   "id": "a3db9f17-b4cf-4787-aab9-f21b90ca8dd4",
   "metadata": {},
   "source": [
    "#### GCN Block - First Layer Norm\n",
    "Now we'll run our normalization.  because our entries have such high similarity you'll see that our weights are starting to look very similar. "
   ]
  },
  {
   "cell_type": "code",
   "execution_count": 95,
   "id": "8a159882-193a-4c34-9be2-bf8579536348",
   "metadata": {},
   "outputs": [
    {
     "data": {
      "text/plain": [
       "(torch.Size([24, 3]),\n",
       " tensor([[-0.9297,  1.3950, -0.4587],\n",
       "         [-0.9296,  1.3950, -0.4587],\n",
       "         [-0.9295,  1.3951, -0.4589],\n",
       "         [-0.9294,  1.3951, -0.4590],\n",
       "         [-0.9295,  1.3951, -0.4590],\n",
       "         [-0.9298,  1.3950, -0.4586],\n",
       "         [-0.9297,  1.3950, -0.4587],\n",
       "         [-0.9294,  1.3951, -0.4591],\n",
       "         [-0.9296,  1.3951, -0.4589],\n",
       "         [-0.9295,  1.3951, -0.4590],\n",
       "         [-0.9296,  1.3951, -0.4588],\n",
       "         [-0.9297,  1.3950, -0.4586],\n",
       "         [-0.9294,  1.3951, -0.4590],\n",
       "         [-0.9294,  1.3951, -0.4591],\n",
       "         [-0.9296,  1.3951, -0.4588],\n",
       "         [-0.9295,  1.3951, -0.4589],\n",
       "         [-0.9296,  1.3951, -0.4588],\n",
       "         [-0.9297,  1.3950, -0.4586],\n",
       "         [-0.9295,  1.3951, -0.4590],\n",
       "         [-0.9297,  1.3950, -0.4587],\n",
       "         [-0.9293,  1.3951, -0.4592],\n",
       "         [-0.9295,  1.3951, -0.4589],\n",
       "         [-0.9298,  1.3950, -0.4585],\n",
       "         [-0.9295,  1.3951, -0.4589]], grad_fn=<NativeLayerNormBackward0>))"
      ]
     },
     "execution_count": 95,
     "metadata": {},
     "output_type": "execute_result"
    }
   ],
   "source": [
    "out = bn_a(out)\n",
    "out.size(), out"
   ]
  },
  {
   "cell_type": "markdown",
   "id": "8c4bc8ec-0330-4a34-a191-a12dd4d064e5",
   "metadata": {},
   "source": [
    "#### GCN Block - Leaky ReLU\n",
    "LeakyReLU is our first non-learnable layer.  This again will scale our negative values to have less impact. "
   ]
  },
  {
   "cell_type": "code",
   "execution_count": 96,
   "id": "466836fd-b208-441c-a24b-bcc34316c73f",
   "metadata": {},
   "outputs": [
    {
     "data": {
      "text/plain": [
       "(torch.Size([24, 3]),\n",
       " tensor([[-0.0930,  1.3950, -0.0459],\n",
       "         [-0.0930,  1.3950, -0.0459],\n",
       "         [-0.0930,  1.3951, -0.0459],\n",
       "         [-0.0929,  1.3951, -0.0459],\n",
       "         [-0.0929,  1.3951, -0.0459],\n",
       "         [-0.0930,  1.3950, -0.0459],\n",
       "         [-0.0930,  1.3950, -0.0459],\n",
       "         [-0.0929,  1.3951, -0.0459],\n",
       "         [-0.0930,  1.3951, -0.0459],\n",
       "         [-0.0929,  1.3951, -0.0459],\n",
       "         [-0.0930,  1.3951, -0.0459],\n",
       "         [-0.0930,  1.3950, -0.0459],\n",
       "         [-0.0929,  1.3951, -0.0459],\n",
       "         [-0.0929,  1.3951, -0.0459],\n",
       "         [-0.0930,  1.3951, -0.0459],\n",
       "         [-0.0929,  1.3951, -0.0459],\n",
       "         [-0.0930,  1.3951, -0.0459],\n",
       "         [-0.0930,  1.3950, -0.0459],\n",
       "         [-0.0929,  1.3951, -0.0459],\n",
       "         [-0.0930,  1.3950, -0.0459],\n",
       "         [-0.0929,  1.3951, -0.0459],\n",
       "         [-0.0929,  1.3951, -0.0459],\n",
       "         [-0.0930,  1.3950, -0.0459],\n",
       "         [-0.0930,  1.3951, -0.0459]], grad_fn=<LeakyReluBackward0>))"
      ]
     },
     "execution_count": 96,
     "metadata": {},
     "output_type": "execute_result"
    }
   ],
   "source": [
    "out = lrelu_1(out)\n",
    "out.size(), out"
   ]
  },
  {
   "cell_type": "markdown",
   "id": "fff7c35b-04b8-4467-a1f9-d582b8713653",
   "metadata": {},
   "source": [
    "#### GCN Block - Dropout\n",
    "Dropout is also a non-learnable layer.  We'll execute this to add some noise into our data that looks increasingly more similar"
   ]
  },
  {
   "cell_type": "code",
   "execution_count": 97,
   "id": "30974a81-91d3-4a6b-b8fd-6d131dde2800",
   "metadata": {},
   "outputs": [
    {
     "data": {
      "text/plain": [
       "(torch.Size([24, 3]),\n",
       " tensor([[-0.0000,  1.4685, -0.0483],\n",
       "         [-0.0979,  1.4685, -0.0483],\n",
       "         [-0.0978,  1.4685, -0.0483],\n",
       "         [-0.0978,  1.4685, -0.0483],\n",
       "         [-0.0978,  1.4685, -0.0483],\n",
       "         [-0.0979,  1.4684, -0.0483],\n",
       "         [-0.0979,  1.4685, -0.0483],\n",
       "         [-0.0978,  1.4685, -0.0483],\n",
       "         [-0.0978,  1.4685, -0.0483],\n",
       "         [-0.0978,  1.4685, -0.0483],\n",
       "         [-0.0978,  1.4685, -0.0483],\n",
       "         [-0.0979,  1.4684, -0.0483],\n",
       "         [-0.0978,  1.4685, -0.0483],\n",
       "         [-0.0978,  0.0000, -0.0483],\n",
       "         [-0.0978,  1.4685, -0.0483],\n",
       "         [-0.0978,  1.4685, -0.0483],\n",
       "         [-0.0000,  1.4685, -0.0483],\n",
       "         [-0.0000,  1.4684, -0.0483],\n",
       "         [-0.0978,  1.4685, -0.0483],\n",
       "         [-0.0000,  1.4685, -0.0483],\n",
       "         [-0.0978,  1.4686, -0.0483],\n",
       "         [-0.0978,  1.4685, -0.0483],\n",
       "         [-0.0979,  1.4684, -0.0483],\n",
       "         [-0.0978,  1.4685, -0.0483]], grad_fn=<MulBackward0>))"
      ]
     },
     "execution_count": 97,
     "metadata": {},
     "output_type": "execute_result"
    }
   ],
   "source": [
    "out = drop(out) \n",
    "out.size(), out"
   ]
  },
  {
   "cell_type": "markdown",
   "id": "1fb7cd62-940a-4000-9552-9ed059ab5867",
   "metadata": {},
   "source": [
    "#### GCN Block - Second Node Convolution\n",
    "Our second node convolution had less of a drastic impact compared to our first convolution.  We should see some interesting repetition as the layers are pushing our data into a more uniform pattern. If we ran more training loops with varied data this would likely shift with time. "
   ]
  },
  {
   "cell_type": "code",
   "execution_count": 98,
   "id": "bdd713e9-4b49-450b-97f2-905640be5cf3",
   "metadata": {},
   "outputs": [
    {
     "data": {
      "text/plain": [
       "(torch.Size([24, 3]),\n",
       " tensor([[-0.0405,  0.5672, -0.0405],\n",
       "         [-0.0429,  0.5623, -0.0429],\n",
       "         [-0.0429,  0.5623, -0.0429],\n",
       "         [-0.0233,  0.6047, -0.0233],\n",
       "         [ 0.0201,  0.6983,  0.0201],\n",
       "         [-0.0233,  0.6047, -0.0233],\n",
       "         [-0.0293,  0.5918, -0.0293],\n",
       "         [-0.0429,  0.5623, -0.0429],\n",
       "         [-0.0356,  0.5781, -0.0356],\n",
       "         [-0.0429,  0.5623, -0.0429],\n",
       "         [-0.0132,  0.6264, -0.0132],\n",
       "         [ 0.0097,  0.6760,  0.0097],\n",
       "         [-0.0336,  0.5822, -0.0336],\n",
       "         [-0.1646,  0.2999, -0.1646],\n",
       "         [-0.0209,  0.6097, -0.0209],\n",
       "         [-0.0336,  0.5822, -0.0336],\n",
       "         [-0.0209,  0.6097, -0.0209],\n",
       "         [-0.0016,  0.6515, -0.0016],\n",
       "         [-0.0233,  0.6047, -0.0233],\n",
       "         [-0.0209,  0.6097, -0.0209],\n",
       "         [-0.0356,  0.5781, -0.0356],\n",
       "         [-0.0356,  0.5781, -0.0356],\n",
       "         [-0.0209,  0.6097, -0.0209],\n",
       "         [-0.0032,  0.6482, -0.0032]], grad_fn=<AddmmBackward0>))"
      ]
     },
     "execution_count": 98,
     "metadata": {},
     "output_type": "execute_result"
    }
   ],
   "source": [
    "H2_pos = Apos_blk @ out\n",
    "H2_pos =  gcn_2_pos(H2_pos)\n",
    "H2_pos.size(), H2_pos"
   ]
  },
  {
   "cell_type": "code",
   "execution_count": 99,
   "id": "9d06cf0c-ec58-4b2c-9052-37953de4195f",
   "metadata": {},
   "outputs": [
    {
     "data": {
      "text/plain": [
       "(torch.Size([24, 3]),\n",
       " tensor([[ 0.2407, -0.1592,  0.2407],\n",
       "         [ 0.2407, -0.1592,  0.2407],\n",
       "         [ 0.2407, -0.1592,  0.2407],\n",
       "         [ 0.3018, -0.0453,  0.3018],\n",
       "         [ 0.3018, -0.0453,  0.3018],\n",
       "         [ 0.4103,  0.1574,  0.4103],\n",
       "         [ 0.1574, -0.3148,  0.1574],\n",
       "         [ 0.2595, -0.1243,  0.2595],\n",
       "         [ 0.3018, -0.0454,  0.3018],\n",
       "         [ 0.2595, -0.1243,  0.2595],\n",
       "         [ 0.3616,  0.0663,  0.3616],\n",
       "         [ 0.3018, -0.0454,  0.3018],\n",
       "         [ 0.2436, -0.1537,  0.2436],\n",
       "         [ 0.2930, -0.0613,  0.2930],\n",
       "         [ 0.2630, -0.1175,  0.2630],\n",
       "         [ 0.2436, -0.1537,  0.2436],\n",
       "         [ 0.3211, -0.0095,  0.3211],\n",
       "         [ 0.2558, -0.1315,  0.2558],\n",
       "         [ 0.2885, -0.0701,  0.2885],\n",
       "         [ 0.2595, -0.1243,  0.2595],\n",
       "         [ 0.2407, -0.1592,  0.2407],\n",
       "         [ 0.2407, -0.1592,  0.2407],\n",
       "         [ 0.3830,  0.1063,  0.3830],\n",
       "         [ 0.3352,  0.0173,  0.3352]], grad_fn=<AddmmBackward0>))"
      ]
     },
     "execution_count": 99,
     "metadata": {},
     "output_type": "execute_result"
    }
   ],
   "source": [
    "H2_neg = Aneg_blk @ out\n",
    "H2_neg =  gcn_2_neg(H2_neg)\n",
    "H2_neg.size(), H2_neg"
   ]
  },
  {
   "cell_type": "code",
   "execution_count": 100,
   "id": "5a8e3c6b-cf6c-4469-84ac-b06894d2a265",
   "metadata": {},
   "outputs": [
    {
     "data": {
      "text/plain": [
       "(torch.Size([24, 3]),\n",
       " tensor([[-0.2813,  0.7265, -0.2813],\n",
       "         [-0.2837,  0.7215, -0.2837],\n",
       "         [-0.2837,  0.7215, -0.2837],\n",
       "         [-0.3250,  0.6501, -0.3250],\n",
       "         [-0.2817,  0.7437, -0.2817],\n",
       "         [-0.4336,  0.4473, -0.4336],\n",
       "         [-0.1867,  0.9066, -0.1867],\n",
       "         [-0.3024,  0.6865, -0.3024],\n",
       "         [-0.3373,  0.6235, -0.3373],\n",
       "         [-0.3024,  0.6865, -0.3024],\n",
       "         [-0.3748,  0.5602, -0.3748],\n",
       "         [-0.2921,  0.7213, -0.2921],\n",
       "         [-0.2772,  0.7359, -0.2772],\n",
       "         [-0.4576,  0.3613, -0.4576],\n",
       "         [-0.2839,  0.7272, -0.2839],\n",
       "         [-0.2772,  0.7359, -0.2772],\n",
       "         [-0.3419,  0.6192, -0.3419],\n",
       "         [-0.2573,  0.7829, -0.2573],\n",
       "         [-0.3118,  0.6748, -0.3118],\n",
       "         [-0.2804,  0.7340, -0.2804],\n",
       "         [-0.2763,  0.7374, -0.2763],\n",
       "         [-0.2763,  0.7374, -0.2763],\n",
       "         [-0.4039,  0.5033, -0.4039],\n",
       "         [-0.3384,  0.6309, -0.3384]], grad_fn=<SubBackward0>))"
      ]
     },
     "execution_count": 100,
     "metadata": {},
     "output_type": "execute_result"
    }
   ],
   "source": [
    "out = H2_pos - H2_neg\n",
    "out.size(), out"
   ]
  },
  {
   "cell_type": "markdown",
   "id": "21eb945e-5f0f-44f8-9da3-bcf95e52fdef",
   "metadata": {},
   "source": [
    "#### GCN Block - Second Layer Norm\n",
    "Our final layer norm similarly had minor shifts in the weights so we shouldn't expect major deviation as the weighting mirrored the increase in the middle channel. "
   ]
  },
  {
   "cell_type": "code",
   "execution_count": 101,
   "id": "bef38a6b-0e3d-4703-b11d-d4ed0daba564",
   "metadata": {},
   "outputs": [
    {
     "data": {
      "text/plain": [
       "(torch.Size([24, 3]),\n",
       " tensor([[-0.7077,  1.4158, -0.7077],\n",
       "         [-0.7077,  1.4158, -0.7077],\n",
       "         [-0.7077,  1.4158, -0.7077],\n",
       "         [-0.7077,  1.4158, -0.7077],\n",
       "         [-0.7077,  1.4158, -0.7077],\n",
       "         [-0.7077,  1.4158, -0.7077],\n",
       "         [-0.7077,  1.4158, -0.7077],\n",
       "         [-0.7077,  1.4158, -0.7077],\n",
       "         [-0.7077,  1.4158, -0.7077],\n",
       "         [-0.7077,  1.4158, -0.7077],\n",
       "         [-0.7077,  1.4158, -0.7077],\n",
       "         [-0.7077,  1.4158, -0.7077],\n",
       "         [-0.7077,  1.4158, -0.7077],\n",
       "         [-0.7077,  1.4158, -0.7077],\n",
       "         [-0.7077,  1.4158, -0.7077],\n",
       "         [-0.7077,  1.4158, -0.7077],\n",
       "         [-0.7077,  1.4158, -0.7077],\n",
       "         [-0.7077,  1.4158, -0.7077],\n",
       "         [-0.7077,  1.4158, -0.7077],\n",
       "         [-0.7077,  1.4158, -0.7077],\n",
       "         [-0.7077,  1.4158, -0.7077],\n",
       "         [-0.7077,  1.4158, -0.7077],\n",
       "         [-0.7077,  1.4158, -0.7077],\n",
       "         [-0.7077,  1.4158, -0.7077]], grad_fn=<NativeLayerNormBackward0>))"
      ]
     },
     "execution_count": 101,
     "metadata": {},
     "output_type": "execute_result"
    }
   ],
   "source": [
    "out = bn_b(out)\n",
    "out.size(), out"
   ]
  },
  {
   "cell_type": "markdown",
   "id": "e7544d22-5c6f-465e-bc7f-bd7a4283ce32",
   "metadata": {},
   "source": [
    "#### GCN Block - Residual Connection\n",
    "The residual connection will bring our input embedding back in with the main channel and shift the data profile so that the first and last channel are no longer as uniform.  This helps again highlight the value of the residual connection and how it can help smooth out impact from the convolution layers. "
   ]
  },
  {
   "cell_type": "code",
   "execution_count": 102,
   "id": "b19c0f4c-a6b8-410f-9b13-ff90fcaed51b",
   "metadata": {},
   "outputs": [
    {
     "data": {
      "text/plain": [
       "(torch.Size([24, 3]),\n",
       " tensor([[-0.6954,  1.4436, -0.6934],\n",
       "         [-0.6836,  1.4636, -0.6816],\n",
       "         [-0.6465,  1.5410, -0.6445],\n",
       "         [-0.7080,  1.4148, -0.7060],\n",
       "         [-0.7554,  1.3164, -0.7534],\n",
       "         [-0.6985,  1.4291, -0.6965],\n",
       "         [-0.6954,  1.4436, -0.6934],\n",
       "         [-0.6836,  1.4636, -0.6816],\n",
       "         [-0.6465,  1.5410, -0.6445],\n",
       "         [-0.7080,  1.4148, -0.7060],\n",
       "         [-0.7554,  1.3164, -0.7534],\n",
       "         [-0.6985,  1.4291, -0.6965],\n",
       "         [-0.6954,  1.4436, -0.6934],\n",
       "         [-0.6836,  1.4636, -0.6816],\n",
       "         [-0.6465,  1.5410, -0.6445],\n",
       "         [-0.7080,  1.4148, -0.7060],\n",
       "         [-0.7554,  1.3164, -0.7534],\n",
       "         [-0.6985,  1.4291, -0.6965],\n",
       "         [-0.6954,  1.4436, -0.6934],\n",
       "         [-0.6836,  1.4636, -0.6816],\n",
       "         [-0.6465,  1.5410, -0.6445],\n",
       "         [-0.7080,  1.4148, -0.7060],\n",
       "         [-0.7554,  1.3164, -0.7534],\n",
       "         [-0.6985,  1.4291, -0.6965]], grad_fn=<AddBackward0>))"
      ]
     },
     "execution_count": 102,
     "metadata": {},
     "output_type": "execute_result"
    }
   ],
   "source": [
    "x = out + x\n",
    "x.size(), x"
   ]
  },
  {
   "cell_type": "markdown",
   "id": "d4a07e0a-2903-4a9c-bbda-62e0fa24ea7b",
   "metadata": {},
   "source": [
    "#### GCN Block - Final Leaky ReLU\n",
    "Again the leaky ReLU layer is not learnable but we can see the scaling impact on the negative values as it shrinks them to 1/10th the overall size. "
   ]
  },
  {
   "cell_type": "code",
   "execution_count": 103,
   "id": "74ddacc8-c1c8-4399-8595-3f06ed7aaec9",
   "metadata": {},
   "outputs": [
    {
     "data": {
      "text/plain": [
       "(torch.Size([4, 6, 3]),\n",
       " tensor([[[-0.0695,  1.4436, -0.0693],\n",
       "          [-0.0684,  1.4636, -0.0682],\n",
       "          [-0.0647,  1.5410, -0.0645],\n",
       "          [-0.0708,  1.4148, -0.0706],\n",
       "          [-0.0755,  1.3164, -0.0753],\n",
       "          [-0.0699,  1.4291, -0.0697]],\n",
       " \n",
       "         [[-0.0695,  1.4436, -0.0693],\n",
       "          [-0.0684,  1.4636, -0.0682],\n",
       "          [-0.0647,  1.5410, -0.0645],\n",
       "          [-0.0708,  1.4148, -0.0706],\n",
       "          [-0.0755,  1.3164, -0.0753],\n",
       "          [-0.0699,  1.4291, -0.0697]],\n",
       " \n",
       "         [[-0.0695,  1.4436, -0.0693],\n",
       "          [-0.0684,  1.4636, -0.0682],\n",
       "          [-0.0647,  1.5410, -0.0645],\n",
       "          [-0.0708,  1.4148, -0.0706],\n",
       "          [-0.0755,  1.3164, -0.0753],\n",
       "          [-0.0699,  1.4291, -0.0697]],\n",
       " \n",
       "         [[-0.0695,  1.4436, -0.0693],\n",
       "          [-0.0684,  1.4636, -0.0682],\n",
       "          [-0.0647,  1.5410, -0.0645],\n",
       "          [-0.0708,  1.4148, -0.0706],\n",
       "          [-0.0755,  1.3164, -0.0753],\n",
       "          [-0.0699,  1.4291, -0.0697]]], grad_fn=<ViewBackward0>))"
      ]
     },
     "execution_count": 103,
     "metadata": {},
     "output_type": "execute_result"
    }
   ],
   "source": [
    "x = lrelu_res(x)\n",
    "x = x.view(B_batch, N_nodes, n_embd)\n",
    "x.size(), x"
   ]
  },
  {
   "cell_type": "markdown",
   "id": "77aabdf5-2805-4f33-89c6-88e38f095f73",
   "metadata": {},
   "source": [
    "### Output Layers AKA Model Heads."
   ]
  },
  {
   "cell_type": "markdown",
   "id": "d4d07d5f-3640-43e6-997b-f7edbc354bbb",
   "metadata": {},
   "source": [
    "The output layer saw some of the largest gradients that pushed it away from the incremental initiation.  Given how close the layer is to the loss and that we just have 4 examples and 2 classes on each head, this makes sense as the model could memorize the data pattern in that head. That said, we should see this shift our logit values to be closer to our predicted classes. "
   ]
  },
  {
   "cell_type": "markdown",
   "id": "09b96743-04be-4925-bce9-c68f24b4380c",
   "metadata": {},
   "source": [
    "#### Output Layer - Node Head\n",
    "With the node head we had an equal balance of positive and negative values in the weights post learning.  This is likely just due to our large step and with time would stabilize.  Overall we did see however a `-2x` multiple of the middle channel compared to the side channels showing us an overall counter balance to what we've seen with other channels. "
   ]
  },
  {
   "cell_type": "code",
   "execution_count": 104,
   "id": "570afd94-38e1-4b5a-95c5-b7ed5649d750",
   "metadata": {},
   "outputs": [
    {
     "data": {
      "text/plain": [
       "Parameter containing:\n",
       "tensor([[ 0.0651, -0.0767,  0.0768],\n",
       "        [-0.0501,  0.1017, -0.0418]], requires_grad=True)"
      ]
     },
     "execution_count": 104,
     "metadata": {},
     "output_type": "execute_result"
    }
   ],
   "source": [
    "node_head.weight"
   ]
  },
  {
   "cell_type": "code",
   "execution_count": 105,
   "id": "c59e3dee-23a2-41c6-98c5-7b0e3deff137",
   "metadata": {},
   "outputs": [
    {
     "data": {
      "text/plain": [
       "(torch.Size([4, 6, 2]),\n",
       " tensor([[[-0.0580,  0.0906],\n",
       "          [-0.0593,  0.0925],\n",
       "          [-0.0647,  0.1000],\n",
       "          [-0.0559,  0.0878],\n",
       "          [-0.0490,  0.0782],\n",
       "          [-0.0569,  0.0891]],\n",
       " \n",
       "         [[-0.0580,  0.0906],\n",
       "          [-0.0593,  0.0925],\n",
       "          [-0.0647,  0.1000],\n",
       "          [-0.0559,  0.0878],\n",
       "          [-0.0490,  0.0782],\n",
       "          [-0.0569,  0.0891]],\n",
       " \n",
       "         [[-0.0580,  0.0906],\n",
       "          [-0.0593,  0.0925],\n",
       "          [-0.0647,  0.1000],\n",
       "          [-0.0559,  0.0878],\n",
       "          [-0.0490,  0.0782],\n",
       "          [-0.0569,  0.0891]],\n",
       " \n",
       "         [[-0.0580,  0.0906],\n",
       "          [-0.0593,  0.0925],\n",
       "          [-0.0647,  0.1000],\n",
       "          [-0.0559,  0.0878],\n",
       "          [-0.0490,  0.0782],\n",
       "          [-0.0569,  0.0891]]], grad_fn=<ViewBackward0>))"
      ]
     },
     "execution_count": 105,
     "metadata": {},
     "output_type": "execute_result"
    }
   ],
   "source": [
    "node_logits = node_head(x)   \n",
    "node_logits.size(), node_logits"
   ]
  },
  {
   "cell_type": "markdown",
   "id": "df369c5e-46a9-410e-aa05-ca888a4e8e86",
   "metadata": {},
   "source": [
    "#### Output Layer - Graph Head\n",
    "For our graph head we saw that the weights for the first class were pushed negative and second class positive.  Since 3/4 of our examples are cancerous, seeing the model overly fit to predicting cancerous is likely a safe coarse learning for the model. With more examples and training loops this would be refined. "
   ]
  },
  {
   "cell_type": "code",
   "execution_count": 106,
   "id": "d25575c8-8458-4388-b9ee-65f5542b878e",
   "metadata": {},
   "outputs": [
    {
     "data": {
      "text/plain": [
       "(torch.Size([4, 3]),\n",
       " tensor([[-0.0683,  1.4658, -0.0681],\n",
       "         [-0.0683,  1.4658, -0.0681],\n",
       "         [-0.0683,  1.4658, -0.0681],\n",
       "         [-0.0683,  1.4658, -0.0681]], grad_fn=<DivBackward0>))"
      ]
     },
     "execution_count": 106,
     "metadata": {},
     "output_type": "execute_result"
    }
   ],
   "source": [
    "mask = gene_mask.float().unsqueeze(0)\n",
    "denom = mask.sum(1, keepdim=True).clamp_min(1.0) \n",
    "pooled = (x * mask.unsqueeze(-1)).sum(1) / denom \n",
    "pooled.size(), pooled"
   ]
  },
  {
   "cell_type": "code",
   "execution_count": 107,
   "id": "5fc2bbaa-4471-47b6-81d0-71b89c709339",
   "metadata": {},
   "outputs": [
    {
     "data": {
      "text/plain": [
       "(torch.Size([4, 2]),\n",
       " tensor([[-0.5574,  0.5640],\n",
       "         [-0.5574,  0.5640],\n",
       "         [-0.5574,  0.5640],\n",
       "         [-0.5574,  0.5640]], grad_fn=<AddmmBackward0>))"
      ]
     },
     "execution_count": 107,
     "metadata": {},
     "output_type": "execute_result"
    }
   ],
   "source": [
    "graph_logits = graph_head(pooled)  # [B,2]\n",
    "graph_logits.size(), graph_logits"
   ]
  },
  {
   "cell_type": "markdown",
   "id": "08f80e4a-0ab9-4c31-92d9-d118eabe6bcf",
   "metadata": {},
   "source": [
    "### Updated Loss calculation"
   ]
  },
  {
   "cell_type": "markdown",
   "id": "0ec1ad4b-1191-4437-8e9d-eebd32686ff6",
   "metadata": {},
   "source": [
    "Now we'll calculate the updated loss.  Our first pass's total loss was 0.6931 for each of the heads and a total of 1.3862, on par with random. Since we're passing through the same example and used a fairly high learning rate we should see a significant improvement with just 1 learning pass. "
   ]
  },
  {
   "cell_type": "code",
   "execution_count": 108,
   "id": "1b05a226-1598-4941-bfb8-31f26ebd9649",
   "metadata": {},
   "outputs": [
    {
     "data": {
      "text/plain": [
       "([tensor(0.6932, grad_fn=<NllLossBackward0>),\n",
       "  tensor(0.6931, grad_fn=<NllLossBackward0>)],\n",
       " tensor(1.3863, grad_fn=<AddBackward0>))"
      ]
     },
     "execution_count": 108,
     "metadata": {},
     "output_type": "execute_result"
    }
   ],
   "source": [
    "losses, loss"
   ]
  },
  {
   "cell_type": "markdown",
   "id": "338530be-cd00-4dab-8bb9-66a2de6cc3bf",
   "metadata": {},
   "source": [
    "#### node loss"
   ]
  },
  {
   "cell_type": "code",
   "execution_count": 109,
   "id": "82e7d820-7fc8-4d16-bb06-c4a63773e71f",
   "metadata": {},
   "outputs": [],
   "source": [
    "losses = []\n",
    "valid = (gene_mask & (y_node>=0))"
   ]
  },
  {
   "cell_type": "code",
   "execution_count": 110,
   "id": "df00a073-3b4c-4d32-b715-aded599a7ea6",
   "metadata": {},
   "outputs": [
    {
     "data": {
      "text/plain": [
       "tensor(0.7072, grad_fn=<NllLossBackward0>)"
      ]
     },
     "execution_count": 110,
     "metadata": {},
     "output_type": "execute_result"
    }
   ],
   "source": [
    "nl = F.cross_entropy(node_logits[valid], y_node[valid])\n",
    "losses.append(nl)\n",
    "nl"
   ]
  },
  {
   "cell_type": "markdown",
   "id": "508afda7-fdf3-4f22-9a0b-691b56b83109",
   "metadata": {},
   "source": [
    "#### graph loss"
   ]
  },
  {
   "cell_type": "code",
   "execution_count": 111,
   "id": "df05a236-686c-4af6-8673-d3d036e9c16a",
   "metadata": {},
   "outputs": [
    {
     "data": {
      "text/plain": [
       "tensor(0.5624, grad_fn=<NllLossBackward0>)"
      ]
     },
     "execution_count": 111,
     "metadata": {},
     "output_type": "execute_result"
    }
   ],
   "source": [
    "gl = F.cross_entropy(graph_logits, y_graph)\n",
    "losses.append(gl)\n",
    "gl"
   ]
  },
  {
   "cell_type": "code",
   "execution_count": 112,
   "id": "a7cd1804-3125-4f85-9ac3-f5d6fd33e8f2",
   "metadata": {},
   "outputs": [
    {
     "data": {
      "text/plain": [
       "tensor(1.2695, grad_fn=<AddBackward0>)"
      ]
     },
     "execution_count": 112,
     "metadata": {},
     "output_type": "execute_result"
    }
   ],
   "source": [
    "updated_loss = sum(losses) \n",
    "updated_loss"
   ]
  },
  {
   "cell_type": "code",
   "execution_count": 113,
   "id": "3606e784-6c00-4a44-bb19-50ed2dc63dd9",
   "metadata": {},
   "outputs": [
    {
     "data": {
      "text/plain": [
       "'1 round of training resulted in an loss improvment of 0.1167'"
      ]
     },
     "execution_count": 113,
     "metadata": {},
     "output_type": "execute_result"
    }
   ],
   "source": [
    "f'1 round of training resulted in an loss improvment of {loss.item() - updated_loss.item():.4f}'"
   ]
  },
  {
   "cell_type": "markdown",
   "id": "002b2d85-2edb-49be-b145-362a08177dd0",
   "metadata": {},
   "source": [
    "## Training SUCCESS!\n",
    "Our training improved the loss by about **~9%** overall (amount may vary since we didn't set a seed). Interestingly we did see that the loss on the node head got worse but the loss on the graph head outweighed the drop in performance.  If we saw this persist we could change the alpha in our loss sum. There are flaws with this, mainly passing the same example through a second time and a crazy high learning rate, but this helps show the fundamentals of what learning does inside a GCN style GNN model. "
   ]
  },
  {
   "cell_type": "markdown",
   "id": "2af9b6c8-ceff-4217-bab3-232a47ffa034",
   "metadata": {},
   "source": [
    "## Logit to Token"
   ]
  },
  {
   "cell_type": "markdown",
   "id": "fe75d505-17ea-4ba8-9aec-b3936bb8b444",
   "metadata": {},
   "source": [
    "For our last piece of code on this notebook, we'll actually now convert our logits for each head into actual class predictions.  For class prediction we apply argmax to the logits. Argmax returns the input index at which an array attains its maximum: \n",
    "$$\n",
    "\\operatorname*{argmax}_x f(x)={x\\mid f(x)\\ge f(y)\\ \\forall y}\n",
    "$$\n",
    "Since we're trying to find the class, argmax will return the index at which the class is maximized. "
   ]
  },
  {
   "cell_type": "markdown",
   "id": "39d01fd9-294c-4932-83f1-925322be8d97",
   "metadata": {},
   "source": [
    "### Graph class prediction \n",
    "As a reminder our graph head predicts whether a graph is cancerous or not.  We can see here that it overly defaulted to true which makes sense given the input data. "
   ]
  },
  {
   "cell_type": "code",
   "execution_count": 114,
   "id": "2f053a07-08b4-433e-a605-5019b73c41d1",
   "metadata": {},
   "outputs": [
    {
     "name": "stdout",
     "output_type": "stream",
     "text": [
      "Graph preds: [1, 1, 1, 1]  True: [0, 1, 1, 1]\n"
     ]
    }
   ],
   "source": [
    "print(\"Graph preds:\", graph_logits.argmax(-1).tolist(), \" True:\", y_graph.tolist())"
   ]
  },
  {
   "cell_type": "markdown",
   "id": "4f3c4fbd-f629-4969-9158-c94b39b996b6",
   "metadata": {},
   "source": [
    "### Node class prediction \n",
    "As a reminder our node head predicts the cell type for a node in every single example.  It looks at the gene type and, with the assumption it's upregulated, predicts the cell type it's most commonly upregulated in. We could aggregate across different dimensions using argmax again to get a graph level or gene level predictor. "
   ]
  },
  {
   "cell_type": "code",
   "execution_count": 115,
   "id": "ce1a9122-2b36-4254-b1dd-6b0046c8f8ee",
   "metadata": {},
   "outputs": [
    {
     "name": "stdout",
     "output_type": "stream",
     "text": [
      "Per-node preds (genes only):\n",
      "sample0: CD3D: pred=B true=T X | LCK: pred=B true=T X | ZAP70: pred=B true=T X | CD19: pred=B true=B\n",
      "sample1: CD3D: pred=B true=T X | LCK: pred=B true=B | ZAP70: pred=B true=T X | CD19: pred=B true=B\n",
      "sample2: CD3D: pred=B true=B | LCK: pred=B true=T X | ZAP70: pred=B true=T X | CD19: pred=B true=B\n",
      "sample3: CD3D: pred=B true=T X | LCK: pred=B true=T X | ZAP70: pred=B true=B | CD19: pred=B true=B\n"
     ]
    }
   ],
   "source": [
    "print(\"Per-node preds (genes only):\")\n",
    "label = {0: \"T\", 1: \"B\"}\n",
    "pred = node_logits.argmax(-1)\n",
    "ytrue = y_node\n",
    "valid = (ytrue >= 0)\n",
    "names = node_order\n",
    "\n",
    "\n",
    "for b in range(pred.size(0)):\n",
    "    idxs = torch.nonzero(valid[b], as_tuple=False).squeeze(1).tolist()\n",
    "    parts = []\n",
    "    for i in idxs:\n",
    "        p = pred[b, i].item()\n",
    "        t = ytrue[b, i].item()\n",
    "        cor = '' if p ==  t else ' X'\n",
    "        parts.append(f'{names[i]}: pred={label[p]} true={label[t]}{cor}')\n",
    "    print(f'sample{b}: ' + ' | '.join(parts))"
   ]
  }
 ],
 "metadata": {
  "kernelspec": {
   "display_name": "Python 3 (ipykernel)",
   "language": "python",
   "name": "python3"
  },
  "language_info": {
   "codemirror_mode": {
    "name": "ipython",
    "version": 3
   },
   "file_extension": ".py",
   "mimetype": "text/x-python",
   "name": "python",
   "nbconvert_exporter": "python",
   "pygments_lexer": "ipython3",
   "version": "3.13.7"
  }
 },
 "nbformat": 4,
 "nbformat_minor": 5
}
