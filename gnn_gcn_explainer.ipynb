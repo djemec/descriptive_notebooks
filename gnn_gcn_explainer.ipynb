{
 "cells": [
  {
   "cell_type": "markdown",
   "id": "5f90f355-7060-4d8c-8642-e4c8b95e47ce",
   "metadata": {},
   "source": [
    "# GNN GCN Explainer"
   ]
  },
  {
   "cell_type": "markdown",
   "id": "d28f82b9-4659-4d62-a110-21df41985293",
   "metadata": {},
   "source": [
    "The goal of this notebook is to walk through Graph Convolutional Networks (GCNs) flavor of a GNN (graph neural network). Like CNNs on images, GCNs operate on graphs where nodes are entities  and edges encode relations. A standard GCN layer does two things: it aggregates normalized messages from each node’s neighbors (using the graph’s adjacency) and mixes features with a shared linear transform. Stacking more layers lets information flow across more hops (think 2 connections apart). This makes GCNs effective for node classification, link prediction, and graph classification. In this notebook we'll actually focus on a specific variang called a signed GCNs since it allows for edges to have both positive and negative relationships while keeping the same message-passing idea. Common GNN pitfalls include over-smoothing through the use of deep layers that make nodes look alike, over-squashing that creates long-range info bottlenecked, and numerical issues on irregular/signed graphs. We'll address some fixes to these in our examples. \n",
    "\n",
    "To help display how GCNs work, we'll use a representation of a gene regulatory network where we have 2 specific cell types, a set of genes that are up/down regulated, and then a label for each sample to flag if it's cancerous or not. With our GCN, the goal will be to train it to take in a set of genes and how they're regulated and then predict the cell type as the *node task*, or node level prediction and whether it's cancerous as the *graph task* or graph level prediction. This dual goal will require us to balance 2 loss functions. "
   ]
  },
  {
   "cell_type": "markdown",
   "id": "fc2ef733-c5a3-4b0d-98e0-abeda3f6e4c8",
   "metadata": {},
   "source": [
    "## Graph Data Prep"
   ]
  },
  {
   "cell_type": "markdown",
   "id": "808a9847-8f90-4c35-a1b0-1c39e4901fd8",
   "metadata": {},
   "source": [
    "We'll start with a common preprocessing step. Instead of a typical tokenizer, we have to create a numerical representation of our graph by enumerating the ndes and edges.  This process first starts by creating a series of \"token-like\" IDS vor our node vocabulary. In our example that becomes the gene and cell types.  We then use integers to map the relationship of the gene and cell types. This is where our **signed graph** starts since we use a `+1` edges for up-regulation and `-1` for down-regulation.   As a result we end up with the following generated:\n",
    "1. **x_tokens** - a list of nodes\n",
    "2. **y_node** - per-node (gene) gene cell type labels. This uses a balance of the up regulated and down-regulate genes and flags for each sample if the gene is more common with B-cells or T-cells.  We use a `-1` here to flag cells to ignore\n",
    "3. **y_graph** - per-graph (sample) cancer type label. We use `1` for cancerous and `0` for wild type\n",
    "4. **a_list** - the nodes in our graph that link the different cell types and genes together.  We pool together all the samples together into a large block-diagonal matrix.\n"
   ]
  },
  {
   "cell_type": "code",
   "execution_count": 1,
   "id": "41e28a2f-365a-42e4-ac2c-412d614dcb58",
   "metadata": {},
   "outputs": [],
   "source": [
    "import torch\n",
    "import torch.nn as nn\n",
    "import torch.nn.functional as F\n",
    "import matplotlib.pyplot as plt"
   ]
  },
  {
   "cell_type": "code",
   "execution_count": 2,
   "id": "0551b97a-37db-444b-8ca8-22fadbcdfa3e",
   "metadata": {},
   "outputs": [],
   "source": [
    "cell_types = [\"Tcells\",\"Bcells\"]\n",
    "genes = ['CD3D','LCK','ZAP70','CD19'] #only focused on genes present\n",
    "node_order = genes + [f'CT_{ct}' for ct in cell_types]   # genes first, then CT nodes\n",
    "gene_mask = torch.tensor([1,1,1,1,0,0], dtype=torch.bool)\n",
    "N = len(node_order) "
   ]
  },
  {
   "cell_type": "code",
   "execution_count": 3,
   "id": "ef4fc78e-a241-4efb-a7b6-fb69fb61cc1d",
   "metadata": {},
   "outputs": [],
   "source": [
    "wild_type = {\n",
    "    'Tcells':{'up': ['CD3D','LCK','ZAP70'],'down': ['CD19']},\n",
    "    'Bcells':{'up': ['CD19'],'down': ['CD3D','LCK','ZAP70']},\n",
    "  #  'Macrophages':{'up': ['CSF1R'],'down': ['CD3D','MS4A1','CD19']},\n",
    "}\n",
    "\n",
    "cancerous = {\n",
    "    'Tcells':{'up': ['CD3D','ZAP70'],'down': ['CD19','LCK']},\n",
    "    'Bcells':{'up': ['CD19','LCK','CD3D'],'down': ['ZAP70']},\n",
    "   # 'Macrophages':{'up': ['CSF1R'],'down': ['CD3D','MS4A1','CD19']},\n",
    "}\n",
    "\n",
    "cancerous_2 = {\n",
    "    'Tcells':{'up': ['ZAP70'],'down': ['CD19','CD3D','LCK']},\n",
    "    'Bcells':{'up': ['CD19','ZAP70','CD3D'],'down': ['LCK']},\n",
    "   # 'Macrophages':{'up': ['CSF1R'],'down': ['CD3D','MS4A1','CD19']},\n",
    "}\n",
    "\n",
    "cancerous_3 = {\n",
    "    'Tcells':{'up': ['LCK'],'down': ['ZAP70','CD19','CD3D']},\n",
    "    'Bcells':{'up': ['CD19','ZAP70'],'down': ['LCK','CD3D']},\n",
    "   # 'Macrophages':{'up': ['CSF1R'],'down': ['CD3D','MS4A1','CD19']},\n",
    "}"
   ]
  },
  {
   "cell_type": "code",
   "execution_count": 4,
   "id": "9c338cdf-3f0b-4975-a7d0-777e9e259103",
   "metadata": {},
   "outputs": [
    {
     "data": {
      "text/plain": [
       "(6,\n",
       " {'CD3D': 0, 'LCK': 1, 'ZAP70': 2, 'CD19': 3, 'CT_Tcells': 4, 'CT_Bcells': 5})"
      ]
     },
     "execution_count": 4,
     "metadata": {},
     "output_type": "execute_result"
    }
   ],
   "source": [
    "def build_vocab(genes, cell_types):\n",
    "    toks = genes + [f\"CT_{ct}\" for ct in cell_types]\n",
    "    stoi = {t:i for i,t in enumerate(toks)}; itos = {i:t for t,i in stoi.items()}\n",
    "    return stoi, itos\n",
    "\n",
    "stoi, itos = build_vocab(genes, cell_types)\n",
    "vocab_size = len(stoi)\n",
    "\n",
    "vocab_size, stoi"
   ]
  },
  {
   "cell_type": "code",
   "execution_count": 5,
   "id": "34a5ea7e-e807-4c4e-9812-3ef8dd4fbac6",
   "metadata": {},
   "outputs": [],
   "source": [
    "def make_signed_adj_and_labels(spec, node_order, genes, cell_types, stoi):\n",
    "    N = len(node_order)\n",
    "    A = torch.zeros(N, N)\n",
    "    def idx(n): return node_order.index(n)\n",
    "    def add_edge(g, ct, s):\n",
    "        i, j = idx(g), idx(f\"CT_{ct}\")\n",
    "        A[i,j] = s; A[j,i] = s\n",
    "    for ct in cell_types:\n",
    "        for g in spec[ct].get('up', []):   add_edge(g, ct, +1)\n",
    "        for g in spec[ct].get('down', []): add_edge(g, ct, -1)\n",
    "    X_tokens = torch.tensor([stoi[n] for n in node_order], dtype=torch.long)\n",
    "    y_node = torch.full((N,), -1, dtype=torch.long)   # -1 = ignore (CT nodes)\n",
    "    # per-gene cell-type label: 0=Tcells, 1=Bcells; rule: prefer UP; tie-break by order T then B; fallback from DOWN (invert)\n",
    "    for g in genes:\n",
    "        def score(ct):\n",
    "            rel = spec.get(ct, {})\n",
    "            return int(g in rel.get('up', [])) - int(g in rel.get('down', []))\n",
    "        t_score = score('Tcells')\n",
    "        b_score = score('Bcells')\n",
    "        i = idx(g)\n",
    "        if t_score > b_score: y_node[i] = 0            # T\n",
    "        elif b_score > t_score: y_node[i] = 1          # B\n",
    "        else:\n",
    "            # option (a) ignore ties/no-signal:\n",
    "            # y_node[i] = -1\n",
    "            # option (b) deterministic tie-break to T:\n",
    "            y_node[i] = 0\n",
    "    return X_tokens, y_node, A"
   ]
  },
  {
   "cell_type": "code",
   "execution_count": 6,
   "id": "84b2754c-0deb-4fc9-af0c-e7fc4a097dc3",
   "metadata": {},
   "outputs": [],
   "source": [
    "graphs = [wild_type, cancerous, cancerous_2, cancerous_3]\n",
    "x_list, y_node_list, a_list = [], [], []"
   ]
  },
  {
   "cell_type": "code",
   "execution_count": 7,
   "id": "7f1d9bff-b2d0-44cf-80a3-7664dc96888e",
   "metadata": {},
   "outputs": [],
   "source": [
    "for spec in graphs:\n",
    "    x_i, y_i, a_i = make_signed_adj_and_labels(spec, node_order, genes, cell_types, stoi)\n",
    "    x_list.append(x_i); y_node_list.append(y_i); a_list.append(a_i.float())"
   ]
  },
  {
   "cell_type": "markdown",
   "id": "1358655c-9f34-4bf5-9018-7d24d3a7d7dc",
   "metadata": {},
   "source": [
    "**x_tokens** - a list of nodes\n",
    "\n",
    "Notice that all nodes are present in each of our samples. "
   ]
  },
  {
   "cell_type": "code",
   "execution_count": 8,
   "id": "9e2e3a57-6b0d-401b-8b57-bb3a8be550af",
   "metadata": {},
   "outputs": [
    {
     "data": {
      "text/plain": [
       "(torch.Size([4, 6]),\n",
       " tensor([[0, 1, 2, 3, 4, 5],\n",
       "         [0, 1, 2, 3, 4, 5],\n",
       "         [0, 1, 2, 3, 4, 5],\n",
       "         [0, 1, 2, 3, 4, 5]]))"
      ]
     },
     "execution_count": 8,
     "metadata": {},
     "output_type": "execute_result"
    }
   ],
   "source": [
    "x_tokens = torch.stack(x_list)   \n",
    "x_tokens.size(), x_tokens"
   ]
  },
  {
   "cell_type": "markdown",
   "id": "a26544e1-dae5-45e5-b88a-35927f42b552",
   "metadata": {},
   "source": [
    "**y_node** - per-node (gene) gene cell type labels. This uses a balance of the up regulated and down-regulate genes and flags for each sample. If the gene is more commonly upregulated with B-cells we flag it as `0` and if it's more commonly up-regulated in T-cells we flag it as `1`.  This evaluation is done per sample (seen here as per row). \n",
    "\n",
    "The last two columns are embeddings purely for cell type so we flag them as -1 to be masked during training. "
   ]
  },
  {
   "cell_type": "code",
   "execution_count": 9,
   "id": "3af282a3-7822-4ecb-a0e9-b7c674698c86",
   "metadata": {},
   "outputs": [
    {
     "data": {
      "text/plain": [
       "(torch.Size([4, 6]),\n",
       " tensor([[ 0,  0,  0,  1, -1, -1],\n",
       "         [ 0,  1,  0,  1, -1, -1],\n",
       "         [ 1,  0,  0,  1, -1, -1],\n",
       "         [ 0,  0,  1,  1, -1, -1]]))"
      ]
     },
     "execution_count": 9,
     "metadata": {},
     "output_type": "execute_result"
    }
   ],
   "source": [
    "y_node   = torch.stack(y_node_list)\n",
    "y_node.size(), y_node"
   ]
  },
  {
   "cell_type": "markdown",
   "id": "02778eef-10b7-4a71-afc4-9665a423c51b",
   "metadata": {},
   "source": [
    "**y_graph** - per-graph (sample) cancer type label. We use `1` for cancerous and `0` for wild type"
   ]
  },
  {
   "cell_type": "code",
   "execution_count": 10,
   "id": "1de539e1-92bb-4ea6-9901-aa10879d7d83",
   "metadata": {},
   "outputs": [
    {
     "data": {
      "text/plain": [
       "(torch.Size([4]), tensor([0, 1, 1, 1]))"
      ]
     },
     "execution_count": 10,
     "metadata": {},
     "output_type": "execute_result"
    }
   ],
   "source": [
    "y_graph  = torch.tensor([0,1,1,1]) # 0=wild_type, 1=cancerous\n",
    "y_graph.size(), y_graph"
   ]
  },
  {
   "cell_type": "markdown",
   "id": "dba5b018-ab31-4a13-8424-54be07ce0c20",
   "metadata": {},
   "source": [
    "**Graph** \n",
    "\n",
    "Since this is a GNN explainer, let's visualize actually how these graphs look. This is in essence the graph the model is looking at and learning how to read so that if it sees a new one one, it can predict the properties we are minimizing loss on (cancerous, cell type). "
   ]
  },
  {
   "cell_type": "code",
   "execution_count": 11,
   "id": "d67ae0d2-29ed-4034-9761-a8e517bd1aa2",
   "metadata": {},
   "outputs": [
    {
     "data": {
      "image/png": "[encoded data removed]",
      "text/plain": [
       "<Figure size 1000x800 with 4 Axes>"
      ]
     },
     "metadata": {},
     "output_type": "display_data"
    }
   ],
   "source": [
    "def compute_positions(genes, cell_types):\n",
    "    # left column (genes), right column (cell types)\n",
    "    gx, cx = 0.1, 0.9\n",
    "    gy = list(range(len(genes)-1, -1, -1))  # top-to-bottom\n",
    "    if len(cell_types) > 1:\n",
    "        # spread CTs across same vertical span as genes\n",
    "        span = (len(genes)-1)\n",
    "        cy = [span * (1 - i/(len(cell_types)-1)) for i in range(len(cell_types))]\n",
    "    else:\n",
    "        cy = [(len(genes)-1)/2]\n",
    "    pos = {g:(gx, gy[i]) for i,g in enumerate(genes)}\n",
    "    pos.update({f\"CT_{ct}\":(cx, cy[j]) for j,ct in enumerate(cell_types)})\n",
    "    return pos\n",
    "\n",
    "def draw_sample(ax, spec, title, genes, cell_types):\n",
    "    pos = compute_positions(genes, cell_types)\n",
    "    # draw nodes\n",
    "    for i,g in enumerate(genes):\n",
    "        x,y = pos[g]\n",
    "        ax.scatter([x],[y], s=300, marker='o', zorder=3)\n",
    "        ax.text(x-0.03, y, g, va='center', ha='right', fontsize=10)\n",
    "    for ct in cell_types:\n",
    "        name = f\"CT_{ct}\"\n",
    "        x,y = pos[name]\n",
    "        ax.scatter([x],[y], s=350, marker='s', zorder=3)\n",
    "        ax.text(x+0.03, y, ct, va='center', ha='left', fontsize=10)\n",
    "    # draw edges: solid = upregulated (+1), dashed = downregulated (-1)\n",
    "    for ct in cell_types:\n",
    "        ct_name = f\"CT_{ct}\"\n",
    "        for g in spec[ct].get('up', []):\n",
    "            if g in genes:\n",
    "                x1,y1 = pos[g]; x2,y2 = pos[ct_name]\n",
    "                ax.plot([x1,x2],[y1,y2], linestyle='-', linewidth=2, zorder=2)\n",
    "        for g in spec[ct].get('down', []):\n",
    "            if g in genes:\n",
    "                x1,y1 = pos[g]; x2,y2 = pos[ct_name]\n",
    "                ax.plot([x1,x2],[y1,y2], linestyle='--', linewidth=2, zorder=2)\n",
    "\n",
    "    # aesthetics\n",
    "    ax.set_title(title)\n",
    "    ax.set_xlim(0.0, 1.0)\n",
    "    ys = list(range(len(genes)))\n",
    "    ax.set_ylim(-0.5, len(genes)-0.5)\n",
    "    ax.set_xticks([]); ax.set_yticks([])\n",
    "    for spine in ax.spines.values(): spine.set_visible(False)\n",
    "\n",
    "    # legend (solid=up, dashed=down)\n",
    "    from matplotlib.lines import Line2D\n",
    "    legend_lines = [\n",
    "        Line2D([0],[0], linestyle='-', linewidth=2, label='Upregulated'),\n",
    "        Line2D([0],[0], linestyle='--', linewidth=2, label='Downregulated'),\n",
    "    ]\n",
    "    ax.legend(handles=legend_lines, loc='upper center', frameon=False, fontsize=9)\n",
    "\n",
    "# ----- draw all four samples -----\n",
    "fig, axes = plt.subplots(2, 2, figsize=(10, 8))\n",
    "samples = [\n",
    "    ('Sample 1 [wild type]',    wild_type),\n",
    "    ('Sample 2 [cancerous]',    cancerous),\n",
    "    ('Sample 3 [cancerous]',  cancerous_2),\n",
    "    ('Sample 4 [cancerous]',  cancerous_3),\n",
    "]\n",
    "for ax, (name, spec) in zip(axes.ravel(), samples):\n",
    "    draw_sample(ax, spec, name, genes, cell_types)\n",
    "\n",
    "plt.tight_layout()\n",
    "plt.show()"
   ]
  },
  {
   "cell_type": "markdown",
   "id": "daa14583-b673-48ae-a53d-353275a6b170",
   "metadata": {},
   "source": [
    "# Modeling"
   ]
  },
  {
   "cell_type": "markdown",
   "id": "20c2576e-4d03-47f5-83c9-5f69bb845bb9",
   "metadata": {},
   "source": [
    "A machine learning model forward pass now uses the data prep information, runs several layers of linear algebra on it, and then \"predicts\" the probability of our different tasks, in this case the cell type based on the node and whether a graph is cancerous. When it is noisy (like you will see in this example), this process results in gibberish.  The training process changes the noise to pattern during the \"backward pass\" as you'll see. We'll show 3 steps that are focused on training:\n",
    "1. **Data Loading** - this step pulls from the raw data enough examples and batches to complete a forward pass and loss calculation.  If the model is inference only, this step is replaced with taking in the inference input and preparing it similarly as the forward pass. \n",
    "2. **Forward Pass** - using the data and the model architecture we run a prediction for the tokens. When training we also compare against the expected to get loss, but in inference, we use the logits to complete the inference task.\n",
    "3. **Back Propagation, aka Backward Pass & Training** - using differentials we can understand what parameters most drive the difference between forward pass' impact on its prediction versus what is actually right based on the data loading step. We compare this based on the loss function and use the partial derivative gradients to make very minor adjustments to the impactful parameters with the hope it improves future predictions.\n",
    "\n",
    "After our back prop, e'll show a final **Forward Pass** with the updated weights we did in #3 and then convert those final weights to a **Model Inference**"
   ]
  },
  {
   "cell_type": "markdown",
   "id": "3a1a64a9-88b9-405f-9076-f26b31d751cb",
   "metadata": {},
   "source": [
    "## Data Loading"
   ]
  },
  {
   "cell_type": "markdown",
   "id": "0b219fb8-da7b-4d3f-928f-3a3fbb3edaf4",
   "metadata": {},
   "source": [
    "To start, we need to get enough data to run the forward and backward passes.  Since our total dataset in a real experiment is likely too big to be held in memory all at once in real practice, we will read just enough file information into memory so that we can run the passes, leaving memory and compute to be used on the passes instead of static data holding. \n",
    "To start, we have to identify the batch size and the model context length to determine how much data we need.  Consequently, these dimensions also form 2 of the 3 dimensions in the initial matrix.\n",
    "- **Batch Size (B)** - This is the number of examples you'll train on in a single pass. \n",
    "- **Number of Nodes (N)** - This is basically the \"context length\" for a GNN.  This is the max number of node that a model can use in a pass.\n",
    "\n",
    "Beyond these, in a GCN, the depth also controls how much context, or complexity, can be learned. This is because each GCN layer learns 1 hop, or 1 relationship of neighbors. This means that after $L$ layers, a model can learn $L$-hops worth of context.\n",
    "\n",
    "In our case we'll set our batch to be our 4 examples, and nodes to the the nodes we have configured, 6. As we walk through you'll also see our GCN will have 2 layers to model 2 network hops: gene > cell type > other genes.\n",
    "\n",
    "We'll prepare 2 sets of data. Our **Inputs** will be the `x_token`, or our list of nodes for each example, and `a_list`, our list of node connections.  Our **Outputs** will be `y_node`, our node level cell type identification, and `y_graph`, the graph level cancerous identification. "
   ]
  },
  {
   "cell_type": "markdown",
   "id": "8babb989-efe2-4706-b0b0-13441cafc74c",
   "metadata": {},
   "source": [
    "**x_tokens** — list of nodes for each example. Each entry is an integer token id for the node at that position in node_order (e.g.`['CD3D','LCK','ZAP70','CD19','CT_Tcells','CT_Bcells']`).  In our case we you'll notice that each example contains all the nodes. "
   ]
  },
  {
   "cell_type": "code",
   "execution_count": 12,
   "id": "bb0a6c56-3be5-4750-b96b-74539aad3516",
   "metadata": {},
   "outputs": [
    {
     "data": {
      "text/plain": [
       "(4,\n",
       " 6,\n",
       " tensor([[0, 1, 2, 3, 4, 5],\n",
       "         [0, 1, 2, 3, 4, 5],\n",
       "         [0, 1, 2, 3, 4, 5],\n",
       "         [0, 1, 2, 3, 4, 5]]))"
      ]
     },
     "execution_count": 12,
     "metadata": {},
     "output_type": "execute_result"
    }
   ],
   "source": [
    "B_batch, N_nodes = x_tokens.shape\n",
    "B_batch, N_nodes, x_tokens"
   ]
  },
  {
   "cell_type": "markdown",
   "id": "646b7d0c-2855-49f2-82b8-3db6e33e8e65",
   "metadata": {},
   "source": [
    "**y_node** - per-gene label for cell-type. `0` for T-cell marker and tie's, `1` for B-cell marker. As a reminder, this is an aggregation of the up-regulated and down-regulated genes. We focus on which cell type has the gene up-regulated and, if both have it, we use 0. There are ways to handle ties better but we won't get into it.  Since `y_node` also includes the cell types, we'll use -1 to mask them as ignored."
   ]
  },
  {
   "cell_type": "code",
   "execution_count": 13,
   "id": "398f1753-b2cd-4bcc-a782-b7df306cc01b",
   "metadata": {},
   "outputs": [
    {
     "data": {
      "text/plain": [
       "(torch.Size([4, 6]),\n",
       " tensor([[ 0,  0,  0,  1, -1, -1],\n",
       "         [ 0,  1,  0,  1, -1, -1],\n",
       "         [ 1,  0,  0,  1, -1, -1],\n",
       "         [ 0,  0,  1,  1, -1, -1]]))"
      ]
     },
     "execution_count": 13,
     "metadata": {},
     "output_type": "execute_result"
    }
   ],
   "source": [
    "y_node.size(), y_node"
   ]
  },
  {
   "cell_type": "markdown",
   "id": "b436ffa9-9fa8-4048-8576-9184378edfae",
   "metadata": {},
   "source": [
    "**y_graph** — per-graph label for to determine if an example is cancerous. `0` is for wild_type and `1` is for cancerous.  "
   ]
  },
  {
   "cell_type": "code",
   "execution_count": 14,
   "id": "5a991b33-e35d-4aae-8cb4-53d27f8ec894",
   "metadata": {},
   "outputs": [
    {
     "data": {
      "text/plain": [
       "(torch.Size([4]), tensor([0, 1, 1, 1]))"
      ]
     },
     "execution_count": 14,
     "metadata": {},
     "output_type": "execute_result"
    }
   ],
   "source": [
    "y_graph.size(), y_graph"
   ]
  },
  {
   "cell_type": "markdown",
   "id": "ce7ee2b9-bc4b-4863-8d97-0aba83e0e227",
   "metadata": {},
   "source": [
    "**A_list** - The relationships for each of our cells.  You'll notice here that only the last two ros and columns are used.  In this tensor `+1` is for **upregulated** gene per cell type and `-1` is for **downregulated**. `0` is for not in the network.  We also include here a **Gene_mask** that will act in our loss function as a flag to supress the gene x gene portions of the matrix. "
   ]
  },
  {
   "cell_type": "code",
   "execution_count": 15,
   "id": "1e192adb-bbf8-45bf-8a8d-bc58fbdf7ff9",
   "metadata": {},
   "outputs": [
    {
     "data": {
      "text/plain": [
       "(tensor([ True,  True,  True,  True, False, False]),\n",
       " [tensor([[ 0.,  0.,  0.,  0.,  1., -1.],\n",
       "          [ 0.,  0.,  0.,  0.,  1., -1.],\n",
       "          [ 0.,  0.,  0.,  0.,  1., -1.],\n",
       "          [ 0.,  0.,  0.,  0., -1.,  1.],\n",
       "          [ 1.,  1.,  1., -1.,  0.,  0.],\n",
       "          [-1., -1., -1.,  1.,  0.,  0.]]),\n",
       "  tensor([[ 0.,  0.,  0.,  0.,  1.,  1.],\n",
       "          [ 0.,  0.,  0.,  0., -1.,  1.],\n",
       "          [ 0.,  0.,  0.,  0.,  1., -1.],\n",
       "          [ 0.,  0.,  0.,  0., -1.,  1.],\n",
       "          [ 1., -1.,  1., -1.,  0.,  0.],\n",
       "          [ 1.,  1., -1.,  1.,  0.,  0.]]),\n",
       "  tensor([[ 0.,  0.,  0.,  0., -1.,  1.],\n",
       "          [ 0.,  0.,  0.,  0., -1., -1.],\n",
       "          [ 0.,  0.,  0.,  0.,  1.,  1.],\n",
       "          [ 0.,  0.,  0.,  0., -1.,  1.],\n",
       "          [-1., -1.,  1., -1.,  0.,  0.],\n",
       "          [ 1., -1.,  1.,  1.,  0.,  0.]]),\n",
       "  tensor([[ 0.,  0.,  0.,  0., -1., -1.],\n",
       "          [ 0.,  0.,  0.,  0.,  1., -1.],\n",
       "          [ 0.,  0.,  0.,  0., -1.,  1.],\n",
       "          [ 0.,  0.,  0.,  0., -1.,  1.],\n",
       "          [-1.,  1., -1., -1.,  0.,  0.],\n",
       "          [-1., -1.,  1.,  1.,  0.,  0.]])])"
      ]
     },
     "execution_count": 15,
     "metadata": {},
     "output_type": "execute_result"
    }
   ],
   "source": [
    "gene_mask, a_list"
   ]
  },
  {
   "cell_type": "markdown",
   "id": "4a919d5c-671a-4afe-88fb-cce01d5a3834",
   "metadata": {},
   "source": [
    "### Data Loading - Signed Symmetric Graph Normalization"
   ]
  },
  {
   "cell_type": "markdown",
   "id": "ceb1cce1-d1c6-474b-8cca-3f1e0df00f24",
   "metadata": {},
   "source": [
    "With `a_list` we now have all of our relationships but they're not in the most training conducive structure.  For our training, since we actually have 2 types of relationships, we need to split that into two different graphs that the model can learn across. This split creates 2 channels, 1 for the excitatory regulation, and one for the inhibitory.  We then run normalizaiton, and a self-loop on the excitory, to improve numerical stability, scaling, and preserve node signals to themself. Finally, once we've split and normalized each of the samples, we'll combine all of the same-signed tensors together into 1 large one using block-diagnola (which basically puts the graphs iteratively one after another diagnoally into one big tensor).  \n",
    "\n",
    "Symmetric degree normalization bounds the propagation operator and removes degree bias. the split $A^{+}/A^{-}$ prevents destructive cancellation by a model trying to learn up and down regulation together, and lets the model learn different filters for up- vs down-regulation, self-loops in the positive channel allow each node to retain itsidentity. Finally block-diagonal stacking gives clean batching without cross-graph leakage. Fundamentally we apply:\n",
    "\n",
    "$$\n",
    "\\tilde A = D^{-\\tfrac12},\\hat A,D^{-\\tfrac12} \\newline\n",
    "\\text{so}\\\\\n",
    "\\quad w_{ij}=\\frac{\\hat A_{ij}}{\\sqrt{\\deg_i,\\deg_j}}.\n",
    "$$"
   ]
  },
  {
   "cell_type": "markdown",
   "id": "60950adb-ccb7-4337-9b5a-2c7184b563fa",
   "metadata": {},
   "source": [
    "#### Signed Symmetric Graph Norm - First Example\n",
    "\n",
    "Let's start with our first example. This one is our wild type.  The first step is to extract the network from the list.  "
   ]
  },
  {
   "cell_type": "code",
   "execution_count": 16,
   "id": "a4200c9e-5211-44d3-a484-da85b849c4fb",
   "metadata": {},
   "outputs": [
    {
     "data": {
      "text/plain": [
       "(torch.Size([6, 6]),\n",
       " tensor([[ 0.,  0.,  0.,  0.,  1., -1.],\n",
       "         [ 0.,  0.,  0.,  0.,  1., -1.],\n",
       "         [ 0.,  0.,  0.,  0.,  1., -1.],\n",
       "         [ 0.,  0.,  0.,  0., -1.,  1.],\n",
       "         [ 1.,  1.,  1., -1.,  0.,  0.],\n",
       "         [-1., -1., -1.,  1.,  0.,  0.]]))"
      ]
     },
     "execution_count": 16,
     "metadata": {},
     "output_type": "execute_result"
    }
   ],
   "source": [
    "A = a_list[0]\n",
    "A.size(), A"
   ]
  },
  {
   "cell_type": "markdown",
   "id": "d961fb59-81d1-409c-9946-311087eade19",
   "metadata": {},
   "source": [
    "**Spliting** \n",
    "\n",
    "Now we'll split the network into the two different tensors, one for the positives and one for the negatives.  Recall that 0s are non-infromation for our training so we do not care where they go. "
   ]
  },
  {
   "cell_type": "code",
   "execution_count": 17,
   "id": "40fb7d17-67e5-4bd3-99e8-d285a7781b56",
   "metadata": {},
   "outputs": [
    {
     "data": {
      "text/plain": [
       "(tensor([[0., 0., 0., 0., 1., 0.],\n",
       "         [0., 0., 0., 0., 1., 0.],\n",
       "         [0., 0., 0., 0., 1., 0.],\n",
       "         [0., 0., 0., 0., 0., 1.],\n",
       "         [1., 1., 1., 0., 0., 0.],\n",
       "         [0., 0., 0., 1., 0., 0.]]),\n",
       " tensor([[0., 0., 0., 0., 0., 1.],\n",
       "         [0., 0., 0., 0., 0., 1.],\n",
       "         [0., 0., 0., 0., 0., 1.],\n",
       "         [0., 0., 0., 0., 1., 0.],\n",
       "         [0., 0., 0., 1., 0., 0.],\n",
       "         [1., 1., 1., 0., -0., -0.]]))"
      ]
     },
     "execution_count": 17,
     "metadata": {},
     "output_type": "execute_result"
    }
   ],
   "source": [
    "A_pos = torch.clamp(A, min=0)  \n",
    "A_neg = torch.clamp(-A, min=0)  \n",
    "A_pos, A_neg"
   ]
  },
  {
   "cell_type": "markdown",
   "id": "291d98ca-9d51-4eb5-8867-5bc817111f3b",
   "metadata": {},
   "source": [
    "**Self loop**\n",
    "\n",
    "We'll now add the self-loop in. Adding a self-loop lets each node pass some of its own features forward, so its identity isn’t washed out by neighbors—especially when it has few or noisy connections. It acts like a tiny skip connection, stabilizing message passing and improving learning and gradient flow. We do need to be careful though to only include it on one split. If we put the self-loop in both channels, when we do our subraction during our forward pass, we'd add, then subtract a copy of the node’s own features every pass, which fights the residual/identity signal, shrinks or flips activations, and destabilizes training."
   ]
  },
  {
   "cell_type": "code",
   "execution_count": 18,
   "id": "4ad3f31b-b686-4c26-82b7-b41cefbfd0c4",
   "metadata": {},
   "outputs": [
    {
     "data": {
      "text/plain": [
       "(tensor([[1., 0., 0., 0., 1., 0.],\n",
       "         [0., 1., 0., 0., 1., 0.],\n",
       "         [0., 0., 1., 0., 1., 0.],\n",
       "         [0., 0., 0., 1., 0., 1.],\n",
       "         [1., 1., 1., 0., 1., 0.],\n",
       "         [0., 0., 0., 1., 0., 1.]]),\n",
       " tensor([[0., 0., 0., 0., 0., 1.],\n",
       "         [0., 0., 0., 0., 0., 1.],\n",
       "         [0., 0., 0., 0., 0., 1.],\n",
       "         [0., 0., 0., 0., 1., 0.],\n",
       "         [0., 0., 0., 1., 0., 0.],\n",
       "         [1., 1., 1., 0., -0., -0.]]))"
      ]
     },
     "execution_count": 18,
     "metadata": {},
     "output_type": "execute_result"
    }
   ],
   "source": [
    "I = torch.eye(N_nodes)\n",
    "A_pos_hat = A_pos + I # add for self looops \n",
    "A_neg_hat = A_neg\n",
    "A_pos_hat, A_neg_hat"
   ]
  },
  {
   "cell_type": "markdown",
   "id": "e462c622-cee4-440b-b82b-dc42d992cf5a",
   "metadata": {},
   "source": [
    "**Degree scaling**\n",
    "\n",
    "As part of our normalization we divide by the squareroot of the product of the row and column sums.  We'll also add in a small epsilon to make sure we're not dividing by 0. We'll take this sum by graph then take the square roots. After that we'll create a diagonal so that we can take the dot product instead of having to worry about dimensions. "
   ]
  },
  {
   "cell_type": "code",
   "execution_count": 19,
   "id": "95329101-d070-4084-9283-ce26af8513a7",
   "metadata": {},
   "outputs": [
    {
     "data": {
      "text/plain": [
       "(tensor([2., 2., 2., 2., 4., 2.]), tensor([1., 1., 1., 1., 1., 3.]))"
      ]
     },
     "execution_count": 19,
     "metadata": {},
     "output_type": "execute_result"
    }
   ],
   "source": [
    "deg_pos = torch.clamp(torch.abs(A_pos_hat).sum(1), min=1e-6)\n",
    "deg_neg = torch.clamp(torch.abs(A_neg_hat).sum(1), min=1e-6)\n",
    "deg_pos, deg_neg"
   ]
  },
  {
   "cell_type": "code",
   "execution_count": 20,
   "id": "df87462e-879c-45ce-9a5d-eda9d0594b0d",
   "metadata": {},
   "outputs": [
    {
     "data": {
      "text/plain": [
       "(tensor([[0.7071, 0.0000, 0.0000, 0.0000, 0.0000, 0.0000],\n",
       "         [0.0000, 0.7071, 0.0000, 0.0000, 0.0000, 0.0000],\n",
       "         [0.0000, 0.0000, 0.7071, 0.0000, 0.0000, 0.0000],\n",
       "         [0.0000, 0.0000, 0.0000, 0.7071, 0.0000, 0.0000],\n",
       "         [0.0000, 0.0000, 0.0000, 0.0000, 0.5000, 0.0000],\n",
       "         [0.0000, 0.0000, 0.0000, 0.0000, 0.0000, 0.7071]]),\n",
       " tensor([[1.0000, 0.0000, 0.0000, 0.0000, 0.0000, 0.0000],\n",
       "         [0.0000, 1.0000, 0.0000, 0.0000, 0.0000, 0.0000],\n",
       "         [0.0000, 0.0000, 1.0000, 0.0000, 0.0000, 0.0000],\n",
       "         [0.0000, 0.0000, 0.0000, 1.0000, 0.0000, 0.0000],\n",
       "         [0.0000, 0.0000, 0.0000, 0.0000, 1.0000, 0.0000],\n",
       "         [0.0000, 0.0000, 0.0000, 0.0000, 0.0000, 0.5774]]))"
      ]
     },
     "execution_count": 20,
     "metadata": {},
     "output_type": "execute_result"
    }
   ],
   "source": [
    "D_pos_inv_sqrt = torch.diag(deg_pos.rsqrt())\n",
    "D_neg_inv_sqrt = torch.diag(deg_neg.rsqrt())\n",
    "D_pos_inv_sqrt, D_neg_inv_sqrt"
   ]
  },
  {
   "cell_type": "markdown",
   "id": "bb5716fb-e00d-4a7f-9b1e-6d069e2ca286",
   "metadata": {},
   "source": [
    "**Normalization**\n",
    "\n",
    "Finally we'll do our normalization through our dot prod of the network with our inverse squareroot. "
   ]
  },
  {
   "cell_type": "code",
   "execution_count": 21,
   "id": "2f4630e3-933c-4f64-8936-744b6d8445c7",
   "metadata": {},
   "outputs": [
    {
     "data": {
      "text/plain": [
       "(tensor([[0.5000, 0.0000, 0.0000, 0.0000, 0.3536, 0.0000],\n",
       "         [0.0000, 0.5000, 0.0000, 0.0000, 0.3536, 0.0000],\n",
       "         [0.0000, 0.0000, 0.5000, 0.0000, 0.3536, 0.0000],\n",
       "         [0.0000, 0.0000, 0.0000, 0.5000, 0.0000, 0.5000],\n",
       "         [0.3536, 0.3536, 0.3536, 0.0000, 0.2500, 0.0000],\n",
       "         [0.0000, 0.0000, 0.0000, 0.5000, 0.0000, 0.5000]]),\n",
       " tensor([[0.0000, 0.0000, 0.0000, 0.0000, 0.0000, 0.5774],\n",
       "         [0.0000, 0.0000, 0.0000, 0.0000, 0.0000, 0.5774],\n",
       "         [0.0000, 0.0000, 0.0000, 0.0000, 0.0000, 0.5774],\n",
       "         [0.0000, 0.0000, 0.0000, 0.0000, 1.0000, 0.0000],\n",
       "         [0.0000, 0.0000, 0.0000, 1.0000, 0.0000, 0.0000],\n",
       "         [0.5774, 0.5774, 0.5774, 0.0000, 0.0000, 0.0000]]))"
      ]
     },
     "execution_count": 21,
     "metadata": {},
     "output_type": "execute_result"
    }
   ],
   "source": [
    "Apos_n = D_pos_inv_sqrt @ A_pos_hat @ D_pos_inv_sqrt\n",
    "Aneg_n = D_neg_inv_sqrt @ A_neg_hat @ D_neg_inv_sqrt\n",
    "Apos_n, Aneg_n"
   ]
  },
  {
   "cell_type": "markdown",
   "id": "6c29ad28-2acc-479e-9928-27fcc5093bb9",
   "metadata": {},
   "source": [
    "**Bulk prep** \n",
    "\n",
    "Since we have 3 other samples to process, we'll create a list for aggregating the other normalization and add these into them. "
   ]
  },
  {
   "cell_type": "code",
   "execution_count": 22,
   "id": "afbd95f4-584d-405e-bf1c-caaddf48bfa3",
   "metadata": {},
   "outputs": [],
   "source": [
    "Apos_blk, Aneg_blk = [], []\n",
    "Apos_blk.append(Apos_n)\n",
    "Aneg_blk.append(Aneg_n)"
   ]
  },
  {
   "cell_type": "markdown",
   "id": "da193711-03eb-428e-b7ce-b3c629c613b4",
   "metadata": {},
   "source": [
    "#### Signed Symmetric Graph Norm - Remaining Example\n",
    "\n",
    "Now that we've stepped through the first example, we'll do the same for the reamining three examples.  At the end we'll have normalized entries for all the examples split by sign. "
   ]
  },
  {
   "cell_type": "code",
   "execution_count": 23,
   "id": "8fae058d-f396-444a-ad6f-812ba8285103",
   "metadata": {},
   "outputs": [],
   "source": [
    "for A in a_list[1:]:\n",
    "    A_pos = torch.clamp(A, min=0)  \n",
    "    A_neg = torch.clamp(-A, min=0)  \n",
    "    I = torch.eye(N_nodes)\n",
    "    A_pos_hat = A_pos + I\n",
    "    A_neg_hat = A_neg\n",
    "    deg_pos = torch.clamp(torch.abs(A_pos_hat).sum(1), min=1e-6)\n",
    "    deg_neg = torch.clamp(torch.abs(A_neg_hat).sum(1), min=1e-6)\n",
    "    D_pos_inv_sqrt = torch.diag(deg_pos.rsqrt())\n",
    "    D_neg_inv_sqrt = torch.diag(deg_neg.rsqrt())\n",
    "    Apos_n = D_pos_inv_sqrt @ A_pos_hat @ D_pos_inv_sqrt\n",
    "    Aneg_n = D_neg_inv_sqrt @ A_neg_hat @ D_neg_inv_sqrt\n",
    "    Apos_blk.append(Apos_n)\n",
    "    Aneg_blk.append(Aneg_n)"
   ]
  },
  {
   "cell_type": "code",
   "execution_count": 24,
   "id": "39e14fa9-7d81-426c-967c-b40d2735b4cc",
   "metadata": {},
   "outputs": [
    {
     "data": {
      "text/plain": [
       "[tensor([[0.5000, 0.0000, 0.0000, 0.0000, 0.3536, 0.0000],\n",
       "         [0.0000, 0.5000, 0.0000, 0.0000, 0.3536, 0.0000],\n",
       "         [0.0000, 0.0000, 0.5000, 0.0000, 0.3536, 0.0000],\n",
       "         [0.0000, 0.0000, 0.0000, 0.5000, 0.0000, 0.5000],\n",
       "         [0.3536, 0.3536, 0.3536, 0.0000, 0.2500, 0.0000],\n",
       "         [0.0000, 0.0000, 0.0000, 0.5000, 0.0000, 0.5000]]),\n",
       " tensor([[0.3333, 0.0000, 0.0000, 0.0000, 0.3333, 0.2887],\n",
       "         [0.0000, 0.5000, 0.0000, 0.0000, 0.0000, 0.3536],\n",
       "         [0.0000, 0.0000, 0.5000, 0.0000, 0.4082, 0.0000],\n",
       "         [0.0000, 0.0000, 0.0000, 0.5000, 0.0000, 0.3536],\n",
       "         [0.3333, 0.0000, 0.4082, 0.0000, 0.3333, 0.0000],\n",
       "         [0.2887, 0.3536, 0.0000, 0.3536, 0.0000, 0.2500]]),\n",
       " tensor([[0.5000, 0.0000, 0.0000, 0.0000, 0.0000, 0.3536],\n",
       "         [0.0000, 1.0000, 0.0000, 0.0000, 0.0000, 0.0000],\n",
       "         [0.0000, 0.0000, 0.3333, 0.0000, 0.4082, 0.2887],\n",
       "         [0.0000, 0.0000, 0.0000, 0.5000, 0.0000, 0.3536],\n",
       "         [0.0000, 0.0000, 0.4082, 0.0000, 0.5000, 0.0000],\n",
       "         [0.3536, 0.0000, 0.2887, 0.3536, 0.0000, 0.2500]]),\n",
       " tensor([[1.0000, 0.0000, 0.0000, 0.0000, 0.0000, 0.0000],\n",
       "         [0.0000, 0.5000, 0.0000, 0.0000, 0.5000, 0.0000],\n",
       "         [0.0000, 0.0000, 0.5000, 0.0000, 0.0000, 0.4082],\n",
       "         [0.0000, 0.0000, 0.0000, 0.5000, 0.0000, 0.4082],\n",
       "         [0.0000, 0.5000, 0.0000, 0.0000, 0.5000, 0.0000],\n",
       "         [0.0000, 0.0000, 0.4082, 0.4082, 0.0000, 0.3333]])]"
      ]
     },
     "execution_count": 24,
     "metadata": {},
     "output_type": "execute_result"
    }
   ],
   "source": [
    "Apos_blk"
   ]
  },
  {
   "cell_type": "code",
   "execution_count": 25,
   "id": "798923a9-66b8-4d82-836f-d2a9474fd16a",
   "metadata": {},
   "outputs": [
    {
     "data": {
      "text/plain": [
       "[tensor([[0.0000, 0.0000, 0.0000, 0.0000, 0.0000, 0.5774],\n",
       "         [0.0000, 0.0000, 0.0000, 0.0000, 0.0000, 0.5774],\n",
       "         [0.0000, 0.0000, 0.0000, 0.0000, 0.0000, 0.5774],\n",
       "         [0.0000, 0.0000, 0.0000, 0.0000, 1.0000, 0.0000],\n",
       "         [0.0000, 0.0000, 0.0000, 1.0000, 0.0000, 0.0000],\n",
       "         [0.5774, 0.5774, 0.5774, 0.0000, 0.0000, 0.0000]]),\n",
       " tensor([[0.0000, 0.0000, 0.0000, 0.0000, 0.0000, 0.0000],\n",
       "         [0.0000, 0.0000, 0.0000, 0.0000, 0.7071, 0.0000],\n",
       "         [0.0000, 0.0000, 0.0000, 0.0000, 0.0000, 1.0000],\n",
       "         [0.0000, 0.0000, 0.0000, 0.0000, 0.7071, 0.0000],\n",
       "         [0.0000, 0.7071, 0.0000, 0.7071, 0.0000, 0.0000],\n",
       "         [0.0000, 0.0000, 1.0000, 0.0000, 0.0000, 0.0000]]),\n",
       " tensor([[0.0000, 0.0000, 0.0000, 0.0000, 0.5774, 0.0000],\n",
       "         [0.0000, 0.0000, 0.0000, 0.0000, 0.4082, 0.7071],\n",
       "         [0.0000, 0.0000, 0.0000, 0.0000, 0.0000, 0.0000],\n",
       "         [0.0000, 0.0000, 0.0000, 0.0000, 0.5774, 0.0000],\n",
       "         [0.5774, 0.4082, 0.0000, 0.5774, 0.0000, 0.0000],\n",
       "         [0.0000, 0.7071, 0.0000, 0.0000, 0.0000, 0.0000]]),\n",
       " tensor([[0.0000, 0.0000, 0.0000, 0.0000, 0.4082, 0.5000],\n",
       "         [0.0000, 0.0000, 0.0000, 0.0000, 0.0000, 0.7071],\n",
       "         [0.0000, 0.0000, 0.0000, 0.0000, 0.5774, 0.0000],\n",
       "         [0.0000, 0.0000, 0.0000, 0.0000, 0.5774, 0.0000],\n",
       "         [0.4082, 0.0000, 0.5774, 0.5774, 0.0000, 0.0000],\n",
       "         [0.5000, 0.7071, 0.0000, 0.0000, 0.0000, 0.0000]])]"
      ]
     },
     "execution_count": 25,
     "metadata": {},
     "output_type": "execute_result"
    }
   ],
   "source": [
    "Aneg_blk"
   ]
  },
  {
   "cell_type": "markdown",
   "id": "f433ba38-caf3-46a5-9b57-8f6d86f96364",
   "metadata": {},
   "source": [
    "#### Signed Symmetric Graph Norm - Block Diagonal\n",
    "\n",
    "As our final step, we now join our netowrks together into. We do this using a block diagnoal join that creates a large tensor out of the inputs by simply sliding each new tensor to start at `[i+1,j+1]`.  In our our case this results in a `[24,24]` matrix since we have 4 examples with 6 nodes. "
   ]
  },
  {
   "cell_type": "code",
   "execution_count": 26,
   "id": "7285c32e-3cd7-4ac9-a185-4ae15b1af3b8",
   "metadata": {},
   "outputs": [
    {
     "data": {
      "text/plain": [
       "(torch.Size([24, 24]),\n",
       " tensor([[0.5000, 0.0000, 0.0000, 0.0000, 0.3536, 0.0000, 0.0000, 0.0000, 0.0000,\n",
       "          0.0000, 0.0000, 0.0000, 0.0000, 0.0000, 0.0000, 0.0000, 0.0000, 0.0000,\n",
       "          0.0000, 0.0000, 0.0000, 0.0000, 0.0000, 0.0000],\n",
       "         [0.0000, 0.5000, 0.0000, 0.0000, 0.3536, 0.0000, 0.0000, 0.0000, 0.0000,\n",
       "          0.0000, 0.0000, 0.0000, 0.0000, 0.0000, 0.0000, 0.0000, 0.0000, 0.0000,\n",
       "          0.0000, 0.0000, 0.0000, 0.0000, 0.0000, 0.0000],\n",
       "         [0.0000, 0.0000, 0.5000, 0.0000, 0.3536, 0.0000, 0.0000, 0.0000, 0.0000,\n",
       "          0.0000, 0.0000, 0.0000, 0.0000, 0.0000, 0.0000, 0.0000, 0.0000, 0.0000,\n",
       "          0.0000, 0.0000, 0.0000, 0.0000, 0.0000, 0.0000],\n",
       "         [0.0000, 0.0000, 0.0000, 0.5000, 0.0000, 0.5000, 0.0000, 0.0000, 0.0000,\n",
       "          0.0000, 0.0000, 0.0000, 0.0000, 0.0000, 0.0000, 0.0000, 0.0000, 0.0000,\n",
       "          0.0000, 0.0000, 0.0000, 0.0000, 0.0000, 0.0000],\n",
       "         [0.3536, 0.3536, 0.3536, 0.0000, 0.2500, 0.0000, 0.0000, 0.0000, 0.0000,\n",
       "          0.0000, 0.0000, 0.0000, 0.0000, 0.0000, 0.0000, 0.0000, 0.0000, 0.0000,\n",
       "          0.0000, 0.0000, 0.0000, 0.0000, 0.0000, 0.0000],\n",
       "         [0.0000, 0.0000, 0.0000, 0.5000, 0.0000, 0.5000, 0.0000, 0.0000, 0.0000,\n",
       "          0.0000, 0.0000, 0.0000, 0.0000, 0.0000, 0.0000, 0.0000, 0.0000, 0.0000,\n",
       "          0.0000, 0.0000, 0.0000, 0.0000, 0.0000, 0.0000],\n",
       "         [0.0000, 0.0000, 0.0000, 0.0000, 0.0000, 0.0000, 0.3333, 0.0000, 0.0000,\n",
       "          0.0000, 0.3333, 0.2887, 0.0000, 0.0000, 0.0000, 0.0000, 0.0000, 0.0000,\n",
       "          0.0000, 0.0000, 0.0000, 0.0000, 0.0000, 0.0000],\n",
       "         [0.0000, 0.0000, 0.0000, 0.0000, 0.0000, 0.0000, 0.0000, 0.5000, 0.0000,\n",
       "          0.0000, 0.0000, 0.3536, 0.0000, 0.0000, 0.0000, 0.0000, 0.0000, 0.0000,\n",
       "          0.0000, 0.0000, 0.0000, 0.0000, 0.0000, 0.0000],\n",
       "         [0.0000, 0.0000, 0.0000, 0.0000, 0.0000, 0.0000, 0.0000, 0.0000, 0.5000,\n",
       "          0.0000, 0.4082, 0.0000, 0.0000, 0.0000, 0.0000, 0.0000, 0.0000, 0.0000,\n",
       "          0.0000, 0.0000, 0.0000, 0.0000, 0.0000, 0.0000],\n",
       "         [0.0000, 0.0000, 0.0000, 0.0000, 0.0000, 0.0000, 0.0000, 0.0000, 0.0000,\n",
       "          0.5000, 0.0000, 0.3536, 0.0000, 0.0000, 0.0000, 0.0000, 0.0000, 0.0000,\n",
       "          0.0000, 0.0000, 0.0000, 0.0000, 0.0000, 0.0000],\n",
       "         [0.0000, 0.0000, 0.0000, 0.0000, 0.0000, 0.0000, 0.3333, 0.0000, 0.4082,\n",
       "          0.0000, 0.3333, 0.0000, 0.0000, 0.0000, 0.0000, 0.0000, 0.0000, 0.0000,\n",
       "          0.0000, 0.0000, 0.0000, 0.0000, 0.0000, 0.0000],\n",
       "         [0.0000, 0.0000, 0.0000, 0.0000, 0.0000, 0.0000, 0.2887, 0.3536, 0.0000,\n",
       "          0.3536, 0.0000, 0.2500, 0.0000, 0.0000, 0.0000, 0.0000, 0.0000, 0.0000,\n",
       "          0.0000, 0.0000, 0.0000, 0.0000, 0.0000, 0.0000],\n",
       "         [0.0000, 0.0000, 0.0000, 0.0000, 0.0000, 0.0000, 0.0000, 0.0000, 0.0000,\n",
       "          0.0000, 0.0000, 0.0000, 0.5000, 0.0000, 0.0000, 0.0000, 0.0000, 0.3536,\n",
       "          0.0000, 0.0000, 0.0000, 0.0000, 0.0000, 0.0000],\n",
       "         [0.0000, 0.0000, 0.0000, 0.0000, 0.0000, 0.0000, 0.0000, 0.0000, 0.0000,\n",
       "          0.0000, 0.0000, 0.0000, 0.0000, 1.0000, 0.0000, 0.0000, 0.0000, 0.0000,\n",
       "          0.0000, 0.0000, 0.0000, 0.0000, 0.0000, 0.0000],\n",
       "         [0.0000, 0.0000, 0.0000, 0.0000, 0.0000, 0.0000, 0.0000, 0.0000, 0.0000,\n",
       "          0.0000, 0.0000, 0.0000, 0.0000, 0.0000, 0.3333, 0.0000, 0.4082, 0.2887,\n",
       "          0.0000, 0.0000, 0.0000, 0.0000, 0.0000, 0.0000],\n",
       "         [0.0000, 0.0000, 0.0000, 0.0000, 0.0000, 0.0000, 0.0000, 0.0000, 0.0000,\n",
       "          0.0000, 0.0000, 0.0000, 0.0000, 0.0000, 0.0000, 0.5000, 0.0000, 0.3536,\n",
       "          0.0000, 0.0000, 0.0000, 0.0000, 0.0000, 0.0000],\n",
       "         [0.0000, 0.0000, 0.0000, 0.0000, 0.0000, 0.0000, 0.0000, 0.0000, 0.0000,\n",
       "          0.0000, 0.0000, 0.0000, 0.0000, 0.0000, 0.4082, 0.0000, 0.5000, 0.0000,\n",
       "          0.0000, 0.0000, 0.0000, 0.0000, 0.0000, 0.0000],\n",
       "         [0.0000, 0.0000, 0.0000, 0.0000, 0.0000, 0.0000, 0.0000, 0.0000, 0.0000,\n",
       "          0.0000, 0.0000, 0.0000, 0.3536, 0.0000, 0.2887, 0.3536, 0.0000, 0.2500,\n",
       "          0.0000, 0.0000, 0.0000, 0.0000, 0.0000, 0.0000],\n",
       "         [0.0000, 0.0000, 0.0000, 0.0000, 0.0000, 0.0000, 0.0000, 0.0000, 0.0000,\n",
       "          0.0000, 0.0000, 0.0000, 0.0000, 0.0000, 0.0000, 0.0000, 0.0000, 0.0000,\n",
       "          1.0000, 0.0000, 0.0000, 0.0000, 0.0000, 0.0000],\n",
       "         [0.0000, 0.0000, 0.0000, 0.0000, 0.0000, 0.0000, 0.0000, 0.0000, 0.0000,\n",
       "          0.0000, 0.0000, 0.0000, 0.0000, 0.0000, 0.0000, 0.0000, 0.0000, 0.0000,\n",
       "          0.0000, 0.5000, 0.0000, 0.0000, 0.5000, 0.0000],\n",
       "         [0.0000, 0.0000, 0.0000, 0.0000, 0.0000, 0.0000, 0.0000, 0.0000, 0.0000,\n",
       "          0.0000, 0.0000, 0.0000, 0.0000, 0.0000, 0.0000, 0.0000, 0.0000, 0.0000,\n",
       "          0.0000, 0.0000, 0.5000, 0.0000, 0.0000, 0.4082],\n",
       "         [0.0000, 0.0000, 0.0000, 0.0000, 0.0000, 0.0000, 0.0000, 0.0000, 0.0000,\n",
       "          0.0000, 0.0000, 0.0000, 0.0000, 0.0000, 0.0000, 0.0000, 0.0000, 0.0000,\n",
       "          0.0000, 0.0000, 0.0000, 0.5000, 0.0000, 0.4082],\n",
       "         [0.0000, 0.0000, 0.0000, 0.0000, 0.0000, 0.0000, 0.0000, 0.0000, 0.0000,\n",
       "          0.0000, 0.0000, 0.0000, 0.0000, 0.0000, 0.0000, 0.0000, 0.0000, 0.0000,\n",
       "          0.0000, 0.5000, 0.0000, 0.0000, 0.5000, 0.0000],\n",
       "         [0.0000, 0.0000, 0.0000, 0.0000, 0.0000, 0.0000, 0.0000, 0.0000, 0.0000,\n",
       "          0.0000, 0.0000, 0.0000, 0.0000, 0.0000, 0.0000, 0.0000, 0.0000, 0.0000,\n",
       "          0.0000, 0.0000, 0.4082, 0.4082, 0.0000, 0.3333]]))"
      ]
     },
     "execution_count": 26,
     "metadata": {},
     "output_type": "execute_result"
    }
   ],
   "source": [
    "Apos_blk =  torch.block_diag(*Apos_blk)\n",
    "Apos_blk.size(), Apos_blk"
   ]
  },
  {
   "cell_type": "code",
   "execution_count": 27,
   "id": "68ffb621-2e08-4d77-8f90-0f2d163b7330",
   "metadata": {},
   "outputs": [
    {
     "data": {
      "text/plain": [
       "(torch.Size([24, 24]),\n",
       " tensor([[0.0000, 0.0000, 0.0000, 0.0000, 0.0000, 0.5774, 0.0000, 0.0000, 0.0000,\n",
       "          0.0000, 0.0000, 0.0000, 0.0000, 0.0000, 0.0000, 0.0000, 0.0000, 0.0000,\n",
       "          0.0000, 0.0000, 0.0000, 0.0000, 0.0000, 0.0000],\n",
       "         [0.0000, 0.0000, 0.0000, 0.0000, 0.0000, 0.5774, 0.0000, 0.0000, 0.0000,\n",
       "          0.0000, 0.0000, 0.0000, 0.0000, 0.0000, 0.0000, 0.0000, 0.0000, 0.0000,\n",
       "          0.0000, 0.0000, 0.0000, 0.0000, 0.0000, 0.0000],\n",
       "         [0.0000, 0.0000, 0.0000, 0.0000, 0.0000, 0.5774, 0.0000, 0.0000, 0.0000,\n",
       "          0.0000, 0.0000, 0.0000, 0.0000, 0.0000, 0.0000, 0.0000, 0.0000, 0.0000,\n",
       "          0.0000, 0.0000, 0.0000, 0.0000, 0.0000, 0.0000],\n",
       "         [0.0000, 0.0000, 0.0000, 0.0000, 1.0000, 0.0000, 0.0000, 0.0000, 0.0000,\n",
       "          0.0000, 0.0000, 0.0000, 0.0000, 0.0000, 0.0000, 0.0000, 0.0000, 0.0000,\n",
       "          0.0000, 0.0000, 0.0000, 0.0000, 0.0000, 0.0000],\n",
       "         [0.0000, 0.0000, 0.0000, 1.0000, 0.0000, 0.0000, 0.0000, 0.0000, 0.0000,\n",
       "          0.0000, 0.0000, 0.0000, 0.0000, 0.0000, 0.0000, 0.0000, 0.0000, 0.0000,\n",
       "          0.0000, 0.0000, 0.0000, 0.0000, 0.0000, 0.0000],\n",
       "         [0.5774, 0.5774, 0.5774, 0.0000, 0.0000, 0.0000, 0.0000, 0.0000, 0.0000,\n",
       "          0.0000, 0.0000, 0.0000, 0.0000, 0.0000, 0.0000, 0.0000, 0.0000, 0.0000,\n",
       "          0.0000, 0.0000, 0.0000, 0.0000, 0.0000, 0.0000],\n",
       "         [0.0000, 0.0000, 0.0000, 0.0000, 0.0000, 0.0000, 0.0000, 0.0000, 0.0000,\n",
       "          0.0000, 0.0000, 0.0000, 0.0000, 0.0000, 0.0000, 0.0000, 0.0000, 0.0000,\n",
       "          0.0000, 0.0000, 0.0000, 0.0000, 0.0000, 0.0000],\n",
       "         [0.0000, 0.0000, 0.0000, 0.0000, 0.0000, 0.0000, 0.0000, 0.0000, 0.0000,\n",
       "          0.0000, 0.7071, 0.0000, 0.0000, 0.0000, 0.0000, 0.0000, 0.0000, 0.0000,\n",
       "          0.0000, 0.0000, 0.0000, 0.0000, 0.0000, 0.0000],\n",
       "         [0.0000, 0.0000, 0.0000, 0.0000, 0.0000, 0.0000, 0.0000, 0.0000, 0.0000,\n",
       "          0.0000, 0.0000, 1.0000, 0.0000, 0.0000, 0.0000, 0.0000, 0.0000, 0.0000,\n",
       "          0.0000, 0.0000, 0.0000, 0.0000, 0.0000, 0.0000],\n",
       "         [0.0000, 0.0000, 0.0000, 0.0000, 0.0000, 0.0000, 0.0000, 0.0000, 0.0000,\n",
       "          0.0000, 0.7071, 0.0000, 0.0000, 0.0000, 0.0000, 0.0000, 0.0000, 0.0000,\n",
       "          0.0000, 0.0000, 0.0000, 0.0000, 0.0000, 0.0000],\n",
       "         [0.0000, 0.0000, 0.0000, 0.0000, 0.0000, 0.0000, 0.0000, 0.7071, 0.0000,\n",
       "          0.7071, 0.0000, 0.0000, 0.0000, 0.0000, 0.0000, 0.0000, 0.0000, 0.0000,\n",
       "          0.0000, 0.0000, 0.0000, 0.0000, 0.0000, 0.0000],\n",
       "         [0.0000, 0.0000, 0.0000, 0.0000, 0.0000, 0.0000, 0.0000, 0.0000, 1.0000,\n",
       "          0.0000, 0.0000, 0.0000, 0.0000, 0.0000, 0.0000, 0.0000, 0.0000, 0.0000,\n",
       "          0.0000, 0.0000, 0.0000, 0.0000, 0.0000, 0.0000],\n",
       "         [0.0000, 0.0000, 0.0000, 0.0000, 0.0000, 0.0000, 0.0000, 0.0000, 0.0000,\n",
       "          0.0000, 0.0000, 0.0000, 0.0000, 0.0000, 0.0000, 0.0000, 0.5774, 0.0000,\n",
       "          0.0000, 0.0000, 0.0000, 0.0000, 0.0000, 0.0000],\n",
       "         [0.0000, 0.0000, 0.0000, 0.0000, 0.0000, 0.0000, 0.0000, 0.0000, 0.0000,\n",
       "          0.0000, 0.0000, 0.0000, 0.0000, 0.0000, 0.0000, 0.0000, 0.4082, 0.7071,\n",
       "          0.0000, 0.0000, 0.0000, 0.0000, 0.0000, 0.0000],\n",
       "         [0.0000, 0.0000, 0.0000, 0.0000, 0.0000, 0.0000, 0.0000, 0.0000, 0.0000,\n",
       "          0.0000, 0.0000, 0.0000, 0.0000, 0.0000, 0.0000, 0.0000, 0.0000, 0.0000,\n",
       "          0.0000, 0.0000, 0.0000, 0.0000, 0.0000, 0.0000],\n",
       "         [0.0000, 0.0000, 0.0000, 0.0000, 0.0000, 0.0000, 0.0000, 0.0000, 0.0000,\n",
       "          0.0000, 0.0000, 0.0000, 0.0000, 0.0000, 0.0000, 0.0000, 0.5774, 0.0000,\n",
       "          0.0000, 0.0000, 0.0000, 0.0000, 0.0000, 0.0000],\n",
       "         [0.0000, 0.0000, 0.0000, 0.0000, 0.0000, 0.0000, 0.0000, 0.0000, 0.0000,\n",
       "          0.0000, 0.0000, 0.0000, 0.5774, 0.4082, 0.0000, 0.5774, 0.0000, 0.0000,\n",
       "          0.0000, 0.0000, 0.0000, 0.0000, 0.0000, 0.0000],\n",
       "         [0.0000, 0.0000, 0.0000, 0.0000, 0.0000, 0.0000, 0.0000, 0.0000, 0.0000,\n",
       "          0.0000, 0.0000, 0.0000, 0.0000, 0.7071, 0.0000, 0.0000, 0.0000, 0.0000,\n",
       "          0.0000, 0.0000, 0.0000, 0.0000, 0.0000, 0.0000],\n",
       "         [0.0000, 0.0000, 0.0000, 0.0000, 0.0000, 0.0000, 0.0000, 0.0000, 0.0000,\n",
       "          0.0000, 0.0000, 0.0000, 0.0000, 0.0000, 0.0000, 0.0000, 0.0000, 0.0000,\n",
       "          0.0000, 0.0000, 0.0000, 0.0000, 0.4082, 0.5000],\n",
       "         [0.0000, 0.0000, 0.0000, 0.0000, 0.0000, 0.0000, 0.0000, 0.0000, 0.0000,\n",
       "          0.0000, 0.0000, 0.0000, 0.0000, 0.0000, 0.0000, 0.0000, 0.0000, 0.0000,\n",
       "          0.0000, 0.0000, 0.0000, 0.0000, 0.0000, 0.7071],\n",
       "         [0.0000, 0.0000, 0.0000, 0.0000, 0.0000, 0.0000, 0.0000, 0.0000, 0.0000,\n",
       "          0.0000, 0.0000, 0.0000, 0.0000, 0.0000, 0.0000, 0.0000, 0.0000, 0.0000,\n",
       "          0.0000, 0.0000, 0.0000, 0.0000, 0.5774, 0.0000],\n",
       "         [0.0000, 0.0000, 0.0000, 0.0000, 0.0000, 0.0000, 0.0000, 0.0000, 0.0000,\n",
       "          0.0000, 0.0000, 0.0000, 0.0000, 0.0000, 0.0000, 0.0000, 0.0000, 0.0000,\n",
       "          0.0000, 0.0000, 0.0000, 0.0000, 0.5774, 0.0000],\n",
       "         [0.0000, 0.0000, 0.0000, 0.0000, 0.0000, 0.0000, 0.0000, 0.0000, 0.0000,\n",
       "          0.0000, 0.0000, 0.0000, 0.0000, 0.0000, 0.0000, 0.0000, 0.0000, 0.0000,\n",
       "          0.4082, 0.0000, 0.5774, 0.5774, 0.0000, 0.0000],\n",
       "         [0.0000, 0.0000, 0.0000, 0.0000, 0.0000, 0.0000, 0.0000, 0.0000, 0.0000,\n",
       "          0.0000, 0.0000, 0.0000, 0.0000, 0.0000, 0.0000, 0.0000, 0.0000, 0.0000,\n",
       "          0.5000, 0.7071, 0.0000, 0.0000, 0.0000, 0.0000]]))"
      ]
     },
     "execution_count": 27,
     "metadata": {},
     "output_type": "execute_result"
    }
   ],
   "source": [
    "Aneg_blk =  torch.block_diag(*Aneg_blk)\n",
    "Aneg_blk.size(), Aneg_blk"
   ]
  },
  {
   "cell_type": "markdown",
   "id": "b86c1bd9-c69d-4fbf-ba37-cce872c8c085",
   "metadata": {},
   "source": [
    "## Forward pass"
   ]
  },
  {
   "cell_type": "markdown",
   "id": "f1e25071-34cf-47ee-a392-7b49ef73499c",
   "metadata": {},
   "source": [
    "### Input Layer"
   ]
  },
  {
   "cell_type": "code",
   "execution_count": 28,
   "id": "f64eb292-1169-454f-9e0f-688a9d325e84",
   "metadata": {},
   "outputs": [
    {
     "data": {
      "text/plain": [
       "(6, 3)"
      ]
     },
     "execution_count": 28,
     "metadata": {},
     "output_type": "execute_result"
    }
   ],
   "source": [
    "n_embd = 3 # level of embedding of input tokens\n",
    "vocab_size, n_embd"
   ]
  },
  {
   "cell_type": "markdown",
   "id": "ba3869ac-532b-4a18-9ecf-aa96ef17d634",
   "metadata": {},
   "source": [
    "#### Input Layer - Embedding Projection"
   ]
  },
  {
   "cell_type": "code",
   "execution_count": 29,
   "id": "1a8577c0-d108-4fab-9d41-6b9b8dbb5543",
   "metadata": {},
   "outputs": [
    {
     "data": {
      "text/plain": [
       "Parameter containing:\n",
       "tensor([[0.0100, 0.0200, 0.0300],\n",
       "        [0.0200, 0.0300, 0.0400],\n",
       "        [0.0300, 0.0400, 0.0500],\n",
       "        [0.0400, 0.0500, 0.0600],\n",
       "        [0.0500, 0.0600, 0.0700],\n",
       "        [0.0600, 0.0700, 0.0800]], requires_grad=True)"
      ]
     },
     "execution_count": 29,
     "metadata": {},
     "output_type": "execute_result"
    }
   ],
   "source": [
    "tok_emb = nn.Embedding(vocab_size, n_embd)\n",
    "with torch.no_grad(): # initilize to W[i,j] = 0.001*(1+i+j) for easy following \n",
    "    vs, d = tok_emb.num_embeddings, tok_emb.embedding_dim\n",
    "    rows = torch.arange(vs).unsqueeze(1)  # (vs,1)\n",
    "    cols = torch.arange(d).unsqueeze(0)  # (1,d)\n",
    "    pattern = 0.01*(1 + rows + cols)  # W[i,j] = 0.001*(1+i+j)\n",
    "    tok_emb.weight.copy_(pattern)\n",
    "tok_emb.weight"
   ]
  },
  {
   "cell_type": "code",
   "execution_count": 30,
   "id": "39f1fba0-f4ea-4d69-babc-428e284b01dc",
   "metadata": {},
   "outputs": [
    {
     "data": {
      "text/plain": [
       "tensor([[[0.0100, 0.0200, 0.0300],\n",
       "         [0.0200, 0.0300, 0.0400],\n",
       "         [0.0300, 0.0400, 0.0500],\n",
       "         [0.0400, 0.0500, 0.0600],\n",
       "         [0.0500, 0.0600, 0.0700],\n",
       "         [0.0600, 0.0700, 0.0800]],\n",
       "\n",
       "        [[0.0100, 0.0200, 0.0300],\n",
       "         [0.0200, 0.0300, 0.0400],\n",
       "         [0.0300, 0.0400, 0.0500],\n",
       "         [0.0400, 0.0500, 0.0600],\n",
       "         [0.0500, 0.0600, 0.0700],\n",
       "         [0.0600, 0.0700, 0.0800]],\n",
       "\n",
       "        [[0.0100, 0.0200, 0.0300],\n",
       "         [0.0200, 0.0300, 0.0400],\n",
       "         [0.0300, 0.0400, 0.0500],\n",
       "         [0.0400, 0.0500, 0.0600],\n",
       "         [0.0500, 0.0600, 0.0700],\n",
       "         [0.0600, 0.0700, 0.0800]],\n",
       "\n",
       "        [[0.0100, 0.0200, 0.0300],\n",
       "         [0.0200, 0.0300, 0.0400],\n",
       "         [0.0300, 0.0400, 0.0500],\n",
       "         [0.0400, 0.0500, 0.0600],\n",
       "         [0.0500, 0.0600, 0.0700],\n",
       "         [0.0600, 0.0700, 0.0800]]], grad_fn=<EmbeddingBackward0>)"
      ]
     },
     "execution_count": 30,
     "metadata": {},
     "output_type": "execute_result"
    }
   ],
   "source": [
    "x = tok_emb(x_tokens)\n",
    "x"
   ]
  },
  {
   "cell_type": "markdown",
   "id": "4cced203-0a47-42b1-8620-bfe1256e5924",
   "metadata": {},
   "source": [
    "collapse out batch for learning"
   ]
  },
  {
   "cell_type": "code",
   "execution_count": 31,
   "id": "8bd3ea54-13f6-40ac-ae42-8410f2f461c8",
   "metadata": {},
   "outputs": [
    {
     "data": {
      "text/plain": [
       "(torch.Size([24, 3]),\n",
       " tensor([[0.0100, 0.0200, 0.0300],\n",
       "         [0.0200, 0.0300, 0.0400],\n",
       "         [0.0300, 0.0400, 0.0500],\n",
       "         [0.0400, 0.0500, 0.0600],\n",
       "         [0.0500, 0.0600, 0.0700],\n",
       "         [0.0600, 0.0700, 0.0800],\n",
       "         [0.0100, 0.0200, 0.0300],\n",
       "         [0.0200, 0.0300, 0.0400],\n",
       "         [0.0300, 0.0400, 0.0500],\n",
       "         [0.0400, 0.0500, 0.0600],\n",
       "         [0.0500, 0.0600, 0.0700],\n",
       "         [0.0600, 0.0700, 0.0800],\n",
       "         [0.0100, 0.0200, 0.0300],\n",
       "         [0.0200, 0.0300, 0.0400],\n",
       "         [0.0300, 0.0400, 0.0500],\n",
       "         [0.0400, 0.0500, 0.0600],\n",
       "         [0.0500, 0.0600, 0.0700],\n",
       "         [0.0600, 0.0700, 0.0800],\n",
       "         [0.0100, 0.0200, 0.0300],\n",
       "         [0.0200, 0.0300, 0.0400],\n",
       "         [0.0300, 0.0400, 0.0500],\n",
       "         [0.0400, 0.0500, 0.0600],\n",
       "         [0.0500, 0.0600, 0.0700],\n",
       "         [0.0600, 0.0700, 0.0800]], grad_fn=<ViewBackward0>))"
      ]
     },
     "execution_count": 31,
     "metadata": {},
     "output_type": "execute_result"
    }
   ],
   "source": [
    "x = x.view(B_batch*N_nodes,n_embd)\n",
    "x.size(), x"
   ]
  },
  {
   "cell_type": "markdown",
   "id": "4175d404-23d4-4866-a72e-8bb4deb125f5",
   "metadata": {},
   "source": [
    "### GCN Block"
   ]
  },
  {
   "cell_type": "markdown",
   "id": "33d53c6c-547c-4a04-846d-7215045a655f",
   "metadata": {},
   "source": [
    "#### GCN Block - First Node Convolution"
   ]
  },
  {
   "cell_type": "code",
   "execution_count": 32,
   "id": "9d91dc8a-f5fd-409d-b6a6-77d7a1259e4b",
   "metadata": {},
   "outputs": [],
   "source": [
    "def pyramid_weight(h, w, base=0.01, dtype=torch.float32):\n",
    "    r = torch.arange(h, dtype=dtype)\n",
    "    c = torch.arange(w, dtype=dtype)\n",
    "    drow = torch.minimum(r, (h - 1) - r)\n",
    "    dcol = torch.minimum(c, (w - 1) - c)\n",
    "    return base * (1 + drow)[:, None] * (1 + dcol)[None, :]"
   ]
  },
  {
   "cell_type": "code",
   "execution_count": 33,
   "id": "09ab3c51-5247-409d-a5d5-64e9635abae8",
   "metadata": {},
   "outputs": [
    {
     "data": {
      "text/plain": [
       "(Parameter containing:\n",
       " tensor([[0.0100, 0.0200, 0.0100],\n",
       "         [0.0200, 0.0400, 0.0200],\n",
       "         [0.0100, 0.0200, 0.0100]], requires_grad=True),\n",
       " Parameter containing:\n",
       " tensor([1.0000e-06, 1.0000e-06, 1.0000e-06], requires_grad=True))"
      ]
     },
     "execution_count": 33,
     "metadata": {},
     "output_type": "execute_result"
    }
   ],
   "source": [
    "gcn_1_pos = torch.nn.Linear(n_embd, n_embd, bias=True)\n",
    "with torch.no_grad(): \n",
    "    gcn_1_pos.weight.copy_(pyramid_weight(n_embd, n_embd))\n",
    "nn.init.constant_(gcn_1_pos.bias, 1e-6)\n",
    "gcn_1_pos.weight, gcn_1_pos.bias"
   ]
  },
  {
   "cell_type": "code",
   "execution_count": 34,
   "id": "ca56e180-efc0-4a24-a5d4-ae06a507ff47",
   "metadata": {},
   "outputs": [
    {
     "data": {
      "text/plain": [
       "(Parameter containing:\n",
       " tensor([[0.0100, 0.0200, 0.0100],\n",
       "         [0.0200, 0.0400, 0.0200],\n",
       "         [0.0100, 0.0200, 0.0100]], requires_grad=True),\n",
       " Parameter containing:\n",
       " tensor([1.0000e-06, 1.0000e-06, 1.0000e-06], requires_grad=True))"
      ]
     },
     "execution_count": 34,
     "metadata": {},
     "output_type": "execute_result"
    }
   ],
   "source": [
    "gcn_1_neg = torch.nn.Linear(n_embd, n_embd, bias=True)\n",
    "with torch.no_grad(): \n",
    "    gcn_1_neg.weight.copy_(pyramid_weight(n_embd, n_embd))\n",
    "nn.init.constant_(gcn_1_neg.bias, 1e-6)\n",
    "gcn_1_neg.weight, gcn_1_neg.bias"
   ]
  },
  {
   "cell_type": "code",
   "execution_count": 35,
   "id": "f3cabdbe-8b34-4bb4-9b7f-65f884c1d85f",
   "metadata": {},
   "outputs": [
    {
     "data": {
      "text/plain": [
       "tensor([[0.0227, 0.0312, 0.0397],\n",
       "        [0.0277, 0.0362, 0.0447],\n",
       "        [0.0327, 0.0412, 0.0497],\n",
       "        [0.0500, 0.0600, 0.0700],\n",
       "        [0.0337, 0.0468, 0.0599],\n",
       "        [0.0500, 0.0600, 0.0700],\n",
       "        [0.0373, 0.0469, 0.0564],\n",
       "        [0.0312, 0.0397, 0.0483],\n",
       "        [0.0354, 0.0445, 0.0536],\n",
       "        [0.0412, 0.0497, 0.0583],\n",
       "        [0.0322, 0.0430, 0.0537],\n",
       "        [0.0391, 0.0516, 0.0640],\n",
       "        [0.0262, 0.0347, 0.0433],\n",
       "        [0.0200, 0.0300, 0.0400],\n",
       "        [0.0477, 0.0580, 0.0683],\n",
       "        [0.0412, 0.0497, 0.0583],\n",
       "        [0.0372, 0.0463, 0.0554],\n",
       "        [0.0413, 0.0538, 0.0663],\n",
       "        [0.0100, 0.0200, 0.0300],\n",
       "        [0.0350, 0.0450, 0.0550],\n",
       "        [0.0395, 0.0486, 0.0577],\n",
       "        [0.0445, 0.0536, 0.0627],\n",
       "        [0.0350, 0.0450, 0.0550],\n",
       "        [0.0486, 0.0601, 0.0716]], grad_fn=<MmBackward0>)"
      ]
     },
     "execution_count": 35,
     "metadata": {},
     "output_type": "execute_result"
    }
   ],
   "source": [
    "H_pos = Apos_blk @ x\n",
    "H_pos"
   ]
  },
  {
   "cell_type": "code",
   "execution_count": 36,
   "id": "48fdd038-773d-4b0b-b515-2b132bba05e2",
   "metadata": {},
   "outputs": [
    {
     "data": {
      "text/plain": [
       "tensor([[0.0012, 0.0025, 0.0012],\n",
       "        [0.0014, 0.0029, 0.0014],\n",
       "        [0.0016, 0.0033, 0.0016],\n",
       "        [0.0024, 0.0048, 0.0024],\n",
       "        [0.0019, 0.0037, 0.0019],\n",
       "        [0.0024, 0.0048, 0.0024],\n",
       "        [0.0019, 0.0038, 0.0019],\n",
       "        [0.0016, 0.0032, 0.0016],\n",
       "        [0.0018, 0.0036, 0.0018],\n",
       "        [0.0020, 0.0040, 0.0020],\n",
       "        [0.0017, 0.0034, 0.0017],\n",
       "        [0.0021, 0.0041, 0.0021],\n",
       "        [0.0014, 0.0028, 0.0014],\n",
       "        [0.0012, 0.0024, 0.0012],\n",
       "        [0.0023, 0.0046, 0.0023],\n",
       "        [0.0020, 0.0040, 0.0020],\n",
       "        [0.0019, 0.0037, 0.0019],\n",
       "        [0.0022, 0.0043, 0.0022],\n",
       "        [0.0008, 0.0016, 0.0008],\n",
       "        [0.0018, 0.0036, 0.0018],\n",
       "        [0.0019, 0.0039, 0.0019],\n",
       "        [0.0021, 0.0043, 0.0021],\n",
       "        [0.0018, 0.0036, 0.0018],\n",
       "        [0.0024, 0.0048, 0.0024]], grad_fn=<AddmmBackward0>)"
      ]
     },
     "execution_count": 36,
     "metadata": {},
     "output_type": "execute_result"
    }
   ],
   "source": [
    "H_pos =  gcn_1_pos(H_pos)\n",
    "H_pos"
   ]
  },
  {
   "cell_type": "code",
   "execution_count": 37,
   "id": "b6376c13-6c16-4b4b-b1dc-5cd80a312796",
   "metadata": {},
   "outputs": [
    {
     "data": {
      "text/plain": [
       "tensor([[0.0346, 0.0404, 0.0462],\n",
       "        [0.0346, 0.0404, 0.0462],\n",
       "        [0.0346, 0.0404, 0.0462],\n",
       "        [0.0500, 0.0600, 0.0700],\n",
       "        [0.0400, 0.0500, 0.0600],\n",
       "        [0.0346, 0.0520, 0.0693],\n",
       "        [0.0000, 0.0000, 0.0000],\n",
       "        [0.0354, 0.0424, 0.0495],\n",
       "        [0.0600, 0.0700, 0.0800],\n",
       "        [0.0354, 0.0424, 0.0495],\n",
       "        [0.0424, 0.0566, 0.0707],\n",
       "        [0.0300, 0.0400, 0.0500],\n",
       "        [0.0289, 0.0346, 0.0404],\n",
       "        [0.0628, 0.0740, 0.0851],\n",
       "        [0.0000, 0.0000, 0.0000],\n",
       "        [0.0289, 0.0346, 0.0404],\n",
       "        [0.0370, 0.0527, 0.0683],\n",
       "        [0.0141, 0.0212, 0.0283],\n",
       "        [0.0504, 0.0595, 0.0686],\n",
       "        [0.0424, 0.0495, 0.0566],\n",
       "        [0.0289, 0.0346, 0.0404],\n",
       "        [0.0289, 0.0346, 0.0404],\n",
       "        [0.0445, 0.0601, 0.0758],\n",
       "        [0.0191, 0.0312, 0.0433]], grad_fn=<MmBackward0>)"
      ]
     },
     "execution_count": 37,
     "metadata": {},
     "output_type": "execute_result"
    }
   ],
   "source": [
    "H_neg = Aneg_blk @ x\n",
    "H_neg"
   ]
  },
  {
   "cell_type": "code",
   "execution_count": 38,
   "id": "3989df0d-ccfc-42c1-8e2f-e2ba23e89560",
   "metadata": {},
   "outputs": [
    {
     "data": {
      "text/plain": [
       "tensor([[1.6176e-03, 3.2342e-03, 1.6176e-03],\n",
       "        [1.6176e-03, 3.2342e-03, 1.6176e-03],\n",
       "        [1.6176e-03, 3.2342e-03, 1.6176e-03],\n",
       "        [2.4010e-03, 4.8010e-03, 2.4010e-03],\n",
       "        [2.0010e-03, 4.0010e-03, 2.0010e-03],\n",
       "        [2.0795e-03, 4.1579e-03, 2.0795e-03],\n",
       "        [1.0000e-06, 1.0000e-06, 1.0000e-06],\n",
       "        [1.6981e-03, 3.3951e-03, 1.6981e-03],\n",
       "        [2.8010e-03, 5.6010e-03, 2.8010e-03],\n",
       "        [1.6981e-03, 3.3951e-03, 1.6981e-03],\n",
       "        [2.2637e-03, 4.5265e-03, 2.2637e-03],\n",
       "        [1.6010e-03, 3.2010e-03, 1.6010e-03],\n",
       "        [1.3866e-03, 2.7723e-03, 1.3866e-03],\n",
       "        [2.9607e-03, 5.9204e-03, 2.9607e-03],\n",
       "        [1.0000e-06, 1.0000e-06, 1.0000e-06],\n",
       "        [1.3866e-03, 2.7723e-03, 1.3866e-03],\n",
       "        [2.1075e-03, 4.2140e-03, 2.1075e-03],\n",
       "        [8.4953e-04, 1.6981e-03, 8.4953e-04],\n",
       "        [2.3808e-03, 4.7606e-03, 2.3808e-03],\n",
       "        [1.9809e-03, 3.9608e-03, 1.9809e-03],\n",
       "        [1.3866e-03, 2.7723e-03, 1.3866e-03],\n",
       "        [1.3866e-03, 2.7723e-03, 1.3866e-03],\n",
       "        [2.4061e-03, 4.8111e-03, 2.4061e-03],\n",
       "        [1.2495e-03, 2.4981e-03, 1.2495e-03]], grad_fn=<AddmmBackward0>)"
      ]
     },
     "execution_count": 38,
     "metadata": {},
     "output_type": "execute_result"
    }
   ],
   "source": [
    "H_neg =  gcn_1_neg(H_neg)\n",
    "H_neg"
   ]
  },
  {
   "cell_type": "code",
   "execution_count": 39,
   "id": "b32d879b-d83f-4a7a-85f0-3747953445cc",
   "metadata": {},
   "outputs": [
    {
     "data": {
      "text/plain": [
       "(torch.Size([24, 3]),\n",
       " tensor([[-3.6805e-04, -7.3611e-04, -3.6805e-04],\n",
       "         [-1.6805e-04, -3.3611e-04, -1.6805e-04],\n",
       "         [ 3.1947e-05,  6.3895e-05,  3.1947e-05],\n",
       "         [-2.3283e-10, -4.6566e-10, -2.3283e-10],\n",
       "         [-1.2721e-04, -2.5442e-04, -1.2721e-04],\n",
       "         [ 3.2154e-04,  6.4308e-04,  3.2154e-04],\n",
       "         [ 1.8750e-03,  3.7499e-03,  1.8750e-03],\n",
       "         [-1.0711e-04, -2.1421e-04, -1.0711e-04],\n",
       "         [-1.0202e-03, -2.0404e-03, -1.0202e-03],\n",
       "         [ 2.9289e-04,  5.8579e-04,  2.9289e-04],\n",
       "         [-5.4288e-04, -1.0858e-03, -5.4288e-04],\n",
       "         [ 4.6231e-04,  9.2462e-04,  4.6231e-04],\n",
       "         [ 4.3089e-06,  8.6178e-06,  4.3089e-06],\n",
       "         [-1.7597e-03, -3.5194e-03, -1.7597e-03],\n",
       "         [ 2.3214e-03,  4.6428e-03,  2.3214e-03],\n",
       "         [ 6.0431e-04,  1.2086e-03,  6.0431e-04],\n",
       "         [-2.5328e-04, -5.0656e-04, -2.5328e-04],\n",
       "         [ 1.3033e-03,  2.6066e-03,  1.3033e-03],\n",
       "         [-1.5798e-03, -3.1596e-03, -1.5798e-03],\n",
       "         [-1.7990e-04, -3.5980e-04, -1.7990e-04],\n",
       "         [ 5.5745e-04,  1.1149e-03,  5.5745e-04],\n",
       "         [ 7.5745e-04,  1.5149e-03,  7.5745e-04],\n",
       "         [-6.0506e-04, -1.2101e-03, -6.0506e-04],\n",
       "         [ 1.1545e-03,  2.3090e-03,  1.1545e-03]], grad_fn=<SubBackward0>))"
      ]
     },
     "execution_count": 39,
     "metadata": {},
     "output_type": "execute_result"
    }
   ],
   "source": [
    "out = H_pos - H_neg\n",
    "out.size(), out"
   ]
  },
  {
   "cell_type": "markdown",
   "id": "0ba4d34e-9b7a-4011-93e6-94a5bfa06818",
   "metadata": {},
   "source": [
    "#### GCN Block - First Batch Norm"
   ]
  },
  {
   "cell_type": "code",
   "execution_count": 40,
   "id": "ea70b76b-1aa7-4984-8a65-001a77833b2a",
   "metadata": {},
   "outputs": [
    {
     "data": {
      "text/plain": [
       "(Parameter containing:\n",
       " tensor([1., 1., 1.], requires_grad=True),\n",
       " Parameter containing:\n",
       " tensor([1.0000e-06, 1.0000e-06, 1.0000e-06], requires_grad=True))"
      ]
     },
     "execution_count": 40,
     "metadata": {},
     "output_type": "execute_result"
    }
   ],
   "source": [
    "bn_a = nn.LayerNorm(n_embd)\n",
    "nn.init.constant_(bn_a.bias, 1e-6) # prevent 0 crashout\n",
    "bn_a.weight, bn_a.bias"
   ]
  },
  {
   "cell_type": "code",
   "execution_count": 41,
   "id": "082584d3-04d6-48d9-a5b9-d151ebf8ca04",
   "metadata": {},
   "outputs": [
    {
     "data": {
      "text/plain": [
       "(torch.Size([24, 3]),\n",
       " tensor([[ 3.8739e-02, -7.7475e-02,  3.8739e-02],\n",
       "         [ 1.7710e-02, -3.5417e-02,  1.7710e-02],\n",
       "         [-3.3665e-03,  6.7360e-03, -3.3665e-03],\n",
       "         [ 1.0245e-06,  9.5091e-07,  1.0245e-06],\n",
       "         [ 1.3407e-02, -2.6812e-02,  1.3407e-02],\n",
       "         [-3.3853e-02,  6.7710e-02, -3.3853e-02],\n",
       "         [-1.9034e-01,  3.8069e-01, -1.9034e-01],\n",
       "         [ 1.1290e-02, -2.2576e-02,  1.1290e-02],\n",
       "         [ 1.0632e-01, -2.1263e-01,  1.0632e-01],\n",
       "         [-3.0843e-02,  6.1689e-02, -3.0843e-02],\n",
       "         [ 5.7039e-02, -1.1407e-01,  5.7039e-02],\n",
       "         [-4.8616e-02,  9.7234e-02, -4.8616e-02],\n",
       "         [-4.5320e-04,  9.0939e-04, -4.5320e-04],\n",
       "         [ 1.7942e-01, -3.5883e-01,  1.7942e-01],\n",
       "         [-2.3124e-01,  4.6249e-01, -2.3124e-01],\n",
       "         [-6.3442e-02,  1.2689e-01, -6.3442e-02],\n",
       "         [ 2.6680e-02, -5.3357e-02,  2.6680e-02],\n",
       "         [-1.3486e-01,  2.6972e-01, -1.3486e-01],\n",
       "         [ 1.6209e-01, -3.2418e-01,  1.6209e-01],\n",
       "         [ 1.8957e-02, -3.7911e-02,  1.8957e-02],\n",
       "         [-5.8558e-02,  1.1712e-01, -5.8558e-02],\n",
       "         [-7.9338e-02,  1.5868e-01, -7.9338e-02],\n",
       "         [ 6.3522e-02, -1.2704e-01,  6.3522e-02],\n",
       "         [-1.1993e-01,  2.3986e-01, -1.1993e-01]],\n",
       "        grad_fn=<NativeLayerNormBackward0>))"
      ]
     },
     "execution_count": 41,
     "metadata": {},
     "output_type": "execute_result"
    }
   ],
   "source": [
    "out = bn_a(out)\n",
    "out.size(), out"
   ]
  },
  {
   "cell_type": "markdown",
   "id": "b64bccc5-6c49-4685-91b2-a0a9e58e58bf",
   "metadata": {},
   "source": [
    "#### GCN Block - Leaky ReLU"
   ]
  },
  {
   "cell_type": "code",
   "execution_count": 42,
   "id": "2172634c-3dfc-48d6-b751-df5e972f007e",
   "metadata": {},
   "outputs": [],
   "source": [
    "lrelu_1= nn.LeakyReLU(negative_slope=0.1)"
   ]
  },
  {
   "cell_type": "code",
   "execution_count": 43,
   "id": "e6d9fdbe-f361-4e1a-8813-2c67a7492b4c",
   "metadata": {},
   "outputs": [
    {
     "data": {
      "text/plain": [
       "(torch.Size([24, 3]),\n",
       " tensor([[ 3.8739e-02, -7.7475e-03,  3.8739e-02],\n",
       "         [ 1.7710e-02, -3.5417e-03,  1.7710e-02],\n",
       "         [-3.3665e-04,  6.7360e-03, -3.3665e-04],\n",
       "         [ 1.0245e-06,  9.5091e-07,  1.0245e-06],\n",
       "         [ 1.3407e-02, -2.6812e-03,  1.3407e-02],\n",
       "         [-3.3853e-03,  6.7710e-02, -3.3853e-03],\n",
       "         [-1.9034e-02,  3.8069e-01, -1.9034e-02],\n",
       "         [ 1.1290e-02, -2.2576e-03,  1.1290e-02],\n",
       "         [ 1.0632e-01, -2.1263e-02,  1.0632e-01],\n",
       "         [-3.0843e-03,  6.1689e-02, -3.0843e-03],\n",
       "         [ 5.7039e-02, -1.1407e-02,  5.7039e-02],\n",
       "         [-4.8616e-03,  9.7234e-02, -4.8616e-03],\n",
       "         [-4.5320e-05,  9.0939e-04, -4.5320e-05],\n",
       "         [ 1.7942e-01, -3.5883e-02,  1.7942e-01],\n",
       "         [-2.3124e-02,  4.6249e-01, -2.3124e-02],\n",
       "         [-6.3442e-03,  1.2689e-01, -6.3442e-03],\n",
       "         [ 2.6680e-02, -5.3357e-03,  2.6680e-02],\n",
       "         [-1.3486e-02,  2.6972e-01, -1.3486e-02],\n",
       "         [ 1.6209e-01, -3.2418e-02,  1.6209e-01],\n",
       "         [ 1.8957e-02, -3.7911e-03,  1.8957e-02],\n",
       "         [-5.8558e-03,  1.1712e-01, -5.8558e-03],\n",
       "         [-7.9337e-03,  1.5868e-01, -7.9337e-03],\n",
       "         [ 6.3522e-02, -1.2704e-02,  6.3522e-02],\n",
       "         [-1.1993e-02,  2.3986e-01, -1.1993e-02]], grad_fn=<LeakyReluBackward0>))"
      ]
     },
     "execution_count": 43,
     "metadata": {},
     "output_type": "execute_result"
    }
   ],
   "source": [
    "out = lrelu_1(out)\n",
    "out.size(), out"
   ]
  },
  {
   "cell_type": "markdown",
   "id": "ad2b1898-8e4f-45b0-822d-437e2f1f00ec",
   "metadata": {},
   "source": [
    "#### GCN Block - Dropout"
   ]
  },
  {
   "cell_type": "code",
   "execution_count": 44,
   "id": "b3f77a00-b595-4246-bcc7-9fc01081921c",
   "metadata": {},
   "outputs": [],
   "source": [
    "drop = torch.nn.Dropout(0.05)"
   ]
  },
  {
   "cell_type": "code",
   "execution_count": 45,
   "id": "ffb72b23-dca0-48d3-a165-fa739c284d06",
   "metadata": {},
   "outputs": [
    {
     "data": {
      "text/plain": [
       "(torch.Size([24, 3]),\n",
       " tensor([[ 4.0778e-02, -8.1552e-03,  4.0778e-02],\n",
       "         [ 1.8642e-02, -3.7281e-03,  1.8642e-02],\n",
       "         [-3.5437e-04,  7.0905e-03, -3.5437e-04],\n",
       "         [ 1.0785e-06,  1.0010e-06,  1.0785e-06],\n",
       "         [ 0.0000e+00, -2.8223e-03,  1.4113e-02],\n",
       "         [-3.5635e-03,  7.1273e-02, -3.5635e-03],\n",
       "         [-2.0036e-02,  4.0072e-01, -2.0036e-02],\n",
       "         [ 1.1884e-02, -2.3764e-03,  1.1884e-02],\n",
       "         [ 1.1191e-01, -0.0000e+00,  1.1191e-01],\n",
       "         [-3.2467e-03,  6.4936e-02, -3.2467e-03],\n",
       "         [ 6.0041e-02, -1.2008e-02,  6.0041e-02],\n",
       "         [-5.1174e-03,  1.0235e-01, -5.1174e-03],\n",
       "         [-4.7705e-05,  9.5725e-04, -4.7705e-05],\n",
       "         [ 1.8886e-01, -3.7772e-02,  1.8886e-01],\n",
       "         [-2.4341e-02,  4.8683e-01, -2.4341e-02],\n",
       "         [-6.6781e-03,  1.3356e-01, -6.6781e-03],\n",
       "         [ 2.8084e-02, -5.6166e-03,  2.8084e-02],\n",
       "         [-1.4196e-02,  2.8391e-01, -1.4196e-02],\n",
       "         [ 1.7062e-01, -3.4124e-02,  1.7062e-01],\n",
       "         [ 1.9955e-02, -3.9907e-03,  1.9955e-02],\n",
       "         [-6.1640e-03,  1.2328e-01, -6.1640e-03],\n",
       "         [-8.3513e-03,  1.6703e-01, -8.3513e-03],\n",
       "         [ 6.6865e-02, -1.3373e-02,  6.6865e-02],\n",
       "         [-1.2624e-02,  2.5249e-01, -1.2624e-02]], grad_fn=<MulBackward0>))"
      ]
     },
     "execution_count": 45,
     "metadata": {},
     "output_type": "execute_result"
    }
   ],
   "source": [
    "out = drop(out) \n",
    "out.size(), out"
   ]
  },
  {
   "cell_type": "markdown",
   "id": "6f13cfb3-a77c-4d3d-9860-4d05742d5bab",
   "metadata": {},
   "source": [
    "#### GCN Block - Second Node Convolution"
   ]
  },
  {
   "cell_type": "code",
   "execution_count": 46,
   "id": "dd69a287-748e-4624-bb92-afea08e877ec",
   "metadata": {},
   "outputs": [
    {
     "data": {
      "text/plain": [
       "(Parameter containing:\n",
       " tensor([[0.0500, 0.1000, 0.0500],\n",
       "         [0.1000, 0.2000, 0.1000],\n",
       "         [0.0500, 0.1000, 0.0500]], requires_grad=True),\n",
       " Parameter containing:\n",
       " tensor([1.0000e-06, 1.0000e-06, 1.0000e-06], requires_grad=True))"
      ]
     },
     "execution_count": 46,
     "metadata": {},
     "output_type": "execute_result"
    }
   ],
   "source": [
    "gcn_2_pos = torch.nn.Linear(n_embd, n_embd, bias=True)\n",
    "with torch.no_grad(): \n",
    "    gcn_2_pos.weight.copy_(pyramid_weight(n_embd, n_embd, base=0.05))\n",
    "nn.init.constant_(gcn_2_pos.bias, 1e-6)\n",
    "gcn_2_pos.weight, gcn_2_pos.bias"
   ]
  },
  {
   "cell_type": "code",
   "execution_count": 47,
   "id": "d768529f-4907-4112-ae4d-4ef3214b482d",
   "metadata": {},
   "outputs": [
    {
     "data": {
      "text/plain": [
       "(Parameter containing:\n",
       " tensor([[0.0500, 0.1000, 0.0500],\n",
       "         [0.1000, 0.2000, 0.1000],\n",
       "         [0.0500, 0.1000, 0.0500]], requires_grad=True),\n",
       " Parameter containing:\n",
       " tensor([1.0000e-06, 1.0000e-06, 1.0000e-06], requires_grad=True))"
      ]
     },
     "execution_count": 47,
     "metadata": {},
     "output_type": "execute_result"
    }
   ],
   "source": [
    "gcn_2_neg = torch.nn.Linear(n_embd, n_embd, bias=True)\n",
    "with torch.no_grad(): \n",
    "    gcn_2_neg.weight.copy_(pyramid_weight(n_embd, n_embd, base=0.05))\n",
    "nn.init.constant_(gcn_2_neg.bias, 1e-6)\n",
    "gcn_2_neg.weight, gcn_2_neg.bias"
   ]
  },
  {
   "cell_type": "code",
   "execution_count": 48,
   "id": "8f1a06c9-d6e9-4659-ab6f-80bbcdd7713a",
   "metadata": {},
   "outputs": [
    {
     "data": {
      "text/plain": [
       "(torch.Size([24, 3]),\n",
       " tensor([[ 2.0389e-02, -5.0755e-03,  2.5379e-02],\n",
       "         [ 9.3209e-03, -2.8619e-03,  1.4311e-02],\n",
       "         [-1.7718e-04,  2.5474e-03,  4.8126e-03],\n",
       "         [-1.7812e-03,  3.5637e-02, -1.7812e-03],\n",
       "         [ 2.0883e-02, -2.4001e-03,  2.4411e-02],\n",
       "         [-1.7812e-03,  3.5637e-02, -1.7812e-03],\n",
       "         [ 1.1858e-02,  1.5912e-01,  1.1858e-02],\n",
       "         [ 4.1326e-03,  3.4999e-02,  4.1326e-03],\n",
       "         [ 8.0468e-02, -4.9022e-03,  8.0468e-02],\n",
       "         [-3.4326e-03,  6.8655e-02, -3.4326e-03],\n",
       "         [ 5.9023e-02,  1.2957e-01,  5.9023e-02],\n",
       "         [-4.0095e-03,  1.6338e-01, -4.0095e-03],\n",
       "         [-5.0427e-03,  1.0086e-01, -5.0427e-03],\n",
       "         [ 1.8886e-01, -3.7772e-02,  1.8886e-01],\n",
       "         [-7.4628e-04,  2.4194e-01, -7.4628e-04],\n",
       "         [-8.3579e-03,  1.6716e-01, -8.3579e-03],\n",
       "         [ 4.1049e-03,  1.9594e-01,  4.1049e-03],\n",
       "         [-1.2954e-02,  2.5908e-01, -1.2954e-02],\n",
       "         [ 1.7062e-01, -3.4124e-02,  1.7062e-01],\n",
       "         [ 4.3410e-02, -8.6817e-03,  4.3410e-02],\n",
       "         [-8.2358e-03,  1.6472e-01, -8.2358e-03],\n",
       "         [-9.3295e-03,  1.8659e-01, -9.3295e-03],\n",
       "         [ 4.3410e-02, -8.6817e-03,  4.3410e-02],\n",
       "         [-1.0134e-02,  2.0268e-01, -1.0134e-02]], grad_fn=<MmBackward0>))"
      ]
     },
     "execution_count": 48,
     "metadata": {},
     "output_type": "execute_result"
    }
   ],
   "source": [
    "H2_pos = Apos_blk @ out\n",
    "H2_pos.size(), H2_pos"
   ]
  },
  {
   "cell_type": "code",
   "execution_count": 49,
   "id": "1bd3a8fb-5d1c-4d27-ae15-7c5e42a700ab",
   "metadata": {},
   "outputs": [
    {
     "data": {
      "text/plain": [
       "tensor([[0.0018, 0.0036, 0.0018],\n",
       "        [0.0009, 0.0018, 0.0009],\n",
       "        [0.0005, 0.0010, 0.0005],\n",
       "        [0.0034, 0.0068, 0.0034],\n",
       "        [0.0020, 0.0041, 0.0020],\n",
       "        [0.0034, 0.0068, 0.0034],\n",
       "        [0.0171, 0.0342, 0.0171],\n",
       "        [0.0039, 0.0078, 0.0039],\n",
       "        [0.0076, 0.0151, 0.0076],\n",
       "        [0.0065, 0.0130, 0.0065],\n",
       "        [0.0189, 0.0377, 0.0189],\n",
       "        [0.0159, 0.0319, 0.0159],\n",
       "        [0.0096, 0.0192, 0.0096],\n",
       "        [0.0151, 0.0302, 0.0151],\n",
       "        [0.0241, 0.0482, 0.0241],\n",
       "        [0.0159, 0.0318, 0.0159],\n",
       "        [0.0200, 0.0400, 0.0200],\n",
       "        [0.0246, 0.0492, 0.0246],\n",
       "        [0.0137, 0.0273, 0.0137],\n",
       "        [0.0035, 0.0069, 0.0035],\n",
       "        [0.0156, 0.0313, 0.0156],\n",
       "        [0.0177, 0.0355, 0.0177],\n",
       "        [0.0035, 0.0069, 0.0035],\n",
       "        [0.0193, 0.0385, 0.0193]], grad_fn=<AddmmBackward0>)"
      ]
     },
     "execution_count": 49,
     "metadata": {},
     "output_type": "execute_result"
    }
   ],
   "source": [
    "H2_pos =  gcn_2_pos(H2_pos)\n",
    "H2_pos"
   ]
  },
  {
   "cell_type": "code",
   "execution_count": 50,
   "id": "647fe12e-ea0a-43de-8a2d-aeabe682f3a3",
   "metadata": {},
   "outputs": [
    {
     "data": {
      "text/plain": [
       "(torch.Size([24, 3]),\n",
       " tensor([[-2.0574e-03,  4.1150e-02, -2.0574e-03],\n",
       "         [-2.0574e-03,  4.1150e-02, -2.0574e-03],\n",
       "         [-2.0574e-03,  4.1150e-02, -2.0574e-03],\n",
       "         [ 0.0000e+00, -2.8223e-03,  1.4113e-02],\n",
       "         [ 1.0785e-06,  1.0010e-06,  1.0785e-06],\n",
       "         [ 3.4101e-02, -2.7671e-03,  3.4101e-02],\n",
       "         [ 0.0000e+00,  0.0000e+00,  0.0000e+00],\n",
       "         [ 4.2455e-02, -8.4908e-03,  4.2455e-02],\n",
       "         [-5.1174e-03,  1.0235e-01, -5.1174e-03],\n",
       "         [ 4.2455e-02, -8.4908e-03,  4.2455e-02],\n",
       "         [ 6.1074e-03,  4.4236e-02,  6.1074e-03],\n",
       "         [ 1.1191e-01,  0.0000e+00,  1.1191e-01],\n",
       "         [ 1.6215e-02, -3.2427e-03,  1.6215e-02],\n",
       "         [ 1.4277e-03,  1.9846e-01,  1.4277e-03],\n",
       "         [ 0.0000e+00,  0.0000e+00,  0.0000e+00],\n",
       "         [ 1.6215e-02, -3.2427e-03,  1.6215e-02],\n",
       "         [ 7.3219e-02,  6.2246e-02,  7.3219e-02],\n",
       "         [ 1.3355e-01, -2.6709e-02,  1.3355e-01],\n",
       "         [ 2.0985e-02,  1.2078e-01,  2.0985e-02],\n",
       "         [-8.9267e-03,  1.7854e-01, -8.9267e-03],\n",
       "         [ 3.8605e-02, -7.7208e-03,  3.8605e-02],\n",
       "         [ 3.8605e-02, -7.7208e-03,  3.8605e-02],\n",
       "         [ 6.1276e-02,  1.5368e-01,  6.1276e-02],\n",
       "         [ 9.9422e-02, -1.9884e-02,  9.9422e-02]], grad_fn=<MmBackward0>))"
      ]
     },
     "execution_count": 50,
     "metadata": {},
     "output_type": "execute_result"
    }
   ],
   "source": [
    "H2_neg = Aneg_blk @ out\n",
    "H2_neg.size(), H2_neg"
   ]
  },
  {
   "cell_type": "code",
   "execution_count": 51,
   "id": "1d110dd1-5ec8-4118-8547-16986b91e6a3",
   "metadata": {},
   "outputs": [
    {
     "data": {
      "text/plain": [
       "tensor([[3.9102e-03, 7.8194e-03, 3.9102e-03],\n",
       "        [3.9102e-03, 7.8194e-03, 3.9102e-03],\n",
       "        [3.9102e-03, 7.8194e-03, 3.9102e-03],\n",
       "        [4.2442e-04, 8.4785e-04, 4.2442e-04],\n",
       "        [1.2079e-06, 1.4159e-06, 1.2079e-06],\n",
       "        [3.1344e-03, 6.2678e-03, 3.1344e-03],\n",
       "        [1.0000e-06, 1.0000e-06, 1.0000e-06],\n",
       "        [3.3974e-03, 6.7939e-03, 3.3974e-03],\n",
       "        [9.7244e-03, 1.9448e-02, 9.7244e-03],\n",
       "        [3.3974e-03, 6.7939e-03, 3.3974e-03],\n",
       "        [5.0354e-03, 1.0070e-02, 5.0354e-03],\n",
       "        [1.1192e-02, 2.2384e-02, 1.1192e-02],\n",
       "        [1.2982e-03, 2.5954e-03, 1.2982e-03],\n",
       "        [1.9990e-02, 3.9979e-02, 1.9990e-02],\n",
       "        [1.0000e-06, 1.0000e-06, 1.0000e-06],\n",
       "        [1.2982e-03, 2.5954e-03, 1.2982e-03],\n",
       "        [1.3548e-02, 2.7094e-02, 1.3548e-02],\n",
       "        [1.0685e-02, 2.1368e-02, 1.0685e-02],\n",
       "        [1.4178e-02, 2.8355e-02, 1.4178e-02],\n",
       "        [1.6962e-02, 3.3923e-02, 1.6962e-02],\n",
       "        [3.0894e-03, 6.1778e-03, 3.0894e-03],\n",
       "        [3.0894e-03, 6.1778e-03, 3.0894e-03],\n",
       "        [2.1497e-02, 4.2992e-02, 2.1497e-02],\n",
       "        [7.9548e-03, 1.5909e-02, 7.9548e-03]], grad_fn=<AddmmBackward0>)"
      ]
     },
     "execution_count": 51,
     "metadata": {},
     "output_type": "execute_result"
    }
   ],
   "source": [
    "H2_neg =  gcn_2_neg(H2_neg)\n",
    "H2_neg"
   ]
  },
  {
   "cell_type": "code",
   "execution_count": 52,
   "id": "fd78b77f-b662-438e-8cec-ed85fd5ff832",
   "metadata": {},
   "outputs": [
    {
     "data": {
      "text/plain": [
       "(torch.Size([24, 3]),\n",
       " tensor([[-0.0021, -0.0043, -0.0021],\n",
       "         [-0.0030, -0.0060, -0.0030],\n",
       "         [-0.0034, -0.0068, -0.0034],\n",
       "         [ 0.0030,  0.0059,  0.0030],\n",
       "         [ 0.0020,  0.0040,  0.0020],\n",
       "         [ 0.0003,  0.0005,  0.0003],\n",
       "         [ 0.0171,  0.0342,  0.0171],\n",
       "         [ 0.0005,  0.0010,  0.0005],\n",
       "         [-0.0022, -0.0043, -0.0022],\n",
       "         [ 0.0031,  0.0063,  0.0031],\n",
       "         [ 0.0138,  0.0277,  0.0138],\n",
       "         [ 0.0047,  0.0095,  0.0047],\n",
       "         [ 0.0083,  0.0166,  0.0083],\n",
       "         [-0.0049, -0.0098, -0.0049],\n",
       "         [ 0.0241,  0.0482,  0.0241],\n",
       "         [ 0.0146,  0.0292,  0.0146],\n",
       "         [ 0.0065,  0.0129,  0.0065],\n",
       "         [ 0.0139,  0.0279,  0.0139],\n",
       "         [-0.0005, -0.0011, -0.0005],\n",
       "         [-0.0135, -0.0270, -0.0135],\n",
       "         [ 0.0126,  0.0251,  0.0126],\n",
       "         [ 0.0146,  0.0293,  0.0146],\n",
       "         [-0.0180, -0.0360, -0.0180],\n",
       "         [ 0.0113,  0.0226,  0.0113]], grad_fn=<SubBackward0>))"
      ]
     },
     "execution_count": 52,
     "metadata": {},
     "output_type": "execute_result"
    }
   ],
   "source": [
    "out = H2_pos - H2_neg\n",
    "out.size(), out"
   ]
  },
  {
   "cell_type": "markdown",
   "id": "940314cd-a4f7-4399-9720-e18342e153c6",
   "metadata": {},
   "source": [
    "#### GCN Block - Second Batch Norm"
   ]
  },
  {
   "cell_type": "code",
   "execution_count": 53,
   "id": "8fb8a26b-1dc2-4ec8-97a4-5f227abf9cf4",
   "metadata": {},
   "outputs": [
    {
     "data": {
      "text/plain": [
       "(Parameter containing:\n",
       " tensor([1., 1., 1.], requires_grad=True),\n",
       " Parameter containing:\n",
       " tensor([1.0000e-06, 1.0000e-06, 1.0000e-06], requires_grad=True))"
      ]
     },
     "execution_count": 53,
     "metadata": {},
     "output_type": "execute_result"
    }
   ],
   "source": [
    "bn_b = nn.LayerNorm(n_embd)\n",
    "nn.init.constant_(bn_b.bias, 1e-6) # prevent 0 crashout\n",
    "bn_b.weight, bn_b.bias"
   ]
  },
  {
   "cell_type": "code",
   "execution_count": 54,
   "id": "b02c6118-c5ff-4661-9bd8-e358b933736b",
   "metadata": {},
   "outputs": [
    {
     "data": {
      "text/plain": [
       "(torch.Size([24, 3]),\n",
       " tensor([[ 0.2138, -0.4277,  0.2138],\n",
       "         [ 0.2898, -0.5796,  0.2898],\n",
       "         [ 0.3214, -0.6427,  0.3214],\n",
       "         [-0.2856,  0.5713, -0.2856],\n",
       "         [-0.2043,  0.4086, -0.2043],\n",
       "         [-0.0266,  0.0531, -0.0266],\n",
       "         [-0.6583,  1.3165, -0.6583],\n",
       "         [-0.0543,  0.1086, -0.0543],\n",
       "         [ 0.2173, -0.4347,  0.2173],\n",
       "         [-0.2987,  0.5973, -0.2987],\n",
       "         [-0.6362,  1.2723, -0.6362],\n",
       "         [-0.4084,  0.8168, -0.4084],\n",
       "         [-0.5495,  1.0991, -0.5495],\n",
       "         [ 0.4160, -0.8320,  0.4160],\n",
       "         [-0.6812,  1.3625, -0.6812],\n",
       "         [-0.6424,  1.2848, -0.6424],\n",
       "         [-0.4904,  0.9808, -0.4904],\n",
       "         [-0.6371,  1.2741, -0.6371],\n",
       "         [ 0.0554, -0.1108,  0.0554],\n",
       "         [ 0.6331, -1.2663,  0.6331],\n",
       "         [-0.6237,  1.2474, -0.6237],\n",
       "         [-0.6428,  1.2856, -0.6428],\n",
       "         [ 0.6627, -1.3254,  0.6627],\n",
       "         [-0.6081,  1.2161, -0.6081]], grad_fn=<NativeLayerNormBackward0>))"
      ]
     },
     "execution_count": 54,
     "metadata": {},
     "output_type": "execute_result"
    }
   ],
   "source": [
    "out = bn_b(out)\n",
    "out.size(), out"
   ]
  },
  {
   "cell_type": "markdown",
   "id": "fe481963-fa2c-4669-aad7-304d0ff4e134",
   "metadata": {},
   "source": [
    "### Residual Connection"
   ]
  },
  {
   "cell_type": "markdown",
   "id": "a37206f1-9ef8-42b0-8307-28ac4c8a0845",
   "metadata": {},
   "source": [
    "#### Residual Connection - Sum "
   ]
  },
  {
   "cell_type": "code",
   "execution_count": 55,
   "id": "2dd2b7cc-762c-4465-978f-41fc638bcd62",
   "metadata": {},
   "outputs": [
    {
     "data": {
      "text/plain": [
       "(torch.Size([24, 3]),\n",
       " tensor([[ 0.2238, -0.4077,  0.2438],\n",
       "         [ 0.3098, -0.5496,  0.3298],\n",
       "         [ 0.3514, -0.6027,  0.3714],\n",
       "         [-0.2456,  0.6213, -0.2256],\n",
       "         [-0.1543,  0.4686, -0.1343],\n",
       "         [ 0.0334,  0.1231,  0.0534],\n",
       "         [-0.6483,  1.3365, -0.6283],\n",
       "         [-0.0343,  0.1386, -0.0143],\n",
       "         [ 0.2473, -0.3947,  0.2673],\n",
       "         [-0.2587,  0.6473, -0.2387],\n",
       "         [-0.5862,  1.3323, -0.5662],\n",
       "         [-0.3484,  0.8868, -0.3284],\n",
       "         [-0.5395,  1.1191, -0.5195],\n",
       "         [ 0.4360, -0.8020,  0.4560],\n",
       "         [-0.6512,  1.4025, -0.6312],\n",
       "         [-0.6024,  1.3348, -0.5824],\n",
       "         [-0.4404,  1.0408, -0.4204],\n",
       "         [-0.5771,  1.3441, -0.5571],\n",
       "         [ 0.0654, -0.0908,  0.0854],\n",
       "         [ 0.6531, -1.2363,  0.6731],\n",
       "         [-0.5937,  1.2874, -0.5737],\n",
       "         [-0.6028,  1.3356, -0.5828],\n",
       "         [ 0.7127, -1.2654,  0.7327],\n",
       "         [-0.5481,  1.2861, -0.5281]], grad_fn=<AddBackward0>))"
      ]
     },
     "execution_count": 55,
     "metadata": {},
     "output_type": "execute_result"
    }
   ],
   "source": [
    "x = out + x\n",
    "x.size(), x"
   ]
  },
  {
   "cell_type": "markdown",
   "id": "2d347794-6944-4c6d-970f-cfd7f74fa3aa",
   "metadata": {},
   "source": [
    "#### Residual Connection - Leaky ReLU "
   ]
  },
  {
   "cell_type": "code",
   "execution_count": 56,
   "id": "3d4b99e0-3aa8-4536-a60a-b3e8b794bd97",
   "metadata": {},
   "outputs": [],
   "source": [
    "lrelu_res = nn.LeakyReLU(negative_slope=0.1)"
   ]
  },
  {
   "cell_type": "code",
   "execution_count": 57,
   "id": "ca85ec78-c5b9-459b-8c1c-7fbb41716e29",
   "metadata": {},
   "outputs": [
    {
     "data": {
      "text/plain": [
       "(torch.Size([24, 3]),\n",
       " tensor([[ 0.2238, -0.0408,  0.2438],\n",
       "         [ 0.3098, -0.0550,  0.3298],\n",
       "         [ 0.3514, -0.0603,  0.3714],\n",
       "         [-0.0246,  0.6213, -0.0226],\n",
       "         [-0.0154,  0.4686, -0.0134],\n",
       "         [ 0.0334,  0.1231,  0.0534],\n",
       "         [-0.0648,  1.3365, -0.0628],\n",
       "         [-0.0034,  0.1386, -0.0014],\n",
       "         [ 0.2473, -0.0395,  0.2673],\n",
       "         [-0.0259,  0.6473, -0.0239],\n",
       "         [-0.0586,  1.3323, -0.0566],\n",
       "         [-0.0348,  0.8868, -0.0328],\n",
       "         [-0.0540,  1.1191, -0.0520],\n",
       "         [ 0.4360, -0.0802,  0.4560],\n",
       "         [-0.0651,  1.4025, -0.0631],\n",
       "         [-0.0602,  1.3348, -0.0582],\n",
       "         [-0.0440,  1.0408, -0.0420],\n",
       "         [-0.0577,  1.3441, -0.0557],\n",
       "         [ 0.0654, -0.0091,  0.0854],\n",
       "         [ 0.6531, -0.1236,  0.6731],\n",
       "         [-0.0594,  1.2874, -0.0574],\n",
       "         [-0.0603,  1.3356, -0.0583],\n",
       "         [ 0.7127, -0.1265,  0.7327],\n",
       "         [-0.0548,  1.2861, -0.0528]], grad_fn=<LeakyReluBackward0>))"
      ]
     },
     "execution_count": 57,
     "metadata": {},
     "output_type": "execute_result"
    }
   ],
   "source": [
    "x = lrelu_res(x)\n",
    "x.size(), x"
   ]
  },
  {
   "cell_type": "code",
   "execution_count": 58,
   "id": "cb970fdf-029e-472d-b1f3-b5b43bafbe94",
   "metadata": {},
   "outputs": [
    {
     "data": {
      "text/plain": [
       "(torch.Size([4, 6, 3]),\n",
       " tensor([[[ 0.2238, -0.0408,  0.2438],\n",
       "          [ 0.3098, -0.0550,  0.3298],\n",
       "          [ 0.3514, -0.0603,  0.3714],\n",
       "          [-0.0246,  0.6213, -0.0226],\n",
       "          [-0.0154,  0.4686, -0.0134],\n",
       "          [ 0.0334,  0.1231,  0.0534]],\n",
       " \n",
       "         [[-0.0648,  1.3365, -0.0628],\n",
       "          [-0.0034,  0.1386, -0.0014],\n",
       "          [ 0.2473, -0.0395,  0.2673],\n",
       "          [-0.0259,  0.6473, -0.0239],\n",
       "          [-0.0586,  1.3323, -0.0566],\n",
       "          [-0.0348,  0.8868, -0.0328]],\n",
       " \n",
       "         [[-0.0540,  1.1191, -0.0520],\n",
       "          [ 0.4360, -0.0802,  0.4560],\n",
       "          [-0.0651,  1.4025, -0.0631],\n",
       "          [-0.0602,  1.3348, -0.0582],\n",
       "          [-0.0440,  1.0408, -0.0420],\n",
       "          [-0.0577,  1.3441, -0.0557]],\n",
       " \n",
       "         [[ 0.0654, -0.0091,  0.0854],\n",
       "          [ 0.6531, -0.1236,  0.6731],\n",
       "          [-0.0594,  1.2874, -0.0574],\n",
       "          [-0.0603,  1.3356, -0.0583],\n",
       "          [ 0.7127, -0.1265,  0.7327],\n",
       "          [-0.0548,  1.2861, -0.0528]]], grad_fn=<ViewBackward0>))"
      ]
     },
     "execution_count": 58,
     "metadata": {},
     "output_type": "execute_result"
    }
   ],
   "source": [
    "x = x.view(B_batch, N_nodes, n_embd)\n",
    "x.size(), x"
   ]
  },
  {
   "cell_type": "markdown",
   "id": "1c8dedd0-1230-400f-86b3-180e6e8b7da3",
   "metadata": {},
   "source": [
    "### Output Layers AKA Model Head.\n",
    "\n",
    "Instead of initializing weights this time around, we'll do **Weight Tying**.  Weight tying sets the output softmax matrix equal to the transpose of the input embedding matrix $W_{\\text{out}} = W_e^\\top$, forcing the model to “read” and “predict” in the same token space. This reduces parameters and acts as a useful prior, improving sample-efficiency and often perplexity by aligning input–output geometry. Modern LLMs have seemed to ditch this though to gain the extra capacity, but, for our example, we'll maintain it.\n"
   ]
  },
  {
   "cell_type": "markdown",
   "id": "c04cca28-117e-4f4c-85d7-6acdfc86a298",
   "metadata": {},
   "source": [
    "#### Output Layer - Node Head\n",
    "\n",
    "For each of the 11 nodes, the model outputs a 2-vector of logits: [score_for_T, score_for_B]."
   ]
  },
  {
   "cell_type": "code",
   "execution_count": 59,
   "id": "9912594a-0ef1-4b2d-bf96-a71491f20de2",
   "metadata": {},
   "outputs": [
    {
     "data": {
      "text/plain": [
       "(Parameter containing:\n",
       " tensor([[0.1000, 0.1000, 0.1000],\n",
       "         [0.1000, 0.1000, 0.1000]], requires_grad=True),\n",
       " Parameter containing:\n",
       " tensor([1.0000e-06, 1.0000e-06], requires_grad=True))"
      ]
     },
     "execution_count": 59,
     "metadata": {},
     "output_type": "execute_result"
    }
   ],
   "source": [
    "node_head = nn.Linear(n_embd, 2, bias=True)   # cell-type logits per node\n",
    "nn.init.constant_(node_head.weight, 0.1) \n",
    "nn.init.constant_(node_head.bias, 1e-6) # prevent 0 crashout\n",
    "node_head.weight, node_head.bias"
   ]
  },
  {
   "cell_type": "code",
   "execution_count": 60,
   "id": "3aae275c-d291-4786-a44c-5641ae0251c8",
   "metadata": {},
   "outputs": [
    {
     "data": {
      "text/plain": [
       "(torch.Size([4, 6, 2]),\n",
       " tensor([[[0.0427, 0.0427],\n",
       "          [0.0585, 0.0585],\n",
       "          [0.0662, 0.0662],\n",
       "          [0.0574, 0.0574],\n",
       "          [0.0440, 0.0440],\n",
       "          [0.0210, 0.0210]],\n",
       " \n",
       "         [[0.1209, 0.1209],\n",
       "          [0.0134, 0.0134],\n",
       "          [0.0475, 0.0475],\n",
       "          [0.0598, 0.0598],\n",
       "          [0.1217, 0.1217],\n",
       "          [0.0819, 0.0819]],\n",
       " \n",
       "         [[0.1013, 0.1013],\n",
       "          [0.0812, 0.0812],\n",
       "          [0.1274, 0.1274],\n",
       "          [0.1216, 0.1216],\n",
       "          [0.0955, 0.0955],\n",
       "          [0.1231, 0.1231]],\n",
       " \n",
       "         [[0.0142, 0.0142],\n",
       "          [0.1203, 0.1203],\n",
       "          [0.1171, 0.1171],\n",
       "          [0.1217, 0.1217],\n",
       "          [0.1319, 0.1319],\n",
       "          [0.1179, 0.1179]]], grad_fn=<ViewBackward0>))"
      ]
     },
     "execution_count": 60,
     "metadata": {},
     "output_type": "execute_result"
    }
   ],
   "source": [
    "node_logits = node_head(x)   \n",
    "node_logits.size(), node_logits"
   ]
  },
  {
   "cell_type": "markdown",
   "id": "0a5bdb1c-0d05-4a3b-998b-aeb4fffc37c1",
   "metadata": {},
   "source": [
    "#### Output Layer - Graph Head"
   ]
  },
  {
   "cell_type": "code",
   "execution_count": 61,
   "id": "c5501ec6-6d4a-4453-98da-e24697f8f43e",
   "metadata": {},
   "outputs": [
    {
     "data": {
      "text/plain": [
       "(Parameter containing:\n",
       " tensor([[0.1000, 0.1000, 0.1000],\n",
       "         [0.1000, 0.1000, 0.1000]], requires_grad=True),\n",
       " Parameter containing:\n",
       " tensor([1.0000e-06, 1.0000e-06], requires_grad=True))"
      ]
     },
     "execution_count": 61,
     "metadata": {},
     "output_type": "execute_result"
    }
   ],
   "source": [
    "graph_head = nn.Linear(n_embd, 2, bias=True)  # cancer logits per graph\n",
    "nn.init.constant_(graph_head.weight, 0.1) \n",
    "nn.init.constant_(graph_head.bias, 1e-6) # prevent 0 crashout\n",
    "graph_head.weight, graph_head.bias"
   ]
  },
  {
   "cell_type": "code",
   "execution_count": 62,
   "id": "69874254-1dfa-48cc-90f0-ec90464f3a98",
   "metadata": {},
   "outputs": [
    {
     "data": {
      "text/plain": [
       "(torch.Size([1, 6]), tensor([[1., 1., 1., 1., 0., 0.]]))"
      ]
     },
     "execution_count": 62,
     "metadata": {},
     "output_type": "execute_result"
    }
   ],
   "source": [
    "mask = gene_mask.float().unsqueeze(0)\n",
    "mask.size(), mask"
   ]
  },
  {
   "cell_type": "code",
   "execution_count": 63,
   "id": "a944671d-0196-45f1-b561-849bcdf3c85b",
   "metadata": {},
   "outputs": [
    {
     "data": {
      "text/plain": [
       "tensor([[4.]])"
      ]
     },
     "execution_count": 63,
     "metadata": {},
     "output_type": "execute_result"
    }
   ],
   "source": [
    "denom = mask.sum(1, keepdim=True).clamp_min(1.0) \n",
    "denom"
   ]
  },
  {
   "cell_type": "code",
   "execution_count": 64,
   "id": "673b8f72-54ff-4eee-a605-a151d5290b65",
   "metadata": {},
   "outputs": [
    {
     "data": {
      "text/plain": [
       "(torch.Size([4, 3]),\n",
       " tensor([[0.2151, 0.1163, 0.2306],\n",
       "         [0.0383, 0.5207, 0.0448],\n",
       "         [0.0642, 0.9440, 0.0707],\n",
       "         [0.1497, 0.6226, 0.1607]], grad_fn=<DivBackward0>))"
      ]
     },
     "execution_count": 64,
     "metadata": {},
     "output_type": "execute_result"
    }
   ],
   "source": [
    "pooled = (x * mask.unsqueeze(-1)).sum(1) / denom   #[B,C]\n",
    "pooled.size(), pooled"
   ]
  },
  {
   "cell_type": "code",
   "execution_count": 65,
   "id": "31b7f10e-d109-4f97-8fe4-a555fe0c797f",
   "metadata": {},
   "outputs": [
    {
     "data": {
      "text/plain": [
       "(torch.Size([4, 2]),\n",
       " tensor([[0.0562, 0.0562],\n",
       "         [0.0604, 0.0604],\n",
       "         [0.1079, 0.1079],\n",
       "         [0.0933, 0.0933]], grad_fn=<AddmmBackward0>))"
      ]
     },
     "execution_count": 65,
     "metadata": {},
     "output_type": "execute_result"
    }
   ],
   "source": [
    "graph_logits = graph_head(pooled)  # [B,2]\n",
    "graph_logits.size(), graph_logits"
   ]
  },
  {
   "cell_type": "code",
   "execution_count": null,
   "id": "b22d94cf-566e-49ea-bfe7-2a4120b162e5",
   "metadata": {},
   "outputs": [],
   "source": []
  },
  {
   "cell_type": "markdown",
   "id": "b342640c-c90c-40a9-9be1-2ad7a70cf5e4",
   "metadata": {},
   "source": [
    "## Loss calculation"
   ]
  },
  {
   "cell_type": "code",
   "execution_count": 66,
   "id": "87a2fb89-258c-42c9-92a0-c5a9f34b9ae8",
   "metadata": {},
   "outputs": [],
   "source": [
    "losses = []"
   ]
  },
  {
   "cell_type": "code",
   "execution_count": 67,
   "id": "de94942d-ef3d-4934-afa9-8001b379e577",
   "metadata": {},
   "outputs": [
    {
     "data": {
      "text/plain": [
       "tensor([[ True,  True,  True,  True, False, False],\n",
       "        [ True,  True,  True,  True, False, False],\n",
       "        [ True,  True,  True,  True, False, False],\n",
       "        [ True,  True,  True,  True, False, False]])"
      ]
     },
     "execution_count": 67,
     "metadata": {},
     "output_type": "execute_result"
    }
   ],
   "source": [
    "valid = (gene_mask & (y_node>=0))\n",
    "valid"
   ]
  },
  {
   "cell_type": "markdown",
   "id": "a908ce7c-5c6b-4117-8dda-1206870ff30d",
   "metadata": {},
   "source": [
    "**node loss**"
   ]
  },
  {
   "cell_type": "markdown",
   "id": "e25ec284-b86e-4f85-a49d-9f8b8eaa44bf",
   "metadata": {},
   "source": [
    "For each of the 11 nodes, the model outputs a 2-vector of logits: [score_for_T, score_for_B]."
   ]
  },
  {
   "cell_type": "code",
   "execution_count": 68,
   "id": "4c679a5e-480c-418c-9701-43892ad7c752",
   "metadata": {},
   "outputs": [
    {
     "data": {
      "text/plain": [
       "(tensor([[0.0427, 0.0427],\n",
       "         [0.0585, 0.0585],\n",
       "         [0.0662, 0.0662],\n",
       "         [0.0574, 0.0574],\n",
       "         [0.1209, 0.1209],\n",
       "         [0.0134, 0.0134],\n",
       "         [0.0475, 0.0475],\n",
       "         [0.0598, 0.0598],\n",
       "         [0.1013, 0.1013],\n",
       "         [0.0812, 0.0812],\n",
       "         [0.1274, 0.1274],\n",
       "         [0.1216, 0.1216],\n",
       "         [0.0142, 0.0142],\n",
       "         [0.1203, 0.1203],\n",
       "         [0.1171, 0.1171],\n",
       "         [0.1217, 0.1217]], grad_fn=<IndexBackward0>),\n",
       " tensor([0, 0, 0, 1, 0, 1, 0, 1, 1, 0, 0, 1, 0, 0, 1, 1]))"
      ]
     },
     "execution_count": 68,
     "metadata": {},
     "output_type": "execute_result"
    }
   ],
   "source": [
    "node_logits[valid], y_node[valid]"
   ]
  },
  {
   "cell_type": "code",
   "execution_count": 69,
   "id": "3c1a5843-c2db-4340-9ece-8d8207146ccf",
   "metadata": {},
   "outputs": [
    {
     "data": {
      "text/plain": [
       "tensor(0.6931, grad_fn=<NllLossBackward0>)"
      ]
     },
     "execution_count": 69,
     "metadata": {},
     "output_type": "execute_result"
    }
   ],
   "source": [
    "nl = F.cross_entropy(node_logits[valid], y_node[valid])\n",
    "losses.append(nl)\n",
    "nl"
   ]
  },
  {
   "cell_type": "markdown",
   "id": "f56d9cc2-95d9-4209-aee0-5bc79aeffa74",
   "metadata": {},
   "source": [
    "**graph loss**"
   ]
  },
  {
   "cell_type": "markdown",
   "id": "853a1a52-12eb-4500-b3ad-f7de0e51f8bc",
   "metadata": {},
   "source": [
    "graph_logits: shape `[B, 2]` — one 2-class logit vector per graph (class 0 = wild_type, class 1 = cancerous)."
   ]
  },
  {
   "cell_type": "code",
   "execution_count": 70,
   "id": "b2484471-c5a1-4e4b-9a4f-2b9f41422614",
   "metadata": {},
   "outputs": [
    {
     "data": {
      "text/plain": [
       "(tensor([[0.0562, 0.0562],\n",
       "         [0.0604, 0.0604],\n",
       "         [0.1079, 0.1079],\n",
       "         [0.0933, 0.0933]], grad_fn=<AddmmBackward0>),\n",
       " tensor([0, 1, 1, 1]))"
      ]
     },
     "execution_count": 70,
     "metadata": {},
     "output_type": "execute_result"
    }
   ],
   "source": [
    "graph_logits, y_graph"
   ]
  },
  {
   "cell_type": "code",
   "execution_count": 71,
   "id": "58fda360-8684-4610-9af3-cd202e8f1ad2",
   "metadata": {},
   "outputs": [
    {
     "data": {
      "text/plain": [
       "tensor(0.6931, grad_fn=<NllLossBackward0>)"
      ]
     },
     "execution_count": 71,
     "metadata": {},
     "output_type": "execute_result"
    }
   ],
   "source": [
    "gl = F.cross_entropy(graph_logits, y_graph)\n",
    "losses.append(gl)\n",
    "gl"
   ]
  },
  {
   "cell_type": "code",
   "execution_count": null,
   "id": "503cd758-12c7-4bfc-b9f0-4effb2bb83a4",
   "metadata": {},
   "outputs": [],
   "source": []
  },
  {
   "cell_type": "code",
   "execution_count": 72,
   "id": "be018565-25a6-4011-b993-adce11a09ed7",
   "metadata": {},
   "outputs": [
    {
     "data": {
      "text/plain": [
       "tensor(1.3863, grad_fn=<AddBackward0>)"
      ]
     },
     "execution_count": 72,
     "metadata": {},
     "output_type": "execute_result"
    }
   ],
   "source": [
    "loss = sum(losses) \n",
    "loss"
   ]
  },
  {
   "cell_type": "markdown",
   "id": "e2e9f666-5438-4a74-b3d7-142da1c078f8",
   "metadata": {},
   "source": [
    "## Back Propagation"
   ]
  },
  {
   "cell_type": "code",
   "execution_count": 73,
   "id": "69a68b2e-2bbd-4809-b8eb-4031ed23ce5f",
   "metadata": {},
   "outputs": [
    {
     "data": {
      "text/plain": [
       "(None, None, None)"
      ]
     },
     "execution_count": 73,
     "metadata": {},
     "output_type": "execute_result"
    }
   ],
   "source": [
    "#output layers\n",
    "graph_head.zero_grad()\n",
    "node_head.zero_grad()\n",
    "\n",
    "#GCN block\n",
    "bn_b.zero_grad()\n",
    "gcn_2_neg.zero_grad()\n",
    "gcn_2_pos.zero_grad()\n",
    "bn_a.zero_grad()\n",
    "gcn_1_neg.zero_grad()\n",
    "gcn_1_pos.zero_grad()\n",
    "\n",
    "#input layer\n",
    "tok_emb.zero_grad()\n",
    "\n",
    "# validate gradients\n",
    "graph_head.weight.grad,node_head.weight.grad,tok_emb.weight.grad"
   ]
  },
  {
   "cell_type": "markdown",
   "id": "5776d30c-045c-4db4-8018-64b98b558570",
   "metadata": {},
   "source": [
    "**Auto-Diff** - Now let's see the magic of the gradients populate.  This magic is called auto-differentiation, or auto-diff for short. This allows us to not have to write many layers of nasty code to do the differentiation for us, but, if you're a sadist, you can surely find people who have written out that code (it's not too bad since you just do one layer at a time). "
   ]
  },
  {
   "cell_type": "code",
   "execution_count": 74,
   "id": "fa249655-cce1-4cf1-bbd9-ac6033513ff4",
   "metadata": {},
   "outputs": [],
   "source": [
    "loss.backward()"
   ]
  },
  {
   "cell_type": "code",
   "execution_count": 75,
   "id": "b833418f-6a5d-4d6a-8c81-d9ba6320c321",
   "metadata": {},
   "outputs": [
    {
     "data": {
      "text/plain": [
       "(tensor([[ 0.0046,  0.2464,  0.0057],\n",
       "         [-0.0046, -0.2464, -0.0057]]),\n",
       " tensor([[-0.0764,  0.1298, -0.0805],\n",
       "         [ 0.0764, -0.1298,  0.0805]]),\n",
       " tensor([[0., 0., 0.],\n",
       "         [0., 0., 0.],\n",
       "         [0., 0., 0.],\n",
       "         [0., 0., 0.],\n",
       "         [0., 0., 0.],\n",
       "         [0., 0., 0.]]))"
      ]
     },
     "execution_count": 75,
     "metadata": {},
     "output_type": "execute_result"
    }
   ],
   "source": [
    "graph_head.weight.grad,node_head.weight.grad,tok_emb.weight.grad"
   ]
  },
  {
   "cell_type": "markdown",
   "id": "b8b2fa4d-c2f4-4a85-844d-bf1165b64699",
   "metadata": {},
   "source": [
    "## Gradient Clipping"
   ]
  },
  {
   "cell_type": "markdown",
   "id": "0cc4db83-db37-414a-8828-2991456e7534",
   "metadata": {},
   "source": [
    "Recall that we discussed at the start that there was an issue called exploding gradients. Exploding gradients occurs because back-propagation through time multiplies gradients by a chain of recurrent Jacobians as follows:\n",
    "\n",
    "$\\nabla_{h_{t-k}} \\mathcal{L} = \\left(\\prod_{i=1}^{k} \\frac{\\partial h_{t-i+1}}{\\partial h_{t-i}}\\right)\\nabla_{h_t}\\mathcal{L}$. \n",
    "\n",
    "This means that any spectral norm (>1) in those factors causes the gradient norm to grow roughly exponentially with sequence length. Even with LSTM gates, poorly conditioned hidden-to-hidden dynamics or large activations can push singular values WELL above 1 where even sigmoid and tanh layers will keep the values at 1. To combat this, we apply gradient clipping. Gradient clipping caps the global gradient, in our case to `1.0`, to prevent runaway steps, numerical overflow, and unstable updates.\n",
    "\n",
    "*Note that this will only solve exploding gradients and does not address vanishing gradients. The LSTM structure and use of memory helps fight vanishing gradients*\n",
    "\n",
    "Since none of our gradients are currently above 1, we will not see an impact of gradient clipping but I did want to introduce the concept as it is an important component. "
   ]
  },
  {
   "cell_type": "code",
   "execution_count": 76,
   "id": "6d66ffe8-0345-4fea-9bc5-ec29a8e386f5",
   "metadata": {},
   "outputs": [
    {
     "data": {
      "text/plain": [
       "(tensor([[ 0.0046,  0.2464,  0.0057],\n",
       "         [-0.0046, -0.2464, -0.0057]]),\n",
       " tensor([[-0.0764,  0.1298, -0.0805],\n",
       "         [ 0.0764, -0.1298,  0.0805]]),\n",
       " tensor([[0., 0., 0.],\n",
       "         [0., 0., 0.],\n",
       "         [0., 0., 0.],\n",
       "         [0., 0., 0.],\n",
       "         [0., 0., 0.],\n",
       "         [0., 0., 0.]]))"
      ]
     },
     "execution_count": 76,
     "metadata": {},
     "output_type": "execute_result"
    }
   ],
   "source": [
    "nn.utils.clip_grad_norm_(graph_head.parameters(), 1.0)\n",
    "nn.utils.clip_grad_norm_(node_head.parameters(), 1.0)\n",
    "\n",
    "nn.utils.clip_grad_norm_(bn_b.parameters(), 1.0)\n",
    "nn.utils.clip_grad_norm_(gcn_2_neg.parameters(), 1.0)\n",
    "nn.utils.clip_grad_norm_(gcn_2_pos.parameters(), 1.0)\n",
    "nn.utils.clip_grad_norm_(bn_a.parameters(), 1.0)\n",
    "nn.utils.clip_grad_norm_(gcn_1_neg.parameters(), 1.0)\n",
    "nn.utils.clip_grad_norm_(gcn_1_pos.parameters(), 1.0)\n",
    "\n",
    "nn.utils.clip_grad_norm_(tok_emb.parameters(), 1.0)\n",
    "\n",
    "graph_head.weight.grad,node_head.weight.grad,tok_emb.weight.grad"
   ]
  },
  {
   "cell_type": "markdown",
   "id": "42ea5429-9572-4c68-8d24-fde989a1290a",
   "metadata": {},
   "source": [
    "## Learning"
   ]
  },
  {
   "cell_type": "markdown",
   "id": "5f733e31-7577-452c-b158-de94c7572688",
   "metadata": {},
   "source": [
    "The process of learning now requires us to update our weights based on this gradient. To really feel the \"back propagation\" we'll start with the last layer and work backwards, though, since we have all of the gradients calculated already, the order does not matter. Recall that our loss function is the negative log likelihood ratio so our gradient signs are flipped.  If a parameter is important, the gradient will be more negative, and vice versa. The gradients are a ratio of importance of each parameter and we need to know how much of that gradient to apply to our weights. This \"how much\" is referred to as the *learning rate*. In modern training learning rate schedulers and optimizers are used to vary the rate and application by layer and by training round with learning rates that are small (e.g. 1e-3) and decaying. \n",
    "\n",
    "We however are trying to learn and if you look at the gradient above in most layers it's tiny (~1e-10).  If we used a typical learning rate scheduler, with our context, batch size, and just 1 pass, the second pass would just have the same values and we wouldn't learn anything new.  Because of this we'll do something super unorthodox.  Our LM_head will use a learning rate of `1.000` but for the rest of the layers we'll use a learning rate of `1e7`. This INSANE learning rate would absolutely be too noisy for real training as taking that \"large\" of steps would mean the model could never find a good fit.  But since we're doing 1 step we don't care. Also, we're rerunning on the same example we used in the first loop so even less of a care. But as a warning, DO NOT DO THIS IN REAL TRAINING. If you did your model would most likely not converge. "
   ]
  },
  {
   "cell_type": "code",
   "execution_count": 77,
   "id": "867a19fb-3ab8-4f7a-b74b-f956a5a94b74",
   "metadata": {},
   "outputs": [],
   "source": [
    "## Huge learning rate to emphasize\n",
    "head_lr = 2.500\n",
    "lr = 1e7"
   ]
  },
  {
   "cell_type": "code",
   "execution_count": 78,
   "id": "a314c5e1-e2ef-4642-862a-648f3f408626",
   "metadata": {},
   "outputs": [
    {
     "data": {
      "text/plain": [
       "(tensor([[ 0.0046,  0.2464,  0.0057],\n",
       "         [-0.0046, -0.2464, -0.0057]]),\n",
       " tensor([[-0.0764,  0.1298, -0.0805],\n",
       "         [ 0.0764, -0.1298,  0.0805]]),\n",
       " tensor([[0., 0., 0.],\n",
       "         [0., 0., 0.],\n",
       "         [0., 0., 0.],\n",
       "         [0., 0., 0.],\n",
       "         [0., 0., 0.],\n",
       "         [0., 0., 0.]]))"
      ]
     },
     "execution_count": 78,
     "metadata": {},
     "output_type": "execute_result"
    }
   ],
   "source": [
    "graph_head.weight.grad,node_head.weight.grad,tok_emb.weight.grad"
   ]
  },
  {
   "cell_type": "markdown",
   "id": "6d0ed666-e343-4a88-9160-e7885c8823e8",
   "metadata": {},
   "source": [
    "### Output Layer\n",
    "Let's start with our output layer.  Recall that we initialized the weights to `1.000` so we can quickly see the impact of the gradient update on the weights. Most notable that we'll see is that the entries corresponding with the token that are present in `y`, our target, are up weighted and others are downweighted. This should already intuitively give you a sense as to \n",
    "1. The model will be improved\n",
    "2. This is WAY too high of a learning rate if we wanted to generalize.\n",
    "\n",
    "Additionally you'll notice that the gradient is differs across the `n_embd` dimensions. This shows that even though we have done only a single pass, because we have multiple examples our model is already learning deeper structures. Finally, since this is the output layer, we did not include any bias \n",
    "\n",
    "\n"
   ]
  },
  {
   "cell_type": "code",
   "execution_count": 79,
   "id": "3609d4b6-5e30-4125-85b4-a6d335332e23",
   "metadata": {},
   "outputs": [
    {
     "data": {
      "text/plain": [
       "(Parameter containing:\n",
       " tensor([[ 0.0884, -0.5160,  0.0858],\n",
       "         [ 0.1116,  0.7160,  0.1142]], requires_grad=True),\n",
       " Parameter containing:\n",
       " tensor([-0.2500,  0.2500], requires_grad=True))"
      ]
     },
     "execution_count": 79,
     "metadata": {},
     "output_type": "execute_result"
    }
   ],
   "source": [
    "with torch.no_grad():\n",
    "    graph_head.weight -= head_lr * graph_head.weight.grad\n",
    "    graph_head.bias -= graph_head.bias.grad\n",
    "graph_head.weight, graph_head.bias"
   ]
  },
  {
   "cell_type": "code",
   "execution_count": 80,
   "id": "33da3813-fecd-40aa-b867-2841839146e4",
   "metadata": {},
   "outputs": [
    {
     "data": {
      "text/plain": [
       "(Parameter containing:\n",
       " tensor([[ 0.2910, -0.2245,  0.3011],\n",
       "         [-0.0910,  0.4245, -0.1011]], requires_grad=True),\n",
       " Parameter containing:\n",
       " tensor([ 0.0625, -0.0625], requires_grad=True))"
      ]
     },
     "execution_count": 80,
     "metadata": {},
     "output_type": "execute_result"
    }
   ],
   "source": [
    "with torch.no_grad():\n",
    "    node_head.weight -= head_lr * node_head.weight.grad\n",
    "    node_head.bias -= node_head.bias.grad\n",
    "node_head.weight, node_head.bias"
   ]
  },
  {
   "cell_type": "markdown",
   "id": "c2711556-2090-4a5e-86d5-d0b86535028a",
   "metadata": {},
   "source": [
    "### GCN Unit - Main Pass\n",
    "\n",
    "TO UPDATE\n",
    "\n",
    "Next we'll update our two linear layers inside of the LSTM.  Recall that we initiated h2g to weights `0.2500`, x2g weights to `0.5000` and the biases to.  Our gradients on this layer are extremely small (~1e-9) and while the values are different across the embeddings, all are interestingly positive. This is starting to show how the different embedding layers can impact the recursion. \n",
    "\n",
    "With these layers you can see the beauty of our insanely high learning rate.  Even though our gradient impact was tiny, we can see the weight shift away from the initialization suggesting some level of adaptation. "
   ]
  },
  {
   "cell_type": "code",
   "execution_count": 81,
   "id": "2681132e-396e-4e2d-a631-c16549db366f",
   "metadata": {},
   "outputs": [
    {
     "data": {
      "text/plain": [
       "(Parameter containing:\n",
       " tensor([1., 1., 1.], requires_grad=True),\n",
       " Parameter containing:\n",
       " tensor([1.0000e-06, 1.0000e-06, 1.0000e-06], requires_grad=True))"
      ]
     },
     "execution_count": 81,
     "metadata": {},
     "output_type": "execute_result"
    }
   ],
   "source": [
    "with torch.no_grad():\n",
    "    bn_b.weight -= lr * bn_b.weight.grad\n",
    "    bn_b.bias -= bn_b.bias.grad\n",
    "bn_b.weight, bn_b.bias"
   ]
  },
  {
   "cell_type": "code",
   "execution_count": 82,
   "id": "044c0888-2f58-4ab6-a9cb-4d2cc9ca2d1e",
   "metadata": {},
   "outputs": [
    {
     "data": {
      "text/plain": [
       "(Parameter containing:\n",
       " tensor([[0.0500, 0.1000, 0.0500],\n",
       "         [0.1000, 0.2000, 0.1000],\n",
       "         [0.0500, 0.1000, 0.0500]], requires_grad=True),\n",
       " Parameter containing:\n",
       " tensor([1.0000e-06, 1.0000e-06, 1.0000e-06], requires_grad=True))"
      ]
     },
     "execution_count": 82,
     "metadata": {},
     "output_type": "execute_result"
    }
   ],
   "source": [
    "with torch.no_grad():\n",
    "    gcn_2_neg.weight -= lr * gcn_2_neg.weight.grad\n",
    "    gcn_2_neg.bias -= gcn_2_neg.bias.grad\n",
    "gcn_2_neg.weight, gcn_2_neg.bias"
   ]
  },
  {
   "cell_type": "code",
   "execution_count": 83,
   "id": "84eb3371-cc12-47de-982f-839cada1289a",
   "metadata": {},
   "outputs": [
    {
     "data": {
      "text/plain": [
       "(Parameter containing:\n",
       " tensor([[0.0500, 0.1000, 0.0500],\n",
       "         [0.1000, 0.2000, 0.1000],\n",
       "         [0.0500, 0.1000, 0.0500]], requires_grad=True),\n",
       " Parameter containing:\n",
       " tensor([1.0000e-06, 1.0000e-06, 1.0000e-06], requires_grad=True))"
      ]
     },
     "execution_count": 83,
     "metadata": {},
     "output_type": "execute_result"
    }
   ],
   "source": [
    "with torch.no_grad():\n",
    "    gcn_2_pos.weight -= lr * gcn_2_pos.weight.grad\n",
    "    gcn_2_pos.bias -= gcn_2_pos.bias.grad\n",
    "gcn_2_pos.weight, gcn_2_pos.bias"
   ]
  },
  {
   "cell_type": "code",
   "execution_count": 84,
   "id": "a35a25f5-f4a9-43c0-a14c-a22490d09a25",
   "metadata": {},
   "outputs": [
    {
     "data": {
      "text/plain": [
       "(Parameter containing:\n",
       " tensor([1., 1., 1.], requires_grad=True),\n",
       " Parameter containing:\n",
       " tensor([1.0000e-06, 1.0000e-06, 1.0000e-06], requires_grad=True))"
      ]
     },
     "execution_count": 84,
     "metadata": {},
     "output_type": "execute_result"
    }
   ],
   "source": [
    "with torch.no_grad():\n",
    "    bn_a.weight -= lr * bn_a.weight.grad\n",
    "    bn_a.bias -= bn_a.bias.grad\n",
    "bn_a.weight, bn_a.bias"
   ]
  },
  {
   "cell_type": "code",
   "execution_count": 85,
   "id": "3a0f84a2-47b5-429b-a01f-20d9327fe57b",
   "metadata": {},
   "outputs": [
    {
     "data": {
      "text/plain": [
       "(Parameter containing:\n",
       " tensor([[0.0100, 0.0200, 0.0100],\n",
       "         [0.0200, 0.0400, 0.0200],\n",
       "         [0.0100, 0.0200, 0.0100]], requires_grad=True),\n",
       " Parameter containing:\n",
       " tensor([1.0000e-06, 1.0000e-06, 1.0000e-06], requires_grad=True))"
      ]
     },
     "execution_count": 85,
     "metadata": {},
     "output_type": "execute_result"
    }
   ],
   "source": [
    "with torch.no_grad():\n",
    "    gcn_1_neg.weight -= lr * gcn_1_neg.weight.grad\n",
    "    gcn_1_neg.bias -= gcn_1_neg.bias.grad\n",
    "gcn_1_neg.weight, gcn_1_neg.bias"
   ]
  },
  {
   "cell_type": "code",
   "execution_count": 86,
   "id": "ac89824a-ed26-4561-a382-906b2b96fb2c",
   "metadata": {},
   "outputs": [
    {
     "data": {
      "text/plain": [
       "(Parameter containing:\n",
       " tensor([[0.0100, 0.0200, 0.0100],\n",
       "         [0.0200, 0.0400, 0.0200],\n",
       "         [0.0100, 0.0200, 0.0100]], requires_grad=True),\n",
       " Parameter containing:\n",
       " tensor([1.0000e-06, 1.0000e-06, 1.0000e-06], requires_grad=True))"
      ]
     },
     "execution_count": 86,
     "metadata": {},
     "output_type": "execute_result"
    }
   ],
   "source": [
    "with torch.no_grad():\n",
    "    gcn_1_pos.weight -= lr * gcn_1_pos.weight.grad\n",
    "    gcn_1_pos.bias -= gcn_1_pos.bias.grad\n",
    "gcn_1_pos.weight, gcn_1_pos.bias"
   ]
  },
  {
   "cell_type": "markdown",
   "id": "308b1ce4-bfc0-4c50-b97b-972f9ccc5081",
   "metadata": {},
   "source": [
    "### Input Layer\n",
    "No need as weight tying"
   ]
  },
  {
   "cell_type": "code",
   "execution_count": 87,
   "id": "26c61496-e0da-4de1-8ebb-e7fbf3514c7b",
   "metadata": {},
   "outputs": [
    {
     "data": {
      "text/plain": [
       "Parameter containing:\n",
       "tensor([[0.0100, 0.0200, 0.0300],\n",
       "        [0.0200, 0.0300, 0.0400],\n",
       "        [0.0300, 0.0400, 0.0500],\n",
       "        [0.0400, 0.0500, 0.0600],\n",
       "        [0.0500, 0.0600, 0.0700],\n",
       "        [0.0600, 0.0700, 0.0800]], requires_grad=True)"
      ]
     },
     "execution_count": 87,
     "metadata": {},
     "output_type": "execute_result"
    }
   ],
   "source": [
    "with torch.no_grad():\n",
    "    tok_emb.weight -= lr * tok_emb.weight.grad\n",
    "tok_emb.weight"
   ]
  },
  {
   "cell_type": "markdown",
   "id": "c558eb69-c42c-4505-97cf-66b0b4c91270",
   "metadata": {},
   "source": [
    "## Forward Pass with Updated Weights"
   ]
  },
  {
   "cell_type": "markdown",
   "id": "3b0a4619-31e5-4a48-a779-505a511be125",
   "metadata": {},
   "source": [
    "Now that we have the updated weights for each layer, let's do another forward pass and compare the loss. Since each layer was previously explained we will instead focus on just showing the outputs of the different layers and the final loss. If you want, you can check the previous outputs in the cached cell outputs above and compare them to see how the weight changes impacted the values at each layer. \n",
    "\n",
    "You'll notice that because our high learning rate we're able to see how each layer now shifts the embedding values as the input passes through them. "
   ]
  },
  {
   "cell_type": "markdown",
   "id": "c0a2e1b1-b65a-430d-ade3-a3de1dfb9557",
   "metadata": {},
   "source": [
    "### Data Re-loading\n",
    "since our tokens didn't go through we'll reuse them"
   ]
  },
  {
   "cell_type": "code",
   "execution_count": 88,
   "id": "1963276c-fbb9-4ec1-8735-6dce7686efaf",
   "metadata": {},
   "outputs": [
    {
     "data": {
      "text/plain": [
       "(tensor([[0, 1, 2, 3, 4, 5],\n",
       "         [0, 1, 2, 3, 4, 5],\n",
       "         [0, 1, 2, 3, 4, 5],\n",
       "         [0, 1, 2, 3, 4, 5]]),\n",
       " tensor([[ 0,  0,  0,  1, -1, -1],\n",
       "         [ 0,  1,  0,  1, -1, -1],\n",
       "         [ 1,  0,  0,  1, -1, -1],\n",
       "         [ 0,  0,  1,  1, -1, -1]]),\n",
       " tensor([0, 1, 1, 1]),\n",
       " tensor([ True,  True,  True,  True, False, False]))"
      ]
     },
     "execution_count": 88,
     "metadata": {},
     "output_type": "execute_result"
    }
   ],
   "source": [
    "x_tokens, y_node, y_graph, gene_mask"
   ]
  },
  {
   "cell_type": "code",
   "execution_count": 89,
   "id": "87864fa9-37f9-456b-8ac4-9f57ad582fee",
   "metadata": {},
   "outputs": [
    {
     "data": {
      "text/plain": [
       "(tensor([[0.5000, 0.0000, 0.0000, 0.0000, 0.3536, 0.0000, 0.0000, 0.0000, 0.0000,\n",
       "          0.0000, 0.0000, 0.0000, 0.0000, 0.0000, 0.0000, 0.0000, 0.0000, 0.0000,\n",
       "          0.0000, 0.0000, 0.0000, 0.0000, 0.0000, 0.0000],\n",
       "         [0.0000, 0.5000, 0.0000, 0.0000, 0.3536, 0.0000, 0.0000, 0.0000, 0.0000,\n",
       "          0.0000, 0.0000, 0.0000, 0.0000, 0.0000, 0.0000, 0.0000, 0.0000, 0.0000,\n",
       "          0.0000, 0.0000, 0.0000, 0.0000, 0.0000, 0.0000],\n",
       "         [0.0000, 0.0000, 0.5000, 0.0000, 0.3536, 0.0000, 0.0000, 0.0000, 0.0000,\n",
       "          0.0000, 0.0000, 0.0000, 0.0000, 0.0000, 0.0000, 0.0000, 0.0000, 0.0000,\n",
       "          0.0000, 0.0000, 0.0000, 0.0000, 0.0000, 0.0000],\n",
       "         [0.0000, 0.0000, 0.0000, 0.5000, 0.0000, 0.5000, 0.0000, 0.0000, 0.0000,\n",
       "          0.0000, 0.0000, 0.0000, 0.0000, 0.0000, 0.0000, 0.0000, 0.0000, 0.0000,\n",
       "          0.0000, 0.0000, 0.0000, 0.0000, 0.0000, 0.0000],\n",
       "         [0.3536, 0.3536, 0.3536, 0.0000, 0.2500, 0.0000, 0.0000, 0.0000, 0.0000,\n",
       "          0.0000, 0.0000, 0.0000, 0.0000, 0.0000, 0.0000, 0.0000, 0.0000, 0.0000,\n",
       "          0.0000, 0.0000, 0.0000, 0.0000, 0.0000, 0.0000],\n",
       "         [0.0000, 0.0000, 0.0000, 0.5000, 0.0000, 0.5000, 0.0000, 0.0000, 0.0000,\n",
       "          0.0000, 0.0000, 0.0000, 0.0000, 0.0000, 0.0000, 0.0000, 0.0000, 0.0000,\n",
       "          0.0000, 0.0000, 0.0000, 0.0000, 0.0000, 0.0000],\n",
       "         [0.0000, 0.0000, 0.0000, 0.0000, 0.0000, 0.0000, 0.3333, 0.0000, 0.0000,\n",
       "          0.0000, 0.3333, 0.2887, 0.0000, 0.0000, 0.0000, 0.0000, 0.0000, 0.0000,\n",
       "          0.0000, 0.0000, 0.0000, 0.0000, 0.0000, 0.0000],\n",
       "         [0.0000, 0.0000, 0.0000, 0.0000, 0.0000, 0.0000, 0.0000, 0.5000, 0.0000,\n",
       "          0.0000, 0.0000, 0.3536, 0.0000, 0.0000, 0.0000, 0.0000, 0.0000, 0.0000,\n",
       "          0.0000, 0.0000, 0.0000, 0.0000, 0.0000, 0.0000],\n",
       "         [0.0000, 0.0000, 0.0000, 0.0000, 0.0000, 0.0000, 0.0000, 0.0000, 0.5000,\n",
       "          0.0000, 0.4082, 0.0000, 0.0000, 0.0000, 0.0000, 0.0000, 0.0000, 0.0000,\n",
       "          0.0000, 0.0000, 0.0000, 0.0000, 0.0000, 0.0000],\n",
       "         [0.0000, 0.0000, 0.0000, 0.0000, 0.0000, 0.0000, 0.0000, 0.0000, 0.0000,\n",
       "          0.5000, 0.0000, 0.3536, 0.0000, 0.0000, 0.0000, 0.0000, 0.0000, 0.0000,\n",
       "          0.0000, 0.0000, 0.0000, 0.0000, 0.0000, 0.0000],\n",
       "         [0.0000, 0.0000, 0.0000, 0.0000, 0.0000, 0.0000, 0.3333, 0.0000, 0.4082,\n",
       "          0.0000, 0.3333, 0.0000, 0.0000, 0.0000, 0.0000, 0.0000, 0.0000, 0.0000,\n",
       "          0.0000, 0.0000, 0.0000, 0.0000, 0.0000, 0.0000],\n",
       "         [0.0000, 0.0000, 0.0000, 0.0000, 0.0000, 0.0000, 0.2887, 0.3536, 0.0000,\n",
       "          0.3536, 0.0000, 0.2500, 0.0000, 0.0000, 0.0000, 0.0000, 0.0000, 0.0000,\n",
       "          0.0000, 0.0000, 0.0000, 0.0000, 0.0000, 0.0000],\n",
       "         [0.0000, 0.0000, 0.0000, 0.0000, 0.0000, 0.0000, 0.0000, 0.0000, 0.0000,\n",
       "          0.0000, 0.0000, 0.0000, 0.5000, 0.0000, 0.0000, 0.0000, 0.0000, 0.3536,\n",
       "          0.0000, 0.0000, 0.0000, 0.0000, 0.0000, 0.0000],\n",
       "         [0.0000, 0.0000, 0.0000, 0.0000, 0.0000, 0.0000, 0.0000, 0.0000, 0.0000,\n",
       "          0.0000, 0.0000, 0.0000, 0.0000, 1.0000, 0.0000, 0.0000, 0.0000, 0.0000,\n",
       "          0.0000, 0.0000, 0.0000, 0.0000, 0.0000, 0.0000],\n",
       "         [0.0000, 0.0000, 0.0000, 0.0000, 0.0000, 0.0000, 0.0000, 0.0000, 0.0000,\n",
       "          0.0000, 0.0000, 0.0000, 0.0000, 0.0000, 0.3333, 0.0000, 0.4082, 0.2887,\n",
       "          0.0000, 0.0000, 0.0000, 0.0000, 0.0000, 0.0000],\n",
       "         [0.0000, 0.0000, 0.0000, 0.0000, 0.0000, 0.0000, 0.0000, 0.0000, 0.0000,\n",
       "          0.0000, 0.0000, 0.0000, 0.0000, 0.0000, 0.0000, 0.5000, 0.0000, 0.3536,\n",
       "          0.0000, 0.0000, 0.0000, 0.0000, 0.0000, 0.0000],\n",
       "         [0.0000, 0.0000, 0.0000, 0.0000, 0.0000, 0.0000, 0.0000, 0.0000, 0.0000,\n",
       "          0.0000, 0.0000, 0.0000, 0.0000, 0.0000, 0.4082, 0.0000, 0.5000, 0.0000,\n",
       "          0.0000, 0.0000, 0.0000, 0.0000, 0.0000, 0.0000],\n",
       "         [0.0000, 0.0000, 0.0000, 0.0000, 0.0000, 0.0000, 0.0000, 0.0000, 0.0000,\n",
       "          0.0000, 0.0000, 0.0000, 0.3536, 0.0000, 0.2887, 0.3536, 0.0000, 0.2500,\n",
       "          0.0000, 0.0000, 0.0000, 0.0000, 0.0000, 0.0000],\n",
       "         [0.0000, 0.0000, 0.0000, 0.0000, 0.0000, 0.0000, 0.0000, 0.0000, 0.0000,\n",
       "          0.0000, 0.0000, 0.0000, 0.0000, 0.0000, 0.0000, 0.0000, 0.0000, 0.0000,\n",
       "          1.0000, 0.0000, 0.0000, 0.0000, 0.0000, 0.0000],\n",
       "         [0.0000, 0.0000, 0.0000, 0.0000, 0.0000, 0.0000, 0.0000, 0.0000, 0.0000,\n",
       "          0.0000, 0.0000, 0.0000, 0.0000, 0.0000, 0.0000, 0.0000, 0.0000, 0.0000,\n",
       "          0.0000, 0.5000, 0.0000, 0.0000, 0.5000, 0.0000],\n",
       "         [0.0000, 0.0000, 0.0000, 0.0000, 0.0000, 0.0000, 0.0000, 0.0000, 0.0000,\n",
       "          0.0000, 0.0000, 0.0000, 0.0000, 0.0000, 0.0000, 0.0000, 0.0000, 0.0000,\n",
       "          0.0000, 0.0000, 0.5000, 0.0000, 0.0000, 0.4082],\n",
       "         [0.0000, 0.0000, 0.0000, 0.0000, 0.0000, 0.0000, 0.0000, 0.0000, 0.0000,\n",
       "          0.0000, 0.0000, 0.0000, 0.0000, 0.0000, 0.0000, 0.0000, 0.0000, 0.0000,\n",
       "          0.0000, 0.0000, 0.0000, 0.5000, 0.0000, 0.4082],\n",
       "         [0.0000, 0.0000, 0.0000, 0.0000, 0.0000, 0.0000, 0.0000, 0.0000, 0.0000,\n",
       "          0.0000, 0.0000, 0.0000, 0.0000, 0.0000, 0.0000, 0.0000, 0.0000, 0.0000,\n",
       "          0.0000, 0.5000, 0.0000, 0.0000, 0.5000, 0.0000],\n",
       "         [0.0000, 0.0000, 0.0000, 0.0000, 0.0000, 0.0000, 0.0000, 0.0000, 0.0000,\n",
       "          0.0000, 0.0000, 0.0000, 0.0000, 0.0000, 0.0000, 0.0000, 0.0000, 0.0000,\n",
       "          0.0000, 0.0000, 0.4082, 0.4082, 0.0000, 0.3333]]),\n",
       " tensor([[0.0000, 0.0000, 0.0000, 0.0000, 0.0000, 0.5774, 0.0000, 0.0000, 0.0000,\n",
       "          0.0000, 0.0000, 0.0000, 0.0000, 0.0000, 0.0000, 0.0000, 0.0000, 0.0000,\n",
       "          0.0000, 0.0000, 0.0000, 0.0000, 0.0000, 0.0000],\n",
       "         [0.0000, 0.0000, 0.0000, 0.0000, 0.0000, 0.5774, 0.0000, 0.0000, 0.0000,\n",
       "          0.0000, 0.0000, 0.0000, 0.0000, 0.0000, 0.0000, 0.0000, 0.0000, 0.0000,\n",
       "          0.0000, 0.0000, 0.0000, 0.0000, 0.0000, 0.0000],\n",
       "         [0.0000, 0.0000, 0.0000, 0.0000, 0.0000, 0.5774, 0.0000, 0.0000, 0.0000,\n",
       "          0.0000, 0.0000, 0.0000, 0.0000, 0.0000, 0.0000, 0.0000, 0.0000, 0.0000,\n",
       "          0.0000, 0.0000, 0.0000, 0.0000, 0.0000, 0.0000],\n",
       "         [0.0000, 0.0000, 0.0000, 0.0000, 1.0000, 0.0000, 0.0000, 0.0000, 0.0000,\n",
       "          0.0000, 0.0000, 0.0000, 0.0000, 0.0000, 0.0000, 0.0000, 0.0000, 0.0000,\n",
       "          0.0000, 0.0000, 0.0000, 0.0000, 0.0000, 0.0000],\n",
       "         [0.0000, 0.0000, 0.0000, 1.0000, 0.0000, 0.0000, 0.0000, 0.0000, 0.0000,\n",
       "          0.0000, 0.0000, 0.0000, 0.0000, 0.0000, 0.0000, 0.0000, 0.0000, 0.0000,\n",
       "          0.0000, 0.0000, 0.0000, 0.0000, 0.0000, 0.0000],\n",
       "         [0.5774, 0.5774, 0.5774, 0.0000, 0.0000, 0.0000, 0.0000, 0.0000, 0.0000,\n",
       "          0.0000, 0.0000, 0.0000, 0.0000, 0.0000, 0.0000, 0.0000, 0.0000, 0.0000,\n",
       "          0.0000, 0.0000, 0.0000, 0.0000, 0.0000, 0.0000],\n",
       "         [0.0000, 0.0000, 0.0000, 0.0000, 0.0000, 0.0000, 0.0000, 0.0000, 0.0000,\n",
       "          0.0000, 0.0000, 0.0000, 0.0000, 0.0000, 0.0000, 0.0000, 0.0000, 0.0000,\n",
       "          0.0000, 0.0000, 0.0000, 0.0000, 0.0000, 0.0000],\n",
       "         [0.0000, 0.0000, 0.0000, 0.0000, 0.0000, 0.0000, 0.0000, 0.0000, 0.0000,\n",
       "          0.0000, 0.7071, 0.0000, 0.0000, 0.0000, 0.0000, 0.0000, 0.0000, 0.0000,\n",
       "          0.0000, 0.0000, 0.0000, 0.0000, 0.0000, 0.0000],\n",
       "         [0.0000, 0.0000, 0.0000, 0.0000, 0.0000, 0.0000, 0.0000, 0.0000, 0.0000,\n",
       "          0.0000, 0.0000, 1.0000, 0.0000, 0.0000, 0.0000, 0.0000, 0.0000, 0.0000,\n",
       "          0.0000, 0.0000, 0.0000, 0.0000, 0.0000, 0.0000],\n",
       "         [0.0000, 0.0000, 0.0000, 0.0000, 0.0000, 0.0000, 0.0000, 0.0000, 0.0000,\n",
       "          0.0000, 0.7071, 0.0000, 0.0000, 0.0000, 0.0000, 0.0000, 0.0000, 0.0000,\n",
       "          0.0000, 0.0000, 0.0000, 0.0000, 0.0000, 0.0000],\n",
       "         [0.0000, 0.0000, 0.0000, 0.0000, 0.0000, 0.0000, 0.0000, 0.7071, 0.0000,\n",
       "          0.7071, 0.0000, 0.0000, 0.0000, 0.0000, 0.0000, 0.0000, 0.0000, 0.0000,\n",
       "          0.0000, 0.0000, 0.0000, 0.0000, 0.0000, 0.0000],\n",
       "         [0.0000, 0.0000, 0.0000, 0.0000, 0.0000, 0.0000, 0.0000, 0.0000, 1.0000,\n",
       "          0.0000, 0.0000, 0.0000, 0.0000, 0.0000, 0.0000, 0.0000, 0.0000, 0.0000,\n",
       "          0.0000, 0.0000, 0.0000, 0.0000, 0.0000, 0.0000],\n",
       "         [0.0000, 0.0000, 0.0000, 0.0000, 0.0000, 0.0000, 0.0000, 0.0000, 0.0000,\n",
       "          0.0000, 0.0000, 0.0000, 0.0000, 0.0000, 0.0000, 0.0000, 0.5774, 0.0000,\n",
       "          0.0000, 0.0000, 0.0000, 0.0000, 0.0000, 0.0000],\n",
       "         [0.0000, 0.0000, 0.0000, 0.0000, 0.0000, 0.0000, 0.0000, 0.0000, 0.0000,\n",
       "          0.0000, 0.0000, 0.0000, 0.0000, 0.0000, 0.0000, 0.0000, 0.4082, 0.7071,\n",
       "          0.0000, 0.0000, 0.0000, 0.0000, 0.0000, 0.0000],\n",
       "         [0.0000, 0.0000, 0.0000, 0.0000, 0.0000, 0.0000, 0.0000, 0.0000, 0.0000,\n",
       "          0.0000, 0.0000, 0.0000, 0.0000, 0.0000, 0.0000, 0.0000, 0.0000, 0.0000,\n",
       "          0.0000, 0.0000, 0.0000, 0.0000, 0.0000, 0.0000],\n",
       "         [0.0000, 0.0000, 0.0000, 0.0000, 0.0000, 0.0000, 0.0000, 0.0000, 0.0000,\n",
       "          0.0000, 0.0000, 0.0000, 0.0000, 0.0000, 0.0000, 0.0000, 0.5774, 0.0000,\n",
       "          0.0000, 0.0000, 0.0000, 0.0000, 0.0000, 0.0000],\n",
       "         [0.0000, 0.0000, 0.0000, 0.0000, 0.0000, 0.0000, 0.0000, 0.0000, 0.0000,\n",
       "          0.0000, 0.0000, 0.0000, 0.5774, 0.4082, 0.0000, 0.5774, 0.0000, 0.0000,\n",
       "          0.0000, 0.0000, 0.0000, 0.0000, 0.0000, 0.0000],\n",
       "         [0.0000, 0.0000, 0.0000, 0.0000, 0.0000, 0.0000, 0.0000, 0.0000, 0.0000,\n",
       "          0.0000, 0.0000, 0.0000, 0.0000, 0.7071, 0.0000, 0.0000, 0.0000, 0.0000,\n",
       "          0.0000, 0.0000, 0.0000, 0.0000, 0.0000, 0.0000],\n",
       "         [0.0000, 0.0000, 0.0000, 0.0000, 0.0000, 0.0000, 0.0000, 0.0000, 0.0000,\n",
       "          0.0000, 0.0000, 0.0000, 0.0000, 0.0000, 0.0000, 0.0000, 0.0000, 0.0000,\n",
       "          0.0000, 0.0000, 0.0000, 0.0000, 0.4082, 0.5000],\n",
       "         [0.0000, 0.0000, 0.0000, 0.0000, 0.0000, 0.0000, 0.0000, 0.0000, 0.0000,\n",
       "          0.0000, 0.0000, 0.0000, 0.0000, 0.0000, 0.0000, 0.0000, 0.0000, 0.0000,\n",
       "          0.0000, 0.0000, 0.0000, 0.0000, 0.0000, 0.7071],\n",
       "         [0.0000, 0.0000, 0.0000, 0.0000, 0.0000, 0.0000, 0.0000, 0.0000, 0.0000,\n",
       "          0.0000, 0.0000, 0.0000, 0.0000, 0.0000, 0.0000, 0.0000, 0.0000, 0.0000,\n",
       "          0.0000, 0.0000, 0.0000, 0.0000, 0.5774, 0.0000],\n",
       "         [0.0000, 0.0000, 0.0000, 0.0000, 0.0000, 0.0000, 0.0000, 0.0000, 0.0000,\n",
       "          0.0000, 0.0000, 0.0000, 0.0000, 0.0000, 0.0000, 0.0000, 0.0000, 0.0000,\n",
       "          0.0000, 0.0000, 0.0000, 0.0000, 0.5774, 0.0000],\n",
       "         [0.0000, 0.0000, 0.0000, 0.0000, 0.0000, 0.0000, 0.0000, 0.0000, 0.0000,\n",
       "          0.0000, 0.0000, 0.0000, 0.0000, 0.0000, 0.0000, 0.0000, 0.0000, 0.0000,\n",
       "          0.4082, 0.0000, 0.5774, 0.5774, 0.0000, 0.0000],\n",
       "         [0.0000, 0.0000, 0.0000, 0.0000, 0.0000, 0.0000, 0.0000, 0.0000, 0.0000,\n",
       "          0.0000, 0.0000, 0.0000, 0.0000, 0.0000, 0.0000, 0.0000, 0.0000, 0.0000,\n",
       "          0.5000, 0.7071, 0.0000, 0.0000, 0.0000, 0.0000]]))"
      ]
     },
     "execution_count": 89,
     "metadata": {},
     "output_type": "execute_result"
    }
   ],
   "source": [
    "Apos_blk, Aneg_blk"
   ]
  },
  {
   "cell_type": "markdown",
   "id": "2ef18795-d926-4d8c-b53b-659d8992cde6",
   "metadata": {},
   "source": [
    "### Input Layer\n",
    "Note that in `wte` since the gradient impact was only on the embeddings that mapped to our tokens. Lucky for us, we're passing the same example through so we'll pull those same weights.\n",
    "\n",
    "With RNNs, because of the recursion layers, we would need long training and long context to see changes in our input layer initiation. Alternatively, a common step to help improve the input embedding is to do weight-tying between the input and output layers. This ensures that the input and output layers embed in the same space and helps with learning stabilization, but weight tying goes in and out of flavor often.  Because of this we'll cover weight-tying in the GPT notebook I write. "
   ]
  },
  {
   "cell_type": "code",
   "execution_count": 90,
   "id": "f28806a2-24e8-4bd2-b5b4-e8e0cc284d1a",
   "metadata": {},
   "outputs": [
    {
     "data": {
      "text/plain": [
       "(torch.Size([24, 3]),\n",
       " tensor([[0.0100, 0.0200, 0.0300],\n",
       "         [0.0200, 0.0300, 0.0400],\n",
       "         [0.0300, 0.0400, 0.0500],\n",
       "         [0.0400, 0.0500, 0.0600],\n",
       "         [0.0500, 0.0600, 0.0700],\n",
       "         [0.0600, 0.0700, 0.0800],\n",
       "         [0.0100, 0.0200, 0.0300],\n",
       "         [0.0200, 0.0300, 0.0400],\n",
       "         [0.0300, 0.0400, 0.0500],\n",
       "         [0.0400, 0.0500, 0.0600],\n",
       "         [0.0500, 0.0600, 0.0700],\n",
       "         [0.0600, 0.0700, 0.0800],\n",
       "         [0.0100, 0.0200, 0.0300],\n",
       "         [0.0200, 0.0300, 0.0400],\n",
       "         [0.0300, 0.0400, 0.0500],\n",
       "         [0.0400, 0.0500, 0.0600],\n",
       "         [0.0500, 0.0600, 0.0700],\n",
       "         [0.0600, 0.0700, 0.0800],\n",
       "         [0.0100, 0.0200, 0.0300],\n",
       "         [0.0200, 0.0300, 0.0400],\n",
       "         [0.0300, 0.0400, 0.0500],\n",
       "         [0.0400, 0.0500, 0.0600],\n",
       "         [0.0500, 0.0600, 0.0700],\n",
       "         [0.0600, 0.0700, 0.0800]], grad_fn=<ViewBackward0>))"
      ]
     },
     "execution_count": 90,
     "metadata": {},
     "output_type": "execute_result"
    }
   ],
   "source": [
    "x = tok_emb(x_tokens)\n",
    "x = x.view(B_batch*N_nodes,n_embd)\n",
    "x.size(), x"
   ]
  },
  {
   "cell_type": "markdown",
   "id": "5258d8d7-db81-4a8c-bd2c-808a0aa46072",
   "metadata": {},
   "source": [
    "### GCN Block"
   ]
  },
  {
   "cell_type": "markdown",
   "id": "a1c942e8-992a-4d44-9502-386019b7a7a9",
   "metadata": {},
   "source": [
    "### Recurrent Unit - LSTM"
   ]
  },
  {
   "cell_type": "code",
   "execution_count": 91,
   "id": "932f0253-b8e6-451b-89f2-99192dc86585",
   "metadata": {},
   "outputs": [
    {
     "data": {
      "text/plain": [
       "(torch.Size([24, 3]),\n",
       " tensor([[0.0012, 0.0025, 0.0012],\n",
       "         [0.0014, 0.0029, 0.0014],\n",
       "         [0.0016, 0.0033, 0.0016],\n",
       "         [0.0024, 0.0048, 0.0024],\n",
       "         [0.0019, 0.0037, 0.0019],\n",
       "         [0.0024, 0.0048, 0.0024],\n",
       "         [0.0019, 0.0038, 0.0019],\n",
       "         [0.0016, 0.0032, 0.0016],\n",
       "         [0.0018, 0.0036, 0.0018],\n",
       "         [0.0020, 0.0040, 0.0020],\n",
       "         [0.0017, 0.0034, 0.0017],\n",
       "         [0.0021, 0.0041, 0.0021],\n",
       "         [0.0014, 0.0028, 0.0014],\n",
       "         [0.0012, 0.0024, 0.0012],\n",
       "         [0.0023, 0.0046, 0.0023],\n",
       "         [0.0020, 0.0040, 0.0020],\n",
       "         [0.0019, 0.0037, 0.0019],\n",
       "         [0.0022, 0.0043, 0.0022],\n",
       "         [0.0008, 0.0016, 0.0008],\n",
       "         [0.0018, 0.0036, 0.0018],\n",
       "         [0.0019, 0.0039, 0.0019],\n",
       "         [0.0021, 0.0043, 0.0021],\n",
       "         [0.0018, 0.0036, 0.0018],\n",
       "         [0.0024, 0.0048, 0.0024]], grad_fn=<AddmmBackward0>))"
      ]
     },
     "execution_count": 91,
     "metadata": {},
     "output_type": "execute_result"
    }
   ],
   "source": [
    "H_pos = Apos_blk @ x\n",
    "H_pos =  gcn_1_pos(H_pos)\n",
    "H_pos.size(), H_pos"
   ]
  },
  {
   "cell_type": "code",
   "execution_count": 92,
   "id": "496e0616-1c33-4714-8039-0f11cbff0d84",
   "metadata": {},
   "outputs": [
    {
     "data": {
      "text/plain": [
       "(torch.Size([24, 3]),\n",
       " tensor([[1.6176e-03, 3.2342e-03, 1.6176e-03],\n",
       "         [1.6176e-03, 3.2342e-03, 1.6176e-03],\n",
       "         [1.6176e-03, 3.2342e-03, 1.6176e-03],\n",
       "         [2.4010e-03, 4.8010e-03, 2.4010e-03],\n",
       "         [2.0010e-03, 4.0010e-03, 2.0010e-03],\n",
       "         [2.0795e-03, 4.1579e-03, 2.0795e-03],\n",
       "         [1.0000e-06, 1.0000e-06, 1.0000e-06],\n",
       "         [1.6981e-03, 3.3951e-03, 1.6981e-03],\n",
       "         [2.8010e-03, 5.6010e-03, 2.8010e-03],\n",
       "         [1.6981e-03, 3.3951e-03, 1.6981e-03],\n",
       "         [2.2637e-03, 4.5265e-03, 2.2637e-03],\n",
       "         [1.6010e-03, 3.2010e-03, 1.6010e-03],\n",
       "         [1.3866e-03, 2.7723e-03, 1.3866e-03],\n",
       "         [2.9607e-03, 5.9204e-03, 2.9607e-03],\n",
       "         [1.0000e-06, 1.0000e-06, 1.0000e-06],\n",
       "         [1.3866e-03, 2.7723e-03, 1.3866e-03],\n",
       "         [2.1075e-03, 4.2140e-03, 2.1075e-03],\n",
       "         [8.4953e-04, 1.6981e-03, 8.4953e-04],\n",
       "         [2.3808e-03, 4.7606e-03, 2.3808e-03],\n",
       "         [1.9809e-03, 3.9608e-03, 1.9809e-03],\n",
       "         [1.3866e-03, 2.7723e-03, 1.3866e-03],\n",
       "         [1.3866e-03, 2.7723e-03, 1.3866e-03],\n",
       "         [2.4061e-03, 4.8111e-03, 2.4061e-03],\n",
       "         [1.2495e-03, 2.4981e-03, 1.2495e-03]], grad_fn=<AddmmBackward0>))"
      ]
     },
     "execution_count": 92,
     "metadata": {},
     "output_type": "execute_result"
    }
   ],
   "source": [
    "H_neg = Aneg_blk @ x\n",
    "H_neg =  gcn_1_neg(H_neg)\n",
    "H_neg.size(), H_neg"
   ]
  },
  {
   "cell_type": "code",
   "execution_count": 93,
   "id": "ec6737cf-ca1c-4b16-ba6d-13a4955479f0",
   "metadata": {},
   "outputs": [
    {
     "data": {
      "text/plain": [
       "(torch.Size([24, 3]),\n",
       " tensor([[-3.6805e-04, -7.3611e-04, -3.6805e-04],\n",
       "         [-1.6805e-04, -3.3611e-04, -1.6805e-04],\n",
       "         [ 3.1947e-05,  6.3895e-05,  3.1947e-05],\n",
       "         [-2.3283e-10, -4.6566e-10, -2.3283e-10],\n",
       "         [-1.2721e-04, -2.5442e-04, -1.2721e-04],\n",
       "         [ 3.2154e-04,  6.4308e-04,  3.2154e-04],\n",
       "         [ 1.8750e-03,  3.7499e-03,  1.8750e-03],\n",
       "         [-1.0711e-04, -2.1421e-04, -1.0711e-04],\n",
       "         [-1.0202e-03, -2.0404e-03, -1.0202e-03],\n",
       "         [ 2.9289e-04,  5.8579e-04,  2.9289e-04],\n",
       "         [-5.4288e-04, -1.0858e-03, -5.4288e-04],\n",
       "         [ 4.6231e-04,  9.2462e-04,  4.6231e-04],\n",
       "         [ 4.3089e-06,  8.6178e-06,  4.3089e-06],\n",
       "         [-1.7597e-03, -3.5194e-03, -1.7597e-03],\n",
       "         [ 2.3214e-03,  4.6428e-03,  2.3214e-03],\n",
       "         [ 6.0431e-04,  1.2086e-03,  6.0431e-04],\n",
       "         [-2.5328e-04, -5.0656e-04, -2.5328e-04],\n",
       "         [ 1.3033e-03,  2.6066e-03,  1.3033e-03],\n",
       "         [-1.5798e-03, -3.1596e-03, -1.5798e-03],\n",
       "         [-1.7990e-04, -3.5980e-04, -1.7990e-04],\n",
       "         [ 5.5745e-04,  1.1149e-03,  5.5745e-04],\n",
       "         [ 7.5745e-04,  1.5149e-03,  7.5745e-04],\n",
       "         [-6.0506e-04, -1.2101e-03, -6.0506e-04],\n",
       "         [ 1.1545e-03,  2.3090e-03,  1.1545e-03]], grad_fn=<SubBackward0>))"
      ]
     },
     "execution_count": 93,
     "metadata": {},
     "output_type": "execute_result"
    }
   ],
   "source": [
    "out = H_pos - H_neg\n",
    "out.size(), out"
   ]
  },
  {
   "cell_type": "markdown",
   "id": "a3db9f17-b4cf-4787-aab9-f21b90ca8dd4",
   "metadata": {},
   "source": [
    "#### GCN Block - First Batch Norm"
   ]
  },
  {
   "cell_type": "code",
   "execution_count": 94,
   "id": "8a159882-193a-4c34-9be2-bf8579536348",
   "metadata": {},
   "outputs": [
    {
     "data": {
      "text/plain": [
       "(torch.Size([24, 3]),\n",
       " tensor([[ 3.8739e-02, -7.7475e-02,  3.8739e-02],\n",
       "         [ 1.7710e-02, -3.5417e-02,  1.7710e-02],\n",
       "         [-3.3665e-03,  6.7360e-03, -3.3665e-03],\n",
       "         [ 1.0245e-06,  9.5091e-07,  1.0245e-06],\n",
       "         [ 1.3407e-02, -2.6812e-02,  1.3407e-02],\n",
       "         [-3.3853e-02,  6.7710e-02, -3.3853e-02],\n",
       "         [-1.9034e-01,  3.8069e-01, -1.9034e-01],\n",
       "         [ 1.1290e-02, -2.2576e-02,  1.1290e-02],\n",
       "         [ 1.0632e-01, -2.1263e-01,  1.0632e-01],\n",
       "         [-3.0843e-02,  6.1689e-02, -3.0843e-02],\n",
       "         [ 5.7039e-02, -1.1407e-01,  5.7039e-02],\n",
       "         [-4.8616e-02,  9.7234e-02, -4.8616e-02],\n",
       "         [-4.5320e-04,  9.0939e-04, -4.5320e-04],\n",
       "         [ 1.7942e-01, -3.5883e-01,  1.7942e-01],\n",
       "         [-2.3124e-01,  4.6249e-01, -2.3124e-01],\n",
       "         [-6.3442e-02,  1.2689e-01, -6.3442e-02],\n",
       "         [ 2.6680e-02, -5.3357e-02,  2.6680e-02],\n",
       "         [-1.3486e-01,  2.6972e-01, -1.3486e-01],\n",
       "         [ 1.6209e-01, -3.2418e-01,  1.6209e-01],\n",
       "         [ 1.8957e-02, -3.7911e-02,  1.8957e-02],\n",
       "         [-5.8558e-02,  1.1712e-01, -5.8558e-02],\n",
       "         [-7.9338e-02,  1.5868e-01, -7.9338e-02],\n",
       "         [ 6.3522e-02, -1.2704e-01,  6.3522e-02],\n",
       "         [-1.1993e-01,  2.3986e-01, -1.1993e-01]],\n",
       "        grad_fn=<NativeLayerNormBackward0>))"
      ]
     },
     "execution_count": 94,
     "metadata": {},
     "output_type": "execute_result"
    }
   ],
   "source": [
    "out = bn_a(out)\n",
    "out.size(), out"
   ]
  },
  {
   "cell_type": "markdown",
   "id": "8c4bc8ec-0330-4a34-a191-a12dd4d064e5",
   "metadata": {},
   "source": [
    "#### GCN Block - Leaky ReLU"
   ]
  },
  {
   "cell_type": "code",
   "execution_count": 95,
   "id": "466836fd-b208-441c-a24b-bcc34316c73f",
   "metadata": {},
   "outputs": [
    {
     "data": {
      "text/plain": [
       "(torch.Size([24, 3]),\n",
       " tensor([[ 3.8739e-02, -7.7475e-03,  3.8739e-02],\n",
       "         [ 1.7710e-02, -3.5417e-03,  1.7710e-02],\n",
       "         [-3.3665e-04,  6.7360e-03, -3.3665e-04],\n",
       "         [ 1.0245e-06,  9.5091e-07,  1.0245e-06],\n",
       "         [ 1.3407e-02, -2.6812e-03,  1.3407e-02],\n",
       "         [-3.3853e-03,  6.7710e-02, -3.3853e-03],\n",
       "         [-1.9034e-02,  3.8069e-01, -1.9034e-02],\n",
       "         [ 1.1290e-02, -2.2576e-03,  1.1290e-02],\n",
       "         [ 1.0632e-01, -2.1263e-02,  1.0632e-01],\n",
       "         [-3.0843e-03,  6.1689e-02, -3.0843e-03],\n",
       "         [ 5.7039e-02, -1.1407e-02,  5.7039e-02],\n",
       "         [-4.8616e-03,  9.7234e-02, -4.8616e-03],\n",
       "         [-4.5320e-05,  9.0939e-04, -4.5320e-05],\n",
       "         [ 1.7942e-01, -3.5883e-02,  1.7942e-01],\n",
       "         [-2.3124e-02,  4.6249e-01, -2.3124e-02],\n",
       "         [-6.3442e-03,  1.2689e-01, -6.3442e-03],\n",
       "         [ 2.6680e-02, -5.3357e-03,  2.6680e-02],\n",
       "         [-1.3486e-02,  2.6972e-01, -1.3486e-02],\n",
       "         [ 1.6209e-01, -3.2418e-02,  1.6209e-01],\n",
       "         [ 1.8957e-02, -3.7911e-03,  1.8957e-02],\n",
       "         [-5.8558e-03,  1.1712e-01, -5.8558e-03],\n",
       "         [-7.9337e-03,  1.5868e-01, -7.9337e-03],\n",
       "         [ 6.3522e-02, -1.2704e-02,  6.3522e-02],\n",
       "         [-1.1993e-02,  2.3986e-01, -1.1993e-02]], grad_fn=<LeakyReluBackward0>))"
      ]
     },
     "execution_count": 95,
     "metadata": {},
     "output_type": "execute_result"
    }
   ],
   "source": [
    "out = lrelu_1(out)\n",
    "out.size(), out"
   ]
  },
  {
   "cell_type": "markdown",
   "id": "fff7c35b-04b8-4467-a1f9-d582b8713653",
   "metadata": {},
   "source": [
    "#### GCN Block - Dropout"
   ]
  },
  {
   "cell_type": "code",
   "execution_count": 96,
   "id": "30974a81-91d3-4a6b-b8fd-6d131dde2800",
   "metadata": {},
   "outputs": [
    {
     "data": {
      "text/plain": [
       "(torch.Size([24, 3]),\n",
       " tensor([[ 4.0778e-02, -8.1552e-03,  4.0778e-02],\n",
       "         [ 1.8642e-02, -3.7281e-03,  1.8642e-02],\n",
       "         [-3.5437e-04,  7.0905e-03, -3.5437e-04],\n",
       "         [ 1.0785e-06,  1.0010e-06,  1.0785e-06],\n",
       "         [ 1.4113e-02, -2.8223e-03,  1.4113e-02],\n",
       "         [-3.5635e-03,  7.1273e-02, -3.5635e-03],\n",
       "         [-2.0036e-02,  4.0072e-01, -2.0036e-02],\n",
       "         [ 1.1884e-02, -2.3764e-03,  1.1884e-02],\n",
       "         [ 0.0000e+00, -2.2382e-02,  1.1191e-01],\n",
       "         [-3.2467e-03,  6.4936e-02, -3.2467e-03],\n",
       "         [ 6.0041e-02, -1.2008e-02,  0.0000e+00],\n",
       "         [-5.1174e-03,  1.0235e-01, -0.0000e+00],\n",
       "         [-4.7705e-05,  9.5725e-04, -4.7705e-05],\n",
       "         [ 1.8886e-01, -3.7772e-02,  1.8886e-01],\n",
       "         [-2.4341e-02,  4.8683e-01, -2.4341e-02],\n",
       "         [-6.6781e-03,  1.3356e-01, -6.6781e-03],\n",
       "         [ 0.0000e+00, -5.6166e-03,  2.8084e-02],\n",
       "         [-1.4196e-02,  2.8391e-01, -1.4196e-02],\n",
       "         [ 1.7062e-01, -3.4124e-02,  1.7062e-01],\n",
       "         [ 1.9955e-02, -3.9907e-03,  1.9955e-02],\n",
       "         [-6.1640e-03,  1.2328e-01, -6.1640e-03],\n",
       "         [-8.3513e-03,  1.6703e-01, -8.3513e-03],\n",
       "         [ 6.6865e-02, -1.3373e-02,  6.6865e-02],\n",
       "         [-1.2624e-02,  2.5249e-01, -1.2624e-02]], grad_fn=<MulBackward0>))"
      ]
     },
     "execution_count": 96,
     "metadata": {},
     "output_type": "execute_result"
    }
   ],
   "source": [
    "out = drop(out) \n",
    "out.size(), out"
   ]
  },
  {
   "cell_type": "markdown",
   "id": "1fb7cd62-940a-4000-9552-9ed059ab5867",
   "metadata": {},
   "source": [
    "#### GCN Block - Second Node Convolution\n"
   ]
  },
  {
   "cell_type": "code",
   "execution_count": 97,
   "id": "bdd713e9-4b49-450b-97f2-905640be5cf3",
   "metadata": {},
   "outputs": [
    {
     "data": {
      "text/plain": [
       "(torch.Size([24, 3]),\n",
       " tensor([[0.0020, 0.0041, 0.0020],\n",
       "         [0.0011, 0.0023, 0.0011],\n",
       "         [0.0007, 0.0015, 0.0007],\n",
       "         [0.0034, 0.0068, 0.0034],\n",
       "         [0.0022, 0.0044, 0.0022],\n",
       "         [0.0034, 0.0068, 0.0034],\n",
       "         [0.0162, 0.0323, 0.0162],\n",
       "         [0.0040, 0.0080, 0.0040],\n",
       "         [0.0024, 0.0048, 0.0024],\n",
       "         [0.0066, 0.0132, 0.0066],\n",
       "         [0.0147, 0.0293, 0.0147],\n",
       "         [0.0160, 0.0320, 0.0160],\n",
       "         [0.0096, 0.0192, 0.0096],\n",
       "         [0.0151, 0.0302, 0.0151],\n",
       "         [0.0235, 0.0471, 0.0235],\n",
       "         [0.0159, 0.0318, 0.0159],\n",
       "         [0.0193, 0.0386, 0.0193],\n",
       "         [0.0246, 0.0492, 0.0246],\n",
       "         [0.0137, 0.0273, 0.0137],\n",
       "         [0.0035, 0.0069, 0.0035],\n",
       "         [0.0156, 0.0313, 0.0156],\n",
       "         [0.0177, 0.0355, 0.0177],\n",
       "         [0.0035, 0.0069, 0.0035],\n",
       "         [0.0193, 0.0385, 0.0193]], grad_fn=<AddmmBackward0>))"
      ]
     },
     "execution_count": 97,
     "metadata": {},
     "output_type": "execute_result"
    }
   ],
   "source": [
    "H2_pos = Apos_blk @ out\n",
    "H2_pos =  gcn_2_pos(H2_pos)\n",
    "H2_pos.size(), H2_pos"
   ]
  },
  {
   "cell_type": "code",
   "execution_count": 98,
   "id": "9d06cf0c-ec58-4b2c-9052-37953de4195f",
   "metadata": {},
   "outputs": [
    {
     "data": {
      "text/plain": [
       "(torch.Size([24, 3]),\n",
       " tensor([[3.9102e-03, 7.8194e-03, 3.9102e-03],\n",
       "         [3.9102e-03, 7.8194e-03, 3.9102e-03],\n",
       "         [3.9102e-03, 7.8194e-03, 3.9102e-03],\n",
       "         [1.1301e-03, 2.2592e-03, 1.1301e-03],\n",
       "         [1.2079e-06, 1.4159e-06, 1.2079e-06],\n",
       "         [3.1344e-03, 6.2678e-03, 3.1344e-03],\n",
       "         [1.0000e-06, 1.0000e-06, 1.0000e-06],\n",
       "         [1.2747e-03, 2.5484e-03, 1.2747e-03],\n",
       "         [9.9803e-03, 1.9960e-02, 9.9803e-03],\n",
       "         [1.2747e-03, 2.5484e-03, 1.2747e-03],\n",
       "         [5.0354e-03, 1.0070e-02, 5.0354e-03],\n",
       "         [3.3584e-03, 6.7158e-03, 3.3584e-03],\n",
       "         [4.8745e-04, 9.7391e-04, 4.8745e-04],\n",
       "         [1.9417e-02, 3.8833e-02, 1.9417e-02],\n",
       "         [1.0000e-06, 1.0000e-06, 1.0000e-06],\n",
       "         [4.8745e-04, 9.7391e-04, 4.8745e-04],\n",
       "         [1.3548e-02, 2.7094e-02, 1.3548e-02],\n",
       "         [1.0685e-02, 2.1368e-02, 1.0685e-02],\n",
       "         [1.4178e-02, 2.8355e-02, 1.4178e-02],\n",
       "         [1.6962e-02, 3.3923e-02, 1.6962e-02],\n",
       "         [3.0894e-03, 6.1778e-03, 3.0894e-03],\n",
       "         [3.0894e-03, 6.1778e-03, 3.0894e-03],\n",
       "         [2.1497e-02, 4.2992e-02, 2.1497e-02],\n",
       "         [7.9548e-03, 1.5909e-02, 7.9548e-03]], grad_fn=<AddmmBackward0>))"
      ]
     },
     "execution_count": 98,
     "metadata": {},
     "output_type": "execute_result"
    }
   ],
   "source": [
    "H2_neg = Aneg_blk @ out\n",
    "H2_neg =  gcn_2_neg(H2_neg)\n",
    "H2_neg.size(), H2_neg"
   ]
  },
  {
   "cell_type": "code",
   "execution_count": 99,
   "id": "5a8e3c6b-cf6c-4469-84ac-b06894d2a265",
   "metadata": {},
   "outputs": [
    {
     "data": {
      "text/plain": [
       "(torch.Size([24, 3]),\n",
       " tensor([[-0.0019, -0.0038, -0.0019],\n",
       "         [-0.0028, -0.0055, -0.0028],\n",
       "         [-0.0032, -0.0063, -0.0032],\n",
       "         [ 0.0023,  0.0045,  0.0023],\n",
       "         [ 0.0022,  0.0044,  0.0022],\n",
       "         [ 0.0003,  0.0005,  0.0003],\n",
       "         [ 0.0162,  0.0323,  0.0162],\n",
       "         [ 0.0027,  0.0055,  0.0027],\n",
       "         [-0.0076, -0.0151, -0.0076],\n",
       "         [ 0.0053,  0.0107,  0.0053],\n",
       "         [ 0.0096,  0.0193,  0.0096],\n",
       "         [ 0.0126,  0.0253,  0.0126],\n",
       "         [ 0.0091,  0.0182,  0.0091],\n",
       "         [-0.0043, -0.0086, -0.0043],\n",
       "         [ 0.0235,  0.0471,  0.0235],\n",
       "         [ 0.0154,  0.0308,  0.0154],\n",
       "         [ 0.0058,  0.0115,  0.0058],\n",
       "         [ 0.0139,  0.0279,  0.0139],\n",
       "         [-0.0005, -0.0011, -0.0005],\n",
       "         [-0.0135, -0.0270, -0.0135],\n",
       "         [ 0.0126,  0.0251,  0.0126],\n",
       "         [ 0.0146,  0.0293,  0.0146],\n",
       "         [-0.0180, -0.0360, -0.0180],\n",
       "         [ 0.0113,  0.0226,  0.0113]], grad_fn=<SubBackward0>))"
      ]
     },
     "execution_count": 99,
     "metadata": {},
     "output_type": "execute_result"
    }
   ],
   "source": [
    "out = H2_pos - H2_neg\n",
    "out.size(), out"
   ]
  },
  {
   "cell_type": "markdown",
   "id": "21eb945e-5f0f-44f8-9da3-bcf95e52fdef",
   "metadata": {},
   "source": [
    "#### GCN Block - Second Batch Norm"
   ]
  },
  {
   "cell_type": "code",
   "execution_count": 100,
   "id": "bef38a6b-0e3d-4703-b11d-d4ed0daba564",
   "metadata": {},
   "outputs": [
    {
     "data": {
      "text/plain": [
       "(torch.Size([24, 3]),\n",
       " tensor([[ 0.1907, -0.3814,  0.1907],\n",
       "         [ 0.2694, -0.5388,  0.2694],\n",
       "         [ 0.3024, -0.6047,  0.3024],\n",
       "         [-0.2254,  0.4509, -0.2254],\n",
       "         [-0.2204,  0.4409, -0.2204],\n",
       "         [-0.0266,  0.0531, -0.0266],\n",
       "         [-0.6531,  1.3063, -0.6531],\n",
       "         [-0.2665,  0.5331, -0.2665],\n",
       "         [ 0.5291, -1.0581,  0.5291],\n",
       "         [-0.4403,  0.8807, -0.4403],\n",
       "         [-0.5801,  1.1603, -0.5801],\n",
       "         [-0.6246,  1.2493, -0.6246],\n",
       "         [-0.5691,  1.1381, -0.5691],\n",
       "         [ 0.3820, -0.7641,  0.3820],\n",
       "         [-0.6800,  1.3601, -0.6800],\n",
       "         [-0.6482,  1.2965, -0.6482],\n",
       "         [-0.4605,  0.9209, -0.4605],\n",
       "         [-0.6371,  1.2741, -0.6371],\n",
       "         [ 0.0554, -0.1108,  0.0554],\n",
       "         [ 0.6331, -1.2663,  0.6331],\n",
       "         [-0.6237,  1.2474, -0.6237],\n",
       "         [-0.6428,  1.2856, -0.6428],\n",
       "         [ 0.6627, -1.3254,  0.6627],\n",
       "         [-0.6081,  1.2161, -0.6081]], grad_fn=<NativeLayerNormBackward0>))"
      ]
     },
     "execution_count": 100,
     "metadata": {},
     "output_type": "execute_result"
    }
   ],
   "source": [
    "out = bn_b(out)\n",
    "out.size(), out"
   ]
  },
  {
   "cell_type": "markdown",
   "id": "a1f49934-d324-463c-a057-d2b19605371e",
   "metadata": {},
   "source": [
    "### Residual connection"
   ]
  },
  {
   "cell_type": "markdown",
   "id": "e7544d22-5c6f-465e-bc7f-bd7a4283ce32",
   "metadata": {},
   "source": [
    "#### Residual connection - connection"
   ]
  },
  {
   "cell_type": "code",
   "execution_count": 101,
   "id": "b19c0f4c-a6b8-410f-9b13-ff90fcaed51b",
   "metadata": {},
   "outputs": [
    {
     "data": {
      "text/plain": [
       "(torch.Size([24, 3]),\n",
       " tensor([[ 0.2007, -0.3614,  0.2207],\n",
       "         [ 0.2894, -0.5088,  0.3094],\n",
       "         [ 0.3324, -0.5647,  0.3524],\n",
       "         [-0.1854,  0.5009, -0.1654],\n",
       "         [-0.1704,  0.5009, -0.1504],\n",
       "         [ 0.0334,  0.1231,  0.0534],\n",
       "         [-0.6431,  1.3263, -0.6231],\n",
       "         [-0.2465,  0.5631, -0.2265],\n",
       "         [ 0.5591, -1.0181,  0.5791],\n",
       "         [-0.4003,  0.9307, -0.3803],\n",
       "         [-0.5301,  1.2203, -0.5101],\n",
       "         [-0.5646,  1.3193, -0.5446],\n",
       "         [-0.5591,  1.1581, -0.5391],\n",
       "         [ 0.4020, -0.7341,  0.4220],\n",
       "         [-0.6500,  1.4001, -0.6300],\n",
       "         [-0.6082,  1.3465, -0.5882],\n",
       "         [-0.4105,  0.9809, -0.3905],\n",
       "         [-0.5771,  1.3441, -0.5571],\n",
       "         [ 0.0654, -0.0908,  0.0854],\n",
       "         [ 0.6531, -1.2363,  0.6731],\n",
       "         [-0.5937,  1.2874, -0.5737],\n",
       "         [-0.6028,  1.3356, -0.5828],\n",
       "         [ 0.7127, -1.2654,  0.7327],\n",
       "         [-0.5481,  1.2861, -0.5281]], grad_fn=<AddBackward0>))"
      ]
     },
     "execution_count": 101,
     "metadata": {},
     "output_type": "execute_result"
    }
   ],
   "source": [
    "x = out + x\n",
    "x.size(), x"
   ]
  },
  {
   "cell_type": "markdown",
   "id": "d4a07e0a-2903-4a9c-bbda-62e0fa24ea7b",
   "metadata": {},
   "source": [
    "#### Residual connection - leaky relu"
   ]
  },
  {
   "cell_type": "code",
   "execution_count": 102,
   "id": "74ddacc8-c1c8-4399-8595-3f06ed7aaec9",
   "metadata": {},
   "outputs": [
    {
     "data": {
      "text/plain": [
       "(torch.Size([4, 6, 3]),\n",
       " tensor([[[ 0.2007, -0.0361,  0.2207],\n",
       "          [ 0.2894, -0.0509,  0.3094],\n",
       "          [ 0.3324, -0.0565,  0.3524],\n",
       "          [-0.0185,  0.5009, -0.0165],\n",
       "          [-0.0170,  0.5009, -0.0150],\n",
       "          [ 0.0334,  0.1231,  0.0534]],\n",
       " \n",
       "         [[-0.0643,  1.3263, -0.0623],\n",
       "          [-0.0247,  0.5631, -0.0227],\n",
       "          [ 0.5591, -0.1018,  0.5791],\n",
       "          [-0.0400,  0.9307, -0.0380],\n",
       "          [-0.0530,  1.2203, -0.0510],\n",
       "          [-0.0565,  1.3193, -0.0545]],\n",
       " \n",
       "         [[-0.0559,  1.1581, -0.0539],\n",
       "          [ 0.4020, -0.0734,  0.4220],\n",
       "          [-0.0650,  1.4001, -0.0630],\n",
       "          [-0.0608,  1.3465, -0.0588],\n",
       "          [-0.0410,  0.9809, -0.0390],\n",
       "          [-0.0577,  1.3441, -0.0557]],\n",
       " \n",
       "         [[ 0.0654, -0.0091,  0.0854],\n",
       "          [ 0.6531, -0.1236,  0.6731],\n",
       "          [-0.0594,  1.2874, -0.0574],\n",
       "          [-0.0603,  1.3356, -0.0583],\n",
       "          [ 0.7127, -0.1265,  0.7327],\n",
       "          [-0.0548,  1.2861, -0.0528]]], grad_fn=<ViewBackward0>))"
      ]
     },
     "execution_count": 102,
     "metadata": {},
     "output_type": "execute_result"
    }
   ],
   "source": [
    "x = lrelu_res(x)\n",
    "x = x.view(B_batch, N_nodes, n_embd)\n",
    "x.size(), x"
   ]
  },
  {
   "cell_type": "markdown",
   "id": "77aabdf5-2805-4f33-89c6-88e38f095f73",
   "metadata": {},
   "source": [
    "### Output Head"
   ]
  },
  {
   "cell_type": "markdown",
   "id": "09b96743-04be-4925-bce9-c68f24b4380c",
   "metadata": {},
   "source": [
    "#### Output Layer - Node Head"
   ]
  },
  {
   "cell_type": "code",
   "execution_count": 103,
   "id": "c59e3dee-23a2-41c6-98c5-7b0e3deff137",
   "metadata": {},
   "outputs": [
    {
     "data": {
      "text/plain": [
       "(torch.Size([4, 6, 2]),\n",
       " tensor([[[ 0.1955, -0.1184],\n",
       "          [ 0.2513, -0.1417],\n",
       "          [ 0.2780, -0.1524],\n",
       "          [-0.0603,  0.1535],\n",
       "          [-0.0594,  0.1532],\n",
       "          [ 0.0607, -0.0187]],\n",
       " \n",
       "         [[-0.2727,  0.5126],\n",
       "          [-0.0779,  0.1811],\n",
       "          [ 0.4224, -0.2152],\n",
       "          [-0.1695,  0.3401],\n",
       "          [-0.2422,  0.4655],\n",
       "          [-0.2665,  0.5082]],\n",
       " \n",
       "         [[-0.2300,  0.4397],\n",
       "          [ 0.3231, -0.1729],\n",
       "          [-0.2897,  0.5441],\n",
       "          [-0.2752,  0.5205],\n",
       "          [-0.1814,  0.3616],\n",
       "          [-0.2728,  0.5190]],\n",
       " \n",
       "         [[ 0.1093, -0.0809],\n",
       "          [ 0.4830, -0.2425],\n",
       "          [-0.2611,  0.4952],\n",
       "          [-0.2724,  0.5158],\n",
       "          [ 0.5189, -0.2552],\n",
       "          [-0.2581,  0.4938]]], grad_fn=<ViewBackward0>))"
      ]
     },
     "execution_count": 103,
     "metadata": {},
     "output_type": "execute_result"
    }
   ],
   "source": [
    "node_logits = node_head(x)   \n",
    "node_logits.size(), node_logits"
   ]
  },
  {
   "cell_type": "markdown",
   "id": "df369c5e-46a9-410e-aa05-ca888a4e8e86",
   "metadata": {},
   "source": [
    "#### Output Layer - Graph Head"
   ]
  },
  {
   "cell_type": "code",
   "execution_count": null,
   "id": "77ba59cc-1a41-4e95-a583-d4f2a38b6680",
   "metadata": {},
   "outputs": [],
   "source": []
  },
  {
   "cell_type": "code",
   "execution_count": 104,
   "id": "d25575c8-8458-4388-b9ee-65f5542b878e",
   "metadata": {},
   "outputs": [
    {
     "data": {
      "text/plain": [
       "(torch.Size([4, 3]),\n",
       " tensor([[0.2010, 0.0893, 0.2165],\n",
       "         [0.1075, 0.6796, 0.1140],\n",
       "         [0.0551, 0.9578, 0.0616],\n",
       "         [0.1497, 0.6226, 0.1607]], grad_fn=<DivBackward0>))"
      ]
     },
     "execution_count": 104,
     "metadata": {},
     "output_type": "execute_result"
    }
   ],
   "source": [
    "mask = gene_mask.float().unsqueeze(0)\n",
    "denom = mask.sum(1, keepdim=True).clamp_min(1.0) \n",
    "pooled = (x * mask.unsqueeze(-1)).sum(1) / denom \n",
    "pooled.size(), pooled"
   ]
  },
  {
   "cell_type": "code",
   "execution_count": 105,
   "id": "5fc2bbaa-4471-47b6-81d0-71b89c709339",
   "metadata": {},
   "outputs": [
    {
     "data": {
      "text/plain": [
       "(torch.Size([4, 2]),\n",
       " tensor([[-0.2598,  0.3611],\n",
       "         [-0.5813,  0.7616],\n",
       "         [-0.7340,  0.9489],\n",
       "         [-0.5442,  0.7308]], grad_fn=<AddmmBackward0>))"
      ]
     },
     "execution_count": 105,
     "metadata": {},
     "output_type": "execute_result"
    }
   ],
   "source": [
    "graph_logits = graph_head(pooled)  # [B,2]\n",
    "graph_logits.size(), graph_logits"
   ]
  },
  {
   "cell_type": "markdown",
   "id": "08f80e4a-0ab9-4c31-92d9-d118eabe6bcf",
   "metadata": {},
   "source": [
    "### Updated Loss calculation"
   ]
  },
  {
   "cell_type": "markdown",
   "id": "0ec1ad4b-1191-4437-8e9d-eebd32686ff6",
   "metadata": {},
   "source": [
    "Now we'll calculate the updated loss.  Our first pass's loss was 3.5835, on par with random. Since we're passing through the same example and used a fairly high learning rate we should see a significant improvement with just 1 learning pass. "
   ]
  },
  {
   "cell_type": "code",
   "execution_count": 106,
   "id": "1b05a226-1598-4941-bfb8-31f26ebd9649",
   "metadata": {},
   "outputs": [
    {
     "data": {
      "text/plain": [
       "tensor(1.3863, grad_fn=<AddBackward0>)"
      ]
     },
     "execution_count": 106,
     "metadata": {},
     "output_type": "execute_result"
    }
   ],
   "source": [
    "loss"
   ]
  },
  {
   "cell_type": "markdown",
   "id": "338530be-cd00-4dab-8bb9-66a2de6cc3bf",
   "metadata": {},
   "source": [
    "#### node loss"
   ]
  },
  {
   "cell_type": "code",
   "execution_count": 107,
   "id": "82e7d820-7fc8-4d16-bb06-c4a63773e71f",
   "metadata": {},
   "outputs": [],
   "source": [
    "losses = []\n",
    "valid = (gene_mask & (y_node>=0))"
   ]
  },
  {
   "cell_type": "code",
   "execution_count": 108,
   "id": "df00a073-3b4c-4d32-b715-aded599a7ea6",
   "metadata": {},
   "outputs": [
    {
     "data": {
      "text/plain": [
       "tensor(0.5624, grad_fn=<NllLossBackward0>)"
      ]
     },
     "execution_count": 108,
     "metadata": {},
     "output_type": "execute_result"
    }
   ],
   "source": [
    "nl = F.cross_entropy(node_logits[valid], y_node[valid])\n",
    "losses.append(nl)\n",
    "nl"
   ]
  },
  {
   "cell_type": "markdown",
   "id": "508afda7-fdf3-4f22-9a0b-691b56b83109",
   "metadata": {},
   "source": [
    "#### graph loss"
   ]
  },
  {
   "cell_type": "code",
   "execution_count": 109,
   "id": "df05a236-686c-4af6-8673-d3d036e9c16a",
   "metadata": {},
   "outputs": [
    {
     "data": {
      "text/plain": [
       "tensor(0.4250, grad_fn=<NllLossBackward0>)"
      ]
     },
     "execution_count": 109,
     "metadata": {},
     "output_type": "execute_result"
    }
   ],
   "source": [
    "gl = F.cross_entropy(graph_logits, y_graph)\n",
    "losses.append(gl)\n",
    "gl"
   ]
  },
  {
   "cell_type": "code",
   "execution_count": 110,
   "id": "a7cd1804-3125-4f85-9ac3-f5d6fd33e8f2",
   "metadata": {},
   "outputs": [
    {
     "data": {
      "text/plain": [
       "tensor(0.9873, grad_fn=<AddBackward0>)"
      ]
     },
     "execution_count": 110,
     "metadata": {},
     "output_type": "execute_result"
    }
   ],
   "source": [
    "updated_loss = sum(losses) \n",
    "updated_loss"
   ]
  },
  {
   "cell_type": "code",
   "execution_count": 111,
   "id": "3606e784-6c00-4a44-bb19-50ed2dc63dd9",
   "metadata": {},
   "outputs": [
    {
     "data": {
      "text/plain": [
       "'1 round of training resulted in an loss improvment of 0.3990'"
      ]
     },
     "execution_count": 111,
     "metadata": {},
     "output_type": "execute_result"
    }
   ],
   "source": [
    "f'1 round of training resulted in an loss improvment of {loss.item() - updated_loss.item():.4f}'"
   ]
  },
  {
   "cell_type": "markdown",
   "id": "002b2d85-2edb-49be-b145-362a08177dd0",
   "metadata": {},
   "source": [
    "## Training SUCCESS!\n",
    "Our training improved the loss by about **~28%** (amount may vary since we didn't set a seed). There are flaws with this, mainly passing the same example through a second time and a crazy high learning rate, but this helps show the fundamentals of what learning does inside a GCN style GNN model. "
   ]
  },
  {
   "cell_type": "code",
   "execution_count": 112,
   "id": "2f053a07-08b4-433e-a605-5019b73c41d1",
   "metadata": {},
   "outputs": [
    {
     "name": "stdout",
     "output_type": "stream",
     "text": [
      "Graph preds: [1, 1, 1, 1]  True: [0, 1, 1, 1]\n"
     ]
    }
   ],
   "source": [
    "print(\"Graph preds:\", graph_logits.argmax(-1).tolist(), \" True:\", y_graph.tolist())"
   ]
  },
  {
   "cell_type": "markdown",
   "id": "4f3c4fbd-f629-4969-9158-c94b39b996b6",
   "metadata": {},
   "source": [
    "show prediction of which gene shows up in which cell upregulated more. If it's in both, you tie at \"0\" "
   ]
  },
  {
   "cell_type": "code",
   "execution_count": 113,
   "id": "ce1a9122-2b36-4254-b1dd-6b0046c8f8ee",
   "metadata": {},
   "outputs": [
    {
     "name": "stdout",
     "output_type": "stream",
     "text": [
      "Per-node preds (genes only):\n",
      "sample0: CD3D: pred=T true=T | LCK: pred=T true=T | ZAP70: pred=T true=T | CD19: pred=B true=B\n",
      "sample1: CD3D: pred=B true=T X | LCK: pred=B true=B | ZAP70: pred=T true=T | CD19: pred=B true=B\n",
      "sample2: CD3D: pred=B true=B | LCK: pred=T true=T | ZAP70: pred=B true=T X | CD19: pred=B true=B\n",
      "sample3: CD3D: pred=T true=T | LCK: pred=T true=T | ZAP70: pred=B true=B | CD19: pred=B true=B\n"
     ]
    }
   ],
   "source": [
    "print(\"Per-node preds (genes only):\")\n",
    "label = {0: \"T\", 1: \"B\"}\n",
    "pred = node_logits.argmax(-1)\n",
    "ytrue = y_node\n",
    "valid = (ytrue >= 0)\n",
    "names = node_order\n",
    "\n",
    "\n",
    "for b in range(pred.size(0)):\n",
    "    idxs = torch.nonzero(valid[b], as_tuple=False).squeeze(1).tolist()\n",
    "    parts = []\n",
    "    for i in idxs:\n",
    "        p = pred[b, i].item()\n",
    "        t = ytrue[b, i].item()\n",
    "        cor = '' if p ==  t else ' X'\n",
    "        parts.append(f'{names[i]}: pred={label[p]} true={label[t]}{cor}')\n",
    "    print(f'sample{b}: ' + ' | '.join(parts))"
   ]
  },
  {
   "cell_type": "code",
   "execution_count": 114,
   "id": "663acf1f-d8d9-46ab-9edd-418065582adc",
   "metadata": {},
   "outputs": [
    {
     "data": {
      "text/plain": [
       "tensor([[ 0,  0,  0,  1, -1, -1],\n",
       "        [ 0,  1,  0,  1, -1, -1],\n",
       "        [ 1,  0,  0,  1, -1, -1],\n",
       "        [ 0,  0,  1,  1, -1, -1]])"
      ]
     },
     "execution_count": 114,
     "metadata": {},
     "output_type": "execute_result"
    }
   ],
   "source": [
    "y_node"
   ]
  },
  {
   "cell_type": "code",
   "execution_count": null,
   "id": "8fd2e488-0085-4ba5-be7a-101025269f46",
   "metadata": {},
   "outputs": [],
   "source": []
  }
 ],
 "metadata": {
  "kernelspec": {
   "display_name": "Python 3 (ipykernel)",
   "language": "python",
   "name": "python3"
  },
  "language_info": {
   "codemirror_mode": {
    "name": "ipython",
    "version": 3
   },
   "file_extension": ".py",
   "mimetype": "text/x-python",
   "name": "python",
   "nbconvert_exporter": "python",
   "pygments_lexer": "ipython3",
   "version": "3.13.7"
  }
 },
 "nbformat": 4,
 "nbformat_minor": 5
}
