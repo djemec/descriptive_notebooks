{
 "cells": [
  {
   "cell_type": "markdown",
   "id": "1a8f1341-7d67-4e5b-9eda-23ee1e4fb4a2",
   "metadata": {},
   "source": [
    "# GPT Explainer"
   ]
  },
  {
   "cell_type": "markdown",
   "id": "af962655-070a-43d7-a3cf-a4ef90f3096d",
   "metadata": {},
   "source": [
    "the purpose of this is to walk through what happens during the forward pass and backward pass of GPT-2 (generative pretrained transformer) like models.  To help display the transformation, we'll use the first sentence from the [linear algebra wiki page](https://en.wikipedia.org/wiki/Linear_algebra) and [lu decomposition wiki page](https://en.wikipedia.org/wiki/LU_decomposition) as the topic is fitting and it shows us some non-standard patterns.  "
   ]
  },
  {
   "cell_type": "markdown",
   "id": "0ba0d1fa-baff-47b0-94ec-6bb0e4aaeded",
   "metadata": {},
   "source": [
    "## Text Prep/Tokenization"
   ]
  },
  {
   "cell_type": "markdown",
   "id": "10c1067a-aa58-4916-af71-d24e1faa80da",
   "metadata": {},
   "source": [
    "we'll start with common preprocessing step of tokenizing the data.  This converts the string text into an array of numbers that can be used during the training loop.  I've built a very subtle byte-pair encdoing that has each unique character that appears and the top 5 merges. This keeps our vocab size small and managable for this example. Typically the vocab size is in the 100K+ range. A great library for this is `tiktoken`. Tokenization simply finds the longest pattern of characters that's in common with what was trained and replaces it with an integer that represents it.  This way we turn the text into a numeric array to simplify computing. "
   ]
  },
  {
   "cell_type": "code",
   "execution_count": 1,
   "id": "4d0fa4a6-5aeb-4d5e-b233-5594176e55c0",
   "metadata": {},
   "outputs": [],
   "source": [
    "import torch\n",
    "from collections import Counter"
   ]
  },
  {
   "cell_type": "code",
   "execution_count": 2,
   "id": "c63305c1-847c-441e-8982-e76dddc05ed9",
   "metadata": {},
   "outputs": [],
   "source": [
    "class SimpleBPETokenizer:\n",
    "    def __init__(self, num_merges=5, eot_token='<|endoftext|>'):\n",
    "        self.num_merges = num_merges\n",
    "        self.eot_token = eot_token\n",
    "        self.eot_id = None\n",
    "        self.merges = []\n",
    "        self.pair_ranks = {}\n",
    "        self.vocab = {}\n",
    "        self.id_to_token = {}\n",
    "\n",
    "    def _add_token(self, tok):\n",
    "        if tok in self.vocab:\n",
    "            return self.vocab[tok]\n",
    "        i = len(self.vocab)\n",
    "        self.vocab[tok] = i\n",
    "        self.id_to_token[i] = tok\n",
    "        return i\n",
    "\n",
    "    def _get_bigrams(self, seq):\n",
    "        for i in range(len(seq) - 1):\n",
    "            yield (seq[i], seq[i + 1])\n",
    "\n",
    "    def _merge_once(self, seq, pair):\n",
    "        a, b = pair\n",
    "        out = []\n",
    "        i = 0\n",
    "        while i < len(seq):\n",
    "            if i < len(seq) - 1 and seq[i] == a and seq[i + 1] == b:\n",
    "                out.append(a + b)\n",
    "                i += 2\n",
    "            else:\n",
    "                out.append(seq[i])\n",
    "                i += 1\n",
    "        return out\n",
    "\n",
    "    def train(self, corpus):\n",
    "        # corpus: list[str]\n",
    "        text = ''.join(corpus).lower()\n",
    "        seq = list(text)\n",
    "        merges = []\n",
    "        for _ in range(self.num_merges):\n",
    "            counts = Counter(self._get_bigrams(seq))\n",
    "            if not counts: break\n",
    "            best_pair, _ = counts.most_common(1)[0]\n",
    "            merges.append(best_pair)\n",
    "            seq = self._merge_once(seq, best_pair)\n",
    "        self.merges = merges\n",
    "        self.pair_ranks = {p: i for i, p in enumerate(self.merges)}\n",
    "\n",
    "        self.vocab = {}\n",
    "        self.id_to_token = {}\n",
    "        for ch in sorted(set(text)):\n",
    "            self._add_token(ch)\n",
    "        for a, b in self.merges:\n",
    "            self._add_token(a + b)\n",
    "        self.eot_id = self._add_token(self.eot_token)\n",
    "\n",
    "    def encode(self, text, force_last_eot=True):\n",
    "        # treat literal eot marker as special; remove it from content\n",
    "        if self.eot_token in text:\n",
    "            text = text.replace(self.eot_token, '')\n",
    "        seq = list(text)\n",
    "\n",
    "        # make sure all seen base chars exist\n",
    "        for ch in set(seq):\n",
    "            if ch not in self.vocab:\n",
    "                self._add_token(ch)\n",
    "\n",
    "        # greedy BPE using learned pair ranks\n",
    "        if self.merges:\n",
    "            while True:\n",
    "                best_pair, best_rank = None, None\n",
    "                for p in self._get_bigrams(seq):\n",
    "                    r = self.pair_ranks.get(p)\n",
    "                    if r is not None and (best_rank is None or r < best_rank):\n",
    "                        best_pair, best_rank = p, r\n",
    "                if best_pair is None:\n",
    "                    break\n",
    "                seq = self._merge_once(seq, best_pair)\n",
    "\n",
    "        # ensure all tokens in seq exist in vocab (e.g., if new chars appeared)\n",
    "        for tok in seq:\n",
    "            if tok not in self.vocab:\n",
    "                self._add_token(tok)\n",
    "\n",
    "        ids = [self.vocab[tok] for tok in seq]\n",
    "\n",
    "        # FORCE: append EOT id if not already last\n",
    "        if force_last_eot:\n",
    "            if not ids or ids[-1] != self.eot_id:\n",
    "                ids.append(self.eot_id)\n",
    "\n",
    "        return ids\n",
    "\n",
    "    def decode(self, ids):\n",
    "        # drop trailing EOT if present\n",
    "        if ids and self.eot_id is not None and ids[-1] == self.eot_id:\n",
    "            ids = ids[:-1]\n",
    "        toks = [self.id_to_token[i] for i in ids]\n",
    "        return ''.join(toks)\n"
   ]
  },
  {
   "cell_type": "code",
   "execution_count": 3,
   "id": "0a475495-4b2d-4484-ba7c-8c6fa7ecedb1",
   "metadata": {},
   "outputs": [],
   "source": [
    "raw_example_1 = r'''Linear algebra is central to almost all areas of mathematics. For instance, linear algebra is fundamental in modern presentations of geometry, including for defining basic objects such as lines, planes and rotations. Also, functional analysis, a branch of mathematical analysis, may be viewed as the application of linear algebra to function spaces.'''\n",
    "raw_example_2 = r'''In numerical analysis and linear algebra, lower–upper (LU) decomposition or factorization factors a matrix as the product of a lower triangular matrix and an upper triangular matrix (see matrix multiplication and matrix decomposition).'''\n"
   ]
  },
  {
   "cell_type": "code",
   "execution_count": 4,
   "id": "6381f444-a72c-4093-9d91-9cec01e2c2e7",
   "metadata": {},
   "outputs": [
    {
     "data": {
      "text/plain": [
       "[(' ', 'a'), ('a', 't'), ('i', 'n'), (' ', 'm'), ('i', 'o')]"
      ]
     },
     "execution_count": 4,
     "metadata": {},
     "output_type": "execute_result"
    }
   ],
   "source": [
    "tok = SimpleBPETokenizer(num_merges=5)\n",
    "tok.train([raw_example_1,raw_example_2])\n",
    "tok.merges"
   ]
  },
  {
   "cell_type": "code",
   "execution_count": 5,
   "id": "9ee9498d-67c1-486d-a7dc-5b1f704af69f",
   "metadata": {},
   "outputs": [
    {
     "data": {
      "text/plain": [
       "{' ': 0,\n",
       " '(': 1,\n",
       " ')': 2,\n",
       " ',': 3,\n",
       " '.': 4,\n",
       " 'a': 5,\n",
       " 'b': 6,\n",
       " 'c': 7,\n",
       " 'd': 8,\n",
       " 'e': 9,\n",
       " 'f': 10,\n",
       " 'g': 11,\n",
       " 'h': 12,\n",
       " 'i': 13,\n",
       " 'j': 14,\n",
       " 'l': 15,\n",
       " 'm': 16,\n",
       " 'n': 17,\n",
       " 'o': 18,\n",
       " 'p': 19,\n",
       " 'r': 20,\n",
       " 's': 21,\n",
       " 't': 22,\n",
       " 'u': 23,\n",
       " 'v': 24,\n",
       " 'w': 25,\n",
       " 'x': 26,\n",
       " 'y': 27,\n",
       " 'z': 28,\n",
       " '–': 29,\n",
       " ' a': 30,\n",
       " 'at': 31,\n",
       " 'in': 32,\n",
       " ' m': 33,\n",
       " 'io': 34,\n",
       " '<|endoftext|>': 35}"
      ]
     },
     "execution_count": 5,
     "metadata": {},
     "output_type": "execute_result"
    }
   ],
   "source": [
    "tok.vocab"
   ]
  },
  {
   "cell_type": "code",
   "execution_count": 6,
   "id": "f9de51b4-9f27-4f0b-ad46-98a2074b2363",
   "metadata": {},
   "outputs": [
    {
     "data": {
      "text/plain": [
       "36"
      ]
     },
     "execution_count": 6,
     "metadata": {},
     "output_type": "execute_result"
    }
   ],
   "source": [
    "vocab_size = len(tok.vocab)\n",
    "vocab_size"
   ]
  },
  {
   "cell_type": "code",
   "execution_count": 7,
   "id": "11f1b9e7-4ec6-44fc-8e5d-6fab0fd0aff5",
   "metadata": {},
   "outputs": [
    {
     "data": {
      "text/plain": [
       "tensor([35, 15, 32,  9,  5, 20, 30, 15, 11,  9,  6, 20,  5,  0, 13, 21,  0,  7,\n",
       "         9, 17, 22, 20,  5, 15,  0, 22, 18, 30, 15, 16, 18, 21, 22, 30, 15, 15,\n",
       "        30, 20,  9,  5, 21,  0, 18, 10, 33, 31, 12,  9, 16, 31, 13,  7, 21,  4,\n",
       "         0, 10, 18, 20,  0, 32, 21, 22,  5, 17,  7,  9,  3,  0, 15, 32,  9,  5,\n",
       "        20, 30, 15, 11,  9,  6, 20,  5,  0, 13, 21,  0, 10, 23, 17,  8,  5, 16,\n",
       "         9, 17, 22,  5, 15,  0, 32, 33, 18,  8,  9, 20, 17,  0, 19, 20,  9, 21,\n",
       "         9, 17, 22, 31, 34, 17, 21,  0, 18, 10,  0, 11,  9, 18, 16,  9, 22, 20,\n",
       "        27,  3,  0, 32,  7, 15, 23,  8, 32, 11,  0, 10, 18, 20,  0,  8,  9, 10,\n",
       "        32, 32, 11,  0,  6,  5, 21, 13,  7,  0, 18,  6, 14,  9,  7, 22, 21,  0,\n",
       "        21, 23,  7, 12, 30, 21,  0, 15, 32,  9, 21,  3,  0, 19, 15,  5, 17,  9,\n",
       "        21, 30, 17,  8,  0, 20, 18, 22, 31, 34, 17, 21,  4, 30, 15, 21, 18,  3,\n",
       "         0, 10, 23, 17,  7, 22, 34, 17,  5, 15, 30, 17,  5, 15, 27, 21, 13, 21,\n",
       "         3, 30,  0,  6, 20,  5, 17,  7, 12,  0, 18, 10, 33, 31, 12,  9, 16, 31,\n",
       "        13,  7,  5, 15, 30, 17,  5, 15, 27, 21, 13, 21,  3, 33,  5, 27,  0,  6,\n",
       "         9,  0, 24, 13,  9, 25,  9,  8, 30, 21,  0, 22, 12,  9, 30, 19, 19, 15,\n",
       "        13,  7, 31, 34, 17,  0, 18, 10,  0, 15, 32,  9,  5, 20, 30, 15, 11,  9,\n",
       "         6, 20,  5,  0, 22, 18,  0, 10, 23, 17,  7, 22, 34, 17,  0, 21, 19,  5,\n",
       "         7,  9, 21,  4, 35, 35, 32,  0, 17, 23, 16,  9, 20, 13,  7,  5, 15, 30,\n",
       "        17,  5, 15, 27, 21, 13, 21, 30, 17,  8,  0, 15, 32,  9,  5, 20, 30, 15,\n",
       "        11,  9,  6, 20,  5,  3,  0, 15, 18, 25,  9, 20, 29, 23, 19, 19,  9, 20,\n",
       "         0,  1, 15, 23,  2,  0,  8,  9,  7, 18, 16, 19, 18, 21, 13, 22, 34, 17,\n",
       "         0, 18, 20,  0, 10,  5,  7, 22, 18, 20, 13, 28, 31, 34, 17,  0, 10,  5,\n",
       "         7, 22, 18, 20, 21, 30, 33, 31, 20, 13, 26, 30, 21,  0, 22, 12,  9,  0,\n",
       "        19, 20, 18,  8, 23,  7, 22,  0, 18, 10, 30,  0, 15, 18, 25,  9, 20,  0,\n",
       "        22, 20, 13,  5, 17, 11, 23, 15,  5, 20, 33, 31, 20, 13, 26, 30, 17,  8,\n",
       "        30, 17,  0, 23, 19, 19,  9, 20,  0, 22, 20, 13,  5, 17, 11, 23, 15,  5,\n",
       "        20, 33, 31, 20, 13, 26,  0,  1, 21,  9,  9, 33, 31, 20, 13, 26, 33, 23,\n",
       "        15, 22, 13, 19, 15, 13,  7, 31, 34, 17, 30, 17,  8, 33, 31, 20, 13, 26,\n",
       "         0,  8,  9,  7, 18, 16, 19, 18, 21, 13, 22, 34, 17,  2,  4, 35])"
      ]
     },
     "execution_count": 7,
     "metadata": {},
     "output_type": "execute_result"
    }
   ],
   "source": [
    "eot = tok.eot_id\n",
    "tokens = []\n",
    "for example in [raw_example_1, raw_example_2]:\n",
    "    tokens.extend([eot])\n",
    "    tokens.extend(tok.encode(example.lower()))\n",
    "all_tokens = torch.tensor(tokens, dtype=torch.long)\n",
    "all_tokens"
   ]
  },
  {
   "cell_type": "markdown",
   "id": "0d84e5c6-b409-40d7-a614-ee383b6066a4",
   "metadata": {},
   "source": [
    "# Modeling"
   ]
  },
  {
   "cell_type": "markdown",
   "id": "a853b63d-29e5-4786-bf59-6aba024a8e5b",
   "metadata": {},
   "source": [
    "A machine learning model forward pass now uses the tokenization information, runs several layers of linear algebra on it, and then \"predicts\" the next token. When it is noisy (like you will see in this example), this process results in gibberish.  The training process changes the noise to pattern during the \"backward pass\" as you'll see.    We'll show 3 steps that are focused on training:\n",
    "1. **Data Loading** `x, y = train_loader.next_batch()` - this step pulls from the raw data enough tokens to complete a forward and backward pass.  If the model is inference only, this step is replaced with taking in the inference input and preparing it similarly as the forward pass.\n",
    "2. **Forward Pass** `logits, loss = model(x, y)` - using the data and the model architecture to predict the next token. When training we also compare against the expected to get loss, but in infrerence, we use the logits to complete the inference task.\n",
    "3. **Backward Pass & Training** `loss.backward(); optimizer.step()` - using differentials to understand what parameters most impact the forward pass' impact on its prediction, comparing that against what is actually right based on the data loading step, and then making very minor adjustments to the impactful parameters with the hope it improves future predictions.\n",
    "\n",
    "The we'll show a final **Forward Pass** with the updated weights we did in #3. "
   ]
  },
  {
   "cell_type": "markdown",
   "id": "de7182b5-5872-483b-93d8-a8fa61d5a8fe",
   "metadata": {},
   "source": [
    "## Data Loading"
   ]
  },
  {
   "cell_type": "markdown",
   "id": "70511c70-5b74-407d-b439-0f6a24c12f8e",
   "metadata": {},
   "source": [
    "To start, we need to get enough data to run the forward and backward passes.  Since our total dataset is likely too big to hold all at once in real practice, we would read just enough file information into memory so that we can run the passes, leaving memory and compute to be used on the passes instead of static data holding. \n",
    "To start, we have to identify the batch size and the model context length to determine how much data we need.  Consequently, these dimensions also form 2 of the 3 dimensions in the initial matrix.\n",
    "- **Batch Size (B)** - This is the number of examples you'll train on in a single pass. \n",
    "- **Context Length (T)** - This is the max number of tokens that a model can use in a single pass to generat the next token. If an example is below this length, it can be padded.\n",
    "  \n",
    "*Ideally both B and T are multiples of 2 to work nicely with chip architecture. This is a common theme across the board*"
   ]
  },
  {
   "cell_type": "code",
   "execution_count": 8,
   "id": "6b87eb7f-f648-459f-8770-05b41acf0513",
   "metadata": {},
   "outputs": [],
   "source": [
    "B = 2 # Batch\n",
    "T = 8 # context length"
   ]
  },
  {
   "cell_type": "markdown",
   "id": "f307d03f-e9b7-44c5-82ea-e25236612a0d",
   "metadata": {},
   "source": [
    "To start, we need to pull from our long raw_token list enough tokens for the forward pass. To be able to satisfy training `B` Batches `T` Context length, we need to pull out `B*T` tokens to slide the context window across the examples enough to satisfy the batch size.  Since the training will attempt to predict the last token given the previous tokens in context, we also need 1 more token at the end so that the last training example in the last batch can have the next token to validate against. "
   ]
  },
  {
   "cell_type": "code",
   "execution_count": 9,
   "id": "3e06beb6-747c-4565-b730-a539bfd8bb5a",
   "metadata": {},
   "outputs": [
    {
     "data": {
      "text/plain": [
       "tensor([35, 15, 32,  9,  5, 20, 30, 15, 11,  9,  6, 20,  5,  0, 13, 21,  0])"
      ]
     },
     "execution_count": 9,
     "metadata": {},
     "output_type": "execute_result"
    }
   ],
   "source": [
    "current_position = 0\n",
    "tok_for_training = all_tokens[current_position:current_position + B*T +1 ]\n",
    "tok_for_training"
   ]
  },
  {
   "cell_type": "markdown",
   "id": "01bfbb68-1575-4bba-95ee-9fe81f2d7eff",
   "metadata": {},
   "source": [
    "Now that we have our initial tokens to train on, we now need to convert it to a matrix that's ready for training. In this step we'll need to create our batches and setup two different arrays: 1/ the input, `x`, tokens that will result in 2/ the output `y` tokens. To create each example in the batch, every `T` tokens will be placed into it's own row. \n",
    "\n",
    "Recall that training takes in a string of tokens the length of the context and then predicts the next token. Recall that when we extracted `tok_for_training` we added 1 extra token so that we can evaluate the prediction for the last example. Because of this, the input, `x`, will be all of the tokens up to the second to last element `[:-1]`.  \n",
    "\n",
    "It might be natural to think the output `y` would then just be the last token.But this is actually wasting valuable training loops.  Yes, there is the example that fills the context `T`, but we also have enough tokens in `tok_for_training` where any context length of `n` where `n<T` can also be used for inference since we have the `n+1` token available.  You can think of the following example:\n",
    "\n",
    "sentence: `Hi I am learning`. This sentence contains the following \"next tokens\" that can be learned:\n",
    "1. x: Hi I am  | y: learning\n",
    "2. x: Hi I     | y: am\n",
    "3. x: Hi       | y: I\n",
    "\n",
    "Because we have this triangle to create, our `y` can be much larger.  We can start with the second token and, go all the way to the last element we added for the last example `[1:'`.   \n",
    "\n",
    "\n",
    "We will now put this together and do the following:\n",
    "1. Extract the input `x` and then split it into an example for each batch `B`\n",
    "2. Extract the output `y` and then split it into an example for each batch `B`\n",
    "\n",
    "*Note: View can take `-1` which allows the matrix to infer the dimension so we do not need to pass in `T`, but given how many matrices we'll work with we want to make sure we're controlling the dimensions or erroring out if they do not match our expectations.*"
   ]
  },
  {
   "cell_type": "code",
   "execution_count": 10,
   "id": "87de4a84-1b29-4ecb-9a9a-ad4938b73eed",
   "metadata": {},
   "outputs": [
    {
     "data": {
      "text/plain": [
       "tensor([35, 15, 32,  9,  5, 20, 30, 15, 11,  9,  6, 20,  5,  0, 13, 21,  0])"
      ]
     },
     "execution_count": 10,
     "metadata": {},
     "output_type": "execute_result"
    }
   ],
   "source": [
    "tok_for_training"
   ]
  },
  {
   "cell_type": "code",
   "execution_count": 11,
   "id": "69e73535-556a-4282-861d-5e1edc86b319",
   "metadata": {},
   "outputs": [
    {
     "data": {
      "text/plain": [
       "tensor([[35, 15, 32,  9,  5, 20, 30, 15],\n",
       "        [11,  9,  6, 20,  5,  0, 13, 21]])"
      ]
     },
     "execution_count": 11,
     "metadata": {},
     "output_type": "execute_result"
    }
   ],
   "source": [
    "x=tok_for_training[:-1].view(B, T)\n",
    "x"
   ]
  },
  {
   "cell_type": "code",
   "execution_count": 12,
   "id": "0f11b91e-26c6-4de9-95ef-576c4d54a162",
   "metadata": {},
   "outputs": [
    {
     "data": {
      "text/plain": [
       "tensor([[15, 32,  9,  5, 20, 30, 15, 11],\n",
       "        [ 9,  6, 20,  5,  0, 13, 21,  0]])"
      ]
     },
     "execution_count": 12,
     "metadata": {},
     "output_type": "execute_result"
    }
   ],
   "source": [
    "y=tok_for_training[1:].view(B, T)\n",
    "y"
   ]
  },
  {
   "cell_type": "markdown",
   "id": "8d327003-6a9b-4f21-a9b3-76a0fbb2dd36",
   "metadata": {},
   "source": [
    "## Forward pass"
   ]
  },
  {
   "attachments": {},
   "cell_type": "markdown",
   "id": "ef751eab-02d1-43eb-acd5-56357e705598",
   "metadata": {},
   "source": [
    "<img src=\"explainer_screenshots/gpt/full_network.png\" width=\"200\">\n",
    "\n",
    "The forward pass takes a string of tokens in and predicts the next \"n\" tokens.  This step as we'll look at it is focused on training where we'll pass in the input `x`, carry that input through the layers, and generate a matrix of the probability of each token being the next one, something we call `logits`. During the forward pass at the end we then compare the probability to the actual next token in `y` and calculate `loss` based on the difference. \n",
    "\n",
    "*Note that we will do some layer initialization to simplify following along.  In reality layers are often initialized to normal distribution with some adjustments made for parameter sizes to keep the weights properly noisy.  We will not cover initialization in this series*"
   ]
  },
  {
   "cell_type": "markdown",
   "id": "97a77a8a-f93c-48b9-b715-d3196f402c28",
   "metadata": {},
   "source": [
    "We first rederive the batch size and context size based on the input to improve flexibility."
   ]
  },
  {
   "cell_type": "code",
   "execution_count": 13,
   "id": "16252536-9637-4b9e-9a73-ed2a8ee2aa12",
   "metadata": {},
   "outputs": [],
   "source": [
    "import torch.nn as nn"
   ]
  },
  {
   "cell_type": "code",
   "execution_count": 14,
   "id": "7291c75e-d8e0-49d0-9b40-8b6b5a22cfb8",
   "metadata": {},
   "outputs": [
    {
     "data": {
      "text/plain": [
       "(2, 8)"
      ]
     },
     "execution_count": 14,
     "metadata": {},
     "output_type": "execute_result"
    }
   ],
   "source": [
    "B, T = x.size()\n",
    "B,T"
   ]
  },
  {
   "cell_type": "markdown",
   "id": "0a40579b-7cd6-46cb-8ec7-6626390395bd",
   "metadata": {},
   "source": [
    "The first layer of our network creates an embedding representation of our input sequence. "
   ]
  },
  {
   "cell_type": "code",
   "execution_count": 15,
   "id": "ea845430-56e4-40bc-b3bf-84331257007c",
   "metadata": {},
   "outputs": [],
   "source": [
    "block_size = T # max sequence length/context\n",
    "vocab_size = vocab_size # 36 \n",
    "n_embd = 4 # "
   ]
  },
  {
   "cell_type": "markdown",
   "id": "2ca4ad4b-c92d-4596-b255-e0e4042128f2",
   "metadata": {},
   "source": [
    "### Input Layer"
   ]
  },
  {
   "attachments": {},
   "cell_type": "markdown",
   "id": "5de68adb-24b4-4f23-b7c9-ff8f0a5ff6ca",
   "metadata": {},
   "source": [
    "<img src=\"explainer_screenshots/gpt/input_layer.png\" width=\"200\">\n",
    "We'll first create an initiation for 2 of our input matrices: position and token embedding.  Both of these are a table of weigths that have `n_embd` number of columns to store information about the position or token. The more columns you add, the more complex information can be stored but the more compute is needed.  For now we'll let each position or column store up to 4 channels of information.  Before starting though we need to initialize the layer with a set of data."
   ]
  },
  {
   "cell_type": "code",
   "execution_count": 16,
   "id": "f37c4136-cd53-4534-84e6-0cdf509551b6",
   "metadata": {},
   "outputs": [
    {
     "data": {
      "text/plain": [
       "(Parameter containing:\n",
       " tensor([[0.0100, 0.0200, 0.0300, 0.0400],\n",
       "         [0.0200, 0.0300, 0.0400, 0.0500],\n",
       "         [0.0300, 0.0400, 0.0500, 0.0600],\n",
       "         [0.0400, 0.0500, 0.0600, 0.0700],\n",
       "         [0.0500, 0.0600, 0.0700, 0.0800],\n",
       "         [0.0600, 0.0700, 0.0800, 0.0900],\n",
       "         [0.0700, 0.0800, 0.0900, 0.1000],\n",
       "         [0.0800, 0.0900, 0.1000, 0.1100],\n",
       "         [0.0900, 0.1000, 0.1100, 0.1200],\n",
       "         [0.1000, 0.1100, 0.1200, 0.1300],\n",
       "         [0.1100, 0.1200, 0.1300, 0.1400],\n",
       "         [0.1200, 0.1300, 0.1400, 0.1500],\n",
       "         [0.1300, 0.1400, 0.1500, 0.1600],\n",
       "         [0.1400, 0.1500, 0.1600, 0.1700],\n",
       "         [0.1500, 0.1600, 0.1700, 0.1800],\n",
       "         [0.1600, 0.1700, 0.1800, 0.1900],\n",
       "         [0.1700, 0.1800, 0.1900, 0.2000],\n",
       "         [0.1800, 0.1900, 0.2000, 0.2100],\n",
       "         [0.1900, 0.2000, 0.2100, 0.2200],\n",
       "         [0.2000, 0.2100, 0.2200, 0.2300],\n",
       "         [0.2100, 0.2200, 0.2300, 0.2400],\n",
       "         [0.2200, 0.2300, 0.2400, 0.2500],\n",
       "         [0.2300, 0.2400, 0.2500, 0.2600],\n",
       "         [0.2400, 0.2500, 0.2600, 0.2700],\n",
       "         [0.2500, 0.2600, 0.2700, 0.2800],\n",
       "         [0.2600, 0.2700, 0.2800, 0.2900],\n",
       "         [0.2700, 0.2800, 0.2900, 0.3000],\n",
       "         [0.2800, 0.2900, 0.3000, 0.3100],\n",
       "         [0.2900, 0.3000, 0.3100, 0.3200],\n",
       "         [0.3000, 0.3100, 0.3200, 0.3300],\n",
       "         [0.3100, 0.3200, 0.3300, 0.3400],\n",
       "         [0.3200, 0.3300, 0.3400, 0.3500],\n",
       "         [0.3300, 0.3400, 0.3500, 0.3600],\n",
       "         [0.3400, 0.3500, 0.3600, 0.3700],\n",
       "         [0.3500, 0.3600, 0.3700, 0.3800],\n",
       "         [0.3600, 0.3700, 0.3800, 0.3900]], requires_grad=True),\n",
       " Parameter containing:\n",
       " tensor([[0.0100, 0.0200, 0.0300, 0.0400],\n",
       "         [0.0200, 0.0300, 0.0400, 0.0500],\n",
       "         [0.0300, 0.0400, 0.0500, 0.0600],\n",
       "         [0.0400, 0.0500, 0.0600, 0.0700],\n",
       "         [0.0500, 0.0600, 0.0700, 0.0800],\n",
       "         [0.0600, 0.0700, 0.0800, 0.0900],\n",
       "         [0.0700, 0.0800, 0.0900, 0.1000],\n",
       "         [0.0800, 0.0900, 0.1000, 0.1100]], requires_grad=True))"
      ]
     },
     "execution_count": 16,
     "metadata": {},
     "output_type": "execute_result"
    }
   ],
   "source": [
    "# weighted token embedding\n",
    "wte = nn.Embedding(vocab_size, n_embd)\n",
    "with torch.no_grad(): # initilize to W[i,j] = 0.001*(1+i+j) for easy following \n",
    "    vs, d = wte.num_embeddings, wte.embedding_dim\n",
    "    rows = torch.arange(vs).unsqueeze(1)  # (vs,1)\n",
    "    cols = torch.arange(d).unsqueeze(0)  # (1,d)\n",
    "    pattern = 0.01*(1 + rows + cols)  # W[i,j] = 0.001*(1+i+j)\n",
    "    wte.weight.copy_(pattern)\n",
    "# weighted position embedding\n",
    "wpe = nn.Embedding(block_size, n_embd)\n",
    "with torch.no_grad(): # initilize to W[i,j] = 0.001*(1+i+j) for easy following \n",
    "    vs, d = wpe.num_embeddings, wpe.embedding_dim\n",
    "    rows = torch.arange(vs).unsqueeze(1)  # (vs,1)\n",
    "    cols = torch.arange(d).unsqueeze(0)  # (1,d)\n",
    "    pattern = 0.01*(1 + rows + cols)  # W[i,j] = 0.001*(1+i+j)\n",
    "    wpe.weight.copy_(pattern)\n",
    "wte.weight, wpe.weight"
   ]
  },
  {
   "cell_type": "markdown",
   "id": "81d28ccc-7516-4d85-ad4f-91cfd6eb20c2",
   "metadata": {},
   "source": [
    "**Positional Embeddings** - Now we need to pluck the weight of each position out of the position embedding.  Since we are creating a simple left to right, position 1 to n, we can just create an array from 0 to n based on the context, `T`, then pluck those rows out.  The resulting matrix from this operation is a `T, n_embd` based vector. "
   ]
  },
  {
   "cell_type": "code",
   "execution_count": 17,
   "id": "3bcf9346-3b25-478a-9400-acef841d54a9",
   "metadata": {},
   "outputs": [
    {
     "data": {
      "text/plain": [
       "tensor([0, 1, 2, 3, 4, 5, 6, 7])"
      ]
     },
     "execution_count": 17,
     "metadata": {},
     "output_type": "execute_result"
    }
   ],
   "source": [
    "pos = torch.arange(0, T, dtype=torch.long)\n",
    "pos"
   ]
  },
  {
   "cell_type": "markdown",
   "id": "82a54e71-fd3b-46b1-9134-b2e597e01088",
   "metadata": {},
   "source": [
    "for each element, look up the row in `wpe` and pluck it out. Since the position is just `[0:T]` we can see we pluck out the position array."
   ]
  },
  {
   "cell_type": "code",
   "execution_count": 18,
   "id": "31ea57c2-0f34-446e-8e91-643db51b02af",
   "metadata": {},
   "outputs": [
    {
     "data": {
      "text/plain": [
       "(torch.Size([8, 4]),\n",
       " tensor([[0.0100, 0.0200, 0.0300, 0.0400],\n",
       "         [0.0200, 0.0300, 0.0400, 0.0500],\n",
       "         [0.0300, 0.0400, 0.0500, 0.0600],\n",
       "         [0.0400, 0.0500, 0.0600, 0.0700],\n",
       "         [0.0500, 0.0600, 0.0700, 0.0800],\n",
       "         [0.0600, 0.0700, 0.0800, 0.0900],\n",
       "         [0.0700, 0.0800, 0.0900, 0.1000],\n",
       "         [0.0800, 0.0900, 0.1000, 0.1100]], grad_fn=<EmbeddingBackward0>))"
      ]
     },
     "execution_count": 18,
     "metadata": {},
     "output_type": "execute_result"
    }
   ],
   "source": [
    "pos_emb = wpe(pos)\n",
    "pos_emb.shape, pos_emb"
   ]
  },
  {
   "cell_type": "markdown",
   "id": "1f89e0ad-87e5-4bbe-bccb-998549487425",
   "metadata": {},
   "source": [
    "**Word Embeddings** - Similarly we need to pluck out the rows from the token table, `wte` for the tokens in our example. Since our example is already represented as indices, we can simple use `x` directly. The resulting matrix from this operation is a `B,T, n_embd` based vector since `x` is `B,T` and `tok_emb` is `vocab_size,n_embd` and when we index `wte` by `x` each entry in x replaces `n_embd` based vector at that position in `wte`."
   ]
  },
  {
   "cell_type": "code",
   "execution_count": 19,
   "id": "4bd724b1-0669-4b21-91d1-450b8231d6a5",
   "metadata": {},
   "outputs": [
    {
     "data": {
      "text/plain": [
       "tensor([[35, 15, 32,  9,  5, 20, 30, 15],\n",
       "        [11,  9,  6, 20,  5,  0, 13, 21]])"
      ]
     },
     "execution_count": 19,
     "metadata": {},
     "output_type": "execute_result"
    }
   ],
   "source": [
    "x"
   ]
  },
  {
   "cell_type": "markdown",
   "id": "13e99ae5-4f5b-4939-bb8e-c754f0c5af77",
   "metadata": {},
   "source": [
    "for each position pull out the the row of weights that corresponds to the token. You can see in the print out that the rows are not in the same order as the layer is initiliazed as the token ids are not sequential.  "
   ]
  },
  {
   "cell_type": "code",
   "execution_count": 20,
   "id": "ecfbcd6e-eacb-415c-aabf-06b3bf51a378",
   "metadata": {},
   "outputs": [
    {
     "data": {
      "text/plain": [
       "(torch.Size([2, 8, 4]),\n",
       " tensor([[[0.3600, 0.3700, 0.3800, 0.3900],\n",
       "          [0.1600, 0.1700, 0.1800, 0.1900],\n",
       "          [0.3300, 0.3400, 0.3500, 0.3600],\n",
       "          [0.1000, 0.1100, 0.1200, 0.1300],\n",
       "          [0.0600, 0.0700, 0.0800, 0.0900],\n",
       "          [0.2100, 0.2200, 0.2300, 0.2400],\n",
       "          [0.3100, 0.3200, 0.3300, 0.3400],\n",
       "          [0.1600, 0.1700, 0.1800, 0.1900]],\n",
       " \n",
       "         [[0.1200, 0.1300, 0.1400, 0.1500],\n",
       "          [0.1000, 0.1100, 0.1200, 0.1300],\n",
       "          [0.0700, 0.0800, 0.0900, 0.1000],\n",
       "          [0.2100, 0.2200, 0.2300, 0.2400],\n",
       "          [0.0600, 0.0700, 0.0800, 0.0900],\n",
       "          [0.0100, 0.0200, 0.0300, 0.0400],\n",
       "          [0.1400, 0.1500, 0.1600, 0.1700],\n",
       "          [0.2200, 0.2300, 0.2400, 0.2500]]], grad_fn=<EmbeddingBackward0>))"
      ]
     },
     "execution_count": 20,
     "metadata": {},
     "output_type": "execute_result"
    }
   ],
   "source": [
    "tok_emb = wte(x)\n",
    "tok_emb.shape, tok_emb"
   ]
  },
  {
   "attachments": {},
   "cell_type": "markdown",
   "id": "099e55eb-8fb1-438a-a2ae-c05a83824b25",
   "metadata": {},
   "source": [
    "**Impact of the position and token together**\n",
    "To ensure that the position and token together impact the next token prediction, we sum the two so that the weight of each token is impacted by the weight of its relative position. To do this we sum `tok_emb` and `pos_emb` together. Quickly we can see the dimensions don't match as \n",
    "* `tok_emb` > `B,T,n_embd`\n",
    "* `pos_emb` >   `T,n_embd`\n",
    "\n",
    "Since we have multiple examples with the same ordering, we simply add pos_emb at the same level to each entry on the `B` dimension, something that pytorch does for us automatically resulting in a `B,T,n_embd` output"
   ]
  },
  {
   "cell_type": "code",
   "execution_count": 21,
   "id": "a2aab5c4-b879-4d33-a9b3-25ee108e2559",
   "metadata": {},
   "outputs": [
    {
     "data": {
      "text/plain": [
       "tensor([[[0.3700, 0.3900, 0.4100, 0.4300],\n",
       "         [0.1800, 0.2000, 0.2200, 0.2400],\n",
       "         [0.3600, 0.3800, 0.4000, 0.4200],\n",
       "         [0.1400, 0.1600, 0.1800, 0.2000],\n",
       "         [0.1100, 0.1300, 0.1500, 0.1700],\n",
       "         [0.2700, 0.2900, 0.3100, 0.3300],\n",
       "         [0.3800, 0.4000, 0.4200, 0.4400],\n",
       "         [0.2400, 0.2600, 0.2800, 0.3000]],\n",
       "\n",
       "        [[0.1300, 0.1500, 0.1700, 0.1900],\n",
       "         [0.1200, 0.1400, 0.1600, 0.1800],\n",
       "         [0.1000, 0.1200, 0.1400, 0.1600],\n",
       "         [0.2500, 0.2700, 0.2900, 0.3100],\n",
       "         [0.1100, 0.1300, 0.1500, 0.1700],\n",
       "         [0.0700, 0.0900, 0.1100, 0.1300],\n",
       "         [0.2100, 0.2300, 0.2500, 0.2700],\n",
       "         [0.3000, 0.3200, 0.3400, 0.3600]]], grad_fn=<AddBackward0>)"
      ]
     },
     "execution_count": 21,
     "metadata": {},
     "output_type": "execute_result"
    }
   ],
   "source": [
    "x = tok_emb + pos_emb\n",
    "x"
   ]
  },
  {
   "cell_type": "markdown",
   "id": "d70bf96d-a67f-43ce-9a19-9975e4198609",
   "metadata": {},
   "source": [
    "### Transformer Layers"
   ]
  },
  {
   "attachments": {},
   "cell_type": "markdown",
   "id": "34da8230-ef7f-4e68-b7a1-b0b73219c024",
   "metadata": {},
   "source": [
    "<img src=\"explainer_screenshots/gpt/transformer.png\" width=\"200\">\n",
    "\n",
    "The transformer block is multiple parallel repetitions of the same matrix operations done independently.  This adds both depth and breadth to the computation.  Each block is the same steps of\n",
    "1. Layer normalization\n",
    "2. Causal self attention\n",
    "3. Layer normalization (again)\n",
    "4. Multi-layer perceptron (MLP)\n",
    "\n",
    "Both steps 2 and 4 are also multi-layered so we'll go through each layer independently.  You'll notice the arrows in the diagram bypassing the causal self attention and the MLP.  This is to ensure that the weights of any one layer do not get overweighted. We achieve this by simply adding the input with the layer's calculations together, as you'll see. "
   ]
  },
  {
   "cell_type": "markdown",
   "id": "56bc98ad-7f59-4b15-961c-233853e01c73",
   "metadata": {},
   "source": [
    "#### Transformer - Layer Normalization"
   ]
  },
  {
   "cell_type": "markdown",
   "id": "b0325d06-5ee3-43bb-8998-405079dfbecf",
   "metadata": {},
   "source": [
    "With Layer normalization, we review the row and adjust based on how far away it is from the mean. This means an array of `[1,2,3,4]` and `[2,4,6,8]` will actually have the same normalized entries after layer normalization.  This layer adds regularization which helps with overall learning speed. The formula applied is:\n",
    "\n",
    "$y = \\frac{x - \\mathbb{E}[x]}{\\sqrt{\\operatorname{Var}[x] + \\epsilon}}$\n",
    "\n",
    "Layer normalization is applied on the input matrix in kind and creates default weights of 1's across the dimension to equally weight all values in the normalization. We'll keep this as is and not change the initialization.  \n",
    "\n",
    "*Note that even though we will do layer normalization again, we keep this as a separate layer so that its impact can be adjusted independent of other normalization layers.*"
   ]
  },
  {
   "cell_type": "markdown",
   "id": "b1c75580-ff67-45e7-9621-2bc0b3f467cb",
   "metadata": {},
   "source": [
    "**Example** Let's see a quick example of how layer normalizaiton operates with an array of `[1,2,3,4]` and `[2,4,6,8]` "
   ]
  },
  {
   "cell_type": "code",
   "execution_count": 22,
   "id": "fed78841-c30e-48e1-af87-fa07f0bf7402",
   "metadata": {},
   "outputs": [
    {
     "data": {
      "text/plain": [
       "tensor([[-1.3416, -0.4472,  0.4472,  1.3416],\n",
       "        [-1.3416, -0.4472,  0.4472,  1.3416]],\n",
       "       grad_fn=<NativeLayerNormBackward0>)"
      ]
     },
     "execution_count": 22,
     "metadata": {},
     "output_type": "execute_result"
    }
   ],
   "source": [
    "example_ln = nn.LayerNorm(n_embd)\n",
    "\n",
    "## Example \n",
    "example_ln(torch.tensor(\n",
    "    [\n",
    "        [1.0,2.0,3.0,4.0],\n",
    "        [2.0,4.0,6.0,8.0]\n",
    "    ]))"
   ]
  },
  {
   "cell_type": "markdown",
   "id": "bd54631c-b366-4720-b717-ba22c3c6d043",
   "metadata": {},
   "source": [
    "**Normalize** Now let's apply it to x.  We'll save the output to a new variable `x_norm` so that we retain the input `x` for the *skip connection* (more details below).  Since our position embeddings are still in their initiaion step where each entries values are similarly distributed `[n,n+2,n+4,n+6]`  we'll see that with layer normalization the resulting matrix has all equal rows. "
   ]
  },
  {
   "cell_type": "code",
   "execution_count": 23,
   "id": "9afb21a5-1b1b-478f-be38-9cc2b6fba79d",
   "metadata": {},
   "outputs": [
    {
     "data": {
      "text/plain": [
       "(torch.Size([2, 8, 4]),\n",
       " tensor([[[-1.3284, -0.4428,  0.4428,  1.3284],\n",
       "          [-1.3284, -0.4428,  0.4428,  1.3284],\n",
       "          [-1.3284, -0.4428,  0.4428,  1.3284],\n",
       "          [-1.3284, -0.4428,  0.4428,  1.3284],\n",
       "          [-1.3284, -0.4428,  0.4428,  1.3284],\n",
       "          [-1.3284, -0.4428,  0.4428,  1.3284],\n",
       "          [-1.3284, -0.4428,  0.4428,  1.3284],\n",
       "          [-1.3284, -0.4428,  0.4428,  1.3284]],\n",
       " \n",
       "         [[-1.3284, -0.4428,  0.4428,  1.3284],\n",
       "          [-1.3284, -0.4428,  0.4428,  1.3284],\n",
       "          [-1.3284, -0.4428,  0.4428,  1.3284],\n",
       "          [-1.3284, -0.4428,  0.4428,  1.3284],\n",
       "          [-1.3284, -0.4428,  0.4428,  1.3284],\n",
       "          [-1.3284, -0.4428,  0.4428,  1.3284],\n",
       "          [-1.3284, -0.4428,  0.4428,  1.3284],\n",
       "          [-1.3284, -0.4428,  0.4428,  1.3284]]],\n",
       "        grad_fn=<NativeLayerNormBackward0>))"
      ]
     },
     "execution_count": 23,
     "metadata": {},
     "output_type": "execute_result"
    }
   ],
   "source": [
    "ln_1 = nn.LayerNorm(n_embd)\n",
    "x_norm = ln_1(x)\n",
    "x_norm.shape, x_norm"
   ]
  },
  {
   "cell_type": "markdown",
   "id": "fc3b6a7a-0978-466d-8d90-3e80abb78754",
   "metadata": {},
   "source": [
    "#### Transformer - Flash Attnetion / Causal Self Attention"
   ]
  },
  {
   "attachments": {},
   "cell_type": "markdown",
   "id": "fe140d19-25b1-4047-9536-ceb3bb1a8a34",
   "metadata": {},
   "source": [
    "<img src=\"explainer_screenshots/gpt/flash_attention.png\" width=\"600\">\n",
    "\n",
    "Causal self-attention is self-attention with a strictly upper-triangular mask, so each position $i$ can attend only to positions $j≤i$ (no look-ahead). For each position in a sequence, the model decides which earlier tokens matter and blends their information to generate the upcoming token, but the model is not allowed to peek at tokens to the right. Recall that we created an input `x` that has all of the tokens in the sequence. With causal self attention we ensure that the prediction of `y` is not learned in an example from tokens to the right of it. \n",
    "\n",
    "Causal self attention uses 3 linear projections to create representations of 3 concepts to help derive the next token: query `Q`, key `K`, and value `V`. FlashAttention takes the input `x` of shape $(B,T,C)$, linearly projects the last dimension to `Q, K, V` by multiplying each token vector $x_{b,t,:}$ with the learned weight matrices `Q, K,V` (often via one combined QKV linear matrix) and adding biases. Then we compute the causal dot-product attention with dropout and softmax per head, concatenate the heads, and apply a final linear layer to produce the output.  Linear layers use the projection of $y=xA^\\top+b$\n",
    "\n",
    "The Q,K,V matrix do the following: \n",
    "* **Query** - the current position’s “search request.” Every layer and head issues queries that can look for many things (antecedent, rhythm, agreement, etc.).\n",
    "* **Key** - a matching tag/address for each allowed position. It is compared with the query to produce relevance scores\n",
    "* **Value** - the payload you actually mix in once something matches. It’s a learned projection of the token’s representation so the model can copy the right kind of information.\n",
    "\n",
    "This layer starts by taking a linear layer that has `n_embd` rows and then  `n_embd` columns for each: the query, key and value.  This allows the projection of the `x_norm` to be split into the 3 components, selected from them. We then use `scaled_dot_product_attention` to provide the attention masking and normalization, including an upper triangle mask to prevent look-ahead, and final project that onto a `n_embd x n_embd` matrix to return the output. \n",
    "\n",
    "We start by creating the 2 default layers. Also we'll set heads to 2.  The heads allow the layer to specialize in different concepts since each head creates its own Q,K,V.\n",
    "\n",
    "*for the linear layers we'll do some special initiations, mainly pyramidal so that we can see unique numbers. We also initialize the bias to 0 so there linear layer is now just $y=xA^\\top$*"
   ]
  },
  {
   "cell_type": "code",
   "execution_count": 24,
   "id": "eb3516ed-26ec-4cfc-abb3-c8a9e15ec996",
   "metadata": {},
   "outputs": [],
   "source": [
    "from torch.nn import functional as F\n",
    "import math\n",
    "n_head = 2"
   ]
  },
  {
   "cell_type": "code",
   "execution_count": 25,
   "id": "b4d6eeae-8522-4c8a-834f-e8285f6f14b5",
   "metadata": {},
   "outputs": [
    {
     "data": {
      "text/plain": [
       "(Linear(in_features=4, out_features=12, bias=True),\n",
       " Parameter containing:\n",
       " tensor([[0.0010, 0.0020, 0.0030, 0.0040],\n",
       "         [0.0020, 0.0050, 0.0070, 0.0090],\n",
       "         [0.0030, 0.0090, 0.0120, 0.0150],\n",
       "         [0.0040, 0.0140, 0.0180, 0.0220],\n",
       "         [0.0050, 0.0200, 0.0250, 0.0300],\n",
       "         [0.0060, 0.0270, 0.0330, 0.0390],\n",
       "         [0.0070, 0.0350, 0.0420, 0.0490],\n",
       "         [0.0080, 0.0440, 0.0520, 0.0600],\n",
       "         [0.0090, 0.0540, 0.0630, 0.0720],\n",
       "         [0.0100, 0.0650, 0.0750, 0.0850],\n",
       "         [0.0110, 0.0770, 0.0880, 0.0990],\n",
       "         [0.0120, 0.0900, 0.1020, 0.1140]], requires_grad=True),\n",
       " Parameter containing:\n",
       " tensor([0., 0., 0., 0., 0., 0., 0., 0., 0., 0., 0., 0.], requires_grad=True))"
      ]
     },
     "execution_count": 25,
     "metadata": {},
     "output_type": "execute_result"
    }
   ],
   "source": [
    "c_attn = nn.Linear(n_embd, 3 * n_embd)\n",
    "with torch.no_grad():\n",
    "    out, inp = c_attn.weight.shape  # (3*n_embd, n_embd)\n",
    "    r = torch.arange(1, out + 1).unsqueeze(1)  # [out,1], 1-indexed\n",
    "    c = torch.arange(1, inp + 1).unsqueeze(0)   # [1,inp], 1-indexed\n",
    "    base = r * c                          # rc\n",
    "    tri = r * (r - 1) / 2                 # T_{r-1} = r(r-1)/2, shape [out,1]\n",
    "    mask = (c >= 2)           # add T_{r-1} only from column 2 onward\n",
    "    pattern = 1e-3 * (base + tri * mask) # matches [[.001,.002,.003],[.002,.005,.007],[.003,.009,.012],...]\n",
    "    c_attn.weight.copy_(pattern)\n",
    "\n",
    "    c_attn.bias.zero_()\n",
    "    \n",
    "c_attn, c_attn.weight, c_attn.bias"
   ]
  },
  {
   "cell_type": "code",
   "execution_count": 26,
   "id": "e26b1cf6-4943-499a-b86b-2717462d8426",
   "metadata": {},
   "outputs": [
    {
     "data": {
      "text/plain": [
       "(Linear(in_features=4, out_features=4, bias=True),\n",
       " Parameter containing:\n",
       " tensor([[0.0010, 0.0020, 0.0030, 0.0040],\n",
       "         [0.0020, 0.0050, 0.0070, 0.0090],\n",
       "         [0.0030, 0.0090, 0.0120, 0.0150],\n",
       "         [0.0040, 0.0140, 0.0180, 0.0220]], requires_grad=True))"
      ]
     },
     "execution_count": 26,
     "metadata": {},
     "output_type": "execute_result"
    }
   ],
   "source": [
    "c_proj = nn.Linear(n_embd, n_embd)\n",
    "with torch.no_grad():\n",
    "    out, inp = c_proj.weight.shape  # (3*n_embd, n_embd)\n",
    "    r = torch.arange(1, out + 1).unsqueeze(1)  # [out,1], 1-indexed\n",
    "    c = torch.arange(1, inp + 1).unsqueeze(0)   # [1,inp], 1-indexed\n",
    "    base = r * c                          # rc\n",
    "    tri = r * (r - 1) / 2                 # T_{r-1} = r(r-1)/2, shape [out,1]\n",
    "    mask = (c >= 2)           # add T_{r-1} only from column 2 onward\n",
    "    pattern = 1e-3 * (base + tri * mask) # matches [[.001,.002,.003],[.002,.005,.007],[.003,.009,.012],...]\n",
    "    c_proj.weight.copy_(pattern)\n",
    "    \n",
    "    c_proj.bias.zero_()\n",
    "c_proj, c_proj.weight"
   ]
  },
  {
   "cell_type": "markdown",
   "id": "1543e367-62f7-4edc-be6b-877bec24e0aa",
   "metadata": {},
   "source": [
    "**Flash Attention - Creating Query, Key, Value**\n",
    "\n",
    "We'll now create the query, key, and value matrices. Let's also revisualize `x_norm` to make it easy to connect the dots in this complex layer."
   ]
  },
  {
   "cell_type": "code",
   "execution_count": 27,
   "id": "80f9502f-a4eb-4465-87c7-4408e0653f73",
   "metadata": {},
   "outputs": [
    {
     "data": {
      "text/plain": [
       "(2, 8, 4)"
      ]
     },
     "execution_count": 27,
     "metadata": {},
     "output_type": "execute_result"
    }
   ],
   "source": [
    "B, T, C = x_norm.size()\n",
    "B, T, C"
   ]
  },
  {
   "cell_type": "code",
   "execution_count": 28,
   "id": "56d6ff50-cc2a-4a43-8170-d79a1dea6ec4",
   "metadata": {},
   "outputs": [
    {
     "data": {
      "text/plain": [
       "(torch.Size([2, 8, 4]),\n",
       " tensor([[[-1.3284, -0.4428,  0.4428,  1.3284],\n",
       "          [-1.3284, -0.4428,  0.4428,  1.3284],\n",
       "          [-1.3284, -0.4428,  0.4428,  1.3284],\n",
       "          [-1.3284, -0.4428,  0.4428,  1.3284],\n",
       "          [-1.3284, -0.4428,  0.4428,  1.3284],\n",
       "          [-1.3284, -0.4428,  0.4428,  1.3284],\n",
       "          [-1.3284, -0.4428,  0.4428,  1.3284],\n",
       "          [-1.3284, -0.4428,  0.4428,  1.3284]],\n",
       " \n",
       "         [[-1.3284, -0.4428,  0.4428,  1.3284],\n",
       "          [-1.3284, -0.4428,  0.4428,  1.3284],\n",
       "          [-1.3284, -0.4428,  0.4428,  1.3284],\n",
       "          [-1.3284, -0.4428,  0.4428,  1.3284],\n",
       "          [-1.3284, -0.4428,  0.4428,  1.3284],\n",
       "          [-1.3284, -0.4428,  0.4428,  1.3284],\n",
       "          [-1.3284, -0.4428,  0.4428,  1.3284],\n",
       "          [-1.3284, -0.4428,  0.4428,  1.3284]]],\n",
       "        grad_fn=<NativeLayerNormBackward0>))"
      ]
     },
     "execution_count": 28,
     "metadata": {},
     "output_type": "execute_result"
    }
   ],
   "source": [
    "x_norm.shape, x_norm"
   ]
  },
  {
   "cell_type": "markdown",
   "id": "24937337-9034-4106-8cee-350ef4dd6a6f",
   "metadata": {},
   "source": [
    "Now we'll take `x_norm` and the dot product of the weights in `c_attn` $y=x\\_norm \\cdot c\\_attn^\\top+bias$. This results in the the `qkv` combined matrix leading to a 3x size increase. Since every entry on the 3rd dimension in `x_norm` is the same, we will see that every row has the same repeated values given that's how dot products work. "
   ]
  },
  {
   "cell_type": "code",
   "execution_count": 29,
   "id": "766c6957-116e-404d-9e67-dde777e6de88",
   "metadata": {
    "scrolled": true
   },
   "outputs": [
    {
     "data": {
      "text/plain": [
       "(torch.Size([2, 8, 12]),\n",
       " tensor([[[0.0044, 0.0102, 0.0173, 0.0257, 0.0354, 0.0465, 0.0589, 0.0726,\n",
       "           0.0877, 0.1041, 0.1218, 0.1408],\n",
       "          [0.0044, 0.0102, 0.0173, 0.0257, 0.0354, 0.0465, 0.0589, 0.0726,\n",
       "           0.0877, 0.1041, 0.1218, 0.1408],\n",
       "          [0.0044, 0.0102, 0.0173, 0.0257, 0.0354, 0.0465, 0.0589, 0.0726,\n",
       "           0.0877, 0.1041, 0.1218, 0.1408],\n",
       "          [0.0044, 0.0102, 0.0173, 0.0257, 0.0354, 0.0465, 0.0589, 0.0726,\n",
       "           0.0877, 0.1041, 0.1218, 0.1408],\n",
       "          [0.0044, 0.0102, 0.0173, 0.0257, 0.0354, 0.0465, 0.0589, 0.0726,\n",
       "           0.0877, 0.1041, 0.1218, 0.1408],\n",
       "          [0.0044, 0.0102, 0.0173, 0.0257, 0.0354, 0.0465, 0.0589, 0.0726,\n",
       "           0.0877, 0.1041, 0.1218, 0.1408],\n",
       "          [0.0044, 0.0102, 0.0173, 0.0257, 0.0354, 0.0465, 0.0589, 0.0726,\n",
       "           0.0877, 0.1041, 0.1218, 0.1408],\n",
       "          [0.0044, 0.0102, 0.0173, 0.0257, 0.0354, 0.0465, 0.0589, 0.0726,\n",
       "           0.0877, 0.1041, 0.1218, 0.1408]],\n",
       " \n",
       "         [[0.0044, 0.0102, 0.0173, 0.0257, 0.0354, 0.0465, 0.0589, 0.0726,\n",
       "           0.0877, 0.1041, 0.1218, 0.1408],\n",
       "          [0.0044, 0.0102, 0.0173, 0.0257, 0.0354, 0.0465, 0.0589, 0.0726,\n",
       "           0.0877, 0.1041, 0.1218, 0.1408],\n",
       "          [0.0044, 0.0102, 0.0173, 0.0257, 0.0354, 0.0465, 0.0589, 0.0726,\n",
       "           0.0877, 0.1041, 0.1218, 0.1408],\n",
       "          [0.0044, 0.0102, 0.0173, 0.0257, 0.0354, 0.0465, 0.0589, 0.0726,\n",
       "           0.0877, 0.1041, 0.1218, 0.1408],\n",
       "          [0.0044, 0.0102, 0.0173, 0.0257, 0.0354, 0.0465, 0.0589, 0.0726,\n",
       "           0.0877, 0.1041, 0.1218, 0.1408],\n",
       "          [0.0044, 0.0102, 0.0173, 0.0257, 0.0354, 0.0465, 0.0589, 0.0726,\n",
       "           0.0877, 0.1041, 0.1218, 0.1408],\n",
       "          [0.0044, 0.0102, 0.0173, 0.0257, 0.0354, 0.0465, 0.0589, 0.0726,\n",
       "           0.0877, 0.1041, 0.1218, 0.1408],\n",
       "          [0.0044, 0.0102, 0.0173, 0.0257, 0.0354, 0.0465, 0.0589, 0.0726,\n",
       "           0.0877, 0.1041, 0.1218, 0.1408]]], grad_fn=<ViewBackward0>))"
      ]
     },
     "execution_count": 29,
     "metadata": {},
     "output_type": "execute_result"
    }
   ],
   "source": [
    "qkv = c_attn(x_norm)\n",
    "qkv.shape, qkv"
   ]
  },
  {
   "cell_type": "markdown",
   "id": "9f3b126c-0c5b-485d-8b7b-cc4b0734de1d",
   "metadata": {},
   "source": [
    "**Flash Attention - Attention Head**\n",
    "\n",
    "Now, we will split up qkv to create the 3 separate matrices, one for the query, key, and value. Together they to work to create complex concept embeddings. We also then have to split up each matrix into its own heads (shown as columns `dim=3`). For each head we create its own Q,K,V, compute the causal dot-product attention with softmax per head and then eventually concatenate the heads. During back-propogation, different heads can get updates in different ways based on the examples and gradients.  This backprop and separation is what allows each attention head to specialize in different concepts."
   ]
  },
  {
   "cell_type": "code",
   "execution_count": 30,
   "id": "720501ed-17a0-4c87-a9f6-9d800b339198",
   "metadata": {
    "scrolled": true
   },
   "outputs": [
    {
     "data": {
      "text/plain": [
       "('q',\n",
       " torch.Size([2, 2, 8, 2]),\n",
       " tensor([[[[0.0044, 0.0102],\n",
       "           [0.0044, 0.0102],\n",
       "           [0.0044, 0.0102],\n",
       "           [0.0044, 0.0102],\n",
       "           [0.0044, 0.0102],\n",
       "           [0.0044, 0.0102],\n",
       "           [0.0044, 0.0102],\n",
       "           [0.0044, 0.0102]],\n",
       " \n",
       "          [[0.0173, 0.0257],\n",
       "           [0.0173, 0.0257],\n",
       "           [0.0173, 0.0257],\n",
       "           [0.0173, 0.0257],\n",
       "           [0.0173, 0.0257],\n",
       "           [0.0173, 0.0257],\n",
       "           [0.0173, 0.0257],\n",
       "           [0.0173, 0.0257]]],\n",
       " \n",
       " \n",
       "         [[[0.0044, 0.0102],\n",
       "           [0.0044, 0.0102],\n",
       "           [0.0044, 0.0102],\n",
       "           [0.0044, 0.0102],\n",
       "           [0.0044, 0.0102],\n",
       "           [0.0044, 0.0102],\n",
       "           [0.0044, 0.0102],\n",
       "           [0.0044, 0.0102]],\n",
       " \n",
       "          [[0.0173, 0.0257],\n",
       "           [0.0173, 0.0257],\n",
       "           [0.0173, 0.0257],\n",
       "           [0.0173, 0.0257],\n",
       "           [0.0173, 0.0257],\n",
       "           [0.0173, 0.0257],\n",
       "           [0.0173, 0.0257],\n",
       "           [0.0173, 0.0257]]]], grad_fn=<TransposeBackward0>),\n",
       " 'k',\n",
       " torch.Size([2, 2, 8, 2]),\n",
       " tensor([[[[0.0354, 0.0465],\n",
       "           [0.0354, 0.0465],\n",
       "           [0.0354, 0.0465],\n",
       "           [0.0354, 0.0465],\n",
       "           [0.0354, 0.0465],\n",
       "           [0.0354, 0.0465],\n",
       "           [0.0354, 0.0465],\n",
       "           [0.0354, 0.0465]],\n",
       " \n",
       "          [[0.0589, 0.0726],\n",
       "           [0.0589, 0.0726],\n",
       "           [0.0589, 0.0726],\n",
       "           [0.0589, 0.0726],\n",
       "           [0.0589, 0.0726],\n",
       "           [0.0589, 0.0726],\n",
       "           [0.0589, 0.0726],\n",
       "           [0.0589, 0.0726]]],\n",
       " \n",
       " \n",
       "         [[[0.0354, 0.0465],\n",
       "           [0.0354, 0.0465],\n",
       "           [0.0354, 0.0465],\n",
       "           [0.0354, 0.0465],\n",
       "           [0.0354, 0.0465],\n",
       "           [0.0354, 0.0465],\n",
       "           [0.0354, 0.0465],\n",
       "           [0.0354, 0.0465]],\n",
       " \n",
       "          [[0.0589, 0.0726],\n",
       "           [0.0589, 0.0726],\n",
       "           [0.0589, 0.0726],\n",
       "           [0.0589, 0.0726],\n",
       "           [0.0589, 0.0726],\n",
       "           [0.0589, 0.0726],\n",
       "           [0.0589, 0.0726],\n",
       "           [0.0589, 0.0726]]]], grad_fn=<TransposeBackward0>),\n",
       " 'v',\n",
       " torch.Size([2, 2, 8, 2]),\n",
       " tensor([[[[0.0877, 0.1041],\n",
       "           [0.0877, 0.1041],\n",
       "           [0.0877, 0.1041],\n",
       "           [0.0877, 0.1041],\n",
       "           [0.0877, 0.1041],\n",
       "           [0.0877, 0.1041],\n",
       "           [0.0877, 0.1041],\n",
       "           [0.0877, 0.1041]],\n",
       " \n",
       "          [[0.1218, 0.1408],\n",
       "           [0.1218, 0.1408],\n",
       "           [0.1218, 0.1408],\n",
       "           [0.1218, 0.1408],\n",
       "           [0.1218, 0.1408],\n",
       "           [0.1218, 0.1408],\n",
       "           [0.1218, 0.1408],\n",
       "           [0.1218, 0.1408]]],\n",
       " \n",
       " \n",
       "         [[[0.0877, 0.1041],\n",
       "           [0.0877, 0.1041],\n",
       "           [0.0877, 0.1041],\n",
       "           [0.0877, 0.1041],\n",
       "           [0.0877, 0.1041],\n",
       "           [0.0877, 0.1041],\n",
       "           [0.0877, 0.1041],\n",
       "           [0.0877, 0.1041]],\n",
       " \n",
       "          [[0.1218, 0.1408],\n",
       "           [0.1218, 0.1408],\n",
       "           [0.1218, 0.1408],\n",
       "           [0.1218, 0.1408],\n",
       "           [0.1218, 0.1408],\n",
       "           [0.1218, 0.1408],\n",
       "           [0.1218, 0.1408],\n",
       "           [0.1218, 0.1408]]]], grad_fn=<TransposeBackward0>))"
      ]
     },
     "execution_count": 30,
     "metadata": {},
     "output_type": "execute_result"
    }
   ],
   "source": [
    "q,k,v = qkv.split(n_embd, dim=2)\n",
    "q = q.view(B, T, n_head, C // n_head).transpose(1, 2)\n",
    "k = k.view(B, T, n_head, C // n_head).transpose(1, 2)\n",
    "v = v.view(B, T, n_head, C // n_head).transpose(1, 2)\n",
    "'q', q.shape, q, 'k', k.shape, k, 'v', v.shape, v"
   ]
  },
  {
   "cell_type": "markdown",
   "id": "385cd815-7936-496e-b980-d91b49727569",
   "metadata": {},
   "source": [
    "**Flash Attention - Cross Attention / Dot-product attention**\n",
    "\n",
    "With the separated query, key, value, we now need to calculate the attention. The attention starts with the mutliplying query and key together to get `TxT` matrix showing how the context length embeddings interact, or the *unnormalized attention*. We also multiply by the $\\sqrt{C // n\\_head}$ since the dot product will grow in relation to the head widht and this scaling allows us to normalize the variance back down. After this we apply the **causal** filter that prevents the model from learning about a token from the future tokens beyond it.  We do this by using a upper triangle maskl, meaning we set all the values in the upper triangle to $-\\infty$.  This means that when we got to the softmax, these values are set to 0 meaning there's no weight on the prediction.   After applying our max, we softmax by the last dimension.  Softmax turns a real-valued vector into a probability distribution by exponentiating each component and normalizing by the sum so all outputs are nonnegative and sum to 1.  It does this by applying the following: \n",
    "\n",
    "$\\frac{e^{x_i}}{\\sum_{j=1}^{n} e^{x_j}}$\n",
    "\n",
    "After softmax, we apply a dropout layer which simply applies 0's out randomly up to the defined level percentage. Dropout can be applied in a few places and mainly acts to prevent co-adaptation and improve generalization. Dropout is only used during training and would not be run during inference. \n",
    "\n",
    "Finally to get the weigthed sum of the values by the attention we take the dot product of the raw attention and the values to bring the Query, Key, and Value impact per head back together.  After this we'll then collapse the heads and project the attention one final time to a linear layer. \n",
    "\n",
    "Let's start by first initializing our scaling, dropout, our our mask.  You'll see the mask creates an upper triangle matrix. \n",
    "\n",
    "*Note that in practice this step is run as `F.scaled_dot_product_attention` to avoid materializing the TxT matrix*"
   ]
  },
  {
   "cell_type": "code",
   "execution_count": 31,
   "id": "18d53d66-6960-4133-b837-c623b9737cdd",
   "metadata": {},
   "outputs": [
    {
     "data": {
      "text/plain": [
       "(0.7071067811865475,\n",
       " Dropout(p=0.1, inplace=False),\n",
       " tensor([[ True, False, False, False, False, False, False, False],\n",
       "         [ True,  True, False, False, False, False, False, False],\n",
       "         [ True,  True,  True, False, False, False, False, False],\n",
       "         [ True,  True,  True,  True, False, False, False, False],\n",
       "         [ True,  True,  True,  True,  True, False, False, False],\n",
       "         [ True,  True,  True,  True,  True,  True, False, False],\n",
       "         [ True,  True,  True,  True,  True,  True,  True, False],\n",
       "         [ True,  True,  True,  True,  True,  True,  True,  True]]))"
      ]
     },
     "execution_count": 31,
     "metadata": {},
     "output_type": "execute_result"
    }
   ],
   "source": [
    "scale = 1.0 / math.sqrt(C // n_head)\n",
    "dropout = nn.Dropout(0.1)\n",
    "mask = torch.tril(torch.ones(block_size, block_size, dtype=torch.bool))\n",
    "scale, dropout, mask"
   ]
  },
  {
   "cell_type": "markdown",
   "id": "5467fe05-a314-4d2c-ad84-eaf3ade4c383",
   "metadata": {},
   "source": [
    "Now we'll compute the unnormalized attention per head.  This takes the matrix multiple of the query and key and uses the scale factor to manage the variance on the last dimension. You'll see that the `TxT` matrix for each example at this point have all the same values because the `Q` and `K` had uniform values in each head.  "
   ]
  },
  {
   "cell_type": "code",
   "execution_count": 32,
   "id": "c7198658-113a-48c4-aa87-fbc53b1e31ec",
   "metadata": {},
   "outputs": [
    {
     "data": {
      "text/plain": [
       "(torch.Size([2, 2, 8, 8]),\n",
       " tensor([[[[0.0004, 0.0004, 0.0004, 0.0004, 0.0004, 0.0004, 0.0004, 0.0004],\n",
       "           [0.0004, 0.0004, 0.0004, 0.0004, 0.0004, 0.0004, 0.0004, 0.0004],\n",
       "           [0.0004, 0.0004, 0.0004, 0.0004, 0.0004, 0.0004, 0.0004, 0.0004],\n",
       "           [0.0004, 0.0004, 0.0004, 0.0004, 0.0004, 0.0004, 0.0004, 0.0004],\n",
       "           [0.0004, 0.0004, 0.0004, 0.0004, 0.0004, 0.0004, 0.0004, 0.0004],\n",
       "           [0.0004, 0.0004, 0.0004, 0.0004, 0.0004, 0.0004, 0.0004, 0.0004],\n",
       "           [0.0004, 0.0004, 0.0004, 0.0004, 0.0004, 0.0004, 0.0004, 0.0004],\n",
       "           [0.0004, 0.0004, 0.0004, 0.0004, 0.0004, 0.0004, 0.0004, 0.0004]],\n",
       " \n",
       "          [[0.0020, 0.0020, 0.0020, 0.0020, 0.0020, 0.0020, 0.0020, 0.0020],\n",
       "           [0.0020, 0.0020, 0.0020, 0.0020, 0.0020, 0.0020, 0.0020, 0.0020],\n",
       "           [0.0020, 0.0020, 0.0020, 0.0020, 0.0020, 0.0020, 0.0020, 0.0020],\n",
       "           [0.0020, 0.0020, 0.0020, 0.0020, 0.0020, 0.0020, 0.0020, 0.0020],\n",
       "           [0.0020, 0.0020, 0.0020, 0.0020, 0.0020, 0.0020, 0.0020, 0.0020],\n",
       "           [0.0020, 0.0020, 0.0020, 0.0020, 0.0020, 0.0020, 0.0020, 0.0020],\n",
       "           [0.0020, 0.0020, 0.0020, 0.0020, 0.0020, 0.0020, 0.0020, 0.0020],\n",
       "           [0.0020, 0.0020, 0.0020, 0.0020, 0.0020, 0.0020, 0.0020, 0.0020]]],\n",
       " \n",
       " \n",
       "         [[[0.0004, 0.0004, 0.0004, 0.0004, 0.0004, 0.0004, 0.0004, 0.0004],\n",
       "           [0.0004, 0.0004, 0.0004, 0.0004, 0.0004, 0.0004, 0.0004, 0.0004],\n",
       "           [0.0004, 0.0004, 0.0004, 0.0004, 0.0004, 0.0004, 0.0004, 0.0004],\n",
       "           [0.0004, 0.0004, 0.0004, 0.0004, 0.0004, 0.0004, 0.0004, 0.0004],\n",
       "           [0.0004, 0.0004, 0.0004, 0.0004, 0.0004, 0.0004, 0.0004, 0.0004],\n",
       "           [0.0004, 0.0004, 0.0004, 0.0004, 0.0004, 0.0004, 0.0004, 0.0004],\n",
       "           [0.0004, 0.0004, 0.0004, 0.0004, 0.0004, 0.0004, 0.0004, 0.0004],\n",
       "           [0.0004, 0.0004, 0.0004, 0.0004, 0.0004, 0.0004, 0.0004, 0.0004]],\n",
       " \n",
       "          [[0.0020, 0.0020, 0.0020, 0.0020, 0.0020, 0.0020, 0.0020, 0.0020],\n",
       "           [0.0020, 0.0020, 0.0020, 0.0020, 0.0020, 0.0020, 0.0020, 0.0020],\n",
       "           [0.0020, 0.0020, 0.0020, 0.0020, 0.0020, 0.0020, 0.0020, 0.0020],\n",
       "           [0.0020, 0.0020, 0.0020, 0.0020, 0.0020, 0.0020, 0.0020, 0.0020],\n",
       "           [0.0020, 0.0020, 0.0020, 0.0020, 0.0020, 0.0020, 0.0020, 0.0020],\n",
       "           [0.0020, 0.0020, 0.0020, 0.0020, 0.0020, 0.0020, 0.0020, 0.0020],\n",
       "           [0.0020, 0.0020, 0.0020, 0.0020, 0.0020, 0.0020, 0.0020, 0.0020],\n",
       "           [0.0020, 0.0020, 0.0020, 0.0020, 0.0020, 0.0020, 0.0020, 0.0020]]]],\n",
       "        grad_fn=<MulBackward0>))"
      ]
     },
     "execution_count": 32,
     "metadata": {},
     "output_type": "execute_result"
    }
   ],
   "source": [
    "att = q @ k.transpose(-2, -1) * scale\n",
    "att.shape, att"
   ]
  },
  {
   "cell_type": "markdown",
   "id": "895ae179-2f41-4831-a041-20e9229795e2",
   "metadata": {},
   "source": [
    "Now we have to apply the triangular mask.  This is where you can see causal attention removing the ability of each example looking at tokens beyond it's context to make predictions."
   ]
  },
  {
   "cell_type": "code",
   "execution_count": 33,
   "id": "c61088ff-e86a-4514-8cf1-bd771506f1d4",
   "metadata": {},
   "outputs": [
    {
     "data": {
      "text/plain": [
       "(torch.Size([2, 2, 8, 8]),\n",
       " tensor([[[[0.0004,   -inf,   -inf,   -inf,   -inf,   -inf,   -inf,   -inf],\n",
       "           [0.0004, 0.0004,   -inf,   -inf,   -inf,   -inf,   -inf,   -inf],\n",
       "           [0.0004, 0.0004, 0.0004,   -inf,   -inf,   -inf,   -inf,   -inf],\n",
       "           [0.0004, 0.0004, 0.0004, 0.0004,   -inf,   -inf,   -inf,   -inf],\n",
       "           [0.0004, 0.0004, 0.0004, 0.0004, 0.0004,   -inf,   -inf,   -inf],\n",
       "           [0.0004, 0.0004, 0.0004, 0.0004, 0.0004, 0.0004,   -inf,   -inf],\n",
       "           [0.0004, 0.0004, 0.0004, 0.0004, 0.0004, 0.0004, 0.0004,   -inf],\n",
       "           [0.0004, 0.0004, 0.0004, 0.0004, 0.0004, 0.0004, 0.0004, 0.0004]],\n",
       " \n",
       "          [[0.0020,   -inf,   -inf,   -inf,   -inf,   -inf,   -inf,   -inf],\n",
       "           [0.0020, 0.0020,   -inf,   -inf,   -inf,   -inf,   -inf,   -inf],\n",
       "           [0.0020, 0.0020, 0.0020,   -inf,   -inf,   -inf,   -inf,   -inf],\n",
       "           [0.0020, 0.0020, 0.0020, 0.0020,   -inf,   -inf,   -inf,   -inf],\n",
       "           [0.0020, 0.0020, 0.0020, 0.0020, 0.0020,   -inf,   -inf,   -inf],\n",
       "           [0.0020, 0.0020, 0.0020, 0.0020, 0.0020, 0.0020,   -inf,   -inf],\n",
       "           [0.0020, 0.0020, 0.0020, 0.0020, 0.0020, 0.0020, 0.0020,   -inf],\n",
       "           [0.0020, 0.0020, 0.0020, 0.0020, 0.0020, 0.0020, 0.0020, 0.0020]]],\n",
       " \n",
       " \n",
       "         [[[0.0004,   -inf,   -inf,   -inf,   -inf,   -inf,   -inf,   -inf],\n",
       "           [0.0004, 0.0004,   -inf,   -inf,   -inf,   -inf,   -inf,   -inf],\n",
       "           [0.0004, 0.0004, 0.0004,   -inf,   -inf,   -inf,   -inf,   -inf],\n",
       "           [0.0004, 0.0004, 0.0004, 0.0004,   -inf,   -inf,   -inf,   -inf],\n",
       "           [0.0004, 0.0004, 0.0004, 0.0004, 0.0004,   -inf,   -inf,   -inf],\n",
       "           [0.0004, 0.0004, 0.0004, 0.0004, 0.0004, 0.0004,   -inf,   -inf],\n",
       "           [0.0004, 0.0004, 0.0004, 0.0004, 0.0004, 0.0004, 0.0004,   -inf],\n",
       "           [0.0004, 0.0004, 0.0004, 0.0004, 0.0004, 0.0004, 0.0004, 0.0004]],\n",
       " \n",
       "          [[0.0020,   -inf,   -inf,   -inf,   -inf,   -inf,   -inf,   -inf],\n",
       "           [0.0020, 0.0020,   -inf,   -inf,   -inf,   -inf,   -inf,   -inf],\n",
       "           [0.0020, 0.0020, 0.0020,   -inf,   -inf,   -inf,   -inf,   -inf],\n",
       "           [0.0020, 0.0020, 0.0020, 0.0020,   -inf,   -inf,   -inf,   -inf],\n",
       "           [0.0020, 0.0020, 0.0020, 0.0020, 0.0020,   -inf,   -inf,   -inf],\n",
       "           [0.0020, 0.0020, 0.0020, 0.0020, 0.0020, 0.0020,   -inf,   -inf],\n",
       "           [0.0020, 0.0020, 0.0020, 0.0020, 0.0020, 0.0020, 0.0020,   -inf],\n",
       "           [0.0020, 0.0020, 0.0020, 0.0020, 0.0020, 0.0020, 0.0020, 0.0020]]]],\n",
       "        grad_fn=<MaskedFillBackward0>))"
      ]
     },
     "execution_count": 33,
     "metadata": {},
     "output_type": "execute_result"
    }
   ],
   "source": [
    "att = att.masked_fill(mask[:T, :T] == 0, float('-inf'))\n",
    "att.shape, att"
   ]
  },
  {
   "cell_type": "markdown",
   "id": "9feb3631-a77c-4cd0-b371-aa714f799c3d",
   "metadata": {},
   "source": [
    "Now we'll apply the softmax. Recall that softmax normalizes the probability per row by running the following: \n",
    "\n",
    "$\\frac{e^{x_i}}{\\sum_{j=1}^{n} e^{x_j}}$\n",
    "\n",
    "Because of this we can expect that the $-\\infty$ will become 0 due to their extreme weight, showing the power of the mask.  Also, now you'll see that each row changes in value since you have `n+1` elements in each row to distribute across. "
   ]
  },
  {
   "cell_type": "code",
   "execution_count": 34,
   "id": "30bda1a3-05c9-4303-9df8-44e0e1f43748",
   "metadata": {},
   "outputs": [
    {
     "data": {
      "text/plain": [
       "tensor([[[[1.0000, 0.0000, 0.0000, 0.0000, 0.0000, 0.0000, 0.0000, 0.0000],\n",
       "          [0.5000, 0.5000, 0.0000, 0.0000, 0.0000, 0.0000, 0.0000, 0.0000],\n",
       "          [0.3333, 0.3333, 0.3333, 0.0000, 0.0000, 0.0000, 0.0000, 0.0000],\n",
       "          [0.2500, 0.2500, 0.2500, 0.2500, 0.0000, 0.0000, 0.0000, 0.0000],\n",
       "          [0.2000, 0.2000, 0.2000, 0.2000, 0.2000, 0.0000, 0.0000, 0.0000],\n",
       "          [0.1667, 0.1667, 0.1667, 0.1667, 0.1667, 0.1667, 0.0000, 0.0000],\n",
       "          [0.1429, 0.1429, 0.1429, 0.1429, 0.1429, 0.1429, 0.1429, 0.0000],\n",
       "          [0.1250, 0.1250, 0.1250, 0.1250, 0.1250, 0.1250, 0.1250, 0.1250]],\n",
       "\n",
       "         [[1.0000, 0.0000, 0.0000, 0.0000, 0.0000, 0.0000, 0.0000, 0.0000],\n",
       "          [0.5000, 0.5000, 0.0000, 0.0000, 0.0000, 0.0000, 0.0000, 0.0000],\n",
       "          [0.3333, 0.3333, 0.3333, 0.0000, 0.0000, 0.0000, 0.0000, 0.0000],\n",
       "          [0.2500, 0.2500, 0.2500, 0.2500, 0.0000, 0.0000, 0.0000, 0.0000],\n",
       "          [0.2000, 0.2000, 0.2000, 0.2000, 0.2000, 0.0000, 0.0000, 0.0000],\n",
       "          [0.1667, 0.1667, 0.1667, 0.1667, 0.1667, 0.1667, 0.0000, 0.0000],\n",
       "          [0.1429, 0.1429, 0.1429, 0.1429, 0.1429, 0.1429, 0.1429, 0.0000],\n",
       "          [0.1250, 0.1250, 0.1250, 0.1250, 0.1250, 0.1250, 0.1250, 0.1250]]],\n",
       "\n",
       "\n",
       "        [[[1.0000, 0.0000, 0.0000, 0.0000, 0.0000, 0.0000, 0.0000, 0.0000],\n",
       "          [0.5000, 0.5000, 0.0000, 0.0000, 0.0000, 0.0000, 0.0000, 0.0000],\n",
       "          [0.3333, 0.3333, 0.3333, 0.0000, 0.0000, 0.0000, 0.0000, 0.0000],\n",
       "          [0.2500, 0.2500, 0.2500, 0.2500, 0.0000, 0.0000, 0.0000, 0.0000],\n",
       "          [0.2000, 0.2000, 0.2000, 0.2000, 0.2000, 0.0000, 0.0000, 0.0000],\n",
       "          [0.1667, 0.1667, 0.1667, 0.1667, 0.1667, 0.1667, 0.0000, 0.0000],\n",
       "          [0.1429, 0.1429, 0.1429, 0.1429, 0.1429, 0.1429, 0.1429, 0.0000],\n",
       "          [0.1250, 0.1250, 0.1250, 0.1250, 0.1250, 0.1250, 0.1250, 0.1250]],\n",
       "\n",
       "         [[1.0000, 0.0000, 0.0000, 0.0000, 0.0000, 0.0000, 0.0000, 0.0000],\n",
       "          [0.5000, 0.5000, 0.0000, 0.0000, 0.0000, 0.0000, 0.0000, 0.0000],\n",
       "          [0.3333, 0.3333, 0.3333, 0.0000, 0.0000, 0.0000, 0.0000, 0.0000],\n",
       "          [0.2500, 0.2500, 0.2500, 0.2500, 0.0000, 0.0000, 0.0000, 0.0000],\n",
       "          [0.2000, 0.2000, 0.2000, 0.2000, 0.2000, 0.0000, 0.0000, 0.0000],\n",
       "          [0.1667, 0.1667, 0.1667, 0.1667, 0.1667, 0.1667, 0.0000, 0.0000],\n",
       "          [0.1429, 0.1429, 0.1429, 0.1429, 0.1429, 0.1429, 0.1429, 0.0000],\n",
       "          [0.1250, 0.1250, 0.1250, 0.1250, 0.1250, 0.1250, 0.1250, 0.1250]]]],\n",
       "       grad_fn=<SoftmaxBackward0>)"
      ]
     },
     "execution_count": 34,
     "metadata": {},
     "output_type": "execute_result"
    }
   ],
   "source": [
    "att = F.softmax(att, dim=-1)\n",
    "att"
   ]
  },
  {
   "cell_type": "markdown",
   "id": "4179d8cf-6038-4fe5-825d-79929fd80ba8",
   "metadata": {},
   "source": [
    "After the softmax, we'll add dropout. This dropout will randomly zero out any value effectively removing that specific node from impacting prediction. To balance out the dropped out values, the surviving entries are scaled by $1/(1-p)$. During training this helps with generalizaiton and fights fixation. You'll need to look closely to identify the droped-out values. As a reminder, during inference we would skip dropout. "
   ]
  },
  {
   "cell_type": "code",
   "execution_count": 35,
   "id": "2641d433-16ae-48dd-9041-b72feb9ca74e",
   "metadata": {},
   "outputs": [
    {
     "data": {
      "text/plain": [
       "(torch.Size([2, 2, 8, 8]),\n",
       " tensor([[[[1.1111, 0.0000, 0.0000, 0.0000, 0.0000, 0.0000, 0.0000, 0.0000],\n",
       "           [0.5556, 0.5556, 0.0000, 0.0000, 0.0000, 0.0000, 0.0000, 0.0000],\n",
       "           [0.3704, 0.3704, 0.3704, 0.0000, 0.0000, 0.0000, 0.0000, 0.0000],\n",
       "           [0.2778, 0.0000, 0.2778, 0.2778, 0.0000, 0.0000, 0.0000, 0.0000],\n",
       "           [0.2222, 0.0000, 0.2222, 0.2222, 0.2222, 0.0000, 0.0000, 0.0000],\n",
       "           [0.1852, 0.1852, 0.1852, 0.1852, 0.1852, 0.1852, 0.0000, 0.0000],\n",
       "           [0.0000, 0.0000, 0.1587, 0.1587, 0.1587, 0.1587, 0.1587, 0.0000],\n",
       "           [0.1389, 0.1389, 0.1389, 0.1389, 0.1389, 0.1389, 0.1389, 0.1389]],\n",
       " \n",
       "          [[1.1111, 0.0000, 0.0000, 0.0000, 0.0000, 0.0000, 0.0000, 0.0000],\n",
       "           [0.5556, 0.0000, 0.0000, 0.0000, 0.0000, 0.0000, 0.0000, 0.0000],\n",
       "           [0.3704, 0.3704, 0.3704, 0.0000, 0.0000, 0.0000, 0.0000, 0.0000],\n",
       "           [0.2778, 0.2778, 0.2778, 0.2778, 0.0000, 0.0000, 0.0000, 0.0000],\n",
       "           [0.0000, 0.2222, 0.2222, 0.2222, 0.2222, 0.0000, 0.0000, 0.0000],\n",
       "           [0.1852, 0.1852, 0.1852, 0.1852, 0.1852, 0.1852, 0.0000, 0.0000],\n",
       "           [0.1587, 0.1587, 0.1587, 0.1587, 0.1587, 0.1587, 0.1587, 0.0000],\n",
       "           [0.1389, 0.1389, 0.1389, 0.1389, 0.1389, 0.1389, 0.1389, 0.1389]]],\n",
       " \n",
       " \n",
       "         [[[1.1111, 0.0000, 0.0000, 0.0000, 0.0000, 0.0000, 0.0000, 0.0000],\n",
       "           [0.5556, 0.5556, 0.0000, 0.0000, 0.0000, 0.0000, 0.0000, 0.0000],\n",
       "           [0.3704, 0.3704, 0.3704, 0.0000, 0.0000, 0.0000, 0.0000, 0.0000],\n",
       "           [0.2778, 0.0000, 0.2778, 0.2778, 0.0000, 0.0000, 0.0000, 0.0000],\n",
       "           [0.0000, 0.2222, 0.2222, 0.2222, 0.2222, 0.0000, 0.0000, 0.0000],\n",
       "           [0.1852, 0.1852, 0.1852, 0.1852, 0.1852, 0.1852, 0.0000, 0.0000],\n",
       "           [0.1587, 0.1587, 0.1587, 0.1587, 0.1587, 0.1587, 0.1587, 0.0000],\n",
       "           [0.1389, 0.1389, 0.1389, 0.1389, 0.1389, 0.1389, 0.1389, 0.1389]],\n",
       " \n",
       "          [[0.0000, 0.0000, 0.0000, 0.0000, 0.0000, 0.0000, 0.0000, 0.0000],\n",
       "           [0.5556, 0.5556, 0.0000, 0.0000, 0.0000, 0.0000, 0.0000, 0.0000],\n",
       "           [0.3704, 0.3704, 0.3704, 0.0000, 0.0000, 0.0000, 0.0000, 0.0000],\n",
       "           [0.0000, 0.0000, 0.2778, 0.2778, 0.0000, 0.0000, 0.0000, 0.0000],\n",
       "           [0.2222, 0.2222, 0.2222, 0.2222, 0.2222, 0.0000, 0.0000, 0.0000],\n",
       "           [0.1852, 0.1852, 0.0000, 0.1852, 0.1852, 0.1852, 0.0000, 0.0000],\n",
       "           [0.1587, 0.1587, 0.0000, 0.1587, 0.0000, 0.1587, 0.1587, 0.0000],\n",
       "           [0.1389, 0.1389, 0.1389, 0.1389, 0.0000, 0.1389, 0.1389, 0.1389]]]],\n",
       "        grad_fn=<MulBackward0>))"
      ]
     },
     "execution_count": 35,
     "metadata": {},
     "output_type": "execute_result"
    }
   ],
   "source": [
    "att = dropout(att)\n",
    "att.shape, att"
   ]
  },
  {
   "cell_type": "markdown",
   "id": "3da8dd5a-cd14-4726-930c-5e47bf09cc4a",
   "metadata": {},
   "source": [
    "Finally we now take the raw attention and use it to weight the values.  We'll take the matrix multiple of the attention with the values to create the flash-attention output. While we would expect the values for each exampl'es head to be the same given the input consistency of the query, key, and value, you can see that the dropout created enough noise to shift certain entries away from consistency. "
   ]
  },
  {
   "cell_type": "code",
   "execution_count": 36,
   "id": "0ae71420-fe18-48e4-80c5-a9f15295fc9e",
   "metadata": {},
   "outputs": [
    {
     "data": {
      "text/plain": [
       "(torch.Size([2, 2, 8, 2]),\n",
       " tensor([[[[0.0974, 0.1156],\n",
       "           [0.0974, 0.1156],\n",
       "           [0.0974, 0.1156],\n",
       "           [0.0731, 0.0867],\n",
       "           [0.0779, 0.0925],\n",
       "           [0.0974, 0.1156],\n",
       "           [0.0696, 0.0826],\n",
       "           [0.0974, 0.1156]],\n",
       " \n",
       "          [[0.1353, 0.1565],\n",
       "           [0.0677, 0.0782],\n",
       "           [0.1353, 0.1565],\n",
       "           [0.1353, 0.1565],\n",
       "           [0.1082, 0.1252],\n",
       "           [0.1353, 0.1565],\n",
       "           [0.1353, 0.1565],\n",
       "           [0.1353, 0.1565]]],\n",
       " \n",
       " \n",
       "         [[[0.0974, 0.1156],\n",
       "           [0.0974, 0.1156],\n",
       "           [0.0974, 0.1156],\n",
       "           [0.0731, 0.0867],\n",
       "           [0.0779, 0.0925],\n",
       "           [0.0974, 0.1156],\n",
       "           [0.0974, 0.1156],\n",
       "           [0.0974, 0.1156]],\n",
       " \n",
       "          [[0.0000, 0.0000],\n",
       "           [0.1353, 0.1565],\n",
       "           [0.1353, 0.1565],\n",
       "           [0.0677, 0.0782],\n",
       "           [0.1353, 0.1565],\n",
       "           [0.1128, 0.1304],\n",
       "           [0.0966, 0.1118],\n",
       "           [0.1184, 0.1369]]]], grad_fn=<UnsafeViewBackward0>))"
      ]
     },
     "execution_count": 36,
     "metadata": {},
     "output_type": "execute_result"
    }
   ],
   "source": [
    "fa = att @ v\n",
    "fa.shape, fa"
   ]
  },
  {
   "cell_type": "markdown",
   "id": "3305e2fe-00e2-4631-a937-978b9d60957c",
   "metadata": {},
   "source": [
    "**Flash Attention - collapse heads**  Now we'll reshape back to remove the heads\n",
    "\n",
    "*Note we use `contiguous` here to force `transpose()` to create a new matrix in memory. This allows the heads to learn independently*"
   ]
  },
  {
   "cell_type": "code",
   "execution_count": 37,
   "id": "f1331243-d917-45ef-9f1c-10f5bb24fe33",
   "metadata": {},
   "outputs": [
    {
     "data": {
      "text/plain": [
       "(torch.Size([2, 8, 4]),\n",
       " tensor([[[0.0974, 0.1156, 0.1353, 0.1565],\n",
       "          [0.0974, 0.1156, 0.0677, 0.0782],\n",
       "          [0.0974, 0.1156, 0.1353, 0.1565],\n",
       "          [0.0731, 0.0867, 0.1353, 0.1565],\n",
       "          [0.0779, 0.0925, 0.1082, 0.1252],\n",
       "          [0.0974, 0.1156, 0.1353, 0.1565],\n",
       "          [0.0696, 0.0826, 0.1353, 0.1565],\n",
       "          [0.0974, 0.1156, 0.1353, 0.1565]],\n",
       " \n",
       "         [[0.0974, 0.1156, 0.0000, 0.0000],\n",
       "          [0.0974, 0.1156, 0.1353, 0.1565],\n",
       "          [0.0974, 0.1156, 0.1353, 0.1565],\n",
       "          [0.0731, 0.0867, 0.0677, 0.0782],\n",
       "          [0.0779, 0.0925, 0.1353, 0.1565],\n",
       "          [0.0974, 0.1156, 0.1128, 0.1304],\n",
       "          [0.0974, 0.1156, 0.0966, 0.1118],\n",
       "          [0.0974, 0.1156, 0.1184, 0.1369]]], grad_fn=<ViewBackward0>))"
      ]
     },
     "execution_count": 37,
     "metadata": {},
     "output_type": "execute_result"
    }
   ],
   "source": [
    "fa = fa.transpose(1, 2).contiguous().view(B, T, C)\n",
    "fa.shape, fa"
   ]
  },
  {
   "cell_type": "markdown",
   "id": "c023e209-4e96-46c2-9f24-b0c6117fe650",
   "metadata": {},
   "source": [
    "**Flash Attention - final projection and output**\n",
    "Finally, we will now project the cross attention matrix on another final linear layer `n_embd x n_embd` that we initialized as `c_proj`.  Once agian, because our rows are identical (where not impacted by dropout) and we use `c_attn` $y=x\\_norm \\cdot c\\_proj^\\top + b$ we will result in the same values, except for where dropout has impacted the values. Note that currently bias is 0 so it is not impacting the values. "
   ]
  },
  {
   "cell_type": "code",
   "execution_count": 38,
   "id": "a36fb4f0-481b-4638-b376-2ca6bf0d5e70",
   "metadata": {},
   "outputs": [
    {
     "data": {
      "text/plain": [
       "(torch.Size([2, 8, 4]),\n",
       " tensor([[[0.0014, 0.0031, 0.0053, 0.0079],\n",
       "          [0.0008, 0.0020, 0.0033, 0.0049],\n",
       "          [0.0014, 0.0031, 0.0053, 0.0079],\n",
       "          [0.0013, 0.0029, 0.0050, 0.0074],\n",
       "          [0.0011, 0.0025, 0.0042, 0.0063],\n",
       "          [0.0014, 0.0031, 0.0053, 0.0079],\n",
       "          [0.0013, 0.0029, 0.0049, 0.0073],\n",
       "          [0.0014, 0.0031, 0.0053, 0.0079]],\n",
       " \n",
       "         [[0.0003, 0.0008, 0.0013, 0.0020],\n",
       "          [0.0014, 0.0031, 0.0053, 0.0079],\n",
       "          [0.0014, 0.0031, 0.0053, 0.0079],\n",
       "          [0.0008, 0.0018, 0.0030, 0.0044],\n",
       "          [0.0013, 0.0030, 0.0050, 0.0075],\n",
       "          [0.0012, 0.0027, 0.0046, 0.0069],\n",
       "          [0.0011, 0.0025, 0.0042, 0.0062],\n",
       "          [0.0012, 0.0028, 0.0048, 0.0072]]], grad_fn=<ViewBackward0>))"
      ]
     },
     "execution_count": 38,
     "metadata": {},
     "output_type": "execute_result"
    }
   ],
   "source": [
    "x_norm = c_proj(fa)\n",
    "x_norm.shape, x_norm"
   ]
  },
  {
   "cell_type": "markdown",
   "id": "4d5ece0b-3a38-44d2-9fcc-cc9a01ea9eaa",
   "metadata": {},
   "source": [
    "#### Transformer - Residual (skip) connection"
   ]
  },
  {
   "attachments": {},
   "cell_type": "markdown",
   "id": "24d8108a-616b-4d56-a3a0-c333430b924c",
   "metadata": {},
   "source": [
    "<img src=\"explainer_screenshots/gpt/skip_layer.png\" width=\"200\">\n",
    "Modern networks also use skip connections, meaning they allow for pathways to bypass around \"boxes\", passing through gradients during the backward pass.  This attribute ensures that the impact of each layer and head is normalized against the input embeddings themselves. Recall in the diagram we had the arrow that bypassed \"masked multiheaded attention\".  Functionally this is represented as\n",
    "\n",
    "$y = f(x) + x$\n",
    "\n",
    "To achieve this we simply sum the projection matrix `x` with the flash attention output `x_norm`.  As a reminder we'll print out X.  As you can see, because `x` was based on the tokens, it has a different value per row, so even though `x_norm` has mostly the same value per row, we'll result in a diverse set of weights.  With this you can see the power of skip connections passing through weights."
   ]
  },
  {
   "cell_type": "code",
   "execution_count": 39,
   "id": "ecc71ade-9154-481e-935c-f5d077a3b549",
   "metadata": {},
   "outputs": [
    {
     "data": {
      "text/plain": [
       "tensor([[[0.3700, 0.3900, 0.4100, 0.4300],\n",
       "         [0.1800, 0.2000, 0.2200, 0.2400],\n",
       "         [0.3600, 0.3800, 0.4000, 0.4200],\n",
       "         [0.1400, 0.1600, 0.1800, 0.2000],\n",
       "         [0.1100, 0.1300, 0.1500, 0.1700],\n",
       "         [0.2700, 0.2900, 0.3100, 0.3300],\n",
       "         [0.3800, 0.4000, 0.4200, 0.4400],\n",
       "         [0.2400, 0.2600, 0.2800, 0.3000]],\n",
       "\n",
       "        [[0.1300, 0.1500, 0.1700, 0.1900],\n",
       "         [0.1200, 0.1400, 0.1600, 0.1800],\n",
       "         [0.1000, 0.1200, 0.1400, 0.1600],\n",
       "         [0.2500, 0.2700, 0.2900, 0.3100],\n",
       "         [0.1100, 0.1300, 0.1500, 0.1700],\n",
       "         [0.0700, 0.0900, 0.1100, 0.1300],\n",
       "         [0.2100, 0.2300, 0.2500, 0.2700],\n",
       "         [0.3000, 0.3200, 0.3400, 0.3600]]], grad_fn=<AddBackward0>)"
      ]
     },
     "execution_count": 39,
     "metadata": {},
     "output_type": "execute_result"
    }
   ],
   "source": [
    "x"
   ]
  },
  {
   "cell_type": "code",
   "execution_count": 40,
   "id": "9c5bc275-e624-47ac-8958-735e3227b239",
   "metadata": {},
   "outputs": [
    {
     "data": {
      "text/plain": [
       "(torch.Size([2, 8, 4]),\n",
       " tensor([[[0.3714, 0.3931, 0.4153, 0.4379],\n",
       "          [0.1808, 0.2020, 0.2233, 0.2449],\n",
       "          [0.3614, 0.3831, 0.4053, 0.4279],\n",
       "          [0.1413, 0.1629, 0.1850, 0.2074],\n",
       "          [0.1111, 0.1325, 0.1542, 0.1763],\n",
       "          [0.2714, 0.2931, 0.3153, 0.3379],\n",
       "          [0.3813, 0.4029, 0.4249, 0.4473],\n",
       "          [0.2414, 0.2631, 0.2853, 0.3079]],\n",
       " \n",
       "         [[0.1303, 0.1508, 0.1713, 0.1920],\n",
       "          [0.1214, 0.1431, 0.1653, 0.1879],\n",
       "          [0.1014, 0.1231, 0.1453, 0.1679],\n",
       "          [0.2508, 0.2718, 0.2930, 0.3144],\n",
       "          [0.1113, 0.1330, 0.1550, 0.1775],\n",
       "          [0.0712, 0.0927, 0.1146, 0.1369],\n",
       "          [0.2111, 0.2325, 0.2542, 0.2762],\n",
       "          [0.3012, 0.3228, 0.3448, 0.3672]]], grad_fn=<AddBackward0>))"
      ]
     },
     "execution_count": 40,
     "metadata": {},
     "output_type": "execute_result"
    }
   ],
   "source": [
    "x = x + x_norm\n",
    "x.shape, x"
   ]
  },
  {
   "cell_type": "markdown",
   "id": "c958bfe1-5bac-4d7d-80fe-585f915dbffb",
   "metadata": {},
   "source": [
    "#### Transformer - Layer Normalization 2"
   ]
  },
  {
   "cell_type": "markdown",
   "id": "c3cb3d5d-98f0-4c80-b0c0-e600c915b2c2",
   "metadata": {},
   "source": [
    "We'll run another round of normalization now on the outputs of the masked multi-head attention and skip connection to ensure our values are not too spread apart. This layer will run the same normalization formula as before, but is it's own independent layer as it has different inputs. Recall the formula is: \n",
    "\n",
    "$y = \\frac{x - \\mathbb{E}[x]}{\\sqrt{\\operatorname{Var}[x] + \\epsilon}}\\$\n",
    "\n",
    "Because we will do a skip connection again for the next layer, MLP, we'll once again branch `x` for the normalization and MLP and then sum it back togehter with `x`. \n",
    "\n",
    "While before normalization brought the values back to the same identical values, now you'll see ever so slight variance.  This is the impact of dropout starting to show. "
   ]
  },
  {
   "cell_type": "code",
   "execution_count": 41,
   "id": "bc3b130a-fb31-442b-a66e-ad44e75ab00d",
   "metadata": {},
   "outputs": [],
   "source": [
    "ln_2 = nn.LayerNorm(n_embd)"
   ]
  },
  {
   "cell_type": "code",
   "execution_count": 42,
   "id": "1529dc49-c8c2-409f-ac41-97cceca40030",
   "metadata": {},
   "outputs": [
    {
     "data": {
      "text/plain": [
       "(torch.Size([2, 8, 4]),\n",
       " tensor([[[-1.3227, -0.4518,  0.4355,  1.3390],\n",
       "          [-1.3246, -0.4488,  0.4379,  1.3354],\n",
       "          [-1.3227, -0.4518,  0.4355,  1.3390],\n",
       "          [-1.3231, -0.4512,  0.4359,  1.3383],\n",
       "          [-1.3238, -0.4501,  0.4368,  1.3370],\n",
       "          [-1.3227, -0.4518,  0.4355,  1.3390],\n",
       "          [-1.3231, -0.4511,  0.4360,  1.3382],\n",
       "          [-1.3227, -0.4518,  0.4355,  1.3390]],\n",
       " \n",
       "         [[-1.3266, -0.4455,  0.4405,  1.3316],\n",
       "          [-1.3227, -0.4518,  0.4355,  1.3390],\n",
       "          [-1.3227, -0.4518,  0.4355,  1.3390],\n",
       "          [-1.3250, -0.4481,  0.4384,  1.3347],\n",
       "          [-1.3230, -0.4513,  0.4358,  1.3384],\n",
       "          [-1.3233, -0.4508,  0.4363,  1.3378],\n",
       "          [-1.3238, -0.4501,  0.4368,  1.3370],\n",
       "          [-1.3231, -0.4510,  0.4361,  1.3381]]],\n",
       "        grad_fn=<NativeLayerNormBackward0>))"
      ]
     },
     "execution_count": 42,
     "metadata": {},
     "output_type": "execute_result"
    }
   ],
   "source": [
    "x_norm_2 = ln_2(x)\n",
    "x_norm_2.shape, x_norm_2"
   ]
  },
  {
   "cell_type": "markdown",
   "id": "f8ca684f-4d15-409b-889f-781a39170b32",
   "metadata": {},
   "source": [
    "#### Transformer - Feed Forward (aka Multi-layer Perceptron)"
   ]
  },
  {
   "attachments": {},
   "cell_type": "markdown",
   "id": "bd73af80-ed3e-4353-8450-5f7f62da5cde",
   "metadata": {
    "jp-MarkdownHeadingCollapsed": true
   },
   "source": [
    "<img src=\"explainer_screenshots/gpt/mlp.png\" width=\"400\">\n",
    "\n",
    "The feed-forward sublayer consists of two-layer mirroring a multi-layer perceptron, MLP.  These layers mix the features within each token vector but never across time. The output `x` from multi-headed attention starts as `B x T x C`.  Feed forward \n",
    "1. Calculates `4C` using a $XA^\\top + B$ linear layer \n",
    "2. Normalizes the data using a `tanh` based GELU layer. This layer pushes extreme values to +/- 1\n",
    "3. Projects back down to `C` with a final $XW^\\top + B$ linear layer.\n",
    "\n",
    "The MLP nonlinearly re-expresses each token's channel features before being aggregated across the hidden layers and passed to the output layer. "
   ]
  },
  {
   "cell_type": "markdown",
   "id": "ea9efc46-5aec-4bea-8169-7c2302385aa2",
   "metadata": {},
   "source": [
    "We'll first start by creating the 3 different layers:\n",
    "1. `mlp_fc` - Linear layer to project up to `4C`\n",
    "2. `mlp_gelu` - gelu approximation using tanh layer\n",
    "3. `mlp_proj` - Linear layer to project down to `C`\n",
    "\n",
    "We'll do similar initiation to our linear layers as before. Since the tanh step is a calculation per row (similar to layer normalization), we will not do initiation for it."
   ]
  },
  {
   "cell_type": "code",
   "execution_count": 43,
   "id": "2ca50703-eb86-4945-ad25-eab514ba66d9",
   "metadata": {},
   "outputs": [
    {
     "data": {
      "text/plain": [
       "(torch.Size([16, 4]),\n",
       " Parameter containing:\n",
       " tensor([[0.0010, 0.0020, 0.0030, 0.0040],\n",
       "         [0.0020, 0.0050, 0.0070, 0.0090],\n",
       "         [0.0030, 0.0090, 0.0120, 0.0150],\n",
       "         [0.0040, 0.0140, 0.0180, 0.0220],\n",
       "         [0.0050, 0.0200, 0.0250, 0.0300],\n",
       "         [0.0060, 0.0270, 0.0330, 0.0390],\n",
       "         [0.0070, 0.0350, 0.0420, 0.0490],\n",
       "         [0.0080, 0.0440, 0.0520, 0.0600],\n",
       "         [0.0090, 0.0540, 0.0630, 0.0720],\n",
       "         [0.0100, 0.0650, 0.0750, 0.0850],\n",
       "         [0.0110, 0.0770, 0.0880, 0.0990],\n",
       "         [0.0120, 0.0900, 0.1020, 0.1140],\n",
       "         [0.0130, 0.1040, 0.1170, 0.1300],\n",
       "         [0.0140, 0.1190, 0.1330, 0.1470],\n",
       "         [0.0150, 0.1350, 0.1500, 0.1650],\n",
       "         [0.0160, 0.1520, 0.1680, 0.1840]], requires_grad=True))"
      ]
     },
     "execution_count": 43,
     "metadata": {},
     "output_type": "execute_result"
    }
   ],
   "source": [
    "mlp_fc = nn.Linear(n_embd, 4 * n_embd)\n",
    "\n",
    "with torch.no_grad():\n",
    "    out, inp = mlp_fc.weight.shape  # (3*n_embd, n_embd)\n",
    "    r = torch.arange(1, out + 1).unsqueeze(1)  # [out,1], 1-indexed\n",
    "    c = torch.arange(1, inp + 1).unsqueeze(0)   # [1,inp], 1-indexed\n",
    "    base = r * c                          # rc\n",
    "    tri = r * (r - 1) / 2                 # T_{r-1} = r(r-1)/2, shape [out,1]\n",
    "    mask = (c >= 2)           # add T_{r-1} only from column 2 onward\n",
    "    pattern = 1e-3 * (base + tri * mask) # matches [[.001,.002,.003],[.002,.005,.007],[.003,.009,.012],...]\n",
    "    mlp_fc.weight.copy_(pattern)\n",
    "\n",
    "mlp_fc.weight.shape, mlp_fc.weight"
   ]
  },
  {
   "cell_type": "code",
   "execution_count": 44,
   "id": "2fc7f2a9-b7bb-4d13-b342-50bd9a9cb978",
   "metadata": {},
   "outputs": [
    {
     "data": {
      "text/plain": [
       "GELU(approximate='tanh')"
      ]
     },
     "execution_count": 44,
     "metadata": {},
     "output_type": "execute_result"
    }
   ],
   "source": [
    "mlp_gelu = nn.GELU(approximate='tanh')\n",
    "mlp_gelu"
   ]
  },
  {
   "cell_type": "code",
   "execution_count": 45,
   "id": "0232f666-9a5e-4d13-b566-4db54f4757f8",
   "metadata": {},
   "outputs": [
    {
     "data": {
      "text/plain": [
       "(torch.Size([4, 16]),\n",
       " Parameter containing:\n",
       " tensor([[0.0010, 0.0020, 0.0030, 0.0040, 0.0050, 0.0060, 0.0070, 0.0080, 0.0090,\n",
       "          0.0100, 0.0110, 0.0120, 0.0130, 0.0140, 0.0150, 0.0160],\n",
       "         [0.0020, 0.0050, 0.0070, 0.0090, 0.0110, 0.0130, 0.0150, 0.0170, 0.0190,\n",
       "          0.0210, 0.0230, 0.0250, 0.0270, 0.0290, 0.0310, 0.0330],\n",
       "         [0.0030, 0.0090, 0.0120, 0.0150, 0.0180, 0.0210, 0.0240, 0.0270, 0.0300,\n",
       "          0.0330, 0.0360, 0.0390, 0.0420, 0.0450, 0.0480, 0.0510],\n",
       "         [0.0040, 0.0140, 0.0180, 0.0220, 0.0260, 0.0300, 0.0340, 0.0380, 0.0420,\n",
       "          0.0460, 0.0500, 0.0540, 0.0580, 0.0620, 0.0660, 0.0700]],\n",
       "        requires_grad=True))"
      ]
     },
     "execution_count": 45,
     "metadata": {},
     "output_type": "execute_result"
    }
   ],
   "source": [
    "mlp_proj = nn.Linear(4 * n_embd, n_embd)\n",
    "\n",
    "with torch.no_grad():\n",
    "    out, inp = mlp_proj.weight.shape  # (3*n_embd, n_embd)\n",
    "    r = torch.arange(1, out + 1).unsqueeze(1)  # [out,1], 1-indexed\n",
    "    c = torch.arange(1, inp + 1).unsqueeze(0)   # [1,inp], 1-indexed\n",
    "    base = r * c                          # rc\n",
    "    tri = r * (r - 1) / 2                 # T_{r-1} = r(r-1)/2, shape [out,1]\n",
    "    mask = (c >= 2)           # add T_{r-1} only from column 2 onward\n",
    "    pattern = 1e-3 * (base + tri * mask) # matches [[.001,.002,.003],[.002,.005,.007],[.003,.009,.012],...]\n",
    "    mlp_proj.weight.copy_(pattern)\n",
    "\n",
    "mlp_proj.weight.shape, mlp_proj.weight"
   ]
  },
  {
   "cell_type": "markdown",
   "id": "6ad01ac2-6018-48bb-917c-1b2d293b056c",
   "metadata": {},
   "source": [
    "**MLP - 4c projection**  - Now we'll take `x_norm_2` and apply the first linear layer that projects upward to `4C`.  Reminder that the  calculation is $x\\_mlp = x\\_norm\\_2 \\cdot mlp\\_fc^\\top + b$. Once again we'll see a repetition of many values in `x_mlp` as the rows in `x_norm_2` are close to the same."
   ]
  },
  {
   "cell_type": "code",
   "execution_count": 46,
   "id": "f6d86c8c-1003-48c1-9617-de556aaed302",
   "metadata": {
    "scrolled": true
   },
   "outputs": [
    {
     "data": {
      "text/plain": [
       "(torch.Size([2, 8, 16]),\n",
       " tensor([[[ 0.1248,  0.3857,  0.3960, -0.2152, -0.0158,  0.0739,  0.1779,\n",
       "            0.2909,  0.5819, -0.1378, -0.0966,  0.4029,  0.1428,  0.0509,\n",
       "            0.2433,  0.1538],\n",
       "          [ 0.1248,  0.3857,  0.3960, -0.2152, -0.0158,  0.0739,  0.1779,\n",
       "            0.2909,  0.5819, -0.1377, -0.0965,  0.4030,  0.1429,  0.0511,\n",
       "            0.2434,  0.1540],\n",
       "          [ 0.1248,  0.3857,  0.3960, -0.2152, -0.0158,  0.0739,  0.1779,\n",
       "            0.2909,  0.5819, -0.1378, -0.0966,  0.4029,  0.1428,  0.0509,\n",
       "            0.2433,  0.1538],\n",
       "          [ 0.1248,  0.3857,  0.3960, -0.2152, -0.0158,  0.0739,  0.1779,\n",
       "            0.2909,  0.5819, -0.1378, -0.0966,  0.4029,  0.1429,  0.0510,\n",
       "            0.2433,  0.1538],\n",
       "          [ 0.1248,  0.3857,  0.3960, -0.2152, -0.0158,  0.0739,  0.1779,\n",
       "            0.2909,  0.5819, -0.1378, -0.0966,  0.4030,  0.1429,  0.0510,\n",
       "            0.2434,  0.1539],\n",
       "          [ 0.1248,  0.3857,  0.3960, -0.2152, -0.0158,  0.0739,  0.1779,\n",
       "            0.2909,  0.5819, -0.1378, -0.0966,  0.4029,  0.1428,  0.0509,\n",
       "            0.2433,  0.1538],\n",
       "          [ 0.1248,  0.3857,  0.3960, -0.2152, -0.0158,  0.0739,  0.1779,\n",
       "            0.2909,  0.5819, -0.1378, -0.0966,  0.4029,  0.1429,  0.0510,\n",
       "            0.2433,  0.1538],\n",
       "          [ 0.1248,  0.3857,  0.3960, -0.2152, -0.0158,  0.0739,  0.1779,\n",
       "            0.2909,  0.5819, -0.1378, -0.0966,  0.4029,  0.1428,  0.0509,\n",
       "            0.2433,  0.1538]],\n",
       " \n",
       "         [[ 0.1248,  0.3857,  0.3960, -0.2152, -0.0158,  0.0739,  0.1779,\n",
       "            0.2910,  0.5820, -0.1377, -0.0964,  0.4031,  0.1431,  0.0512,\n",
       "            0.2436,  0.1542],\n",
       "          [ 0.1248,  0.3857,  0.3960, -0.2152, -0.0158,  0.0739,  0.1779,\n",
       "            0.2909,  0.5819, -0.1378, -0.0966,  0.4029,  0.1428,  0.0509,\n",
       "            0.2433,  0.1538],\n",
       "          [ 0.1248,  0.3857,  0.3960, -0.2152, -0.0158,  0.0739,  0.1779,\n",
       "            0.2909,  0.5819, -0.1378, -0.0966,  0.4029,  0.1428,  0.0509,\n",
       "            0.2433,  0.1538],\n",
       "          [ 0.1248,  0.3857,  0.3960, -0.2152, -0.0158,  0.0739,  0.1779,\n",
       "            0.2910,  0.5819, -0.1377, -0.0965,  0.4030,  0.1430,  0.0511,\n",
       "            0.2435,  0.1540],\n",
       "          [ 0.1248,  0.3857,  0.3960, -0.2152, -0.0158,  0.0739,  0.1779,\n",
       "            0.2909,  0.5819, -0.1378, -0.0966,  0.4029,  0.1429,  0.0510,\n",
       "            0.2433,  0.1538],\n",
       "          [ 0.1248,  0.3857,  0.3960, -0.2152, -0.0158,  0.0739,  0.1779,\n",
       "            0.2909,  0.5819, -0.1378, -0.0966,  0.4029,  0.1429,  0.0510,\n",
       "            0.2433,  0.1538],\n",
       "          [ 0.1248,  0.3857,  0.3960, -0.2152, -0.0158,  0.0739,  0.1779,\n",
       "            0.2909,  0.5819, -0.1378, -0.0966,  0.4030,  0.1429,  0.0510,\n",
       "            0.2434,  0.1539],\n",
       "          [ 0.1248,  0.3857,  0.3960, -0.2152, -0.0158,  0.0739,  0.1779,\n",
       "            0.2909,  0.5819, -0.1378, -0.0966,  0.4029,  0.1429,  0.0510,\n",
       "            0.2433,  0.1538]]], grad_fn=<ViewBackward0>))"
      ]
     },
     "execution_count": 46,
     "metadata": {},
     "output_type": "execute_result"
    }
   ],
   "source": [
    "x_mlp = mlp_fc(x_norm_2)\n",
    "x_mlp.shape, x_mlp"
   ]
  },
  {
   "cell_type": "markdown",
   "id": "e86159a6-dbeb-48f4-9e79-1e9a74577496",
   "metadata": {},
   "source": [
    "**MLP - tanh**  - Now we'll apply the tanh approximation (GELU - tanh) which smoothly gates each input `x_mlp`. The formula applied is \n",
    "\n",
    "$\\tanh(x)=\\frac{\\exp(x)-\\exp(-x)}{\\exp(x)+\\exp(-x)}$\n",
    "\n",
    "The Tanh formula pushes large positive numbers to 1 and large negative numbers to -1.  `tanh` is applied element wise across the full `x_mlp`.  This will further smooth out the differences we've seen given how minor they are. "
   ]
  },
  {
   "cell_type": "code",
   "execution_count": 47,
   "id": "a089adf6-8301-4b09-9c7e-647bdb750041",
   "metadata": {
    "scrolled": true
   },
   "outputs": [
    {
     "data": {
      "text/plain": [
       "(torch.Size([2, 8, 16]),\n",
       " tensor([[[ 0.0686,  0.2507,  0.2590, -0.0893, -0.0078,  0.0391,  0.1015,\n",
       "            0.1787,  0.4187, -0.0613, -0.0446,  0.2645,  0.0795,  0.0265,\n",
       "            0.1450,  0.0863],\n",
       "          [ 0.0686,  0.2507,  0.2590, -0.0893, -0.0078,  0.0391,  0.1015,\n",
       "            0.1788,  0.4188, -0.0613, -0.0446,  0.2646,  0.0796,  0.0266,\n",
       "            0.1451,  0.0864],\n",
       "          [ 0.0686,  0.2507,  0.2590, -0.0893, -0.0078,  0.0391,  0.1015,\n",
       "            0.1787,  0.4187, -0.0613, -0.0446,  0.2645,  0.0795,  0.0265,\n",
       "            0.1450,  0.0863],\n",
       "          [ 0.0686,  0.2507,  0.2590, -0.0893, -0.0078,  0.0391,  0.1015,\n",
       "            0.1788,  0.4187, -0.0613, -0.0446,  0.2645,  0.0795,  0.0265,\n",
       "            0.1450,  0.0863],\n",
       "          [ 0.0686,  0.2507,  0.2590, -0.0893, -0.0078,  0.0391,  0.1015,\n",
       "            0.1788,  0.4188, -0.0613, -0.0446,  0.2645,  0.0796,  0.0265,\n",
       "            0.1451,  0.0863],\n",
       "          [ 0.0686,  0.2507,  0.2590, -0.0893, -0.0078,  0.0391,  0.1015,\n",
       "            0.1787,  0.4187, -0.0613, -0.0446,  0.2645,  0.0795,  0.0265,\n",
       "            0.1450,  0.0863],\n",
       "          [ 0.0686,  0.2507,  0.2590, -0.0893, -0.0078,  0.0391,  0.1015,\n",
       "            0.1788,  0.4187, -0.0613, -0.0446,  0.2645,  0.0795,  0.0265,\n",
       "            0.1450,  0.0863],\n",
       "          [ 0.0686,  0.2507,  0.2590, -0.0893, -0.0078,  0.0391,  0.1015,\n",
       "            0.1787,  0.4187, -0.0613, -0.0446,  0.2645,  0.0795,  0.0265,\n",
       "            0.1450,  0.0863]],\n",
       " \n",
       "         [[ 0.0686,  0.2507,  0.2589, -0.0893, -0.0078,  0.0391,  0.1015,\n",
       "            0.1788,  0.4188, -0.0613, -0.0445,  0.2647,  0.0797,  0.0267,\n",
       "            0.1452,  0.0865],\n",
       "          [ 0.0686,  0.2507,  0.2590, -0.0893, -0.0078,  0.0391,  0.1015,\n",
       "            0.1787,  0.4187, -0.0613, -0.0446,  0.2645,  0.0795,  0.0265,\n",
       "            0.1450,  0.0863],\n",
       "          [ 0.0686,  0.2507,  0.2590, -0.0893, -0.0078,  0.0391,  0.1015,\n",
       "            0.1787,  0.4187, -0.0613, -0.0446,  0.2645,  0.0795,  0.0265,\n",
       "            0.1450,  0.0863],\n",
       "          [ 0.0686,  0.2507,  0.2590, -0.0893, -0.0078,  0.0391,  0.1015,\n",
       "            0.1788,  0.4188, -0.0613, -0.0445,  0.2646,  0.0796,  0.0266,\n",
       "            0.1452,  0.0864],\n",
       "          [ 0.0686,  0.2507,  0.2590, -0.0893, -0.0078,  0.0391,  0.1015,\n",
       "            0.1788,  0.4187, -0.0613, -0.0446,  0.2645,  0.0795,  0.0265,\n",
       "            0.1450,  0.0863],\n",
       "          [ 0.0686,  0.2507,  0.2590, -0.0893, -0.0078,  0.0391,  0.1015,\n",
       "            0.1788,  0.4188, -0.0613, -0.0446,  0.2645,  0.0796,  0.0265,\n",
       "            0.1451,  0.0863],\n",
       "          [ 0.0686,  0.2507,  0.2590, -0.0893, -0.0078,  0.0391,  0.1015,\n",
       "            0.1788,  0.4188, -0.0613, -0.0446,  0.2645,  0.0796,  0.0265,\n",
       "            0.1451,  0.0863],\n",
       "          [ 0.0686,  0.2507,  0.2590, -0.0893, -0.0078,  0.0391,  0.1015,\n",
       "            0.1788,  0.4187, -0.0613, -0.0446,  0.2645,  0.0795,  0.0265,\n",
       "            0.1450,  0.0863]]], grad_fn=<GeluBackward0>))"
      ]
     },
     "execution_count": 47,
     "metadata": {},
     "output_type": "execute_result"
    }
   ],
   "source": [
    "x_mlp = mlp_gelu(x_mlp)\n",
    "x_mlp.shape, x_mlp"
   ]
  },
  {
   "cell_type": "markdown",
   "id": "ef4b0108-4a93-4231-bd9f-05da60815e9c",
   "metadata": {},
   "source": [
    "**MLP - down projection**  - Finally we'll take `x_mlp` and project `4C` back down to `C` using the weights in `mlp_proj`. Recall that we apply $x\\_mlp = x\\_mlp\\_2 \\cdot mlp\\_proj^\\top$.  Even though the layer weights are `4x16` the transpose in $XW^\\top + B$ allows to project back down. We'll recover a lot of the row repetion though this process as we get further from the dropout."
   ]
  },
  {
   "cell_type": "code",
   "execution_count": 48,
   "id": "fe0d6434-43d2-46c7-bd18-c6e659205b5f",
   "metadata": {},
   "outputs": [
    {
     "data": {
      "text/plain": [
       "(torch.Size([2, 8, 4]),\n",
       " tensor([[[0.1032, 0.1714, 0.1054, 0.0140],\n",
       "          [0.1032, 0.1715, 0.1055, 0.0140],\n",
       "          [0.1032, 0.1714, 0.1054, 0.0140],\n",
       "          [0.1032, 0.1714, 0.1054, 0.0140],\n",
       "          [0.1032, 0.1714, 0.1054, 0.0140],\n",
       "          [0.1032, 0.1714, 0.1054, 0.0140],\n",
       "          [0.1032, 0.1714, 0.1054, 0.0140],\n",
       "          [0.1032, 0.1714, 0.1054, 0.0140]],\n",
       " \n",
       "         [[0.1032, 0.1715, 0.1055, 0.0141],\n",
       "          [0.1032, 0.1714, 0.1054, 0.0140],\n",
       "          [0.1032, 0.1714, 0.1054, 0.0140],\n",
       "          [0.1032, 0.1715, 0.1055, 0.0141],\n",
       "          [0.1032, 0.1714, 0.1054, 0.0140],\n",
       "          [0.1032, 0.1714, 0.1054, 0.0140],\n",
       "          [0.1032, 0.1714, 0.1054, 0.0140],\n",
       "          [0.1032, 0.1714, 0.1054, 0.0140]]], grad_fn=<ViewBackward0>))"
      ]
     },
     "execution_count": 48,
     "metadata": {},
     "output_type": "execute_result"
    }
   ],
   "source": [
    "x_mlp = mlp_proj(x_mlp)\n",
    "x_mlp.shape, x_mlp"
   ]
  },
  {
   "cell_type": "markdown",
   "id": "fa6a61c0-d1c8-4820-8744-1de06d820269",
   "metadata": {},
   "source": [
    "#### Transformer - Residual (skip) connection 2"
   ]
  },
  {
   "cell_type": "markdown",
   "id": "13b46b76-7fef-4c2f-8bd2-a86d8da405b6",
   "metadata": {},
   "source": [
    "Once again our transformer uses a skip connection to allow for passing gradients through the Feed Forward, aka MLP, layer. Just like the first skip connection, functionally this is represented as\n",
    "\n",
    "$y = f(x) + x$\n",
    "\n",
    "To achieve this we simply sum the MLP input matrix `x` with the MLP output `x_mlp`.  As a reminder we'll print out `x`.  As you can see, because `x` was based on the tokens, it has a different value per row, so even though `x_mlp` has the same value per row, we'll result in a diverse set of weights.  With this you can see the power of skip connections passing through weights."
   ]
  },
  {
   "cell_type": "code",
   "execution_count": 49,
   "id": "2c773183-3483-4b3b-bbaa-4505072cfc60",
   "metadata": {},
   "outputs": [
    {
     "data": {
      "text/plain": [
       "tensor([[[0.3714, 0.3931, 0.4153, 0.4379],\n",
       "         [0.1808, 0.2020, 0.2233, 0.2449],\n",
       "         [0.3614, 0.3831, 0.4053, 0.4279],\n",
       "         [0.1413, 0.1629, 0.1850, 0.2074],\n",
       "         [0.1111, 0.1325, 0.1542, 0.1763],\n",
       "         [0.2714, 0.2931, 0.3153, 0.3379],\n",
       "         [0.3813, 0.4029, 0.4249, 0.4473],\n",
       "         [0.2414, 0.2631, 0.2853, 0.3079]],\n",
       "\n",
       "        [[0.1303, 0.1508, 0.1713, 0.1920],\n",
       "         [0.1214, 0.1431, 0.1653, 0.1879],\n",
       "         [0.1014, 0.1231, 0.1453, 0.1679],\n",
       "         [0.2508, 0.2718, 0.2930, 0.3144],\n",
       "         [0.1113, 0.1330, 0.1550, 0.1775],\n",
       "         [0.0712, 0.0927, 0.1146, 0.1369],\n",
       "         [0.2111, 0.2325, 0.2542, 0.2762],\n",
       "         [0.3012, 0.3228, 0.3448, 0.3672]]], grad_fn=<AddBackward0>)"
      ]
     },
     "execution_count": 49,
     "metadata": {},
     "output_type": "execute_result"
    }
   ],
   "source": [
    "x"
   ]
  },
  {
   "cell_type": "code",
   "execution_count": 50,
   "id": "b611c470-d48d-4c86-a1a3-7a0489066e13",
   "metadata": {},
   "outputs": [
    {
     "data": {
      "text/plain": [
       "(torch.Size([2, 8, 4]),\n",
       " tensor([[[0.4746, 0.5646, 0.5207, 0.4519],\n",
       "          [0.2841, 0.3734, 0.3288, 0.2590],\n",
       "          [0.4646, 0.5546, 0.5107, 0.4419],\n",
       "          [0.2445, 0.3344, 0.2904, 0.2214],\n",
       "          [0.2143, 0.3040, 0.2597, 0.1903],\n",
       "          [0.3746, 0.4646, 0.4207, 0.3519],\n",
       "          [0.4845, 0.5744, 0.5304, 0.4613],\n",
       "          [0.3446, 0.4346, 0.3907, 0.3219]],\n",
       " \n",
       "         [[0.2336, 0.3222, 0.2768, 0.2061],\n",
       "          [0.2246, 0.3146, 0.2707, 0.2019],\n",
       "          [0.2046, 0.2946, 0.2507, 0.1819],\n",
       "          [0.3540, 0.4432, 0.3984, 0.3285],\n",
       "          [0.2145, 0.3044, 0.2605, 0.1915],\n",
       "          [0.1744, 0.2642, 0.2201, 0.1509],\n",
       "          [0.3143, 0.4039, 0.3596, 0.2902],\n",
       "          [0.4045, 0.4943, 0.4502, 0.3812]]], grad_fn=<AddBackward0>))"
      ]
     },
     "execution_count": 50,
     "metadata": {},
     "output_type": "execute_result"
    }
   ],
   "source": [
    "x = x_mlp + x\n",
    "\n",
    "x.shape, x"
   ]
  },
  {
   "cell_type": "markdown",
   "id": "2d01f807-bb7c-4cff-a5fa-44ae767a3431",
   "metadata": {},
   "source": [
    "#### Transformer - Final Layer Normalization "
   ]
  },
  {
   "cell_type": "markdown",
   "id": "5d9fa593-6cb1-488f-b33c-46b817b2bfe7",
   "metadata": {},
   "source": [
    "The final step in the transformer is to aggregate and normalize before calculating the final projections. This layer is similar to the previous normalization layers. This layer will run the same normalization formula as before, but is its own independent layer as it has different inputs. Recall the formula is: \n",
    "\n",
    "$y = \\frac{x - \\mathbb{E}[x]}{\\sqrt{\\operatorname{Var}[x] + \\epsilon}}$\n",
    "\n",
    "Since this is the final layer, we will not have a residual connection so we do not need to branch `x`.  As with the previous normalization layers, we'll once again see the rows diverge in value as the dropout impact shown in `x` comes back.  "
   ]
  },
  {
   "cell_type": "code",
   "execution_count": 51,
   "id": "647f8975-ce82-41ee-9b99-9fb80f4ffa0a",
   "metadata": {},
   "outputs": [
    {
     "data": {
      "text/plain": [
       "LayerNorm((4,), eps=1e-05, elementwise_affine=True)"
      ]
     },
     "execution_count": 51,
     "metadata": {},
     "output_type": "execute_result"
    }
   ],
   "source": [
    "ln_f = nn.LayerNorm(n_embd)\n",
    "ln_f"
   ]
  },
  {
   "cell_type": "code",
   "execution_count": 52,
   "id": "3c5f7b20-da66-4fe6-ba7e-df19c162a124",
   "metadata": {},
   "outputs": [
    {
     "data": {
      "text/plain": [
       "(torch.Size([2, 8, 4]),\n",
       " tensor([[[-0.6522,  1.4170,  0.4091, -1.1739],\n",
       "          [-0.6216,  1.4171,  0.3985, -1.1941],\n",
       "          [-0.6522,  1.4170,  0.4091, -1.1739],\n",
       "          [-0.6469,  1.4171,  0.4073, -1.1775],\n",
       "          [-0.6357,  1.4171,  0.4034, -1.1849],\n",
       "          [-0.6522,  1.4170,  0.4091, -1.1739],\n",
       "          [-0.6462,  1.4171,  0.4070, -1.1780],\n",
       "          [-0.6522,  1.4170,  0.4091, -1.1739]],\n",
       " \n",
       "         [[-0.5912,  1.4167,  0.3880, -1.2134],\n",
       "          [-0.6522,  1.4170,  0.4091, -1.1739],\n",
       "          [-0.6522,  1.4170,  0.4091, -1.1739],\n",
       "          [-0.6163,  1.4170,  0.3968, -1.1975],\n",
       "          [-0.6480,  1.4171,  0.4077, -1.1768],\n",
       "          [-0.6420,  1.4171,  0.4056, -1.1807],\n",
       "          [-0.6347,  1.4171,  0.4031, -1.1855],\n",
       "          [-0.6445,  1.4171,  0.4065, -1.1790]]],\n",
       "        grad_fn=<NativeLayerNormBackward0>))"
      ]
     },
     "execution_count": 52,
     "metadata": {},
     "output_type": "execute_result"
    }
   ],
   "source": [
    "x = ln_f(x)\n",
    "x.shape, x"
   ]
  },
  {
   "cell_type": "markdown",
   "id": "4794c634-a6cf-49b9-85df-f96488b4021b",
   "metadata": {},
   "source": [
    "### Output Layers AKA Model Head."
   ]
  },
  {
   "attachments": {},
   "cell_type": "markdown",
   "id": "ec2f6bc6-edfc-4d19-ac3a-f8cb02d39ad1",
   "metadata": {},
   "source": [
    "The combination of masked multi-head attention and feed forward, along with the normalization and residual connections is considered the \"transformer\".  In practice this layer is horizontally scaled to run many layers in parallel.  Once those layers are complete during the forward pass we then start the output process that results in `logits` which is a representation of the probability of each token being the next token given the input.  \n",
    "\n",
    "This layer is also known as the model **head**, not to be confused with attention heads. This layer is called this because it is a small, task-specific module attached to a model’s shared backbone that maps hidden features to the final outputs.  In our example case, this is a linear layer mapping the backbone to vocab logits. The benefit of this structure is that you can use the shared hidden features and train different heads for different tasks without starting from scratch. An example would be a classifier head, or policy head in RL.\n",
    "\n",
    "<img src=\"explainer_screenshots/gpt/output_layer.png\" width=\"200\">\n",
    "\n",
    "For our head we want to map to a predicted token which we'll look at as `logits`. In the process to generate `logits` we take the normalized output `x` of the transformers, then project, using a linear layer, to the vocabulary resulting in a `B, T, vocab_size` matrix known as `logits`.  \n",
    "\n",
    "In training, the `logits` are then compared with `y` to see how close the  model is to predicting the correct next token. For inference, the `logits` are then used to drive sampling which is how the next token is then derived. \n",
    "\n",
    "\n",
    "Instead of initializing weights this time around, we'll do **Weight Tying**.  Weight tying sets the output softmax matrix equal to the transpose of the input embedding matrix $W_{\\text{out}} = W_e^\\top$, forcing the model to “read” and “predict” in the same token space. This reduces parameters and acts as a useful prior, improving sample-efficiency and often perplexity by aligning input–output geometry. Modern LLMs have seemed to ditch this though to gain the extra capacity, but, for our example, we'll maintain it.\n",
    "\n",
    "\n",
    "\n"
   ]
  },
  {
   "cell_type": "code",
   "execution_count": 53,
   "id": "65a9da09-0da1-433a-b276-780875c56b77",
   "metadata": {},
   "outputs": [
    {
     "data": {
      "text/plain": [
       "(Linear(in_features=4, out_features=36, bias=False),\n",
       " Parameter containing:\n",
       " tensor([[0.0100, 0.0200, 0.0300, 0.0400],\n",
       "         [0.0200, 0.0300, 0.0400, 0.0500],\n",
       "         [0.0300, 0.0400, 0.0500, 0.0600],\n",
       "         [0.0400, 0.0500, 0.0600, 0.0700],\n",
       "         [0.0500, 0.0600, 0.0700, 0.0800],\n",
       "         [0.0600, 0.0700, 0.0800, 0.0900],\n",
       "         [0.0700, 0.0800, 0.0900, 0.1000],\n",
       "         [0.0800, 0.0900, 0.1000, 0.1100],\n",
       "         [0.0900, 0.1000, 0.1100, 0.1200],\n",
       "         [0.1000, 0.1100, 0.1200, 0.1300],\n",
       "         [0.1100, 0.1200, 0.1300, 0.1400],\n",
       "         [0.1200, 0.1300, 0.1400, 0.1500],\n",
       "         [0.1300, 0.1400, 0.1500, 0.1600],\n",
       "         [0.1400, 0.1500, 0.1600, 0.1700],\n",
       "         [0.1500, 0.1600, 0.1700, 0.1800],\n",
       "         [0.1600, 0.1700, 0.1800, 0.1900],\n",
       "         [0.1700, 0.1800, 0.1900, 0.2000],\n",
       "         [0.1800, 0.1900, 0.2000, 0.2100],\n",
       "         [0.1900, 0.2000, 0.2100, 0.2200],\n",
       "         [0.2000, 0.2100, 0.2200, 0.2300],\n",
       "         [0.2100, 0.2200, 0.2300, 0.2400],\n",
       "         [0.2200, 0.2300, 0.2400, 0.2500],\n",
       "         [0.2300, 0.2400, 0.2500, 0.2600],\n",
       "         [0.2400, 0.2500, 0.2600, 0.2700],\n",
       "         [0.2500, 0.2600, 0.2700, 0.2800],\n",
       "         [0.2600, 0.2700, 0.2800, 0.2900],\n",
       "         [0.2700, 0.2800, 0.2900, 0.3000],\n",
       "         [0.2800, 0.2900, 0.3000, 0.3100],\n",
       "         [0.2900, 0.3000, 0.3100, 0.3200],\n",
       "         [0.3000, 0.3100, 0.3200, 0.3300],\n",
       "         [0.3100, 0.3200, 0.3300, 0.3400],\n",
       "         [0.3200, 0.3300, 0.3400, 0.3500],\n",
       "         [0.3300, 0.3400, 0.3500, 0.3600],\n",
       "         [0.3400, 0.3500, 0.3600, 0.3700],\n",
       "         [0.3500, 0.3600, 0.3700, 0.3800],\n",
       "         [0.3600, 0.3700, 0.3800, 0.3900]], requires_grad=True))"
      ]
     },
     "execution_count": 53,
     "metadata": {},
     "output_type": "execute_result"
    }
   ],
   "source": [
    "lm_head = nn.Linear(n_embd, vocab_size, bias=False)\n",
    "# weight sharing scheme\n",
    "lm_head.weight = wte.weight\n",
    "\n",
    "lm_head, lm_head.weight\n"
   ]
  },
  {
   "cell_type": "markdown",
   "id": "6601a613-4384-4e20-bd67-152c2248873f",
   "metadata": {},
   "source": [
    "now let's check that the values are the same and that the underlying objects `data_ptr()` are"
   ]
  },
  {
   "cell_type": "code",
   "execution_count": 54,
   "id": "172cc399-ac64-4fc7-96bd-50bb2ccd80ed",
   "metadata": {},
   "outputs": [
    {
     "data": {
      "text/plain": [
       "(True, True)"
      ]
     },
     "execution_count": 54,
     "metadata": {},
     "output_type": "execute_result"
    }
   ],
   "source": [
    "lm_head.weight is wte.weight, lm_head.weight.data_ptr() == wte.weight.data_ptr()"
   ]
  },
  {
   "cell_type": "markdown",
   "id": "9eda51be-2d33-42e4-87c7-1b12065c61b5",
   "metadata": {},
   "source": [
    "#### Output layer - LM Head aka logits\n",
    "We now project `x` onto the vocabulary resulting in a `B X T X vocab_size` final array `logits`.  This output correlates with the \n",
    "probabilty of each output token given the input context.  The best way to read  this is:\n",
    "\n",
    "(dimension 0) we have 2 batches B, \n",
    "(dimension 1) each batch has an example for each value between 1 and context length T \n",
    "(dimension 2) for each example we see the probability of each token in our vocabulary\n",
    "\n",
    "Since our `x` at this point has similar values across the row, and we are using weight tying between the head and inputlayer, we fully expect that our logits will have similar values.  In practice this means that our model will have close to the same probability of a token output as the 'next token' regardless of the preceeding text, meaning it's shit. Luckily backpropogation has a way of updating this so that with enough data and time the probabilities change. "
   ]
  },
  {
   "cell_type": "code",
   "execution_count": 55,
   "id": "d39d0446-9f58-425c-a5c2-7f7049639137",
   "metadata": {},
   "outputs": [
    {
     "data": {
      "text/plain": [
       "tensor([[[-0.6522,  1.4170,  0.4091, -1.1739],\n",
       "         [-0.6216,  1.4171,  0.3985, -1.1941],\n",
       "         [-0.6522,  1.4170,  0.4091, -1.1739],\n",
       "         [-0.6469,  1.4171,  0.4073, -1.1775],\n",
       "         [-0.6357,  1.4171,  0.4034, -1.1849],\n",
       "         [-0.6522,  1.4170,  0.4091, -1.1739],\n",
       "         [-0.6462,  1.4171,  0.4070, -1.1780],\n",
       "         [-0.6522,  1.4170,  0.4091, -1.1739]],\n",
       "\n",
       "        [[-0.5912,  1.4167,  0.3880, -1.2134],\n",
       "         [-0.6522,  1.4170,  0.4091, -1.1739],\n",
       "         [-0.6522,  1.4170,  0.4091, -1.1739],\n",
       "         [-0.6163,  1.4170,  0.3968, -1.1975],\n",
       "         [-0.6480,  1.4171,  0.4077, -1.1768],\n",
       "         [-0.6420,  1.4171,  0.4056, -1.1807],\n",
       "         [-0.6347,  1.4171,  0.4031, -1.1855],\n",
       "         [-0.6445,  1.4171,  0.4065, -1.1790]]],\n",
       "       grad_fn=<NativeLayerNormBackward0>)"
      ]
     },
     "execution_count": 55,
     "metadata": {},
     "output_type": "execute_result"
    }
   ],
   "source": [
    "x"
   ]
  },
  {
   "cell_type": "code",
   "execution_count": 56,
   "id": "3c2b2104-0286-413f-acfd-911df164caff",
   "metadata": {},
   "outputs": [
    {
     "data": {
      "text/plain": [
       "(torch.Size([2, 8, 36]),\n",
       " tensor([[[-0.0129, -0.0129, -0.0129, -0.0129, -0.0129, -0.0129, -0.0129,\n",
       "           -0.0129, -0.0129, -0.0129, -0.0129, -0.0129, -0.0129, -0.0129,\n",
       "           -0.0129, -0.0129, -0.0129, -0.0129, -0.0129, -0.0129, -0.0129,\n",
       "           -0.0129, -0.0129, -0.0129, -0.0129, -0.0129, -0.0129, -0.0129,\n",
       "           -0.0129, -0.0129, -0.0129, -0.0129, -0.0129, -0.0129, -0.0129,\n",
       "           -0.0129],\n",
       "          [-0.0137, -0.0137, -0.0137, -0.0137, -0.0137, -0.0137, -0.0137,\n",
       "           -0.0137, -0.0137, -0.0137, -0.0137, -0.0137, -0.0137, -0.0137,\n",
       "           -0.0137, -0.0137, -0.0137, -0.0137, -0.0137, -0.0137, -0.0137,\n",
       "           -0.0137, -0.0137, -0.0137, -0.0137, -0.0137, -0.0137, -0.0137,\n",
       "           -0.0137, -0.0137, -0.0137, -0.0137, -0.0137, -0.0137, -0.0137,\n",
       "           -0.0137],\n",
       "          [-0.0129, -0.0129, -0.0129, -0.0129, -0.0129, -0.0129, -0.0129,\n",
       "           -0.0129, -0.0129, -0.0129, -0.0129, -0.0129, -0.0129, -0.0129,\n",
       "           -0.0129, -0.0129, -0.0129, -0.0129, -0.0129, -0.0129, -0.0129,\n",
       "           -0.0129, -0.0129, -0.0129, -0.0129, -0.0129, -0.0129, -0.0129,\n",
       "           -0.0129, -0.0129, -0.0129, -0.0129, -0.0129, -0.0129, -0.0129,\n",
       "           -0.0129],\n",
       "          [-0.0130, -0.0130, -0.0130, -0.0130, -0.0130, -0.0130, -0.0130,\n",
       "           -0.0130, -0.0130, -0.0130, -0.0130, -0.0130, -0.0130, -0.0130,\n",
       "           -0.0130, -0.0130, -0.0130, -0.0130, -0.0130, -0.0130, -0.0130,\n",
       "           -0.0130, -0.0130, -0.0130, -0.0130, -0.0130, -0.0130, -0.0130,\n",
       "           -0.0130, -0.0130, -0.0130, -0.0130, -0.0130, -0.0130, -0.0130,\n",
       "           -0.0130],\n",
       "          [-0.0133, -0.0133, -0.0133, -0.0133, -0.0133, -0.0133, -0.0133,\n",
       "           -0.0133, -0.0133, -0.0133, -0.0133, -0.0133, -0.0133, -0.0133,\n",
       "           -0.0133, -0.0133, -0.0133, -0.0133, -0.0133, -0.0133, -0.0133,\n",
       "           -0.0133, -0.0133, -0.0133, -0.0133, -0.0133, -0.0133, -0.0133,\n",
       "           -0.0133, -0.0133, -0.0133, -0.0133, -0.0133, -0.0133, -0.0133,\n",
       "           -0.0133],\n",
       "          [-0.0129, -0.0129, -0.0129, -0.0129, -0.0129, -0.0129, -0.0129,\n",
       "           -0.0129, -0.0129, -0.0129, -0.0129, -0.0129, -0.0129, -0.0129,\n",
       "           -0.0129, -0.0129, -0.0129, -0.0129, -0.0129, -0.0129, -0.0129,\n",
       "           -0.0129, -0.0129, -0.0129, -0.0129, -0.0129, -0.0129, -0.0129,\n",
       "           -0.0129, -0.0129, -0.0129, -0.0129, -0.0129, -0.0129, -0.0129,\n",
       "           -0.0129],\n",
       "          [-0.0130, -0.0130, -0.0130, -0.0130, -0.0130, -0.0130, -0.0130,\n",
       "           -0.0130, -0.0130, -0.0130, -0.0130, -0.0130, -0.0130, -0.0130,\n",
       "           -0.0130, -0.0130, -0.0130, -0.0130, -0.0130, -0.0130, -0.0130,\n",
       "           -0.0130, -0.0130, -0.0130, -0.0130, -0.0130, -0.0130, -0.0130,\n",
       "           -0.0130, -0.0130, -0.0130, -0.0130, -0.0130, -0.0130, -0.0130,\n",
       "           -0.0130],\n",
       "          [-0.0129, -0.0129, -0.0129, -0.0129, -0.0129, -0.0129, -0.0129,\n",
       "           -0.0129, -0.0129, -0.0129, -0.0129, -0.0129, -0.0129, -0.0129,\n",
       "           -0.0129, -0.0129, -0.0129, -0.0129, -0.0129, -0.0129, -0.0129,\n",
       "           -0.0129, -0.0129, -0.0129, -0.0129, -0.0129, -0.0129, -0.0129,\n",
       "           -0.0129, -0.0129, -0.0129, -0.0129, -0.0129, -0.0129, -0.0129,\n",
       "           -0.0129]],\n",
       " \n",
       "         [[-0.0145, -0.0145, -0.0145, -0.0145, -0.0145, -0.0145, -0.0145,\n",
       "           -0.0145, -0.0145, -0.0145, -0.0145, -0.0145, -0.0145, -0.0145,\n",
       "           -0.0145, -0.0145, -0.0145, -0.0145, -0.0145, -0.0145, -0.0145,\n",
       "           -0.0145, -0.0145, -0.0145, -0.0145, -0.0145, -0.0145, -0.0145,\n",
       "           -0.0145, -0.0145, -0.0145, -0.0145, -0.0145, -0.0145, -0.0145,\n",
       "           -0.0145],\n",
       "          [-0.0129, -0.0129, -0.0129, -0.0129, -0.0129, -0.0129, -0.0129,\n",
       "           -0.0129, -0.0129, -0.0129, -0.0129, -0.0129, -0.0129, -0.0129,\n",
       "           -0.0129, -0.0129, -0.0129, -0.0129, -0.0129, -0.0129, -0.0129,\n",
       "           -0.0129, -0.0129, -0.0129, -0.0129, -0.0129, -0.0129, -0.0129,\n",
       "           -0.0129, -0.0129, -0.0129, -0.0129, -0.0129, -0.0129, -0.0129,\n",
       "           -0.0129],\n",
       "          [-0.0129, -0.0129, -0.0129, -0.0129, -0.0129, -0.0129, -0.0129,\n",
       "           -0.0129, -0.0129, -0.0129, -0.0129, -0.0129, -0.0129, -0.0129,\n",
       "           -0.0129, -0.0129, -0.0129, -0.0129, -0.0129, -0.0129, -0.0129,\n",
       "           -0.0129, -0.0129, -0.0129, -0.0129, -0.0129, -0.0129, -0.0129,\n",
       "           -0.0129, -0.0129, -0.0129, -0.0129, -0.0129, -0.0129, -0.0129,\n",
       "           -0.0129],\n",
       "          [-0.0138, -0.0138, -0.0138, -0.0138, -0.0138, -0.0138, -0.0138,\n",
       "           -0.0138, -0.0138, -0.0138, -0.0138, -0.0138, -0.0138, -0.0138,\n",
       "           -0.0138, -0.0138, -0.0138, -0.0138, -0.0138, -0.0138, -0.0138,\n",
       "           -0.0138, -0.0138, -0.0138, -0.0138, -0.0138, -0.0138, -0.0138,\n",
       "           -0.0138, -0.0138, -0.0138, -0.0138, -0.0138, -0.0138, -0.0138,\n",
       "           -0.0138],\n",
       "          [-0.0130, -0.0130, -0.0130, -0.0130, -0.0130, -0.0130, -0.0130,\n",
       "           -0.0130, -0.0130, -0.0130, -0.0130, -0.0130, -0.0130, -0.0130,\n",
       "           -0.0130, -0.0130, -0.0130, -0.0130, -0.0130, -0.0130, -0.0130,\n",
       "           -0.0130, -0.0130, -0.0130, -0.0130, -0.0130, -0.0130, -0.0130,\n",
       "           -0.0130, -0.0130, -0.0130, -0.0130, -0.0130, -0.0130, -0.0130,\n",
       "           -0.0130],\n",
       "          [-0.0131, -0.0131, -0.0131, -0.0131, -0.0131, -0.0131, -0.0131,\n",
       "           -0.0131, -0.0131, -0.0131, -0.0131, -0.0131, -0.0131, -0.0131,\n",
       "           -0.0131, -0.0131, -0.0131, -0.0131, -0.0131, -0.0131, -0.0131,\n",
       "           -0.0131, -0.0131, -0.0131, -0.0131, -0.0131, -0.0131, -0.0131,\n",
       "           -0.0131, -0.0131, -0.0131, -0.0131, -0.0131, -0.0131, -0.0131,\n",
       "           -0.0131],\n",
       "          [-0.0133, -0.0133, -0.0133, -0.0133, -0.0133, -0.0133, -0.0133,\n",
       "           -0.0133, -0.0133, -0.0133, -0.0133, -0.0133, -0.0133, -0.0133,\n",
       "           -0.0133, -0.0133, -0.0133, -0.0133, -0.0133, -0.0133, -0.0133,\n",
       "           -0.0133, -0.0133, -0.0133, -0.0133, -0.0133, -0.0133, -0.0133,\n",
       "           -0.0133, -0.0133, -0.0133, -0.0133, -0.0133, -0.0133, -0.0133,\n",
       "           -0.0133],\n",
       "          [-0.0131, -0.0131, -0.0131, -0.0131, -0.0131, -0.0131, -0.0131,\n",
       "           -0.0131, -0.0131, -0.0131, -0.0131, -0.0131, -0.0131, -0.0131,\n",
       "           -0.0131, -0.0131, -0.0131, -0.0131, -0.0131, -0.0131, -0.0131,\n",
       "           -0.0131, -0.0131, -0.0131, -0.0131, -0.0131, -0.0131, -0.0131,\n",
       "           -0.0131, -0.0131, -0.0131, -0.0131, -0.0131, -0.0131, -0.0131,\n",
       "           -0.0131]]], grad_fn=<UnsafeViewBackward0>))"
      ]
     },
     "execution_count": 56,
     "metadata": {},
     "output_type": "execute_result"
    }
   ],
   "source": [
    "logits = lm_head(x)\n",
    "\n",
    "logits.shape, logits"
   ]
  },
  {
   "cell_type": "markdown",
   "id": "90c613e5-00a2-4b94-b967-d978798e8155",
   "metadata": {},
   "source": [
    "## Loss calculation\n",
    "Now we have to see how good our ~shit~ prediction is.  Since we haven't done training, and we saw that regardless of example we had the same exact logit values, we can expect it's bad. That said, we need to know how bad. For this example we'll use cross entropy, also known as the negative log likelihood of the softmax.  Our loss calculates\n",
    "\n",
    "$$\n",
    "\\ell_i=-\\log\\big(\\mathrm{softmax}(z_i)\\_{y_i}\\big)\n",
    "= -z_{i,y_i}+\\log\\!\\sum_{c=1}^C e^{z_{i,c}},\n",
    "$$\n",
    "\n",
    "\n",
    "To calculate loss we'll pass in the calculated `logits` and our next tokens stored in `y`. The cross entropy function does not respect batches so we'll flatten the `B` dimension for both `logits` and `y`"
   ]
  },
  {
   "cell_type": "code",
   "execution_count": 57,
   "id": "18b3260e-a069-4ac7-8c4a-85c9d05b437d",
   "metadata": {},
   "outputs": [
    {
     "data": {
      "text/plain": [
       "(torch.Size([16]),\n",
       " tensor([15, 32,  9,  5, 20, 30, 15, 11,  9,  6, 20,  5,  0, 13, 21,  0]))"
      ]
     },
     "execution_count": 57,
     "metadata": {},
     "output_type": "execute_result"
    }
   ],
   "source": [
    "y_flat = y.view(-1)\n",
    "y_flat.shape, y_flat"
   ]
  },
  {
   "cell_type": "code",
   "execution_count": 58,
   "id": "7defc97f-68af-46dd-b4bc-617c6e1a6be1",
   "metadata": {},
   "outputs": [
    {
     "data": {
      "text/plain": [
       "(torch.Size([16, 36]),\n",
       " tensor([[-0.0129, -0.0129, -0.0129, -0.0129, -0.0129, -0.0129, -0.0129, -0.0129,\n",
       "          -0.0129, -0.0129, -0.0129, -0.0129, -0.0129, -0.0129, -0.0129, -0.0129,\n",
       "          -0.0129, -0.0129, -0.0129, -0.0129, -0.0129, -0.0129, -0.0129, -0.0129,\n",
       "          -0.0129, -0.0129, -0.0129, -0.0129, -0.0129, -0.0129, -0.0129, -0.0129,\n",
       "          -0.0129, -0.0129, -0.0129, -0.0129],\n",
       "         [-0.0137, -0.0137, -0.0137, -0.0137, -0.0137, -0.0137, -0.0137, -0.0137,\n",
       "          -0.0137, -0.0137, -0.0137, -0.0137, -0.0137, -0.0137, -0.0137, -0.0137,\n",
       "          -0.0137, -0.0137, -0.0137, -0.0137, -0.0137, -0.0137, -0.0137, -0.0137,\n",
       "          -0.0137, -0.0137, -0.0137, -0.0137, -0.0137, -0.0137, -0.0137, -0.0137,\n",
       "          -0.0137, -0.0137, -0.0137, -0.0137],\n",
       "         [-0.0129, -0.0129, -0.0129, -0.0129, -0.0129, -0.0129, -0.0129, -0.0129,\n",
       "          -0.0129, -0.0129, -0.0129, -0.0129, -0.0129, -0.0129, -0.0129, -0.0129,\n",
       "          -0.0129, -0.0129, -0.0129, -0.0129, -0.0129, -0.0129, -0.0129, -0.0129,\n",
       "          -0.0129, -0.0129, -0.0129, -0.0129, -0.0129, -0.0129, -0.0129, -0.0129,\n",
       "          -0.0129, -0.0129, -0.0129, -0.0129],\n",
       "         [-0.0130, -0.0130, -0.0130, -0.0130, -0.0130, -0.0130, -0.0130, -0.0130,\n",
       "          -0.0130, -0.0130, -0.0130, -0.0130, -0.0130, -0.0130, -0.0130, -0.0130,\n",
       "          -0.0130, -0.0130, -0.0130, -0.0130, -0.0130, -0.0130, -0.0130, -0.0130,\n",
       "          -0.0130, -0.0130, -0.0130, -0.0130, -0.0130, -0.0130, -0.0130, -0.0130,\n",
       "          -0.0130, -0.0130, -0.0130, -0.0130],\n",
       "         [-0.0133, -0.0133, -0.0133, -0.0133, -0.0133, -0.0133, -0.0133, -0.0133,\n",
       "          -0.0133, -0.0133, -0.0133, -0.0133, -0.0133, -0.0133, -0.0133, -0.0133,\n",
       "          -0.0133, -0.0133, -0.0133, -0.0133, -0.0133, -0.0133, -0.0133, -0.0133,\n",
       "          -0.0133, -0.0133, -0.0133, -0.0133, -0.0133, -0.0133, -0.0133, -0.0133,\n",
       "          -0.0133, -0.0133, -0.0133, -0.0133],\n",
       "         [-0.0129, -0.0129, -0.0129, -0.0129, -0.0129, -0.0129, -0.0129, -0.0129,\n",
       "          -0.0129, -0.0129, -0.0129, -0.0129, -0.0129, -0.0129, -0.0129, -0.0129,\n",
       "          -0.0129, -0.0129, -0.0129, -0.0129, -0.0129, -0.0129, -0.0129, -0.0129,\n",
       "          -0.0129, -0.0129, -0.0129, -0.0129, -0.0129, -0.0129, -0.0129, -0.0129,\n",
       "          -0.0129, -0.0129, -0.0129, -0.0129],\n",
       "         [-0.0130, -0.0130, -0.0130, -0.0130, -0.0130, -0.0130, -0.0130, -0.0130,\n",
       "          -0.0130, -0.0130, -0.0130, -0.0130, -0.0130, -0.0130, -0.0130, -0.0130,\n",
       "          -0.0130, -0.0130, -0.0130, -0.0130, -0.0130, -0.0130, -0.0130, -0.0130,\n",
       "          -0.0130, -0.0130, -0.0130, -0.0130, -0.0130, -0.0130, -0.0130, -0.0130,\n",
       "          -0.0130, -0.0130, -0.0130, -0.0130],\n",
       "         [-0.0129, -0.0129, -0.0129, -0.0129, -0.0129, -0.0129, -0.0129, -0.0129,\n",
       "          -0.0129, -0.0129, -0.0129, -0.0129, -0.0129, -0.0129, -0.0129, -0.0129,\n",
       "          -0.0129, -0.0129, -0.0129, -0.0129, -0.0129, -0.0129, -0.0129, -0.0129,\n",
       "          -0.0129, -0.0129, -0.0129, -0.0129, -0.0129, -0.0129, -0.0129, -0.0129,\n",
       "          -0.0129, -0.0129, -0.0129, -0.0129],\n",
       "         [-0.0145, -0.0145, -0.0145, -0.0145, -0.0145, -0.0145, -0.0145, -0.0145,\n",
       "          -0.0145, -0.0145, -0.0145, -0.0145, -0.0145, -0.0145, -0.0145, -0.0145,\n",
       "          -0.0145, -0.0145, -0.0145, -0.0145, -0.0145, -0.0145, -0.0145, -0.0145,\n",
       "          -0.0145, -0.0145, -0.0145, -0.0145, -0.0145, -0.0145, -0.0145, -0.0145,\n",
       "          -0.0145, -0.0145, -0.0145, -0.0145],\n",
       "         [-0.0129, -0.0129, -0.0129, -0.0129, -0.0129, -0.0129, -0.0129, -0.0129,\n",
       "          -0.0129, -0.0129, -0.0129, -0.0129, -0.0129, -0.0129, -0.0129, -0.0129,\n",
       "          -0.0129, -0.0129, -0.0129, -0.0129, -0.0129, -0.0129, -0.0129, -0.0129,\n",
       "          -0.0129, -0.0129, -0.0129, -0.0129, -0.0129, -0.0129, -0.0129, -0.0129,\n",
       "          -0.0129, -0.0129, -0.0129, -0.0129],\n",
       "         [-0.0129, -0.0129, -0.0129, -0.0129, -0.0129, -0.0129, -0.0129, -0.0129,\n",
       "          -0.0129, -0.0129, -0.0129, -0.0129, -0.0129, -0.0129, -0.0129, -0.0129,\n",
       "          -0.0129, -0.0129, -0.0129, -0.0129, -0.0129, -0.0129, -0.0129, -0.0129,\n",
       "          -0.0129, -0.0129, -0.0129, -0.0129, -0.0129, -0.0129, -0.0129, -0.0129,\n",
       "          -0.0129, -0.0129, -0.0129, -0.0129],\n",
       "         [-0.0138, -0.0138, -0.0138, -0.0138, -0.0138, -0.0138, -0.0138, -0.0138,\n",
       "          -0.0138, -0.0138, -0.0138, -0.0138, -0.0138, -0.0138, -0.0138, -0.0138,\n",
       "          -0.0138, -0.0138, -0.0138, -0.0138, -0.0138, -0.0138, -0.0138, -0.0138,\n",
       "          -0.0138, -0.0138, -0.0138, -0.0138, -0.0138, -0.0138, -0.0138, -0.0138,\n",
       "          -0.0138, -0.0138, -0.0138, -0.0138],\n",
       "         [-0.0130, -0.0130, -0.0130, -0.0130, -0.0130, -0.0130, -0.0130, -0.0130,\n",
       "          -0.0130, -0.0130, -0.0130, -0.0130, -0.0130, -0.0130, -0.0130, -0.0130,\n",
       "          -0.0130, -0.0130, -0.0130, -0.0130, -0.0130, -0.0130, -0.0130, -0.0130,\n",
       "          -0.0130, -0.0130, -0.0130, -0.0130, -0.0130, -0.0130, -0.0130, -0.0130,\n",
       "          -0.0130, -0.0130, -0.0130, -0.0130],\n",
       "         [-0.0131, -0.0131, -0.0131, -0.0131, -0.0131, -0.0131, -0.0131, -0.0131,\n",
       "          -0.0131, -0.0131, -0.0131, -0.0131, -0.0131, -0.0131, -0.0131, -0.0131,\n",
       "          -0.0131, -0.0131, -0.0131, -0.0131, -0.0131, -0.0131, -0.0131, -0.0131,\n",
       "          -0.0131, -0.0131, -0.0131, -0.0131, -0.0131, -0.0131, -0.0131, -0.0131,\n",
       "          -0.0131, -0.0131, -0.0131, -0.0131],\n",
       "         [-0.0133, -0.0133, -0.0133, -0.0133, -0.0133, -0.0133, -0.0133, -0.0133,\n",
       "          -0.0133, -0.0133, -0.0133, -0.0133, -0.0133, -0.0133, -0.0133, -0.0133,\n",
       "          -0.0133, -0.0133, -0.0133, -0.0133, -0.0133, -0.0133, -0.0133, -0.0133,\n",
       "          -0.0133, -0.0133, -0.0133, -0.0133, -0.0133, -0.0133, -0.0133, -0.0133,\n",
       "          -0.0133, -0.0133, -0.0133, -0.0133],\n",
       "         [-0.0131, -0.0131, -0.0131, -0.0131, -0.0131, -0.0131, -0.0131, -0.0131,\n",
       "          -0.0131, -0.0131, -0.0131, -0.0131, -0.0131, -0.0131, -0.0131, -0.0131,\n",
       "          -0.0131, -0.0131, -0.0131, -0.0131, -0.0131, -0.0131, -0.0131, -0.0131,\n",
       "          -0.0131, -0.0131, -0.0131, -0.0131, -0.0131, -0.0131, -0.0131, -0.0131,\n",
       "          -0.0131, -0.0131, -0.0131, -0.0131]], grad_fn=<ViewBackward0>))"
      ]
     },
     "execution_count": 58,
     "metadata": {},
     "output_type": "execute_result"
    }
   ],
   "source": [
    "logits_flat = logits.view(-1, logits.size(-1))\n",
    "logits_flat.shape, logits_flat"
   ]
  },
  {
   "cell_type": "code",
   "execution_count": 59,
   "id": "f8f4a08e-f5c3-440e-aa58-612700d882a9",
   "metadata": {},
   "outputs": [
    {
     "data": {
      "text/plain": [
       "(torch.Size([]), tensor(3.5835, grad_fn=<NllLossBackward0>))"
      ]
     },
     "execution_count": 59,
     "metadata": {},
     "output_type": "execute_result"
    }
   ],
   "source": [
    "loss = F.cross_entropy(logits_flat, y_flat)\n",
    "loss.shape, loss"
   ]
  },
  {
   "cell_type": "markdown",
   "id": "1c71deeb-6f5d-45a2-ac5f-07357cf2d3b1",
   "metadata": {},
   "source": [
    "## Back Propagation\n",
    "\n",
    "We now know just how well the current model, with its weights and biases, does predicting the next token given the input context. We now need to know how to change the different weights and biases to improve the formula.  We could do this by guessing through making minor changes and seeing what improves, or we can think through this more critically.\n",
    "\n",
    "If you review the chain of layers above, you can see that it's a series of formulas.  We can think of this as $f(g(x))$, except with many many more layers and complexities.  Since this is a formula, we can dig into our math toolbox and find a better way to determine what parts need to update.  Recall that in our calculus we learned that differentiation tells us the rate of change in a graph.  So if we treat the loss function $\\mathcal{L}$ as $\\mathcal{L}(f(g(x)))$ taking the partial differential \n",
    "\n",
    "$\\delta=\\partial \\mathcal{L}/\\partial h$\n",
    "\n",
    "at each layer will give us the impact of each weight/bias on our final output (albeit the inverse since our loss function is the negative log likelihood). \n",
    "\n",
    "Lucky for us, each layer of our model already has a placeholder for the partial differential called the **Gradient**. We'll use this field to store it.  We'll start by first zeroing out the gradients. We do this because of the nature of handling partial differentials for multiple dependencies. Recall that in multiple places we had a formula structure of \n",
    "\n",
    "$a+b=c ; a+c= d$\n",
    "\n",
    "In this case $a$ has 2 dependencies and determining the partial derivative of $\\partial d / \\partial a$ requires understanding both the path from $d$ and $c$.  To determine the true impact of a we would sum both partial derivatives together.  Because of this property, the tool we use, the built in `.backwards()` automatically sums gradients, `+=`, so if we do not set the gradient to `0` we then end up with erroneous gradients. \n",
    "\n",
    "Finally, we start `.backwards` from the `loss`, not `logits` as our goal is to minimize loss, we need to ensure we are looking at the calculations that impact loss which requires the whole forward pass to be able to generate the prediction `logits_flat`.  If we think of it as $\\mathcal{L}(f(x))$ where $f(x)$ is the forward pass to generate logits, then a simple chain rule is applied:\n",
    "\n",
    "${\\partial}/{\\partial x} =  \\mathcal{L}'(f(x)) f'(x)$\n",
    "\n",
    "Lets start by zeroing the gradients and leaning on pytorch to calculate the gradients for us. We'll also validate the gradients were `none`."
   ]
  },
  {
   "cell_type": "code",
   "execution_count": 60,
   "id": "5bd1ff71-31ae-47f8-b345-df28a0e24da3",
   "metadata": {},
   "outputs": [
    {
     "data": {
      "text/plain": [
       "(None, None)"
      ]
     },
     "execution_count": 60,
     "metadata": {},
     "output_type": "execute_result"
    }
   ],
   "source": [
    "lm_head.zero_grad()\n",
    "ln_f.zero_grad()\n",
    "mlp_proj.zero_grad()\n",
    "mlp_fc.zero_grad()\n",
    "ln_2.zero_grad()\n",
    "c_proj.zero_grad()\n",
    "c_attn.zero_grad()\n",
    "ln_1.zero_grad()\n",
    "wpe.zero_grad()\n",
    "wte.zero_grad()\n",
    "\n",
    "# validate gradients\n",
    "lm_head.weight.grad, ln_f.weight.grad"
   ]
  },
  {
   "cell_type": "code",
   "execution_count": 61,
   "id": "b83c2e41-3f89-4961-8876-caf399b9db74",
   "metadata": {},
   "outputs": [],
   "source": [
    "loss.backward()"
   ]
  },
  {
   "cell_type": "markdown",
   "id": "6275a322-b7e4-4e56-977d-9ef7a48f9f30",
   "metadata": {},
   "source": [
    "**Auto-Diff** - Now let's see the magic of the gradients populate.  This magic is called auto-differentiation, or auto-diff for short. This allows us to not have to write many layers of nasty code to do the differentiation for us, but, if you're a sadist, you can surely find people who have written out that code (it's not too bad since you just do one layer at a time). "
   ]
  },
  {
   "cell_type": "code",
   "execution_count": 62,
   "id": "320f3634-84e3-46f0-b7d1-91125a4b328c",
   "metadata": {},
   "outputs": [
    {
     "data": {
      "text/plain": [
       "(tensor([[ 0.0630, -0.1378, -0.0396,  0.1144],\n",
       "         [-0.0178,  0.0394,  0.0112, -0.0328],\n",
       "         [-0.0178,  0.0394,  0.0112, -0.0328],\n",
       "         [-0.0178,  0.0394,  0.0112, -0.0328],\n",
       "         [-0.0178,  0.0394,  0.0112, -0.0328],\n",
       "         [ 0.0612, -0.1378, -0.0390,  0.1156],\n",
       "         [ 0.0230, -0.0492, -0.0143,  0.0405],\n",
       "         [-0.0178,  0.0394,  0.0112, -0.0328],\n",
       "         [-0.0178,  0.0394,  0.0112, -0.0328],\n",
       "         [ 0.0599, -0.1377, -0.0386,  0.1164],\n",
       "         [-0.0178,  0.0394,  0.0112, -0.0328],\n",
       "         [ 0.0230, -0.0492, -0.0143,  0.0405],\n",
       "         [-0.0178,  0.0394,  0.0112, -0.0328],\n",
       "         [ 0.0223, -0.0492, -0.0141,  0.0410],\n",
       "         [-0.0178,  0.0394,  0.0112, -0.0328],\n",
       "         [ 0.0634, -0.1378, -0.0398,  0.1142],\n",
       "         [-0.0178,  0.0394,  0.0112, -0.0328],\n",
       "         [-0.0178,  0.0394,  0.0112, -0.0328],\n",
       "         [-0.0178,  0.0394,  0.0112, -0.0328],\n",
       "         [-0.0178,  0.0394,  0.0112, -0.0328],\n",
       "         [ 0.0627, -0.1378, -0.0395,  0.1146],\n",
       "         [ 0.0219, -0.0492, -0.0139,  0.0413],\n",
       "         [-0.0178,  0.0394,  0.0112, -0.0328],\n",
       "         [-0.0178,  0.0394,  0.0112, -0.0328],\n",
       "         [-0.0178,  0.0394,  0.0112, -0.0328],\n",
       "         [-0.0178,  0.0394,  0.0112, -0.0328],\n",
       "         [-0.0178,  0.0394,  0.0112, -0.0328],\n",
       "         [-0.0178,  0.0394,  0.0112, -0.0328],\n",
       "         [-0.0178,  0.0394,  0.0112, -0.0328],\n",
       "         [-0.0178,  0.0394,  0.0112, -0.0328],\n",
       "         [ 0.0230, -0.0492, -0.0143,  0.0405],\n",
       "         [-0.0178,  0.0394,  0.0112, -0.0328],\n",
       "         [ 0.0211, -0.0492, -0.0137,  0.0418],\n",
       "         [-0.0178,  0.0394,  0.0112, -0.0328],\n",
       "         [-0.0178,  0.0394,  0.0112, -0.0328],\n",
       "         [-0.0178,  0.0394,  0.0112, -0.0328]]),\n",
       " tensor([-0.0277,  0.0611,  0.0175, -0.0509]))"
      ]
     },
     "execution_count": 62,
     "metadata": {},
     "output_type": "execute_result"
    }
   ],
   "source": [
    "lm_head.weight.grad, ln_f.weight.grad"
   ]
  },
  {
   "cell_type": "markdown",
   "id": "aa7cc61a-4c4b-41d7-8989-e96b0263e386",
   "metadata": {},
   "source": [
    "## Learning\n",
    "The process of learning now requires us to update our weights based on this gradient. To really feel the \"back propagation\" we'll start with the last layer and work backwards, though, since we have all of the gradients calculated already, the order does not matter. Recall that our loss function is the negative log likelihood ratio so our gradient signs are flipped.  If a parameter is important, the gradient will be more negative, and vice versa. The gradients are a ratio of importance of each parameter and we need to know how much of that gradient to apply to our weights. This \"how much\" is referred to as the *learning rate*. In modern training learning rate schedulers and optimizers are used to vary the rate and application by layer and by training round.  We'll keep it simple and use an astronomically high learning rate of `5.000` which applies the gradient directly to the weights via a `-=`. Gradient for the weights and the biases is different as the partial differential with respect to each is different. We need to remember in the layers with bias to apply it to both.\n",
    "\n",
    "*Note that since our vocab is very small, our context is small, and our batch is small, relatively our model is very deep so we will see a lot of exceptionally small gradients*"
   ]
  },
  {
   "cell_type": "code",
   "execution_count": 63,
   "id": "a1f0a2de-fc67-43ed-9196-40a513eed032",
   "metadata": {},
   "outputs": [],
   "source": [
    "## Huge learning rate to emphasize\n",
    "learning_rate = 5.000 "
   ]
  },
  {
   "cell_type": "markdown",
   "id": "ccaa3ed8-fb43-4fa3-be4b-cd9b1a70dcf4",
   "metadata": {},
   "source": [
    "### Output Layer\n",
    "Let's start with our output layer.  If you recall we did *weight tying* of our head `lm_head` to our token projection `wte`.  Because of this applying loss to the `lm_head` will automatically apply it to `wte`. Since we're doing this manually and not through an optimizer we need to be careful not to apply it twice. Since we're starting with the last layer first, the head, we'll see that the gradients are equal and that updating just the `lm_head` weights updates `wte` weights also."
   ]
  },
  {
   "cell_type": "code",
   "execution_count": 64,
   "id": "ac3ee682-bcc2-4c06-84b1-9d6ca4c368b6",
   "metadata": {},
   "outputs": [
    {
     "data": {
      "text/plain": [
       "(True,\n",
       " tensor([[ 0.0630, -0.1378, -0.0396,  0.1144],\n",
       "         [-0.0178,  0.0394,  0.0112, -0.0328],\n",
       "         [-0.0178,  0.0394,  0.0112, -0.0328],\n",
       "         [-0.0178,  0.0394,  0.0112, -0.0328],\n",
       "         [-0.0178,  0.0394,  0.0112, -0.0328],\n",
       "         [ 0.0612, -0.1378, -0.0390,  0.1156],\n",
       "         [ 0.0230, -0.0492, -0.0143,  0.0405],\n",
       "         [-0.0178,  0.0394,  0.0112, -0.0328],\n",
       "         [-0.0178,  0.0394,  0.0112, -0.0328],\n",
       "         [ 0.0599, -0.1377, -0.0386,  0.1164],\n",
       "         [-0.0178,  0.0394,  0.0112, -0.0328],\n",
       "         [ 0.0230, -0.0492, -0.0143,  0.0405],\n",
       "         [-0.0178,  0.0394,  0.0112, -0.0328],\n",
       "         [ 0.0223, -0.0492, -0.0141,  0.0410],\n",
       "         [-0.0178,  0.0394,  0.0112, -0.0328],\n",
       "         [ 0.0634, -0.1378, -0.0398,  0.1142],\n",
       "         [-0.0178,  0.0394,  0.0112, -0.0328],\n",
       "         [-0.0178,  0.0394,  0.0112, -0.0328],\n",
       "         [-0.0178,  0.0394,  0.0112, -0.0328],\n",
       "         [-0.0178,  0.0394,  0.0112, -0.0328],\n",
       "         [ 0.0627, -0.1378, -0.0395,  0.1146],\n",
       "         [ 0.0219, -0.0492, -0.0139,  0.0413],\n",
       "         [-0.0178,  0.0394,  0.0112, -0.0328],\n",
       "         [-0.0178,  0.0394,  0.0112, -0.0328],\n",
       "         [-0.0178,  0.0394,  0.0112, -0.0328],\n",
       "         [-0.0178,  0.0394,  0.0112, -0.0328],\n",
       "         [-0.0178,  0.0394,  0.0112, -0.0328],\n",
       "         [-0.0178,  0.0394,  0.0112, -0.0328],\n",
       "         [-0.0178,  0.0394,  0.0112, -0.0328],\n",
       "         [-0.0178,  0.0394,  0.0112, -0.0328],\n",
       "         [ 0.0230, -0.0492, -0.0143,  0.0405],\n",
       "         [-0.0178,  0.0394,  0.0112, -0.0328],\n",
       "         [ 0.0211, -0.0492, -0.0137,  0.0418],\n",
       "         [-0.0178,  0.0394,  0.0112, -0.0328],\n",
       "         [-0.0178,  0.0394,  0.0112, -0.0328],\n",
       "         [-0.0178,  0.0394,  0.0112, -0.0328]]),\n",
       " tensor([[ 0.0630, -0.1378, -0.0396,  0.1144],\n",
       "         [-0.0178,  0.0394,  0.0112, -0.0328],\n",
       "         [-0.0178,  0.0394,  0.0112, -0.0328],\n",
       "         [-0.0178,  0.0394,  0.0112, -0.0328],\n",
       "         [-0.0178,  0.0394,  0.0112, -0.0328],\n",
       "         [ 0.0612, -0.1378, -0.0390,  0.1156],\n",
       "         [ 0.0230, -0.0492, -0.0143,  0.0405],\n",
       "         [-0.0178,  0.0394,  0.0112, -0.0328],\n",
       "         [-0.0178,  0.0394,  0.0112, -0.0328],\n",
       "         [ 0.0599, -0.1377, -0.0386,  0.1164],\n",
       "         [-0.0178,  0.0394,  0.0112, -0.0328],\n",
       "         [ 0.0230, -0.0492, -0.0143,  0.0405],\n",
       "         [-0.0178,  0.0394,  0.0112, -0.0328],\n",
       "         [ 0.0223, -0.0492, -0.0141,  0.0410],\n",
       "         [-0.0178,  0.0394,  0.0112, -0.0328],\n",
       "         [ 0.0634, -0.1378, -0.0398,  0.1142],\n",
       "         [-0.0178,  0.0394,  0.0112, -0.0328],\n",
       "         [-0.0178,  0.0394,  0.0112, -0.0328],\n",
       "         [-0.0178,  0.0394,  0.0112, -0.0328],\n",
       "         [-0.0178,  0.0394,  0.0112, -0.0328],\n",
       "         [ 0.0627, -0.1378, -0.0395,  0.1146],\n",
       "         [ 0.0219, -0.0492, -0.0139,  0.0413],\n",
       "         [-0.0178,  0.0394,  0.0112, -0.0328],\n",
       "         [-0.0178,  0.0394,  0.0112, -0.0328],\n",
       "         [-0.0178,  0.0394,  0.0112, -0.0328],\n",
       "         [-0.0178,  0.0394,  0.0112, -0.0328],\n",
       "         [-0.0178,  0.0394,  0.0112, -0.0328],\n",
       "         [-0.0178,  0.0394,  0.0112, -0.0328],\n",
       "         [-0.0178,  0.0394,  0.0112, -0.0328],\n",
       "         [-0.0178,  0.0394,  0.0112, -0.0328],\n",
       "         [ 0.0230, -0.0492, -0.0143,  0.0405],\n",
       "         [-0.0178,  0.0394,  0.0112, -0.0328],\n",
       "         [ 0.0211, -0.0492, -0.0137,  0.0418],\n",
       "         [-0.0178,  0.0394,  0.0112, -0.0328],\n",
       "         [-0.0178,  0.0394,  0.0112, -0.0328],\n",
       "         [-0.0178,  0.0394,  0.0112, -0.0328]]))"
      ]
     },
     "execution_count": 64,
     "metadata": {},
     "output_type": "execute_result"
    }
   ],
   "source": [
    "lm_head.weight.grad is wte.weight.grad, lm_head.weight.grad, wte.weight.grad"
   ]
  },
  {
   "cell_type": "code",
   "execution_count": 65,
   "id": "4a440926-e4ed-49b5-b395-b41f9644919b",
   "metadata": {
    "scrolled": true
   },
   "outputs": [
    {
     "data": {
      "text/plain": [
       "(True,\n",
       " Parameter containing:\n",
       " tensor([[-0.3050,  0.7089,  0.2282, -0.5320],\n",
       "         [ 0.1089, -0.1668, -0.0162,  0.2142],\n",
       "         [ 0.1189, -0.1568, -0.0062,  0.2242],\n",
       "         [ 0.1289, -0.1468,  0.0038,  0.2342],\n",
       "         [ 0.1389, -0.1368,  0.0138,  0.2442],\n",
       "         [-0.2459,  0.7589,  0.2750, -0.4880],\n",
       "         [-0.0449,  0.3260,  0.1616, -0.1027],\n",
       "         [ 0.1689, -0.1068,  0.0438,  0.2742],\n",
       "         [ 0.1789, -0.0968,  0.0538,  0.2842],\n",
       "         [-0.1997,  0.7987,  0.3129, -0.4519],\n",
       "         [ 0.1989, -0.0768,  0.0738,  0.3042],\n",
       "         [ 0.0051,  0.3760,  0.2116, -0.0527],\n",
       "         [ 0.2189, -0.0568,  0.0938,  0.3242],\n",
       "         [ 0.0283,  0.3960,  0.2305, -0.0348],\n",
       "         [ 0.2389, -0.0368,  0.1138,  0.3442],\n",
       "         [-0.1568,  0.8589,  0.3788, -0.3808],\n",
       "         [ 0.2589, -0.0168,  0.1338,  0.3642],\n",
       "         [ 0.2689, -0.0068,  0.1438,  0.3742],\n",
       "         [ 0.2789,  0.0032,  0.1538,  0.3842],\n",
       "         [ 0.2889,  0.0132,  0.1638,  0.3942],\n",
       "         [-0.1036,  0.9089,  0.4277, -0.3330],\n",
       "         [ 0.1106,  0.4760,  0.3097,  0.0437],\n",
       "         [ 0.3189,  0.0432,  0.1938,  0.4242],\n",
       "         [ 0.3289,  0.0532,  0.2038,  0.4342],\n",
       "         [ 0.3389,  0.0632,  0.2138,  0.4442],\n",
       "         [ 0.3489,  0.0732,  0.2238,  0.4542],\n",
       "         [ 0.3589,  0.0832,  0.2338,  0.4642],\n",
       "         [ 0.3689,  0.0932,  0.2438,  0.4742],\n",
       "         [ 0.3789,  0.1032,  0.2538,  0.4842],\n",
       "         [ 0.3889,  0.1132,  0.2638,  0.4942],\n",
       "         [ 0.1951,  0.5660,  0.4016,  0.1373],\n",
       "         [ 0.4089,  0.1332,  0.2838,  0.5142],\n",
       "         [ 0.2246,  0.5860,  0.4183,  0.1510],\n",
       "         [ 0.4289,  0.1532,  0.3038,  0.5342],\n",
       "         [ 0.4389,  0.1632,  0.3138,  0.5442],\n",
       "         [ 0.4489,  0.1732,  0.3238,  0.5542]], requires_grad=True),\n",
       " Parameter containing:\n",
       " tensor([[-0.3050,  0.7089,  0.2282, -0.5320],\n",
       "         [ 0.1089, -0.1668, -0.0162,  0.2142],\n",
       "         [ 0.1189, -0.1568, -0.0062,  0.2242],\n",
       "         [ 0.1289, -0.1468,  0.0038,  0.2342],\n",
       "         [ 0.1389, -0.1368,  0.0138,  0.2442],\n",
       "         [-0.2459,  0.7589,  0.2750, -0.4880],\n",
       "         [-0.0449,  0.3260,  0.1616, -0.1027],\n",
       "         [ 0.1689, -0.1068,  0.0438,  0.2742],\n",
       "         [ 0.1789, -0.0968,  0.0538,  0.2842],\n",
       "         [-0.1997,  0.7987,  0.3129, -0.4519],\n",
       "         [ 0.1989, -0.0768,  0.0738,  0.3042],\n",
       "         [ 0.0051,  0.3760,  0.2116, -0.0527],\n",
       "         [ 0.2189, -0.0568,  0.0938,  0.3242],\n",
       "         [ 0.0283,  0.3960,  0.2305, -0.0348],\n",
       "         [ 0.2389, -0.0368,  0.1138,  0.3442],\n",
       "         [-0.1568,  0.8589,  0.3788, -0.3808],\n",
       "         [ 0.2589, -0.0168,  0.1338,  0.3642],\n",
       "         [ 0.2689, -0.0068,  0.1438,  0.3742],\n",
       "         [ 0.2789,  0.0032,  0.1538,  0.3842],\n",
       "         [ 0.2889,  0.0132,  0.1638,  0.3942],\n",
       "         [-0.1036,  0.9089,  0.4277, -0.3330],\n",
       "         [ 0.1106,  0.4760,  0.3097,  0.0437],\n",
       "         [ 0.3189,  0.0432,  0.1938,  0.4242],\n",
       "         [ 0.3289,  0.0532,  0.2038,  0.4342],\n",
       "         [ 0.3389,  0.0632,  0.2138,  0.4442],\n",
       "         [ 0.3489,  0.0732,  0.2238,  0.4542],\n",
       "         [ 0.3589,  0.0832,  0.2338,  0.4642],\n",
       "         [ 0.3689,  0.0932,  0.2438,  0.4742],\n",
       "         [ 0.3789,  0.1032,  0.2538,  0.4842],\n",
       "         [ 0.3889,  0.1132,  0.2638,  0.4942],\n",
       "         [ 0.1951,  0.5660,  0.4016,  0.1373],\n",
       "         [ 0.4089,  0.1332,  0.2838,  0.5142],\n",
       "         [ 0.2246,  0.5860,  0.4183,  0.1510],\n",
       "         [ 0.4289,  0.1532,  0.3038,  0.5342],\n",
       "         [ 0.4389,  0.1632,  0.3138,  0.5442],\n",
       "         [ 0.4489,  0.1732,  0.3238,  0.5542]], requires_grad=True))"
      ]
     },
     "execution_count": 65,
     "metadata": {},
     "output_type": "execute_result"
    }
   ],
   "source": [
    "with torch.no_grad():\n",
    "    lm_head.weight -= learning_rate * lm_head.weight.grad\n",
    "lm_head.weight is wte.weight, lm_head.weight, wte.weight"
   ]
  },
  {
   "cell_type": "markdown",
   "id": "ba5e4cae-5b45-4e08-a267-f07e80d5f275",
   "metadata": {},
   "source": [
    "### Transformer - Final Layer Normalization\n",
    "Now let's move to the layer normalization.  In our forward pass we did not change the weights, but in training we still will as the normalization can impact the outputs.  Additionally layer normalization has bias so we have to remember to add it. "
   ]
  },
  {
   "cell_type": "code",
   "execution_count": 66,
   "id": "07245c28-6172-4cab-8304-4db806132373",
   "metadata": {},
   "outputs": [
    {
     "data": {
      "text/plain": [
       "(Parameter containing:\n",
       " tensor([1., 1., 1., 1.], requires_grad=True),\n",
       " Parameter containing:\n",
       " tensor([0., 0., 0., 0.], requires_grad=True))"
      ]
     },
     "execution_count": 66,
     "metadata": {},
     "output_type": "execute_result"
    }
   ],
   "source": [
    "ln_f.weight, ln_f.bias"
   ]
  },
  {
   "cell_type": "code",
   "execution_count": 67,
   "id": "24b44391-8904-4ffc-855b-7c37b5422aa9",
   "metadata": {},
   "outputs": [
    {
     "data": {
      "text/plain": [
       "(tensor([-0.0277,  0.0611,  0.0175, -0.0509]),\n",
       " tensor([0.0431, 0.0431, 0.0431, 0.0431]))"
      ]
     },
     "execution_count": 67,
     "metadata": {},
     "output_type": "execute_result"
    }
   ],
   "source": [
    "ln_f.weight.grad, ln_f.bias.grad"
   ]
  },
  {
   "cell_type": "code",
   "execution_count": 68,
   "id": "432f1496-607f-42b5-bb0f-6fa47a4e2354",
   "metadata": {},
   "outputs": [
    {
     "data": {
      "text/plain": [
       "(Parameter containing:\n",
       " tensor([1.1383, 0.6945, 0.9126, 1.2547], requires_grad=True),\n",
       " Parameter containing:\n",
       " tensor([-0.2156, -0.2156, -0.2156, -0.2156], requires_grad=True))"
      ]
     },
     "execution_count": 68,
     "metadata": {},
     "output_type": "execute_result"
    }
   ],
   "source": [
    "with torch.no_grad():\n",
    "    ln_f.weight -= learning_rate * ln_f.weight.grad\n",
    "    ln_f.bias   -= learning_rate * ln_f.bias.grad\n",
    "ln_f.weight, ln_f.bias"
   ]
  },
  {
   "cell_type": "markdown",
   "id": "fe3915ed-1681-4d32-9566-1e75cc396396",
   "metadata": {},
   "source": [
    "### Tranformer - Feed Froward Updates\n",
    "In feed forward we had 3 layers: the upward projection `mlp_fc`, the tanh layer `mlp_gelu`, and the downward projection `mlp_proj`.  The tanh layer normalizes each element using tanh so it has no trainable parameters, or weights, so there is no updates to be made, the gradient passes through it. But the other two layers have both weights and biases that we can update.  \n",
    "\n",
    "One thing you may notice is that the gradients are exceptionally small in some cases, leading to minimal updates"
   ]
  },
  {
   "cell_type": "code",
   "execution_count": 69,
   "id": "12d1458b-1da5-4268-a0a7-f5a1a5c5f6b5",
   "metadata": {},
   "outputs": [
    {
     "data": {
      "text/plain": [
       "(tensor([[ 2.3517e-08,  8.5932e-08,  8.8750e-08, -3.0591e-08, -2.6721e-09,\n",
       "           1.3407e-08,  3.4789e-08,  6.1262e-08,  1.4351e-07, -2.1024e-08,\n",
       "          -1.5280e-08,  9.0650e-08,  2.7256e-08,  9.0820e-09,  4.9701e-08,\n",
       "           2.9570e-08],\n",
       "         [-3.8855e-08, -1.4197e-07, -1.4663e-07,  5.0542e-08,  4.4148e-09,\n",
       "          -2.2151e-08, -5.7478e-08, -1.0121e-07, -2.3711e-07,  3.4736e-08,\n",
       "           2.5245e-08, -1.4977e-07, -4.5032e-08, -1.5005e-08, -8.2114e-08,\n",
       "          -4.8855e-08],\n",
       "         [-8.9469e-09, -3.2692e-08, -3.3764e-08,  1.1638e-08,  1.0166e-09,\n",
       "          -5.1003e-09, -1.3235e-08, -2.3306e-08, -5.4596e-08,  7.9989e-09,\n",
       "           5.8137e-09, -3.4485e-08, -1.0368e-08, -3.4536e-09, -1.8906e-08,\n",
       "          -1.1247e-08],\n",
       "         [ 3.2975e-08,  1.2049e-07,  1.2444e-07, -4.2894e-08, -3.7468e-09,\n",
       "           1.8799e-08,  4.8780e-08,  8.5899e-08,  2.0123e-07, -2.9480e-08,\n",
       "          -2.1426e-08,  1.2711e-07,  3.8217e-08,  1.2733e-08,  6.9687e-08,\n",
       "           4.1460e-08]]),\n",
       " tensor([ 3.4273e-07, -5.6624e-07, -1.3039e-07,  4.8056e-07]),\n",
       " tensor([[-5.8743e-10, -2.0064e-10,  1.9340e-10,  5.9467e-10],\n",
       "         [-3.5747e-09, -1.2211e-09,  1.1768e-09,  3.6190e-09],\n",
       "         [-4.3909e-09, -1.4998e-09,  1.4455e-09,  4.4452e-09],\n",
       "         [-2.1411e-09, -7.3134e-10,  7.0488e-10,  2.1676e-09],\n",
       "         [-3.6312e-09, -1.2403e-09,  1.1954e-09,  3.6760e-09],\n",
       "         [-4.7114e-09, -1.6093e-09,  1.5511e-09,  4.7696e-09],\n",
       "         [-6.0273e-09, -2.0587e-09,  1.9843e-09,  6.1018e-09],\n",
       "         [-7.5409e-09, -2.5757e-09,  2.4826e-09,  7.6339e-09],\n",
       "         [-1.0411e-08, -3.5560e-09,  3.4275e-09,  1.0540e-08],\n",
       "         [-4.8269e-09, -1.6487e-09,  1.5891e-09,  4.8865e-09],\n",
       "         [-5.6422e-09, -1.9271e-09,  1.8575e-09,  5.7118e-09],\n",
       "         [-1.1517e-08, -3.9338e-09,  3.7917e-09,  1.1659e-08],\n",
       "         [-9.3784e-09, -3.2033e-09,  3.0875e-09,  9.4941e-09],\n",
       "         [-8.7982e-09, -3.0051e-09,  2.8966e-09,  8.9068e-09],\n",
       "         [-1.1912e-08, -4.0685e-09,  3.9215e-09,  1.2059e-08],\n",
       "         [-1.1338e-08, -3.8725e-09,  3.7326e-09,  1.1478e-08]]),\n",
       " tensor([4.4412e-10, 2.7027e-09, 3.3197e-09, 1.6188e-09, 2.7454e-09, 3.5621e-09,\n",
       "         4.5570e-09, 5.7013e-09, 7.8713e-09, 3.6494e-09, 4.2658e-09, 8.7076e-09,\n",
       "         7.0905e-09, 6.6519e-09, 9.0057e-09, 8.5719e-09]))"
      ]
     },
     "execution_count": 69,
     "metadata": {},
     "output_type": "execute_result"
    }
   ],
   "source": [
    "mlp_proj.weight.grad, mlp_proj.bias.grad, mlp_fc.weight.grad,mlp_fc.bias.grad"
   ]
  },
  {
   "cell_type": "code",
   "execution_count": 70,
   "id": "d43ddcad-1e49-4287-bf74-e3fd047dd43d",
   "metadata": {
    "scrolled": true
   },
   "outputs": [
    {
     "data": {
      "text/plain": [
       "(Parameter containing:\n",
       " tensor([[0.0010, 0.0020, 0.0030, 0.0040, 0.0050, 0.0060, 0.0070, 0.0080, 0.0090,\n",
       "          0.0100, 0.0110, 0.0120, 0.0130, 0.0140, 0.0150, 0.0160],\n",
       "         [0.0020, 0.0050, 0.0070, 0.0090, 0.0110, 0.0130, 0.0150, 0.0170, 0.0190,\n",
       "          0.0210, 0.0230, 0.0250, 0.0270, 0.0290, 0.0310, 0.0330],\n",
       "         [0.0030, 0.0090, 0.0120, 0.0150, 0.0180, 0.0210, 0.0240, 0.0270, 0.0300,\n",
       "          0.0330, 0.0360, 0.0390, 0.0420, 0.0450, 0.0480, 0.0510],\n",
       "         [0.0040, 0.0140, 0.0180, 0.0220, 0.0260, 0.0300, 0.0340, 0.0380, 0.0420,\n",
       "          0.0460, 0.0500, 0.0540, 0.0580, 0.0620, 0.0660, 0.0700]],\n",
       "        requires_grad=True),\n",
       " Parameter containing:\n",
       " tensor([ 0.0891,  0.1415,  0.0581, -0.0524], requires_grad=True),\n",
       " Parameter containing:\n",
       " tensor([[0.0010, 0.0020, 0.0030, 0.0040],\n",
       "         [0.0020, 0.0050, 0.0070, 0.0090],\n",
       "         [0.0030, 0.0090, 0.0120, 0.0150],\n",
       "         [0.0040, 0.0140, 0.0180, 0.0220],\n",
       "         [0.0050, 0.0200, 0.0250, 0.0300],\n",
       "         [0.0060, 0.0270, 0.0330, 0.0390],\n",
       "         [0.0070, 0.0350, 0.0420, 0.0490],\n",
       "         [0.0080, 0.0440, 0.0520, 0.0600],\n",
       "         [0.0090, 0.0540, 0.0630, 0.0720],\n",
       "         [0.0100, 0.0650, 0.0750, 0.0850],\n",
       "         [0.0110, 0.0770, 0.0880, 0.0990],\n",
       "         [0.0120, 0.0900, 0.1020, 0.1140],\n",
       "         [0.0130, 0.1040, 0.1170, 0.1300],\n",
       "         [0.0140, 0.1190, 0.1330, 0.1470],\n",
       "         [0.0150, 0.1350, 0.1500, 0.1650],\n",
       "         [0.0160, 0.1520, 0.1680, 0.1840]], requires_grad=True),\n",
       " Parameter containing:\n",
       " tensor([ 0.1204,  0.3755,  0.3787, -0.2409, -0.0512,  0.0274,  0.1191,  0.2184,\n",
       "          0.4943, -0.2417, -0.2181,  0.2624, -0.0180, -0.1315,  0.0379, -0.0759],\n",
       "        requires_grad=True))"
      ]
     },
     "execution_count": 70,
     "metadata": {},
     "output_type": "execute_result"
    }
   ],
   "source": [
    "with torch.no_grad():\n",
    "    mlp_proj.weight -= learning_rate * mlp_proj.weight.grad\n",
    "    mlp_proj.bias -= learning_rate * mlp_proj.bias.grad\n",
    "    mlp_fc.weight -= learning_rate * mlp_fc.weight.grad\n",
    "    mlp_fc.bias -= learning_rate * mlp_fc.bias.grad\n",
    "mlp_proj.weight, mlp_proj.bias, mlp_fc.weight,mlp_fc.bias"
   ]
  },
  {
   "cell_type": "markdown",
   "id": "67318475-fb26-43db-ad67-7ed276f58cf2",
   "metadata": {},
   "source": [
    "### Tranformer - Layer Norm 2\n",
    "Now on to the next layer normalization.  Similarly we have both weights and biases to update again.  We can see once again these are exceptionally small gradients. "
   ]
  },
  {
   "cell_type": "code",
   "execution_count": 71,
   "id": "5564e6d6-b7ef-4c03-8a4c-fdc0511fe86a",
   "metadata": {},
   "outputs": [
    {
     "data": {
      "text/plain": [
       "(tensor([-1.1258e-09, -2.9141e-09,  3.1795e-09,  1.0917e-08]),\n",
       " tensor([8.5118e-10, 6.4505e-09, 7.3016e-09, 8.1528e-09]))"
      ]
     },
     "execution_count": 71,
     "metadata": {},
     "output_type": "execute_result"
    }
   ],
   "source": [
    "ln_2.weight.grad, ln_2.bias.grad"
   ]
  },
  {
   "cell_type": "code",
   "execution_count": 72,
   "id": "155bb665-f3af-4573-883f-cd47712379ec",
   "metadata": {},
   "outputs": [
    {
     "data": {
      "text/plain": [
       "(Parameter containing:\n",
       " tensor([1.0000, 1.0000, 1.0000, 1.0000], requires_grad=True),\n",
       " Parameter containing:\n",
       " tensor([-4.2559e-09, -3.2252e-08, -3.6508e-08, -4.0764e-08],\n",
       "        requires_grad=True))"
      ]
     },
     "execution_count": 72,
     "metadata": {},
     "output_type": "execute_result"
    }
   ],
   "source": [
    "with torch.no_grad():\n",
    "    ln_2.weight -= learning_rate * ln_2.weight.grad\n",
    "    ln_2.bias   -= learning_rate * ln_2.bias.grad\n",
    "ln_2.weight, ln_2.bias"
   ]
  },
  {
   "cell_type": "markdown",
   "id": "6ab1e67e-e883-4fcf-b5cf-dc0774435318",
   "metadata": {},
   "source": [
    "### Tranformer - Flash Attention\n",
    "Even though flash attention was excpetionally complicated with multiple attnetion heads and the query, key, and value, we only have 2 sets of weights, and biases, to update: `c_attn`, `c_proj`.  Back propogation aggregated the different impacts across on each.  \n",
    "\n",
    "Similar to what we've seen this far, these gradiens are very small but we can see large order of magnitudedifferences within the values starting to suggest how they impact the ouputs. "
   ]
  },
  {
   "cell_type": "code",
   "execution_count": 73,
   "id": "79182f08-1ad0-411d-8034-efa1546e3514",
   "metadata": {},
   "outputs": [
    {
     "data": {
      "text/plain": [
       "(tensor([[ 5.9886e-19,  1.9962e-19, -1.9962e-19, -5.9886e-19],\n",
       "         [ 5.6699e-19,  1.8900e-19, -1.8900e-19, -5.6699e-19],\n",
       "         [-1.4730e-17, -4.9100e-18,  4.9100e-18,  1.4730e-17],\n",
       "         [-1.8661e-17, -6.2203e-18,  6.2202e-18,  1.8661e-17],\n",
       "         [-3.4765e-20,  3.3945e-20, -2.9754e-20, -3.3095e-20],\n",
       "         [-4.8207e-20,  8.9532e-20, -8.4130e-20, -9.7029e-20],\n",
       "         [ 1.3764e-18,  3.7843e-18,  1.9764e-18, -7.2143e-19],\n",
       "         [ 1.9788e-18,  5.6329e-18,  2.8696e-18, -1.0349e-18],\n",
       "         [-1.0604e-09, -3.5347e-10,  3.5347e-10,  1.0604e-09],\n",
       "         [-4.8019e-09, -1.6006e-09,  1.6006e-09,  4.8019e-09],\n",
       "         [-6.1121e-09, -2.0374e-09,  2.0374e-09,  6.1121e-09],\n",
       "         [-7.2319e-09, -2.4106e-09,  2.4106e-09,  7.2319e-09]]),\n",
       " tensor([-4.5080e-19, -4.2681e-19,  1.1088e-17,  1.4047e-17, -2.8376e-20,\n",
       "         -8.6397e-20, -4.3368e-19, -9.7578e-19,  7.9824e-10,  3.6148e-09,\n",
       "          4.6010e-09,  5.4440e-09]),\n",
       " tensor([[ 2.6019e-08,  3.0881e-08,  3.8607e-08,  4.4644e-08],\n",
       "         [-4.7728e-08, -5.6647e-08, -6.5994e-08, -7.6313e-08],\n",
       "         [-1.0364e-08, -1.2301e-08, -1.6185e-08, -1.8716e-08],\n",
       "         [ 4.2629e-08,  5.0595e-08,  6.1147e-08,  7.0708e-08]]),\n",
       " tensor([ 2.8222e-07, -4.9036e-07, -1.0967e-07,  4.4446e-07]))"
      ]
     },
     "execution_count": 73,
     "metadata": {},
     "output_type": "execute_result"
    }
   ],
   "source": [
    "c_attn.weight.grad,c_attn.bias.grad, c_proj.weight.grad, c_proj.bias.grad,"
   ]
  },
  {
   "cell_type": "code",
   "execution_count": 74,
   "id": "573983a0-2c3e-419a-b261-f00b988fc915",
   "metadata": {},
   "outputs": [
    {
     "data": {
      "text/plain": [
       "(Parameter containing:\n",
       " tensor([[0.0010, 0.0020, 0.0030, 0.0040],\n",
       "         [0.0020, 0.0050, 0.0070, 0.0090],\n",
       "         [0.0030, 0.0090, 0.0120, 0.0150],\n",
       "         [0.0040, 0.0140, 0.0180, 0.0220],\n",
       "         [0.0050, 0.0200, 0.0250, 0.0300],\n",
       "         [0.0060, 0.0270, 0.0330, 0.0390],\n",
       "         [0.0070, 0.0350, 0.0420, 0.0490],\n",
       "         [0.0080, 0.0440, 0.0520, 0.0600],\n",
       "         [0.0090, 0.0540, 0.0630, 0.0720],\n",
       "         [0.0100, 0.0650, 0.0750, 0.0850],\n",
       "         [0.0110, 0.0770, 0.0880, 0.0990],\n",
       "         [0.0120, 0.0900, 0.1020, 0.1140]], requires_grad=True),\n",
       " Parameter containing:\n",
       " tensor([ 2.2540e-18,  2.1341e-18, -5.5442e-17, -7.0236e-17,  1.4188e-19,\n",
       "          4.3199e-19,  2.1684e-18,  4.8789e-18, -3.9912e-09, -1.8074e-08,\n",
       "         -2.3005e-08, -2.7220e-08], requires_grad=True),\n",
       " Parameter containing:\n",
       " tensor([[0.0010, 0.0020, 0.0030, 0.0040],\n",
       "         [0.0020, 0.0050, 0.0070, 0.0090],\n",
       "         [0.0030, 0.0090, 0.0120, 0.0150],\n",
       "         [0.0040, 0.0140, 0.0180, 0.0220]], requires_grad=True),\n",
       " Parameter containing:\n",
       " tensor([-1.4111e-06,  2.4518e-06,  5.4833e-07, -2.2223e-06],\n",
       "        requires_grad=True))"
      ]
     },
     "execution_count": 74,
     "metadata": {},
     "output_type": "execute_result"
    }
   ],
   "source": [
    "with torch.no_grad():\n",
    "    c_attn.weight -= learning_rate * c_attn.weight.grad\n",
    "    c_attn.bias -= learning_rate * c_attn.bias.grad\n",
    "    c_proj.weight -= learning_rate * c_proj.weight.grad\n",
    "    c_proj.bias -= learning_rate * c_proj.bias.grad\n",
    "c_attn.weight,c_attn.bias, c_proj.weight, c_proj.bias,"
   ]
  },
  {
   "cell_type": "markdown",
   "id": "819257f1-2327-4688-9a3d-611ed915b679",
   "metadata": {},
   "source": [
    "### Tranformer - Layer Norm 1\n",
    "Now on to the first layer normalization in a transfomer.  Similarly to the other layer normalizations we have both weights and biases to update again.  We can see once again these are exceptionally small gradients. "
   ]
  },
  {
   "cell_type": "code",
   "execution_count": 75,
   "id": "50270466-6a75-423d-99bb-6ee57ed86e4e",
   "metadata": {},
   "outputs": [
    {
     "data": {
      "text/plain": [
       "(tensor([-2.1158e-10, -4.9696e-10,  5.6749e-10,  1.9140e-09]),\n",
       " tensor([1.5927e-10, 1.1223e-09, 1.2816e-09, 1.4408e-09]))"
      ]
     },
     "execution_count": 75,
     "metadata": {},
     "output_type": "execute_result"
    }
   ],
   "source": [
    "ln_1.weight.grad, ln_1.bias.grad"
   ]
  },
  {
   "cell_type": "code",
   "execution_count": 76,
   "id": "9f1a1bdf-67ad-49a1-b387-3337f1e42555",
   "metadata": {},
   "outputs": [
    {
     "data": {
      "text/plain": [
       "(Parameter containing:\n",
       " tensor([1., 1., 1., 1.], requires_grad=True),\n",
       " Parameter containing:\n",
       " tensor([-7.9635e-10, -5.6115e-09, -6.4079e-09, -7.2042e-09],\n",
       "        requires_grad=True))"
      ]
     },
     "execution_count": 76,
     "metadata": {},
     "output_type": "execute_result"
    }
   ],
   "source": [
    "with torch.no_grad():\n",
    "    ln_1.weight -= learning_rate * ln_1.weight.grad\n",
    "    ln_1.bias   -= learning_rate * ln_1.bias.grad\n",
    "ln_1.weight, ln_1.bias"
   ]
  },
  {
   "cell_type": "markdown",
   "id": "ce66d047-cbed-4f71-80e1-8d2c0d2559e2",
   "metadata": {},
   "source": [
    "### Input Layer \n",
    "Now on to the input layer.  Recall that this layer had 2 components: the positional embeddings `wpe` and the token embeddings `wte`. We used *weight tying* to tie our token project `wte` with our head `lm_head` which has already been updated so we do not need to touch it.  We do however still need to update our positional embeddings.   Remember that `wpe` as an embedding has only weights and no biases. We'll see that once again we have relatively small gradients but we can see that they do very a few orders of magnitude showing that even with our small vocab and context, the position are starting to show some impact. \n",
    "\n",
    "*Note that this is the final layer of update we need to make.  Tokenization and data loading is separate from the model and does not impact loss*"
   ]
  },
  {
   "cell_type": "code",
   "execution_count": 77,
   "id": "a85197cf-2fb8-42d6-8a6e-b184878050cb",
   "metadata": {
    "scrolled": true
   },
   "outputs": [
    {
     "data": {
      "text/plain": [
       "tensor([[-3.6269e-08,  6.3913e-08,  4.5561e-08, -9.1831e-08],\n",
       "        [ 1.3911e-07, -3.2269e-07, -9.0829e-08,  3.0421e-07],\n",
       "        [-2.9739e-08,  6.3188e-08,  1.3497e-08, -8.4200e-08],\n",
       "        [-2.0299e-08,  3.2760e-08,  1.1684e-08, -5.3948e-08],\n",
       "        [ 7.8811e-08, -1.9212e-08, -2.3554e-08,  9.8066e-08],\n",
       "        [ 1.6379e-07, -3.6291e-07, -8.4069e-08,  3.1299e-07],\n",
       "        [ 2.1207e-08, -2.1866e-08, -8.8038e-10, -2.1867e-09],\n",
       "        [-4.5591e-08,  9.0521e-08,  2.2656e-08, -4.5235e-08]])"
      ]
     },
     "execution_count": 77,
     "metadata": {},
     "output_type": "execute_result"
    }
   ],
   "source": [
    "wpe.weight.grad"
   ]
  },
  {
   "cell_type": "code",
   "execution_count": 78,
   "id": "4de278b6-99aa-4690-86b8-4828664f80d6",
   "metadata": {},
   "outputs": [
    {
     "data": {
      "text/plain": [
       "Parameter containing:\n",
       "tensor([[0.0100, 0.0200, 0.0300, 0.0400],\n",
       "        [0.0200, 0.0300, 0.0400, 0.0500],\n",
       "        [0.0300, 0.0400, 0.0500, 0.0600],\n",
       "        [0.0400, 0.0500, 0.0600, 0.0700],\n",
       "        [0.0500, 0.0600, 0.0700, 0.0800],\n",
       "        [0.0600, 0.0700, 0.0800, 0.0900],\n",
       "        [0.0700, 0.0800, 0.0900, 0.1000],\n",
       "        [0.0800, 0.0900, 0.1000, 0.1100]], requires_grad=True)"
      ]
     },
     "execution_count": 78,
     "metadata": {},
     "output_type": "execute_result"
    }
   ],
   "source": [
    "with torch.no_grad():\n",
    "    wpe.weight -= learning_rate * wpe.weight.grad\n",
    "wpe.weight"
   ]
  },
  {
   "cell_type": "markdown",
   "id": "3e82e17c-b038-4975-8c97-914e5b15a5cf",
   "metadata": {},
   "source": [
    "## Forward Pass with Updated Weights"
   ]
  },
  {
   "cell_type": "markdown",
   "id": "a5a16c16-3b97-4457-9c18-df6c0b8b10ee",
   "metadata": {},
   "source": [
    "Now that we have the updated weights for each layer, let's do another forward pass and compare the loss. Since each layer was previously explained we will instead focus on just showing the outputs of the different layers and the final loss. If you want, you can check the previous outputs in the cached cell outputs above and compare them to see how the weight changes impacted the values at each layer. \n",
    "\n",
    "One key sign that our weights were updated is that you'll see quickly that the values at each layer are no longer repeated.  "
   ]
  },
  {
   "cell_type": "markdown",
   "id": "92ad4b84-b10a-4888-b8ce-3eb3affb6b26",
   "metadata": {},
   "source": [
    "### Data Re-loading\n",
    "Repulling to a new `x_2`. We'll keep `y` to emphasize the same examples are being used. "
   ]
  },
  {
   "cell_type": "code",
   "execution_count": 79,
   "id": "ae802f01-b89b-49cf-b833-924287d34c0a",
   "metadata": {},
   "outputs": [
    {
     "data": {
      "text/plain": [
       "(tensor([[35, 15, 32,  9,  5, 20, 30, 15],\n",
       "         [11,  9,  6, 20,  5,  0, 13, 21]]),\n",
       " tensor([[15, 32,  9,  5, 20, 30, 15, 11],\n",
       "         [ 9,  6, 20,  5,  0, 13, 21,  0]]))"
      ]
     },
     "execution_count": 79,
     "metadata": {},
     "output_type": "execute_result"
    }
   ],
   "source": [
    "x_2 = tok_for_training[:-1].view(B, T)\n",
    "x_2, y"
   ]
  },
  {
   "cell_type": "markdown",
   "id": "adb9a710-987c-4be9-9d4d-7a740f56760b",
   "metadata": {},
   "source": [
    "### Input Layer\n",
    "Note that in `wte` you can already see the impact of updated weights with the negative values. This was not originally present. "
   ]
  },
  {
   "cell_type": "code",
   "execution_count": 80,
   "id": "6fe50b1e-a64a-4b2c-ba4e-f6103c2ffd35",
   "metadata": {},
   "outputs": [
    {
     "name": "stdout",
     "output_type": "stream",
     "text": [
      "torch.Size([8, 4]) tensor([[0.0100, 0.0200, 0.0300, 0.0400],\n",
      "        [0.0200, 0.0300, 0.0400, 0.0500],\n",
      "        [0.0300, 0.0400, 0.0500, 0.0600],\n",
      "        [0.0400, 0.0500, 0.0600, 0.0700],\n",
      "        [0.0500, 0.0600, 0.0700, 0.0800],\n",
      "        [0.0600, 0.0700, 0.0800, 0.0900],\n",
      "        [0.0700, 0.0800, 0.0900, 0.1000],\n",
      "        [0.0800, 0.0900, 0.1000, 0.1100]], grad_fn=<EmbeddingBackward0>)\n"
     ]
    }
   ],
   "source": [
    "pos = torch.arange(0, T, dtype=torch.long)\n",
    "pos_emb = wpe(pos)\n",
    "print(pos_emb.shape, pos_emb)"
   ]
  },
  {
   "cell_type": "code",
   "execution_count": 81,
   "id": "428da2cc-8bea-493f-af51-9212ed4b5204",
   "metadata": {},
   "outputs": [
    {
     "name": "stdout",
     "output_type": "stream",
     "text": [
      "torch.Size([2, 8, 4]) tensor([[[ 0.4489,  0.1732,  0.3238,  0.5542],\n",
      "         [-0.1568,  0.8589,  0.3788, -0.3808],\n",
      "         [ 0.2246,  0.5860,  0.4183,  0.1510],\n",
      "         [-0.1997,  0.7987,  0.3129, -0.4519],\n",
      "         [-0.2459,  0.7589,  0.2750, -0.4880],\n",
      "         [-0.1036,  0.9089,  0.4277, -0.3330],\n",
      "         [ 0.1951,  0.5660,  0.4016,  0.1373],\n",
      "         [-0.1568,  0.8589,  0.3788, -0.3808]],\n",
      "\n",
      "        [[ 0.0051,  0.3760,  0.2116, -0.0527],\n",
      "         [-0.1997,  0.7987,  0.3129, -0.4519],\n",
      "         [-0.0449,  0.3260,  0.1616, -0.1027],\n",
      "         [-0.1036,  0.9089,  0.4277, -0.3330],\n",
      "         [-0.2459,  0.7589,  0.2750, -0.4880],\n",
      "         [-0.3050,  0.7089,  0.2282, -0.5320],\n",
      "         [ 0.0283,  0.3960,  0.2305, -0.0348],\n",
      "         [ 0.1106,  0.4760,  0.3097,  0.0437]]], grad_fn=<EmbeddingBackward0>)\n"
     ]
    }
   ],
   "source": [
    "tok_emb = wte(x_2)\n",
    "print(tok_emb.shape, tok_emb)"
   ]
  },
  {
   "cell_type": "code",
   "execution_count": 82,
   "id": "f6269b91-414c-4180-979a-74b3425eb16f",
   "metadata": {},
   "outputs": [
    {
     "name": "stdout",
     "output_type": "stream",
     "text": [
      "tensor([[[ 0.4589,  0.1932,  0.3538,  0.5942],\n",
      "         [-0.1368,  0.8889,  0.4188, -0.3308],\n",
      "         [ 0.2546,  0.6260,  0.4683,  0.2110],\n",
      "         [-0.1597,  0.8487,  0.3729, -0.3819],\n",
      "         [-0.1959,  0.8189,  0.3450, -0.4080],\n",
      "         [-0.0436,  0.9789,  0.5077, -0.2430],\n",
      "         [ 0.2651,  0.6460,  0.4916,  0.2373],\n",
      "         [-0.0768,  0.9489,  0.4788, -0.2708]],\n",
      "\n",
      "        [[ 0.0151,  0.3960,  0.2416, -0.0127],\n",
      "         [-0.1797,  0.8287,  0.3529, -0.4019],\n",
      "         [-0.0149,  0.3660,  0.2116, -0.0427],\n",
      "         [-0.0636,  0.9589,  0.4877, -0.2630],\n",
      "         [-0.1959,  0.8189,  0.3450, -0.4080],\n",
      "         [-0.2450,  0.7789,  0.3082, -0.4420],\n",
      "         [ 0.0983,  0.4760,  0.3205,  0.0652],\n",
      "         [ 0.1906,  0.5660,  0.4097,  0.1537]]], grad_fn=<AddBackward0>)\n"
     ]
    }
   ],
   "source": [
    "x = tok_emb + pos_emb\n",
    "print(x)"
   ]
  },
  {
   "cell_type": "markdown",
   "id": "64f2b426-93e4-4072-be08-e15524bc4e8e",
   "metadata": {},
   "source": [
    "### Transformer - Layer Normalization\n",
    "If you recall, the values here were all uniform. The updated weights and changed input now result in changes, showing the impact of our learning."
   ]
  },
  {
   "cell_type": "code",
   "execution_count": 83,
   "id": "847139dc-0e01-4340-858c-bcb1513d7e24",
   "metadata": {},
   "outputs": [
    {
     "name": "stdout",
     "output_type": "stream",
     "text": [
      "torch.Size([2, 8, 4]) tensor([[[ 0.4014, -1.4095, -0.3151,  1.3233],\n",
      "         [-0.7243,  1.4176,  0.4360, -1.1294],\n",
      "         [-0.8080,  1.4090,  0.4675, -1.0685],\n",
      "         [-0.6893,  1.4190,  0.4241, -1.1538],\n",
      "         [-0.7019,  1.4186,  0.4284, -1.1451],\n",
      "         [-0.7176,  1.4179,  0.4338, -1.1341],\n",
      "         [-0.8614,  1.4028,  0.4850, -1.0264],\n",
      "         [-0.7243,  1.4176,  0.4360, -1.1294]],\n",
      "\n",
      "        [[-0.8614,  1.4028,  0.4850, -1.0264],\n",
      "         [-0.6893,  1.4190,  0.4241, -1.1538],\n",
      "         [-0.8614,  1.4028,  0.4850, -1.0264],\n",
      "         [-0.7176,  1.4179,  0.4338, -1.1341],\n",
      "         [-0.7019,  1.4186,  0.4284, -1.1451],\n",
      "         [-0.7206,  1.4178,  0.4348, -1.1320],\n",
      "         [-0.8436,  1.4051,  0.4792, -1.0407],\n",
      "         [-0.8310,  1.4066,  0.4751, -1.0507]]],\n",
      "       grad_fn=<NativeLayerNormBackward0>)\n"
     ]
    }
   ],
   "source": [
    "x_norm = ln_1(x)\n",
    "print(x_norm.shape, x_norm)"
   ]
  },
  {
   "cell_type": "markdown",
   "id": "485a6d83-639b-4215-a91d-5b257aa1d14c",
   "metadata": {},
   "source": [
    "### Transformer - Flash Attention"
   ]
  },
  {
   "cell_type": "code",
   "execution_count": 84,
   "id": "061825ec-08d2-4e93-bd92-17a0cc1d801e",
   "metadata": {},
   "outputs": [
    {
     "name": "stdout",
     "output_type": "stream",
     "text": [
      "torch.Size([2, 8, 12]) tensor([[[ 1.9300e-03,  3.4587e-03,  4.5860e-03,  5.3119e-03,  5.6364e-03,\n",
      "           5.5596e-03,  5.0814e-03,  4.2018e-03,  2.9209e-03,  1.2385e-03,\n",
      "          -8.4517e-04, -3.3303e-03],\n",
      "         [-1.0984e-03, -1.4724e-03, -1.1222e-03, -4.7605e-05,  1.7513e-03,\n",
      "           4.2744e-03,  7.5219e-03,  1.1494e-02,  1.6190e-02,  2.1610e-02,\n",
      "           2.7755e-02,  3.4624e-02],\n",
      "         [-8.6149e-04, -9.1494e-04, -1.6036e-04,  1.4023e-03,  3.7729e-03,\n",
      "           6.9516e-03,  1.0938e-02,  1.5733e-02,  2.1336e-02,  2.7747e-02,\n",
      "           3.4965e-02,  4.2992e-02],\n",
      "         [-1.1943e-03, -1.6994e-03, -1.5151e-03, -6.4166e-04,  9.2108e-04,\n",
      "           3.1731e-03,  6.1143e-03,  9.7448e-03,  1.4065e-02,  1.9074e-02,\n",
      "           2.4772e-02,  3.1160e-02],\n",
      "         [-1.1600e-03, -1.6181e-03, -1.3743e-03, -4.2868e-04,  1.2188e-03,\n",
      "           3.5682e-03,  6.6194e-03,  1.0372e-02,  1.4827e-02,  1.9984e-02,\n",
      "           2.5843e-02,  3.2403e-02],\n",
      "         [-1.1168e-03, -1.5159e-03, -1.1974e-03, -1.6122e-04,  1.5926e-03,\n",
      "           4.0640e-03,  7.2530e-03,  1.1160e-02,  1.5784e-02,  2.1126e-02,\n",
      "           2.7185e-02,  3.3963e-02],\n",
      "         [-7.0650e-04, -5.5164e-04,  4.6458e-04,  2.3422e-03,  5.0811e-03,\n",
      "           8.6814e-03,  1.3143e-02,  1.8466e-02,  2.4651e-02,  3.1696e-02,\n",
      "           3.9603e-02,  4.8372e-02],\n",
      "         [-1.0984e-03, -1.4724e-03, -1.1222e-03, -4.7600e-05,  1.7513e-03,\n",
      "           4.2744e-03,  7.5219e-03,  1.1494e-02,  1.6190e-02,  2.1610e-02,\n",
      "           2.7755e-02,  3.4624e-02]],\n",
      "\n",
      "        [[-7.0650e-04, -5.5164e-04,  4.6459e-04,  2.3422e-03,  5.0811e-03,\n",
      "           8.6814e-03,  1.3143e-02,  1.8466e-02,  2.4651e-02,  3.1696e-02,\n",
      "           3.9603e-02,  4.8372e-02],\n",
      "         [-1.1943e-03, -1.6994e-03, -1.5151e-03, -6.4167e-04,  9.2106e-04,\n",
      "           3.1731e-03,  6.1143e-03,  9.7448e-03,  1.4065e-02,  1.9074e-02,\n",
      "           2.4772e-02,  3.1159e-02],\n",
      "         [-7.0650e-04, -5.5163e-04,  4.6460e-04,  2.3422e-03,  5.0812e-03,\n",
      "           8.6815e-03,  1.3143e-02,  1.8466e-02,  2.4651e-02,  3.1696e-02,\n",
      "           3.9604e-02,  4.8372e-02],\n",
      "         [-1.1167e-03, -1.5159e-03, -1.1974e-03, -1.6121e-04,  1.5926e-03,\n",
      "           4.0640e-03,  7.2530e-03,  1.1160e-02,  1.5784e-02,  2.1126e-02,\n",
      "           2.7185e-02,  3.3963e-02],\n",
      "         [-1.1600e-03, -1.6181e-03, -1.3743e-03, -4.2868e-04,  1.2188e-03,\n",
      "           3.5682e-03,  6.6194e-03,  1.0372e-02,  1.4827e-02,  1.9984e-02,\n",
      "           2.5843e-02,  3.2403e-02],\n",
      "         [-1.1087e-03, -1.4969e-03, -1.1645e-03, -1.1151e-04,  1.6620e-03,\n",
      "           4.1560e-03,  7.3707e-03,  1.1306e-02,  1.5962e-02,  2.1338e-02,\n",
      "           2.7435e-02,  3.4252e-02],\n",
      "         [-7.5842e-04, -6.7320e-04,  2.5567e-04,  2.0282e-03,  4.6444e-03,\n",
      "           8.1042e-03,  1.2408e-02,  1.7555e-02,  2.3546e-02,  3.0380e-02,\n",
      "           3.8058e-02,  4.6580e-02],\n",
      "         [-7.9536e-04, -7.5976e-04,  1.0679e-04,  1.8043e-03,  4.3328e-03,\n",
      "           7.6922e-03,  1.1883e-02,  1.6904e-02,  2.2756e-02,  2.9439e-02,\n",
      "           3.6954e-02,  4.5299e-02]]], grad_fn=<ViewBackward0>)\n"
     ]
    }
   ],
   "source": [
    "B, T, C = x_norm.size()\n",
    "qkv = c_attn(x_norm)\n",
    "print(qkv.shape, qkv)"
   ]
  },
  {
   "cell_type": "code",
   "execution_count": 85,
   "id": "6b00f6b8-35bf-4120-adb5-9cd63130cc36",
   "metadata": {},
   "outputs": [
    {
     "name": "stdout",
     "output_type": "stream",
     "text": [
      "torch.Size([2, 8, 4]) tensor([[[0.0003, 0.0007, 0.0012, 0.0017],\n",
      "         [0.0003, 0.0007, 0.0011, 0.0017],\n",
      "         [0.0003, 0.0007, 0.0013, 0.0019],\n",
      "         [0.0003, 0.0008, 0.0013, 0.0019],\n",
      "         [0.0003, 0.0007, 0.0011, 0.0017],\n",
      "         [0.0003, 0.0007, 0.0012, 0.0017],\n",
      "         [0.0003, 0.0008, 0.0013, 0.0019],\n",
      "         [0.0003, 0.0006, 0.0011, 0.0016]],\n",
      "\n",
      "        [[0.0003, 0.0007, 0.0012, 0.0018],\n",
      "         [0.0003, 0.0006, 0.0011, 0.0016],\n",
      "         [0.0003, 0.0007, 0.0011, 0.0016],\n",
      "         [0.0004, 0.0008, 0.0014, 0.0021],\n",
      "         [0.0003, 0.0007, 0.0011, 0.0017],\n",
      "         [0.0003, 0.0006, 0.0010, 0.0015],\n",
      "         [0.0003, 0.0007, 0.0011, 0.0017],\n",
      "         [0.0004, 0.0008, 0.0014, 0.0020]]], grad_fn=<ViewBackward0>)\n"
     ]
    }
   ],
   "source": [
    "q,k,v = qkv.split(n_embd, dim=2)\n",
    "q = q.view(B, T, n_head, C // n_head).transpose(1, 2)\n",
    "k = k.view(B, T, n_head, C // n_head).transpose(1, 2)\n",
    "v = v.view(B, T, n_head, C // n_head).transpose(1, 2)\n",
    "att = att.masked_fill(mask[:T, :T] == 0, float('-inf'))\n",
    "att = F.softmax(att, dim=-1)\n",
    "att = dropout(att)\n",
    "fa = att @ v\n",
    "fa = fa.transpose(1, 2).contiguous().view(B, T, C)\n",
    "x_norm = c_proj(fa)\n",
    "print(x_norm.shape, x_norm)"
   ]
  },
  {
   "cell_type": "markdown",
   "id": "d9f590d9-60cc-4fed-b97e-5290b54856f6",
   "metadata": {},
   "source": [
    "### Transformer - Residual connection"
   ]
  },
  {
   "cell_type": "code",
   "execution_count": 86,
   "id": "0b1e8544-1e80-4efd-99bf-a00953be4ff1",
   "metadata": {},
   "outputs": [
    {
     "name": "stdout",
     "output_type": "stream",
     "text": [
      "torch.Size([2, 8, 4]) tensor([[[ 0.4592,  0.1939,  0.3549,  0.5959],\n",
      "         [-0.1366,  0.8895,  0.4199, -0.3292],\n",
      "         [ 0.2550,  0.6268,  0.4696,  0.2129],\n",
      "         [-0.1594,  0.8495,  0.3742, -0.3800],\n",
      "         [-0.1956,  0.8195,  0.3462, -0.4063],\n",
      "         [-0.0433,  0.9795,  0.5088, -0.2413],\n",
      "         [ 0.2654,  0.6468,  0.4929,  0.2392],\n",
      "         [-0.0766,  0.9495,  0.4799, -0.2692]],\n",
      "\n",
      "        [[ 0.0154,  0.3967,  0.2428, -0.0109],\n",
      "         [-0.1794,  0.8293,  0.3539, -0.4003],\n",
      "         [-0.0146,  0.3667,  0.2127, -0.0411],\n",
      "         [-0.0632,  0.9597,  0.4891, -0.2609],\n",
      "         [-0.1956,  0.8195,  0.3462, -0.4063],\n",
      "         [-0.2448,  0.7795,  0.3092, -0.4405],\n",
      "         [ 0.0986,  0.4767,  0.3216,  0.0669],\n",
      "         [ 0.1909,  0.5669,  0.4111,  0.1557]]], grad_fn=<AddBackward0>)\n"
     ]
    }
   ],
   "source": [
    "x = x + x_norm\n",
    "print(x.shape, x)"
   ]
  },
  {
   "cell_type": "markdown",
   "id": "f72b725c-ca56-4011-a8d7-0ba05441edd1",
   "metadata": {},
   "source": [
    "### Transformer - Layer Normalization 2"
   ]
  },
  {
   "cell_type": "code",
   "execution_count": 87,
   "id": "c9653f04-ba59-4025-9773-fd77e4f466e5",
   "metadata": {},
   "outputs": [
    {
     "name": "stdout",
     "output_type": "stream",
     "text": [
      "torch.Size([2, 8, 4]) tensor([[[ 0.3960, -1.4089, -0.3132,  1.3260],\n",
      "         [-0.7259,  1.4175,  0.4366, -1.1282],\n",
      "         [-0.8131,  1.4085,  0.4692, -1.0646],\n",
      "         [-0.6911,  1.4189,  0.4248, -1.1526],\n",
      "         [-0.7035,  1.4185,  0.4290, -1.1440],\n",
      "         [-0.7193,  1.4179,  0.4343, -1.1329],\n",
      "         [-0.8664,  1.4021,  0.4867, -1.0224],\n",
      "         [-0.7258,  1.4175,  0.4366, -1.1283]],\n",
      "\n",
      "        [[-0.8661,  1.4021,  0.4866, -1.0226],\n",
      "         [-0.6908,  1.4189,  0.4246, -1.1528],\n",
      "         [-0.8658,  1.4022,  0.4865, -1.0229],\n",
      "         [-0.7196,  1.4178,  0.4344, -1.1327],\n",
      "         [-0.7035,  1.4185,  0.4290, -1.1440],\n",
      "         [-0.7220,  1.4177,  0.4352, -1.1310],\n",
      "         [-0.8482,  1.4045,  0.4807, -1.0370],\n",
      "         [-0.8365,  1.4059,  0.4769, -1.0463]]],\n",
      "       grad_fn=<NativeLayerNormBackward0>)\n"
     ]
    }
   ],
   "source": [
    "x_norm_2 = ln_2(x)\n",
    "print(x_norm_2.shape, x_norm_2)"
   ]
  },
  {
   "cell_type": "markdown",
   "id": "f575539a-048b-49ae-91f9-b3365472b8b3",
   "metadata": {},
   "source": [
    "### Transformer - Feed Forward"
   ]
  },
  {
   "cell_type": "code",
   "execution_count": 88,
   "id": "1866a5f6-0961-4e9b-b858-950911d44d6e",
   "metadata": {},
   "outputs": [
    {
     "name": "stdout",
     "output_type": "stream",
     "text": [
      "torch.Size([2, 8, 4]) tensor([[[ 0.0930,  0.1502,  0.0723, -0.0318],\n",
      "         [ 0.0955,  0.1554,  0.0803, -0.0209],\n",
      "         [ 0.0961,  0.1566,  0.0822, -0.0182],\n",
      "         [ 0.0953,  0.1549,  0.0795, -0.0219],\n",
      "         [ 0.0954,  0.1550,  0.0798, -0.0215],\n",
      "         [ 0.0955,  0.1553,  0.0801, -0.0211],\n",
      "         [ 0.0965,  0.1574,  0.0834, -0.0165],\n",
      "         [ 0.0955,  0.1554,  0.0803, -0.0209]],\n",
      "\n",
      "        [[ 0.0965,  0.1574,  0.0834, -0.0165],\n",
      "         [ 0.0953,  0.1549,  0.0795, -0.0219],\n",
      "         [ 0.0965,  0.1574,  0.0834, -0.0165],\n",
      "         [ 0.0955,  0.1553,  0.0802, -0.0210],\n",
      "         [ 0.0954,  0.1550,  0.0798, -0.0215],\n",
      "         [ 0.0955,  0.1553,  0.0802, -0.0210],\n",
      "         [ 0.0963,  0.1571,  0.0830, -0.0171],\n",
      "         [ 0.0963,  0.1569,  0.0828, -0.0174]]], grad_fn=<ViewBackward0>)\n"
     ]
    }
   ],
   "source": [
    "x_mlp = mlp_fc(x_norm_2)\n",
    "x_mlp = mlp_gelu(x_mlp)\n",
    "x_mlp = mlp_proj(x_mlp)\n",
    "print(x_mlp.shape, x_mlp)"
   ]
  },
  {
   "cell_type": "markdown",
   "id": "36aeb5b3-e7be-480c-bb84-27ead9591531",
   "metadata": {},
   "source": [
    "### Transformer - Residual (skip) connection 2"
   ]
  },
  {
   "cell_type": "code",
   "execution_count": 89,
   "id": "ecbd7463-e9c3-48fe-9afc-733ab67f7f2c",
   "metadata": {},
   "outputs": [
    {
     "name": "stdout",
     "output_type": "stream",
     "text": [
      "torch.Size([2, 8, 4]) tensor([[[ 0.5522,  0.3441,  0.4272,  0.5640],\n",
      "         [-0.0411,  1.0449,  0.5002, -0.3500],\n",
      "         [ 0.3511,  0.7834,  0.5518,  0.1947],\n",
      "         [-0.0641,  1.0044,  0.4537, -0.4019],\n",
      "         [-0.1002,  0.9746,  0.4260, -0.4278],\n",
      "         [ 0.0522,  1.1348,  0.5890, -0.2623],\n",
      "         [ 0.3619,  0.8041,  0.5763,  0.2227],\n",
      "         [ 0.0189,  1.1048,  0.5602, -0.2901]],\n",
      "\n",
      "        [[ 0.1119,  0.5541,  0.3262, -0.0274],\n",
      "         [-0.0841,  0.9842,  0.4335, -0.4222],\n",
      "         [ 0.0818,  0.5240,  0.2961, -0.0576],\n",
      "         [ 0.0322,  1.1149,  0.5692, -0.2820],\n",
      "         [-0.1002,  0.9746,  0.4260, -0.4278],\n",
      "         [-0.1493,  0.9348,  0.3894, -0.4615],\n",
      "         [ 0.1949,  0.6338,  0.4047,  0.0498],\n",
      "         [ 0.2872,  0.7238,  0.4939,  0.1383]]], grad_fn=<AddBackward0>)\n"
     ]
    }
   ],
   "source": [
    "x = x_mlp + x\n",
    "print(x.shape, x)"
   ]
  },
  {
   "cell_type": "markdown",
   "id": "5236268f-7eee-465f-87c2-6cf308db70a2",
   "metadata": {},
   "source": [
    "### Transformer - Final Layer Normalization"
   ]
  },
  {
   "cell_type": "code",
   "execution_count": 90,
   "id": "191ca349-ee8a-4cd1-8995-32a00d19f84a",
   "metadata": {},
   "outputs": [
    {
     "name": "stdout",
     "output_type": "stream",
     "text": [
      "torch.Size([2, 8, 4]) tensor([[[ 0.7862, -1.1882, -0.6622,  1.0513],\n",
      "         [-0.9204,  0.7712,  0.1474, -1.7207],\n",
      "         [-0.8302,  0.7696,  0.1216, -1.7819],\n",
      "         [-0.8828,  0.7708,  0.1369, -1.7470],\n",
      "         [-0.8962,  0.7710,  0.1406, -1.7377],\n",
      "         [-0.9132,  0.7712,  0.1454, -1.7258],\n",
      "         [-0.8842,  0.7709,  0.1368, -1.7456],\n",
      "         [-0.9203,  0.7712,  0.1473, -1.7208]],\n",
      "\n",
      "        [[-0.8839,  0.7709,  0.1367, -1.7458],\n",
      "         [-0.8824,  0.7708,  0.1368, -1.7472],\n",
      "         [-0.8836,  0.7709,  0.1366, -1.7460],\n",
      "         [-0.9136,  0.7712,  0.1455, -1.7255],\n",
      "         [-0.8962,  0.7710,  0.1406, -1.7377],\n",
      "         [-0.9162,  0.7712,  0.1462, -1.7237],\n",
      "         [-0.8657,  0.7706,  0.1316, -1.7582],\n",
      "         [-0.8537,  0.7703,  0.1282, -1.7663]]],\n",
      "       grad_fn=<NativeLayerNormBackward0>)\n"
     ]
    }
   ],
   "source": [
    "x = ln_f(x)\n",
    "print(x.shape, x)"
   ]
  },
  {
   "cell_type": "markdown",
   "id": "684f5e19-72c4-41f5-9442-9d6f777730f1",
   "metadata": {},
   "source": [
    "### Output Layers AKA Model Head"
   ]
  },
  {
   "cell_type": "code",
   "execution_count": 91,
   "id": "4919d39b-1465-44e8-8be6-36e535bc8c23",
   "metadata": {},
   "outputs": [
    {
     "name": "stdout",
     "output_type": "stream",
     "text": [
      "torch.Size([2, 8, 36]) tensor([[[-1.7925,  0.5197,  0.5196,  0.5195,  0.5193, -1.7902, -0.6377,\n",
      "           0.5189,  0.5188, -1.7883,  0.5185, -0.6383,  0.5183, -0.6376,\n",
      "           0.5180, -1.7950,  0.5178,  0.5176,  0.5175,  0.5174, -1.7946,\n",
      "          -0.6379,  0.5170,  0.5169,  0.5167,  0.5166,  0.5165,  0.5163,\n",
      "           0.5162,  0.5161, -0.6408,  0.5158, -0.6380,  0.5156,  0.5154,\n",
      "           0.5153],\n",
      "         [ 1.7765, -0.5998, -0.6170, -0.6342, -0.6514,  1.6918,  0.4933,\n",
      "          -0.7031, -0.7203,  1.6235, -0.7548,  0.4072, -0.7892,  0.3733,\n",
      "          -0.8237,  1.5178, -0.8582, -0.8754, -0.8926, -0.9098,  1.4322,\n",
      "           0.2359, -0.9615, -0.9787, -0.9960, -1.0132, -1.0304, -1.0476,\n",
      "          -1.0649, -1.0821,  0.0799, -1.1165,  0.0470, -1.1510, -1.1682,\n",
      "          -1.1854],\n",
      "         [ 1.7745, -0.6024, -0.6196, -0.6368, -0.6540,  1.6912,  0.4908,\n",
      "          -0.7056, -0.7228,  1.6238, -0.7572,  0.4048, -0.7917,  0.3714,\n",
      "          -0.8261,  1.5158, -0.8605, -0.8777, -0.8949, -0.9121,  1.4308,\n",
      "           0.2344, -0.9637, -0.9809, -0.9982, -1.0154, -1.0326, -1.0498,\n",
      "          -1.0670, -1.0842,  0.0778, -1.1186,  0.0463, -1.1530, -1.1702,\n",
      "          -1.1874],\n",
      "         [ 1.7763, -0.6010, -0.6183, -0.6355, -0.6527,  1.6921,  0.4925,\n",
      "          -0.7044, -0.7216,  1.6242, -0.7560,  0.4064, -0.7905,  0.3727,\n",
      "          -0.8249,  1.5175, -0.8594, -0.8766, -0.8938, -0.9110,  1.4322,\n",
      "           0.2354, -0.9627, -0.9799, -0.9971, -1.0144, -1.0316, -1.0488,\n",
      "          -1.0660, -1.0832,  0.0792, -1.1177,  0.0468, -1.1521, -1.1693,\n",
      "          -1.1866],\n",
      "         [ 1.7765, -0.6006, -0.6178, -0.6351, -0.6523,  1.6921,  0.4928,\n",
      "          -0.7040, -0.7212,  1.6240, -0.7556,  0.4067, -0.7901,  0.3729,\n",
      "          -0.8245,  1.5177, -0.8590, -0.8762, -0.8934, -0.9106,  1.4323,\n",
      "           0.2356, -0.9623, -0.9795, -0.9968, -1.0140, -1.0312, -1.0484,\n",
      "          -1.0656, -1.0829,  0.0794, -1.1173,  0.0469, -1.1518, -1.1690,\n",
      "          -1.1862],\n",
      "         [ 1.7765, -0.6000, -0.6173, -0.6345, -0.6517,  1.6919,  0.4932,\n",
      "          -0.7034, -0.7206,  1.6237, -0.7551,  0.4070, -0.7895,  0.3732,\n",
      "          -0.8240,  1.5178, -0.8584, -0.8756, -0.8929, -0.9101,  1.4323,\n",
      "           0.2358, -0.9618, -0.9790, -0.9962, -1.0134, -1.0307, -1.0479,\n",
      "          -1.0651, -1.0823,  0.0798, -1.1168,  0.0470, -1.1512, -1.1685,\n",
      "          -1.1857],\n",
      "         [ 1.7761, -0.6009, -0.6182, -0.6354, -0.6526,  1.6919,  0.4924,\n",
      "          -0.7043, -0.7215,  1.6239, -0.7559,  0.4063, -0.7904,  0.3726,\n",
      "          -0.8248,  1.5173, -0.8592, -0.8765, -0.8937, -0.9109,  1.4320,\n",
      "           0.2354, -0.9626, -0.9798, -0.9970, -1.0142, -1.0314, -1.0487,\n",
      "          -1.0659, -1.0831,  0.0791, -1.1176,  0.0468, -1.1520, -1.1692,\n",
      "          -1.1864],\n",
      "         [ 1.7765, -0.5998, -0.6170, -0.6342, -0.6514,  1.6918,  0.4933,\n",
      "          -0.7031, -0.7203,  1.6235, -0.7548,  0.4072, -0.7893,  0.3733,\n",
      "          -0.8237,  1.5178, -0.8582, -0.8754, -0.8926, -0.9098,  1.4322,\n",
      "           0.2359, -0.9615, -0.9787, -0.9960, -1.0132, -1.0304, -1.0476,\n",
      "          -1.0649, -1.0821,  0.0799, -1.1165,  0.0470, -1.1510, -1.1682,\n",
      "          -1.1854]],\n",
      "\n",
      "        [[ 1.7761, -0.6009, -0.6182, -0.6354, -0.6526,  1.6919,  0.4924,\n",
      "          -0.7043, -0.7215,  1.6239, -0.7559,  0.4063, -0.7904,  0.3726,\n",
      "          -0.8248,  1.5173, -0.8592, -0.8765, -0.8937, -0.9109,  1.4320,\n",
      "           0.2354, -0.9626, -0.9798, -0.9970, -1.0142, -1.0315, -1.0487,\n",
      "          -1.0659, -1.0831,  0.0791, -1.1176,  0.0468, -1.1520, -1.1692,\n",
      "          -1.1864],\n",
      "         [ 1.7763, -0.6011, -0.6183, -0.6355, -0.6527,  1.6921,  0.4925,\n",
      "          -0.7044, -0.7216,  1.6242, -0.7560,  0.4063, -0.7905,  0.3727,\n",
      "          -0.8249,  1.5175, -0.8594, -0.8766, -0.8938, -0.9110,  1.4322,\n",
      "           0.2354, -0.9627, -0.9799, -0.9971, -1.0144, -1.0316, -1.0488,\n",
      "          -1.0660, -1.0833,  0.0791, -1.1177,  0.0468, -1.1521, -1.1694,\n",
      "          -1.1866],\n",
      "         [ 1.7761, -0.6009, -0.6182, -0.6354, -0.6526,  1.6919,  0.4924,\n",
      "          -0.7043, -0.7215,  1.6239, -0.7559,  0.4063, -0.7904,  0.3726,\n",
      "          -0.8248,  1.5173, -0.8593, -0.8765, -0.8937, -0.9109,  1.4320,\n",
      "           0.2354, -0.9626, -0.9798, -0.9970, -1.0142, -1.0315, -1.0487,\n",
      "          -1.0659, -1.0831,  0.0791, -1.1176,  0.0468, -1.1520, -1.1692,\n",
      "          -1.1864],\n",
      "         [ 1.7765, -0.6000, -0.6172, -0.6345, -0.6517,  1.6919,  0.4932,\n",
      "          -0.7034, -0.7206,  1.6236, -0.7550,  0.4070, -0.7895,  0.3732,\n",
      "          -0.8239,  1.5178, -0.8584, -0.8756, -0.8928, -0.9101,  1.4323,\n",
      "           0.2358, -0.9617, -0.9790, -0.9962, -1.0134, -1.0306, -1.0479,\n",
      "          -1.0651, -1.0823,  0.0798, -1.1168,  0.0470, -1.1512, -1.1684,\n",
      "          -1.1857],\n",
      "         [ 1.7765, -0.6006, -0.6178, -0.6351, -0.6523,  1.6921,  0.4928,\n",
      "          -0.7040, -0.7212,  1.6240, -0.7556,  0.4067, -0.7901,  0.3729,\n",
      "          -0.8245,  1.5177, -0.8590, -0.8762, -0.8934, -0.9106,  1.4323,\n",
      "           0.2356, -0.9623, -0.9795, -0.9968, -1.0140, -1.0312, -1.0484,\n",
      "          -1.0656, -1.0829,  0.0794, -1.1173,  0.0469, -1.1518, -1.1690,\n",
      "          -1.1862],\n",
      "         [ 1.7765, -0.5999, -0.6171, -0.6344, -0.6516,  1.6919,  0.4932,\n",
      "          -0.7033, -0.7205,  1.6236, -0.7550,  0.4071, -0.7894,  0.3732,\n",
      "          -0.8239,  1.5178, -0.8583, -0.8755, -0.8928, -0.9100,  1.4323,\n",
      "           0.2358, -0.9617, -0.9789, -0.9961, -1.0133, -1.0306, -1.0478,\n",
      "          -1.0650, -1.0822,  0.0798, -1.1167,  0.0470, -1.1511, -1.1684,\n",
      "          -1.1856],\n",
      "         [ 1.7757, -0.6015, -0.6187, -0.6359, -0.6531,  1.6918,  0.4919,\n",
      "          -0.7048, -0.7220,  1.6240, -0.7564,  0.4058, -0.7909,  0.3723,\n",
      "          -0.8253,  1.5170, -0.8597, -0.8770, -0.8942, -0.9114,  1.4317,\n",
      "           0.2351, -0.9630, -0.9803, -0.9975, -1.0147, -1.0319, -1.0491,\n",
      "          -1.0663, -1.0836,  0.0787, -1.1180,  0.0466, -1.1524, -1.1696,\n",
      "          -1.1869],\n",
      "         [ 1.7754, -0.6018, -0.6190, -0.6362, -0.6534,  1.6917,  0.4916,\n",
      "          -0.7051, -0.7223,  1.6240, -0.7567,  0.4055, -0.7912,  0.3720,\n",
      "          -0.8256,  1.5167, -0.8600, -0.8772, -0.8944, -0.9117,  1.4315,\n",
      "           0.2349, -0.9633, -0.9805, -0.9977, -1.0149, -1.0322, -1.0494,\n",
      "          -1.0666, -1.0838,  0.0784, -1.1182,  0.0465, -1.1527, -1.1699,\n",
      "          -1.1871]]], grad_fn=<UnsafeViewBackward0>)\n"
     ]
    }
   ],
   "source": [
    "logits = lm_head(x)\n",
    "print(logits.shape, logits)"
   ]
  },
  {
   "cell_type": "markdown",
   "id": "35f51eab-53ea-4b58-b5f9-8e9fc98cf444",
   "metadata": {},
   "source": [
    "### Updated Loss calculation"
   ]
  },
  {
   "cell_type": "markdown",
   "id": "da577f44-a315-47d3-be3b-f30b8d7ad9a1",
   "metadata": {},
   "source": [
    "Now we'll calculate the updated loss.  Our first pass's loss was 3.5835. Since we're passing through the same example and used a fairly high learning rate we should see a significant improvement with just 1 learning pass. "
   ]
  },
  {
   "cell_type": "code",
   "execution_count": 92,
   "id": "92956b47-d4d9-4f2d-97ae-fe17ad93ce97",
   "metadata": {},
   "outputs": [
    {
     "data": {
      "text/plain": [
       "tensor(3.5835, grad_fn=<NllLossBackward0>)"
      ]
     },
     "execution_count": 92,
     "metadata": {},
     "output_type": "execute_result"
    }
   ],
   "source": [
    "loss"
   ]
  },
  {
   "cell_type": "code",
   "execution_count": 93,
   "id": "0a64b50c-6eb5-4050-8930-bae485741d70",
   "metadata": {},
   "outputs": [
    {
     "name": "stdout",
     "output_type": "stream",
     "text": [
      "torch.Size([]) tensor(2.8740, grad_fn=<NllLossBackward0>)\n"
     ]
    }
   ],
   "source": [
    "y_flat = y.view(-1)\n",
    "logits_flat = logits.view(-1, logits.size(-1))\n",
    "updated_loss = F.cross_entropy(logits_flat, y_flat)\n",
    "print(updated_loss.shape, updated_loss)"
   ]
  },
  {
   "cell_type": "code",
   "execution_count": 94,
   "id": "2ef0b062-6dd0-4ccd-adb4-3e24bb075980",
   "metadata": {},
   "outputs": [
    {
     "data": {
      "text/plain": [
       "'1 round of training resulted in an loss improvment of 0.7095'"
      ]
     },
     "execution_count": 94,
     "metadata": {},
     "output_type": "execute_result"
    }
   ],
   "source": [
    "f'1 round of training resulted in an loss improvment of {loss.item() - updated_loss.item():.4f}'"
   ]
  },
  {
   "cell_type": "markdown",
   "id": "b4532f32-85a4-4260-bf1f-f2c6f14e31f8",
   "metadata": {},
   "source": [
    "# SUCCESS!\n",
    "Our training improved the loss by about **~26%** (amount may vary since we didn't set a seed). There are flaws with this, mainly passing the same example through a second time, but this helps show the fundamentals of what learning does inside a GPT-2 style model. "
   ]
  },
  {
   "cell_type": "code",
   "execution_count": null,
   "id": "1e4ae9fc-8ed6-4705-b031-a890bf05f0aa",
   "metadata": {},
   "outputs": [],
   "source": []
  }
 ],
 "metadata": {
  "kernelspec": {
   "display_name": "Python 3 (ipykernel)",
   "language": "python",
   "name": "python3"
  },
  "language_info": {
   "codemirror_mode": {
    "name": "ipython",
    "version": 3
   },
   "file_extension": ".py",
   "mimetype": "text/x-python",
   "name": "python",
   "nbconvert_exporter": "python",
   "pygments_lexer": "ipython3",
   "version": "3.13.7"
  }
 },
 "nbformat": 4,
 "nbformat_minor": 5
}
